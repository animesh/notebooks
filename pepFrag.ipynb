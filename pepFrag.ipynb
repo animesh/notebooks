{
 "cells": [
  {
   "cell_type": "code",
   "execution_count": 5,
   "metadata": {
    "ExecuteTime": {
     "end_time": "2019-03-07T11:14:42.581065Z",
     "start_time": "2019-03-07T11:14:42.561018Z"
    }
   },
   "outputs": [
    {
     "data": {
      "text/plain": [
       "Amino Acid          object\n",
       "Short               object\n",
       "Abbrev.             object\n",
       "Formula             object\n",
       "Mon. Mass§ (Da)    float64\n",
       "Avg. Mass (Da)     float64\n",
       "dtype: object"
      ]
     },
     "execution_count": 5,
     "metadata": {},
     "output_type": "execute_result"
    }
   ],
   "source": [
    "import pandas as pd\n",
    "# massaa => https://en.wikipedia.org/w/index.php?title=Proteinogenic_amino_acid&section=2\n",
    "aamm = pd.read_table('massaa')\n",
    "aamm.dtypes"
   ]
  },
  {
   "cell_type": "code",
   "execution_count": 4,
   "metadata": {
    "ExecuteTime": {
     "end_time": "2019-03-07T11:14:37.824250Z",
     "start_time": "2019-03-07T11:14:37.181856Z"
    }
   },
   "outputs": [
    {
     "name": "stdout",
     "output_type": "stream",
     "text": [
      "/mnt/promec-data/notebooks\r\n"
     ]
    }
   ],
   "source": [
    "!pwd"
   ]
  },
  {
   "cell_type": "code",
   "execution_count": 6,
   "metadata": {
    "ExecuteTime": {
     "end_time": "2019-03-07T11:14:50.626986Z",
     "start_time": "2019-03-07T11:14:50.616919Z"
    }
   },
   "outputs": [
    {
     "data": {
      "text/plain": [
       "0      71.03711\n",
       "1     156.10111\n",
       "2     114.04293\n",
       "3     115.02694\n",
       "4     103.00919\n",
       "5     129.04259\n",
       "6     128.05858\n",
       "7      57.02146\n",
       "8     137.05891\n",
       "9     113.08406\n",
       "10    113.08406\n",
       "11    128.09496\n",
       "12    131.04049\n",
       "13    147.06841\n",
       "14     97.05276\n",
       "15    237.14773\n",
       "16    150.95364\n",
       "17     87.03203\n",
       "18    101.04768\n",
       "19    186.07931\n",
       "20    163.06333\n",
       "21     99.06841\n",
       "Name: Mon. Mass§ (Da), dtype: float64"
      ]
     },
     "execution_count": 6,
     "metadata": {},
     "output_type": "execute_result"
    }
   ],
   "source": [
    "aamm['Mon. Mass§ (Da)']"
   ]
  },
  {
   "cell_type": "code",
   "execution_count": 17,
   "metadata": {
    "ExecuteTime": {
     "end_time": "2019-03-13T10:12:53.894335Z",
     "start_time": "2019-03-13T10:12:53.508505Z"
    }
   },
   "outputs": [
    {
     "name": "stdout",
     "output_type": "stream",
     "text": [
      "['F', 'Y', 'D', 'K', 'M', 'Q', 'N', 'A', 'E', 'S', 'G', 'R'] [148.07569, 311.13902, 426.16596, 554.26092, 685.30141, 813.35999, 927.40292, 998.44003, 1127.48262, 1214.51465, 1271.53611, 1427.63722] [1445.64778, 1298.57937, 1135.51604, 1020.4891000000001, 892.39414, 761.3536500000001, 633.29507, 519.25214, 448.21502999999996, 319.17244, 232.14041, 175.11895] [1444.6405]\n"
     ]
    },
    {
     "data": {
      "text/plain": [
       "([<matplotlib.axis.XTick at 0x7f304c7a30b8>,\n",
       "  <matplotlib.axis.XTick at 0x7f304c7a19e8>,\n",
       "  <matplotlib.axis.XTick at 0x7f304c7a1748>,\n",
       "  <matplotlib.axis.XTick at 0x7f304c6fe748>,\n",
       "  <matplotlib.axis.XTick at 0x7f304c6fec50>,\n",
       "  <matplotlib.axis.XTick at 0x7f304c707198>,\n",
       "  <matplotlib.axis.XTick at 0x7f304c7070f0>,\n",
       "  <matplotlib.axis.XTick at 0x7f304c7077b8>,\n",
       "  <matplotlib.axis.XTick at 0x7f304c707cc0>,\n",
       "  <matplotlib.axis.XTick at 0x7f304c710208>,\n",
       "  <matplotlib.axis.XTick at 0x7f304c710710>,\n",
       "  <matplotlib.axis.XTick at 0x7f304c710c18>],\n",
       " <a list of 12 Text xticklabel objects>)"
      ]
     },
     "execution_count": 17,
     "metadata": {},
     "output_type": "execute_result"
    },
    {
     "data": {
      "image/png": "[encoded data removed]",
      "text/plain": [
       "<Figure size 432x288 with 1 Axes>"
      ]
     },
     "metadata": {
      "needs_background": "light"
     },
     "output_type": "display_data"
    }
   ],
   "source": [
    "mmH2O = 18.01056\n",
    "mmProton = 1.00728\n",
    "pep = 'FYDKMQNAESGR'\n",
    "# http://www.ionsource.com/tutorial/DeNovo/b_and_y.htm\n",
    "# pep='MIGQK'\n",
    "tMass = 0.0\n",
    "bIon = 0.0\n",
    "bIon_list = []\n",
    "yIon_list = []\n",
    "pep_list = []\n",
    "for b in range(0, len(pep)):\n",
    "    pep_list.append(pep[b])\n",
    "    tMass = tMass + aamm[aamm['Short'] == pep[b]]['Mon. Mass§ (Da)'].values\n",
    "    bIon = bIon + aamm[aamm['Short'] == pep[b]]['Mon. Mass§ (Da)'].values[0]\n",
    "    bIon_list.append(bIon + mmProton)\n",
    "    yIon = 0.0\n",
    "    for y in range(b, len(pep)):\n",
    "        yIon = yIon + aamm[aamm['Short'] ==\n",
    "                           pep[y]]['Mon. Mass§ (Da)'].values[0]\n",
    "    yIon_list.append(yIon + mmH2O + mmProton)\n",
    "print(pep_list, bIon_list, yIon_list, tMass + mmH2O)\n",
    "import matplotlib.pyplot as plt\n",
    "plt.stem(yIon_list, bIon_list, 'r')\n",
    "plt.stem(bIon_list, bIon_list, 'b')\n",
    "plt.xticks(bIon_list, pep_list)"
   ]
  },
  {
   "cell_type": "code",
   "execution_count": 14,
   "metadata": {
    "ExecuteTime": {
     "end_time": "2019-03-07T11:36:29.051842Z",
     "start_time": "2019-03-07T11:36:29.043829Z"
    }
   },
   "outputs": [],
   "source": [
    "a=[102.055847167969,6401.5810546875\n",
    ",103.054832458496,9917.642578125\n",
    ",110.072082519531,15026.8984375\n",
    ",120.071495056152,10929.8359375\n",
    ",120.081275939941,182064.703125\n",
    ",121.084999084473,7612.1591796875\n",
    ",129.102828979492,55666.9375\n",
    ",136.076141357422,75414.5703125\n",
    ",145.858703613281,4534.66845703125\n",
    ",158.093307495117,6715.48388671875\n",
    ",175.120056152344,11089.0634765625\n",
    ",196.128494262695,5295.76806640625\n",
    ",209.093826293945,5926.2919921875\n",
    ",210.266464233398,4686.41943359375\n",
    ",212.027618408203,4422.75341796875\n",
    ",214.589080810547,43879.70703125\n",
    ",226.118591308594,8822.7578125\n",
    ",244.130996704102,7389.9482421875\n",
    ",247.27165222168,4674.541015625\n",
    ",283.144348144531,27818.353515625\n",
    ",319.172821044922,16296.9326171875\n",
    ",448.21728515625,15920.0400390625\n",
    ",487.258697509766,5932.37353515625\n",
    ",519.250610351563,16296.27734375\n",
    ",587.076110839844,4871.6162109375\n",
    ",616.260925292969,5666.94482421875\n",
    ",633.292846679688,6278.72607421875\n",
    ",761.34765625,7676.69921875\n",
    ",844.3916015625,11141.0537109375\n",
    ",1119.38037109375,5091.85205078125]"
   ]
  },
  {
   "cell_type": "code",
   "execution_count": 4,
   "metadata": {
    "ExecuteTime": {
     "end_time": "2019-03-07T11:14:37.824250Z",
     "start_time": "2019-03-07T11:14:37.181856Z"
    }
   },
   "outputs": [
    {
     "name": "stdout",
     "output_type": "stream",
     "text": [
      "/mnt/promec-data/notebooks\r\n"
     ]
    }
   ],
   "source": [
    "!pwd"
   ]
  },
  {
   "cell_type": "code",
   "execution_count": 10,
   "metadata": {
    "ExecuteTime": {
     "end_time": "2019-03-07T11:34:07.317785Z",
     "start_time": "2019-03-07T11:34:07.311212Z"
    }
   },
   "outputs": [
    {
     "data": {
      "text/plain": [
       "[102.055847167969,\n",
       " 103.054832458496,\n",
       " 110.072082519531,\n",
       " 120.071495056152,\n",
       " 120.081275939941]"
      ]
     },
     "execution_count": 10,
     "metadata": {},
     "output_type": "execute_result"
    }
   ],
   "source": [
    "a[0:10:2]"
   ]
  }
 ],
 "metadata": {
  "kernelspec": {
   "display_name": "Python 3",
   "language": "python",
   "name": "python3"
  },
  "language_info": {
   "codemirror_mode": {
    "name": "ipython",
    "version": 3
   },
   "file_extension": ".py",
   "mimetype": "text/x-python",
   "name": "python",
   "nbconvert_exporter": "python",
   "pygments_lexer": "ipython3",
   "version": "3.6.8"
  },
  "toc": {
   "base_numbering": 1,
   "nav_menu": {},
   "number_sections": true,
   "sideBar": true,
   "skip_h1_title": false,
   "title_cell": "Table of Contents",
   "title_sidebar": "Contents",
   "toc_cell": false,
   "toc_position": {},
   "toc_section_display": true,
   "toc_window_display": false
  }
 },
 "nbformat": 4,
 "nbformat_minor": 2
}
