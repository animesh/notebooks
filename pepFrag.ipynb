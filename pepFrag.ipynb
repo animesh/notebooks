{
 "cells": [
  {
   "cell_type": "code",
   "execution_count": 3,
   "metadata": {
    "ExecuteTime": {
     "end_time": "2019-03-06T16:44:07.099178Z",
     "start_time": "2019-03-06T16:44:07.085461Z"
    }
   },
   "outputs": [
    {
     "data": {
      "text/plain": [
       "Amino Acid          object\n",
       "Short               object\n",
       "Abbrev.             object\n",
       "Formula             object\n",
       "Mon. Mass§ (Da)    float64\n",
       "Avg. Mass (Da)     float64\n",
       "dtype: object"
      ]
     },
     "execution_count": 3,
     "metadata": {},
     "output_type": "execute_result"
    }
   ],
   "source": [
    "import pandas as pd\n",
    "# massaa => https://en.wikipedia.org/w/index.php?title=Proteinogenic_amino_acid&section=2\n",
    "aamm = pd.read_table('massaa')\n",
    "aamm.dtypes"
   ]
  },
  {
   "cell_type": "code",
   "execution_count": 4,
   "metadata": {
    "ExecuteTime": {
     "end_time": "2019-03-06T16:44:09.882593Z",
     "start_time": "2019-03-06T16:44:09.804199Z"
    }
   },
   "outputs": [
    {
     "data": {
      "text/plain": [
       "0      71.03711\n",
       "1     156.10111\n",
       "2     114.04293\n",
       "3     115.02694\n",
       "4     103.00919\n",
       "5     129.04259\n",
       "6     128.05858\n",
       "7      57.02146\n",
       "8     137.05891\n",
       "9     113.08406\n",
       "10    113.08406\n",
       "11    128.09496\n",
       "12    131.04049\n",
       "13    147.06841\n",
       "14     97.05276\n",
       "15    237.14773\n",
       "16    150.95364\n",
       "17     87.03203\n",
       "18    101.04768\n",
       "19    186.07931\n",
       "20    163.06333\n",
       "21     99.06841\n",
       "Name: Mon. Mass§ (Da), dtype: float64"
      ]
     },
     "execution_count": 4,
     "metadata": {},
     "output_type": "execute_result"
    }
   ],
   "source": [
    "aamm['Mon. Mass§ (Da)']"
   ]
  },
  {
   "cell_type": "code",
   "execution_count": 6,
   "metadata": {
    "ExecuteTime": {
     "end_time": "2019-03-06T16:44:45.111756Z",
     "start_time": "2019-03-06T16:44:44.383673Z"
    }
   },
   "outputs": [
    {
     "name": "stdout",
     "output_type": "stream",
     "text": [
      "['G', 'L', 'S', 'D', 'G', 'E', 'W', 'Q', 'Q', 'V', 'L', 'N', 'V', 'W', 'G', 'K'] [58.02874, 171.11280000000002, 258.14483, 373.17177, 430.19322999999997, 559.23582, 745.31513, 873.37371, 1001.43229, 1100.5007, 1213.58476, 1327.62769, 1426.6961000000001, 1612.7754100000002, 1669.7968700000001, 1797.8918300000003] [58.02874, 171.11280000000002, 258.14483, 373.17177, 430.19322999999997, 559.23582, 745.31513, 873.37371, 1001.43229, 1100.5007, 1213.58476, 1327.62769, 1426.6961000000001, 1612.7754100000002, 1669.7968700000001, 1797.8918300000003] [1814.89511]\n"
     ]
    },
    {
     "data": {
      "text/plain": [
       "([<matplotlib.axis.XTick at 0x7f7ab6b13b38>,\n",
       "  <matplotlib.axis.XTick at 0x7f7ab6b13470>,\n",
       "  <matplotlib.axis.XTick at 0x7f7ab6b13320>,\n",
       "  <matplotlib.axis.XTick at 0x7f7ab6afba58>,\n",
       "  <matplotlib.axis.XTick at 0x7f7ab6afbf28>,\n",
       "  <matplotlib.axis.XTick at 0x7f7ab6b03438>,\n",
       "  <matplotlib.axis.XTick at 0x7f7ab6b03940>,\n",
       "  <matplotlib.axis.XTick at 0x7f7ab6b03e48>,\n",
       "  <matplotlib.axis.XTick at 0x7f7ab6b0d390>,\n",
       "  <matplotlib.axis.XTick at 0x7f7ab6b034e0>,\n",
       "  <matplotlib.axis.XTick at 0x7f7ab6b0d5c0>,\n",
       "  <matplotlib.axis.XTick at 0x7f7ab6b0dac8>,\n",
       "  <matplotlib.axis.XTick at 0x7f7ab6b0dcf8>,\n",
       "  <matplotlib.axis.XTick at 0x7f7ab6a93518>,\n",
       "  <matplotlib.axis.XTick at 0x7f7ab6a93a20>,\n",
       "  <matplotlib.axis.XTick at 0x7f7ab6a93f28>],\n",
       " <a list of 16 Text xticklabel objects>)"
      ]
     },
     "execution_count": 6,
     "metadata": {},
     "output_type": "execute_result"
    },
    {
     "data": {
      "image/png": "[encoded data removed]",
      "text/plain": [
       "<Figure size 432x288 with 1 Axes>"
      ]
     },
     "metadata": {
      "needs_background": "light"
     },
     "output_type": "display_data"
    }
   ],
   "source": [
    "mmH2O = 18.01056\n",
    "mmProton = 1.00728\n",
    "pep = 'GLSDGEWQQVLNVWGK'\n",
    "# http://www.ionsource.com/tutorial/DeNovo/b_and_y.htm\n",
    "# pep='MIGQK'\n",
    "tMass = 0.0\n",
    "bIon = 0.0\n",
    "bIon_list = []\n",
    "yIon_list = []\n",
    "pep_list = []\n",
    "for b in range(0, len(pep)):\n",
    "    pep_list.append(pep[b])\n",
    "    tMass = tMass + aamm[aamm['Short'] == pep[b]]['Mon. Mass§ (Da)'].values\n",
    "    bIon = bIon + aamm[aamm['Short'] == pep[b]]['Mon. Mass§ (Da)'].values[0]\n",
    "    bIon_list.append(bIon + mmProton)\n",
    "    yIon = 0.0\n",
    "    for y in range(b, len(pep)):\n",
    "        yIon = yIon + aamm[aamm['Short'] ==\n",
    "                           pep[y]]['Mon. Mass§ (Da)'].values[0]\n",
    "    yIon_list.append(yIon + mmH2O + mmProton)\n",
    "print(pep_list, bIon_list, bIon_list, tMass + mmH2O)\n",
    "import matplotlib.pyplot as plt\n",
    "plt.stem(yIon_list, bIon_list, 'r')\n",
    "plt.stem(bIon_list, bIon_list, 'b')\n",
    "plt.xticks(bIon_list, pep_list)"
   ]
  }
 ],
 "metadata": {
  "kernelspec": {
   "display_name": "Python 3",
   "language": "python",
   "name": "python3"
  },
  "language_info": {
   "codemirror_mode": {
    "name": "ipython",
    "version": 3
   },
   "file_extension": ".py",
   "mimetype": "text/x-python",
   "name": "python",
   "nbconvert_exporter": "python",
   "pygments_lexer": "ipython3",
   "version": "3.6.7"
  },
  "toc": {
   "base_numbering": 1,
   "nav_menu": {},
   "number_sections": true,
   "sideBar": true,
   "skip_h1_title": false,
   "title_cell": "Table of Contents",
   "title_sidebar": "Contents",
   "toc_cell": false,
   "toc_position": {},
   "toc_section_display": true,
   "toc_window_display": false
  }
 },
 "nbformat": 4,
 "nbformat_minor": 2
}
