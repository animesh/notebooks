{
 "cells": [
  {
   "cell_type": "markdown",
   "id": "42a89e5f",
   "metadata": {},
   "source": [
    "[ProteinGroups.txt](https://www.ebi.ac.uk/pride/archive/projects/PXD037288) from Proteomics profiling in primary tumors of metastatic and non-metastatic breast cancers results"
   ]
  },
  {
   "cell_type": "code",
   "execution_count": null,
   "id": "c50247b0",
   "metadata": {},
   "outputs": [],
   "source": [
    "!wget https://ftp.pride.ebi.ac.uk/pride/data/archive/2023/03/PXD037288/txt.zip\n",
    "!unzip txt.zip|"
   ]
  },
  {
   "cell_type": "code",
   "execution_count": 1,
   "id": "dc9b643a",
   "metadata": {
    "ExecuteTime": {
     "end_time": "2023-12-19T22:16:48.456353Z",
     "start_time": "2023-12-19T22:16:48.344533Z"
    }
   },
   "outputs": [],
   "source": [
    "#!pip install ipywidgets plotly\n",
    "from ipywidgets import interact\n",
    "import pandas as pd\n",
    "pd.options.plotting.backend = 'plotly'"
   ]
  },
  {
   "cell_type": "code",
   "execution_count": 2,
   "id": "d2640493",
   "metadata": {
    "ExecuteTime": {
     "end_time": "2023-12-19T22:16:51.750978Z",
     "start_time": "2023-12-19T22:16:51.663144Z"
    }
   },
   "outputs": [
    {
     "name": "stderr",
     "output_type": "stream",
     "text": [
      "C:\\Users\\animeshs\\AppData\\Local\\Temp\\ipykernel_36888\\3945777926.py:1: DtypeWarning: Columns (161,162,171,173) have mixed types. Specify dtype option on import or set low_memory=False.\n",
      "  df = pd.read_csv(\"L:/promec/TIMSTOF/LARS/2023/231123_dia_dda/DDA/combined/txt/proteinGroups.txt\", sep=\"\\t\")\n"
     ]
    },
    {
     "data": {
      "text/html": [
       "<div>\n",
       "<style scoped>\n",
       "    .dataframe tbody tr th:only-of-type {\n",
       "        vertical-align: middle;\n",
       "    }\n",
       "\n",
       "    .dataframe tbody tr th {\n",
       "        vertical-align: top;\n",
       "    }\n",
       "\n",
       "    .dataframe thead th {\n",
       "        text-align: right;\n",
       "    }\n",
       "</style>\n",
       "<table border=\"1\" class=\"dataframe\">\n",
       "  <thead>\n",
       "    <tr style=\"text-align: right;\">\n",
       "      <th></th>\n",
       "      <th>Protein IDs</th>\n",
       "      <th>Majority protein IDs</th>\n",
       "      <th>Peptide counts (all)</th>\n",
       "      <th>Peptide counts (razor+unique)</th>\n",
       "      <th>Peptide counts (unique)</th>\n",
       "      <th>Protein names</th>\n",
       "      <th>Gene names</th>\n",
       "      <th>Fasta headers</th>\n",
       "      <th>Number of proteins</th>\n",
       "      <th>Peptides</th>\n",
       "      <th>...</th>\n",
       "      <th>Mod. peptide IDs</th>\n",
       "      <th>Evidence IDs</th>\n",
       "      <th>MS/MS IDs</th>\n",
       "      <th>Best MS/MS</th>\n",
       "      <th>Deamidation (NQ) site IDs</th>\n",
       "      <th>Oxidation (M) site IDs</th>\n",
       "      <th>Deamidation (NQ) site positions</th>\n",
       "      <th>Oxidation (M) site positions</th>\n",
       "      <th>Taxonomy IDs</th>\n",
       "      <th>Taxonomy names</th>\n",
       "    </tr>\n",
       "  </thead>\n",
       "  <tbody>\n",
       "    <tr>\n",
       "      <th>0</th>\n",
       "      <td>P06493;A0A024QZP7;P06493-2;E5RIU6;G3V317</td>\n",
       "      <td>P06493;A0A024QZP7;P06493-2;E5RIU6</td>\n",
       "      <td>11;11;9;7;1</td>\n",
       "      <td>11;11;9;7;1</td>\n",
       "      <td>10;10;8;6;0</td>\n",
       "      <td>Cyclin-dependent kinase 1</td>\n",
       "      <td>CDK1;CDC2</td>\n",
       "      <td>sp|P06493|CDK1_HUMAN Cyclin-dependent kinase 1...</td>\n",
       "      <td>5</td>\n",
       "      <td>11</td>\n",
       "      <td>...</td>\n",
       "      <td>4808;13037;13989;15884;16912;21842;23145;23339...</td>\n",
       "      <td>11985;31593;33921;33922;33923;33924;33925;3392...</td>\n",
       "      <td>11985;31593;33921;33922;33923;33924;33925;3392...</td>\n",
       "      <td>11985;31593;33921;38792;41250;53198;56303;5673...</td>\n",
       "      <td>NaN</td>\n",
       "      <td>NaN</td>\n",
       "      <td>NaN</td>\n",
       "      <td>NaN</td>\n",
       "      <td>9606;9606;9606;9606;9606</td>\n",
       "      <td>Homo sapiens;Homo sapiens;Homo sapiens;Homo sa...</td>\n",
       "    </tr>\n",
       "    <tr>\n",
       "      <th>1</th>\n",
       "      <td>Q00341;A0A024R4E5;Q00341-2;H0Y394;H7C0A4;H7C2D...</td>\n",
       "      <td>Q00341;A0A024R4E5;Q00341-2;H0Y394</td>\n",
       "      <td>26;26;25;18;10;5;5;5;4;4;3;3;3;2;2;1;1;1;1;1</td>\n",
       "      <td>26;26;25;18;10;5;5;5;4;4;3;3;3;2;2;1;1;1;1;1</td>\n",
       "      <td>26;26;25;18;10;5;5;5;4;4;3;3;3;2;2;1;1;1;1;1</td>\n",
       "      <td>Vigilin</td>\n",
       "      <td>HDLBP</td>\n",
       "      <td>sp|Q00341|VIGLN_HUMAN Vigilin OS=Homo sapiens ...</td>\n",
       "      <td>20</td>\n",
       "      <td>26</td>\n",
       "      <td>...</td>\n",
       "      <td>1989;2589;3893;3939;4672;6068;7090;7348;7549;9...</td>\n",
       "      <td>4780;4781;4782;4783;6371;9512;9648;11645;11646...</td>\n",
       "      <td>4780;4781;4782;4783;6371;9512;9648;11645;11646...</td>\n",
       "      <td>4780;6371;9512;9648;11646;15075;17503;18050;18...</td>\n",
       "      <td>NaN</td>\n",
       "      <td>NaN</td>\n",
       "      <td>NaN</td>\n",
       "      <td>NaN</td>\n",
       "      <td>9606;9606;9606;9606;9606;9606;9606;9606;9606;9...</td>\n",
       "      <td>Homo sapiens;Homo sapiens;Homo sapiens;Homo sa...</td>\n",
       "    </tr>\n",
       "  </tbody>\n",
       "</table>\n",
       "<p>2 rows × 176 columns</p>\n",
       "</div>"
      ],
      "text/plain": [
       "                                         Protein IDs  \\\n",
       "0           P06493;A0A024QZP7;P06493-2;E5RIU6;G3V317   \n",
       "1  Q00341;A0A024R4E5;Q00341-2;H0Y394;H7C0A4;H7C2D...   \n",
       "\n",
       "                Majority protein IDs  \\\n",
       "0  P06493;A0A024QZP7;P06493-2;E5RIU6   \n",
       "1  Q00341;A0A024R4E5;Q00341-2;H0Y394   \n",
       "\n",
       "                           Peptide counts (all)  \\\n",
       "0                                   11;11;9;7;1   \n",
       "1  26;26;25;18;10;5;5;5;4;4;3;3;3;2;2;1;1;1;1;1   \n",
       "\n",
       "                  Peptide counts (razor+unique)  \\\n",
       "0                                   11;11;9;7;1   \n",
       "1  26;26;25;18;10;5;5;5;4;4;3;3;3;2;2;1;1;1;1;1   \n",
       "\n",
       "                        Peptide counts (unique)              Protein names  \\\n",
       "0                                   10;10;8;6;0  Cyclin-dependent kinase 1   \n",
       "1  26;26;25;18;10;5;5;5;4;4;3;3;3;2;2;1;1;1;1;1                    Vigilin   \n",
       "\n",
       "  Gene names                                      Fasta headers  \\\n",
       "0  CDK1;CDC2  sp|P06493|CDK1_HUMAN Cyclin-dependent kinase 1...   \n",
       "1      HDLBP  sp|Q00341|VIGLN_HUMAN Vigilin OS=Homo sapiens ...   \n",
       "\n",
       "   Number of proteins  Peptides  ...  \\\n",
       "0                   5        11  ...   \n",
       "1                  20        26  ...   \n",
       "\n",
       "                                    Mod. peptide IDs  \\\n",
       "0  4808;13037;13989;15884;16912;21842;23145;23339...   \n",
       "1  1989;2589;3893;3939;4672;6068;7090;7348;7549;9...   \n",
       "\n",
       "                                        Evidence IDs  \\\n",
       "0  11985;31593;33921;33922;33923;33924;33925;3392...   \n",
       "1  4780;4781;4782;4783;6371;9512;9648;11645;11646...   \n",
       "\n",
       "                                           MS/MS IDs  \\\n",
       "0  11985;31593;33921;33922;33923;33924;33925;3392...   \n",
       "1  4780;4781;4782;4783;6371;9512;9648;11645;11646...   \n",
       "\n",
       "                                          Best MS/MS  \\\n",
       "0  11985;31593;33921;38792;41250;53198;56303;5673...   \n",
       "1  4780;6371;9512;9648;11646;15075;17503;18050;18...   \n",
       "\n",
       "   Deamidation (NQ) site IDs  Oxidation (M) site IDs  \\\n",
       "0                        NaN                     NaN   \n",
       "1                        NaN                     NaN   \n",
       "\n",
       "   Deamidation (NQ) site positions  Oxidation (M) site positions  \\\n",
       "0                              NaN                           NaN   \n",
       "1                              NaN                           NaN   \n",
       "\n",
       "                                        Taxonomy IDs  \\\n",
       "0                           9606;9606;9606;9606;9606   \n",
       "1  9606;9606;9606;9606;9606;9606;9606;9606;9606;9...   \n",
       "\n",
       "                                      Taxonomy names  \n",
       "0  Homo sapiens;Homo sapiens;Homo sapiens;Homo sa...  \n",
       "1  Homo sapiens;Homo sapiens;Homo sapiens;Homo sa...  \n",
       "\n",
       "[2 rows x 176 columns]"
      ]
     },
     "execution_count": 2,
     "metadata": {},
     "output_type": "execute_result"
    }
   ],
   "source": [
    "df = pd.read_csv(\"L:/promec/TIMSTOF/LARS/2023/231123_dia_dda/DDA/combined/txt/proteinGroups.txt\", sep=\"\\t\")\n",
    "df.head(2)"
   ]
  },
  {
   "cell_type": "code",
   "execution_count": 3,
   "id": "3b4b3a2a",
   "metadata": {
    "ExecuteTime": {
     "end_time": "2023-12-19T22:16:53.788376Z",
     "start_time": "2023-12-19T22:16:53.710178Z"
    }
   },
   "outputs": [
    {
     "data": {
      "application/vnd.jupyter.widget-view+json": {
       "model_id": "dbf8087902b0474fbd24758f0cd2c5ec",
       "version_major": 2,
       "version_minor": 0
      },
      "text/plain": [
       "interactive(children=(Dropdown(description='ID', options=('P06493;A0A024QZP7;P06493-2;E5RIU6;G3V317', 'Q00341;…"
      ]
     },
     "metadata": {},
     "output_type": "display_data"
    }
   ],
   "source": [
    "@interact\n",
    "def protein(ID = list(df[\"Protein IDs\"].unique())): return df[df[\"Protein IDs\"] == ID].head()"
   ]
  },
  {
   "cell_type": "code",
   "execution_count": 4,
   "id": "4718a8bc",
   "metadata": {
    "ExecuteTime": {
     "end_time": "2023-12-19T22:16:54.219611Z",
     "start_time": "2023-12-19T22:16:54.178180Z"
    }
   },
   "outputs": [
    {
     "data": {
      "application/vnd.jupyter.widget-view+json": {
       "model_id": "8c575ba68c9249c9b436272f892437ce",
       "version_major": 2,
       "version_minor": 0
      },
      "text/plain": [
       "interactive(children=(IntSlider(value=161, description='score', max=323), Output()), _dom_classes=('widget-int…"
      ]
     },
     "metadata": {},
     "output_type": "display_data"
    }
   ],
   "source": [
    "@interact\n",
    "def score(score = (0, 323, 1)):\n",
    "    new_df = df[df.Score>score]\n",
    "    display(new_df.head())"
   ]
  },
  {
   "cell_type": "code",
   "execution_count": 5,
   "id": "f6fa41ec",
   "metadata": {
    "ExecuteTime": {
     "end_time": "2023-12-19T22:16:56.136960Z",
     "start_time": "2023-12-19T22:16:55.615769Z"
    }
   },
   "outputs": [
    {
     "ename": "AttributeError",
     "evalue": "'DataFrame' object has no attribute 'City'",
     "output_type": "error",
     "traceback": [
      "\u001b[1;31m---------------------------------------------------------------------------\u001b[0m",
      "\u001b[1;31mAttributeError\u001b[0m                            Traceback (most recent call last)",
      "\u001b[1;32m~\\AppData\\Local\\Temp\\ipykernel_30652\\3818927476.py\u001b[0m in \u001b[0;36m?\u001b[1;34m()\u001b[0m\n\u001b[0;32m      1\u001b[0m \u001b[1;33m@\u001b[0m\u001b[0minteract\u001b[0m\u001b[1;33m\u001b[0m\u001b[1;33m\u001b[0m\u001b[0m\n\u001b[1;32m----> 2\u001b[1;33m \u001b[1;32mdef\u001b[0m \u001b[0mplot_city\u001b[0m\u001b[1;33m(\u001b[0m\u001b[0mcity\u001b[0m \u001b[1;33m=\u001b[0m \u001b[0mlist\u001b[0m\u001b[1;33m(\u001b[0m\u001b[0mdf\u001b[0m\u001b[1;33m.\u001b[0m\u001b[0mCity\u001b[0m\u001b[1;33m.\u001b[0m\u001b[0munique\u001b[0m\u001b[1;33m(\u001b[0m\u001b[1;33m)\u001b[0m\u001b[1;33m)\u001b[0m\u001b[1;33m)\u001b[0m\u001b[1;33m:\u001b[0m\u001b[1;33m\u001b[0m\u001b[1;33m\u001b[0m\u001b[0m\n\u001b[0m\u001b[0;32m      3\u001b[0m \u001b[1;33m\u001b[0m\u001b[0m\n\u001b[0;32m      4\u001b[0m     \u001b[0mfiltered_df\u001b[0m \u001b[1;33m=\u001b[0m \u001b[0mdf\u001b[0m\u001b[1;33m[\u001b[0m\u001b[0mdf\u001b[0m\u001b[1;33m.\u001b[0m\u001b[0mCity\u001b[0m \u001b[1;33m==\u001b[0m \u001b[0mcity\u001b[0m\u001b[1;33m]\u001b[0m\u001b[1;33m\u001b[0m\u001b[1;33m\u001b[0m\u001b[0m\n\u001b[0;32m      5\u001b[0m \u001b[1;33m\u001b[0m\u001b[0m\n",
      "\u001b[1;32mf:\\OneDrive - NTNU\\Python3p12\\Lib\\site-packages\\pandas\\core\\generic.py\u001b[0m in \u001b[0;36m?\u001b[1;34m(self, name)\u001b[0m\n\u001b[0;32m   6200\u001b[0m             \u001b[1;32mand\u001b[0m \u001b[0mname\u001b[0m \u001b[1;32mnot\u001b[0m \u001b[1;32min\u001b[0m \u001b[0mself\u001b[0m\u001b[1;33m.\u001b[0m\u001b[0m_accessors\u001b[0m\u001b[1;33m\u001b[0m\u001b[1;33m\u001b[0m\u001b[0m\n\u001b[0;32m   6201\u001b[0m             \u001b[1;32mand\u001b[0m \u001b[0mself\u001b[0m\u001b[1;33m.\u001b[0m\u001b[0m_info_axis\u001b[0m\u001b[1;33m.\u001b[0m\u001b[0m_can_hold_identifiers_and_holds_name\u001b[0m\u001b[1;33m(\u001b[0m\u001b[0mname\u001b[0m\u001b[1;33m)\u001b[0m\u001b[1;33m\u001b[0m\u001b[1;33m\u001b[0m\u001b[0m\n\u001b[0;32m   6202\u001b[0m         \u001b[1;33m)\u001b[0m\u001b[1;33m:\u001b[0m\u001b[1;33m\u001b[0m\u001b[1;33m\u001b[0m\u001b[0m\n\u001b[0;32m   6203\u001b[0m             \u001b[1;32mreturn\u001b[0m \u001b[0mself\u001b[0m\u001b[1;33m[\u001b[0m\u001b[0mname\u001b[0m\u001b[1;33m]\u001b[0m\u001b[1;33m\u001b[0m\u001b[1;33m\u001b[0m\u001b[0m\n\u001b[1;32m-> 6204\u001b[1;33m         \u001b[1;32mreturn\u001b[0m \u001b[0mobject\u001b[0m\u001b[1;33m.\u001b[0m\u001b[0m__getattribute__\u001b[0m\u001b[1;33m(\u001b[0m\u001b[0mself\u001b[0m\u001b[1;33m,\u001b[0m \u001b[0mname\u001b[0m\u001b[1;33m)\u001b[0m\u001b[1;33m\u001b[0m\u001b[1;33m\u001b[0m\u001b[0m\n\u001b[0m",
      "\u001b[1;31mAttributeError\u001b[0m: 'DataFrame' object has no attribute 'City'"
     ]
    }
   ],
   "source": [
    "select = \"Protein IDs\"]\n",
    "@interact\n",
    "def score_intensity(ID = list(df[select].unique())):\n",
    "    filtered_df = df[df[select] == ID]\n",
    "    ## create the plot on filtered data\n",
    "    fig = filtered_df.plot(kind = \"scatter\", \n",
    "                           x = \"Score\", \n",
    "                           y = \"Intensity\", \n",
    "                           color = \"coverage\",\n",
    "                           size = \"peptides\")\n",
    "    fig.show()"
   ]
  },
  {
   "cell_type": "code",
   "execution_count": null,
   "id": "b8bacfe2",
   "metadata": {},
   "outputs": [],
   "source": []
  }
 ],
 "metadata": {
  "kernelspec": {
   "display_name": "Python 3 (ipykernel)",
   "language": "python",
   "name": "python3"
  },
  "language_info": {
   "codemirror_mode": {
    "name": "ipython",
    "version": 3
   },
   "file_extension": ".py",
   "mimetype": "text/x-python",
   "name": "python",
   "nbconvert_exporter": "python",
   "pygments_lexer": "ipython3",
   "version": "3.12.0"
  },
  "toc": {
   "base_numbering": 1,
   "nav_menu": {},
   "number_sections": true,
   "sideBar": true,
   "skip_h1_title": false,
   "title_cell": "Table of Contents",
   "title_sidebar": "Contents",
   "toc_cell": false,
   "toc_position": {},
   "toc_section_display": true,
   "toc_window_display": false
  }
 },
 "nbformat": 4,
 "nbformat_minor": 5
}
