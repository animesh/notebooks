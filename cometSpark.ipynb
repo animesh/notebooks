{
 "cells": [
  {
   "cell_type": "code",
   "execution_count": 6,
   "metadata": {
    "collapsed": true
   },
   "outputs": [],
   "source": [
    "import pyspark\n",
    "from os import listdir\n",
    "from os.path import isfile, join, splitext"
   ]
  },
  {
   "cell_type": "code",
   "execution_count": 7,
   "metadata": {
    "collapsed": false
   },
   "outputs": [
    {
     "ename": "ValueError",
     "evalue": "Cannot run multiple SparkContexts at once; existing SparkContext(app=ProCo, master=spark://10.3.0.128:7077) created by __init__ at <ipython-input-2-6beecfc8ea72>:4 ",
     "output_type": "error",
     "traceback": [
      "\u001b[0;31m---------------------------------------------------------------------------\u001b[0m",
      "\u001b[0;31mValueError\u001b[0m                                Traceback (most recent call last)",
      "\u001b[0;32m<ipython-input-7-6beecfc8ea72>\u001b[0m in \u001b[0;36m<module>\u001b[0;34m()\u001b[0m\n\u001b[1;32m      2\u001b[0m \u001b[0mconf\u001b[0m\u001b[0;34m.\u001b[0m\u001b[0msetAppName\u001b[0m\u001b[0;34m(\u001b[0m\u001b[0;34m\"ProCo\"\u001b[0m\u001b[0;34m)\u001b[0m\u001b[0;34m\u001b[0m\u001b[0m\n\u001b[1;32m      3\u001b[0m \u001b[0mconf\u001b[0m\u001b[0;34m.\u001b[0m\u001b[0mset\u001b[0m\u001b[0;34m(\u001b[0m\u001b[0;34m\"spark.executor.memory\"\u001b[0m\u001b[0;34m,\u001b[0m \u001b[0;34m\"4g\"\u001b[0m\u001b[0;34m)\u001b[0m\u001b[0;34m.\u001b[0m\u001b[0mset\u001b[0m\u001b[0;34m(\u001b[0m\u001b[0;34m\"spark.executor.cores\"\u001b[0m\u001b[0;34m,\u001b[0m \u001b[0;34m\"3\"\u001b[0m\u001b[0;34m)\u001b[0m\u001b[0;34m.\u001b[0m\u001b[0mset\u001b[0m\u001b[0;34m(\u001b[0m\u001b[0;34m\"spark.task.cpus\"\u001b[0m\u001b[0;34m,\u001b[0m \u001b[0;34m\"3\"\u001b[0m\u001b[0;34m)\u001b[0m\u001b[0;34m.\u001b[0m\u001b[0mset\u001b[0m\u001b[0;34m(\u001b[0m\u001b[0;34m\"spark.cores.max\"\u001b[0m\u001b[0;34m,\u001b[0m \u001b[0;34m\"12\"\u001b[0m\u001b[0;34m)\u001b[0m\u001b[0;34m\u001b[0m\u001b[0m\n\u001b[0;32m----> 4\u001b[0;31m \u001b[0msc\u001b[0m \u001b[0;34m=\u001b[0m \u001b[0mpyspark\u001b[0m\u001b[0;34m.\u001b[0m\u001b[0mSparkContext\u001b[0m\u001b[0;34m(\u001b[0m\u001b[0mconf\u001b[0m\u001b[0;34m=\u001b[0m\u001b[0mconf\u001b[0m\u001b[0;34m)\u001b[0m\u001b[0;34m\u001b[0m\u001b[0m\n\u001b[0m",
      "\u001b[0;32m/usr/local/spark/python/pyspark/context.py\u001b[0m in \u001b[0;36m__init__\u001b[0;34m(self, master, appName, sparkHome, pyFiles, environment, batchSize, serializer, conf, gateway, jsc, profiler_cls)\u001b[0m\n\u001b[1;32m    113\u001b[0m         \"\"\"\n\u001b[1;32m    114\u001b[0m         \u001b[0mself\u001b[0m\u001b[0;34m.\u001b[0m\u001b[0m_callsite\u001b[0m \u001b[0;34m=\u001b[0m \u001b[0mfirst_spark_call\u001b[0m\u001b[0;34m(\u001b[0m\u001b[0;34m)\u001b[0m \u001b[0;32mor\u001b[0m \u001b[0mCallSite\u001b[0m\u001b[0;34m(\u001b[0m\u001b[0;32mNone\u001b[0m\u001b[0;34m,\u001b[0m \u001b[0;32mNone\u001b[0m\u001b[0;34m,\u001b[0m \u001b[0;32mNone\u001b[0m\u001b[0;34m)\u001b[0m\u001b[0;34m\u001b[0m\u001b[0m\n\u001b[0;32m--> 115\u001b[0;31m         \u001b[0mSparkContext\u001b[0m\u001b[0;34m.\u001b[0m\u001b[0m_ensure_initialized\u001b[0m\u001b[0;34m(\u001b[0m\u001b[0mself\u001b[0m\u001b[0;34m,\u001b[0m \u001b[0mgateway\u001b[0m\u001b[0;34m=\u001b[0m\u001b[0mgateway\u001b[0m\u001b[0;34m,\u001b[0m \u001b[0mconf\u001b[0m\u001b[0;34m=\u001b[0m\u001b[0mconf\u001b[0m\u001b[0;34m)\u001b[0m\u001b[0;34m\u001b[0m\u001b[0m\n\u001b[0m\u001b[1;32m    116\u001b[0m         \u001b[0;32mtry\u001b[0m\u001b[0;34m:\u001b[0m\u001b[0;34m\u001b[0m\u001b[0m\n\u001b[1;32m    117\u001b[0m             self._do_init(master, appName, sparkHome, pyFiles, environment, batchSize, serializer,\n",
      "\u001b[0;32m/usr/local/spark/python/pyspark/context.py\u001b[0m in \u001b[0;36m_ensure_initialized\u001b[0;34m(cls, instance, gateway, conf)\u001b[0m\n\u001b[1;32m    270\u001b[0m                         \u001b[0;34m\" created by %s at %s:%s \"\u001b[0m\u001b[0;34m\u001b[0m\u001b[0m\n\u001b[1;32m    271\u001b[0m                         % (currentAppName, currentMaster,\n\u001b[0;32m--> 272\u001b[0;31m                             callsite.function, callsite.file, callsite.linenum))\n\u001b[0m\u001b[1;32m    273\u001b[0m                 \u001b[0;32melse\u001b[0m\u001b[0;34m:\u001b[0m\u001b[0;34m\u001b[0m\u001b[0m\n\u001b[1;32m    274\u001b[0m                     \u001b[0mSparkContext\u001b[0m\u001b[0;34m.\u001b[0m\u001b[0m_active_spark_context\u001b[0m \u001b[0;34m=\u001b[0m \u001b[0minstance\u001b[0m\u001b[0;34m\u001b[0m\u001b[0m\n",
      "\u001b[0;31mValueError\u001b[0m: Cannot run multiple SparkContexts at once; existing SparkContext(app=ProCo, master=spark://10.3.0.128:7077) created by __init__ at <ipython-input-2-6beecfc8ea72>:4 "
     ]
    }
   ],
   "source": [
    "conf = pyspark.SparkConf()\n",
    "conf.setAppName(\"ProCo\")\n",
    "conf.set(\"spark.executor.memory\", \"4g\").set(\"spark.executor.cores\", \"3\").set(\"spark.task.cpus\", \"3\").set(\"spark.cores.max\", \"12\")\n",
    "sc = pyspark.SparkContext(conf=conf)"
   ]
  },
  {
   "cell_type": "code",
   "execution_count": 3,
   "metadata": {
    "collapsed": true
   },
   "outputs": [],
   "source": [
    "dataDir = \"/data/promec/new/cloud\"\n",
    "cometParams = \"comet.params\"\n",
    "cometRun = \"/data/promec/comet/comet-run.sh\"\n",
    "cometBinary = \"/data/promec/comet/comet\"\n",
    "dbName = \"uniprot-all_concatenated_target_decoy.fasta\""
   ]
  },
  {
   "cell_type": "code",
   "execution_count": 4,
   "metadata": {
    "collapsed": false
   },
   "outputs": [
    {
     "name": "stdout",
     "output_type": "stream",
     "text": [
      "['140826_BSA_01_140826141818.mzML']\n"
     ]
    },
    {
     "data": {
      "text/plain": [
       "1"
      ]
     },
     "execution_count": 4,
     "metadata": {},
     "output_type": "execute_result"
    }
   ],
   "source": [
    "#allFiles = [f for f in listdir(dataDir) if isfile(join(dataDir, f))]\n",
    "#processFiles=[allFiles[1210]]\n",
    "#processFiles=['121122_bsatest.mzML']\n",
    "processFiles=['140826_BSA_01_140826141818.mzML']\n",
    "#processFiles.append(allFiles[1])\n",
    "#processFiles.append(allFiles[2])\n",
    "\n",
    "print(processFiles)\n",
    "len(processFiles)"
   ]
  },
  {
   "cell_type": "code",
   "execution_count": null,
   "metadata": {
    "collapsed": false
   },
   "outputs": [],
   "source": [
    "cometRunRDD = sc.parallelize(processFiles, numSlices=len(processFiles))\n",
    "cometRunRDD\n",
    "resultRDD = cometRunRDD.pipe(cometRun, env={\"COMETBIN\": cometBinary, \"COMETPARAMS\": cometParams, \"DATADIR\": dataDir, \"DBNAME\": dbName }, checkCode=True)\n",
    "resultRDD.collect()"
   ]
  },
  {
   "cell_type": "code",
   "execution_count": 41,
   "metadata": {
    "collapsed": false
   },
   "outputs": [
    {
     "name": "stdout",
     "output_type": "stream",
     "text": [
      "/data/promec/new/mzML\n"
     ]
    }
   ],
   "source": [
    "%%sh\n",
    "cd /data/promec/new/mzML/\n",
    "pwd\n",
    "#cp uniprot*decoy*fasta ../cloud/.\n",
    "cp comet*.param* ../cloud/.\n"
   ]
  },
  {
   "cell_type": "code",
   "execution_count": 4,
   "metadata": {
    "collapsed": false
   },
   "outputs": [],
   "source": [
    "allFiles = [f for f in listdir(dataDir) if isfile(join(dataDir, f))]\n",
    "\n",
    "processedFiles = []\n",
    "for f in allFiles:\n",
    "    fnameExt = splitext(f)\n",
    "    if fnameExt[1] == \".xml\":\n",
    "        processedFiles.append(splitext(fnameExt[0])[0])\n",
    "\n",
    "processFiles = []\n",
    "if len(processedFiles) > 0:\n",
    "    for idx, f in enumerate(allFiles):\n",
    "        found = False\n",
    "        for pf in processedFiles:\n",
    "            if pf+\".mzML\" == f:\n",
    "                found = True\n",
    "        if not found and splitext(f)[1] == \".mzML\":\n",
    "            processFiles.append(f)\n",
    "else:\n",
    "    for f in allFiles:\n",
    "        fnameExt = splitext(f)\n",
    "        if fnameExt[1] == \".mzML\":\n",
    "                processFiles.append(f)\n"
   ]
  },
  {
   "cell_type": "code",
   "execution_count": 5,
   "metadata": {
    "collapsed": false
   },
   "outputs": [
    {
     "data": {
      "text/plain": [
       "['131030_bsa1_131112122022.mzML',\n",
       " '141210_Oluf_921_metabol_tech1.mzML',\n",
       " '140916_bsa1.mzML',\n",
       " '130604_Linda_serie3_T7.mzML',\n",
       " '130603_Berit_10_AID_YFP.mzML',\n",
       " '141205_Renana_F_2.mzML',\n",
       " '130603_Berit_1_TFP.mzML',\n",
       " '141205_Rami_pellet_2_+_tech2.mzML',\n",
       " '140114_bsatest_140116085600.mzML',\n",
       " '141205_Rami_pellet_1_+_tech1.mzML',\n",
       " '131104_Berit_B005_MS4_T3.mzML',\n",
       " '130604_Linda_serie3_T2.mzML',\n",
       " '141210_Oluf_938_metabol_tech1.mzML',\n",
       " '141210_Oluf_947_metabol_tech1.mzML',\n",
       " '130604_Linda_serie3_K7.mzML',\n",
       " '1403018_bsa_140322011352.mzML',\n",
       " '1403018_bsa.mzML',\n",
       " '140616_BSA_01.mzML',\n",
       " '140520_bsa_1.mzML',\n",
       " '130405_LINDA_gel2.mzML',\n",
       " '130521_Berit_11_AID_YFP.mzML',\n",
       " '140211_BSA_test_140213010411.mzML',\n",
       " '130604_Linda_serie3_T7_130617152624.mzML',\n",
       " '140211_BSA_test.mzML',\n",
       " '141205_Renana_H_2.mzML',\n",
       " '140122_bsa.mzML',\n",
       " '130604_Linda_serie3_T13.mzML',\n",
       " '141210_Oluf_524_metabol_tech2.mzML',\n",
       " '130712_Tobias_-CoA_7.mzML',\n",
       " '140626_BSA_02.mzML',\n",
       " '130712_Tobias_-AcUNG_4.mzML',\n",
       " '140218_BSA1.mzML',\n",
       " '140626_BSA_01.mzML',\n",
       " '141205_Renana_E_1.mzML',\n",
       " '130603_Berit_9_AID_YFP.mzML',\n",
       " '141205_Renana_B_1.mzML',\n",
       " '141210_Oluf_503_metabol_tech2.mzML',\n",
       " '141205_Renana_I_1.mzML',\n",
       " '130604_Linda_serie3_K19.mzML',\n",
       " '141210_Oluf_958_metabol_tech1.mzML',\n",
       " '1403018_bsa_140325180356.mzML',\n",
       " '140804_BSA_test.mzML',\n",
       " '141205_Renana_H_1.mzML',\n",
       " '141205_Rami_supernant_1_+_tech1.mzML',\n",
       " '140614_BSA.mzML',\n",
       " '140605_BSA_01.mzML',\n",
       " '140211_BSA_test_140221143404.mzML',\n",
       " '141205_Renana_D_2.mzML',\n",
       " '130620_Berit_6_YFP_Stim_B003_T1.mzML',\n",
       " '141104_BSA_01.mzML',\n",
       " '130613_Berit_1_YFP_Ustim_B002_T1.mzML',\n",
       " '130712_Tobias_-p300_10.mzML',\n",
       " '141210_Oluf_965_metabol_tech1.mzML',\n",
       " '130604_Linda_serie3_K6.mzML',\n",
       " '141210_Oluf_998_metabol_tech1.mzML',\n",
       " '141210_Oluf_524_metabol_tech1.mzML',\n",
       " '141210_Oluf_516_metabol_tech2.mzML',\n",
       " '141512_CSF1_Lars_tech1.mzML',\n",
       " '130604_Linda_serie3_T3.mzML',\n",
       " '140311_bsa2.mzML',\n",
       " '141210_Oluf_979_metabol_tech2.mzML',\n",
       " '130613_Berit_10_AID_YFP_Stim_B002_T1.mzML',\n",
       " '130603_Berit_8_AID_YFP.mzML',\n",
       " '141210_Oluf_512_metabol_tech1.mzML',\n",
       " '141107_bsa_5.mzML',\n",
       " '130604_Linda_serie3_K5.mzML',\n",
       " '141205_Renana_F_1.mzML',\n",
       " '130604_Linda_serie3_K19_130621080122.mzML',\n",
       " '130604_Linda_serie3_T16.mzML',\n",
       " '131030_bsa1_131117020756.mzML',\n",
       " '141210_Oluf_945_metabol_tech1.mzML',\n",
       " '130620_Berit_11_AID_YFP_Stim_B003_T1.mzML',\n",
       " '140804_BSA_test_140805083439.mzML',\n",
       " '130604_Linda_serie3_K17.mzML',\n",
       " '140612_BSA_test_140612155838.mzML',\n",
       " '131104_Berit_B005_MS7_T3.mzML',\n",
       " '141205_Rami_pellet_1_-_tech1.mzML',\n",
       " '130716_bsa3.mzML',\n",
       " '131121_bsa.mzML',\n",
       " '130613_Berit_4_YFP_Stim_B002_T1.mzML',\n",
       " '1400918_BSA_01.mzML',\n",
       " '140616_BSA_04.mzML',\n",
       " '130227_xrcc1_kontroll3.mzML',\n",
       " '130521_Berit_1_YFP.mzML',\n",
       " '141210_Oluf_909_metabol_tech1.mzML',\n",
       " '141210_Oluf_987_metabol_tech2.mzML',\n",
       " '130604_Linda_serie3_T9.mzML',\n",
       " '140116_bsa_test2.mzML',\n",
       " '131104_Berit_B005_MS7_T2.mzML',\n",
       " '140102_bsa_140102180454.mzML',\n",
       " '130712_Tobias_-p300_7.mzML',\n",
       " '130419_LINDA_T18.mzML',\n",
       " '131216_bsa1.mzML',\n",
       " '141205_Rami_pellet_1_-_tech2.mzML',\n",
       " '1403018_bsa_140325150044.mzML',\n",
       " '140801_OLUF_1.mzML',\n",
       " '141205_Renana_A_1.mzML',\n",
       " '130603_Berit_2_YFP.mzML',\n",
       " '130712_Tobias_-mgsah_3.mzML',\n",
       " '141210_Oluf_921_metabol_tech2.mzML',\n",
       " '131104_Berit_B005_MS5_T1.mzML',\n",
       " '130712_Tobias_-AcUNG_5.mzML',\n",
       " '141205_Rami_supernant_2_+_tech2.mzML',\n",
       " '130521_Berit_5_YFP.mzML',\n",
       " '131106_bsa1.mzML',\n",
       " '130712_Tobias_-p300_3.mzML',\n",
       " '1403018_bsa_140327023625.mzML',\n",
       " '141210_Oluf_950_metabol_tech1.mzML',\n",
       " '140826_BSA_01_140827135721.mzML',\n",
       " '130620_Berit_8_AID_YFP_Ustim_B003_T1.mzML',\n",
       " '131104_Berit_B005_MS5_T3.mzML',\n",
       " '130712_Tobias_-CoA_1.mzML',\n",
       " '141205_Rami_supernant_2_-_tech2.mzML',\n",
       " '130603_Berit_3_YFP.mzML',\n",
       " '141210_Oluf_002_metabol_tech1.mzML',\n",
       " '130521_Berit_12_AID_YFP.mzML',\n",
       " '130613_Berit_12_AID_YFP_Stim_B002_T1.mzML',\n",
       " '130712_Tobias_-AcUNG_6.mzML',\n",
       " '130603_Berit_4_YFP.mzML',\n",
       " '140108_bsatest_140110183145.mzML',\n",
       " '141107_bsa_5_141124161307.mzML',\n",
       " '140702_BSA_01.mzML',\n",
       " '130430_bsa1_130503211910.mzML',\n",
       " '131125_bsa1.mzML',\n",
       " '141210_Oluf_950_metabol_tech2.mzML',\n",
       " '130604_Linda_serie3_K10.mzML',\n",
       " '141205_Rami_pellet_2_+_tech1.mzML',\n",
       " '130604_Linda_serie3_K4.mzML',\n",
       " '140829_BSA_01_140831031841.mzML',\n",
       " '131104_Berit_B005_MS3_T3.mzML',\n",
       " '130613_Berit_5_YFP_Stim_B002_T1.mzML',\n",
       " '130530_Berit_MS3_LysC.mzML',\n",
       " '130712_Tobias_-AcUNG_7.mzML',\n",
       " '131107_bsa.mzML',\n",
       " '121122_bsatest.mzML',\n",
       " '130319_LINDA_K17.mzML',\n",
       " '131104_Berit_B005_MS8_T3.mzML',\n",
       " '140114_bsatest.mzML',\n",
       " '130604_Linda_serie3_T14.mzML',\n",
       " '141210_Oluf_987_metabol_tech1.mzML',\n",
       " '130603_Berit_5_YFP.mzML',\n",
       " '130603_Berit_MS3_Tryp.mzML',\n",
       " '140122_bsa_140125042836.mzML',\n",
       " '130712_Tobias_-AcUNG_8.mzML',\n",
       " '131104_bsa.mzML',\n",
       " '130620_Berit_7_AID_YFP_Ustim_B003_T1.mzML',\n",
       " '140812_BSA_140812154244.mzML',\n",
       " '140311_bsa2_140312161734.mzML',\n",
       " '130712_Tobias_-p300_2.mzML',\n",
       " '131104_Berit_B005_MS8_T1.mzML',\n",
       " '131104_Berit_B005_MS6_T1.mzML',\n",
       " '141205_Rami_supernant_2_-_tech1.mzML',\n",
       " '130712_Tobias_-CoA_9.mzML',\n",
       " '1403018_bsa_140325115640.mzML',\n",
       " '130604_Linda_serie3_K1.mzML',\n",
       " '131104_Berit_B005_MS3_T2.mzML',\n",
       " '130712_Tobias_-CoA_3.mzML',\n",
       " '141210_Oluf_998_metabol_tech2.mzML',\n",
       " '130604_Linda_serie3_K9.mzML',\n",
       " '131106_bsaETD1.mzML',\n",
       " '130604_Linda_serie3_T1.mzML',\n",
       " '140826_BSA_01_140826141818.mzML',\n",
       " '141205_Renana_A_2.mzML',\n",
       " '141107_bsa_5_141127100316.mzML',\n",
       " '131104_Berit_B005_MS8_T2.mzML',\n",
       " '130712_Tobias_-CoA_4.mzML',\n",
       " '141210_Oluf_993_metabol_tech1.mzML',\n",
       " '141107_bsa_5_141124181448.mzML',\n",
       " '130530_Berit_MS4_Tryp.mzML',\n",
       " '130712_Tobias_-p300_5.mzML',\n",
       " '130212_bsa.mzML',\n",
       " '130603_Berit_MS4_LysC.mzML',\n",
       " '131104_Berit_B005_MS6_T3.mzML',\n",
       " '130214_bsa.mzML',\n",
       " '130712_Tobias_-p300_4.mzML',\n",
       " '130712_Tobias_-AcUNG_3.mzML',\n",
       " '140801_ANI_1.mzML',\n",
       " '130530_Berit_MS3_Tryp.mzML',\n",
       " '141210_Oluf_916_metabol_tech2.mzML',\n",
       " '140218_bsa2.mzML',\n",
       " '131030_bsa1_131102091657.mzML',\n",
       " '141205_Renana_C_1.mzML',\n",
       " '140602_BSA_140602191146.mzML',\n",
       " '141210_Oluf_962_metabol_tech1.mzML',\n",
       " '130604_Linda_serie3_T5.mzML',\n",
       " '141105_BSA_01_141107032332.mzML',\n",
       " '131104_Berit_B005_MS5_T2.mzML',\n",
       " '140311_bsa_140312101442.mzML',\n",
       " '130716_bsa2.mzML',\n",
       " '140801_BSA_140802014130.mzML',\n",
       " '140702_BSA_01_140705062700.mzML',\n",
       " '130604_Linda_serie3_K3.mzML',\n",
       " '130606_Linda_serie3_N2.mzML',\n",
       " '141210_Oluf_910_metabol_tech2.mzML',\n",
       " '140211_BSA_test_140225225607.mzML',\n",
       " '1403018_bsa_140320155245.mzML',\n",
       " '140702_BSA_01_140702160607.mzML',\n",
       " '130613_Berit_6_YFP_Stim_B002_T1.mzML',\n",
       " '131106_bsa.mzML',\n",
       " '130712_Tobias_-mgmsUNG_1.mzML',\n",
       " '141105_BSA_01.mzML',\n",
       " '141210_Oluf_982_metabol_tech1.mzML',\n",
       " '130530_Berit_MS4_LysC.mzML',\n",
       " '141210_Oluf_930_metabol_tech1.mzML',\n",
       " '141210_Oluf_934_metabol_tech2.mzML',\n",
       " '130603_Berit_7_AID_YFP.mzML',\n",
       " '141205_Renana_D_1.mzML',\n",
       " '140114_bsatest_140116041649.mzML',\n",
       " '140729_BSA_4.mzML',\n",
       " '130604_Linda_serie3_K13.mzML',\n",
       " '130604_Linda_serie3_T11.mzML',\n",
       " '131104_Berit_B005_MS2_T1.mzML',\n",
       " '140605_BSA_01_140611135303.mzML',\n",
       " '130603_Berit_6_YFP.mzML',\n",
       " '141210_Oluf_979_metabol_tech1.mzML',\n",
       " '140108_bsatest_140110150810.mzML',\n",
       " '141210_Oluf_938_metabol_tech2.mzML',\n",
       " '130731_bsa.mzML',\n",
       " '130604_Linda_serie3_T10.mzML',\n",
       " '131104_Berit_B005_MS1_T1.mzML',\n",
       " '130604_Linda_serie3_K20.mzML',\n",
       " '140602_BSA.mzML',\n",
       " '130604_Linda_serie3_K14.mzML',\n",
       " '130521_Berit_8_AID_YFP.mzML',\n",
       " '140702_BSA_01_140702132315.mzML',\n",
       " '141210_Oluf_976_metabol_tech2.mzML',\n",
       " '130620_Berit_5_YFP_Stim_B003_T1.mzML',\n",
       " '140801_blank_1.mzML',\n",
       " '130604_Linda_serie3_T8.mzML',\n",
       " '141210_Oluf_942_metabol_tech2.mzML',\n",
       " '130604_Linda_serie3_K12.mzML',\n",
       " '130521_Berit_9_AID_YFP.mzML',\n",
       " '140801_BSA.mzML',\n",
       " '141210_Oluf_934_metabol_tech1.mzML',\n",
       " '140129_bsa.mzML',\n",
       " '130712_Tobias_-p300_8.mzML',\n",
       " '130521_Berit_7_AID_YFP.mzML',\n",
       " '130712_Tobias_-CoA_2.mzML',\n",
       " '140829_BSA_01.mzML',\n",
       " '130604_Linda_serie3_N1.mzML',\n",
       " '141210_Oluf_930_metabol_tech2.mzML',\n",
       " '130604_Linda_serie3_K11.mzML',\n",
       " '130604_Linda_serie3_T19.mzML',\n",
       " '131106_bsaETD.mzML',\n",
       " '130521_Berit_4_YFP.mzML']"
      ]
     },
     "execution_count": 5,
     "metadata": {},
     "output_type": "execute_result"
    }
   ],
   "source": [
    "processFiles"
   ]
  },
  {
   "cell_type": "code",
   "execution_count": 6,
   "metadata": {
    "collapsed": false
   },
   "outputs": [],
   "source": [
    "cometRunRDD = sc.parallelize(processFiles, numSlices=len(processFiles))"
   ]
  },
  {
   "cell_type": "code",
   "execution_count": null,
   "metadata": {
    "collapsed": false
   },
   "outputs": [],
   "source": [
    "resultRDD = cometRunRDD.pipe(cometRun, env={\"COMETBIN\": cometBinary, \"COMETPARAMS\": cometParams, \"DATADIR\": dataDir, \"DBNAME\": dbName }, checkCode=True)\n",
    "resultRDD.collect()"
   ]
  }
 ],
 "metadata": {
  "kernelspec": {
   "display_name": "Python 3",
   "language": "python",
   "name": "python3"
  },
  "language_info": {
   "codemirror_mode": {
    "name": "ipython",
    "version": 3
   },
   "file_extension": ".py",
   "mimetype": "text/x-python",
   "name": "python",
   "nbconvert_exporter": "python",
   "pygments_lexer": "ipython3",
   "version": "3.6.8"
  }
 },
 "nbformat": 4,
 "nbformat_minor": 2
}
