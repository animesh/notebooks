{
 "cells": [
  {
   "cell_type": "code",
   "execution_count": 1,
   "metadata": {
    "ExecuteTime": {
     "end_time": "2019-09-16T13:13:26.223521Z",
     "start_time": "2019-09-16T13:13:26.215160Z"
    }
   },
   "outputs": [],
   "source": [
    "from pathlib import Path\n",
    "home = Path.home()\n",
    "#[x for x in home.iterdir()]"
   ]
  },
  {
   "cell_type": "code",
   "execution_count": 2,
   "metadata": {
    "ExecuteTime": {
     "end_time": "2019-09-16T13:13:27.427779Z",
     "start_time": "2019-09-16T13:13:27.424923Z"
    }
   },
   "outputs": [],
   "source": [
    "inpD = home/'promec/Animesh/Odrun/combined/txt'\n",
    "#[x for x in (home/inpD).iterdir()]"
   ]
  },
  {
   "cell_type": "code",
   "execution_count": 3,
   "metadata": {
    "ExecuteTime": {
     "end_time": "2019-09-16T13:13:42.701376Z",
     "start_time": "2019-09-16T13:13:38.663639Z"
    }
   },
   "outputs": [
    {
     "data": {
      "text/html": [
       "<div>\n",
       "<style scoped>\n",
       "    .dataframe tbody tr th:only-of-type {\n",
       "        vertical-align: middle;\n",
       "    }\n",
       "\n",
       "    .dataframe tbody tr th {\n",
       "        vertical-align: top;\n",
       "    }\n",
       "\n",
       "    .dataframe thead th {\n",
       "        text-align: right;\n",
       "    }\n",
       "</style>\n",
       "<table border=\"1\" class=\"dataframe\">\n",
       "  <thead>\n",
       "    <tr style=\"text-align: right;\">\n",
       "      <th></th>\n",
       "      <th>60107_Exp1_PCI_total</th>\n",
       "      <th>60107_Exp2_PCI_total</th>\n",
       "      <th>60107_Exp2_PDT_total</th>\n",
       "      <th>60212_Exp3_PCI_total_b</th>\n",
       "      <th>60212_Exp3_PDT_total_b</th>\n",
       "      <th>60822_SILAC2_bleomycinH_Odrun</th>\n",
       "      <th>60822_SILAC3_bleomycinH_Odrun</th>\n",
       "      <th>60822_SILAC4_bleomycinH_Odrun</th>\n",
       "      <th>C: Only identified by site</th>\n",
       "      <th>C: Reverse</th>\n",
       "      <th>...</th>\n",
       "      <th>N: T-test q-value BLM</th>\n",
       "      <th>N: T-test Difference BLM</th>\n",
       "      <th>N: Base pair index</th>\n",
       "      <th>N: stddev PCI</th>\n",
       "      <th>N: stddev PDT</th>\n",
       "      <th>N: stddev BLM</th>\n",
       "      <th>N: PCI</th>\n",
       "      <th>N: PDT</th>\n",
       "      <th>N: BLM</th>\n",
       "      <th>T: id</th>\n",
       "    </tr>\n",
       "  </thead>\n",
       "  <tbody>\n",
       "    <tr>\n",
       "      <td>count</td>\n",
       "      <td>4057.000000</td>\n",
       "      <td>3874.000000</td>\n",
       "      <td>4028.000000</td>\n",
       "      <td>3846.000000</td>\n",
       "      <td>3874.000000</td>\n",
       "      <td>3917.000000</td>\n",
       "      <td>3903.000000</td>\n",
       "      <td>4187.000000</td>\n",
       "      <td>0.0</td>\n",
       "      <td>0.0</td>\n",
       "      <td>...</td>\n",
       "      <td>4772.000000</td>\n",
       "      <td>4436.000000</td>\n",
       "      <td>4.393000e+03</td>\n",
       "      <td>3992.000000</td>\n",
       "      <td>3452.000000</td>\n",
       "      <td>4068.000000</td>\n",
       "      <td>4516.000000</td>\n",
       "      <td>4450.000000</td>\n",
       "      <td>4436.000000</td>\n",
       "      <td>4772.000000</td>\n",
       "    </tr>\n",
       "    <tr>\n",
       "      <td>mean</td>\n",
       "      <td>0.070653</td>\n",
       "      <td>-0.003272</td>\n",
       "      <td>0.024220</td>\n",
       "      <td>0.050636</td>\n",
       "      <td>-0.431870</td>\n",
       "      <td>0.025814</td>\n",
       "      <td>0.090283</td>\n",
       "      <td>0.057738</td>\n",
       "      <td>NaN</td>\n",
       "      <td>NaN</td>\n",
       "      <td>...</td>\n",
       "      <td>0.796935</td>\n",
       "      <td>0.058545</td>\n",
       "      <td>8.977684e+07</td>\n",
       "      <td>0.326704</td>\n",
       "      <td>0.539958</td>\n",
       "      <td>0.306406</td>\n",
       "      <td>0.038087</td>\n",
       "      <td>-0.192003</td>\n",
       "      <td>0.070544</td>\n",
       "      <td>2817.956832</td>\n",
       "    </tr>\n",
       "    <tr>\n",
       "      <td>std</td>\n",
       "      <td>0.519018</td>\n",
       "      <td>0.574585</td>\n",
       "      <td>0.547242</td>\n",
       "      <td>0.615387</td>\n",
       "      <td>1.078580</td>\n",
       "      <td>0.455254</td>\n",
       "      <td>0.559321</td>\n",
       "      <td>0.473950</td>\n",
       "      <td>NaN</td>\n",
       "      <td>NaN</td>\n",
       "      <td>...</td>\n",
       "      <td>0.156758</td>\n",
       "      <td>0.445253</td>\n",
       "      <td>6.669263e+07</td>\n",
       "      <td>0.338804</td>\n",
       "      <td>0.475628</td>\n",
       "      <td>0.277856</td>\n",
       "      <td>0.504639</td>\n",
       "      <td>0.785434</td>\n",
       "      <td>0.463847</td>\n",
       "      <td>1534.953403</td>\n",
       "    </tr>\n",
       "    <tr>\n",
       "      <td>min</td>\n",
       "      <td>-7.579220</td>\n",
       "      <td>-7.456600</td>\n",
       "      <td>-6.008020</td>\n",
       "      <td>-6.530020</td>\n",
       "      <td>-6.438210</td>\n",
       "      <td>-7.942580</td>\n",
       "      <td>-6.466640</td>\n",
       "      <td>-6.391780</td>\n",
       "      <td>NaN</td>\n",
       "      <td>NaN</td>\n",
       "      <td>...</td>\n",
       "      <td>0.224991</td>\n",
       "      <td>-6.466640</td>\n",
       "      <td>5.323000e+03</td>\n",
       "      <td>0.000345</td>\n",
       "      <td>0.000041</td>\n",
       "      <td>0.000245</td>\n",
       "      <td>-6.530020</td>\n",
       "      <td>-6.223120</td>\n",
       "      <td>-6.466640</td>\n",
       "      <td>175.000000</td>\n",
       "    </tr>\n",
       "    <tr>\n",
       "      <td>25%</td>\n",
       "      <td>-0.212031</td>\n",
       "      <td>-0.210734</td>\n",
       "      <td>-0.214021</td>\n",
       "      <td>-0.205973</td>\n",
       "      <td>-0.967934</td>\n",
       "      <td>-0.154484</td>\n",
       "      <td>-0.213993</td>\n",
       "      <td>-0.219328</td>\n",
       "      <td>NaN</td>\n",
       "      <td>NaN</td>\n",
       "      <td>...</td>\n",
       "      <td>0.641840</td>\n",
       "      <td>-0.138097</td>\n",
       "      <td>3.750070e+07</td>\n",
       "      <td>0.136352</td>\n",
       "      <td>0.197704</td>\n",
       "      <td>0.158236</td>\n",
       "      <td>-0.178177</td>\n",
       "      <td>-0.546972</td>\n",
       "      <td>-0.151237</td>\n",
       "      <td>1487.750000</td>\n",
       "    </tr>\n",
       "    <tr>\n",
       "      <td>50%</td>\n",
       "      <td>0.035626</td>\n",
       "      <td>0.014865</td>\n",
       "      <td>0.026688</td>\n",
       "      <td>0.013755</td>\n",
       "      <td>-0.388828</td>\n",
       "      <td>0.018375</td>\n",
       "      <td>0.143145</td>\n",
       "      <td>0.054246</td>\n",
       "      <td>NaN</td>\n",
       "      <td>NaN</td>\n",
       "      <td>...</td>\n",
       "      <td>0.763383</td>\n",
       "      <td>0.081717</td>\n",
       "      <td>7.386980e+07</td>\n",
       "      <td>0.230086</td>\n",
       "      <td>0.417476</td>\n",
       "      <td>0.246920</td>\n",
       "      <td>0.012607</td>\n",
       "      <td>-0.146684</td>\n",
       "      <td>0.094488</td>\n",
       "      <td>2808.500000</td>\n",
       "    </tr>\n",
       "    <tr>\n",
       "      <td>75%</td>\n",
       "      <td>0.341069</td>\n",
       "      <td>0.221489</td>\n",
       "      <td>0.258831</td>\n",
       "      <td>0.251699</td>\n",
       "      <td>0.204832</td>\n",
       "      <td>0.218258</td>\n",
       "      <td>0.421086</td>\n",
       "      <td>0.360861</td>\n",
       "      <td>NaN</td>\n",
       "      <td>NaN</td>\n",
       "      <td>...</td>\n",
       "      <td>1.000000</td>\n",
       "      <td>0.279887</td>\n",
       "      <td>1.262340e+08</td>\n",
       "      <td>0.397890</td>\n",
       "      <td>0.751320</td>\n",
       "      <td>0.368726</td>\n",
       "      <td>0.225366</td>\n",
       "      <td>0.215570</td>\n",
       "      <td>0.322389</td>\n",
       "      <td>4149.250000</td>\n",
       "    </tr>\n",
       "    <tr>\n",
       "      <td>max</td>\n",
       "      <td>2.605970</td>\n",
       "      <td>5.461360</td>\n",
       "      <td>5.378550</td>\n",
       "      <td>5.212900</td>\n",
       "      <td>6.665340</td>\n",
       "      <td>6.513320</td>\n",
       "      <td>3.799400</td>\n",
       "      <td>7.574330</td>\n",
       "      <td>NaN</td>\n",
       "      <td>NaN</td>\n",
       "      <td>...</td>\n",
       "      <td>1.000000</td>\n",
       "      <td>7.043820</td>\n",
       "      <td>2.895770e+08</td>\n",
       "      <td>4.288470</td>\n",
       "      <td>5.022680</td>\n",
       "      <td>5.196090</td>\n",
       "      <td>4.095500</td>\n",
       "      <td>6.665340</td>\n",
       "      <td>7.043820</td>\n",
       "      <td>5487.000000</td>\n",
       "    </tr>\n",
       "  </tbody>\n",
       "</table>\n",
       "<p>8 rows × 100 columns</p>\n",
       "</div>"
      ],
      "text/plain": [
       "       60107_Exp1_PCI_total  60107_Exp2_PCI_total  60107_Exp2_PDT_total  \\\n",
       "count           4057.000000           3874.000000           4028.000000   \n",
       "mean               0.070653             -0.003272              0.024220   \n",
       "std                0.519018              0.574585              0.547242   \n",
       "min               -7.579220             -7.456600             -6.008020   \n",
       "25%               -0.212031             -0.210734             -0.214021   \n",
       "50%                0.035626              0.014865              0.026688   \n",
       "75%                0.341069              0.221489              0.258831   \n",
       "max                2.605970              5.461360              5.378550   \n",
       "\n",
       "       60212_Exp3_PCI_total_b  60212_Exp3_PDT_total_b  \\\n",
       "count             3846.000000             3874.000000   \n",
       "mean                 0.050636               -0.431870   \n",
       "std                  0.615387                1.078580   \n",
       "min                 -6.530020               -6.438210   \n",
       "25%                 -0.205973               -0.967934   \n",
       "50%                  0.013755               -0.388828   \n",
       "75%                  0.251699                0.204832   \n",
       "max                  5.212900                6.665340   \n",
       "\n",
       "       60822_SILAC2_bleomycinH_Odrun  60822_SILAC3_bleomycinH_Odrun  \\\n",
       "count                    3917.000000                    3903.000000   \n",
       "mean                        0.025814                       0.090283   \n",
       "std                         0.455254                       0.559321   \n",
       "min                        -7.942580                      -6.466640   \n",
       "25%                        -0.154484                      -0.213993   \n",
       "50%                         0.018375                       0.143145   \n",
       "75%                         0.218258                       0.421086   \n",
       "max                         6.513320                       3.799400   \n",
       "\n",
       "       60822_SILAC4_bleomycinH_Odrun  C: Only identified by site  C: Reverse  \\\n",
       "count                    4187.000000                         0.0         0.0   \n",
       "mean                        0.057738                         NaN         NaN   \n",
       "std                         0.473950                         NaN         NaN   \n",
       "min                        -6.391780                         NaN         NaN   \n",
       "25%                        -0.219328                         NaN         NaN   \n",
       "50%                         0.054246                         NaN         NaN   \n",
       "75%                         0.360861                         NaN         NaN   \n",
       "max                         7.574330                         NaN         NaN   \n",
       "\n",
       "       ...  N: T-test q-value BLM  N: T-test Difference BLM  \\\n",
       "count  ...            4772.000000               4436.000000   \n",
       "mean   ...               0.796935                  0.058545   \n",
       "std    ...               0.156758                  0.445253   \n",
       "min    ...               0.224991                 -6.466640   \n",
       "25%    ...               0.641840                 -0.138097   \n",
       "50%    ...               0.763383                  0.081717   \n",
       "75%    ...               1.000000                  0.279887   \n",
       "max    ...               1.000000                  7.043820   \n",
       "\n",
       "       N: Base pair index  N: stddev PCI  N: stddev PDT  N: stddev BLM  \\\n",
       "count        4.393000e+03    3992.000000    3452.000000    4068.000000   \n",
       "mean         8.977684e+07       0.326704       0.539958       0.306406   \n",
       "std          6.669263e+07       0.338804       0.475628       0.277856   \n",
       "min          5.323000e+03       0.000345       0.000041       0.000245   \n",
       "25%          3.750070e+07       0.136352       0.197704       0.158236   \n",
       "50%          7.386980e+07       0.230086       0.417476       0.246920   \n",
       "75%          1.262340e+08       0.397890       0.751320       0.368726   \n",
       "max          2.895770e+08       4.288470       5.022680       5.196090   \n",
       "\n",
       "            N: PCI       N: PDT       N: BLM        T: id  \n",
       "count  4516.000000  4450.000000  4436.000000  4772.000000  \n",
       "mean      0.038087    -0.192003     0.070544  2817.956832  \n",
       "std       0.504639     0.785434     0.463847  1534.953403  \n",
       "min      -6.530020    -6.223120    -6.466640   175.000000  \n",
       "25%      -0.178177    -0.546972    -0.151237  1487.750000  \n",
       "50%       0.012607    -0.146684     0.094488  2808.500000  \n",
       "75%       0.225366     0.215570     0.322389  4149.250000  \n",
       "max       4.095500     6.665340     7.043820  5487.000000  \n",
       "\n",
       "[8 rows x 100 columns]"
      ]
     },
     "execution_count": 3,
     "metadata": {},
     "output_type": "execute_result"
    }
   ],
   "source": [
    "import pandas as pd\n",
    "dfMed = pd.read_table(home/'promec/Animesh/Odrun/proteinGroupsTotalTtestMedian.txt')\n",
    "#dfMed = pd.read_table(home/'promec/Animesh/Odrun/combined/txt/proteinGroups.txt')\n",
    "dfMed.describe()"
   ]
  },
  {
   "cell_type": "code",
   "execution_count": 4,
   "metadata": {
    "ExecuteTime": {
     "end_time": "2019-09-16T13:13:46.546785Z",
     "start_time": "2019-09-16T13:13:44.006339Z"
    }
   },
   "outputs": [
    {
     "name": "stderr",
     "output_type": "stream",
     "text": [
      "/opt/conda/lib/python3.7/site-packages/IPython/core/interactiveshell.py:3058: DtypeWarning: Columns (588,589) have mixed types. Specify dtype option on import or set low_memory=False.\n",
      "  interactivity=interactivity, compiler=compiler, result=result)\n"
     ]
    },
    {
     "data": {
      "text/html": [
       "<div>\n",
       "<style scoped>\n",
       "    .dataframe tbody tr th:only-of-type {\n",
       "        vertical-align: middle;\n",
       "    }\n",
       "\n",
       "    .dataframe tbody tr th {\n",
       "        vertical-align: top;\n",
       "    }\n",
       "\n",
       "    .dataframe thead th {\n",
       "        text-align: right;\n",
       "    }\n",
       "</style>\n",
       "<table border=\"1\" class=\"dataframe\">\n",
       "  <thead>\n",
       "    <tr style=\"text-align: right;\">\n",
       "      <th></th>\n",
       "      <th>Number of proteins</th>\n",
       "      <th>Peptides</th>\n",
       "      <th>Razor + unique peptides</th>\n",
       "      <th>Unique peptides</th>\n",
       "      <th>Peptides 60107_Exp1_PCI_ENDOSOME_tech1</th>\n",
       "      <th>Peptides 60107_Exp1_PCI_ENDOSOME_tech1_160116225023</th>\n",
       "      <th>Peptides 60107_Exp1_PCI_total_tech1</th>\n",
       "      <th>Peptides 60107_Exp1_PCI_total_tech1_160117043121</th>\n",
       "      <th>Peptides 60107_Exp2_PCI_ENDOSOME</th>\n",
       "      <th>Peptides 60107_Exp2_PCI_ENDOSOME_tech2</th>\n",
       "      <th>...</th>\n",
       "      <th>LFQ intensity H 80104_odrun_PCI2</th>\n",
       "      <th>LFQ intensity L 80104_odrun_PCI3</th>\n",
       "      <th>LFQ intensity H 80104_odrun_PCI3</th>\n",
       "      <th>LFQ intensity L 80104_odrun_PDT1_20180108172857</th>\n",
       "      <th>LFQ intensity H 80104_odrun_PDT1_20180108172857</th>\n",
       "      <th>LFQ intensity L 80104_odrun_PDT2_20180108222316</th>\n",
       "      <th>LFQ intensity H 80104_odrun_PDT2_20180108222316</th>\n",
       "      <th>LFQ intensity L 80104_odrun_PDT3_20180109031741</th>\n",
       "      <th>LFQ intensity H 80104_odrun_PDT3_20180109031741</th>\n",
       "      <th>id</th>\n",
       "    </tr>\n",
       "  </thead>\n",
       "  <tbody>\n",
       "    <tr>\n",
       "      <td>count</td>\n",
       "      <td>5488.000000</td>\n",
       "      <td>5488.000000</td>\n",
       "      <td>5488.000000</td>\n",
       "      <td>5488.000000</td>\n",
       "      <td>5488.000000</td>\n",
       "      <td>5488.000000</td>\n",
       "      <td>5488.000000</td>\n",
       "      <td>5488.000000</td>\n",
       "      <td>5488.000000</td>\n",
       "      <td>5488.000000</td>\n",
       "      <td>...</td>\n",
       "      <td>5.488000e+03</td>\n",
       "      <td>5.488000e+03</td>\n",
       "      <td>5.488000e+03</td>\n",
       "      <td>5.488000e+03</td>\n",
       "      <td>5.488000e+03</td>\n",
       "      <td>5.488000e+03</td>\n",
       "      <td>5.488000e+03</td>\n",
       "      <td>5.488000e+03</td>\n",
       "      <td>5.488000e+03</td>\n",
       "      <td>5488.00000</td>\n",
       "    </tr>\n",
       "    <tr>\n",
       "      <td>mean</td>\n",
       "      <td>1.752187</td>\n",
       "      <td>10.907981</td>\n",
       "      <td>10.049927</td>\n",
       "      <td>9.326166</td>\n",
       "      <td>4.325073</td>\n",
       "      <td>4.485423</td>\n",
       "      <td>4.164905</td>\n",
       "      <td>4.419825</td>\n",
       "      <td>2.534621</td>\n",
       "      <td>3.833273</td>\n",
       "      <td>...</td>\n",
       "      <td>1.133923e+08</td>\n",
       "      <td>1.619296e+08</td>\n",
       "      <td>1.489877e+08</td>\n",
       "      <td>1.638884e+08</td>\n",
       "      <td>1.300525e+08</td>\n",
       "      <td>1.649316e+08</td>\n",
       "      <td>1.355284e+08</td>\n",
       "      <td>1.505350e+08</td>\n",
       "      <td>1.534008e+08</td>\n",
       "      <td>2743.50000</td>\n",
       "    </tr>\n",
       "    <tr>\n",
       "      <td>std</td>\n",
       "      <td>1.496790</td>\n",
       "      <td>14.269392</td>\n",
       "      <td>12.464232</td>\n",
       "      <td>11.242495</td>\n",
       "      <td>8.888082</td>\n",
       "      <td>9.181471</td>\n",
       "      <td>8.249037</td>\n",
       "      <td>8.518087</td>\n",
       "      <td>5.492003</td>\n",
       "      <td>7.913562</td>\n",
       "      <td>...</td>\n",
       "      <td>8.655620e+08</td>\n",
       "      <td>1.136919e+09</td>\n",
       "      <td>1.045935e+09</td>\n",
       "      <td>9.390958e+08</td>\n",
       "      <td>8.389341e+08</td>\n",
       "      <td>1.027001e+09</td>\n",
       "      <td>8.896424e+08</td>\n",
       "      <td>9.941444e+08</td>\n",
       "      <td>9.847636e+08</td>\n",
       "      <td>1584.39347</td>\n",
       "    </tr>\n",
       "    <tr>\n",
       "      <td>min</td>\n",
       "      <td>1.000000</td>\n",
       "      <td>1.000000</td>\n",
       "      <td>1.000000</td>\n",
       "      <td>0.000000</td>\n",
       "      <td>0.000000</td>\n",
       "      <td>0.000000</td>\n",
       "      <td>0.000000</td>\n",
       "      <td>0.000000</td>\n",
       "      <td>0.000000</td>\n",
       "      <td>0.000000</td>\n",
       "      <td>...</td>\n",
       "      <td>0.000000e+00</td>\n",
       "      <td>0.000000e+00</td>\n",
       "      <td>0.000000e+00</td>\n",
       "      <td>0.000000e+00</td>\n",
       "      <td>0.000000e+00</td>\n",
       "      <td>0.000000e+00</td>\n",
       "      <td>0.000000e+00</td>\n",
       "      <td>0.000000e+00</td>\n",
       "      <td>0.000000e+00</td>\n",
       "      <td>0.00000</td>\n",
       "    </tr>\n",
       "    <tr>\n",
       "      <td>25%</td>\n",
       "      <td>1.000000</td>\n",
       "      <td>3.000000</td>\n",
       "      <td>3.000000</td>\n",
       "      <td>3.000000</td>\n",
       "      <td>0.000000</td>\n",
       "      <td>0.000000</td>\n",
       "      <td>0.000000</td>\n",
       "      <td>1.000000</td>\n",
       "      <td>0.000000</td>\n",
       "      <td>0.000000</td>\n",
       "      <td>...</td>\n",
       "      <td>0.000000e+00</td>\n",
       "      <td>0.000000e+00</td>\n",
       "      <td>0.000000e+00</td>\n",
       "      <td>0.000000e+00</td>\n",
       "      <td>0.000000e+00</td>\n",
       "      <td>0.000000e+00</td>\n",
       "      <td>0.000000e+00</td>\n",
       "      <td>0.000000e+00</td>\n",
       "      <td>0.000000e+00</td>\n",
       "      <td>1371.75000</td>\n",
       "    </tr>\n",
       "    <tr>\n",
       "      <td>50%</td>\n",
       "      <td>1.000000</td>\n",
       "      <td>7.000000</td>\n",
       "      <td>6.000000</td>\n",
       "      <td>6.000000</td>\n",
       "      <td>2.000000</td>\n",
       "      <td>2.000000</td>\n",
       "      <td>2.000000</td>\n",
       "      <td>2.000000</td>\n",
       "      <td>1.000000</td>\n",
       "      <td>1.000000</td>\n",
       "      <td>...</td>\n",
       "      <td>0.000000e+00</td>\n",
       "      <td>6.158750e+06</td>\n",
       "      <td>5.848500e+06</td>\n",
       "      <td>7.480050e+06</td>\n",
       "      <td>6.207500e+06</td>\n",
       "      <td>7.441700e+06</td>\n",
       "      <td>6.154050e+06</td>\n",
       "      <td>6.952950e+06</td>\n",
       "      <td>7.364700e+06</td>\n",
       "      <td>2743.50000</td>\n",
       "    </tr>\n",
       "    <tr>\n",
       "      <td>75%</td>\n",
       "      <td>2.000000</td>\n",
       "      <td>13.000000</td>\n",
       "      <td>13.000000</td>\n",
       "      <td>12.000000</td>\n",
       "      <td>5.000000</td>\n",
       "      <td>6.000000</td>\n",
       "      <td>5.000000</td>\n",
       "      <td>5.000000</td>\n",
       "      <td>3.000000</td>\n",
       "      <td>5.000000</td>\n",
       "      <td>...</td>\n",
       "      <td>2.833125e+07</td>\n",
       "      <td>5.147600e+07</td>\n",
       "      <td>4.694000e+07</td>\n",
       "      <td>5.485975e+07</td>\n",
       "      <td>4.429050e+07</td>\n",
       "      <td>5.646550e+07</td>\n",
       "      <td>4.591675e+07</td>\n",
       "      <td>5.213575e+07</td>\n",
       "      <td>5.486550e+07</td>\n",
       "      <td>4115.25000</td>\n",
       "    </tr>\n",
       "    <tr>\n",
       "      <td>max</td>\n",
       "      <td>30.000000</td>\n",
       "      <td>267.000000</td>\n",
       "      <td>267.000000</td>\n",
       "      <td>209.000000</td>\n",
       "      <td>183.000000</td>\n",
       "      <td>199.000000</td>\n",
       "      <td>168.000000</td>\n",
       "      <td>171.000000</td>\n",
       "      <td>113.000000</td>\n",
       "      <td>159.000000</td>\n",
       "      <td>...</td>\n",
       "      <td>3.649000e+10</td>\n",
       "      <td>4.317400e+10</td>\n",
       "      <td>3.966600e+10</td>\n",
       "      <td>3.068600e+10</td>\n",
       "      <td>3.103900e+10</td>\n",
       "      <td>3.518700e+10</td>\n",
       "      <td>3.131700e+10</td>\n",
       "      <td>3.544200e+10</td>\n",
       "      <td>3.312200e+10</td>\n",
       "      <td>5487.00000</td>\n",
       "    </tr>\n",
       "  </tbody>\n",
       "</table>\n",
       "<p>8 rows × 510 columns</p>\n",
       "</div>"
      ],
      "text/plain": [
       "       Number of proteins     Peptides  Razor + unique peptides  \\\n",
       "count         5488.000000  5488.000000              5488.000000   \n",
       "mean             1.752187    10.907981                10.049927   \n",
       "std              1.496790    14.269392                12.464232   \n",
       "min              1.000000     1.000000                 1.000000   \n",
       "25%              1.000000     3.000000                 3.000000   \n",
       "50%              1.000000     7.000000                 6.000000   \n",
       "75%              2.000000    13.000000                13.000000   \n",
       "max             30.000000   267.000000               267.000000   \n",
       "\n",
       "       Unique peptides  Peptides 60107_Exp1_PCI_ENDOSOME_tech1  \\\n",
       "count      5488.000000                             5488.000000   \n",
       "mean          9.326166                                4.325073   \n",
       "std          11.242495                                8.888082   \n",
       "min           0.000000                                0.000000   \n",
       "25%           3.000000                                0.000000   \n",
       "50%           6.000000                                2.000000   \n",
       "75%          12.000000                                5.000000   \n",
       "max         209.000000                              183.000000   \n",
       "\n",
       "       Peptides 60107_Exp1_PCI_ENDOSOME_tech1_160116225023  \\\n",
       "count                                        5488.000000     \n",
       "mean                                            4.485423     \n",
       "std                                             9.181471     \n",
       "min                                             0.000000     \n",
       "25%                                             0.000000     \n",
       "50%                                             2.000000     \n",
       "75%                                             6.000000     \n",
       "max                                           199.000000     \n",
       "\n",
       "       Peptides 60107_Exp1_PCI_total_tech1  \\\n",
       "count                          5488.000000   \n",
       "mean                              4.164905   \n",
       "std                               8.249037   \n",
       "min                               0.000000   \n",
       "25%                               0.000000   \n",
       "50%                               2.000000   \n",
       "75%                               5.000000   \n",
       "max                             168.000000   \n",
       "\n",
       "       Peptides 60107_Exp1_PCI_total_tech1_160117043121  \\\n",
       "count                                       5488.000000   \n",
       "mean                                           4.419825   \n",
       "std                                            8.518087   \n",
       "min                                            0.000000   \n",
       "25%                                            1.000000   \n",
       "50%                                            2.000000   \n",
       "75%                                            5.000000   \n",
       "max                                          171.000000   \n",
       "\n",
       "       Peptides 60107_Exp2_PCI_ENDOSOME  \\\n",
       "count                       5488.000000   \n",
       "mean                           2.534621   \n",
       "std                            5.492003   \n",
       "min                            0.000000   \n",
       "25%                            0.000000   \n",
       "50%                            1.000000   \n",
       "75%                            3.000000   \n",
       "max                          113.000000   \n",
       "\n",
       "       Peptides 60107_Exp2_PCI_ENDOSOME_tech2  ...  \\\n",
       "count                             5488.000000  ...   \n",
       "mean                                 3.833273  ...   \n",
       "std                                  7.913562  ...   \n",
       "min                                  0.000000  ...   \n",
       "25%                                  0.000000  ...   \n",
       "50%                                  1.000000  ...   \n",
       "75%                                  5.000000  ...   \n",
       "max                                159.000000  ...   \n",
       "\n",
       "       LFQ intensity H 80104_odrun_PCI2  LFQ intensity L 80104_odrun_PCI3  \\\n",
       "count                      5.488000e+03                      5.488000e+03   \n",
       "mean                       1.133923e+08                      1.619296e+08   \n",
       "std                        8.655620e+08                      1.136919e+09   \n",
       "min                        0.000000e+00                      0.000000e+00   \n",
       "25%                        0.000000e+00                      0.000000e+00   \n",
       "50%                        0.000000e+00                      6.158750e+06   \n",
       "75%                        2.833125e+07                      5.147600e+07   \n",
       "max                        3.649000e+10                      4.317400e+10   \n",
       "\n",
       "       LFQ intensity H 80104_odrun_PCI3  \\\n",
       "count                      5.488000e+03   \n",
       "mean                       1.489877e+08   \n",
       "std                        1.045935e+09   \n",
       "min                        0.000000e+00   \n",
       "25%                        0.000000e+00   \n",
       "50%                        5.848500e+06   \n",
       "75%                        4.694000e+07   \n",
       "max                        3.966600e+10   \n",
       "\n",
       "       LFQ intensity L 80104_odrun_PDT1_20180108172857  \\\n",
       "count                                     5.488000e+03   \n",
       "mean                                      1.638884e+08   \n",
       "std                                       9.390958e+08   \n",
       "min                                       0.000000e+00   \n",
       "25%                                       0.000000e+00   \n",
       "50%                                       7.480050e+06   \n",
       "75%                                       5.485975e+07   \n",
       "max                                       3.068600e+10   \n",
       "\n",
       "       LFQ intensity H 80104_odrun_PDT1_20180108172857  \\\n",
       "count                                     5.488000e+03   \n",
       "mean                                      1.300525e+08   \n",
       "std                                       8.389341e+08   \n",
       "min                                       0.000000e+00   \n",
       "25%                                       0.000000e+00   \n",
       "50%                                       6.207500e+06   \n",
       "75%                                       4.429050e+07   \n",
       "max                                       3.103900e+10   \n",
       "\n",
       "       LFQ intensity L 80104_odrun_PDT2_20180108222316  \\\n",
       "count                                     5.488000e+03   \n",
       "mean                                      1.649316e+08   \n",
       "std                                       1.027001e+09   \n",
       "min                                       0.000000e+00   \n",
       "25%                                       0.000000e+00   \n",
       "50%                                       7.441700e+06   \n",
       "75%                                       5.646550e+07   \n",
       "max                                       3.518700e+10   \n",
       "\n",
       "       LFQ intensity H 80104_odrun_PDT2_20180108222316  \\\n",
       "count                                     5.488000e+03   \n",
       "mean                                      1.355284e+08   \n",
       "std                                       8.896424e+08   \n",
       "min                                       0.000000e+00   \n",
       "25%                                       0.000000e+00   \n",
       "50%                                       6.154050e+06   \n",
       "75%                                       4.591675e+07   \n",
       "max                                       3.131700e+10   \n",
       "\n",
       "       LFQ intensity L 80104_odrun_PDT3_20180109031741  \\\n",
       "count                                     5.488000e+03   \n",
       "mean                                      1.505350e+08   \n",
       "std                                       9.941444e+08   \n",
       "min                                       0.000000e+00   \n",
       "25%                                       0.000000e+00   \n",
       "50%                                       6.952950e+06   \n",
       "75%                                       5.213575e+07   \n",
       "max                                       3.544200e+10   \n",
       "\n",
       "       LFQ intensity H 80104_odrun_PDT3_20180109031741          id  \n",
       "count                                     5.488000e+03  5488.00000  \n",
       "mean                                      1.534008e+08  2743.50000  \n",
       "std                                       9.847636e+08  1584.39347  \n",
       "min                                       0.000000e+00     0.00000  \n",
       "25%                                       0.000000e+00  1371.75000  \n",
       "50%                                       7.364700e+06  2743.50000  \n",
       "75%                                       5.486550e+07  4115.25000  \n",
       "max                                       3.312200e+10  5487.00000  \n",
       "\n",
       "[8 rows x 510 columns]"
      ]
     },
     "execution_count": 4,
     "metadata": {},
     "output_type": "execute_result"
    }
   ],
   "source": [
    "inpF=\"proteinGroups.txt\"\n",
    "import pandas as pd\n",
    "df = pd.read_table(home/inpD/inpF)\n",
    "df.describe()"
   ]
  },
  {
   "cell_type": "code",
   "execution_count": 5,
   "metadata": {
    "ExecuteTime": {
     "end_time": "2019-09-16T13:14:22.162413Z",
     "start_time": "2019-09-16T13:13:49.323181Z"
    }
   },
   "outputs": [
    {
     "name": "stderr",
     "output_type": "stream",
     "text": [
      "/opt/conda/lib/python3.7/site-packages/IPython/core/interactiveshell.py:3058: DtypeWarning: Columns (9,11,53,62,63) have mixed types. Specify dtype option on import or set low_memory=False.\n",
      "  interactivity=interactivity, compiler=compiler, result=result)\n"
     ]
    },
    {
     "data": {
      "text/html": [
       "<div>\n",
       "<style scoped>\n",
       "    .dataframe tbody tr th:only-of-type {\n",
       "        vertical-align: middle;\n",
       "    }\n",
       "\n",
       "    .dataframe tbody tr th {\n",
       "        vertical-align: top;\n",
       "    }\n",
       "\n",
       "    .dataframe thead th {\n",
       "        text-align: right;\n",
       "    }\n",
       "</style>\n",
       "<table border=\"1\" class=\"dataframe\">\n",
       "  <thead>\n",
       "    <tr style=\"text-align: right;\">\n",
       "      <th></th>\n",
       "      <th>Scan number</th>\n",
       "      <th>Scan index</th>\n",
       "      <th>Length</th>\n",
       "      <th>Missed cleavages</th>\n",
       "      <th>Acetyl (Protein N-term)</th>\n",
       "      <th>Deamidation (NQ)</th>\n",
       "      <th>Oxidation (M)</th>\n",
       "      <th>Charge</th>\n",
       "      <th>Scan event number</th>\n",
       "      <th>Isotope index</th>\n",
       "      <th>...</th>\n",
       "      <th>Precursor Apex Fraction</th>\n",
       "      <th>Precursor Apex Offset</th>\n",
       "      <th>Precursor Apex Offset Time</th>\n",
       "      <th>Number of Matches</th>\n",
       "      <th>Intensity coverage</th>\n",
       "      <th>Peak coverage</th>\n",
       "      <th>id</th>\n",
       "      <th>Peptide ID</th>\n",
       "      <th>Mod. peptide ID</th>\n",
       "      <th>Evidence ID</th>\n",
       "    </tr>\n",
       "  </thead>\n",
       "  <tbody>\n",
       "    <tr>\n",
       "      <td>count</td>\n",
       "      <td>1.139847e+06</td>\n",
       "      <td>1.139847e+06</td>\n",
       "      <td>1.139847e+06</td>\n",
       "      <td>1.139847e+06</td>\n",
       "      <td>1.139847e+06</td>\n",
       "      <td>1.139847e+06</td>\n",
       "      <td>1.139847e+06</td>\n",
       "      <td>1.139847e+06</td>\n",
       "      <td>1.139847e+06</td>\n",
       "      <td>1.085632e+06</td>\n",
       "      <td>...</td>\n",
       "      <td>1139847.0</td>\n",
       "      <td>1139847.0</td>\n",
       "      <td>1139847.0</td>\n",
       "      <td>1.139847e+06</td>\n",
       "      <td>1.139847e+06</td>\n",
       "      <td>1.139847e+06</td>\n",
       "      <td>1.139847e+06</td>\n",
       "      <td>1.139847e+06</td>\n",
       "      <td>1.139847e+06</td>\n",
       "      <td>1.139847e+06</td>\n",
       "    </tr>\n",
       "    <tr>\n",
       "      <td>mean</td>\n",
       "      <td>5.347752e+04</td>\n",
       "      <td>4.339496e+04</td>\n",
       "      <td>1.594679e+01</td>\n",
       "      <td>1.559999e-01</td>\n",
       "      <td>1.767079e-02</td>\n",
       "      <td>1.939997e-02</td>\n",
       "      <td>5.702520e-03</td>\n",
       "      <td>2.423596e+00</td>\n",
       "      <td>4.475532e+00</td>\n",
       "      <td>-4.064788e+08</td>\n",
       "      <td>...</td>\n",
       "      <td>0.0</td>\n",
       "      <td>0.0</td>\n",
       "      <td>0.0</td>\n",
       "      <td>1.721957e+01</td>\n",
       "      <td>3.238638e-01</td>\n",
       "      <td>1.385862e-01</td>\n",
       "      <td>5.699230e+05</td>\n",
       "      <td>2.745382e+04</td>\n",
       "      <td>2.889529e+04</td>\n",
       "      <td>4.250223e+05</td>\n",
       "    </tr>\n",
       "    <tr>\n",
       "      <td>std</td>\n",
       "      <td>3.065359e+04</td>\n",
       "      <td>2.706294e+04</td>\n",
       "      <td>6.092283e+00</td>\n",
       "      <td>3.882574e-01</td>\n",
       "      <td>1.317519e-01</td>\n",
       "      <td>1.422782e-01</td>\n",
       "      <td>7.983489e-02</td>\n",
       "      <td>5.819568e-01</td>\n",
       "      <td>2.710616e+00</td>\n",
       "      <td>8.412385e+08</td>\n",
       "      <td>...</td>\n",
       "      <td>0.0</td>\n",
       "      <td>0.0</td>\n",
       "      <td>0.0</td>\n",
       "      <td>8.403011e+00</td>\n",
       "      <td>1.671108e-01</td>\n",
       "      <td>9.483215e-02</td>\n",
       "      <td>3.290456e+05</td>\n",
       "      <td>1.607153e+04</td>\n",
       "      <td>1.697882e+04</td>\n",
       "      <td>2.480965e+05</td>\n",
       "    </tr>\n",
       "    <tr>\n",
       "      <td>min</td>\n",
       "      <td>1.240000e+02</td>\n",
       "      <td>2.000000e+00</td>\n",
       "      <td>7.000000e+00</td>\n",
       "      <td>0.000000e+00</td>\n",
       "      <td>0.000000e+00</td>\n",
       "      <td>0.000000e+00</td>\n",
       "      <td>0.000000e+00</td>\n",
       "      <td>1.000000e+00</td>\n",
       "      <td>1.000000e+00</td>\n",
       "      <td>-2.147484e+09</td>\n",
       "      <td>...</td>\n",
       "      <td>0.0</td>\n",
       "      <td>0.0</td>\n",
       "      <td>0.0</td>\n",
       "      <td>0.000000e+00</td>\n",
       "      <td>0.000000e+00</td>\n",
       "      <td>0.000000e+00</td>\n",
       "      <td>0.000000e+00</td>\n",
       "      <td>0.000000e+00</td>\n",
       "      <td>0.000000e+00</td>\n",
       "      <td>0.000000e+00</td>\n",
       "    </tr>\n",
       "    <tr>\n",
       "      <td>25%</td>\n",
       "      <td>2.738250e+04</td>\n",
       "      <td>2.028600e+04</td>\n",
       "      <td>1.200000e+01</td>\n",
       "      <td>0.000000e+00</td>\n",
       "      <td>0.000000e+00</td>\n",
       "      <td>0.000000e+00</td>\n",
       "      <td>0.000000e+00</td>\n",
       "      <td>2.000000e+00</td>\n",
       "      <td>2.000000e+00</td>\n",
       "      <td>0.000000e+00</td>\n",
       "      <td>...</td>\n",
       "      <td>0.0</td>\n",
       "      <td>0.0</td>\n",
       "      <td>0.0</td>\n",
       "      <td>1.100000e+01</td>\n",
       "      <td>1.922036e-01</td>\n",
       "      <td>7.590759e-02</td>\n",
       "      <td>2.849615e+05</td>\n",
       "      <td>1.389400e+04</td>\n",
       "      <td>1.454200e+04</td>\n",
       "      <td>2.101320e+05</td>\n",
       "    </tr>\n",
       "    <tr>\n",
       "      <td>50%</td>\n",
       "      <td>4.822000e+04</td>\n",
       "      <td>3.868700e+04</td>\n",
       "      <td>1.500000e+01</td>\n",
       "      <td>0.000000e+00</td>\n",
       "      <td>0.000000e+00</td>\n",
       "      <td>0.000000e+00</td>\n",
       "      <td>0.000000e+00</td>\n",
       "      <td>2.000000e+00</td>\n",
       "      <td>4.000000e+00</td>\n",
       "      <td>1.000000e+00</td>\n",
       "      <td>...</td>\n",
       "      <td>0.0</td>\n",
       "      <td>0.0</td>\n",
       "      <td>0.0</td>\n",
       "      <td>1.600000e+01</td>\n",
       "      <td>2.919097e-01</td>\n",
       "      <td>1.069182e-01</td>\n",
       "      <td>5.699230e+05</td>\n",
       "      <td>2.704600e+04</td>\n",
       "      <td>2.835400e+04</td>\n",
       "      <td>4.230190e+05</td>\n",
       "    </tr>\n",
       "    <tr>\n",
       "      <td>75%</td>\n",
       "      <td>7.905900e+04</td>\n",
       "      <td>6.579300e+04</td>\n",
       "      <td>1.900000e+01</td>\n",
       "      <td>0.000000e+00</td>\n",
       "      <td>0.000000e+00</td>\n",
       "      <td>0.000000e+00</td>\n",
       "      <td>0.000000e+00</td>\n",
       "      <td>3.000000e+00</td>\n",
       "      <td>7.000000e+00</td>\n",
       "      <td>9.000000e+00</td>\n",
       "      <td>...</td>\n",
       "      <td>0.0</td>\n",
       "      <td>0.0</td>\n",
       "      <td>0.0</td>\n",
       "      <td>2.200000e+01</td>\n",
       "      <td>4.292425e-01</td>\n",
       "      <td>1.666667e-01</td>\n",
       "      <td>8.548845e+05</td>\n",
       "      <td>4.213200e+04</td>\n",
       "      <td>4.446400e+04</td>\n",
       "      <td>6.444020e+05</td>\n",
       "    </tr>\n",
       "    <tr>\n",
       "      <td>max</td>\n",
       "      <td>1.178790e+05</td>\n",
       "      <td>1.008590e+05</td>\n",
       "      <td>5.300000e+01</td>\n",
       "      <td>2.000000e+00</td>\n",
       "      <td>1.000000e+00</td>\n",
       "      <td>5.000000e+00</td>\n",
       "      <td>3.000000e+00</td>\n",
       "      <td>6.000000e+00</td>\n",
       "      <td>1.000000e+01</td>\n",
       "      <td>3.800000e+01</td>\n",
       "      <td>...</td>\n",
       "      <td>0.0</td>\n",
       "      <td>0.0</td>\n",
       "      <td>0.0</td>\n",
       "      <td>8.800000e+01</td>\n",
       "      <td>1.000000e+00</td>\n",
       "      <td>1.000000e+00</td>\n",
       "      <td>1.139846e+06</td>\n",
       "      <td>5.515300e+04</td>\n",
       "      <td>5.814700e+04</td>\n",
       "      <td>8.541260e+05</td>\n",
       "    </tr>\n",
       "  </tbody>\n",
       "</table>\n",
       "<p>8 rows × 38 columns</p>\n",
       "</div>"
      ],
      "text/plain": [
       "        Scan number    Scan index        Length  Missed cleavages  \\\n",
       "count  1.139847e+06  1.139847e+06  1.139847e+06      1.139847e+06   \n",
       "mean   5.347752e+04  4.339496e+04  1.594679e+01      1.559999e-01   \n",
       "std    3.065359e+04  2.706294e+04  6.092283e+00      3.882574e-01   \n",
       "min    1.240000e+02  2.000000e+00  7.000000e+00      0.000000e+00   \n",
       "25%    2.738250e+04  2.028600e+04  1.200000e+01      0.000000e+00   \n",
       "50%    4.822000e+04  3.868700e+04  1.500000e+01      0.000000e+00   \n",
       "75%    7.905900e+04  6.579300e+04  1.900000e+01      0.000000e+00   \n",
       "max    1.178790e+05  1.008590e+05  5.300000e+01      2.000000e+00   \n",
       "\n",
       "       Acetyl (Protein N-term)  Deamidation (NQ)  Oxidation (M)        Charge  \\\n",
       "count             1.139847e+06      1.139847e+06   1.139847e+06  1.139847e+06   \n",
       "mean              1.767079e-02      1.939997e-02   5.702520e-03  2.423596e+00   \n",
       "std               1.317519e-01      1.422782e-01   7.983489e-02  5.819568e-01   \n",
       "min               0.000000e+00      0.000000e+00   0.000000e+00  1.000000e+00   \n",
       "25%               0.000000e+00      0.000000e+00   0.000000e+00  2.000000e+00   \n",
       "50%               0.000000e+00      0.000000e+00   0.000000e+00  2.000000e+00   \n",
       "75%               0.000000e+00      0.000000e+00   0.000000e+00  3.000000e+00   \n",
       "max               1.000000e+00      5.000000e+00   3.000000e+00  6.000000e+00   \n",
       "\n",
       "       Scan event number  Isotope index  ...  Precursor Apex Fraction  \\\n",
       "count       1.139847e+06   1.085632e+06  ...                1139847.0   \n",
       "mean        4.475532e+00  -4.064788e+08  ...                      0.0   \n",
       "std         2.710616e+00   8.412385e+08  ...                      0.0   \n",
       "min         1.000000e+00  -2.147484e+09  ...                      0.0   \n",
       "25%         2.000000e+00   0.000000e+00  ...                      0.0   \n",
       "50%         4.000000e+00   1.000000e+00  ...                      0.0   \n",
       "75%         7.000000e+00   9.000000e+00  ...                      0.0   \n",
       "max         1.000000e+01   3.800000e+01  ...                      0.0   \n",
       "\n",
       "       Precursor Apex Offset  Precursor Apex Offset Time  Number of Matches  \\\n",
       "count              1139847.0                   1139847.0       1.139847e+06   \n",
       "mean                     0.0                         0.0       1.721957e+01   \n",
       "std                      0.0                         0.0       8.403011e+00   \n",
       "min                      0.0                         0.0       0.000000e+00   \n",
       "25%                      0.0                         0.0       1.100000e+01   \n",
       "50%                      0.0                         0.0       1.600000e+01   \n",
       "75%                      0.0                         0.0       2.200000e+01   \n",
       "max                      0.0                         0.0       8.800000e+01   \n",
       "\n",
       "       Intensity coverage  Peak coverage            id    Peptide ID  \\\n",
       "count        1.139847e+06   1.139847e+06  1.139847e+06  1.139847e+06   \n",
       "mean         3.238638e-01   1.385862e-01  5.699230e+05  2.745382e+04   \n",
       "std          1.671108e-01   9.483215e-02  3.290456e+05  1.607153e+04   \n",
       "min          0.000000e+00   0.000000e+00  0.000000e+00  0.000000e+00   \n",
       "25%          1.922036e-01   7.590759e-02  2.849615e+05  1.389400e+04   \n",
       "50%          2.919097e-01   1.069182e-01  5.699230e+05  2.704600e+04   \n",
       "75%          4.292425e-01   1.666667e-01  8.548845e+05  4.213200e+04   \n",
       "max          1.000000e+00   1.000000e+00  1.139846e+06  5.515300e+04   \n",
       "\n",
       "       Mod. peptide ID   Evidence ID  \n",
       "count     1.139847e+06  1.139847e+06  \n",
       "mean      2.889529e+04  4.250223e+05  \n",
       "std       1.697882e+04  2.480965e+05  \n",
       "min       0.000000e+00  0.000000e+00  \n",
       "25%       1.454200e+04  2.101320e+05  \n",
       "50%       2.835400e+04  4.230190e+05  \n",
       "75%       4.446400e+04  6.444020e+05  \n",
       "max       5.814700e+04  8.541260e+05  \n",
       "\n",
       "[8 rows x 38 columns]"
      ]
     },
     "execution_count": 5,
     "metadata": {},
     "output_type": "execute_result"
    }
   ],
   "source": [
    "inpF=\"msms.txt\"\n",
    "import pandas as pd\n",
    "df = pd.read_table(home/inpD/inpF)\n",
    "df.describe()"
   ]
  },
  {
   "cell_type": "code",
   "execution_count": 19,
   "metadata": {
    "ExecuteTime": {
     "end_time": "2019-09-16T15:07:38.570198Z",
     "start_time": "2019-09-16T15:07:38.463238Z"
    }
   },
   "outputs": [
    {
     "data": {
      "text/plain": [
       "array(['160822_SILAC3_bleomycinH_Odrun_tech2',\n",
       "       '160107_Exp2_PDT_total_tech1_160117101256',\n",
       "       '160822_SILAC4_bleomycinH_Odrun_tech2',\n",
       "       '160822_SILAC4_bleomycinH_Odrun_tech1',\n",
       "       '160822_SILAC3_bleomycinH_Odrun_tech1',\n",
       "       '160822_SILAC2_bleomycinH_Odrun_tech2',\n",
       "       '160822_SILAC2_bleomycinH_Odrun_tech1',\n",
       "       '160212_Exp3_PCI_total_b_tech1', '160107_Exp2_PDT_total_tech1',\n",
       "       '160107_Exp2_PCI_total_tech1_160116112742',\n",
       "       '160107_Exp2_PCI_total_tech1',\n",
       "       '160107_Exp1_PCI_total_tech1_160117043121',\n",
       "       '160107_Exp1_PCI_total_tech1', '180104_odrun_BLM1',\n",
       "       '180104_odrun_PCI1', '180104_odrun_PCI3',\n",
       "       '180104_odrun_PDT2_20180108222316',\n",
       "       '160212_Exp3_PDT_total_b_tech2', '160212_Exp3_PDT_total_b_tech1',\n",
       "       '160212_Exp3_PCI_ENDOSOME_tech2-redo',\n",
       "       '160107_Exp2_PDT_ENDOSOME_tech1_160116170903',\n",
       "       '160107_Exp2_PDT_ENDOSOME_tech1', '160107_Exp2_PCI_ENDOSOME_tech2',\n",
       "       '160107_Exp1_PCI_ENDOSOME_tech1_160116225023',\n",
       "       '160107_Exp1_PCI_ENDOSOME_tech1', '180104_odrun_BLM2',\n",
       "       '180104_odrun_BLM3', '180104_odrun_PDT1_20180108172857',\n",
       "       '180104_odrun_PDT3_20180109031741',\n",
       "       '160212_Exp3_PCI_total_b_tech2', '160107_Exp2_PCI_ENDOSOME',\n",
       "       '180104_odrun_PCI2', '160212_Exp3_PDT_ENDOSOME_tech2-redo',\n",
       "       '160212_Exp3_PCI_ENDOSOME_tech1', '160212_Exp3_PDT_ENDOSOME_tech1'],\n",
       "      dtype=object)"
      ]
     },
     "execution_count": 19,
     "metadata": {},
     "output_type": "execute_result"
    }
   ],
   "source": [
    "df['Raw file'].unique()"
   ]
  },
  {
   "cell_type": "code",
   "execution_count": 20,
   "metadata": {
    "ExecuteTime": {
     "end_time": "2019-09-16T15:07:46.784840Z",
     "start_time": "2019-09-16T15:07:46.632356Z"
    }
   },
   "outputs": [
    {
     "data": {
      "text/plain": [
       "4       203\n",
       "1       191\n",
       "3       178\n",
       "5       163\n",
       "6       161\n",
       "       ... \n",
       "1567      1\n",
       "1579      1\n",
       "1591      1\n",
       "2013      1\n",
       "2039      1\n",
       "Name: Protein group IDs, Length: 918, dtype: int64"
      ]
     },
     "execution_count": 20,
     "metadata": {},
     "output_type": "execute_result"
    }
   ],
   "source": [
    "dfP=df['Protein group IDs'].value_counts()\n",
    "dfP.value_counts()"
   ]
  },
  {
   "cell_type": "code",
   "execution_count": 33,
   "metadata": {
    "ExecuteTime": {
     "end_time": "2019-09-16T15:17:50.084585Z",
     "start_time": "2019-09-16T15:17:50.060568Z"
    }
   },
   "outputs": [
    {
     "data": {
      "text/plain": [
       " 1    551703\n",
       " 0    541392\n",
       "-1     46752\n",
       "Name: Labeling State, dtype: int64"
      ]
     },
     "execution_count": 33,
     "metadata": {},
     "output_type": "execute_result"
    }
   ],
   "source": [
    "df['Labeling State'].value_counts()"
   ]
  },
  {
   "cell_type": "code",
   "execution_count": 21,
   "metadata": {
    "ExecuteTime": {
     "end_time": "2019-09-16T15:08:04.573734Z",
     "start_time": "2019-09-16T15:08:03.190055Z"
    }
   },
   "outputs": [
    {
     "data": {
      "text/plain": [
       "Raw file                     588144\n",
       "Scan number                  588144\n",
       "Scan index                   588144\n",
       "Sequence                     588144\n",
       "Length                       588144\n",
       "                              ...  \n",
       "Peptide ID                   588144\n",
       "Mod. peptide ID              588144\n",
       "Evidence ID                  588144\n",
       "Deamidation (NQ) site IDs      1888\n",
       "Oxidation (M) site IDs          963\n",
       "Length: 64, dtype: int64"
      ]
     },
     "execution_count": 21,
     "metadata": {},
     "output_type": "execute_result"
    }
   ],
   "source": [
    "#dfLS=df.groupby('Labeling State')\n",
    "dfLS=df[df['Labeling State']!=1]#.groupby('Proteins')\n",
    "dfLS.count()"
   ]
  },
  {
   "cell_type": "code",
   "execution_count": 30,
   "metadata": {
    "ExecuteTime": {
     "end_time": "2019-09-16T15:15:42.458499Z",
     "start_time": "2019-09-16T15:15:40.849814Z"
    }
   },
   "outputs": [
    {
     "name": "stderr",
     "output_type": "stream",
     "text": [
      "/opt/conda/lib/python3.7/site-packages/ipykernel_launcher.py:1: SettingWithCopyWarning: \n",
      "A value is trying to be set on a copy of a slice from a DataFrame.\n",
      "Try using .loc[row_indexer,col_indexer] = value instead\n",
      "\n",
      "See the caveats in the documentation: http://pandas.pydata.org/pandas-docs/stable/user_guide/indexing.html#returning-a-view-versus-a-copy\n",
      "  \"\"\"Entry point for launching an IPython kernel.\n"
     ]
    }
   ],
   "source": [
    "dfLS['combi'] = dfLS['Proteins'].astype(str)+dfLS['Raw file'].astype(str)\n",
    "dfLS2 = dfLS.groupby(['Proteins','Raw file'])['combi'].nunique().reset_index()"
   ]
  },
  {
   "cell_type": "code",
   "execution_count": 32,
   "metadata": {
    "ExecuteTime": {
     "end_time": "2019-09-16T15:15:54.137962Z",
     "start_time": "2019-09-16T15:15:54.130755Z"
    }
   },
   "outputs": [
    {
     "data": {
      "text/plain": [
       "0         1\n",
       "1         1\n",
       "2         1\n",
       "3         1\n",
       "4         1\n",
       "         ..\n",
       "107948    1\n",
       "107949    1\n",
       "107950    1\n",
       "107951    1\n",
       "107952    1\n",
       "Name: combi, Length: 107953, dtype: int64"
      ]
     },
     "execution_count": 32,
     "metadata": {},
     "output_type": "execute_result"
    }
   ],
   "source": [
    "dfLS2['combi']#.plot()"
   ]
  },
  {
   "cell_type": "code",
   "execution_count": 39,
   "metadata": {
    "ExecuteTime": {
     "end_time": "2019-09-16T15:22:33.655564Z",
     "start_time": "2019-09-16T15:22:33.526253Z"
    }
   },
   "outputs": [
    {
     "data": {
      "text/plain": [
       "7983"
      ]
     },
     "execution_count": 39,
     "metadata": {},
     "output_type": "execute_result"
    }
   ],
   "source": [
    "df.groupby(['Proteins']).ngroups"
   ]
  },
  {
   "cell_type": "code",
   "execution_count": 49,
   "metadata": {
    "ExecuteTime": {
     "end_time": "2019-09-16T15:27:42.967661Z",
     "start_time": "2019-09-16T15:27:40.944084Z"
    }
   },
   "outputs": [
    {
     "data": {
      "text/html": [
       "<div>\n",
       "<style scoped>\n",
       "    .dataframe tbody tr th:only-of-type {\n",
       "        vertical-align: middle;\n",
       "    }\n",
       "\n",
       "    .dataframe tbody tr th {\n",
       "        vertical-align: top;\n",
       "    }\n",
       "\n",
       "    .dataframe thead th {\n",
       "        text-align: right;\n",
       "    }\n",
       "</style>\n",
       "<table border=\"1\" class=\"dataframe\">\n",
       "  <thead>\n",
       "    <tr style=\"text-align: right;\">\n",
       "      <th></th>\n",
       "      <th>Raw file</th>\n",
       "      <th>Scan number</th>\n",
       "      <th>Scan index</th>\n",
       "      <th>Sequence</th>\n",
       "      <th>Length</th>\n",
       "      <th>Missed cleavages</th>\n",
       "      <th>Modifications</th>\n",
       "      <th>Modified sequence</th>\n",
       "      <th>Deamidation (NQ) Probabilities</th>\n",
       "      <th>Oxidation (M) Probabilities</th>\n",
       "      <th>...</th>\n",
       "      <th>Reverse</th>\n",
       "      <th>All scores</th>\n",
       "      <th>All sequences</th>\n",
       "      <th>All modified sequences</th>\n",
       "      <th>id</th>\n",
       "      <th>Peptide ID</th>\n",
       "      <th>Mod. peptide ID</th>\n",
       "      <th>Evidence ID</th>\n",
       "      <th>Deamidation (NQ) site IDs</th>\n",
       "      <th>Oxidation (M) site IDs</th>\n",
       "    </tr>\n",
       "    <tr>\n",
       "      <th>Protein group IDs</th>\n",
       "      <th></th>\n",
       "      <th></th>\n",
       "      <th></th>\n",
       "      <th></th>\n",
       "      <th></th>\n",
       "      <th></th>\n",
       "      <th></th>\n",
       "      <th></th>\n",
       "      <th></th>\n",
       "      <th></th>\n",
       "      <th></th>\n",
       "      <th></th>\n",
       "      <th></th>\n",
       "      <th></th>\n",
       "      <th></th>\n",
       "      <th></th>\n",
       "      <th></th>\n",
       "      <th></th>\n",
       "      <th></th>\n",
       "      <th></th>\n",
       "      <th></th>\n",
       "    </tr>\n",
       "  </thead>\n",
       "  <tbody>\n",
       "    <tr>\n",
       "      <td>1001</td>\n",
       "      <td>1</td>\n",
       "      <td>1</td>\n",
       "      <td>1</td>\n",
       "      <td>1</td>\n",
       "      <td>1</td>\n",
       "      <td>1</td>\n",
       "      <td>1</td>\n",
       "      <td>1</td>\n",
       "      <td>0</td>\n",
       "      <td>0</td>\n",
       "      <td>...</td>\n",
       "      <td>0</td>\n",
       "      <td>1</td>\n",
       "      <td>1</td>\n",
       "      <td>1</td>\n",
       "      <td>1</td>\n",
       "      <td>1</td>\n",
       "      <td>1</td>\n",
       "      <td>1</td>\n",
       "      <td>0</td>\n",
       "      <td>0</td>\n",
       "    </tr>\n",
       "    <tr>\n",
       "      <td>1003</td>\n",
       "      <td>378</td>\n",
       "      <td>378</td>\n",
       "      <td>378</td>\n",
       "      <td>378</td>\n",
       "      <td>378</td>\n",
       "      <td>378</td>\n",
       "      <td>378</td>\n",
       "      <td>378</td>\n",
       "      <td>2</td>\n",
       "      <td>19</td>\n",
       "      <td>...</td>\n",
       "      <td>0</td>\n",
       "      <td>378</td>\n",
       "      <td>378</td>\n",
       "      <td>378</td>\n",
       "      <td>378</td>\n",
       "      <td>378</td>\n",
       "      <td>378</td>\n",
       "      <td>378</td>\n",
       "      <td>2</td>\n",
       "      <td>1</td>\n",
       "    </tr>\n",
       "    <tr>\n",
       "      <td>1003;1004</td>\n",
       "      <td>79</td>\n",
       "      <td>79</td>\n",
       "      <td>79</td>\n",
       "      <td>79</td>\n",
       "      <td>79</td>\n",
       "      <td>79</td>\n",
       "      <td>79</td>\n",
       "      <td>79</td>\n",
       "      <td>0</td>\n",
       "      <td>0</td>\n",
       "      <td>...</td>\n",
       "      <td>0</td>\n",
       "      <td>79</td>\n",
       "      <td>79</td>\n",
       "      <td>79</td>\n",
       "      <td>79</td>\n",
       "      <td>79</td>\n",
       "      <td>79</td>\n",
       "      <td>79</td>\n",
       "      <td>0</td>\n",
       "      <td>0</td>\n",
       "    </tr>\n",
       "    <tr>\n",
       "      <td>1005</td>\n",
       "      <td>25</td>\n",
       "      <td>25</td>\n",
       "      <td>25</td>\n",
       "      <td>25</td>\n",
       "      <td>25</td>\n",
       "      <td>25</td>\n",
       "      <td>25</td>\n",
       "      <td>25</td>\n",
       "      <td>0</td>\n",
       "      <td>0</td>\n",
       "      <td>...</td>\n",
       "      <td>0</td>\n",
       "      <td>25</td>\n",
       "      <td>25</td>\n",
       "      <td>25</td>\n",
       "      <td>25</td>\n",
       "      <td>25</td>\n",
       "      <td>25</td>\n",
       "      <td>25</td>\n",
       "      <td>0</td>\n",
       "      <td>0</td>\n",
       "    </tr>\n",
       "    <tr>\n",
       "      <td>1006</td>\n",
       "      <td>85</td>\n",
       "      <td>85</td>\n",
       "      <td>85</td>\n",
       "      <td>85</td>\n",
       "      <td>85</td>\n",
       "      <td>85</td>\n",
       "      <td>85</td>\n",
       "      <td>85</td>\n",
       "      <td>0</td>\n",
       "      <td>0</td>\n",
       "      <td>...</td>\n",
       "      <td>0</td>\n",
       "      <td>85</td>\n",
       "      <td>85</td>\n",
       "      <td>85</td>\n",
       "      <td>85</td>\n",
       "      <td>85</td>\n",
       "      <td>85</td>\n",
       "      <td>85</td>\n",
       "      <td>0</td>\n",
       "      <td>0</td>\n",
       "    </tr>\n",
       "    <tr>\n",
       "      <td>...</td>\n",
       "      <td>...</td>\n",
       "      <td>...</td>\n",
       "      <td>...</td>\n",
       "      <td>...</td>\n",
       "      <td>...</td>\n",
       "      <td>...</td>\n",
       "      <td>...</td>\n",
       "      <td>...</td>\n",
       "      <td>...</td>\n",
       "      <td>...</td>\n",
       "      <td>...</td>\n",
       "      <td>...</td>\n",
       "      <td>...</td>\n",
       "      <td>...</td>\n",
       "      <td>...</td>\n",
       "      <td>...</td>\n",
       "      <td>...</td>\n",
       "      <td>...</td>\n",
       "      <td>...</td>\n",
       "      <td>...</td>\n",
       "      <td>...</td>\n",
       "    </tr>\n",
       "    <tr>\n",
       "      <td>994</td>\n",
       "      <td>50</td>\n",
       "      <td>50</td>\n",
       "      <td>50</td>\n",
       "      <td>50</td>\n",
       "      <td>50</td>\n",
       "      <td>50</td>\n",
       "      <td>50</td>\n",
       "      <td>50</td>\n",
       "      <td>0</td>\n",
       "      <td>0</td>\n",
       "      <td>...</td>\n",
       "      <td>0</td>\n",
       "      <td>50</td>\n",
       "      <td>50</td>\n",
       "      <td>50</td>\n",
       "      <td>50</td>\n",
       "      <td>50</td>\n",
       "      <td>50</td>\n",
       "      <td>50</td>\n",
       "      <td>0</td>\n",
       "      <td>0</td>\n",
       "    </tr>\n",
       "    <tr>\n",
       "      <td>995</td>\n",
       "      <td>2</td>\n",
       "      <td>2</td>\n",
       "      <td>2</td>\n",
       "      <td>2</td>\n",
       "      <td>2</td>\n",
       "      <td>2</td>\n",
       "      <td>2</td>\n",
       "      <td>2</td>\n",
       "      <td>0</td>\n",
       "      <td>0</td>\n",
       "      <td>...</td>\n",
       "      <td>0</td>\n",
       "      <td>2</td>\n",
       "      <td>2</td>\n",
       "      <td>2</td>\n",
       "      <td>2</td>\n",
       "      <td>2</td>\n",
       "      <td>2</td>\n",
       "      <td>2</td>\n",
       "      <td>0</td>\n",
       "      <td>0</td>\n",
       "    </tr>\n",
       "    <tr>\n",
       "      <td>996</td>\n",
       "      <td>30</td>\n",
       "      <td>30</td>\n",
       "      <td>30</td>\n",
       "      <td>30</td>\n",
       "      <td>30</td>\n",
       "      <td>30</td>\n",
       "      <td>30</td>\n",
       "      <td>30</td>\n",
       "      <td>0</td>\n",
       "      <td>0</td>\n",
       "      <td>...</td>\n",
       "      <td>0</td>\n",
       "      <td>30</td>\n",
       "      <td>30</td>\n",
       "      <td>30</td>\n",
       "      <td>30</td>\n",
       "      <td>30</td>\n",
       "      <td>30</td>\n",
       "      <td>30</td>\n",
       "      <td>0</td>\n",
       "      <td>0</td>\n",
       "    </tr>\n",
       "    <tr>\n",
       "      <td>997</td>\n",
       "      <td>149</td>\n",
       "      <td>149</td>\n",
       "      <td>149</td>\n",
       "      <td>149</td>\n",
       "      <td>149</td>\n",
       "      <td>149</td>\n",
       "      <td>149</td>\n",
       "      <td>149</td>\n",
       "      <td>0</td>\n",
       "      <td>0</td>\n",
       "      <td>...</td>\n",
       "      <td>0</td>\n",
       "      <td>149</td>\n",
       "      <td>149</td>\n",
       "      <td>149</td>\n",
       "      <td>149</td>\n",
       "      <td>149</td>\n",
       "      <td>149</td>\n",
       "      <td>149</td>\n",
       "      <td>0</td>\n",
       "      <td>0</td>\n",
       "    </tr>\n",
       "    <tr>\n",
       "      <td>998</td>\n",
       "      <td>14</td>\n",
       "      <td>14</td>\n",
       "      <td>14</td>\n",
       "      <td>14</td>\n",
       "      <td>14</td>\n",
       "      <td>14</td>\n",
       "      <td>14</td>\n",
       "      <td>14</td>\n",
       "      <td>0</td>\n",
       "      <td>0</td>\n",
       "      <td>...</td>\n",
       "      <td>0</td>\n",
       "      <td>14</td>\n",
       "      <td>14</td>\n",
       "      <td>14</td>\n",
       "      <td>14</td>\n",
       "      <td>14</td>\n",
       "      <td>14</td>\n",
       "      <td>14</td>\n",
       "      <td>0</td>\n",
       "      <td>0</td>\n",
       "    </tr>\n",
       "  </tbody>\n",
       "</table>\n",
       "<p>4853 rows × 63 columns</p>\n",
       "</div>"
      ],
      "text/plain": [
       "                   Raw file  Scan number  Scan index  Sequence  Length  \\\n",
       "Protein group IDs                                                        \n",
       "1001                      1            1           1         1       1   \n",
       "1003                    378          378         378       378     378   \n",
       "1003;1004                79           79          79        79      79   \n",
       "1005                     25           25          25        25      25   \n",
       "1006                     85           85          85        85      85   \n",
       "...                     ...          ...         ...       ...     ...   \n",
       "994                      50           50          50        50      50   \n",
       "995                       2            2           2         2       2   \n",
       "996                      30           30          30        30      30   \n",
       "997                     149          149         149       149     149   \n",
       "998                      14           14          14        14      14   \n",
       "\n",
       "                   Missed cleavages  Modifications  Modified sequence  \\\n",
       "Protein group IDs                                                       \n",
       "1001                              1              1                  1   \n",
       "1003                            378            378                378   \n",
       "1003;1004                        79             79                 79   \n",
       "1005                             25             25                 25   \n",
       "1006                             85             85                 85   \n",
       "...                             ...            ...                ...   \n",
       "994                              50             50                 50   \n",
       "995                               2              2                  2   \n",
       "996                              30             30                 30   \n",
       "997                             149            149                149   \n",
       "998                              14             14                 14   \n",
       "\n",
       "                   Deamidation (NQ) Probabilities  \\\n",
       "Protein group IDs                                   \n",
       "1001                                            0   \n",
       "1003                                            2   \n",
       "1003;1004                                       0   \n",
       "1005                                            0   \n",
       "1006                                            0   \n",
       "...                                           ...   \n",
       "994                                             0   \n",
       "995                                             0   \n",
       "996                                             0   \n",
       "997                                             0   \n",
       "998                                             0   \n",
       "\n",
       "                   Oxidation (M) Probabilities  ...  Reverse  All scores  \\\n",
       "Protein group IDs                               ...                        \n",
       "1001                                         0  ...        0           1   \n",
       "1003                                        19  ...        0         378   \n",
       "1003;1004                                    0  ...        0          79   \n",
       "1005                                         0  ...        0          25   \n",
       "1006                                         0  ...        0          85   \n",
       "...                                        ...  ...      ...         ...   \n",
       "994                                          0  ...        0          50   \n",
       "995                                          0  ...        0           2   \n",
       "996                                          0  ...        0          30   \n",
       "997                                          0  ...        0         149   \n",
       "998                                          0  ...        0          14   \n",
       "\n",
       "                   All sequences  All modified sequences   id  Peptide ID  \\\n",
       "Protein group IDs                                                           \n",
       "1001                           1                       1    1           1   \n",
       "1003                         378                     378  378         378   \n",
       "1003;1004                     79                      79   79          79   \n",
       "1005                          25                      25   25          25   \n",
       "1006                          85                      85   85          85   \n",
       "...                          ...                     ...  ...         ...   \n",
       "994                           50                      50   50          50   \n",
       "995                            2                       2    2           2   \n",
       "996                           30                      30   30          30   \n",
       "997                          149                     149  149         149   \n",
       "998                           14                      14   14          14   \n",
       "\n",
       "                   Mod. peptide ID  Evidence ID  Deamidation (NQ) site IDs  \\\n",
       "Protein group IDs                                                            \n",
       "1001                             1            1                          0   \n",
       "1003                           378          378                          2   \n",
       "1003;1004                       79           79                          0   \n",
       "1005                            25           25                          0   \n",
       "1006                            85           85                          0   \n",
       "...                            ...          ...                        ...   \n",
       "994                             50           50                          0   \n",
       "995                              2            2                          0   \n",
       "996                             30           30                          0   \n",
       "997                            149          149                          0   \n",
       "998                             14           14                          0   \n",
       "\n",
       "                   Oxidation (M) site IDs  \n",
       "Protein group IDs                          \n",
       "1001                                    0  \n",
       "1003                                    1  \n",
       "1003;1004                               0  \n",
       "1005                                    0  \n",
       "1006                                    0  \n",
       "...                                   ...  \n",
       "994                                     0  \n",
       "995                                     0  \n",
       "996                                     0  \n",
       "997                                     0  \n",
       "998                                     0  \n",
       "\n",
       "[4853 rows x 63 columns]"
      ]
     },
     "execution_count": 49,
     "metadata": {},
     "output_type": "execute_result"
    }
   ],
   "source": [
    "#dfLS=df.groupby('Labeling State')\n",
    "#dfLS1=df[(df['Labeling State']==1)&(df['Raw file']=='160822_SILAC3_bleomycinH_Odrun_tech2')].groupby('Protein group IDs')\n",
    "dfLS1=df[(df['Labeling State']==1)&(df['Raw file'].str.contains('PCI'))&(df['Raw file'].str.contains('total'))].groupby('Protein group IDs')\n",
    "dfLS1.count()#describe()"
   ]
  },
  {
   "cell_type": "code",
   "execution_count": 50,
   "metadata": {
    "ExecuteTime": {
     "end_time": "2019-09-16T15:28:29.008731Z",
     "start_time": "2019-09-16T15:28:27.193543Z"
    }
   },
   "outputs": [
    {
     "data": {
      "text/html": [
       "<div>\n",
       "<style scoped>\n",
       "    .dataframe tbody tr th:only-of-type {\n",
       "        vertical-align: middle;\n",
       "    }\n",
       "\n",
       "    .dataframe tbody tr th {\n",
       "        vertical-align: top;\n",
       "    }\n",
       "\n",
       "    .dataframe thead th {\n",
       "        text-align: right;\n",
       "    }\n",
       "</style>\n",
       "<table border=\"1\" class=\"dataframe\">\n",
       "  <thead>\n",
       "    <tr style=\"text-align: right;\">\n",
       "      <th></th>\n",
       "      <th>Raw file</th>\n",
       "      <th>Scan number</th>\n",
       "      <th>Scan index</th>\n",
       "      <th>Sequence</th>\n",
       "      <th>Length</th>\n",
       "      <th>Missed cleavages</th>\n",
       "      <th>Modifications</th>\n",
       "      <th>Modified sequence</th>\n",
       "      <th>Deamidation (NQ) Probabilities</th>\n",
       "      <th>Oxidation (M) Probabilities</th>\n",
       "      <th>...</th>\n",
       "      <th>Reverse</th>\n",
       "      <th>All scores</th>\n",
       "      <th>All sequences</th>\n",
       "      <th>All modified sequences</th>\n",
       "      <th>id</th>\n",
       "      <th>Peptide ID</th>\n",
       "      <th>Mod. peptide ID</th>\n",
       "      <th>Evidence ID</th>\n",
       "      <th>Deamidation (NQ) site IDs</th>\n",
       "      <th>Oxidation (M) site IDs</th>\n",
       "    </tr>\n",
       "    <tr>\n",
       "      <th>Protein group IDs</th>\n",
       "      <th></th>\n",
       "      <th></th>\n",
       "      <th></th>\n",
       "      <th></th>\n",
       "      <th></th>\n",
       "      <th></th>\n",
       "      <th></th>\n",
       "      <th></th>\n",
       "      <th></th>\n",
       "      <th></th>\n",
       "      <th></th>\n",
       "      <th></th>\n",
       "      <th></th>\n",
       "      <th></th>\n",
       "      <th></th>\n",
       "      <th></th>\n",
       "      <th></th>\n",
       "      <th></th>\n",
       "      <th></th>\n",
       "      <th></th>\n",
       "      <th></th>\n",
       "    </tr>\n",
       "  </thead>\n",
       "  <tbody>\n",
       "    <tr>\n",
       "      <td>0</td>\n",
       "      <td>1</td>\n",
       "      <td>1</td>\n",
       "      <td>1</td>\n",
       "      <td>1</td>\n",
       "      <td>1</td>\n",
       "      <td>1</td>\n",
       "      <td>1</td>\n",
       "      <td>1</td>\n",
       "      <td>0</td>\n",
       "      <td>0</td>\n",
       "      <td>...</td>\n",
       "      <td>0</td>\n",
       "      <td>1</td>\n",
       "      <td>1</td>\n",
       "      <td>1</td>\n",
       "      <td>1</td>\n",
       "      <td>1</td>\n",
       "      <td>1</td>\n",
       "      <td>1</td>\n",
       "      <td>0</td>\n",
       "      <td>0</td>\n",
       "    </tr>\n",
       "    <tr>\n",
       "      <td>0;17;106</td>\n",
       "      <td>4</td>\n",
       "      <td>4</td>\n",
       "      <td>4</td>\n",
       "      <td>4</td>\n",
       "      <td>4</td>\n",
       "      <td>4</td>\n",
       "      <td>4</td>\n",
       "      <td>4</td>\n",
       "      <td>0</td>\n",
       "      <td>0</td>\n",
       "      <td>...</td>\n",
       "      <td>0</td>\n",
       "      <td>4</td>\n",
       "      <td>4</td>\n",
       "      <td>4</td>\n",
       "      <td>4</td>\n",
       "      <td>4</td>\n",
       "      <td>4</td>\n",
       "      <td>4</td>\n",
       "      <td>0</td>\n",
       "      <td>0</td>\n",
       "    </tr>\n",
       "    <tr>\n",
       "      <td>0;17;66;67;106;4795;16</td>\n",
       "      <td>3</td>\n",
       "      <td>3</td>\n",
       "      <td>3</td>\n",
       "      <td>3</td>\n",
       "      <td>3</td>\n",
       "      <td>3</td>\n",
       "      <td>3</td>\n",
       "      <td>3</td>\n",
       "      <td>0</td>\n",
       "      <td>1</td>\n",
       "      <td>...</td>\n",
       "      <td>0</td>\n",
       "      <td>3</td>\n",
       "      <td>3</td>\n",
       "      <td>3</td>\n",
       "      <td>3</td>\n",
       "      <td>3</td>\n",
       "      <td>3</td>\n",
       "      <td>3</td>\n",
       "      <td>0</td>\n",
       "      <td>0</td>\n",
       "    </tr>\n",
       "    <tr>\n",
       "      <td>0;17;67;106;4795;5409</td>\n",
       "      <td>4</td>\n",
       "      <td>4</td>\n",
       "      <td>4</td>\n",
       "      <td>4</td>\n",
       "      <td>4</td>\n",
       "      <td>4</td>\n",
       "      <td>4</td>\n",
       "      <td>4</td>\n",
       "      <td>0</td>\n",
       "      <td>0</td>\n",
       "      <td>...</td>\n",
       "      <td>0</td>\n",
       "      <td>4</td>\n",
       "      <td>4</td>\n",
       "      <td>4</td>\n",
       "      <td>4</td>\n",
       "      <td>4</td>\n",
       "      <td>4</td>\n",
       "      <td>4</td>\n",
       "      <td>0</td>\n",
       "      <td>0</td>\n",
       "    </tr>\n",
       "    <tr>\n",
       "      <td>0;66;67;86;106;4795;16</td>\n",
       "      <td>5</td>\n",
       "      <td>5</td>\n",
       "      <td>5</td>\n",
       "      <td>5</td>\n",
       "      <td>5</td>\n",
       "      <td>5</td>\n",
       "      <td>5</td>\n",
       "      <td>5</td>\n",
       "      <td>0</td>\n",
       "      <td>0</td>\n",
       "      <td>...</td>\n",
       "      <td>0</td>\n",
       "      <td>5</td>\n",
       "      <td>5</td>\n",
       "      <td>5</td>\n",
       "      <td>5</td>\n",
       "      <td>5</td>\n",
       "      <td>5</td>\n",
       "      <td>5</td>\n",
       "      <td>0</td>\n",
       "      <td>0</td>\n",
       "    </tr>\n",
       "    <tr>\n",
       "      <td>...</td>\n",
       "      <td>...</td>\n",
       "      <td>...</td>\n",
       "      <td>...</td>\n",
       "      <td>...</td>\n",
       "      <td>...</td>\n",
       "      <td>...</td>\n",
       "      <td>...</td>\n",
       "      <td>...</td>\n",
       "      <td>...</td>\n",
       "      <td>...</td>\n",
       "      <td>...</td>\n",
       "      <td>...</td>\n",
       "      <td>...</td>\n",
       "      <td>...</td>\n",
       "      <td>...</td>\n",
       "      <td>...</td>\n",
       "      <td>...</td>\n",
       "      <td>...</td>\n",
       "      <td>...</td>\n",
       "      <td>...</td>\n",
       "      <td>...</td>\n",
       "    </tr>\n",
       "    <tr>\n",
       "      <td>994</td>\n",
       "      <td>49</td>\n",
       "      <td>49</td>\n",
       "      <td>49</td>\n",
       "      <td>49</td>\n",
       "      <td>49</td>\n",
       "      <td>49</td>\n",
       "      <td>49</td>\n",
       "      <td>49</td>\n",
       "      <td>0</td>\n",
       "      <td>0</td>\n",
       "      <td>...</td>\n",
       "      <td>0</td>\n",
       "      <td>49</td>\n",
       "      <td>49</td>\n",
       "      <td>49</td>\n",
       "      <td>49</td>\n",
       "      <td>49</td>\n",
       "      <td>49</td>\n",
       "      <td>49</td>\n",
       "      <td>0</td>\n",
       "      <td>0</td>\n",
       "    </tr>\n",
       "    <tr>\n",
       "      <td>995</td>\n",
       "      <td>2</td>\n",
       "      <td>2</td>\n",
       "      <td>2</td>\n",
       "      <td>2</td>\n",
       "      <td>2</td>\n",
       "      <td>2</td>\n",
       "      <td>2</td>\n",
       "      <td>2</td>\n",
       "      <td>0</td>\n",
       "      <td>0</td>\n",
       "      <td>...</td>\n",
       "      <td>0</td>\n",
       "      <td>2</td>\n",
       "      <td>2</td>\n",
       "      <td>2</td>\n",
       "      <td>2</td>\n",
       "      <td>2</td>\n",
       "      <td>2</td>\n",
       "      <td>2</td>\n",
       "      <td>0</td>\n",
       "      <td>0</td>\n",
       "    </tr>\n",
       "    <tr>\n",
       "      <td>996</td>\n",
       "      <td>20</td>\n",
       "      <td>20</td>\n",
       "      <td>20</td>\n",
       "      <td>20</td>\n",
       "      <td>20</td>\n",
       "      <td>20</td>\n",
       "      <td>20</td>\n",
       "      <td>20</td>\n",
       "      <td>0</td>\n",
       "      <td>0</td>\n",
       "      <td>...</td>\n",
       "      <td>0</td>\n",
       "      <td>20</td>\n",
       "      <td>20</td>\n",
       "      <td>20</td>\n",
       "      <td>20</td>\n",
       "      <td>20</td>\n",
       "      <td>20</td>\n",
       "      <td>20</td>\n",
       "      <td>0</td>\n",
       "      <td>0</td>\n",
       "    </tr>\n",
       "    <tr>\n",
       "      <td>997</td>\n",
       "      <td>137</td>\n",
       "      <td>137</td>\n",
       "      <td>137</td>\n",
       "      <td>137</td>\n",
       "      <td>137</td>\n",
       "      <td>137</td>\n",
       "      <td>137</td>\n",
       "      <td>137</td>\n",
       "      <td>0</td>\n",
       "      <td>0</td>\n",
       "      <td>...</td>\n",
       "      <td>0</td>\n",
       "      <td>137</td>\n",
       "      <td>137</td>\n",
       "      <td>137</td>\n",
       "      <td>137</td>\n",
       "      <td>137</td>\n",
       "      <td>137</td>\n",
       "      <td>137</td>\n",
       "      <td>0</td>\n",
       "      <td>0</td>\n",
       "    </tr>\n",
       "    <tr>\n",
       "      <td>998</td>\n",
       "      <td>10</td>\n",
       "      <td>10</td>\n",
       "      <td>10</td>\n",
       "      <td>10</td>\n",
       "      <td>10</td>\n",
       "      <td>10</td>\n",
       "      <td>10</td>\n",
       "      <td>10</td>\n",
       "      <td>0</td>\n",
       "      <td>0</td>\n",
       "      <td>...</td>\n",
       "      <td>0</td>\n",
       "      <td>10</td>\n",
       "      <td>10</td>\n",
       "      <td>10</td>\n",
       "      <td>10</td>\n",
       "      <td>10</td>\n",
       "      <td>10</td>\n",
       "      <td>10</td>\n",
       "      <td>0</td>\n",
       "      <td>0</td>\n",
       "    </tr>\n",
       "  </tbody>\n",
       "</table>\n",
       "<p>4781 rows × 63 columns</p>\n",
       "</div>"
      ],
      "text/plain": [
       "                        Raw file  Scan number  Scan index  Sequence  Length  \\\n",
       "Protein group IDs                                                             \n",
       "0                              1            1           1         1       1   \n",
       "0;17;106                       4            4           4         4       4   \n",
       "0;17;66;67;106;4795;16         3            3           3         3       3   \n",
       "0;17;67;106;4795;5409          4            4           4         4       4   \n",
       "0;66;67;86;106;4795;16         5            5           5         5       5   \n",
       "...                          ...          ...         ...       ...     ...   \n",
       "994                           49           49          49        49      49   \n",
       "995                            2            2           2         2       2   \n",
       "996                           20           20          20        20      20   \n",
       "997                          137          137         137       137     137   \n",
       "998                           10           10          10        10      10   \n",
       "\n",
       "                        Missed cleavages  Modifications  Modified sequence  \\\n",
       "Protein group IDs                                                            \n",
       "0                                      1              1                  1   \n",
       "0;17;106                               4              4                  4   \n",
       "0;17;66;67;106;4795;16                 3              3                  3   \n",
       "0;17;67;106;4795;5409                  4              4                  4   \n",
       "0;66;67;86;106;4795;16                 5              5                  5   \n",
       "...                                  ...            ...                ...   \n",
       "994                                   49             49                 49   \n",
       "995                                    2              2                  2   \n",
       "996                                   20             20                 20   \n",
       "997                                  137            137                137   \n",
       "998                                   10             10                 10   \n",
       "\n",
       "                        Deamidation (NQ) Probabilities  \\\n",
       "Protein group IDs                                        \n",
       "0                                                    0   \n",
       "0;17;106                                             0   \n",
       "0;17;66;67;106;4795;16                               0   \n",
       "0;17;67;106;4795;5409                                0   \n",
       "0;66;67;86;106;4795;16                               0   \n",
       "...                                                ...   \n",
       "994                                                  0   \n",
       "995                                                  0   \n",
       "996                                                  0   \n",
       "997                                                  0   \n",
       "998                                                  0   \n",
       "\n",
       "                        Oxidation (M) Probabilities  ...  Reverse  All scores  \\\n",
       "Protein group IDs                                    ...                        \n",
       "0                                                 0  ...        0           1   \n",
       "0;17;106                                          0  ...        0           4   \n",
       "0;17;66;67;106;4795;16                            1  ...        0           3   \n",
       "0;17;67;106;4795;5409                             0  ...        0           4   \n",
       "0;66;67;86;106;4795;16                            0  ...        0           5   \n",
       "...                                             ...  ...      ...         ...   \n",
       "994                                               0  ...        0          49   \n",
       "995                                               0  ...        0           2   \n",
       "996                                               0  ...        0          20   \n",
       "997                                               0  ...        0         137   \n",
       "998                                               0  ...        0          10   \n",
       "\n",
       "                        All sequences  All modified sequences   id  \\\n",
       "Protein group IDs                                                    \n",
       "0                                   1                       1    1   \n",
       "0;17;106                            4                       4    4   \n",
       "0;17;66;67;106;4795;16              3                       3    3   \n",
       "0;17;67;106;4795;5409               4                       4    4   \n",
       "0;66;67;86;106;4795;16              5                       5    5   \n",
       "...                               ...                     ...  ...   \n",
       "994                                49                      49   49   \n",
       "995                                 2                       2    2   \n",
       "996                                20                      20   20   \n",
       "997                               137                     137  137   \n",
       "998                                10                      10   10   \n",
       "\n",
       "                        Peptide ID  Mod. peptide ID  Evidence ID  \\\n",
       "Protein group IDs                                                  \n",
       "0                                1                1            1   \n",
       "0;17;106                         4                4            4   \n",
       "0;17;66;67;106;4795;16           3                3            3   \n",
       "0;17;67;106;4795;5409            4                4            4   \n",
       "0;66;67;86;106;4795;16           5                5            5   \n",
       "...                            ...              ...          ...   \n",
       "994                             49               49           49   \n",
       "995                              2                2            2   \n",
       "996                             20               20           20   \n",
       "997                            137              137          137   \n",
       "998                             10               10           10   \n",
       "\n",
       "                        Deamidation (NQ) site IDs  Oxidation (M) site IDs  \n",
       "Protein group IDs                                                          \n",
       "0                                               0                       0  \n",
       "0;17;106                                        0                       0  \n",
       "0;17;66;67;106;4795;16                          0                       0  \n",
       "0;17;67;106;4795;5409                           0                       0  \n",
       "0;66;67;86;106;4795;16                          0                       0  \n",
       "...                                           ...                     ...  \n",
       "994                                             0                       0  \n",
       "995                                             0                       0  \n",
       "996                                             0                       0  \n",
       "997                                             0                       0  \n",
       "998                                             0                       0  \n",
       "\n",
       "[4781 rows x 63 columns]"
      ]
     },
     "execution_count": 50,
     "metadata": {},
     "output_type": "execute_result"
    }
   ],
   "source": [
    "dfLS2=df[(df['Labeling State']!=1)&(df['Raw file'].str.contains('PCI'))&(df['Raw file'].str.contains('total'))].groupby('Protein group IDs')\n",
    "dfLS2.count()#describe()"
   ]
  },
  {
   "cell_type": "code",
   "execution_count": null,
   "metadata": {
    "ExecuteTime": {
     "end_time": "2019-09-16T13:01:35.534888Z",
     "start_time": "2019-09-16T13:01:34.372579Z"
    }
   },
   "outputs": [],
   "source": [
    "dfLS1RF=dfLS1#.groupby('Raw file')\n",
    "#dfLS1RF=dfLS1[dfLS1['Labeling State']!=1]#.groupby('Raw file')\n",
    "dfLS1RF.count()\n",
    "#dfLSP=dfLS['Proteins'].value_counts()"
   ]
  },
  {
   "cell_type": "code",
   "execution_count": null,
   "metadata": {
    "ExecuteTime": {
     "end_time": "2019-09-16T12:50:54.021166Z",
     "start_time": "2019-09-16T12:50:54.013323Z"
    }
   },
   "outputs": [],
   "source": [
    "dfLSP.unique"
   ]
  },
  {
   "cell_type": "code",
   "execution_count": null,
   "metadata": {
    "ExecuteTime": {
     "end_time": "2019-09-16T09:09:09.145318Z",
     "start_time": "2019-09-16T09:09:01.352632Z"
    }
   },
   "outputs": [],
   "source": [
    "import vaex\n",
    "ds = vaex.from_pandas(df)\n",
    "xcounts = ds.count()\n",
    "print(xcounts)"
   ]
  },
  {
   "cell_type": "code",
   "execution_count": null,
   "metadata": {
    "ExecuteTime": {
     "end_time": "2019-09-16T09:09:24.977598Z",
     "start_time": "2019-09-16T09:09:24.966933Z"
    }
   },
   "outputs": [],
   "source": [
    "#df.isnull().sum().sort_index()/len(df)\n",
    "ds.count()#.sort_index()/len(ds)"
   ]
  },
  {
   "cell_type": "code",
   "execution_count": null,
   "metadata": {
    "ExecuteTime": {
     "end_time": "2019-09-16T09:09:47.991072Z",
     "start_time": "2019-09-16T09:09:47.943135Z"
    }
   },
   "outputs": [],
   "source": [
    "ds.Proteins.count()"
   ]
  },
  {
   "cell_type": "code",
   "execution_count": null,
   "metadata": {
    "ExecuteTime": {
     "end_time": "2019-09-12T12:36:02.315379Z",
     "start_time": "2019-09-12T12:36:02.312610Z"
    }
   },
   "outputs": [],
   "source": [
    "#display(df.head().transpose())"
   ]
  },
  {
   "cell_type": "code",
   "execution_count": null,
   "metadata": {
    "ExecuteTime": {
     "end_time": "2019-09-03T08:29:43.313237Z",
     "start_time": "2019-09-03T08:29:43.033893Z"
    }
   },
   "outputs": [],
   "source": [
    "import numpy as np\n",
    "#df['Ratio H/L normalized 161205_1_19913'].apply(np.log2).hist()\n",
    "(df['LFQ intensity L 161205_1_19913']+1).apply(np.log2).hist()"
   ]
  },
  {
   "cell_type": "code",
   "execution_count": null,
   "metadata": {
    "ExecuteTime": {
     "end_time": "2019-09-03T08:29:43.319730Z",
     "start_time": "2019-09-03T08:29:43.315532Z"
    }
   },
   "outputs": [],
   "source": [
    "df.columns"
   ]
  },
  {
   "cell_type": "code",
   "execution_count": null,
   "metadata": {
    "ExecuteTime": {
     "end_time": "2019-09-12T11:20:29.243001Z",
     "start_time": "2019-09-12T11:20:29.159571Z"
    }
   },
   "outputs": [],
   "source": [
    "from ipywidgets import interact, interactive, fixed, interact_manual\n",
    "\n",
    "def select_subject(subID):\n",
    "    df_filtered= df[subID]\n",
    "    ax = df_filtered.apply(np.log2).hist(color=\"orange\")\n",
    "\n",
    "subject = df.columns\n",
    "interact(select_subject, subID=subject)"
   ]
  },
  {
   "cell_type": "code",
   "execution_count": null,
   "metadata": {
    "ExecuteTime": {
     "end_time": "2019-09-12T12:38:14.524675Z",
     "start_time": "2019-09-12T12:38:14.497425Z"
    }
   },
   "outputs": [],
   "source": [
    "df.head()"
   ]
  },
  {
   "cell_type": "code",
   "execution_count": null,
   "metadata": {
    "ExecuteTime": {
     "end_time": "2019-09-12T11:21:25.942946Z",
     "start_time": "2019-09-12T11:21:25.928537Z"
    }
   },
   "outputs": [],
   "source": [
    "df[\"Uniprot\"]= df[\"Protein IDs\"].str.split('|').str[1]"
   ]
  },
  {
   "cell_type": "code",
   "execution_count": null,
   "metadata": {
    "ExecuteTime": {
     "end_time": "2019-09-12T11:21:27.222398Z",
     "start_time": "2019-09-12T11:21:27.216879Z"
    }
   },
   "outputs": [],
   "source": [
    "df[\"Uniprot\"]"
   ]
  },
  {
   "cell_type": "code",
   "execution_count": null,
   "metadata": {
    "ExecuteTime": {
     "end_time": "2019-09-12T11:22:54.302178Z",
     "start_time": "2019-09-12T11:22:54.267616Z"
    }
   },
   "outputs": [],
   "source": [
    "df.iloc[[5205]]"
   ]
  },
  {
   "cell_type": "code",
   "execution_count": null,
   "metadata": {
    "ExecuteTime": {
     "end_time": "2019-09-12T11:23:22.474421Z",
     "start_time": "2019-09-12T11:23:22.428950Z"
    }
   },
   "outputs": [],
   "source": [
    "df_filtered=df[df['Uniprot']==\"V9GYF8\"]\n",
    "#df_filtered=df_filtered[df_filtered.columns[df_filtered.columns.str.startswith(\"Ratio H/L normalized \")]]\n",
    "df_filtered=df_filtered[df_filtered.columns[df_filtered.columns.str.startswith(\"LFQ intensity L \")]]+1\n",
    "df_filtered.apply(np.log2).transpose()#.hist(color=\"red\")"
   ]
  },
  {
   "cell_type": "code",
   "execution_count": null,
   "metadata": {
    "ExecuteTime": {
     "end_time": "2019-09-12T11:24:11.882999Z",
     "start_time": "2019-09-12T11:24:11.476099Z"
    }
   },
   "outputs": [],
   "source": [
    "import numpy as np\n",
    "def select_uniprot(protID,ratioID):\n",
    "    df_filtered= df[df['Uniprot']==protID]\n",
    "    df_filtered=df_filtered[df_filtered.columns[df_filtered.columns.str.startswith(ratioID)]]\n",
    "    ax = df_filtered.apply(np.log2).transpose().hist(color=\"brown\")\n",
    "\n",
    "uniprot = df['Uniprot']\n",
    "ratio = \"Ratio H/L normalized \"\n",
    "interact(select_uniprot, protID=uniprot, ratioID=ratio)"
   ]
  },
  {
   "cell_type": "code",
   "execution_count": null,
   "metadata": {
    "ExecuteTime": {
     "end_time": "2019-09-03T08:29:43.852201Z",
     "start_time": "2019-09-03T08:29:43.817963Z"
    }
   },
   "outputs": [],
   "source": [
    "ratio = \"LFQ intensity L \"\n",
    "df_filtered=df[df.columns[df.columns.str.startswith(ratio)]]\n",
    "df_filtered.columns=df_filtered.columns.str.replace(ratio,'')\n",
    "df_filtered.columns=df_filtered.columns.str.replace('161205_','')\n",
    "df_filtered.index = df['Protein IDs']\n",
    "df_filtered=df_filtered.transpose()\n",
    "df_filtered.head()"
   ]
  },
  {
   "cell_type": "code",
   "execution_count": null,
   "metadata": {
    "ExecuteTime": {
     "end_time": "2019-09-03T08:29:47.485546Z",
     "start_time": "2019-09-03T08:29:43.854016Z"
    }
   },
   "outputs": [],
   "source": [
    "subjects = pd.read_csv('https://docs.google.com/spreadsheets/d/'+'103ZjypVTJtDLgu-svyo6bdeeNo9392olmfuXJA_xhRs'+'/export?gid=0&format=csv', index_col=0 )\n",
    "subjects.head()"
   ]
  },
  {
   "cell_type": "code",
   "execution_count": null,
   "metadata": {
    "ExecuteTime": {
     "end_time": "2019-09-03T08:29:47.490151Z",
     "start_time": "2019-09-03T08:29:47.487484Z"
    }
   },
   "outputs": [],
   "source": [
    "df_filtered.index.name=\"Name\""
   ]
  },
  {
   "cell_type": "code",
   "execution_count": null,
   "metadata": {
    "ExecuteTime": {
     "end_time": "2019-09-03T08:29:47.512951Z",
     "start_time": "2019-09-03T08:29:47.494104Z"
    }
   },
   "outputs": [],
   "source": [
    "df_filtered=pd.merge(subjects,df_filtered,how='right', on='Name')"
   ]
  },
  {
   "cell_type": "code",
   "execution_count": null,
   "metadata": {
    "ExecuteTime": {
     "end_time": "2019-09-03T08:29:49.017758Z",
     "start_time": "2019-09-03T08:29:47.515300Z"
    }
   },
   "outputs": [],
   "source": [
    "uniprots = pd.read_csv('https://docs.google.com/spreadsheets/d/'+'1U0IXQpjpN3Jhi9GRACCILMBJlTltnTssHxQuoNVD7Ac'+'/export?gid=0&format=csv')\n",
    "uniprots.head(10)"
   ]
  },
  {
   "cell_type": "code",
   "execution_count": null,
   "metadata": {
    "ExecuteTime": {
     "end_time": "2019-09-03T08:29:49.023640Z",
     "start_time": "2019-09-03T08:29:49.019665Z"
    }
   },
   "outputs": [],
   "source": [
    "df_filtered.columns"
   ]
  },
  {
   "cell_type": "code",
   "execution_count": null,
   "metadata": {
    "ExecuteTime": {
     "end_time": "2019-09-03T08:29:49.120976Z",
     "start_time": "2019-09-03T08:29:49.025439Z"
    }
   },
   "outputs": [],
   "source": [
    "protn='HenrikRank'\n",
    "protN=uniprots[protn].dropna()\n",
    "protN"
   ]
  },
  {
   "cell_type": "code",
   "execution_count": null,
   "metadata": {
    "ExecuteTime": {
     "end_time": "2019-09-03T08:29:49.136603Z",
     "start_time": "2019-09-03T08:29:49.122805Z"
    }
   },
   "outputs": [],
   "source": [
    "df_filtered[df_filtered.columns.intersection(protN)].isnull().sum().sort_index()/len(df_filtered)"
   ]
  },
  {
   "cell_type": "code",
   "execution_count": null,
   "metadata": {
    "ExecuteTime": {
     "end_time": "2019-09-03T08:29:49.249565Z",
     "start_time": "2019-09-03T08:29:49.138462Z"
    }
   },
   "outputs": [],
   "source": [
    "df_filtered.filter(regex=('|'.join(protN)))"
   ]
  },
  {
   "cell_type": "code",
   "execution_count": null,
   "metadata": {
    "ExecuteTime": {
     "end_time": "2019-09-03T08:29:49.365763Z",
     "start_time": "2019-09-03T08:29:49.251326Z"
    }
   },
   "outputs": [],
   "source": [
    "#df_filtered_log2=df_filtered.filter(regex=('|'.join(protN))).fillna(1).apply(np.log2)\n",
    "df_filtered_log2=(df_filtered.filter(regex=('|'.join(protN)))+1).apply(np.log2)\n",
    "df_filtered_log2=pd.merge(subjects,df_filtered_log2,how='right', on='Name')"
   ]
  },
  {
   "cell_type": "code",
   "execution_count": null,
   "metadata": {
    "ExecuteTime": {
     "end_time": "2019-09-03T08:29:49.373745Z",
     "start_time": "2019-09-03T08:29:49.367702Z"
    }
   },
   "outputs": [],
   "source": [
    "labelN='Group27'\n",
    "df_filtered_log2[labelN].fillna('None',inplace=True)\n",
    "df_filtered_log2[labelN]"
   ]
  },
  {
   "cell_type": "code",
   "execution_count": null,
   "metadata": {
    "ExecuteTime": {
     "end_time": "2019-09-03T08:29:49.386320Z",
     "start_time": "2019-09-03T08:29:49.375457Z"
    }
   },
   "outputs": [],
   "source": [
    "#https://itsvenu.github.io/post/brca-random-forests/\n",
    "df_filtered_log2_TIT=df_filtered_log2[df_filtered_log2[labelN]!=None]#[:,df_filtered_log2[labelN]=='None']"
   ]
  },
  {
   "cell_type": "code",
   "execution_count": null,
   "metadata": {
    "ExecuteTime": {
     "end_time": "2019-09-03T08:29:49.989407Z",
     "start_time": "2019-09-03T08:29:49.388143Z"
    }
   },
   "outputs": [],
   "source": [
    "from sklearn.ensemble import RandomForestClassifier\n",
    "from sklearn.model_selection import train_test_split"
   ]
  },
  {
   "cell_type": "code",
   "execution_count": null,
   "metadata": {
    "ExecuteTime": {
     "end_time": "2019-09-03T08:29:49.998079Z",
     "start_time": "2019-09-03T08:29:49.992144Z"
    }
   },
   "outputs": [],
   "source": [
    "outcome_label = np.where(df_filtered_log2_TIT[labelN] == 'T', 1, 0)\n",
    "outcome_label.sum()"
   ]
  },
  {
   "cell_type": "code",
   "execution_count": null,
   "metadata": {
    "ExecuteTime": {
     "end_time": "2019-09-03T08:29:50.010541Z",
     "start_time": "2019-09-03T08:29:49.999807Z"
    }
   },
   "outputs": [],
   "source": [
    "features = df_filtered_log2_TIT.columns[5:]\n",
    "features"
   ]
  },
  {
   "cell_type": "code",
   "execution_count": null,
   "metadata": {
    "ExecuteTime": {
     "end_time": "2019-09-03T08:29:50.276486Z",
     "start_time": "2019-09-03T08:29:50.012296Z"
    }
   },
   "outputs": [],
   "source": [
    "lym_clf = RandomForestClassifier(n_jobs=2, random_state=0, n_estimators=100)\n",
    "lym_clf.fit(df_filtered_log2_TIT[features], outcome_label)"
   ]
  },
  {
   "cell_type": "code",
   "execution_count": null,
   "metadata": {
    "ExecuteTime": {
     "end_time": "2019-09-03T08:33:24.100727Z",
     "start_time": "2019-09-03T08:33:23.889920Z"
    }
   },
   "outputs": [],
   "source": [
    "lym_clf.feature_importances_\n",
    "feat_importances = pd.Series(lym_clf.feature_importances_, index=df_filtered_log2_TIT.columns[5:])\n",
    "feat_importances#.head()"
   ]
  },
  {
   "cell_type": "code",
   "execution_count": null,
   "metadata": {
    "ExecuteTime": {
     "end_time": "2019-09-03T08:33:29.704159Z",
     "start_time": "2019-09-03T08:33:29.339470Z"
    }
   },
   "outputs": [],
   "source": [
    "import matplotlib.pyplot as plt\n",
    "plt.figure(figsize = (9,5))\n",
    "feat_importances.nlargest(10).plot(kind='barh', color='black')\n",
    "plt.title(\"Feature importance\")\n",
    "plt.ylabel(\"Measured feature\")\n",
    "plt.xlabel(\"importance score\")\n",
    "#https://www.uniprot.org/uniprot/Q96KP4"
   ]
  },
  {
   "cell_type": "code",
   "execution_count": null,
   "metadata": {
    "ExecuteTime": {
     "end_time": "2019-09-03T09:07:49.085853Z",
     "start_time": "2019-09-03T09:07:49.079391Z"
    }
   },
   "outputs": [],
   "source": [
    "from sklearn.tree import export_graphviz\n",
    "from subprocess import call\n",
    "train_labels = df_filtered_log2_TIT[labelN].unique()\n",
    "def select_tree(tree):\n",
    "    estimator = lym_clf.estimators_[tree]\n",
    "    export_graphviz(estimator, out_file='tree.dot', \n",
    "                feature_names = features,\n",
    "                class_names = train_labels,\n",
    "                rounded = True, proportion = False, \n",
    "                precision = 2, filled = True)"
   ]
  },
  {
   "cell_type": "code",
   "execution_count": null,
   "metadata": {
    "ExecuteTime": {
     "end_time": "2019-09-03T09:08:23.429962Z",
     "start_time": "2019-09-03T09:08:23.411344Z"
    }
   },
   "outputs": [],
   "source": [
    "from sklearn.tree import export_graphviz\n",
    "train_labels = df_filtered_log2_TIT[labelN].unique()\n",
    "## randomly chose tree-9 to plot\n",
    "estimator = lym_clf.estimators_[100]\n",
    "# Export as dot file\n",
    "export_graphviz(estimator, out_file='tree.dot', \n",
    "                feature_names = features,\n",
    "                class_names = train_labels,\n",
    "                rounded = True, proportion = False, \n",
    "                precision = 2, filled = True)\n",
    "# Convert to png using system command (requires Graphviz)\n",
    "from subprocess import call\n",
    "call(['dot', '-Tpng', 'tree.dot', '-o', 'tree.png', '-Gdpi=600'])\n",
    "from IPython.display import Image\n",
    "Image(filename = 'tree.png')"
   ]
  },
  {
   "cell_type": "code",
   "execution_count": null,
   "metadata": {
    "ExecuteTime": {
     "end_time": "2019-09-03T09:10:42.145531Z",
     "start_time": "2019-09-03T09:10:39.878516Z"
    }
   },
   "outputs": [],
   "source": [
    "tree = len(lym_clf.estimators_)-1\n",
    "#tree\n",
    "interact(select_tree, tree=tree)\n",
    "from IPython.display import Image\n",
    "call(['dot', '-Tpng', 'tree.dot', '-o', 'tree.png', '-Gdpi=600'])\n",
    "Image(filename = 'tree.png')"
   ]
  },
  {
   "cell_type": "code",
   "execution_count": null,
   "metadata": {
    "ExecuteTime": {
     "end_time": "2019-09-02T15:30:33.419661Z",
     "start_time": "2019-09-02T15:30:33.417302Z"
    }
   },
   "outputs": [],
   "source": [
    "#import seaborn as sb\n",
    "#sbp=sb.pairplot(df_filtered_log2,hue=labelN)"
   ]
  },
  {
   "cell_type": "code",
   "execution_count": null,
   "metadata": {
    "ExecuteTime": {
     "end_time": "2019-09-02T15:30:37.371325Z",
     "start_time": "2019-09-02T15:30:36.810787Z"
    }
   },
   "outputs": [],
   "source": [
    "import seaborn as sb\n",
    "def select_uniprot(protID1,protID2,lab):\n",
    "    #ax = sb.pointplot(protID1,protID2,hue=lab,join=False,dodge=True, data=df_filtered_log2)\n",
    "    ax = sb.scatterplot(protID1,protID2,hue=lab,alpha=0.5,data=df_filtered_log2)\n",
    "uniprot1 = df_filtered_log2.columns\n",
    "uniprot2 = df_filtered_log2.columns\n",
    "label = df_filtered_log2.columns\n",
    "interact(select_uniprot, protID1=uniprot1, protID2=uniprot2,lab=label)"
   ]
  },
  {
   "cell_type": "code",
   "execution_count": null,
   "metadata": {
    "ExecuteTime": {
     "start_time": "2019-09-02T14:42:22.687Z"
    },
    "scrolled": true
   },
   "outputs": [],
   "source": [
    "#sbp.savefig(home/inpD/\".\".join([protn,labelN,\"output.svg\"]))\n",
    "uniprot2='O95396'\n",
    "#uniprot2='G3V1B8;H0YEB6;O60232;E9PN57;H0YEK1'\n",
    "#uniprot2='P17066;P48741'\n",
    "#uniprot2='A0A087X0I3;B4E3Q4;Q9NZK5'\n",
    "uniprot1='Q9H2P9'\n",
    "#uniprot2='Q9H2P9'\n",
    "#ax = sb.pointplot(uniprot1,uniprot2,hue=labelN,join=False,dodge=True, data=df_filtered_log2)\n",
    "ax = sb.lmplot(uniprot1,uniprot2, x_jitter=1, y_jitter=1,hue=labelN,scatter_kws={'s':6},height=8.27, aspect=11.7/8.27,data=df_filtered_log2)\n",
    "fig = ax#.get_figure() \n",
    "fig.savefig(home/inpD/\".\".join([uniprot1,uniprot2,labelN,ratio,\"output.svg\"]))"
   ]
  },
  {
   "cell_type": "code",
   "execution_count": null,
   "metadata": {
    "ExecuteTime": {
     "start_time": "2019-09-02T14:42:22.689Z"
    }
   },
   "outputs": [],
   "source": [
    "df_filtered_log2.describe(include='all').T"
   ]
  },
  {
   "cell_type": "code",
   "execution_count": null,
   "metadata": {
    "ExecuteTime": {
     "start_time": "2019-09-02T14:42:22.691Z"
    }
   },
   "outputs": [],
   "source": [
    "#https://nbviewer.jupyter.org/github/noklam/SHAP_Exploration/blob/master/Tree%20model%20interpreation%20with%20SHAP.ipynb\n",
    "#!pip install git+https://github.com/fastai/fastai"
   ]
  },
  {
   "cell_type": "code",
   "execution_count": null,
   "metadata": {
    "ExecuteTime": {
     "start_time": "2019-09-02T14:42:22.693Z"
    }
   },
   "outputs": [],
   "source": [
    "!pip install fastai==0.7.0  #https://forums.fast.ai/t/no-module-named-fastai-structured-google-colab/23820/2"
   ]
  },
  {
   "cell_type": "code",
   "execution_count": null,
   "metadata": {
    "ExecuteTime": {
     "start_time": "2019-09-02T14:42:22.694Z"
    }
   },
   "outputs": [],
   "source": [
    "import torch\n",
    "Device = torch.device(\"cuda:0\" if torch.cuda.is_available() else \"cpu\")\n",
    "torch.cuda.set_device(Device)\n",
    "print(Device)"
   ]
  },
  {
   "cell_type": "code",
   "execution_count": null,
   "metadata": {
    "ExecuteTime": {
     "start_time": "2019-09-02T14:42:22.696Z"
    }
   },
   "outputs": [],
   "source": [
    "from fastai.imports import *\n",
    "from fastai.structured import *\n",
    "from pandas_summary import DataFrameSummary\n",
    "from sklearn.ensemble import RandomForestRegressor, RandomForestClassifier\n",
    "from IPython.display import display\n",
    "from sklearn import metrics"
   ]
  },
  {
   "cell_type": "code",
   "execution_count": null,
   "metadata": {
    "ExecuteTime": {
     "start_time": "2019-09-02T14:42:22.698Z"
    }
   },
   "outputs": [],
   "source": [
    "def rmse(x,y): return math.sqrt(((x-y)**2).mean())\n",
    "def print_score(m):\n",
    "    res = [rmse(m.predict(X_train), y_train), rmse(m.predict(X_valid), y_valid),\n",
    "                m.score(X_train, y_train), m.score(X_valid, y_valid)]\n",
    "    if hasattr(m, 'oob_score_'): res.append(m.oob_score_)\n",
    "    print(res)"
   ]
  },
  {
   "cell_type": "code",
   "execution_count": null,
   "metadata": {
    "ExecuteTime": {
     "end_time": "2019-09-02T15:30:55.479647Z",
     "start_time": "2019-09-02T15:30:55.475376Z"
    }
   },
   "outputs": [],
   "source": [
    "def rf_feat_importance(m, df):\n",
    "    return pd.DataFrame({'cols':df.columns, 'imp':m.feature_importances_, 'std':np.std([tree.feature_importances_ for tree in m.estimators_],axis=0)}).sort_values('imp', ascending=False)"
   ]
  },
  {
   "cell_type": "code",
   "execution_count": null,
   "metadata": {
    "ExecuteTime": {
     "end_time": "2019-09-02T15:30:56.924070Z",
     "start_time": "2019-09-02T15:30:56.919255Z"
    }
   },
   "outputs": [],
   "source": [
    "def plot_fi(fi,std=True, feature_importance_type=''):\n",
    "    if std: \n",
    "        ax = fi.plot('cols', 'imp', 'barh', figsize=(12,7), legend=False, xerr='std')\n",
    "    else:\n",
    "        ax = fi.plot('cols', 'imp', 'barh', figsize=(12,7), legend=False)\n",
    "    ax.set_xlabel(f\"{feature_importance_type} Feature Importance\")\n",
    "    return ax"
   ]
  },
  {
   "cell_type": "code",
   "execution_count": null,
   "metadata": {
    "ExecuteTime": {
     "end_time": "2019-09-02T15:30:58.190843Z",
     "start_time": "2019-09-02T15:30:58.186200Z"
    }
   },
   "outputs": [],
   "source": [
    "from sklearn import preprocessing\n",
    "preprocessing.LabelEncoder().fit_transform(df_filtered_log2['Group27'])"
   ]
  },
  {
   "cell_type": "code",
   "execution_count": null,
   "metadata": {
    "ExecuteTime": {
     "end_time": "2019-09-02T15:30:59.567599Z",
     "start_time": "2019-09-02T15:30:59.498098Z"
    }
   },
   "outputs": [],
   "source": [
    "#set_rf_samples(5)\n",
    "m = RandomForestClassifier()#n_estimators=3, min_samples_leaf=3, max_features=0.5, n_jobs=-1, oob_score=True)\n",
    "X_train, y_train = df_filtered.filter(regex=('|'.join(protN))).fillna(1).apply(np.log2), preprocessing.LabelEncoder().fit_transform(df_filtered_log2['Group27'])\n",
    "m.fit(X_train, y_train )"
   ]
  },
  {
   "cell_type": "code",
   "execution_count": null,
   "metadata": {
    "ExecuteTime": {
     "start_time": "2019-09-02T14:42:22.707Z"
    }
   },
   "outputs": [],
   "source": [
    "X_valid=X_train\n",
    "y_valid=y_train\n",
    "print_score(m)"
   ]
  },
  {
   "cell_type": "code",
   "execution_count": null,
   "metadata": {
    "ExecuteTime": {
     "start_time": "2019-09-02T14:42:22.709Z"
    }
   },
   "outputs": [],
   "source": [
    "n = 3\n",
    "sample_idx = np.random.permutation(len(X_valid))[:n]\n",
    "X_valid_sample = X_valid.iloc[sample_idx].copy()\n",
    "y_valid_sample = y_valid[sample_idx].copy()\n",
    "X_valid_sample.shape, y_valid_sample.shape"
   ]
  },
  {
   "cell_type": "code",
   "execution_count": null,
   "metadata": {
    "ExecuteTime": {
     "start_time": "2019-09-02T14:42:22.711Z"
    }
   },
   "outputs": [],
   "source": [
    "fi_sklearn = rf_feat_importance(m, X_valid_sample); fi_sklearn[:10]"
   ]
  },
  {
   "cell_type": "code",
   "execution_count": null,
   "metadata": {
    "ExecuteTime": {
     "start_time": "2019-09-02T14:42:22.712Z"
    }
   },
   "outputs": [],
   "source": [
    "plot_fi(fi_sklearn[:],False, 'Sklearn');"
   ]
  },
  {
   "cell_type": "code",
   "execution_count": null,
   "metadata": {
    "ExecuteTime": {
     "start_time": "2019-09-02T14:42:22.714Z"
    }
   },
   "outputs": [],
   "source": [
    "!pip install rfpimp"
   ]
  },
  {
   "cell_type": "code",
   "execution_count": null,
   "metadata": {
    "ExecuteTime": {
     "start_time": "2019-09-02T14:42:22.715Z"
    }
   },
   "outputs": [],
   "source": [
    "from rfpimp import importances\n",
    "fi_permutation = importances(m, X_valid_sample, y_valid_sample) # permutation"
   ]
  },
  {
   "cell_type": "code",
   "execution_count": null,
   "metadata": {
    "ExecuteTime": {
     "start_time": "2019-09-02T14:42:22.717Z"
    }
   },
   "outputs": [],
   "source": [
    "fi_permutation.sum()"
   ]
  },
  {
   "cell_type": "code",
   "execution_count": null,
   "metadata": {
    "ExecuteTime": {
     "start_time": "2019-09-02T14:42:22.719Z"
    }
   },
   "outputs": [],
   "source": [
    "fi_permutation['Importance'] = fi_permutation['Importance']/ fi_permutation['Importance'].sum()"
   ]
  },
  {
   "cell_type": "code",
   "execution_count": null,
   "metadata": {
    "ExecuteTime": {
     "start_time": "2019-09-02T14:42:22.720Z"
    }
   },
   "outputs": [],
   "source": [
    "fi_permutation = (fi_permutation\n",
    "                  .reset_index()\n",
    "                  .rename({'Feature':'cols', 'Importance':'imp'},axis=1))"
   ]
  },
  {
   "cell_type": "code",
   "execution_count": null,
   "metadata": {
    "ExecuteTime": {
     "start_time": "2019-09-02T14:42:22.722Z"
    }
   },
   "outputs": [],
   "source": [
    "plot_fi(fi_permutation[:],False,'Permutation')"
   ]
  },
  {
   "cell_type": "code",
   "execution_count": null,
   "metadata": {
    "ExecuteTime": {
     "start_time": "2019-09-02T14:42:22.723Z"
    }
   },
   "outputs": [],
   "source": [
    "explainer = shap.TreeExplainer(m)\n",
    "shap_values = explainer.shap_values(X_valid_sample.values.astype(int))\n",
    "explainer.expected_value"
   ]
  },
  {
   "cell_type": "code",
   "execution_count": null,
   "metadata": {
    "ExecuteTime": {
     "start_time": "2019-09-02T14:42:22.725Z"
    }
   },
   "outputs": [],
   "source": [
    "%%perl\n",
    "open(F,\"proteinGroupsSILACmedianInverted.txt\");\n",
    "while(<F>){$cnt++;\n",
    "    if($cnt<10){print join(\",\",split(/\\t/,$_))}\n",
    "}"
   ]
  }
 ],
 "metadata": {
  "kernelspec": {
   "display_name": "Python 3",
   "language": "python",
   "name": "python3"
  },
  "language_info": {
   "codemirror_mode": {
    "name": "ipython",
    "version": 3
   },
   "file_extension": ".py",
   "mimetype": "text/x-python",
   "name": "python",
   "nbconvert_exporter": "python",
   "pygments_lexer": "ipython3",
   "version": "3.7.3"
  },
  "toc": {
   "base_numbering": 1,
   "nav_menu": {},
   "number_sections": true,
   "sideBar": true,
   "skip_h1_title": false,
   "title_cell": "Table of Contents",
   "title_sidebar": "Contents",
   "toc_cell": false,
   "toc_position": {},
   "toc_section_display": true,
   "toc_window_display": false
  }
 },
 "nbformat": 4,
 "nbformat_minor": 2
}
