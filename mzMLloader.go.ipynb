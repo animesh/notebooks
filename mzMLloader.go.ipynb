{
 "cells": [
  {
   "cell_type": "code",
   "execution_count": 9,
   "metadata": {
    "collapsed": true,
    "deletable": true,
    "editable": true
   },
   "outputs": [],
   "source": [
    "import (\n",
    "    \"fmt\"\n",
    "    \"time\"\n",
    ")"
   ]
  },
  {
   "cell_type": "code",
   "execution_count": 6,
   "metadata": {
    "collapsed": false,
    "deletable": true,
    "editable": true
   },
   "outputs": [
    {
     "ename": "Error",
     "evalue": "",
     "output_type": "error",
     "traceback": [
      ""
     ]
    }
   ],
   "source": [
    "t:=time.Now()\n",
    "fmt.Printf(\"%d-%02d-%02dT%02d:%02d:%02d-00:00\\n\",\n",
    "        t.Year(), t.Month(), t.Day(),\n",
    "        t.Hour(), t.Minute(), t.Second())\n"
   ]
  },
  {
   "cell_type": "code",
   "execution_count": 20,
   "metadata": {
    "collapsed": false,
    "deletable": true,
    "editable": true
   },
   "outputs": [
    {
     "ename": "Error",
     "evalue": "Unexpected stderr from execution",
     "output_type": "error",
     "traceback": [
      "# command-line-arguments\n/tmp/467706820/gophernotes_session.go:19: undefined: pow\n/tmp/467706820/gophernotes_session.go:20: 2 * 3 evaluated but not used\n"
     ]
    }
   ],
   "source": [
    "\n",
    "2*3"
   ]
  },
  {
   "cell_type": "code",
   "execution_count": 12,
   "metadata": {
    "collapsed": false,
    "deletable": true,
    "editable": true
   },
   "outputs": [
    {
     "data": {
      "text/plain": [
       "time.Time{sec:63626312390, nsec:846192587, loc:(*time.Location)(0x508a00)}\n"
      ]
     },
     "execution_count": 12,
     "metadata": {},
     "output_type": "execute_result"
    }
   ],
   "source": [
    "time.Now()\n",
    ":print"
   ]
  },
  {
   "cell_type": "code",
   "execution_count": 4,
   "metadata": {
    "collapsed": false,
    "deletable": true,
    "editable": true
   },
   "outputs": [
    {
     "data": {
      "text/plain": [
       "\"ghu\"\n"
      ]
     },
     "execution_count": 4,
     "metadata": {},
     "output_type": "execute_result"
    }
   ],
   "source": [
    "fmt.Sprintf(\"ghu\")\n"
   ]
  },
  {
   "cell_type": "code",
   "execution_count": 10,
   "metadata": {
    "collapsed": true,
    "deletable": true,
    "editable": true
   },
   "outputs": [],
   "source": [
    "import (\n",
    "    \"fmt\"\n",
    "    \"github.com/sjwhitworth/golearn/base\"\n",
    "    \"github.com/sjwhitworth/golearn/evaluation\"\n",
    "    \"github.com/sjwhitworth/golearn/knn\"\n",
    ")"
   ]
  },
  {
   "cell_type": "code",
   "execution_count": 15,
   "metadata": {
    "collapsed": false,
    "deletable": true,
    "editable": true
   },
   "outputs": [
    {
     "ename": "Error",
     "evalue": "",
     "output_type": "error",
     "traceback": [
      ""
     ]
    }
   ],
   "source": [
    "package main\n",
    "\n",
    "import (\n",
    "\t\"io/ioutil\"\n",
    "\t\"strings\"\n",
    "\t\"time\"\n",
    "\n",
    "\tlog \"github.com/Sirupsen/logrus\"\n",
    "\t\"github.com/clbanning/mxj\"\n",
    ")\n",
    "\n",
    "func readCometXML(xmlfile string) ([]map[string]interface{}, error) {\n",
    "\txmlData, err := readXMLFile(xmlfile)\n",
    "\tmxj.PrependAttrWithHyphen(false)\n",
    "\tmapVal, err := mxj.NewMapXml(xmlData)\n",
    "\tif err != nil {\n",
    "\t\tlog.Error(\"Failed in parsing xml contents\", err)\n",
    "\t\treturn nil, err\n",
    "\t}\n",
    "\n",
    "\tdate, err := mapVal.ValuesForKey(\"date\")\n",
    "\tif err != nil {\n",
    "\t\tlog.Error(\"Failed in getting date\", err)\n",
    "\t\treturn nil, err\n",
    "\t}\n",
    "\tfile, err := mapVal.ValuesForKey(\"base_name\")\n",
    "\tif err != nil {\n",
    "\t\tlog.Error(\"Failed in getting file name\", err)\n",
    "\t\treturn nil, err\n",
    "\t}\n",
    "\tfileType, err := mapVal.ValuesForKey(\"raw_data\")\n",
    "\tif err != nil {\n",
    "\t\tlog.Error(\"Failed in getting fileType name\", err)\n",
    "\t\treturn nil, err\n",
    "\t}\n",
    "\n",
    "\txmlVal, err := mapVal.ValuesForKey(\"spectrum_query\")\n",
    "\tif err != nil {\n",
    "\t\tlog.Error(\"Failed in getting spectrum_query\", err)\n",
    "\t\treturn nil, err\n",
    "\t}\n",
    "\n",
    "\tdbVal, err := mapVal.ValuesForKey(\"local_path\")\n",
    "\tif err != nil {\n",
    "\t\tlog.Error(\"Failed in getting database_name \", err)\n",
    "\t\treturn nil, err\n",
    "\t}\n",
    "\n",
    "\tsearchEngVal, err := mapVal.ValuesForKey(\"search_engine\")\n",
    "\tif err != nil {\n",
    "\t\tlog.Error(\"Failed in getting search_engine \", err)\n",
    "\t\treturn nil, err\n",
    "\t}\n",
    "\n",
    "\tvar xmlMap []map[string]interface{}\n",
    "\tfor _, val := range xmlVal {\n",
    "\t\tvalMap := val.(map[string]interface{})\n",
    "\t\tvalMap[\"dbname\"] = dbVal[0]\n",
    "\t\tvalMap[\"searcheng\"] = searchEngVal[0]\n",
    "\t\tvalMap[\"date\"] = date[0]\n",
    "\t\tvalMap[\"file\"] = file[0].(string) + fileType[0].(string)\n",
    "\t\tvalMap[\"fileType\"] = strings.Replace(fileType[0].(string), \".\", \"\", 1)\n",
    "\t\txmlMap = append(xmlMap, valMap)\n",
    "\t}\n",
    "\n",
    "\treturn xmlMap, nil\n",
    "}\n",
    "\n",
    "func readXMLFile(xmlfile string) ([]byte, error) {\n",
    "\tfor {\n",
    "\t\txmldata, err := ioutil.ReadFile(xmlfile)\n",
    "\t\tif err != nil && strings.Contains(err.Error(), \"no such file\") {\n",
    "\t\t\tlog.Debug(xmlfile, \" not created/found, sleeping..\")\n",
    "\t\t\ttime.Sleep(10 * time.Second)\n",
    "\t\t\tcontinue\n",
    "\t\t}\n",
    "\t\tif err != nil {\n",
    "\t\t\treturn nil, err\n",
    "\t\t}\n",
    "\t\treturn xmldata, nil\n",
    "\t}\n",
    "}\n"
   ]
  },
  {
   "cell_type": "code",
   "execution_count": 11,
   "metadata": {
    "collapsed": false,
    "deletable": true,
    "editable": true
   },
   "outputs": [
    {
     "ename": "Error",
     "evalue": "Unexpected stderr from execution",
     "output_type": "error",
     "traceback": [
      "# command-line-arguments\n/tmp/467706820/gophernotes_session.go:18: undefined: readCometXML\n"
     ]
    }
   ],
   "source": [
    "\n",
    "readCometXML"
   ]
  },
  {
   "cell_type": "code",
   "execution_count": null,
   "metadata": {
    "collapsed": true,
    "deletable": true,
    "editable": true
   },
   "outputs": [],
   "source": []
  }
 ],
 "metadata": {
  "kernelspec": {
   "display_name": "Go",
   "language": "go",
   "name": "gophernotes"
  },
  "language_info": {
   "name": "go"
  }
 },
 "nbformat": 4,
 "nbformat_minor": 2
}
