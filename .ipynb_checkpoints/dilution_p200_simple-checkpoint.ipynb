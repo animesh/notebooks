{
 "cells": [
  {
   "cell_type": "code",
   "execution_count": 75,
   "metadata": {},
   "outputs": [
    {
     "name": "stdout",
     "output_type": "stream",
     "text": [
      "[]\n",
      "[]\n"
     ]
    },
    {
     "ename": "RuntimeError",
     "evalue": "No connection found.",
     "output_type": "error",
     "traceback": [
      "\u001b[0;31m---------------------------------------------------------------------------\u001b[0m",
      "\u001b[0;31mRuntimeError\u001b[0m                              Traceback (most recent call last)",
      "\u001b[0;32m<ipython-input-75-fdd5b3eea995>\u001b[0m in \u001b[0;36m<module>\u001b[0;34m()\u001b[0m\n\u001b[1;32m      7\u001b[0m \u001b[0mprint\u001b[0m\u001b[0;34m(\u001b[0m\u001b[0mrobot\u001b[0m\u001b[0;34m.\u001b[0m\u001b[0mget_instruments\u001b[0m\u001b[0;34m(\u001b[0m\u001b[0;34m)\u001b[0m\u001b[0;34m)\u001b[0m\u001b[0;34m\u001b[0m\u001b[0m\n\u001b[1;32m      8\u001b[0m \u001b[0mprint\u001b[0m\u001b[0;34m(\u001b[0m\u001b[0mrobot\u001b[0m\u001b[0;34m.\u001b[0m\u001b[0mcommands\u001b[0m\u001b[0;34m(\u001b[0m\u001b[0;34m)\u001b[0m\u001b[0;34m)\u001b[0m\u001b[0;34m\u001b[0m\u001b[0m\n\u001b[0;32m----> 9\u001b[0;31m \u001b[0mrobot\u001b[0m\u001b[0;34m.\u001b[0m\u001b[0m_driver\u001b[0m\u001b[0;34m.\u001b[0m\u001b[0mreset\u001b[0m\u001b[0;34m(\u001b[0m\u001b[0;34m)\u001b[0m\u001b[0;34m\u001b[0m\u001b[0m\n\u001b[0m\u001b[1;32m     10\u001b[0m \u001b[0;31m#robot.disconnect()\u001b[0m\u001b[0;34m\u001b[0m\u001b[0;34m\u001b[0m\u001b[0m\n",
      "\u001b[0;32m/usr/local/lib/python3.4/dist-packages/opentrons/drivers/motor.py\u001b[0m in \u001b[0;36mreset\u001b[0;34m(self)\u001b[0m\n\u001b[1;32m    527\u001b[0m \u001b[0;34m\u001b[0m\u001b[0m\n\u001b[1;32m    528\u001b[0m     \u001b[0;32mdef\u001b[0m \u001b[0mreset\u001b[0m\u001b[0;34m(\u001b[0m\u001b[0mself\u001b[0m\u001b[0;34m)\u001b[0m\u001b[0;34m:\u001b[0m\u001b[0;34m\u001b[0m\u001b[0m\n\u001b[0;32m--> 529\u001b[0;31m         \u001b[0mres\u001b[0m \u001b[0;34m=\u001b[0m \u001b[0mself\u001b[0m\u001b[0;34m.\u001b[0m\u001b[0msend_command\u001b[0m\u001b[0;34m(\u001b[0m\u001b[0mself\u001b[0m\u001b[0;34m.\u001b[0m\u001b[0mRESET\u001b[0m\u001b[0;34m)\u001b[0m\u001b[0;34m\u001b[0m\u001b[0m\n\u001b[0m\u001b[1;32m    530\u001b[0m         \u001b[0;32mif\u001b[0m \u001b[0;34mb'Rebooting'\u001b[0m \u001b[0;32min\u001b[0m \u001b[0mres\u001b[0m\u001b[0;34m:\u001b[0m\u001b[0;34m\u001b[0m\u001b[0m\n\u001b[1;32m    531\u001b[0m             \u001b[0mself\u001b[0m\u001b[0;34m.\u001b[0m\u001b[0mdisconnect\u001b[0m\u001b[0;34m(\u001b[0m\u001b[0;34m)\u001b[0m\u001b[0;34m\u001b[0m\u001b[0m\n",
      "\u001b[0;32m/usr/local/lib/python3.4/dist-packages/opentrons/drivers/motor.py\u001b[0m in \u001b[0;36msend_command\u001b[0;34m(self, command, **kwargs)\u001b[0m\n\u001b[1;32m    274\u001b[0m         \u001b[0margs\u001b[0m \u001b[0;34m=\u001b[0m \u001b[0;34m' '\u001b[0m\u001b[0;34m.\u001b[0m\u001b[0mjoin\u001b[0m\u001b[0;34m(\u001b[0m\u001b[0;34m[\u001b[0m\u001b[0;34m'{}{}'\u001b[0m\u001b[0;34m.\u001b[0m\u001b[0mformat\u001b[0m\u001b[0;34m(\u001b[0m\u001b[0mk\u001b[0m\u001b[0;34m,\u001b[0m \u001b[0mv\u001b[0m\u001b[0;34m)\u001b[0m \u001b[0;32mfor\u001b[0m \u001b[0mk\u001b[0m\u001b[0;34m,\u001b[0m \u001b[0mv\u001b[0m \u001b[0;32min\u001b[0m \u001b[0mkwargs\u001b[0m\u001b[0;34m.\u001b[0m\u001b[0mitems\u001b[0m\u001b[0;34m(\u001b[0m\u001b[0;34m)\u001b[0m\u001b[0;34m]\u001b[0m\u001b[0;34m)\u001b[0m\u001b[0;34m\u001b[0m\u001b[0m\n\u001b[1;32m    275\u001b[0m         \u001b[0mcommand\u001b[0m \u001b[0;34m=\u001b[0m \u001b[0;34m'{} {}\\r\\n'\u001b[0m\u001b[0;34m.\u001b[0m\u001b[0mformat\u001b[0m\u001b[0;34m(\u001b[0m\u001b[0mcommand\u001b[0m\u001b[0;34m,\u001b[0m \u001b[0margs\u001b[0m\u001b[0;34m)\u001b[0m\u001b[0;34m\u001b[0m\u001b[0m\n\u001b[0;32m--> 276\u001b[0;31m         \u001b[0mresponse\u001b[0m \u001b[0;34m=\u001b[0m \u001b[0mself\u001b[0m\u001b[0;34m.\u001b[0m\u001b[0mwrite_to_serial\u001b[0m\u001b[0;34m(\u001b[0m\u001b[0mcommand\u001b[0m\u001b[0;34m)\u001b[0m\u001b[0;34m\u001b[0m\u001b[0m\n\u001b[0m\u001b[1;32m    277\u001b[0m         \u001b[0;32mreturn\u001b[0m \u001b[0mresponse\u001b[0m\u001b[0;34m\u001b[0m\u001b[0m\n\u001b[1;32m    278\u001b[0m \u001b[0;34m\u001b[0m\u001b[0m\n",
      "\u001b[0;32m/usr/local/lib/python3.4/dist-packages/opentrons/drivers/motor.py\u001b[0m in \u001b[0;36mwrite_to_serial\u001b[0;34m(self, data, max_tries, try_interval)\u001b[0m\n\u001b[1;32m    296\u001b[0m             \u001b[0mmsg\u001b[0m \u001b[0;34m=\u001b[0m \u001b[0;34m\"No connection found.\"\u001b[0m\u001b[0;34m\u001b[0m\u001b[0m\n\u001b[1;32m    297\u001b[0m             \u001b[0mlog\u001b[0m\u001b[0;34m.\u001b[0m\u001b[0mwarn\u001b[0m\u001b[0;34m(\u001b[0m\u001b[0mmsg\u001b[0m\u001b[0;34m)\u001b[0m\u001b[0;34m\u001b[0m\u001b[0m\n\u001b[0;32m--> 298\u001b[0;31m             \u001b[0;32mraise\u001b[0m \u001b[0mRuntimeError\u001b[0m\u001b[0;34m(\u001b[0m\u001b[0mmsg\u001b[0m\u001b[0;34m)\u001b[0m\u001b[0;34m\u001b[0m\u001b[0m\n\u001b[0m\u001b[1;32m    299\u001b[0m         \u001b[0;32melif\u001b[0m \u001b[0mmax_tries\u001b[0m \u001b[0;34m>\u001b[0m \u001b[0;36m0\u001b[0m\u001b[0;34m:\u001b[0m\u001b[0;34m\u001b[0m\u001b[0m\n\u001b[1;32m    300\u001b[0m             \u001b[0mself\u001b[0m\u001b[0;34m.\u001b[0m\u001b[0mtoggle_port\u001b[0m\u001b[0;34m(\u001b[0m\u001b[0;34m)\u001b[0m\u001b[0;34m\u001b[0m\u001b[0m\n",
      "\u001b[0;31mRuntimeError\u001b[0m: No connection found."
     ]
    }
   ],
   "source": [
    "#http://docs.opentrons.com/robot.html#simulate\n",
    "#robot.run()\n",
    "#vim /usr/local/lib/python3.4/dist-packages/opentrons/__init__.py version change from 3.5 to 3.4\n",
    "\n",
    "robot.reset()\n",
    "#print(robot.get_containers())\n",
    "print(robot.get_instruments())\n",
    "print(robot.commands())\n",
    "robot._driver.reset()\n",
    "#robot.disconnect()\n"
   ]
  },
  {
   "cell_type": "code",
   "execution_count": 76,
   "metadata": {},
   "outputs": [
    {
     "name": "stdout",
     "output_type": "stream",
     "text": [
      "Connected, homing...\n",
      "[]\n",
      "[]\n"
     ]
    }
   ],
   "source": [
    "from opentrons import robot\n",
    "robot.connect('Virtual Smoothie')\n",
    "#robot.connect(['COM3'])\n",
    "#connect_to_robot()\n",
    "\n",
    "print('Connected, homing...')\n",
    "robot.home()\n",
    "print(robot.get_instruments())\n",
    "print(robot.commands())\n",
    "                    "
   ]
  },
  {
   "cell_type": "code",
   "execution_count": 77,
   "metadata": {},
   "outputs": [],
   "source": [
    "from opentrons import containers, instruments\n",
    "\n",
    "p200rack = containers.load('tiprack-200ul', 'A1', 'tips')\n",
    "plate = containers.load('96-PCR-flat', 'C1', 'plat')\n",
    "trough = containers.load('tube-rack-.75ml', 'C3', 'trough')\n",
    "trash = containers.load('tiprack-200ul', 'A1', 'trash')\n",
    "\n",
    "p200 = instruments.Pipette(\n",
    "    name=\"p200\",\n",
    "    trash_container=trash,\n",
    "    tip_racks=[p200rack],\n",
    "    max_volume=200,\n",
    "    axis=\"b\"\n",
    ")\n",
    "\n"
   ]
  },
  {
   "cell_type": "code",
   "execution_count": 82,
   "metadata": {},
   "outputs": [],
   "source": [
    "\n",
    "fspot='E1'\n",
    "p200.pick_up_tip(p200rack['A2'])\n",
    "p200.aspirate(175, trough['A1']) \n",
    "p200.dispense(100, plate[fspot])\n",
    "p200.drop_tip(p200rack['A2'])\n",
    "\n",
    "p200.pick_up_tip(p200rack['A3'])\n",
    "p200.aspirate(125, trough['B1']) \n",
    "p200.dispense(50, plate[fspot])\n",
    "p200.drop_tip(p200rack['A3'])\n",
    "\n",
    "p200.pick_up_tip(p200rack['A4'])\n",
    "p200.aspirate(75, trough['C1'])  \n",
    "p200.dispense(25, plate[fspot])\n",
    "\n",
    "for i in range(10):\n",
    "    p200.aspirate(100, plate[fspot]) \n",
    "    p200.dispense(100, plate[fspot])\n",
    "\n",
    "\n",
    "p200.drop_tip(p200rack['A4'])\n",
    "for warning in robot.simulate():\n",
    "    print(warning)\n",
    "\n",
    "\n"
   ]
  },
  {
   "cell_type": "code",
   "execution_count": 83,
   "metadata": {},
   "outputs": [
    {
     "name": "stdout",
     "output_type": "stream",
     "text": [
      "Picking up tip from <Deck>/<Slot A1>/<Container tips>/<Well A2>\n",
      "Aspirating 175uL at <Deck>/<Slot C3>/<Container trough>/<Well A1>\n",
      "Dispensing 100uL at <Deck>/<Slot C1>/<Container plat>/<Well E1>\n",
      "Drop_tip at <Deck>/<Slot A1>/<Container tips>/<Well A2>\n",
      "Picking up tip from <Deck>/<Slot A1>/<Container tips>/<Well A3>\n",
      "Aspirating 125uL at <Deck>/<Slot C3>/<Container trough>/<Well B1>\n",
      "Dispensing 50uL at <Deck>/<Slot C1>/<Container plat>/<Well E1>\n",
      "Drop_tip at <Deck>/<Slot A1>/<Container tips>/<Well A3>\n",
      "Picking up tip from <Deck>/<Slot A1>/<Container tips>/<Well A4>\n",
      "Aspirating 75uL at <Deck>/<Slot C3>/<Container trough>/<Well C1>\n",
      "Dispensing 25uL at <Deck>/<Slot C1>/<Container plat>/<Well E1>\n",
      "Aspirating 100uL at <Deck>/<Slot C1>/<Container plat>/<Well E1>\n",
      "Dispensing 100uL at <Deck>/<Slot C1>/<Container plat>/<Well E1>\n",
      "Drop_tip at <Deck>/<Slot A1>/<Container tips>/<Well A4>\n",
      "Picking up tip from <Deck>/<Slot A1>/<Container tips>/<Well A2>\n",
      "Aspirating 175uL at <Deck>/<Slot C3>/<Container trough>/<Well A1>\n",
      "Dispensing 100uL at <Deck>/<Slot C1>/<Container plat>/<Well E1>\n",
      "Drop_tip at <Deck>/<Slot A1>/<Container tips>/<Well A2>\n",
      "Picking up tip from <Deck>/<Slot A1>/<Container tips>/<Well A3>\n",
      "Aspirating 125uL at <Deck>/<Slot C3>/<Container trough>/<Well B1>\n",
      "Dispensing 50uL at <Deck>/<Slot C1>/<Container plat>/<Well E1>\n",
      "Drop_tip at <Deck>/<Slot A1>/<Container tips>/<Well A3>\n",
      "Picking up tip from <Deck>/<Slot A1>/<Container tips>/<Well A4>\n",
      "Aspirating 75uL at <Deck>/<Slot C3>/<Container trough>/<Well C1>\n",
      "Dispensing 25uL at <Deck>/<Slot C1>/<Container plat>/<Well E1>\n",
      "Aspirating 100uL at <Deck>/<Slot C1>/<Container plat>/<Well E1>\n",
      "Dispensing 100uL at <Deck>/<Slot C1>/<Container plat>/<Well E1>\n",
      "Aspirating 100uL at <Deck>/<Slot C1>/<Container plat>/<Well E1>\n",
      "Dispensing 100uL at <Deck>/<Slot C1>/<Container plat>/<Well E1>\n",
      "Aspirating 100uL at <Deck>/<Slot C1>/<Container plat>/<Well E1>\n",
      "Dispensing 100uL at <Deck>/<Slot C1>/<Container plat>/<Well E1>\n",
      "Aspirating 100uL at <Deck>/<Slot C1>/<Container plat>/<Well E1>\n",
      "Dispensing 100uL at <Deck>/<Slot C1>/<Container plat>/<Well E1>\n",
      "Aspirating 100uL at <Deck>/<Slot C1>/<Container plat>/<Well E1>\n",
      "Dispensing 100uL at <Deck>/<Slot C1>/<Container plat>/<Well E1>\n",
      "Aspirating 100uL at <Deck>/<Slot C1>/<Container plat>/<Well E1>\n",
      "Dispensing 100uL at <Deck>/<Slot C1>/<Container plat>/<Well E1>\n",
      "Aspirating 100uL at <Deck>/<Slot C1>/<Container plat>/<Well E1>\n",
      "Dispensing 100uL at <Deck>/<Slot C1>/<Container plat>/<Well E1>\n",
      "Aspirating 100uL at <Deck>/<Slot C1>/<Container plat>/<Well E1>\n",
      "Dispensing 100uL at <Deck>/<Slot C1>/<Container plat>/<Well E1>\n",
      "Aspirating 100uL at <Deck>/<Slot C1>/<Container plat>/<Well E1>\n",
      "Dispensing 100uL at <Deck>/<Slot C1>/<Container plat>/<Well E1>\n",
      "Aspirating 100uL at <Deck>/<Slot C1>/<Container plat>/<Well E1>\n",
      "Dispensing 100uL at <Deck>/<Slot C1>/<Container plat>/<Well E1>\n",
      "Drop_tip at <Deck>/<Slot A1>/<Container tips>/<Well A4>\n"
     ]
    }
   ],
   "source": [
    "print(\"\\n\".join(robot.commands()))"
   ]
  },
  {
   "cell_type": "code",
   "execution_count": 69,
   "metadata": {},
   "outputs": [
    {
     "data": {
      "text/plain": [
       "<opentrons.robot.robot.Robot at 0x7f5507ac4c50>"
      ]
     },
     "execution_count": 69,
     "metadata": {},
     "output_type": "execute_result"
    }
   ],
   "source": [
    "robot.reset()"
   ]
  },
  {
   "cell_type": "code",
   "execution_count": 16,
   "metadata": {},
   "outputs": [
    {
     "name": "stdout",
     "output_type": "stream",
     "text": [
      "Connected, homing...\n"
     ]
    },
    {
     "data": {
      "text/plain": [
       "[]"
      ]
     },
     "execution_count": 16,
     "metadata": {},
     "output_type": "execute_result"
    }
   ],
   "source": []
  },
  {
   "cell_type": "code",
   "execution_count": 17,
   "metadata": {
    "collapsed": true
   },
   "outputs": [],
   "source": [
    "robot.move_to(plate[0])"
   ]
  },
  {
   "cell_type": "code",
   "execution_count": 26,
   "metadata": {},
   "outputs": [
    {
     "name": "stdout",
     "output_type": "stream",
     "text": [
      "Enter the number of the port to connect to:\n",
      "\n"
     ]
    },
    {
     "ename": "RuntimeError",
     "evalue": "No serial ports found. Please make sure your robot's USB cable is connected",
     "output_type": "error",
     "traceback": [
      "\u001b[1;31m---------------------------------------------------------------------------\u001b[0m",
      "\u001b[1;31mRuntimeError\u001b[0m                              Traceback (most recent call last)",
      "\u001b[1;32m<ipython-input-26-1474459030e5>\u001b[0m in \u001b[0;36m<module>\u001b[1;34m()\u001b[0m\n\u001b[0;32m     57\u001b[0m \u001b[1;33m\u001b[0m\u001b[0m\n\u001b[0;32m     58\u001b[0m \u001b[1;33m\u001b[0m\u001b[0m\n\u001b[1;32m---> 59\u001b[1;33m \u001b[0mconnect_to_robot\u001b[0m\u001b[1;33m(\u001b[0m\u001b[1;33m)\u001b[0m\u001b[1;33m\u001b[0m\u001b[0m\n\u001b[0m\u001b[0;32m     60\u001b[0m \u001b[0mx\u001b[0m\u001b[1;33m,\u001b[0m \u001b[0my\u001b[0m \u001b[1;33m=\u001b[0m \u001b[0mrequest_distance_from_user\u001b[0m\u001b[1;33m(\u001b[0m\u001b[1;33m)\u001b[0m\u001b[1;33m\u001b[0m\u001b[0m\n\u001b[0;32m     61\u001b[0m \u001b[0mmeasure_belts\u001b[0m\u001b[1;33m(\u001b[0m\u001b[0mx\u001b[0m\u001b[1;33m,\u001b[0m \u001b[0my\u001b[0m\u001b[1;33m)\u001b[0m\u001b[1;33m\u001b[0m\u001b[0m\n",
      "\u001b[1;32m<ipython-input-26-1474459030e5>\u001b[0m in \u001b[0;36mconnect_to_robot\u001b[1;34m()\u001b[0m\n\u001b[0;32m      8\u001b[0m     \u001b[1;32mif\u001b[0m \u001b[1;32mnot\u001b[0m \u001b[0mports\u001b[0m\u001b[1;33m:\u001b[0m\u001b[1;33m\u001b[0m\u001b[0m\n\u001b[0;32m      9\u001b[0m         raise RuntimeError(\n\u001b[1;32m---> 10\u001b[1;33m             'No serial ports found. Please make sure your robot\\'s USB cable is connected')\n\u001b[0m\u001b[0;32m     11\u001b[0m     \u001b[1;32mfor\u001b[0m \u001b[0mi\u001b[0m\u001b[1;33m,\u001b[0m \u001b[0mportname\u001b[0m \u001b[1;32min\u001b[0m \u001b[0menumerate\u001b[0m\u001b[1;33m(\u001b[0m\u001b[0mports\u001b[0m\u001b[1;33m)\u001b[0m\u001b[1;33m:\u001b[0m\u001b[1;33m\u001b[0m\u001b[0m\n\u001b[0;32m     12\u001b[0m         \u001b[0mprint\u001b[0m\u001b[1;33m(\u001b[0m\u001b[1;34m'  {0})   {1}\\n'\u001b[0m\u001b[1;33m.\u001b[0m\u001b[0mformat\u001b[0m\u001b[1;33m(\u001b[0m\u001b[0mi\u001b[0m\u001b[1;33m,\u001b[0m \u001b[0mportname\u001b[0m\u001b[1;33m)\u001b[0m\u001b[1;33m)\u001b[0m\u001b[1;33m\u001b[0m\u001b[0m\n",
      "\u001b[1;31mRuntimeError\u001b[0m: No serial ports found. Please make sure your robot's USB cable is connected"
     ]
    }
   ],
   "source": [
    "def connect_to_robot():\n",
    "    \"\"\"\n",
    "    Search for ports, connect to a robot, and home\n",
    "    \"\"\"\n",
    "    print('Enter the number of the port to connect to:\\n')\n",
    "    count = 0\n",
    "    ports = robot.get_serial_ports_list()\n",
    "    if not ports:\n",
    "        raise RuntimeError(\n",
    "            'No serial ports found. Please make sure your robot\\'s USB cable is connected')\n",
    "    for i, portname in enumerate(ports):\n",
    "        print('  {0})   {1}\\n'.format(i, portname))\n",
    "    val = input('Enter number next to desired port (0, 1, etc): '.format(1, count))\n",
    "    try:\n",
    "        val = int(val)\n",
    "    except:\n",
    "        print('Bad input: {}'.format(val))\n",
    "        sys.exit()\n",
    "    try:\n",
    "        robot.connect(robot.get_serial_ports_list()[val])\n",
    "    except RuntimeWarning:\n",
    "        robot.connect(robot.get_serial_ports_list()[val])\n",
    "    print('Connected, homing...')\n",
    "    robot.home()\n",
    "    robot.home('xy')\n",
    "\n",
    "\n",
    "def request_distance_from_user():\n",
    "    \"\"\"\n",
    "    Get the dimensions of this robot, and ask the user for the testing distance\n",
    "    \"\"\"\n",
    "    dimensions = robot._driver.get_dimensions() - (50, 50, 0)\n",
    "    x_dist = int(input('Enter distanct for X to travel (max {}):'.format(dimensions[0])))\n",
    "    y_dist = int(input('Enter distanct for Y to travel (max {}):'.format(dimensions[1])))\n",
    "    x_dist = min(x_dist, dimensions[0])\n",
    "    y_dist = min(y_dist, dimensions[1])\n",
    "    return (x_dist, y_dist)\n",
    "\n",
    "    \n",
    "def measure_belts(x_dist, y_dist):\n",
    "    \"\"\"\n",
    "    Move the robot, allow user to mark positions, ask user to measure and submit measurements\n",
    "    \"\"\"\n",
    "    print('Moving the robot {0}mm on the X, and {1}mm on the Y'.format(x_dist, y_dist))\n",
    "    robot.move_head(x=x_dist, y=y_dist * -1, mode='relative')  # Y axis is flipped\n",
    "\n",
    "    input('mark X position on the robot, then press ENTER key')\n",
    "    input('mark Y position on the robot, then press ENTER key')\n",
    "\n",
    "    robot.home('xy')\n",
    "    robot.home('xy')\n",
    "\n",
    "    actual_travel_x = float(input('enter the measured X distance: '))\n",
    "    actual_travel_y = float(input('enter the measured Y distance: '))\n",
    "    robot._driver.calibrate_steps_per_mm('x', x_dist, actual_travel_x)\n",
    "    robot._driver.calibrate_steps_per_mm('y', y_dist, actual_travel_y)\n",
    "\n",
    "\n",
    "connect_to_robot()\n",
    "x, y = request_distance_from_user()\n",
    "measure_belts(x, y)\n",
    "\n",
    "print('New values saved. Restarting the robot to allow changes to take effect')\n",
    "print('Please wait 5-10 seconds before reconnecting to the robot')\n",
    "\n",
    "robot._driver.reset()\n",
    "robot.disconnect()"
   ]
  },
  {
   "cell_type": "code",
   "execution_count": 48,
   "metadata": {
    "collapsed": true
   },
   "outputs": [],
   "source": []
  },
  {
   "cell_type": "code",
   "execution_count": 20,
   "metadata": {},
   "outputs": [
    {
     "name": "stdout",
     "output_type": "stream",
     "text": [
      "['Picking up tip from <Deck>/<Slot A1>/<Container tips>/<Well A2>', 'Aspirating 175uL at <Deck>/<Slot C3>/<Container trough>/<Well A1>', 'Dispensing 100uL at <Deck>/<Slot C1>/<Container plat>/<Well E10>', 'Dispensing 50uL at <Deck>/<Slot C1>/<Container plat>/<Well E11>', 'Dispensing 25uL at <Deck>/<Slot C1>/<Container plat>/<Well E12>', 'Drop_tip at <Deck>/<Slot A1>/<Container tips>/<Well A2>', 'Picking up tip from <Deck>/<Slot A1>/<Container tips>/<Well A3>', 'Aspirating 125uL at <Deck>/<Slot C3>/<Container trough>/<Well B1>', 'Dispensing 50uL at <Deck>/<Slot C1>/<Container plat>/<Well E11>', 'Dispensing 75uL at <Deck>/<Slot C1>/<Container plat>/<Well E12>', 'Drop_tip at <Deck>/<Slot A1>/<Container tips>/<Well A3>', 'Picking up tip from <Deck>/<Slot A1>/<Container tips>/<Well A4>', 'Aspirating 75uL at <Deck>/<Slot C3>/<Container trough>/<Well C1>', 'Dispensing 25uL at <Deck>/<Slot C1>/<Container plat>/<Well E10>', 'Dispensing 25uL at <Deck>/<Slot C1>/<Container plat>/<Well E11>', 'Dispensing 25uL at <Deck>/<Slot C1>/<Container plat>/<Well E12>', 'Aspirating 100uL at <Deck>/<Slot C1>/<Container plat>/<Well E12>', 'Dispensing 100uL at <Deck>/<Slot C1>/<Container plat>/<Well E12>', 'Aspirating 100uL at <Deck>/<Slot C1>/<Container plat>/<Well E12>', 'Dispensing 100uL at <Deck>/<Slot C1>/<Container plat>/<Well E12>', 'Aspirating 100uL at <Deck>/<Slot C1>/<Container plat>/<Well E12>', 'Dispensing 100uL at <Deck>/<Slot C1>/<Container plat>/<Well E12>', 'Aspirating 100uL at <Deck>/<Slot C1>/<Container plat>/<Well E11>', 'Dispensing 100uL at <Deck>/<Slot C1>/<Container plat>/<Well E11>', 'Aspirating 100uL at <Deck>/<Slot C1>/<Container plat>/<Well E11>', 'Dispensing 100uL at <Deck>/<Slot C1>/<Container plat>/<Well E11>', 'Aspirating 100uL at <Deck>/<Slot C1>/<Container plat>/<Well E11>', 'Dispensing 100uL at <Deck>/<Slot C1>/<Container plat>/<Well E11>', 'Aspirating 100uL at <Deck>/<Slot C1>/<Container plat>/<Well E10>', 'Dispensing 100uL at <Deck>/<Slot C1>/<Container plat>/<Well E10>', 'Aspirating 100uL at <Deck>/<Slot C1>/<Container plat>/<Well E10>', 'Dispensing 100uL at <Deck>/<Slot C1>/<Container plat>/<Well E10>', 'Aspirating 100uL at <Deck>/<Slot C1>/<Container plat>/<Well E10>', 'Dispensing 100uL at <Deck>/<Slot C1>/<Container plat>/<Well E10>', 'Drop_tip at <Deck>/<Slot A1>/<Container tips>/<Well A4>', 'Picking up tip from <Deck>/<Slot A1>/<Container tips>/<Well A2>', 'Aspirating 175uL at <Deck>/<Slot C3>/<Container trough>/<Well A1>', 'Dispensing 100uL at <Deck>/<Slot C1>/<Container plat>/<Well E10>', 'Dispensing 50uL at <Deck>/<Slot C1>/<Container plat>/<Well E11>', 'Dispensing 25uL at <Deck>/<Slot C1>/<Container plat>/<Well E12>', 'Drop_tip at <Deck>/<Slot A1>/<Container tips>/<Well A2>', 'Picking up tip from <Deck>/<Slot A1>/<Container tips>/<Well A3>', 'Aspirating 125uL at <Deck>/<Slot C3>/<Container trough>/<Well B1>', 'Dispensing 50uL at <Deck>/<Slot C1>/<Container plat>/<Well E11>', 'Dispensing 75uL at <Deck>/<Slot C1>/<Container plat>/<Well E12>', 'Drop_tip at <Deck>/<Slot A1>/<Container tips>/<Well A3>', 'Picking up tip from <Deck>/<Slot A1>/<Container tips>/<Well A4>', 'Aspirating 75uL at <Deck>/<Slot C3>/<Container trough>/<Well C1>', 'Dispensing 25uL at <Deck>/<Slot C1>/<Container plat>/<Well E10>', 'Dispensing 25uL at <Deck>/<Slot C1>/<Container plat>/<Well E11>', 'Dispensing 25uL at <Deck>/<Slot C1>/<Container plat>/<Well E12>', 'Aspirating 100uL at <Deck>/<Slot C1>/<Container plat>/<Well E12>', 'Dispensing 100uL at <Deck>/<Slot C1>/<Container plat>/<Well E12>', 'Aspirating 100uL at <Deck>/<Slot C1>/<Container plat>/<Well E12>', 'Dispensing 100uL at <Deck>/<Slot C1>/<Container plat>/<Well E12>', 'Aspirating 100uL at <Deck>/<Slot C1>/<Container plat>/<Well E12>', 'Dispensing 100uL at <Deck>/<Slot C1>/<Container plat>/<Well E12>', 'Aspirating 100uL at <Deck>/<Slot C1>/<Container plat>/<Well E11>', 'Dispensing 100uL at <Deck>/<Slot C1>/<Container plat>/<Well E11>', 'Aspirating 100uL at <Deck>/<Slot C1>/<Container plat>/<Well E11>', 'Dispensing 100uL at <Deck>/<Slot C1>/<Container plat>/<Well E11>', 'Aspirating 100uL at <Deck>/<Slot C1>/<Container plat>/<Well E11>', 'Dispensing 100uL at <Deck>/<Slot C1>/<Container plat>/<Well E11>', 'Aspirating 100uL at <Deck>/<Slot C1>/<Container plat>/<Well E10>', 'Dispensing 100uL at <Deck>/<Slot C1>/<Container plat>/<Well E10>', 'Aspirating 100uL at <Deck>/<Slot C1>/<Container plat>/<Well E10>', 'Dispensing 100uL at <Deck>/<Slot C1>/<Container plat>/<Well E10>', 'Aspirating 100uL at <Deck>/<Slot C1>/<Container plat>/<Well E10>', 'Dispensing 100uL at <Deck>/<Slot C1>/<Container plat>/<Well E10>', 'Drop_tip at <Deck>/<Slot A1>/<Container tips>/<Well A4>', 'Picking up tip from <Deck>/<Slot A1>/<Container tips>/<Well A2>', 'Aspirating 175uL at <Deck>/<Slot C3>/<Container trough>/<Well A1>', 'Dispensing 100uL at <Deck>/<Slot C1>/<Container plat>/<Well E10>', 'Dispensing 50uL at <Deck>/<Slot C1>/<Container plat>/<Well E11>', 'Dispensing 25uL at <Deck>/<Slot C1>/<Container plat>/<Well E12>', 'Drop_tip at <Deck>/<Slot A1>/<Container tips>/<Well A2>', 'Picking up tip from <Deck>/<Slot A1>/<Container tips>/<Well A3>', 'Aspirating 125uL at <Deck>/<Slot C3>/<Container trough>/<Well B1>', 'Dispensing 50uL at <Deck>/<Slot C1>/<Container plat>/<Well E11>', 'Dispensing 75uL at <Deck>/<Slot C1>/<Container plat>/<Well E12>', 'Drop_tip at <Deck>/<Slot A1>/<Container tips>/<Well A3>', 'Picking up tip from <Deck>/<Slot A1>/<Container tips>/<Well A4>', 'Aspirating 75uL at <Deck>/<Slot C3>/<Container trough>/<Well C1>', 'Dispensing 25uL at <Deck>/<Slot C1>/<Container plat>/<Well E10>', 'Dispensing 25uL at <Deck>/<Slot C1>/<Container plat>/<Well E11>', 'Dispensing 25uL at <Deck>/<Slot C1>/<Container plat>/<Well E12>', 'Aspirating 100uL at <Deck>/<Slot C1>/<Container plat>/<Well E12>', 'Dispensing 100uL at <Deck>/<Slot C1>/<Container plat>/<Well E12>', 'Aspirating 100uL at <Deck>/<Slot C1>/<Container plat>/<Well E12>', 'Dispensing 100uL at <Deck>/<Slot C1>/<Container plat>/<Well E12>', 'Aspirating 100uL at <Deck>/<Slot C1>/<Container plat>/<Well E12>', 'Dispensing 100uL at <Deck>/<Slot C1>/<Container plat>/<Well E12>', 'Aspirating 100uL at <Deck>/<Slot C1>/<Container plat>/<Well E11>', 'Dispensing 100uL at <Deck>/<Slot C1>/<Container plat>/<Well E11>', 'Aspirating 100uL at <Deck>/<Slot C1>/<Container plat>/<Well E11>', 'Dispensing 100uL at <Deck>/<Slot C1>/<Container plat>/<Well E11>', 'Aspirating 100uL at <Deck>/<Slot C1>/<Container plat>/<Well E11>', 'Dispensing 100uL at <Deck>/<Slot C1>/<Container plat>/<Well E11>', 'Aspirating 100uL at <Deck>/<Slot C1>/<Container plat>/<Well E10>', 'Dispensing 100uL at <Deck>/<Slot C1>/<Container plat>/<Well E10>', 'Aspirating 100uL at <Deck>/<Slot C1>/<Container plat>/<Well E10>', 'Dispensing 100uL at <Deck>/<Slot C1>/<Container plat>/<Well E10>', 'Aspirating 100uL at <Deck>/<Slot C1>/<Container plat>/<Well E10>', 'Dispensing 100uL at <Deck>/<Slot C1>/<Container plat>/<Well E10>', 'Drop_tip at <Deck>/<Slot A1>/<Container tips>/<Well A4>', 'Picking up tip from <Deck>/<Slot A1>/<Container tips>/<Well A2>', 'Aspirating 175uL at <Deck>/<Slot C3>/<Container trough>/<Well A1>', 'Dispensing 100uL at <Deck>/<Slot C1>/<Container plat>/<Well E10>', 'Dispensing 50uL at <Deck>/<Slot C1>/<Container plat>/<Well E11>', 'Dispensing 25uL at <Deck>/<Slot C1>/<Container plat>/<Well E12>', 'Drop_tip at <Deck>/<Slot A1>/<Container tips>/<Well A2>', 'Picking up tip from <Deck>/<Slot A1>/<Container tips>/<Well A3>', 'Aspirating 125uL at <Deck>/<Slot C3>/<Container trough>/<Well B1>', 'Dispensing 50uL at <Deck>/<Slot C1>/<Container plat>/<Well E11>', 'Dispensing 75uL at <Deck>/<Slot C1>/<Container plat>/<Well E12>', 'Drop_tip at <Deck>/<Slot A1>/<Container tips>/<Well A3>', 'Picking up tip from <Deck>/<Slot A1>/<Container tips>/<Well A4>', 'Aspirating 75uL at <Deck>/<Slot C3>/<Container trough>/<Well C1>', 'Dispensing 25uL at <Deck>/<Slot C1>/<Container plat>/<Well E10>', 'Dispensing 25uL at <Deck>/<Slot C1>/<Container plat>/<Well E11>', 'Dispensing 25uL at <Deck>/<Slot C1>/<Container plat>/<Well E12>', 'Aspirating 100uL at <Deck>/<Slot C1>/<Container plat>/<Well E12>', 'Dispensing 100uL at <Deck>/<Slot C1>/<Container plat>/<Well E12>', 'Aspirating 100uL at <Deck>/<Slot C1>/<Container plat>/<Well E12>', 'Dispensing 100uL at <Deck>/<Slot C1>/<Container plat>/<Well E12>', 'Aspirating 100uL at <Deck>/<Slot C1>/<Container plat>/<Well E12>', 'Dispensing 100uL at <Deck>/<Slot C1>/<Container plat>/<Well E12>', 'Aspirating 100uL at <Deck>/<Slot C1>/<Container plat>/<Well E11>', 'Dispensing 100uL at <Deck>/<Slot C1>/<Container plat>/<Well E11>', 'Aspirating 100uL at <Deck>/<Slot C1>/<Container plat>/<Well E11>', 'Dispensing 100uL at <Deck>/<Slot C1>/<Container plat>/<Well E11>', 'Aspirating 100uL at <Deck>/<Slot C1>/<Container plat>/<Well E11>', 'Dispensing 100uL at <Deck>/<Slot C1>/<Container plat>/<Well E11>', 'Aspirating 100uL at <Deck>/<Slot C1>/<Container plat>/<Well E10>', 'Dispensing 100uL at <Deck>/<Slot C1>/<Container plat>/<Well E10>', 'Aspirating 100uL at <Deck>/<Slot C1>/<Container plat>/<Well E10>', 'Dispensing 100uL at <Deck>/<Slot C1>/<Container plat>/<Well E10>', 'Aspirating 100uL at <Deck>/<Slot C1>/<Container plat>/<Well E10>', 'Dispensing 100uL at <Deck>/<Slot C1>/<Container plat>/<Well E10>', 'Drop_tip at <Deck>/<Slot A1>/<Container tips>/<Well A4>', 'Picking up tip from <Deck>/<Slot A1>/<Container tips>/<Well A2>', 'Aspirating 175uL at <Deck>/<Slot C3>/<Container trough>/<Well A1>', 'Dispensing 100uL at <Deck>/<Slot C1>/<Container plat>/<Well E10>', 'Dispensing 50uL at <Deck>/<Slot C1>/<Container plat>/<Well E11>', 'Dispensing 25uL at <Deck>/<Slot C1>/<Container plat>/<Well E12>', 'Drop_tip at <Deck>/<Slot A1>/<Container tips>/<Well A2>', 'Picking up tip from <Deck>/<Slot A1>/<Container tips>/<Well A3>', 'Aspirating 125uL at <Deck>/<Slot C3>/<Container trough>/<Well B1>', 'Dispensing 50uL at <Deck>/<Slot C1>/<Container plat>/<Well E11>', 'Dispensing 75uL at <Deck>/<Slot C1>/<Container plat>/<Well E12>', 'Drop_tip at <Deck>/<Slot A1>/<Container tips>/<Well A3>', 'Picking up tip from <Deck>/<Slot A1>/<Container tips>/<Well A4>', 'Aspirating 75uL at <Deck>/<Slot C3>/<Container trough>/<Well C1>', 'Dispensing 25uL at <Deck>/<Slot C1>/<Container plat>/<Well E10>', 'Dispensing 25uL at <Deck>/<Slot C1>/<Container plat>/<Well E11>', 'Dispensing 25uL at <Deck>/<Slot C1>/<Container plat>/<Well E12>', 'Aspirating 100uL at <Deck>/<Slot C1>/<Container plat>/<Well E12>', 'Dispensing 100uL at <Deck>/<Slot C1>/<Container plat>/<Well E12>', 'Aspirating 100uL at <Deck>/<Slot C1>/<Container plat>/<Well E12>', 'Dispensing 100uL at <Deck>/<Slot C1>/<Container plat>/<Well E12>', 'Aspirating 100uL at <Deck>/<Slot C1>/<Container plat>/<Well E12>', 'Dispensing 100uL at <Deck>/<Slot C1>/<Container plat>/<Well E12>', 'Aspirating 100uL at <Deck>/<Slot C1>/<Container plat>/<Well E11>', 'Dispensing 100uL at <Deck>/<Slot C1>/<Container plat>/<Well E11>', 'Aspirating 100uL at <Deck>/<Slot C1>/<Container plat>/<Well E11>', 'Dispensing 100uL at <Deck>/<Slot C1>/<Container plat>/<Well E11>', 'Aspirating 100uL at <Deck>/<Slot C1>/<Container plat>/<Well E11>', 'Dispensing 100uL at <Deck>/<Slot C1>/<Container plat>/<Well E11>', 'Aspirating 100uL at <Deck>/<Slot C1>/<Container plat>/<Well E10>', 'Dispensing 100uL at <Deck>/<Slot C1>/<Container plat>/<Well E10>', 'Aspirating 100uL at <Deck>/<Slot C1>/<Container plat>/<Well E10>', 'Dispensing 100uL at <Deck>/<Slot C1>/<Container plat>/<Well E10>', 'Aspirating 100uL at <Deck>/<Slot C1>/<Container plat>/<Well E10>', 'Dispensing 100uL at <Deck>/<Slot C1>/<Container plat>/<Well E10>', 'Drop_tip at <Deck>/<Slot A1>/<Container tips>/<Well A4>', 'Picking up tip from <Deck>/<Slot A1>/<Container tips>/<Well A2>', 'Aspirating 175uL at <Deck>/<Slot C3>/<Container trough>/<Well A1>', 'Dispensing 100uL at <Deck>/<Slot C1>/<Container plat>/<Well E10>', 'Dispensing 50uL at <Deck>/<Slot C1>/<Container plat>/<Well E11>', 'Dispensing 25uL at <Deck>/<Slot C1>/<Container plat>/<Well E12>', 'Drop_tip at <Deck>/<Slot A1>/<Container tips>/<Well A2>', 'Picking up tip from <Deck>/<Slot A1>/<Container tips>/<Well A3>', 'Aspirating 125uL at <Deck>/<Slot C3>/<Container trough>/<Well B1>', 'Dispensing 50uL at <Deck>/<Slot C1>/<Container plat>/<Well E11>', 'Dispensing 75uL at <Deck>/<Slot C1>/<Container plat>/<Well E12>', 'Drop_tip at <Deck>/<Slot A1>/<Container tips>/<Well A3>', 'Picking up tip from <Deck>/<Slot A1>/<Container tips>/<Well A4>', 'Aspirating 75uL at <Deck>/<Slot C3>/<Container trough>/<Well C1>', 'Dispensing 25uL at <Deck>/<Slot C1>/<Container plat>/<Well E10>', 'Dispensing 25uL at <Deck>/<Slot C1>/<Container plat>/<Well E11>', 'Dispensing 25uL at <Deck>/<Slot C1>/<Container plat>/<Well E12>', 'Aspirating 100uL at <Deck>/<Slot C1>/<Container plat>/<Well E12>', 'Dispensing 100uL at <Deck>/<Slot C1>/<Container plat>/<Well E12>', 'Aspirating 100uL at <Deck>/<Slot C1>/<Container plat>/<Well E12>', 'Dispensing 100uL at <Deck>/<Slot C1>/<Container plat>/<Well E12>', 'Aspirating 100uL at <Deck>/<Slot C1>/<Container plat>/<Well E12>', 'Dispensing 100uL at <Deck>/<Slot C1>/<Container plat>/<Well E12>', 'Aspirating 100uL at <Deck>/<Slot C1>/<Container plat>/<Well E11>', 'Dispensing 100uL at <Deck>/<Slot C1>/<Container plat>/<Well E11>', 'Aspirating 100uL at <Deck>/<Slot C1>/<Container plat>/<Well E11>', 'Dispensing 100uL at <Deck>/<Slot C1>/<Container plat>/<Well E11>', 'Aspirating 100uL at <Deck>/<Slot C1>/<Container plat>/<Well E11>', 'Dispensing 100uL at <Deck>/<Slot C1>/<Container plat>/<Well E11>', 'Aspirating 100uL at <Deck>/<Slot C1>/<Container plat>/<Well E10>', 'Dispensing 100uL at <Deck>/<Slot C1>/<Container plat>/<Well E10>', 'Aspirating 100uL at <Deck>/<Slot C1>/<Container plat>/<Well E10>', 'Dispensing 100uL at <Deck>/<Slot C1>/<Container plat>/<Well E10>', 'Aspirating 100uL at <Deck>/<Slot C1>/<Container plat>/<Well E10>', 'Dispensing 100uL at <Deck>/<Slot C1>/<Container plat>/<Well E10>', 'Drop_tip at <Deck>/<Slot A1>/<Container tips>/<Well A4>', 'Picking up tip from <Deck>/<Slot A1>/<Container tips>/<Well A2>', 'Aspirating 175uL at <Deck>/<Slot C3>/<Container trough>/<Well A1>', 'Dispensing 100uL at <Deck>/<Slot C1>/<Container plat>/<Well E10>', 'Dispensing 50uL at <Deck>/<Slot C1>/<Container plat>/<Well E11>', 'Dispensing 25uL at <Deck>/<Slot C1>/<Container plat>/<Well E12>', 'Drop_tip at <Deck>/<Slot A1>/<Container tips>/<Well A2>', 'Picking up tip from <Deck>/<Slot A1>/<Container tips>/<Well A3>', 'Aspirating 125uL at <Deck>/<Slot C3>/<Container trough>/<Well B1>', 'Dispensing 50uL at <Deck>/<Slot C1>/<Container plat>/<Well E11>', 'Dispensing 75uL at <Deck>/<Slot C1>/<Container plat>/<Well E12>', 'Drop_tip at <Deck>/<Slot A1>/<Container tips>/<Well A3>', 'Picking up tip from <Deck>/<Slot A1>/<Container tips>/<Well A4>', 'Aspirating 75uL at <Deck>/<Slot C3>/<Container trough>/<Well C1>', 'Dispensing 25uL at <Deck>/<Slot C1>/<Container plat>/<Well E10>', 'Dispensing 25uL at <Deck>/<Slot C1>/<Container plat>/<Well E11>', 'Dispensing 25uL at <Deck>/<Slot C1>/<Container plat>/<Well E12>', 'Aspirating 100uL at <Deck>/<Slot C1>/<Container plat>/<Well E12>', 'Dispensing 100uL at <Deck>/<Slot C1>/<Container plat>/<Well E12>', 'Aspirating 100uL at <Deck>/<Slot C1>/<Container plat>/<Well E12>', 'Dispensing 100uL at <Deck>/<Slot C1>/<Container plat>/<Well E12>', 'Aspirating 100uL at <Deck>/<Slot C1>/<Container plat>/<Well E12>', 'Dispensing 100uL at <Deck>/<Slot C1>/<Container plat>/<Well E12>', 'Aspirating 100uL at <Deck>/<Slot C1>/<Container plat>/<Well E11>', 'Dispensing 100uL at <Deck>/<Slot C1>/<Container plat>/<Well E11>', 'Aspirating 100uL at <Deck>/<Slot C1>/<Container plat>/<Well E11>', 'Dispensing 100uL at <Deck>/<Slot C1>/<Container plat>/<Well E11>', 'Aspirating 100uL at <Deck>/<Slot C1>/<Container plat>/<Well E11>', 'Dispensing 100uL at <Deck>/<Slot C1>/<Container plat>/<Well E11>', 'Aspirating 100uL at <Deck>/<Slot C1>/<Container plat>/<Well E10>', 'Dispensing 100uL at <Deck>/<Slot C1>/<Container plat>/<Well E10>', 'Aspirating 100uL at <Deck>/<Slot C1>/<Container plat>/<Well E10>', 'Dispensing 100uL at <Deck>/<Slot C1>/<Container plat>/<Well E10>', 'Aspirating 100uL at <Deck>/<Slot C1>/<Container plat>/<Well E10>', 'Dispensing 100uL at <Deck>/<Slot C1>/<Container plat>/<Well E10>', 'Drop_tip at <Deck>/<Slot A1>/<Container tips>/<Well A4>', 'Picking up tip from <Deck>/<Slot A1>/<Container tips>/<Well A2>', 'Aspirating 175uL at <Deck>/<Slot C3>/<Container trough>/<Well A1>', 'Dispensing 100uL at <Deck>/<Slot C1>/<Container plat>/<Well E10>', 'Dispensing 50uL at <Deck>/<Slot C1>/<Container plat>/<Well E11>', 'Dispensing 25uL at <Deck>/<Slot C1>/<Container plat>/<Well E12>', 'Drop_tip at <Deck>/<Slot A1>/<Container tips>/<Well A2>', 'Picking up tip from <Deck>/<Slot A1>/<Container tips>/<Well A3>', 'Aspirating 125uL at <Deck>/<Slot C3>/<Container trough>/<Well B1>', 'Dispensing 50uL at <Deck>/<Slot C1>/<Container plat>/<Well E11>', 'Dispensing 75uL at <Deck>/<Slot C1>/<Container plat>/<Well E12>', 'Drop_tip at <Deck>/<Slot A1>/<Container tips>/<Well A3>', 'Picking up tip from <Deck>/<Slot A1>/<Container tips>/<Well A4>', 'Aspirating 75uL at <Deck>/<Slot C3>/<Container trough>/<Well C1>', 'Dispensing 25uL at <Deck>/<Slot C1>/<Container plat>/<Well E10>', 'Dispensing 25uL at <Deck>/<Slot C1>/<Container plat>/<Well E11>', 'Dispensing 25uL at <Deck>/<Slot C1>/<Container plat>/<Well E12>', 'Aspirating 100uL at <Deck>/<Slot C1>/<Container plat>/<Well E12>', 'Dispensing 100uL at <Deck>/<Slot C1>/<Container plat>/<Well E12>', 'Aspirating 100uL at <Deck>/<Slot C1>/<Container plat>/<Well E12>', 'Dispensing 100uL at <Deck>/<Slot C1>/<Container plat>/<Well E12>', 'Aspirating 100uL at <Deck>/<Slot C1>/<Container plat>/<Well E12>', 'Dispensing 100uL at <Deck>/<Slot C1>/<Container plat>/<Well E12>', 'Aspirating 100uL at <Deck>/<Slot C1>/<Container plat>/<Well E11>', 'Dispensing 100uL at <Deck>/<Slot C1>/<Container plat>/<Well E11>', 'Aspirating 100uL at <Deck>/<Slot C1>/<Container plat>/<Well E11>', 'Dispensing 100uL at <Deck>/<Slot C1>/<Container plat>/<Well E11>', 'Aspirating 100uL at <Deck>/<Slot C1>/<Container plat>/<Well E11>', 'Dispensing 100uL at <Deck>/<Slot C1>/<Container plat>/<Well E11>', 'Aspirating 100uL at <Deck>/<Slot C1>/<Container plat>/<Well E10>', 'Dispensing 100uL at <Deck>/<Slot C1>/<Container plat>/<Well E10>', 'Aspirating 100uL at <Deck>/<Slot C1>/<Container plat>/<Well E10>', 'Dispensing 100uL at <Deck>/<Slot C1>/<Container plat>/<Well E10>', 'Aspirating 100uL at <Deck>/<Slot C1>/<Container plat>/<Well E10>', 'Dispensing 100uL at <Deck>/<Slot C1>/<Container plat>/<Well E10>', 'Drop_tip at <Deck>/<Slot A1>/<Container tips>/<Well A4>', 'Picking up tip from <Deck>/<Slot A1>/<Container tips>/<Well A2>', 'Aspirating 175uL at <Deck>/<Slot C3>/<Container trough>/<Well A1>', 'Dispensing 100uL at <Deck>/<Slot C1>/<Container plat>/<Well E10>', 'Dispensing 50uL at <Deck>/<Slot C1>/<Container plat>/<Well E11>', 'Dispensing 25uL at <Deck>/<Slot C1>/<Container plat>/<Well E12>', 'Drop_tip at <Deck>/<Slot A1>/<Container tips>/<Well A2>', 'Picking up tip from <Deck>/<Slot A1>/<Container tips>/<Well A3>', 'Aspirating 125uL at <Deck>/<Slot C3>/<Container trough>/<Well B1>', 'Dispensing 50uL at <Deck>/<Slot C1>/<Container plat>/<Well E11>', 'Dispensing 75uL at <Deck>/<Slot C1>/<Container plat>/<Well E12>', 'Drop_tip at <Deck>/<Slot A1>/<Container tips>/<Well A3>', 'Picking up tip from <Deck>/<Slot A1>/<Container tips>/<Well A4>', 'Aspirating 75uL at <Deck>/<Slot C3>/<Container trough>/<Well C1>', 'Dispensing 25uL at <Deck>/<Slot C1>/<Container plat>/<Well E10>', 'Dispensing 25uL at <Deck>/<Slot C1>/<Container plat>/<Well E11>', 'Dispensing 25uL at <Deck>/<Slot C1>/<Container plat>/<Well E12>', 'Aspirating 100uL at <Deck>/<Slot C1>/<Container plat>/<Well E12>', 'Dispensing 100uL at <Deck>/<Slot C1>/<Container plat>/<Well E12>', 'Aspirating 100uL at <Deck>/<Slot C1>/<Container plat>/<Well E12>', 'Dispensing 100uL at <Deck>/<Slot C1>/<Container plat>/<Well E12>', 'Aspirating 100uL at <Deck>/<Slot C1>/<Container plat>/<Well E12>', 'Dispensing 100uL at <Deck>/<Slot C1>/<Container plat>/<Well E12>', 'Aspirating 100uL at <Deck>/<Slot C1>/<Container plat>/<Well E11>', 'Dispensing 100uL at <Deck>/<Slot C1>/<Container plat>/<Well E11>', 'Aspirating 100uL at <Deck>/<Slot C1>/<Container plat>/<Well E11>', 'Dispensing 100uL at <Deck>/<Slot C1>/<Container plat>/<Well E11>', 'Aspirating 100uL at <Deck>/<Slot C1>/<Container plat>/<Well E11>', 'Dispensing 100uL at <Deck>/<Slot C1>/<Container plat>/<Well E11>', 'Aspirating 100uL at <Deck>/<Slot C1>/<Container plat>/<Well E10>', 'Dispensing 100uL at <Deck>/<Slot C1>/<Container plat>/<Well E10>', 'Aspirating 100uL at <Deck>/<Slot C1>/<Container plat>/<Well E10>', 'Dispensing 100uL at <Deck>/<Slot C1>/<Container plat>/<Well E10>', 'Aspirating 100uL at <Deck>/<Slot C1>/<Container plat>/<Well E10>', 'Dispensing 100uL at <Deck>/<Slot C1>/<Container plat>/<Well E10>', 'Drop_tip at <Deck>/<Slot A1>/<Container tips>/<Well A4>', 'Picking up tip from <Deck>/<Slot A1>/<Container tips>/<Well A2>', 'Aspirating 175uL at <Deck>/<Slot C3>/<Container trough>/<Well A1>', 'Dispensing 100uL at <Deck>/<Slot C1>/<Container plat>/<Well E10>', 'Dispensing 50uL at <Deck>/<Slot C1>/<Container plat>/<Well E11>', 'Dispensing 25uL at <Deck>/<Slot C1>/<Container plat>/<Well E12>', 'Drop_tip at <Deck>/<Slot A1>/<Container tips>/<Well A2>', 'Picking up tip from <Deck>/<Slot A1>/<Container tips>/<Well A3>', 'Aspirating 125uL at <Deck>/<Slot C3>/<Container trough>/<Well B1>', 'Dispensing 50uL at <Deck>/<Slot C1>/<Container plat>/<Well E11>', 'Dispensing 75uL at <Deck>/<Slot C1>/<Container plat>/<Well E12>', 'Drop_tip at <Deck>/<Slot A1>/<Container tips>/<Well A3>', 'Picking up tip from <Deck>/<Slot A1>/<Container tips>/<Well A4>', 'Aspirating 75uL at <Deck>/<Slot C3>/<Container trough>/<Well C1>', 'Dispensing 25uL at <Deck>/<Slot C1>/<Container plat>/<Well E10>', 'Dispensing 25uL at <Deck>/<Slot C1>/<Container plat>/<Well E11>', 'Dispensing 25uL at <Deck>/<Slot C1>/<Container plat>/<Well E12>', 'Aspirating 100uL at <Deck>/<Slot C1>/<Container plat>/<Well E12>', 'Dispensing 100uL at <Deck>/<Slot C1>/<Container plat>/<Well E12>', 'Aspirating 100uL at <Deck>/<Slot C1>/<Container plat>/<Well E12>', 'Dispensing 100uL at <Deck>/<Slot C1>/<Container plat>/<Well E12>', 'Aspirating 100uL at <Deck>/<Slot C1>/<Container plat>/<Well E12>', 'Dispensing 100uL at <Deck>/<Slot C1>/<Container plat>/<Well E12>', 'Aspirating 100uL at <Deck>/<Slot C1>/<Container plat>/<Well E11>', 'Dispensing 100uL at <Deck>/<Slot C1>/<Container plat>/<Well E11>', 'Aspirating 100uL at <Deck>/<Slot C1>/<Container plat>/<Well E11>', 'Dispensing 100uL at <Deck>/<Slot C1>/<Container plat>/<Well E11>', 'Aspirating 100uL at <Deck>/<Slot C1>/<Container plat>/<Well E11>', 'Dispensing 100uL at <Deck>/<Slot C1>/<Container plat>/<Well E11>', 'Aspirating 100uL at <Deck>/<Slot C1>/<Container plat>/<Well E10>', 'Dispensing 100uL at <Deck>/<Slot C1>/<Container plat>/<Well E10>', 'Aspirating 100uL at <Deck>/<Slot C1>/<Container plat>/<Well E10>', 'Dispensing 100uL at <Deck>/<Slot C1>/<Container plat>/<Well E10>', 'Aspirating 100uL at <Deck>/<Slot C1>/<Container plat>/<Well E10>', 'Dispensing 100uL at <Deck>/<Slot C1>/<Container plat>/<Well E10>', 'Drop_tip at <Deck>/<Slot A1>/<Container tips>/<Well A4>']\n"
     ]
    }
   ],
   "source": []
  },
  {
   "cell_type": "code",
   "execution_count": 2,
   "metadata": {},
   "outputs": [
    {
     "name": "stdout",
     "output_type": "stream",
     "text": [
      "Collecting opentrons\n",
      "  Using cached opentrons-2.2.0-py2.py3-none-any.whl\n",
      "Collecting pyserial==3.2.1 (from opentrons)\n",
      "  Using cached pyserial-3.2.1-py2.py3-none-any.whl\n",
      "Collecting requests>=2.12.4 (from opentrons)\n",
      "  Downloading requests-2.13.0-py2.py3-none-any.whl (584kB)\n",
      "Collecting dill==0.2.5 (from opentrons)\n",
      "  Downloading dill-0.2.5.tgz (60kB)\n",
      "Collecting pyreadline>=1.7.1 (from dill==0.2.5->opentrons)\n",
      "  Downloading pyreadline-2.1.zip (109kB)\n",
      "Installing collected packages: pyserial, requests, pyreadline, dill, opentrons\n",
      "  Running setup.py install for pyreadline: started\n",
      "    Running setup.py install for pyreadline: finished with status 'done'\n",
      "  Running setup.py install for dill: started\n",
      "    Running setup.py install for dill: finished with status 'done'\n",
      "Successfully installed dill-0.2.5 opentrons-2.2.0 pyreadline-2.1 pyserial-3.2.1 requests-2.13.0\n"
     ]
    }
   ],
   "source": [
    "!pip install --upgrade opentrons"
   ]
  }
 ],
 "metadata": {
  "kernelspec": {
   "display_name": "Python 3",
   "language": "python",
   "name": "python3"
  },
  "language_info": {
   "codemirror_mode": {
    "name": "ipython",
    "version": 3
   },
   "file_extension": ".py",
   "mimetype": "text/x-python",
   "name": "python",
   "nbconvert_exporter": "python",
   "pygments_lexer": "ipython3",
   "version": "3.4.3"
  }
 },
 "nbformat": 4,
 "nbformat_minor": 2
}
