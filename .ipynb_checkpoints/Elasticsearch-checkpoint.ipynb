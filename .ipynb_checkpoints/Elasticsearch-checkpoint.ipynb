{
 "cells": [
  {
   "cell_type": "code",
   "execution_count": 42,
   "metadata": {
    "collapsed": false
   },
   "outputs": [],
   "source": [
    "from datetime import datetime\n",
    "from elasticsearch_dsl.connections import connections\n",
    "from elasticsearch_dsl import Mapping, Nested, DocType, Date, Boolean, Index, String, analyzer, tokenizer"
   ]
  },
  {
   "cell_type": "code",
   "execution_count": 3,
   "metadata": {
    "collapsed": false
   },
   "outputs": [
    {
     "data": {
      "text/plain": [
       "<Elasticsearch([{'host': 'elasticsearch.promec.svc'}])>"
      ]
     },
     "execution_count": 3,
     "metadata": {},
     "output_type": "execute_result"
    }
   ],
   "source": [
    "connections.create_connection(hosts=['elasticsearch.promec.svc'], timeout=20)"
   ]
  },
  {
   "cell_type": "code",
   "execution_count": 12,
   "metadata": {
    "collapsed": false
   },
   "outputs": [
    {
     "data": {
      "text/plain": [
       "{'active_primary_shards': 3,\n",
       " 'active_shards': 3,\n",
       " 'active_shards_percent_as_number': 75.0,\n",
       " 'cluster_name': 'elasticsearch',\n",
       " 'delayed_unassigned_shards': 0,\n",
       " 'initializing_shards': 0,\n",
       " 'number_of_data_nodes': 1,\n",
       " 'number_of_in_flight_fetch': 0,\n",
       " 'number_of_nodes': 1,\n",
       " 'number_of_pending_tasks': 0,\n",
       " 'relocating_shards': 0,\n",
       " 'status': 'yellow',\n",
       " 'task_max_waiting_in_queue_millis': 0,\n",
       " 'timed_out': False,\n",
       " 'unassigned_shards': 1}"
      ]
     },
     "execution_count": 12,
     "metadata": {},
     "output_type": "execute_result"
    }
   ],
   "source": [
    "connections.get_connection().cluster.health()"
   ]
  },
  {
   "cell_type": "code",
   "execution_count": 67,
   "metadata": {
    "collapsed": false
   },
   "outputs": [],
   "source": [
    "promec = Index('promec')\n",
    "# define custom settings\n",
    "promec.settings(\n",
    "    number_of_shards=1,\n",
    "    number_of_replicas=0\n",
    ")\n",
    "\n",
    "promec.create()"
   ]
  },
  {
   "cell_type": "code",
   "execution_count": 68,
   "metadata": {
    "collapsed": false
   },
   "outputs": [],
   "source": [
    "class SpectrumQuery(DocType):\n",
    "    fileName = String()\n",
    "    created_at = Date()\n",
    "    \n",
    "    class Meta:\n",
    "        index = 'promec'\n",
    "\n",
    "    def add_filename(self, fName):\n",
    "        self.fileName = fname\n",
    "\n",
    "    def save(self, ** kwargs):\n",
    "        self.created_at = datetime.now()\n",
    "        return super().save(** kwargs)"
   ]
  },
  {
   "cell_type": "code",
   "execution_count": 69,
   "metadata": {
    "collapsed": false
   },
   "outputs": [
    {
     "data": {
      "text/plain": [
       "{'acknowledged': True}"
      ]
     },
     "execution_count": 69,
     "metadata": {},
     "output_type": "execute_result"
    }
   ],
   "source": [
    "promec.close()\n",
    "SpectrumQuery.init()\n",
    "promec.open()"
   ]
  },
  {
   "cell_type": "code",
   "execution_count": 70,
   "metadata": {
    "collapsed": false
   },
   "outputs": [
    {
     "data": {
      "text/plain": [
       "True"
      ]
     },
     "execution_count": 70,
     "metadata": {},
     "output_type": "execute_result"
    }
   ],
   "source": [
    "sQuery = SpectrumQuery(fileName = \"testfile here\")\n",
    "sQuery.meta.id = 42\n",
    "sQuery.save()\n",
    "sQuery = SpectrumQuery(fileName = \"done here\")\n",
    "sQuery.meta.id = 24\n",
    "sQuery.save()"
   ]
  },
  {
   "cell_type": "code",
   "execution_count": 71,
   "metadata": {
    "collapsed": false
   },
   "outputs": [
    {
     "name": "stdout",
     "output_type": "stream",
     "text": [
      "testfile here\n"
     ]
    }
   ],
   "source": [
    "data = SpectrumQuery.get(id=42)\n",
    "print(data.fileName)"
   ]
  },
  {
   "cell_type": "code",
   "execution_count": 73,
   "metadata": {
    "collapsed": false
   },
   "outputs": [
    {
     "name": "stdout",
     "output_type": "stream",
     "text": [
      "testfile here\n"
     ]
    }
   ],
   "source": [
    "s = SpectrumQuery.search()\n",
    "results = s.query('match', fileName='testfile').execute()\n",
    "\n",
    "for spectraQ in results:\n",
    "    print(spectraQ.fileName)"
   ]
  },
  {
   "cell_type": "code",
   "execution_count": 74,
   "metadata": {
    "collapsed": false
   },
   "outputs": [
    {
     "name": "stdout",
     "output_type": "stream",
     "text": [
      "testfile here\n",
      "done here\n"
     ]
    }
   ],
   "source": [
    "s = SpectrumQuery.search()\n",
    "results = s.query('match', fileName='here').execute()\n",
    "\n",
    "for spectraQ in results:\n",
    "    print(spectraQ.fileName)"
   ]
  }
 ],
 "metadata": {
  "kernelspec": {
   "display_name": "Python 3",
   "language": "python",
   "name": "python3"
  },
  "language_info": {
   "codemirror_mode": {
    "name": "ipython",
    "version": 3
   },
   "file_extension": ".py",
   "mimetype": "text/x-python",
   "name": "python",
   "nbconvert_exporter": "python",
   "pygments_lexer": "ipython3",
   "version": "3.5.2"
  }
 },
 "nbformat": 4,
 "nbformat_minor": 2
}
