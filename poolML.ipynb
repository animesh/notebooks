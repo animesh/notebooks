{
 "cells": [
  {
   "cell_type": "markdown",
   "metadata": {},
   "source": [
    "Effect of pooling samples on the efficiency of comparative studies using microarrays\n",
    "https://academic.oup.com/bioinformatics/article/21/24/4378/180078"
   ]
  },
  {
   "cell_type": "code",
   "execution_count": 1,
   "metadata": {
    "ExecuteTime": {
     "end_time": "2019-09-03T08:29:38.105861Z",
     "start_time": "2019-09-03T08:29:38.102754Z"
    }
   },
   "outputs": [
    {
     "name": "stdout",
     "output_type": "stream",
     "text": [
      "/mnt/c/Users/animeshs/GD/notebooks\n"
     ]
    },
    {
     "data": {
      "text/plain": [
       "True"
      ]
     },
     "execution_count": 1,
     "metadata": {},
     "output_type": "execute_result"
    }
   ],
   "source": [
    "from pathlib import Path\n",
    "inpD = Path.cwd()\n",
    "print(inpD)\n",
    "inpF=\"proteinGroups.txt\"\n",
    "Path.exists(inpD/inpF)"
   ]
  },
  {
   "cell_type": "code",
   "execution_count": 2,
   "metadata": {
    "ExecuteTime": {
     "end_time": "2019-09-03T08:29:41.162372Z",
     "start_time": "2019-09-03T08:29:38.132191Z"
    }
   },
   "outputs": [
    {
     "data": {
      "text/html": [
       "<div>\n",
       "<style scoped>\n",
       "    .dataframe tbody tr th:only-of-type {\n",
       "        vertical-align: middle;\n",
       "    }\n",
       "\n",
       "    .dataframe tbody tr th {\n",
       "        vertical-align: top;\n",
       "    }\n",
       "\n",
       "    .dataframe thead th {\n",
       "        text-align: right;\n",
       "    }\n",
       "</style>\n",
       "<table border=\"1\" class=\"dataframe\">\n",
       "  <thead>\n",
       "    <tr style=\"text-align: right;\">\n",
       "      <th></th>\n",
       "      <th>Number of proteins</th>\n",
       "      <th>Peptides</th>\n",
       "      <th>Razor + unique peptides</th>\n",
       "      <th>Unique peptides</th>\n",
       "      <th>Peptides 1_TK9_ctr1</th>\n",
       "      <th>Peptides 10_TK9_combi_1</th>\n",
       "      <th>Peptides 11_TK9_combi_2</th>\n",
       "      <th>Peptides 12_TK9_combi_3</th>\n",
       "      <th>Peptides 13_TK9_ctr_poolet</th>\n",
       "      <th>Peptides 14_TK9_apim_poolet</th>\n",
       "      <th>...</th>\n",
       "      <th>MS/MS count 2_TK9_ctr2</th>\n",
       "      <th>MS/MS count 3_TK9_ctr3</th>\n",
       "      <th>MS/MS count 4_TK9_apim1</th>\n",
       "      <th>MS/MS count 5_TK9_apim_2</th>\n",
       "      <th>MS/MS count 6_TK9_apim_3</th>\n",
       "      <th>MS/MS count 7_TK9_mel_1</th>\n",
       "      <th>MS/MS count 8_TK9_mel_2</th>\n",
       "      <th>MS/MS count 9_TK9_mel_3</th>\n",
       "      <th>MS/MS count</th>\n",
       "      <th>id</th>\n",
       "    </tr>\n",
       "  </thead>\n",
       "  <tbody>\n",
       "    <tr>\n",
       "      <th>count</th>\n",
       "      <td>3459.000000</td>\n",
       "      <td>3459.000000</td>\n",
       "      <td>3459.000000</td>\n",
       "      <td>3459.000000</td>\n",
       "      <td>3459.000000</td>\n",
       "      <td>3459.000000</td>\n",
       "      <td>3459.000000</td>\n",
       "      <td>3459.000000</td>\n",
       "      <td>3459.000000</td>\n",
       "      <td>3459.000000</td>\n",
       "      <td>...</td>\n",
       "      <td>3459.000000</td>\n",
       "      <td>3459.000000</td>\n",
       "      <td>3459.000000</td>\n",
       "      <td>3459.000000</td>\n",
       "      <td>3459.000000</td>\n",
       "      <td>3459.000000</td>\n",
       "      <td>3459.000000</td>\n",
       "      <td>3459.000000</td>\n",
       "      <td>3459.000000</td>\n",
       "      <td>3459.000000</td>\n",
       "    </tr>\n",
       "    <tr>\n",
       "      <th>mean</th>\n",
       "      <td>4.877132</td>\n",
       "      <td>6.719283</td>\n",
       "      <td>6.064759</td>\n",
       "      <td>5.531078</td>\n",
       "      <td>5.307314</td>\n",
       "      <td>5.090199</td>\n",
       "      <td>5.637178</td>\n",
       "      <td>4.636022</td>\n",
       "      <td>4.185892</td>\n",
       "      <td>4.901706</td>\n",
       "      <td>...</td>\n",
       "      <td>3.647297</td>\n",
       "      <td>2.129228</td>\n",
       "      <td>3.229257</td>\n",
       "      <td>2.794449</td>\n",
       "      <td>2.292570</td>\n",
       "      <td>3.470656</td>\n",
       "      <td>2.975716</td>\n",
       "      <td>2.764672</td>\n",
       "      <td>46.131252</td>\n",
       "      <td>1729.000000</td>\n",
       "    </tr>\n",
       "    <tr>\n",
       "      <th>std</th>\n",
       "      <td>4.543498</td>\n",
       "      <td>12.373436</td>\n",
       "      <td>10.671680</td>\n",
       "      <td>9.251849</td>\n",
       "      <td>10.517967</td>\n",
       "      <td>10.196903</td>\n",
       "      <td>11.084116</td>\n",
       "      <td>9.400613</td>\n",
       "      <td>8.864174</td>\n",
       "      <td>10.207117</td>\n",
       "      <td>...</td>\n",
       "      <td>9.656592</td>\n",
       "      <td>6.163176</td>\n",
       "      <td>8.554172</td>\n",
       "      <td>7.351083</td>\n",
       "      <td>6.739384</td>\n",
       "      <td>9.014027</td>\n",
       "      <td>8.271177</td>\n",
       "      <td>7.435989</td>\n",
       "      <td>123.081845</td>\n",
       "      <td>998.671618</td>\n",
       "    </tr>\n",
       "    <tr>\n",
       "      <th>min</th>\n",
       "      <td>1.000000</td>\n",
       "      <td>1.000000</td>\n",
       "      <td>1.000000</td>\n",
       "      <td>0.000000</td>\n",
       "      <td>0.000000</td>\n",
       "      <td>0.000000</td>\n",
       "      <td>0.000000</td>\n",
       "      <td>0.000000</td>\n",
       "      <td>0.000000</td>\n",
       "      <td>0.000000</td>\n",
       "      <td>...</td>\n",
       "      <td>0.000000</td>\n",
       "      <td>0.000000</td>\n",
       "      <td>0.000000</td>\n",
       "      <td>0.000000</td>\n",
       "      <td>0.000000</td>\n",
       "      <td>0.000000</td>\n",
       "      <td>0.000000</td>\n",
       "      <td>0.000000</td>\n",
       "      <td>0.000000</td>\n",
       "      <td>0.000000</td>\n",
       "    </tr>\n",
       "    <tr>\n",
       "      <th>25%</th>\n",
       "      <td>2.000000</td>\n",
       "      <td>2.000000</td>\n",
       "      <td>2.000000</td>\n",
       "      <td>1.000000</td>\n",
       "      <td>1.000000</td>\n",
       "      <td>1.000000</td>\n",
       "      <td>1.000000</td>\n",
       "      <td>1.000000</td>\n",
       "      <td>1.000000</td>\n",
       "      <td>1.000000</td>\n",
       "      <td>...</td>\n",
       "      <td>0.000000</td>\n",
       "      <td>0.000000</td>\n",
       "      <td>0.000000</td>\n",
       "      <td>0.000000</td>\n",
       "      <td>0.000000</td>\n",
       "      <td>0.000000</td>\n",
       "      <td>0.000000</td>\n",
       "      <td>0.000000</td>\n",
       "      <td>5.000000</td>\n",
       "      <td>864.500000</td>\n",
       "    </tr>\n",
       "    <tr>\n",
       "      <th>50%</th>\n",
       "      <td>4.000000</td>\n",
       "      <td>4.000000</td>\n",
       "      <td>3.000000</td>\n",
       "      <td>3.000000</td>\n",
       "      <td>3.000000</td>\n",
       "      <td>3.000000</td>\n",
       "      <td>3.000000</td>\n",
       "      <td>2.000000</td>\n",
       "      <td>2.000000</td>\n",
       "      <td>2.000000</td>\n",
       "      <td>...</td>\n",
       "      <td>1.000000</td>\n",
       "      <td>1.000000</td>\n",
       "      <td>1.000000</td>\n",
       "      <td>1.000000</td>\n",
       "      <td>1.000000</td>\n",
       "      <td>1.000000</td>\n",
       "      <td>1.000000</td>\n",
       "      <td>1.000000</td>\n",
       "      <td>15.000000</td>\n",
       "      <td>1729.000000</td>\n",
       "    </tr>\n",
       "    <tr>\n",
       "      <th>75%</th>\n",
       "      <td>6.000000</td>\n",
       "      <td>8.000000</td>\n",
       "      <td>7.000000</td>\n",
       "      <td>6.000000</td>\n",
       "      <td>6.000000</td>\n",
       "      <td>6.000000</td>\n",
       "      <td>6.500000</td>\n",
       "      <td>5.000000</td>\n",
       "      <td>5.000000</td>\n",
       "      <td>6.000000</td>\n",
       "      <td>...</td>\n",
       "      <td>4.000000</td>\n",
       "      <td>2.000000</td>\n",
       "      <td>3.000000</td>\n",
       "      <td>3.000000</td>\n",
       "      <td>2.000000</td>\n",
       "      <td>3.000000</td>\n",
       "      <td>3.000000</td>\n",
       "      <td>3.000000</td>\n",
       "      <td>44.000000</td>\n",
       "      <td>2593.500000</td>\n",
       "    </tr>\n",
       "    <tr>\n",
       "      <th>max</th>\n",
       "      <td>40.000000</td>\n",
       "      <td>324.000000</td>\n",
       "      <td>324.000000</td>\n",
       "      <td>324.000000</td>\n",
       "      <td>283.000000</td>\n",
       "      <td>269.000000</td>\n",
       "      <td>292.000000</td>\n",
       "      <td>260.000000</td>\n",
       "      <td>215.000000</td>\n",
       "      <td>285.000000</td>\n",
       "      <td>...</td>\n",
       "      <td>303.000000</td>\n",
       "      <td>200.000000</td>\n",
       "      <td>246.000000</td>\n",
       "      <td>234.000000</td>\n",
       "      <td>229.000000</td>\n",
       "      <td>274.000000</td>\n",
       "      <td>259.000000</td>\n",
       "      <td>218.000000</td>\n",
       "      <td>3903.000000</td>\n",
       "      <td>3458.000000</td>\n",
       "    </tr>\n",
       "  </tbody>\n",
       "</table>\n",
       "<p>8 rows × 126 columns</p>\n",
       "</div>"
      ],
      "text/plain": [
       "       Number of proteins     Peptides  Razor + unique peptides  \\\n",
       "count         3459.000000  3459.000000              3459.000000   \n",
       "mean             4.877132     6.719283                 6.064759   \n",
       "std              4.543498    12.373436                10.671680   \n",
       "min              1.000000     1.000000                 1.000000   \n",
       "25%              2.000000     2.000000                 2.000000   \n",
       "50%              4.000000     4.000000                 3.000000   \n",
       "75%              6.000000     8.000000                 7.000000   \n",
       "max             40.000000   324.000000               324.000000   \n",
       "\n",
       "       Unique peptides  Peptides 1_TK9_ctr1  Peptides 10_TK9_combi_1  \\\n",
       "count      3459.000000          3459.000000              3459.000000   \n",
       "mean          5.531078             5.307314                 5.090199   \n",
       "std           9.251849            10.517967                10.196903   \n",
       "min           0.000000             0.000000                 0.000000   \n",
       "25%           1.000000             1.000000                 1.000000   \n",
       "50%           3.000000             3.000000                 3.000000   \n",
       "75%           6.000000             6.000000                 6.000000   \n",
       "max         324.000000           283.000000               269.000000   \n",
       "\n",
       "       Peptides 11_TK9_combi_2  Peptides 12_TK9_combi_3  \\\n",
       "count              3459.000000              3459.000000   \n",
       "mean                  5.637178                 4.636022   \n",
       "std                  11.084116                 9.400613   \n",
       "min                   0.000000                 0.000000   \n",
       "25%                   1.000000                 1.000000   \n",
       "50%                   3.000000                 2.000000   \n",
       "75%                   6.500000                 5.000000   \n",
       "max                 292.000000               260.000000   \n",
       "\n",
       "       Peptides 13_TK9_ctr_poolet  Peptides 14_TK9_apim_poolet  ...  \\\n",
       "count                 3459.000000                  3459.000000  ...   \n",
       "mean                     4.185892                     4.901706  ...   \n",
       "std                      8.864174                    10.207117  ...   \n",
       "min                      0.000000                     0.000000  ...   \n",
       "25%                      1.000000                     1.000000  ...   \n",
       "50%                      2.000000                     2.000000  ...   \n",
       "75%                      5.000000                     6.000000  ...   \n",
       "max                    215.000000                   285.000000  ...   \n",
       "\n",
       "       MS/MS count 2_TK9_ctr2  MS/MS count 3_TK9_ctr3  \\\n",
       "count             3459.000000             3459.000000   \n",
       "mean                 3.647297                2.129228   \n",
       "std                  9.656592                6.163176   \n",
       "min                  0.000000                0.000000   \n",
       "25%                  0.000000                0.000000   \n",
       "50%                  1.000000                1.000000   \n",
       "75%                  4.000000                2.000000   \n",
       "max                303.000000              200.000000   \n",
       "\n",
       "       MS/MS count 4_TK9_apim1  MS/MS count 5_TK9_apim_2  \\\n",
       "count              3459.000000               3459.000000   \n",
       "mean                  3.229257                  2.794449   \n",
       "std                   8.554172                  7.351083   \n",
       "min                   0.000000                  0.000000   \n",
       "25%                   0.000000                  0.000000   \n",
       "50%                   1.000000                  1.000000   \n",
       "75%                   3.000000                  3.000000   \n",
       "max                 246.000000                234.000000   \n",
       "\n",
       "       MS/MS count 6_TK9_apim_3  MS/MS count 7_TK9_mel_1  \\\n",
       "count               3459.000000              3459.000000   \n",
       "mean                   2.292570                 3.470656   \n",
       "std                    6.739384                 9.014027   \n",
       "min                    0.000000                 0.000000   \n",
       "25%                    0.000000                 0.000000   \n",
       "50%                    1.000000                 1.000000   \n",
       "75%                    2.000000                 3.000000   \n",
       "max                  229.000000               274.000000   \n",
       "\n",
       "       MS/MS count 8_TK9_mel_2  MS/MS count 9_TK9_mel_3  MS/MS count  \\\n",
       "count              3459.000000              3459.000000  3459.000000   \n",
       "mean                  2.975716                 2.764672    46.131252   \n",
       "std                   8.271177                 7.435989   123.081845   \n",
       "min                   0.000000                 0.000000     0.000000   \n",
       "25%                   0.000000                 0.000000     5.000000   \n",
       "50%                   1.000000                 1.000000    15.000000   \n",
       "75%                   3.000000                 3.000000    44.000000   \n",
       "max                 259.000000               218.000000  3903.000000   \n",
       "\n",
       "                id  \n",
       "count  3459.000000  \n",
       "mean   1729.000000  \n",
       "std     998.671618  \n",
       "min       0.000000  \n",
       "25%     864.500000  \n",
       "50%    1729.000000  \n",
       "75%    2593.500000  \n",
       "max    3458.000000  \n",
       "\n",
       "[8 rows x 126 columns]"
      ]
     },
     "execution_count": 2,
     "metadata": {},
     "output_type": "execute_result"
    }
   ],
   "source": [
    "import pandas as pd\n",
    "df = pd.read_table(inpD/inpF)\n",
    "df.describe()"
   ]
  },
  {
   "cell_type": "code",
   "execution_count": 8,
   "metadata": {
    "ExecuteTime": {
     "end_time": "2019-09-03T08:29:43.313237Z",
     "start_time": "2019-09-03T08:29:43.033893Z"
    }
   },
   "outputs": [
    {
     "name": "stdout",
     "output_type": "stream",
     "text": [
      "Index(['apim_poolet', 'pim1', 'pim_2', 'pim_3'], dtype='object')\n"
     ]
    },
    {
     "data": {
      "image/png": "[encoded data removed]",
      "text/plain": [
       "<Figure size 432x288 with 4 Axes>"
      ]
     },
     "metadata": {
      "needs_background": "light"
     },
     "output_type": "display_data"
    }
   ],
   "source": [
    "#pip install matplotlib\n",
    "import numpy as np\n",
    "dfLFQ=df.loc[:, df.columns.str.startswith('LFQ')&df.columns.str.contains('pim')]\n",
    "dfLFQ=dfLFQ.rename(columns = lambda x : str(x)[21:])\n",
    "#df['Ratio H/L normalized 161205_1_19913'].apply(np.log2).hist()\n",
    "(dfLFQ+1).apply(np.log2).hist()\n",
    "#print(dfLFQ.columns)\n",
    "sample=dfLFQ.columns\n",
    "print(sample)"
   ]
  },
  {
   "cell_type": "code",
   "execution_count": 9,
   "metadata": {
    "ExecuteTime": {
     "end_time": "2019-09-03T08:29:43.417809Z",
     "start_time": "2019-09-03T08:29:43.321528Z"
    }
   },
   "outputs": [
    {
     "data": {
      "image/png": "[encoded data removed]",
      "text/plain": [
       "<Figure size 432x288 with 1 Axes>"
      ]
     },
     "metadata": {
      "needs_background": "light"
     },
     "output_type": "display_data"
    }
   ],
   "source": [
    "from ipywidgets import interactive, fixed\n",
    "def select_subject(subID):\n",
    "    df_filtered= dfLFQ[subID]\n",
    "    ax = (df_filtered+1).apply(np.log2).hist(color=\"orange\")\n",
    "interactive(select_subject,subID=sample)"
   ]
  },
  {
   "cell_type": "code",
   "execution_count": 5,
   "metadata": {
    "ExecuteTime": {
     "end_time": "2019-09-03T08:29:43.456380Z",
     "start_time": "2019-09-03T08:29:43.445278Z"
    }
   },
   "outputs": [],
   "source": [
    "dfLFQ[\"Uniprot\"]= df[\"Protein IDs\"].str.split(';').str[0]"
   ]
  },
  {
   "cell_type": "code",
   "execution_count": 6,
   "metadata": {
    "ExecuteTime": {
     "end_time": "2019-09-03T08:29:43.466526Z",
     "start_time": "2019-09-03T08:29:43.458150Z"
    }
   },
   "outputs": [
    {
     "data": {
      "text/plain": [
       "0          A0A024QZ33\n",
       "1          A0A1B0GWH8\n",
       "2          A0A024QZP7\n",
       "3          A0A024R4E5\n",
       "4          A0A087WZA9\n",
       "            ...      \n",
       "3454    REV__Q9C0G6-4\n",
       "3455    REV__Q9NXC5-2\n",
       "3456      REV__Q9ULE4\n",
       "3457           S4R3H4\n",
       "3458           U3KQF5\n",
       "Name: Uniprot, Length: 3459, dtype: object"
      ]
     },
     "execution_count": 6,
     "metadata": {},
     "output_type": "execute_result"
    }
   ],
   "source": [
    "dfLFQ[\"Uniprot\"]"
   ]
  },
  {
   "cell_type": "code",
   "execution_count": 28,
   "metadata": {
    "ExecuteTime": {
     "end_time": "2019-09-03T08:29:43.502399Z",
     "start_time": "2019-09-03T08:29:43.468274Z"
    }
   },
   "outputs": [
    {
     "data": {
      "text/html": [
       "<div>\n",
       "<style scoped>\n",
       "    .dataframe tbody tr th:only-of-type {\n",
       "        vertical-align: middle;\n",
       "    }\n",
       "\n",
       "    .dataframe tbody tr th {\n",
       "        vertical-align: top;\n",
       "    }\n",
       "\n",
       "    .dataframe thead th {\n",
       "        text-align: right;\n",
       "    }\n",
       "</style>\n",
       "<table border=\"1\" class=\"dataframe\">\n",
       "  <thead>\n",
       "    <tr style=\"text-align: right;\">\n",
       "      <th></th>\n",
       "      <th>apim_poolet</th>\n",
       "      <th>pim1</th>\n",
       "      <th>pim_2</th>\n",
       "      <th>pim_3</th>\n",
       "      <th>Uniprot</th>\n",
       "    </tr>\n",
       "  </thead>\n",
       "  <tbody>\n",
       "    <tr>\n",
       "      <th>42</th>\n",
       "      <td>2688700</td>\n",
       "      <td>0</td>\n",
       "      <td>0</td>\n",
       "      <td>0</td>\n",
       "      <td>A0A087WY94</td>\n",
       "    </tr>\n",
       "  </tbody>\n",
       "</table>\n",
       "</div>"
      ],
      "text/plain": [
       "    apim_poolet  pim1  pim_2  pim_3     Uniprot\n",
       "42      2688700     0      0      0  A0A087WY94"
      ]
     },
     "execution_count": 28,
     "metadata": {},
     "output_type": "execute_result"
    }
   ],
   "source": [
    "dfLFQ.iloc[[42]]"
   ]
  },
  {
   "cell_type": "code",
   "execution_count": 29,
   "metadata": {
    "ExecuteTime": {
     "end_time": "2019-09-03T08:29:43.534775Z",
     "start_time": "2019-09-03T08:29:43.504318Z"
    }
   },
   "outputs": [
    {
     "data": {
      "text/html": [
       "<div>\n",
       "<style scoped>\n",
       "    .dataframe tbody tr th:only-of-type {\n",
       "        vertical-align: middle;\n",
       "    }\n",
       "\n",
       "    .dataframe tbody tr th {\n",
       "        vertical-align: top;\n",
       "    }\n",
       "\n",
       "    .dataframe thead th {\n",
       "        text-align: right;\n",
       "    }\n",
       "</style>\n",
       "<table border=\"1\" class=\"dataframe\">\n",
       "  <thead>\n",
       "    <tr style=\"text-align: right;\">\n",
       "      <th></th>\n",
       "      <th>apim_poolet</th>\n",
       "      <th>pim1</th>\n",
       "      <th>pim_2</th>\n",
       "      <th>pim_3</th>\n",
       "      <th>Uniprot</th>\n",
       "    </tr>\n",
       "  </thead>\n",
       "  <tbody>\n",
       "    <tr>\n",
       "      <th>42</th>\n",
       "      <td>2688700</td>\n",
       "      <td>0</td>\n",
       "      <td>0</td>\n",
       "      <td>0</td>\n",
       "      <td>A0A087WY94</td>\n",
       "    </tr>\n",
       "  </tbody>\n",
       "</table>\n",
       "</div>"
      ],
      "text/plain": [
       "    apim_poolet  pim1  pim_2  pim_3     Uniprot\n",
       "42      2688700     0      0      0  A0A087WY94"
      ]
     },
     "execution_count": 29,
     "metadata": {},
     "output_type": "execute_result"
    }
   ],
   "source": [
    "df_filtered=dfLFQ[dfLFQ['Uniprot']==\"A0A087WY94\"]\n",
    "df_filtered#.apply(np.log2).transpose()#.hist(color=\"red\")"
   ]
  },
  {
   "cell_type": "code",
   "execution_count": 31,
   "metadata": {
    "ExecuteTime": {
     "end_time": "2019-09-03T08:29:43.816124Z",
     "start_time": "2019-09-03T08:29:43.536580Z"
    }
   },
   "outputs": [
    {
     "ename": "KeyError",
     "evalue": "'Uniprot'",
     "output_type": "error",
     "traceback": [
      "\u001b[0;31m---------------------------------------------------------------------------\u001b[0m",
      "\u001b[0;31mKeyError\u001b[0m                                  Traceback (most recent call last)",
      "\u001b[0;32m~/miniconda3/envs/jupyterlab-debugger/lib/python3.8/site-packages/pandas/core/indexes/base.py\u001b[0m in \u001b[0;36mget_loc\u001b[0;34m(self, key, method, tolerance)\u001b[0m\n\u001b[1;32m   2645\u001b[0m             \u001b[0;32mtry\u001b[0m\u001b[0;34m:\u001b[0m\u001b[0;34m\u001b[0m\u001b[0;34m\u001b[0m\u001b[0m\n\u001b[0;32m-> 2646\u001b[0;31m                 \u001b[0;32mreturn\u001b[0m \u001b[0mself\u001b[0m\u001b[0;34m.\u001b[0m\u001b[0m_engine\u001b[0m\u001b[0;34m.\u001b[0m\u001b[0mget_loc\u001b[0m\u001b[0;34m(\u001b[0m\u001b[0mkey\u001b[0m\u001b[0;34m)\u001b[0m\u001b[0;34m\u001b[0m\u001b[0;34m\u001b[0m\u001b[0m\n\u001b[0m\u001b[1;32m   2647\u001b[0m             \u001b[0;32mexcept\u001b[0m \u001b[0mKeyError\u001b[0m\u001b[0;34m:\u001b[0m\u001b[0;34m\u001b[0m\u001b[0;34m\u001b[0m\u001b[0m\n",
      "\u001b[0;32mpandas/_libs/index.pyx\u001b[0m in \u001b[0;36mpandas._libs.index.IndexEngine.get_loc\u001b[0;34m()\u001b[0m\n",
      "\u001b[0;32mpandas/_libs/index.pyx\u001b[0m in \u001b[0;36mpandas._libs.index.IndexEngine.get_loc\u001b[0;34m()\u001b[0m\n",
      "\u001b[0;32mpandas/_libs/hashtable_class_helper.pxi\u001b[0m in \u001b[0;36mpandas._libs.hashtable.PyObjectHashTable.get_item\u001b[0;34m()\u001b[0m\n",
      "\u001b[0;32mpandas/_libs/hashtable_class_helper.pxi\u001b[0m in \u001b[0;36mpandas._libs.hashtable.PyObjectHashTable.get_item\u001b[0;34m()\u001b[0m\n",
      "\u001b[0;31mKeyError\u001b[0m: 'Uniprot'",
      "\nDuring handling of the above exception, another exception occurred:\n",
      "\u001b[0;31mKeyError\u001b[0m                                  Traceback (most recent call last)",
      "\u001b[0;32m~/miniconda3/envs/jupyterlab-debugger/lib/python3.8/site-packages/ipywidgets/widgets/interaction.py\u001b[0m in \u001b[0;36mupdate\u001b[0;34m(self, *args)\u001b[0m\n\u001b[1;32m    254\u001b[0m                     \u001b[0mvalue\u001b[0m \u001b[0;34m=\u001b[0m \u001b[0mwidget\u001b[0m\u001b[0;34m.\u001b[0m\u001b[0mget_interact_value\u001b[0m\u001b[0;34m(\u001b[0m\u001b[0;34m)\u001b[0m\u001b[0;34m\u001b[0m\u001b[0;34m\u001b[0m\u001b[0m\n\u001b[1;32m    255\u001b[0m                     \u001b[0mself\u001b[0m\u001b[0;34m.\u001b[0m\u001b[0mkwargs\u001b[0m\u001b[0;34m[\u001b[0m\u001b[0mwidget\u001b[0m\u001b[0;34m.\u001b[0m\u001b[0m_kwarg\u001b[0m\u001b[0;34m]\u001b[0m \u001b[0;34m=\u001b[0m \u001b[0mvalue\u001b[0m\u001b[0;34m\u001b[0m\u001b[0;34m\u001b[0m\u001b[0m\n\u001b[0;32m--> 256\u001b[0;31m                 \u001b[0mself\u001b[0m\u001b[0;34m.\u001b[0m\u001b[0mresult\u001b[0m \u001b[0;34m=\u001b[0m \u001b[0mself\u001b[0m\u001b[0;34m.\u001b[0m\u001b[0mf\u001b[0m\u001b[0;34m(\u001b[0m\u001b[0;34m**\u001b[0m\u001b[0mself\u001b[0m\u001b[0;34m.\u001b[0m\u001b[0mkwargs\u001b[0m\u001b[0;34m)\u001b[0m\u001b[0;34m\u001b[0m\u001b[0;34m\u001b[0m\u001b[0m\n\u001b[0m\u001b[1;32m    257\u001b[0m                 \u001b[0mshow_inline_matplotlib_plots\u001b[0m\u001b[0;34m(\u001b[0m\u001b[0;34m)\u001b[0m\u001b[0;34m\u001b[0m\u001b[0;34m\u001b[0m\u001b[0m\n\u001b[1;32m    258\u001b[0m                 \u001b[0;32mif\u001b[0m \u001b[0mself\u001b[0m\u001b[0;34m.\u001b[0m\u001b[0mauto_display\u001b[0m \u001b[0;32mand\u001b[0m \u001b[0mself\u001b[0m\u001b[0;34m.\u001b[0m\u001b[0mresult\u001b[0m \u001b[0;32mis\u001b[0m \u001b[0;32mnot\u001b[0m \u001b[0;32mNone\u001b[0m\u001b[0;34m:\u001b[0m\u001b[0;34m\u001b[0m\u001b[0;34m\u001b[0m\u001b[0m\n",
      "\u001b[0;32m<ipython-input-31-c117e43713d2>\u001b[0m in \u001b[0;36mselect_uniprot\u001b[0;34m(protID, ratioID)\u001b[0m\n\u001b[1;32m      1\u001b[0m \u001b[0;32mdef\u001b[0m \u001b[0mselect_uniprot\u001b[0m\u001b[0;34m(\u001b[0m\u001b[0mprotID\u001b[0m\u001b[0;34m,\u001b[0m\u001b[0mratioID\u001b[0m\u001b[0;34m)\u001b[0m\u001b[0;34m:\u001b[0m\u001b[0;34m\u001b[0m\u001b[0;34m\u001b[0m\u001b[0m\n\u001b[0;32m----> 2\u001b[0;31m     \u001b[0mdf_filtered\u001b[0m\u001b[0;34m=\u001b[0m \u001b[0mdf\u001b[0m\u001b[0;34m[\u001b[0m\u001b[0mdf\u001b[0m\u001b[0;34m[\u001b[0m\u001b[0;34m'Uniprot'\u001b[0m\u001b[0;34m]\u001b[0m\u001b[0;34m==\u001b[0m\u001b[0mprotID\u001b[0m\u001b[0;34m]\u001b[0m\u001b[0;34m\u001b[0m\u001b[0;34m\u001b[0m\u001b[0m\n\u001b[0m\u001b[1;32m      3\u001b[0m     \u001b[0mdf_filtered\u001b[0m\u001b[0;34m=\u001b[0m\u001b[0mdf_filtered\u001b[0m\u001b[0;34m[\u001b[0m\u001b[0mdf_filtered\u001b[0m\u001b[0;34m.\u001b[0m\u001b[0mcolumns\u001b[0m\u001b[0;34m[\u001b[0m\u001b[0mdf_filtered\u001b[0m\u001b[0;34m.\u001b[0m\u001b[0mcolumns\u001b[0m\u001b[0;34m.\u001b[0m\u001b[0mstr\u001b[0m\u001b[0;34m.\u001b[0m\u001b[0mstartswith\u001b[0m\u001b[0;34m(\u001b[0m\u001b[0mratioID\u001b[0m\u001b[0;34m)\u001b[0m\u001b[0;34m]\u001b[0m\u001b[0;34m]\u001b[0m\u001b[0;34m\u001b[0m\u001b[0;34m\u001b[0m\u001b[0m\n\u001b[1;32m      4\u001b[0m     \u001b[0max\u001b[0m \u001b[0;34m=\u001b[0m \u001b[0mdf_filtered\u001b[0m\u001b[0;34m.\u001b[0m\u001b[0mapply\u001b[0m\u001b[0;34m(\u001b[0m\u001b[0mnp\u001b[0m\u001b[0;34m.\u001b[0m\u001b[0mlog2\u001b[0m\u001b[0;34m)\u001b[0m\u001b[0;34m.\u001b[0m\u001b[0mtranspose\u001b[0m\u001b[0;34m(\u001b[0m\u001b[0;34m)\u001b[0m\u001b[0;34m.\u001b[0m\u001b[0mhist\u001b[0m\u001b[0;34m(\u001b[0m\u001b[0mcolor\u001b[0m\u001b[0;34m=\u001b[0m\u001b[0;34m\"brown\"\u001b[0m\u001b[0;34m)\u001b[0m\u001b[0;34m\u001b[0m\u001b[0;34m\u001b[0m\u001b[0m\n\u001b[1;32m      5\u001b[0m \u001b[0;34m\u001b[0m\u001b[0m\n",
      "\u001b[0;32m~/miniconda3/envs/jupyterlab-debugger/lib/python3.8/site-packages/pandas/core/frame.py\u001b[0m in \u001b[0;36m__getitem__\u001b[0;34m(self, key)\u001b[0m\n\u001b[1;32m   2798\u001b[0m             \u001b[0;32mif\u001b[0m \u001b[0mself\u001b[0m\u001b[0;34m.\u001b[0m\u001b[0mcolumns\u001b[0m\u001b[0;34m.\u001b[0m\u001b[0mnlevels\u001b[0m \u001b[0;34m>\u001b[0m \u001b[0;36m1\u001b[0m\u001b[0;34m:\u001b[0m\u001b[0;34m\u001b[0m\u001b[0;34m\u001b[0m\u001b[0m\n\u001b[1;32m   2799\u001b[0m                 \u001b[0;32mreturn\u001b[0m \u001b[0mself\u001b[0m\u001b[0;34m.\u001b[0m\u001b[0m_getitem_multilevel\u001b[0m\u001b[0;34m(\u001b[0m\u001b[0mkey\u001b[0m\u001b[0;34m)\u001b[0m\u001b[0;34m\u001b[0m\u001b[0;34m\u001b[0m\u001b[0m\n\u001b[0;32m-> 2800\u001b[0;31m             \u001b[0mindexer\u001b[0m \u001b[0;34m=\u001b[0m \u001b[0mself\u001b[0m\u001b[0;34m.\u001b[0m\u001b[0mcolumns\u001b[0m\u001b[0;34m.\u001b[0m\u001b[0mget_loc\u001b[0m\u001b[0;34m(\u001b[0m\u001b[0mkey\u001b[0m\u001b[0;34m)\u001b[0m\u001b[0;34m\u001b[0m\u001b[0;34m\u001b[0m\u001b[0m\n\u001b[0m\u001b[1;32m   2801\u001b[0m             \u001b[0;32mif\u001b[0m \u001b[0mis_integer\u001b[0m\u001b[0;34m(\u001b[0m\u001b[0mindexer\u001b[0m\u001b[0;34m)\u001b[0m\u001b[0;34m:\u001b[0m\u001b[0;34m\u001b[0m\u001b[0;34m\u001b[0m\u001b[0m\n\u001b[1;32m   2802\u001b[0m                 \u001b[0mindexer\u001b[0m \u001b[0;34m=\u001b[0m \u001b[0;34m[\u001b[0m\u001b[0mindexer\u001b[0m\u001b[0;34m]\u001b[0m\u001b[0;34m\u001b[0m\u001b[0;34m\u001b[0m\u001b[0m\n",
      "\u001b[0;32m~/miniconda3/envs/jupyterlab-debugger/lib/python3.8/site-packages/pandas/core/indexes/base.py\u001b[0m in \u001b[0;36mget_loc\u001b[0;34m(self, key, method, tolerance)\u001b[0m\n\u001b[1;32m   2646\u001b[0m                 \u001b[0;32mreturn\u001b[0m \u001b[0mself\u001b[0m\u001b[0;34m.\u001b[0m\u001b[0m_engine\u001b[0m\u001b[0;34m.\u001b[0m\u001b[0mget_loc\u001b[0m\u001b[0;34m(\u001b[0m\u001b[0mkey\u001b[0m\u001b[0;34m)\u001b[0m\u001b[0;34m\u001b[0m\u001b[0;34m\u001b[0m\u001b[0m\n\u001b[1;32m   2647\u001b[0m             \u001b[0;32mexcept\u001b[0m \u001b[0mKeyError\u001b[0m\u001b[0;34m:\u001b[0m\u001b[0;34m\u001b[0m\u001b[0;34m\u001b[0m\u001b[0m\n\u001b[0;32m-> 2648\u001b[0;31m                 \u001b[0;32mreturn\u001b[0m \u001b[0mself\u001b[0m\u001b[0;34m.\u001b[0m\u001b[0m_engine\u001b[0m\u001b[0;34m.\u001b[0m\u001b[0mget_loc\u001b[0m\u001b[0;34m(\u001b[0m\u001b[0mself\u001b[0m\u001b[0;34m.\u001b[0m\u001b[0m_maybe_cast_indexer\u001b[0m\u001b[0;34m(\u001b[0m\u001b[0mkey\u001b[0m\u001b[0;34m)\u001b[0m\u001b[0;34m)\u001b[0m\u001b[0;34m\u001b[0m\u001b[0;34m\u001b[0m\u001b[0m\n\u001b[0m\u001b[1;32m   2649\u001b[0m         \u001b[0mindexer\u001b[0m \u001b[0;34m=\u001b[0m \u001b[0mself\u001b[0m\u001b[0;34m.\u001b[0m\u001b[0mget_indexer\u001b[0m\u001b[0;34m(\u001b[0m\u001b[0;34m[\u001b[0m\u001b[0mkey\u001b[0m\u001b[0;34m]\u001b[0m\u001b[0;34m,\u001b[0m \u001b[0mmethod\u001b[0m\u001b[0;34m=\u001b[0m\u001b[0mmethod\u001b[0m\u001b[0;34m,\u001b[0m \u001b[0mtolerance\u001b[0m\u001b[0;34m=\u001b[0m\u001b[0mtolerance\u001b[0m\u001b[0;34m)\u001b[0m\u001b[0;34m\u001b[0m\u001b[0;34m\u001b[0m\u001b[0m\n\u001b[1;32m   2650\u001b[0m         \u001b[0;32mif\u001b[0m \u001b[0mindexer\u001b[0m\u001b[0;34m.\u001b[0m\u001b[0mndim\u001b[0m \u001b[0;34m>\u001b[0m \u001b[0;36m1\u001b[0m \u001b[0;32mor\u001b[0m \u001b[0mindexer\u001b[0m\u001b[0;34m.\u001b[0m\u001b[0msize\u001b[0m \u001b[0;34m>\u001b[0m \u001b[0;36m1\u001b[0m\u001b[0;34m:\u001b[0m\u001b[0;34m\u001b[0m\u001b[0;34m\u001b[0m\u001b[0m\n",
      "\u001b[0;32mpandas/_libs/index.pyx\u001b[0m in \u001b[0;36mpandas._libs.index.IndexEngine.get_loc\u001b[0;34m()\u001b[0m\n",
      "\u001b[0;32mpandas/_libs/index.pyx\u001b[0m in \u001b[0;36mpandas._libs.index.IndexEngine.get_loc\u001b[0;34m()\u001b[0m\n",
      "\u001b[0;32mpandas/_libs/hashtable_class_helper.pxi\u001b[0m in \u001b[0;36mpandas._libs.hashtable.PyObjectHashTable.get_item\u001b[0;34m()\u001b[0m\n",
      "\u001b[0;32mpandas/_libs/hashtable_class_helper.pxi\u001b[0m in \u001b[0;36mpandas._libs.hashtable.PyObjectHashTable.get_item\u001b[0;34m()\u001b[0m\n",
      "\u001b[0;31mKeyError\u001b[0m: 'Uniprot'"
     ]
    },
    {
     "data": {
      "text/plain": [
       "<function __main__.select_uniprot(protID, ratioID)>"
      ]
     },
     "execution_count": 31,
     "metadata": {},
     "output_type": "execute_result"
    }
   ],
   "source": [
    "def select_uniprot(protID,ratioID):\n",
    "    df_filtered= df[df['Uniprot']==protID]\n",
    "    df_filtered=df_filtered[df_filtered.columns[df_filtered.columns.str.startswith(ratioID)]]\n",
    "    ax = df_filtered.apply(np.log2).transpose().hist(color=\"brown\")\n",
    "\n",
    "uniprot = df_filtered['Uniprot']\n",
    "ratio = \"Ratio H/L normalized \"\n",
    "interact(select_uniprot, protID=uniprot, ratioID=ratio)"
   ]
  },
  {
   "cell_type": "code",
   "execution_count": null,
   "metadata": {
    "ExecuteTime": {
     "end_time": "2019-09-03T08:29:43.852201Z",
     "start_time": "2019-09-03T08:29:43.817963Z"
    }
   },
   "outputs": [],
   "source": [
    "ratio = \"LFQ intensity L \"\n",
    "df_filtered=df[df.columns[df.columns.str.startswith(ratio)]]\n",
    "df_filtered.columns=df_filtered.columns.str.replace(ratio,'')\n",
    "df_filtered.columns=df_filtered.columns.str.replace('161205_','')\n",
    "df_filtered.index = df['Protein IDs']\n",
    "df_filtered=df_filtered.transpose()\n",
    "df_filtered.head()"
   ]
  },
  {
   "cell_type": "code",
   "execution_count": null,
   "metadata": {
    "ExecuteTime": {
     "end_time": "2019-09-03T08:29:47.485546Z",
     "start_time": "2019-09-03T08:29:43.854016Z"
    }
   },
   "outputs": [],
   "source": [
    "subjects = pd.read_csv('https://docs.google.com/spreadsheets/d/'+'103ZjypVTJtDLgu-svyo6bdeeNo9392olmfuXJA_xhRs'+'/export?gid=0&format=csv', index_col=0 )\n",
    "subjects.head()"
   ]
  },
  {
   "cell_type": "code",
   "execution_count": null,
   "metadata": {
    "ExecuteTime": {
     "end_time": "2019-09-03T08:29:47.490151Z",
     "start_time": "2019-09-03T08:29:47.487484Z"
    }
   },
   "outputs": [],
   "source": [
    "df_filtered.index.name=\"Name\""
   ]
  },
  {
   "cell_type": "code",
   "execution_count": null,
   "metadata": {
    "ExecuteTime": {
     "end_time": "2019-09-03T08:29:47.512951Z",
     "start_time": "2019-09-03T08:29:47.494104Z"
    }
   },
   "outputs": [],
   "source": [
    "df_filtered=pd.merge(subjects,df_filtered,how='right', on='Name')"
   ]
  },
  {
   "cell_type": "code",
   "execution_count": null,
   "metadata": {
    "ExecuteTime": {
     "end_time": "2019-09-03T08:29:49.017758Z",
     "start_time": "2019-09-03T08:29:47.515300Z"
    }
   },
   "outputs": [],
   "source": [
    "uniprots = pd.read_csv('https://docs.google.com/spreadsheets/d/'+'1U0IXQpjpN3Jhi9GRACCILMBJlTltnTssHxQuoNVD7Ac'+'/export?gid=0&format=csv')\n",
    "uniprots.head(10)"
   ]
  },
  {
   "cell_type": "code",
   "execution_count": null,
   "metadata": {
    "ExecuteTime": {
     "end_time": "2019-09-03T08:29:49.023640Z",
     "start_time": "2019-09-03T08:29:49.019665Z"
    }
   },
   "outputs": [],
   "source": [
    "df_filtered.columns"
   ]
  },
  {
   "cell_type": "code",
   "execution_count": null,
   "metadata": {
    "ExecuteTime": {
     "end_time": "2019-09-03T08:29:49.120976Z",
     "start_time": "2019-09-03T08:29:49.025439Z"
    }
   },
   "outputs": [],
   "source": [
    "protn='HenrikRank'\n",
    "protN=uniprots[protn].dropna()\n",
    "protN"
   ]
  },
  {
   "cell_type": "code",
   "execution_count": null,
   "metadata": {
    "ExecuteTime": {
     "end_time": "2019-09-03T08:29:49.136603Z",
     "start_time": "2019-09-03T08:29:49.122805Z"
    }
   },
   "outputs": [],
   "source": [
    "df_filtered[df_filtered.columns.intersection(protN)].isnull().sum().sort_index()/len(df_filtered)"
   ]
  },
  {
   "cell_type": "code",
   "execution_count": null,
   "metadata": {
    "ExecuteTime": {
     "end_time": "2019-09-03T08:29:49.249565Z",
     "start_time": "2019-09-03T08:29:49.138462Z"
    }
   },
   "outputs": [],
   "source": [
    "df_filtered.filter(regex=('|'.join(protN)))"
   ]
  },
  {
   "cell_type": "code",
   "execution_count": null,
   "metadata": {
    "ExecuteTime": {
     "end_time": "2019-09-03T08:29:49.365763Z",
     "start_time": "2019-09-03T08:29:49.251326Z"
    }
   },
   "outputs": [],
   "source": [
    "#df_filtered_log2=df_filtered.filter(regex=('|'.join(protN))).fillna(1).apply(np.log2)\n",
    "df_filtered_log2=(df_filtered.filter(regex=('|'.join(protN)))+1).apply(np.log2)\n",
    "df_filtered_log2=pd.merge(subjects,df_filtered_log2,how='right', on='Name')"
   ]
  },
  {
   "cell_type": "code",
   "execution_count": null,
   "metadata": {
    "ExecuteTime": {
     "end_time": "2019-09-03T08:29:49.373745Z",
     "start_time": "2019-09-03T08:29:49.367702Z"
    }
   },
   "outputs": [],
   "source": [
    "labelN='Group27'\n",
    "df_filtered_log2[labelN].fillna('None',inplace=True)\n",
    "df_filtered_log2[labelN]"
   ]
  },
  {
   "cell_type": "code",
   "execution_count": null,
   "metadata": {
    "ExecuteTime": {
     "end_time": "2019-09-03T08:29:49.386320Z",
     "start_time": "2019-09-03T08:29:49.375457Z"
    }
   },
   "outputs": [],
   "source": [
    "#https://itsvenu.github.io/post/brca-random-forests/\n",
    "df_filtered_log2_TIT=df_filtered_log2[df_filtered_log2[labelN]!=None]#[:,df_filtered_log2[labelN]=='None']"
   ]
  },
  {
   "cell_type": "code",
   "execution_count": null,
   "metadata": {
    "ExecuteTime": {
     "end_time": "2019-09-03T08:29:49.989407Z",
     "start_time": "2019-09-03T08:29:49.388143Z"
    }
   },
   "outputs": [],
   "source": [
    "from sklearn.ensemble import RandomForestClassifier\n",
    "from sklearn.model_selection import train_test_split"
   ]
  },
  {
   "cell_type": "code",
   "execution_count": null,
   "metadata": {
    "ExecuteTime": {
     "end_time": "2019-09-03T08:29:49.998079Z",
     "start_time": "2019-09-03T08:29:49.992144Z"
    }
   },
   "outputs": [],
   "source": [
    "outcome_label = np.where(df_filtered_log2_TIT[labelN] == 'T', 1, 0)\n",
    "outcome_label.sum()"
   ]
  },
  {
   "cell_type": "code",
   "execution_count": null,
   "metadata": {
    "ExecuteTime": {
     "end_time": "2019-09-03T08:29:50.010541Z",
     "start_time": "2019-09-03T08:29:49.999807Z"
    }
   },
   "outputs": [],
   "source": [
    "features = df_filtered_log2_TIT.columns[5:]\n",
    "features"
   ]
  },
  {
   "cell_type": "code",
   "execution_count": null,
   "metadata": {
    "ExecuteTime": {
     "end_time": "2019-09-03T08:29:50.276486Z",
     "start_time": "2019-09-03T08:29:50.012296Z"
    }
   },
   "outputs": [],
   "source": [
    "lym_clf = RandomForestClassifier(n_jobs=2, random_state=0, n_estimators=100)\n",
    "lym_clf.fit(df_filtered_log2_TIT[features], outcome_label)"
   ]
  },
  {
   "cell_type": "code",
   "execution_count": null,
   "metadata": {
    "ExecuteTime": {
     "end_time": "2019-09-03T08:33:24.100727Z",
     "start_time": "2019-09-03T08:33:23.889920Z"
    }
   },
   "outputs": [],
   "source": [
    "lym_clf.feature_importances_\n",
    "feat_importances = pd.Series(lym_clf.feature_importances_, index=df_filtered_log2_TIT.columns[5:])\n",
    "feat_importances#.head()"
   ]
  },
  {
   "cell_type": "code",
   "execution_count": null,
   "metadata": {
    "ExecuteTime": {
     "end_time": "2019-09-03T08:33:29.704159Z",
     "start_time": "2019-09-03T08:33:29.339470Z"
    }
   },
   "outputs": [],
   "source": [
    "import matplotlib.pyplot as plt\n",
    "plt.figure(figsize = (9,5))\n",
    "feat_importances.nlargest(10).plot(kind='barh', color='black')\n",
    "plt.title(\"Feature importance\")\n",
    "plt.ylabel(\"Measured feature\")\n",
    "plt.xlabel(\"importance score\")\n",
    "#https://www.uniprot.org/uniprot/Q96KP4"
   ]
  },
  {
   "cell_type": "code",
   "execution_count": null,
   "metadata": {
    "ExecuteTime": {
     "end_time": "2019-09-03T09:07:49.085853Z",
     "start_time": "2019-09-03T09:07:49.079391Z"
    }
   },
   "outputs": [],
   "source": [
    "from sklearn.tree import export_graphviz\n",
    "from subprocess import call\n",
    "train_labels = df_filtered_log2_TIT[labelN].unique()\n",
    "def select_tree(tree):\n",
    "    estimator = lym_clf.estimators_[tree]\n",
    "    export_graphviz(estimator, out_file='tree.dot', \n",
    "                feature_names = features,\n",
    "                class_names = train_labels,\n",
    "                rounded = True, proportion = False, \n",
    "                precision = 2, filled = True)"
   ]
  },
  {
   "cell_type": "code",
   "execution_count": null,
   "metadata": {
    "ExecuteTime": {
     "end_time": "2019-09-03T09:08:23.429962Z",
     "start_time": "2019-09-03T09:08:23.411344Z"
    }
   },
   "outputs": [],
   "source": [
    "from sklearn.tree import export_graphviz\n",
    "train_labels = df_filtered_log2_TIT[labelN].unique()\n",
    "## randomly chose tree-9 to plot\n",
    "estimator = lym_clf.estimators_[100]\n",
    "# Export as dot file\n",
    "export_graphviz(estimator, out_file='tree.dot', \n",
    "                feature_names = features,\n",
    "                class_names = train_labels,\n",
    "                rounded = True, proportion = False, \n",
    "                precision = 2, filled = True)\n",
    "# Convert to png using system command (requires Graphviz)\n",
    "from subprocess import call\n",
    "call(['dot', '-Tpng', 'tree.dot', '-o', 'tree.png', '-Gdpi=600'])\n",
    "from IPython.display import Image\n",
    "Image(filename = 'tree.png')"
   ]
  },
  {
   "cell_type": "code",
   "execution_count": null,
   "metadata": {
    "ExecuteTime": {
     "end_time": "2019-09-03T09:10:42.145531Z",
     "start_time": "2019-09-03T09:10:39.878516Z"
    }
   },
   "outputs": [],
   "source": [
    "tree = len(lym_clf.estimators_)-1\n",
    "#tree\n",
    "interact(select_tree, tree=tree)\n",
    "from IPython.display import Image\n",
    "call(['dot', '-Tpng', 'tree.dot', '-o', 'tree.png', '-Gdpi=600'])\n",
    "Image(filename = 'tree.png')"
   ]
  },
  {
   "cell_type": "code",
   "execution_count": null,
   "metadata": {
    "ExecuteTime": {
     "end_time": "2019-09-02T15:30:33.419661Z",
     "start_time": "2019-09-02T15:30:33.417302Z"
    }
   },
   "outputs": [],
   "source": [
    "#import seaborn as sb\n",
    "#sbp=sb.pairplot(df_filtered_log2,hue=labelN)"
   ]
  },
  {
   "cell_type": "code",
   "execution_count": null,
   "metadata": {
    "ExecuteTime": {
     "end_time": "2019-09-02T15:30:37.371325Z",
     "start_time": "2019-09-02T15:30:36.810787Z"
    }
   },
   "outputs": [],
   "source": [
    "import seaborn as sb\n",
    "def select_uniprot(protID1,protID2,lab):\n",
    "    #ax = sb.pointplot(protID1,protID2,hue=lab,join=False,dodge=True, data=df_filtered_log2)\n",
    "    ax = sb.scatterplot(protID1,protID2,hue=lab,alpha=0.5,data=df_filtered_log2)\n",
    "uniprot1 = df_filtered_log2.columns\n",
    "uniprot2 = df_filtered_log2.columns\n",
    "label = df_filtered_log2.columns\n",
    "interact(select_uniprot, protID1=uniprot1, protID2=uniprot2,lab=label)"
   ]
  },
  {
   "cell_type": "code",
   "execution_count": null,
   "metadata": {
    "ExecuteTime": {
     "start_time": "2019-09-02T14:42:22.687Z"
    },
    "scrolled": true
   },
   "outputs": [],
   "source": [
    "#sbp.savefig(home/inpD/\".\".join([protn,labelN,\"output.svg\"]))\n",
    "uniprot2='O95396'\n",
    "#uniprot2='G3V1B8;H0YEB6;O60232;E9PN57;H0YEK1'\n",
    "#uniprot2='P17066;P48741'\n",
    "#uniprot2='A0A087X0I3;B4E3Q4;Q9NZK5'\n",
    "uniprot1='Q9H2P9'\n",
    "#uniprot2='Q9H2P9'\n",
    "#ax = sb.pointplot(uniprot1,uniprot2,hue=labelN,join=False,dodge=True, data=df_filtered_log2)\n",
    "ax = sb.lmplot(uniprot1,uniprot2, x_jitter=1, y_jitter=1,hue=labelN,scatter_kws={'s':6},height=8.27, aspect=11.7/8.27,data=df_filtered_log2)\n",
    "fig = ax#.get_figure() \n",
    "fig.savefig(home/inpD/\".\".join([uniprot1,uniprot2,labelN,ratio,\"output.svg\"]))"
   ]
  },
  {
   "cell_type": "code",
   "execution_count": null,
   "metadata": {
    "ExecuteTime": {
     "start_time": "2019-09-02T14:42:22.689Z"
    }
   },
   "outputs": [],
   "source": [
    "df_filtered_log2.describe(include='all').T"
   ]
  },
  {
   "cell_type": "code",
   "execution_count": null,
   "metadata": {
    "ExecuteTime": {
     "start_time": "2019-09-02T14:42:22.691Z"
    }
   },
   "outputs": [],
   "source": [
    "#https://nbviewer.jupyter.org/github/noklam/SHAP_Exploration/blob/master/Tree%20model%20interpreation%20with%20SHAP.ipynb\n",
    "#!pip install git+https://github.com/fastai/fastai"
   ]
  },
  {
   "cell_type": "code",
   "execution_count": null,
   "metadata": {
    "ExecuteTime": {
     "start_time": "2019-09-02T14:42:22.693Z"
    }
   },
   "outputs": [],
   "source": [
    "!pip install fastai==0.7.0  #https://forums.fast.ai/t/no-module-named-fastai-structured-google-colab/23820/2"
   ]
  },
  {
   "cell_type": "code",
   "execution_count": null,
   "metadata": {
    "ExecuteTime": {
     "start_time": "2019-09-02T14:42:22.694Z"
    }
   },
   "outputs": [],
   "source": [
    "import torch\n",
    "Device = torch.device(\"cuda:0\" if torch.cuda.is_available() else \"cpu\")\n",
    "torch.cuda.set_device(Device)\n",
    "print(Device)"
   ]
  },
  {
   "cell_type": "code",
   "execution_count": null,
   "metadata": {
    "ExecuteTime": {
     "start_time": "2019-09-02T14:42:22.696Z"
    }
   },
   "outputs": [],
   "source": [
    "from fastai.imports import *\n",
    "from fastai.structured import *\n",
    "from pandas_summary import DataFrameSummary\n",
    "from sklearn.ensemble import RandomForestRegressor, RandomForestClassifier\n",
    "from IPython.display import display\n",
    "from sklearn import metrics"
   ]
  },
  {
   "cell_type": "code",
   "execution_count": null,
   "metadata": {
    "ExecuteTime": {
     "start_time": "2019-09-02T14:42:22.698Z"
    }
   },
   "outputs": [],
   "source": [
    "def rmse(x,y): return math.sqrt(((x-y)**2).mean())\n",
    "def print_score(m):\n",
    "    res = [rmse(m.predict(X_train), y_train), rmse(m.predict(X_valid), y_valid),\n",
    "                m.score(X_train, y_train), m.score(X_valid, y_valid)]\n",
    "    if hasattr(m, 'oob_score_'): res.append(m.oob_score_)\n",
    "    print(res)"
   ]
  },
  {
   "cell_type": "code",
   "execution_count": null,
   "metadata": {
    "ExecuteTime": {
     "end_time": "2019-09-02T15:30:55.479647Z",
     "start_time": "2019-09-02T15:30:55.475376Z"
    }
   },
   "outputs": [],
   "source": [
    "def rf_feat_importance(m, df):\n",
    "    return pd.DataFrame({'cols':df.columns, 'imp':m.feature_importances_, 'std':np.std([tree.feature_importances_ for tree in m.estimators_],axis=0)}).sort_values('imp', ascending=False)"
   ]
  },
  {
   "cell_type": "code",
   "execution_count": null,
   "metadata": {
    "ExecuteTime": {
     "end_time": "2019-09-02T15:30:56.924070Z",
     "start_time": "2019-09-02T15:30:56.919255Z"
    }
   },
   "outputs": [],
   "source": [
    "def plot_fi(fi,std=True, feature_importance_type=''):\n",
    "    if std: \n",
    "        ax = fi.plot('cols', 'imp', 'barh', figsize=(12,7), legend=False, xerr='std')\n",
    "    else:\n",
    "        ax = fi.plot('cols', 'imp', 'barh', figsize=(12,7), legend=False)\n",
    "    ax.set_xlabel(f\"{feature_importance_type} Feature Importance\")\n",
    "    return ax"
   ]
  },
  {
   "cell_type": "code",
   "execution_count": null,
   "metadata": {
    "ExecuteTime": {
     "end_time": "2019-09-02T15:30:58.190843Z",
     "start_time": "2019-09-02T15:30:58.186200Z"
    }
   },
   "outputs": [],
   "source": [
    "from sklearn import preprocessing\n",
    "preprocessing.LabelEncoder().fit_transform(df_filtered_log2['Group27'])"
   ]
  },
  {
   "cell_type": "code",
   "execution_count": null,
   "metadata": {
    "ExecuteTime": {
     "end_time": "2019-09-02T15:30:59.567599Z",
     "start_time": "2019-09-02T15:30:59.498098Z"
    }
   },
   "outputs": [],
   "source": [
    "#set_rf_samples(5)\n",
    "m = RandomForestClassifier()#n_estimators=3, min_samples_leaf=3, max_features=0.5, n_jobs=-1, oob_score=True)\n",
    "X_train, y_train = df_filtered.filter(regex=('|'.join(protN))).fillna(1).apply(np.log2), preprocessing.LabelEncoder().fit_transform(df_filtered_log2['Group27'])\n",
    "m.fit(X_train, y_train )"
   ]
  },
  {
   "cell_type": "code",
   "execution_count": null,
   "metadata": {
    "ExecuteTime": {
     "start_time": "2019-09-02T14:42:22.707Z"
    }
   },
   "outputs": [],
   "source": [
    "X_valid=X_train\n",
    "y_valid=y_train\n",
    "print_score(m)"
   ]
  },
  {
   "cell_type": "code",
   "execution_count": null,
   "metadata": {
    "ExecuteTime": {
     "start_time": "2019-09-02T14:42:22.709Z"
    }
   },
   "outputs": [],
   "source": [
    "n = 3\n",
    "sample_idx = np.random.permutation(len(X_valid))[:n]\n",
    "X_valid_sample = X_valid.iloc[sample_idx].copy()\n",
    "y_valid_sample = y_valid[sample_idx].copy()\n",
    "X_valid_sample.shape, y_valid_sample.shape"
   ]
  },
  {
   "cell_type": "code",
   "execution_count": null,
   "metadata": {
    "ExecuteTime": {
     "start_time": "2019-09-02T14:42:22.711Z"
    }
   },
   "outputs": [],
   "source": [
    "fi_sklearn = rf_feat_importance(m, X_valid_sample); fi_sklearn[:10]"
   ]
  },
  {
   "cell_type": "code",
   "execution_count": null,
   "metadata": {
    "ExecuteTime": {
     "start_time": "2019-09-02T14:42:22.712Z"
    }
   },
   "outputs": [],
   "source": [
    "plot_fi(fi_sklearn[:],False, 'Sklearn');"
   ]
  },
  {
   "cell_type": "code",
   "execution_count": null,
   "metadata": {
    "ExecuteTime": {
     "start_time": "2019-09-02T14:42:22.714Z"
    }
   },
   "outputs": [],
   "source": [
    "!pip install rfpimp"
   ]
  },
  {
   "cell_type": "code",
   "execution_count": null,
   "metadata": {
    "ExecuteTime": {
     "start_time": "2019-09-02T14:42:22.715Z"
    }
   },
   "outputs": [],
   "source": [
    "from rfpimp import importances\n",
    "fi_permutation = importances(m, X_valid_sample, y_valid_sample) # permutation"
   ]
  },
  {
   "cell_type": "code",
   "execution_count": null,
   "metadata": {
    "ExecuteTime": {
     "start_time": "2019-09-02T14:42:22.717Z"
    }
   },
   "outputs": [],
   "source": [
    "fi_permutation.sum()"
   ]
  },
  {
   "cell_type": "code",
   "execution_count": null,
   "metadata": {
    "ExecuteTime": {
     "start_time": "2019-09-02T14:42:22.719Z"
    }
   },
   "outputs": [],
   "source": [
    "fi_permutation['Importance'] = fi_permutation['Importance']/ fi_permutation['Importance'].sum()"
   ]
  },
  {
   "cell_type": "code",
   "execution_count": null,
   "metadata": {
    "ExecuteTime": {
     "start_time": "2019-09-02T14:42:22.720Z"
    }
   },
   "outputs": [],
   "source": [
    "fi_permutation = (fi_permutation\n",
    "                  .reset_index()\n",
    "                  .rename({'Feature':'cols', 'Importance':'imp'},axis=1))"
   ]
  },
  {
   "cell_type": "code",
   "execution_count": null,
   "metadata": {
    "ExecuteTime": {
     "start_time": "2019-09-02T14:42:22.722Z"
    }
   },
   "outputs": [],
   "source": [
    "plot_fi(fi_permutation[:],False,'Permutation')"
   ]
  },
  {
   "cell_type": "code",
   "execution_count": null,
   "metadata": {
    "ExecuteTime": {
     "start_time": "2019-09-02T14:42:22.723Z"
    }
   },
   "outputs": [],
   "source": [
    "explainer = shap.TreeExplainer(m)\n",
    "shap_values = explainer.shap_values(X_valid_sample.values.astype(int))\n",
    "explainer.expected_value"
   ]
  },
  {
   "cell_type": "code",
   "execution_count": null,
   "metadata": {
    "ExecuteTime": {
     "start_time": "2019-09-02T14:42:22.725Z"
    }
   },
   "outputs": [],
   "source": [
    "%%perl\n",
    "open(F,\"proteinGroupsSILACmedianInverted.txt\");\n",
    "while(<F>){$cnt++;\n",
    "    if($cnt<10){print join(\",\",split(/\\t/,$_))}\n",
    "}"
   ]
  }
 ],
 "metadata": {
  "kernelspec": {
   "display_name": "Python 3",
   "language": "python",
   "name": "python3"
  },
  "language_info": {
   "codemirror_mode": {
    "name": "ipython",
    "version": 3
   },
   "file_extension": ".py",
   "mimetype": "text/x-python",
   "name": "python",
   "nbconvert_exporter": "python",
   "pygments_lexer": "ipython3",
   "version": "3.8.6"
  },
  "toc": {
   "base_numbering": 1,
   "nav_menu": {},
   "number_sections": true,
   "sideBar": true,
   "skip_h1_title": false,
   "title_cell": "Table of Contents",
   "title_sidebar": "Contents",
   "toc_cell": false,
   "toc_position": {},
   "toc_section_display": true,
   "toc_window_display": false
  },
  "varInspector": {
   "cols": {
    "lenName": 16,
    "lenType": 16,
    "lenVar": 40
   },
   "kernels_config": {
    "python": {
     "delete_cmd_postfix": "",
     "delete_cmd_prefix": "del ",
     "library": "var_list.py",
     "varRefreshCmd": "print(var_dic_list())"
    },
    "r": {
     "delete_cmd_postfix": ") ",
     "delete_cmd_prefix": "rm(",
     "library": "var_list.r",
     "varRefreshCmd": "cat(var_dic_list()) "
    }
   },
   "types_to_exclude": [
    "module",
    "function",
    "builtin_function_or_method",
    "instance",
    "_Feature"
   ],
   "window_display": false
  }
 },
 "nbformat": 4,
 "nbformat_minor": 4
}
