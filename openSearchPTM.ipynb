{
 "cells": [
  {
   "cell_type": "code",
   "execution_count": null,
   "metadata": {},
   "outputs": [],
   "source": [
    "#!for i in *NC*154*raw;do echo $i; j=$(basename $i); echo $j ; k=${j%%.*} ; echo $k; java -jar MSFragger-3.0.jar open_fragger.params $i ; ./philosopher peptideprophet --database 2020-07-17-decoys-contam-UP000005640.fas --ppm --accmass --expectscore --decoyprobs --nonparam $k.pepXML ; ./philosopher proteinprophet interact-$k.pep.xml ; ./philosopher filter --razor --pepxml interact-$k.pep.xml --protxml interact.prot.xml ;  ./philosopher report ; java -jar ptmshepherd-0.3.4.jar ptmSconf.txt ; mkdir $k-res ; mv *.tsv $k-res/. ; done "
   ]
  },
  {
   "cell_type": "code",
   "execution_count": 13,
   "metadata": {},
   "outputs": [
    {
     "data": {
      "text/plain": [
       "[PosixPath('/home/animeshs/.bashrc'), PosixPath('/home/animeshs/.bash_history'), PosixPath('/home/animeshs/.bash_logout'), PosixPath('/home/animeshs/.cache'), PosixPath('/home/animeshs/.conda'), PosixPath('/home/animeshs/.config'), PosixPath('/home/animeshs/.gitconfig'), PosixPath('/home/animeshs/.ipynb_checkpoints'), PosixPath('/home/animeshs/.ipython'), PosixPath('/home/animeshs/.jupyter'), PosixPath('/home/animeshs/.landscape'), PosixPath('/home/animeshs/.local'), PosixPath('/home/animeshs/.motd_shown'), PosixPath('/home/animeshs/.npm'), PosixPath('/home/animeshs/.profile'), PosixPath('/home/animeshs/.sudo_as_admin_successful'), PosixPath('/home/animeshs/.yarn'), PosixPath('/home/animeshs/animeshs'), PosixPath('/home/animeshs/GD'), PosixPath('/home/animeshs/miniconda3'), PosixPath('/home/animeshs/Miniconda3-latest-Linux-x86_64.sh'), PosixPath('/home/animeshs/notebooks'), PosixPath('/home/animeshs/scripts'), PosixPath('/home/animeshs/Untitled.ipynb')]"
      ]
     },
     "execution_count": 13,
     "metadata": {},
     "output_type": "execute_result"
    }
   ],
   "source": [
    "from pathlib import Path\n",
    "home = Path.home()\n",
    "[x for x in home.iterdir()]"
   ]
  },
  {
   "cell_type": "code",
   "execution_count": 22,
   "metadata": {},
   "outputs": [
    {
     "data": {
      "text/plain": [
       "[PosixPath('/home/animeshs/notebooks/QE_ptm/.meta'), PosixPath('/home/animeshs/notebooks/QE_ptm/.PeptideShaker_unzip_temp'), PosixPath('/home/animeshs/notebooks/QE_ptm/20150512_BSA_The-PEG-envelope'), PosixPath('/home/animeshs/notebooks/QE_ptm/20150512_BSA_The-PEG-envelope.index'), PosixPath('/home/animeshs/notebooks/QE_ptm/20150512_BSA_The-PEG-envelope.mgf'), PosixPath('/home/animeshs/notebooks/QE_ptm/20150512_BSA_The-PEG-envelope.mgf.cui'), PosixPath('/home/animeshs/notebooks/QE_ptm/20150512_BSA_The-PEG-envelope.mgf.out'), PosixPath('/home/animeshs/notebooks/QE_ptm/20150512_BSA_The-PEG-envelope.mgf_directag.log'), PosixPath('/home/animeshs/notebooks/QE_ptm/20150512_BSA_The-PEG-envelope.mzML'), PosixPath('/home/animeshs/notebooks/QE_ptm/20150512_BSA_The-PEG-envelope.novor.csv'), PosixPath('/home/animeshs/notebooks/QE_ptm/20150512_BSA_The-PEG-envelope.pepXML'), PosixPath('/home/animeshs/notebooks/QE_ptm/20150512_BSA_The-PEG-envelope.quantindex'), PosixPath('/home/animeshs/notebooks/QE_ptm/20150512_BSA_The-PEG-envelope.raw'), PosixPath('/home/animeshs/notebooks/QE_ptm/20150512_BSA_The-PEG-envelope.tags'), PosixPath('/home/animeshs/notebooks/QE_ptm/20150512_BSA_The-PEG-envelope.tsv'), PosixPath('/home/animeshs/notebooks/QE_ptm/20150512_BSA_The-PEG-envelope_c.pepXML'), PosixPath('/home/animeshs/notebooks/QE_ptm/20150512_BSA_The-PEG-envelope_quant.csv'), PosixPath('/home/animeshs/notebooks/QE_ptm/2020-07-16-decoys-reviewed-contam-UP000005640.fas'), PosixPath('/home/animeshs/notebooks/QE_ptm/2020-07-16-decoys-reviewed-contam-UP000005640.fas.1.pepindex'), PosixPath('/home/animeshs/notebooks/QE_ptm/blast_output.txt'), PosixPath('/home/animeshs/notebooks/QE_ptm/combined'), PosixPath('/home/animeshs/notebooks/QE_ptm/combined.prot.xml'), PosixPath('/home/animeshs/notebooks/QE_ptm/crystalc-0-20150512_BSA_The-PEG-envelope.pepXML.params'), PosixPath('/home/animeshs/notebooks/QE_ptm/delta-mass.html'), PosixPath('/home/animeshs/notebooks/QE_ptm/DeNovoGUI Report 2020-07-16 14.48.31.html'), PosixPath('/home/animeshs/notebooks/QE_ptm/directag_intensity_ranksum_bins.cache'), PosixPath('/home/animeshs/notebooks/QE_ptm/filter.log'), PosixPath('/home/animeshs/notebooks/QE_ptm/fragger.params'), PosixPath('/home/animeshs/notebooks/QE_ptm/fragpipe_2020-07-16_12-20-20.config'), PosixPath('/home/animeshs/notebooks/QE_ptm/fragpipe_2020-07-19_10-44-26.config'), PosixPath('/home/animeshs/notebooks/QE_ptm/global.modsummary.tsv'), PosixPath('/home/animeshs/notebooks/QE_ptm/global.profile.tsv'), PosixPath('/home/animeshs/notebooks/QE_ptm/interact.pep.xml'), PosixPath('/home/animeshs/notebooks/QE_ptm/ion.tsv'), PosixPath('/home/animeshs/notebooks/QE_ptm/log_2020-07-16_12-21-17.txt'), PosixPath('/home/animeshs/notebooks/QE_ptm/log_2020-07-19_10-44-09.txt'), PosixPath('/home/animeshs/notebooks/QE_ptm/log_2020-07-19_10-49-23.txt'), PosixPath('/home/animeshs/notebooks/QE_ptm/modifications.tsv'), PosixPath('/home/animeshs/notebooks/QE_ptm/mqpar.xml'), PosixPath('/home/animeshs/notebooks/QE_ptm/MSfrag'), PosixPath('/home/animeshs/notebooks/QE_ptm/Open.workflow'), PosixPath('/home/animeshs/notebooks/QE_ptm/peptide.tsv'), PosixPath('/home/animeshs/notebooks/QE_ptm/PeptideShaker Report PeptideShaker_output.cpsx 2020-07-16 12.08.37.html'), PosixPath('/home/animeshs/notebooks/QE_ptm/peptide_matches.txt'), PosixPath('/home/animeshs/notebooks/QE_ptm/protein.fas'), PosixPath('/home/animeshs/notebooks/QE_ptm/protein.tsv'), PosixPath('/home/animeshs/notebooks/QE_ptm/psm.tsv'), PosixPath('/home/animeshs/notebooks/QE_ptm/ptmSconfig.txt'), PosixPath('/home/animeshs/notebooks/QE_ptm/report.mzid'), PosixPath('/home/animeshs/notebooks/QE_ptm/SearchGUI Report 2020-07-16 12.08.38.html'), PosixPath('/home/animeshs/notebooks/QE_ptm/searchGUI.par'), PosixPath('/home/animeshs/notebooks/QE_ptm/searchgui_out.zip'), PosixPath('/home/animeshs/notebooks/QE_ptm/shepherd.config')]"
      ]
     },
     "execution_count": 22,
     "metadata": {},
     "output_type": "execute_result"
    }
   ],
   "source": [
    "inpD = home/'notebooks/QE_ptm'\n",
    "[x for x in (home/inpD).iterdir()]"
   ]
  },
  {
   "cell_type": "code",
   "execution_count": 24,
   "metadata": {},
   "outputs": [
    {
     "data": {
      "text/html": [
       "<div>\n",
       "<style scoped>\n",
       "    .dataframe tbody tr th:only-of-type {\n",
       "        vertical-align: middle;\n",
       "    }\n",
       "\n",
       "    .dataframe tbody tr th {\n",
       "        vertical-align: top;\n",
       "    }\n",
       "\n",
       "    .dataframe thead th {\n",
       "        text-align: right;\n",
       "    }\n",
       "</style>\n",
       "<table border=\"1\" class=\"dataframe\">\n",
       "  <thead>\n",
       "    <tr style=\"text-align: right;\">\n",
       "      <th></th>\n",
       "      <th>Theoretical Mass Shift</th>\n",
       "      <th>default-ptmshepherd-dataset (PSMs)</th>\n",
       "      <th>default-ptmshepherd-dataset (PSMs/million)</th>\n",
       "    </tr>\n",
       "  </thead>\n",
       "  <tbody>\n",
       "    <tr>\n",
       "      <th>count</th>\n",
       "      <td>95.000000</td>\n",
       "      <td>95.000000</td>\n",
       "      <td>95.000000</td>\n",
       "    </tr>\n",
       "    <tr>\n",
       "      <th>mean</th>\n",
       "      <td>141.031862</td>\n",
       "      <td>4.484211</td>\n",
       "      <td>576.306105</td>\n",
       "    </tr>\n",
       "    <tr>\n",
       "      <th>std</th>\n",
       "      <td>179.674516</td>\n",
       "      <td>11.459330</td>\n",
       "      <td>1472.733125</td>\n",
       "    </tr>\n",
       "    <tr>\n",
       "      <th>min</th>\n",
       "      <td>-143.058200</td>\n",
       "      <td>1.000000</td>\n",
       "      <td>128.520000</td>\n",
       "    </tr>\n",
       "    <tr>\n",
       "      <th>25%</th>\n",
       "      <td>4.013419</td>\n",
       "      <td>1.000000</td>\n",
       "      <td>128.520000</td>\n",
       "    </tr>\n",
       "    <tr>\n",
       "      <th>50%</th>\n",
       "      <td>72.003600</td>\n",
       "      <td>1.000000</td>\n",
       "      <td>128.520000</td>\n",
       "    </tr>\n",
       "    <tr>\n",
       "      <th>75%</th>\n",
       "      <td>295.629200</td>\n",
       "      <td>3.000000</td>\n",
       "      <td>385.560000</td>\n",
       "    </tr>\n",
       "    <tr>\n",
       "      <th>max</th>\n",
       "      <td>483.326000</td>\n",
       "      <td>93.000000</td>\n",
       "      <td>11952.190000</td>\n",
       "    </tr>\n",
       "  </tbody>\n",
       "</table>\n",
       "</div>"
      ],
      "text/plain": [
       "       Theoretical Mass Shift  default-ptmshepherd-dataset (PSMs)  default-ptmshepherd-dataset (PSMs/million)\n",
       "count               95.000000                           95.000000                                   95.000000\n",
       "mean               141.031862                            4.484211                                  576.306105\n",
       "std                179.674516                           11.459330                                 1472.733125\n",
       "min               -143.058200                            1.000000                                  128.520000\n",
       "25%                  4.013419                            1.000000                                  128.520000\n",
       "50%                 72.003600                            1.000000                                  128.520000\n",
       "75%                295.629200                            3.000000                                  385.560000\n",
       "max                483.326000                           93.000000                                11952.190000"
      ]
     },
     "execution_count": 24,
     "metadata": {},
     "output_type": "execute_result"
    }
   ],
   "source": [
    "#conda activate jupyterlab-debugger\n",
    "#pip install pandas\n",
    "inpF=\"global.modsummary.tsv\"\n",
    "import pandas as pd\n",
    "df = pd.read_table(inpD/inpF)\n",
    "df.describe()"
   ]
  }
 ],
 "metadata": {
  "kernelspec": {
   "display_name": "xpython",
   "language": "python",
   "name": "xpython"
  },
  "language_info": {
   "file_extension": ".py",
   "mimetype": "text/x-python",
   "name": "python",
   "version": "3.8.2"
  }
 },
 "nbformat": 4,
 "nbformat_minor": 4
}
