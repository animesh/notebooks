{
 "cells": [
  {
   "cell_type": "code",
   "execution_count": 5,
   "metadata": {},
   "outputs": [],
   "source": [
    "#!for i in *NC*154*raw;do echo $i; j=$(basename $i); echo $j ; k=${j%%.*} ; echo $k; java -jar MSFragger-3.0.jar open_fragger.params $i ; ./philosopher peptideprophet --database 2020-07-17-decoys-contam-UP000005640.fas --ppm --accmass --expectscore --decoyprobs --nonparam $k.pepXML ; ./philosopher proteinprophet interact-$k.pep.xml ; ./philosopher filter --razor --pepxml interact-$k.pep.xml --protxml interact.prot.xml ;  ./philosopher report ; java -jar ptmshepherd-0.3.4.jar ptmSconf.txt ; mkdir $k-res ; mv *.tsv $k-res/. ; done "
   ]
  },
  {
   "cell_type": "code",
   "execution_count": 6,
   "metadata": {},
   "outputs": [],
   "source": [
    "from pathlib import Path\n",
    "home = Path.home()\n",
    "#[x for x in home.iterdir()]"
   ]
  },
  {
   "cell_type": "code",
   "execution_count": 8,
   "metadata": {},
   "outputs": [],
   "source": [
    "inpD = 'notebooks/QE_ptm'\n",
    "#[x for x in (home/inpD).iterdir()]"
   ]
  },
  {
   "cell_type": "code",
   "execution_count": 9,
   "metadata": {},
   "outputs": [
    {
     "data": {
      "text/html": [
       "<div>\n",
       "<style scoped>\n",
       "    .dataframe tbody tr th:only-of-type {\n",
       "        vertical-align: middle;\n",
       "    }\n",
       "\n",
       "    .dataframe tbody tr th {\n",
       "        vertical-align: top;\n",
       "    }\n",
       "\n",
       "    .dataframe thead th {\n",
       "        text-align: right;\n",
       "    }\n",
       "</style>\n",
       "<table border=\"1\" class=\"dataframe\">\n",
       "  <thead>\n",
       "    <tr style=\"text-align: right;\">\n",
       "      <th></th>\n",
       "      <th>Theoretical Mass Shift</th>\n",
       "      <th>default-ptmshepherd-dataset (PSMs)</th>\n",
       "      <th>default-ptmshepherd-dataset (PSMs/million)</th>\n",
       "    </tr>\n",
       "  </thead>\n",
       "  <tbody>\n",
       "    <tr>\n",
       "      <th>count</th>\n",
       "      <td>186.000000</td>\n",
       "      <td>186.000000</td>\n",
       "      <td>186.000000</td>\n",
       "    </tr>\n",
       "    <tr>\n",
       "      <th>mean</th>\n",
       "      <td>133.649535</td>\n",
       "      <td>56.435484</td>\n",
       "      <td>1227.684785</td>\n",
       "    </tr>\n",
       "    <tr>\n",
       "      <th>std</th>\n",
       "      <td>155.153357</td>\n",
       "      <td>250.982176</td>\n",
       "      <td>5459.814556</td>\n",
       "    </tr>\n",
       "    <tr>\n",
       "      <th>min</th>\n",
       "      <td>-128.094963</td>\n",
       "      <td>2.000000</td>\n",
       "      <td>43.500000</td>\n",
       "    </tr>\n",
       "    <tr>\n",
       "      <th>25%</th>\n",
       "      <td>12.319162</td>\n",
       "      <td>4.000000</td>\n",
       "      <td>87.020000</td>\n",
       "    </tr>\n",
       "    <tr>\n",
       "      <th>50%</th>\n",
       "      <td>82.974483</td>\n",
       "      <td>10.500000</td>\n",
       "      <td>228.415000</td>\n",
       "    </tr>\n",
       "    <tr>\n",
       "      <th>75%</th>\n",
       "      <td>243.825927</td>\n",
       "      <td>26.500000</td>\n",
       "      <td>576.472500</td>\n",
       "    </tr>\n",
       "    <tr>\n",
       "      <th>max</th>\n",
       "      <td>546.208295</td>\n",
       "      <td>2945.000000</td>\n",
       "      <td>64064.910000</td>\n",
       "    </tr>\n",
       "  </tbody>\n",
       "</table>\n",
       "</div>"
      ],
      "text/plain": [
       "       Theoretical Mass Shift  default-ptmshepherd-dataset (PSMs)  \\\n",
       "count              186.000000                          186.000000   \n",
       "mean               133.649535                           56.435484   \n",
       "std                155.153357                          250.982176   \n",
       "min               -128.094963                            2.000000   \n",
       "25%                 12.319162                            4.000000   \n",
       "50%                 82.974483                           10.500000   \n",
       "75%                243.825927                           26.500000   \n",
       "max                546.208295                         2945.000000   \n",
       "\n",
       "       default-ptmshepherd-dataset (PSMs/million)  \n",
       "count                                  186.000000  \n",
       "mean                                  1227.684785  \n",
       "std                                   5459.814556  \n",
       "min                                     43.500000  \n",
       "25%                                     87.020000  \n",
       "50%                                    228.415000  \n",
       "75%                                    576.472500  \n",
       "max                                  64064.910000  "
      ]
     },
     "execution_count": 9,
     "metadata": {},
     "output_type": "execute_result"
    }
   ],
   "source": [
    "inpF=\"global.modsummary.tsv\"\n",
    "import pandas as pd\n",
    "df = pd.read_table(home/inpD/inpF)\n",
    "df.describe()"
   ]
  }
 ],
 "metadata": {
  "kernelspec": {
   "display_name": "Python 3",
   "language": "python",
   "name": "python3"
  },
  "language_info": {
   "codemirror_mode": {
    "name": "ipython",
    "version": 3
   },
   "file_extension": ".py",
   "mimetype": "text/x-python",
   "name": "python",
   "nbconvert_exporter": "python",
   "pygments_lexer": "ipython3",
   "version": "3.7.6"
  }
 },
 "nbformat": 4,
 "nbformat_minor": 4
}
