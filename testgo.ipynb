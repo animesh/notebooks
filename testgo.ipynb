{
 "cells": [
  {
   "cell_type": "code",
   "execution_count": 4,
   "metadata": {},
   "outputs": [
    {
     "data": {
      "text/plain": [
       "81,8747,5981,3\n",
       "<nil>\n",
       "182\n",
       "<nil>\n",
       "\n",
       "1\n",
       "<nil>\n",
       "0.06563701921747622\n",
       "20\n",
       "<nil>\n"
      ]
     },
     "execution_count": 4,
     "metadata": {},
     "output_type": "execute_result"
    }
   ],
   "source": [
    "import \"time\"\n",
    "import \"fmt\"\n",
    "import \"math/rand\"\n",
    "    fmt.Print(rand.Intn(100), \",\")\n",
    "    fmt.Print(rand.Intn(100))\n",
    "    fmt.Println()\n",
    "    fmt.Println(rand.Float64())"
   ]
  },
  {
   "cell_type": "code",
   "execution_count": 12,
   "metadata": {},
   "outputs": [
    {
     "data": {
      "text/plain": [
       "81,8747,5981,186.563701921747622\n",
       "18\n",
       "<nil>\n"
      ]
     },
     "execution_count": 12,
     "metadata": {},
     "output_type": "execute_result"
    }
   ],
   "source": [
    "fmt.Println(rand.Float64()*100)"
   ]
  }
 ],
 "metadata": {
  "kernelspec": {
   "display_name": "Go",
   "language": "go",
   "name": "gophernotes"
  },
  "language_info": {
   "name": "go"
  }
 },
 "nbformat": 4,
 "nbformat_minor": 2
}
