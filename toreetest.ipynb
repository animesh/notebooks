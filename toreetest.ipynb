{
 "cells": [
  {
   "cell_type": "code",
   "execution_count": 2,
   "metadata": {},
   "outputs": [
    {
     "data": {
      "text/plain": [
       "Array(4, 16, 36, 64, 100, 144, 196, 256, 324, 400)"
      ]
     },
     "execution_count": 2,
     "metadata": {},
     "output_type": "execute_result"
    }
   ],
   "source": [
    "import org.apache.spark.SparkConf\n",
    "import org.apache.spark.SparkContext\n",
    "sc.stop()\n",
    "val conf = new SparkConf().setMaster(\"local[2]\").setAppName(\"promec2\").set(\"spark.cores.max\", \"8\")\n",
    "//val conf = new SparkConf(true).setMaster(\"spark://129.241.180.233:7077\").setAppName(\"promec2\").set(\"spark.cores.max\", \"8\")\n",
    "val sc = new SparkContext(conf)\n",
    "sc.parallelize(1 to 100).\n",
    "  filter(x => x % 2 == 0).\n",
    "  map(x => x*x).\n",
    "  take(10)"
   ]
  },
  {
   "cell_type": "code",
   "execution_count": 3,
   "metadata": {
    "collapsed": true
   },
   "outputs": [],
   "source": [
    "val wikiRdd = sc.textFile(\"src/main/resources/wikipedia/wikipedia.dat\")"
   ]
  },
  {
   "cell_type": "code",
   "execution_count": 4,
   "metadata": {},
   "outputs": [
    {
     "data": {
      "text/plain": [
       "'''''Mimoxenolea''''' }} '''''Mimoxenolea''''' is a genus of [[beetle]]s in the family [[Cerambycidae]], containing the following species:<ref>[http://www.biolib.cz/en/taxon/id11377/ Acanthocinini].  Retrieved on 8 September 2014.</ref>  * ''[[Mimoxenolea bicoloricornis]]'' <small>Breuning, 1960</small> * ''[[Mimoxenolea ornata]]'' <small>(Breuning, 1961)</small> * ''[[Mimoxenolea sikkimensis]]'' <small>(Breuning, 1961)</small>  ==References== {{reflist}}  [[Category:Acanthocinini]]  {{Acanthocinini-stub}}</text></page>\",)"
      ]
     },
     "execution_count": 4,
     "metadata": {},
     "output_type": "execute_result"
    }
   ],
   "source": [
    "wikiRdd.take(1)"
   ]
  },
  {
   "cell_type": "code",
   "execution_count": 25,
   "metadata": {},
   "outputs": [
    {
     "data": {
      "text/plain": [
       "Array((bone,68), (https://tools.wmflabs.org/wikiviewstats/,2))"
      ]
     },
     "execution_count": 25,
     "metadata": {},
     "output_type": "execute_result"
    }
   ],
   "source": [
    "//val counts = wikiRdd.flatMap(lambda line: line.split(\" \")).map(lambda word: (word, 1)).reduceByKey(lambda a, b: a + b)\n",
    "//val counts = wikiRdd.flatMap(line => line.split(\" \")).map(word => (word, 1)).reduceByKey(_ + _).cache()\n",
    "counts.take(2)"
   ]
  },
  {
   "cell_type": "code",
   "execution_count": 15,
   "metadata": {
    "collapsed": true
   },
   "outputs": [],
   "source": [
    "val words = wikiRdd.flatMap(value => value.split(\"\\\\s+\"))\n",
    "//val groupedWords = words.groupByKey(_.toLowerCase)"
   ]
  },
  {
   "cell_type": "code",
   "execution_count": 2,
   "metadata": {
    "collapsed": true
   },
   "outputs": [],
   "source": [
    "%%pySpark\n",
    "print(\"\")"
   ]
  },
  {
   "cell_type": "code",
   "execution_count": 9,
   "metadata": {
    "collapsed": true
   },
   "outputs": [],
   "source": [
    "sc.stop()"
   ]
  },
  {
   "cell_type": "code",
   "execution_count": 7,
   "metadata": {},
   "outputs": [
    {
     "name": "stdout",
     "output_type": "stream",
     "text": [
      "Error in library(SparkR) : there is no package called ‘SparkR’\n",
      "Execution halted\n",
      "Error in library(SparkR) : there is no package called ‘SparkR’\n",
      "Execution halted\n"
     ]
    },
    {
     "data": {
      "text/plain": [
       "Magic sparkR failed to execute with error: \n",
       "null was reset!"
      ]
     },
     "execution_count": 7,
     "metadata": {},
     "output_type": "execute_result"
    }
   ],
   "source": [
    "%%spark\n",
    "plot(1:100)"
   ]
  },
  {
   "cell_type": "code",
   "execution_count": 3,
   "metadata": {
    "collapsed": true
   },
   "outputs": [],
   "source": [
    "%%PySpark\n",
    "p=\"line([1,2,3,4,5],[6,7,8,9,10], line_width=2)\"\n",
    "print(p)\n"
   ]
  },
  {
   "cell_type": "code",
   "execution_count": 2,
   "metadata": {},
   "outputs": [
    {
     "data": {
      "text/plain": [
       "org.apache.spark.SparkStatusTracker@7777358a"
      ]
     },
     "execution_count": 2,
     "metadata": {},
     "output_type": "execute_result"
    }
   ],
   "source": [
    "sc.statusTracker\n"
   ]
  },
  {
   "cell_type": "code",
   "execution_count": 28,
   "metadata": {
    "collapsed": true
   },
   "outputs": [],
   "source": [
    "//val data = sc.textFile(\"/home/animeshs/spark/data/mllib/gmm_data.csv\")\n",
    "//import org.apache.spark.sql.SQLContext\n",
    "//val df = sqlContext.read.format(\"csv\").option(\"header\", \"true\").option(\"inferSchema\", \"true\").load(\"/home/animeshs/promec/Animesh/Lymphoma/Trp of SuperSILACpTtestImp.csv\")\n",
    "//val df = sc.read.format(\"csv\").option(\"header\", \"true\").load(\"/home/animeshs/promec/Animesh/Lymphoma/TrpofSuperSILACpTtestImp.csv\")\n",
    "//val ss = new Spark(conf)\n",
    "import org.apache.spark.sql.functions._\n",
    "import org.apache.spark.sql.SparkSession\n",
    "\n",
    "val ss = SparkSession.builder.appName(\"StructuredNetworkWordCount\").getOrCreate()\n",
    "val df = ss.read.option(\"header\", true).csv(\"/home/animeshs/promec/Animesh/Lymphoma/TrpofSuperSILACpTtestImp.csv\")\n"
   ]
  },
  {
   "cell_type": "code",
   "execution_count": null,
   "metadata": {
    "collapsed": true
   },
   "outputs": [],
   "source": [
    "import org.apache.spark.mllib.linalg.Vectors\n",
    "import org.apache.spark.mllib.stat.{MultivariateStatisticalSummary, Statistics}\n",
    "val observations=df.mapValues(_.toArray.map(_.toInt))\n",
    "val summary: MultivariateStatisticalSummary = Statistics.colStats(observations)\n",
    "println(summary.mean)  // a dense vector containing the mean value for each column\n",
    "println(summary.variance)  // column-wise variance\n",
    "println(summary.numNonzeros)  // number of nonzeros in each column"
   ]
  },
  {
   "cell_type": "code",
   "execution_count": null,
   "metadata": {
    "collapsed": true
   },
   "outputs": [],
   "source": [
    "// Load and parse the data\n",
    "//data.take(2)\n",
    "//val parsedData = data.map(s => Vectors.dense(s.trim.split('\\t').map(_.toDouble))).cache()\n",
    "val Q5JRG1=df.select(\"Q5JRG1\").show(2)\n",
    "//df.schema"
   ]
  },
  {
   "cell_type": "code",
   "execution_count": 21,
   "metadata": {},
   "outputs": [
    {
     "data": {
      "text/plain": [
       "Name: org.apache.spark.SparkException\n",
       "Message: Job aborted due to stage failure: Task 0 in stage 72.0 failed 1 times, most recent failure: Lost task 0.0 in stage 72.0 (TID 133, localhost, executor driver): java.lang.NumberFormatException: For input string: \"Q5JRG1\"\n",
       "\tat sun.misc.FloatingDecimal.readJavaFormatString(FloatingDecimal.java:2043)\n",
       "\tat sun.misc.FloatingDecimal.parseDouble(FloatingDecimal.java:110)\n",
       "\tat java.lang.Double.parseDouble(Double.java:538)\n",
       "\tat scala.collection.immutable.StringLike$class.toDouble(StringLike.scala:284)\n",
       "\tat scala.collection.immutable.StringOps.toDouble(StringOps.scala:29)\n",
       "\tat $line105.$read$$iw$$iw$$iw$$iw$$anonfun$1$$anonfun$apply$1.apply(<console>:35)\n",
       "\tat $line105.$read$$iw$$iw$$iw$$iw$$anonfun$1$$anonfun$apply$1.apply(<console>:35)\n",
       "\tat scala.collection.TraversableLike$$anonfun$map$1.apply(TraversableLike.scala:234)\n",
       "\tat scala.collection.TraversableLike$$anonfun$map$1.apply(TraversableLike.scala:234)\n",
       "\tat scala.collection.IndexedSeqOptimized$class.foreach(IndexedSeqOptimized.scala:33)\n",
       "\tat scala.collection.mutable.ArrayOps$ofRef.foreach(ArrayOps.scala:186)\n",
       "\tat scala.collection.TraversableLike$class.map(TraversableLike.scala:234)\n",
       "\tat scala.collection.mutable.ArrayOps$ofRef.map(ArrayOps.scala:186)\n",
       "\tat $line105.$read$$iw$$iw$$iw$$iw$$anonfun$1.apply(<console>:35)\n",
       "\tat $line105.$read$$iw$$iw$$iw$$iw$$anonfun$1.apply(<console>:35)\n",
       "\tat scala.collection.Iterator$$anon$11.next(Iterator.scala:409)\n",
       "\tat org.apache.spark.storage.memory.MemoryStore.putIteratorAsValues(MemoryStore.scala:216)\n",
       "\tat org.apache.spark.storage.BlockManager$$anonfun$doPutIterator$1.apply(BlockManager.scala:1005)\n",
       "\tat org.apache.spark.storage.BlockManager$$anonfun$doPutIterator$1.apply(BlockManager.scala:996)\n",
       "\tat org.apache.spark.storage.BlockManager.doPut(BlockManager.scala:936)\n",
       "\tat org.apache.spark.storage.BlockManager.doPutIterator(BlockManager.scala:996)\n",
       "\tat org.apache.spark.storage.BlockManager.getOrElseUpdate(BlockManager.scala:700)\n",
       "\tat org.apache.spark.rdd.RDD.getOrCompute(RDD.scala:334)\n",
       "\tat org.apache.spark.rdd.RDD.iterator(RDD.scala:285)\n",
       "\tat org.apache.spark.rdd.MapPartitionsRDD.compute(MapPartitionsRDD.scala:38)\n",
       "\tat org.apache.spark.rdd.RDD.computeOrReadCheckpoint(RDD.scala:323)\n",
       "\tat org.apache.spark.rdd.RDD.iterator(RDD.scala:287)\n",
       "\tat org.apache.spark.scheduler.ShuffleMapTask.runTask(ShuffleMapTask.scala:96)\n",
       "\tat org.apache.spark.scheduler.ShuffleMapTask.runTask(ShuffleMapTask.scala:53)\n",
       "\tat org.apache.spark.scheduler.Task.run(Task.scala:99)\n",
       "\tat org.apache.spark.executor.Executor$TaskRunner.run(Executor.scala:322)\n",
       "\tat java.util.concurrent.ThreadPoolExecutor.runWorker(ThreadPoolExecutor.java:1142)\n",
       "\tat java.util.concurrent.ThreadPoolExecutor$Worker.run(ThreadPoolExecutor.java:617)\n",
       "\tat java.lang.Thread.run(Thread.java:745)\n",
       "\n",
       "Driver stacktrace:\n",
       "StackTrace: \tat sun.misc.FloatingDecimal.readJavaFormatString(FloatingDecimal.java:2043)\n",
       "\tat sun.misc.FloatingDecimal.parseDouble(FloatingDecimal.java:110)\n",
       "\tat java.lang.Double.parseDouble(Double.java:538)\n",
       "\tat scala.collection.immutable.StringLike$class.toDouble(StringLike.scala:284)\n",
       "\tat scala.collection.immutable.StringOps.toDouble(StringOps.scala:29)\n",
       "\tat $anonfun$1$$anonfun$apply$1.apply(<console>:35)\n",
       "\tat $anonfun$1$$anonfun$apply$1.apply(<console>:35)\n",
       "\tat scala.collection.TraversableLike$$anonfun$map$1.apply(TraversableLike.scala:234)\n",
       "\tat scala.collection.TraversableLike$$anonfun$map$1.apply(TraversableLike.scala:234)\n",
       "\tat scala.collection.IndexedSeqOptimized$class.foreach(IndexedSeqOptimized.scala:33)\n",
       "\tat scala.collection.mutable.ArrayOps$ofRef.foreach(ArrayOps.scala:186)\n",
       "\tat scala.collection.TraversableLike$class.map(TraversableLike.scala:234)\n",
       "\tat scala.collection.mutable.ArrayOps$ofRef.map(ArrayOps.scala:186)\n",
       "\tat $anonfun$1.apply(<console>:35)\n",
       "\tat $anonfun$1.apply(<console>:35)\n",
       "\tat scala.collection.Iterator$$anon$11.next(Iterator.scala:409)\n",
       "\tat org.apache.spark.storage.memory.MemoryStore.putIteratorAsValues(MemoryStore.scala:216)\n",
       "\tat org.apache.spark.storage.BlockManager$$anonfun$doPutIterator$1.apply(BlockManager.scala:1005)\n",
       "\tat org.apache.spark.storage.BlockManager$$anonfun$doPutIterator$1.apply(BlockManager.scala:996)\n",
       "\tat org.apache.spark.storage.BlockManager.doPut(BlockManager.scala:936)\n",
       "\tat org.apache.spark.storage.BlockManager.doPutIterator(BlockManager.scala:996)\n",
       "\tat org.apache.spark.storage.BlockManager.getOrElseUpdate(BlockManager.scala:700)\n",
       "\tat org.apache.spark.rdd.RDD.getOrCompute(RDD.scala:334)\n",
       "\tat org.apache.spark.rdd.RDD.iterator(RDD.scala:285)\n",
       "\tat org.apache.spark.rdd.MapPartitionsRDD.compute(MapPartitionsRDD.scala:38)\n",
       "\tat org.apache.spark.rdd.RDD.computeOrReadCheckpoint(RDD.scala:323)\n",
       "\tat org.apache.spark.rdd.RDD.iterator(RDD.scala:287)\n",
       "\tat org.apache.spark.scheduler.ShuffleMapTask.runTask(ShuffleMapTask.scala:96)\n",
       "\tat org.apache.spark.scheduler.ShuffleMapTask.runTask(ShuffleMapTask.scala:53)\n",
       "\tat org.apache.spark.scheduler.Task.run(Task.scala:99)\n",
       "\tat org.apache.spark.executor.Executor$TaskRunner.run(Executor.scala:322)\n",
       "\tat java.util.concurrent.ThreadPoolExecutor.runWorker(ThreadPoolExecutor.java:1142)\n",
       "\tat java.util.concurrent.ThreadPoolExecutor$Worker.run(ThreadPoolExecutor.java:617)\n",
       "\tat java.lang.Thread.run(Thread.java:745)\n",
       "\n",
       "Driver stacktrace:\n",
       "  at org.apache.spark.scheduler.DAGScheduler.org$apache$spark$scheduler$DAGScheduler$$failJobAndIndependentStages(DAGScheduler.scala:1435)\n",
       "  at org.apache.spark.scheduler.DAGScheduler$$anonfun$abortStage$1.apply(DAGScheduler.scala:1423)\n",
       "  at org.apache.spark.scheduler.DAGScheduler$$anonfun$abortStage$1.apply(DAGScheduler.scala:1422)\n",
       "  at scala.collection.mutable.ResizableArray$class.foreach(ResizableArray.scala:59)\n",
       "  at scala.collection.mutable.ArrayBuffer.foreach(ArrayBuffer.scala:48)\n",
       "  at org.apache.spark.scheduler.DAGScheduler.abortStage(DAGScheduler.scala:1422)\n",
       "  at org.apache.spark.scheduler.DAGScheduler$$anonfun$handleTaskSetFailed$1.apply(DAGScheduler.scala:802)\n",
       "  at org.apache.spark.scheduler.DAGScheduler$$anonfun$handleTaskSetFailed$1.apply(DAGScheduler.scala:802)\n",
       "  at scala.Option.foreach(Option.scala:257)\n",
       "  at org.apache.spark.scheduler.DAGScheduler.handleTaskSetFailed(DAGScheduler.scala:802)\n",
       "  at org.apache.spark.scheduler.DAGSchedulerEventProcessLoop.doOnReceive(DAGScheduler.scala:1650)\n",
       "  at org.apache.spark.scheduler.DAGSchedulerEventProcessLoop.onReceive(DAGScheduler.scala:1605)\n",
       "  at org.apache.spark.scheduler.DAGSchedulerEventProcessLoop.onReceive(DAGScheduler.scala:1594)\n",
       "  at org.apache.spark.util.EventLoop$$anon$1.run(EventLoop.scala:48)\n",
       "  at org.apache.spark.scheduler.DAGScheduler.runJob(DAGScheduler.scala:628)\n",
       "  at org.apache.spark.SparkContext.runJob(SparkContext.scala:1925)\n",
       "  at org.apache.spark.SparkContext.runJob(SparkContext.scala:1938)\n",
       "  at org.apache.spark.SparkContext.runJob(SparkContext.scala:1951)\n",
       "  at org.apache.spark.rdd.RDD$$anonfun$take$1.apply(RDD.scala:1354)\n",
       "  at org.apache.spark.rdd.RDDOperationScope$.withScope(RDDOperationScope.scala:151)\n",
       "  at org.apache.spark.rdd.RDDOperationScope$.withScope(RDDOperationScope.scala:112)\n",
       "  at org.apache.spark.rdd.RDD.withScope(RDD.scala:362)\n",
       "  at org.apache.spark.rdd.RDD.take(RDD.scala:1327)\n",
       "  ... 40 elided\n",
       "Caused by: java.lang.NumberFormatException: For input string: \"Q5JRG1\"\n",
       "  at sun.misc.FloatingDecimal.readJavaFormatString(FloatingDecimal.java:2043)\n",
       "  at sun.misc.FloatingDecimal.parseDouble(FloatingDecimal.java:110)\n",
       "  at java.lang.Double.parseDouble(Double.java:538)\n",
       "  at scala.collection.immutable.StringLike$class.toDouble(StringLike.scala:284)\n",
       "  at scala.collection.immutable.StringOps.toDouble(StringOps.scala:29)\n",
       "  at $anonfun$1$$anonfun$apply$1.apply(<console>:35)\n",
       "  at $anonfun$1$$anonfun$apply$1.apply(<console>:35)\n",
       "  at scala.collection.TraversableLike$$anonfun$map$1.apply(TraversableLike.scala:234)\n",
       "  at scala.collection.TraversableLike$$anonfun$map$1.apply(TraversableLike.scala:234)\n",
       "  at scala.collection.IndexedSeqOptimized$class.foreach(IndexedSeqOptimized.scala:33)\n",
       "  at scala.collection.mutable.ArrayOps$ofRef.foreach(ArrayOps.scala:186)\n",
       "  at scala.collection.TraversableLike$class.map(TraversableLike.scala:234)\n",
       "  at scala.collection.mutable.ArrayOps$ofRef.map(ArrayOps.scala:186)\n",
       "  at $anonfun$1.apply(<console>:35)\n",
       "  at $anonfun$1.apply(<console>:35)\n",
       "  at scala.collection.Iterator$$anon$11.next(Iterator.scala:409)\n",
       "  at org.apache.spark.storage.memory.MemoryStore.putIteratorAsValues(MemoryStore.scala:216)\n",
       "  at org.apache.spark.storage.BlockManager$$anonfun$doPutIterator$1.apply(BlockManager.scala:1005)\n",
       "  at org.apache.spark.storage.BlockManager$$anonfun$doPutIterator$1.apply(BlockManager.scala:996)\n",
       "  at org.apache.spark.storage.BlockManager.doPut(BlockManager.scala:936)\n",
       "  at org.apache.spark.storage.BlockManager.doPutIterator(BlockManager.scala:996)\n",
       "  at org.apache.spark.storage.BlockManager.getOrElseUpdate(BlockManager.scala:700)\n",
       "  at org.apache.spark.rdd.RDD.getOrCompute(RDD.scala:334)\n",
       "  at org.apache.spark.rdd.RDD.iterator(RDD.scala:285)\n",
       "  at org.apache.spark.rdd.MapPartitionsRDD.compute(MapPartitionsRDD.scala:38)\n",
       "  at org.apache.spark.rdd.RDD.computeOrReadCheckpoint(RDD.scala:323)\n",
       "  at org.apache.spark.rdd.RDD.iterator(RDD.scala:287)\n",
       "  at org.apache.spark.scheduler.ShuffleMapTask.runTask(ShuffleMapTask.scala:96)\n",
       "  at org.apache.spark.scheduler.ShuffleMapTask.runTask(ShuffleMapTask.scala:53)\n",
       "  at org.apache.spark.scheduler.Task.run(Task.scala:99)\n",
       "  at org.apache.spark.executor.Executor$TaskRunner.run(Executor.scala:322)"
      ]
     },
     "execution_count": 21,
     "metadata": {},
     "output_type": "execute_result"
    }
   ],
   "source": [
    "parsedData.distinct().take(1)"
   ]
  },
  {
   "cell_type": "code",
   "execution_count": 13,
   "metadata": {},
   "outputs": [
    {
     "data": {
      "text/plain": [
       "Name: org.apache.spark.SparkException\n",
       "Message: Job aborted due to stage failure: Task 0 in stage 69.0 failed 1 times, most recent failure: Lost task 0.0 in stage 69.0 (TID 130, localhost, executor driver): java.lang.NumberFormatException: For input string: \"Q5JRG1\tP42167\tH0YGN2\tQ9BXR0\tF8VYE8\tQ9P0J1\tA0A087X0I3\tE9PHV6\tQ8NFH3\tP46013\tQ9GZT3\tQ9NXX6\tO95793\tQ96J01\tA0A087WXK2\tE7EVH3\tQ9H7D7\tQ14146\tP19387\tQ9NRF9\tQ12965\tQ9C0C9\tQ13951\tP16989\tQ9NVX2\tQ86U44\tQ9UHD2\tQ96KR1\tQ9H009\tP13761\tQ658Y4\tA0A0A0MSQ0\tO15117\tQ9UNI6\tQ9H2U1\tQ9NRR5\tM0QWZ7\tO00629\tQ14571\tQ16537\tP29966\tQ9UIA9\tP28289\tA0A024R216\tCON__P01966\tQ9BT22\tQ7Z3B4\tI3L0X5\tQ96P31\tQ8IY81\tQ9NPH2\tQ9BW71\tO15079\tP36871\tQ03164\tQ12769\tH0Y3X6\tD6R9P4\tP37198\tF5H0U5\tQ86U38\tQ15554\tQ6IN84\tQ5H907\tQ9NXE4\tQ9NY27\tQ6UXN9\tQ9P0I2\tA0A0A0MTH9\tE9PES6\tCON__Q3KUS7\tA0A087WU64\tB9ZVN9\tQ8TDL5\tE7EVX8\tQ5T7U1\tE5RH41\tO95487\tQ9H1I8\tQ96CX6\tQ9HBL8\tK4DI93\tQ08752\tH7BXI1\tH0YCN4\tP98160\tQ6PCB5\tP27701\tQ9NXF1\tQ8WXH0\tQ9Y248\tQ8TEM1\tF5GX51\tQ9ULC3\tB7Z7E1\tA0A1B0GUC3\tO00560\tA0A1B0GU45\tE5RI99\tQ6UN15\tQ96K76\tQ8NFF5\tQ16204\tP51452\tQ96MG7\tO95433\tD6R992\tQ10472\tQ15526\tP51610\tA9Z1X7\tE7ENJ6\tJ3KN66\tQ8TCG2\tQ8NC56\tO00566\tP52294\tP80217\tQ2VPB7\tQ9P2N5\tQ86TB3\tQ9NPI6\tQ5TCT4\tP07919\tQ13188\tP60866\tP52788\tH3BLV9\tQ99986\tQ14353\tK7EIN1\tE9PD53\tQ5TAW7\tP35658\tO95400\tQ86W42\tO75475\tQ9Y5U9\tQ8N0Z6\tD6RF48\tG3V4K3\tP46063\tP08648\tQ9P2A4\tQ8N6L1\tQ9Y6A9\tQ13573\tP49006\tG3V2S6\tE9PQB8\tO14933\tA0A087WUT0\tH0YMB7\tO95347\tP51003\tQ02338\tQ7Z7K6\tF5H5U6\tP04114\tQ92621\tQ96RS6\tQ8N1F7\tQ92973\tO94776\tQ9UBF2\tA3KN83\tQ8NC60\tQ96D71\tQ5T440\tO94906\tE7EN19\tQ9UBQ7\tQ68E01\tQ16666\tP61599\tQ9NXV6\tJ3QR07\tO95396\tB8ZZ99\tQ8WUH6\tQ13523\tH0Y873\tQ14344\tP62304\tQ8NBS9\tQ96HW7\tQ04446\tQ8TDX7\tQ9Y376\tP09936\tQ68CP9\tQ8IY17\tQ32Q12\tQ96HC4\tQ9UN86\tQ92990\tQ96RS0\tCON__ENSEMBL:ENSBTAP00000034412\tQ5VTL8\tQ68CZ2\tQ9UJY4\tQ9UMS4\tX6RKS3\tQ9H7Z6\tQ06609\tCON__P02676\tP04920\tQ9UBB5\tP62310\tA2IDA3\tO95613\tQ9H0C8\tP38432\tP53582\tQ969Z0\tP00390\tJ3QRU8\tQ92575\tQ6P1L5\tQ5T8C6\tQ15459\tQ15047\tJ3KQ48\tQ04941\tQ9H1B7\tQ13748\tP26368\tG8JLB6\tC9J6G3\tF6RTM7\tA0A075B6L0\tQ7Z434\tQ9NQ29\tQ8TD30\tP61225\tQ00577\tE7EX73\tQ6P1M0\tO00233\tI3L2L5\tQ9BQ67\tQ5LJA5\tQ9BXW9\tQ9Y6I3\tQ9UBG0\tQ9Y2Z4\tP12270\tQ8WV22\tP07195\tQ5T6V5\tF6T1Q0\tQ01581\tQ9UJ68\tQ96EV8\tQ5JTH9\tA0A0C4DG44\tQ9NYL9\tQ86XP3\tQ8IWD4\tQ9UH99\tH0YNU5\tE9PRK8\tQ9BVM4\tQ9Y281\tQ07812\tP35606\tQ9P253\tQ9NRN7\tQ13112\tCON__Q7Z794\tQ53FA3\tQ9BQ52\tQ96DI7\tO15355\tP51946\tB5MC22\tA0A087WV05\tQ4G148\tQ96II8\tP35527\tO60763\tQ96KP4\tI3L213\tQ9UIJ7\tA0A0C4DGA2\tE5RHT6\tQ5VT52\tA0A0C4DFU2\tP35908\tB4DY09\tP57740\tQ96LA8\tO00567\tH0YF29\tO75446\tCON__P15497\tP61586\tQ9H0S4\tO75940\tP46734\tQ92797\tB4DLN1\tJ3KPF0\tH0Y7A7\tQ9NQG5\tQ08211\tP05455\tQ7Z7H5\tQ9NTZ6\tQ5TAQ0\tP23528\tQ96QU8\tF5H365\tA0A0G2JPT5\tQ6P1J9\tQ8IUR7\tP04440\tP09960\tP52756\tO60832\tB4DGL8\tK7EL81\tQ96AZ6\tQ15311\tE9PL88\tQ96DE0\tA0A096LPI6\tM0R0I0\tA0A087WYT3\tCON__P02768-1\tA0A0A0MRV0\tJ3KR97\tQ9UPN9\tP36507\tB4DL54\tQ8NFC6\tC9JIU5\tF5GWX5\tA0A087WUB9\tE9PJX5\tQ9NUD5\tP53396\tO15504\tQ99567\tA0A087WVI0\tQ15019\tQ99805\tQ7Z2W4\tP83916\tO75410\tD6R9M0\tQ9UQ35\tO43815\tQ99575\tQ7RTP6\tQ53QZ3\tF6UKU9\tP53621\tP49321\tQ9UKF6\tE9PM92\tH7C1M2\tQ15006\tQ7L2J0\tQ5R3I4\tP51531\tQ9BVT6\tQ10570\tQ14165\tQ5JRI1\tQ9Y2W2\tQ14669\tO43290\tQ9Y657\tQ15428\tE9PJF5\tA0A087WV57\tQ96BZ8\tA8MTY9\tQ69YN4\tQ96GA3\tQ5VYK3\tP09601\tQ9BYG3\tO95782\tC9JIR6\tQ08378\tE5RIV7\tP28482\tQ9NVR2\tP32969\tQ9H1E3\tA0A0A0MTR7\tO14776\tO95926\tQ9BVA1\tH0YJ97\tQ6FI81\tQ8IWV7\tQ8TCU6\tQ8IXJ6\tB7Z5N5\tQ9Y6X3\tQ9H6A0\tO75694\tP48729\tP46776\tQ8NI27\tO96007\tP60983\tQ12906\tP23610\tO00442\tQ8N490\tQ9P000\tQ9HCE0\tA0A0J9YWB6\tQ96GK7\tM0QZP4\tQ9BZE4\tQ14651\tQ8IVD9\tQ5JSL0\tQ9NP92\tD6RJA0\tQ9NVH1\tQ2TAY7\tQ99808\tQ9BTY7\tC9J2Y9\tB7Z4N4\tO95639\tQ68EM7\tQ9NVP1\tQ16539\tO15047\tQ96NC0\tO00303\tO95218\tQ16401\tP40121\tP13716\tQ8NE62\tQ8NFH5\tF5H269\tQ8N1G2\tF5GZZ9\tQ96I25\tP09104\tQ14573\tQ13838\tQ49AN9\tH3BU86\tQ96L91\tQ8WWQ0\tP01861\tQ9Y5S1\tE7EST9\tP09525\tQ9UNF0\tQ9UJX2\tQ8TDN6\tA0A0D9SEM4\tQ9BW27\tQ9UGJ0\tP50452\tQ9BTU6\tO15479\tC9J9T0\tQ9H3U1\tH0YL22\tE5RI98\tG3V1T9\tQ99570\tD6REB4\tQ02880\tA0A140T8Z3\tH9KVB1\tQ96F86\tQ9BPZ7\tP00734\tP05387\tG3V529\tP28288\tQ9Y2S7\tQ8WWM7\tG8JLB3\tQ9P258\tQ8TBQ9\tQ9UKT9\tH0YMV8\tCON__ENSEMBL:ENSBTAP00000037665\tP40763\tCON__P34955\tQ96JC1\tQ5SRN5\tG5EA30\tJ3KMX2\tD6RAD4\tQ96ST3\tA0A0A0MRB7\tP17066\tP13284\tQ7LG56\tP23193\tO75376\tQ13247\tK7ENK9\tO14787\tJ3KTL2\tE9PK91\tO15126\tQ6ZVK8\tP18887\tP52597\tG3V1R5\tQ5C9Z4\tP18124\tP35241\tQ96CU9\tQ96CS3\tE9PJK5\tQ15050\tH0Y3T6\tQ92616\tC9J4L5\tA0A087WY55\tO60306\tQ86X76\tA0A087X1K9\tQ8NI37\tQ9Y6Q9\tP49770\tP37802\tF8W9S7\tP04275\tA0A087WV90\tP39748\tQ5HYB6\tQ6VMQ6\tP02792\tP05386\tQ9BT73\tQ9Y2W1\tP49916\tQ53S08\tA0A087X1H5\tM0R3D6\tQ15126\tP0CG39\tQ5T4S7\tP35251\tCON__Q3SZ57\tQ6NZY4\tA0A0C4DGS5\tA0A087X295\tREV__O43164\tQ13895\tF6VRR5\tU3KQ54\tQ9UMY1\tP61009\tA0A087WUK2\tO60216\tQ8IWJ2\tQ8WVY7\tQ6ZU80\tREV__O60673\tC9J8Q5\tO43760\tQ9Y2V7\tO75643\tC9JEU5\tQ5U5X0\tQ96EE3\tQ9BWS9\tQ6JBY9\tG3V511\tP46109\tQ92572\tQ15029\tQ53T59\tQ03252\tQ9UHA4\tP63092\tREV__Q86UQ4\tP22087\tO43752\tQ9GZS3\tQ86TU7\tQ5VTR2\tP25205\tP51991\tE9PM17\tP54578\tB4DKB2\tP07996\tQ9BQG0\tQ03154\tP20020\tCON__P00761\tP02748\tK7ERI7\tA0A087WZ13\tQ9H8Y8\tA0A0D9SEJ5\tO94888\tG3V1Q7\tO96005\tQ9BRP8\tP08621\tP46778\tH0YNI7\tCON__P12763\tP63244\tE7ENN3\tE7EVG2\tA0A087X1B2\tO60264\tP20042\tQ8TEQ6\tP20339\tCON__Q3T052\tB1AQP1\tP53004\tP31946\tP30533\tG3XAP0\tA0A0X1KG71\tQ92889\tP30047\tQ96I59\tQ6SZW1\tQ9UBR2\tP05161\tQ15061\tA0A0G2JIS2\tE9PIF2\tO95352\tQ96FX7\tQ14696\tQ9BRR6\tQ9NZM1\tQ9UK76\tQ92769\tQ5W0V3\tQ15020\tH3BRQ0\tB7Z4M1\tO95758\tE9PHY8\tD3YTB1\tQ14677\tF8W8I6\tA0A087WWS1\tP06127\tD6RF23\tP82933\tH7C585\tA0A087WZP6\tP02790\tC9J931\tO94903\tCON__Q28065\tQ9UPU7\tA0A087WZV0\tQ13492\tP61224\tK7EM02\tA0A1B0GW44\tQ15291\tO95478\tO60449\tCON__Q03247\tQ13200\tP23258\tA0A087X256\tO94925\tO75663\tP21291\tQ92882\tF5GY80\tQ9UHP3\tQ9BTE1\tQ8WUU5\tF8W914\tQ709C8\tG3V524\tA2A3R5\tREV__Q5CZC0\tQ66K74\tA6NL93\tQ8ND71\tA0A087X0P0\tQ4KMQ2\tP28838\tH9KV48\tP25398\tQ7LBC6\tQ14847\tO14980\tP63010\tC9J762\tA0A087WWW9\tQ9UHB9\tQ96AQ6\tQ8TF05\tQ6NVY1\tQ71RC2\tQ9UKV8\tQ6NUQ1\tP49593\tA0A182DWF3\tH0YMJ0\tQ8IY95\tQ9BUQ8\tREV__Q9Y2I7\tP09669\tB7ZL25\tK7EK72\tP41743\tK7EQ03\tQ00325\tQ92878\tB4DIE3\tQ12955\tQ9Y3E7\tQ86VZ1\tQ9NVP2\tQ9Y265\tQ8WWP7\tF5GXQ0\tO43709\tH0Y488\tE7EX17\tO43719\tC9JQ42\tP62857\tQ96HS1\tQ7Z7L7\tA5YKK6\tQ15582\tO43765\tE9PE17\tA0A0A0MR66\tA6NHR9\tP40222\tQ13451\tB5MCW3\tQ29RF7\tP15531\tP09417\tA0A087X0E6\tP25490\tQ8WUM0\tO14773\tO14964\tF8WCJ3\tQ9Y4E8\tJ3QL05\tF5H8F7\tQ9BSL1\tP52630\tQ15435\tP07738\tQ9H6T3\tREV__Q9NXW9\tQ14019\tQ9UIV1\tP62330\tX6RCR8\tQ16762\tQ9Y5J1\tP31150\tP19338\tQ5JSH3\tQ9BTC0\tA0A0C4DFR8\tQ96EV2\tQ9NRA8\tO43390\tQ96CB9\tP26639\tE9PLK3\tQ9NZL9\tQ14764\tQ5TBH8\tO00170\tQ9H1A4\tP21731\tP24723\tE7EV99\tQ9NX14\tP30837\tH0YNA2\tP42224\tA0A0D9SG71\tS4R3K8\tQ9NSK0\tP35269\tE9PDF6\tE9PGT6\tQ00796\tP00918\tP49458\tQ5JQQ4\tQ15293\tP62277\tK7ER90\tH3BMZ9\tX6RCK5\tQ8IUR0\tO75843\tQ93009\tP62854\tQ8NCN5\tQ7Z3U7\tQ96C86\tQ86SX6\tP21283\tREV__F8VWT9\tO76003\tQ9BQ39\tO60262\tP14735\tQ9UK59\tF8VXI9\tQ08AM6\tQ9ULH0\tB7WP74\tQ9Y385\tQ9BZL1\tQ92835\tQ8WWK9\tQ9UPM8\tO75533\tQ13123\tE9PHA2\tQ13190\tQ86Y07\tP05534\tX6RA30\tQ99459\tP40818\tP62995\tF5H8H2\tQ13315\tQ13442\tQ14974\tP16435\tA0A0R4J2E8\tQ15555\tQ5SW79\tR4GMU1\tQ8TE73\tP33121\tQ96B26\tQ7Z3K3\tQ495G5\tA6NC98\tQ96PU5\tA0A087WTP3\tQ9UNQ2\tP07737\tP62241\tQ8N122\tQ9NVM9\tCON__Q2UVX4\tJ3KNM6\tP01024\tG5E9A6\tO43148\tF5H1Y4\tO75427\tE9PIA8\tQ9Y2Y0\tQ96S94\tJ3KT73\tJ3QLS3\tO43181\tP20338\tQ93008\tG3V1U5\tQ86TM6\tO14907\tQ8NCF5\tQ9P0L0\tQ8IVM0\tG3XAG1\tP10155\tP61353\tB8ZZN6\tQ49A26\tO43172\tQ9BUJ2\tP49643\tQ13547\tQ8WUK0\tP05362\tP09471\tQ9NX58\tQ00059\tQ15477\tQ8NDC0\tQ9BV19\tQ9H0L4\tQ86VS8\tP50749\tO00499\tP42768\tREV__Q12923\tB1AH87\tQ9NVN8\tK7ESN3\tF5H442\tP48444\tD6REQ6\tQ6RFH5\tP46777\tQ9BZE1\tP04053\tD6REL5\tQ15149\tQ5W0B1\tC9JPE1\tQ9BZH6\tQ9NRK6\tP61289\tE9PHF7\tH3BQQ1\tO75369\tQ13885\tQ9NPQ8\tQ9Y6Y8\tQ96CW5\tE7EQR4\tP16278\tA0A0A0MT83\tP18031\tP50453\tP43304\tP21980\tQ9NQT8\tQ96S52\tA8MT37\tQ8N442\tH0YD13\tQ96A33\tQ86YS6\tQ9BPW8\tQ9H501\tQ8IYI6\tE5RJR5\tQ96ER9\tP20645\tQ3BDU5\tB0QYK0\tP29083\tP32121\tP59666\tA0A0A0MTS2\tREV__Q6P158\tQ9UKA9\tR4GMX3\tP27348\tQ5SY16\tQ9H2M9\tA0A1B0GTW1\tE9PF16\tQ9H7N4\tQ92665\tQ66K14\tQ9Y3D0\tP52292\tA0A0C4DFX3\tQ15398\tP78527\tP48426\tP06340\tP49590\tQ9Y4P1\tQ9NUW8\tO75116\tP13765\tQ5QPK2\tO14737\tB8ZZB2\tP13984\tP68363\tO75592\tA0A087WW89\tH0YBR0\tF5H4U8\tCON__P02769\tQ00653\tQ12899\tQ9BZF1\tA0A0C4DG91\tH0Y6T7\tQ9H4Z3\tP12955\tA0A087WUD1\tQ9UPU5\tQ9NZZ3\tQ9UBD5\tD6RB92\tA0A0U1RRM4\tP13995\tP12814\tE7EU96\tP32302\tQ8TD55\tQ9Y2U8\tQ71U36\tH3BQV3\tP60602\tQ15118\tQ9NR50\tA0A024R7W5\tQ9UNM6\tH0YJ82\tQ8TAT6\tO75165\tQ8WUD1\tQ8IYB5\tQ96GW9\tQ0VD83\tQ86UP2\tA0A0C4DG89\tQ6P9B9\tP29350\tP11766\tQ14232\tP63000\tA0A087WZF1\tP00352\tO00139\tQ7L576\tQ8IWS0\tO95865\tO75152\tP62273\tO14976\tQ8WUA2\tP02545\tO15270\tQ12996\tQ53GS7\tA0A087WV25\tO60573\tF8WJN3\tP21796\tQ96GM8\tQ13405\tQ8NEJ9\tP61964\tQ8IY18\tQ8TB72\tP53992\tP18858\tP20701\tQ99613\tO94768\tQ8N163\tB7Z6Q0\tQ99733\tQ92896\tQ08209\tQ15800\tQ96BY6\tQ8WXF1\tP51149\tO43805\tP00488\tP35914\tQ562R1\tQ8IZ83\tE9PKG1\tP98164\tQ99638\tI3NI29\tQ9H9Y6\tP09211\tQ6UVY6\tP13760\tQ04864\tA0A087WVM4\tP24928\tP15121\tQ5T6F2\tQ8IV50\tP06400\tP15090\tQ9C0B0\tP35659\tQ9H9A5\tQ9HCD5\tA0A0U5Q247\tQ5VV42\tP61011\tF2Z2X4\tP22626\tB7Z7P8\tQ92620\tD6RIY6\tC9JVY5\tA2RRP1\tQ12851\tH3BST1\tP35219\tA0A024R4E5\tP49841\tQ9Y5Y2\tP14868\tQ5SRQ3\tQ9NTI5\tA0A1B0GTF3\tF2Z388\tA6NHL2\tO95104\tQ9UBE0\tO60547\tJ3KQ32\tQ7Z7E8\tO75340\tO95336\tG5EA44\tQ9H900\tK7ER12\tQ96EY7\tK4DI92\tO95486\tP09874\tQ9HBH1\tP53618\tH7C0V0\tQ9NZ45\tQ12874\tE9PK47\tO75306\tJ3KNC0\tG3V2V8\tQ9NR30\tQ9Y4P8\tQ9BT78\tP17812\tE9PF84\tE9PSH8\tQ9HA77\tS4R3H4\tF8WCA5\tA0A0J9YWL0\tH0Y4W2\tD6RGI3\tQ15397\tE7EPF2\tQ9UIQ6\tQ8NDX1\tQ5JY65\tQ6PD62\tQ10567\tQ9HB66\tE5RGX5\tA0A0A6YYL2\tO00232\tQ12792\tP19174\tP26232\tP14550\tB4DGM3\tH7C4P1\tP54725\tQ13432\tA0A087X0M4\tQ92890\tP68871\tH3BTN5\tA0A0D9SFK2\tP52306\tF8W1A4\tP33176\tP26842\tQ92609\tP29590\tA6NGJ0\tQ96IZ0\tQ5T9A4\tE7EPN9\tQ96DA2\tQ9Y5Y6\tQ9NXR1\tP63151\tO75531\tQ92558\tK7EIY6\tD6RC52\tQ02818\tO60825\tA0A087WSW7\tP36551\tQ4V328\tQ16763\tF5H0R1\tQ9UGP8\tQ08945\tQ9NZT2\tP50336\tF5GXF5\tQ15306\tQ8N806\tQ01085\tP27824\tC9J9K3\tQ66LE6\tQ6F5E8\tE7ESC7\tQ9Y394\tQ9NTJ4\tQ13057\tQ9Y5B6\tA0A182DWH4\tQ9NQP4\tA0A087WW40\tQ13425\tO00481\tP22314\tH3BQQ6\tO14966\tP53999\tP40429\tQ9BXB4\tP62312\tQ13438\tA0A024QZX5\tP02763\tP78417\tP04350\tQ99747\tP55795\tQ96HY7\tQ9Y2X3\tQ9NQT5\tQ5T123\tC9JEV0\tH7BXZ5\tB8ZZG1\tF8VZX7\tP48643\tH7BXK9\tQ9H8H0\tP26358\tA0A0U1RRM8\tQ14643\tQ6ULP2\tP48960\tP07900\tM0QY97\tQ9BXK5\tQ9P2P6\tQ14739\tO60784\tQ9H8W4\tQ9HD20\tCON__Q3ZBS7\tQ14697\tA0A087WTA5\tQ99871\tP61081\tP32119\tP31153\tQ5T447\tQ16853\tQ15427\tP08047\tQ9ULW3\tP40692\tQ9Y294\tP48651\tQ14691\tE5RK69\tA0A0A0MRE1\tP13010\tO60502\tQ15424\tP35250\tH0YE03\tO15091\tP31937\tQ4J6C6\tQ9Y696\tQ02127\tQ15904\tA8MUA9\tO96028\tA0A1B0GV63\tQ8TBB5\tQ5T200\tQ9H3S7\tP08237\tB7WPE2\tP29218\tA6ND22\tO75381\tQ9NXR7\tQ15691\tF8VXC8\tQ96RP9\tE9PM13\tCON__Q6NT21\tH7C0R7\tQ96L92\tE9PFK9\tA0A0A0MT32\tQ14149\tH7C1E4\tP47755\tP05388\tG3V1C3\tM0R3F6\tP23246\tQ99536\tQ9H2J4\tP16615\tH3BM14\tO00165\tP52735\tE9PFP1\tQ96ST2\tP49137\tC9JNK6\tK7EIG7\tH0YBP1\tI3L4J1\tA2RTX5\tP46939\tO00754\tP13612\tP01619\tP11387\tQ96A72\tG3XAN4\tA0A087X2H1\tP62899\tQ9Y3L5\tQ8NCW5\tO15498\tH3BRB3\tP08571\tP49354\tO95453\tQ9Y3C8\tE5RHA3\tQ8NFW8\tO75083\tQ9P013\tP47756\tCON__P06868\tQ8IXB1\tQ5R3B4\tP50454\tP51659\tP24539\tP28068\tQ9BPX3\tQ96PK6\tQ9H267\tS4R3N1\tQ9NWU1\tQ9NWT6\tB7ZAX5\tO60701\tQ8NDX6\tP50991\tP06702\tQ06124\tO60343\tQ9NXH8\tQ13303\tO94826\tP10599\tP05556\tQ92556\tQ13546\tO95376\tP29401\tQ9ULX3\tC9JKP0\tF2Z2V0\tA0A087X283\tQ10471\tP78356\tQ13363\tA0A087WWP4\tQ8IYQ7\tO60934\tQ5TFE4\tQ96AX1\tQ8WV28\tQ9UHI6\tO15357\tQ9P270\tM0R165\tP23919\tF8W6C6\tE9PP23\tO95219\tP61601\tO15226\tP10644\tQ96IV0\tM0R0F0\tQ9UBP6\tQ9UEW8\tQ9BZX2\tC9J0K6\tP42285\tO95786\tQ9UPY3\tA0A0C4DGF2\tP22570\tO60826\tP51888\tQ9BSH5\tO15229\tF5GYN4\tA0A0A6YYL4\tCON__Q3SX14\tD6RD69\tP50542\tB4DXZ6\tP20700\tH0Y2W2\tF2Z2Y4\tJ3KS15\tQ9NUM4\tG8JLP4\tO75190\tJ3KQ45\tC9JDT9\tQ8TCS8\tQ9H3N1\tQ7L3T8\tP33316\tQ6UX04\tQ9P2I0\tC9JMD7\tQ8TDD1\tQ9UNY4\tA0A087WTC0\tH7C3I1\tQ14683\tQ07507\tP30740\tQ9UJ70\tQ9H307\tQ9UKB1\tQ15121\tP15391\tH0YH87\tQ9Y4B6\tO15294\tB1AK63\tA0A140T9T7\tP11047\tQ969S9\tP48634\tA8MX21\tQ86W56\tP33552\tQ92688\tO75170\tQ9UER7\tA0A0A0MTH3\tK7EM56\tO94973\tQ15286\tQ96QC0\tQ15628\tQ9Y4X5\tP11413\tQ16719\tP55036\tP00156\tQ6YHU6\tQ9UKY7\tQ5TBB1\tP36405\tP78318\tE9PNL8\tH7BXY3\tC9JEH7\tR4GMU7\tE9PEB5\tP21964\tQ6PJG6\tQ9UK58\tQ6ZW49\tQ9UL15\tQ8WYP5\tO43175\tQ9BV40\tQ8TEA8\tQ13426\tF5H7K1\tQ96T51\tB4DIW9\tA0A087X211\tQ8IUI8\tQ9Y678\tF5H5I6\tP08567\tO95456\tQ5JP53\tE7EQV9\tE9PKU7\tP23434\tO00203\tQ8WXA9\tP49915\tQ9P2R3\tO00115\tQ5TDH0\tQ15120\tQ6P2Q9\tP16152\tQ30134\tA0A140TA86\tO75947\tO95197\tQ02556\tQ9Y3B7\tP62937\tQ7Z6J4\tP07954\tQ9H0A0\tQ9GZL7\tP34932\tQ5VV89\tP49005\tO95163\tQ99832\tH3BT23\tE9PKH8\tP19525\tU3KPS2\tQ86WQ0\tH0YEH2\tG5E975\tP07099\tP02730\tB4DR80\tQ13596\tQ9H5X1\tE5RHF4\tC9J6N5\tI3L0H8\tQ7Z591\tQ9GZY6\tP35749\tB4DVT3\tO43447\tQ9NWV4\tQ9UNZ2\tCON__P50448\tH3BPR2\tA0A0A0MTR2\tM0QXB4\tQ9HBI0\tP04196\tP29692\tQ9HAB8\tP49750\tQ00688\tJ3KTA4\tC9JJ19\tQ9H269\tP12931\tA0A140TA29\tQ9Y5Z4\tC9JPM4\tA4D1E9\tM0R050\tA0A087WXS7\tP62136\tE9PFR3\tQ9BRG1\tP23526\tF8W8D3\tF5H345\tQ9BYN8\tQ16566\tQ14151\tP62249\tH3BS70\tH3BP71\tE9PQP3\tP13639\tQ96FS4\tO14494\tE7ERS3\tQ9UHY7\tD6R9P3\tO75874\tQ8IV53\tO60566\tQ16531\tQ03169\tM0R2P6\tQ29967\tO43678\tP43487\tP54920\tP23396\tQ9H0W8\tQ9ULI0\tJ3QLN4\tQ68DQ2\tB4DJV5\tP43490\tQ01995\tQ96T76\tO95674\tQ96F63\tQ8N183\tH0YBZ2\tA0A0A0MRG8\tE9PN18\tP14174\tQ96D96\tQ96EY1\tQ9BTE3\tP16930\tP49756\tE9PKP7\tA0A0A0MRM9\tQ13409\tV9GYS0\tE7ENM8\tP26038\tO00264\tR4GNB2\tQ8NB37\tQ32P28\tD6REX3\tP11234\tQ92499\tQ7Z6M1\tA0A087WW23\tF5GY88\tO75844\tE9PKH6\tREV__Q96T58\tK7EQ02\tH7C0E5\tA0A087WT99\tE9PG73\tP11172\tP42336\tB8ZZK5\tF8W6G1\tQ6QNY0\tQ14790\tE7ETK0\tQ9NR31\tO96011\tO60749\tQ9Y2Q5\tQ9H6X2\tO15116\tP06312\tB4DDK6\tP54577\tC9J5N7\tJ3KT86\tP09012\tP26885\tP43034\tQ9BTT0\tQ9NS69\tO00231\tC9JHF5\tP61019\tQ5VZU9\tP78347\tQ8TDN4\tQ15645\tQ9HBD4\tQ9UJW0\tQ9BX40\tQ96RE7\tQ8NBJ5\tA0A1B0GTB8\tREV__P78363\tREV__H7BXG9\tQ07021\tQ9Y3P9\tQ92747\tF5H039\tA8MUM1\tO14802\tP01011\tQ9H977\tP54886\tB8ZZU8\tP62244\tQ9Y676\tP03915\tQ9BR76\tH3BNX8\tJ3QQY2\tE9PGZ1\tA0A0A0MSA0\tQ9H0D6\tJ3KMZ7\tO75351\tA0A0C4DGW6\tQ5JR08\tQ9BRD0\tJ3KTA1\tP68032\tQ06210\tQ7Z6I6\tH0YNE9\tP49773\tO15230\tQ9Y6D9\tF8WD09\tQ15024\tE5RHW4\tG3V0I5\tQ8WW12\tP09622\tP25774\tF5H2B5\tP82979\tQ9NX08\tQ9NRY5\tE9PID8\tQ5QPP9\tQ14318\tJ3QKT4\tO95551\tQ1KMD3\tD6RAT4\tO15173\tQ8IYB8\tQ9NW13\tH0YJG9\tQ8NEL9\tH3BSM5\tQ8TCY9\tQ96IY1\tQ969P0\tQ00839\tC9JLF4\tH3BRL9\tQ9NX47\tQ15036\tP09651\tQ9BQA1\tQ8TC07\tE9PGT3\tK7EP32\tC9JV77\tH0Y6Y8\tCON__P13646-1\tH3BV80\tF5H6T1\tQ14554\tH3BMQ0\tQ8N5K1\tP02751\tC9JUH3\tD3DSM0\tREV__Q7Z7G8\tO60508\tQ9Y5B9\tO94919\tA0A075B6K8\tB4E1G1\tP19838\tQ9BTL3\tK7ES61\tQ14562\tQ9H4M9\tQ08AF3\tQ9UIC8\tC9IZG4\tH3BTE3\tP49642\tA0A087WXD1\tQ12765\tA0A024R4M0\tQ9NQA3\tA0A0A0MTB8\tQ13151\tP36404\tB3KS98\tQ9NRX1\tQ9NVI1\tP21281\tH3BUX2\tO60869\tQ8IY21\tP21399\tQ6P2E9\tQ9Y2T2\tQ13043\tQ8N9T8\tQ16864\tP10620\tH7BYI2\tQ15843\tQ9Y6N5\tK7EQQ8\tJ3QT28\tQ9NX76\tO14672\tO43818\tQ8N8Y2\tCON__P02672\tQ8IZL8\tP50851\tA6NDG6\tO60271\tREV__Q86VS8\tQ9NWS0\tQ99436\tH3BPE7\tO75175\tO95801\tQ9H4E7\tCON__Q2KIF2\tF6SDV2\tP19784\tQ16822\tQ5SSJ5\tO15031\tA2AAZ0\tA0A0G2JKZ1\tP0DN76\tB7ZLI8\tQ9UBI1\tP82663\tU3KQK0\tQ6PL24\tA0A0B4J1Z1\tP68104\tO15042\tB7ZL14\tP14678\tO43237\tO00151\tH0Y8N7\tG3V5B5\tM0QZQ3\tF8VV52\tQ8WWI5\tP43007\tQ9H6W3\tA0A0D9SFB3\tP62195\tP31948\tP40937\tO95071\tF8W543\tQ460N5\tO60568\tA0A0A0MTN0\tE9PJF4\tQ9NWH9\tH7BXH2\tQ14692\tQ9H9T3\tQ5VWZ2\tP17568\tH3BLZ8\tP13727\tP41227\tQ5QPM7\tA0A087WVF7\tQ15056\tQ96BN2\tQ14191\tQ9UNK0\tP78346\tJ3QK89\tQ8TB03\tQ09666\tQ9UHX1\tH0Y360\tQ96G46\tB3KVZ3\tP62913\tP31323\tP18077\tQ9UDW1\tA8MZF9\tQ3LXA3\tQ9BRX2\tA0AVT1\tP49902\tP05771\tF8WBA3\tC9JM75\tO15305\tP62191\tQ96JY6\tO75323\tCON__Q3SZR3\tQ9BWD1\tQ14152\tQ8NFY9\tA0A087X1G7\tQ9UET6\tP15880\tQ5RI15\tQ5F2F8\tP06280\tA0A0J9YXM6\tP50570\tP17927\tQ9BW83\tQ9Y3I0\tQ9NRF8\tQ15758\tQ8N3U4\tQ9NZQ3\tJ9JIC5\tE9PMJ2\tE7EX90\tP37235\tQ14997\tP84095\tP50583\tQ9Y230\tQ9NYU2\tO95168\tP18669\tB1ALK7\tQ92615\tO00182\tB4DR61\tF8W7Q4\tQ5TDF0\tF8W726\tQ9NS87\tP32780\tH0Y2S1\tG5E931\tQ16718\tQ9H490\tP41218\tO15118\tQ9Y6W5\tQ13084\tP09661\tQ15437\tP15104\tK7EIU8\tB8ZWD1\tO43143\tO43809\tC9IZ32\tQ05048\tQ5VZM2\tCON__P13647\tP30481\tQ96IU4\tQ9NZI8\tO43149\tQ5TEC6\tQ96GD0\tP35244\tQ2T9J0\tQ9HAV0\tQ6NZI2\tQ96JH7\tP49411\tP02743\tQ8TB52\tA0A0A0MRJ6\tQ99497\tQ13144\tC9JIF9\tQ96S44\tQ9H9Y2\tQ38SD2\tP09543\tA0A0A0MTL5\tF8W9W2\tD1MQ08\tQ5TD07\tQ13158\tG3V599\tCON__P02584\tJ3KMZ8\tG5E965\tP82675\tF5GYQ1\tE9PHN6\tQ9NUB1\tQ8N684\tQ5VSL9\tQ9BTG3\tO75439\tP38159\tQ02809\tQ7Z5L9\tM0R116\tQ8TEK8\tP13861\tQ9BT09\tP49327\tQ8N0X4\tO60783\tA0A0A0MRI1\tA0A0G2JHC2\tO94804\tA0A087X1Z3\tP13073\tQ15027\tQ96EL3\tU3KQC1\tP28072\tQ14139\tK7EM38\tH0YFN0\tQ13501\tCON__P17697\tQ53GQ0\tQ9NPJ6\tO43395\tO00635\tA0A087WVZ9\tK7ER95\tQ27J81\tQ9H7L9\tQ9UBM7\tX6R8F3\tP41240\tA0A0C4DFX7\tO00429\tX6RI37\tP51970\tM0R2A0\tF8WBW1\tQ5TB53\tQ5Y7A7\tP13498\tP04229\tP48637\tP04264\tQ96CN7\tO60231\tR4GN43\tO43747\tP24844\tQ9UI08\tA0A0A0MR74\tO94874\tQ9Y223\tI3L3E4\tP68402\tP31749\tA0A0A0MRL7\tJ3KR55\tD6RG39\tQ15067\tM0R300\tP12956\tQ9NV31\tP49914\tP56182\tP35813\tQ9H6R0\tH7BY10\tP31949\tA0A087WXF6\tQ05086\tP16403\tP10909\tQ9BY32\tQ969X5\tQ92598\tE9PRU3\tA0A087X2E5\tG3V169\tJ3QSS7\tQ52LJ0\tP41091\tP05109\tP52298\tCON__P02662\tQ5RKV6\tP42785\tX6R390\tQ13155\tQ7L592\tQ9Y6D5\tQ99467\tQ86SE9\tO15212\tA0A0D9SFL2\tQ15269\tQ969X6\tE9PER6\tP23381\tQ2TAL8\tP84077\tQ14980\tE9PPJ9\tO00159\tP55011\tQ07666\tO95989\tQ9P016\tQ8WU79\tQ14558\tQ9Y244\tP04259\tO60220\tK7ERN2\tP61604\tQ8IZH2\tP02787\tQ8IYU8\tQ13769\tQ09028\tG3V3J9\tQ9BTZ2\tE5RHX8\tQ9BRF8\tE9PJ81\tI3L397\tF5H4Z6\tP61026\tP36543\tB1AK87\tP62979\tI3L1P8\tQ13724\tC9IYS1\tQ6YN16\tB1AJY7\tE9PC15\tJ3KRS1\tQ96K37\tH3BPJ9\tQ9NVZ3\tQ96DP5\tQ9NVH6\tQ9H857\tQ15276\tF8VSC5\tA0A140T9T0\tP23634\tQ9BXJ9\tP32970\tQ13564\tP61006\tQ14331\tC9J652\tQ9UKX7\tI3L0N3\tP05091\tA0A087WX29\tP08754\tQ13868\tH7C3T2\tQ96PZ0\tQ7Z4H3\tA0A0U1RR27\tP42566\tQ9NR33\tR4GMT0\tP14921\tQ8ND24\tP48506\tQ9BV86\tQ9HDC9\tP10253\tA0A0A0MT33\tF6U236\tQ99615\tP55327\tG3V5Z3\tQ96CV9\tQ15637\tO75937\tP41223\tQ9NUQ8\tP02671\tO75530\tG3V203\tQ7L0Y3\tQ5T2R2\tO15400\tP13674\tA0A0R4J2G3\tQ05823\tP35626\tQ7RTV0\tQ9BR61\tO15247\tQ3YEC7\tO43264\tO43617\tQ13242\tQ6UVJ0\tQ2TAM5\tO75400\tQ9BZK7\tE9PQ57\tP02786\tG3V4N6\tQ8WVJ2\tQ96ES7\tC9J712\tQ9NVJ2\tQ9H2U2\tP00492\tA0A0A0MRV3\tQ5QPE7\tP55809\tP31947\tQ9Y259\tQ9HB71\tQ9UK61\tP82664\tQ9BVG4\tI3L1R7\tQ5Y7H0\tP60709\tP30050\tP38606\tQ86X55\tQ9Y3D8\tQ9UGJ1\tP62316\tQ13630\tP08670\tQ92600\tE9PG22\tF6VX93\tP62736\tB8ZZF8\tQ8IXI1\tQ13325\tP67809\tQ92522\tP30520\tQ15113\tG3V4C1\tP35998\tQ13416\tP00403\tE9PNW4\tO75348\tP61020\tP17096\tP04406\tH7C3P4\tI3L3E8\tQ8IYL3\tP25786\tCON__ENSEMBL:ENSBTAP00000031900\tP07237\tP17174\tO43852\tQ5UIP0\tA0A0D9SGD3\tQ9BSV6\tQ15417\tA1L0T0\tH0YA96\tQ96HA9\tP43405\tQ96FI4\tQ53H82\tQ9NUQ3\tP04181\tP00441\tA0A140T9R6\tM0QXB5\tE9PC44\tP46108\tQ8NAV1\tQ96SB8\tQ6XQN6\tP15927\tA0A087WYR3\tP43246\tQ9HD33\tC4B7M2\tQ2TAA2\tP05107\tQ6ZS81\tQ8WUX9\tQ9NSE4\tQ15404\tP54098\tO00154\tQ8NHG8\tQ5W0H4\tQ8IV08\tQ9UNX3\tP82673\tP14649\tO75607\tQ8IVS2\tA8K727\tA0A0C4DGX4\tA2A288\tF8VQE1\tO94915\tQ9H7E9\tQ9NRL2\tQ96EK9\tQ8IU81\tA0A0J9YWY6\tH7C1U8\tQ9NUQ9\tQ8N5M4\tREV__Q8TB45\tQ9BPX5\tQ9NYF8\tQ9UQE7\tP09497\tQ6PD74\tG3V153\tP20073\tQ86X27\tA0A0G2JNN3\tA0A0A0MRE5\tP31040\tQ12768\tJ3KNF4\tK7ERV3\tQ96K17\tI3L2W9\tQ53FA7\tQ93077\tQ9GZN8\tQ96BR5\tC9J0H3\tP17858\tP08574\tJ3QTS8\tQ13356\tQ8NCA5\tP16401\tP50395\tQ96CT7\tP61221\tQ8N6R0\tQ16543\tQ9Y5K6\tF5GWT4\tQ8IWA5\tA0A087WXM6\tC9J8T6\tCON__Q5D862\tO75792\tQ9P2E3\tQ9Y3D6\tQ9BXW7\tP07355\tF8VY35\tA0A0U1RRM1\tA0A087WVQ6\tQ16576\tQ9P2J5\tE9PK85\tQ9TQE0\tP42677\tQ13496\tO00299\tQ9Y5P4\tP47712\tP50225\tQ9Y5V3\tP09972\tP11940\tQ92506\tJ3KPH8\tO95373\tQ96JM3\tP58546\tO43913\tQ9H9B4\tP49588\tQ8WVM0\tQ15631\tQ06587\tQ9H8H3\tB0QY89\tQ9UBT2\tP82932\tA8MZ87\tG3V5T9\tP01859\tP08243\tQ13422\tA0A0A0MR09\tP45984\tA0A087WUD3\tO00505\tQ16513\tP20273\tQ8N201\tQ9Y617\tP52701\tQ9H1E5\tH0YLP6\tP50579\tP50552\tO43615\tQ9NRX4\tQ969H6\tQ9UKN8\tP67936\tP12235\tQ01664\tCON__ENSEMBL:ENSBTAP00000032840\tQ13185\tC9JBG0\tH0Y9X1\tQ9UMZ2\tP49792\tO00762\tC9JJM7\tQ96P11\tQ9UMX0\tP25789\tP20774\tE5RGZ2\tE9PB61\tP07585\tQ5T8U5\tP19474\tP05164\tP10809\tQ92759\tX5D2R7\tP80723\tQ9H871\tH3BRN4\tC9J5N1\tQ92574\tQ96JM7\tQ9BWF3\tG0XQ39\tE9PFK5\tP01042\tQ53FT3\tC9J7E8\tO94913\tO43676\tQ99460\tA6NEC2\tF5GWE5\tCON__P28800\tA0A0A0MSW4\tI3L2C7\tO15371\tP78345\tP24752\tQ9NZB2\tB6VEX4\tE9PHM2\tQ13595\tQ15438\tD6RIC3\tP55265\tO14617\tREV__F8VUB6\tQ9UBS4\tQ3KQZ1\tQ96SK2\tP62263\tF8W118\tP30101\tQ4G0J3\tO15269\tQ16795\tQ13825\tQ9NTM9\tP52948\tH3BUD0\tQ5JTZ9\tP61978\tO95155\tP23368\tQ5T2E7\tQ9NVG8\tQ5TH30\tQ7Z417\tQ5QPQ1\tP06132\tP42574\tO95295\tA0A0A0MQR2\tP21854\tQ01658\tQ05519\tP04844\tA0A0A0MRF6\tQ96GX9\tQ9NR45\tQ8N1B4\tQ9NPE3\tQ58FF8\tL0R6Q1\tQ9H4L7\tQ9P032\tA0A087X0P6\tQ9H8Y5\tB7Z7F3\tQ8TB36\tA0A1B0GUA1\tQ9NW64\tCON__Q3MHN5\tP55268\tF1T0I1\tA0A087WXC5\tC9JQV0\tREV__Q7Z745\tQ15650\tQ14676\tE7ETB3\tQ92854\tH0Y4I5\tP04040\tP18206\tH3BUD9\tQ92673\tO75380\tQ01650\tQ5HY81\tG5E9W9\tA0A1B0GTP7\tQ9Y263\tQ86W50\tQ9ULW0\tG3V4B8\tE9PF18\tQ16740\tJ3KR72\tQ9NS86\tH0YDK7\tQ04760\tX6R3T8\tP26583\tQ6PGP7\tQ3KQV9\tO95831\tP98170\tQ96BW5\tB5MDL5\tA0A0G2JNZ2\tREV__G3V3I1\tA0A0A0MTS7\tQ9UKU7\tQ9UFC0\tQ8NB90\tA0A087WTU3\tP56589\tF8W7U8\tQ07960\tG3V3G2\tQ14498\tQ92540\tA0A087X1J7\tQ8IWZ3\tQ6PKG0\tQ12974\tP46783\tA0A0G2JPL0\tO15511\tP46087\tQ7Z2T5\tP61626\tP41226\tQ92900\tH0YH69\tQ5TEJ8\tP52758\tF8W809\tQ14204\tP07311\tP18583\tP12004\tQ15642\tQ9NZ08\tQ9Y3A4\tQ8NE01\tQ06830\tO60711\tH3BLT9\tQ13011\tP30825\tA0A075B6N8\tQ13423\tQ96KP1\tQ16512\tQ8WY54\tQ7L1Q6\tQ6IA86\tP62820\tE7EN32\tQ6ZRP7\tQ5VYH9\tP46060\tQ05655\tP20023\tQ9UGM3\tP62314\tP55060\tE5RHP7\tP30504\tA6NEM5\tP10316\tP09467\tG3V533\tQ7L4I2\tP31994\tE9PF17\tQ7Z2Z2\tO75909\tJ3KSY6\tQ96Q11\tP39023\tQ9C026\tA0A0C4DG51\tQ92783\tP31942\tCON__P13645\tB9ZVT1\tQ6UWE0\tREV__B8ZZZ9\tQ9ULZ2\tQ86VP6\tP62081\tQ9Y6G9\tQ8IX12\tP51812\tA0A140T9I0\tQ9UHD9\tQ9Y6G5\tP39060\tE7ERU0\tQ9NRW3\tQ7Z6L1\tQ9UNX4\tQ8NHU0\tH3BND4\tP62701\tC9J4J4\tQ9BRZ2\tQ9H583\tP07814\tH0Y764\tQ8NCE2\tQ13023\tQ96QR8\tQ9UEE9\tJ3QS48\tO60678\tQ9H993\tP54687\tK7ELL7\tP48507\tQ9BV57\tQ9HCE1\tA0A0A0MS08\tI3L3Y2\tQ96N66\tQ9Y305\tQ9UNP9\tP53990\tQ9BX95\tH0YNJ6\tQ5JRX3\tB0QY91\tA0A0A0MS45\tP62306\tH3BLU7\tO43592\tQ8TDZ2\tQ9BQ95\tQ16706\tQ9NWZ3\tQ04917\tO95834\tA8MTH1\tQ8IYS1\tQ5SP00\tP08559\tQ9Y399\tO00767\tE9PHY5\tP20340\tQ9Y4R8\tO76071\tP16455\tQ15075\tQ8N2K0\tQ9BXL7\tQ96DA6\tC9J128\tQ6NXE6\tQ9Y6H1\tO00148\tQ8NHV1\tQ8NDH3\tQ15814\tQ15746\tQ8N766\tH3BQQ9\tQ86VN1\tQ08J23\tK7EK07\tQ8NEZ2\tQ7L513\tQ9Y4L1\tP31689\tE9PH64\tQ8WXX5\tO15143\tQ8WY22\tM0QYN0\tP68036\tP63172\tQ9UJA5\tQ9H2G2\tQ9HBM1\tQ9Y2Z0\tJ3KN32\tQ53EL6\tP62318\tA0A0U1RQC1\tQ7Z5R6\tO75791\tP00338\tQ8N0U8\tQ15102\tQ96JB5\tC9JS59\tQ4G176\tP60953\tQ96G25\tQ15018\tQ8N108\tQ99661\tC9JA28\tP11215\tQ9Y2C4\tA0A0A0MRZ8\tO95861\tQ9NYH9\tF5H0W4\tP33992\tP00738\tP14866\tA0A0G2JQ41\tQ5VYS8\tA0A0C4DGQ6\tQ02750\tQ96HE7\tC9JLU1\tP16402\tQ05469\tA0A0C4DFM7\tP0DN79\tQ9UIS9\tQ14566\tREV__Q6V0I7\tQ99538\tQ9NXW9\tP00813\tQ9BRA2\tP35249\tQ9UJX5\tQ9UKK3\tP56937\tP17252\tQ9NZN3\tQ9HC16\tP11021\tE9PGF5\tP42773\tO14957\tQ9UNS1\tE9PM75\tH0YKL0\tQ96IX5\tQ9Y5L4\tP17050\tQ8N8A6\tE7EV84\tE7ESY4\tP53602\tH7BYN4\tA0A087X0K0\tO60234\tQ9UBW7\tA0A0C4DFN1\tP61970\tQ86T03\tV9GY02\tF8W7U3\tF5H7S3\tO96008\tP85037\tA0A075B7B1\tQ9Y512\tQ96EM0\tP16885\tQ9NW82\tP30154\tG3V2M5\tP83436\tP48147\tQ14699\tC9JR56\tQ9H553\tJ3QRS8\tQ9NXA8\tQ9UI09\tB5MC98\tQ9H2K8\tP27707\tP55957\tI3L3J4\tQ9UBB6\tQ5VZY9\tE7EM64\tQ96D53\tM0QZR4\tQ92905\tQ86U90\tQ9Y6K5\tQ16643\tH3BP20\tQ9P2D7\tQ5TCU3\tREV__H0YK92\tQ12888\tQ9UDT1\tA0A096LNV3\tQ13618\tQ9UIG0\tF8VXU5\tP19623\tP21333\tQ9BYB4\tP61758\tQ96II5\tP40925\tQ96F07\tQ9NY12\tO43823\tK7EIG1\tF6QUN3\tQ93084\tG3V394\tQ15032\tK7EJE8\tP51148\tA0A0G2JQ62\tQ9NP72\tP07948\tP23469\tH3BTH6\tQ9UI12\tH0YNP9\tCON__Q1RMK2\tA0A024RA52\tQ9HB07\tP62993\tQ9NQ50\tQ9Y224\tP52732\tQ6P1L8\tP00558\tQ86XL3\tA0A087WY61\tP52565\tQ6DU44\tO00116\tQ9H488\tB1AMU7\tA0A0B4J2A0\tD6RF35\tQ8N1G4\tQ8NEM2\tJ3KPT4\tC9JU35\tO15067\tQ96S59\tQ5TCI6\tO60880\tP25942\tO00410\tP25325\tQ4G0N4\tQ9Y490\tQ96C90\tP17655\tP55884\tA0A0A0MS54\tJ3QSX6\tO60240\tP48449\tK7ENL9\tP39019\tQ8WVC0\tQ8TCJ2\tQ969E2\tQ9Y3B4\tQ8ND56\tV9GYD9\tQ5T6K7\tQ63ZY3\tB7WPG3\tE9PPN3\tQ8N4Q0\tJ3QLQ2\tB7Z6D5\tP08133\tP49368\tQ8NBX0\tQ9Y383\tH3BRL3\tB7ZC39\tQ9HCC0\tCON__Q9TTE1\tG3XAL8\tP28331\tQ96HR3\tP42345\tP28907\tB4DTS2\tQ9HAU5\tQ14289\tD6R938\tP61247\tP51692\tQ16854\tP33991\tREV__P09382\tREV__P46821\tQ8NC44\tC9JCC6\tQ75QN2\tP04899\tQ5T5C7\tO95379\tP30086\tP52907\tQ01831\tP02452\tE5RJZ1\tQ96AB3\tP32019\tH0YB62\tF8VVA7\tP42226\tG5E933\tA0A087WUV8\tQ16186\tF8W7C6\tP30508\tP55081\tQ99828\tP61769\tP17813\tO75367\tQ96RW7\tQ5T4U5\tQ9H0H5\tE9PHI6\tQ8NE71\tP23458\tH7BZW6\tO14920\tC9JFR7\tQ13131\tQ10469\tQ504Q3\tQ9UBV2\tQ6ZMI0\tQ96RQ9\tJ3KS22\tO75717\tO15254\tQ86UV5\tP30405\tQ86UA1\tH7BZJ3\tQ9H9P8\tQ9BQ69\tQ9NWY4\tI3L1H5\tQ13469\tF8WD26\tQ9Y2I1\tE5RIP4\tP56385\tP18433\tB0I1T2\tQ9UPN7\tQ8WTT2\tQ9Y584\tQ9Y450\tP57081\tQ9NYB0\tO14929\tA0A0C4DG88\tD3DQV9\tQ96A65\tQ13813\tG8JLQ3\tA0A0A0MT02\tM0R2B7\tO60828\tK7EJ08\tE9PDE4\tQ9UKG1\tCON__Q2KJF1\tQ99614\tQ96E39\tE9PIK8\tO00161\tQ32MZ4\tQ5VUA4\tQ9Y3Z3\tA0A087WYS1\tO43583\tD6RB01\tO60684\tQ9Y6V7\tQ5JU21\tP00387\tQ9NWX6\tO14744\tQ8NFH4\tQ07954\tO14828\tP57772\tQ9Y5P6\tP61457\tQ14137\tQ9NR09\tF8W038\tP33241\tQ53ET0\tO15020\tQ13263\tQ9Y2V2\tA0A0A0MTS6\tCON__Q2KJ62\tF2Z2W7\tG5E9Z2\tA0A0U1RRL5\tQ92995\tCON__P00735\tQ9P1F3\tP13667\tQ15750\tP19971\tQ9H7Z7\tQ9Y547\tV9GYY5\tA0A0A0MT60\tP07741\tA0A0A0MS51\tP57088\tQ92979\tP11586\tQ9BUL8\tREV__A4D1F6\tC9J4Z3\tQ5JVZ5\tP09917\tC9JLC0\tQ9NQ88\tH7BYJ3\tQ7LC14\tQ86Y39\tP53634\tO60287\tO00160\tQ96GS4\tP48047\tP12429\tO43865\tB5MDF5\tO60313\tP20290\tP53985\tQ8TBA6\tQ3ZCM7\tQ9UG56\tQ5MIZ7\tJ3KN87\tC9JA08\tP52272\tQ9NRG9\tO75995\tP09132\tO76094\tQ14678\tQ9Y5S9\tQ13243\tQ86UY6\tR4GNC0\tQ9BQ04\tF5H4R1\tREV__Q7Z5Q1\tQ96TA2\tQ93100\tP84103\tCON__Q8VED5\tC9JIZ6\tQ14116\tQ9P2R7\tCON__Q9UE12\tQ5QJE6\tP62070\tE9PNT2\tQ9GZT8\tQ99797\tQ5T093\tA0A0C4DFQ1\tQ96C23\tP07686\tP30043\tG3V4S6\tB2WTI3\tQ6GMV2\tO43294\tP21817\tQ8IV04\tP01023\tP53384\tQ14690\tQ969Q0\tQ8WUM4\tQ5QPR4\tQ7L5D6\tO00267\tO43920\tO75164\tQ16658\tG3V1A6\tD6RHU3\tP61018\tQ96BW9\tO75915\tQ6IAA8\tB0QYD3\tQ9NVT9\tQ9H6R4\tQ9UNN5\tP62714\tP06493\tQ9UHG3\tF5H5D3\tQ9UHL4\tP13804\tQ96N11\tA0A087X271\tQ9H061\tQ9Y316\tP49720\tA0A0G2JR38\tH7BYP4\tP14324\tQ5JWT2\tQ9NZ63\tJ3QRS9\tQ9BXP5\tQ96BX8\tQ9HC38\tQ12802\tO15397\tG3V5Z7\tQ9NU22\tP43403\tQ9UBV8\tO75438\tA0A087X0V5\tP55010\tQ8IV63\tQ12972\tO43813\tQ13526\tO95365\tA0A1B0GWJ0\tO43516\tQ9UGR2\tG3V4A5\tQ95365\tQ9UGI8\tM0QYT9\tB8ZZQ6\tD6RAF1\tO00273\tQ6NUK1\tQ9H3K6\tQ9BUF5\tQ9BUT1\tQ96SU4\tQ9BU02\tJ3QSU6\tC9JEN3\tO15379\tF5H7T0\tW5RWE6\tK7ELJ7\tP02749\tCON__ENSEMBL:ENSBTAP00000024146\tA0A087WUQ6\tP11233\tE7EVA0\tQ9UBB4\tO43396\tQ2KHT3\tP49189\tA0A0C4DGV9\tQ8TD19\tE9PMT5\tP51948\tQ99426\tQ5QNY5\tQ01780\tH7BZY9\tK7EL62\tQ15648\tREV__H7BYM2\tO43324\tA0A087WU65\tP35270\tP42025\tQ8N3C0\tQ9P035\tG3V256\tQ15542\tQ9NPJ3\tQ6N069\tQ8WVC2\tQ13542\tQ13045\tH3BRE8\tQ8IYB7\tQ30154\tP08708\tO95777\tP22033\tQ96J02\tQ9BZQ8\tQ05707\tD6RAM3\tQ9Y228\tF8VZJ2\tO75419\tO75746\tQ9C037\tS4R3W9\tO43242\tK7EM09\tQ9HD15\tQ9H845\tQ96HY6\tA6NKB5\tA0A0A0MRI2\tQ96JG6\tP47897\tREV__H7C3M4\tP01137\tREV__Q6DHV7\tP01876\tQ9H3M7\tF5GXX5\tP69905\tQ9NXC5\tP51116\tF8VYN9\tQ16540\tQ3LIE7\tQ13464\tP42166\tQ9NVM6\tA0A0A0MRR7\tH0YNG3\tP02649\tQ92520\tQ9UI26\tJ3QSV6\tQ9HB90\tP14635\tH0YA52\tQ15366\tM0QZP6\tQ8TCE6\tQ712K3\tO95816\tP10319\tP62753\tP22830\tP25685\tH0Y6Y6\tQ14258\tQ14789\tP56192\tQ03701\tE5RGS4\tP13473\tQ8TAE8\tP10301\tE9PE82\tQ9Y3L3\tJ3QRJ1\tP11912\tO75569\tQ96GM5\tO43660\tO00178\tP42338\tP40926\tJ3QQJ5\tE9PR30\tP52594\tQ9HCS7\tP68366\tO43252\tP35754\tQ13823\tQ9BUH6\tQ96ER3\tP31930\tP06753\tQ12904\tQ9Y333\tP48681\tE7EVK2\tA0A0A0MST8\tA0A0U1RR39\tQ13435\tQ9BXY0\tP98179\tREV__G3V5X4\tQ7Z4V5\tP06730\tQ96T23\tQ9H1Y0\tP31939\tH7BYV1\tC9JG97\tB3KQ30\tB5MDU6\tQ9H4L5\tQ8N5L8\tH7C0X4\tP05106\tF5H3Y4\tP04839\tQ5JVY0\tQ92541\tP12532\tP62253\tA0A0D9SG72\tB1AP13\tQ9BV79\tQ9UBI6\tP40938\tP11216\tP33897\tQ9NZL4\tA8MW78\tQ92696\tP35610\tC9JXB8\tA0A0G2JMH6\tP04066\tP20039\tJ3QRS3\tA0A024RBT2\tG3V3H3\tP45974\tQ12778\tQ9Y5M8\tA0A0C4DFL7\tE7ES33\tO15111\tH0YDU8\tQ8WZA9\tQ8NF50\tQ96DB5\tQ06323\tB1AKD8\tM0R1T5\tQ9Y5A9\tQ58FF6\tK7EM18\tQ9GZP4\tQ9NWT1\tP10415\tQ9UG63\tA0A087X020\tP00966\tO43665\tP51570\tP30044\tJ3KN01\tP50914\tP49961\tQ8N7H5\tP04843\tP09110\tA0A0C4DFZ2\tQ5T160\tK7EJR3\tP10515\tE9PQZ5\tP98095\tF5GYV5\tP11279\tP37837\tE9PMQ6\tQ96T58\tQ8MH48\tQ13107\tH0Y8X4\tP62424\tE9PIM6\tQ9Y6A5\tQ9UMS0\tQ5VVL7\tC9JNE2\tA3KMH1\tQ96S55\tREV__Q9UIA9\tX5CMH5\tQ9H4A4\tP35573\tQ9Y2L9\tA0A0X1KG75\tD3DTX6\tQ8IWZ6\tP83111\tREV__Q9UPN3\tP45973\tA0A0G2JH68\tQ9H0Q0\tQ96RT1\tQ8WVI0\tE7EVH9\tQ9Y2P8\tQ8WZ82\tQ9UKW4\tQ9HAD4\tQ96G03\tP43121\tA0A087WUT6\tQ5SZR4\tQ6IAK0\tQ9UHV9\tQ15181\tP20618\tCON__Q58D62\tE7ENX8\tP53007\tP55735\tA0A087WY71\tP86791\tQ9Y4W6\tQ10713\tQ4G0I0\tQ8IXM3\tP01911\tQ6XZF7\tF5GZS6\tQ96C19\tQ92619\tQ9NSI2\tO95747\tO60942\tQ8NDT2\tP22307\tP35555\tE9PL17\tQ9NTJ5\tQ96HR9\tQ9H3P7\tQ6P179\tREV__K7EJT7\tP04217\tP11166\tP38117\tQ86WV1\tP43897\tQ00535\tA0A087WYJ9\tC9JGR9\tQ13162\tP30153\tA0A0A0MS41\tH3BQQ2\tQ14320\tO60739\tP52566\tK7EMQ3\tQ99878\tQ96I24\tQ14765\tO75368\tP30519\tQ9NV96\tQ9Y277\tQ86WJ1\tP10412\tO95394\tREV__Q9H7D0\tF5H0M4\tV9GYM8\tQ9H089\tQ9NP97\tO00487\tQ92734\tP02675\tQ9Y6D6\tO96019\tQ6VY07\tP27797\tE9PP40\tP02647\tQ6PL18\tP33993\tQ5VXJ5\tQ9BUB7\tJ3KNL2\tP49754\tJ3QLP3\tQ8NHV4\tQ3KQU3\tQ9NRG0\tA0A087X0S5\tH0Y990\tQ9Y3C4\tP84090\tP61106\tP34810\tO60664\tO43929\tH3BNT2\tQ9P2K3\tQ3SXM5\tE7EXA6\tD3YTK1\tQ16698\tE7EQB2\tH3BMT0\tP40227\tQ01082\tA8K878\tA0A0A0MRK1\tQ9UJX3\tP52888\tF8VU90\tQ06546\tQ9BQC3\tR9WNI0\tE5RJV7\tP25788\tB5MBZ0\tQ8N5N7\tP04080\tA0A087X1N7\tJ3QQW9\tK7EMW4\tP62140\tQ9BSE5\tQ9NWU2\tQ9Y315\tP14927\tP14543\tP01009\tP07858\tQ7L266\tP30041\tQ9Y697\tQ9UNS2\tP62829\tP02766\tD6RIZ4\tQ96EH3\tE9PK67\tP04083\tA0A087WUW6\tP30419\tQ9NZN4\tA0A0G2JIW1\tQ9HAV7\tCON__Q3ZBD7\tB4E2Q0\tO75934\tF5GX77\tA0A0C4DFM1\tP06576\tA0A087X0R6\tJ3QRD1\tQ16778\tE7ETZ4\tQ9BYT8\tP32321\tJ3KPP4\tP78371\tQ12788\tQ8IU85\tE9PN70\tB4DKY1\tQ573B4\tQ96S19\tQ9Y2R0\tQ8WU40\tA0A0A0MRM8\tQ9P2D3\tQ8WU90\tQ9ULV4\tQ9BVI4\tO94822\tB4DK25\tQ9UHD8\tQ7Z4Q2\tB1AHD1\tA0A0A0MR02\tP54727\tP56279\tA4IF30\tH7C2Z6\tO75691\tP16333\tQ9H9A6\tQ7Z5K2\tG3V1B8\tA8MX75\tQ15046\tP14854\tQ8IX90\tO95475\tE7EVY0\tQ15021\tQ8N5M9\tQ92922\tQ68D91\tR4GMU8\tH7C0N4\tJ3QQR8\tE7EQZ4\tH3BR35\tQ86YS7\tA6PW57\tP00491\tK7EIN2\tO43707\tQ14240\tB8ZZA8\tP51178\tP12273\tP09382\tQ07820\tQ8N3X1\tP41214\tP08236\tQ969Q5\tQ13867\tR4GMN1\tP00367\tP42704\tC9JP00\tQ16891\tQ9Y6A4\tO75436\tP54922\tO60885\tQ7Z460\tA0A087X0Q9\tO95573\tP61201\tJ3KN67\tF8W689\tE9PFZ1\tH0YFA4\tP21953\tQ9BW61\tQ9BSC4\tQ9H773\tQ96EK6\tP23743\tH7BXZ6\tC9J719\tO14921\tA0A087X1N3\tO95391\tB1ANH0\tP00325\tJ3KQ99\tQ15717\tP50748\tH0YNJ9\tE9PIN3\tO43521\tQ02878\tQ8TDP1\tE7EQ69\tQ6P3X3\tA6NIH7\tP61086\tO43427\tQ69YN2\tJ3KNN3\tJ3KNN7\tP62280\tQ9BW19\tP50990\tP60468\tE9PI87\tCON__Q3SZH5\tP23946\tO75925\tQ9Y5Q9\tJ3KNS1\tQ86YV0\tA0A087WZR3\tQ9Y266\tQ9BY44\tQ96A49\tQ9NWQ8\tQ9H223\tP27105\tQ6YP21\tQ56VL3\tP40259\tA0A087X1B7\tP26640\tP56537\tO60488\tF5H6I7\tQ8NFI3\tB1ANR0\tP31350\tP19878\tS4R3P5\tP15498\tQ6ZSZ5\tQ9H9Q2\tQ3ZCQ8\tP13929\tA0A0A0MR33\tQ96QD9\tQ96AG4\tP51398\tI1E4Y6\tP50416\tP21810\tJ3KPX7\tG3V4F2\tB1AKC8\tO75955\tQ9H4G4\tQ9P265\tA0A0U1RRH6\tA0A087X2I1\tH0Y4R8\tP48723\tI3VM54\tO75534\tQ9NY93\tO95630\tQ9Y3T9\tP20160\tQ9Y295\tH3BPK3\tQ6P1N0\tB4DI03\tP62879\tP42858\tQ0VDF9\tQ969E4\tREV__Q8TDJ6\tQ9UQ80\tQ71UI9\tP08758\tQ9BU76\tA6NMQ3\tE7EVL6\tQ6AI08\tQ12800\tD4Q8H0\tE9PIT5\tO95881\tE9PJH7\tP61158\tP35579\tQ6ZUJ8\tP27361\tQ12882\tQ01469\tQ6PCE3\tO15541\tQ13283\tQ13077\tE9PKC5\tQ9Y4C8\tP23284\tQ9NY61\tQ96EL2\tJ3QR09\tQ96RF0\tQ96M27\tQ8IUI4\tQ14315\tE9PRY8\tQ9UNW1\tQ9H6S0\tP13807\tQ9BSJ2\tQ9UKD2\tA0A0C4DGS1\tREV__A0A087X1G4\tQ8N4Q1\tE5RGC7\tQ5JXI8\tI3L4X2\tA0A0B4J2A4\tI3L0A0\tE9PM69\tQ9H444\tO75828\tP14151\tQ7Z6Z7\tQ9Y2H1\tU3KQP3\tQ02252\tP62328\tP49903\tQ7KZF4\tF2Z2Y8\tA0A087WXN4\tB4DJV2\tP12081\tQ7Z7H8\tJ3KNB4\tP12236\tD6RIE3\tO95466\tO43156\tQ96CX2\tA0A024RCR6\tA6NKZ2\tQ15393\tQ01518\tQ9P287\tP33981\tA0A087WVR3\tE9PBD8\tP31751\tP15374\tA2ACR1\tQ96A08\tQ9BVC6\tQ09161\tQ9UL26\tP36406\tQ86VR2\tQ9UHD1\tQ15910\tP04424\tP14598\tC9JYQ9\tH0Y2Y8\tQ9Y613\tP62917\tQ5GLZ8\tQ14145\tQ9Y5L0\tQ14108\tA2A274\tP17987\tQ96RL1\tQ9NVH2\tQ9HBH0\tM0QYT5\tP08240\tP63167\tQ9Y3D9\tF8VW96\tQ9Y6C9\tQ15052\tQ8N0W3\tP42356\tG3XAM7\tP36957\tA0A0G2JQW1\tA0A140T9W2\tP51151\tQ9BX68\tP12111\tQ8IWA0\tH7C580\tQ03135\tF8WCF6\tO00743\tQ9H2P0\tQ99543\tQ12907\tE7ENR5\tQ5T6W2\tQ6PID6\tP61960\tP48735\tQ96RG2\tQ9Y5X3\tQ9UH65\tQ32P41\tQ13619\tO75821\tQ12933\tO95671\tG3V4U0\tQ5SR50\tQ5SWX8\tQ8TC12\tQ99714\tP31025\tO95721\tF5H0C4\tJ3QS41\tP15924\tH0Y7Y7\tO00186\tQ8NBF2\tQ8IZ07\tH3BN02\tQ9UL03\tQ8N5M1\tD6RFM0\tQ8TED0\tQ9Y3B9\tQ15813\tQ8WU76\tQ14247\tQ8TEX9\tQ9ULC5\tI3L0P9\tQ00403\tQ14195\tP14317\tA0A0G2JJD3\tQ9ULX6\tP06733\tP00167\tP17661\tP45954\tP01040\tQ9H9F9\tQ9ULR0\tQ01813\tO14949\tQ8N8A2\tP02462\tQ8NC51\tQ96B97\tQ13568\tQ9NRW1\tP49454\tP45985\tQ96AG3\tQ5T7C4\tC9IY88\tO15145\tCON__P08779\tQ9BYD1\tH0YKP9\tCON__P41361\tO60506\tQ6P587\tQ5TG12\tP60174\tG5EA06\tQ9BT25\tH7C2Q8\tP08572\tQ7Z6U0\tP62942\tV9GY58\tO95202\tQ9UL18\tP11177\tP51571\tP63104\tC4P0D6\tP49795\tQ9NQW7\tP05198\tQ02790\tB5MCF9\tO14974\tA0A0G2JPB6\tP49721\tQ16560\tH0Y6A0\tQ9NQZ2\tP06748\tP46940\tO76062\tA0A1C7CYX9\tP19367\tQ9NT62\tO15144\tQ95604\tQ9ULE6\tC9J3L8\tQ15208\tQ99653\tA0A0J9YW64\tQ9NZ01\tO75131\tQ12872\tP17931\tQ5QP56\tQ9C0I1\tF5H4M0\tH0YE76\tP24534\tQ9HAV4\tA0A0A0MR85\tS4R435\tO75223\tH0YJ75\tE7EPT4\tQ9UJS0\tP82912\tP21912\tQ9UP83\tQ86UE4\tG3V1P5\tH7C4W6\tH3BTA2\tQ86VU5\tQ9H8G2\tO43776\tO95182\tQ9Y3P8\tQ96PU4\tP79483\tP07384\tP55084\tQ14005\tQ9Y2S2\tP61981\tO14602\tREV__Q8WZ42\tH7C4M9\tQ53F23\tQ7Z2W9\tP51580\tP25705\tP62269\tQ9HCN8\tA0A0C4DGT8\tP00846\tE9PFZ2\tH7C0G7\tJ3QQM5\tQ5JSP0\tP49755\tQ15008\tQ96S97\tP15088\tO60884\tA0A087WTA8\tQ9Y221\tA0A087X0H9\tA0A087WTV6\tO00483\tP50148\tQ5R372\tA0A0A0MS59\tQ8ND76\tF8W1R7\tP34059\tQ86TI0\tQ9UID3\tP55072\tQ9Y3U8\tP63313\tA0A087WT20\tQ15054\tQ9NQS7\tQ9NZA1\tQ9NQR4\tQ13228\tQ8TBC4\tE7EQ61\tQ13085\tP41250\tX5D2U9\tO43159\tQ9HC84\tF8VSD1\tQ8WW59\tQ9NPF4\tP62851\tQ9Y487\tQ9Y6X5\tQ9H814\tQ9Y2I7\tP26641\tF5H5U2\tP30084\tQ15365\tE7EMP6\tC9JFE4\tC9JVE2\tQ9H2P9\tF5H5P2\tQ8IY26\tB4E1Z4\tA0A1B0GVC7\tQ6P6C2\tQ12873\tE7ERI8\tO60927\tE9PJK1\tQ9Y5X2\tQ5STX8\tX6R433\tQ6GMV3\tQ9NR12\tA0A087WYN9\tB8ZZ77\tQ5JVF3\tP53701\tQ8NEW0\tE9PB90\tQ9BY43\tREV__Q9NQT8\tO60921\tB4DHE8\tCON__Q28107\tQ99471\tP29374\tP62805\tE9PM35\tP36542\tP62633\tQ9NPD3\tK7EK35\tQ9UFW8\tP37108\tQ9Y2X0\tP49790\tQ15084\tP54136\tREV__E9PN67\tP62834\tC9JL30\tA0A087WYC8\tC9JRZ6\tA0A0C4DGA6\tQ9UJU6\tQ6IBS0\tC9JQV3\tD6RIB3\tQ9BZZ2\tE9PN91\tP27694\tP51665\tA0A087WXL6\tQ86U42\tP42575\tE7EQN5\tP30085\tB4DUC8\tE9PJE4\tO19617\tQ9UJZ1\tQ8NI60\tQ92538\tQ96P48\tP50750\tREV__E9PMZ8\tP50238\tQ9BW91\tP50995\tQ7L9B9\tQ9NSD9\tP62906\tP51809\tQ9Y2B0\tQ9UL25\tH0YA68\tQ14694\tB5MC51\tQ15233\tE7ESL0\tP49748\tQ13509\tO75964\tK7EJH0\tQ8NEC6\tQ9NTX5\tP14618\tP41208\tP20591\tQ9H974\tP35580\tREV__E7EV88\tO94842\tP05141\tP52333\tP28070\tP53367\tP31146\tQ9P0B6\tP24666\tG3V1L6\tO14656\tQ15172\tP32455\tQ9NZJ9\tQ12840\tO75396\tP11678\tP60981\tQ96KB5\tP13489\tP12268\tQ9UKZ1\tQ9P107\tP11717\tI3L0B8\tQ16134\tQ9BW92\tO60341\tQ14CX7\tQ9UDY8\tREV__A6NES4\tH3BTA0\tQ9Y2Q3\tQ92820\tP36269\tREV__H0Y5R0\tP20963\tQ9H0U4\tK7ER15\tCON__P02533\tP47985\tP53597\tB7ZKJ8\tQ9ULZ3\tO95864\tF5GZN3\tP62266\tQ15907\tB0QY04\tR4GNH3\tQ08380\tP51884\tA0A075B738\tG3V286\tO76031\tP37268\tP30040\tP15153\tQ4KMP7\tQ14684\tQ9BV20\tP50213\tS5FZ81\tP60891\tC9J0I9\tH7C5A7\tQ14966\tQ9UKM9\tCON__Q9TRI1\tO43566\tQ9BVQ7\tQ4V9L6\tP01111\tQ8N697\tP29353\tP08579\tQ9Y3F4\tA2A3S1\tP21266\tQ9Y285\tO00425\tF8VPD4\tP56377\tQ96QG7\tP04792\tQ8WXD5\tQ9BYD2\tP47914\tQ6PI48\tH3BSW0\tP17612\tCON__P17690\tP22234\tQ86UX7\tA0A087X2D5\tC0KTE2\tQ7L2H7\tP12110\tP67775\tQ14761\tP31327\tA0A087X0J2\tG5E9C0\tA0A0A6YYA0\tQ14166\tQ04837\tQ9C0E8\tQ13428\tP46100\tP51858\tF8WF69\tQ9BZE9\tP13796\tQ9UDT6\tP38646\tX6RLT1\tQ6TFL3\tE5RIW3\tA0A0B4J287\tP63261\tC9IY40\tQ9BRX5\tP55263\tP01834\tP11142\tQ92733\tP10768\tP04075\tF8VRH0\tQ8IYD1\tQ9Y3A6\tREV__H7BYJ3\tQ9UFN0\tP26196\tP56134\tE7EMN6\tQ9HCE5\tP22059\tD6RCD0\tQ9GIY3\tQ9Y570\tA0A087X0D5\tQ96LJ7\tP41252\tQ96IJ6\tQ92608\tQ14011\tQ06187\tQ8WUY1\tJ3QLD9\tQ08257\tQ9NYY8\tQ13177\tQ9NV56\tQ8IWT0\tO75420\tA6NML8\tQ9Y4W2\tP61088\tQ7Z406\tO60256\tP34897\tP30048\tQ9BVK6\tP08311\tREV__K4DI83\tG3V150\tH0YAY3\tA0A0G2JNZ5\tQ8IWZ8\tQ5VZ73\tQ00534\tA0A0J9YXC7\tA0A087WYP2\tQ15847\tH3BPE1\tP11171\tP36639\tE9PF19\tQ13488\tP50402\tP04818\tB1ALD9\tH0YN26\tP27986\tE5RFU2\tP62258\tP54278\tP61962\tG3V470\tQ8IY85\tC9JL26\tQ9HBH5\tQ15007\tP30046\tO14745\tQ8WZA0\tQ12931\tP40939\tO75146\tP26373\tQ9NX46\tQ7L775\tP27144\tO75822\tQ13347\tP61160\tP54709\tP30711\tV9GY48\tO75695\tX6R5Z6\tK7ESE6\tO96017\tP32456\tQ9Y217\tCON__Q29443\tA0A140T915\tM0QYE0\tQ96DV4\tP20839\tQ13576\tQ9BXP2\tP18754\tQ8TBP6\tQ9H078\tP08238\tQ16594\tO15127\tQ99766\tP49736\tP35232\tQ9Y3Q8\tQ9BYV8\tH0YG79\tB1AMS2\tP51608\tA0A075B6F9\tQ9BXS6\tQ9UEU0\tQ93034\tQ9NUJ1\tQ96SI9\tF5H081\tP11498\tQ9BSJ8\tP43686\tA0A0J9YXF2\tP02042\tA0A0G2JRD1\tCON__Q3SX09\tQ06203\tQ8WU39\tP60842\tE7EVQ6\tQ15042\tE7EVZ5\tQ969U7\tQ14008\tQ14257\tQ8N335\tQ8IUF8\tQ96P70\tQ6KC79\tP14780\tQ6PJ69\tP49247\tP62487\tP60228\tP16949\tQ9C0J8\tP05023\tQ01105\tQ13257\tO00418\tQ7KZ85\tQ9NYK5\tA6NHB5\tQ86Y82\tQ86V21\tD6RD17\tE9PGC0\tF5H2B9\tQ70CQ2\tG5E9W7\tP22102\tP07305\tA0A087WUC6\tP54619\tD6RAC5\tP52209\tQ9BRX8\tK7EK60\tP40306\tQ9H4L4\tQ9NVS9\tQ9NXG2\tE9PDE8\tQ5Y7D2\tO60493\tQ9UBQ5\tE9PKV2\tA0A0C4DFN3\tP01019\tQ9BU61\tP11908\tO15160\tQ9NXK8\tA0A087WZK0\tQ9H2W6\tQ13907\tREV__P04114\tQ5EP54\tQ9ULC4\tA0A0G2JN29\tQ9Y2Q0\tQ9Y320\tP23921\tQ5BKZ1\tD6RGK9\tS6FRS6\tA6NFX8\tJ3KPQ4\tCON__A2A5Y0\tA6NP52\tQ9BTV4\tQ86WA6\tA0A087X0W9\tA0A0G2JRY5\tQ9Y237\tE9PNP3\tQ12846\tG5EA09\tQ5SRE5\tP01116\tF6WIT2\tQ9UMX5\tP22695\tQ13601\tE7ETA6\tQ9Y2L1\tQ8WVM8\tQ07065\tO75489\tQ9H9J2\tQ96JB2\tQ92793\tQ8IX18\tP62873\tQ86Y56\tA0A0A0MQS1\tQ9BTA9\tQ96H79\tA0A087WTJ2\tP55160\tJ3KRA9\tX6R5C5\tQ92947\tQ6P2H3\tP00505\tO60268\tE9PMV2\tQ9Y5R8\tP68371\tQ10589\tP11388\tC9IZF6\tQ9NVI7\tQ9Y3I1\tQ5T280\tQ86WV6\tQ7LGA3\tQ9BRT6\tQ9Y2U5\tQ5T1Z0\tQ9H8S9\tP30049\tQ6ZT07\tP14625\tQ13561\tQ7L1T6\tQ9H4A6\tQ9Y276\tJ3KNN5\tX6R4H8\tK7ERP4\tCON__Q95121\tQ12789\tQ96QK1\tQ86TI2\tQ92917\tQ9BS26\tP39880\tQ9BVJ6\tREV__Q5RHP9\tP46977\tQ9Y2R4\tO75928\tREV__Q9C0D4\tQ15833\tP08473\tQ13795\tP28066\tREV__Q8TCE1\tQ95IE3\tQ2NL82\tC9JYN0\tCON__ENSEMBL:ENSBTAP00000016046\tJ3KQL8\tQ9BSF4\tQ9BV44\tP84085\tP36915\tP04004\tQ4VC31\tP49257\tQ9NY33\tQ02218\tA0A0A0MTP7\tP34896\tP28074\tQ70J99\tP25098\tE9PIP3\tQ9NP77\tP00374\tO14818\tQ96I99\tF8WBI9\tH3BSB3\tQ15738\tS4R3A2\tH0YL53\tQ8NBY1\tE9PHH9\tP27695\tQ9BVP2\tO60244\tQ15785\tQ9BU89\tQ6P589\tP38919\tP36578\tK3W4U1\tI3L3B4\tA0A024R6I7\tA0A067XG54\tA0A075B7D9\tA0A087WSZ2\tA0A087WTE5\tA0A087WTM5\tA0A087WU53\tA0A087WUV9\tA0A087WX41\tA0A087WXF7\tA0A087WXM8\tF5GWT2\tA0A087X0K9\tA0A087X0N2\tA0A087X1E4\tA0A087X1N4\tA0A087X1W2\tA0A0G2JQX1\tA0A087X208\tA0A0A0MTC7\tA0A0A0MR98\tA8K968\tA0A0A0MRJ7\tC9J7M8\tA0A0A0MS18\tA0A0A0MS70\tA0A0A0MSE7\tA0A0A0MSI8\tS4R3Z2\tA0A0A0MSU4\tA0A0A0MTB9\tA0A0A0MTC0\tA0A0B4J1X5\tA0A0B4J207\tE9PLD3\tA0A0C4DFL8\tA0A0C4DGN4\tE7EU35\tA0A0C4DGZ1\tA0A0C4DH14\tA0A0C4DH41\tA0A0D9SEY1\tA0A0D9SFD2\tA0A0D9SFS2\tA0A140T9V0\tA0A182DWF4\tH0Y6K2\tA0A0G2JMB2\tA0A0G2JPF8\tA0A0J9YXN7\tA0A0J9YY99\tA0A0M3HER2\tD6RD48\tA0A0U1RQV3\tA0A140T9C0\tA0A140T941\tA0A1B0GVU1\tC9J1X0\tA5A3E0\tA6NCN2\tA6NF31\tE7ET76\tA6NGY5\tA6NNI4\tA6NNM8\tA8MUH2\tA8MZH8\tA8MXR1\tB0QYW5\tB0YIW2\tB1AKG0\tB1AKV2\tB1AKY9\tB1AP46\tB4DDD6\tB4DGI9\tB4DGU4\tB4DHR0\tB4DLD3\tB4DML5\tB4DNG0\tB4E3H9\tB5MBX5\tB5MCB4\tB5MCW2\tB7Z645\tD6RE77\tB7ZBB8\tB8ZZ93\tB8ZZB8\tB8ZZZ4\tB9EGQ5\tB9TX33\tC9JQE8\tC9J406\tC9J977\tH7C5Q0\tC9JBI3\tC9JC87\tC9JF66\tC9JJ54\tC9JKA9\tC9JS50\tC9JW01\tC9JZR2\tCON__ENSEMBL:ENSBTAP00000007350\tCON__ENSEMBL:ENSBTAP00000025008\tCON__O76009\tCON__O95678\tCON__P01030\tCON__P02070\tCON__P02538\tCON__P02666\tCON__P02754\tCON__P04259\tCON__P07224\tCON__P08727\tCON__P20930\tCON__P35908\tCON__P78386\tCON__Q04695\tCON__Q0V8M9\tCON__Q28085\tCON__Q2KJC7\tCON__Q61726\tCON__Q6NXH9\tCON__Q8N1N4-2\tF5H1T9\tCON__Q9N2I2\tCON__Q9TT36\tF6U1T9\tD6RA12\tD6RDU9\tD6REY1\tD6RFW1\tD6RGG3\tD6RGJ2\tE5RH13\tE5RIH5\tE5RJY1\tE7EMB8\tG5E950\tE7EQ72\tE7EQY1\tE9PCS8\tE7EU05\tE7EW32\tE9PB93\tE9PBL0\tE9PEM5\tU3KPX1\tE9PHK0\tE9PJ05\tE9PK54\tE9PPF9\tE9PMA0\tE9PND5\tE9PP55\tE9PQ56\tE9PS97\tF5GXJ9\tF5GZZ0\tF5H070\tF5H0F9\tJ3KT57\tF5H136\tF5H6I6\tF5H702\tF8VS10\tF8VVI6\tF8VZY9\tF8W0G4\tF8W0J4\tF8W9X7\tF8WEU8\tG3V0G5\tG3V1N2\tG3V4P2\tG3XAI2\tG3XAP6\tG8JLD5\tH0Y2X1\tH0Y3C5\tH0Y621\tH7C377\tH0Y9Q1\tH0YM23\tH0YME5\tH0YNC7\tH3BQA6\tH3BT22\tH3BTB7\tH3BTE6\tH3BUV8\tH7C1H2\tH7C1I7\tH7C4T5\tH7C507\tI3L2J1\tI3L378\tJ3KMY0\tJ3KMZ9\tJ3KND1\tJ3KNV4\tJ3KP58\tJ3KPA1\tJ3KRC5\tJ3KSY2\tJ3KTD8\tJ3KTN0\tK7EIT4\tK7ELD8\tK7EKH7\tK7ELG9\tK7EMD9\tK7EP08\tK7ESF4\tK7ESI6\tK7N7A8\tM0R1E3\tM0R2L2\tM0R346\tO00287\tO00330\tO00763\tO14545\tO14686\tO14777\tO15213\tO15446\tO15523\tO43164\tO43379\tO43866\tO43927\tO60518\tQ9H772\tO75064\tO75326\tO75529\tO75594\tO75600\tO75616\tO75629\tO75648\tO75891\tQ5QPB1\tO94819\tO94916\tO94927\tO94992\tO95139\tO95239\tO95716\tO95810\tO95936\tP00747\tP01008\tP01594\tP01730\tP01782\tP01833\tP01889\tP01891\tP02461\tP02549\tP02747\tQ5VY30\tP02760\tP04003\tP04150\tP05186\tP05423\tP05997\tP06727\tP06729\tP06732\tP06756\tP07357\tP07360\tP07451\tP08246\tP08294\tP08603\tP0C0L4\tP0DJI8\tP0DJI9\tP10153\tP10643\tP11277\tP12277\tP12544\tP12724\tP12838\tP14222\tP15144\tP16157\tP16188\tP16189\tP17213\tP18428\tP19827\tP20248\tP20592\tP21397\tP21583\tP21695\tP22612\tP22894\tP22897\tP23141\tP23142\tP23378\tP25054\tP25445\tP26022\tP27169\tX1WI28\tP29508\tP30038\tP30447\tP30453\tP30461\tP30462\tP30466\tP30480\tP31944\tP33908\tP34910\tP35609\tP40261\tP41222\tP42261\tP42695\tP42898\tP46019\tP46527\tP49711\tP49863\tP50440\tP51636\tP52790\tP54652\tP56282\tP60059\tP60604\tQ5T179\tP62699\tP63096\tP69892\tP79522\tP80748\tQ01970\tX6RAJ1\tQ02413\tQ05315\tQ05BQ5\tQ05D32\tQ05GC8\tQ06828\tQ07000\tQ07075\tQ08881\tQ08AS3\tQ12962\tQ12981\tQ13033\tQ13445\tQ13472\tQ13761\tQ5JUE9\tQ13948\tQ14142\tQ14181\tQ5JSB5\tQ147X3\tQ14894\tQ14914\tQ14956\tQ15058\tQ15669\tQ16270\tQ16563\tQ16633\tQ16647\tQ17R31\tQ17RN3\tQ2NKX8\tQ2TB10\tQ3V6T2\tQ49AR2\tQ4G0F5\tQ567V2\tQ5EBM0\tQ5HYI8\tQ5JRA6\tQ5JSZ5\tQ5S007\tQ5T1C6\tQ5T1J1\tQ5T5I6\tQ5T9C2\tQ5TC82\tQ68D20\tQ6I9Y2\tQ6K0P9\tQ6P9F0\tQ6S8J3\tQ6U949\tQ6UUV7\tQ6UW78\tQ6UWY5\tQ6WKZ4\tQ6ZN40\tQ6ZR64\tQ7Z3T8\tQ7Z4H7\tQ7Z4H8\tQ7Z6B0\tQ7Z6V5\tQ86VD7\tQ86WN1\tQ86WU2\tQ86WV7\tQ86XI2\tQ86YP4\tQ8IUX7\tQ8IVN8\tQ8IWE2\tQ8IXQ6\tQ8IXU6\tQ8IY57\tQ8N302\tQ8N357\tQ8N5Y8\tQ8N6N3\tQ8N6S5\tQ8NBM4\tQ8NBN3\tQ8NBU5\tQ8ND98\tQ8NDB2\tQ8NFQ8\tQ8NHP8\tQ8TB45\tQ8TDQ7\tQ8TET4\tQ8TF66\tQ8WUQ7\tQ8WV19\tQ8WVX9\tQ92626\tQ92667\tQ969R5\tQ969Y2\tQ96AJ9\tQ96AT1\tQ96BD8\tQ96D15\tQ96FJ0\tQ96MF7\tQ96PM5\tQ96QD8\tQ96QV6\tQ96R06\tQ99442\tX6RFN3\tQ99549\tQ99611\tQ99935\tQ9BRT9\tQ9BTX7\tQ9BV73\tQ9BW72\tQ9BW85\tQ9BX66\tQ9BXD5\tQ9BXN1\tQ9BYD5\tQ9BYJ9\tQ9BZ95\tQ9C0B7\tQ9C0C2\tQ9H0F7\tQ9H0R6\tQ9H3G5\tQ9H4B7\tQ9H5V9\tQ9H832\tQ9H8L6\tQ9NNX6\tQ9NPF0\tQ9NQC3\tQ9NR16\tQ9NRY4\tQ9NUQ7\tQ9NUT2\tQ9NVC6\tQ9NVK5\tQ9NVQ4\tQ9NVR5\tQ9NVV4\tX6REY2\tQ9NX55\tQ9NXZ2\tQ9NY15\tQ9NZT1\tQ9P0J7\tQ9P0M6\tQ9P275\tQ9P2G3\tQ9UBP0\tQ9UEY8\tQ9UIW2\tQ9UJU2\tQ9UK39\tQ9UKJ3\tQ9ULV0\tQ9Y2J8\tQ9Y2Y8\tQ9Y3S2\tQ9Y478\tQ9Y4E6\tQ9Y673\tQ9Y680\tQ9Y692\tQ9Y6X8\tREV__A0A0B4J249\tREV__E9PDR3\tREV__B4E0K5\tREV__E9PFW2\tREV__H3BRB3\tREV__O95295\tREV__Q14008\tREV__Q15052\tREV__Q5SXM2\tREV__Q5T795\tREV__Q6UN15\tREV__Q8NA54\tREV__Q8WVM8\tREV__Q9Y3R5\tV9GYF8\tC:\"\n",
       "\tat sun.misc.FloatingDecimal.readJavaFormatString(FloatingDecimal.java:2043)\n",
       "\tat sun.misc.FloatingDecimal.parseDouble(FloatingDecimal.java:110)\n",
       "\tat java.lang.Double.parseDouble(Double.java:538)\n",
       "\tat scala.collection.immutable.StringLike$class.toDouble(StringLike.scala:284)\n",
       "\tat scala.collection.immutable.StringOps.toDouble(StringOps.scala:29)\n",
       "\tat $line72.$read$$iw$$iw$$iw$$iw$$anonfun$1$$anonfun$apply$1.apply(<console>:33)\n",
       "\tat $line72.$read$$iw$$iw$$iw$$iw$$anonfun$1$$anonfun$apply$1.apply(<console>:33)\n",
       "\tat scala.collection.TraversableLike$$anonfun$map$1.apply(TraversableLike.scala:234)\n",
       "\tat scala.collection.TraversableLike$$anonfun$map$1.apply(TraversableLike.scala:234)\n",
       "\tat scala.collection.IndexedSeqOptimized$class.foreach(IndexedSeqOptimized.scala:33)\n",
       "\tat scala.collection.mutable.ArrayOps$ofRef.foreach(ArrayOps.scala:186)\n",
       "\tat scala.collection.TraversableLike$class.map(TraversableLike.scala:234)\n",
       "\tat scala.collection.mutable.ArrayOps$ofRef.map(ArrayOps.scala:186)\n",
       "\tat $line72.$read$$iw$$iw$$iw$$iw$$anonfun$1.apply(<console>:33)\n",
       "\tat $line72.$read$$iw$$iw$$iw$$iw$$anonfun$1.apply(<console>:33)\n",
       "\tat scala.collection.Iterator$$anon$11.next(Iterator.scala:409)\n",
       "\tat org.apache.spark.storage.memory.MemoryStore.putIteratorAsValues(MemoryStore.scala:216)\n",
       "\tat org.apache.spark.storage.BlockManager$$anonfun$doPutIterator$1.apply(BlockManager.scala:1005)\n",
       "\tat org.apache.spark.storage.BlockManager$$anonfun$doPutIterator$1.apply(BlockManager.scala:996)\n",
       "\tat org.apache.spark.storage.BlockManager.doPut(BlockManager.scala:936)\n",
       "\tat org.apache.spark.storage.BlockManager.doPutIterator(BlockManager.scala:996)\n",
       "\tat org.apache.spark.storage.BlockManager.getOrElseUpdate(BlockManager.scala:700)\n",
       "\tat org.apache.spark.rdd.RDD.getOrCompute(RDD.scala:334)\n",
       "\tat org.apache.spark.rdd.RDD.iterator(RDD.scala:285)\n",
       "\tat org.apache.spark.rdd.MapPartitionsRDD.compute(MapPartitionsRDD.scala:38)\n",
       "\tat org.apache.spark.rdd.RDD.computeOrReadCheckpoint(RDD.scala:323)\n",
       "\tat org.apache.spark.rdd.RDD$$anonfun$8.apply(RDD.scala:336)\n",
       "\tat org.apache.spark.rdd.RDD$$anonfun$8.apply(RDD.scala:334)\n",
       "\tat org.apache.spark.storage.BlockManager$$anonfun$doPutIterator$1.apply(BlockManager.scala:1005)\n",
       "\tat org.apache.spark.storage.BlockManager$$anonfun$doPutIterator$1.apply(BlockManager.scala:996)\n",
       "\tat org.apache.spark.storage.BlockManager.doPut(BlockManager.scala:936)\n",
       "\tat org.apache.spark.storage.BlockManager.doPutIterator(BlockManager.scala:996)\n",
       "\tat org.apache.spark.storage.BlockManager.getOrElseUpdate(BlockManager.scala:700)\n",
       "\tat org.apache.spark.rdd.RDD.getOrCompute(RDD.scala:334)\n",
       "\tat org.apache.spark.rdd.RDD.iterator(RDD.scala:285)\n",
       "\tat org.apache.spark.scheduler.ResultTask.runTask(ResultTask.scala:87)\n",
       "\tat org.apache.spark.scheduler.Task.run(Task.scala:99)\n",
       "\tat org.apache.spark.executor.Executor$TaskRunner.run(Executor.scala:322)\n",
       "\tat java.util.concurrent.ThreadPoolExecutor.runWorker(ThreadPoolExecutor.java:1142)\n",
       "\tat java.util.concurrent.ThreadPoolExecutor$Worker.run(ThreadPoolExecutor.java:617)\n",
       "\tat java.lang.Thread.run(Thread.java:745)\n",
       "\n",
       "Driver stacktrace:\n",
       "StackTrace: \tat sun.misc.FloatingDecimal.readJavaFormatString(FloatingDecimal.java:2043)\n",
       "\tat sun.misc.FloatingDecimal.parseDouble(FloatingDecimal.java:110)\n",
       "\tat java.lang.Double.parseDouble(Double.java:538)\n",
       "\tat scala.collection.immutable.StringLike$class.toDouble(StringLike.scala:284)\n",
       "\tat scala.collection.immutable.StringOps.toDouble(StringOps.scala:29)\n",
       "\tat $anonfun$1$$anonfun$apply$1.apply(<console>:33)\n",
       "\tat $anonfun$1$$anonfun$apply$1.apply(<console>:33)\n",
       "\tat scala.collection.TraversableLike$$anonfun$map$1.apply(TraversableLike.scala:234)\n",
       "\tat scala.collection.TraversableLike$$anonfun$map$1.apply(TraversableLike.scala:234)\n",
       "\tat scala.collection.IndexedSeqOptimized$class.foreach(IndexedSeqOptimized.scala:33)\n",
       "\tat scala.collection.mutable.ArrayOps$ofRef.foreach(ArrayOps.scala:186)\n",
       "\tat scala.collection.TraversableLike$class.map(TraversableLike.scala:234)\n",
       "\tat scala.collection.mutable.ArrayOps$ofRef.map(ArrayOps.scala:186)\n",
       "\tat $anonfun$1.apply(<console>:33)\n",
       "\tat $anonfun$1.apply(<console>:33)\n",
       "\tat scala.collection.Iterator$$anon$11.next(Iterator.scala:409)\n",
       "\tat org.apache.spark.storage.memory.MemoryStore.putIteratorAsValues(MemoryStore.scala:216)\n",
       "\tat org.apache.spark.storage.BlockManager$$anonfun$doPutIterator$1.apply(BlockManager.scala:1005)\n",
       "\tat org.apache.spark.storage.BlockManager$$anonfun$doPutIterator$1.apply(BlockManager.scala:996)\n",
       "\tat org.apache.spark.storage.BlockManager.doPut(BlockManager.scala:936)\n",
       "\tat org.apache.spark.storage.BlockManager.doPutIterator(BlockManager.scala:996)\n",
       "\tat org.apache.spark.storage.BlockManager.getOrElseUpdate(BlockManager.scala:700)\n",
       "\tat org.apache.spark.rdd.RDD.getOrCompute(RDD.scala:334)\n",
       "\tat org.apache.spark.rdd.RDD.iterator(RDD.scala:285)\n",
       "\tat org.apache.spark.rdd.MapPartitionsRDD.compute(MapPartitionsRDD.scala:38)\n",
       "\tat org.apache.spark.rdd.RDD.computeOrReadCheckpoint(RDD.scala:323)\n",
       "\tat org.apache.spark.rdd.RDD$$anonfun$8.apply(RDD.scala:336)\n",
       "\tat org.apache.spark.rdd.RDD$$anonfun$8.apply(RDD.scala:334)\n",
       "\tat org.apache.spark.storage.BlockManager$$anonfun$doPutIterator$1.apply(BlockManager.scala:1005)\n",
       "\tat org.apache.spark.storage.BlockManager$$anonfun$doPutIterator$1.apply(BlockManager.scala:996)\n",
       "\tat org.apache.spark.storage.BlockManager.doPut(BlockManager.scala:936)\n",
       "\tat org.apache.spark.storage.BlockManager.doPutIterator(BlockManager.scala:996)\n",
       "\tat org.apache.spark.storage.BlockManager.getOrElseUpdate(BlockManager.scala:700)\n",
       "\tat org.apache.spark.rdd.RDD.getOrCompute(RDD.scala:334)\n",
       "\tat org.apache.spark.rdd.RDD.iterator(RDD.scala:285)\n",
       "\tat org.apache.spark.scheduler.ResultTask.runTask(ResultTask.scala:87)\n",
       "\tat org.apache.spark.scheduler.Task.run(Task.scala:99)\n",
       "\tat org.apache.spark.executor.Executor$TaskRunner.run(Executor.scala:322)\n",
       "\tat java.util.concurrent.ThreadPoolExecutor.runWorker(ThreadPoolExecutor.java:1142)\n",
       "\tat java.util.concurrent.ThreadPoolExecutor$Worker.run(ThreadPoolExecutor.java:617)\n",
       "\tat java.lang.Thread.run(Thread.java:745)\n",
       "\n",
       "Driver stacktrace:\n",
       "  at org.apache.spark.scheduler.DAGScheduler.org$apache$spark$scheduler$DAGScheduler$$failJobAndIndependentStages(DAGScheduler.scala:1435)\n",
       "  at org.apache.spark.scheduler.DAGScheduler$$anonfun$abortStage$1.apply(DAGScheduler.scala:1423)\n",
       "  at org.apache.spark.scheduler.DAGScheduler$$anonfun$abortStage$1.apply(DAGScheduler.scala:1422)\n",
       "  at scala.collection.mutable.ResizableArray$class.foreach(ResizableArray.scala:59)\n",
       "  at scala.collection.mutable.ArrayBuffer.foreach(ArrayBuffer.scala:48)\n",
       "  at org.apache.spark.scheduler.DAGScheduler.abortStage(DAGScheduler.scala:1422)\n",
       "  at org.apache.spark.scheduler.DAGScheduler$$anonfun$handleTaskSetFailed$1.apply(DAGScheduler.scala:802)\n",
       "  at org.apache.spark.scheduler.DAGScheduler$$anonfun$handleTaskSetFailed$1.apply(DAGScheduler.scala:802)\n",
       "  at scala.Option.foreach(Option.scala:257)\n",
       "  at org.apache.spark.scheduler.DAGScheduler.handleTaskSetFailed(DAGScheduler.scala:802)\n",
       "  at org.apache.spark.scheduler.DAGSchedulerEventProcessLoop.doOnReceive(DAGScheduler.scala:1650)\n",
       "  at org.apache.spark.scheduler.DAGSchedulerEventProcessLoop.onReceive(DAGScheduler.scala:1605)\n",
       "  at org.apache.spark.scheduler.DAGSchedulerEventProcessLoop.onReceive(DAGScheduler.scala:1594)\n",
       "  at org.apache.spark.util.EventLoop$$anon$1.run(EventLoop.scala:48)\n",
       "  at org.apache.spark.scheduler.DAGScheduler.runJob(DAGScheduler.scala:628)\n",
       "  at org.apache.spark.SparkContext.runJob(SparkContext.scala:1925)\n",
       "  at org.apache.spark.SparkContext.runJob(SparkContext.scala:1938)\n",
       "  at org.apache.spark.SparkContext.runJob(SparkContext.scala:1951)\n",
       "  at org.apache.spark.rdd.RDD$$anonfun$take$1.apply(RDD.scala:1354)\n",
       "  at org.apache.spark.rdd.RDDOperationScope$.withScope(RDDOperationScope.scala:151)\n",
       "  at org.apache.spark.rdd.RDDOperationScope$.withScope(RDDOperationScope.scala:112)\n",
       "  at org.apache.spark.rdd.RDD.withScope(RDD.scala:362)\n",
       "  at org.apache.spark.rdd.RDD.take(RDD.scala:1327)\n",
       "  at org.apache.spark.rdd.RDD$$anonfun$first$1.apply(RDD.scala:1368)\n",
       "  at org.apache.spark.rdd.RDDOperationScope$.withScope(RDDOperationScope.scala:151)\n",
       "  at org.apache.spark.rdd.RDDOperationScope$.withScope(RDDOperationScope.scala:112)\n",
       "  at org.apache.spark.rdd.RDD.withScope(RDD.scala:362)\n",
       "  at org.apache.spark.rdd.RDD.first(RDD.scala:1367)\n",
       "  at org.apache.spark.mllib.clustering.GaussianMixture.run(GaussianMixture.scala:172)\n",
       "  ... 40 elided\n",
       "Caused by: java.lang.NumberFormatException: For input string: \"Q5JRG1\tP42167\tH0YGN2\tQ9BXR0\tF8VYE8\tQ9P0J1\tA0A087X0I3\tE9PHV6\tQ8NFH3\tP46013\tQ9GZT3\tQ9NXX6\tO95793\tQ96J01\tA0A087WXK2\tE7EVH3\tQ9H7D7\tQ14146\tP19387\tQ9NRF9\tQ12965\tQ9C0C9\tQ13951\tP16989\tQ9NVX2\tQ86U44\tQ9UHD2\tQ96KR1\tQ9H009\tP13761\tQ658Y4\tA0A0A0MSQ0\tO15117\tQ9UNI6\tQ9H2U1\tQ9NRR5\tM0QWZ7\tO00629\tQ14571\tQ16537\tP29966\tQ9UIA9\tP28289\tA0A024R216\tCON__P01966\tQ9BT22\tQ7Z3B4\tI3L0X5\tQ96P31\tQ8IY81\tQ9NPH2\tQ9BW71\tO15079\tP36871\tQ03164\tQ12769\tH0Y3X6\tD6R9P4\tP37198\tF5H0U5\tQ86U38\tQ15554\tQ6IN84\tQ5H907\tQ9NXE4\tQ9NY27\tQ6UXN9\tQ9P0I2\tA0A0A0MTH9\tE9PES6\tCON__Q3KUS7\tA0A087WU64\tB9ZVN9\tQ8TDL5\tE7EVX8\tQ5T7U1\tE5RH41\tO95487\tQ9H1I8\tQ96CX6\tQ9HBL8\tK4DI93\tQ08752\tH7BXI1\tH0YCN4\tP98160\tQ6PCB5\tP27701\tQ9NXF1\tQ8WXH0\tQ9Y248\tQ8TEM1\tF5GX51\tQ9ULC3\tB7Z7E1\tA0A1B0GUC3\tO00560\tA0A1B0GU45\tE5RI99\tQ6UN15\tQ96K76\tQ8NFF5\tQ16204\tP51452\tQ96MG7\tO95433\tD6R992\tQ10472\tQ15526\tP51610\tA9Z1X7\tE7ENJ6\tJ3KN66\tQ8TCG2\tQ8NC56\tO00566\tP52294\tP80217\tQ2VPB7\tQ9P2N5\tQ86TB3\tQ9NPI6\tQ5TCT4\tP07919\tQ13188\tP60866\tP52788\tH3BLV9\tQ99986\tQ14353\tK7EIN1\tE9PD53\tQ5TAW7\tP35658\tO95400\tQ86W42\tO75475\tQ9Y5U9\tQ8N0Z6\tD6RF48\tG3V4K3\tP46063\tP08648\tQ9P2A4\tQ8N6L1\tQ9Y6A9\tQ13573\tP49006\tG3V2S6\tE9PQB8\tO14933\tA0A087WUT0\tH0YMB7\tO95347\tP51003\tQ02338\tQ7Z7K6\tF5H5U6\tP04114\tQ92621\tQ96RS6\tQ8N1F7\tQ92973\tO94776\tQ9UBF2\tA3KN83\tQ8NC60\tQ96D71\tQ5T440\tO94906\tE7EN19\tQ9UBQ7\tQ68E01\tQ16666\tP61599\tQ9NXV6\tJ3QR07\tO95396\tB8ZZ99\tQ8WUH6\tQ13523\tH0Y873\tQ14344\tP62304\tQ8NBS9\tQ96HW7\tQ04446\tQ8TDX7\tQ9Y376\tP09936\tQ68CP9\tQ8IY17\tQ32Q12\tQ96HC4\tQ9UN86\tQ92990\tQ96RS0\tCON__ENSEMBL:ENSBTAP00000034412\tQ5VTL8\tQ68CZ2\tQ9UJY4\tQ9UMS4\tX6RKS3\tQ9H7Z6\tQ06609\tCON__P02676\tP04920\tQ9UBB5\tP62310\tA2IDA3\tO95613\tQ9H0C8\tP38432\tP53582\tQ969Z0\tP00390\tJ3QRU8\tQ92575\tQ6P1L5\tQ5T8C6\tQ15459\tQ15047\tJ3KQ48\tQ04941\tQ9H1B7\tQ13748\tP26368\tG8JLB6\tC9J6G3\tF6RTM7\tA0A075B6L0\tQ7Z434\tQ9NQ29\tQ8TD30\tP61225\tQ00577\tE7EX73\tQ6P1M0\tO00233\tI3L2L5\tQ9BQ67\tQ5LJA5\tQ9BXW9\tQ9Y6I3\tQ9UBG0\tQ9Y2Z4\tP12270\tQ8WV22\tP07195\tQ5T6V5\tF6T1Q0\tQ01581\tQ9UJ68\tQ96EV8\tQ5JTH9\tA0A0C4DG44\tQ9NYL9\tQ86XP3\tQ8IWD4\tQ9UH99\tH0YNU5\tE9PRK8\tQ9BVM4\tQ9Y281\tQ07812\tP35606\tQ9P253\tQ9NRN7\tQ13112\tCON__Q7Z794\tQ53FA3\tQ9BQ52\tQ96DI7\tO15355\tP51946\tB5MC22\tA0A087WV05\tQ4G148\tQ96II8\tP35527\tO60763\tQ96KP4\tI3L213\tQ9UIJ7\tA0A0C4DGA2\tE5RHT6\tQ5VT52\tA0A0C4DFU2\tP35908\tB4DY09\tP57740\tQ96LA8\tO00567\tH0YF29\tO75446\tCON__P15497\tP61586\tQ9H0S4\tO75940\tP46734\tQ92797\tB4DLN1\tJ3KPF0\tH0Y7A7\tQ9NQG5\tQ08211\tP05455\tQ7Z7H5\tQ9NTZ6\tQ5TAQ0\tP23528\tQ96QU8\tF5H365\tA0A0G2JPT5\tQ6P1J9\tQ8IUR7\tP04440\tP09960\tP52756\tO60832\tB4DGL8\tK7EL81\tQ96AZ6\tQ15311\tE9PL88\tQ96DE0\tA0A096LPI6\tM0R0I0\tA0A087WYT3\tCON__P02768-1\tA0A0A0MRV0\tJ3KR97\tQ9UPN9\tP36507\tB4DL54\tQ8NFC6\tC9JIU5\tF5GWX5\tA0A087WUB9\tE9PJX5\tQ9NUD5\tP53396\tO15504\tQ99567\tA0A087WVI0\tQ15019\tQ99805\tQ7Z2W4\tP83916\tO75410\tD6R9M0\tQ9UQ35\tO43815\tQ99575\tQ7RTP6\tQ53QZ3\tF6UKU9\tP53621\tP49321\tQ9UKF6\tE9PM92\tH7C1M2\tQ15006\tQ7L2J0\tQ5R3I4\tP51531\tQ9BVT6\tQ10570\tQ14165\tQ5JRI1\tQ9Y2W2\tQ14669\tO43290\tQ9Y657\tQ15428\tE9PJF5\tA0A087WV57\tQ96BZ8\tA8MTY9\tQ69YN4\tQ96GA3\tQ5VYK3\tP09601\tQ9BYG3\tO95782\tC9JIR6\tQ08378\tE5RIV7\tP28482\tQ9NVR2\tP32969\tQ9H1E3\tA0A0A0MTR7\tO14776\tO95926\tQ9BVA1\tH0YJ97\tQ6FI81\tQ8IWV7\tQ8TCU6\tQ8IXJ6\tB7Z5N5\tQ9Y6X3\tQ9H6A0\tO75694\tP48729\tP46776\tQ8NI27\tO96007\tP60983\tQ12906\tP23610\tO00442\tQ8N490\tQ9P000\tQ9HCE0\tA0A0J9YWB6\tQ96GK7\tM0QZP4\tQ9BZE4\tQ14651\tQ8IVD9\tQ5JSL0\tQ9NP92\tD6RJA0\tQ9NVH1\tQ2TAY7\tQ99808\tQ9BTY7\tC9J2Y9\tB7Z4N4\tO95639\tQ68EM7\tQ9NVP1\tQ16539\tO15047\tQ96NC0\tO00303\tO95218\tQ16401\tP40121\tP13716\tQ8NE62\tQ8NFH5\tF5H269\tQ8N1G2\tF5GZZ9\tQ96I25\tP09104\tQ14573\tQ13838\tQ49AN9\tH3BU86\tQ96L91\tQ8WWQ0\tP01861\tQ9Y5S1\tE7EST9\tP09525\tQ9UNF0\tQ9UJX2\tQ8TDN6\tA0A0D9SEM4\tQ9BW27\tQ9UGJ0\tP50452\tQ9BTU6\tO15479\tC9J9T0\tQ9H3U1\tH0YL22\tE5RI98\tG3V1T9\tQ99570\tD6REB4\tQ02880\tA0A140T8Z3\tH9KVB1\tQ96F86\tQ9BPZ7\tP00734\tP05387\tG3V529\tP28288\tQ9Y2S7\tQ8WWM7\tG8JLB3\tQ9P258\tQ8TBQ9\tQ9UKT9\tH0YMV8\tCON__ENSEMBL:ENSBTAP00000037665\tP40763\tCON__P34955\tQ96JC1\tQ5SRN5\tG5EA30\tJ3KMX2\tD6RAD4\tQ96ST3\tA0A0A0MRB7\tP17066\tP13284\tQ7LG56\tP23193\tO75376\tQ13247\tK7ENK9\tO14787\tJ3KTL2\tE9PK91\tO15126\tQ6ZVK8\tP18887\tP52597\tG3V1R5\tQ5C9Z4\tP18124\tP35241\tQ96CU9\tQ96CS3\tE9PJK5\tQ15050\tH0Y3T6\tQ92616\tC9J4L5\tA0A087WY55\tO60306\tQ86X76\tA0A087X1K9\tQ8NI37\tQ9Y6Q9\tP49770\tP37802\tF8W9S7\tP04275\tA0A087WV90\tP39748\tQ5HYB6\tQ6VMQ6\tP02792\tP05386\tQ9BT73\tQ9Y2W1\tP49916\tQ53S08\tA0A087X1H5\tM0R3D6\tQ15126\tP0CG39\tQ5T4S7\tP35251\tCON__Q3SZ57\tQ6NZY4\tA0A0C4DGS5\tA0A087X295\tREV__O43164\tQ13895\tF6VRR5\tU3KQ54\tQ9UMY1\tP61009\tA0A087WUK2\tO60216\tQ8IWJ2\tQ8WVY7\tQ6ZU80\tREV__O60673\tC9J8Q5\tO43760\tQ9Y2V7\tO75643\tC9JEU5\tQ5U5X0\tQ96EE3\tQ9BWS9\tQ6JBY9\tG3V511\tP46109\tQ92572\tQ15029\tQ53T59\tQ03252\tQ9UHA4\tP63092\tREV__Q86UQ4\tP22087\tO43752\tQ9GZS3\tQ86TU7\tQ5VTR2\tP25205\tP51991\tE9PM17\tP54578\tB4DKB2\tP07996\tQ9BQG0\tQ03154\tP20020\tCON__P00761\tP02748\tK7ERI7\tA0A087WZ13\tQ9H8Y8\tA0A0D9SEJ5\tO94888\tG3V1Q7\tO96005\tQ9BRP8\tP08621\tP46778\tH0YNI7\tCON__P12763\tP63244\tE7ENN3\tE7EVG2\tA0A087X1B2\tO60264\tP20042\tQ8TEQ6\tP20339\tCON__Q3T052\tB1AQP1\tP53004\tP31946\tP30533\tG3XAP0\tA0A0X1KG71\tQ92889\tP30047\tQ96I59\tQ6SZW1\tQ9UBR2\tP05161\tQ15061\tA0A0G2JIS2\tE9PIF2\tO95352\tQ96FX7\tQ14696\tQ9BRR6\tQ9NZM1\tQ9UK76\tQ92769\tQ5W0V3\tQ15020\tH3BRQ0\tB7Z4M1\tO95758\tE9PHY8\tD3YTB1\tQ14677\tF8W8I6\tA0A087WWS1\tP06127\tD6RF23\tP82933\tH7C585\tA0A087WZP6\tP02790\tC9J931\tO94903\tCON__Q28065\tQ9UPU7\tA0A087WZV0\tQ13492\tP61224\tK7EM02\tA0A1B0GW44\tQ15291\tO95478\tO60449\tCON__Q03247\tQ13200\tP23258\tA0A087X256\tO94925\tO75663\tP21291\tQ92882\tF5GY80\tQ9UHP3\tQ9BTE1\tQ8WUU5\tF8W914\tQ709C8\tG3V524\tA2A3R5\tREV__Q5CZC0\tQ66K74\tA6NL93\tQ8ND71\tA0A087X0P0\tQ4KMQ2\tP28838\tH9KV48\tP25398\tQ7LBC6\tQ14847\tO14980\tP63010\tC9J762\tA0A087WWW9\tQ9UHB9\tQ96AQ6\tQ8TF05\tQ6NVY1\tQ71RC2\tQ9UKV8\tQ6NUQ1\tP49593\tA0A182DWF3\tH0YMJ0\tQ8IY95\tQ9BUQ8\tREV__Q9Y2I7\tP09669\tB7ZL25\tK7EK72\tP41743\tK7EQ03\tQ00325\tQ92878\tB4DIE3\tQ12955\tQ9Y3E7\tQ86VZ1\tQ9NVP2\tQ9Y265\tQ8WWP7\tF5GXQ0\tO43709\tH0Y488\tE7EX17\tO43719\tC9JQ42\tP62857\tQ96HS1\tQ7Z7L7\tA5YKK6\tQ15582\tO43765\tE9PE17\tA0A0A0MR66\tA6NHR9\tP40222\tQ13451\tB5MCW3\tQ29RF7\tP15531\tP09417\tA0A087X0E6\tP25490\tQ8WUM0\tO14773\tO14964\tF8WCJ3\tQ9Y4E8\tJ3QL05\tF5H8F7\tQ9BSL1\tP52630\tQ15435\tP07738\tQ9H6T3\tREV__Q9NXW9\tQ14019\tQ9UIV1\tP62330\tX6RCR8\tQ16762\tQ9Y5J1\tP31150\tP19338\tQ5JSH3\tQ9BTC0\tA0A0C4DFR8\tQ96EV2\tQ9NRA8\tO43390\tQ96CB9\tP26639\tE9PLK3\tQ9NZL9\tQ14764\tQ5TBH8\tO00170\tQ9H1A4\tP21731\tP24723\tE7EV99\tQ9NX14\tP30837\tH0YNA2\tP42224\tA0A0D9SG71\tS4R3K8\tQ9NSK0\tP35269\tE9PDF6\tE9PGT6\tQ00796\tP00918\tP49458\tQ5JQQ4\tQ15293\tP62277\tK7ER90\tH3BMZ9\tX6RCK5\tQ8IUR0\tO75843\tQ93009\tP62854\tQ8NCN5\tQ7Z3U7\tQ96C86\tQ86SX6\tP21283\tREV__F8VWT9\tO76003\tQ9BQ39\tO60262\tP14735\tQ9UK59\tF8VXI9\tQ08AM6\tQ9ULH0\tB7WP74\tQ9Y385\tQ9BZL1\tQ92835\tQ8WWK9\tQ9UPM8\tO75533\tQ13123\tE9PHA2\tQ13190\tQ86Y07\tP05534\tX6RA30\tQ99459\tP40818\tP62995\tF5H8H2\tQ13315\tQ13442\tQ14974\tP16435\tA0A0R4J2E8\tQ15555\tQ5SW79\tR4GMU1\tQ8TE73\tP33121\tQ96B26\tQ7Z3K3\tQ495G5\tA6NC98\tQ96PU5\tA0A087WTP3\tQ9UNQ2\tP07737\tP62241\tQ8N122\tQ9NVM9\tCON__Q2UVX4\tJ3KNM6\tP01024\tG5E9A6\tO43148\tF5H1Y4\tO75427\tE9PIA8\tQ9Y2Y0\tQ96S94\tJ3KT73\tJ3QLS3\tO43181\tP20338\tQ93008\tG3V1U5\tQ86TM6\tO14907\tQ8NCF5\tQ9P0L0\tQ8IVM0\tG3XAG1\tP10155\tP61353\tB8ZZN6\tQ49A26\tO43172\tQ9BUJ2\tP49643\tQ13547\tQ8WUK0\tP05362\tP09471\tQ9NX58\tQ00059\tQ15477\tQ8NDC0\tQ9BV19\tQ9H0L4\tQ86VS8\tP50749\tO00499\tP42768\tREV__Q12923\tB1AH87\tQ9NVN8\tK7ESN3\tF5H442\tP48444\tD6REQ6\tQ6RFH5\tP46777\tQ9BZE1\tP04053\tD6REL5\tQ15149\tQ5W0B1\tC9JPE1\tQ9BZH6\tQ9NRK6\tP61289\tE9PHF7\tH3BQQ1\tO75369\tQ13885\tQ9NPQ8\tQ9Y6Y8\tQ96CW5\tE7EQR4\tP16278\tA0A0A0MT83\tP18031\tP50453\tP43304\tP21980\tQ9NQT8\tQ96S52\tA8MT37\tQ8N442\tH0YD13\tQ96A33\tQ86YS6\tQ9BPW8\tQ9H501\tQ8IYI6\tE5RJR5\tQ96ER9\tP20645\tQ3BDU5\tB0QYK0\tP29083\tP32121\tP59666\tA0A0A0MTS2\tREV__Q6P158\tQ9UKA9\tR4GMX3\tP27348\tQ5SY16\tQ9H2M9\tA0A1B0GTW1\tE9PF16\tQ9H7N4\tQ92665\tQ66K14\tQ9Y3D0\tP52292\tA0A0C4DFX3\tQ15398\tP78527\tP48426\tP06340\tP49590\tQ9Y4P1\tQ9NUW8\tO75116\tP13765\tQ5QPK2\tO14737\tB8ZZB2\tP13984\tP68363\tO75592\tA0A087WW89\tH0YBR0\tF5H4U8\tCON__P02769\tQ00653\tQ12899\tQ9BZF1\tA0A0C4DG91\tH0Y6T7\tQ9H4Z3\tP12955\tA0A087WUD1\tQ9UPU5\tQ9NZZ3\tQ9UBD5\tD6RB92\tA0A0U1RRM4\tP13995\tP12814\tE7EU96\tP32302\tQ8TD55\tQ9Y2U8\tQ71U36\tH3BQV3\tP60602\tQ15118\tQ9NR50\tA0A024R7W5\tQ9UNM6\tH0YJ82\tQ8TAT6\tO75165\tQ8WUD1\tQ8IYB5\tQ96GW9\tQ0VD83\tQ86UP2\tA0A0C4DG89\tQ6P9B9\tP29350\tP11766\tQ14232\tP63000\tA0A087WZF1\tP00352\tO00139\tQ7L576\tQ8IWS0\tO95865\tO75152\tP62273\tO14976\tQ8WUA2\tP02545\tO15270\tQ12996\tQ53GS7\tA0A087WV25\tO60573\tF8WJN3\tP21796\tQ96GM8\tQ13405\tQ8NEJ9\tP61964\tQ8IY18\tQ8TB72\tP53992\tP18858\tP20701\tQ99613\tO94768\tQ8N163\tB7Z6Q0\tQ99733\tQ92896\tQ08209\tQ15800\tQ96BY6\tQ8WXF1\tP51149\tO43805\tP00488\tP35914\tQ562R1\tQ8IZ83\tE9PKG1\tP98164\tQ99638\tI3NI29\tQ9H9Y6\tP09211\tQ6UVY6\tP13760\tQ04864\tA0A087WVM4\tP24928\tP15121\tQ5T6F2\tQ8IV50\tP06400\tP15090\tQ9C0B0\tP35659\tQ9H9A5\tQ9HCD5\tA0A0U5Q247\tQ5VV42\tP61011\tF2Z2X4\tP22626\tB7Z7P8\tQ92620\tD6RIY6\tC9JVY5\tA2RRP1\tQ12851\tH3BST1\tP35219\tA0A024R4E5\tP49841\tQ9Y5Y2\tP14868\tQ5SRQ3\tQ9NTI5\tA0A1B0GTF3\tF2Z388\tA6NHL2\tO95104\tQ9UBE0\tO60547\tJ3KQ32\tQ7Z7E8\tO75340\tO95336\tG5EA44\tQ9H900\tK7ER12\tQ96EY7\tK4DI92\tO95486\tP09874\tQ9HBH1\tP53618\tH7C0V0\tQ9NZ45\tQ12874\tE9PK47\tO75306\tJ3KNC0\tG3V2V8\tQ9NR30\tQ9Y4P8\tQ9BT78\tP17812\tE9PF84\tE9PSH8\tQ9HA77\tS4R3H4\tF8WCA5\tA0A0J9YWL0\tH0Y4W2\tD6RGI3\tQ15397\tE7EPF2\tQ9UIQ6\tQ8NDX1\tQ5JY65\tQ6PD62\tQ10567\tQ9HB66\tE5RGX5\tA0A0A6YYL2\tO00232\tQ12792\tP19174\tP26232\tP14550\tB4DGM3\tH7C4P1\tP54725\tQ13432\tA0A087X0M4\tQ92890\tP68871\tH3BTN5\tA0A0D9SFK2\tP52306\tF8W1A4\tP33176\tP26842\tQ92609\tP29590\tA6NGJ0\tQ96IZ0\tQ5T9A4\tE7EPN9\tQ96DA2\tQ9Y5Y6\tQ9NXR1\tP63151\tO75531\tQ92558\tK7EIY6\tD6RC52\tQ02818\tO60825\tA0A087WSW7\tP36551\tQ4V328\tQ16763\tF5H0R1\tQ9UGP8\tQ08945\tQ9NZT2\tP50336\tF5GXF5\tQ15306\tQ8N806\tQ01085\tP27824\tC9J9K3\tQ66LE6\tQ6F5E8\tE7ESC7\tQ9Y394\tQ9NTJ4\tQ13057\tQ9Y5B6\tA0A182DWH4\tQ9NQP4\tA0A087WW40\tQ13425\tO00481\tP22314\tH3BQQ6\tO14966\tP53999\tP40429\tQ9BXB4\tP62312\tQ13438\tA0A024QZX5\tP02763\tP78417\tP04350\tQ99747\tP55795\tQ96HY7\tQ9Y2X3\tQ9NQT5\tQ5T123\tC9JEV0\tH7BXZ5\tB8ZZG1\tF8VZX7\tP48643\tH7BXK9\tQ9H8H0\tP26358\tA0A0U1RRM8\tQ14643\tQ6ULP2\tP48960\tP07900\tM0QY97\tQ9BXK5\tQ9P2P6\tQ14739\tO60784\tQ9H8W4\tQ9HD20\tCON__Q3ZBS7\tQ14697\tA0A087WTA5\tQ99871\tP61081\tP32119\tP31153\tQ5T447\tQ16853\tQ15427\tP08047\tQ9ULW3\tP40692\tQ9Y294\tP48651\tQ14691\tE5RK69\tA0A0A0MRE1\tP13010\tO60502\tQ15424\tP35250\tH0YE03\tO15091\tP31937\tQ4J6C6\tQ9Y696\tQ02127\tQ15904\tA8MUA9\tO96028\tA0A1B0GV63\tQ8TBB5\tQ5T200\tQ9H3S7\tP08237\tB7WPE2\tP29218\tA6ND22\tO75381\tQ9NXR7\tQ15691\tF8VXC8\tQ96RP9\tE9PM13\tCON__Q6NT21\tH7C0R7\tQ96L92\tE9PFK9\tA0A0A0MT32\tQ14149\tH7C1E4\tP47755\tP05388\tG3V1C3\tM0R3F6\tP23246\tQ99536\tQ9H2J4\tP16615\tH3BM14\tO00165\tP52735\tE9PFP1\tQ96ST2\tP49137\tC9JNK6\tK7EIG7\tH0YBP1\tI3L4J1\tA2RTX5\tP46939\tO00754\tP13612\tP01619\tP11387\tQ96A72\tG3XAN4\tA0A087X2H1\tP62899\tQ9Y3L5\tQ8NCW5\tO15498\tH3BRB3\tP08571\tP49354\tO95453\tQ9Y3C8\tE5RHA3\tQ8NFW8\tO75083\tQ9P013\tP47756\tCON__P06868\tQ8IXB1\tQ5R3B4\tP50454\tP51659\tP24539\tP28068\tQ9BPX3\tQ96PK6\tQ9H267\tS4R3N1\tQ9NWU1\tQ9NWT6\tB7ZAX5\tO60701\tQ8NDX6\tP50991\tP06702\tQ06124\tO60343\tQ9NXH8\tQ13303\tO94826\tP10599\tP05556\tQ92556\tQ13546\tO95376\tP29401\tQ9ULX3\tC9JKP0\tF2Z2V0\tA0A087X283\tQ10471\tP78356\tQ13363\tA0A087WWP4\tQ8IYQ7\tO60934\tQ5TFE4\tQ96AX1\tQ8WV28\tQ9UHI6\tO15357\tQ9P270\tM0R165\tP23919\tF8W6C6\tE9PP23\tO95219\tP61601\tO15226\tP10644\tQ96IV0\tM0R0F0\tQ9UBP6\tQ9UEW8\tQ9BZX2\tC9J0K6\tP42285\tO95786\tQ9UPY3\tA0A0C4DGF2\tP22570\tO60826\tP51888\tQ9BSH5\tO15229\tF5GYN4\tA0A0A6YYL4\tCON__Q3SX14\tD6RD69\tP50542\tB4DXZ6\tP20700\tH0Y2W2\tF2Z2Y4\tJ3KS15\tQ9NUM4\tG8JLP4\tO75190\tJ3KQ45\tC9JDT9\tQ8TCS8\tQ9H3N1\tQ7L3T8\tP33316\tQ6UX04\tQ9P2I0\tC9JMD7\tQ8TDD1\tQ9UNY4\tA0A087WTC0\tH7C3I1\tQ14683\tQ07507\tP30740\tQ9UJ70\tQ9H307\tQ9UKB1\tQ15121\tP15391\tH0YH87\tQ9Y4B6\tO15294\tB1AK63\tA0A140T9T7\tP11047\tQ969S9\tP48634\tA8MX21\tQ86W56\tP33552\tQ92688\tO75170\tQ9UER7\tA0A0A0MTH3\tK7EM56\tO94973\tQ15286\tQ96QC0\tQ15628\tQ9Y4X5\tP11413\tQ16719\tP55036\tP00156\tQ6YHU6\tQ9UKY7\tQ5TBB1\tP36405\tP78318\tE9PNL8\tH7BXY3\tC9JEH7\tR4GMU7\tE9PEB5\tP21964\tQ6PJG6\tQ9UK58\tQ6ZW49\tQ9UL15\tQ8WYP5\tO43175\tQ9BV40\tQ8TEA8\tQ13426\tF5H7K1\tQ96T51\tB4DIW9\tA0A087X211\tQ8IUI8\tQ9Y678\tF5H5I6\tP08567\tO95456\tQ5JP53\tE7EQV9\tE9PKU7\tP23434\tO00203\tQ8WXA9\tP49915\tQ9P2R3\tO00115\tQ5TDH0\tQ15120\tQ6P2Q9\tP16152\tQ30134\tA0A140TA86\tO75947\tO95197\tQ02556\tQ9Y3B7\tP62937\tQ7Z6J4\tP07954\tQ9H0A0\tQ9GZL7\tP34932\tQ5VV89\tP49005\tO95163\tQ99832\tH3BT23\tE9PKH8\tP19525\tU3KPS2\tQ86WQ0\tH0YEH2\tG5E975\tP07099\tP02730\tB4DR80\tQ13596\tQ9H5X1\tE5RHF4\tC9J6N5\tI3L0H8\tQ7Z591\tQ9GZY6\tP35749\tB4DVT3\tO43447\tQ9NWV4\tQ9UNZ2\tCON__P50448\tH3BPR2\tA0A0A0MTR2\tM0QXB4\tQ9HBI0\tP04196\tP29692\tQ9HAB8\tP49750\tQ00688\tJ3KTA4\tC9JJ19\tQ9H269\tP12931\tA0A140TA29\tQ9Y5Z4\tC9JPM4\tA4D1E9\tM0R050\tA0A087WXS7\tP62136\tE9PFR3\tQ9BRG1\tP23526\tF8W8D3\tF5H345\tQ9BYN8\tQ16566\tQ14151\tP62249\tH3BS70\tH3BP71\tE9PQP3\tP13639\tQ96FS4\tO14494\tE7ERS3\tQ9UHY7\tD6R9P3\tO75874\tQ8IV53\tO60566\tQ16531\tQ03169\tM0R2P6\tQ29967\tO43678\tP43487\tP54920\tP23396\tQ9H0W8\tQ9ULI0\tJ3QLN4\tQ68DQ2\tB4DJV5\tP43490\tQ01995\tQ96T76\tO95674\tQ96F63\tQ8N183\tH0YBZ2\tA0A0A0MRG8\tE9PN18\tP14174\tQ96D96\tQ96EY1\tQ9BTE3\tP16930\tP49756\tE9PKP7\tA0A0A0MRM9\tQ13409\tV9GYS0\tE7ENM8\tP26038\tO00264\tR4GNB2\tQ8NB37\tQ32P28\tD6REX3\tP11234\tQ92499\tQ7Z6M1\tA0A087WW23\tF5GY88\tO75844\tE9PKH6\tREV__Q96T58\tK7EQ02\tH7C0E5\tA0A087WT99\tE9PG73\tP11172\tP42336\tB8ZZK5\tF8W6G1\tQ6QNY0\tQ14790\tE7ETK0\tQ9NR31\tO96011\tO60749\tQ9Y2Q5\tQ9H6X2\tO15116\tP06312\tB4DDK6\tP54577\tC9J5N7\tJ3KT86\tP09012\tP26885\tP43034\tQ9BTT0\tQ9NS69\tO00231\tC9JHF5\tP61019\tQ5VZU9\tP78347\tQ8TDN4\tQ15645\tQ9HBD4\tQ9UJW0\tQ9BX40\tQ96RE7\tQ8NBJ5\tA0A1B0GTB8\tREV__P78363\tREV__H7BXG9\tQ07021\tQ9Y3P9\tQ92747\tF5H039\tA8MUM1\tO14802\tP01011\tQ9H977\tP54886\tB8ZZU8\tP62244\tQ9Y676\tP03915\tQ9BR76\tH3BNX8\tJ3QQY2\tE9PGZ1\tA0A0A0MSA0\tQ9H0D6\tJ3KMZ7\tO75351\tA0A0C4DGW6\tQ5JR08\tQ9BRD0\tJ3KTA1\tP68032\tQ06210\tQ7Z6I6\tH0YNE9\tP49773\tO15230\tQ9Y6D9\tF8WD09\tQ15024\tE5RHW4\tG3V0I5\tQ8WW12\tP09622\tP25774\tF5H2B5\tP82979\tQ9NX08\tQ9NRY5\tE9PID8\tQ5QPP9\tQ14318\tJ3QKT4\tO95551\tQ1KMD3\tD6RAT4\tO15173\tQ8IYB8\tQ9NW13\tH0YJG9\tQ8NEL9\tH3BSM5\tQ8TCY9\tQ96IY1\tQ969P0\tQ00839\tC9JLF4\tH3BRL9\tQ9NX47\tQ15036\tP09651\tQ9BQA1\tQ8TC07\tE9PGT3\tK7EP32\tC9JV77\tH0Y6Y8\tCON__P13646-1\tH3BV80\tF5H6T1\tQ14554\tH3BMQ0\tQ8N5K1\tP02751\tC9JUH3\tD3DSM0\tREV__Q7Z7G8\tO60508\tQ9Y5B9\tO94919\tA0A075B6K8\tB4E1G1\tP19838\tQ9BTL3\tK7ES61\tQ14562\tQ9H4M9\tQ08AF3\tQ9UIC8\tC9IZG4\tH3BTE3\tP49642\tA0A087WXD1\tQ12765\tA0A024R4M0\tQ9NQA3\tA0A0A0MTB8\tQ13151\tP36404\tB3KS98\tQ9NRX1\tQ9NVI1\tP21281\tH3BUX2\tO60869\tQ8IY21\tP21399\tQ6P2E9\tQ9Y2T2\tQ13043\tQ8N9T8\tQ16864\tP10620\tH7BYI2\tQ15843\tQ9Y6N5\tK7EQQ8\tJ3QT28\tQ9NX76\tO14672\tO43818\tQ8N8Y2\tCON__P02672\tQ8IZL8\tP50851\tA6NDG6\tO60271\tREV__Q86VS8\tQ9NWS0\tQ99436\tH3BPE7\tO75175\tO95801\tQ9H4E7\tCON__Q2KIF2\tF6SDV2\tP19784\tQ16822\tQ5SSJ5\tO15031\tA2AAZ0\tA0A0G2JKZ1\tP0DN76\tB7ZLI8\tQ9UBI1\tP82663\tU3KQK0\tQ6PL24\tA0A0B4J1Z1\tP68104\tO15042\tB7ZL14\tP14678\tO43237\tO00151\tH0Y8N7\tG3V5B5\tM0QZQ3\tF8VV52\tQ8WWI5\tP43007\tQ9H6W3\tA0A0D9SFB3\tP62195\tP31948\tP40937\tO95071\tF8W543\tQ460N5\tO60568\tA0A0A0MTN0\tE9PJF4\tQ9NWH9\tH7BXH2\tQ14692\tQ9H9T3\tQ5VWZ2\tP17568\tH3BLZ8\tP13727\tP41227\tQ5QPM7\tA0A087WVF7\tQ15056\tQ96BN2\tQ14191\tQ9UNK0\tP78346\tJ3QK89\tQ8TB03\tQ09666\tQ9UHX1\tH0Y360\tQ96G46\tB3KVZ3\tP62913\tP31323\tP18077\tQ9UDW1\tA8MZF9\tQ3LXA3\tQ9BRX2\tA0AVT1\tP49902\tP05771\tF8WBA3\tC9JM75\tO15305\tP62191\tQ96JY6\tO75323\tCON__Q3SZR3\tQ9BWD1\tQ14152\tQ8NFY9\tA0A087X1G7\tQ9UET6\tP15880\tQ5RI15\tQ5F2F8\tP06280\tA0A0J9YXM6\tP50570\tP17927\tQ9BW83\tQ9Y3I0\tQ9NRF8\tQ15758\tQ8N3U4\tQ9NZQ3\tJ9JIC5\tE9PMJ2\tE7EX90\tP37235\tQ14997\tP84095\tP50583\tQ9Y230\tQ9NYU2\tO95168\tP18669\tB1ALK7\tQ92615\tO00182\tB4DR61\tF8W7Q4\tQ5TDF0\tF8W726\tQ9NS87\tP32780\tH0Y2S1\tG5E931\tQ16718\tQ9H490\tP41218\tO15118\tQ9Y6W5\tQ13084\tP09661\tQ15437\tP15104\tK7EIU8\tB8ZWD1\tO43143\tO43809\tC9IZ32\tQ05048\tQ5VZM2\tCON__P13647\tP30481\tQ96IU4\tQ9NZI8\tO43149\tQ5TEC6\tQ96GD0\tP35244\tQ2T9J0\tQ9HAV0\tQ6NZI2\tQ96JH7\tP49411\tP02743\tQ8TB52\tA0A0A0MRJ6\tQ99497\tQ13144\tC9JIF9\tQ96S44\tQ9H9Y2\tQ38SD2\tP09543\tA0A0A0MTL5\tF8W9W2\tD1MQ08\tQ5TD07\tQ13158\tG3V599\tCON__P02584\tJ3KMZ8\tG5E965\tP82675\tF5GYQ1\tE9PHN6\tQ9NUB1\tQ8N684\tQ5VSL9\tQ9BTG3\tO75439\tP38159\tQ02809\tQ7Z5L9\tM0R116\tQ8TEK8\tP13861\tQ9BT09\tP49327\tQ8N0X4\tO60783\tA0A0A0MRI1\tA0A0G2JHC2\tO94804\tA0A087X1Z3\tP13073\tQ15027\tQ96EL3\tU3KQC1\tP28072\tQ14139\tK7EM38\tH0YFN0\tQ13501\tCON__P17697\tQ53GQ0\tQ9NPJ6\tO43395\tO00635\tA0A087WVZ9\tK7ER95\tQ27J81\tQ9H7L9\tQ9UBM7\tX6R8F3\tP41240\tA0A0C4DFX7\tO00429\tX6RI37\tP51970\tM0R2A0\tF8WBW1\tQ5TB53\tQ5Y7A7\tP13498\tP04229\tP48637\tP04264\tQ96CN7\tO60231\tR4GN43\tO43747\tP24844\tQ9UI08\tA0A0A0MR74\tO94874\tQ9Y223\tI3L3E4\tP68402\tP31749\tA0A0A0MRL7\tJ3KR55\tD6RG39\tQ15067\tM0R300\tP12956\tQ9NV31\tP49914\tP56182\tP35813\tQ9H6R0\tH7BY10\tP31949\tA0A087WXF6\tQ05086\tP16403\tP10909\tQ9BY32\tQ969X5\tQ92598\tE9PRU3\tA0A087X2E5\tG3V169\tJ3QSS7\tQ52LJ0\tP41091\tP05109\tP52298\tCON__P02662\tQ5RKV6\tP42785\tX6R390\tQ13155\tQ7L592\tQ9Y6D5\tQ99467\tQ86SE9\tO15212\tA0A0D9SFL2\tQ15269\tQ969X6\tE9PER6\tP23381\tQ2TAL8\tP84077\tQ14980\tE9PPJ9\tO00159\tP55011\tQ07666\tO95989\tQ9P016\tQ8WU79\tQ14558\tQ9Y244\tP04259\tO60220\tK7ERN2\tP61604\tQ8IZH2\tP02787\tQ8IYU8\tQ13769\tQ09028\tG3V3J9\tQ9BTZ2\tE5RHX8\tQ9BRF8\tE9PJ81\tI3L397\tF5H4Z6\tP61026\tP36543\tB1AK87\tP62979\tI3L1P8\tQ13724\tC9IYS1\tQ6YN16\tB1AJY7\tE9PC15\tJ3KRS1\tQ96K37\tH3BPJ9\tQ9NVZ3\tQ96DP5\tQ9NVH6\tQ9H857\tQ15276\tF8VSC5\tA0A140T9T0\tP23634\tQ9BXJ9\tP32970\tQ13564\tP61006\tQ14331\tC9J652\tQ9UKX7\tI3L0N3\tP05091\tA0A087WX29\tP08754\tQ13868\tH7C3T2\tQ96PZ0\tQ7Z4H3\tA0A0U1RR27\tP42566\tQ9NR33\tR4GMT0\tP14921\tQ8ND24\tP48506\tQ9BV86\tQ9HDC9\tP10253\tA0A0A0MT33\tF6U236\tQ99615\tP55327\tG3V5Z3\tQ96CV9\tQ15637\tO75937\tP41223\tQ9NUQ8\tP02671\tO75530\tG3V203\tQ7L0Y3\tQ5T2R2\tO15400\tP13674\tA0A0R4J2G3\tQ05823\tP35626\tQ7RTV0\tQ9BR61\tO15247\tQ3YEC7\tO43264\tO43617\tQ13242\tQ6UVJ0\tQ2TAM5\tO75400\tQ9BZK7\tE9PQ57\tP02786\tG3V4N6\tQ8WVJ2\tQ96ES7\tC9J712\tQ9NVJ2\tQ9H2U2\tP00492\tA0A0A0MRV3\tQ5QPE7\tP55809\tP31947\tQ9Y259\tQ9HB71\tQ9UK61\tP82664\tQ9BVG4\tI3L1R7\tQ5Y7H0\tP60709\tP30050\tP38606\tQ86X55\tQ9Y3D8\tQ9UGJ1\tP62316\tQ13630\tP08670\tQ92600\tE9PG22\tF6VX93\tP62736\tB8ZZF8\tQ8IXI1\tQ13325\tP67809\tQ92522\tP30520\tQ15113\tG3V4C1\tP35998\tQ13416\tP00403\tE9PNW4\tO75348\tP61020\tP17096\tP04406\tH7C3P4\tI3L3E8\tQ8IYL3\tP25786\tCON__ENSEMBL:ENSBTAP00000031900\tP07237\tP17174\tO43852\tQ5UIP0\tA0A0D9SGD3\tQ9BSV6\tQ15417\tA1L0T0\tH0YA96\tQ96HA9\tP43405\tQ96FI4\tQ53H82\tQ9NUQ3\tP04181\tP00441\tA0A140T9R6\tM0QXB5\tE9PC44\tP46108\tQ8NAV1\tQ96SB8\tQ6XQN6\tP15927\tA0A087WYR3\tP43246\tQ9HD33\tC4B7M2\tQ2TAA2\tP05107\tQ6ZS81\tQ8WUX9\tQ9NSE4\tQ15404\tP54098\tO00154\tQ8NHG8\tQ5W0H4\tQ8IV08\tQ9UNX3\tP82673\tP14649\tO75607\tQ8IVS2\tA8K727\tA0A0C4DGX4\tA2A288\tF8VQE1\tO94915\tQ9H7E9\tQ9NRL2\tQ96EK9\tQ8IU81\tA0A0J9YWY6\tH7C1U8\tQ9NUQ9\tQ8N5M4\tREV__Q8TB45\tQ9BPX5\tQ9NYF8\tQ9UQE7\tP09497\tQ6PD74\tG3V153\tP20073\tQ86X27\tA0A0G2JNN3\tA0A0A0MRE5\tP31040\tQ12768\tJ3KNF4\tK7ERV3\tQ96K17\tI3L2W9\tQ53FA7\tQ93077\tQ9GZN8\tQ96BR5\tC9J0H3\tP17858\tP08574\tJ3QTS8\tQ13356\tQ8NCA5\tP16401\tP50395\tQ96CT7\tP61221\tQ8N6R0\tQ16543\tQ9Y5K6\tF5GWT4\tQ8IWA5\tA0A087WXM6\tC9J8T6\tCON__Q5D862\tO75792\tQ9P2E3\tQ9Y3D6\tQ9BXW7\tP07355\tF8VY35\tA0A0U1RRM1\tA0A087WVQ6\tQ16576\tQ9P2J5\tE9PK85\tQ9TQE0\tP42677\tQ13496\tO00299\tQ9Y5P4\tP47712\tP50225\tQ9Y5V3\tP09972\tP11940\tQ92506\tJ3KPH8\tO95373\tQ96JM3\tP58546\tO43913\tQ9H9B4\tP49588\tQ8WVM0\tQ15631\tQ06587\tQ9H8H3\tB0QY89\tQ9UBT2\tP82932\tA8MZ87\tG3V5T9\tP01859\tP08243\tQ13422\tA0A0A0MR09\tP45984\tA0A087WUD3\tO00505\tQ16513\tP20273\tQ8N201\tQ9Y617\tP52701\tQ9H1E5\tH0YLP6\tP50579\tP50552\tO43615\tQ9NRX4\tQ969H6\tQ9UKN8\tP67936\tP12235\tQ01664\tCON__ENSEMBL:ENSBTAP00000032840\tQ13185\tC9JBG0\tH0Y9X1\tQ9UMZ2\tP49792\tO00762\tC9JJM7\tQ96P11\tQ9UMX0\tP25789\tP20774\tE5RGZ2\tE9PB61\tP07585\tQ5T8U5\tP19474\tP05164\tP10809\tQ92759\tX5D2R7\tP80723\tQ9H871\tH3BRN4\tC9J5N1\tQ92574\tQ96JM7\tQ9BWF3\tG0XQ39\tE9PFK5\tP01042\tQ53FT3\tC9J7E8\tO94913\tO43676\tQ99460\tA6NEC2\tF5GWE5\tCON__P28800\tA0A0A0MSW4\tI3L2C7\tO15371\tP78345\tP24752\tQ9NZB2\tB6VEX4\tE9PHM2\tQ13595\tQ15438\tD6RIC3\tP55265\tO14617\tREV__F8VUB6\tQ9UBS4\tQ3KQZ1\tQ96SK2\tP62263\tF8W118\tP30101\tQ4G0J3\tO15269\tQ16795\tQ13825\tQ9NTM9\tP52948\tH3BUD0\tQ5JTZ9\tP61978\tO95155\tP23368\tQ5T2E7\tQ9NVG8\tQ5TH30\tQ7Z417\tQ5QPQ1\tP06132\tP42574\tO95295\tA0A0A0MQR2\tP21854\tQ01658\tQ05519\tP04844\tA0A0A0MRF6\tQ96GX9\tQ9NR45\tQ8N1B4\tQ9NPE3\tQ58FF8\tL0R6Q1\tQ9H4L7\tQ9P032\tA0A087X0P6\tQ9H8Y5\tB7Z7F3\tQ8TB36\tA0A1B0GUA1\tQ9NW64\tCON__Q3MHN5\tP55268\tF1T0I1\tA0A087WXC5\tC9JQV0\tREV__Q7Z745\tQ15650\tQ14676\tE7ETB3\tQ92854\tH0Y4I5\tP04040\tP18206\tH3BUD9\tQ92673\tO75380\tQ01650\tQ5HY81\tG5E9W9\tA0A1B0GTP7\tQ9Y263\tQ86W50\tQ9ULW0\tG3V4B8\tE9PF18\tQ16740\tJ3KR72\tQ9NS86\tH0YDK7\tQ04760\tX6R3T8\tP26583\tQ6PGP7\tQ3KQV9\tO95831\tP98170\tQ96BW5\tB5MDL5\tA0A0G2JNZ2\tREV__G3V3I1\tA0A0A0MTS7\tQ9UKU7\tQ9UFC0\tQ8NB90\tA0A087WTU3\tP56589\tF8W7U8\tQ07960\tG3V3G2\tQ14498\tQ92540\tA0A087X1J7\tQ8IWZ3\tQ6PKG0\tQ12974\tP46783\tA0A0G2JPL0\tO15511\tP46087\tQ7Z2T5\tP61626\tP41226\tQ92900\tH0YH69\tQ5TEJ8\tP52758\tF8W809\tQ14204\tP07311\tP18583\tP12004\tQ15642\tQ9NZ08\tQ9Y3A4\tQ8NE01\tQ06830\tO60711\tH3BLT9\tQ13011\tP30825\tA0A075B6N8\tQ13423\tQ96KP1\tQ16512\tQ8WY54\tQ7L1Q6\tQ6IA86\tP62820\tE7EN32\tQ6ZRP7\tQ5VYH9\tP46060\tQ05655\tP20023\tQ9UGM3\tP62314\tP55060\tE5RHP7\tP30504\tA6NEM5\tP10316\tP09467\tG3V533\tQ7L4I2\tP31994\tE9PF17\tQ7Z2Z2\tO75909\tJ3KSY6\tQ96Q11\tP39023\tQ9C026\tA0A0C4DG51\tQ92783\tP31942\tCON__P13645\tB9ZVT1\tQ6UWE0\tREV__B8ZZZ9\tQ9ULZ2\tQ86VP6\tP62081\tQ9Y6G9\tQ8IX12\tP51812\tA0A140T9I0\tQ9UHD9\tQ9Y6G5\tP39060\tE7ERU0\tQ9NRW3\tQ7Z6L1\tQ9UNX4\tQ8NHU0\tH3BND4\tP62701\tC9J4J4\tQ9BRZ2\tQ9H583\tP07814\tH0Y764\tQ8NCE2\tQ13023\tQ96QR8\tQ9UEE9\tJ3QS48\tO60678\tQ9H993\tP54687\tK7ELL7\tP48507\tQ9BV57\tQ9HCE1\tA0A0A0MS08\tI3L3Y2\tQ96N66\tQ9Y305\tQ9UNP9\tP53990\tQ9BX95\tH0YNJ6\tQ5JRX3\tB0QY91\tA0A0A0MS45\tP62306\tH3BLU7\tO43592\tQ8TDZ2\tQ9BQ95\tQ16706\tQ9NWZ3\tQ04917\tO95834\tA8MTH1\tQ8IYS1\tQ5SP00\tP08559\tQ9Y399\tO00767\tE9PHY5\tP20340\tQ9Y4R8\tO76071\tP16455\tQ15075\tQ8N2K0\tQ9BXL7\tQ96DA6\tC9J128\tQ6NXE6\tQ9Y6H1\tO00148\tQ8NHV1\tQ8NDH3\tQ15814\tQ15746\tQ8N766\tH3BQQ9\tQ86VN1\tQ08J23\tK7EK07\tQ8NEZ2\tQ7L513\tQ9Y4L1\tP31689\tE9PH64\tQ8WXX5\tO15143\tQ8WY22\tM0QYN0\tP68036\tP63172\tQ9UJA5\tQ9H2G2\tQ9HBM1\tQ9Y2Z0\tJ3KN32\tQ53EL6\tP62318\tA0A0U1RQC1\tQ7Z5R6\tO75791\tP00338\tQ8N0U8\tQ15102\tQ96JB5\tC9JS59\tQ4G176\tP60953\tQ96G25\tQ15018\tQ8N108\tQ99661\tC9JA28\tP11215\tQ9Y2C4\tA0A0A0MRZ8\tO95861\tQ9NYH9\tF5H0W4\tP33992\tP00738\tP14866\tA0A0G2JQ41\tQ5VYS8\tA0A0C4DGQ6\tQ02750\tQ96HE7\tC9JLU1\tP16402\tQ05469\tA0A0C4DFM7\tP0DN79\tQ9UIS9\tQ14566\tREV__Q6V0I7\tQ99538\tQ9NXW9\tP00813\tQ9BRA2\tP35249\tQ9UJX5\tQ9UKK3\tP56937\tP17252\tQ9NZN3\tQ9HC16\tP11021\tE9PGF5\tP42773\tO14957\tQ9UNS1\tE9PM75\tH0YKL0\tQ96IX5\tQ9Y5L4\tP17050\tQ8N8A6\tE7EV84\tE7ESY4\tP53602\tH7BYN4\tA0A087X0K0\tO60234\tQ9UBW7\tA0A0C4DFN1\tP61970\tQ86T03\tV9GY02\tF8W7U3\tF5H7S3\tO96008\tP85037\tA0A075B7B1\tQ9Y512\tQ96EM0\tP16885\tQ9NW82\tP30154\tG3V2M5\tP83436\tP48147\tQ14699\tC9JR56\tQ9H553\tJ3QRS8\tQ9NXA8\tQ9UI09\tB5MC98\tQ9H2K8\tP27707\tP55957\tI3L3J4\tQ9UBB6\tQ5VZY9\tE7EM64\tQ96D53\tM0QZR4\tQ92905\tQ86U90\tQ9Y6K5\tQ16643\tH3BP20\tQ9P2D7\tQ5TCU3\tREV__H0YK92\tQ12888\tQ9UDT1\tA0A096LNV3\tQ13618\tQ9UIG0\tF8VXU5\tP19623\tP21333\tQ9BYB4\tP61758\tQ96II5\tP40925\tQ96F07\tQ9NY12\tO43823\tK7EIG1\tF6QUN3\tQ93084\tG3V394\tQ15032\tK7EJE8\tP51148\tA0A0G2JQ62\tQ9NP72\tP07948\tP23469\tH3BTH6\tQ9UI12\tH0YNP9\tCON__Q1RMK2\tA0A024RA52\tQ9HB07\tP62993\tQ9NQ50\tQ9Y224\tP52732\tQ6P1L8\tP00558\tQ86XL3\tA0A087WY61\tP52565\tQ6DU44\tO00116\tQ9H488\tB1AMU7\tA0A0B4J2A0\tD6RF35\tQ8N1G4\tQ8NEM2\tJ3KPT4\tC9JU35\tO15067\tQ96S59\tQ5TCI6\tO60880\tP25942\tO00410\tP25325\tQ4G0N4\tQ9Y490\tQ96C90\tP17655\tP55884\tA0A0A0MS54\tJ3QSX6\tO60240\tP48449\tK7ENL9\tP39019\tQ8WVC0\tQ8TCJ2\tQ969E2\tQ9Y3B4\tQ8ND56\tV9GYD9\tQ5T6K7\tQ63ZY3\tB7WPG3\tE9PPN3\tQ8N4Q0\tJ3QLQ2\tB7Z6D5\tP08133\tP49368\tQ8NBX0\tQ9Y383\tH3BRL3\tB7ZC39\tQ9HCC0\tCON__Q9TTE1\tG3XAL8\tP28331\tQ96HR3\tP42345\tP28907\tB4DTS2\tQ9HAU5\tQ14289\tD6R938\tP61247\tP51692\tQ16854\tP33991\tREV__P09382\tREV__P46821\tQ8NC44\tC9JCC6\tQ75QN2\tP04899\tQ5T5C7\tO95379\tP30086\tP52907\tQ01831\tP02452\tE5RJZ1\tQ96AB3\tP32019\tH0YB62\tF8VVA7\tP42226\tG5E933\tA0A087WUV8\tQ16186\tF8W7C6\tP30508\tP55081\tQ99828\tP61769\tP17813\tO75367\tQ96RW7\tQ5T4U5\tQ9H0H5\tE9PHI6\tQ8NE71\tP23458\tH7BZW6\tO14920\tC9JFR7\tQ13131\tQ10469\tQ504Q3\tQ9UBV2\tQ6ZMI0\tQ96RQ9\tJ3KS22\tO75717\tO15254\tQ86UV5\tP30405\tQ86UA1\tH7BZJ3\tQ9H9P8\tQ9BQ69\tQ9NWY4\tI3L1H5\tQ13469\tF8WD26\tQ9Y2I1\tE5RIP4\tP56385\tP18433\tB0I1T2\tQ9UPN7\tQ8WTT2\tQ9Y584\tQ9Y450\tP57081\tQ9NYB0\tO14929\tA0A0C4DG88\tD3DQV9\tQ96A65\tQ13813\tG8JLQ3\tA0A0A0MT02\tM0R2B7\tO60828\tK7EJ08\tE9PDE4\tQ9UKG1\tCON__Q2KJF1\tQ99614\tQ96E39\tE9PIK8\tO00161\tQ32MZ4\tQ5VUA4\tQ9Y3Z3\tA0A087WYS1\tO43583\tD6RB01\tO60684\tQ9Y6V7\tQ5JU21\tP00387\tQ9NWX6\tO14744\tQ8NFH4\tQ07954\tO14828\tP57772\tQ9Y5P6\tP61457\tQ14137\tQ9NR09\tF8W038\tP33241\tQ53ET0\tO15020\tQ13263\tQ9Y2V2\tA0A0A0MTS6\tCON__Q2KJ62\tF2Z2W7\tG5E9Z2\tA0A0U1RRL5\tQ92995\tCON__P00735\tQ9P1F3\tP13667\tQ15750\tP19971\tQ9H7Z7\tQ9Y547\tV9GYY5\tA0A0A0MT60\tP07741\tA0A0A0MS51\tP57088\tQ92979\tP11586\tQ9BUL8\tREV__A4D1F6\tC9J4Z3\tQ5JVZ5\tP09917\tC9JLC0\tQ9NQ88\tH7BYJ3\tQ7LC14\tQ86Y39\tP53634\tO60287\tO00160\tQ96GS4\tP48047\tP12429\tO43865\tB5MDF5\tO60313\tP20290\tP53985\tQ8TBA6\tQ3ZCM7\tQ9UG56\tQ5MIZ7\tJ3KN87\tC9JA08\tP52272\tQ9NRG9\tO75995\tP09132\tO76094\tQ14678\tQ9Y5S9\tQ13243\tQ86UY6\tR4GNC0\tQ9BQ04\tF5H4R1\tREV__Q7Z5Q1\tQ96TA2\tQ93100\tP84103\tCON__Q8VED5\tC9JIZ6\tQ14116\tQ9P2R7\tCON__Q9UE12\tQ5QJE6\tP62070\tE9PNT2\tQ9GZT8\tQ99797\tQ5T093\tA0A0C4DFQ1\tQ96C23\tP07686\tP30043\tG3V4S6\tB2WTI3\tQ6GMV2\tO43294\tP21817\tQ8IV04\tP01023\tP53384\tQ14690\tQ969Q0\tQ8WUM4\tQ5QPR4\tQ7L5D6\tO00267\tO43920\tO75164\tQ16658\tG3V1A6\tD6RHU3\tP61018\tQ96BW9\tO75915\tQ6IAA8\tB0QYD3\tQ9NVT9\tQ9H6R4\tQ9UNN5\tP62714\tP06493\tQ9UHG3\tF5H5D3\tQ9UHL4\tP13804\tQ96N11\tA0A087X271\tQ9H061\tQ9Y316\tP49720\tA0A0G2JR38\tH7BYP4\tP14324\tQ5JWT2\tQ9NZ63\tJ3QRS9\tQ9BXP5\tQ96BX8\tQ9HC38\tQ12802\tO15397\tG3V5Z7\tQ9NU22\tP43403\tQ9UBV8\tO75438\tA0A087X0V5\tP55010\tQ8IV63\tQ12972\tO43813\tQ13526\tO95365\tA0A1B0GWJ0\tO43516\tQ9UGR2\tG3V4A5\tQ95365\tQ9UGI8\tM0QYT9\tB8ZZQ6\tD6RAF1\tO00273\tQ6NUK1\tQ9H3K6\tQ9BUF5\tQ9BUT1\tQ96SU4\tQ9BU02\tJ3QSU6\tC9JEN3\tO15379\tF5H7T0\tW5RWE6\tK7ELJ7\tP02749\tCON__ENSEMBL:ENSBTAP00000024146\tA0A087WUQ6\tP11233\tE7EVA0\tQ9UBB4\tO43396\tQ2KHT3\tP49189\tA0A0C4DGV9\tQ8TD19\tE9PMT5\tP51948\tQ99426\tQ5QNY5\tQ01780\tH7BZY9\tK7EL62\tQ15648\tREV__H7BYM2\tO43324\tA0A087WU65\tP35270\tP42025\tQ8N3C0\tQ9P035\tG3V256\tQ15542\tQ9NPJ3\tQ6N069\tQ8WVC2\tQ13542\tQ13045\tH3BRE8\tQ8IYB7\tQ30154\tP08708\tO95777\tP22033\tQ96J02\tQ9BZQ8\tQ05707\tD6RAM3\tQ9Y228\tF8VZJ2\tO75419\tO75746\tQ9C037\tS4R3W9\tO43242\tK7EM09\tQ9HD15\tQ9H845\tQ96HY6\tA6NKB5\tA0A0A0MRI2\tQ96JG6\tP47897\tREV__H7C3M4\tP01137\tREV__Q6DHV7\tP01876\tQ9H3M7\tF5GXX5\tP69905\tQ9NXC5\tP51116\tF8VYN9\tQ16540\tQ3LIE7\tQ13464\tP42166\tQ9NVM6\tA0A0A0MRR7\tH0YNG3\tP02649\tQ92520\tQ9UI26\tJ3QSV6\tQ9HB90\tP14635\tH0YA52\tQ15366\tM0QZP6\tQ8TCE6\tQ712K3\tO95816\tP10319\tP62753\tP22830\tP25685\tH0Y6Y6\tQ14258\tQ14789\tP56192\tQ03701\tE5RGS4\tP13473\tQ8TAE8\tP10301\tE9PE82\tQ9Y3L3\tJ3QRJ1\tP11912\tO75569\tQ96GM5\tO43660\tO00178\tP42338\tP40926\tJ3QQJ5\tE9PR30\tP52594\tQ9HCS7\tP68366\tO43252\tP35754\tQ13823\tQ9BUH6\tQ96ER3\tP31930\tP06753\tQ12904\tQ9Y333\tP48681\tE7EVK2\tA0A0A0MST8\tA0A0U1RR39\tQ13435\tQ9BXY0\tP98179\tREV__G3V5X4\tQ7Z4V5\tP06730\tQ96T23\tQ9H1Y0\tP31939\tH7BYV1\tC9JG97\tB3KQ30\tB5MDU6\tQ9H4L5\tQ8N5L8\tH7C0X4\tP05106\tF5H3Y4\tP04839\tQ5JVY0\tQ92541\tP12532\tP62253\tA0A0D9SG72\tB1AP13\tQ9BV79\tQ9UBI6\tP40938\tP11216\tP33897\tQ9NZL4\tA8MW78\tQ92696\tP35610\tC9JXB8\tA0A0G2JMH6\tP04066\tP20039\tJ3QRS3\tA0A024RBT2\tG3V3H3\tP45974\tQ12778\tQ9Y5M8\tA0A0C4DFL7\tE7ES33\tO15111\tH0YDU8\tQ8WZA9\tQ8NF50\tQ96DB5\tQ06323\tB1AKD8\tM0R1T5\tQ9Y5A9\tQ58FF6\tK7EM18\tQ9GZP4\tQ9NWT1\tP10415\tQ9UG63\tA0A087X020\tP00966\tO43665\tP51570\tP30044\tJ3KN01\tP50914\tP49961\tQ8N7H5\tP04843\tP09110\tA0A0C4DFZ2\tQ5T160\tK7EJR3\tP10515\tE9PQZ5\tP98095\tF5GYV5\tP11279\tP37837\tE9PMQ6\tQ96T58\tQ8MH48\tQ13107\tH0Y8X4\tP62424\tE9PIM6\tQ9Y6A5\tQ9UMS0\tQ5VVL7\tC9JNE2\tA3KMH1\tQ96S55\tREV__Q9UIA9\tX5CMH5\tQ9H4A4\tP35573\tQ9Y2L9\tA0A0X1KG75\tD3DTX6\tQ8IWZ6\tP83111\tREV__Q9UPN3\tP45973\tA0A0G2JH68\tQ9H0Q0\tQ96RT1\tQ8WVI0\tE7EVH9\tQ9Y2P8\tQ8WZ82\tQ9UKW4\tQ9HAD4\tQ96G03\tP43121\tA0A087WUT6\tQ5SZR4\tQ6IAK0\tQ9UHV9\tQ15181\tP20618\tCON__Q58D62\tE7ENX8\tP53007\tP55735\tA0A087WY71\tP86791\tQ9Y4W6\tQ10713\tQ4G0I0\tQ8IXM3\tP01911\tQ6XZF7\tF5GZS6\tQ96C19\tQ92619\tQ9NSI2\tO95747\tO60942\tQ8NDT2\tP22307\tP35555\tE9PL17\tQ9NTJ5\tQ96HR9\tQ9H3P7\tQ6P179\tREV__K7EJT7\tP04217\tP11166\tP38117\tQ86WV1\tP43897\tQ00535\tA0A087WYJ9\tC9JGR9\tQ13162\tP30153\tA0A0A0MS41\tH3BQQ2\tQ14320\tO60739\tP52566\tK7EMQ3\tQ99878\tQ96I24\tQ14765\tO75368\tP30519\tQ9NV96\tQ9Y277\tQ86WJ1\tP10412\tO95394\tREV__Q9H7D0\tF5H0M4\tV9GYM8\tQ9H089\tQ9NP97\tO00487\tQ92734\tP02675\tQ9Y6D6\tO96019\tQ6VY07\tP27797\tE9PP40\tP02647\tQ6PL18\tP33993\tQ5VXJ5\tQ9BUB7\tJ3KNL2\tP49754\tJ3QLP3\tQ8NHV4\tQ3KQU3\tQ9NRG0\tA0A087X0S5\tH0Y990\tQ9Y3C4\tP84090\tP61106\tP34810\tO60664\tO43929\tH3BNT2\tQ9P2K3\tQ3SXM5\tE7EXA6\tD3YTK1\tQ16698\tE7EQB2\tH3BMT0\tP40227\tQ01082\tA8K878\tA0A0A0MRK1\tQ9UJX3\tP52888\tF8VU90\tQ06546\tQ9BQC3\tR9WNI0\tE5RJV7\tP25788\tB5MBZ0\tQ8N5N7\tP04080\tA0A087X1N7\tJ3QQW9\tK7EMW4\tP62140\tQ9BSE5\tQ9NWU2\tQ9Y315\tP14927\tP14543\tP01009\tP07858\tQ7L266\tP30041\tQ9Y697\tQ9UNS2\tP62829\tP02766\tD6RIZ4\tQ96EH3\tE9PK67\tP04083\tA0A087WUW6\tP30419\tQ9NZN4\tA0A0G2JIW1\tQ9HAV7\tCON__Q3ZBD7\tB4E2Q0\tO75934\tF5GX77\tA0A0C4DFM1\tP06576\tA0A087X0R6\tJ3QRD1\tQ16778\tE7ETZ4\tQ9BYT8\tP32321\tJ3KPP4\tP78371\tQ12788\tQ8IU85\tE9PN70\tB4DKY1\tQ573B4\tQ96S19\tQ9Y2R0\tQ8WU40\tA0A0A0MRM8\tQ9P2D3\tQ8WU90\tQ9ULV4\tQ9BVI4\tO94822\tB4DK25\tQ9UHD8\tQ7Z4Q2\tB1AHD1\tA0A0A0MR02\tP54727\tP56279\tA4IF30\tH7C2Z6\tO75691\tP16333\tQ9H9A6\tQ7Z5K2\tG3V1B8\tA8MX75\tQ15046\tP14854\tQ8IX90\tO95475\tE7EVY0\tQ15021\tQ8N5M9\tQ92922\tQ68D91\tR4GMU8\tH7C0N4\tJ3QQR8\tE7EQZ4\tH3BR35\tQ86YS7\tA6PW57\tP00491\tK7EIN2\tO43707\tQ14240\tB8ZZA8\tP51178\tP12273\tP09382\tQ07820\tQ8N3X1\tP41214\tP08236\tQ969Q5\tQ13867\tR4GMN1\tP00367\tP42704\tC9JP00\tQ16891\tQ9Y6A4\tO75436\tP54922\tO60885\tQ7Z460\tA0A087X0Q9\tO95573\tP61201\tJ3KN67\tF8W689\tE9PFZ1\tH0YFA4\tP21953\tQ9BW61\tQ9BSC4\tQ9H773\tQ96EK6\tP23743\tH7BXZ6\tC9J719\tO14921\tA0A087X1N3\tO95391\tB1ANH0\tP00325\tJ3KQ99\tQ15717\tP50748\tH0YNJ9\tE9PIN3\tO43521\tQ02878\tQ8TDP1\tE7EQ69\tQ6P3X3\tA6NIH7\tP61086\tO43427\tQ69YN2\tJ3KNN3\tJ3KNN7\tP62280\tQ9BW19\tP50990\tP60468\tE9PI87\tCON__Q3SZH5\tP23946\tO75925\tQ9Y5Q9\tJ3KNS1\tQ86YV0\tA0A087WZR3\tQ9Y266\tQ9BY44\tQ96A49\tQ9NWQ8\tQ9H223\tP27105\tQ6YP21\tQ56VL3\tP40259\tA0A087X1B7\tP26640\tP56537\tO60488\tF5H6I7\tQ8NFI3\tB1ANR0\tP31350\tP19878\tS4R3P5\tP15498\tQ6ZSZ5\tQ9H9Q2\tQ3ZCQ8\tP13929\tA0A0A0MR33\tQ96QD9\tQ96AG4\tP51398\tI1E4Y6\tP50416\tP21810\tJ3KPX7\tG3V4F2\tB1AKC8\tO75955\tQ9H4G4\tQ9P265\tA0A0U1RRH6\tA0A087X2I1\tH0Y4R8\tP48723\tI3VM54\tO75534\tQ9NY93\tO95630\tQ9Y3T9\tP20160\tQ9Y295\tH3BPK3\tQ6P1N0\tB4DI03\tP62879\tP42858\tQ0VDF9\tQ969E4\tREV__Q8TDJ6\tQ9UQ80\tQ71UI9\tP08758\tQ9BU76\tA6NMQ3\tE7EVL6\tQ6AI08\tQ12800\tD4Q8H0\tE9PIT5\tO95881\tE9PJH7\tP61158\tP35579\tQ6ZUJ8\tP27361\tQ12882\tQ01469\tQ6PCE3\tO15541\tQ13283\tQ13077\tE9PKC5\tQ9Y4C8\tP23284\tQ9NY61\tQ96EL2\tJ3QR09\tQ96RF0\tQ96M27\tQ8IUI4\tQ14315\tE9PRY8\tQ9UNW1\tQ9H6S0\tP13807\tQ9BSJ2\tQ9UKD2\tA0A0C4DGS1\tREV__A0A087X1G4\tQ8N4Q1\tE5RGC7\tQ5JXI8\tI3L4X2\tA0A0B4J2A4\tI3L0A0\tE9PM69\tQ9H444\tO75828\tP14151\tQ7Z6Z7\tQ9Y2H1\tU3KQP3\tQ02252\tP62328\tP49903\tQ7KZF4\tF2Z2Y8\tA0A087WXN4\tB4DJV2\tP12081\tQ7Z7H8\tJ3KNB4\tP12236\tD6RIE3\tO95466\tO43156\tQ96CX2\tA0A024RCR6\tA6NKZ2\tQ15393\tQ01518\tQ9P287\tP33981\tA0A087WVR3\tE9PBD8\tP31751\tP15374\tA2ACR1\tQ96A08\tQ9BVC6\tQ09161\tQ9UL26\tP36406\tQ86VR2\tQ9UHD1\tQ15910\tP04424\tP14598\tC9JYQ9\tH0Y2Y8\tQ9Y613\tP62917\tQ5GLZ8\tQ14145\tQ9Y5L0\tQ14108\tA2A274\tP17987\tQ96RL1\tQ9NVH2\tQ9HBH0\tM0QYT5\tP08240\tP63167\tQ9Y3D9\tF8VW96\tQ9Y6C9\tQ15052\tQ8N0W3\tP42356\tG3XAM7\tP36957\tA0A0G2JQW1\tA0A140T9W2\tP51151\tQ9BX68\tP12111\tQ8IWA0\tH7C580\tQ03135\tF8WCF6\tO00743\tQ9H2P0\tQ99543\tQ12907\tE7ENR5\tQ5T6W2\tQ6PID6\tP61960\tP48735\tQ96RG2\tQ9Y5X3\tQ9UH65\tQ32P41\tQ13619\tO75821\tQ12933\tO95671\tG3V4U0\tQ5SR50\tQ5SWX8\tQ8TC12\tQ99714\tP31025\tO95721\tF5H0C4\tJ3QS41\tP15924\tH0Y7Y7\tO00186\tQ8NBF2\tQ8IZ07\tH3BN02\tQ9UL03\tQ8N5M1\tD6RFM0\tQ8TED0\tQ9Y3B9\tQ15813\tQ8WU76\tQ14247\tQ8TEX9\tQ9ULC5\tI3L0P9\tQ00403\tQ14195\tP14317\tA0A0G2JJD3\tQ9ULX6\tP06733\tP00167\tP17661\tP45954\tP01040\tQ9H9F9\tQ9ULR0\tQ01813\tO14949\tQ8N8A2\tP02462\tQ8NC51\tQ96B97\tQ13568\tQ9NRW1\tP49454\tP45985\tQ96AG3\tQ5T7C4\tC9IY88\tO15145\tCON__P08779\tQ9BYD1\tH0YKP9\tCON__P41361\tO60506\tQ6P587\tQ5TG12\tP60174\tG5EA06\tQ9BT25\tH7C2Q8\tP08572\tQ7Z6U0\tP62942\tV9GY58\tO95202\tQ9UL18\tP11177\tP51571\tP63104\tC4P0D6\tP49795\tQ9NQW7\tP05198\tQ02790\tB5MCF9\tO14974\tA0A0G2JPB6\tP49721\tQ16560\tH0Y6A0\tQ9NQZ2\tP06748\tP46940\tO76062\tA0A1C7CYX9\tP19367\tQ9NT62\tO15144\tQ95604\tQ9ULE6\tC9J3L8\tQ15208\tQ99653\tA0A0J9YW64\tQ9NZ01\tO75131\tQ12872\tP17931\tQ5QP56\tQ9C0I1\tF5H4M0\tH0YE76\tP24534\tQ9HAV4\tA0A0A0MR85\tS4R435\tO75223\tH0YJ75\tE7EPT4\tQ9UJS0\tP82912\tP21912\tQ9UP83\tQ86UE4\tG3V1P5\tH7C4W6\tH3BTA2\tQ86VU5\tQ9H8G2\tO43776\tO95182\tQ9Y3P8\tQ96PU4\tP79483\tP07384\tP55084\tQ14005\tQ9Y2S2\tP61981\tO14602\tREV__Q8WZ42\tH7C4M9\tQ53F23\tQ7Z2W9\tP51580\tP25705\tP62269\tQ9HCN8\tA0A0C4DGT8\tP00846\tE9PFZ2\tH7C0G7\tJ3QQM5\tQ5JSP0\tP49755\tQ15008\tQ96S97\tP15088\tO60884\tA0A087WTA8\tQ9Y221\tA0A087X0H9\tA0A087WTV6\tO00483\tP50148\tQ5R372\tA0A0A0MS59\tQ8ND76\tF8W1R7\tP34059\tQ86TI0\tQ9UID3\tP55072\tQ9Y3U8\tP63313\tA0A087WT20\tQ15054\tQ9NQS7\tQ9NZA1\tQ9NQR4\tQ13228\tQ8TBC4\tE7EQ61\tQ13085\tP41250\tX5D2U9\tO43159\tQ9HC84\tF8VSD1\tQ8WW59\tQ9NPF4\tP62851\tQ9Y487\tQ9Y6X5\tQ9H814\tQ9Y2I7\tP26641\tF5H5U2\tP30084\tQ15365\tE7EMP6\tC9JFE4\tC9JVE2\tQ9H2P9\tF5H5P2\tQ8IY26\tB4E1Z4\tA0A1B0GVC7\tQ6P6C2\tQ12873\tE7ERI8\tO60927\tE9PJK1\tQ9Y5X2\tQ5STX8\tX6R433\tQ6GMV3\tQ9NR12\tA0A087WYN9\tB8ZZ77\tQ5JVF3\tP53701\tQ8NEW0\tE9PB90\tQ9BY43\tREV__Q9NQT8\tO60921\tB4DHE8\tCON__Q28107\tQ99471\tP29374\tP62805\tE9PM35\tP36542\tP62633\tQ9NPD3\tK7EK35\tQ9UFW8\tP37108\tQ9Y2X0\tP49790\tQ15084\tP54136\tREV__E9PN67\tP62834\tC9JL30\tA0A087WYC8\tC9JRZ6\tA0A0C4DGA6\tQ9UJU6\tQ6IBS0\tC9JQV3\tD6RIB3\tQ9BZZ2\tE9PN91\tP27694\tP51665\tA0A087WXL6\tQ86U42\tP42575\tE7EQN5\tP30085\tB4DUC8\tE9PJE4\tO19617\tQ9UJZ1\tQ8NI60\tQ92538\tQ96P48\tP50750\tREV__E9PMZ8\tP50238\tQ9BW91\tP50995\tQ7L9B9\tQ9NSD9\tP62906\tP51809\tQ9Y2B0\tQ9UL25\tH0YA68\tQ14694\tB5MC51\tQ15233\tE7ESL0\tP49748\tQ13509\tO75964\tK7EJH0\tQ8NEC6\tQ9NTX5\tP14618\tP41208\tP20591\tQ9H974\tP35580\tREV__E7EV88\tO94842\tP05141\tP52333\tP28070\tP53367\tP31146\tQ9P0B6\tP24666\tG3V1L6\tO14656\tQ15172\tP32455\tQ9NZJ9\tQ12840\tO75396\tP11678\tP60981\tQ96KB5\tP13489\tP12268\tQ9UKZ1\tQ9P107\tP11717\tI3L0B8\tQ16134\tQ9BW92\tO60341\tQ14CX7\tQ9UDY8\tREV__A6NES4\tH3BTA0\tQ9Y2Q3\tQ92820\tP36269\tREV__H0Y5R0\tP20963\tQ9H0U4\tK7ER15\tCON__P02533\tP47985\tP53597\tB7ZKJ8\tQ9ULZ3\tO95864\tF5GZN3\tP62266\tQ15907\tB0QY04\tR4GNH3\tQ08380\tP51884\tA0A075B738\tG3V286\tO76031\tP37268\tP30040\tP15153\tQ4KMP7\tQ14684\tQ9BV20\tP50213\tS5FZ81\tP60891\tC9J0I9\tH7C5A7\tQ14966\tQ9UKM9\tCON__Q9TRI1\tO43566\tQ9BVQ7\tQ4V9L6\tP01111\tQ8N697\tP29353\tP08579\tQ9Y3F4\tA2A3S1\tP21266\tQ9Y285\tO00425\tF8VPD4\tP56377\tQ96QG7\tP04792\tQ8WXD5\tQ9BYD2\tP47914\tQ6PI48\tH3BSW0\tP17612\tCON__P17690\tP22234\tQ86UX7\tA0A087X2D5\tC0KTE2\tQ7L2H7\tP12110\tP67775\tQ14761\tP31327\tA0A087X0J2\tG5E9C0\tA0A0A6YYA0\tQ14166\tQ04837\tQ9C0E8\tQ13428\tP46100\tP51858\tF8WF69\tQ9BZE9\tP13796\tQ9UDT6\tP38646\tX6RLT1\tQ6TFL3\tE5RIW3\tA0A0B4J287\tP63261\tC9IY40\tQ9BRX5\tP55263\tP01834\tP11142\tQ92733\tP10768\tP04075\tF8VRH0\tQ8IYD1\tQ9Y3A6\tREV__H7BYJ3\tQ9UFN0\tP26196\tP56134\tE7EMN6\tQ9HCE5\tP22059\tD6RCD0\tQ9GIY3\tQ9Y570\tA0A087X0D5\tQ96LJ7\tP41252\tQ96IJ6\tQ92608\tQ14011\tQ06187\tQ8WUY1\tJ3QLD9\tQ08257\tQ9NYY8\tQ13177\tQ9NV56\tQ8IWT0\tO75420\tA6NML8\tQ9Y4W2\tP61088\tQ7Z406\tO60256\tP34897\tP30048\tQ9BVK6\tP08311\tREV__K4DI83\tG3V150\tH0YAY3\tA0A0G2JNZ5\tQ8IWZ8\tQ5VZ73\tQ00534\tA0A0J9YXC7\tA0A087WYP2\tQ15847\tH3BPE1\tP11171\tP36639\tE9PF19\tQ13488\tP50402\tP04818\tB1ALD9\tH0YN26\tP27986\tE5RFU2\tP62258\tP54278\tP61962\tG3V470\tQ8IY85\tC9JL26\tQ9HBH5\tQ15007\tP30046\tO14745\tQ8WZA0\tQ12931\tP40939\tO75146\tP26373\tQ9NX46\tQ7L775\tP27144\tO75822\tQ13347\tP61160\tP54709\tP30711\tV9GY48\tO75695\tX6R5Z6\tK7ESE6\tO96017\tP32456\tQ9Y217\tCON__Q29443\tA0A140T915\tM0QYE0\tQ96DV4\tP20839\tQ13576\tQ9BXP2\tP18754\tQ8TBP6\tQ9H078\tP08238\tQ16594\tO15127\tQ99766\tP49736\tP35232\tQ9Y3Q8\tQ9BYV8\tH0YG79\tB1AMS2\tP51608\tA0A075B6F9\tQ9BXS6\tQ9UEU0\tQ93034\tQ9NUJ1\tQ96SI9\tF5H081\tP11498\tQ9BSJ8\tP43686\tA0A0J9YXF2\tP02042\tA0A0G2JRD1\tCON__Q3SX09\tQ06203\tQ8WU39\tP60842\tE7EVQ6\tQ15042\tE7EVZ5\tQ969U7\tQ14008\tQ14257\tQ8N335\tQ8IUF8\tQ96P70\tQ6KC79\tP14780\tQ6PJ69\tP49247\tP62487\tP60228\tP16949\tQ9C0J8\tP05023\tQ01105\tQ13257\tO00418\tQ7KZ85\tQ9NYK5\tA6NHB5\tQ86Y82\tQ86V21\tD6RD17\tE9PGC0\tF5H2B9\tQ70CQ2\tG5E9W7\tP22102\tP07305\tA0A087WUC6\tP54619\tD6RAC5\tP52209\tQ9BRX8\tK7EK60\tP40306\tQ9H4L4\tQ9NVS9\tQ9NXG2\tE9PDE8\tQ5Y7D2\tO60493\tQ9UBQ5\tE9PKV2\tA0A0C4DFN3\tP01019\tQ9BU61\tP11908\tO15160\tQ9NXK8\tA0A087WZK0\tQ9H2W6\tQ13907\tREV__P04114\tQ5EP54\tQ9ULC4\tA0A0G2JN29\tQ9Y2Q0\tQ9Y320\tP23921\tQ5BKZ1\tD6RGK9\tS6FRS6\tA6NFX8\tJ3KPQ4\tCON__A2A5Y0\tA6NP52\tQ9BTV4\tQ86WA6\tA0A087X0W9\tA0A0G2JRY5\tQ9Y237\tE9PNP3\tQ12846\tG5EA09\tQ5SRE5\tP01116\tF6WIT2\tQ9UMX5\tP22695\tQ13601\tE7ETA6\tQ9Y2L1\tQ8WVM8\tQ07065\tO75489\tQ9H9J2\tQ96JB2\tQ92793\tQ8IX18\tP62873\tQ86Y56\tA0A0A0MQS1\tQ9BTA9\tQ96H79\tA0A087WTJ2\tP55160\tJ3KRA9\tX6R5C5\tQ92947\tQ6P2H3\tP00505\tO60268\tE9PMV2\tQ9Y5R8\tP68371\tQ10589\tP11388\tC9IZF6\tQ9NVI7\tQ9Y3I1\tQ5T280\tQ86WV6\tQ7LGA3\tQ9BRT6\tQ9Y2U5\tQ5T1Z0\tQ9H8S9\tP30049\tQ6ZT07\tP14625\tQ13561\tQ7L1T6\tQ9H4A6\tQ9Y276\tJ3KNN5\tX6R4H8\tK7ERP4\tCON__Q95121\tQ12789\tQ96QK1\tQ86TI2\tQ92917\tQ9BS26\tP39880\tQ9BVJ6\tREV__Q5RHP9\tP46977\tQ9Y2R4\tO75928\tREV__Q9C0D4\tQ15833\tP08473\tQ13795\tP28066\tREV__Q8TCE1\tQ95IE3\tQ2NL82\tC9JYN0\tCON__ENSEMBL:ENSBTAP00000016046\tJ3KQL8\tQ9BSF4\tQ9BV44\tP84085\tP36915\tP04004\tQ4VC31\tP49257\tQ9NY33\tQ02218\tA0A0A0MTP7\tP34896\tP28074\tQ70J99\tP25098\tE9PIP3\tQ9NP77\tP00374\tO14818\tQ96I99\tF8WBI9\tH3BSB3\tQ15738\tS4R3A2\tH0YL53\tQ8NBY1\tE9PHH9\tP27695\tQ9BVP2\tO60244\tQ15785\tQ9BU89\tQ6P589\tP38919\tP36578\tK3W4U1\tI3L3B4\tA0A024R6I7\tA0A067XG54\tA0A075B7D9\tA0A087WSZ2\tA0A087WTE5\tA0A087WTM5\tA0A087WU53\tA0A087WUV9\tA0A087WX41\tA0A087WXF7\tA0A087WXM8\tF5GWT2\tA0A087X0K9\tA0A087X0N2\tA0A087X1E4\tA0A087X1N4\tA0A087X1W2\tA0A0G2JQX1\tA0A087X208\tA0A0A0MTC7\tA0A0A0MR98\tA8K968\tA0A0A0MRJ7\tC9J7M8\tA0A0A0MS18\tA0A0A0MS70\tA0A0A0MSE7\tA0A0A0MSI8\tS4R3Z2\tA0A0A0MSU4\tA0A0A0MTB9\tA0A0A0MTC0\tA0A0B4J1X5\tA0A0B4J207\tE9PLD3\tA0A0C4DFL8\tA0A0C4DGN4\tE7EU35\tA0A0C4DGZ1\tA0A0C4DH14\tA0A0C4DH41\tA0A0D9SEY1\tA0A0D9SFD2\tA0A0D9SFS2\tA0A140T9V0\tA0A182DWF4\tH0Y6K2\tA0A0G2JMB2\tA0A0G2JPF8\tA0A0J9YXN7\tA0A0J9YY99\tA0A0M3HER2\tD6RD48\tA0A0U1RQV3\tA0A140T9C0\tA0A140T941\tA0A1B0GVU1\tC9J1X0\tA5A3E0\tA6NCN2\tA6NF31\tE7ET76\tA6NGY5\tA6NNI4\tA6NNM8\tA8MUH2\tA8MZH8\tA8MXR1\tB0QYW5\tB0YIW2\tB1AKG0\tB1AKV2\tB1AKY9\tB1AP46\tB4DDD6\tB4DGI9\tB4DGU4\tB4DHR0\tB4DLD3\tB4DML5\tB4DNG0\tB4E3H9\tB5MBX5\tB5MCB4\tB5MCW2\tB7Z645\tD6RE77\tB7ZBB8\tB8ZZ93\tB8ZZB8\tB8ZZZ4\tB9EGQ5\tB9TX33\tC9JQE8\tC9J406\tC9J977\tH7C5Q0\tC9JBI3\tC9JC87\tC9JF66\tC9JJ54\tC9JKA9\tC9JS50\tC9JW01\tC9JZR2\tCON__ENSEMBL:ENSBTAP00000007350\tCON__ENSEMBL:ENSBTAP00000025008\tCON__O76009\tCON__O95678\tCON__P01030\tCON__P02070\tCON__P02538\tCON__P02666\tCON__P02754\tCON__P04259\tCON__P07224\tCON__P08727\tCON__P20930\tCON__P35908\tCON__P78386\tCON__Q04695\tCON__Q0V8M9\tCON__Q28085\tCON__Q2KJC7\tCON__Q61726\tCON__Q6NXH9\tCON__Q8N1N4-2\tF5H1T9\tCON__Q9N2I2\tCON__Q9TT36\tF6U1T9\tD6RA12\tD6RDU9\tD6REY1\tD6RFW1\tD6RGG3\tD6RGJ2\tE5RH13\tE5RIH5\tE5RJY1\tE7EMB8\tG5E950\tE7EQ72\tE7EQY1\tE9PCS8\tE7EU05\tE7EW32\tE9PB93\tE9PBL0\tE9PEM5\tU3KPX1\tE9PHK0\tE9PJ05\tE9PK54\tE9PPF9\tE9PMA0\tE9PND5\tE9PP55\tE9PQ56\tE9PS97\tF5GXJ9\tF5GZZ0\tF5H070\tF5H0F9\tJ3KT57\tF5H136\tF5H6I6\tF5H702\tF8VS10\tF8VVI6\tF8VZY9\tF8W0G4\tF8W0J4\tF8W9X7\tF8WEU8\tG3V0G5\tG3V1N2\tG3V4P2\tG3XAI2\tG3XAP6\tG8JLD5\tH0Y2X1\tH0Y3C5\tH0Y621\tH7C377\tH0Y9Q1\tH0YM23\tH0YME5\tH0YNC7\tH3BQA6\tH3BT22\tH3BTB7\tH3BTE6\tH3BUV8\tH7C1H2\tH7C1I7\tH7C4T5\tH7C507\tI3L2J1\tI3L378\tJ3KMY0\tJ3KMZ9\tJ3KND1\tJ3KNV4\tJ3KP58\tJ3KPA1\tJ3KRC5\tJ3KSY2\tJ3KTD8\tJ3KTN0\tK7EIT4\tK7ELD8\tK7EKH7\tK7ELG9\tK7EMD9\tK7EP08\tK7ESF4\tK7ESI6\tK7N7A8\tM0R1E3\tM0R2L2\tM0R346\tO00287\tO00330\tO00763\tO14545\tO14686\tO14777\tO15213\tO15446\tO15523\tO43164\tO43379\tO43866\tO43927\tO60518\tQ9H772\tO75064\tO75326\tO75529\tO75594\tO75600\tO75616\tO75629\tO75648\tO75891\tQ5QPB1\tO94819\tO94916\tO94927\tO94992\tO95139\tO95239\tO95716\tO95810\tO95936\tP00747\tP01008\tP01594\tP01730\tP01782\tP01833\tP01889\tP01891\tP02461\tP02549\tP02747\tQ5VY30\tP02760\tP04003\tP04150\tP05186\tP05423\tP05997\tP06727\tP06729\tP06732\tP06756\tP07357\tP07360\tP07451\tP08246\tP08294\tP08603\tP0C0L4\tP0DJI8\tP0DJI9\tP10153\tP10643\tP11277\tP12277\tP12544\tP12724\tP12838\tP14222\tP15144\tP16157\tP16188\tP16189\tP17213\tP18428\tP19827\tP20248\tP20592\tP21397\tP21583\tP21695\tP22612\tP22894\tP22897\tP23141\tP23142\tP23378\tP25054\tP25445\tP26022\tP27169\tX1WI28\tP29508\tP30038\tP30447\tP30453\tP30461\tP30462\tP30466\tP30480\tP31944\tP33908\tP34910\tP35609\tP40261\tP41222\tP42261\tP42695\tP42898\tP46019\tP46527\tP49711\tP49863\tP50440\tP51636\tP52790\tP54652\tP56282\tP60059\tP60604\tQ5T179\tP62699\tP63096\tP69892\tP79522\tP80748\tQ01970\tX6RAJ1\tQ02413\tQ05315\tQ05BQ5\tQ05D32\tQ05GC8\tQ06828\tQ07000\tQ07075\tQ08881\tQ08AS3\tQ12962\tQ12981\tQ13033\tQ13445\tQ13472\tQ13761\tQ5JUE9\tQ13948\tQ14142\tQ14181\tQ5JSB5\tQ147X3\tQ14894\tQ14914\tQ14956\tQ15058\tQ15669\tQ16270\tQ16563\tQ16633\tQ16647\tQ17R31\tQ17RN3\tQ2NKX8\tQ2TB10\tQ3V6T2\tQ49AR2\tQ4G0F5\tQ567V2\tQ5EBM0\tQ5HYI8\tQ5JRA6\tQ5JSZ5\tQ5S007\tQ5T1C6\tQ5T1J1\tQ5T5I6\tQ5T9C2\tQ5TC82\tQ68D20\tQ6I9Y2\tQ6K0P9\tQ6P9F0\tQ6S8J3\tQ6U949\tQ6UUV7\tQ6UW78\tQ6UWY5\tQ6WKZ4\tQ6ZN40\tQ6ZR64\tQ7Z3T8\tQ7Z4H7\tQ7Z4H8\tQ7Z6B0\tQ7Z6V5\tQ86VD7\tQ86WN1\tQ86WU2\tQ86WV7\tQ86XI2\tQ86YP4\tQ8IUX7\tQ8IVN8\tQ8IWE2\tQ8IXQ6\tQ8IXU6\tQ8IY57\tQ8N302\tQ8N357\tQ8N5Y8\tQ8N6N3\tQ8N6S5\tQ8NBM4\tQ8NBN3\tQ8NBU5\tQ8ND98\tQ8NDB2\tQ8NFQ8\tQ8NHP8\tQ8TB45\tQ8TDQ7\tQ8TET4\tQ8TF66\tQ8WUQ7\tQ8WV19\tQ8WVX9\tQ92626\tQ92667\tQ969R5\tQ969Y2\tQ96AJ9\tQ96AT1\tQ96BD8\tQ96D15\tQ96FJ0\tQ96MF7\tQ96PM5\tQ96QD8\tQ96QV6\tQ96R06\tQ99442\tX6RFN3\tQ99549\tQ99611\tQ99935\tQ9BRT9\tQ9BTX7\tQ9BV73\tQ9BW72\tQ9BW85\tQ9BX66\tQ9BXD5\tQ9BXN1\tQ9BYD5\tQ9BYJ9\tQ9BZ95\tQ9C0B7\tQ9C0C2\tQ9H0F7\tQ9H0R6\tQ9H3G5\tQ9H4B7\tQ9H5V9\tQ9H832\tQ9H8L6\tQ9NNX6\tQ9NPF0\tQ9NQC3\tQ9NR16\tQ9NRY4\tQ9NUQ7\tQ9NUT2\tQ9NVC6\tQ9NVK5\tQ9NVQ4\tQ9NVR5\tQ9NVV4\tX6REY2\tQ9NX55\tQ9NXZ2\tQ9NY15\tQ9NZT1\tQ9P0J7\tQ9P0M6\tQ9P275\tQ9P2G3\tQ9UBP0\tQ9UEY8\tQ9UIW2\tQ9UJU2\tQ9UK39\tQ9UKJ3\tQ9ULV0\tQ9Y2J8\tQ9Y2Y8\tQ9Y3S2\tQ9Y478\tQ9Y4E6\tQ9Y673\tQ9Y680\tQ9Y692\tQ9Y6X8\tREV__A0A0B4J249\tREV__E9PDR3\tREV__B4E0K5\tREV__E9PFW2\tREV__H3BRB3\tREV__O95295\tREV__Q14008\tREV__Q15052\tREV__Q5SXM2\tREV__Q5T795\tREV__Q6UN15\tREV__Q8NA54\tREV__Q8WVM8\tREV__Q9Y3R5\tV9GYF8\tC:\"\n",
       "  at sun.misc.FloatingDecimal.readJavaFormatString(FloatingDecimal.java:2043)\n",
       "  at sun.misc.FloatingDecimal.parseDouble(FloatingDecimal.java:110)\n",
       "  at java.lang.Double.parseDouble(Double.java:538)\n",
       "  at scala.collection.immutable.StringLike$class.toDouble(StringLike.scala:284)\n",
       "  at scala.collection.immutable.StringOps.toDouble(StringOps.scala:29)\n",
       "  at $anonfun$1$$anonfun$apply$1.apply(<console>:33)\n",
       "  at $anonfun$1$$anonfun$apply$1.apply(<console>:33)\n",
       "  at scala.collection.TraversableLike$$anonfun$map$1.apply(TraversableLike.scala:234)\n",
       "  at scala.collection.TraversableLike$$anonfun$map$1.apply(TraversableLike.scala:234)\n",
       "  at scala.collection.IndexedSeqOptimized$class.foreach(IndexedSeqOptimized.scala:33)\n",
       "  at scala.collection.mutable.ArrayOps$ofRef.foreach(ArrayOps.scala:186)\n",
       "  at scala.collection.TraversableLike$class.map(TraversableLike.scala:234)\n",
       "  at scala.collection.mutable.ArrayOps$ofRef.map(ArrayOps.scala:186)\n",
       "  at $anonfun$1.apply(<console>:33)\n",
       "  at $anonfun$1.apply(<console>:33)\n",
       "  at scala.collection.Iterator$$anon$11.next(Iterator.scala:409)\n",
       "  at org.apache.spark.storage.memory.MemoryStore.putIteratorAsValues(MemoryStore.scala:216)\n",
       "  at org.apache.spark.storage.BlockManager$$anonfun$doPutIterator$1.apply(BlockManager.scala:1005)\n",
       "  at org.apache.spark.storage.BlockManager$$anonfun$doPutIterator$1.apply(BlockManager.scala:996)\n",
       "  at org.apache.spark.storage.BlockManager.doPut(BlockManager.scala:936)\n",
       "  at org.apache.spark.storage.BlockManager.doPutIterator(BlockManager.scala:996)\n",
       "  at org.apache.spark.storage.BlockManager.getOrElseUpdate(BlockManager.scala:700)\n",
       "  at org.apache.spark.rdd.RDD.getOrCompute(RDD.scala:334)\n",
       "  at org.apache.spark.rdd.RDD.iterator(RDD.scala:285)\n",
       "  at org.apache.spark.rdd.MapPartitionsRDD.compute(MapPartitionsRDD.scala:38)\n",
       "  at org.apache.spark.rdd.RDD.computeOrReadCheckpoint(RDD.scala:323)\n",
       "  at org.apache.spark.rdd.RDD$$anonfun$8.apply(RDD.scala:336)\n",
       "  at org.apache.spark.rdd.RDD$$anonfun$8.apply(RDD.scala:334)\n",
       "  at org.apache.spark.storage.BlockManager$$anonfun$doPutIterator$1.apply(BlockManager.scala:1005)\n",
       "  at org.apache.spark.storage.BlockManager$$anonfun$doPutIterator$1.apply(BlockManager.scala:996)\n",
       "  at org.apache.spark.storage.BlockManager.doPut(BlockManager.scala:936)\n",
       "  at org.apache.spark.storage.BlockManager.doPutIterator(BlockManager.scala:996)\n",
       "  at org.apache.spark.storage.BlockManager.getOrElseUpdate(BlockManager.scala:700)\n",
       "  at org.apache.spark.rdd.RDD.getOrCompute(RDD.scala:334)\n",
       "  at org.apache.spark.rdd.RDD.iterator(RDD.scala:285)\n",
       "  at org.apache.spark.scheduler.ResultTask.runTask(ResultTask.scala:87)\n",
       "  at org.apache.spark.scheduler.Task.run(Task.scala:99)\n",
       "  at org.apache.spark.executor.Executor$TaskRunner.run(Executor.scala:322)"
      ]
     },
     "execution_count": 13,
     "metadata": {},
     "output_type": "execute_result"
    }
   ],
   "source": [
    "import org.apache.spark.mllib.clustering.{GaussianMixture, GaussianMixtureModel}\n",
    "import org.apache.spark.mllib.linalg.Vectors\n",
    "\n",
    "\n",
    "// Cluster the data into two classes using GaussianMixture\n",
    "val gmm = new GaussianMixture().setK(2).run(parsedData)\n",
    "\n",
    "// Save and load model\n",
    "gmm.save(sc, \"target/org/apache/spark/GaussianMixtureExample/GaussianMixtureModel\")\n",
    "val sameModel = GaussianMixtureModel.load(sc,\n",
    "  \"target/org/apache/spark/GaussianMixtureExample/GaussianMixtureModel\")\n",
    "\n",
    "// output parameters of max-likelihood model\n",
    "for (i <- 0 until gmm.k) {\n",
    "  println(\"weight=%f\\nmu=%s\\nsigma=\\n%s\\n\" format\n",
    "    (gmm.weights(i), gmm.gaussians(i).mu, gmm.gaussians(i).sigma))\n",
    "}"
   ]
  },
  {
   "cell_type": "code",
   "execution_count": 5,
   "metadata": {},
   "outputs": [
    {
     "data": {
      "text/plain": [
       "Name: Compile Error\n",
       "Message: <console>:1: error: illegal start of definition\n",
       "             .setMaster(\"local[2]\")\n",
       "             ^\n",
       "StackTrace: "
      ]
     },
     "execution_count": 5,
     "metadata": {},
     "output_type": "execute_result"
    }
   ],
   "source": []
  },
  {
   "cell_type": "code",
   "execution_count": null,
   "metadata": {
    "collapsed": true
   },
   "outputs": [],
   "source": []
  },
  {
   "cell_type": "code",
   "execution_count": 8,
   "metadata": {
    "collapsed": true
   },
   "outputs": [],
   "source": [
    "import org.apache.spark.mllib.stat.KernelDensity\n",
    "import org.apache.spark.rdd.RDD\n",
    "\n",
    "// an RDD of sample data\n",
    "val data: RDD[Double] = sc.parallelize(Seq(1, 1, 1, 2, 3, 4, 5, 5, 6, 7, 8, 9, 9))\n",
    "\n",
    "// Construct the density estimator with the sample data and a standard deviation\n",
    "// for the Gaussian kernels\n",
    "val kd = new KernelDensity().setSample(data).setBandwidth(3.0)\n",
    "\n",
    "// Find density estimates for the given values\n",
    "val densities = kd.estimate(Array(-1.0, 2.0, 5.0))"
   ]
  },
  {
   "cell_type": "code",
   "execution_count": 9,
   "metadata": {},
   "outputs": [
    {
     "name": "stdout",
     "output_type": "stream",
     "text": [
      "[D@7268eab1"
     ]
    }
   ],
   "source": [
    "print(densities)"
   ]
  }
 ],
 "metadata": {
  "kernelspec": {
   "display_name": "Apache Toree - Scala",
   "language": "scala",
   "name": "apache_toree_scala"
  },
  "language_info": {
   "file_extension": ".scala",
   "name": "scala",
   "version": "2.11.8"
  }
 },
 "nbformat": 4,
 "nbformat_minor": 2
}
