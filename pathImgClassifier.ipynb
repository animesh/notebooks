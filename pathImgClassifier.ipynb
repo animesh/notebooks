{
 "cells": [
  {
   "cell_type": "code",
   "execution_count": 1,
   "metadata": {
    "ExecuteTime": {
     "end_time": "2018-10-03T09:58:15.850281Z",
     "start_time": "2018-10-03T09:58:14.618490Z"
    }
   },
   "outputs": [
    {
     "name": "stdout",
     "output_type": "stream",
     "text": [
      "/mnt/promec-data/notebooks\n",
      "train\t\t       train_labeled_studies.csv  valid_image_paths.csv\n",
      "train_image_paths.csv  valid\t\t\t  valid_labeled_studies.csv\n"
     ]
    }
   ],
   "source": [
    "!pwd\n",
    "!ls /mnt/promec-data/notebooks/MURA-v1.1\n",
    "#!ls /mnt/promec-data/notebooks/MURA-v1.1/train/*/*/*/*.png"
   ]
  },
  {
   "cell_type": "code",
   "execution_count": 2,
   "metadata": {
    "ExecuteTime": {
     "end_time": "2018-10-04T08:00:42.957963Z",
     "start_time": "2018-10-04T08:00:42.951459Z"
    }
   },
   "outputs": [],
   "source": [
    "from pathlib import Path\n",
    "pathmura = Path('/mnt/promec-data/notebooks/MURA-v1.1')"
   ]
  },
  {
   "cell_type": "code",
   "execution_count": 3,
   "metadata": {
    "ExecuteTime": {
     "end_time": "2018-10-04T08:01:04.999371Z",
     "start_time": "2018-10-04T08:00:45.071564Z"
    }
   },
   "outputs": [],
   "source": [
    "trainlist=list(pathmura.glob('train/XR_SHOULDER/*/*/*.png'))"
   ]
  },
  {
   "cell_type": "code",
   "execution_count": 35,
   "metadata": {
    "ExecuteTime": {
     "end_time": "2018-10-04T09:37:30.180697Z",
     "start_time": "2018-10-04T09:37:30.173681Z"
    }
   },
   "outputs": [
    {
     "data": {
      "text/plain": [
       "99"
      ]
     },
     "execution_count": 35,
     "metadata": {},
     "output_type": "execute_result"
    }
   ],
   "source": [
    "trainlistclip=trainlist[0:99]\n",
    "len(trainlistclip)"
   ]
  },
  {
   "cell_type": "code",
   "execution_count": 45,
   "metadata": {
    "ExecuteTime": {
     "end_time": "2018-10-04T09:37:53.501309Z",
     "start_time": "2018-10-04T09:37:53.166017Z"
    }
   },
   "outputs": [
    {
     "data": {
      "image/png": "[encoded data removed]",
      "text/plain": [
       "<Figure size 432x288 with 1 Axes>"
      ]
     },
     "metadata": {
      "needs_background": "light"
     },
     "output_type": "display_data"
    }
   ],
   "source": [
    "import numpy as np\n",
    "import cv2\n",
    "from matplotlib import pyplot as plt\n",
    "img = cv2.imread(str(trainlistclip[1]),0)\n",
    "plt.imshow(img, cmap = 'gray', interpolation = 'bicubic')\n",
    "plt.show()"
   ]
  },
  {
   "cell_type": "code",
   "execution_count": 41,
   "metadata": {
    "ExecuteTime": {
     "end_time": "2018-10-04T08:03:34.572835Z",
     "start_time": "2018-10-04T08:03:34.086648Z"
    }
   },
   "outputs": [
    {
     "data": {
      "text/html": [
       "<div>\n",
       "<style scoped>\n",
       "    .dataframe tbody tr th:only-of-type {\n",
       "        vertical-align: middle;\n",
       "    }\n",
       "\n",
       "    .dataframe tbody tr th {\n",
       "        vertical-align: top;\n",
       "    }\n",
       "\n",
       "    .dataframe thead th {\n",
       "        text-align: right;\n",
       "    }\n",
       "</style>\n",
       "<table border=\"1\" class=\"dataframe\">\n",
       "  <thead>\n",
       "    <tr style=\"text-align: right;\">\n",
       "      <th></th>\n",
       "      <th>MURA-v1.1/train/XR_SHOULDER/patient00001/study1_positive/image1.png</th>\n",
       "    </tr>\n",
       "  </thead>\n",
       "  <tbody>\n",
       "    <tr>\n",
       "      <th>0</th>\n",
       "      <td>MURA-v1.1/train/XR_SHOULDER/patient00001/study...</td>\n",
       "    </tr>\n",
       "    <tr>\n",
       "      <th>1</th>\n",
       "      <td>MURA-v1.1/train/XR_SHOULDER/patient00001/study...</td>\n",
       "    </tr>\n",
       "    <tr>\n",
       "      <th>2</th>\n",
       "      <td>MURA-v1.1/train/XR_SHOULDER/patient00002/study...</td>\n",
       "    </tr>\n",
       "    <tr>\n",
       "      <th>3</th>\n",
       "      <td>MURA-v1.1/train/XR_SHOULDER/patient00002/study...</td>\n",
       "    </tr>\n",
       "    <tr>\n",
       "      <th>4</th>\n",
       "      <td>MURA-v1.1/train/XR_SHOULDER/patient00002/study...</td>\n",
       "    </tr>\n",
       "  </tbody>\n",
       "</table>\n",
       "</div>"
      ],
      "text/plain": [
       "  MURA-v1.1/train/XR_SHOULDER/patient00001/study1_positive/image1.png\n",
       "0  MURA-v1.1/train/XR_SHOULDER/patient00001/study...                 \n",
       "1  MURA-v1.1/train/XR_SHOULDER/patient00001/study...                 \n",
       "2  MURA-v1.1/train/XR_SHOULDER/patient00002/study...                 \n",
       "3  MURA-v1.1/train/XR_SHOULDER/patient00002/study...                 \n",
       "4  MURA-v1.1/train/XR_SHOULDER/patient00002/study...                 "
      ]
     },
     "execution_count": 41,
     "metadata": {},
     "output_type": "execute_result"
    }
   ],
   "source": [
    "import pandas as pd\n",
    "pd.read_csv((pathmura /'train_image_paths.csv')).head(5)"
   ]
  },
  {
   "cell_type": "code",
   "execution_count": 12,
   "metadata": {
    "ExecuteTime": {
     "start_time": "2018-10-07T12:37:20.351Z"
    }
   },
   "outputs": [
    {
     "name": "stdout",
     "output_type": "stream",
     "text": [
      "0 268.2054443359375\n",
      "1 249.2822265625\n",
      "2 216.98880004882812\n",
      "3 178.0712890625\n",
      "4 138.46934509277344\n",
      "5 102.3250961303711\n",
      "6 71.95303344726562\n",
      "7 49.0667724609375\n",
      "8 34.374725341796875\n",
      "9 27.18994140625\n",
      "10 25.471538543701172\n",
      "11 26.309167861938477\n",
      "12 26.838186264038086\n",
      "13 25.60868263244629\n",
      "14 22.56279945373535\n",
      "15 18.754634857177734\n",
      "16 15.374798774719238\n",
      "17 13.098860740661621\n",
      "18 12.018614768981934\n",
      "19 11.801742553710938\n",
      "20 11.963985443115234\n",
      "21 12.05952262878418\n",
      "22 11.809654235839844\n",
      "23 11.073331832885742\n",
      "24 9.859655380249023\n",
      "25 8.290274620056152\n",
      "26 6.561008930206299\n",
      "27 4.910613059997559\n",
      "28 3.567502975463867\n",
      "29 2.6995949745178223\n",
      "30 2.369462490081787\n",
      "31 2.506934642791748\n",
      "32 2.925344228744507\n",
      "33 3.3786704540252686\n",
      "34 3.6412887573242188\n",
      "35 3.580151319503784\n",
      "36 3.1887943744659424\n",
      "37 2.5641422271728516\n",
      "38 1.8647180795669556\n",
      "39 1.2434489727020264\n",
      "40 0.8035155534744263\n",
      "41 0.5797255039215088\n",
      "42 0.5449361801147461\n",
      "43 0.6346837282180786\n",
      "44 0.7720900177955627\n",
      "45 0.8906323909759521\n",
      "46 0.9469959735870361\n",
      "47 0.9257433414459229\n",
      "48 0.8354219198226929\n",
      "49 0.700772762298584\n",
      "50 0.552746057510376\n",
      "51 0.41940319538116455\n",
      "52 0.31914129853248596\n",
      "53 0.25804242491722107\n",
      "54 0.2309686541557312\n",
      "55 0.22561237215995789\n",
      "56 0.22778154909610748\n",
      "57 0.226101815700531\n",
      "58 0.21477720141410828\n",
      "59 0.19390951097011566\n",
      "60 0.1678052544593811\n",
      "61 0.1422797590494156\n",
      "62 0.12211545556783676\n",
      "63 0.10946941375732422\n",
      "64 0.1036188006401062\n",
      "65 0.10172740370035172\n",
      "66 0.10019761323928833\n",
      "67 0.0960230901837349\n",
      "68 0.08770578354597092\n",
      "69 0.07552545517683029\n",
      "70 0.061201661825180054\n",
      "71 0.04715413227677345\n",
      "72 0.035654738545417786\n",
      "73 0.028146669268608093\n",
      "74 0.02491053193807602\n",
      "75 0.025126418098807335\n",
      "76 0.027254778891801834\n",
      "77 0.0295711737126112\n",
      "78 0.0306722279638052\n",
      "79 0.029805613681674004\n",
      "80 0.02695459872484207\n",
      "81 0.022698892280459404\n",
      "82 0.017931856215000153\n",
      "83 0.01354663074016571\n",
      "84 0.010187257081270218\n",
      "85 0.008123575709760189\n",
      "86 0.0072580138221383095\n",
      "87 0.007233656011521816\n",
      "88 0.007589651737362146\n",
      "89 0.007908881641924381\n",
      "90 0.007918572053313255\n",
      "91 0.007525597233325243\n",
      "92 0.006792239844799042\n",
      "93 0.005874113645404577\n",
      "94 0.0049469489604234695\n",
      "95 0.004147153813391924\n",
      "96 0.0035404504742473364\n",
      "97 0.0031211308669298887\n",
      "98 0.002834590384736657\n",
      "99 0.0026099677197635174\n",
      "100 0.0023895283229649067\n",
      "101 0.002145900158211589\n",
      "102 0.0018838385585695505\n",
      "103 0.0016297826077789068\n",
      "104 0.0014154515229165554\n",
      "105 0.0012626033276319504\n",
      "106 0.0011743452632799745\n",
      "107 0.0011347526451572776\n",
      "108 0.0011156834661960602\n",
      "109 0.0010871385456994176\n",
      "110 0.0010271415812894702\n",
      "111 0.0009278802899643779\n",
      "112 0.0007964449469000101\n",
      "113 0.0006509448285214603\n",
      "114 0.000513566832523793\n",
      "115 0.0004033856966998428\n",
      "116 0.00033107720082625747\n",
      "117 0.00029690569499507546\n",
      "118 0.0002920494880527258\n",
      "119 0.00030239514308050275\n",
      "120 0.0003132537822239101\n",
      "121 0.00031345142633654177\n",
      "122 0.0002977153635583818\n",
      "123 0.0002669396926648915\n",
      "124 0.00022661553521174937\n",
      "125 0.0001843146892497316\n",
      "126 0.00014703525812365115\n",
      "127 0.00011926423030672595\n",
      "128 0.00010222088167211041\n",
      "129 9.41749894991517e-05\n",
      "130 9.159594628727064e-05\n",
      "131 9.056404087459669e-05\n",
      "132 8.802974480204284e-05\n",
      "133 8.249130769399926e-05\n",
      "134 7.406822987832129e-05\n",
      "135 6.405952444765717e-05\n",
      "136 5.422542380983941e-05\n",
      "137 4.6081542677711695e-05\n",
      "138 4.041664215037599e-05\n",
      "139 3.716415085364133e-05\n",
      "140 3.556336014298722e-05\n",
      "141 3.452039891271852e-05\n",
      "142 3.304318670416251e-05\n",
      "143 3.052172178286128e-05\n",
      "144 2.6881758458330296e-05\n",
      "145 2.2518626792589203e-05\n",
      "146 1.8090604498866014e-05\n",
      "147 1.4277152331487741e-05\n",
      "148 1.1562568943190854e-05\n",
      "149 1.0099372957483865e-05\n",
      "150 9.718907676870003e-06\n",
      "151 1.001704549707938e-05\n",
      "152 1.0498228220967576e-05\n",
      "153 1.0733445378718898e-05\n",
      "154 1.0459296390763484e-05\n",
      "155 9.614831469662022e-06\n",
      "156 8.328106559929438e-06\n",
      "157 6.8334838942973875e-06\n",
      "158 5.389938451116905e-06\n",
      "159 4.201895080768736e-06\n",
      "160 3.3764224554033717e-06\n",
      "161 2.9161640213715145e-06\n",
      "162 2.738840976235224e-06\n",
      "163 2.7218459308642196e-06\n",
      "164 2.7413011594035197e-06\n",
      "165 2.709614363993751e-06\n",
      "166 2.5849205940176034e-06\n",
      "167 2.3722930109215667e-06\n",
      "168 2.105972725985339e-06\n",
      "169 1.8288011460754205e-06\n",
      "170 1.5786688436492113e-06\n",
      "171 1.3748538094660034e-06\n",
      "172 1.2180516932858154e-06\n",
      "173 1.0968000196953653e-06\n",
      "174 9.934544777934207e-07\n",
      "175 8.938788482737436e-07\n",
      "176 7.921098585939035e-07\n",
      "177 6.902017730681109e-07\n",
      "178 5.967840479570441e-07\n",
      "179 5.205960178500391e-07\n",
      "180 4.6638126605103025e-07\n",
      "181 4.344227022556879e-07\n",
      "182 4.18666900259268e-07\n",
      "183 4.094578116564662e-07\n",
      "184 3.969298632000573e-07\n",
      "185 3.743653564924898e-07\n",
      "186 3.3885146422107937e-07\n",
      "187 2.9234740850370144e-07\n",
      "188 2.4137682430591667e-07\n",
      "189 1.931778399466566e-07\n",
      "190 1.538956979629802e-07\n",
      "191 1.271980636374792e-07\n",
      "192 1.1321363047045452e-07\n",
      "193 1.0945446149435156e-07\n",
      "194 1.1093093377212426e-07\n",
      "195 1.1314243408833136e-07\n",
      "196 1.1220336659789609e-07\n",
      "197 1.0648361836729237e-07\n",
      "198 9.60651007630986e-08\n",
      "199 8.261567074896448e-08\n",
      "200 6.843107769327617e-08\n",
      "201 5.578716155696384e-08\n",
      "202 4.626540928143186e-08\n",
      "203 4.004979459182323e-08\n",
      "204 3.674978543699581e-08\n",
      "205 3.522642799680398e-08\n",
      "206 3.41393189273731e-08\n",
      "207 3.24862448053409e-08\n",
      "208 2.9976384041674464e-08\n",
      "209 2.65703512525306e-08\n",
      "210 2.2786037945365933e-08\n",
      "211 1.930070858691124e-08\n",
      "212 1.642613689512018e-08\n",
      "213 1.4541567061598926e-08\n",
      "214 1.3542583943149111e-08\n",
      "215 1.307621566581929e-08\n",
      "216 1.2851398167867956e-08\n",
      "217 1.2354676393044883e-08\n",
      "218 1.146433170617911e-08\n",
      "219 1.0142044537531092e-08\n",
      "220 8.511190863202955e-09\n",
      "221 6.855532141969434e-09\n",
      "222 5.363701038874069e-09\n",
      "223 4.331991654282774e-09\n",
      "224 3.7255731832885886e-09\n",
      "225 3.5677811816015037e-09\n",
      "226 3.6199134800796173e-09\n",
      "227 3.775497692259933e-09\n",
      "228 3.8672287594465615e-09\n",
      "229 3.755915134462384e-09\n",
      "230 3.462042430513179e-09\n",
      "231 3.0049334132087324e-09\n",
      "232 2.4806414700151436e-09\n",
      "233 1.956069972663954e-09\n",
      "234 1.536500482401948e-09\n",
      "235 1.2339728128196725e-09\n",
      "236 1.062103738291853e-09\n",
      "237 1.0024314711643e-09\n",
      "238 9.879255191691527e-10\n",
      "239 9.921992116801448e-10\n",
      "240 9.75125424851342e-10\n",
      "241 9.187234861762761e-10\n",
      "242 8.47412584548124e-10\n",
      "243 7.469479479382812e-10\n",
      "244 6.325836521270389e-10\n",
      "245 5.296609817406761e-10\n",
      "246 4.510258833079206e-10\n",
      "247 3.885821386884203e-10\n",
      "248 3.4609209942360053e-10\n",
      "249 3.281295790635852e-10\n",
      "250 3.0950925156147946e-10\n",
      "251 2.950732991280347e-10\n",
      "252 2.716381564127346e-10\n",
      "253 2.4434604339873545e-10\n",
      "254 2.1132010030733284e-10\n",
      "255 1.7376244887401526e-10\n",
      "256 1.4185314034520502e-10\n",
      "257 1.1820121270655903e-10\n",
      "258 1.0216445744948288e-10\n",
      "259 8.770140863534337e-11\n",
      "260 8.009713725609657e-11\n",
      "261 7.665123397115892e-11\n",
      "262 7.453943018376208e-11\n",
      "263 7.526814588265651e-11\n",
      "264 7.221336029150649e-11\n",
      "265 6.999754248449008e-11\n",
      "266 6.685219045010626e-11\n",
      "267 6.014700543177653e-11\n",
      "268 5.0657224942574075e-11\n",
      "269 4.34515964875537e-11\n",
      "270 3.5555221961081074e-11\n",
      "271 2.8040344351998314e-11\n",
      "272 2.2067507543521714e-11\n",
      "273 1.7483344633140163e-11\n",
      "274 1.3469829418522039e-11\n",
      "275 1.1924496112758476e-11\n",
      "276 1.0886760243300486e-11\n",
      "277 1.0718811255250316e-11\n",
      "278 1.0610259199017591e-11\n",
      "279 1.0155289803526202e-11\n",
      "280 1.0295399949233897e-11\n",
      "281 1.031060653522431e-11\n",
      "282 9.402680023473664e-12\n",
      "283 9.194721373173564e-12\n",
      "284 7.978517152507081e-12\n",
      "285 7.77766046011763e-12\n",
      "286 7.061524975870981e-12\n",
      "287 6.3535392225144705e-12\n",
      "288 5.155396942679857e-12\n",
      "289 4.295404310017403e-12\n",
      "290 3.408422849515702e-12\n",
      "291 3.1359706498257367e-12\n",
      "292 2.472504839756695e-12\n",
      "293 2.25478663518075e-12\n",
      "294 2.114093622385127e-12\n",
      "295 1.809892513637834e-12\n",
      "296 1.6366318023042226e-12\n",
      "297 1.5893050764326233e-12\n",
      "298 1.5741366543586821e-12\n",
      "299 1.3345227700689577e-12\n",
      "300 1.301438123935128e-12\n",
      "301 1.2780401736911529e-12\n",
      "302 1.197021648469132e-12\n",
      "303 1.0961578866819366e-12\n",
      "304 1.0810588535470345e-12\n",
      "305 1.0609638168013191e-12\n",
      "306 1.0735093369795834e-12\n",
      "307 1.0624071067333318e-12\n",
      "308 9.373508913501638e-13\n",
      "309 9.23500859117965e-13\n",
      "310 9.025731551037808e-13\n",
      "311 8.536851781038024e-13\n",
      "312 7.748593433554163e-13\n",
      "313 7.508785260235129e-13\n",
      "314 7.030279136621687e-13\n",
      "315 6.76826650281015e-13\n",
      "316 6.429891341586114e-13\n",
      "317 5.83703224643628e-13\n",
      "318 4.731805225421937e-13\n",
      "319 4.5217302124811454e-13\n",
      "320 4.728231695061424e-13\n",
      "321 5.079062170842974e-13\n",
      "322 5.079062170842974e-13\n",
      "323 4.797065522588184e-13\n",
      "324 4.34114549863196e-13\n",
      "325 4.0386097244216046e-13\n",
      "326 3.7765970906100677e-13\n",
      "327 2.9810182100575844e-13\n",
      "328 2.826142098122375e-13\n",
      "329 3.28799487636644e-13\n",
      "330 3.6349395715618016e-13\n",
      "331 3.4600794451833394e-13\n",
      "332 3.380143387410328e-13\n",
      "333 3.522251934562348e-13\n",
      "334 2.959368861077394e-13\n",
      "335 3.776493007201509e-13\n",
      "336 3.598857323261484e-13\n",
      "337 3.2702313079724377e-13\n",
      "338 3.2191610488396805e-13\n",
      "339 3.4228869738583967e-13\n",
      "340 3.3873598370703917e-13\n",
      "341 3.327407793740633e-13\n",
      "342 3.334069131888384e-13\n",
      "343 3.191960584736364e-13\n",
      "344 3.049852037584344e-13\n",
      "345 2.572456136995527e-13\n",
      "346 2.679037547359542e-13\n",
      "347 2.348191086021245e-13\n",
      "348 2.3659546544152477e-13\n",
      "349 2.1439100494902164e-13\n",
      "350 2.2599283555635452e-13\n",
      "351 2.2599283555635452e-13\n",
      "352 2.357627981730559e-13\n",
      "353 2.1836005226205657e-13\n",
      "354 2.1736085153989393e-13\n",
      "355 1.9959728314589142e-13\n",
      "356 1.9959728314589142e-13\n",
      "357 1.9537843565231583e-13\n",
      "358 1.9893114933111633e-13\n",
      "359 1.9598905831585967e-13\n",
      "360 1.4181017471415203e-13\n",
      "361 1.5602102942935403e-13\n",
      "362 1.3492679196147606e-13\n",
      "363 1.2665563042801864e-13\n",
      "364 1.2687767503294367e-13\n",
      "365 1.2376905056399323e-13\n",
      "366 1.086700174290911e-13\n",
      "367 9.878903250992721e-14\n",
      "368 1.0839246167293481e-13\n",
      "369 1.436975538560148e-13\n",
      "370 1.472502675348153e-13\n",
      "371 1.2571194085708726e-13\n",
      "372 1.2926465453588776e-13\n",
      "373 1.1172313074681028e-13\n",
      "374 1.1083495232711016e-13\n",
      "375 1.1305539837636047e-13\n",
      "376 1.1261130916651041e-13\n",
      "377 1.1261130916651041e-13\n",
      "378 1.1172313074681028e-13\n",
      "379 9.751227603160828e-14\n",
      "380 9.351547314295772e-14\n",
      "381 1.0772632785815972e-13\n",
      "382 9.329342853803269e-14\n",
      "383 9.19611609084825e-14\n",
      "384 7.131101265045459e-14\n",
      "385 7.28653248849298e-14\n",
      "386 8.707617960013181e-14\n",
      "387 8.707617960013181e-14\n",
      "388 8.352346592133131e-14\n",
      "389 8.352346592133131e-14\n",
      "390 8.352346592133131e-14\n",
      "391 8.352346592133131e-14\n",
      "392 6.687012055195396e-14\n",
      "393 6.687012055195396e-14\n",
      "394 6.687012055195396e-14\n",
      "395 8.108097526715596e-14\n",
      "396 6.687012055195396e-14\n",
      "397 6.687012055195396e-14\n",
      "398 6.687012055195396e-14\n",
      "399 6.598194213225383e-14\n",
      "400 6.598194213225383e-14\n",
      "401 6.598194213225383e-14\n",
      "402 6.598194213225383e-14\n",
      "403 6.337291802438472e-14\n",
      "404 6.292882881453465e-14\n",
      "405 7.780581734451175e-14\n",
      "406 8.901906989322583e-14\n",
      "407 5.993122664804673e-14\n",
      "408 5.993122664804673e-14\n",
      "409 5.993122664804673e-14\n",
      "410 5.993122664804673e-14\n",
      "411 5.882100362342157e-14\n",
      "412 5.882100362342157e-14\n",
      "413 6.39280295366973e-14\n",
      "414 6.39280295366973e-14\n",
      "415 6.39280295366973e-14\n",
      "416 6.3650473780541e-14\n",
      "417 6.342842917561597e-14\n",
      "418 6.254025075591585e-14\n",
      "419 6.165207233621572e-14\n",
      "420 7.786132849574301e-14\n",
      "421 6.276229536084088e-14\n",
      "422 6.631500903964138e-14\n",
      "423 6.587091982979132e-14\n",
      "424 6.165207233621572e-14\n",
      "425 6.165207233621572e-14\n",
      "426 6.337291802438472e-14\n",
      "427 6.337291802438472e-14\n",
      "428 6.337291802438472e-14\n",
      "429 6.248473960468459e-14\n",
      "430 7.66955943198866e-14\n",
      "431 7.66955943198866e-14\n",
      "432 7.66955943198866e-14\n",
      "433 8.752026880998187e-14\n",
      "434 8.396755513118137e-14\n",
      "435 8.396755513118137e-14\n",
      "436 7.686212777358037e-14\n",
      "437 7.686212777358037e-14\n",
      "438 7.686212777358037e-14\n",
      "439 6.265127305837837e-14\n",
      "440 6.265127305837837e-14\n",
      "441 6.775829897165409e-14\n",
      "442 6.687012055195396e-14\n",
      "443 7.10334568942983e-14\n",
      "444 7.10334568942983e-14\n",
      "445 8.502226700457527e-14\n",
      "446 7.081141228937327e-14\n",
      "447 6.725869861057276e-14\n",
      "448 6.570438637609755e-14\n",
      "449 7.991524109129955e-14\n",
      "450 7.991524109129955e-14\n",
      "451 7.991524109129955e-14\n",
      "452 7.547434899279892e-14\n",
      "453 7.525230438787389e-14\n",
      "454 7.503025978294886e-14\n",
      "455 7.480821517802383e-14\n",
      "456 7.397554790955496e-14\n",
      "457 7.397554790955496e-14\n",
      "458 7.308736948985484e-14\n",
      "459 7.425310366571125e-14\n",
      "460 4.5831394235307243e-14\n",
      "461 4.494321581560712e-14\n",
      "462 4.494321581560712e-14\n",
      "463 4.5831394235307243e-14\n",
      "464 4.5831394235307243e-14\n",
      "465 4.5831394235307243e-14\n",
      "466 4.5831394235307243e-14\n",
      "467 4.5831394235307243e-14\n",
      "468 4.494321581560712e-14\n",
      "469 4.560934963038221e-14\n",
      "470 4.560934963038221e-14\n",
      "471 4.472117121068209e-14\n",
      "472 4.649752805008234e-14\n",
      "473 4.560934963038221e-14\n",
      "474 4.472117121068209e-14\n",
      "475 4.472117121068209e-14\n",
      "476 4.316685897620687e-14\n",
      "477 4.316685897620687e-14\n",
      "478 4.227868055650674e-14\n",
      "479 4.2223169405275485e-14\n",
      "480 4.2223169405275485e-14\n",
      "481 4.2223169405275485e-14\n",
      "482 4.0724368322031523e-14\n",
      "483 5.493522303723353e-14\n",
      "484 4.0724368322031523e-14\n",
      "485 4.0724368322031523e-14\n",
      "486 4.0724368322031523e-14\n",
      "487 4.0724368322031523e-14\n",
      "488 4.050232371710649e-14\n",
      "489 4.0724368322031523e-14\n",
      "490 4.0724368322031523e-14\n",
      "491 3.9614145297406367e-14\n",
      "492 3.9614145297406367e-14\n",
      "493 5.426908922245843e-14\n",
      "494 5.426908922245843e-14\n",
      "495 5.40470446175334e-14\n",
      "496 5.40470446175334e-14\n",
      "497 5.560135685200862e-14\n",
      "498 5.560135685200862e-14\n",
      "499 5.560135685200862e-14\n"
     ]
    }
   ],
   "source": [
    "import random\n",
    "import torch\n",
    "torch.set_default_tensor_type(torch.cuda.FloatTensor)\n",
    "N=5\n",
    "scale=10\n",
    "D_in, H, D_out = N*scale*scale, N*scale*scale, N*scale\n",
    "\n",
    "class DynamicNet(torch.nn.Module):\n",
    "    def __init__(self, D_in, H, D_out):\n",
    "        super(DynamicNet, self).__init__()\n",
    "        self.input_linear = torch.nn.Linear(D_in, H)\n",
    "        self.middle_linear = torch.nn.Linear(H, H)\n",
    "        self.output_linear = torch.nn.Linear(H, D_out)\n",
    "    def forward(self, x):\n",
    "        h_relu = self.input_linear(x).clamp(min=0)\n",
    "        for _ in range(random.randint(0, int(N/scale))):\n",
    "            h_relu = self.middle_linear(h_relu).clamp(min=0)\n",
    "        y_pred = self.output_linear(h_relu)\n",
    "        return y_pred\n",
    "\n",
    "x = torch.randn(N, D_in).cuda()\n",
    "y = torch.randn(N, D_out).cuda()\n",
    "\n",
    "model = DynamicNet(D_in, H, D_out).cuda()\n",
    "criterion = torch.nn.MSELoss(reduction='sum').cuda()\n",
    "optimizer = torch.optim.SGD(model.parameters(), lr=1e-4, momentum=0.9)\n",
    "\n",
    "for t in range(H):\n",
    "    y_pred = model(x)\n",
    "    loss = criterion(y_pred, y)\n",
    "    print(t, loss.item())\n",
    "    optimizer.zero_grad()\n",
    "    loss.backward()\n",
    "    optimizer.step()\n",
    "\n",
    "    "
   ]
  },
  {
   "cell_type": "code",
   "execution_count": 26,
   "metadata": {
    "ExecuteTime": {
     "end_time": "2018-10-04T08:03:58.500557Z",
     "start_time": "2018-10-04T08:03:58.452086Z"
    }
   },
   "outputs": [
    {
     "data": {
      "text/plain": [
       "[0,\n",
       " 0,\n",
       " 0,\n",
       " 0,\n",
       " 1,\n",
       " 1,\n",
       " 1,\n",
       " 1,\n",
       " 1,\n",
       " 1,\n",
       " 0,\n",
       " 0,\n",
       " 0,\n",
       " 1,\n",
       " 1,\n",
       " 1,\n",
       " 0,\n",
       " 0,\n",
       " 0,\n",
       " 0,\n",
       " 0,\n",
       " 0,\n",
       " 0,\n",
       " 1,\n",
       " 1,\n",
       " 1,\n",
       " 1,\n",
       " 0,\n",
       " 0,\n",
       " 0,\n",
       " 0,\n",
       " 0,\n",
       " 0,\n",
       " 0,\n",
       " 0,\n",
       " 0,\n",
       " 0,\n",
       " 0,\n",
       " 0,\n",
       " 0,\n",
       " 0,\n",
       " 0,\n",
       " 0,\n",
       " 0,\n",
       " 1,\n",
       " 1,\n",
       " 1,\n",
       " 1,\n",
       " 0,\n",
       " 0,\n",
       " 0,\n",
       " 0,\n",
       " 0,\n",
       " 0,\n",
       " 0,\n",
       " 0,\n",
       " 0,\n",
       " 0,\n",
       " 1,\n",
       " 1,\n",
       " 1,\n",
       " 1,\n",
       " 1,\n",
       " 1,\n",
       " 0,\n",
       " 0,\n",
       " 0,\n",
       " 0,\n",
       " 1,\n",
       " 1,\n",
       " 1,\n",
       " 1,\n",
       " 1,\n",
       " 1,\n",
       " 0,\n",
       " 0,\n",
       " 0,\n",
       " 0,\n",
       " 0,\n",
       " 0,\n",
       " 0,\n",
       " 1,\n",
       " 0,\n",
       " 0,\n",
       " 0,\n",
       " 0,\n",
       " 1,\n",
       " 0,\n",
       " 0,\n",
       " 0,\n",
       " 1,\n",
       " 1,\n",
       " 1,\n",
       " 1,\n",
       " 1,\n",
       " 1,\n",
       " 1,\n",
       " 1,\n",
       " 0,\n",
       " 0,\n",
       " 0,\n",
       " 1,\n",
       " 1,\n",
       " 1,\n",
       " 1,\n",
       " 1,\n",
       " 1,\n",
       " 1,\n",
       " 1,\n",
       " 1,\n",
       " 0,\n",
       " 0,\n",
       " 0,\n",
       " 0,\n",
       " 0,\n",
       " 0,\n",
       " 0,\n",
       " 1,\n",
       " 0,\n",
       " 0,\n",
       " 0,\n",
       " 0,\n",
       " 0,\n",
       " 0,\n",
       " 0,\n",
       " 0,\n",
       " 0,\n",
       " 0,\n",
       " 0,\n",
       " 0,\n",
       " 0,\n",
       " 0,\n",
       " 0,\n",
       " 0,\n",
       " 0,\n",
       " 0,\n",
       " 0,\n",
       " 0,\n",
       " 0,\n",
       " 0,\n",
       " 1,\n",
       " 1,\n",
       " 1,\n",
       " 1,\n",
       " 1,\n",
       " 1,\n",
       " 1,\n",
       " 1,\n",
       " 1,\n",
       " 1,\n",
       " 1,\n",
       " 1,\n",
       " 1,\n",
       " 1,\n",
       " 1,\n",
       " 1,\n",
       " 1,\n",
       " 1,\n",
       " 0,\n",
       " 0,\n",
       " 0,\n",
       " 1,\n",
       " 1,\n",
       " 1,\n",
       " 1,\n",
       " 1,\n",
       " 0,\n",
       " 0,\n",
       " 0,\n",
       " 1,\n",
       " 1,\n",
       " 1,\n",
       " 0,\n",
       " 0,\n",
       " 0,\n",
       " 0,\n",
       " 0,\n",
       " 0,\n",
       " 0,\n",
       " 0,\n",
       " 0,\n",
       " 0,\n",
       " 0,\n",
       " 0,\n",
       " 0,\n",
       " 0,\n",
       " 0,\n",
       " 0,\n",
       " 0,\n",
       " 0,\n",
       " 0,\n",
       " 1,\n",
       " 1,\n",
       " 1,\n",
       " 1,\n",
       " 0,\n",
       " 0,\n",
       " 0,\n",
       " 0,\n",
       " 0,\n",
       " 0,\n",
       " 1,\n",
       " 1,\n",
       " 1,\n",
       " 1,\n",
       " 1,\n",
       " 1,\n",
       " 1,\n",
       " 1,\n",
       " 1,\n",
       " 0,\n",
       " 0,\n",
       " 0,\n",
       " 0,\n",
       " 0,\n",
       " 0,\n",
       " 0,\n",
       " 1,\n",
       " 1,\n",
       " 1,\n",
       " 1,\n",
       " 1,\n",
       " 1,\n",
       " 1,\n",
       " 1,\n",
       " 1,\n",
       " 1,\n",
       " 1,\n",
       " 1,\n",
       " 1,\n",
       " 1,\n",
       " 1,\n",
       " 1,\n",
       " 1,\n",
       " 1,\n",
       " 1,\n",
       " 1,\n",
       " 1,\n",
       " 0,\n",
       " 0,\n",
       " 0,\n",
       " 0,\n",
       " 0,\n",
       " 1,\n",
       " 1,\n",
       " 0,\n",
       " 0,\n",
       " 0,\n",
       " 1,\n",
       " 1,\n",
       " 1,\n",
       " 1,\n",
       " 0,\n",
       " 0,\n",
       " 1,\n",
       " 1,\n",
       " 1,\n",
       " 1,\n",
       " 1,\n",
       " 1,\n",
       " 1,\n",
       " 1,\n",
       " 1,\n",
       " 1,\n",
       " 1,\n",
       " 1,\n",
       " 1,\n",
       " 1,\n",
       " 1,\n",
       " 1,\n",
       " 1,\n",
       " 0,\n",
       " 0,\n",
       " 0,\n",
       " 1,\n",
       " 1,\n",
       " 1,\n",
       " 1,\n",
       " 0,\n",
       " 0,\n",
       " 0,\n",
       " 1,\n",
       " 1,\n",
       " 1,\n",
       " 0,\n",
       " 1,\n",
       " 1,\n",
       " 1,\n",
       " 1,\n",
       " 1,\n",
       " 1,\n",
       " 0,\n",
       " 0,\n",
       " 0,\n",
       " 0,\n",
       " 0,\n",
       " 0,\n",
       " 0,\n",
       " 0,\n",
       " 0,\n",
       " 0,\n",
       " 0,\n",
       " 0,\n",
       " 0,\n",
       " 0,\n",
       " 0,\n",
       " 0,\n",
       " 0,\n",
       " 0,\n",
       " 0,\n",
       " 1,\n",
       " 1,\n",
       " 1,\n",
       " 1,\n",
       " 1,\n",
       " 1,\n",
       " 0,\n",
       " 0,\n",
       " 0,\n",
       " 0,\n",
       " 1,\n",
       " 1,\n",
       " 0,\n",
       " 0,\n",
       " 0,\n",
       " 0,\n",
       " 0,\n",
       " 0,\n",
       " 0,\n",
       " 0,\n",
       " 0,\n",
       " 0,\n",
       " 0,\n",
       " 0,\n",
       " 0,\n",
       " 0,\n",
       " 0,\n",
       " 0,\n",
       " 0,\n",
       " 0,\n",
       " 0,\n",
       " 0,\n",
       " 0,\n",
       " 0,\n",
       " 0,\n",
       " 0,\n",
       " 0,\n",
       " 1,\n",
       " 1,\n",
       " 1,\n",
       " 1,\n",
       " 1,\n",
       " 0,\n",
       " 0,\n",
       " 0,\n",
       " 0,\n",
       " 0,\n",
       " 0,\n",
       " 1,\n",
       " 1,\n",
       " 0,\n",
       " 0,\n",
       " 1,\n",
       " 1,\n",
       " 1,\n",
       " 1,\n",
       " 1,\n",
       " 1,\n",
       " 1,\n",
       " 1,\n",
       " 1,\n",
       " 1,\n",
       " 1,\n",
       " 1,\n",
       " 1,\n",
       " 1,\n",
       " 0,\n",
       " 0,\n",
       " 0,\n",
       " 0,\n",
       " 1,\n",
       " 1,\n",
       " 1,\n",
       " 1,\n",
       " 1,\n",
       " 1,\n",
       " 0,\n",
       " 1,\n",
       " 0,\n",
       " 0,\n",
       " 0,\n",
       " 0,\n",
       " 0,\n",
       " 0,\n",
       " 0,\n",
       " 1,\n",
       " 0,\n",
       " 0,\n",
       " 0,\n",
       " 0,\n",
       " 0,\n",
       " 0,\n",
       " 0,\n",
       " 0,\n",
       " 0,\n",
       " 1,\n",
       " 1,\n",
       " 0,\n",
       " 0,\n",
       " 0,\n",
       " 1,\n",
       " 1,\n",
       " 1,\n",
       " 0,\n",
       " 0,\n",
       " 0,\n",
       " 0,\n",
       " 1,\n",
       " 1,\n",
       " 1,\n",
       " 1,\n",
       " 1,\n",
       " 1,\n",
       " 1,\n",
       " 1,\n",
       " 1,\n",
       " 1,\n",
       " 1,\n",
       " 0,\n",
       " 0,\n",
       " 0,\n",
       " 0,\n",
       " 1,\n",
       " 1,\n",
       " 1,\n",
       " 1,\n",
       " 1,\n",
       " 1,\n",
       " 1,\n",
       " 1,\n",
       " 1,\n",
       " 1,\n",
       " 1,\n",
       " 1,\n",
       " 1,\n",
       " 1,\n",
       " 1,\n",
       " 1,\n",
       " 0,\n",
       " 0,\n",
       " 0,\n",
       " 0,\n",
       " 1,\n",
       " 1,\n",
       " 1,\n",
       " 0,\n",
       " 0,\n",
       " 0,\n",
       " 1,\n",
       " 1,\n",
       " 1,\n",
       " 1,\n",
       " 1,\n",
       " 0,\n",
       " 0,\n",
       " 0,\n",
       " 0,\n",
       " 1,\n",
       " 1,\n",
       " 1,\n",
       " 1,\n",
       " 1,\n",
       " 1,\n",
       " 1,\n",
       " 1,\n",
       " 1,\n",
       " 1,\n",
       " 1,\n",
       " 1,\n",
       " 1,\n",
       " 1,\n",
       " 1,\n",
       " 1,\n",
       " 1,\n",
       " 1,\n",
       " 1,\n",
       " 1,\n",
       " 1,\n",
       " 0,\n",
       " 0,\n",
       " 0,\n",
       " 0,\n",
       " 0,\n",
       " 0,\n",
       " 0,\n",
       " 0,\n",
       " 0,\n",
       " 0,\n",
       " 0,\n",
       " 0,\n",
       " 0,\n",
       " 0,\n",
       " 0,\n",
       " 0,\n",
       " 0,\n",
       " 1,\n",
       " 1,\n",
       " 1,\n",
       " 0,\n",
       " 0,\n",
       " 0,\n",
       " 0,\n",
       " 0,\n",
       " 0,\n",
       " 0,\n",
       " 1,\n",
       " 1,\n",
       " 1,\n",
       " 1,\n",
       " 1,\n",
       " 1,\n",
       " 1,\n",
       " 0,\n",
       " 0,\n",
       " 0,\n",
       " 0,\n",
       " 0,\n",
       " 0,\n",
       " 0,\n",
       " 0,\n",
       " 0,\n",
       " 0,\n",
       " 0,\n",
       " 0,\n",
       " 0,\n",
       " 0,\n",
       " 0,\n",
       " 0,\n",
       " 1,\n",
       " 1,\n",
       " 0,\n",
       " 0,\n",
       " 0,\n",
       " 1,\n",
       " 1,\n",
       " 1,\n",
       " 0,\n",
       " 0,\n",
       " 0,\n",
       " 1,\n",
       " 1,\n",
       " 1,\n",
       " 1,\n",
       " 1,\n",
       " 1,\n",
       " 1,\n",
       " 1,\n",
       " 1,\n",
       " 1,\n",
       " 1,\n",
       " 0,\n",
       " 0,\n",
       " 0,\n",
       " 0,\n",
       " 1,\n",
       " 1,\n",
       " 1,\n",
       " 1,\n",
       " 0,\n",
       " 0,\n",
       " 0,\n",
       " 0,\n",
       " 0,\n",
       " 0,\n",
       " 0,\n",
       " 0,\n",
       " 1,\n",
       " 1,\n",
       " 1,\n",
       " 1,\n",
       " 1,\n",
       " 1,\n",
       " 1,\n",
       " 1,\n",
       " 1,\n",
       " 1,\n",
       " 1,\n",
       " 1,\n",
       " 1,\n",
       " 1,\n",
       " 0,\n",
       " 0,\n",
       " 0,\n",
       " 1,\n",
       " 1,\n",
       " 1,\n",
       " 1,\n",
       " 0,\n",
       " 0,\n",
       " 1,\n",
       " 1,\n",
       " 1,\n",
       " 1,\n",
       " 0,\n",
       " 0,\n",
       " 0,\n",
       " 0,\n",
       " 0,\n",
       " 0,\n",
       " 0,\n",
       " 0,\n",
       " 1,\n",
       " 1,\n",
       " 0,\n",
       " 0,\n",
       " 0,\n",
       " 0,\n",
       " 1,\n",
       " 1,\n",
       " 1,\n",
       " 1,\n",
       " 1,\n",
       " 1,\n",
       " 1,\n",
       " 1,\n",
       " 1,\n",
       " 1,\n",
       " 1,\n",
       " 1,\n",
       " 0,\n",
       " 0,\n",
       " 0,\n",
       " 0,\n",
       " 0,\n",
       " 0,\n",
       " 1,\n",
       " 1,\n",
       " 1,\n",
       " 1,\n",
       " 1,\n",
       " 1,\n",
       " 1,\n",
       " 1,\n",
       " 1,\n",
       " 0,\n",
       " 0,\n",
       " 0,\n",
       " 0,\n",
       " 0,\n",
       " 0,\n",
       " 0,\n",
       " 0,\n",
       " 0,\n",
       " 0,\n",
       " 1,\n",
       " 1,\n",
       " 1,\n",
       " 0,\n",
       " 0,\n",
       " 0,\n",
       " 0,\n",
       " 0,\n",
       " 0,\n",
       " 0,\n",
       " 0,\n",
       " 0,\n",
       " 0,\n",
       " 0,\n",
       " 0,\n",
       " 0,\n",
       " 0,\n",
       " 0,\n",
       " 0,\n",
       " 0,\n",
       " 0,\n",
       " 0,\n",
       " 0,\n",
       " 0,\n",
       " 1,\n",
       " 1,\n",
       " 1,\n",
       " 1,\n",
       " 1,\n",
       " 1,\n",
       " 0,\n",
       " 0,\n",
       " 0,\n",
       " 0,\n",
       " 0,\n",
       " 0,\n",
       " 0,\n",
       " 0,\n",
       " 0,\n",
       " 0,\n",
       " 0,\n",
       " 0,\n",
       " 1,\n",
       " 0,\n",
       " 0,\n",
       " 0,\n",
       " 0,\n",
       " 0,\n",
       " 0,\n",
       " 0,\n",
       " 1,\n",
       " 1,\n",
       " 1,\n",
       " 1,\n",
       " 1,\n",
       " 1,\n",
       " 1,\n",
       " 1,\n",
       " 1,\n",
       " 1,\n",
       " 1,\n",
       " 1,\n",
       " 1,\n",
       " 1,\n",
       " 1,\n",
       " 1,\n",
       " 0,\n",
       " 0,\n",
       " 0,\n",
       " 0,\n",
       " 1,\n",
       " 1,\n",
       " 1,\n",
       " 1,\n",
       " 1,\n",
       " 0,\n",
       " 0,\n",
       " 0,\n",
       " 1,\n",
       " 1,\n",
       " 1,\n",
       " 1,\n",
       " 0,\n",
       " 0,\n",
       " 0,\n",
       " 0,\n",
       " 0,\n",
       " 0,\n",
       " 0,\n",
       " 0,\n",
       " 0,\n",
       " 0,\n",
       " 1,\n",
       " 1,\n",
       " 1,\n",
       " 0,\n",
       " 0,\n",
       " 0,\n",
       " 1,\n",
       " 1,\n",
       " 1,\n",
       " 1,\n",
       " 1,\n",
       " 1,\n",
       " 1,\n",
       " 1,\n",
       " 1,\n",
       " 1,\n",
       " 1,\n",
       " 1,\n",
       " 1,\n",
       " 1,\n",
       " 1,\n",
       " 0,\n",
       " 0,\n",
       " 0,\n",
       " 1,\n",
       " 1,\n",
       " 1,\n",
       " 1,\n",
       " 1,\n",
       " 1,\n",
       " 1,\n",
       " 0,\n",
       " 0,\n",
       " 0,\n",
       " 0,\n",
       " 0,\n",
       " 0,\n",
       " 0,\n",
       " 0,\n",
       " 1,\n",
       " 1,\n",
       " 1,\n",
       " 1,\n",
       " 0,\n",
       " 0,\n",
       " 0,\n",
       " 0,\n",
       " 0,\n",
       " 0,\n",
       " 0,\n",
       " 0,\n",
       " 0,\n",
       " 0,\n",
       " 0,\n",
       " 0,\n",
       " 0,\n",
       " 0,\n",
       " 0,\n",
       " 0,\n",
       " 0,\n",
       " 0,\n",
       " 0,\n",
       " 1,\n",
       " 1,\n",
       " 1,\n",
       " 0,\n",
       " 0,\n",
       " 0,\n",
       " 0,\n",
       " 0,\n",
       " 0,\n",
       " 0,\n",
       " 1,\n",
       " 0,\n",
       " 0,\n",
       " 0,\n",
       " 0,\n",
       " 0,\n",
       " 0,\n",
       " 0,\n",
       " 0,\n",
       " 0,\n",
       " 0,\n",
       " 0,\n",
       " 0,\n",
       " 0,\n",
       " 0,\n",
       " 0,\n",
       " 0,\n",
       " 0,\n",
       " 0,\n",
       " 0,\n",
       " 0,\n",
       " 0,\n",
       " 0,\n",
       " 0,\n",
       " 0,\n",
       " 0,\n",
       " 0,\n",
       " 0,\n",
       " 0,\n",
       " 0,\n",
       " 0,\n",
       " 0,\n",
       " 0,\n",
       " 0,\n",
       " 0,\n",
       " 1,\n",
       " 1,\n",
       " 1,\n",
       " 1,\n",
       " 1,\n",
       " 1,\n",
       " 0,\n",
       " 0,\n",
       " 1,\n",
       " 1,\n",
       " 1,\n",
       " 1,\n",
       " 1,\n",
       " 1,\n",
       " 1,\n",
       " 1,\n",
       " 1,\n",
       " 1,\n",
       " 1,\n",
       " 1,\n",
       " 1,\n",
       " 1,\n",
       " 1,\n",
       " 0,\n",
       " 0,\n",
       " 0,\n",
       " 1,\n",
       " 1,\n",
       " 1,\n",
       " 1,\n",
       " 0,\n",
       " 1,\n",
       " 1,\n",
       " 1,\n",
       " 1,\n",
       " 0,\n",
       " 0,\n",
       " 0,\n",
       " 1,\n",
       " 1,\n",
       " 1,\n",
       " 1,\n",
       " 1,\n",
       " 1,\n",
       " 1,\n",
       " 1,\n",
       " 1,\n",
       " 1,\n",
       " 1,\n",
       " 1,\n",
       " 1,\n",
       " 1,\n",
       " 1,\n",
       " 0,\n",
       " 0,\n",
       " 0,\n",
       " 0,\n",
       " 0,\n",
       " 0,\n",
       " 0,\n",
       " 1,\n",
       " 1,\n",
       " 1,\n",
       " 1,\n",
       " 1,\n",
       " 1,\n",
       " 1,\n",
       " 1,\n",
       " 0,\n",
       " 0,\n",
       " 0,\n",
       " 0,\n",
       " 1,\n",
       " 1,\n",
       " 1,\n",
       " 1,\n",
       " 1,\n",
       " 0,\n",
       " 0,\n",
       " 0,\n",
       " 1,\n",
       " 1,\n",
       " 1,\n",
       " 1,\n",
       " 1,\n",
       " 1,\n",
       " 1,\n",
       " 1,\n",
       " 1,\n",
       " 1,\n",
       " 1,\n",
       " 1,\n",
       " 1,\n",
       " 1,\n",
       " 0,\n",
       " 0,\n",
       " 1,\n",
       " 1,\n",
       " 1,\n",
       " 1,\n",
       " 0,\n",
       " 0,\n",
       " 0,\n",
       " 0,\n",
       " 1,\n",
       " 1,\n",
       " 1,\n",
       " 1,\n",
       " 1,\n",
       " 0,\n",
       " 0,\n",
       " 0,\n",
       " 0,\n",
       " 0,\n",
       " 0,\n",
       " 0,\n",
       " 0,\n",
       " 1,\n",
       " 1,\n",
       " 1,\n",
       " 1,\n",
       " 1,\n",
       " 1,\n",
       " 1,\n",
       " 1,\n",
       " 1,\n",
       " 1,\n",
       " 1,\n",
       " 1,\n",
       " 1,\n",
       " 1,\n",
       " 1,\n",
       " 1,\n",
       " 1,\n",
       " 1,\n",
       " 1,\n",
       " 1,\n",
       " 0,\n",
       " 0,\n",
       " 0,\n",
       " 0,\n",
       " 0,\n",
       " 0,\n",
       " 0,\n",
       " 1,\n",
       " 1,\n",
       " 1,\n",
       " ...]"
      ]
     },
     "execution_count": 26,
     "metadata": {},
     "output_type": "execute_result"
    }
   ],
   "source": [
    "outvec=[1 if 'positive' in i.parts[-2] else 0 for i in trainlist]\n",
    "outvec"
   ]
  },
  {
   "cell_type": "code",
   "execution_count": 27,
   "metadata": {
    "ExecuteTime": {
     "end_time": "2018-10-04T09:38:45.204078Z",
     "start_time": "2018-10-04T09:38:45.199481Z"
    }
   },
   "outputs": [],
   "source": [
    "outvecclip=outvec[0:99]"
   ]
  },
  {
   "cell_type": "code",
   "execution_count": 10,
   "metadata": {
    "ExecuteTime": {
     "end_time": "2018-10-04T09:38:52.512802Z",
     "start_time": "2018-10-04T09:38:52.503623Z"
    }
   },
   "outputs": [
    {
     "data": {
      "text/plain": [
       "[0,\n",
       " 0,\n",
       " 0,\n",
       " 0,\n",
       " 1,\n",
       " 1,\n",
       " 1,\n",
       " 1,\n",
       " 1,\n",
       " 1,\n",
       " 0,\n",
       " 0,\n",
       " 0,\n",
       " 1,\n",
       " 1,\n",
       " 1,\n",
       " 0,\n",
       " 0,\n",
       " 0,\n",
       " 0,\n",
       " 0,\n",
       " 0,\n",
       " 0,\n",
       " 1,\n",
       " 1,\n",
       " 1,\n",
       " 1,\n",
       " 0,\n",
       " 0,\n",
       " 0,\n",
       " 0,\n",
       " 0,\n",
       " 0,\n",
       " 0,\n",
       " 0,\n",
       " 0,\n",
       " 0,\n",
       " 0,\n",
       " 0,\n",
       " 0,\n",
       " 0,\n",
       " 0,\n",
       " 0,\n",
       " 0,\n",
       " 1,\n",
       " 1,\n",
       " 1,\n",
       " 1,\n",
       " 0,\n",
       " 0,\n",
       " 0,\n",
       " 0,\n",
       " 0,\n",
       " 0,\n",
       " 0,\n",
       " 0,\n",
       " 0,\n",
       " 0,\n",
       " 1,\n",
       " 1,\n",
       " 1,\n",
       " 1,\n",
       " 1,\n",
       " 1,\n",
       " 0,\n",
       " 0,\n",
       " 0,\n",
       " 0,\n",
       " 1,\n",
       " 1,\n",
       " 1,\n",
       " 1,\n",
       " 1,\n",
       " 1,\n",
       " 0,\n",
       " 0,\n",
       " 0,\n",
       " 0,\n",
       " 0,\n",
       " 0,\n",
       " 0,\n",
       " 1,\n",
       " 0,\n",
       " 0,\n",
       " 0,\n",
       " 0,\n",
       " 1,\n",
       " 0,\n",
       " 0,\n",
       " 0,\n",
       " 1,\n",
       " 1,\n",
       " 1,\n",
       " 1,\n",
       " 1,\n",
       " 1,\n",
       " 1,\n",
       " 1,\n",
       " 0]"
      ]
     },
     "execution_count": 10,
     "metadata": {},
     "output_type": "execute_result"
    }
   ],
   "source": [
    "(outvecclip)"
   ]
  },
  {
   "cell_type": "code",
   "execution_count": 28,
   "metadata": {
    "ExecuteTime": {
     "end_time": "2018-10-04T09:39:24.608828Z",
     "start_time": "2018-10-04T09:39:16.955393Z"
    }
   },
   "outputs": [],
   "source": [
    "imgs = [cv2.resize(cv2.imread(str(trainlistelen),0),(320, 320)) for trainlistelen in trainlistclip] "
   ]
  },
  {
   "cell_type": "code",
   "execution_count": 29,
   "metadata": {
    "ExecuteTime": {
     "end_time": "2018-10-04T09:39:26.598595Z",
     "start_time": "2018-10-04T09:39:26.592239Z"
    }
   },
   "outputs": [
    {
     "data": {
      "text/plain": [
       "99"
      ]
     },
     "execution_count": 29,
     "metadata": {},
     "output_type": "execute_result"
    }
   ],
   "source": [
    "len(imgs)"
   ]
  },
  {
   "cell_type": "code",
   "execution_count": 30,
   "metadata": {
    "ExecuteTime": {
     "end_time": "2018-10-03T20:50:06.609410Z",
     "start_time": "2018-10-03T20:50:06.334899Z"
    }
   },
   "outputs": [
    {
     "data": {
      "image/png": "[encoded data removed]",
      "text/plain": [
       "<Figure size 432x288 with 1 Axes>"
      ]
     },
     "metadata": {
      "needs_background": "light"
     },
     "output_type": "display_data"
    }
   ],
   "source": [
    "x=imgs[0]\n",
    "#x=cv2.resize(x, (320, 320))\n",
    "x=(x-np.mean(x))/np.std(x)\n",
    "plt.imshow(x, cmap = 'gray', interpolation = 'bicubic')\n",
    "plt.show()"
   ]
  },
  {
   "cell_type": "code",
   "execution_count": 31,
   "metadata": {
    "ExecuteTime": {
     "end_time": "2018-10-04T09:39:59.928097Z",
     "start_time": "2018-10-04T09:39:56.846096Z"
    }
   },
   "outputs": [
    {
     "data": {
      "text/plain": [
       "99"
      ]
     },
     "execution_count": 31,
     "metadata": {},
     "output_type": "execute_result"
    }
   ],
   "source": [
    "import torch\n",
    "#x = torch.randn(N, D_in).cuda()\n",
    "#y = torch.randn(N, D_out).cuda()\n",
    "torch.set_default_tensor_type(torch.cuda.FloatTensor)\n",
    "y = torch.from_numpy(np.array(outvecclip)).cuda()\n",
    "y.shape\n",
    "len(y)"
   ]
  },
  {
   "cell_type": "code",
   "execution_count": null,
   "metadata": {
    "ExecuteTime": {
     "end_time": "2018-10-04T09:42:13.264946Z",
     "start_time": "2018-10-04T09:42:01.669918Z"
    }
   },
   "outputs": [
    {
     "name": "stdout",
     "output_type": "stream",
     "text": [
      "[tensor([[ 1.8984,  1.8481,  1.7978,  ...,  0.0364,  0.0868, -0.1145],\n",
      "        [ 1.8984,  1.8984,  1.8481,  ..., -0.1145,  0.3384, -0.1145],\n",
      "        [ 1.6971,  1.4958,  1.3952,  ..., -0.6681, -0.0642,  0.0868],\n",
      "        ...,\n",
      "        [ 2.2507,  2.0997,  2.1500,  ...,  0.5397,  0.7410,  0.8919],\n",
      "        [ 2.2004,  2.2507,  2.1500,  ...,  0.5900,  0.7410,  0.9926],\n",
      "        [ 2.2507,  2.2004,  2.1500,  ...,  0.6403,  0.7913,  0.9926]],\n",
      "       dtype=torch.float64)]\n",
      "[tensor([[ 1.8984,  1.8481,  1.7978,  ...,  0.0364,  0.0868, -0.1145],\n",
      "        [ 1.8984,  1.8984,  1.8481,  ..., -0.1145,  0.3384, -0.1145],\n",
      "        [ 1.6971,  1.4958,  1.3952,  ..., -0.6681, -0.0642,  0.0868],\n",
      "        ...,\n",
      "        [ 2.2507,  2.0997,  2.1500,  ...,  0.5397,  0.7410,  0.8919],\n",
      "        [ 2.2004,  2.2507,  2.1500,  ...,  0.5900,  0.7410,  0.9926],\n",
      "        [ 2.2507,  2.2004,  2.1500,  ...,  0.6403,  0.7913,  0.9926]],\n",
      "       dtype=torch.float64), tensor([[ 0.9151,  0.8777,  0.8402,  ...,  1.9270,  0.8402,  0.5779],\n",
      "        [ 0.7278,  0.7652,  0.6153,  ...,  0.5404,  0.8402,  0.5779],\n",
      "        [ 0.9526,  0.6153,  0.4654,  ...,  0.0907,  0.2781,  1.1400],\n",
      "        ...,\n",
      "        [ 0.8027,  0.8027,  0.7652,  ..., -0.2466, -0.2091, -0.0218],\n",
      "        [ 0.8027,  0.8027,  0.7652,  ..., -0.2466, -0.0967, -0.0218],\n",
      "        [ 0.7652,  0.8027,  0.8027,  ..., -0.0967,  0.0907,  0.0907]],\n",
      "       dtype=torch.float64)]\n",
      "[tensor([[ 1.8984,  1.8481,  1.7978,  ...,  0.0364,  0.0868, -0.1145],\n",
      "        [ 1.8984,  1.8984,  1.8481,  ..., -0.1145,  0.3384, -0.1145],\n",
      "        [ 1.6971,  1.4958,  1.3952,  ..., -0.6681, -0.0642,  0.0868],\n",
      "        ...,\n",
      "        [ 2.2507,  2.0997,  2.1500,  ...,  0.5397,  0.7410,  0.8919],\n",
      "        [ 2.2004,  2.2507,  2.1500,  ...,  0.5900,  0.7410,  0.9926],\n",
      "        [ 2.2507,  2.2004,  2.1500,  ...,  0.6403,  0.7913,  0.9926]],\n",
      "       dtype=torch.float64), tensor([[ 0.9151,  0.8777,  0.8402,  ...,  1.9270,  0.8402,  0.5779],\n",
      "        [ 0.7278,  0.7652,  0.6153,  ...,  0.5404,  0.8402,  0.5779],\n",
      "        [ 0.9526,  0.6153,  0.4654,  ...,  0.0907,  0.2781,  1.1400],\n",
      "        ...,\n",
      "        [ 0.8027,  0.8027,  0.7652,  ..., -0.2466, -0.2091, -0.0218],\n",
      "        [ 0.8027,  0.8027,  0.7652,  ..., -0.2466, -0.0967, -0.0218],\n",
      "        [ 0.7652,  0.8027,  0.8027,  ..., -0.0967,  0.0907,  0.0907]],\n",
      "       dtype=torch.float64), tensor([[-1.4163, -1.4163, -1.4163,  ..., -1.4163, -1.4163, -1.4163],\n",
      "        [-1.4163, -1.4163, -1.4163,  ..., -1.4163, -1.4163, -1.4163],\n",
      "        [-1.4163, -1.4163, -1.4163,  ..., -1.4163, -1.4163, -1.4163],\n",
      "        ...,\n",
      "        [-1.4163, -1.4163, -1.4163,  ..., -1.4163, -1.4163, -1.4163],\n",
      "        [-1.4163, -1.4163, -1.4163,  ..., -1.4163, -1.4163, -1.4163],\n",
      "        [-1.4163, -1.4163, -1.4163,  ..., -1.4163, -1.4163, -1.4163]],\n",
      "       dtype=torch.float64)]\n",
      "[tensor([[ 1.8984,  1.8481,  1.7978,  ...,  0.0364,  0.0868, -0.1145],\n",
      "        [ 1.8984,  1.8984,  1.8481,  ..., -0.1145,  0.3384, -0.1145],\n",
      "        [ 1.6971,  1.4958,  1.3952,  ..., -0.6681, -0.0642,  0.0868],\n",
      "        ...,\n",
      "        [ 2.2507,  2.0997,  2.1500,  ...,  0.5397,  0.7410,  0.8919],\n",
      "        [ 2.2004,  2.2507,  2.1500,  ...,  0.5900,  0.7410,  0.9926],\n",
      "        [ 2.2507,  2.2004,  2.1500,  ...,  0.6403,  0.7913,  0.9926]],\n",
      "       dtype=torch.float64), tensor([[ 0.9151,  0.8777,  0.8402,  ...,  1.9270,  0.8402,  0.5779],\n",
      "        [ 0.7278,  0.7652,  0.6153,  ...,  0.5404,  0.8402,  0.5779],\n",
      "        [ 0.9526,  0.6153,  0.4654,  ...,  0.0907,  0.2781,  1.1400],\n",
      "        ...,\n",
      "        [ 0.8027,  0.8027,  0.7652,  ..., -0.2466, -0.2091, -0.0218],\n",
      "        [ 0.8027,  0.8027,  0.7652,  ..., -0.2466, -0.0967, -0.0218],\n",
      "        [ 0.7652,  0.8027,  0.8027,  ..., -0.0967,  0.0907,  0.0907]],\n",
      "       dtype=torch.float64), tensor([[-1.4163, -1.4163, -1.4163,  ..., -1.4163, -1.4163, -1.4163],\n",
      "        [-1.4163, -1.4163, -1.4163,  ..., -1.4163, -1.4163, -1.4163],\n",
      "        [-1.4163, -1.4163, -1.4163,  ..., -1.4163, -1.4163, -1.4163],\n",
      "        ...,\n",
      "        [-1.4163, -1.4163, -1.4163,  ..., -1.4163, -1.4163, -1.4163],\n",
      "        [-1.4163, -1.4163, -1.4163,  ..., -1.4163, -1.4163, -1.4163],\n",
      "        [-1.4163, -1.4163, -1.4163,  ..., -1.4163, -1.4163, -1.4163]],\n",
      "       dtype=torch.float64), tensor([[ 1.2861,  1.2487,  1.2861,  ...,  0.2025, -0.0591, -0.1338],\n",
      "        [ 1.3608,  1.2114,  1.1740,  ..., -0.2833, -0.0217, -0.1712],\n",
      "        [ 1.3608,  1.0619,  0.9124,  ..., -0.6570, -0.1712, -0.1712],\n",
      "        ...,\n",
      "        [ 1.6224,  1.6224,  1.5850,  ...,  0.5388,  0.5761,  0.6509],\n",
      "        [ 1.6224,  1.6224,  1.6224,  ...,  0.5761,  0.6135,  0.6882],\n",
      "        [ 1.5850,  1.6224,  1.6224,  ...,  0.5761,  0.6882,  0.6882]],\n",
      "       dtype=torch.float64)]\n",
      "[tensor([[ 1.8984,  1.8481,  1.7978,  ...,  0.0364,  0.0868, -0.1145],\n",
      "        [ 1.8984,  1.8984,  1.8481,  ..., -0.1145,  0.3384, -0.1145],\n",
      "        [ 1.6971,  1.4958,  1.3952,  ..., -0.6681, -0.0642,  0.0868],\n",
      "        ...,\n",
      "        [ 2.2507,  2.0997,  2.1500,  ...,  0.5397,  0.7410,  0.8919],\n",
      "        [ 2.2004,  2.2507,  2.1500,  ...,  0.5900,  0.7410,  0.9926],\n",
      "        [ 2.2507,  2.2004,  2.1500,  ...,  0.6403,  0.7913,  0.9926]],\n",
      "       dtype=torch.float64), tensor([[ 0.9151,  0.8777,  0.8402,  ...,  1.9270,  0.8402,  0.5779],\n",
      "        [ 0.7278,  0.7652,  0.6153,  ...,  0.5404,  0.8402,  0.5779],\n",
      "        [ 0.9526,  0.6153,  0.4654,  ...,  0.0907,  0.2781,  1.1400],\n",
      "        ...,\n",
      "        [ 0.8027,  0.8027,  0.7652,  ..., -0.2466, -0.2091, -0.0218],\n",
      "        [ 0.8027,  0.8027,  0.7652,  ..., -0.2466, -0.0967, -0.0218],\n",
      "        [ 0.7652,  0.8027,  0.8027,  ..., -0.0967,  0.0907,  0.0907]],\n",
      "       dtype=torch.float64), tensor([[-1.4163, -1.4163, -1.4163,  ..., -1.4163, -1.4163, -1.4163],\n",
      "        [-1.4163, -1.4163, -1.4163,  ..., -1.4163, -1.4163, -1.4163],\n",
      "        [-1.4163, -1.4163, -1.4163,  ..., -1.4163, -1.4163, -1.4163],\n",
      "        ...,\n",
      "        [-1.4163, -1.4163, -1.4163,  ..., -1.4163, -1.4163, -1.4163],\n",
      "        [-1.4163, -1.4163, -1.4163,  ..., -1.4163, -1.4163, -1.4163],\n",
      "        [-1.4163, -1.4163, -1.4163,  ..., -1.4163, -1.4163, -1.4163]],\n",
      "       dtype=torch.float64), tensor([[ 1.2861,  1.2487,  1.2861,  ...,  0.2025, -0.0591, -0.1338],\n",
      "        [ 1.3608,  1.2114,  1.1740,  ..., -0.2833, -0.0217, -0.1712],\n",
      "        [ 1.3608,  1.0619,  0.9124,  ..., -0.6570, -0.1712, -0.1712],\n",
      "        ...,\n",
      "        [ 1.6224,  1.6224,  1.5850,  ...,  0.5388,  0.5761,  0.6509],\n",
      "        [ 1.6224,  1.6224,  1.6224,  ...,  0.5761,  0.6135,  0.6882],\n",
      "        [ 1.5850,  1.6224,  1.6224,  ...,  0.5761,  0.6882,  0.6882]],\n",
      "       dtype=torch.float64), tensor([[-0.8608, -0.8385, -0.8162,  ..., -0.7716, -0.7716, -0.7716],\n",
      "        [-0.8385, -0.8608, -0.8385,  ..., -0.7494, -0.7494, -0.7716],\n",
      "        [-0.8162, -0.8385, -0.8385,  ..., -0.7939, -0.7716, -0.7716],\n",
      "        ...,\n",
      "        [-0.7716, -0.7939, -0.7939,  ..., -0.7939, -0.7716, -0.7716],\n",
      "        [-0.7494, -0.7494, -0.7939,  ..., -0.7716, -0.7716, -0.7716],\n",
      "        [-0.7048, -0.7048, -0.6825,  ..., -0.7716, -0.7939, -0.7716]],\n",
      "       dtype=torch.float64)]\n",
      "[tensor([[ 1.8984,  1.8481,  1.7978,  ...,  0.0364,  0.0868, -0.1145],\n",
      "        [ 1.8984,  1.8984,  1.8481,  ..., -0.1145,  0.3384, -0.1145],\n",
      "        [ 1.6971,  1.4958,  1.3952,  ..., -0.6681, -0.0642,  0.0868],\n",
      "        ...,\n",
      "        [ 2.2507,  2.0997,  2.1500,  ...,  0.5397,  0.7410,  0.8919],\n",
      "        [ 2.2004,  2.2507,  2.1500,  ...,  0.5900,  0.7410,  0.9926],\n",
      "        [ 2.2507,  2.2004,  2.1500,  ...,  0.6403,  0.7913,  0.9926]],\n",
      "       dtype=torch.float64), tensor([[ 0.9151,  0.8777,  0.8402,  ...,  1.9270,  0.8402,  0.5779],\n",
      "        [ 0.7278,  0.7652,  0.6153,  ...,  0.5404,  0.8402,  0.5779],\n",
      "        [ 0.9526,  0.6153,  0.4654,  ...,  0.0907,  0.2781,  1.1400],\n",
      "        ...,\n",
      "        [ 0.8027,  0.8027,  0.7652,  ..., -0.2466, -0.2091, -0.0218],\n",
      "        [ 0.8027,  0.8027,  0.7652,  ..., -0.2466, -0.0967, -0.0218],\n",
      "        [ 0.7652,  0.8027,  0.8027,  ..., -0.0967,  0.0907,  0.0907]],\n",
      "       dtype=torch.float64), tensor([[-1.4163, -1.4163, -1.4163,  ..., -1.4163, -1.4163, -1.4163],\n",
      "        [-1.4163, -1.4163, -1.4163,  ..., -1.4163, -1.4163, -1.4163],\n",
      "        [-1.4163, -1.4163, -1.4163,  ..., -1.4163, -1.4163, -1.4163],\n",
      "        ...,\n",
      "        [-1.4163, -1.4163, -1.4163,  ..., -1.4163, -1.4163, -1.4163],\n",
      "        [-1.4163, -1.4163, -1.4163,  ..., -1.4163, -1.4163, -1.4163],\n",
      "        [-1.4163, -1.4163, -1.4163,  ..., -1.4163, -1.4163, -1.4163]],\n",
      "       dtype=torch.float64), tensor([[ 1.2861,  1.2487,  1.2861,  ...,  0.2025, -0.0591, -0.1338],\n",
      "        [ 1.3608,  1.2114,  1.1740,  ..., -0.2833, -0.0217, -0.1712],\n",
      "        [ 1.3608,  1.0619,  0.9124,  ..., -0.6570, -0.1712, -0.1712],\n",
      "        ...,\n",
      "        [ 1.6224,  1.6224,  1.5850,  ...,  0.5388,  0.5761,  0.6509],\n",
      "        [ 1.6224,  1.6224,  1.6224,  ...,  0.5761,  0.6135,  0.6882],\n",
      "        [ 1.5850,  1.6224,  1.6224,  ...,  0.5761,  0.6882,  0.6882]],\n",
      "       dtype=torch.float64), tensor([[-0.8608, -0.8385, -0.8162,  ..., -0.7716, -0.7716, -0.7716],\n",
      "        [-0.8385, -0.8608, -0.8385,  ..., -0.7494, -0.7494, -0.7716],\n",
      "        [-0.8162, -0.8385, -0.8385,  ..., -0.7939, -0.7716, -0.7716],\n",
      "        ...,\n",
      "        [-0.7716, -0.7939, -0.7939,  ..., -0.7939, -0.7716, -0.7716],\n",
      "        [-0.7494, -0.7494, -0.7939,  ..., -0.7716, -0.7716, -0.7716],\n",
      "        [-0.7048, -0.7048, -0.6825,  ..., -0.7716, -0.7939, -0.7716]],\n",
      "       dtype=torch.float64), tensor([[-0.5686, -0.5937, -0.5686,  ..., -0.5185, -0.5686, -0.5185],\n",
      "        [-0.5937, -0.5937, -0.5686,  ..., -0.5436, -0.5686, -0.5185],\n",
      "        [-0.5686, -0.5686, -0.5686,  ..., -0.5937, -0.5937, -0.6188],\n",
      "        ...,\n",
      "        [-0.5436, -0.5436, -0.5185,  ..., -0.5185, -0.5436, -0.5686],\n",
      "        [-0.5686, -0.5436, -0.5436,  ..., -0.5185, -0.5185, -0.5185],\n",
      "        [-0.5436, -0.5436, -0.5436,  ..., -0.4935, -0.5185, -0.5436]],\n",
      "       dtype=torch.float64)]\n",
      "[tensor([[ 1.8984,  1.8481,  1.7978,  ...,  0.0364,  0.0868, -0.1145],\n",
      "        [ 1.8984,  1.8984,  1.8481,  ..., -0.1145,  0.3384, -0.1145],\n",
      "        [ 1.6971,  1.4958,  1.3952,  ..., -0.6681, -0.0642,  0.0868],\n",
      "        ...,\n",
      "        [ 2.2507,  2.0997,  2.1500,  ...,  0.5397,  0.7410,  0.8919],\n",
      "        [ 2.2004,  2.2507,  2.1500,  ...,  0.5900,  0.7410,  0.9926],\n",
      "        [ 2.2507,  2.2004,  2.1500,  ...,  0.6403,  0.7913,  0.9926]],\n",
      "       dtype=torch.float64), tensor([[ 0.9151,  0.8777,  0.8402,  ...,  1.9270,  0.8402,  0.5779],\n",
      "        [ 0.7278,  0.7652,  0.6153,  ...,  0.5404,  0.8402,  0.5779],\n",
      "        [ 0.9526,  0.6153,  0.4654,  ...,  0.0907,  0.2781,  1.1400],\n",
      "        ...,\n",
      "        [ 0.8027,  0.8027,  0.7652,  ..., -0.2466, -0.2091, -0.0218],\n",
      "        [ 0.8027,  0.8027,  0.7652,  ..., -0.2466, -0.0967, -0.0218],\n",
      "        [ 0.7652,  0.8027,  0.8027,  ..., -0.0967,  0.0907,  0.0907]],\n",
      "       dtype=torch.float64), tensor([[-1.4163, -1.4163, -1.4163,  ..., -1.4163, -1.4163, -1.4163],\n",
      "        [-1.4163, -1.4163, -1.4163,  ..., -1.4163, -1.4163, -1.4163],\n",
      "        [-1.4163, -1.4163, -1.4163,  ..., -1.4163, -1.4163, -1.4163],\n",
      "        ...,\n",
      "        [-1.4163, -1.4163, -1.4163,  ..., -1.4163, -1.4163, -1.4163],\n",
      "        [-1.4163, -1.4163, -1.4163,  ..., -1.4163, -1.4163, -1.4163],\n",
      "        [-1.4163, -1.4163, -1.4163,  ..., -1.4163, -1.4163, -1.4163]],\n",
      "       dtype=torch.float64), tensor([[ 1.2861,  1.2487,  1.2861,  ...,  0.2025, -0.0591, -0.1338],\n",
      "        [ 1.3608,  1.2114,  1.1740,  ..., -0.2833, -0.0217, -0.1712],\n",
      "        [ 1.3608,  1.0619,  0.9124,  ..., -0.6570, -0.1712, -0.1712],\n",
      "        ...,\n",
      "        [ 1.6224,  1.6224,  1.5850,  ...,  0.5388,  0.5761,  0.6509],\n",
      "        [ 1.6224,  1.6224,  1.6224,  ...,  0.5761,  0.6135,  0.6882],\n",
      "        [ 1.5850,  1.6224,  1.6224,  ...,  0.5761,  0.6882,  0.6882]],\n",
      "       dtype=torch.float64), tensor([[-0.8608, -0.8385, -0.8162,  ..., -0.7716, -0.7716, -0.7716],\n",
      "        [-0.8385, -0.8608, -0.8385,  ..., -0.7494, -0.7494, -0.7716],\n",
      "        [-0.8162, -0.8385, -0.8385,  ..., -0.7939, -0.7716, -0.7716],\n",
      "        ...,\n",
      "        [-0.7716, -0.7939, -0.7939,  ..., -0.7939, -0.7716, -0.7716],\n",
      "        [-0.7494, -0.7494, -0.7939,  ..., -0.7716, -0.7716, -0.7716],\n",
      "        [-0.7048, -0.7048, -0.6825,  ..., -0.7716, -0.7939, -0.7716]],\n",
      "       dtype=torch.float64), tensor([[-0.5686, -0.5937, -0.5686,  ..., -0.5185, -0.5686, -0.5185],\n",
      "        [-0.5937, -0.5937, -0.5686,  ..., -0.5436, -0.5686, -0.5185],\n",
      "        [-0.5686, -0.5686, -0.5686,  ..., -0.5937, -0.5937, -0.6188],\n",
      "        ...,\n",
      "        [-0.5436, -0.5436, -0.5185,  ..., -0.5185, -0.5436, -0.5686],\n",
      "        [-0.5686, -0.5436, -0.5436,  ..., -0.5185, -0.5185, -0.5185],\n",
      "        [-0.5436, -0.5436, -0.5436,  ..., -0.4935, -0.5185, -0.5436]],\n",
      "       dtype=torch.float64), tensor([[-1.9675, -1.9675, -1.9675,  ..., -1.9675, -1.9675, -1.9675],\n",
      "        [-1.9675, -1.9675, -1.9675,  ..., -1.9675, -1.9675, -1.9675],\n",
      "        [-1.9675, -1.9675, -1.9675,  ..., -1.9675, -1.9675, -1.9675],\n",
      "        ...,\n",
      "        [ 0.0754,  0.0754,  0.0754,  ...,  0.7014,  0.7343,  0.7014],\n",
      "        [ 0.3389,  0.3389,  0.3389,  ...,  0.7343,  0.7014,  0.7343],\n",
      "        [ 0.9650,  0.9979,  1.0309,  ...,  0.7343,  0.7673,  0.7343]],\n",
      "       dtype=torch.float64)]\n",
      "[tensor([[ 1.8984,  1.8481,  1.7978,  ...,  0.0364,  0.0868, -0.1145],\n",
      "        [ 1.8984,  1.8984,  1.8481,  ..., -0.1145,  0.3384, -0.1145],\n",
      "        [ 1.6971,  1.4958,  1.3952,  ..., -0.6681, -0.0642,  0.0868],\n",
      "        ...,\n",
      "        [ 2.2507,  2.0997,  2.1500,  ...,  0.5397,  0.7410,  0.8919],\n",
      "        [ 2.2004,  2.2507,  2.1500,  ...,  0.5900,  0.7410,  0.9926],\n",
      "        [ 2.2507,  2.2004,  2.1500,  ...,  0.6403,  0.7913,  0.9926]],\n",
      "       dtype=torch.float64), tensor([[ 0.9151,  0.8777,  0.8402,  ...,  1.9270,  0.8402,  0.5779],\n",
      "        [ 0.7278,  0.7652,  0.6153,  ...,  0.5404,  0.8402,  0.5779],\n",
      "        [ 0.9526,  0.6153,  0.4654,  ...,  0.0907,  0.2781,  1.1400],\n",
      "        ...,\n",
      "        [ 0.8027,  0.8027,  0.7652,  ..., -0.2466, -0.2091, -0.0218],\n",
      "        [ 0.8027,  0.8027,  0.7652,  ..., -0.2466, -0.0967, -0.0218],\n",
      "        [ 0.7652,  0.8027,  0.8027,  ..., -0.0967,  0.0907,  0.0907]],\n",
      "       dtype=torch.float64), tensor([[-1.4163, -1.4163, -1.4163,  ..., -1.4163, -1.4163, -1.4163],\n",
      "        [-1.4163, -1.4163, -1.4163,  ..., -1.4163, -1.4163, -1.4163],\n",
      "        [-1.4163, -1.4163, -1.4163,  ..., -1.4163, -1.4163, -1.4163],\n",
      "        ...,\n",
      "        [-1.4163, -1.4163, -1.4163,  ..., -1.4163, -1.4163, -1.4163],\n",
      "        [-1.4163, -1.4163, -1.4163,  ..., -1.4163, -1.4163, -1.4163],\n",
      "        [-1.4163, -1.4163, -1.4163,  ..., -1.4163, -1.4163, -1.4163]],\n",
      "       dtype=torch.float64), tensor([[ 1.2861,  1.2487,  1.2861,  ...,  0.2025, -0.0591, -0.1338],\n",
      "        [ 1.3608,  1.2114,  1.1740,  ..., -0.2833, -0.0217, -0.1712],\n",
      "        [ 1.3608,  1.0619,  0.9124,  ..., -0.6570, -0.1712, -0.1712],\n",
      "        ...,\n",
      "        [ 1.6224,  1.6224,  1.5850,  ...,  0.5388,  0.5761,  0.6509],\n",
      "        [ 1.6224,  1.6224,  1.6224,  ...,  0.5761,  0.6135,  0.6882],\n",
      "        [ 1.5850,  1.6224,  1.6224,  ...,  0.5761,  0.6882,  0.6882]],\n",
      "       dtype=torch.float64), tensor([[-0.8608, -0.8385, -0.8162,  ..., -0.7716, -0.7716, -0.7716],\n",
      "        [-0.8385, -0.8608, -0.8385,  ..., -0.7494, -0.7494, -0.7716],\n",
      "        [-0.8162, -0.8385, -0.8385,  ..., -0.7939, -0.7716, -0.7716],\n",
      "        ...,\n",
      "        [-0.7716, -0.7939, -0.7939,  ..., -0.7939, -0.7716, -0.7716],\n",
      "        [-0.7494, -0.7494, -0.7939,  ..., -0.7716, -0.7716, -0.7716],\n",
      "        [-0.7048, -0.7048, -0.6825,  ..., -0.7716, -0.7939, -0.7716]],\n",
      "       dtype=torch.float64), tensor([[-0.5686, -0.5937, -0.5686,  ..., -0.5185, -0.5686, -0.5185],\n",
      "        [-0.5937, -0.5937, -0.5686,  ..., -0.5436, -0.5686, -0.5185],\n",
      "        [-0.5686, -0.5686, -0.5686,  ..., -0.5937, -0.5937, -0.6188],\n",
      "        ...,\n",
      "        [-0.5436, -0.5436, -0.5185,  ..., -0.5185, -0.5436, -0.5686],\n",
      "        [-0.5686, -0.5436, -0.5436,  ..., -0.5185, -0.5185, -0.5185],\n",
      "        [-0.5436, -0.5436, -0.5436,  ..., -0.4935, -0.5185, -0.5436]],\n",
      "       dtype=torch.float64), tensor([[-1.9675, -1.9675, -1.9675,  ..., -1.9675, -1.9675, -1.9675],\n",
      "        [-1.9675, -1.9675, -1.9675,  ..., -1.9675, -1.9675, -1.9675],\n",
      "        [-1.9675, -1.9675, -1.9675,  ..., -1.9675, -1.9675, -1.9675],\n",
      "        ...,\n",
      "        [ 0.0754,  0.0754,  0.0754,  ...,  0.7014,  0.7343,  0.7014],\n",
      "        [ 0.3389,  0.3389,  0.3389,  ...,  0.7343,  0.7014,  0.7343],\n",
      "        [ 0.9650,  0.9979,  1.0309,  ...,  0.7343,  0.7673,  0.7343]],\n",
      "       dtype=torch.float64), tensor([[-0.3320, -0.3765, -0.4209,  ...,  0.8232,  0.8232,  0.8677],\n",
      "        [-0.3765, -0.4653, -0.5098,  ...,  0.6899,  0.6899,  0.7788],\n",
      "        [-0.4209, -0.5542, -0.5542,  ...,  0.6011,  0.6011,  0.6899],\n",
      "        ...,\n",
      "        [ 0.2900, -0.0210, -0.1987,  ...,  1.0010,  1.1343,  1.2676],\n",
      "        [ 0.7344,  0.2012, -0.0654,  ...,  1.1343,  1.2676,  1.3120],\n",
      "        [ 1.7119,  0.7788,  0.2900,  ...,  1.2676,  1.4009,  1.4453]],\n",
      "       dtype=torch.float64)]\n",
      "[tensor([[ 1.8984,  1.8481,  1.7978,  ...,  0.0364,  0.0868, -0.1145],\n",
      "        [ 1.8984,  1.8984,  1.8481,  ..., -0.1145,  0.3384, -0.1145],\n",
      "        [ 1.6971,  1.4958,  1.3952,  ..., -0.6681, -0.0642,  0.0868],\n",
      "        ...,\n",
      "        [ 2.2507,  2.0997,  2.1500,  ...,  0.5397,  0.7410,  0.8919],\n",
      "        [ 2.2004,  2.2507,  2.1500,  ...,  0.5900,  0.7410,  0.9926],\n",
      "        [ 2.2507,  2.2004,  2.1500,  ...,  0.6403,  0.7913,  0.9926]],\n",
      "       dtype=torch.float64), tensor([[ 0.9151,  0.8777,  0.8402,  ...,  1.9270,  0.8402,  0.5779],\n",
      "        [ 0.7278,  0.7652,  0.6153,  ...,  0.5404,  0.8402,  0.5779],\n",
      "        [ 0.9526,  0.6153,  0.4654,  ...,  0.0907,  0.2781,  1.1400],\n",
      "        ...,\n",
      "        [ 0.8027,  0.8027,  0.7652,  ..., -0.2466, -0.2091, -0.0218],\n",
      "        [ 0.8027,  0.8027,  0.7652,  ..., -0.2466, -0.0967, -0.0218],\n",
      "        [ 0.7652,  0.8027,  0.8027,  ..., -0.0967,  0.0907,  0.0907]],\n",
      "       dtype=torch.float64), tensor([[-1.4163, -1.4163, -1.4163,  ..., -1.4163, -1.4163, -1.4163],\n",
      "        [-1.4163, -1.4163, -1.4163,  ..., -1.4163, -1.4163, -1.4163],\n",
      "        [-1.4163, -1.4163, -1.4163,  ..., -1.4163, -1.4163, -1.4163],\n",
      "        ...,\n",
      "        [-1.4163, -1.4163, -1.4163,  ..., -1.4163, -1.4163, -1.4163],\n",
      "        [-1.4163, -1.4163, -1.4163,  ..., -1.4163, -1.4163, -1.4163],\n",
      "        [-1.4163, -1.4163, -1.4163,  ..., -1.4163, -1.4163, -1.4163]],\n",
      "       dtype=torch.float64), tensor([[ 1.2861,  1.2487,  1.2861,  ...,  0.2025, -0.0591, -0.1338],\n",
      "        [ 1.3608,  1.2114,  1.1740,  ..., -0.2833, -0.0217, -0.1712],\n",
      "        [ 1.3608,  1.0619,  0.9124,  ..., -0.6570, -0.1712, -0.1712],\n",
      "        ...,\n",
      "        [ 1.6224,  1.6224,  1.5850,  ...,  0.5388,  0.5761,  0.6509],\n",
      "        [ 1.6224,  1.6224,  1.6224,  ...,  0.5761,  0.6135,  0.6882],\n",
      "        [ 1.5850,  1.6224,  1.6224,  ...,  0.5761,  0.6882,  0.6882]],\n",
      "       dtype=torch.float64), tensor([[-0.8608, -0.8385, -0.8162,  ..., -0.7716, -0.7716, -0.7716],\n",
      "        [-0.8385, -0.8608, -0.8385,  ..., -0.7494, -0.7494, -0.7716],\n",
      "        [-0.8162, -0.8385, -0.8385,  ..., -0.7939, -0.7716, -0.7716],\n",
      "        ...,\n",
      "        [-0.7716, -0.7939, -0.7939,  ..., -0.7939, -0.7716, -0.7716],\n",
      "        [-0.7494, -0.7494, -0.7939,  ..., -0.7716, -0.7716, -0.7716],\n",
      "        [-0.7048, -0.7048, -0.6825,  ..., -0.7716, -0.7939, -0.7716]],\n",
      "       dtype=torch.float64), tensor([[-0.5686, -0.5937, -0.5686,  ..., -0.5185, -0.5686, -0.5185],\n",
      "        [-0.5937, -0.5937, -0.5686,  ..., -0.5436, -0.5686, -0.5185],\n",
      "        [-0.5686, -0.5686, -0.5686,  ..., -0.5937, -0.5937, -0.6188],\n",
      "        ...,\n",
      "        [-0.5436, -0.5436, -0.5185,  ..., -0.5185, -0.5436, -0.5686],\n",
      "        [-0.5686, -0.5436, -0.5436,  ..., -0.5185, -0.5185, -0.5185],\n",
      "        [-0.5436, -0.5436, -0.5436,  ..., -0.4935, -0.5185, -0.5436]],\n",
      "       dtype=torch.float64), tensor([[-1.9675, -1.9675, -1.9675,  ..., -1.9675, -1.9675, -1.9675],\n",
      "        [-1.9675, -1.9675, -1.9675,  ..., -1.9675, -1.9675, -1.9675],\n",
      "        [-1.9675, -1.9675, -1.9675,  ..., -1.9675, -1.9675, -1.9675],\n",
      "        ...,\n",
      "        [ 0.0754,  0.0754,  0.0754,  ...,  0.7014,  0.7343,  0.7014],\n",
      "        [ 0.3389,  0.3389,  0.3389,  ...,  0.7343,  0.7014,  0.7343],\n",
      "        [ 0.9650,  0.9979,  1.0309,  ...,  0.7343,  0.7673,  0.7343]],\n",
      "       dtype=torch.float64), tensor([[-0.3320, -0.3765, -0.4209,  ...,  0.8232,  0.8232,  0.8677],\n",
      "        [-0.3765, -0.4653, -0.5098,  ...,  0.6899,  0.6899,  0.7788],\n",
      "        [-0.4209, -0.5542, -0.5542,  ...,  0.6011,  0.6011,  0.6899],\n",
      "        ...,\n",
      "        [ 0.2900, -0.0210, -0.1987,  ...,  1.0010,  1.1343,  1.2676],\n",
      "        [ 0.7344,  0.2012, -0.0654,  ...,  1.1343,  1.2676,  1.3120],\n",
      "        [ 1.7119,  0.7788,  0.2900,  ...,  1.2676,  1.4009,  1.4453]],\n",
      "       dtype=torch.float64), tensor([[-0.1875, -0.2251, -0.2628,  ...,  0.7531,  0.7907,  0.8283],\n",
      "        [-0.2251, -0.2628, -0.3380,  ...,  0.6778,  0.6778,  0.7531],\n",
      "        [-0.2628, -0.3380, -0.3756,  ...,  0.6026,  0.6402,  0.7155],\n",
      "        ...,\n",
      "        [-0.1875, -0.4133, -0.6390,  ...,  1.0541,  1.0917,  1.2046],\n",
      "        [ 0.1511, -0.2628, -0.4509,  ...,  1.1293,  1.1669,  1.2422],\n",
      "        [ 1.0541,  0.1135, -0.2251,  ...,  1.2422,  1.2798,  1.2798]],\n",
      "       dtype=torch.float64)]\n",
      "[tensor([[ 1.8984,  1.8481,  1.7978,  ...,  0.0364,  0.0868, -0.1145],\n",
      "        [ 1.8984,  1.8984,  1.8481,  ..., -0.1145,  0.3384, -0.1145],\n",
      "        [ 1.6971,  1.4958,  1.3952,  ..., -0.6681, -0.0642,  0.0868],\n",
      "        ...,\n",
      "        [ 2.2507,  2.0997,  2.1500,  ...,  0.5397,  0.7410,  0.8919],\n",
      "        [ 2.2004,  2.2507,  2.1500,  ...,  0.5900,  0.7410,  0.9926],\n",
      "        [ 2.2507,  2.2004,  2.1500,  ...,  0.6403,  0.7913,  0.9926]],\n",
      "       dtype=torch.float64), tensor([[ 0.9151,  0.8777,  0.8402,  ...,  1.9270,  0.8402,  0.5779],\n",
      "        [ 0.7278,  0.7652,  0.6153,  ...,  0.5404,  0.8402,  0.5779],\n",
      "        [ 0.9526,  0.6153,  0.4654,  ...,  0.0907,  0.2781,  1.1400],\n",
      "        ...,\n",
      "        [ 0.8027,  0.8027,  0.7652,  ..., -0.2466, -0.2091, -0.0218],\n",
      "        [ 0.8027,  0.8027,  0.7652,  ..., -0.2466, -0.0967, -0.0218],\n",
      "        [ 0.7652,  0.8027,  0.8027,  ..., -0.0967,  0.0907,  0.0907]],\n",
      "       dtype=torch.float64), tensor([[-1.4163, -1.4163, -1.4163,  ..., -1.4163, -1.4163, -1.4163],\n",
      "        [-1.4163, -1.4163, -1.4163,  ..., -1.4163, -1.4163, -1.4163],\n",
      "        [-1.4163, -1.4163, -1.4163,  ..., -1.4163, -1.4163, -1.4163],\n",
      "        ...,\n",
      "        [-1.4163, -1.4163, -1.4163,  ..., -1.4163, -1.4163, -1.4163],\n",
      "        [-1.4163, -1.4163, -1.4163,  ..., -1.4163, -1.4163, -1.4163],\n",
      "        [-1.4163, -1.4163, -1.4163,  ..., -1.4163, -1.4163, -1.4163]],\n",
      "       dtype=torch.float64), tensor([[ 1.2861,  1.2487,  1.2861,  ...,  0.2025, -0.0591, -0.1338],\n",
      "        [ 1.3608,  1.2114,  1.1740,  ..., -0.2833, -0.0217, -0.1712],\n",
      "        [ 1.3608,  1.0619,  0.9124,  ..., -0.6570, -0.1712, -0.1712],\n",
      "        ...,\n",
      "        [ 1.6224,  1.6224,  1.5850,  ...,  0.5388,  0.5761,  0.6509],\n",
      "        [ 1.6224,  1.6224,  1.6224,  ...,  0.5761,  0.6135,  0.6882],\n",
      "        [ 1.5850,  1.6224,  1.6224,  ...,  0.5761,  0.6882,  0.6882]],\n",
      "       dtype=torch.float64), tensor([[-0.8608, -0.8385, -0.8162,  ..., -0.7716, -0.7716, -0.7716],\n",
      "        [-0.8385, -0.8608, -0.8385,  ..., -0.7494, -0.7494, -0.7716],\n",
      "        [-0.8162, -0.8385, -0.8385,  ..., -0.7939, -0.7716, -0.7716],\n",
      "        ...,\n",
      "        [-0.7716, -0.7939, -0.7939,  ..., -0.7939, -0.7716, -0.7716],\n",
      "        [-0.7494, -0.7494, -0.7939,  ..., -0.7716, -0.7716, -0.7716],\n",
      "        [-0.7048, -0.7048, -0.6825,  ..., -0.7716, -0.7939, -0.7716]],\n",
      "       dtype=torch.float64), tensor([[-0.5686, -0.5937, -0.5686,  ..., -0.5185, -0.5686, -0.5185],\n",
      "        [-0.5937, -0.5937, -0.5686,  ..., -0.5436, -0.5686, -0.5185],\n",
      "        [-0.5686, -0.5686, -0.5686,  ..., -0.5937, -0.5937, -0.6188],\n",
      "        ...,\n",
      "        [-0.5436, -0.5436, -0.5185,  ..., -0.5185, -0.5436, -0.5686],\n",
      "        [-0.5686, -0.5436, -0.5436,  ..., -0.5185, -0.5185, -0.5185],\n",
      "        [-0.5436, -0.5436, -0.5436,  ..., -0.4935, -0.5185, -0.5436]],\n",
      "       dtype=torch.float64), tensor([[-1.9675, -1.9675, -1.9675,  ..., -1.9675, -1.9675, -1.9675],\n",
      "        [-1.9675, -1.9675, -1.9675,  ..., -1.9675, -1.9675, -1.9675],\n",
      "        [-1.9675, -1.9675, -1.9675,  ..., -1.9675, -1.9675, -1.9675],\n",
      "        ...,\n",
      "        [ 0.0754,  0.0754,  0.0754,  ...,  0.7014,  0.7343,  0.7014],\n",
      "        [ 0.3389,  0.3389,  0.3389,  ...,  0.7343,  0.7014,  0.7343],\n",
      "        [ 0.9650,  0.9979,  1.0309,  ...,  0.7343,  0.7673,  0.7343]],\n",
      "       dtype=torch.float64), tensor([[-0.3320, -0.3765, -0.4209,  ...,  0.8232,  0.8232,  0.8677],\n",
      "        [-0.3765, -0.4653, -0.5098,  ...,  0.6899,  0.6899,  0.7788],\n",
      "        [-0.4209, -0.5542, -0.5542,  ...,  0.6011,  0.6011,  0.6899],\n",
      "        ...,\n",
      "        [ 0.2900, -0.0210, -0.1987,  ...,  1.0010,  1.1343,  1.2676],\n",
      "        [ 0.7344,  0.2012, -0.0654,  ...,  1.1343,  1.2676,  1.3120],\n",
      "        [ 1.7119,  0.7788,  0.2900,  ...,  1.2676,  1.4009,  1.4453]],\n",
      "       dtype=torch.float64), tensor([[-0.1875, -0.2251, -0.2628,  ...,  0.7531,  0.7907,  0.8283],\n",
      "        [-0.2251, -0.2628, -0.3380,  ...,  0.6778,  0.6778,  0.7531],\n",
      "        [-0.2628, -0.3380, -0.3756,  ...,  0.6026,  0.6402,  0.7155],\n",
      "        ...,\n",
      "        [-0.1875, -0.4133, -0.6390,  ...,  1.0541,  1.0917,  1.2046],\n",
      "        [ 0.1511, -0.2628, -0.4509,  ...,  1.1293,  1.1669,  1.2422],\n",
      "        [ 1.0541,  0.1135, -0.2251,  ...,  1.2422,  1.2798,  1.2798]],\n",
      "       dtype=torch.float64), tensor([[-1.6405, -1.6405, -1.6405,  ..., -1.6405, -1.6405, -1.6405],\n",
      "        [-1.6405, -1.6405, -1.6405,  ..., -1.6405, -1.6405, -1.6405],\n",
      "        [-1.6405, -1.6405, -1.6405,  ..., -1.6405, -1.6405, -1.6405],\n",
      "        ...,\n",
      "        [ 0.4498,  0.2938,  0.2002,  ...,  1.5105,  1.5417,  1.5729],\n",
      "        [ 2.0409,  0.7617,  0.3874,  ...,  1.5729,  1.6041,  1.6041],\n",
      "        [ 6.3150,  5.0671,  1.5417,  ...,  1.5729,  1.6041,  1.6041]],\n",
      "       dtype=torch.float64)]\n",
      "[tensor([[ 1.8984,  1.8481,  1.7978,  ...,  0.0364,  0.0868, -0.1145],\n",
      "        [ 1.8984,  1.8984,  1.8481,  ..., -0.1145,  0.3384, -0.1145],\n",
      "        [ 1.6971,  1.4958,  1.3952,  ..., -0.6681, -0.0642,  0.0868],\n",
      "        ...,\n",
      "        [ 2.2507,  2.0997,  2.1500,  ...,  0.5397,  0.7410,  0.8919],\n",
      "        [ 2.2004,  2.2507,  2.1500,  ...,  0.5900,  0.7410,  0.9926],\n",
      "        [ 2.2507,  2.2004,  2.1500,  ...,  0.6403,  0.7913,  0.9926]],\n",
      "       dtype=torch.float64), tensor([[ 0.9151,  0.8777,  0.8402,  ...,  1.9270,  0.8402,  0.5779],\n",
      "        [ 0.7278,  0.7652,  0.6153,  ...,  0.5404,  0.8402,  0.5779],\n",
      "        [ 0.9526,  0.6153,  0.4654,  ...,  0.0907,  0.2781,  1.1400],\n",
      "        ...,\n",
      "        [ 0.8027,  0.8027,  0.7652,  ..., -0.2466, -0.2091, -0.0218],\n",
      "        [ 0.8027,  0.8027,  0.7652,  ..., -0.2466, -0.0967, -0.0218],\n",
      "        [ 0.7652,  0.8027,  0.8027,  ..., -0.0967,  0.0907,  0.0907]],\n",
      "       dtype=torch.float64), tensor([[-1.4163, -1.4163, -1.4163,  ..., -1.4163, -1.4163, -1.4163],\n",
      "        [-1.4163, -1.4163, -1.4163,  ..., -1.4163, -1.4163, -1.4163],\n",
      "        [-1.4163, -1.4163, -1.4163,  ..., -1.4163, -1.4163, -1.4163],\n",
      "        ...,\n",
      "        [-1.4163, -1.4163, -1.4163,  ..., -1.4163, -1.4163, -1.4163],\n",
      "        [-1.4163, -1.4163, -1.4163,  ..., -1.4163, -1.4163, -1.4163],\n",
      "        [-1.4163, -1.4163, -1.4163,  ..., -1.4163, -1.4163, -1.4163]],\n",
      "       dtype=torch.float64), tensor([[ 1.2861,  1.2487,  1.2861,  ...,  0.2025, -0.0591, -0.1338],\n",
      "        [ 1.3608,  1.2114,  1.1740,  ..., -0.2833, -0.0217, -0.1712],\n",
      "        [ 1.3608,  1.0619,  0.9124,  ..., -0.6570, -0.1712, -0.1712],\n",
      "        ...,\n",
      "        [ 1.6224,  1.6224,  1.5850,  ...,  0.5388,  0.5761,  0.6509],\n",
      "        [ 1.6224,  1.6224,  1.6224,  ...,  0.5761,  0.6135,  0.6882],\n",
      "        [ 1.5850,  1.6224,  1.6224,  ...,  0.5761,  0.6882,  0.6882]],\n",
      "       dtype=torch.float64), tensor([[-0.8608, -0.8385, -0.8162,  ..., -0.7716, -0.7716, -0.7716],\n",
      "        [-0.8385, -0.8608, -0.8385,  ..., -0.7494, -0.7494, -0.7716],\n",
      "        [-0.8162, -0.8385, -0.8385,  ..., -0.7939, -0.7716, -0.7716],\n",
      "        ...,\n",
      "        [-0.7716, -0.7939, -0.7939,  ..., -0.7939, -0.7716, -0.7716],\n",
      "        [-0.7494, -0.7494, -0.7939,  ..., -0.7716, -0.7716, -0.7716],\n",
      "        [-0.7048, -0.7048, -0.6825,  ..., -0.7716, -0.7939, -0.7716]],\n",
      "       dtype=torch.float64), tensor([[-0.5686, -0.5937, -0.5686,  ..., -0.5185, -0.5686, -0.5185],\n",
      "        [-0.5937, -0.5937, -0.5686,  ..., -0.5436, -0.5686, -0.5185],\n",
      "        [-0.5686, -0.5686, -0.5686,  ..., -0.5937, -0.5937, -0.6188],\n",
      "        ...,\n",
      "        [-0.5436, -0.5436, -0.5185,  ..., -0.5185, -0.5436, -0.5686],\n",
      "        [-0.5686, -0.5436, -0.5436,  ..., -0.5185, -0.5185, -0.5185],\n",
      "        [-0.5436, -0.5436, -0.5436,  ..., -0.4935, -0.5185, -0.5436]],\n",
      "       dtype=torch.float64), tensor([[-1.9675, -1.9675, -1.9675,  ..., -1.9675, -1.9675, -1.9675],\n",
      "        [-1.9675, -1.9675, -1.9675,  ..., -1.9675, -1.9675, -1.9675],\n",
      "        [-1.9675, -1.9675, -1.9675,  ..., -1.9675, -1.9675, -1.9675],\n",
      "        ...,\n",
      "        [ 0.0754,  0.0754,  0.0754,  ...,  0.7014,  0.7343,  0.7014],\n",
      "        [ 0.3389,  0.3389,  0.3389,  ...,  0.7343,  0.7014,  0.7343],\n",
      "        [ 0.9650,  0.9979,  1.0309,  ...,  0.7343,  0.7673,  0.7343]],\n",
      "       dtype=torch.float64), tensor([[-0.3320, -0.3765, -0.4209,  ...,  0.8232,  0.8232,  0.8677],\n",
      "        [-0.3765, -0.4653, -0.5098,  ...,  0.6899,  0.6899,  0.7788],\n",
      "        [-0.4209, -0.5542, -0.5542,  ...,  0.6011,  0.6011,  0.6899],\n",
      "        ...,\n",
      "        [ 0.2900, -0.0210, -0.1987,  ...,  1.0010,  1.1343,  1.2676],\n",
      "        [ 0.7344,  0.2012, -0.0654,  ...,  1.1343,  1.2676,  1.3120],\n",
      "        [ 1.7119,  0.7788,  0.2900,  ...,  1.2676,  1.4009,  1.4453]],\n",
      "       dtype=torch.float64), tensor([[-0.1875, -0.2251, -0.2628,  ...,  0.7531,  0.7907,  0.8283],\n",
      "        [-0.2251, -0.2628, -0.3380,  ...,  0.6778,  0.6778,  0.7531],\n",
      "        [-0.2628, -0.3380, -0.3756,  ...,  0.6026,  0.6402,  0.7155],\n",
      "        ...,\n",
      "        [-0.1875, -0.4133, -0.6390,  ...,  1.0541,  1.0917,  1.2046],\n",
      "        [ 0.1511, -0.2628, -0.4509,  ...,  1.1293,  1.1669,  1.2422],\n",
      "        [ 1.0541,  0.1135, -0.2251,  ...,  1.2422,  1.2798,  1.2798]],\n",
      "       dtype=torch.float64), tensor([[-1.6405, -1.6405, -1.6405,  ..., -1.6405, -1.6405, -1.6405],\n",
      "        [-1.6405, -1.6405, -1.6405,  ..., -1.6405, -1.6405, -1.6405],\n",
      "        [-1.6405, -1.6405, -1.6405,  ..., -1.6405, -1.6405, -1.6405],\n",
      "        ...,\n",
      "        [ 0.4498,  0.2938,  0.2002,  ...,  1.5105,  1.5417,  1.5729],\n",
      "        [ 2.0409,  0.7617,  0.3874,  ...,  1.5729,  1.6041,  1.6041],\n",
      "        [ 6.3150,  5.0671,  1.5417,  ...,  1.5729,  1.6041,  1.6041]],\n",
      "       dtype=torch.float64), tensor([[ 1.6366,  1.4813,  1.2873,  ...,  2.3351,  2.1022,  1.8694],\n",
      "        [ 1.5589,  1.3649,  1.1321,  ...,  1.5978,  1.7530,  1.9470],\n",
      "        [ 1.4813,  1.2873,  1.0545,  ...,  0.6664,  1.0933,  1.8306],\n",
      "        ...,\n",
      "        [ 1.6366,  1.5589,  1.5201,  ..., -0.9247, -0.6530, -0.4202],\n",
      "        [ 1.7142,  1.6754,  1.6366,  ..., -0.9247, -0.6530, -0.3814],\n",
      "        [ 1.7918,  1.7530,  1.6754,  ..., -0.8471, -0.5754, -0.3426]],\n",
      "       dtype=torch.float64)]\n"
     ]
    }
   ],
   "source": [
    "xx = []\n",
    "for i in range(len(imgs)):\n",
    "    x = np.array(imgs[i])\n",
    "    #x=x.flatten()\n",
    "    x=(x-np.mean(x))/(np.std(x))\n",
    "    xx.append(torch.from_numpy(x).cuda(0))\n",
    "    print(xx)\n",
    "#len(imgs)\n",
    "#len(imgs[0])\n",
    "#arr_dimen(imgs)\n",
    "#len(x)"
   ]
  },
  {
   "cell_type": "code",
   "execution_count": 34,
   "metadata": {
    "ExecuteTime": {
     "end_time": "2018-10-04T09:42:46.936689Z",
     "start_time": "2018-10-04T09:42:46.929570Z"
    }
   },
   "outputs": [
    {
     "data": {
      "text/plain": [
       "320"
      ]
     },
     "execution_count": 34,
     "metadata": {},
     "output_type": "execute_result"
    }
   ],
   "source": [
    "len(xx[0])"
   ]
  },
  {
   "cell_type": "code",
   "execution_count": 22,
   "metadata": {
    "ExecuteTime": {
     "end_time": "2018-10-04T09:43:04.823515Z",
     "start_time": "2018-10-04T09:43:04.800618Z"
    }
   },
   "outputs": [
    {
     "data": {
      "text/plain": [
       "tensor([[ 1.8984,  1.8481,  1.7978,  ...,  0.0364,  0.0868, -0.1145],\n",
       "        [ 1.8984,  1.8984,  1.8481,  ..., -0.1145,  0.3384, -0.1145],\n",
       "        [ 1.6971,  1.4958,  1.3952,  ..., -0.6681, -0.0642,  0.0868],\n",
       "        ...,\n",
       "        [ 1.3372,  1.3372,  1.3240,  ..., -0.6849,  0.0156,  0.1610],\n",
       "        [ 1.3240,  1.3505,  1.3637,  ...,  0.1213,  0.2271,  0.3857],\n",
       "        [ 1.3637,  1.3505,  1.3769,  ...,  0.3592,  0.7161,  0.9143]],\n",
       "       dtype=torch.float64)"
      ]
     },
     "execution_count": 22,
     "metadata": {},
     "output_type": "execute_result"
    }
   ],
   "source": [
    "xxx = torch.Tensor(len(xx),len(xx[0]),len(xx[0])).cuda()\n",
    "torch.cat(xx, out=xxx.double())"
   ]
  },
  {
   "cell_type": "code",
   "execution_count": 23,
   "metadata": {},
   "outputs": [
    {
     "ename": "NameError",
     "evalue": "name 'nn' is not defined",
     "output_type": "error",
     "traceback": [
      "\u001b[0;31m---------------------------------------------------------------------------\u001b[0m",
      "\u001b[0;31mNameError\u001b[0m                                 Traceback (most recent call last)",
      "\u001b[0;32m<ipython-input-23-6511c8a3814e>\u001b[0m in \u001b[0;36m<module>\u001b[0;34m\u001b[0m\n\u001b[0;32m----> 1\u001b[0;31m \u001b[0;32mclass\u001b[0m \u001b[0mLinearRegressionModel\u001b[0m\u001b[0;34m(\u001b[0m\u001b[0mnn\u001b[0m\u001b[0;34m.\u001b[0m\u001b[0mModule\u001b[0m\u001b[0;34m)\u001b[0m\u001b[0;34m:\u001b[0m\u001b[0;34m\u001b[0m\u001b[0m\n\u001b[0m\u001b[1;32m      2\u001b[0m \u001b[0;34m\u001b[0m\u001b[0m\n\u001b[1;32m      3\u001b[0m     \u001b[0;32mdef\u001b[0m \u001b[0m__init__\u001b[0m\u001b[0;34m(\u001b[0m\u001b[0mself\u001b[0m\u001b[0;34m,\u001b[0m \u001b[0minput_dim\u001b[0m\u001b[0;34m,\u001b[0m \u001b[0moutput_dim\u001b[0m\u001b[0;34m)\u001b[0m\u001b[0;34m:\u001b[0m\u001b[0;34m\u001b[0m\u001b[0m\n\u001b[1;32m      4\u001b[0m \u001b[0;34m\u001b[0m\u001b[0m\n\u001b[1;32m      5\u001b[0m         \u001b[0msuper\u001b[0m\u001b[0;34m(\u001b[0m\u001b[0mLinearRegressionModel\u001b[0m\u001b[0;34m,\u001b[0m \u001b[0mself\u001b[0m\u001b[0;34m)\u001b[0m\u001b[0;34m.\u001b[0m\u001b[0m__init__\u001b[0m\u001b[0;34m(\u001b[0m\u001b[0;34m)\u001b[0m\u001b[0;34m\u001b[0m\u001b[0m\n",
      "\u001b[0;31mNameError\u001b[0m: name 'nn' is not defined"
     ]
    }
   ],
   "source": [
    "class LinearRegressionModel(nn.Module):\n",
    "\n",
    "    def __init__(self, input_dim, output_dim):\n",
    "\n",
    "        super(LinearRegressionModel, self).__init__() \n",
    "        # Calling Super Class's constructor\n",
    "        self.linear = nn.Linear(input_dim, output_dim)\n",
    "        # nn.linear is defined in nn.Module\n",
    "\n",
    "    def forward(self, x):\n",
    "        # Here the forward pass is simply a linear function\n",
    "\n",
    "        out = self.linear(x)\n",
    "        return out\n",
    "\n",
    "input_dim = 1\n",
    "output_dim = 1\n",
    "model = LinearRegressionModel(input_dim,output_dim)\n",
    "\n",
    "criterion = nn.MSELoss()# Mean Squared Loss\n",
    "l_rate = 0.01\n",
    "optimiser = torch.optim.SGD(model.parameters(), lr = l_rate) #Stochastic Gradient Descent\n",
    "\n",
    "epochs = 2000\n",
    "for epoch in range(epochs):\n",
    "\n",
    "    epoch +=1\n",
    "    #increase the number of epochs by 1 every time\n",
    "    inputs = Variable(torch.from_numpy(x_train))\n",
    "    labels = Variable(torch.from_numpy(y_correct))\n",
    "\n",
    "    #clear grads as discussed in prev post\n",
    "    optimiser.zero_grad()\n",
    "    #forward to get predicted values\n",
    "    outputs = model.forward(inputs)\n",
    "    loss = criterion(outputs, labels)\n",
    "    loss.backward()# back props\n",
    "    optimiser.step()# update the parameters\n",
    "    print('epoch {}, loss {}'.format(epoch,loss.data[0]))\n",
    "    "
   ]
  },
  {
   "cell_type": "code",
   "execution_count": null,
   "metadata": {
    "ExecuteTime": {
     "end_time": "2018-10-04T09:43:18.029649Z",
     "start_time": "2018-10-04T09:43:18.015917Z"
    }
   },
   "outputs": [],
   "source": [
    "class DynamicNet2(torch.nn.Module):\n",
    "    def __init__(self, x,y,2):\n",
    "        super(DynamicNet2, self).__init__()\n",
    "        self.input_linear = torch.nn.Linear(len(x), H)\n",
    "        self.middle_linear = torch.nn.Linear(H, H)\n",
    "        self.output_linear = torch.nn.Linear(H, len(y))\n",
    "    def forward(self, x):\n",
    "        h_relu = self.input_linear(x).clamp(min=0)\n",
    "        for _ in range(random.randint(0, int(H))):\n",
    "            h_relu = self.middle_linear(h_relu).clamp(min=0)\n",
    "        y_pred = self.output_linear(h_relu)\n",
    "        return y_pred"
   ]
  },
  {
   "cell_type": "code",
   "execution_count": null,
   "metadata": {
    "ExecuteTime": {
     "end_time": "2018-10-04T09:54:39.767204Z",
     "start_time": "2018-10-04T09:54:39.726907Z"
    }
   },
   "outputs": [],
   "source": [
    "model = DynamicNet2(xxx, 2, y).cuda()\n",
    "criterion = torch.nn.MSELoss(reduction='sum').cuda()\n",
    "optimizer = torch.optim.SGD(model.parameters(), lr=1e-4, momentum=0.9)\n",
    "yp = model(xxx)\n",
    "yp"
   ]
  },
  {
   "cell_type": "code",
   "execution_count": null,
   "metadata": {
    "ExecuteTime": {
     "end_time": "2018-10-02T12:59:39.676693Z",
     "start_time": "2018-10-02T12:59:39.629621Z"
    }
   },
   "outputs": [],
   "source": [
    "for t in range(1):\n",
    "    y_pred = model(x)\n",
    "    loss = criterion(y_pred, y)\n",
    "    print(t, loss.item())\n",
    "    optimizer.zero_grad()\n",
    "    loss.backward()\n",
    "    optimizer.step()"
   ]
  },
  {
   "cell_type": "code",
   "execution_count": null,
   "metadata": {
    "ExecuteTime": {
     "end_time": "2018-11-04T21:17:26.620258Z",
     "start_time": "2018-11-04T21:17:26.593366Z"
    }
   },
   "outputs": [],
   "source": [
    "print(x.device)\n",
    "print(y.device)\n",
    "print(y_pred.device)"
   ]
  },
  {
   "cell_type": "code",
   "execution_count": 2,
   "metadata": {
    "ExecuteTime": {
     "end_time": "2018-11-04T21:17:38.664330Z",
     "start_time": "2018-11-04T21:17:38.656741Z"
    }
   },
   "outputs": [],
   "source": [
    "#check with https://github.com/animesh/ann/blob/master/ann/Program.cs\n",
    "#Iteration = 1   Error = 0.298371108760003       Outputs = 0.751365069552316     0.772928465321463\n",
    "#Iteration = 2   Error = 0.291027773693599       Outputs = 0.742088111190782     0.775284968294459\n",
    "inp=[0.05,0.10]\n",
    "inpw=[[0.15,0.20],[0.25,0.3]]\n",
    "hidden=2\n",
    "hidw=[[0.4,0.45],[0.5,0.55]]\n",
    "outputc=2\n",
    "outputr=[0.01,0.99]\n",
    "bias=[0.35,0.6]\n",
    "cons=[1,1]\n",
    "lr=0.5\n",
    "error=1\n",
    "itr=1000"
   ]
  },
  {
   "cell_type": "code",
   "execution_count": 5,
   "metadata": {
    "ExecuteTime": {
     "end_time": "2018-11-04T21:17:40.261878Z",
     "start_time": "2018-11-04T21:17:40.251649Z"
    }
   },
   "outputs": [
    {
     "name": "stdout",
     "output_type": "stream",
     "text": [
      "[0.05 0.1 ] [0.01 0.99] [0.35 0.6 ] [[0.15 0.2 ]\n",
      " [0.25 0.3 ]] [[0.4  0.45]\n",
      " [0.5  0.55]]\n"
     ]
    }
   ],
   "source": [
    "#https://github.com/jcjohnson/pytorch-examples/blob/master/README.md  numpy\n",
    "import numpy as np\n",
    "x=np.asarray(inp)\n",
    "y=np.asarray(outputr)\n",
    "b=np.asarray(bias)\n",
    "w1=np.asarray(inpw)\n",
    "w2=np.asarray(hidw)\n",
    "print(x,y,b,w1,w2)"
   ]
  },
  {
   "cell_type": "code",
   "execution_count": 6,
   "metadata": {
    "ExecuteTime": {
     "end_time": "2018-11-04T21:17:41.637475Z",
     "start_time": "2018-11-04T21:17:41.627914Z"
    }
   },
   "outputs": [
    {
     "name": "stdout",
     "output_type": "stream",
     "text": [
      "[0.59326999 0.59688438] [0.75136507 0.77292847]\n"
     ]
    }
   ],
   "source": [
    "h=1/(1+np.exp(-(x.dot(w1.T)+b[0])))\n",
    "y_pred=1/(1+np.exp(-(h.dot(w2.T)+b[1])))\n",
    "print(h,y_pred)"
   ]
  },
  {
   "cell_type": "code",
   "execution_count": 7,
   "metadata": {
    "ExecuteTime": {
     "end_time": "2018-11-04T21:17:44.069053Z",
     "start_time": "2018-11-04T21:17:44.062263Z"
    }
   },
   "outputs": [
    {
     "name": "stdout",
     "output_type": "stream",
     "text": [
      "0.2983711087600027\n"
     ]
    }
   ],
   "source": [
    "loss = 0.5*np.square(y_pred - y).sum()\n",
    "print(loss)"
   ]
  },
  {
   "cell_type": "code",
   "execution_count": 8,
   "metadata": {
    "ExecuteTime": {
     "end_time": "2018-11-04T21:17:46.129073Z",
     "start_time": "2018-11-04T21:17:46.120721Z"
    }
   },
   "outputs": [
    {
     "data": {
      "text/plain": [
       "array([[0.35891648, 0.51137012],\n",
       "       [0.40891648, 0.56137012]])"
      ]
     },
     "execution_count": 8,
     "metadata": {},
     "output_type": "execute_result"
    }
   ],
   "source": [
    "w3=w2.T-lr*(y_pred - y)*(1-y_pred)*y_pred*h\n",
    "w3"
   ]
  },
  {
   "cell_type": "code",
   "execution_count": null,
   "metadata": {
    "ExecuteTime": {
     "end_time": "2018-10-22T11:55:48.945759Z",
     "start_time": "2018-10-22T11:55:48.938619Z"
    }
   },
   "outputs": [],
   "source": [
    "w3p=[[0.35891647971788465, 0.5113012702387375],\n",
    "       [0.4086661860762334, 0.5613701211079891]]\n",
    "print(w3p-w3)"
   ]
  },
  {
   "cell_type": "code",
   "execution_count": null,
   "metadata": {
    "ExecuteTime": {
     "end_time": "2018-10-19T20:18:18.395583Z",
     "start_time": "2018-10-19T20:18:18.390552Z"
    }
   },
   "outputs": [],
   "source": [
    "w4=w1-lr*sum(((y_pred - y)*(1-y_pred)*y_pred*w2.T).T)*h*(1-h)*x"
   ]
  },
  {
   "cell_type": "code",
   "execution_count": null,
   "metadata": {
    "ExecuteTime": {
     "end_time": "2018-10-19T20:18:21.381580Z",
     "start_time": "2018-10-19T20:18:21.377571Z"
    }
   },
   "outputs": [],
   "source": [
    "  Weight: 0.35891647971788465\n",
    "  Weight: 0.4086661860762334\n",
    "  Bias: 0.6\n",
    " Neuron 1\n",
    "  Weight: 0.5113012702387375\n",
    "  Weight: 0.5613701211079891\n",
    "print((w1-w4)/lr)"
   ]
  },
  {
   "cell_type": "code",
   "execution_count": null,
   "metadata": {
    "ExecuteTime": {
     "end_time": "2018-10-19T20:18:34.505482Z",
     "start_time": "2018-10-19T20:18:34.496957Z"
    }
   },
   "outputs": [],
   "source": [
    "h1=1/(1+np.exp(-(x.dot(w4)+b[0])))\n",
    "y_pred_h1=1/(1+np.exp(-(h1.dot(w3)+b[1])))\n",
    "print(h1,y_pred_h1)"
   ]
  },
  {
   "cell_type": "code",
   "execution_count": null,
   "metadata": {
    "ExecuteTime": {
     "end_time": "2018-10-19T20:18:36.958205Z",
     "start_time": "2018-10-19T20:18:36.951643Z"
    }
   },
   "outputs": [],
   "source": [
    "loss = 0.5*np.square(y_pred_h1 - y).sum()\n",
    "print(loss)"
   ]
  },
  {
   "cell_type": "code",
   "execution_count": null,
   "metadata": {
    "ExecuteTime": {
     "end_time": "2018-10-19T20:18:40.801329Z",
     "start_time": "2018-10-19T20:18:40.793136Z"
    }
   },
   "outputs": [],
   "source": [
    "print(y_pred_h1,y_pred,y)"
   ]
  },
  {
   "cell_type": "code",
   "execution_count": null,
   "metadata": {
    "ExecuteTime": {
     "end_time": "2018-10-22T12:09:14.608580Z",
     "start_time": "2018-10-22T12:09:14.526368Z"
    }
   },
   "outputs": [],
   "source": [
    "import torch\n",
    "torch.cuda.set_device(0)"
   ]
  },
  {
   "cell_type": "code",
   "execution_count": 3,
   "metadata": {
    "ExecuteTime": {
     "end_time": "2018-10-22T12:09:16.210057Z",
     "start_time": "2018-10-22T12:09:16.198156Z"
    }
   },
   "outputs": [
    {
     "name": "stdout",
     "output_type": "stream",
     "text": [
      "tensor([[0.0500, 0.1000]], dtype=torch.float64) tensor([[0.0100, 0.9900]], dtype=torch.float64) tensor([0.3500, 0.6000], dtype=torch.float64) tensor([[0.1500, 0.2000],\n",
      "        [0.2500, 0.3000]], dtype=torch.float64) tensor([[0.4000, 0.4500],\n",
      "        [0.5000, 0.5500]], dtype=torch.float64)\n"
     ]
    }
   ],
   "source": [
    "#try same with torch\n",
    "import torch\n",
    "x=torch.tensor([inp], dtype=torch.float64)\n",
    "y=torch.tensor([outputr], dtype=torch.float64)\n",
    "b=torch.tensor(bias, dtype=torch.float64)\n",
    "w1=torch.tensor(inpw, dtype=torch.float64)\n",
    "w2=torch.tensor(hidw, dtype=torch.float64)\n",
    "print(x,y,b,w1,w2)"
   ]
  },
  {
   "cell_type": "code",
   "execution_count": 4,
   "metadata": {
    "ExecuteTime": {
     "end_time": "2018-10-22T12:09:21.484787Z",
     "start_time": "2018-10-22T12:09:21.477672Z"
    }
   },
   "outputs": [
    {
     "name": "stdout",
     "output_type": "stream",
     "text": [
      "tensor([[0.1500, 0.2500],\n",
      "        [0.2000, 0.3000]]) tensor([[0.4000, 0.5000],\n",
      "        [0.4500, 0.5500]])\n"
     ]
    }
   ],
   "source": [
    "print(torch.tensor(inpw).transpose(0,1),\n",
    "torch.tensor(hidw).transpose(0,1))"
   ]
  },
  {
   "cell_type": "code",
   "execution_count": 5,
   "metadata": {
    "ExecuteTime": {
     "end_time": "2018-10-22T12:10:10.378232Z",
     "start_time": "2018-10-22T12:10:10.367723Z"
    }
   },
   "outputs": [
    {
     "name": "stdout",
     "output_type": "stream",
     "text": [
      "tensor([[0.5933, 0.5969]], dtype=torch.float64) tensor([[0.7514, 0.7729]], dtype=torch.float64) tensor(0.2984, dtype=torch.float64)\n"
     ]
    }
   ],
   "source": [
    "h = torch.sigmoid(x.mm(w1.transpose(0,1))+b[0])\n",
    "y_pred = torch.sigmoid(h.mm(w2.transpose(0,1))+b[1])\n",
    "loss = 0.5*(((y_pred - y).pow(2)).sum())\n",
    "print(h,y_pred,loss)"
   ]
  },
  {
   "cell_type": "code",
   "execution_count": 6,
   "metadata": {
    "ExecuteTime": {
     "end_time": "2018-10-22T12:10:18.625973Z",
     "start_time": "2018-10-22T12:10:18.616357Z"
    }
   },
   "outputs": [
    {
     "ename": "NameError",
     "evalue": "name 'w3p' is not defined",
     "output_type": "error",
     "traceback": [
      "\u001b[0;31m---------------------------------------------------------------------------\u001b[0m",
      "\u001b[0;31mNameError\u001b[0m                                 Traceback (most recent call last)",
      "\u001b[0;32m<ipython-input-6-075f5c58ac81>\u001b[0m in \u001b[0;36m<module>\u001b[0;34m\u001b[0m\n\u001b[0;32m----> 1\u001b[0;31m \u001b[0mtorch\u001b[0m\u001b[0;34m.\u001b[0m\u001b[0mtensor\u001b[0m\u001b[0;34m(\u001b[0m\u001b[0mw3p\u001b[0m\u001b[0;34m,\u001b[0m \u001b[0mdtype\u001b[0m\u001b[0;34m=\u001b[0m\u001b[0mtorch\u001b[0m\u001b[0;34m.\u001b[0m\u001b[0mfloat64\u001b[0m\u001b[0;34m)\u001b[0m\u001b[0;34m-\u001b[0m\u001b[0mw2\u001b[0m\u001b[0;34m.\u001b[0m\u001b[0mtranspose\u001b[0m\u001b[0;34m(\u001b[0m\u001b[0;36m0\u001b[0m\u001b[0;34m,\u001b[0m\u001b[0;36m1\u001b[0m\u001b[0;34m)\u001b[0m\u001b[0;34m-\u001b[0m\u001b[0mlr\u001b[0m\u001b[0;34m*\u001b[0m\u001b[0;34m(\u001b[0m\u001b[0my_pred\u001b[0m \u001b[0;34m-\u001b[0m \u001b[0my\u001b[0m\u001b[0;34m)\u001b[0m\u001b[0;34m*\u001b[0m\u001b[0;34m(\u001b[0m\u001b[0;36m1\u001b[0m\u001b[0;34m-\u001b[0m\u001b[0my_pred\u001b[0m\u001b[0;34m)\u001b[0m\u001b[0;34m*\u001b[0m\u001b[0my_pred\u001b[0m\u001b[0;34m*\u001b[0m\u001b[0mh\u001b[0m\u001b[0;34m\u001b[0m\u001b[0m\n\u001b[0m",
      "\u001b[0;31mNameError\u001b[0m: name 'w3p' is not defined"
     ]
    }
   ],
   "source": [
    "torch.tensor(w3p, dtype=torch.float64)-w2.transpose(0,1)-lr*(y_pred - y)*(1-y_pred)*y_pred*h"
   ]
  },
  {
   "cell_type": "code",
   "execution_count": null,
   "metadata": {
    "ExecuteTime": {
     "end_time": "2018-10-22T12:12:01.679913Z",
     "start_time": "2018-10-22T12:12:01.668133Z"
    }
   },
   "outputs": [],
   "source": [
    "def init_weights(m):\n",
    "    if type(m) == torch.nn.Linear:\n",
    "        torch.nn.init.xavier_uniform_(m.weight)\n",
    "        m.bias.data.fill_(0.01)\n",
    "\n",
    "net = torch.nn.Sequential(torch.nn.Linear(2, 2), torch.nn.Linear(2, 2))\n",
    "net.apply(init_weights)"
   ]
  },
  {
   "cell_type": "code",
   "execution_count": null,
   "metadata": {
    "ExecuteTime": {
     "end_time": "2018-09-22T21:06:06.091727Z",
     "start_time": "2018-09-22T21:06:06.084951Z"
    }
   },
   "outputs": [],
   "source": [
    "class Net(torch.nn.Module):\n",
    "    def __init__(self, n_feature, n_hidden, n_output):\n",
    "        super(Net, self).__init__()\n",
    "        self.hidden = torch.nn.Linear(n_feature, n_hidden) \n",
    "        self.predict = torch.nn.Linear(n_hidden, n_output)\n",
    "    def forward(self, x):\n",
    "        x = torch.sigmoid(self.hidden(x))\n",
    "        x = self.predict(x)\n",
    "        return x"
   ]
  },
  {
   "cell_type": "code",
   "execution_count": null,
   "metadata": {
    "ExecuteTime": {
     "end_time": "2018-09-22T21:06:07.143850Z",
     "start_time": "2018-09-22T21:06:07.137566Z"
    }
   },
   "outputs": [],
   "source": [
    "#print(x.view)\n",
    "#net = Net(n_feature=1, n_hidden=10, n_output=1)  \n",
    "net=Net(outputc,outputc,outputc)\n",
    "print(net)  # net architecture"
   ]
  },
  {
   "cell_type": "code",
   "execution_count": null,
   "metadata": {
    "ExecuteTime": {
     "end_time": "2018-09-22T21:06:08.697808Z",
     "start_time": "2018-09-22T21:06:08.692875Z"
    }
   },
   "outputs": [],
   "source": [
    "optimizer = torch.optim.SGD(net.parameters(), lr)\n",
    "loss_func = torch.nn.MSELoss()"
   ]
  },
  {
   "cell_type": "code",
   "execution_count": null,
   "metadata": {
    "ExecuteTime": {
     "end_time": "2018-09-22T21:06:10.221866Z",
     "start_time": "2018-09-22T21:06:10.208607Z"
    }
   },
   "outputs": [],
   "source": [
    "prediction = net(x)\n",
    "loss = loss_func(prediction, y)\n",
    "optimizer.zero_grad()\n",
    "loss.backward()\n",
    "optimizer.step()\n",
    "print(x.data.numpy(), y.data.numpy())\n",
    "print(x.data.numpy(), prediction.data.numpy())\n",
    "print(loss.data.numpy())"
   ]
  },
  {
   "cell_type": "code",
   "execution_count": null,
   "metadata": {
    "ExecuteTime": {
     "end_time": "2018-09-22T20:00:20.529428Z",
     "start_time": "2018-09-22T20:00:20.525360Z"
    }
   },
   "outputs": [],
   "source": [
    "#https://github.com/mdai/ml-lessons/blob/master/lesson3-rsna-pneumonia-detection-kaggle.ipynb\n",
    "#!pwd\n",
    "#!pip install --upgrade pip\n",
    "!pip install kaggle\n",
    "import matplotlib.pyplot as plt"
   ]
  },
  {
   "cell_type": "code",
   "execution_count": null,
   "metadata": {
    "ExecuteTime": {
     "end_time": "2018-09-15T10:40:45.844472Z",
     "start_time": "2018-09-15T10:40:44.241395Z"
    }
   },
   "outputs": [],
   "source": [
    "!ls /home/notebook/.local/bin"
   ]
  },
  {
   "cell_type": "code",
   "execution_count": null,
   "metadata": {
    "ExecuteTime": {
     "end_time": "2018-10-04T18:50:15.510642Z",
     "start_time": "2018-10-04T18:42:15.578167Z"
    }
   },
   "outputs": [],
   "source": [
    "#!/home/notebook/.local/bin/kaggle competitions download -c rsna-pneumonia-detection-challenge\n",
    "#https://www.kaggle.com/c/human-protein-atlas-image-classification/data\n",
    "!/home/notebook/.local/bin/kaggle competitions download -c human-protein-atlas-image-classification"
   ]
  },
  {
   "cell_type": "code",
   "execution_count": null,
   "metadata": {
    "ExecuteTime": {
     "end_time": "2018-09-15T10:41:08.799455Z",
     "start_time": "2018-09-15T10:41:07.282698Z"
    }
   },
   "outputs": [],
   "source": [
    "!ls /home/notebook/.kaggle/competitions/rsna-pneumonia-detection-challenge"
   ]
  },
  {
   "cell_type": "code",
   "execution_count": null,
   "metadata": {
    "ExecuteTime": {
     "end_time": "2018-09-07T21:20:00.673389Z",
     "start_time": "2018-09-07T21:12:56.028044Z"
    }
   },
   "outputs": [],
   "source": [
    "!unzip /home/notebook/.kaggle/competitions/rsna-pneumonia-detection-challenge/stage_1_train_images.zip\n",
    "!mv *.dcm Train"
   ]
  },
  {
   "cell_type": "code",
   "execution_count": null,
   "metadata": {
    "ExecuteTime": {
     "end_time": "2018-09-07T21:20:31.343780Z",
     "start_time": "2018-09-07T21:20:23.000512Z"
    }
   },
   "outputs": [],
   "source": [
    "!pip3 install -q pydicom \n",
    "!pip3 install -q tqdm \n",
    "!pip3 install -q imgaug"
   ]
  },
  {
   "cell_type": "code",
   "execution_count": null,
   "metadata": {
    "ExecuteTime": {
     "end_time": "2018-09-22T16:50:59.031922Z",
     "start_time": "2018-09-22T16:50:58.286192Z"
    }
   },
   "outputs": [],
   "source": [
    "import os\n",
    "import pydicom\n",
    "import glob\n",
    "train_dicom_dir = os.path.join(os.getcwd(), 'Train')\n",
    "image_fps = glob.glob(train_dicom_dir+'/'+'*.dcm')\n",
    "ds = pydicom.read_file(image_fps[2]) # read dicom image from filepath \n",
    "image = ds.pixel_array # get image array\n",
    "ds"
   ]
  },
  {
   "cell_type": "code",
   "execution_count": null,
   "metadata": {
    "ExecuteTime": {
     "end_time": "2018-09-22T16:51:02.876646Z",
     "start_time": "2018-09-22T16:51:02.213370Z"
    }
   },
   "outputs": [],
   "source": [
    "#plt.imshow(image)\n",
    "plt.imshow(image, cmap='gray')"
   ]
  },
  {
   "cell_type": "code",
   "execution_count": null,
   "metadata": {
    "ExecuteTime": {
     "end_time": "2018-09-15T21:06:22.264729Z",
     "start_time": "2018-09-15T21:06:21.706834Z"
    }
   },
   "outputs": [],
   "source": [
    "import argparse\n",
    "import torch\n",
    "import torch.nn as nn\n",
    "import torch.functional as F\n",
    "import torch.optim as optim\n",
    "from torchvision import datasets, transforms\n",
    "\n",
    "class Net(nn.Module):\n",
    "    def __init__(self):\n",
    "        super(Net, self).__init__()\n",
    "        self.conv1 = nn.Conv2d(1, 10, kernel_size=5)\n",
    "        self.conv2 = nn.Conv2d(10, 20, kernel_size=5)\n",
    "        self.conv2_drop = nn.Dropout2d()\n",
    "        self.fc1 = nn.Linear(320, 50)\n",
    "        self.fc2 = nn.Linear(50, 10)\n",
    "\n",
    "    def forward(self, x):\n",
    "        x = F.relu(F.max_pool2d(self.conv1(x), 2))\n",
    "        x = F.relu(F.max_pool2d(self.conv2_drop(self.conv2(x)), 2))\n",
    "        x = x.view(-1, 320)\n",
    "        x = F.relu(self.fc1(x))\n",
    "        x = F.dropout(x, training=self.training)\n",
    "        x = self.fc2(x)\n",
    "        return F.log_softmax(x, dim=1)\n",
    "\n",
    "def train(args, model, device, train_loader, optimizer, epoch):\n",
    "    model.train()\n",
    "    for batch_idx, (data, target) in enumerate(train_loader):\n",
    "        data, target = data.to(device), target.to(device)\n",
    "        optimizer.zero_grad()\n",
    "        output = model(data)\n",
    "        loss = F.nll_loss(output, target)\n",
    "        loss.backward()\n",
    "        optimizer.step()\n",
    "        if batch_idx % args.log_interval == 0:\n",
    "            print('Train Epoch: {} [{}/{} ({:.0f}%)]\\tLoss: {:.6f}'.format(\n",
    "                epoch, batch_idx * len(data), len(train_loader.dataset),\n",
    "                100. * batch_idx / len(train_loader), loss.item()))\n",
    "\n",
    "def test(args, model, device, test_loader):\n",
    "    model.eval()\n",
    "    test_loss = 0\n",
    "    correct = 0\n",
    "    with torch.no_grad():\n",
    "        for data, target in test_loader:\n",
    "            data, target = data.to(device), target.to(device)\n",
    "            output = model(data)\n",
    "            test_loss += F.nll_loss(output, target, reduction='sum').item() # sum up batch loss\n",
    "            pred = output.max(1, keepdim=True)[1] # get the index of the max log-probability\n",
    "            correct += pred.eq(target.view_as(pred)).sum().item()\n",
    "\n",
    "    test_loss /= len(test_loader.dataset)\n",
    "    print('\\nTest set: Average loss: {:.4f}, Accuracy: {}/{} ({:.0f}%)\\n'.format(\n",
    "        test_loss, correct, len(test_loader.dataset),\n",
    "        100. * correct / len(test_loader.dataset)))\n",
    "\n"
   ]
  },
  {
   "cell_type": "code",
   "execution_count": null,
   "metadata": {
    "ExecuteTime": {
     "end_time": "2018-09-15T21:09:41.128922Z",
     "start_time": "2018-09-15T21:09:40.611076Z"
    }
   },
   "outputs": [],
   "source": [
    "parser = argparse.ArgumentParser(description='PyTorch MNIST Example')\n",
    "parser.add_argument('--batch-size', type=int, default=64, metavar='N',\n",
    "help='input batch size for training (default: 64)')\n",
    "parser.add_argument('--test-batch-size', type=int, default=1000, metavar='N',\n",
    "help='input batch size for testing (default: 1000)')\n",
    "parser.add_argument('--epochs', type=int, default=10, metavar='N',\n",
    "help='number of epochs to train (default: 10)')\n",
    "parser.add_argument('--lr', type=float, default=0.01, metavar='LR',\n",
    "help='learning rate (default: 0.01)')\n",
    "parser.add_argument('--momentum', type=float, default=0.5, metavar='M',\n",
    "help='SGD momentum (default: 0.5)')\n",
    "parser.add_argument('--no-cuda', action='store_true', default=False,\n",
    "help='disables CUDA training')\n",
    "parser.add_argument('--seed', type=int, default=1, metavar='S',\n",
    "help='random seed (default: 1)')\n",
    "parser.add_argument('--log-interval', type=int, default=10, metavar='N',\n",
    "help='how many batches to wait before logging training status')\n",
    "args = parser.parse_args()\n",
    "use_cuda = not args.no_cuda and torch.cuda.is_available()\n",
    "\n",
    "torch.manual_seed(args.seed)\n",
    "\n",
    "train_loader = torch.utils.data.DataLoader(\n",
    "datasets.MNIST('../data', train=True, download=True,\n",
    "   transform=transforms.Compose([\n",
    "   transforms.ToTensor(),\n",
    "   transforms.Normalize((0.1307,), (0.3081,))\n",
    "   ])),\n",
    "batch_size=args.batch_size, shuffle=True, **kwargs)\n",
    "test_loader = torch.utils.data.DataLoader(\n",
    "datasets.MNIST('../data', train=False, transform=transforms.Compose([\n",
    "   transforms.ToTensor(),\n",
    "   transforms.Normalize((0.1307,), (0.3081,))\n",
    "   ])),\n",
    "batch_size=args.test_batch_size, shuffle=True, **kwargs)\n",
    "\n",
    "\n",
    "model = Net()\n",
    "optimizer = optim.SGD(model.parameters(), lr=args.lr, momentum=args.momentum)"
   ]
  },
  {
   "cell_type": "code",
   "execution_count": null,
   "metadata": {},
   "outputs": [],
   "source": [
    "\n",
    "    for epoch in range(1, args.epochs + 1):\n",
    "        train(args, model, device, train_loader, optimizer, epoch)\n",
    "        test(args, model, device, test_loader)"
   ]
  },
  {
   "cell_type": "code",
   "execution_count": null,
   "metadata": {
    "ExecuteTime": {
     "end_time": "2018-09-08T14:42:04.968443Z",
     "start_time": "2018-09-08T14:42:04.612815Z"
    }
   },
   "outputs": [],
   "source": [
    "\n",
    "\n",
    "#train_mask[ds.PatientID]\n",
    "train_mask[train_mask['patientId']==ds.PatientID]"
   ]
  },
  {
   "cell_type": "code",
   "execution_count": null,
   "metadata": {
    "ExecuteTime": {
     "end_time": "2018-09-14T21:36:09.461826Z",
     "start_time": "2018-09-14T21:35:59.184741Z"
    }
   },
   "outputs": [],
   "source": [
    "#!pip install autokeras\n",
    "#https://github.com/google/dopamine\n",
    "#!pip install cmake\n",
    "!pip install atari_py\n",
    "#!pip install --upgrade --no-cache-dir dopamine-rl"
   ]
  },
  {
   "cell_type": "code",
   "execution_count": null,
   "metadata": {
    "ExecuteTime": {
     "end_time": "2018-09-14T21:35:29.059098Z",
     "start_time": "2018-09-14T21:35:20.111394Z"
    }
   },
   "outputs": [],
   "source": [
    "import numpy as np\n",
    "import os\n",
    "from dopamine.agents.dqn import dqn_agent\n",
    "from dopamine.atari import run_experiment\n",
    "from dopamine.colab import utils as colab_utils\n",
    "from absl import flags\n",
    "BASE_PATH = '/tmp/colab_dope_run'  # @param\n",
    "GAME = 'Asterix'  # @param"
   ]
  },
  {
   "cell_type": "code",
   "execution_count": null,
   "metadata": {
    "ExecuteTime": {
     "end_time": "2018-09-08T14:53:17.771828Z",
     "start_time": "2018-09-08T14:53:13.001935Z"
    }
   },
   "outputs": [],
   "source": [
    "from keras.datasets import mnist\n",
    "from autokeras.classifier import ImageClassifier\n",
    "\n",
    "if __name__ == '__main__':\n",
    "    (x_train, y_train), (x_test, y_test) = mnist.load_data()\n",
    "    x_train = x_train.reshape(x_train.shape + (1,))\n",
    "    x_test = x_test.reshape(x_test.shape + (1,))\n",
    "\n",
    "    clf = ImageClassifier(verbose=True, augment=False)\n",
    "    clf.fit(x_train, y_train, time_limit=12 * 60 * 60)\n",
    "    clf.final_fit(x_train, y_train, x_test, y_test, retrain=True)\n",
    "    y = clf.evaluate(x_test, y_test)\n",
    "    print(y * 100)"
   ]
  },
  {
   "cell_type": "code",
   "execution_count": null,
   "metadata": {
    "ExecuteTime": {
     "end_time": "2018-09-07T22:22:08.949824Z",
     "start_time": "2018-09-07T22:22:08.640601Z"
    }
   },
   "outputs": [],
   "source": [
    "from torch.utils import data\n",
    "class rsnaDataset(data.Dataset):\n",
    "    def __init__(self, root_path, file_list):\n",
    "        self.root_path = root_path\n",
    "        self.file_list = file_list\n",
    "    def __len__(self):\n",
    "        return len(self.file_list)\n",
    "    def __getitem__(self, index):\n",
    "        if index not in range(0, len(self.file_list)):\n",
    "            return self.__getitem__(np.random.randint(0, self.__len__()))\n",
    "        file_id = self.file_list[index]\n",
    "        image_folder = os.path.join(self.root_path, \"images\")\n",
    "        image_path = os.path.join(image_folder, file_id + \".dcm\")\n",
    "        #label folder + path\n",
    "        mask_folder = os.path.join(self.root_path, \"masks\")\n",
    "        mask_path = os.path.join(mask_folder, file_id + \".dcm\")\n",
    "        #read it, store it in memory as a byte array\n",
    "        image = np.array(imageio.imread(image_path), dtype=np.uint8)\n",
    "        mask = np.array(imageio.imread(mask_path), dtype=np.uint8)\n",
    "        #return image + label\n",
    "        return image, mask"
   ]
  },
  {
   "cell_type": "code",
   "execution_count": null,
   "metadata": {
    "ExecuteTime": {
     "end_time": "2018-09-07T22:17:24.105544Z",
     "start_time": "2018-09-07T22:17:22.650660Z"
    }
   },
   "outputs": [],
   "source": [
    "#train image + mask data\n",
    "import pandas as pd\n",
    "!chmod 644 stage_1_train_labels.csv\n",
    "train_mask = pd.read_csv('stage_1_train_labels.csv')\n",
    "file_list = list(train_mask['patientId'].values)\n",
    "file_list"
   ]
  },
  {
   "cell_type": "code",
   "execution_count": null,
   "metadata": {
    "ExecuteTime": {
     "end_time": "2018-09-07T22:22:17.562550Z",
     "start_time": "2018-09-07T22:22:17.257312Z"
    }
   },
   "outputs": [],
   "source": [
    "dataset = rsnaDataset(train_dicom_dir, file_list)\n",
    "dataset"
   ]
  },
  {
   "cell_type": "code",
   "execution_count": null,
   "metadata": {
    "ExecuteTime": {
     "end_time": "2018-08-12T21:21:52.941431Z",
     "start_time": "2018-08-12T21:21:52.039748Z"
    }
   },
   "outputs": [],
   "source": [
    "#https://ieee-dataport.org/open-access/indian-diabetic-retinopathy-image-dataset-idrid\n",
    "!ls retina/*A*/*O*/*Train*\n",
    "import os\n",
    "from glob import glob\n",
    "imgs = glob(os.path.join('retina/*A*/*O*/*Train*', \"*.jpg\"))\n",
    "imgs[2]"
   ]
  },
  {
   "cell_type": "code",
   "execution_count": null,
   "metadata": {
    "ExecuteTime": {
     "end_time": "2018-08-12T21:23:19.618715Z",
     "start_time": "2018-08-12T21:23:18.170150Z"
    }
   },
   "outputs": [],
   "source": [
    "import cv2\n",
    "import matplotlib.pylab as plt\n",
    "cvimg = cv2.imread(imgs[2],1)\n",
    "plt.imshow(cvimg)"
   ]
  },
  {
   "cell_type": "code",
   "execution_count": null,
   "metadata": {
    "ExecuteTime": {
     "end_time": "2018-08-12T21:17:44.029528Z",
     "start_time": "2018-08-12T21:17:43.685953Z"
    }
   },
   "outputs": [],
   "source": [
    "#https://github.com/fastai/fastai/blob/master/courses/dl2/carvana-unet-lrg.ipynb\n",
    "%matplotlib inline\n",
    "%reload_ext autoreload\n",
    "%autoreload 2\n",
    "from fastai.conv_learner import *\n",
    "from fastai.dataset import *\n",
    "from fastai.models.resnet import vgg_resnet50\n",
    "import json\n",
    "def show_img(im, figsize=None, ax=None, alpha=None):\n",
    "    if not ax: fig,ax = plt.subplots(figsize=figsize)\n",
    "    ax.imshow(im, alpha=alpha)\n",
    "    ax.set_axis_off()\n",
    "    return ax\n",
    "PATH = Path('retina/*B*/*G*')\n",
    "MASKS = '*Training*.csv'\n",
    "META = '*metadata*.csv'\n",
    "masks_csv = pd.read_csv(PATH/MASKS)\n",
    "#meta_csv = pd.read_csv(\"retina/*/*/META\")"
   ]
  },
  {
   "cell_type": "code",
   "execution_count": null,
   "metadata": {
    "ExecuteTime": {
     "end_time": "2018-08-12T21:30:36.943663Z",
     "start_time": "2018-08-12T21:30:36.652623Z"
    }
   },
   "outputs": [],
   "source": [
    "def plot_ds_img(idx, ax=None, figsize=(7,7), normed=True):\n",
    "    if ax is None: fig,ax = plt.subplots(figsize=figsize)\n",
    "    im = md.val_ds[idx][0]\n",
    "    if normed: im = denorm(im)[0]\n",
    "    else:      im = np.rollaxis(to_np(im),0,3)\n",
    "    ax.imshow(im)\n",
    "    ax.axis('off')"
   ]
  },
  {
   "cell_type": "code",
   "execution_count": null,
   "metadata": {
    "ExecuteTime": {
     "end_time": "2018-08-12T21:34:37.058625Z",
     "start_time": "2018-08-12T21:34:36.744495Z"
    }
   },
   "outputs": [],
   "source": [
    "md = ImageData(PATH, imgs[1:7], 6, num_workers=16, classes=None)"
   ]
  },
  {
   "cell_type": "code",
   "execution_count": null,
   "metadata": {
    "ExecuteTime": {
     "end_time": "2018-08-12T21:34:43.781076Z",
     "start_time": "2018-08-12T21:34:39.632989Z"
    }
   },
   "outputs": [],
   "source": [
    "fig,axes=plt.subplots(6,6,figsize=(20,20))\n",
    "for i,ax in enumerate(axes.flat): plot_ds_img(imgs[i],ax=ax, normed=True)"
   ]
  },
  {
   "cell_type": "code",
   "execution_count": null,
   "metadata": {
    "ExecuteTime": {
     "end_time": "2018-08-04T09:19:55.137421Z",
     "start_time": "2018-08-04T09:19:50.451370Z"
    }
   },
   "outputs": [],
   "source": [
    "!pip install lime"
   ]
  },
  {
   "cell_type": "code",
   "execution_count": null,
   "metadata": {
    "ExecuteTime": {
     "end_time": "2018-08-04T09:20:54.583233Z",
     "start_time": "2018-08-04T09:20:41.662871Z"
    }
   },
   "outputs": [],
   "source": [
    "!pip install -U imbalanced-learn"
   ]
  },
  {
   "cell_type": "code",
   "execution_count": null,
   "metadata": {
    "ExecuteTime": {
     "start_time": "2018-08-04T09:21:39.008Z"
    }
   },
   "outputs": [],
   "source": [
    "!conda install numpy zeromq pyzmq"
   ]
  },
  {
   "cell_type": "code",
   "execution_count": null,
   "metadata": {},
   "outputs": [],
   "source": [
    "https://github.com/pytorch/ELF "
   ]
  },
  {
   "cell_type": "code",
   "execution_count": null,
   "metadata": {},
   "outputs": [],
   "source": [
    "!pip install torch  --upgrade"
   ]
  },
  {
   "cell_type": "code",
   "execution_count": null,
   "metadata": {
    "ExecuteTime": {
     "end_time": "2018-11-10T11:07:28.592440Z",
     "start_time": "2018-11-10T11:06:21.087734Z"
    }
   },
   "outputs": [],
   "source": [
    "#!pip install talos\n",
    "#!pip install pyro-ppl \n",
    "!pip install fastai"
   ]
  },
  {
   "cell_type": "code",
   "execution_count": null,
   "metadata": {
    "ExecuteTime": {
     "start_time": "2018-08-10T19:45:37.978Z"
    }
   },
   "outputs": [],
   "source": [
    "import torch\n",
    "print(\"#GPU-\", torch.cuda.device_count())"
   ]
  },
  {
   "cell_type": "code",
   "execution_count": null,
   "metadata": {
    "ExecuteTime": {
     "end_time": "2018-05-26T11:18:29.706029Z",
     "start_time": "2018-05-26T11:18:29.092037Z"
    }
   },
   "outputs": [],
   "source": [
    "from torch.utils.data import Dataset, DataLoader\n",
    "ip_s = 500000\n",
    "op_s = 5000\n",
    "bat_s = 1000\n",
    "data_s = 10000\n",
    "class randDataset(Dataset):\n",
    "    def __init__(self, size, length):\n",
    "        self.len = length\n",
    "        self.data = torch.randn(length, size)\n",
    "    def __getitem__(self, index):\n",
    "        return self.data[index]\n",
    "    def __len__(self):\n",
    "        return self.len\n",
    "rand_loader = DataLoader(randDataset(ip_s, data_s), bat_s, shuffle=True)\n",
    "rand_loader"
   ]
  },
  {
   "cell_type": "code",
   "execution_count": null,
   "metadata": {
    "ExecuteTime": {
     "end_time": "2018-11-11T10:32:01.569040Z",
     "start_time": "2018-11-11T10:32:01.467292Z"
    }
   },
   "outputs": [],
   "source": [
    "import torch.nn as nn\n",
    "class FCN(nn.Module):\n",
    "    def __init__(self, ip_s, op_s):\n",
    "        super(FCN, self).__init__()\n",
    "        self.fc1 = nn.Linear(ip_s, int((ip_s+op_s)/2))\n",
    "        self.fc2 = nn.Linear(int((ip_s+op_s)/2), op_s)\n",
    "    def forward(self, input):\n",
    "        output = self.fc1(input)\n",
    "        output = self.fc2(output)\n",
    "        print(\"\\tFCN: input\", input.size(),\"output\", output.size())\n",
    "        return output\n",
    "two_layer_nn = FCN(ip_s, op_s).cuda()\n",
    "two_layer_nn = nn.DataParallel(two_layer_nn)\n",
    "for data in rand_loader:\n",
    "    input = data\n",
    "    output = two_layer_nn(input)\n",
    "    print(\"input\", input.size(),\"output\", output.size())"
   ]
  },
  {
   "cell_type": "code",
   "execution_count": null,
   "metadata": {},
   "outputs": [],
   "source": [
    "!pip install numpy mpi4py"
   ]
  },
  {
   "cell_type": "code",
   "execution_count": null,
   "metadata": {},
   "outputs": [],
   "source": [
    "!pip install petsc4py"
   ]
  },
  {
   "cell_type": "code",
   "execution_count": null,
   "metadata": {},
   "outputs": [],
   "source": [
    "!pip install problog  "
   ]
  },
  {
   "cell_type": "code",
   "execution_count": null,
   "metadata": {},
   "outputs": [],
   "source": [
    "!pip install pyro-ppl"
   ]
  },
  {
   "cell_type": "code",
   "execution_count": null,
   "metadata": {
    "scrolled": true
   },
   "outputs": [],
   "source": [
    "!pip install tensorflow --upgrade"
   ]
  },
  {
   "cell_type": "code",
   "execution_count": null,
   "metadata": {
    "ExecuteTime": {
     "end_time": "2018-05-26T11:18:54.781990Z",
     "start_time": "2018-05-26T11:18:54.775392Z"
    }
   },
   "outputs": [],
   "source": [
    "import torch.nn as nn\n",
    "class FCN(nn.Module):\n",
    "    def __init__(self,n,o):\n",
    "        super().__init__()\n",
    "        self.fc1=nn.Linear(n,int(n/2))\n",
    "        self.fc2=nn.Linear(int(n/2),o)\n",
    "    def forward(self,x):\n",
    "        x=self.fc1(x)\n",
    "        x=self.fc2(x)\n",
    "        return x  "
   ]
  },
  {
   "cell_type": "code",
   "execution_count": null,
   "metadata": {
    "ExecuteTime": {
     "end_time": "2018-05-26T11:18:59.721331Z",
     "start_time": "2018-05-26T11:18:54.785730Z"
    },
    "scrolled": true
   },
   "outputs": [],
   "source": [
    "from torch.utils.data import DataLoader\n",
    "n=64\n",
    "o=1\n",
    "bs=int(n/8)\n",
    "ip=(torch.randn(n).cuda())\n",
    "#print(\"ip\",ip)\n",
    "rand_loader = DataLoader(ip,batch_size=bs, shuffle=False)\n",
    "for data in rand_loader:\n",
    "    two_layer_nn=nn.DataParallel(FCN(data.size()[0],o).cuda())\n",
    "    op=two_layer_nn(data)\n",
    "    print(\"batch\",two_layer_nn)    "
   ]
  },
  {
   "cell_type": "code",
   "execution_count": null,
   "metadata": {
    "collapsed": true
   },
   "outputs": [],
   "source": [
    "n=64\n",
    "o=4\n",
    "torch.manual_seed(n)\n",
    "ip = (torch.randn(n)).cuda()\n",
    "two_layer_nn=nn.DataParallel(FCN(n,o).cuda()) # not working!\n",
    "two_layer_nn=FCN(n,o).cuda()\n",
    "op=two_layer_nn(ip)\n",
    "op"
   ]
  },
  {
   "cell_type": "code",
   "execution_count": null,
   "metadata": {
    "ExecuteTime": {
     "end_time": "2018-05-26T11:19:19.829243Z",
     "start_time": "2018-05-26T11:19:19.720674Z"
    }
   },
   "outputs": [],
   "source": [
    "import torch.nn\n",
    "rng=1\n",
    "input1 = torch.rand(64*rng, 3*rng, 128*rng, 128*rng).cuda()\n",
    "input2 = torch.Tensor(64*rng, 3*rng, 128*rng, 128*rng).uniform_(-1, 1).cuda()\n",
    "input1 = torch.autograd.Variable(input1, requires_grad=True)\n",
    "input2 = torch.autograd.Variable(input2, requires_grad=True)\n",
    "#expected = torch.mul(input1, input2)\n",
    "expected = input1 - input2\n",
    "expected.mean()"
   ]
  },
  {
   "cell_type": "code",
   "execution_count": null,
   "metadata": {},
   "outputs": [],
   "source": [
    "# imports\n",
    "import torch # do not run this line after instantiating TorchClient\n",
    "import torch.nn as nn\n",
    "from torch.autograd import Variable\n",
    "from grid.clients.torch import TorchClient\n",
    "import numpy as np\n",
    "import re\n",
    "\n",
    "# instantiate client!\n",
    "client = TorchClient(verbose=False)"
   ]
  },
  {
   "cell_type": "code",
   "execution_count": null,
   "metadata": {},
   "outputs": [],
   "source": [
    "!pip install gym"
   ]
  },
  {
   "cell_type": "code",
   "execution_count": null,
   "metadata": {},
   "outputs": [],
   "source": [
    "import  gym\n",
    "env  =  gym.make()\n",
    "for i_episode in xrange(20):\n",
    "    observation = env.reset()\n",
    "    for t in xrange(100):\n",
    "        env.render()\n",
    "        print(observation)\n",
    "        action = env.action_space.sample()\n",
    "        observation, reward, done, info = env.step(action)\n",
    "        if done:\n",
    "            print(\"Episode finished after {} timesteps\".format(t+1))\n",
    "            break"
   ]
  },
  {
   "cell_type": "code",
   "execution_count": null,
   "metadata": {},
   "outputs": [],
   "source": [
    "from keras.models import Sequential\n",
    "from keras.layers import Dense\n",
    "from sklearn import datasets\n",
    "import numpy\n",
    "# fix random seed for reproducibility\n",
    "numpy.random.seed(7)\n",
    "# load pima price dataset\n",
    "dataset = datasets.load_boston()\n",
    "# split into input (X) and output (Y) variables\n",
    "X = dataset[:,0:8]\n",
    "Y = dataset[:,8]\n",
    "# create model\n",
    "model = Sequential()\n",
    "model.add(Dense(12, input_dim=8, activation='relu'))\n",
    "model.add(Dense(8, activation='relu'))\n",
    "model.add(Dense(1, activation='sigmoid'))\n",
    "# Compile model\n",
    "model.compile(loss='binary_crossentropy', optimizer='adam', metrics=['accuracy'])\n",
    "# Fit the model\n",
    "model.fit(X, Y, epochs=150, batch_size=10)\n",
    "# evaluate the model\n",
    "scores = model.evaluate(X, Y)\n",
    "print(\"\\n%s: %.2f%%\" % (model.metrics_names[1], scores[1]*100))"
   ]
  },
  {
   "cell_type": "code",
   "execution_count": null,
   "metadata": {
    "ExecuteTime": {
     "end_time": "2018-11-11T09:53:38.409452Z",
     "start_time": "2018-11-11T09:53:37.925412Z"
    }
   },
   "outputs": [],
   "source": [
    "import torch\n",
    "print(\"#GPU-\", torch.cuda.device_count())"
   ]
  },
  {
   "cell_type": "markdown",
   "metadata": {},
   "source": [
    "# New heading"
   ]
  },
  {
   "cell_type": "markdown",
   "metadata": {},
   "source": [
    "# filetered dataset via https://github.com/animesh/CheXNet fork"
   ]
  },
  {
   "cell_type": "code",
   "execution_count": null,
   "metadata": {
    "ExecuteTime": {
     "end_time": "2018-11-11T10:32:23.607817Z",
     "start_time": "2018-11-11T10:32:23.501948Z"
    }
   },
   "outputs": [],
   "source": [
    "import os\n",
    "from glob import glob\n",
    "imgs = glob(os.path.join('./CheXNet/ChestX-ray14/images/', \"*.png\"))\n",
    "imgs[2]"
   ]
  },
  {
   "cell_type": "code",
   "execution_count": null,
   "metadata": {
    "ExecuteTime": {
     "end_time": "2018-11-11T10:32:28.230560Z",
     "start_time": "2018-11-11T10:32:25.368921Z"
    }
   },
   "outputs": [],
   "source": [
    "#pip install --upgrade pip\n",
    "!pip install opencv-python"
   ]
  },
  {
   "cell_type": "code",
   "execution_count": null,
   "metadata": {
    "ExecuteTime": {
     "end_time": "2018-11-11T10:32:30.457215Z",
     "start_time": "2018-11-11T10:32:29.813310Z"
    }
   },
   "outputs": [],
   "source": [
    "import cv2\n",
    "import matplotlib.pylab as plt\n",
    "cvimg = cv2.imread(imgs[2000],1)\n",
    "plt.imshow(cvimg)"
   ]
  },
  {
   "cell_type": "code",
   "execution_count": null,
   "metadata": {
    "ExecuteTime": {
     "end_time": "2018-11-11T10:43:04.317989Z",
     "start_time": "2018-11-11T10:32:32.126069Z"
    }
   },
   "outputs": [],
   "source": [
    "import numpy as np\n",
    "%time Xrays256 = np.array([cv2.resize(cv2.imread(img,0), (256, 256), interpolation = cv2.INTER_AREA)/255 for img in imgs[:]])"
   ]
  },
  {
   "cell_type": "code",
   "execution_count": null,
   "metadata": {
    "ExecuteTime": {
     "end_time": "2018-11-11T10:45:13.818272Z",
     "start_time": "2018-11-11T10:45:13.769567Z"
    }
   },
   "outputs": [],
   "source": [
    "import cupy as cp\n",
    "%time Xrays256 = cp.array([cv2.resize(cv2.imread(img,0), (256, 256), interpolation = cv2.INTER_AREA)/255 for img in imgs[:]])\n"
   ]
  },
  {
   "cell_type": "code",
   "execution_count": null,
   "metadata": {
    "ExecuteTime": {
     "end_time": "2018-11-11T10:45:17.434202Z",
     "start_time": "2018-11-11T10:45:17.425922Z"
    }
   },
   "outputs": [],
   "source": [
    "Xrays256.shape"
   ]
  },
  {
   "cell_type": "code",
   "execution_count": null,
   "metadata": {
    "ExecuteTime": {
     "end_time": "2018-11-11T10:45:22.687503Z",
     "start_time": "2018-11-11T10:45:22.183039Z"
    }
   },
   "outputs": [],
   "source": [
    "import pandas as pd\n",
    "validation = pd.read_table(\"./CheXNet/ChestX-ray14/labels/val_list.txt.sel\", sep=' ',header=None,index_col=0)\n",
    "train = pd.read_table(\"./CheXNet/ChestX-ray14/labels/train_list.txt.sel\", sep=' ',index_col=0,header=None)\n",
    "test = pd.read_table(\"./CheXNet/ChestX-ray14/labels/test_list.txt.sel\", sep=' ',index_col=0,header=None)\n",
    "validation, train, test"
   ]
  },
  {
   "cell_type": "code",
   "execution_count": null,
   "metadata": {
    "ExecuteTime": {
     "end_time": "2018-11-11T10:45:34.126105Z",
     "start_time": "2018-11-11T10:45:34.117354Z"
    }
   },
   "outputs": [],
   "source": [
    "#pathology_list = ['Cardiomegaly','Emphysema','Effusion','Hernia','Nodule','Pneumothorax','Atelectasis','Pleural_Thickening','Mass','Edema','Consolidation','Infiltration','Fibrosis','Pneumonia', 'No Finding']\n",
    "#https://nihcc.app.box.com/v/ChestXray-NIHCC/file/220660789610\n",
    "#pathology_list = [1, Atelectasis; 2, Cardiomegaly; 3, Effusion; 4, Infiltration; 5, Mass; 6, Nodule; 7, Pneumonia; 8, Pneumothorax; 9, Consolidation; 10, Edema; 11, Emphysema; 12, Fibrosis; 13, Pleural_Thickening; 14 Hernia]\n",
    "pathology_list = ['Atelectasis','Cardiomegaly','Effusion','Infiltration','Mass','Nodule','Pneumonia','Pneumothorax','Consolidation','Edema','Emphysema','Fibrosis','Pleural_Thickening','Hernia']\n",
    "len(pathology_list)"
   ]
  },
  {
   "cell_type": "code",
   "execution_count": null,
   "metadata": {
    "ExecuteTime": {
     "end_time": "2018-11-11T10:45:36.597504Z",
     "start_time": "2018-11-11T10:45:36.527551Z"
    }
   },
   "outputs": [],
   "source": [
    "sample_labels=validation.append([train, test],ignore_index=True)\n",
    "(sample_labels)"
   ]
  },
  {
   "cell_type": "code",
   "execution_count": null,
   "metadata": {
    "ExecuteTime": {
     "end_time": "2018-11-11T10:45:44.320327Z",
     "start_time": "2018-11-11T10:45:44.252740Z"
    }
   },
   "outputs": [],
   "source": [
    "sample_labels.columns=pathology_list\n",
    "sample_labels\n"
   ]
  },
  {
   "cell_type": "code",
   "execution_count": null,
   "metadata": {
    "ExecuteTime": {
     "end_time": "2018-11-11T10:45:55.991699Z",
     "start_time": "2018-11-11T10:45:55.986602Z"
    }
   },
   "outputs": [],
   "source": [
    "Xrays256256 = Xrays256.reshape(10000,256*256)"
   ]
  },
  {
   "cell_type": "code",
   "execution_count": null,
   "metadata": {
    "ExecuteTime": {
     "end_time": "2018-11-11T10:45:58.336812Z",
     "start_time": "2018-11-11T10:45:58.325313Z"
    }
   },
   "outputs": [],
   "source": [
    "from torch.utils.data import Dataset, DataLoader\n",
    "data_loader = DataLoader(Xrays256256, 1000, shuffle=True)\n",
    "data_loader"
   ]
  },
  {
   "cell_type": "code",
   "execution_count": null,
   "metadata": {
    "ExecuteTime": {
     "end_time": "2018-11-11T10:46:06.728259Z",
     "start_time": "2018-11-11T10:46:06.715846Z"
    }
   },
   "outputs": [],
   "source": [
    "import torch.nn as nn\n",
    "class FCN(nn.Module):\n",
    "    def __init__(self, ip_s, op_s):\n",
    "        super(FCN, self).__init__()\n",
    "        self.fc1 = nn.Linear(ip_s, int((ip_s+op_s)/2))\n",
    "        self.fc2 = nn.Linear(int((ip_s+op_s)/2), op_s)\n",
    "    def forward(self, input):\n",
    "        output = self.fc1(input)\n",
    "        output = self.fc2(output)\n",
    "        print(\"\\tFCN: input\", input.size(),\"output\", output.size())\n",
    "        return output"
   ]
  },
  {
   "cell_type": "code",
   "execution_count": null,
   "metadata": {
    "ExecuteTime": {
     "end_time": "2018-11-11T11:12:26.663442Z",
     "start_time": "2018-11-11T11:12:03.171164Z"
    }
   },
   "outputs": [],
   "source": [
    "two_layer_nn = FCN(65536, 14).cuda()\n",
    "two_layer_nn = nn.DataParallel(two_layer_nn)\n",
    "for data in data_loader:\n",
    "    input = data\n",
    "    output = two_layer_nn(input)\n",
    "    print(\"input\", input.size(),\"data\",output)\n",
    "    #cvimg = cv2.imread(input[1,:,:],1)\n",
    "    #plt.imshow(cvimg)"
   ]
  },
  {
   "cell_type": "markdown",
   "metadata": {},
   "source": [
    "#FastAI https://github.com/fastai/fastai/blob/master/courses/dl1/lesson1.ipynb "
   ]
  },
  {
   "cell_type": "code",
   "execution_count": null,
   "metadata": {},
   "outputs": [],
   "source": [
    "%reload_ext autoreload\n",
    "%autoreload 2\n",
    "%matplotlib inline"
   ]
  },
  {
   "cell_type": "code",
   "execution_count": null,
   "metadata": {},
   "outputs": [],
   "source": [
    "!pip install fastai"
   ]
  },
  {
   "cell_type": "code",
   "execution_count": null,
   "metadata": {},
   "outputs": [],
   "source": [
    "from fastai.imports import *\n",
    "from fastai.transforms import *\n",
    "from fastai.conv_learner import *\n",
    "from fastai.model import *\n",
    "from fastai.dataset import *\n",
    "from fastai.sgdr import *\n",
    "from fastai.plots import *"
   ]
  },
  {
   "cell_type": "code",
   "execution_count": null,
   "metadata": {},
   "outputs": [],
   "source": [
    "torch.backends.cudnn.enabled"
   ]
  },
  {
   "cell_type": "code",
   "execution_count": null,
   "metadata": {},
   "outputs": [],
   "source": [
    "!wget http://files.fast.ai/data/dogscats.zip"
   ]
  },
  {
   "cell_type": "code",
   "execution_count": null,
   "metadata": {},
   "outputs": [],
   "source": [
    "!unzip dogscats.zip"
   ]
  },
  {
   "cell_type": "code",
   "execution_count": null,
   "metadata": {},
   "outputs": [],
   "source": [
    "PATH = \"dogscats/\"\n",
    "sz=224"
   ]
  },
  {
   "cell_type": "code",
   "execution_count": null,
   "metadata": {},
   "outputs": [],
   "source": [
    "os.listdir(PATH)"
   ]
  },
  {
   "cell_type": "code",
   "execution_count": null,
   "metadata": {},
   "outputs": [],
   "source": [
    "os.listdir(f'{PATH}valid')"
   ]
  },
  {
   "cell_type": "code",
   "execution_count": null,
   "metadata": {},
   "outputs": [],
   "source": [
    "files = os.listdir(f'{PATH}valid/cats')[:5]\n",
    "files\n",
    "#img = plt.imread(f'{PATH}valid/cats/{files[0]}')\n",
    "#plt.imshow(img);"
   ]
  },
  {
   "cell_type": "code",
   "execution_count": null,
   "metadata": {},
   "outputs": [],
   "source": [
    "img.shape"
   ]
  },
  {
   "cell_type": "code",
   "execution_count": null,
   "metadata": {
    "ExecuteTime": {
     "end_time": "2018-07-06T17:57:28.471877Z",
     "start_time": "2018-07-06T17:54:51.860057Z"
    }
   },
   "outputs": [],
   "source": [
    "arch=resnet34\n",
    "data = ImageClassifierData.from_paths(PATH, tfms=tfms_from_model(arch, sz))\n",
    "learn = ConvLearner.pretrained(arch, data, precompute=True)\n",
    "learn.fit(1, 2)"
   ]
  },
  {
   "cell_type": "code",
   "execution_count": null,
   "metadata": {
    "ExecuteTime": {
     "end_time": "2018-07-20T19:19:37.238749Z",
     "start_time": "2018-07-20T19:19:35.046393Z"
    }
   },
   "outputs": [],
   "source": [
    "learn = ConvLearner.pretrained(arch, data, precompute=True)"
   ]
  },
  {
   "cell_type": "code",
   "execution_count": null,
   "metadata": {
    "ExecuteTime": {
     "end_time": "2018-07-21T21:01:39.291304Z",
     "start_time": "2018-07-21T21:01:15.584823Z"
    }
   },
   "outputs": [],
   "source": [
    "lrf=learn.lr_find()"
   ]
  },
  {
   "cell_type": "code",
   "execution_count": null,
   "metadata": {
    "ExecuteTime": {
     "end_time": "2018-07-02T08:32:19.810655Z",
     "start_time": "2018-07-02T08:32:19.558542Z"
    }
   },
   "outputs": [],
   "source": [
    "learn.sched.plot_lr()"
   ]
  },
  {
   "cell_type": "code",
   "execution_count": null,
   "metadata": {
    "ExecuteTime": {
     "end_time": "2018-07-02T09:54:02.268629Z",
     "start_time": "2018-07-02T09:54:01.753777Z"
    }
   },
   "outputs": [],
   "source": [
    "learn.sched.plot()"
   ]
  },
  {
   "cell_type": "code",
   "execution_count": null,
   "metadata": {},
   "outputs": [],
   "source": [
    "Xrays256.T"
   ]
  },
  {
   "cell_type": "code",
   "execution_count": null,
   "metadata": {},
   "outputs": [],
   "source": [
    "pd.hist(output-sample_labels)"
   ]
  },
  {
   "cell_type": "code",
   "execution_count": null,
   "metadata": {},
   "outputs": [],
   "source": [
    "binary_labels = sample_labels.iloc[:,-1].values.reshape(-1,1)\n",
    "multiclass_labels = sample_labels.iloc[:,-14:].values\n",
    "\n",
    "binary_labels.shape, multiclass_labels.shape"
   ]
  },
  {
   "cell_type": "code",
   "execution_count": null,
   "metadata": {},
   "outputs": [],
   "source": [
    "binary_labels = 1-binary_labels\n",
    "binary_labels"
   ]
  },
  {
   "cell_type": "code",
   "execution_count": null,
   "metadata": {},
   "outputs": [],
   "source": [
    "import pomegranate\n",
    "pomegranate.utils.enable_gpu()\n",
    "print(pomegranate.utils.is_gpu_enabled())"
   ]
  },
  {
   "cell_type": "code",
   "execution_count": null,
   "metadata": {},
   "outputs": [],
   "source": [
    "import cupy\n",
    "from cupy import cuda\n",
    "cuda.Device().cublas_handle\n",
    "import cupy as cp\n",
    "cp.cuda.Device(0).use()\n",
    "x_on_gpu0 = cp.array([1, 2, 3, 4, 5])\n",
    "cp.cuda.Device(1).use()\n",
    "x_on_gpu1 = cp.array([1, 2, 3, 4, 5])\n",
    "x_on_gpu0.device, x_on_gpu1.device\n",
    "x_on_gpu0,x_on_gpu1\n",
    "x_on_gpu0+x_on_gpu1"
   ]
  },
  {
   "cell_type": "code",
   "execution_count": null,
   "metadata": {},
   "outputs": [],
   "source": [
    "%%time\n",
    "import cupy\n",
    "from cupy import cuda\n",
    "cuda.Device().cublas_handle\n",
    "import cupy as cp\n",
    "cp.cuda.Device(0).use()\n",
    "N=10000\n",
    "x_on_gpu0 = cp.random.rand(N,N)\n",
    "#x_on_gpu0\n",
    "x_on_gpu0_inv=cp.linalg.inv(x_on_gpu0)\n",
    "cp.dot(x_on_gpu0_inv,x_on_gpu0)==cp.eye(N)\n",
    "#x_on_gpu0_inv\n",
    "#np.allclose(cp.asarray(cp.dot(x_on_gpu0_inv,x_on_gpu0)),np.eye(N))\n"
   ]
  },
  {
   "cell_type": "code",
   "execution_count": null,
   "metadata": {},
   "outputs": [],
   "source": [
    "%%time\n",
    "import numpy as np\n",
    "N=10000\n",
    "x_on_gpu0 = np.random.rand(N,N)\n",
    "#x_on_gpu0\n",
    "x_on_gpu0_inv=np.linalg.inv(x_on_gpu0)\n",
    "#np.allclose(np.dot(x_on_gpu0_inv,x_on_gpu0),np.eye(N))\n",
    "np.dot(x_on_gpu0_inv,x_on_gpu0)==np.eye(N)\n",
    "#x_on_gpu0_inv\n",
    "#np.eye(N)"
   ]
  },
  {
   "cell_type": "code",
   "execution_count": null,
   "metadata": {},
   "outputs": [],
   "source": [
    "np.sum(np.genfromtxt('proteinGroups.txt',delimiter='\\t'))"
   ]
  },
  {
   "cell_type": "code",
   "execution_count": null,
   "metadata": {},
   "outputs": [],
   "source": [
    "#!conda install pomegranate\n",
    "!pip install cupy"
   ]
  },
  {
   "cell_type": "code",
   "execution_count": null,
   "metadata": {},
   "outputs": [],
   "source": [
    "def birthProb(N):\n",
    "    fac,div,day=1,1,354\n",
    "    for i in range(N):\n",
    "        fac*=(day-i)\n",
    "        div*=day\n",
    "        #print(day-i,fac,div)\n",
    "    return 1.0-fac/div\n",
    "probList=[birthProb(i) for i in list(range(100))]\n",
    "import matplotlib.pyplot as plt\n",
    "plt.plot(probList)\n",
    "plt.axhline(0.5)\n",
    "plt.axvline(22)\n",
    "plt.show()"
   ]
  },
  {
   "cell_type": "code",
   "execution_count": null,
   "metadata": {},
   "outputs": [],
   "source": [
    "import sklearn\n",
    "from sklearn.model_selection import train_test_split\n",
    "X_train, X_test, y_train, y_test = train_test_split(Xrays256, binary_labels, test_size = .2)"
   ]
  },
  {
   "cell_type": "code",
   "execution_count": null,
   "metadata": {},
   "outputs": [],
   "source": [
    "from sklearn.model_selection import KFold\n",
    "kf = KFold(n_splits=71, shuffle=True, random_state=42)\n",
    "batches = [train for test, train  in kf.split(X_train, y_train)]\n",
    "batches[0].shape"
   ]
  },
  {
   "cell_type": "code",
   "execution_count": null,
   "metadata": {},
   "outputs": [],
   "source": [
    "kf = KFold(n_splits=10, shuffle=True, random_state=42)\n",
    "test_batches = [t_batch for _, t_batch  in kf.split(X_test, y_test)]\n",
    "np.histogram(test_batches[9])"
   ]
  },
  {
   "cell_type": "code",
   "execution_count": null,
   "metadata": {},
   "outputs": [],
   "source": [
    "X_train.shape,X_test.shape"
   ]
  },
  {
   "cell_type": "code",
   "execution_count": null,
   "metadata": {},
   "outputs": [],
   "source": [
    "#graph\n",
    "import tensorflow as tf\n",
    "tf.reset_default_graph()\n",
    "X = tf.placeholder(dtype = tf.float32,\n",
    "                   shape = (None, 256, 256), #remember i resized image to 128x128 grayscale using .reshape(-1,128,128,1)\n",
    "                   name = 'X')\n",
    "\n",
    "y = tf.placeholder(dtype = tf.float32,\n",
    "                   shape = (None),\n",
    "                   name = 'y')\n",
    "\n",
    "# Input Layer\n",
    "input_layer = tf.reshape(X, [-1, 128, 128, 1])\n",
    "                                                                        \n",
    "# Convolutional Layer #1\n",
    "out = tf.layers.conv2d(inputs=input_layer,filters=4,\n",
    "                         kernel_size=[2, 2],\n",
    "                         padding=\"same\",\n",
    "                         activation=tf.nn.relu)\n",
    "# Pooling Layer #1\n",
    "out = tf.layers.max_pooling2d(inputs=out,\n",
    "                                pool_size=[2, 2],##64 x 64, strides = 2 so our image is compressed from 128 --> 64\n",
    "                                    strides=2)\n",
    "# 2nd Convolutional Layer #2 and Pooling Layer #2\n",
    "out = tf.layers.conv2d(inputs=out,filters=8,\n",
    "                         kernel_size=[2, 2],\n",
    "                         padding=\"same\",\n",
    "                         activation=tf.nn.relu)\n",
    "# 2nd Pooling Layer    \n",
    "out = tf.layers.max_pooling2d(inputs=out,\n",
    "                                pool_size=[2, 2],#64x64 14 -- >7\n",
    "                                strides=2)\n",
    "# 3rd Convolutional Layer\n",
    "out = tf.layers.conv2d(inputs=out,filters=8,\n",
    "                         kernel_size=[2, 2],\n",
    "                         padding=\"same\",\n",
    "                         activation=tf.nn.relu)\n",
    "# Dense, dropout, dense Layer\n",
    "out = tf.reshape(out, [-1, 64 * 64 * 8]) #FLATTEN LAYER\n",
    "dense = tf.layers.dense(inputs=out, units=100, activation=tf.nn.relu) #FIRST DENSE LAYER\n",
    "dropout = tf.layers.dropout(inputs=dense,\n",
    "                            rate=0.2)#40% to zero DROPOUT LAYER\n",
    "dense2 = tf.layers.dense(inputs=dropout, units=100, activation=tf.nn.relu) #SECOND DENSE LAYER\n",
    "\n",
    "# Logits Layer\n",
    "y_hat = tf.layers.dense(inputs=dense2, units=1, #will need to change this once I have more labels/diseases\n",
    "                        activation = tf.nn.sigmoid)\n",
    "\n",
    "loss = tf.losses.log_loss(y, y_hat)#gives the loss \n",
    "\n",
    "optimizer = tf.train.AdamOptimizer(0.001)\n",
    "\n",
    "training_op = optimizer.minimize(loss)#optimizes the loss fx with adam gradient descent\n",
    "\n",
    "saver = tf.train.Saver()"
   ]
  },
  {
   "cell_type": "code",
   "execution_count": null,
   "metadata": {},
   "outputs": [],
   "source": [
    "%%time\n",
    "#execution phase\n",
    "\n",
    "init = tf.global_variables_initializer()\n",
    "\n",
    "test_err = []\n",
    "train_err = []\n",
    "pred = []\n",
    "\n",
    "with tf.Session() as sess:\n",
    "    init.run()\n",
    "    \n",
    "    for epoch in range(50): #maybe add some minibatches so it converges faster\n",
    "        for count, batch in enumerate(batches):\n",
    "            X_batch = X_train[batch]\n",
    "            y_batch = y_train[batch]\n",
    "            sess.run(training_op,\n",
    "                     feed_dict={X:X_batch, y:y_batch})\n",
    "            print('epoch:{0}, batch{1}'.format(epoch, count), end='\\r')\n",
    "            \n",
    "        train_loss = sess.run(loss, feed_dict={X:X_batch, y:y_batch})\n",
    "        train_err.append(train_loss)\n",
    "#         test_loss = sess.run(loss, feed_dict={X:X_test, y:y_test})\n",
    "        \n",
    "#         test_err.append(test_loss)\n",
    "       \n",
    "        print('epoch', epoch, train_loss) #no need for the 'epoch+1', just epoch will suffice\n",
    "        \n",
    "    saver.save(sess,'./128Xrays.ckpt')\n",
    "    \n",
    "    for batch in test_batches:\n",
    "        pred.append(sess.run(y_hat, feed_dict={X:X_test[batch]}))"
   ]
  },
  {
   "cell_type": "code",
   "execution_count": null,
   "metadata": {},
   "outputs": [],
   "source": [
    "plt.plot(train_err)"
   ]
  },
  {
   "cell_type": "code",
   "execution_count": null,
   "metadata": {},
   "outputs": [],
   "source": [
    "predictions = [result for p in pred for result in p ]\n",
    "predictions"
   ]
  },
  {
   "cell_type": "code",
   "execution_count": null,
   "metadata": {},
   "outputs": [],
   "source": [
    "from  sklearn.metrics import accuracy_score,log_loss #ytrue ypred\n",
    "log_loss(y_test, [[p[0],1-p[0]] for p in predictions])"
   ]
  },
  {
   "cell_type": "code",
   "execution_count": null,
   "metadata": {},
   "outputs": [],
   "source": [
    "np.round([p[0] for p in predictions])"
   ]
  },
  {
   "cell_type": "code",
   "execution_count": null,
   "metadata": {},
   "outputs": [],
   "source": [
    "# Compute confusion matrix\n",
    "confusion_matrix([0, 1, 0, 1], [1, 1, 1, 0])\n",
    "cnf_matrix = confusion_matrix(y_test, np.round([p[0] for p in predictions]))\n",
    "np.set_printoptions(precision=2)\n",
    "\n",
    "# Plot non-normalized confusion matrix\n",
    "plt.figure()\n",
    "plot_confusion_matrix(cnf_matrix, classes=['No Findings', 'Abnormal Findings'],\n",
    "                      title='Confusion matrix, without normalization')\n",
    "\n",
    "# Plot normalized confusion matrix\n",
    "plt.figure()\n",
    "plot_confusion_matrix(cnf_matrix, classes=['No Findings', 'Abnormal Findings'],\n",
    "                      normalize=True,\n",
    "                      title='Normalized confusion matrix')\n",
    "\n",
    "plt.show()"
   ]
  },
  {
   "cell_type": "code",
   "execution_count": null,
   "metadata": {},
   "outputs": [],
   "source": [
    "z = np.array([[1, 2, 3, 4],\n",
    "         [5, 6, 7, 8],\n",
    "         [9, 10, 11, 12]])\n",
    "z.shape"
   ]
  },
  {
   "cell_type": "code",
   "execution_count": null,
   "metadata": {},
   "outputs": [],
   "source": [
    "z=z.reshape(-1,3,2)\n",
    "z"
   ]
  },
  {
   "cell_type": "code",
   "execution_count": null,
   "metadata": {},
   "outputs": [],
   "source": [
    "import matplotlib.pylab as plt\n",
    "z=z.reshape(3,-1)\n",
    "plt.imshow(z)"
   ]
  },
  {
   "cell_type": "code",
   "execution_count": null,
   "metadata": {},
   "outputs": [],
   "source": [
    "X=Variable(torch.Tensor(Xrays256[:,1,1].reshape(-1,1))).cuda()\n",
    "y=Variable(torch.Tensor(Xrays256[:,1,2].reshape(-1,1))).cuda()\n",
    "X, y"
   ]
  },
  {
   "cell_type": "code",
   "execution_count": null,
   "metadata": {},
   "outputs": [],
   "source": [
    "w=Variable(torch.Tensor(Xrays256[:,1,3].reshape(-1,1)), requires_grad=True).cuda()"
   ]
  },
  {
   "cell_type": "code",
   "execution_count": null,
   "metadata": {},
   "outputs": [],
   "source": [
    "y=X@(w.transpose(0,1))"
   ]
  },
  {
   "cell_type": "code",
   "execution_count": null,
   "metadata": {},
   "outputs": [],
   "source": [
    "y#.backward()"
   ]
  },
  {
   "cell_type": "code",
   "execution_count": null,
   "metadata": {},
   "outputs": [],
   "source": [
    "w.grad.data.zero_()"
   ]
  },
  {
   "cell_type": "code",
   "execution_count": null,
   "metadata": {},
   "outputs": [],
   "source": [
    "!conda install pyro"
   ]
  },
  {
   "cell_type": "code",
   "execution_count": null,
   "metadata": {},
   "outputs": [],
   "source": [
    "import pyro\n",
    "from pyro.distributions import Bernoulli, Normal  # noqa: F401\n",
    "from pyro.infer import SVI, Trace_ELBO\n",
    "from pyro.optim import Adam"
   ]
  },
  {
   "cell_type": "code",
   "execution_count": null,
   "metadata": {},
   "outputs": [],
   "source": [
    "class LinearRegressionModel(nn.Module):\n",
    "    def __init__(self, input_dim, output_dim):\n",
    "        super(LinearRegressionModel, self).__init__() \n",
    "        self.linear = nn.Linear(input_dim, output_dim,bias=True).cuda()\n",
    "    def forward(self, x):\n",
    "        out = self.linear(x)\n",
    "        return out"
   ]
  },
  {
   "cell_type": "code",
   "execution_count": null,
   "metadata": {},
   "outputs": [],
   "source": [
    "input_dim = 1\n",
    "output_dim = 1\n",
    "l_rate = 0.01\n",
    "model = LinearRegressionModel(input_dim,output_dim)\n",
    "criterion = nn.MSELoss()\n",
    "optimiser = torch.optim.SGD(model.parameters(), lr = l_rate)"
   ]
  },
  {
   "cell_type": "code",
   "execution_count": null,
   "metadata": {},
   "outputs": [],
   "source": [
    "epochs = 100\n",
    "for epoch in range(epochs):\n",
    "    epoch +=1\n",
    "    optimiser.zero_grad()\n",
    "    outputs = model.forward(X)\n",
    "    loss = criterion(outputs, y)\n",
    "    loss.backward()# back props\n",
    "    optimiser.step()# update the parameters\n",
    "    print('epoch {}, loss {}'.format(epoch,loss.data[0]))"
   ]
  },
  {
   "cell_type": "code",
   "execution_count": null,
   "metadata": {},
   "outputs": [],
   "source": [
    "predicted =model.forward(X).cpu().data.numpy()\n",
    "#plt.plot(X, y, 'i', label = 'from data', alpha = .5)\n",
    "plt.plot(y.cpu().data.numpy(), predicted, label = 'prediction', alpha = 0.5)\n",
    "plt.legend()\n",
    "plt.show()\n",
    "print(model.state_dict())"
   ]
  }
 ],
 "metadata": {
  "kernelspec": {
   "display_name": "Python 3",
   "language": "python",
   "name": "python3"
  },
  "language_info": {
   "codemirror_mode": {
    "name": "ipython",
    "version": 3
   },
   "file_extension": ".py",
   "mimetype": "text/x-python",
   "name": "python",
   "nbconvert_exporter": "python",
   "pygments_lexer": "ipython3",
   "version": "3.6.8"
  },
  "toc": {
   "base_numbering": 1,
   "nav_menu": {},
   "number_sections": true,
   "sideBar": true,
   "skip_h1_title": false,
   "title_cell": "Table of Contents",
   "title_sidebar": "Contents",
   "toc_cell": false,
   "toc_position": {},
   "toc_section_display": true,
   "toc_window_display": false
  }
 },
 "nbformat": 4,
 "nbformat_minor": 2
}
