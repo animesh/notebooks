{
 "cells": [
  {
   "cell_type": "markdown",
   "metadata": {
    "colab_type": "text",
    "id": "view-in-github"
   },
   "source": [
    "<a href=\"https://colab.research.google.com/github/animesh/notebooks/blob/master/pathImgClassifier.ipynb\" target=\"_parent\"><img src=\"https://colab.research.google.com/assets/colab-badge.svg\" alt=\"Open In Colab\"/></a>"
   ]
  },
  {
   "cell_type": "code",
   "execution_count": 1,
   "metadata": {
    "ExecuteTime": {
     "end_time": "2018-10-03T09:58:15.850281Z",
     "start_time": "2018-10-03T09:58:14.618490Z"
    },
    "colab": {
     "base_uri": "https://localhost:8080/",
     "height": 85
    },
    "colab_type": "code",
    "id": "WfAzO1RHxQ4P",
    "outputId": "32f7b902-3926-4e68-f263-fe24a2384ca6"
   },
   "outputs": [
    {
     "name": "stdout",
     "output_type": "stream",
     "text": [
      "/mnt/promec-ns9036k/NORSTORE_OSL_DISK/NS9036K/promec/promec/Animesh/notebooks\n",
      " AI_Startup_Prototype\t\t\t      __MACOSX\n",
      " ayuMGrast.ipynb\t\t\t      massaa\n",
      " batchEffectAnalysis.ipynb\t\t      mgfspark_knn.ipynb\n",
      " chest_xray\t\t\t\t      model.h5\n",
      " chest-xray-pneumonia.zip\t\t      mzMLloader.go.ipynb\n",
      " chest_xray.zip\t\t\t\t      numerical-linear-algebra\n",
      " clusterPRIDE.ipynb\t\t\t      outLierDetect.ipynb\n",
      " comet-chunk.ipynb\t\t\t      pathImgClassifier.ipynb\n",
      " Comet-chunk.ipynb\t\t\t      pep2msms.ipynb\n",
      " comet.ipynb\t\t\t\t      pepFrag.ipynb\n",
      " Comet.ipynb\t\t\t\t     'Promec - R.ipynb'\n",
      " compute-xlink-qvalue.ipynb\t\t      pylearnkit.ipynb\n",
      " controlUTRexpression.ipynb\t\t      scratchpad.ipynb\n",
      " Copy_of_working_Ch1_Introduction_TFP.ipynb   searchHitCluster.ipynb\n",
      " core.139794\t\t\t\t      smoothie\n",
      " dilution_p200_simple.ipynb\t\t      testgo.ipynb\n",
      " Dockerfile\t\t\t\t      test.ipynb\n",
      " elasticSearch.ipynb\t\t\t      tfjs-sr\n",
      " Elasticsearch.ipynb\t\t\t      torchMGFcluster.ipynb\n",
      " errTolerantSer-mclustR.ipynb\t\t      toreetest.ipynb\n",
      " funcR.ipynb\t\t\t\t      VAE.ipynb\n",
      " kaggle.json\t\t\t\t      Xml-Copy1.ipynb\n",
      " logs\t\t\t\t\t      xml.ipynb\n",
      " lymphomaTF.ipynb\t\t\t      Xml.ipynb\n"
     ]
    }
   ],
   "source": [
    "!pwd\n",
    "!ls"
   ]
  },
  {
   "cell_type": "code",
   "execution_count": null,
   "metadata": {
    "ExecuteTime": {
     "end_time": "2018-10-04T08:00:42.957963Z",
     "start_time": "2018-10-04T08:00:42.951459Z"
    },
    "colab": {},
    "colab_type": "code",
    "id": "TBXseCK7xQ4Y"
   },
   "outputs": [],
   "source": [
    "from pathlib import Path\n",
    "pathmura = Path('/mnt/promec-data/notebooks/MURA-v1.1')"
   ]
  },
  {
   "cell_type": "code",
   "execution_count": null,
   "metadata": {
    "ExecuteTime": {
     "end_time": "2018-10-04T08:01:04.999371Z",
     "start_time": "2018-10-04T08:00:45.071564Z"
    },
    "colab": {},
    "colab_type": "code",
    "id": "CKIb_O0fxQ4b"
   },
   "outputs": [],
   "source": [
    "trainlist=list(pathmura.glob('train/XR_SHOULDER/*/*/*.png'))"
   ]
  },
  {
   "cell_type": "code",
   "execution_count": 2,
   "metadata": {
    "colab": {},
    "colab_type": "code",
    "id": "sW2gzMbhzg-j"
   },
   "outputs": [],
   "source": [
    "!pip install -U -q kaggle --user"
   ]
  },
  {
   "cell_type": "code",
   "execution_count": null,
   "metadata": {
    "colab": {},
    "colab_type": "code",
    "id": "EvcL3o3l0ZPz"
   },
   "outputs": [],
   "source": [
    "from google.colab import files\n",
    "#files.upload()"
   ]
  },
  {
   "cell_type": "code",
   "execution_count": 3,
   "metadata": {
    "colab": {
     "base_uri": "https://localhost:8080/",
     "height": 68
    },
    "colab_type": "code",
    "id": "IalCGhW30tMH",
    "outputId": "33b8abef-e68a-4b87-9f77-3b125cf8c38b"
   },
   "outputs": [
    {
     "name": "stdout",
     "output_type": "stream",
     "text": [
      "mkdir: cannot create directory ‘/home/ash022/.kaggle’: File exists\n",
      "total 0\n",
      "-rw------- 1 ash022 ns9036k 70 Apr  8 16:05 kaggle.json\n"
     ]
    }
   ],
   "source": [
    "!mkdir  ~/.kaggle\n",
    "!cp $PWD/kaggle.json ~/.kaggle/\n",
    "!chmod 600 ~/.kaggle/kaggle.json\n",
    "!ls -lthr ~/.kaggle/"
   ]
  },
  {
   "cell_type": "code",
   "execution_count": 4,
   "metadata": {
    "colab": {
     "base_uri": "https://localhost:8080/",
     "height": 68
    },
    "colab_type": "code",
    "id": "D4IJbLst38D6",
    "outputId": "0aff1509-833e-41e9-adc0-7ca002c2f08d"
   },
   "outputs": [
    {
     "name": "stdout",
     "output_type": "stream",
     "text": [
      "Downloading chest-xray-pneumonia.zip to /mnt/promec-ns9036k/NORSTORE_OSL_DISK/NS9036K/promec/promec/Animesh/notebooks\n",
      "100%|█████████████████████████████████████▉| 1.15G/1.15G [00:37<00:00, 23.5MB/s]\n",
      "100%|██████████████████████████████████████| 1.15G/1.15G [00:37<00:00, 32.6MB/s]\n"
     ]
    }
   ],
   "source": [
    "!$HOME/.local/bin/kaggle datasets download -d paultimothymooney/chest-xray-pneumonia --force"
   ]
  },
  {
   "cell_type": "code",
   "execution_count": 5,
   "metadata": {
    "colab": {
     "base_uri": "https://localhost:8080/",
     "height": 136
    },
    "colab_type": "code",
    "id": "euSEOSLI5aX9",
    "outputId": "f8369f91-8031-4f55-ad71-d157a9f97f99"
   },
   "outputs": [
    {
     "name": "stdout",
     "output_type": "stream",
     "text": [
      "Archive:  chest-xray-pneumonia.zip\n",
      "replace chest_xray.zip? [y]es, [n]o, [A]ll, [N]one, [r]ename: ^C\n"
     ]
    }
   ],
   "source": [
    "!unzip chest-xray-pneumonia.zip;\n",
    "#!ls -ltrh"
   ]
  },
  {
   "cell_type": "code",
   "execution_count": 6,
   "metadata": {
    "colab": {
     "base_uri": "https://localhost:8080/",
     "height": 200005
    },
    "colab_type": "code",
    "id": "A138A_1N6imy",
    "outputId": "64c96dc7-aefd-44a7-96a4-4b1459fdf50c"
   },
   "outputs": [
    {
     "name": "stdout",
     "output_type": "stream",
     "text": [
      "Archive:  chest_xray.zip\n",
      "replace chest_xray/.DS_Store? [y]es, [n]o, [A]ll, [N]one, [r]ename: ^C\n"
     ]
    }
   ],
   "source": [
    "!unzip chest_xray.zip;\n",
    "#!ls -ltrh"
   ]
  },
  {
   "cell_type": "code",
   "execution_count": 7,
   "metadata": {
    "colab": {
     "base_uri": "https://localhost:8080/",
     "height": 51
    },
    "colab_type": "code",
    "id": "uGl3CaM17BKs",
    "outputId": "9cc9d4b9-49ea-4fd7-8e6e-49704d6dc03a"
   },
   "outputs": [
    {
     "name": "stdout",
     "output_type": "stream",
     "text": [
      "./chest_xray/train\n",
      "./__MACOSX/chest_xray/train\n"
     ]
    }
   ],
   "source": [
    "!find . -iname train"
   ]
  },
  {
   "cell_type": "code",
   "execution_count": 25,
   "metadata": {
    "colab": {
     "base_uri": "https://localhost:8080/",
     "height": 139
    },
    "colab_type": "code",
    "id": "3xfiJH2iY1Jf",
    "outputId": "65f50ed5-ee0a-437a-a373-e013b75752fe"
   },
   "outputs": [],
   "source": [
    "import pandas as pd\n",
    "import numpy as np\n",
    "import os\n",
    "import keras\n",
    "import matplotlib.pyplot as plt\n",
    "from keras.layers import Dense,GlobalAveragePooling2D\n",
    "from keras.applications import MobileNet\n",
    "from keras.preprocessing import image\n",
    "from keras.applications.mobilenet import preprocess_input\n",
    "from keras.preprocessing.image import ImageDataGenerator\n",
    "from keras.models import Model\n",
    "from keras.optimizers import Adam\n",
    "base_model=MobileNet(weights='imagenet',include_top=False)"
   ]
  },
  {
   "cell_type": "code",
   "execution_count": 10,
   "metadata": {},
   "outputs": [
    {
     "name": "stdout",
     "output_type": "stream",
     "text": [
      "1.12.0\n",
      "True\n"
     ]
    }
   ],
   "source": [
    "import tensorflow as tf\n",
    "print(tf.__version__)\n",
    "#tf.enable_eager_execution()\n",
    "#print(tf.executing_eagerly())\n",
    "print(tf.test.is_gpu_available())#:with tf.device(\"/gpu:0\"):\n",
    "#tf.keras.backend.clear_session()"
   ]
  },
  {
   "cell_type": "code",
   "execution_count": 11,
   "metadata": {},
   "outputs": [
    {
     "data": {
      "text/plain": [
       "['/job:localhost/replica:0/task:0/device:GPU:0']"
      ]
     },
     "execution_count": 11,
     "metadata": {},
     "output_type": "execute_result"
    }
   ],
   "source": [
    "from keras import backend as K\n",
    "K.tensorflow_backend._get_available_gpus()"
   ]
  },
  {
   "cell_type": "code",
   "execution_count": 12,
   "metadata": {},
   "outputs": [],
   "source": [
    "import keras\n",
    "config = tf.ConfigProto( device_count = {'GPU': 1 , 'CPU': 16} ) \n",
    "sess = tf.Session(config=config) \n",
    "keras.backend.set_session(sess)"
   ]
  },
  {
   "cell_type": "code",
   "execution_count": 26,
   "metadata": {
    "colab": {},
    "colab_type": "code",
    "id": "f1vnBTKvzX7O"
   },
   "outputs": [],
   "source": [
    "x=base_model.output\n",
    "x=GlobalAveragePooling2D()(x)\n",
    "x=Dense(1024,activation='relu')(x) #we add dense layers so that the model can learn more complex functions and classify for better results.\n",
    "x=Dense(1024,activation='relu')(x) #dense layer 2\n",
    "x=Dense(512,activation='relu')(x) #dense layer 3\n",
    "preds=Dense(3,activation='softmax')(x) #final layer with softmax activation\n",
    "model=Model(inputs=base_model.input,outputs=preds)"
   ]
  },
  {
   "cell_type": "code",
   "execution_count": 27,
   "metadata": {
    "colab": {},
    "colab_type": "code",
    "id": "aRWRYYuizd5k"
   },
   "outputs": [],
   "source": [
    "for layer in model.layers[:20]:\n",
    "    layer.trainable=False\n",
    "for layer in model.layers[20:]:\n",
    "    layer.trainable=True"
   ]
  },
  {
   "cell_type": "code",
   "execution_count": 28,
   "metadata": {
    "colab": {
     "base_uri": "https://localhost:8080/",
     "height": 34
    },
    "colab_type": "code",
    "id": "X0nvnXd77YzH",
    "outputId": "bc4daf74-ca7c-415f-fea9-9e5729eb94dc"
   },
   "outputs": [
    {
     "name": "stdout",
     "output_type": "stream",
     "text": [
      "Found 5856 images belonging to 3 classes.\n"
     ]
    }
   ],
   "source": [
    "train_datagen=ImageDataGenerator(preprocessing_function=preprocess_input) #included in our dependencies\n",
    "train_generator=train_datagen.flow_from_directory('./chest_xray', # this is where you specify the path to the main data folder\n",
    "                                                 target_size=(224,224),\n",
    "                                                 color_mode='rgb',\n",
    "                                                 batch_size=32,\n",
    "                                                 class_mode='categorical',\n",
    "                                                 shuffle=True)\n",
    "model.compile(optimizer='Adam',loss='categorical_crossentropy',metrics=['accuracy'])\n",
    "step_size_train=train_generator.n//train_generator.batch_size"
   ]
  },
  {
   "cell_type": "code",
   "execution_count": 23,
   "metadata": {},
   "outputs": [],
   "source": [
    "from keras import backend as K\n",
    "K.clear_session()"
   ]
  },
  {
   "cell_type": "code",
   "execution_count": 29,
   "metadata": {
    "colab": {
     "base_uri": "https://localhost:8080/",
     "height": 374
    },
    "colab_type": "code",
    "id": "HCf8dMf678OE",
    "outputId": "993a13f7-6de5-4f10-fb80-d3300a0ca187"
   },
   "outputs": [
    {
     "name": "stdout",
     "output_type": "stream",
     "text": [
      "Epoch 1/10\n",
      "183/183 [==============================] - 163s 891ms/step - loss: 0.3853 - acc: 0.8864\n",
      "Epoch 2/10\n",
      "183/183 [==============================] - 162s 888ms/step - loss: 0.3109 - acc: 0.8979\n",
      "Epoch 3/10\n",
      "183/183 [==============================] - 162s 886ms/step - loss: 0.2940 - acc: 0.8955\n",
      "Epoch 4/10\n",
      "183/183 [==============================] - 161s 879ms/step - loss: 0.2589 - acc: 0.9112\n",
      "Epoch 5/10\n",
      "183/183 [==============================] - 162s 885ms/step - loss: 0.2292 - acc: 0.9168\n",
      "Epoch 6/10\n",
      "183/183 [==============================] - 163s 891ms/step - loss: 0.1918 - acc: 0.9312\n",
      "Epoch 7/10\n",
      "183/183 [==============================] - 163s 890ms/step - loss: 0.1334 - acc: 0.9524\n",
      "Epoch 8/10\n",
      "183/183 [==============================] - 161s 882ms/step - loss: 0.1181 - acc: 0.9624\n",
      "Epoch 9/10\n",
      "183/183 [==============================] - 162s 886ms/step - loss: 0.0837 - acc: 0.9708\n",
      "Epoch 10/10\n",
      "183/183 [==============================] - 161s 880ms/step - loss: 0.0656 - acc: 0.9775\n"
     ]
    },
    {
     "data": {
      "text/plain": [
       "<keras.callbacks.History at 0x7f8b1c6eb2b0>"
      ]
     },
     "execution_count": 29,
     "metadata": {},
     "output_type": "execute_result"
    }
   ],
   "source": [
    "model.fit_generator(generator=train_generator,steps_per_epoch=step_size_train,epochs=10)"
   ]
  },
  {
   "cell_type": "code",
   "execution_count": null,
   "metadata": {
    "colab": {},
    "colab_type": "code",
    "id": "GuUEvbu8_Lpn"
   },
   "outputs": [],
   "source": [
    "!pip install -U -q PyDrive --user\n",
    "!pip install -U -q google.colab --user\n",
    "\n",
    "from pydrive.auth import GoogleAuth\n",
    "from pydrive.drive import GoogleDrive\n",
    "from google.colab import auth\n",
    "from oauth2client.client import GoogleCredentials\n",
    "\n",
    "auth.authenticate_user()\n",
    "gauth = GoogleAuth()\n",
    "gauth.credentials = GoogleCredentials.get_application_default()\n",
    "drive = GoogleDrive(gauth)"
   ]
  },
  {
   "cell_type": "code",
   "execution_count": null,
   "metadata": {
    "colab": {
     "base_uri": "https://localhost:8080/",
     "height": 34
    },
    "colab_type": "code",
    "id": "cnMgXDOE_oxq",
    "outputId": "46ee6fc2-c7fa-46f8-fe6e-fe650ec06097"
   },
   "outputs": [],
   "source": [
    "model.save('model.h5')    \n",
    "model_file = drive.CreateFile({'title' : 'model.h5'})\n",
    "model_file.SetContentFile('model.h5')\n",
    "model_file.Upload()\n",
    "drive.CreateFile({'id': model_file.get('id')})"
   ]
  },
  {
   "cell_type": "code",
   "execution_count": null,
   "metadata": {
    "colab": {
     "base_uri": "https://localhost:8080/",
     "height": 187
    },
    "colab_type": "code",
    "id": "P8woelkc_wJj",
    "outputId": "0ae32103-6a13-4c6c-ac5e-35d4b5bd14e9"
   },
   "outputs": [],
   "source": [
    "!ls -ltrh"
   ]
  },
  {
   "cell_type": "code",
   "execution_count": null,
   "metadata": {
    "ExecuteTime": {
     "end_time": "2018-10-04T09:37:30.180697Z",
     "start_time": "2018-10-04T09:37:30.173681Z"
    },
    "colab": {},
    "colab_type": "code",
    "id": "yhnrJ-y8xQ4j",
    "outputId": "e330b9f7-e6bf-4c38-be33-098e443947a6"
   },
   "outputs": [],
   "source": [
    "trainlistclip=trainlist[0:99]\n",
    "len(trainlistclip)"
   ]
  },
  {
   "cell_type": "code",
   "execution_count": null,
   "metadata": {
    "ExecuteTime": {
     "end_time": "2018-10-04T09:37:53.501309Z",
     "start_time": "2018-10-04T09:37:53.166017Z"
    },
    "colab": {},
    "colab_type": "code",
    "id": "6AtnQVlrxQ4n",
    "outputId": "305764d2-6245-464e-aa08-8e9b08c052cb"
   },
   "outputs": [],
   "source": [
    "import numpy as np\n",
    "import cv2\n",
    "from matplotlib import pyplot as plt\n",
    "img = cv2.imread(str(trainlistclip[1]),0)\n",
    "plt.imshow(img, cmap = 'gray', interpolation = 'bicubic')\n",
    "plt.show()"
   ]
  },
  {
   "cell_type": "code",
   "execution_count": null,
   "metadata": {
    "ExecuteTime": {
     "end_time": "2018-10-04T08:03:34.572835Z",
     "start_time": "2018-10-04T08:03:34.086648Z"
    },
    "colab": {},
    "colab_type": "code",
    "id": "wkxNKfnFxQ4r",
    "outputId": "a3accf40-2b77-4de3-dddb-6cead95185c6"
   },
   "outputs": [],
   "source": [
    "import pandas as pd\n",
    "pd.read_csv((pathmura /'train_image_paths.csv')).head(5)"
   ]
  },
  {
   "cell_type": "code",
   "execution_count": null,
   "metadata": {
    "ExecuteTime": {
     "start_time": "2018-10-07T12:37:20.351Z"
    },
    "colab": {},
    "colab_type": "code",
    "id": "fnoQ17klxQ4v",
    "outputId": "66a071cc-dcc5-4f7c-ebff-a9da916530af"
   },
   "outputs": [],
   "source": [
    "import random\n",
    "import torch\n",
    "torch.set_default_tensor_type(torch.cuda.FloatTensor)\n",
    "N=5\n",
    "scale=10\n",
    "D_in, H, D_out = N*scale*scale, N*scale*scale, N*scale\n",
    "\n",
    "class DynamicNet(torch.nn.Module):\n",
    "    def __init__(self, D_in, H, D_out):\n",
    "        super(DynamicNet, self).__init__()\n",
    "        self.input_linear = torch.nn.Linear(D_in, H)\n",
    "        self.middle_linear = torch.nn.Linear(H, H)\n",
    "        self.output_linear = torch.nn.Linear(H, D_out)\n",
    "    def forward(self, x):\n",
    "        h_relu = self.input_linear(x).clamp(min=0)\n",
    "        for _ in range(random.randint(0, int(N/scale))):\n",
    "            h_relu = self.middle_linear(h_relu).clamp(min=0)\n",
    "        y_pred = self.output_linear(h_relu)\n",
    "        return y_pred\n",
    "\n",
    "x = torch.randn(N, D_in).cuda()\n",
    "y = torch.randn(N, D_out).cuda()\n",
    "\n",
    "model = DynamicNet(D_in, H, D_out).cuda()\n",
    "criterion = torch.nn.MSELoss(reduction='sum').cuda()\n",
    "optimizer = torch.optim.SGD(model.parameters(), lr=1e-4, momentum=0.9)\n",
    "\n",
    "for t in range(H):\n",
    "    y_pred = model(x)\n",
    "    loss = criterion(y_pred, y)\n",
    "    print(t, loss.item())\n",
    "    optimizer.zero_grad()\n",
    "    loss.backward()\n",
    "    optimizer.step()\n",
    "\n",
    "    "
   ]
  },
  {
   "cell_type": "code",
   "execution_count": null,
   "metadata": {
    "ExecuteTime": {
     "end_time": "2018-10-04T08:03:58.500557Z",
     "start_time": "2018-10-04T08:03:58.452086Z"
    },
    "colab": {},
    "colab_type": "code",
    "id": "Hly-Yv5vxQ40",
    "outputId": "0c08ca36-e977-4b24-8ea3-a53ef1e3d5d0"
   },
   "outputs": [],
   "source": [
    "outvec=[1 if 'positive' in i.parts[-2] else 0 for i in trainlist]\n",
    "outvec"
   ]
  },
  {
   "cell_type": "code",
   "execution_count": null,
   "metadata": {
    "ExecuteTime": {
     "end_time": "2018-10-04T09:38:45.204078Z",
     "start_time": "2018-10-04T09:38:45.199481Z"
    },
    "colab": {},
    "colab_type": "code",
    "id": "RVr8Ah_7xQ44"
   },
   "outputs": [],
   "source": [
    "outvecclip=outvec[0:99]"
   ]
  },
  {
   "cell_type": "code",
   "execution_count": null,
   "metadata": {
    "ExecuteTime": {
     "end_time": "2018-10-04T09:38:52.512802Z",
     "start_time": "2018-10-04T09:38:52.503623Z"
    },
    "colab": {},
    "colab_type": "code",
    "id": "FpWeeovBxQ48",
    "outputId": "aba057d6-3517-4c32-d86a-3a7da6bf8d0e"
   },
   "outputs": [],
   "source": [
    "(outvecclip)"
   ]
  },
  {
   "cell_type": "code",
   "execution_count": null,
   "metadata": {
    "ExecuteTime": {
     "end_time": "2018-10-04T09:39:24.608828Z",
     "start_time": "2018-10-04T09:39:16.955393Z"
    },
    "colab": {},
    "colab_type": "code",
    "id": "9knxanjcxQ5C"
   },
   "outputs": [],
   "source": [
    "imgs = [cv2.resize(cv2.imread(str(trainlistelen),0),(320, 320)) for trainlistelen in trainlistclip] "
   ]
  },
  {
   "cell_type": "code",
   "execution_count": null,
   "metadata": {
    "ExecuteTime": {
     "end_time": "2018-10-04T09:39:26.598595Z",
     "start_time": "2018-10-04T09:39:26.592239Z"
    },
    "colab": {},
    "colab_type": "code",
    "id": "H5uMGZNRxQ5F",
    "outputId": "ce83f6b1-cad3-405e-9039-f561589fcf39"
   },
   "outputs": [],
   "source": [
    "len(imgs)"
   ]
  },
  {
   "cell_type": "code",
   "execution_count": null,
   "metadata": {
    "ExecuteTime": {
     "end_time": "2018-10-03T20:50:06.609410Z",
     "start_time": "2018-10-03T20:50:06.334899Z"
    },
    "colab": {},
    "colab_type": "code",
    "id": "K83ht_C9xQ5K",
    "outputId": "54045426-17ea-4fc2-d4c8-7590028c0191"
   },
   "outputs": [],
   "source": [
    "x=imgs[0]\n",
    "#x=cv2.resize(x, (320, 320))\n",
    "x=(x-np.mean(x))/np.std(x)\n",
    "plt.imshow(x, cmap = 'gray', interpolation = 'bicubic')\n",
    "plt.show()"
   ]
  },
  {
   "cell_type": "code",
   "execution_count": null,
   "metadata": {
    "ExecuteTime": {
     "end_time": "2018-10-04T09:39:59.928097Z",
     "start_time": "2018-10-04T09:39:56.846096Z"
    },
    "colab": {},
    "colab_type": "code",
    "id": "odM78LWfxQ5P",
    "outputId": "7043bcd4-db47-46e9-bc0f-321fe48bfede"
   },
   "outputs": [],
   "source": [
    "import torch\n",
    "#x = torch.randn(N, D_in).cuda()\n",
    "#y = torch.randn(N, D_out).cuda()\n",
    "torch.set_default_tensor_type(torch.cuda.FloatTensor)\n",
    "y = torch.from_numpy(np.array(outvecclip)).cuda()\n",
    "y.shape\n",
    "len(y)"
   ]
  },
  {
   "cell_type": "code",
   "execution_count": null,
   "metadata": {
    "ExecuteTime": {
     "end_time": "2018-10-04T09:42:13.264946Z",
     "start_time": "2018-10-04T09:42:01.669918Z"
    },
    "colab": {},
    "colab_type": "code",
    "id": "vE-8zlrjxQ5U",
    "outputId": "b6ac8d72-ff24-468b-8afb-eaf2ffae5d77"
   },
   "outputs": [],
   "source": [
    "xx = []\n",
    "for i in range(len(imgs)):\n",
    "    x = np.array(imgs[i])\n",
    "    #x=x.flatten()\n",
    "    x=(x-np.mean(x))/(np.std(x))\n",
    "    xx.append(torch.from_numpy(x).cuda(0))\n",
    "    print(xx)\n",
    "#len(imgs)\n",
    "#len(imgs[0])\n",
    "#arr_dimen(imgs)\n",
    "#len(x)"
   ]
  },
  {
   "cell_type": "code",
   "execution_count": null,
   "metadata": {
    "ExecuteTime": {
     "end_time": "2018-10-04T09:42:46.936689Z",
     "start_time": "2018-10-04T09:42:46.929570Z"
    },
    "colab": {},
    "colab_type": "code",
    "id": "jOrxk-l-xQ5a",
    "outputId": "5794ae8a-5b20-4d54-fd86-e9520d192001"
   },
   "outputs": [],
   "source": [
    "len(xx[0])"
   ]
  },
  {
   "cell_type": "code",
   "execution_count": null,
   "metadata": {
    "ExecuteTime": {
     "end_time": "2018-10-04T09:43:04.823515Z",
     "start_time": "2018-10-04T09:43:04.800618Z"
    },
    "colab": {},
    "colab_type": "code",
    "id": "tmDSzKv4xQ5f",
    "outputId": "98f66324-309f-47dc-85de-7606d14aeae4"
   },
   "outputs": [],
   "source": [
    "xxx = torch.Tensor(len(xx),len(xx[0]),len(xx[0])).cuda()\n",
    "torch.cat(xx, out=xxx.double())"
   ]
  },
  {
   "cell_type": "code",
   "execution_count": null,
   "metadata": {
    "colab": {},
    "colab_type": "code",
    "id": "7unPSFT2xQ5l",
    "outputId": "bafbfe34-fe32-4402-d19f-cf595d411699"
   },
   "outputs": [],
   "source": [
    "class LinearRegressionModel(nn.Module):\n",
    "\n",
    "    def __init__(self, input_dim, output_dim):\n",
    "\n",
    "        super(LinearRegressionModel, self).__init__() \n",
    "        # Calling Super Class's constructor\n",
    "        self.linear = nn.Linear(input_dim, output_dim)\n",
    "        # nn.linear is defined in nn.Module\n",
    "\n",
    "    def forward(self, x):\n",
    "        # Here the forward pass is simply a linear function\n",
    "\n",
    "        out = self.linear(x)\n",
    "        return out\n",
    "\n",
    "input_dim = 1\n",
    "output_dim = 1\n",
    "model = LinearRegressionModel(input_dim,output_dim)\n",
    "\n",
    "criterion = nn.MSELoss()# Mean Squared Loss\n",
    "l_rate = 0.01\n",
    "optimiser = torch.optim.SGD(model.parameters(), lr = l_rate) #Stochastic Gradient Descent\n",
    "\n",
    "epochs = 2000\n",
    "for epoch in range(epochs):\n",
    "\n",
    "    epoch +=1\n",
    "    #increase the number of epochs by 1 every time\n",
    "    inputs = Variable(torch.from_numpy(x_train))\n",
    "    labels = Variable(torch.from_numpy(y_correct))\n",
    "\n",
    "    #clear grads as discussed in prev post\n",
    "    optimiser.zero_grad()\n",
    "    #forward to get predicted values\n",
    "    outputs = model.forward(inputs)\n",
    "    loss = criterion(outputs, labels)\n",
    "    loss.backward()# back props\n",
    "    optimiser.step()# update the parameters\n",
    "    print('epoch {}, loss {}'.format(epoch,loss.data[0]))\n",
    "    "
   ]
  },
  {
   "cell_type": "code",
   "execution_count": null,
   "metadata": {
    "ExecuteTime": {
     "end_time": "2018-10-04T09:43:18.029649Z",
     "start_time": "2018-10-04T09:43:18.015917Z"
    },
    "colab": {},
    "colab_type": "code",
    "id": "Bb96LPpCxQ5o"
   },
   "outputs": [],
   "source": [
    "class DynamicNet2(torch.nn.Module):\n",
    "    def __init__(self, x,y,2):\n",
    "        super(DynamicNet2, self).__init__()\n",
    "        self.input_linear = torch.nn.Linear(len(x), H)\n",
    "        self.middle_linear = torch.nn.Linear(H, H)\n",
    "        self.output_linear = torch.nn.Linear(H, len(y))\n",
    "    def forward(self, x):\n",
    "        h_relu = self.input_linear(x).clamp(min=0)\n",
    "        for _ in range(random.randint(0, int(H))):\n",
    "            h_relu = self.middle_linear(h_relu).clamp(min=0)\n",
    "        y_pred = self.output_linear(h_relu)\n",
    "        return y_pred"
   ]
  },
  {
   "cell_type": "code",
   "execution_count": null,
   "metadata": {
    "ExecuteTime": {
     "end_time": "2018-10-04T09:54:39.767204Z",
     "start_time": "2018-10-04T09:54:39.726907Z"
    },
    "colab": {},
    "colab_type": "code",
    "id": "e2HvrTQWxQ5r"
   },
   "outputs": [],
   "source": [
    "model = DynamicNet2(xxx, 2, y).cuda()\n",
    "criterion = torch.nn.MSELoss(reduction='sum').cuda()\n",
    "optimizer = torch.optim.SGD(model.parameters(), lr=1e-4, momentum=0.9)\n",
    "yp = model(xxx)\n",
    "yp"
   ]
  },
  {
   "cell_type": "code",
   "execution_count": null,
   "metadata": {
    "ExecuteTime": {
     "end_time": "2018-10-02T12:59:39.676693Z",
     "start_time": "2018-10-02T12:59:39.629621Z"
    },
    "colab": {},
    "colab_type": "code",
    "id": "ie5FoyiCxQ5u"
   },
   "outputs": [],
   "source": [
    "for t in range(1):\n",
    "    y_pred = model(x)\n",
    "    loss = criterion(y_pred, y)\n",
    "    print(t, loss.item())\n",
    "    optimizer.zero_grad()\n",
    "    loss.backward()\n",
    "    optimizer.step()"
   ]
  },
  {
   "cell_type": "code",
   "execution_count": null,
   "metadata": {
    "ExecuteTime": {
     "end_time": "2018-11-04T21:17:26.620258Z",
     "start_time": "2018-11-04T21:17:26.593366Z"
    },
    "colab": {},
    "colab_type": "code",
    "id": "K4_ZofHCxQ5x"
   },
   "outputs": [],
   "source": [
    "print(x.device)\n",
    "print(y.device)\n",
    "print(y_pred.device)"
   ]
  },
  {
   "cell_type": "code",
   "execution_count": null,
   "metadata": {
    "ExecuteTime": {
     "end_time": "2018-11-04T21:17:38.664330Z",
     "start_time": "2018-11-04T21:17:38.656741Z"
    },
    "colab": {},
    "colab_type": "code",
    "id": "p1FyjIxgxQ53"
   },
   "outputs": [],
   "source": [
    "#check with https://github.com/animesh/ann/blob/master/ann/Program.cs\n",
    "#Iteration = 1   Error = 0.298371108760003       Outputs = 0.751365069552316     0.772928465321463\n",
    "#Iteration = 2   Error = 0.291027773693599       Outputs = 0.742088111190782     0.775284968294459\n",
    "inp=[0.05,0.10]\n",
    "inpw=[[0.15,0.20],[0.25,0.3]]\n",
    "hidden=2\n",
    "hidw=[[0.4,0.45],[0.5,0.55]]\n",
    "outputc=2\n",
    "outputr=[0.01,0.99]\n",
    "bias=[0.35,0.6]\n",
    "cons=[1,1]\n",
    "lr=0.5\n",
    "error=1\n",
    "itr=1000"
   ]
  },
  {
   "cell_type": "code",
   "execution_count": null,
   "metadata": {
    "ExecuteTime": {
     "end_time": "2018-11-04T21:17:40.261878Z",
     "start_time": "2018-11-04T21:17:40.251649Z"
    },
    "colab": {},
    "colab_type": "code",
    "id": "ekZzqMoNxQ56",
    "outputId": "04ff9da3-790b-40b9-b1ec-c3e7835aeaf7"
   },
   "outputs": [],
   "source": [
    "#https://github.com/jcjohnson/pytorch-examples/blob/master/README.md  numpy\n",
    "import numpy as np\n",
    "x=np.asarray(inp)\n",
    "y=np.asarray(outputr)\n",
    "b=np.asarray(bias)\n",
    "w1=np.asarray(inpw)\n",
    "w2=np.asarray(hidw)\n",
    "print(x,y,b,w1,w2)"
   ]
  },
  {
   "cell_type": "code",
   "execution_count": null,
   "metadata": {
    "ExecuteTime": {
     "end_time": "2018-11-04T21:17:41.637475Z",
     "start_time": "2018-11-04T21:17:41.627914Z"
    },
    "colab": {},
    "colab_type": "code",
    "id": "FXPkQSU5xQ5-",
    "outputId": "be048549-c963-4d1c-98fb-20a583d2dad8"
   },
   "outputs": [],
   "source": [
    "h=1/(1+np.exp(-(x.dot(w1.T)+b[0])))\n",
    "y_pred=1/(1+np.exp(-(h.dot(w2.T)+b[1])))\n",
    "print(h,y_pred)"
   ]
  },
  {
   "cell_type": "code",
   "execution_count": null,
   "metadata": {
    "ExecuteTime": {
     "end_time": "2018-11-04T21:17:44.069053Z",
     "start_time": "2018-11-04T21:17:44.062263Z"
    },
    "colab": {},
    "colab_type": "code",
    "id": "CoucirbuxQ6E",
    "outputId": "acce5ac8-1f91-4292-bffb-9ab03d40232c"
   },
   "outputs": [],
   "source": [
    "loss = 0.5*np.square(y_pred - y).sum()\n",
    "print(loss)"
   ]
  },
  {
   "cell_type": "code",
   "execution_count": null,
   "metadata": {
    "ExecuteTime": {
     "end_time": "2018-11-04T21:17:46.129073Z",
     "start_time": "2018-11-04T21:17:46.120721Z"
    },
    "colab": {},
    "colab_type": "code",
    "id": "lD40ylf1xQ6K",
    "outputId": "21798cd3-81f6-40fc-8112-9cb0e017399e"
   },
   "outputs": [],
   "source": [
    "w3=w2.T-lr*(y_pred - y)*(1-y_pred)*y_pred*h\n",
    "w3"
   ]
  },
  {
   "cell_type": "code",
   "execution_count": null,
   "metadata": {
    "ExecuteTime": {
     "end_time": "2018-10-22T11:55:48.945759Z",
     "start_time": "2018-10-22T11:55:48.938619Z"
    },
    "colab": {},
    "colab_type": "code",
    "id": "bL5RZrhHxQ6P"
   },
   "outputs": [],
   "source": [
    "w3p=[[0.35891647971788465, 0.5113012702387375],\n",
    "       [0.4086661860762334, 0.5613701211079891]]\n",
    "print(w3p-w3)"
   ]
  },
  {
   "cell_type": "code",
   "execution_count": null,
   "metadata": {
    "ExecuteTime": {
     "end_time": "2018-10-19T20:18:18.395583Z",
     "start_time": "2018-10-19T20:18:18.390552Z"
    },
    "colab": {},
    "colab_type": "code",
    "id": "wP9QGkJOxQ6S"
   },
   "outputs": [],
   "source": [
    "w4=w1-lr*sum(((y_pred - y)*(1-y_pred)*y_pred*w2.T).T)*h*(1-h)*x"
   ]
  },
  {
   "cell_type": "code",
   "execution_count": null,
   "metadata": {
    "ExecuteTime": {
     "end_time": "2018-10-19T20:18:21.381580Z",
     "start_time": "2018-10-19T20:18:21.377571Z"
    },
    "colab": {},
    "colab_type": "code",
    "id": "0uly8PQGxQ6V"
   },
   "outputs": [],
   "source": [
    "  Weight: 0.35891647971788465\n",
    "  Weight: 0.4086661860762334\n",
    "  Bias: 0.6\n",
    " Neuron 1\n",
    "  Weight: 0.5113012702387375\n",
    "  Weight: 0.5613701211079891\n",
    "print((w1-w4)/lr)"
   ]
  },
  {
   "cell_type": "code",
   "execution_count": null,
   "metadata": {
    "ExecuteTime": {
     "end_time": "2018-10-19T20:18:34.505482Z",
     "start_time": "2018-10-19T20:18:34.496957Z"
    },
    "colab": {},
    "colab_type": "code",
    "id": "QRlBsJPoxQ6b"
   },
   "outputs": [],
   "source": [
    "h1=1/(1+np.exp(-(x.dot(w4)+b[0])))\n",
    "y_pred_h1=1/(1+np.exp(-(h1.dot(w3)+b[1])))\n",
    "print(h1,y_pred_h1)"
   ]
  },
  {
   "cell_type": "code",
   "execution_count": null,
   "metadata": {
    "ExecuteTime": {
     "end_time": "2018-10-19T20:18:36.958205Z",
     "start_time": "2018-10-19T20:18:36.951643Z"
    },
    "colab": {},
    "colab_type": "code",
    "id": "KhuLGOujxQ6d"
   },
   "outputs": [],
   "source": [
    "loss = 0.5*np.square(y_pred_h1 - y).sum()\n",
    "print(loss)"
   ]
  },
  {
   "cell_type": "code",
   "execution_count": null,
   "metadata": {
    "ExecuteTime": {
     "end_time": "2018-10-19T20:18:40.801329Z",
     "start_time": "2018-10-19T20:18:40.793136Z"
    },
    "colab": {},
    "colab_type": "code",
    "id": "JnpTcQWjxQ6g"
   },
   "outputs": [],
   "source": [
    "print(y_pred_h1,y_pred,y)"
   ]
  },
  {
   "cell_type": "code",
   "execution_count": null,
   "metadata": {
    "ExecuteTime": {
     "end_time": "2018-10-22T12:09:14.608580Z",
     "start_time": "2018-10-22T12:09:14.526368Z"
    },
    "colab": {},
    "colab_type": "code",
    "id": "n2B1owlQxQ6i"
   },
   "outputs": [],
   "source": [
    "import torch\n",
    "torch.cuda.set_device(0)"
   ]
  },
  {
   "cell_type": "code",
   "execution_count": null,
   "metadata": {
    "ExecuteTime": {
     "end_time": "2018-10-22T12:09:16.210057Z",
     "start_time": "2018-10-22T12:09:16.198156Z"
    },
    "colab": {},
    "colab_type": "code",
    "id": "BZbespyzxQ6l",
    "outputId": "c2290d6b-75d0-499b-be65-f6ea73a213d5"
   },
   "outputs": [],
   "source": [
    "#try same with torch\n",
    "import torch\n",
    "x=torch.tensor([inp], dtype=torch.float64)\n",
    "y=torch.tensor([outputr], dtype=torch.float64)\n",
    "b=torch.tensor(bias, dtype=torch.float64)\n",
    "w1=torch.tensor(inpw, dtype=torch.float64)\n",
    "w2=torch.tensor(hidw, dtype=torch.float64)\n",
    "print(x,y,b,w1,w2)"
   ]
  },
  {
   "cell_type": "code",
   "execution_count": null,
   "metadata": {
    "ExecuteTime": {
     "end_time": "2018-10-22T12:09:21.484787Z",
     "start_time": "2018-10-22T12:09:21.477672Z"
    },
    "colab": {},
    "colab_type": "code",
    "id": "thvwiGuTxQ6p",
    "outputId": "594f100a-0b8b-448f-dd5c-bdde1bc3cb9b"
   },
   "outputs": [],
   "source": [
    "print(torch.tensor(inpw).transpose(0,1),\n",
    "torch.tensor(hidw).transpose(0,1))"
   ]
  },
  {
   "cell_type": "code",
   "execution_count": null,
   "metadata": {
    "ExecuteTime": {
     "end_time": "2018-10-22T12:10:10.378232Z",
     "start_time": "2018-10-22T12:10:10.367723Z"
    },
    "colab": {},
    "colab_type": "code",
    "id": "Z9_E-tEyxQ6u",
    "outputId": "5cd48b97-c50d-4a8a-d255-b26c3bfbb038"
   },
   "outputs": [],
   "source": [
    "h = torch.sigmoid(x.mm(w1.transpose(0,1))+b[0])\n",
    "y_pred = torch.sigmoid(h.mm(w2.transpose(0,1))+b[1])\n",
    "loss = 0.5*(((y_pred - y).pow(2)).sum())\n",
    "print(h,y_pred,loss)"
   ]
  },
  {
   "cell_type": "code",
   "execution_count": null,
   "metadata": {
    "ExecuteTime": {
     "end_time": "2018-10-22T12:10:18.625973Z",
     "start_time": "2018-10-22T12:10:18.616357Z"
    },
    "colab": {},
    "colab_type": "code",
    "id": "FxY8Nbu8xQ6z",
    "outputId": "a264ff0e-2a68-4f0a-be11-120ea92d4c77"
   },
   "outputs": [],
   "source": [
    "torch.tensor(w3p, dtype=torch.float64)-w2.transpose(0,1)-lr*(y_pred - y)*(1-y_pred)*y_pred*h"
   ]
  },
  {
   "cell_type": "code",
   "execution_count": null,
   "metadata": {
    "ExecuteTime": {
     "end_time": "2018-10-22T12:12:01.679913Z",
     "start_time": "2018-10-22T12:12:01.668133Z"
    },
    "colab": {},
    "colab_type": "code",
    "id": "DkSdJNYmxQ66"
   },
   "outputs": [],
   "source": [
    "def init_weights(m):\n",
    "    if type(m) == torch.nn.Linear:\n",
    "        torch.nn.init.xavier_uniform_(m.weight)\n",
    "        m.bias.data.fill_(0.01)\n",
    "\n",
    "net = torch.nn.Sequential(torch.nn.Linear(2, 2), torch.nn.Linear(2, 2))\n",
    "net.apply(init_weights)"
   ]
  },
  {
   "cell_type": "code",
   "execution_count": null,
   "metadata": {
    "ExecuteTime": {
     "end_time": "2018-09-22T21:06:06.091727Z",
     "start_time": "2018-09-22T21:06:06.084951Z"
    },
    "colab": {},
    "colab_type": "code",
    "id": "4hhwa7XcxQ69"
   },
   "outputs": [],
   "source": [
    "class Net(torch.nn.Module):\n",
    "    def __init__(self, n_feature, n_hidden, n_output):\n",
    "        super(Net, self).__init__()\n",
    "        self.hidden = torch.nn.Linear(n_feature, n_hidden) \n",
    "        self.predict = torch.nn.Linear(n_hidden, n_output)\n",
    "    def forward(self, x):\n",
    "        x = torch.sigmoid(self.hidden(x))\n",
    "        x = self.predict(x)\n",
    "        return x"
   ]
  },
  {
   "cell_type": "code",
   "execution_count": null,
   "metadata": {
    "ExecuteTime": {
     "end_time": "2018-09-22T21:06:07.143850Z",
     "start_time": "2018-09-22T21:06:07.137566Z"
    },
    "colab": {},
    "colab_type": "code",
    "id": "I6vYMeEIxQ7A"
   },
   "outputs": [],
   "source": [
    "#print(x.view)\n",
    "#net = Net(n_feature=1, n_hidden=10, n_output=1)  \n",
    "net=Net(outputc,outputc,outputc)\n",
    "print(net)  # net architecture"
   ]
  },
  {
   "cell_type": "code",
   "execution_count": null,
   "metadata": {
    "ExecuteTime": {
     "end_time": "2018-09-22T21:06:08.697808Z",
     "start_time": "2018-09-22T21:06:08.692875Z"
    },
    "colab": {},
    "colab_type": "code",
    "id": "r71SUviNxQ7D"
   },
   "outputs": [],
   "source": [
    "optimizer = torch.optim.SGD(net.parameters(), lr)\n",
    "loss_func = torch.nn.MSELoss()"
   ]
  },
  {
   "cell_type": "code",
   "execution_count": null,
   "metadata": {
    "ExecuteTime": {
     "end_time": "2018-09-22T21:06:10.221866Z",
     "start_time": "2018-09-22T21:06:10.208607Z"
    },
    "colab": {},
    "colab_type": "code",
    "id": "Xp5TmnYAxQ7I"
   },
   "outputs": [],
   "source": [
    "prediction = net(x)\n",
    "loss = loss_func(prediction, y)\n",
    "optimizer.zero_grad()\n",
    "loss.backward()\n",
    "optimizer.step()\n",
    "print(x.data.numpy(), y.data.numpy())\n",
    "print(x.data.numpy(), prediction.data.numpy())\n",
    "print(loss.data.numpy())"
   ]
  },
  {
   "cell_type": "code",
   "execution_count": null,
   "metadata": {
    "ExecuteTime": {
     "end_time": "2018-09-22T20:00:20.529428Z",
     "start_time": "2018-09-22T20:00:20.525360Z"
    },
    "colab": {},
    "colab_type": "code",
    "id": "H5pxZQ5XxQ7L"
   },
   "outputs": [],
   "source": [
    "#https://github.com/mdai/ml-lessons/blob/master/lesson3-rsna-pneumonia-detection-kaggle.ipynb\n",
    "#!pwd\n",
    "#!pip install --upgrade pip\n",
    "!pip install kaggle\n",
    "import matplotlib.pyplot as plt"
   ]
  },
  {
   "cell_type": "code",
   "execution_count": null,
   "metadata": {
    "ExecuteTime": {
     "end_time": "2018-09-15T10:40:45.844472Z",
     "start_time": "2018-09-15T10:40:44.241395Z"
    },
    "colab": {},
    "colab_type": "code",
    "id": "bzVDbPhcxQ7O"
   },
   "outputs": [],
   "source": [
    "!ls /home/notebook/.local/bin"
   ]
  },
  {
   "cell_type": "code",
   "execution_count": null,
   "metadata": {
    "ExecuteTime": {
     "end_time": "2018-10-04T18:50:15.510642Z",
     "start_time": "2018-10-04T18:42:15.578167Z"
    },
    "colab": {},
    "colab_type": "code",
    "id": "ZuWD2bwyxQ7U"
   },
   "outputs": [],
   "source": [
    "#!/home/notebook/.local/bin/kaggle competitions download -c rsna-pneumonia-detection-challenge\n",
    "#https://www.kaggle.com/c/human-protein-atlas-image-classification/data\n",
    "!/home/notebook/.local/bin/kaggle competitions download -c human-protein-atlas-image-classification"
   ]
  },
  {
   "cell_type": "code",
   "execution_count": null,
   "metadata": {
    "ExecuteTime": {
     "end_time": "2018-09-15T10:41:08.799455Z",
     "start_time": "2018-09-15T10:41:07.282698Z"
    },
    "colab": {},
    "colab_type": "code",
    "id": "RTYL9XpVxQ7W"
   },
   "outputs": [],
   "source": [
    "!ls /home/notebook/.kaggle/competitions/rsna-pneumonia-detection-challenge"
   ]
  },
  {
   "cell_type": "code",
   "execution_count": null,
   "metadata": {
    "ExecuteTime": {
     "end_time": "2018-09-07T21:20:00.673389Z",
     "start_time": "2018-09-07T21:12:56.028044Z"
    },
    "colab": {},
    "colab_type": "code",
    "id": "CrD5XgjTxQ7Y"
   },
   "outputs": [],
   "source": [
    "!unzip /home/notebook/.kaggle/competitions/rsna-pneumonia-detection-challenge/stage_1_train_images.zip\n",
    "!mv *.dcm Train"
   ]
  },
  {
   "cell_type": "code",
   "execution_count": null,
   "metadata": {
    "ExecuteTime": {
     "end_time": "2018-09-07T21:20:31.343780Z",
     "start_time": "2018-09-07T21:20:23.000512Z"
    },
    "colab": {},
    "colab_type": "code",
    "id": "3qd8xHzfxQ7b"
   },
   "outputs": [],
   "source": [
    "!pip3 install -q pydicom \n",
    "!pip3 install -q tqdm \n",
    "!pip3 install -q imgaug"
   ]
  },
  {
   "cell_type": "code",
   "execution_count": null,
   "metadata": {
    "ExecuteTime": {
     "end_time": "2018-09-22T16:50:59.031922Z",
     "start_time": "2018-09-22T16:50:58.286192Z"
    },
    "colab": {},
    "colab_type": "code",
    "id": "sI-wozISxQ7d"
   },
   "outputs": [],
   "source": [
    "import os\n",
    "import pydicom\n",
    "import glob\n",
    "train_dicom_dir = os.path.join(os.getcwd(), 'Train')\n",
    "image_fps = glob.glob(train_dicom_dir+'/'+'*.dcm')\n",
    "ds = pydicom.read_file(image_fps[2]) # read dicom image from filepath \n",
    "image = ds.pixel_array # get image array\n",
    "ds"
   ]
  },
  {
   "cell_type": "code",
   "execution_count": null,
   "metadata": {
    "ExecuteTime": {
     "end_time": "2018-09-22T16:51:02.876646Z",
     "start_time": "2018-09-22T16:51:02.213370Z"
    },
    "colab": {},
    "colab_type": "code",
    "id": "ByQ6aA3RxQ7f"
   },
   "outputs": [],
   "source": [
    "#plt.imshow(image)\n",
    "plt.imshow(image, cmap='gray')"
   ]
  },
  {
   "cell_type": "code",
   "execution_count": null,
   "metadata": {
    "ExecuteTime": {
     "end_time": "2018-09-15T21:06:22.264729Z",
     "start_time": "2018-09-15T21:06:21.706834Z"
    },
    "colab": {},
    "colab_type": "code",
    "id": "S_H49z-ixQ7i"
   },
   "outputs": [],
   "source": [
    "import argparse\n",
    "import torch\n",
    "import torch.nn as nn\n",
    "import torch.functional as F\n",
    "import torch.optim as optim\n",
    "from torchvision import datasets, transforms\n",
    "\n",
    "class Net(nn.Module):\n",
    "    def __init__(self):\n",
    "        super(Net, self).__init__()\n",
    "        self.conv1 = nn.Conv2d(1, 10, kernel_size=5)\n",
    "        self.conv2 = nn.Conv2d(10, 20, kernel_size=5)\n",
    "        self.conv2_drop = nn.Dropout2d()\n",
    "        self.fc1 = nn.Linear(320, 50)\n",
    "        self.fc2 = nn.Linear(50, 10)\n",
    "\n",
    "    def forward(self, x):\n",
    "        x = F.relu(F.max_pool2d(self.conv1(x), 2))\n",
    "        x = F.relu(F.max_pool2d(self.conv2_drop(self.conv2(x)), 2))\n",
    "        x = x.view(-1, 320)\n",
    "        x = F.relu(self.fc1(x))\n",
    "        x = F.dropout(x, training=self.training)\n",
    "        x = self.fc2(x)\n",
    "        return F.log_softmax(x, dim=1)\n",
    "\n",
    "def train(args, model, device, train_loader, optimizer, epoch):\n",
    "    model.train()\n",
    "    for batch_idx, (data, target) in enumerate(train_loader):\n",
    "        data, target = data.to(device), target.to(device)\n",
    "        optimizer.zero_grad()\n",
    "        output = model(data)\n",
    "        loss = F.nll_loss(output, target)\n",
    "        loss.backward()\n",
    "        optimizer.step()\n",
    "        if batch_idx % args.log_interval == 0:\n",
    "            print('Train Epoch: {} [{}/{} ({:.0f}%)]\\tLoss: {:.6f}'.format(\n",
    "                epoch, batch_idx * len(data), len(train_loader.dataset),\n",
    "                100. * batch_idx / len(train_loader), loss.item()))\n",
    "\n",
    "def test(args, model, device, test_loader):\n",
    "    model.eval()\n",
    "    test_loss = 0\n",
    "    correct = 0\n",
    "    with torch.no_grad():\n",
    "        for data, target in test_loader:\n",
    "            data, target = data.to(device), target.to(device)\n",
    "            output = model(data)\n",
    "            test_loss += F.nll_loss(output, target, reduction='sum').item() # sum up batch loss\n",
    "            pred = output.max(1, keepdim=True)[1] # get the index of the max log-probability\n",
    "            correct += pred.eq(target.view_as(pred)).sum().item()\n",
    "\n",
    "    test_loss /= len(test_loader.dataset)\n",
    "    print('\\nTest set: Average loss: {:.4f}, Accuracy: {}/{} ({:.0f}%)\\n'.format(\n",
    "        test_loss, correct, len(test_loader.dataset),\n",
    "        100. * correct / len(test_loader.dataset)))\n",
    "\n"
   ]
  },
  {
   "cell_type": "code",
   "execution_count": null,
   "metadata": {
    "ExecuteTime": {
     "end_time": "2018-09-15T21:09:41.128922Z",
     "start_time": "2018-09-15T21:09:40.611076Z"
    },
    "colab": {},
    "colab_type": "code",
    "id": "eFLBKvFcxQ7k"
   },
   "outputs": [],
   "source": [
    "parser = argparse.ArgumentParser(description='PyTorch MNIST Example')\n",
    "parser.add_argument('--batch-size', type=int, default=64, metavar='N',\n",
    "help='input batch size for training (default: 64)')\n",
    "parser.add_argument('--test-batch-size', type=int, default=1000, metavar='N',\n",
    "help='input batch size for testing (default: 1000)')\n",
    "parser.add_argument('--epochs', type=int, default=10, metavar='N',\n",
    "help='number of epochs to train (default: 10)')\n",
    "parser.add_argument('--lr', type=float, default=0.01, metavar='LR',\n",
    "help='learning rate (default: 0.01)')\n",
    "parser.add_argument('--momentum', type=float, default=0.5, metavar='M',\n",
    "help='SGD momentum (default: 0.5)')\n",
    "parser.add_argument('--no-cuda', action='store_true', default=False,\n",
    "help='disables CUDA training')\n",
    "parser.add_argument('--seed', type=int, default=1, metavar='S',\n",
    "help='random seed (default: 1)')\n",
    "parser.add_argument('--log-interval', type=int, default=10, metavar='N',\n",
    "help='how many batches to wait before logging training status')\n",
    "args = parser.parse_args()\n",
    "use_cuda = not args.no_cuda and torch.cuda.is_available()\n",
    "\n",
    "torch.manual_seed(args.seed)\n",
    "\n",
    "train_loader = torch.utils.data.DataLoader(\n",
    "datasets.MNIST('../data', train=True, download=True,\n",
    "   transform=transforms.Compose([\n",
    "   transforms.ToTensor(),\n",
    "   transforms.Normalize((0.1307,), (0.3081,))\n",
    "   ])),\n",
    "batch_size=args.batch_size, shuffle=True, **kwargs)\n",
    "test_loader = torch.utils.data.DataLoader(\n",
    "datasets.MNIST('../data', train=False, transform=transforms.Compose([\n",
    "   transforms.ToTensor(),\n",
    "   transforms.Normalize((0.1307,), (0.3081,))\n",
    "   ])),\n",
    "batch_size=args.test_batch_size, shuffle=True, **kwargs)\n",
    "\n",
    "\n",
    "model = Net()\n",
    "optimizer = optim.SGD(model.parameters(), lr=args.lr, momentum=args.momentum)"
   ]
  },
  {
   "cell_type": "code",
   "execution_count": null,
   "metadata": {
    "colab": {},
    "colab_type": "code",
    "id": "WyOmsbauxQ7n"
   },
   "outputs": [],
   "source": [
    "\n",
    "    for epoch in range(1, args.epochs + 1):\n",
    "        train(args, model, device, train_loader, optimizer, epoch)\n",
    "        test(args, model, device, test_loader)"
   ]
  },
  {
   "cell_type": "code",
   "execution_count": null,
   "metadata": {
    "ExecuteTime": {
     "end_time": "2018-09-08T14:42:04.968443Z",
     "start_time": "2018-09-08T14:42:04.612815Z"
    },
    "colab": {},
    "colab_type": "code",
    "id": "UK7yaDvGxQ7r"
   },
   "outputs": [],
   "source": [
    "\n",
    "\n",
    "#train_mask[ds.PatientID]\n",
    "train_mask[train_mask['patientId']==ds.PatientID]"
   ]
  },
  {
   "cell_type": "code",
   "execution_count": null,
   "metadata": {
    "ExecuteTime": {
     "end_time": "2018-09-14T21:36:09.461826Z",
     "start_time": "2018-09-14T21:35:59.184741Z"
    },
    "colab": {},
    "colab_type": "code",
    "id": "KwJLgGUHxQ7t"
   },
   "outputs": [],
   "source": [
    "#!pip install autokeras\n",
    "#https://github.com/google/dopamine\n",
    "#!pip install cmake\n",
    "!pip install atari_py\n",
    "#!pip install --upgrade --no-cache-dir dopamine-rl"
   ]
  },
  {
   "cell_type": "code",
   "execution_count": null,
   "metadata": {
    "ExecuteTime": {
     "end_time": "2018-09-14T21:35:29.059098Z",
     "start_time": "2018-09-14T21:35:20.111394Z"
    },
    "colab": {},
    "colab_type": "code",
    "id": "ZhSs_tB9xQ7v"
   },
   "outputs": [],
   "source": [
    "import numpy as np\n",
    "import os\n",
    "from dopamine.agents.dqn import dqn_agent\n",
    "from dopamine.atari import run_experiment\n",
    "from dopamine.colab import utils as colab_utils\n",
    "from absl import flags\n",
    "BASE_PATH = '/tmp/colab_dope_run'  # @param\n",
    "GAME = 'Asterix'  # @param"
   ]
  },
  {
   "cell_type": "code",
   "execution_count": null,
   "metadata": {
    "ExecuteTime": {
     "end_time": "2018-09-08T14:53:17.771828Z",
     "start_time": "2018-09-08T14:53:13.001935Z"
    },
    "colab": {},
    "colab_type": "code",
    "id": "Z39b7UfrxQ7x"
   },
   "outputs": [],
   "source": [
    "from keras.datasets import mnist\n",
    "from autokeras.classifier import ImageClassifier\n",
    "\n",
    "if __name__ == '__main__':\n",
    "    (x_train, y_train), (x_test, y_test) = mnist.load_data()\n",
    "    x_train = x_train.reshape(x_train.shape + (1,))\n",
    "    x_test = x_test.reshape(x_test.shape + (1,))\n",
    "\n",
    "    clf = ImageClassifier(verbose=True, augment=False)\n",
    "    clf.fit(x_train, y_train, time_limit=12 * 60 * 60)\n",
    "    clf.final_fit(x_train, y_train, x_test, y_test, retrain=True)\n",
    "    y = clf.evaluate(x_test, y_test)\n",
    "    print(y * 100)"
   ]
  },
  {
   "cell_type": "code",
   "execution_count": null,
   "metadata": {
    "ExecuteTime": {
     "end_time": "2018-09-07T22:22:08.949824Z",
     "start_time": "2018-09-07T22:22:08.640601Z"
    },
    "colab": {},
    "colab_type": "code",
    "id": "0hpsUDsBxQ7z"
   },
   "outputs": [],
   "source": [
    "from torch.utils import data\n",
    "class rsnaDataset(data.Dataset):\n",
    "    def __init__(self, root_path, file_list):\n",
    "        self.root_path = root_path\n",
    "        self.file_list = file_list\n",
    "    def __len__(self):\n",
    "        return len(self.file_list)\n",
    "    def __getitem__(self, index):\n",
    "        if index not in range(0, len(self.file_list)):\n",
    "            return self.__getitem__(np.random.randint(0, self.__len__()))\n",
    "        file_id = self.file_list[index]\n",
    "        image_folder = os.path.join(self.root_path, \"images\")\n",
    "        image_path = os.path.join(image_folder, file_id + \".dcm\")\n",
    "        #label folder + path\n",
    "        mask_folder = os.path.join(self.root_path, \"masks\")\n",
    "        mask_path = os.path.join(mask_folder, file_id + \".dcm\")\n",
    "        #read it, store it in memory as a byte array\n",
    "        image = np.array(imageio.imread(image_path), dtype=np.uint8)\n",
    "        mask = np.array(imageio.imread(mask_path), dtype=np.uint8)\n",
    "        #return image + label\n",
    "        return image, mask"
   ]
  },
  {
   "cell_type": "code",
   "execution_count": null,
   "metadata": {
    "ExecuteTime": {
     "end_time": "2018-09-07T22:17:24.105544Z",
     "start_time": "2018-09-07T22:17:22.650660Z"
    },
    "colab": {},
    "colab_type": "code",
    "id": "fjbUweyKxQ73"
   },
   "outputs": [],
   "source": [
    "#train image + mask data\n",
    "import pandas as pd\n",
    "!chmod 644 stage_1_train_labels.csv\n",
    "train_mask = pd.read_csv('stage_1_train_labels.csv')\n",
    "file_list = list(train_mask['patientId'].values)\n",
    "file_list"
   ]
  },
  {
   "cell_type": "code",
   "execution_count": null,
   "metadata": {
    "ExecuteTime": {
     "end_time": "2018-09-07T22:22:17.562550Z",
     "start_time": "2018-09-07T22:22:17.257312Z"
    },
    "colab": {},
    "colab_type": "code",
    "id": "ii0ZXxTvxQ75"
   },
   "outputs": [],
   "source": [
    "dataset = rsnaDataset(train_dicom_dir, file_list)\n",
    "dataset"
   ]
  },
  {
   "cell_type": "code",
   "execution_count": null,
   "metadata": {
    "ExecuteTime": {
     "end_time": "2018-08-12T21:21:52.941431Z",
     "start_time": "2018-08-12T21:21:52.039748Z"
    },
    "colab": {},
    "colab_type": "code",
    "id": "ArHJvV2-xQ77"
   },
   "outputs": [],
   "source": [
    "#https://ieee-dataport.org/open-access/indian-diabetic-retinopathy-image-dataset-idrid\n",
    "!ls retina/*A*/*O*/*Train*\n",
    "import os\n",
    "from glob import glob\n",
    "imgs = glob(os.path.join('retina/*A*/*O*/*Train*', \"*.jpg\"))\n",
    "imgs[2]"
   ]
  },
  {
   "cell_type": "code",
   "execution_count": null,
   "metadata": {
    "ExecuteTime": {
     "end_time": "2018-08-12T21:23:19.618715Z",
     "start_time": "2018-08-12T21:23:18.170150Z"
    },
    "colab": {},
    "colab_type": "code",
    "id": "9nFOqAPWxQ79"
   },
   "outputs": [],
   "source": [
    "import cv2\n",
    "import matplotlib.pylab as plt\n",
    "cvimg = cv2.imread(imgs[2],1)\n",
    "plt.imshow(cvimg)"
   ]
  },
  {
   "cell_type": "code",
   "execution_count": null,
   "metadata": {
    "ExecuteTime": {
     "end_time": "2018-08-12T21:17:44.029528Z",
     "start_time": "2018-08-12T21:17:43.685953Z"
    },
    "colab": {},
    "colab_type": "code",
    "id": "JQMwXihexQ7-"
   },
   "outputs": [],
   "source": [
    "#https://github.com/fastai/fastai/blob/master/courses/dl2/carvana-unet-lrg.ipynb\n",
    "%matplotlib inline\n",
    "%reload_ext autoreload\n",
    "%autoreload 2\n",
    "from fastai.conv_learner import *\n",
    "from fastai.dataset import *\n",
    "from fastai.models.resnet import vgg_resnet50\n",
    "import json\n",
    "def show_img(im, figsize=None, ax=None, alpha=None):\n",
    "    if not ax: fig,ax = plt.subplots(figsize=figsize)\n",
    "    ax.imshow(im, alpha=alpha)\n",
    "    ax.set_axis_off()\n",
    "    return ax\n",
    "PATH = Path('retina/*B*/*G*')\n",
    "MASKS = '*Training*.csv'\n",
    "META = '*metadata*.csv'\n",
    "masks_csv = pd.read_csv(PATH/MASKS)\n",
    "#meta_csv = pd.read_csv(\"retina/*/*/META\")"
   ]
  },
  {
   "cell_type": "code",
   "execution_count": null,
   "metadata": {
    "ExecuteTime": {
     "end_time": "2018-08-12T21:30:36.943663Z",
     "start_time": "2018-08-12T21:30:36.652623Z"
    },
    "colab": {},
    "colab_type": "code",
    "id": "adbqrJIVxQ8A"
   },
   "outputs": [],
   "source": [
    "def plot_ds_img(idx, ax=None, figsize=(7,7), normed=True):\n",
    "    if ax is None: fig,ax = plt.subplots(figsize=figsize)\n",
    "    im = md.val_ds[idx][0]\n",
    "    if normed: im = denorm(im)[0]\n",
    "    else:      im = np.rollaxis(to_np(im),0,3)\n",
    "    ax.imshow(im)\n",
    "    ax.axis('off')"
   ]
  },
  {
   "cell_type": "code",
   "execution_count": null,
   "metadata": {
    "ExecuteTime": {
     "end_time": "2018-08-12T21:34:37.058625Z",
     "start_time": "2018-08-12T21:34:36.744495Z"
    },
    "colab": {},
    "colab_type": "code",
    "id": "Ra6xpNgNxQ8C"
   },
   "outputs": [],
   "source": [
    "md = ImageData(PATH, imgs[1:7], 6, num_workers=16, classes=None)"
   ]
  },
  {
   "cell_type": "code",
   "execution_count": null,
   "metadata": {
    "ExecuteTime": {
     "end_time": "2018-08-12T21:34:43.781076Z",
     "start_time": "2018-08-12T21:34:39.632989Z"
    },
    "colab": {},
    "colab_type": "code",
    "id": "jH-limS2xQ8D"
   },
   "outputs": [],
   "source": [
    "fig,axes=plt.subplots(6,6,figsize=(20,20))\n",
    "for i,ax in enumerate(axes.flat): plot_ds_img(imgs[i],ax=ax, normed=True)"
   ]
  },
  {
   "cell_type": "code",
   "execution_count": null,
   "metadata": {
    "ExecuteTime": {
     "end_time": "2018-08-04T09:19:55.137421Z",
     "start_time": "2018-08-04T09:19:50.451370Z"
    },
    "colab": {},
    "colab_type": "code",
    "id": "tcSbUVUFxQ8F"
   },
   "outputs": [],
   "source": [
    "!pip install lime"
   ]
  },
  {
   "cell_type": "code",
   "execution_count": null,
   "metadata": {
    "ExecuteTime": {
     "end_time": "2018-08-04T09:20:54.583233Z",
     "start_time": "2018-08-04T09:20:41.662871Z"
    },
    "colab": {},
    "colab_type": "code",
    "id": "Fff-yJimxQ8G"
   },
   "outputs": [],
   "source": [
    "!pip install -U imbalanced-learn"
   ]
  },
  {
   "cell_type": "code",
   "execution_count": null,
   "metadata": {
    "ExecuteTime": {
     "start_time": "2018-08-04T09:21:39.008Z"
    },
    "colab": {},
    "colab_type": "code",
    "id": "yPGG3VJ9xQ8J"
   },
   "outputs": [],
   "source": [
    "!conda install numpy zeromq pyzmq"
   ]
  },
  {
   "cell_type": "code",
   "execution_count": null,
   "metadata": {
    "colab": {},
    "colab_type": "code",
    "id": "JXLre5M7xQ8K"
   },
   "outputs": [],
   "source": [
    "https://github.com/pytorch/ELF "
   ]
  },
  {
   "cell_type": "code",
   "execution_count": null,
   "metadata": {
    "colab": {},
    "colab_type": "code",
    "id": "_XgeC6owxQ8N"
   },
   "outputs": [],
   "source": [
    "!pip install torch  --upgrade"
   ]
  },
  {
   "cell_type": "code",
   "execution_count": null,
   "metadata": {
    "ExecuteTime": {
     "end_time": "2018-11-10T11:07:28.592440Z",
     "start_time": "2018-11-10T11:06:21.087734Z"
    },
    "colab": {},
    "colab_type": "code",
    "id": "rLy5CxW_xQ8Q"
   },
   "outputs": [],
   "source": [
    "#!pip install talos\n",
    "#!pip install pyro-ppl \n",
    "!pip install fastai"
   ]
  },
  {
   "cell_type": "code",
   "execution_count": null,
   "metadata": {
    "ExecuteTime": {
     "start_time": "2018-08-10T19:45:37.978Z"
    },
    "colab": {},
    "colab_type": "code",
    "id": "EONYSr9XxQ8T"
   },
   "outputs": [],
   "source": [
    "import torch\n",
    "print(\"#GPU-\", torch.cuda.device_count())"
   ]
  },
  {
   "cell_type": "code",
   "execution_count": null,
   "metadata": {
    "ExecuteTime": {
     "end_time": "2018-05-26T11:18:29.706029Z",
     "start_time": "2018-05-26T11:18:29.092037Z"
    },
    "colab": {},
    "colab_type": "code",
    "id": "sO4K_kQ2xQ8X"
   },
   "outputs": [],
   "source": [
    "from torch.utils.data import Dataset, DataLoader\n",
    "ip_s = 500000\n",
    "op_s = 5000\n",
    "bat_s = 1000\n",
    "data_s = 10000\n",
    "class randDataset(Dataset):\n",
    "    def __init__(self, size, length):\n",
    "        self.len = length\n",
    "        self.data = torch.randn(length, size)\n",
    "    def __getitem__(self, index):\n",
    "        return self.data[index]\n",
    "    def __len__(self):\n",
    "        return self.len\n",
    "rand_loader = DataLoader(randDataset(ip_s, data_s), bat_s, shuffle=True)\n",
    "rand_loader"
   ]
  },
  {
   "cell_type": "code",
   "execution_count": null,
   "metadata": {
    "ExecuteTime": {
     "end_time": "2018-11-11T10:32:01.569040Z",
     "start_time": "2018-11-11T10:32:01.467292Z"
    },
    "colab": {},
    "colab_type": "code",
    "id": "2wlYsO0jxQ8Z"
   },
   "outputs": [],
   "source": [
    "import torch.nn as nn\n",
    "class FCN(nn.Module):\n",
    "    def __init__(self, ip_s, op_s):\n",
    "        super(FCN, self).__init__()\n",
    "        self.fc1 = nn.Linear(ip_s, int((ip_s+op_s)/2))\n",
    "        self.fc2 = nn.Linear(int((ip_s+op_s)/2), op_s)\n",
    "    def forward(self, input):\n",
    "        output = self.fc1(input)\n",
    "        output = self.fc2(output)\n",
    "        print(\"\\tFCN: input\", input.size(),\"output\", output.size())\n",
    "        return output\n",
    "two_layer_nn = FCN(ip_s, op_s).cuda()\n",
    "two_layer_nn = nn.DataParallel(two_layer_nn)\n",
    "for data in rand_loader:\n",
    "    input = data\n",
    "    output = two_layer_nn(input)\n",
    "    print(\"input\", input.size(),\"output\", output.size())"
   ]
  },
  {
   "cell_type": "code",
   "execution_count": null,
   "metadata": {
    "colab": {},
    "colab_type": "code",
    "id": "EVRBtYeaxQ8b"
   },
   "outputs": [],
   "source": [
    "!pip install numpy mpi4py"
   ]
  },
  {
   "cell_type": "code",
   "execution_count": null,
   "metadata": {
    "colab": {},
    "colab_type": "code",
    "id": "ITMsRna4xQ8g"
   },
   "outputs": [],
   "source": [
    "!pip install petsc4py"
   ]
  },
  {
   "cell_type": "code",
   "execution_count": null,
   "metadata": {
    "colab": {},
    "colab_type": "code",
    "id": "yTwrZRN1xQ8i"
   },
   "outputs": [],
   "source": [
    "!pip install problog  "
   ]
  },
  {
   "cell_type": "code",
   "execution_count": null,
   "metadata": {
    "colab": {},
    "colab_type": "code",
    "id": "xV07tK_WxQ8n"
   },
   "outputs": [],
   "source": [
    "!pip install pyro-ppl"
   ]
  },
  {
   "cell_type": "code",
   "execution_count": null,
   "metadata": {
    "colab": {},
    "colab_type": "code",
    "id": "xCHXF-6sxQ8r",
    "scrolled": true
   },
   "outputs": [],
   "source": [
    "!pip install tensorflow --upgrade"
   ]
  },
  {
   "cell_type": "code",
   "execution_count": null,
   "metadata": {
    "ExecuteTime": {
     "end_time": "2018-05-26T11:18:54.781990Z",
     "start_time": "2018-05-26T11:18:54.775392Z"
    },
    "colab": {},
    "colab_type": "code",
    "id": "ut9cn871xQ8t"
   },
   "outputs": [],
   "source": [
    "import torch.nn as nn\n",
    "class FCN(nn.Module):\n",
    "    def __init__(self,n,o):\n",
    "        super().__init__()\n",
    "        self.fc1=nn.Linear(n,int(n/2))\n",
    "        self.fc2=nn.Linear(int(n/2),o)\n",
    "    def forward(self,x):\n",
    "        x=self.fc1(x)\n",
    "        x=self.fc2(x)\n",
    "        return x  "
   ]
  },
  {
   "cell_type": "code",
   "execution_count": null,
   "metadata": {
    "ExecuteTime": {
     "end_time": "2018-05-26T11:18:59.721331Z",
     "start_time": "2018-05-26T11:18:54.785730Z"
    },
    "colab": {},
    "colab_type": "code",
    "id": "ZwgRcDgZxQ8v",
    "scrolled": true
   },
   "outputs": [],
   "source": [
    "from torch.utils.data import DataLoader\n",
    "n=64\n",
    "o=1\n",
    "bs=int(n/8)\n",
    "ip=(torch.randn(n).cuda())\n",
    "#print(\"ip\",ip)\n",
    "rand_loader = DataLoader(ip,batch_size=bs, shuffle=False)\n",
    "for data in rand_loader:\n",
    "    two_layer_nn=nn.DataParallel(FCN(data.size()[0],o).cuda())\n",
    "    op=two_layer_nn(data)\n",
    "    print(\"batch\",two_layer_nn)    "
   ]
  },
  {
   "cell_type": "code",
   "execution_count": null,
   "metadata": {
    "colab": {},
    "colab_type": "code",
    "id": "-R1ezInuxQ8y"
   },
   "outputs": [],
   "source": [
    "n=64\n",
    "o=4\n",
    "torch.manual_seed(n)\n",
    "ip = (torch.randn(n)).cuda()\n",
    "two_layer_nn=nn.DataParallel(FCN(n,o).cuda()) # not working!\n",
    "two_layer_nn=FCN(n,o).cuda()\n",
    "op=two_layer_nn(ip)\n",
    "op"
   ]
  },
  {
   "cell_type": "code",
   "execution_count": null,
   "metadata": {
    "ExecuteTime": {
     "end_time": "2018-05-26T11:19:19.829243Z",
     "start_time": "2018-05-26T11:19:19.720674Z"
    },
    "colab": {},
    "colab_type": "code",
    "id": "1kQCMx01xQ81"
   },
   "outputs": [],
   "source": [
    "import torch.nn\n",
    "rng=1\n",
    "input1 = torch.rand(64*rng, 3*rng, 128*rng, 128*rng).cuda()\n",
    "input2 = torch.Tensor(64*rng, 3*rng, 128*rng, 128*rng).uniform_(-1, 1).cuda()\n",
    "input1 = torch.autograd.Variable(input1, requires_grad=True)\n",
    "input2 = torch.autograd.Variable(input2, requires_grad=True)\n",
    "#expected = torch.mul(input1, input2)\n",
    "expected = input1 - input2\n",
    "expected.mean()"
   ]
  },
  {
   "cell_type": "code",
   "execution_count": null,
   "metadata": {
    "colab": {},
    "colab_type": "code",
    "id": "UnN8GspjxQ82"
   },
   "outputs": [],
   "source": [
    "# imports\n",
    "import torch # do not run this line after instantiating TorchClient\n",
    "import torch.nn as nn\n",
    "from torch.autograd import Variable\n",
    "from grid.clients.torch import TorchClient\n",
    "import numpy as np\n",
    "import re\n",
    "\n",
    "# instantiate client!\n",
    "client = TorchClient(verbose=False)"
   ]
  },
  {
   "cell_type": "code",
   "execution_count": null,
   "metadata": {
    "colab": {},
    "colab_type": "code",
    "id": "RgQn-xrGxQ84"
   },
   "outputs": [],
   "source": [
    "!pip install gym"
   ]
  },
  {
   "cell_type": "code",
   "execution_count": null,
   "metadata": {
    "colab": {},
    "colab_type": "code",
    "id": "sSzTo63mxQ85"
   },
   "outputs": [],
   "source": [
    "import  gym\n",
    "env  =  gym.make()\n",
    "for i_episode in xrange(20):\n",
    "    observation = env.reset()\n",
    "    for t in xrange(100):\n",
    "        env.render()\n",
    "        print(observation)\n",
    "        action = env.action_space.sample()\n",
    "        observation, reward, done, info = env.step(action)\n",
    "        if done:\n",
    "            print(\"Episode finished after {} timesteps\".format(t+1))\n",
    "            break"
   ]
  },
  {
   "cell_type": "code",
   "execution_count": null,
   "metadata": {
    "colab": {},
    "colab_type": "code",
    "id": "UPfdWKEZxQ86"
   },
   "outputs": [],
   "source": [
    "from keras.models import Sequential\n",
    "from keras.layers import Dense\n",
    "from sklearn import datasets\n",
    "import numpy\n",
    "# fix random seed for reproducibility\n",
    "numpy.random.seed(7)\n",
    "# load pima price dataset\n",
    "dataset = datasets.load_boston()\n",
    "# split into input (X) and output (Y) variables\n",
    "X = dataset[:,0:8]\n",
    "Y = dataset[:,8]\n",
    "# create model\n",
    "model = Sequential()\n",
    "model.add(Dense(12, input_dim=8, activation='relu'))\n",
    "model.add(Dense(8, activation='relu'))\n",
    "model.add(Dense(1, activation='sigmoid'))\n",
    "# Compile model\n",
    "model.compile(loss='binary_crossentropy', optimizer='adam', metrics=['accuracy'])\n",
    "# Fit the model\n",
    "model.fit(X, Y, epochs=150, batch_size=10)\n",
    "# evaluate the model\n",
    "scores = model.evaluate(X, Y)\n",
    "print(\"\\n%s: %.2f%%\" % (model.metrics_names[1], scores[1]*100))"
   ]
  },
  {
   "cell_type": "code",
   "execution_count": null,
   "metadata": {
    "ExecuteTime": {
     "end_time": "2018-11-11T09:53:38.409452Z",
     "start_time": "2018-11-11T09:53:37.925412Z"
    },
    "colab": {},
    "colab_type": "code",
    "id": "nIqiW0AwxQ88"
   },
   "outputs": [],
   "source": [
    "import torch\n",
    "print(\"#GPU-\", torch.cuda.device_count())"
   ]
  },
  {
   "cell_type": "markdown",
   "metadata": {
    "colab_type": "text",
    "id": "g8h4wEMDxQ9A"
   },
   "source": [
    "# New heading"
   ]
  },
  {
   "cell_type": "markdown",
   "metadata": {
    "colab_type": "text",
    "id": "pm7CdZ6wxQ9A"
   },
   "source": [
    "# filetered dataset via https://github.com/animesh/CheXNet fork"
   ]
  },
  {
   "cell_type": "code",
   "execution_count": null,
   "metadata": {
    "ExecuteTime": {
     "end_time": "2018-11-11T10:32:23.607817Z",
     "start_time": "2018-11-11T10:32:23.501948Z"
    },
    "colab": {},
    "colab_type": "code",
    "id": "VNomyuLixQ9B"
   },
   "outputs": [],
   "source": [
    "import os\n",
    "from glob import glob\n",
    "imgs = glob(os.path.join('./CheXNet/ChestX-ray14/images/', \"*.png\"))\n",
    "imgs[2]"
   ]
  },
  {
   "cell_type": "code",
   "execution_count": null,
   "metadata": {
    "ExecuteTime": {
     "end_time": "2018-11-11T10:32:28.230560Z",
     "start_time": "2018-11-11T10:32:25.368921Z"
    },
    "colab": {},
    "colab_type": "code",
    "id": "wHk7-5xoxQ9C"
   },
   "outputs": [],
   "source": [
    "#pip install --upgrade pip\n",
    "!pip install opencv-python"
   ]
  },
  {
   "cell_type": "code",
   "execution_count": null,
   "metadata": {
    "ExecuteTime": {
     "end_time": "2018-11-11T10:32:30.457215Z",
     "start_time": "2018-11-11T10:32:29.813310Z"
    },
    "colab": {},
    "colab_type": "code",
    "id": "_eR1PKM2xQ9E"
   },
   "outputs": [],
   "source": [
    "import cv2\n",
    "import matplotlib.pylab as plt\n",
    "cvimg = cv2.imread(imgs[2000],1)\n",
    "plt.imshow(cvimg)"
   ]
  },
  {
   "cell_type": "code",
   "execution_count": null,
   "metadata": {
    "ExecuteTime": {
     "end_time": "2018-11-11T10:43:04.317989Z",
     "start_time": "2018-11-11T10:32:32.126069Z"
    },
    "colab": {},
    "colab_type": "code",
    "id": "5h7MJll8xQ9F"
   },
   "outputs": [],
   "source": [
    "import numpy as np\n",
    "%time Xrays256 = np.array([cv2.resize(cv2.imread(img,0), (256, 256), interpolation = cv2.INTER_AREA)/255 for img in imgs[:]])"
   ]
  },
  {
   "cell_type": "code",
   "execution_count": null,
   "metadata": {
    "ExecuteTime": {
     "end_time": "2018-11-11T10:45:13.818272Z",
     "start_time": "2018-11-11T10:45:13.769567Z"
    },
    "colab": {},
    "colab_type": "code",
    "id": "jLFQ42DJxQ9H"
   },
   "outputs": [],
   "source": [
    "import cupy as cp\n",
    "%time Xrays256 = cp.array([cv2.resize(cv2.imread(img,0), (256, 256), interpolation = cv2.INTER_AREA)/255 for img in imgs[:]])\n"
   ]
  },
  {
   "cell_type": "code",
   "execution_count": null,
   "metadata": {
    "ExecuteTime": {
     "end_time": "2018-11-11T10:45:17.434202Z",
     "start_time": "2018-11-11T10:45:17.425922Z"
    },
    "colab": {},
    "colab_type": "code",
    "id": "5M382igMxQ9J"
   },
   "outputs": [],
   "source": [
    "Xrays256.shape"
   ]
  },
  {
   "cell_type": "code",
   "execution_count": null,
   "metadata": {
    "ExecuteTime": {
     "end_time": "2018-11-11T10:45:22.687503Z",
     "start_time": "2018-11-11T10:45:22.183039Z"
    },
    "colab": {},
    "colab_type": "code",
    "id": "OkgDZJn4xQ9K"
   },
   "outputs": [],
   "source": [
    "import pandas as pd\n",
    "validation = pd.read_table(\"./CheXNet/ChestX-ray14/labels/val_list.txt.sel\", sep=' ',header=None,index_col=0)\n",
    "train = pd.read_table(\"./CheXNet/ChestX-ray14/labels/train_list.txt.sel\", sep=' ',index_col=0,header=None)\n",
    "test = pd.read_table(\"./CheXNet/ChestX-ray14/labels/test_list.txt.sel\", sep=' ',index_col=0,header=None)\n",
    "validation, train, test"
   ]
  },
  {
   "cell_type": "code",
   "execution_count": null,
   "metadata": {
    "ExecuteTime": {
     "end_time": "2018-11-11T10:45:34.126105Z",
     "start_time": "2018-11-11T10:45:34.117354Z"
    },
    "colab": {},
    "colab_type": "code",
    "id": "Hm35djxaxQ9L"
   },
   "outputs": [],
   "source": [
    "#pathology_list = ['Cardiomegaly','Emphysema','Effusion','Hernia','Nodule','Pneumothorax','Atelectasis','Pleural_Thickening','Mass','Edema','Consolidation','Infiltration','Fibrosis','Pneumonia', 'No Finding']\n",
    "#https://nihcc.app.box.com/v/ChestXray-NIHCC/file/220660789610\n",
    "#pathology_list = [1, Atelectasis; 2, Cardiomegaly; 3, Effusion; 4, Infiltration; 5, Mass; 6, Nodule; 7, Pneumonia; 8, Pneumothorax; 9, Consolidation; 10, Edema; 11, Emphysema; 12, Fibrosis; 13, Pleural_Thickening; 14 Hernia]\n",
    "pathology_list = ['Atelectasis','Cardiomegaly','Effusion','Infiltration','Mass','Nodule','Pneumonia','Pneumothorax','Consolidation','Edema','Emphysema','Fibrosis','Pleural_Thickening','Hernia']\n",
    "len(pathology_list)"
   ]
  },
  {
   "cell_type": "code",
   "execution_count": null,
   "metadata": {
    "ExecuteTime": {
     "end_time": "2018-11-11T10:45:36.597504Z",
     "start_time": "2018-11-11T10:45:36.527551Z"
    },
    "colab": {},
    "colab_type": "code",
    "id": "Z2rlRsmNxQ9N"
   },
   "outputs": [],
   "source": [
    "sample_labels=validation.append([train, test],ignore_index=True)\n",
    "(sample_labels)"
   ]
  },
  {
   "cell_type": "code",
   "execution_count": null,
   "metadata": {
    "ExecuteTime": {
     "end_time": "2018-11-11T10:45:44.320327Z",
     "start_time": "2018-11-11T10:45:44.252740Z"
    },
    "colab": {},
    "colab_type": "code",
    "id": "a_Jz0kxqxQ9O"
   },
   "outputs": [],
   "source": [
    "sample_labels.columns=pathology_list\n",
    "sample_labels\n"
   ]
  },
  {
   "cell_type": "code",
   "execution_count": null,
   "metadata": {
    "ExecuteTime": {
     "end_time": "2018-11-11T10:45:55.991699Z",
     "start_time": "2018-11-11T10:45:55.986602Z"
    },
    "colab": {},
    "colab_type": "code",
    "id": "VYJ8fA-VxQ9R"
   },
   "outputs": [],
   "source": [
    "Xrays256256 = Xrays256.reshape(10000,256*256)"
   ]
  },
  {
   "cell_type": "code",
   "execution_count": null,
   "metadata": {
    "ExecuteTime": {
     "end_time": "2018-11-11T10:45:58.336812Z",
     "start_time": "2018-11-11T10:45:58.325313Z"
    },
    "colab": {},
    "colab_type": "code",
    "id": "OgNvJIifxQ9T"
   },
   "outputs": [],
   "source": [
    "from torch.utils.data import Dataset, DataLoader\n",
    "data_loader = DataLoader(Xrays256256, 1000, shuffle=True)\n",
    "data_loader"
   ]
  },
  {
   "cell_type": "code",
   "execution_count": null,
   "metadata": {
    "ExecuteTime": {
     "end_time": "2018-11-11T10:46:06.728259Z",
     "start_time": "2018-11-11T10:46:06.715846Z"
    },
    "colab": {},
    "colab_type": "code",
    "id": "plcwUYkoxQ9V"
   },
   "outputs": [],
   "source": [
    "import torch.nn as nn\n",
    "class FCN(nn.Module):\n",
    "    def __init__(self, ip_s, op_s):\n",
    "        super(FCN, self).__init__()\n",
    "        self.fc1 = nn.Linear(ip_s, int((ip_s+op_s)/2))\n",
    "        self.fc2 = nn.Linear(int((ip_s+op_s)/2), op_s)\n",
    "    def forward(self, input):\n",
    "        output = self.fc1(input)\n",
    "        output = self.fc2(output)\n",
    "        print(\"\\tFCN: input\", input.size(),\"output\", output.size())\n",
    "        return output"
   ]
  },
  {
   "cell_type": "code",
   "execution_count": null,
   "metadata": {
    "ExecuteTime": {
     "end_time": "2018-11-11T11:12:26.663442Z",
     "start_time": "2018-11-11T11:12:03.171164Z"
    },
    "colab": {},
    "colab_type": "code",
    "id": "DnBn94rZxQ9W"
   },
   "outputs": [],
   "source": [
    "two_layer_nn = FCN(65536, 14).cuda()\n",
    "two_layer_nn = nn.DataParallel(two_layer_nn)\n",
    "for data in data_loader:\n",
    "    input = data\n",
    "    output = two_layer_nn(input)\n",
    "    print(\"input\", input.size(),\"data\",output)\n",
    "    #cvimg = cv2.imread(input[1,:,:],1)\n",
    "    #plt.imshow(cvimg)"
   ]
  },
  {
   "cell_type": "markdown",
   "metadata": {
    "colab_type": "text",
    "id": "ZIf3cfV_xQ9Y"
   },
   "source": [
    "#FastAI https://github.com/fastai/fastai/blob/master/courses/dl1/lesson1.ipynb "
   ]
  },
  {
   "cell_type": "code",
   "execution_count": null,
   "metadata": {
    "colab": {},
    "colab_type": "code",
    "id": "Te-MA8i_xQ9Y"
   },
   "outputs": [],
   "source": [
    "%reload_ext autoreload\n",
    "%autoreload 2\n",
    "%matplotlib inline"
   ]
  },
  {
   "cell_type": "code",
   "execution_count": null,
   "metadata": {
    "colab": {},
    "colab_type": "code",
    "id": "T6kvQG6vxQ9Z"
   },
   "outputs": [],
   "source": [
    "!pip install fastai"
   ]
  },
  {
   "cell_type": "code",
   "execution_count": null,
   "metadata": {
    "colab": {},
    "colab_type": "code",
    "id": "ijxSP_A-xQ9e"
   },
   "outputs": [],
   "source": [
    "from fastai.imports import *\n",
    "from fastai.transforms import *\n",
    "from fastai.conv_learner import *\n",
    "from fastai.model import *\n",
    "from fastai.dataset import *\n",
    "from fastai.sgdr import *\n",
    "from fastai.plots import *"
   ]
  },
  {
   "cell_type": "code",
   "execution_count": null,
   "metadata": {
    "colab": {},
    "colab_type": "code",
    "id": "o0XFMbXxxQ9f"
   },
   "outputs": [],
   "source": [
    "torch.backends.cudnn.enabled"
   ]
  },
  {
   "cell_type": "code",
   "execution_count": null,
   "metadata": {
    "colab": {},
    "colab_type": "code",
    "id": "A0wsxy41xQ9h"
   },
   "outputs": [],
   "source": [
    "!wget http://files.fast.ai/data/dogscats.zip"
   ]
  },
  {
   "cell_type": "code",
   "execution_count": null,
   "metadata": {
    "colab": {},
    "colab_type": "code",
    "id": "liAgbhvLxQ9j"
   },
   "outputs": [],
   "source": [
    "!unzip dogscats.zip"
   ]
  },
  {
   "cell_type": "code",
   "execution_count": null,
   "metadata": {
    "colab": {},
    "colab_type": "code",
    "id": "tTLRagBJxQ9l"
   },
   "outputs": [],
   "source": [
    "PATH = \"dogscats/\"\n",
    "sz=224"
   ]
  },
  {
   "cell_type": "code",
   "execution_count": null,
   "metadata": {
    "colab": {},
    "colab_type": "code",
    "id": "tfgZQU2bxQ9o"
   },
   "outputs": [],
   "source": [
    "os.listdir(PATH)"
   ]
  },
  {
   "cell_type": "code",
   "execution_count": null,
   "metadata": {
    "colab": {},
    "colab_type": "code",
    "id": "hecR2J4-xQ9q"
   },
   "outputs": [],
   "source": [
    "os.listdir(f'{PATH}valid')"
   ]
  },
  {
   "cell_type": "code",
   "execution_count": null,
   "metadata": {
    "colab": {},
    "colab_type": "code",
    "id": "ihGpEK-FxQ9s"
   },
   "outputs": [],
   "source": [
    "files = os.listdir(f'{PATH}valid/cats')[:5]\n",
    "files\n",
    "#img = plt.imread(f'{PATH}valid/cats/{files[0]}')\n",
    "#plt.imshow(img);"
   ]
  },
  {
   "cell_type": "code",
   "execution_count": null,
   "metadata": {
    "colab": {},
    "colab_type": "code",
    "id": "ryCytcr4xQ9t"
   },
   "outputs": [],
   "source": [
    "img.shape"
   ]
  },
  {
   "cell_type": "code",
   "execution_count": null,
   "metadata": {
    "ExecuteTime": {
     "end_time": "2018-07-06T17:57:28.471877Z",
     "start_time": "2018-07-06T17:54:51.860057Z"
    },
    "colab": {},
    "colab_type": "code",
    "id": "fnFi_ssAxQ9u"
   },
   "outputs": [],
   "source": [
    "arch=resnet34\n",
    "data = ImageClassifierData.from_paths(PATH, tfms=tfms_from_model(arch, sz))\n",
    "learn = ConvLearner.pretrained(arch, data, precompute=True)\n",
    "learn.fit(1, 2)"
   ]
  },
  {
   "cell_type": "code",
   "execution_count": null,
   "metadata": {
    "ExecuteTime": {
     "end_time": "2018-07-20T19:19:37.238749Z",
     "start_time": "2018-07-20T19:19:35.046393Z"
    },
    "colab": {},
    "colab_type": "code",
    "id": "-iK70nx6xQ9w"
   },
   "outputs": [],
   "source": [
    "learn = ConvLearner.pretrained(arch, data, precompute=True)"
   ]
  },
  {
   "cell_type": "code",
   "execution_count": null,
   "metadata": {
    "ExecuteTime": {
     "end_time": "2018-07-21T21:01:39.291304Z",
     "start_time": "2018-07-21T21:01:15.584823Z"
    },
    "colab": {},
    "colab_type": "code",
    "id": "nR0J3B5cxQ9y"
   },
   "outputs": [],
   "source": [
    "lrf=learn.lr_find()"
   ]
  },
  {
   "cell_type": "code",
   "execution_count": null,
   "metadata": {
    "ExecuteTime": {
     "end_time": "2018-07-02T08:32:19.810655Z",
     "start_time": "2018-07-02T08:32:19.558542Z"
    },
    "colab": {},
    "colab_type": "code",
    "id": "ZDrzuTKFxQ9z"
   },
   "outputs": [],
   "source": [
    "learn.sched.plot_lr()"
   ]
  },
  {
   "cell_type": "code",
   "execution_count": null,
   "metadata": {
    "ExecuteTime": {
     "end_time": "2018-07-02T09:54:02.268629Z",
     "start_time": "2018-07-02T09:54:01.753777Z"
    },
    "colab": {},
    "colab_type": "code",
    "id": "5pmMz9hvxQ90"
   },
   "outputs": [],
   "source": [
    "learn.sched.plot()"
   ]
  },
  {
   "cell_type": "code",
   "execution_count": null,
   "metadata": {
    "colab": {},
    "colab_type": "code",
    "id": "BqhyhTuYxQ93"
   },
   "outputs": [],
   "source": [
    "Xrays256.T"
   ]
  },
  {
   "cell_type": "code",
   "execution_count": null,
   "metadata": {
    "colab": {},
    "colab_type": "code",
    "id": "KI3sKNUfxQ95"
   },
   "outputs": [],
   "source": [
    "pd.hist(output-sample_labels)"
   ]
  },
  {
   "cell_type": "code",
   "execution_count": null,
   "metadata": {
    "colab": {},
    "colab_type": "code",
    "id": "xvBu_HvXxQ97"
   },
   "outputs": [],
   "source": [
    "binary_labels = sample_labels.iloc[:,-1].values.reshape(-1,1)\n",
    "multiclass_labels = sample_labels.iloc[:,-14:].values\n",
    "\n",
    "binary_labels.shape, multiclass_labels.shape"
   ]
  },
  {
   "cell_type": "code",
   "execution_count": null,
   "metadata": {
    "colab": {},
    "colab_type": "code",
    "id": "TnfOOtwaxQ99"
   },
   "outputs": [],
   "source": [
    "binary_labels = 1-binary_labels\n",
    "binary_labels"
   ]
  },
  {
   "cell_type": "code",
   "execution_count": null,
   "metadata": {
    "colab": {},
    "colab_type": "code",
    "id": "vhwjldJHxQ-E"
   },
   "outputs": [],
   "source": [
    "import pomegranate\n",
    "pomegranate.utils.enable_gpu()\n",
    "print(pomegranate.utils.is_gpu_enabled())"
   ]
  },
  {
   "cell_type": "code",
   "execution_count": null,
   "metadata": {
    "colab": {},
    "colab_type": "code",
    "id": "nXoYKpexxQ-G"
   },
   "outputs": [],
   "source": [
    "import cupy\n",
    "from cupy import cuda\n",
    "cuda.Device().cublas_handle\n",
    "import cupy as cp\n",
    "cp.cuda.Device(0).use()\n",
    "x_on_gpu0 = cp.array([1, 2, 3, 4, 5])\n",
    "cp.cuda.Device(1).use()\n",
    "x_on_gpu1 = cp.array([1, 2, 3, 4, 5])\n",
    "x_on_gpu0.device, x_on_gpu1.device\n",
    "x_on_gpu0,x_on_gpu1\n",
    "x_on_gpu0+x_on_gpu1"
   ]
  },
  {
   "cell_type": "code",
   "execution_count": null,
   "metadata": {
    "colab": {},
    "colab_type": "code",
    "id": "P8jRuJ9VxQ-H"
   },
   "outputs": [],
   "source": [
    "%%time\n",
    "import cupy\n",
    "from cupy import cuda\n",
    "cuda.Device().cublas_handle\n",
    "import cupy as cp\n",
    "cp.cuda.Device(0).use()\n",
    "N=10000\n",
    "x_on_gpu0 = cp.random.rand(N,N)\n",
    "#x_on_gpu0\n",
    "x_on_gpu0_inv=cp.linalg.inv(x_on_gpu0)\n",
    "cp.dot(x_on_gpu0_inv,x_on_gpu0)==cp.eye(N)\n",
    "#x_on_gpu0_inv\n",
    "#np.allclose(cp.asarray(cp.dot(x_on_gpu0_inv,x_on_gpu0)),np.eye(N))\n"
   ]
  },
  {
   "cell_type": "code",
   "execution_count": null,
   "metadata": {
    "colab": {},
    "colab_type": "code",
    "id": "0d7ST9wBxQ-I"
   },
   "outputs": [],
   "source": [
    "%%time\n",
    "import numpy as np\n",
    "N=10000\n",
    "x_on_gpu0 = np.random.rand(N,N)\n",
    "#x_on_gpu0\n",
    "x_on_gpu0_inv=np.linalg.inv(x_on_gpu0)\n",
    "#np.allclose(np.dot(x_on_gpu0_inv,x_on_gpu0),np.eye(N))\n",
    "np.dot(x_on_gpu0_inv,x_on_gpu0)==np.eye(N)\n",
    "#x_on_gpu0_inv\n",
    "#np.eye(N)"
   ]
  },
  {
   "cell_type": "code",
   "execution_count": null,
   "metadata": {
    "colab": {},
    "colab_type": "code",
    "id": "r3p5E0JMxQ-K"
   },
   "outputs": [],
   "source": [
    "np.sum(np.genfromtxt('proteinGroups.txt',delimiter='\\t'))"
   ]
  },
  {
   "cell_type": "code",
   "execution_count": null,
   "metadata": {
    "colab": {},
    "colab_type": "code",
    "id": "9nkdxpkbxQ-M"
   },
   "outputs": [],
   "source": [
    "#!conda install pomegranate\n",
    "!pip install cupy"
   ]
  },
  {
   "cell_type": "code",
   "execution_count": null,
   "metadata": {
    "colab": {},
    "colab_type": "code",
    "id": "CEjvaygkxQ-N"
   },
   "outputs": [],
   "source": [
    "def birthProb(N):\n",
    "    fac,div,day=1,1,354\n",
    "    for i in range(N):\n",
    "        fac*=(day-i)\n",
    "        div*=day\n",
    "        #print(day-i,fac,div)\n",
    "    return 1.0-fac/div\n",
    "probList=[birthProb(i) for i in list(range(100))]\n",
    "import matplotlib.pyplot as plt\n",
    "plt.plot(probList)\n",
    "plt.axhline(0.5)\n",
    "plt.axvline(22)\n",
    "plt.show()"
   ]
  },
  {
   "cell_type": "code",
   "execution_count": null,
   "metadata": {
    "colab": {},
    "colab_type": "code",
    "id": "PFxLMSxAxQ-X"
   },
   "outputs": [],
   "source": [
    "import sklearn\n",
    "from sklearn.model_selection import train_test_split\n",
    "X_train, X_test, y_train, y_test = train_test_split(Xrays256, binary_labels, test_size = .2)"
   ]
  },
  {
   "cell_type": "code",
   "execution_count": null,
   "metadata": {
    "colab": {},
    "colab_type": "code",
    "id": "Q1Llj3vyxQ-a"
   },
   "outputs": [],
   "source": [
    "from sklearn.model_selection import KFold\n",
    "kf = KFold(n_splits=71, shuffle=True, random_state=42)\n",
    "batches = [train for test, train  in kf.split(X_train, y_train)]\n",
    "batches[0].shape"
   ]
  },
  {
   "cell_type": "code",
   "execution_count": null,
   "metadata": {
    "colab": {},
    "colab_type": "code",
    "id": "Kf0oOlgRxQ-c"
   },
   "outputs": [],
   "source": [
    "kf = KFold(n_splits=10, shuffle=True, random_state=42)\n",
    "test_batches = [t_batch for _, t_batch  in kf.split(X_test, y_test)]\n",
    "np.histogram(test_batches[9])"
   ]
  },
  {
   "cell_type": "code",
   "execution_count": null,
   "metadata": {
    "colab": {},
    "colab_type": "code",
    "id": "JrTw2cPKxQ-f"
   },
   "outputs": [],
   "source": [
    "X_train.shape,X_test.shape"
   ]
  },
  {
   "cell_type": "code",
   "execution_count": null,
   "metadata": {
    "colab": {},
    "colab_type": "code",
    "id": "a0fc3I9pxQ-h"
   },
   "outputs": [],
   "source": [
    "#graph\n",
    "import tensorflow as tf\n",
    "tf.reset_default_graph()\n",
    "X = tf.placeholder(dtype = tf.float32,\n",
    "                   shape = (None, 256, 256), #remember i resized image to 128x128 grayscale using .reshape(-1,128,128,1)\n",
    "                   name = 'X')\n",
    "\n",
    "y = tf.placeholder(dtype = tf.float32,\n",
    "                   shape = (None),\n",
    "                   name = 'y')\n",
    "\n",
    "# Input Layer\n",
    "input_layer = tf.reshape(X, [-1, 128, 128, 1])\n",
    "                                                                        \n",
    "# Convolutional Layer #1\n",
    "out = tf.layers.conv2d(inputs=input_layer,filters=4,\n",
    "                         kernel_size=[2, 2],\n",
    "                         padding=\"same\",\n",
    "                         activation=tf.nn.relu)\n",
    "# Pooling Layer #1\n",
    "out = tf.layers.max_pooling2d(inputs=out,\n",
    "                                pool_size=[2, 2],##64 x 64, strides = 2 so our image is compressed from 128 --> 64\n",
    "                                    strides=2)\n",
    "# 2nd Convolutional Layer #2 and Pooling Layer #2\n",
    "out = tf.layers.conv2d(inputs=out,filters=8,\n",
    "                         kernel_size=[2, 2],\n",
    "                         padding=\"same\",\n",
    "                         activation=tf.nn.relu)\n",
    "# 2nd Pooling Layer    \n",
    "out = tf.layers.max_pooling2d(inputs=out,\n",
    "                                pool_size=[2, 2],#64x64 14 -- >7\n",
    "                                strides=2)\n",
    "# 3rd Convolutional Layer\n",
    "out = tf.layers.conv2d(inputs=out,filters=8,\n",
    "                         kernel_size=[2, 2],\n",
    "                         padding=\"same\",\n",
    "                         activation=tf.nn.relu)\n",
    "# Dense, dropout, dense Layer\n",
    "out = tf.reshape(out, [-1, 64 * 64 * 8]) #FLATTEN LAYER\n",
    "dense = tf.layers.dense(inputs=out, units=100, activation=tf.nn.relu) #FIRST DENSE LAYER\n",
    "dropout = tf.layers.dropout(inputs=dense,\n",
    "                            rate=0.2)#40% to zero DROPOUT LAYER\n",
    "dense2 = tf.layers.dense(inputs=dropout, units=100, activation=tf.nn.relu) #SECOND DENSE LAYER\n",
    "\n",
    "# Logits Layer\n",
    "y_hat = tf.layers.dense(inputs=dense2, units=1, #will need to change this once I have more labels/diseases\n",
    "                        activation = tf.nn.sigmoid)\n",
    "\n",
    "loss = tf.losses.log_loss(y, y_hat)#gives the loss \n",
    "\n",
    "optimizer = tf.train.AdamOptimizer(0.001)\n",
    "\n",
    "training_op = optimizer.minimize(loss)#optimizes the loss fx with adam gradient descent\n",
    "\n",
    "saver = tf.train.Saver()"
   ]
  },
  {
   "cell_type": "code",
   "execution_count": null,
   "metadata": {
    "colab": {},
    "colab_type": "code",
    "id": "FaMZOLtaxQ-j"
   },
   "outputs": [],
   "source": [
    "%%time\n",
    "#execution phase\n",
    "\n",
    "init = tf.global_variables_initializer()\n",
    "\n",
    "test_err = []\n",
    "train_err = []\n",
    "pred = []\n",
    "\n",
    "with tf.Session() as sess:\n",
    "    init.run()\n",
    "    \n",
    "    for epoch in range(50): #maybe add some minibatches so it converges faster\n",
    "        for count, batch in enumerate(batches):\n",
    "            X_batch = X_train[batch]\n",
    "            y_batch = y_train[batch]\n",
    "            sess.run(training_op,\n",
    "                     feed_dict={X:X_batch, y:y_batch})\n",
    "            print('epoch:{0}, batch{1}'.format(epoch, count), end='\\r')\n",
    "            \n",
    "        train_loss = sess.run(loss, feed_dict={X:X_batch, y:y_batch})\n",
    "        train_err.append(train_loss)\n",
    "#         test_loss = sess.run(loss, feed_dict={X:X_test, y:y_test})\n",
    "        \n",
    "#         test_err.append(test_loss)\n",
    "       \n",
    "        print('epoch', epoch, train_loss) #no need for the 'epoch+1', just epoch will suffice\n",
    "        \n",
    "    saver.save(sess,'./128Xrays.ckpt')\n",
    "    \n",
    "    for batch in test_batches:\n",
    "        pred.append(sess.run(y_hat, feed_dict={X:X_test[batch]}))"
   ]
  },
  {
   "cell_type": "code",
   "execution_count": null,
   "metadata": {
    "colab": {},
    "colab_type": "code",
    "id": "zVTpVcJrxQ-n"
   },
   "outputs": [],
   "source": [
    "plt.plot(train_err)"
   ]
  },
  {
   "cell_type": "code",
   "execution_count": null,
   "metadata": {
    "colab": {},
    "colab_type": "code",
    "id": "A1RCzj9IxQ-p"
   },
   "outputs": [],
   "source": [
    "predictions = [result for p in pred for result in p ]\n",
    "predictions"
   ]
  },
  {
   "cell_type": "code",
   "execution_count": null,
   "metadata": {
    "colab": {},
    "colab_type": "code",
    "id": "1F0YMuZkxQ-r"
   },
   "outputs": [],
   "source": [
    "from  sklearn.metrics import accuracy_score,log_loss #ytrue ypred\n",
    "log_loss(y_test, [[p[0],1-p[0]] for p in predictions])"
   ]
  },
  {
   "cell_type": "code",
   "execution_count": null,
   "metadata": {
    "colab": {},
    "colab_type": "code",
    "id": "alkjgfvmxQ-x"
   },
   "outputs": [],
   "source": [
    "np.round([p[0] for p in predictions])"
   ]
  },
  {
   "cell_type": "code",
   "execution_count": null,
   "metadata": {
    "colab": {},
    "colab_type": "code",
    "id": "7xBe9nLLxQ-z"
   },
   "outputs": [],
   "source": [
    "# Compute confusion matrix\n",
    "confusion_matrix([0, 1, 0, 1], [1, 1, 1, 0])\n",
    "cnf_matrix = confusion_matrix(y_test, np.round([p[0] for p in predictions]))\n",
    "np.set_printoptions(precision=2)\n",
    "\n",
    "# Plot non-normalized confusion matrix\n",
    "plt.figure()\n",
    "plot_confusion_matrix(cnf_matrix, classes=['No Findings', 'Abnormal Findings'],\n",
    "                      title='Confusion matrix, without normalization')\n",
    "\n",
    "# Plot normalized confusion matrix\n",
    "plt.figure()\n",
    "plot_confusion_matrix(cnf_matrix, classes=['No Findings', 'Abnormal Findings'],\n",
    "                      normalize=True,\n",
    "                      title='Normalized confusion matrix')\n",
    "\n",
    "plt.show()"
   ]
  },
  {
   "cell_type": "code",
   "execution_count": null,
   "metadata": {
    "colab": {},
    "colab_type": "code",
    "id": "J7345q4sxQ-0"
   },
   "outputs": [],
   "source": [
    "z = np.array([[1, 2, 3, 4],\n",
    "         [5, 6, 7, 8],\n",
    "         [9, 10, 11, 12]])\n",
    "z.shape"
   ]
  },
  {
   "cell_type": "code",
   "execution_count": null,
   "metadata": {
    "colab": {},
    "colab_type": "code",
    "id": "VtzRb84MxQ-2"
   },
   "outputs": [],
   "source": [
    "z=z.reshape(-1,3,2)\n",
    "z"
   ]
  },
  {
   "cell_type": "code",
   "execution_count": null,
   "metadata": {
    "colab": {},
    "colab_type": "code",
    "id": "vqCrrtSExQ-4"
   },
   "outputs": [],
   "source": [
    "import matplotlib.pylab as plt\n",
    "z=z.reshape(3,-1)\n",
    "plt.imshow(z)"
   ]
  },
  {
   "cell_type": "code",
   "execution_count": null,
   "metadata": {
    "colab": {},
    "colab_type": "code",
    "id": "8ilIc3wMxQ-5"
   },
   "outputs": [],
   "source": [
    "X=Variable(torch.Tensor(Xrays256[:,1,1].reshape(-1,1))).cuda()\n",
    "y=Variable(torch.Tensor(Xrays256[:,1,2].reshape(-1,1))).cuda()\n",
    "X, y"
   ]
  },
  {
   "cell_type": "code",
   "execution_count": null,
   "metadata": {
    "colab": {},
    "colab_type": "code",
    "id": "v5m8WcSixQ-7"
   },
   "outputs": [],
   "source": [
    "w=Variable(torch.Tensor(Xrays256[:,1,3].reshape(-1,1)), requires_grad=True).cuda()"
   ]
  },
  {
   "cell_type": "code",
   "execution_count": null,
   "metadata": {
    "colab": {},
    "colab_type": "code",
    "id": "wq7lIABgxQ-9"
   },
   "outputs": [],
   "source": [
    "y=X@(w.transpose(0,1))"
   ]
  },
  {
   "cell_type": "code",
   "execution_count": null,
   "metadata": {
    "colab": {},
    "colab_type": "code",
    "id": "zqOTrWLYxQ--"
   },
   "outputs": [],
   "source": [
    "y#.backward()"
   ]
  },
  {
   "cell_type": "code",
   "execution_count": null,
   "metadata": {
    "colab": {},
    "colab_type": "code",
    "id": "jpgaw1wExQ--"
   },
   "outputs": [],
   "source": [
    "w.grad.data.zero_()"
   ]
  },
  {
   "cell_type": "code",
   "execution_count": null,
   "metadata": {
    "colab": {},
    "colab_type": "code",
    "id": "6paB9sqTxQ_B"
   },
   "outputs": [],
   "source": [
    "!conda install pyro"
   ]
  },
  {
   "cell_type": "code",
   "execution_count": null,
   "metadata": {
    "colab": {},
    "colab_type": "code",
    "id": "TOpAogjLxQ_F"
   },
   "outputs": [],
   "source": [
    "import pyro\n",
    "from pyro.distributions import Bernoulli, Normal  # noqa: F401\n",
    "from pyro.infer import SVI, Trace_ELBO\n",
    "from pyro.optim import Adam"
   ]
  },
  {
   "cell_type": "code",
   "execution_count": null,
   "metadata": {
    "colab": {},
    "colab_type": "code",
    "id": "UdG4-wvZxQ_G"
   },
   "outputs": [],
   "source": [
    "class LinearRegressionModel(nn.Module):\n",
    "    def __init__(self, input_dim, output_dim):\n",
    "        super(LinearRegressionModel, self).__init__() \n",
    "        self.linear = nn.Linear(input_dim, output_dim,bias=True).cuda()\n",
    "    def forward(self, x):\n",
    "        out = self.linear(x)\n",
    "        return out"
   ]
  },
  {
   "cell_type": "code",
   "execution_count": null,
   "metadata": {
    "colab": {},
    "colab_type": "code",
    "id": "pO6e1jqHxQ_H"
   },
   "outputs": [],
   "source": [
    "input_dim = 1\n",
    "output_dim = 1\n",
    "l_rate = 0.01\n",
    "model = LinearRegressionModel(input_dim,output_dim)\n",
    "criterion = nn.MSELoss()\n",
    "optimiser = torch.optim.SGD(model.parameters(), lr = l_rate)"
   ]
  },
  {
   "cell_type": "code",
   "execution_count": null,
   "metadata": {
    "colab": {},
    "colab_type": "code",
    "id": "UeMx08CsxQ_I"
   },
   "outputs": [],
   "source": [
    "epochs = 100\n",
    "for epoch in range(epochs):\n",
    "    epoch +=1\n",
    "    optimiser.zero_grad()\n",
    "    outputs = model.forward(X)\n",
    "    loss = criterion(outputs, y)\n",
    "    loss.backward()# back props\n",
    "    optimiser.step()# update the parameters\n",
    "    print('epoch {}, loss {}'.format(epoch,loss.data[0]))"
   ]
  },
  {
   "cell_type": "code",
   "execution_count": null,
   "metadata": {
    "colab": {},
    "colab_type": "code",
    "id": "PQZmtHS_xQ_L"
   },
   "outputs": [],
   "source": [
    "predicted =model.forward(X).cpu().data.numpy()\n",
    "#plt.plot(X, y, 'i', label = 'from data', alpha = .5)\n",
    "plt.plot(y.cpu().data.numpy(), predicted, label = 'prediction', alpha = 0.5)\n",
    "plt.legend()\n",
    "plt.show()\n",
    "print(model.state_dict())"
   ]
  }
 ],
 "metadata": {
  "accelerator": "GPU",
  "colab": {
   "collapsed_sections": [
    "g8h4wEMDxQ9A",
    "pm7CdZ6wxQ9A",
    "ZIf3cfV_xQ9Y"
   ],
   "include_colab_link": true,
   "name": "pathImgClassifier.ipynb",
   "provenance": [],
   "version": "0.3.2"
  },
  "kernelspec": {
   "display_name": "Python 3",
   "language": "python",
   "name": "python3"
  },
  "language_info": {
   "codemirror_mode": {
    "name": "ipython",
    "version": 3
   },
   "file_extension": ".py",
   "mimetype": "text/x-python",
   "name": "python",
   "nbconvert_exporter": "python",
   "pygments_lexer": "ipython3",
   "version": "3.6.7"
  }
 },
 "nbformat": 4,
 "nbformat_minor": 2
}
