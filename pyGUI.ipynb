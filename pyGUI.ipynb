{
 "cells": [
  {
   "cell_type": "code",
   "execution_count": 1,
   "metadata": {},
   "outputs": [
    {
     "data": {
      "application/vnd.jupyter.widget-view+json": {
       "model_id": "e763fe80c7c44e8da2993da402c3cd03",
       "version_major": 2,
       "version_minor": 0
      },
      "text/plain": [
       "VBox(children=(HTML(value='<h2><i>SIMPLE</i> <b>Translator</b></h2>'), Textarea(value='', layout=Layout(width=…"
      ]
     },
     "metadata": {},
     "output_type": "display_data"
    },
    {
     "ename": "NameError",
     "evalue": "name 'azure_translate' is not defined",
     "output_type": "error",
     "traceback": [
      "\u001b[0;31m---------------------------------------------------------------------------\u001b[0m",
      "\u001b[0;31mNameError\u001b[0m                                 Traceback (most recent call last)",
      "\u001b[0;32m<ipython-input-1-308f62c9fdd0>\u001b[0m in \u001b[0;36mon_button_clicked\u001b[0;34m(b)\u001b[0m\n\u001b[1;32m      1\u001b[0m \u001b[0;32mimport\u001b[0m \u001b[0mipywidgets\u001b[0m \u001b[0;32mas\u001b[0m \u001b[0mwidgets\u001b[0m\u001b[0;34m\u001b[0m\u001b[0;34m\u001b[0m\u001b[0m\n\u001b[1;32m      2\u001b[0m \u001b[0;32mdef\u001b[0m \u001b[0mon_button_clicked\u001b[0m\u001b[0;34m(\u001b[0m\u001b[0mb\u001b[0m\u001b[0;34m)\u001b[0m\u001b[0;34m:\u001b[0m\u001b[0;34m\u001b[0m\u001b[0;34m\u001b[0m\u001b[0m\n\u001b[0;32m----> 3\u001b[0;31m     \u001b[0mresponse\u001b[0m \u001b[0;34m=\u001b[0m \u001b[0mazure_translate\u001b[0m\u001b[0;34m(\u001b[0m\u001b[0mw_text\u001b[0m\u001b[0;34m.\u001b[0m\u001b[0mvalue\u001b[0m\u001b[0;34m)\u001b[0m\u001b[0;34m\u001b[0m\u001b[0;34m\u001b[0m\u001b[0m\n\u001b[0m\u001b[1;32m      4\u001b[0m     \u001b[0mw_output\u001b[0m\u001b[0;34m.\u001b[0m\u001b[0mclear_output\u001b[0m\u001b[0;34m(\u001b[0m\u001b[0;34m)\u001b[0m\u001b[0;34m\u001b[0m\u001b[0;34m\u001b[0m\u001b[0m\n\u001b[1;32m      5\u001b[0m     \u001b[0;32mwith\u001b[0m \u001b[0mw_output\u001b[0m\u001b[0;34m:\u001b[0m\u001b[0;34m\u001b[0m\u001b[0;34m\u001b[0m\u001b[0m\n",
      "\u001b[0;31mNameError\u001b[0m: name 'azure_translate' is not defined"
     ]
    }
   ],
   "source": [
    "import ipywidgets as widgets\n",
    "def on_button_clicked(b):\n",
    "    response = azure_translate(w_text.value)\n",
    "    w_output.clear_output()\n",
    "    with w_output:\n",
    "        print(response[0]['translations'][0]['text'])\n",
    "w_header = widgets.HTML('<h2><i>SIMPLE</i> <b>Translator</b></h2>')\n",
    "w_text = widgets.Textarea(placeholder='Write something!', layout=widgets.Layout(width = '80%'))\n",
    "w_button = widgets.Button(description='Translate To Spanish')\n",
    "w_button.on_click(on_button_clicked)\n",
    "w_output = widgets.Output()\n",
    "w_ui = widgets.VBox([w_header, w_text, w_button, w_output], layout=widgets.Layout(align_items='center'))\n",
    "display(w_ui)"
   ]
  },
  {
   "cell_type": "code",
   "execution_count": 2,
   "metadata": {},
   "outputs": [
    {
     "ename": "SyntaxError",
     "evalue": "invalid syntax (<ipython-input-2-a635a8fad20e>, line 4)",
     "output_type": "error",
     "traceback": [
      "\u001b[0;36m  File \u001b[0;32m\"<ipython-input-2-a635a8fad20e>\"\u001b[0;36m, line \u001b[0;32m4\u001b[0m\n\u001b[0;31m    API_KEY = #You must paste your personal API key here.\u001b[0m\n\u001b[0m              ^\u001b[0m\n\u001b[0;31mSyntaxError\u001b[0m\u001b[0;31m:\u001b[0m invalid syntax\n"
     ]
    }
   ],
   "source": [
    "#https://gist.githubusercontent.com/tamiminaser/3d275ab4694ac1101942d280f354ecea/raw/4200d5af9569434e8bcc7725c34c1e3f4847f152/translator_app_api_part.py\n",
    "import requests\n",
    "def azure_translate(text):\n",
    "    API_KEY = #You must paste your personal API key here.\n",
    "    API_REGION = #You must specifiy your API region. For example 'eastus'\n",
    "    \n",
    "    endpoint = 'https://api.cognitive.microsofttranslator.com/'\n",
    "    headers = {'Ocp-Apim-Subscription-Key': API_KEY,\n",
    "               'Content-type': 'application/json', \n",
    "               'Ocp-Apim-Subscription-Region': API_REGION}\n",
    "    params = {'api-version': '3.0', 'from': 'en', 'to': 'es'}\n",
    "    api_url = endpoint + 'translate'\n",
    "    body = [{'text': text}]\n",
    "    response = requests.post(api_url, params=params, headers=headers, json=body)\n",
    "    return response.json()"
   ]
  },
  {
   "cell_type": "code",
   "execution_count": null,
   "metadata": {},
   "outputs": [],
   "source": [
    "#https://towardsdatascience.com/a-quick-way-to-build-applications-in-python-51d5ef477d88\n",
    "if __name__ == '__main__':\n",
    "    print(azure_translate('Hello world.'))\n",
    "#[{'translations': [{'text': 'Hola mundo.', 'to': 'es'}]}]"
   ]
  }
 ],
 "metadata": {
  "kernelspec": {
   "display_name": "Python 3",
   "language": "python",
   "name": "python3"
  },
  "language_info": {
   "codemirror_mode": {
    "name": "ipython",
    "version": 3
   },
   "file_extension": ".py",
   "mimetype": "text/x-python",
   "name": "python",
   "nbconvert_exporter": "python",
   "pygments_lexer": "ipython3",
   "version": "3.8.8"
  },
  "varInspector": {
   "cols": {
    "lenName": 16,
    "lenType": 16,
    "lenVar": 40
   },
   "kernels_config": {
    "python": {
     "delete_cmd_postfix": "",
     "delete_cmd_prefix": "del ",
     "library": "var_list.py",
     "varRefreshCmd": "print(var_dic_list())"
    },
    "r": {
     "delete_cmd_postfix": ") ",
     "delete_cmd_prefix": "rm(",
     "library": "var_list.r",
     "varRefreshCmd": "cat(var_dic_list()) "
    }
   },
   "types_to_exclude": [
    "module",
    "function",
    "builtin_function_or_method",
    "instance",
    "_Feature"
   ],
   "window_display": false
  }
 },
 "nbformat": 4,
 "nbformat_minor": 4
}
