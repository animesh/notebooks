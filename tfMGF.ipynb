{
 "cells": [
  {
   "cell_type": "code",
   "execution_count": 5,
   "metadata": {},
   "outputs": [],
   "source": [
    "import numpy as np\n",
    "def parseMGF(mgfData):\n",
    "    data = mgfData.read_text().split('\\n')\n",
    "    _comments = '#;!/'\n",
    "    reading_spectrum = False\n",
    "    params = {}\n",
    "    masses = []\n",
    "    intensities = []\n",
    "    charges = []\n",
    "    out = {}\n",
    "    cnt = 0\n",
    "    pep_mass = 0\n",
    "    pep_intensity = 0\n",
    "    out = {}\n",
    "    for line in data:\n",
    "        if not reading_spectrum:\n",
    "            if line.strip() == 'BEGIN IONS': reading_spectrum = True\n",
    "        else:\n",
    "            if not line.strip() or any(line.startswith(c) for c in _comments): pass\n",
    "            elif line.strip() == 'END IONS':\n",
    "                reading_spectrum = False\n",
    "                title = params['title'].split()[0]\n",
    "                if 'pepmass' in params:\n",
    "                    try:\n",
    "                        pl = params['pepmass'].split()\n",
    "                        if len(pl) > 1:\n",
    "                            pep_mass = float(pl[0])\n",
    "                            pep_intensity = float(pl[1])\n",
    "                        elif len(pl) == 1: pep_mass = float(pl[0])\n",
    "                    except ValueError: print(\"Error in parsing pepmass value\")\n",
    "                out[cnt] = {'pep_mass': pep_mass,'pep_intensity': pep_intensity,'rtinseconds': params['rtinseconds'],'title': params['title'],'charge': params['charge'],'mz_array': np.array(masses),'intensity_array': np.array(intensities)}\n",
    "                cnt += 1\n",
    "            else:\n",
    "                l = line.split('=', 1)\n",
    "                if len(l) > 1: params[l[0].lower()] = l[1].strip()\n",
    "                elif len(l) == 1:  # looks like a peak list ;)\n",
    "                    l = line.split()\n",
    "                    if len(l) >= 2000:\n",
    "                        try:\n",
    "                            masses.append(float(l[0]))\n",
    "                            intensities.append(float(l[1]))\n",
    "                        except ValueError:\n",
    "                            print(\"Error in parsing line \"+line)\n",
    "    return out"
   ]
  },
  {
   "cell_type": "code",
   "execution_count": 6,
   "metadata": {},
   "outputs": [
    {
     "name": "stdout",
     "output_type": "stream",
     "text": [
      "/mnt/f/GD/notebooks\r\n"
     ]
    }
   ],
   "source": [
    "!pwd"
   ]
  },
  {
   "cell_type": "code",
   "execution_count": 7,
   "metadata": {},
   "outputs": [
    {
     "name": "stdout",
     "output_type": "stream",
     "text": [
      "True\n"
     ]
    }
   ],
   "source": [
    "import pathlib\n",
    "#file = pathlib.Path.cwd().parent.rglob('*.MGF')\n",
    "file = pathlib.Path('/mnt/f/mgf/20150512_BSA_The-PEG-envelope.mgf')\n",
    "#file = pathlib.Path.home()/'mgf' / '190128_robin_ 6' / '190128_robin_WT_5.mgf'\n",
    "print(file.exists())#read_text().split(' '))\n",
    "out=parseMGF(file)"
   ]
  },
  {
   "cell_type": "code",
   "execution_count": 8,
   "metadata": {},
   "outputs": [
    {
     "name": "stdout",
     "output_type": "stream",
     "text": [
      "(7831, 1)\n"
     ]
    }
   ],
   "source": [
    "X=[(out[k]['pep_mass']-1.00727647)*int(out[k]['charge'].split('+')[0]) for k, _ in out.items()]\n",
    "X_mz1=np.array(X).reshape(-1, 1)\n",
    "print(X_mz1.shape)"
   ]
  },
  {
   "cell_type": "code",
   "execution_count": 9,
   "metadata": {},
   "outputs": [
    {
     "name": "stdout",
     "output_type": "stream",
     "text": [
      "(7831, 1)\n"
     ]
    }
   ],
   "source": [
    "X=[(out[k]['pep_intensity']) for k, _ in out.items()]\n",
    "X_int=np.array(X).reshape(-1, 1)\n",
    "print(X_int.shape)"
   ]
  },
  {
   "cell_type": "code",
   "execution_count": 10,
   "metadata": {},
   "outputs": [
    {
     "name": "stdout",
     "output_type": "stream",
     "text": [
      "(7831, 1)\n"
     ]
    }
   ],
   "source": [
    "X=[np.float(out[k]['rtinseconds']) for k, _ in out.items()]\n",
    "X_rt=np.array(X).reshape(-1, 1)\n",
    "print(X_rt.shape)"
   ]
  },
  {
   "cell_type": "code",
   "execution_count": 11,
   "metadata": {},
   "outputs": [
    {
     "name": "stdout",
     "output_type": "stream",
     "text": [
      "{'pep_mass': 923.591193157233, 'pep_intensity': 597487.125, 'rtinseconds': '1.049124', 'title': '20150512_BSA_The-PEG-envelope.4.4.2 File:\"20150512_BSA_The-PEG-envelope.raw\", NativeID:\"controllerType=0 controllerNumber=1 scan=4\"', 'charge': '2+', 'mz_array': array([], dtype=float64), 'intensity_array': array([], dtype=float64)} [597487.125] [1845.16783337] [1.049124]\n"
     ]
    }
   ],
   "source": [
    "k=0\n",
    "print(out[k],X_int[k],X_mz1[k],X_rt[k])"
   ]
  },
  {
   "cell_type": "code",
   "execution_count": 12,
   "metadata": {},
   "outputs": [
    {
     "name": "stdout",
     "output_type": "stream",
     "text": [
      "[[1845.16783337]\n",
      " [1669.06151796]\n",
      " [1757.12071963]\n",
      " ...\n",
      " [1230.82837932]\n",
      " [ 912.55029029]\n",
      " [ 868.52364864]] [[1.04912400e+00]\n",
      " [1.14588300e+00]\n",
      " [1.24253400e+00]\n",
      " ...\n",
      " [3.29942946e+03]\n",
      " [3.29980968e+03]\n",
      " [3.30019752e+03]]\n"
     ]
    }
   ],
   "source": [
    "import matplotlib.pyplot as plt\n",
    "#plt.hist(X_rt)\n",
    "#plt.hist(np.log2(X_mz1))\n",
    "#plt.scatter(X_mz1, int(X_rt))\n",
    "print(X_mz1, X_rt)"
   ]
  },
  {
   "cell_type": "code",
   "execution_count": 13,
   "metadata": {},
   "outputs": [
    {
     "data": {
      "text/plain": [
       "<matplotlib.collections.PathCollection at 0x7fe9c321cb10>"
      ]
     },
     "execution_count": 13,
     "metadata": {},
     "output_type": "execute_result"
    },
    {
     "data": {
      "image/png": "[encoded data removed]",
      "text/plain": [
       "<Figure size 432x288 with 1 Axes>"
      ]
     },
     "metadata": {
      "needs_background": "light"
     },
     "output_type": "display_data"
    }
   ],
   "source": [
    "import matplotlib.pyplot as plt\n",
    "#plt.hist(X_rt)\n",
    "#plt.hist(np.log2(X_mz1))\n",
    "plt.scatter(X_rt,X_mz1,X_int)\n",
    "#plt.scatter(X_rt,X_int)"
   ]
  },
  {
   "cell_type": "code",
   "execution_count": 14,
   "metadata": {},
   "outputs": [
    {
     "data": {
      "application/vnd.jupyter.widget-view+json": {
       "model_id": "bb627c0d0b0749b88e8e8e05c056db3b",
       "version_major": 2,
       "version_minor": 0
      },
      "text/plain": [
       "VBox(children=(Figure(camera=PerspectiveCamera(fov=46.0, position=(0.0, 0.0, 2.0), quaternion=(0.0, 0.0, 0.0, …"
      ]
     },
     "metadata": {},
     "output_type": "display_data"
    }
   ],
   "source": [
    "import ipyvolume as ipv\n",
    "x, y, z, u, v = ipv.examples.klein_bottle(draw=False)\n",
    "ipv.figure()\n",
    "m = ipv.plot_mesh(x, y, z, wireframe=False)\n",
    "ipv.squarelim()\n",
    "ipv.show()"
   ]
  },
  {
   "cell_type": "code",
   "execution_count": 15,
   "metadata": {},
   "outputs": [
    {
     "data": {
      "application/vnd.jupyter.widget-view+json": {
       "model_id": "3a5d63532b47464280338371002a50dd",
       "version_major": 2,
       "version_minor": 0
      },
      "text/plain": [
       "VBox(children=(Figure(camera=PerspectiveCamera(fov=46.0, position=(0.0, 0.0, 2.0), quaternion=(0.0, 0.0, 0.0, …"
      ]
     },
     "metadata": {},
     "output_type": "display_data"
    }
   ],
   "source": [
    "import ipyvolume as ipv\n",
    "import numpy as np\n",
    "x, y, z = np.random.random((3, 10000))\n",
    "ipv.quickscatter(x, y, z, size=1, marker=\"sphere\")"
   ]
  },
  {
   "cell_type": "code",
   "execution_count": 16,
   "metadata": {},
   "outputs": [
    {
     "data": {
      "text/plain": [
       "<zip at 0x7fe9c2d0ec80>"
      ]
     },
     "execution_count": 16,
     "metadata": {},
     "output_type": "execute_result"
    }
   ],
   "source": [
    "v=(zip(X_rt.data,X_mz1.data,X_int.data))\n",
    "v"
   ]
  },
  {
   "cell_type": "code",
   "execution_count": 18,
   "metadata": {},
   "outputs": [
    {
     "data": {
      "application/vnd.jupyter.widget-view+json": {
       "model_id": "bce0b3457eda40119e7292f8d923642c",
       "version_major": 2,
       "version_minor": 0
      },
      "text/plain": [
       "VBox(children=(Figure(camera=PerspectiveCamera(fov=46.0, position=(0.0, 0.0, 2.0), quaternion=(0.0, 0.0, 0.0, …"
      ]
     },
     "metadata": {},
     "output_type": "display_data"
    }
   ],
   "source": [
    "import ipyvolume as ipv\n",
    "import numpy as np\n",
    "ipv.quickscatter(X_rt,X_mz1,X_int)#, size=1, marker=\"sphere\")"
   ]
  },
  {
   "cell_type": "code",
   "execution_count": null,
   "metadata": {},
   "outputs": [],
   "source": [
    "#!pip install vaex\n",
    "import vaex\n",
    "#import scipy\n",
    "v=vaex.from_arrays(a=X_rt.transpose(), b=X_mz1.transpose(), c=X_int.transpose())\n",
    "#v = v.count(binby=[\"a\", \"b\", \"c\"])\n",
    "# smooth it for visual pleasure\n",
    "#v = scipy.ndimage.gaussian_filter(v,1)\n",
    "v#.shape\n",
    "v=v.values"
   ]
  },
  {
   "cell_type": "code",
   "execution_count": null,
   "metadata": {},
   "outputs": [],
   "source": [
    "X_rt.transpose()"
   ]
  },
  {
   "cell_type": "code",
   "execution_count": null,
   "metadata": {},
   "outputs": [],
   "source": [
    "import ipyvolume\n",
    "ipyvolume.quickvolshow(X_int,X_rt,X_mz1)#, lighting=True)"
   ]
  },
  {
   "cell_type": "code",
   "execution_count": null,
   "metadata": {},
   "outputs": [],
   "source": [
    "#!pip install ipyvolume\n",
    "import pylab\n",
    "import scipy.optimize as op\n",
    "import emcee\n",
    "import numpy as np\n",
    "import vaex\n",
    "import scipy.ndimage\n",
    "import ipyvolume\n",
    "\n",
    "ds = vaex.from_arrays(a=samples[...,0].copy(), b=samples[...,1].copy(), c=samples[...,2].copy())\n",
    "# get 2d histogram\n",
    "v = ds.count(binby=[\"a\", \"b\", \"c\"], shape=64)\n",
    "# smooth it for visual pleasure\n",
    "v = scipy.ndimage.gaussian_filter(v, 2)\n",
    "\n",
    "ipyvolume.quickvolshow(v, lighting=True)\n"
   ]
  },
  {
   "cell_type": "code",
   "execution_count": null,
   "metadata": {},
   "outputs": [],
   "source": [
    "#https://github.com/llSourcell/Gaussian_Mixture_Models/blob/master/intro_to_gmm_%26_em.ipynb\n",
    "class Gaussian:\n",
    "    def __init__(self, mu, sigma):\n",
    "        self.mu = mu\n",
    "        self.sigma = sigma\n",
    "    def pdf(self, datum):\n",
    "        u = (datum - self.mu) / abs(self.sigma)\n",
    "        y = (1 / (sqrt(2 * pi) * abs(self.sigma))) * exp(-u * u / 2)\n",
    "        return y\n",
    "    def __repr__(self):\n",
    "        return 'Gaussian({0:4.6}, {1:4.6})'.format(self.mu, self.sigma)"
   ]
  },
  {
   "cell_type": "code",
   "execution_count": null,
   "metadata": {},
   "outputs": [],
   "source": [
    "best_single = Gaussian(np.mean(X_mz1), np.std(X_mz1))\n",
    "print('Gaussian: μ = {:.2}, σ = {:.2}'.format(best_single.mu, best_single.sigma))"
   ]
  },
  {
   "cell_type": "code",
   "execution_count": null,
   "metadata": {},
   "outputs": [],
   "source": [
    "from scipy import stats\n",
    "import seaborn as sns\n",
    "sns.set_style(\"white\")\n",
    "x = np.linspace(-6, 8, 200)\n",
    "g_single = stats.norm(best_single.mu, best_single.sigma).pdf(x)\n",
    "sns.distplot(X_mz1, bins=100, kde=False, norm_hist=True)\n",
    "plt.plot(x, g_single, label='PDF')\n",
    "plt.legend()"
   ]
  },
  {
   "cell_type": "code",
   "execution_count": null,
   "metadata": {},
   "outputs": [],
   "source": [
    "data=X_mz1\n",
    "from math import sqrt, log, exp, pi\n",
    "from random import uniform\n",
    "class GaussianMixture:\n",
    "    def __init__(self, data, mu_min=min(data), mu_max=max(data), sigma_min=.1, sigma_max=1, mix=.5):\n",
    "        self.data = data\n",
    "        #init with multiple gaussians\n",
    "        self.one = Gaussian(uniform(mu_min, mu_max), \n",
    "                            uniform(sigma_min, sigma_max))\n",
    "        self.two = Gaussian(uniform(mu_min, mu_max), \n",
    "                            uniform(sigma_min, sigma_max))\n",
    "        self.mix = mix\n",
    "    def Estep(self):\n",
    "        # compute weights\n",
    "        self.loglike = 0. # = log(p = 1)\n",
    "        for datum in self.data:\n",
    "            # unnormalized weights\n",
    "            wp1 = self.one.pdf(datum) * self.mix\n",
    "            wp2 = self.two.pdf(datum) * (1. - self.mix)\n",
    "            # compute denominator\n",
    "            den = wp1 + wp2\n",
    "            # normalize\n",
    "            wp1 /= den\n",
    "            wp2 /= den\n",
    "            # add into loglike\n",
    "            self.loglike += log(wp1 + wp2)\n",
    "            # yield weight tuple\n",
    "            yield (wp1, wp2)\n",
    "    def Mstep(self, weights):\n",
    "        (left, rigt) = zip(*weights)\n",
    "        one_den = sum(left)\n",
    "        two_den = sum(rigt)\n",
    "        # compute new means\n",
    "        self.one.mu = sum(w * d / one_den for (w, d) in zip(left, data))\n",
    "        self.two.mu = sum(w * d / two_den for (w, d) in zip(rigt, data))\n",
    "        # compute new sigmas\n",
    "        self.one.sigma = sqrt(sum(w * ((d - self.one.mu) ** 2)\n",
    "                                  for (w, d) in zip(left, data)) / one_den)\n",
    "        self.two.sigma = sqrt(sum(w * ((d - self.two.mu) ** 2)\n",
    "                                  for (w, d) in zip(rigt, data)) / two_den)\n",
    "        # compute new mix\n",
    "        self.mix = one_den / len(data)\n",
    "    def iterate(self, N=1, verbose=False):\n",
    "    def pdf(self, x):\n",
    "        return (self.mix)*self.one.pdf(x) + (1-self.mix)*self.two.pdf(x)\n",
    "    def __repr__(self):\n",
    "        return 'GaussianMixture({0}, {1}, mix={2.03})'.format(self.one, \n",
    "                                                              self.two, \n",
    "                                                              self.mix)\n",
    "    def __str__(self):\n",
    "        return 'Mixture: {0}, {1}, mix={2:.03})'.format(self.one, \n",
    "                                                        self.two, \n",
    "                                                        self.mix)"
   ]
  },
  {
   "cell_type": "code",
   "execution_count": null,
   "metadata": {},
   "outputs": [],
   "source": [
    "# Check out the fitting process\n",
    "n_iterations = 5\n",
    "best_mix = None\n",
    "best_loglike = float('-inf')\n",
    "mix = GaussianMixture(data)\n",
    "for _ in range(n_iterations):\n",
    "    try:\n",
    "        #train!\n",
    "        mix.iterate(verbose=True)\n",
    "        if mix.loglike > best_loglike:\n",
    "            best_loglike = mix.loglike\n",
    "            best_mix = mix\n",
    "    except (ZeroDivisionError, ValueError, RuntimeWarning): # Catch division errors from bad starts, and just throw them out...\n",
    "        pass"
   ]
  },
  {
   "cell_type": "code",
   "execution_count": null,
   "metadata": {},
   "outputs": [],
   "source": [
    "n_iterations = 20\n",
    "n_random_restarts = 500\n",
    "best_mix = None\n",
    "best_loglike = float('-inf')\n",
    "print('Computing best model with random restarts...\\n')\n",
    "for _ in range(n_random_restarts):\n",
    "    mix = GaussianMixture(data)\n",
    "    for _ in range(n_iterations):\n",
    "        try:\n",
    "            mix.iterate()\n",
    "            if mix.loglike > best_loglike:\n",
    "                best_loglike = mix.loglike\n",
    "                best_mix = mix\n",
    "        except (ZeroDivisionError, ValueError, RuntimeWarning): # Catch division errors from bad starts, and just throw them out...\n",
    "            pass\n",
    "print('\\n\\nDone. 🙂')"
   ]
  },
  {
   "cell_type": "code",
   "execution_count": null,
   "metadata": {
    "ExecuteTime": {
     "end_time": "2018-10-03T09:58:15.850281Z",
     "start_time": "2018-10-03T09:58:14.618490Z"
    },
    "colab": {
     "base_uri": "https://localhost:8080/",
     "height": 85
    },
    "colab_type": "code",
    "id": "WfAzO1RHxQ4P",
    "outputId": "32f7b902-3926-4e68-f263-fe24a2384ca6"
   },
   "outputs": [],
   "source": [
    "#from  rulsif import RULSIF\n",
    "#from cycler import cycler\n",
    "import tensorflow as tf\n",
    "print(tf.__version__)\n",
    "from tensorflow.keras import backend"
   ]
  },
  {
   "cell_type": "code",
   "execution_count": null,
   "metadata": {},
   "outputs": [],
   "source": [
    "from keras.models import Sequential\n",
    "from keras.layers import Dense, Activation\n",
    "from keras import backend\n",
    "num_outputs=1000\n",
    "model = Sequential()\n",
    "#model.add(GaussianNoise(STD_DEV, input_shape=(MAX_WORDS, vectors.dim)))\n",
    "#model.add(Bidirectional(LSTM(HIDDEN_UNITS, activation='tanh'), merge_mode='concat'))\n",
    "#model.add(Dropout(DROPOUT_RATIO))\n",
    "model.add(Dense(num_outputs, activation='softmax'))\n",
    "model.compile(loss='categorical_crossentropy',optimizer=\"Adam\",metrics=['categorical_accuracy'])"
   ]
  },
  {
   "cell_type": "code",
   "execution_count": null,
   "metadata": {},
   "outputs": [],
   "source": [
    "import keras\n",
    "base_model=keras.applications.xception.Xception(include_top=True, \n",
    "                                                weights='imagenet', \n",
    "                                                input_tensor=None, \n",
    "                                                input_shape=None, \n",
    "                                                pooling=None, \n",
    "                                                classes=1000)\n",
    "x=base_model.output\n",
    "#x=GlobalAveragePooling4D()(x)\n",
    "x=Dense(1024,activation='relu')(x)\n",
    "x=Dense(1024,activation='relu')(x)\n",
    "x=Dense(512,activation='relu')(x)\n",
    "preds=Dense(2,activation='softmax')(x)"
   ]
  },
  {
   "cell_type": "code",
   "execution_count": null,
   "metadata": {},
   "outputs": [],
   "source": [
    "model=Model(inputs=base_model.input,outputs=preds)"
   ]
  },
  {
   "cell_type": "code",
   "execution_count": null,
   "metadata": {},
   "outputs": [],
   "source": [
    "for layer in model.layers[:20]:    layer.trainable=False\n",
    "for layer in model.layers[20:]:    layer.trainable=True"
   ]
  },
  {
   "cell_type": "code",
   "execution_count": null,
   "metadata": {
    "ExecuteTime": {
     "end_time": "2019-08-18T20:05:20.744133Z",
     "start_time": "2019-08-18T20:05:20.546363Z"
    }
   },
   "outputs": [],
   "source": [
    "train_datagen=ImageDataGenerator(preprocessing_function=preprocess_input)\n",
    "train_generator=train_datagen.flow_from_directory('./subCellular',\n",
    "                                                  target_size=(299,299),\n",
    "                                                  color_mode='rgb',\n",
    "                                                  batch_size=32,\n",
    "                                                  class_mode='categorical', \n",
    "                                                  shuffle=True)\n",
    "model.compile(optimizer='Adam',loss='categorical_crossentropy',\n",
    "              metrics=['accuracy'])\n",
    "step_size_train=train_generator.n//train_generator.batch_size\n",
    "model.fit_generator(generator=train_generator,\n",
    "                    steps_per_epoch=step_size_train,epochs=2)"
   ]
  },
  {
   "cell_type": "code",
   "execution_count": null,
   "metadata": {},
   "outputs": [],
   "source": [
    "model.save('modelMGF.h5')    \n",
    "!bzip2 'modelMGF.h5'"
   ]
  },
  {
   "cell_type": "code",
   "execution_count": null,
   "metadata": {},
   "outputs": [],
   "source": [
    "import keras\n",
    "config = tf.ConfigProto( device_count = {'GPU': 1 , 'CPU': 16} ) \n",
    "sess = tf.Session(config=config) \n",
    "keras.backend.set_session(sess)"
   ]
  },
  {
   "cell_type": "code",
   "execution_count": null,
   "metadata": {},
   "outputs": [],
   "source": [
    "import pandas as pd\n",
    "# import formatter as fm\n",
    "df = pd.read_csv('Groups.txt',sep='\\t')\n",
    "df.head()"
   ]
  },
  {
   "cell_type": "code",
   "execution_count": null,
   "metadata": {},
   "outputs": [],
   "source": [
    "#check also https://github.com/kusterlab/prosit/blob/master/prosit/prediction.py"
   ]
  },
  {
   "cell_type": "code",
   "execution_count": null,
   "metadata": {
    "colab": {
     "base_uri": "https://localhost:8080/",
     "height": 68
    },
    "colab_type": "code",
    "id": "IalCGhW30tMH",
    "outputId": "33b8abef-e68a-4b87-9f77-3b125cf8c38b"
   },
   "outputs": [],
   "source": [
    "!mkdir  ~/.kaggle\n",
    "!cp $PWD/kaggle.json ~/.kaggle/\n",
    "!chmod 600 ~/.kaggle/kaggle.json\n",
    "!ls -lthr ~/.kaggle/"
   ]
  },
  {
   "cell_type": "code",
   "execution_count": null,
   "metadata": {
    "colab": {
     "base_uri": "https://localhost:8080/",
     "height": 68
    },
    "colab_type": "code",
    "id": "D4IJbLst38D6",
    "outputId": "0aff1509-833e-41e9-adc0-7ca002c2f08d"
   },
   "outputs": [],
   "source": [
    "#!$HOME/.local/bin/kaggle datasets download -d piotrgrabo/breastcancerproteomes --force\n",
    "!$HOME/.local/bin/kaggle competitions download -c human-protein-atlas-image-classification"
   ]
  },
  {
   "cell_type": "code",
   "execution_count": null,
   "metadata": {
    "colab": {
     "base_uri": "https://localhost:8080/",
     "height": 51
    },
    "colab_type": "code",
    "id": "uGl3CaM17BKs",
    "outputId": "9cc9d4b9-49ea-4fd7-8e6e-49704d6dc03a"
   },
   "outputs": [],
   "source": [
    "!find $HOME -iname train"
   ]
  },
  {
   "cell_type": "code",
   "execution_count": null,
   "metadata": {
    "colab": {},
    "colab_type": "code",
    "id": "GuUEvbu8_Lpn"
   },
   "outputs": [],
   "source": [
    "!pip install -U -q PyDrive --user\n",
    "!pip install -U -q google.colab --user\n",
    "\n",
    "from pydrive.auth import GoogleAuth\n",
    "from pydrive.drive import GoogleDrive\n",
    "from google.colab import auth\n",
    "from oauth2client.client import GoogleCredentials\n",
    "\n",
    "auth.authenticate_user()\n",
    "gauth = GoogleAuth()\n",
    "gauth.credentials = GoogleCredentials.get_application_default()\n",
    "drive = GoogleDrive(gauth)"
   ]
  },
  {
   "cell_type": "code",
   "execution_count": null,
   "metadata": {
    "colab": {
     "base_uri": "https://localhost:8080/",
     "height": 34
    },
    "colab_type": "code",
    "id": "cnMgXDOE_oxq",
    "outputId": "46ee6fc2-c7fa-46f8-fe6e-fe650ec06097"
   },
   "outputs": [],
   "source": [
    "model.save('model.h5')    \n",
    "model_file = drive.CreateFile({'title' : 'model.h5'})\n",
    "model_file.SetContentFile('model.h5')\n",
    "model_file.Upload()\n",
    "drive.CreateFile({'id': model_file.get('id')})"
   ]
  },
  {
   "cell_type": "code",
   "execution_count": null,
   "metadata": {
    "colab": {
     "base_uri": "https://localhost:8080/",
     "height": 187
    },
    "colab_type": "code",
    "id": "P8woelkc_wJj",
    "outputId": "0ae32103-6a13-4c6c-ac5e-35d4b5bd14e9"
   },
   "outputs": [],
   "source": [
    "!ls -ltrh"
   ]
  },
  {
   "cell_type": "code",
   "execution_count": null,
   "metadata": {
    "ExecuteTime": {
     "end_time": "2018-10-04T08:03:58.500557Z",
     "start_time": "2018-10-04T08:03:58.452086Z"
    },
    "colab": {},
    "colab_type": "code",
    "id": "Hly-Yv5vxQ40",
    "outputId": "0c08ca36-e977-4b24-8ea3-a53ef1e3d5d0"
   },
   "outputs": [],
   "source": [
    "outvec=[1 if 'positive' in i.parts[-2] else 0 for i in trainlist]\n",
    "outvec"
   ]
  },
  {
   "cell_type": "code",
   "execution_count": null,
   "metadata": {
    "ExecuteTime": {
     "end_time": "2018-10-04T09:38:45.204078Z",
     "start_time": "2018-10-04T09:38:45.199481Z"
    },
    "colab": {},
    "colab_type": "code",
    "id": "RVr8Ah_7xQ44"
   },
   "outputs": [],
   "source": [
    "outvecclip=outvec[0:99]"
   ]
  },
  {
   "cell_type": "code",
   "execution_count": null,
   "metadata": {
    "ExecuteTime": {
     "end_time": "2018-10-04T09:38:52.512802Z",
     "start_time": "2018-10-04T09:38:52.503623Z"
    },
    "colab": {},
    "colab_type": "code",
    "id": "FpWeeovBxQ48",
    "outputId": "aba057d6-3517-4c32-d86a-3a7da6bf8d0e"
   },
   "outputs": [],
   "source": [
    "(outvecclip)"
   ]
  },
  {
   "cell_type": "code",
   "execution_count": null,
   "metadata": {
    "colab": {},
    "colab_type": "code",
    "id": "PFxLMSxAxQ-X"
   },
   "outputs": [],
   "source": [
    "import sklearn\n",
    "from sklearn.model_selection import train_test_split\n",
    "X_train, X_test, y_train, y_test = train_test_split(MGF, binary_labels, test_size = .2)"
   ]
  },
  {
   "cell_type": "code",
   "execution_count": null,
   "metadata": {
    "colab": {},
    "colab_type": "code",
    "id": "Q1Llj3vyxQ-a"
   },
   "outputs": [],
   "source": [
    "from sklearn.model_selection import KFold\n",
    "kf = KFold(n_splits=71, shuffle=True, random_state=42)\n",
    "batches = [train for test, train  in kf.split(X_train, y_train)]\n",
    "batches[0].shape"
   ]
  },
  {
   "cell_type": "code",
   "execution_count": null,
   "metadata": {
    "colab": {},
    "colab_type": "code",
    "id": "Kf0oOlgRxQ-c"
   },
   "outputs": [],
   "source": [
    "kf = KFold(n_splits=10, shuffle=True, random_state=42)\n",
    "test_batches = [t_batch for _, t_batch  in kf.split(X_test, y_test)]\n",
    "np.histogram(test_batches[9])"
   ]
  },
  {
   "cell_type": "code",
   "execution_count": null,
   "metadata": {
    "colab": {},
    "colab_type": "code",
    "id": "JrTw2cPKxQ-f"
   },
   "outputs": [],
   "source": [
    "X_train.shape,X_test.shape"
   ]
  },
  {
   "cell_type": "code",
   "execution_count": null,
   "metadata": {
    "colab": {},
    "colab_type": "code",
    "id": "A1RCzj9IxQ-p"
   },
   "outputs": [],
   "source": [
    "predictions = [result for p in pred for result in p ]\n",
    "predictions"
   ]
  },
  {
   "cell_type": "code",
   "execution_count": null,
   "metadata": {
    "colab": {},
    "colab_type": "code",
    "id": "1F0YMuZkxQ-r"
   },
   "outputs": [],
   "source": [
    "from  sklearn.metrics import accuracy_score,log_loss #ytrue ypred\n",
    "log_loss(y_test, [[p[0],1-p[0]] for p in predictions])"
   ]
  },
  {
   "cell_type": "code",
   "execution_count": null,
   "metadata": {
    "colab": {},
    "colab_type": "code",
    "id": "alkjgfvmxQ-x"
   },
   "outputs": [],
   "source": [
    "np.round([p[0] for p in predictions])"
   ]
  },
  {
   "cell_type": "code",
   "execution_count": null,
   "metadata": {
    "colab": {},
    "colab_type": "code",
    "id": "7xBe9nLLxQ-z"
   },
   "outputs": [],
   "source": [
    "# Compute confusion matrix\n",
    "confusion_matrix([0, 1, 0, 1], [1, 1, 1, 0])\n",
    "cnf_matrix = confusion_matrix(y_test, np.round([p[0] for p in predictions]))\n",
    "np.set_printoptions(precision=2)\n",
    "\n",
    "# Plot non-normalized confusion matrix\n",
    "plt.figure()\n",
    "plot_confusion_matrix(cnf_matrix, classes=['No Findings', 'Abnormal Findings'],\n",
    "                      title='Confusion matrix, without normalization')\n",
    "\n",
    "# Plot normalized confusion matrix\n",
    "plt.figure()\n",
    "plot_confusion_matrix(cnf_matrix, classes=['No Findings', 'Abnormal Findings'],\n",
    "                      normalize=True,\n",
    "                      title='Normalized confusion matrix')\n",
    "\n",
    "plt.show()"
   ]
  },
  {
   "cell_type": "code",
   "execution_count": null,
   "metadata": {},
   "outputs": [],
   "source": [
    "import tensorflow as tf\n",
    "print(tf.__version__)\n",
    "import datetime\n",
    "print(datetime.datetime.now())\n",
    "tf.keras.backend.clear_session()\n",
    "mnist = tf.keras.datasets.mnist\n",
    "(x_train, y_train), (x_test, y_test) = mnist.load_data()\n",
    "x_train, x_test = x_train / 255.0, x_test / 255.0\n",
    "print(\"Eager:\",tf.executing_eagerly())\n",
    "print(\"GPU:\",tf.test.is_gpu_available())#:with tf.device(\"/gpu:0\"):\n",
    "#tf.keras.backend.clear_session()\n",
    "\n",
    "def create_model():\n",
    "  return tf.keras.models.Sequential([\n",
    "    tf.keras.layers.Flatten(input_shape=(28, 28)),\n",
    "    tf.keras.layers.Dense(512, activation='relu'),\n",
    "    tf.keras.layers.Dropout(0.2),\n",
    "    tf.keras.layers.Dense(10, activation='softmax')\n",
    "  ])\n",
    "\n",
    "model = create_model()\n",
    "model.compile(optimizer='adam',\n",
    "              loss='sparse_categorical_crossentropy',\n",
    "              metrics=['accuracy'])\n",
    "\n",
    "log_dir=\"/mnt/promec-ns9036k/.tools/guiding-cow-tensorboard/\" + datetime.datetime.now().strftime(\"%Y%m%d-%H%M%S\")\n",
    "tensorboard_callback = tf.keras.callbacks.TensorBoard(log_dir=log_dir, histogram_freq=1)\n",
    "\n",
    "model.fit(x=x_train,\n",
    "          y=y_train,\n",
    "          epochs=5,\n",
    "          validation_data=(x_test, y_test),\n",
    "          callbacks=[tensorboard_callback])"
   ]
  },
  {
   "cell_type": "markdown",
   "metadata": {
    "colab_type": "text",
    "id": "view-in-github"
   },
   "source": [
    "<a href=\"https://colab.research.google.com/github/animesh/notebooks/blob/master/tfMGF.ipynb\" target=\"_parent\"><img src=\"https://colab.research.google.com/assets/colab-badge.svg\" alt=\"Open In Colab\"/></a>\n",
    "*peptide spectra predictor*\n",
    "- [Novo](https://github.com/nh2tran/DeepNovo)\n",
    "- [Post](https://github.com/semiller10/postnovo)"
   ]
  }
 ],
 "metadata": {
  "accelerator": "GPU",
  "colab": {
   "collapsed_sections": [
    "g8h4wEMDxQ9A",
    "pm7CdZ6wxQ9A",
    "ZIf3cfV_xQ9Y"
   ],
   "include_colab_link": true,
   "name": "pathImgClassifier.ipynb",
   "provenance": [],
   "version": "0.3.2"
  },
  "kernelspec": {
   "display_name": "Python 3",
   "language": "python",
   "name": "python3"
  },
  "language_info": {
   "codemirror_mode": {
    "name": "ipython",
    "version": 3
   },
   "file_extension": ".py",
   "mimetype": "text/x-python",
   "name": "python",
   "nbconvert_exporter": "python",
   "pygments_lexer": "ipython3",
   "version": "3.7.4"
  },
  "toc": {
   "base_numbering": 1,
   "nav_menu": {},
   "number_sections": true,
   "sideBar": true,
   "skip_h1_title": false,
   "title_cell": "Table of Contents",
   "title_sidebar": "Contents",
   "toc_cell": false,
   "toc_position": {},
   "toc_section_display": true,
   "toc_window_display": false
  }
 },
 "nbformat": 4,
 "nbformat_minor": 2
}
