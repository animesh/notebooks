{
 "cells": [
  {
   "cell_type": "code",
   "execution_count": 1,
   "metadata": {},
   "outputs": [
    {
     "name": "stdout",
     "output_type": "stream",
     "text": [
      "/home/animeshs/notebooks\r\n"
     ]
    }
   ],
   "source": [
    "!pwd\n"
   ]
  },
  {
   "cell_type": "code",
   "execution_count": 2,
   "metadata": {},
   "outputs": [],
   "source": [
    "import numpy as np\n",
    "def parseMGF(mgfData):\n",
    "    data = mgfData.read_text().split('\\n')\n",
    "    _comments = '#;!/'\n",
    "    reading_spectrum = False\n",
    "    params = {}\n",
    "    masses = []\n",
    "    intensities = []\n",
    "    charges = []\n",
    "    out = {}\n",
    "    cnt = 0\n",
    "    pep_mass = 0\n",
    "    pep_intensity = 0\n",
    "    out = {}\n",
    "    for line in data:\n",
    "        if not reading_spectrum:\n",
    "            if line.strip() == 'BEGIN IONS': reading_spectrum = True\n",
    "        else:\n",
    "            if not line.strip() or any(line.startswith(c) for c in _comments): pass\n",
    "            elif line.strip() == 'END IONS':\n",
    "                reading_spectrum = False\n",
    "                title = params['title'].split()[0]\n",
    "                if 'pepmass' in params:\n",
    "                    try:\n",
    "                        pl = params['pepmass'].split()\n",
    "                        if len(pl) > 1:\n",
    "                            pep_mass = float(pl[0])\n",
    "                            pep_intensity = float(pl[1])\n",
    "                        elif len(pl) == 1: pep_mass = float(pl[0])\n",
    "                    except ValueError: print(\"Error in parsing pepmass value\")\n",
    "                out[cnt] = {'pep_mass': pep_mass,'pep_intensity': pep_intensity,'rtinseconds': params['rtinseconds'],'title': params['title'],'charge': params['charge'],'mz_array': np.array(masses),'intensity_array': np.array(intensities)}\n",
    "                cnt += 1\n",
    "            else:\n",
    "                l = line.split('=', 1)\n",
    "                if len(l) > 1: params[l[0].lower()] = l[1].strip()\n",
    "                elif len(l) == 1:  # looks like a peak list ;)\n",
    "                    l = line.split()\n",
    "                    if len(l) >= 2000:\n",
    "                        try:\n",
    "                            masses.append(float(l[0]))\n",
    "                            intensities.append(float(l[1]))\n",
    "                        except ValueError:\n",
    "                            print(\"Error in parsing line \"+line)\n",
    "    return out"
   ]
  },
  {
   "cell_type": "code",
   "execution_count": 3,
   "metadata": {},
   "outputs": [
    {
     "name": "stdout",
     "output_type": "stream",
     "text": [
      "True\n"
     ]
    }
   ],
   "source": [
    "import pathlib\n",
    "#file = pathlib.Path.cwd().parent.rglob('*.MGF')\n",
    "file = pathlib.Path.home()/'mgf' / '190128_robin_WT_5.raw.centroid.MGF'\n",
    "#file = pathlib.Path.home()/'mgf' / '190128_robin_ 6' / '190128_robin_WT_5.mgf'\n",
    "print(file.exists())#read_text().split(' '))\n",
    "out=parseMGF(file)"
   ]
  },
  {
   "cell_type": "code",
   "execution_count": 4,
   "metadata": {},
   "outputs": [
    {
     "name": "stdout",
     "output_type": "stream",
     "text": [
      "(57969, 1)\n"
     ]
    }
   ],
   "source": [
    "X=[(out[k]['pep_mass']-1.00727647)*int(out[k]['charge'].split('+')[0]) for k, _ in out.items()]\n",
    "X_mz1=np.array(X).reshape(-1, 1)\n",
    "print(X_mz1.shape)"
   ]
  },
  {
   "cell_type": "code",
   "execution_count": 5,
   "metadata": {},
   "outputs": [
    {
     "name": "stdout",
     "output_type": "stream",
     "text": [
      "(57969, 1)\n"
     ]
    }
   ],
   "source": [
    "X=[(out[k]['pep_intensity']) for k, _ in out.items()]\n",
    "X_int=np.array(X).reshape(-1, 1)\n",
    "print(X_int.shape)"
   ]
  },
  {
   "cell_type": "code",
   "execution_count": 6,
   "metadata": {},
   "outputs": [
    {
     "name": "stdout",
     "output_type": "stream",
     "text": [
      "(57969, 1)\n"
     ]
    }
   ],
   "source": [
    "X=[np.float(out[k]['rtinseconds']) for k, _ in out.items()]\n",
    "X_rt=np.array(X).reshape(-1, 1)\n",
    "print(X_rt.shape)"
   ]
  },
  {
   "cell_type": "code",
   "execution_count": 7,
   "metadata": {},
   "outputs": [
    {
     "name": "stdout",
     "output_type": "stream",
     "text": [
      "{'pep_mass': 388.894256591797, 'rtinseconds': '0.66099936', 'mz_array': array([], dtype=float64), 'intensity_array': array([], dtype=float64), 'title': '2\\t11\\tSCANS=FTMS + c NSI d Full ms2 388.8943@hcd29.00 [54.0000-810.0000]', 'charge': '2+', 'pep_intensity': 216.3578859} [216.3578859] [775.77396024] [0.66099936]\n"
     ]
    }
   ],
   "source": [
    "k=0\n",
    "print(out[k],X_int[k],X_mz1[k],X_rt[k])"
   ]
  },
  {
   "cell_type": "code",
   "execution_count": 8,
   "metadata": {},
   "outputs": [
    {
     "name": "stdout",
     "output_type": "stream",
     "text": [
      "[[ 775.77396024]\n",
      " [ 871.74673856]\n",
      " [ 774.67178739]\n",
      " ...\n",
      " [1196.88901151]\n",
      " [1301.6269743 ]\n",
      " [2288.28108807]] [[6.60999360e-01]\n",
      " [3.83577924e+00]\n",
      " [5.14044030e+00]\n",
      " ...\n",
      " [1.07996430e+04]\n",
      " [1.07997720e+04]\n",
      " [1.07999028e+04]]\n"
     ]
    }
   ],
   "source": [
    "import matplotlib.pyplot as plt\n",
    "#plt.hist(X_rt)\n",
    "#plt.hist(np.log2(X_mz1))\n",
    "#plt.scatter(X_mz1, int(X_rt))\n",
    "print(X_mz1, X_rt)"
   ]
  },
  {
   "cell_type": "code",
   "execution_count": 12,
   "metadata": {},
   "outputs": [
    {
     "data": {
      "text/plain": [
       "<matplotlib.collections.PathCollection at 0x7f63f98d45c0>"
      ]
     },
     "execution_count": 12,
     "metadata": {},
     "output_type": "execute_result"
    },
    {
     "data": {
      "image/png": "[encoded data removed]",
      "text/plain": [
       "<Figure size 432x288 with 1 Axes>"
      ]
     },
     "metadata": {
      "needs_background": "light"
     },
     "output_type": "display_data"
    }
   ],
   "source": [
    "import matplotlib.pyplot as plt\n",
    "#plt.hist(X_rt)\n",
    "#plt.hist(np.log2(X_mz1))\n",
    "#plt.scatter(X_rt,X_mz1,X_int)\n",
    "plt.scatter(X_rt,X_int)"
   ]
  },
  {
   "cell_type": "code",
   "execution_count": 18,
   "metadata": {},
   "outputs": [
    {
     "name": "stderr",
     "output_type": "stream",
     "text": [
      "/home/animeshs/.local/lib/python3.5/site-packages/librosa/core/audio.py:146: UserWarning: PySoundFile failed. Trying audioread instead.\n",
      "  warnings.warn('PySoundFile failed. Trying audioread instead.')\n"
     ]
    },
    {
     "name": "stdout",
     "output_type": "stream",
     "text": [
      "[-16.94128     -2.2898886    2.249615   ...   0.88102627   2.249615\n",
      "  -2.2898886 ] [[-80.       -80.       -80.       ... -20.349545 -18.931133 -21.612713]\n",
      " [-80.       -80.       -80.       ... -12.727091 -13.151951 -16.21872 ]\n",
      " [-80.       -80.       -80.       ... -18.368595 -20.529575 -12.801571]\n",
      " ...\n",
      " [-80.       -80.       -80.       ... -71.05459  -72.94654  -69.85945 ]\n",
      " [-80.       -80.       -80.       ... -71.15897  -70.52577  -70.17508 ]\n",
      " [-80.       -80.       -80.       ... -70.46967  -71.69782  -70.10464 ]]\n"
     ]
    },
    {
     "data": {
      "text/plain": [
       "(array([ 12., 573., 196.,  66.,  28.,  56.,  49.,  22.,  16.,   6.]),\n",
       " array([-61.2039  , -53.97716 , -46.75042 , -39.52368 , -32.296944,\n",
       "        -25.070206, -17.843466, -10.616727,  -3.389988,   3.836751,\n",
       "         11.06349 ], dtype=float32),\n",
       " <a list of 10 Patch objects>)"
      ]
     },
     "execution_count": 18,
     "metadata": {},
     "output_type": "execute_result"
    },
    {
     "data": {
      "image/png": "[encoded data removed]",
      "text/plain": [
       "<Figure size 432x288 with 1 Axes>"
      ]
     },
     "metadata": {
      "needs_background": "light"
     },
     "output_type": "display_data"
    }
   ],
   "source": [
    "import librosa\n",
    "from scipy.fftpack import fft\n",
    "n_fft = 1024\n",
    "hop_length = 256\n",
    "n_mels = 40\n",
    "f_min = 20\n",
    "f_max = 8000\n",
    "fmin = 20\n",
    "fmax = 8000\n",
    "n_fft = 1024\n",
    "sample_rate = 16000\n",
    "sample_rate = 16000\n",
    "clip, sample_rate = librosa.load('HareKrishna.mp3', sr=None)\n",
    "clip = clip[:132300] # first three seconds of file\n",
    "n_fft = 1024  # frame length \n",
    "start = 45000 # start at a part of the sound thats not silence\n",
    "x = clip[start:start+n_fft]\n",
    "X = fft(x, n_fft)\n",
    "X_magnitude, X_phase = librosa.magphase(X)\n",
    "X_magnitude_db = librosa.amplitude_to_db(X_magnitude)\n",
    "stft = librosa.stft(clip, n_fft=n_fft, hop_length=hop_length)\n",
    "stft_magnitude, stft_phase = librosa.magphase(stft)\n",
    "stft_magnitude_db = librosa.amplitude_to_db(stft_magnitude)\n",
    "mel_spec = librosa.feature.melspectrogram(clip, n_fft=n_fft, hop_length=hop_length, n_mels=n_mels, sr=sample_rate, power=1.0, fmin=fmin, fmax=fmax)\n",
    "mel_spec_db = librosa.amplitude_to_db(mel_spec, ref=np.max)"
   ]
  },
  {
   "cell_type": "code",
   "execution_count": 21,
   "metadata": {},
   "outputs": [
    {
     "data": {
      "text/plain": [
       "([array([40.,  0.,  0.,  0.,  0.,  0.,  0.,  0.,  0.,  0.]),\n",
       "  array([40.,  0.,  0.,  0.,  0.,  0.,  0.,  0.,  0.,  0.]),\n",
       "  array([40.,  0.,  0.,  0.,  0.,  0.,  0.,  0.,  0.,  0.]),\n",
       "  array([40.,  0.,  0.,  0.,  0.,  0.,  0.,  0.,  0.,  0.]),\n",
       "  array([40.,  0.,  0.,  0.,  0.,  0.,  0.,  0.,  0.,  0.]),\n",
       "  array([40.,  0.,  0.,  0.,  0.,  0.,  0.,  0.,  0.,  0.]),\n",
       "  array([40.,  0.,  0.,  0.,  0.,  0.,  0.,  0.,  0.,  0.]),\n",
       "  array([40.,  0.,  0.,  0.,  0.,  0.,  0.,  0.,  0.,  0.]),\n",
       "  array([40.,  0.,  0.,  0.,  0.,  0.,  0.,  0.,  0.,  0.]),\n",
       "  array([40.,  0.,  0.,  0.,  0.,  0.,  0.,  0.,  0.,  0.]),\n",
       "  array([40.,  0.,  0.,  0.,  0.,  0.,  0.,  0.,  0.,  0.]),\n",
       "  array([39.,  1.,  0.,  0.,  0.,  0.,  0.,  0.,  0.,  0.]),\n",
       "  array([39.,  1.,  0.,  0.,  0.,  0.,  0.,  0.,  0.,  0.]),\n",
       "  array([40.,  0.,  0.,  0.,  0.,  0.,  0.,  0.,  0.,  0.]),\n",
       "  array([40.,  0.,  0.,  0.,  0.,  0.,  0.,  0.,  0.,  0.]),\n",
       "  array([40.,  0.,  0.,  0.,  0.,  0.,  0.,  0.,  0.,  0.]),\n",
       "  array([40.,  0.,  0.,  0.,  0.,  0.,  0.,  0.,  0.,  0.]),\n",
       "  array([40.,  0.,  0.,  0.,  0.,  0.,  0.,  0.,  0.,  0.]),\n",
       "  array([40.,  0.,  0.,  0.,  0.,  0.,  0.,  0.,  0.,  0.]),\n",
       "  array([39.,  1.,  0.,  0.,  0.,  0.,  0.,  0.,  0.,  0.]),\n",
       "  array([39.,  1.,  0.,  0.,  0.,  0.,  0.,  0.,  0.,  0.]),\n",
       "  array([39.,  1.,  0.,  0.,  0.,  0.,  0.,  0.,  0.,  0.]),\n",
       "  array([40.,  0.,  0.,  0.,  0.,  0.,  0.,  0.,  0.,  0.]),\n",
       "  array([39.,  1.,  0.,  0.,  0.,  0.,  0.,  0.,  0.,  0.]),\n",
       "  array([39.,  1.,  0.,  0.,  0.,  0.,  0.,  0.,  0.,  0.]),\n",
       "  array([39.,  1.,  0.,  0.,  0.,  0.,  0.,  0.,  0.,  0.]),\n",
       "  array([39.,  1.,  0.,  0.,  0.,  0.,  0.,  0.,  0.,  0.]),\n",
       "  array([39.,  1.,  0.,  0.,  0.,  0.,  0.,  0.,  0.,  0.]),\n",
       "  array([40.,  0.,  0.,  0.,  0.,  0.,  0.,  0.,  0.,  0.]),\n",
       "  array([39.,  1.,  0.,  0.,  0.,  0.,  0.,  0.,  0.,  0.]),\n",
       "  array([39.,  1.,  0.,  0.,  0.,  0.,  0.,  0.,  0.,  0.]),\n",
       "  array([39.,  1.,  0.,  0.,  0.,  0.,  0.,  0.,  0.,  0.]),\n",
       "  array([39.,  1.,  0.,  0.,  0.,  0.,  0.,  0.,  0.,  0.]),\n",
       "  array([39.,  1.,  0.,  0.,  0.,  0.,  0.,  0.,  0.,  0.]),\n",
       "  array([39.,  1.,  0.,  0.,  0.,  0.,  0.,  0.,  0.,  0.]),\n",
       "  array([39.,  1.,  0.,  0.,  0.,  0.,  0.,  0.,  0.,  0.]),\n",
       "  array([39.,  1.,  0.,  0.,  0.,  0.,  0.,  0.,  0.,  0.]),\n",
       "  array([39.,  1.,  0.,  0.,  0.,  0.,  0.,  0.,  0.,  0.]),\n",
       "  array([38.,  1.,  1.,  0.,  0.,  0.,  0.,  0.,  0.,  0.]),\n",
       "  array([38.,  1.,  1.,  0.,  0.,  0.,  0.,  0.,  0.,  0.]),\n",
       "  array([37.,  1.,  2.,  0.,  0.,  0.,  0.,  0.,  0.,  0.]),\n",
       "  array([38.,  1.,  1.,  0.,  0.,  0.,  0.,  0.,  0.,  0.]),\n",
       "  array([38.,  1.,  1.,  0.,  0.,  0.,  0.,  0.,  0.,  0.]),\n",
       "  array([38.,  1.,  1.,  0.,  0.,  0.,  0.,  0.,  0.,  0.]),\n",
       "  array([39.,  0.,  1.,  0.,  0.,  0.,  0.,  0.,  0.,  0.]),\n",
       "  array([38.,  2.,  0.,  0.,  0.,  0.,  0.,  0.,  0.,  0.]),\n",
       "  array([38.,  1.,  1.,  0.,  0.,  0.,  0.,  0.,  0.,  0.]),\n",
       "  array([38.,  0.,  2.,  0.,  0.,  0.,  0.,  0.,  0.,  0.]),\n",
       "  array([38.,  0.,  2.,  0.,  0.,  0.,  0.,  0.,  0.,  0.]),\n",
       "  array([38.,  1.,  1.,  0.,  0.,  0.,  0.,  0.,  0.,  0.]),\n",
       "  array([38.,  1.,  1.,  0.,  0.,  0.,  0.,  0.,  0.,  0.]),\n",
       "  array([38.,  1.,  1.,  0.,  0.,  0.,  0.,  0.,  0.,  0.]),\n",
       "  array([38.,  1.,  0.,  1.,  0.,  0.,  0.,  0.,  0.,  0.]),\n",
       "  array([38.,  1.,  0.,  1.,  0.,  0.,  0.,  0.,  0.,  0.]),\n",
       "  array([38.,  1.,  0.,  1.,  0.,  0.,  0.,  0.,  0.,  0.]),\n",
       "  array([38.,  1.,  0.,  1.,  0.,  0.,  0.,  0.,  0.,  0.]),\n",
       "  array([38.,  1.,  1.,  0.,  0.,  0.,  0.,  0.,  0.,  0.]),\n",
       "  array([39.,  0.,  1.,  0.,  0.,  0.,  0.,  0.,  0.,  0.]),\n",
       "  array([38.,  1.,  1.,  0.,  0.,  0.,  0.,  0.,  0.,  0.]),\n",
       "  array([38.,  1.,  1.,  0.,  0.,  0.,  0.,  0.,  0.,  0.]),\n",
       "  array([38.,  0.,  2.,  0.,  0.,  0.,  0.,  0.,  0.,  0.]),\n",
       "  array([38.,  0.,  1.,  1.,  0.,  0.,  0.,  0.,  0.,  0.]),\n",
       "  array([38.,  0.,  2.,  0.,  0.,  0.,  0.,  0.,  0.,  0.]),\n",
       "  array([38.,  1.,  1.,  0.,  0.,  0.,  0.,  0.,  0.,  0.]),\n",
       "  array([38.,  0.,  2.,  0.,  0.,  0.,  0.,  0.,  0.,  0.]),\n",
       "  array([35.,  3.,  1.,  1.,  0.,  0.,  0.,  0.,  0.,  0.]),\n",
       "  array([37.,  1.,  1.,  1.,  0.,  0.,  0.,  0.,  0.,  0.]),\n",
       "  array([38.,  1.,  1.,  0.,  0.,  0.,  0.,  0.,  0.,  0.]),\n",
       "  array([37.,  1.,  2.,  0.,  0.,  0.,  0.,  0.,  0.,  0.]),\n",
       "  array([36.,  2.,  1.,  1.,  0.,  0.,  0.,  0.,  0.,  0.]),\n",
       "  array([36.,  3.,  1.,  0.,  0.,  0.,  0.,  0.,  0.,  0.]),\n",
       "  array([37.,  2.,  1.,  0.,  0.,  0.,  0.,  0.,  0.,  0.]),\n",
       "  array([35.,  3.,  1.,  1.,  0.,  0.,  0.,  0.,  0.,  0.]),\n",
       "  array([36.,  1.,  2.,  1.,  0.,  0.,  0.,  0.,  0.,  0.]),\n",
       "  array([35.,  4.,  1.,  0.,  0.,  0.,  0.,  0.,  0.,  0.]),\n",
       "  array([31.,  8.,  0.,  1.,  0.,  0.,  0.,  0.,  0.,  0.]),\n",
       "  array([30.,  8.,  1.,  1.,  0.,  0.,  0.,  0.,  0.,  0.]),\n",
       "  array([33.,  5.,  1.,  1.,  0.,  0.,  0.,  0.,  0.,  0.]),\n",
       "  array([35.,  2.,  3.,  0.,  0.,  0.,  0.,  0.,  0.,  0.]),\n",
       "  array([30.,  8.,  1.,  1.,  0.,  0.,  0.,  0.,  0.,  0.]),\n",
       "  array([33.,  4.,  2.,  1.,  0.,  0.,  0.,  0.,  0.,  0.]),\n",
       "  array([36.,  2.,  1.,  1.,  0.,  0.,  0.,  0.,  0.,  0.]),\n",
       "  array([33.,  5.,  1.,  1.,  0.,  0.,  0.,  0.,  0.,  0.]),\n",
       "  array([32.,  6.,  1.,  1.,  0.,  0.,  0.,  0.,  0.,  0.]),\n",
       "  array([35.,  4.,  0.,  0.,  1.,  0.,  0.,  0.,  0.,  0.]),\n",
       "  array([31.,  7.,  1.,  0.,  1.,  0.,  0.,  0.,  0.,  0.]),\n",
       "  array([31.,  5.,  3.,  1.,  0.,  0.,  0.,  0.,  0.,  0.]),\n",
       "  array([31.,  7.,  1.,  1.,  0.,  0.,  0.,  0.,  0.,  0.]),\n",
       "  array([29.,  8.,  2.,  1.,  0.,  0.,  0.,  0.,  0.,  0.]),\n",
       "  array([29., 10.,  0.,  1.,  0.,  0.,  0.,  0.,  0.,  0.]),\n",
       "  array([29., 10.,  1.,  0.,  0.,  0.,  0.,  0.,  0.,  0.]),\n",
       "  array([28., 10.,  2.,  0.,  0.,  0.,  0.,  0.,  0.,  0.]),\n",
       "  array([27.,  8.,  5.,  0.,  0.,  0.,  0.,  0.,  0.,  0.]),\n",
       "  array([25., 10.,  5.,  0.,  0.,  0.,  0.,  0.,  0.,  0.]),\n",
       "  array([26.,  9.,  2.,  3.,  0.,  0.,  0.,  0.,  0.,  0.]),\n",
       "  array([21.,  8.,  9.,  2.,  0.,  0.,  0.,  0.,  0.,  0.]),\n",
       "  array([22.,  6.,  8.,  4.,  0.,  0.,  0.,  0.,  0.,  0.]),\n",
       "  array([22.,  3.,  7.,  8.,  0.,  0.,  0.,  0.,  0.,  0.]),\n",
       "  array([18.,  6.,  6., 10.,  0.,  0.,  0.,  0.,  0.,  0.]),\n",
       "  array([18.,  6.,  5.,  8.,  3.,  0.,  0.,  0.,  0.,  0.]),\n",
       "  array([15.,  8.,  4., 10.,  3.,  0.,  0.,  0.,  0.,  0.]),\n",
       "  array([12., 10.,  7.,  6.,  5.,  0.,  0.,  0.,  0.,  0.]),\n",
       "  array([14.,  8.,  7.,  6.,  5.,  0.,  0.,  0.,  0.,  0.]),\n",
       "  array([13.,  7.,  9.,  6.,  5.,  0.,  0.,  0.,  0.,  0.]),\n",
       "  array([14.,  4., 10.,  7.,  4.,  1.,  0.,  0.,  0.,  0.]),\n",
       "  array([13.,  5., 11.,  5.,  5.,  1.,  0.,  0.,  0.,  0.]),\n",
       "  array([13.,  5.,  9.,  9.,  4.,  0.,  0.,  0.,  0.,  0.]),\n",
       "  array([13.,  6.,  9.,  8.,  4.,  0.,  0.,  0.,  0.,  0.]),\n",
       "  array([14.,  5., 10.,  7.,  4.,  0.,  0.,  0.,  0.,  0.]),\n",
       "  array([14.,  5.,  9.,  7.,  4.,  1.,  0.,  0.,  0.,  0.]),\n",
       "  array([12.,  6., 10.,  7.,  5.,  0.,  0.,  0.,  0.,  0.]),\n",
       "  array([12.,  5.,  9.,  9.,  5.,  0.,  0.,  0.,  0.,  0.]),\n",
       "  array([12.,  5.,  9., 11.,  3.,  0.,  0.,  0.,  0.,  0.]),\n",
       "  array([11.,  8.,  9.,  9.,  3.,  0.,  0.,  0.,  0.,  0.]),\n",
       "  array([10.,  8., 10.,  8.,  4.,  0.,  0.,  0.,  0.,  0.]),\n",
       "  array([12.,  5., 11.,  7.,  5.,  0.,  0.,  0.,  0.,  0.]),\n",
       "  array([13.,  5., 10.,  6.,  5.,  1.,  0.,  0.,  0.,  0.]),\n",
       "  array([13.,  5., 11.,  6.,  5.,  0.,  0.,  0.,  0.,  0.]),\n",
       "  array([11.,  5.,  9., 11.,  4.,  0.,  0.,  0.,  0.,  0.]),\n",
       "  array([11.,  6.,  7., 10.,  5.,  1.,  0.,  0.,  0.,  0.]),\n",
       "  array([10.,  7.,  5., 11.,  6.,  1.,  0.,  0.,  0.,  0.]),\n",
       "  array([9., 8., 7., 8., 6., 2., 0., 0., 0., 0.]),\n",
       "  array([10.,  6., 10.,  5.,  7.,  2.,  0.,  0.,  0.,  0.]),\n",
       "  array([ 9.,  5., 11.,  6.,  8.,  1.,  0.,  0.,  0.,  0.]),\n",
       "  array([8., 6., 9., 9., 7., 1., 0., 0., 0., 0.]),\n",
       "  array([ 9.,  6.,  8., 12.,  3.,  2.,  0.,  0.,  0.,  0.]),\n",
       "  array([10.,  5.,  7., 11.,  6.,  1.,  0.,  0.,  0.,  0.]),\n",
       "  array([12.,  3.,  7.,  9.,  7.,  2.,  0.,  0.,  0.,  0.]),\n",
       "  array([11.,  3., 11.,  7.,  6.,  2.,  0.,  0.,  0.,  0.]),\n",
       "  array([11.,  3., 11.,  9.,  4.,  2.,  0.,  0.,  0.,  0.]),\n",
       "  array([ 9.,  8.,  7., 10.,  4.,  2.,  0.,  0.,  0.,  0.]),\n",
       "  array([9., 5., 9., 9., 5., 3., 0., 0., 0., 0.]),\n",
       "  array([ 9.,  7.,  6., 10.,  5.,  3.,  0.,  0.,  0.,  0.]),\n",
       "  array([ 8.,  5.,  9., 12.,  2.,  4.,  0.,  0.,  0.,  0.]),\n",
       "  array([ 8.,  5.,  8., 12.,  3.,  4.,  0.,  0.,  0.,  0.]),\n",
       "  array([ 8.,  5., 12.,  9.,  2.,  4.,  0.,  0.,  0.,  0.]),\n",
       "  array([ 7.,  6., 13.,  8.,  2.,  4.,  0.,  0.,  0.,  0.]),\n",
       "  array([ 6.,  8., 12.,  7.,  3.,  4.,  0.,  0.,  0.,  0.]),\n",
       "  array([ 6.,  8., 11.,  8.,  3.,  4.,  0.,  0.,  0.,  0.]),\n",
       "  array([6., 8., 9., 9., 4., 4., 0., 0., 0., 0.]),\n",
       "  array([ 7.,  3.,  8., 14.,  4.,  4.,  0.,  0.,  0.,  0.]),\n",
       "  array([ 7.,  4.,  7., 10.,  6.,  5.,  1.,  0.,  0.,  0.]),\n",
       "  array([ 7.,  5.,  5.,  9., 10.,  3.,  1.,  0.,  0.,  0.]),\n",
       "  array([7., 5., 5., 9., 9., 4., 1., 0., 0., 0.]),\n",
       "  array([ 8.,  3.,  6.,  9., 10.,  3.,  1.,  0.,  0.,  0.]),\n",
       "  array([ 8.,  3.,  5.,  9., 11.,  3.,  1.,  0.,  0.,  0.]),\n",
       "  array([ 8.,  3.,  6.,  6., 12.,  2.,  3.,  0.,  0.,  0.]),\n",
       "  array([ 7.,  4.,  3.,  6., 14.,  3.,  3.,  0.,  0.,  0.]),\n",
       "  array([ 8.,  3.,  4.,  5., 15.,  3.,  2.,  0.,  0.,  0.]),\n",
       "  array([ 8.,  3.,  4.,  7., 14.,  2.,  2.,  0.,  0.,  0.]),\n",
       "  array([ 8.,  2.,  4., 10., 11.,  2.,  3.,  0.,  0.,  0.]),\n",
       "  array([ 8.,  2.,  5.,  7., 10.,  5.,  3.,  0.,  0.,  0.]),\n",
       "  array([7., 3., 5., 8., 8., 6., 3., 0., 0., 0.]),\n",
       "  array([7., 2., 7., 6., 9., 6., 3., 0., 0., 0.]),\n",
       "  array([ 6.,  3.,  6.,  7., 10.,  5.,  3.,  0.,  0.,  0.]),\n",
       "  array([7., 2., 7., 7., 7., 7., 3., 0., 0., 0.]),\n",
       "  array([7., 2., 7., 6., 8., 7., 3., 0., 0., 0.]),\n",
       "  array([ 7.,  4.,  6.,  3., 11.,  6.,  3.,  0.,  0.,  0.]),\n",
       "  array([6., 5., 6., 6., 8., 6., 3., 0., 0., 0.]),\n",
       "  array([7., 3., 7., 5., 9., 5., 4., 0., 0., 0.]),\n",
       "  array([8., 2., 6., 5., 8., 8., 3., 0., 0., 0.]),\n",
       "  array([8., 1., 4., 7., 8., 9., 3., 0., 0., 0.]),\n",
       "  array([ 8.,  1.,  4.,  7., 10.,  7.,  3.,  0.,  0.,  0.]),\n",
       "  array([ 7.,  2.,  4.,  6., 10.,  8.,  3.,  0.,  0.,  0.]),\n",
       "  array([ 6.,  2.,  5.,  6.,  9., 10.,  2.,  0.,  0.,  0.]),\n",
       "  array([6., 2., 4., 7., 7., 9., 5., 0., 0., 0.]),\n",
       "  array([ 7.,  2.,  4.,  7.,  5., 10.,  4.,  1.,  0.,  0.]),\n",
       "  array([7., 1., 6., 5., 7., 9., 4., 1., 0., 0.]),\n",
       "  array([ 7.,  1.,  5.,  6.,  6., 11.,  3.,  1.,  0.,  0.]),\n",
       "  array([ 7.,  1.,  4.,  6.,  7., 10.,  4.,  1.,  0.,  0.]),\n",
       "  array([ 7.,  1.,  5.,  6.,  7., 10.,  3.,  1.,  0.,  0.]),\n",
       "  array([ 7.,  1.,  4.,  7.,  6., 11.,  4.,  0.,  0.,  0.]),\n",
       "  array([ 7.,  1.,  1., 10., 10.,  8.,  3.,  0.,  0.,  0.]),\n",
       "  array([ 8.,  0.,  2., 10., 11.,  6.,  1.,  2.,  0.,  0.]),\n",
       "  array([ 8.,  0.,  3.,  8., 11.,  6.,  3.,  1.,  0.,  0.]),\n",
       "  array([ 7.,  1.,  2., 10., 10.,  7.,  2.,  1.,  0.,  0.]),\n",
       "  array([ 6.,  2.,  3., 11.,  8.,  8.,  1.,  1.,  0.,  0.]),\n",
       "  array([ 6.,  2.,  2.,  8., 12.,  5.,  3.,  2.,  0.,  0.]),\n",
       "  array([6., 1., 4., 8., 8., 8., 3., 2., 0., 0.]),\n",
       "  array([ 6.,  1.,  3.,  5., 10.,  8.,  5.,  2.,  0.,  0.]),\n",
       "  array([6., 1., 3., 3., 9., 8., 8., 2., 0., 0.]),\n",
       "  array([ 7.,  1.,  3.,  2.,  4., 13.,  8.,  2.,  0.,  0.]),\n",
       "  array([ 4.,  4.,  1.,  3.,  3., 11., 10.,  4.,  0.,  0.]),\n",
       "  array([ 3.,  5.,  2.,  2.,  4.,  9., 10.,  5.,  0.,  0.]),\n",
       "  array([ 2.,  6.,  1.,  3.,  4.,  8., 12.,  3.,  1.,  0.]),\n",
       "  array([ 2.,  6.,  1.,  5.,  2.,  7., 12.,  4.,  1.,  0.]),\n",
       "  array([ 3.,  5.,  2.,  4.,  3.,  7., 11.,  4.,  1.,  0.]),\n",
       "  array([ 1.,  7.,  2.,  4.,  1., 10.,  9.,  6.,  0.,  0.]),\n",
       "  array([ 3.,  5.,  2.,  4.,  3.,  9., 10.,  4.,  0.,  0.]),\n",
       "  array([4., 4., 3., 1., 5., 9., 9., 5., 0., 0.]),\n",
       "  array([ 3.,  5.,  3.,  1.,  3., 11.,  9.,  5.,  0.,  0.]),\n",
       "  array([2., 5., 3., 2., 4., 9., 8., 7., 0., 0.]),\n",
       "  array([1., 7., 1., 2., 6., 8., 8., 6., 1., 0.]),\n",
       "  array([2., 6., 0., 3., 4., 7., 9., 8., 1., 0.]),\n",
       "  array([ 2.,  5.,  1.,  3.,  4.,  8.,  6., 10.,  1.,  0.]),\n",
       "  array([0., 7., 1., 3., 3., 9., 7., 9., 1., 0.]),\n",
       "  array([ 1.,  6.,  1.,  3.,  3., 10.,  7.,  8.,  1.,  0.]),\n",
       "  array([ 1.,  6.,  1.,  3.,  5.,  7., 11.,  5.,  1.,  0.]),\n",
       "  array([ 1.,  5.,  2.,  4.,  2., 10.,  7.,  8.,  1.,  0.]),\n",
       "  array([ 1.,  5.,  2.,  3.,  3., 11.,  8.,  6.,  1.,  0.]),\n",
       "  array([1., 4., 3., 2., 5., 8., 9., 6., 2., 0.]),\n",
       "  array([1., 4., 3., 2., 7., 6., 7., 7., 3., 0.]),\n",
       "  array([ 0.,  5.,  3.,  2., 10.,  3.,  7.,  7.,  3.,  0.]),\n",
       "  array([0., 5., 3., 4., 5., 5., 8., 7., 3., 0.]),\n",
       "  array([0., 5., 3., 4., 6., 6., 5., 8., 3., 0.]),\n",
       "  array([1., 4., 2., 4., 7., 5., 8., 6., 3., 0.]),\n",
       "  array([1., 2., 5., 3., 6., 5., 9., 6., 3., 0.]),\n",
       "  array([2., 2., 4., 3., 4., 8., 8., 5., 4., 0.]),\n",
       "  array([1., 2., 4., 4., 4., 8., 6., 7., 4., 0.]),\n",
       "  array([1., 2., 4., 3., 5., 8., 5., 8., 4., 0.]),\n",
       "  array([1., 3., 4., 3., 4., 8., 9., 5., 3., 0.]),\n",
       "  array([1., 3., 4., 3., 4., 8., 8., 6., 3., 0.]),\n",
       "  array([1., 3., 5., 3., 3., 9., 8., 5., 3., 0.]),\n",
       "  array([1., 4., 4., 2., 3., 9., 8., 7., 2., 0.]),\n",
       "  array([ 1.,  5.,  2.,  3.,  8.,  3., 11.,  4.,  3.,  0.]),\n",
       "  array([2., 1., 5., 3., 6., 6., 8., 5., 4., 0.]),\n",
       "  array([1., 2., 6., 3., 3., 8., 9., 4., 4., 0.]),\n",
       "  array([0., 3., 6., 2., 2., 9., 7., 6., 4., 1.]),\n",
       "  array([0., 3., 6., 2., 4., 8., 6., 6., 4., 1.]),\n",
       "  array([1., 3., 4., 5., 1., 9., 6., 7., 4., 0.]),\n",
       "  array([1., 3., 4., 5., 2., 8., 7., 6., 4., 0.]),\n",
       "  array([1., 3., 5., 4., 1., 7., 9., 6., 4., 0.]),\n",
       "  array([ 0.,  4.,  3.,  6.,  0.,  9.,  5., 10.,  3.,  0.]),\n",
       "  array([0., 4., 5., 2., 2., 9., 5., 8., 4., 1.]),\n",
       "  array([2., 2., 5., 2., 2., 8., 6., 9., 3., 1.]),\n",
       "  array([1., 3., 5., 2., 4., 6., 8., 5., 5., 1.]),\n",
       "  array([1., 2., 6., 1., 6., 6., 7., 4., 6., 1.]),\n",
       "  array([0., 3., 6., 2., 3., 6., 7., 7., 5., 1.]),\n",
       "  array([0., 3., 6., 2., 4., 7., 7., 5., 5., 1.]),\n",
       "  array([1., 2., 6., 2., 2., 8., 7., 7., 3., 2.]),\n",
       "  array([1., 3., 4., 3., 1., 8., 8., 6., 4., 2.]),\n",
       "  array([1., 4., 3., 3., 2., 8., 6., 8., 3., 2.]),\n",
       "  array([0., 3., 5., 2., 3., 9., 5., 7., 4., 2.]),\n",
       "  array([0., 5., 3., 2., 3., 7., 7., 6., 5., 2.]),\n",
       "  array([0., 4., 3., 4., 2., 7., 5., 8., 5., 2.]),\n",
       "  array([0., 3., 4., 4., 2., 8., 6., 8., 4., 1.]),\n",
       "  array([0., 3., 5., 2., 2., 8., 9., 4., 5., 2.]),\n",
       "  array([0., 3., 3., 4., 3., 7., 7., 8., 3., 2.]),\n",
       "  array([1., 3., 3., 2., 4., 8., 6., 5., 6., 2.]),\n",
       "  array([0., 4., 3., 2., 4., 8., 8., 3., 6., 2.]),\n",
       "  array([0., 3., 4., 4., 2., 8., 7., 7., 3., 2.]),\n",
       "  array([ 1.,  3.,  3.,  2.,  4.,  6.,  5., 10.,  4.,  2.]),\n",
       "  array([ 1.,  4.,  2.,  2.,  4.,  6.,  6., 10.,  3.,  2.]),\n",
       "  array([1., 4., 2., 3., 3., 7., 7., 7., 5., 1.]),\n",
       "  array([0., 3., 4., 4., 3., 7., 4., 9., 4., 2.]),\n",
       "  array([0., 4., 4., 3., 4., 7., 6., 5., 6., 1.]),\n",
       "  array([1., 3., 3., 3., 4., 6., 9., 4., 5., 2.]),\n",
       "  array([1., 3., 3., 3., 3., 7., 7., 6., 5., 2.]),\n",
       "  array([1., 4., 2., 2., 3., 8., 5., 7., 7., 1.]),\n",
       "  array([ 0.,  4.,  3.,  4.,  2.,  8.,  4., 10.,  5.,  0.]),\n",
       "  array([ 0.,  4.,  5.,  2.,  3.,  8.,  3., 10.,  5.,  0.]),\n",
       "  array([0., 3., 6., 2., 3., 8., 7., 6., 4., 1.]),\n",
       "  array([0., 3., 4., 3., 4., 6., 8., 6., 4., 2.]),\n",
       "  array([0., 3., 4., 3., 3., 7., 8., 6., 4., 2.]),\n",
       "  array([ 0.,  3.,  5.,  3.,  1.,  9., 10.,  4.,  3.,  2.]),\n",
       "  array([0., 3., 4., 3., 2., 8., 8., 7., 3., 2.]),\n",
       "  array([0., 3., 4., 3., 2., 9., 6., 7., 4., 2.]),\n",
       "  array([0., 3., 5., 0., 4., 9., 4., 8., 5., 2.]),\n",
       "  array([0., 3., 5., 1., 3., 8., 8., 5., 4., 3.]),\n",
       "  array([1., 2., 5., 3., 2., 8., 6., 8., 3., 2.]),\n",
       "  array([0., 3., 6., 2., 2., 8., 6., 8., 2., 3.]),\n",
       "  array([0., 3., 4., 4., 2., 6., 9., 2., 7., 3.]),\n",
       "  array([0., 3., 3., 5., 2., 8., 7., 4., 8., 0.]),\n",
       "  array([ 1.,  2.,  4.,  4.,  1., 10.,  6.,  6.,  5.,  1.]),\n",
       "  array([1., 2., 4., 3., 1., 8., 7., 6., 6., 2.]),\n",
       "  array([0., 4., 2., 4., 2., 6., 8., 7., 5., 2.]),\n",
       "  array([ 1.,  3.,  3.,  4.,  3.,  4.,  5., 11.,  4.,  2.]),\n",
       "  array([0., 4., 3., 3., 2., 6., 6., 9., 7., 0.]),\n",
       "  array([1., 2., 4., 3., 2., 7., 6., 5., 9., 1.]),\n",
       "  array([1., 1., 5., 2., 2., 8., 6., 6., 8., 1.]),\n",
       "  array([0., 2., 6., 0., 4., 6., 6., 9., 7., 0.]),\n",
       "  array([ 0.,  3.,  5.,  0.,  5.,  6.,  5., 11.,  5.,  0.]),\n",
       "  array([0., 3., 5., 3., 2., 7., 5., 8., 7., 0.]),\n",
       "  array([ 0.,  3.,  4.,  3.,  4.,  6.,  5., 10.,  4.,  1.]),\n",
       "  array([0., 3., 4., 2., 4., 4., 9., 6., 6., 2.]),\n",
       "  array([0., 5., 1., 3., 2., 8., 7., 4., 8., 2.]),\n",
       "  array([0., 2., 5., 2., 2., 7., 9., 3., 7., 3.]),\n",
       "  array([ 0.,  2.,  5.,  3.,  1.,  4., 13.,  4.,  6.,  2.]),\n",
       "  array([0., 1., 5., 3., 3., 6., 8., 5., 8., 1.]),\n",
       "  array([ 1.,  2.,  3.,  3.,  3.,  8.,  5.,  5., 10.,  0.]),\n",
       "  array([1., 2., 3., 3., 3., 7., 7., 4., 8., 2.]),\n",
       "  array([1., 2., 3., 3., 3., 6., 6., 8., 5., 3.]),\n",
       "  array([ 1.,  2.,  3.,  3.,  2.,  8.,  5.,  4., 10.,  2.]),\n",
       "  array([0., 2., 4., 3., 4., 8., 3., 5., 8., 3.]),\n",
       "  array([1., 1., 4., 4., 3., 5., 6., 9., 3., 4.]),\n",
       "  array([1., 0., 5., 2., 4., 5., 5., 8., 6., 4.]),\n",
       "  array([0., 2., 4., 2., 4., 6., 6., 6., 7., 3.]),\n",
       "  array([ 0.,  3.,  3.,  4.,  4.,  6.,  2., 10.,  4.,  4.]),\n",
       "  array([0., 2., 4., 4., 3., 8., 2., 7., 7., 3.]),\n",
       "  array([0., 2., 5., 4., 2., 7., 3., 6., 8., 3.]),\n",
       "  array([0., 2., 4., 5., 3., 7., 4., 8., 6., 1.]),\n",
       "  array([0., 2., 4., 4., 3., 5., 6., 9., 4., 3.]),\n",
       "  array([0., 2., 4., 4., 4., 5., 5., 7., 5., 4.]),\n",
       "  array([ 0.,  2.,  5.,  3.,  3.,  3.,  7.,  4., 10.,  3.]),\n",
       "  array([ 0.,  2.,  5.,  3.,  3.,  3.,  6.,  4., 11.,  3.]),\n",
       "  array([0., 2., 4., 3., 4., 1., 8., 8., 8., 2.]),\n",
       "  array([1., 2., 4., 3., 3., 2., 9., 8., 5., 3.]),\n",
       "  array([1., 3., 3., 1., 5., 4., 6., 9., 5., 3.]),\n",
       "  array([0., 3., 4., 3., 1., 5., 6., 7., 9., 2.]),\n",
       "  array([0., 2., 5., 3., 2., 5., 5., 6., 9., 3.]),\n",
       "  array([0., 3., 4., 2., 3., 4., 7., 8., 7., 2.]),\n",
       "  array([0., 2., 5., 2., 4., 4., 8., 4., 9., 2.]),\n",
       "  array([1., 1., 5., 3., 3., 4., 6., 8., 6., 3.]),\n",
       "  array([ 1.,  2.,  4.,  3.,  2.,  5.,  5., 11.,  4.,  3.]),\n",
       "  array([ 0.,  4.,  4.,  1.,  3.,  5.,  5., 10.,  6.,  2.]),\n",
       "  array([1., 1., 6., 0., 4., 6., 4., 9., 7., 2.]),\n",
       "  array([1., 3., 4., 0., 4., 6., 5., 8., 6., 3.]),\n",
       "  array([0., 4., 4., 1., 4., 5., 5., 8., 7., 2.]),\n",
       "  array([ 0.,  3.,  5.,  1.,  4.,  4.,  5., 10.,  6.,  2.]),\n",
       "  array([1., 4., 3., 1., 4., 4., 7., 7., 7., 2.]),\n",
       "  array([1., 4., 2., 2., 4., 5., 5., 7., 8., 2.]),\n",
       "  array([0., 3., 4., 2., 4., 4., 6., 9., 6., 2.]),\n",
       "  array([0., 2., 5., 3., 3., 4., 7., 8., 6., 2.]),\n",
       "  array([1., 2., 4., 3., 3., 3., 8., 6., 7., 3.]),\n",
       "  array([1., 3., 4., 2., 3., 2., 8., 6., 8., 3.]),\n",
       "  array([1., 3., 4., 2., 2., 3., 9., 6., 6., 4.]),\n",
       "  array([0., 3., 4., 3., 2., 7., 4., 5., 9., 3.]),\n",
       "  array([ 0.,  3.,  4.,  3.,  1.,  8.,  6.,  2., 11.,  2.]),\n",
       "  array([ 1.,  2.,  6.,  1.,  2.,  7.,  5.,  2., 13.,  1.]),\n",
       "  array([1., 2., 4., 3., 3., 6., 5., 3., 9., 4.]),\n",
       "  array([1., 2., 3., 4., 3., 6., 5., 6., 6., 4.]),\n",
       "  array([0., 3., 4., 3., 4., 3., 7., 7., 7., 2.]),\n",
       "  array([ 0.,  4.,  4.,  2.,  4.,  5.,  6.,  3., 12.,  0.]),\n",
       "  array([ 0.,  4.,  5.,  1.,  4.,  2.,  7.,  5., 12.,  0.]),\n",
       "  array([0., 3., 6., 2., 2., 4., 6., 6., 9., 2.]),\n",
       "  array([0., 4., 5., 2., 2., 4., 5., 7., 8., 3.]),\n",
       "  array([ 0.,  3.,  6.,  2.,  2.,  6.,  2.,  6., 11.,  2.]),\n",
       "  array([ 0.,  4.,  5.,  1.,  2.,  7.,  4.,  5., 11.,  1.]),\n",
       "  array([ 0.,  2.,  7.,  1.,  3.,  4.,  6.,  4., 12.,  1.]),\n",
       "  array([0., 3., 6., 1., 3., 7., 4., 4., 8., 4.]),\n",
       "  array([0., 3., 6., 1., 3., 6., 5., 3., 9., 4.]),\n",
       "  array([0., 3., 5., 2., 3., 4., 6., 7., 6., 4.]),\n",
       "  array([0., 3., 5., 2., 2., 4., 8., 8., 6., 2.]),\n",
       "  array([ 0.,  5.,  3.,  2.,  3.,  4.,  5., 11.,  5.,  2.]),\n",
       "  array([ 0.,  5.,  3.,  2.,  4.,  4.,  4., 11.,  5.,  2.]),\n",
       "  array([0., 4., 5., 1., 4., 4., 5., 8., 7., 2.]),\n",
       "  array([0., 5., 4., 0., 6., 5., 4., 7., 8., 1.]),\n",
       "  array([1., 3., 5., 0., 5., 5., 5., 8., 5., 3.]),\n",
       "  array([0., 5., 4., 0., 5., 4., 6., 6., 9., 1.]),\n",
       "  array([0., 4., 4., 1., 4., 5., 6., 5., 8., 3.]),\n",
       "  array([0., 5., 3., 2., 3., 5., 4., 9., 8., 1.]),\n",
       "  array([0., 5., 3., 3., 2., 5., 5., 8., 8., 1.]),\n",
       "  array([ 0.,  5.,  3.,  3.,  3.,  4.,  5.,  4., 10.,  3.]),\n",
       "  array([ 1.,  5.,  3.,  2.,  2.,  6.,  4.,  5., 10.,  2.]),\n",
       "  array([ 1.,  5.,  3.,  2.,  3.,  1.,  8.,  4., 11.,  2.]),\n",
       "  array([2., 4., 3., 1., 3., 1., 8., 7., 6., 5.]),\n",
       "  array([0., 5., 4., 1., 3., 2., 9., 2., 8., 6.]),\n",
       "  array([0., 4., 4., 2., 3., 2., 9., 3., 7., 6.]),\n",
       "  array([ 0.,  4.,  5.,  2.,  3.,  3.,  7.,  2., 13.,  1.]),\n",
       "  array([ 0.,  3.,  5.,  3.,  2.,  6.,  5.,  3., 12.,  1.]),\n",
       "  array([ 0.,  3.,  5.,  3.,  3.,  3.,  6.,  5., 11.,  1.]),\n",
       "  array([ 0.,  5.,  2.,  4.,  3.,  5.,  4.,  5., 11.,  1.]),\n",
       "  array([0., 4., 3., 4., 2., 4., 6., 6., 6., 5.]),\n",
       "  array([ 0.,  3.,  4.,  4.,  3.,  3.,  6.,  4., 11.,  2.]),\n",
       "  array([ 0.,  3.,  4.,  3.,  3.,  5.,  5.,  3., 13.,  1.]),\n",
       "  array([ 0.,  4.,  3.,  3.,  2.,  5.,  6.,  2., 12.,  3.]),\n",
       "  array([ 0.,  4.,  3.,  4.,  2.,  3.,  7.,  5., 11.,  1.]),\n",
       "  array([ 0.,  3.,  4.,  4.,  1.,  5.,  6.,  2., 14.,  1.]),\n",
       "  array([ 0.,  4.,  3.,  4.,  1.,  5.,  6.,  4., 10.,  3.]),\n",
       "  array([ 0.,  4.,  3.,  4.,  1.,  4.,  6.,  4., 12.,  2.]),\n",
       "  array([ 0.,  3.,  5.,  2.,  3.,  5.,  4.,  5., 12.,  1.]),\n",
       "  array([ 0.,  4.,  4.,  2.,  3.,  5.,  5.,  5., 12.,  0.]),\n",
       "  array([ 0.,  4.,  4.,  2.,  4.,  2.,  6.,  4., 11.,  3.]),\n",
       "  array([ 0.,  4.,  4.,  0.,  4.,  3.,  8.,  4., 10.,  3.]),\n",
       "  array([ 0.,  3.,  5.,  0.,  5.,  3.,  8.,  2., 10.,  4.]),\n",
       "  array([0., 4., 4., 0., 5., 4., 7., 5., 6., 5.]),\n",
       "  array([0., 1., 7., 0., 5., 1., 9., 7., 7., 3.]),\n",
       "  array([0., 1., 7., 1., 4., 1., 9., 5., 7., 5.]),\n",
       "  array([ 0.,  3.,  5.,  1.,  4.,  1.,  9.,  4., 10.,  3.]),\n",
       "  array([ 0.,  3.,  5.,  2.,  3.,  3.,  6.,  4., 11.,  3.]),\n",
       "  array([ 0.,  3.,  5.,  2.,  3.,  4.,  5.,  4., 11.,  3.]),\n",
       "  array([ 0.,  3.,  5.,  1.,  3.,  6.,  5.,  2., 10.,  5.]),\n",
       "  array([ 0.,  6.,  2.,  1.,  2.,  7.,  5.,  2., 11.,  4.]),\n",
       "  array([ 0.,  3.,  5.,  0.,  3.,  5.,  8.,  1., 12.,  3.]),\n",
       "  array([0., 2., 6., 0., 4., 5., 6., 4., 9., 4.]),\n",
       "  array([ 0.,  3.,  4.,  1.,  2.,  7.,  6.,  3., 10.,  4.]),\n",
       "  array([ 0.,  1.,  6.,  1.,  2.,  6.,  7.,  4., 10.,  3.]),\n",
       "  array([ 0.,  2.,  5.,  1.,  2.,  5.,  8.,  3., 12.,  2.]),\n",
       "  array([ 0.,  3.,  4.,  1.,  2.,  4.,  8.,  1., 13.,  4.]),\n",
       "  array([0., 2., 5., 1., 2., 4., 6., 9., 6., 5.]),\n",
       "  array([0., 3., 4., 1., 1., 7., 7., 6., 7., 4.]),\n",
       "  array([0., 4., 3., 1., 2., 5., 7., 6., 9., 3.]),\n",
       "  array([0., 2., 6., 0., 2., 5., 5., 8., 9., 3.]),\n",
       "  array([ 0.,  1.,  6.,  1.,  2.,  4.,  8.,  5., 10.,  3.]),\n",
       "  array([ 0.,  1.,  7.,  0.,  2.,  4.,  7.,  6., 11.,  2.]),\n",
       "  array([0., 2., 5., 1., 3., 4., 5., 9., 9., 2.]),\n",
       "  array([ 0.,  3.,  4.,  1.,  3.,  4.,  6.,  8., 10.,  1.]),\n",
       "  array([0., 3., 5., 0., 5., 2., 7., 9., 6., 3.]),\n",
       "  array([0., 2., 5., 1., 5., 3., 5., 7., 9., 3.]),\n",
       "  array([ 0.,  3.,  5.,  1.,  2.,  5.,  6.,  3., 11.,  4.]),\n",
       "  array([ 0.,  3.,  5.,  1.,  2.,  2.,  8.,  6., 10.,  3.]),\n",
       "  array([0., 4., 4., 1., 2., 3., 6., 7., 8., 5.]),\n",
       "  array([0., 4., 4., 0., 3., 3., 9., 4., 9., 4.]),\n",
       "  array([0., 5., 3., 0., 4., 4., 7., 4., 8., 5.]),\n",
       "  array([0., 5., 3., 0., 4., 3., 8., 6., 9., 2.]),\n",
       "  array([0., 5., 3., 0., 3., 4., 8., 7., 9., 1.]),\n",
       "  array([0., 4., 4., 1., 2., 3., 8., 7., 8., 3.]),\n",
       "  array([0., 4., 4., 1., 2., 3., 8., 7., 7., 4.]),\n",
       "  array([0., 4., 4., 1., 2., 4., 8., 8., 5., 4.]),\n",
       "  array([ 0.,  4.,  4.,  1.,  3.,  5.,  5., 10.,  6.,  2.]),\n",
       "  array([ 0.,  4.,  4.,  1.,  4.,  2.,  7.,  6., 11.,  1.]),\n",
       "  array([0., 3., 5., 1., 4., 2., 8., 8., 8., 1.]),\n",
       "  array([ 0.,  4.,  4.,  1.,  4.,  4.,  5.,  6., 11.,  1.]),\n",
       "  array([0., 6., 1., 3., 3., 2., 8., 7., 9., 1.]),\n",
       "  array([0., 6., 2., 3., 2., 1., 8., 9., 8., 1.]),\n",
       "  array([0., 7., 1., 2., 3., 2., 7., 9., 7., 2.]),\n",
       "  array([ 1.,  6.,  1.,  2.,  2.,  4.,  6.,  5., 11.,  2.]),\n",
       "  array([ 1.,  6.,  1.,  2.,  2.,  8.,  2.,  4., 12.,  2.]),\n",
       "  array([ 1.,  6.,  1.,  2.,  3.,  5.,  5.,  5., 11.,  1.]),\n",
       "  array([ 1.,  6.,  1.,  2.,  3.,  5.,  4.,  7., 10.,  1.]),\n",
       "  array([1., 5., 2., 1., 5., 5., 4., 7., 8., 2.]),\n",
       "  array([1., 5., 2., 1., 5., 6., 2., 8., 9., 1.]),\n",
       "  array([2., 5., 1., 1., 4., 7., 3., 9., 7., 1.]),\n",
       "  array([ 2.,  5.,  1.,  2.,  4.,  6.,  3., 11.,  6.,  0.]),\n",
       "  array([ 2.,  5.,  1.,  3.,  1.,  6.,  5., 11.,  6.,  0.]),\n",
       "  array([2., 5., 1., 3., 1., 6., 6., 8., 8., 0.]),\n",
       "  array([2., 6., 0., 2., 3., 7., 2., 9., 9., 0.]),\n",
       "  array([ 0.,  7.,  1.,  1.,  5.,  5.,  2., 12.,  5.,  2.]),\n",
       "  array([0., 8., 0., 1., 4., 6., 5., 9., 6., 1.]),\n",
       "  array([1., 6., 1., 1., 4., 6., 5., 9., 6., 1.]),\n",
       "  array([ 3.,  4.,  1.,  1.,  4.,  6.,  4., 12.,  3.,  2.]),\n",
       "  array([3., 4., 1., 2., 2., 6., 6., 9., 6., 1.]),\n",
       "  array([ 3.,  4.,  1.,  1.,  4.,  5.,  4., 11.,  5.,  2.]),\n",
       "  array([3., 4., 1., 1., 5., 5., 4., 7., 9., 1.]),\n",
       "  array([ 4.,  4.,  0.,  3.,  3.,  4.,  4., 11.,  7.,  0.]),\n",
       "  array([ 4.,  4.,  0.,  3.,  3.,  4.,  5., 11.,  6.,  0.]),\n",
       "  array([ 4.,  4.,  0.,  3.,  3.,  4.,  6., 10.,  6.,  0.]),\n",
       "  array([3., 5., 0., 3., 4., 4., 4., 9., 7., 1.]),\n",
       "  array([4., 4., 0., 1., 7., 5., 3., 8., 7., 1.]),\n",
       "  array([ 5.,  3.,  0.,  2.,  5.,  5.,  4., 13.,  2.,  1.]),\n",
       "  array([ 5.,  2.,  1.,  2.,  5.,  6.,  1., 15.,  3.,  0.]),\n",
       "  array([4., 4., 0., 2., 4., 7., 2., 9., 8., 0.]),\n",
       "  array([4., 3., 1., 2., 3., 6., 5., 6., 9., 1.]),\n",
       "  array([ 2.,  5.,  1.,  2.,  4.,  4.,  5.,  4., 13.,  0.]),\n",
       "  array([5., 3., 0., 2., 5., 4., 5., 8., 8., 0.]),\n",
       "  array([4., 4., 0., 3., 3., 6., 4., 9., 7., 0.]),\n",
       "  array([2., 6., 0., 3., 6., 3., 4., 9., 4., 3.]),\n",
       "  array([4., 3., 1., 2., 7., 4., 4., 6., 7., 2.]),\n",
       "  array([ 4.,  3.,  1.,  2.,  6.,  6.,  2., 10.,  6.,  0.]),\n",
       "  array([ 4.,  3.,  1.,  3.,  4.,  7.,  2., 10.,  5.,  1.]),\n",
       "  array([4., 4., 0., 3., 4., 7., 3., 8., 5., 2.]),\n",
       "  array([4., 3., 2., 4., 2., 7., 4., 6., 8., 0.]),\n",
       "  array([3., 4., 1., 4., 5., 5., 4., 7., 7., 0.]),\n",
       "  array([3., 5., 0., 4., 4., 6., 2., 9., 7., 0.]),\n",
       "  array([ 2.,  6.,  1.,  4.,  2.,  6.,  3., 14.,  2.,  0.]),\n",
       "  array([ 3.,  5.,  1.,  2.,  3.,  8.,  4., 12.,  2.,  0.]),\n",
       "  array([ 6.,  2.,  0.,  4.,  3.,  7.,  5., 10.,  3.,  0.]),\n",
       "  array([ 3.,  4.,  2.,  4.,  1.,  5.,  6., 11.,  4.,  0.]),\n",
       "  array([ 4.,  4.,  1.,  5.,  0.,  6.,  6., 10.,  4.,  0.]),\n",
       "  array([ 3.,  5.,  1.,  4.,  2.,  6.,  4., 12.,  3.,  0.]),\n",
       "  array([3., 5., 0., 5., 2., 8., 6., 7., 3., 1.]),\n",
       "  array([6., 2., 2., 3., 4., 5., 6., 6., 6., 0.]),\n",
       "  array([ 4.,  4.,  1.,  4.,  4.,  5.,  4., 10.,  4.,  0.]),\n",
       "  array([ 4.,  4.,  2.,  3.,  2.,  7.,  4., 10.,  4.,  0.]),\n",
       "  array([ 3.,  5.,  2.,  3.,  1.,  7.,  2., 12.,  5.,  0.]),\n",
       "  array([ 3.,  5.,  2.,  3.,  2.,  7.,  3., 11.,  4.,  0.]),\n",
       "  array([3., 5., 1., 4., 3., 7., 6., 7., 4., 0.]),\n",
       "  array([ 4.,  4.,  1.,  4.,  3.,  6.,  6., 10.,  2.,  0.]),\n",
       "  array([3., 5., 1., 4., 4., 4., 8., 8., 3., 0.]),\n",
       "  array([ 4.,  4.,  2.,  3.,  4.,  6., 10.,  5.,  2.,  0.]),\n",
       "  array([ 4.,  4.,  2.,  4.,  4.,  5., 10.,  6.,  1.,  0.]),\n",
       "  array([5., 3., 2., 3., 7., 2., 8., 9., 1., 0.]),\n",
       "  array([ 5.,  3.,  3.,  2.,  8.,  1.,  6., 11.,  1.,  0.]),\n",
       "  array([ 4.,  3.,  2.,  5.,  4.,  4.,  7., 10.,  1.,  0.]),\n",
       "  array([ 4.,  4.,  1.,  3.,  3.,  6., 11.,  8.,  0.,  0.]),\n",
       "  array([ 3.,  5.,  1.,  4.,  4.,  6.,  6., 10.,  1.,  0.]),\n",
       "  array([ 3.,  5.,  1.,  4.,  6.,  5.,  5., 10.,  1.,  0.]),\n",
       "  array([4., 4., 1., 4., 7., 2., 8., 9., 1., 0.]),\n",
       "  array([5., 3., 2., 4., 5., 3., 7., 9., 2., 0.]),\n",
       "  array([ 6.,  2.,  2.,  4.,  5.,  4.,  7., 10.,  0.,  0.]),\n",
       "  array([6., 2., 2., 4., 4., 4., 9., 7., 2., 0.]),\n",
       "  array([5., 3., 1., 3., 5., 4., 9., 7., 3., 0.]),\n",
       "  array([ 4.,  4.,  1.,  4.,  4.,  4.,  4., 12.,  3.,  0.]),\n",
       "  array([ 5.,  2.,  2.,  4.,  2.,  7.,  4., 11.,  2.,  1.]),\n",
       "  array([ 4.,  3.,  2.,  4.,  3.,  3., 10.,  8.,  2.,  1.]),\n",
       "  array([2., 5., 2., 3., 2., 8., 8., 7., 1., 2.]),\n",
       "  array([ 1.,  6.,  1.,  5.,  1.,  5., 10.,  7.,  4.,  0.]),\n",
       "  array([ 1.,  6.,  1.,  5.,  3.,  5.,  6., 11.,  2.,  0.]),\n",
       "  array([0., 7., 1., 5., 1., 7., 9., 8., 2., 0.]),\n",
       "  array([2., 4., 2., 5., 2., 9., 6., 9., 1., 0.]),\n",
       "  array([1., 6., 1., 5., 6., 5., 9., 5., 2., 0.]),\n",
       "  array([2., 5., 2., 4., 3., 7., 8., 7., 2., 0.]),\n",
       "  array([ 4.,  4.,  1.,  4.,  3.,  5., 12.,  4.,  3.,  0.]),\n",
       "  array([2., 6., 0., 5., 4., 5., 8., 8., 2., 0.]),\n",
       "  array([3., 4., 2., 5., 3., 5., 8., 8., 2., 0.]),\n",
       "  array([4., 4., 4., 1., 4., 4., 8., 9., 2., 0.]),\n",
       "  array([2., 6., 4., 1., 4., 7., 7., 8., 1., 0.]),\n",
       "  array([ 3.,  4.,  5.,  1.,  3.,  7.,  5., 10.,  2.,  0.]),\n",
       "  array([ 3.,  4.,  3.,  3.,  3.,  5., 10.,  5.,  4.,  0.]),\n",
       "  array([ 3.,  6.,  1.,  4.,  1.,  7., 11.,  4.,  3.,  0.]),\n",
       "  array([ 2.,  6.,  2.,  4.,  2.,  7., 11.,  2.,  3.,  1.]),\n",
       "  array([1., 8., 1., 4., 2., 8., 8., 4., 3., 1.]),\n",
       "  array([3., 6., 2., 3., 2., 8., 7., 4., 5., 0.]),\n",
       "  array([2., 7., 2., 3., 2., 9., 7., 5., 3., 0.]),\n",
       "  array([ 2.,  6.,  3.,  3.,  0., 13.,  6.,  4.,  3.,  0.]),\n",
       "  array([3., 5., 3., 3., 2., 8., 9., 4., 2., 1.]),\n",
       "  array([1., 7., 3., 3., 3., 7., 5., 7., 2., 2.]),\n",
       "  array([3., 5., 3., 3., 2., 9., 3., 9., 2., 1.]),\n",
       "  array([2., 6., 1., 5., 4., 7., 7., 5., 3., 0.]),\n",
       "  array([5., 2., 2., 5., 4., 8., 7., 4., 2., 1.]),\n",
       "  array([3., 6., 4., 1., 3., 7., 8., 5., 2., 1.]),\n",
       "  array([1., 7., 5., 1., 2., 9., 8., 4., 2., 1.]),\n",
       "  array([ 1.,  8.,  4.,  1.,  0., 11.,  7.,  4.,  4.,  0.]),\n",
       "  array([ 1.,  8.,  4.,  1.,  0., 12.,  7.,  3.,  4.,  0.]),\n",
       "  array([ 2.,  7.,  4.,  1.,  0.,  9., 10.,  4.,  3.,  0.]),\n",
       "  array([ 5.,  4.,  3.,  2.,  2.,  7., 10.,  4.,  3.,  0.]),\n",
       "  array([ 3.,  6.,  3.,  2.,  0., 11.,  6.,  4.,  5.,  0.]),\n",
       "  array([ 3.,  6.,  4.,  1.,  1., 10.,  7.,  4.,  4.,  0.]),\n",
       "  array([ 0.,  9.,  2.,  3.,  3., 11.,  4.,  5.,  3.,  0.]),\n",
       "  array([0., 9., 2., 3., 3., 9., 6., 6., 2., 0.]),\n",
       "  array([ 1.,  7.,  3.,  3.,  3.,  7., 11.,  3.,  2.,  0.]),\n",
       "  array([1., 7., 2., 4., 4., 6., 9., 6., 1., 0.]),\n",
       "  array([ 3.,  5.,  1.,  5.,  3., 11.,  5.,  4.,  3.,  0.]),\n",
       "  array([ 2.,  6.,  1.,  5.,  2., 14.,  3.,  3.,  4.,  0.]),\n",
       "  array([0., 8., 1., 5., 3., 7., 9., 3., 4., 0.]),\n",
       "  array([1., 7., 1., 4., 3., 8., 8., 4., 4., 0.]),\n",
       "  array([ 0.,  6.,  5.,  2.,  2., 13.,  4.,  3.,  3.,  2.])],\n",
       " array([-8.0000000e+01, -7.2000000e+01, -6.4000000e+01, -5.6000000e+01,\n",
       "        -4.8000000e+01, -4.0000000e+01, -3.2000000e+01, -2.4000000e+01,\n",
       "        -1.6000000e+01, -8.0000000e+00, -4.7683716e-07], dtype=float32),\n",
       " <a list of 517 Lists of Patches objects>)"
      ]
     },
     "execution_count": 21,
     "metadata": {},
     "output_type": "execute_result"
    },
    {
     "data": {
      "image/png": "[encoded data removed]",
      "text/plain": [
       "<Figure size 432x288 with 1 Axes>"
      ]
     },
     "metadata": {
      "needs_background": "light"
     },
     "output_type": "display_data"
    }
   ],
   "source": [
    "#print(X_magnitude_db,mel_spec_db)\n",
    "plt.hist(X_magnitude_db)"
   ]
  },
  {
   "cell_type": "code",
   "execution_count": 31,
   "metadata": {
    "ExecuteTime": {
     "end_time": "2018-10-03T09:58:15.850281Z",
     "start_time": "2018-10-03T09:58:14.618490Z"
    },
    "colab": {
     "base_uri": "https://localhost:8080/",
     "height": 85
    },
    "colab_type": "code",
    "id": "WfAzO1RHxQ4P",
    "outputId": "32f7b902-3926-4e68-f263-fe24a2384ca6"
   },
   "outputs": [
    {
     "name": "stdout",
     "output_type": "stream",
     "text": [
      "2.0.0-alpha0\n"
     ]
    }
   ],
   "source": [
    "#from  rulsif import RULSIF\n",
    "#from cycler import cycler\n",
    "import tensorflow as tf\n",
    "print(tf.__version__)\n",
    "from tensorflow.keras import backend"
   ]
  },
  {
   "cell_type": "code",
   "execution_count": 32,
   "metadata": {},
   "outputs": [
    {
     "ename": "AttributeError",
     "evalue": "module 'tensorflow' has no attribute 'get_default_graph'",
     "output_type": "error",
     "traceback": [
      "\u001b[0;31m---------------------------------------------------------------------------\u001b[0m",
      "\u001b[0;31mAttributeError\u001b[0m                            Traceback (most recent call last)",
      "\u001b[0;32m<ipython-input-32-e34afd25c13e>\u001b[0m in \u001b[0;36m<module>\u001b[0;34m\u001b[0m\n\u001b[1;32m      2\u001b[0m \u001b[0;32mfrom\u001b[0m \u001b[0mkeras\u001b[0m\u001b[0;34m.\u001b[0m\u001b[0mlayers\u001b[0m \u001b[0;32mimport\u001b[0m \u001b[0mDense\u001b[0m\u001b[0;34m,\u001b[0m \u001b[0mActivation\u001b[0m\u001b[0;34m\u001b[0m\u001b[0m\n\u001b[1;32m      3\u001b[0m \u001b[0;32mfrom\u001b[0m \u001b[0mkeras\u001b[0m \u001b[0;32mimport\u001b[0m \u001b[0mbackend\u001b[0m\u001b[0;34m\u001b[0m\u001b[0m\n\u001b[0;32m----> 4\u001b[0;31m \u001b[0mmodel\u001b[0m \u001b[0;34m=\u001b[0m \u001b[0mSequential\u001b[0m\u001b[0;34m(\u001b[0m\u001b[0;34m)\u001b[0m\u001b[0;34m\u001b[0m\u001b[0m\n\u001b[0m\u001b[1;32m      5\u001b[0m \u001b[0mmodel\u001b[0m\u001b[0;34m.\u001b[0m\u001b[0madd\u001b[0m\u001b[0;34m(\u001b[0m\u001b[0mGaussianNoise\u001b[0m\u001b[0;34m(\u001b[0m\u001b[0mSTD_DEV\u001b[0m\u001b[0;34m,\u001b[0m \u001b[0minput_shape\u001b[0m\u001b[0;34m=\u001b[0m\u001b[0;34m(\u001b[0m\u001b[0mMAX_WORDS\u001b[0m\u001b[0;34m,\u001b[0m \u001b[0mvectors\u001b[0m\u001b[0;34m.\u001b[0m\u001b[0mdim\u001b[0m\u001b[0;34m)\u001b[0m\u001b[0;34m)\u001b[0m\u001b[0;34m)\u001b[0m\u001b[0;34m\u001b[0m\u001b[0m\n\u001b[1;32m      6\u001b[0m \u001b[0mmodel\u001b[0m\u001b[0;34m.\u001b[0m\u001b[0madd\u001b[0m\u001b[0;34m(\u001b[0m\u001b[0mBidirectional\u001b[0m\u001b[0;34m(\u001b[0m\u001b[0mLSTM\u001b[0m\u001b[0;34m(\u001b[0m\u001b[0mHIDDEN_UNITS\u001b[0m\u001b[0;34m,\u001b[0m \u001b[0mactivation\u001b[0m\u001b[0;34m=\u001b[0m\u001b[0;34m'tanh'\u001b[0m\u001b[0;34m)\u001b[0m\u001b[0;34m,\u001b[0m \u001b[0mmerge_mode\u001b[0m\u001b[0;34m=\u001b[0m\u001b[0;34m'concat'\u001b[0m\u001b[0;34m)\u001b[0m\u001b[0;34m)\u001b[0m\u001b[0;34m\u001b[0m\u001b[0m\n",
      "\u001b[0;32m/usr/local/lib/python3.5/dist-packages/keras/engine/sequential.py\u001b[0m in \u001b[0;36m__init__\u001b[0;34m(self, layers, name)\u001b[0m\n\u001b[1;32m     85\u001b[0m \u001b[0;34m\u001b[0m\u001b[0m\n\u001b[1;32m     86\u001b[0m     \u001b[0;32mdef\u001b[0m \u001b[0m__init__\u001b[0m\u001b[0;34m(\u001b[0m\u001b[0mself\u001b[0m\u001b[0;34m,\u001b[0m \u001b[0mlayers\u001b[0m\u001b[0;34m=\u001b[0m\u001b[0;32mNone\u001b[0m\u001b[0;34m,\u001b[0m \u001b[0mname\u001b[0m\u001b[0;34m=\u001b[0m\u001b[0;32mNone\u001b[0m\u001b[0;34m)\u001b[0m\u001b[0;34m:\u001b[0m\u001b[0;34m\u001b[0m\u001b[0m\n\u001b[0;32m---> 87\u001b[0;31m         \u001b[0msuper\u001b[0m\u001b[0;34m(\u001b[0m\u001b[0mSequential\u001b[0m\u001b[0;34m,\u001b[0m \u001b[0mself\u001b[0m\u001b[0;34m)\u001b[0m\u001b[0;34m.\u001b[0m\u001b[0m__init__\u001b[0m\u001b[0;34m(\u001b[0m\u001b[0mname\u001b[0m\u001b[0;34m=\u001b[0m\u001b[0mname\u001b[0m\u001b[0;34m)\u001b[0m\u001b[0;34m\u001b[0m\u001b[0m\n\u001b[0m\u001b[1;32m     88\u001b[0m         \u001b[0mself\u001b[0m\u001b[0;34m.\u001b[0m\u001b[0m_build_input_shape\u001b[0m \u001b[0;34m=\u001b[0m \u001b[0;32mNone\u001b[0m\u001b[0;34m\u001b[0m\u001b[0m\n\u001b[1;32m     89\u001b[0m \u001b[0;34m\u001b[0m\u001b[0m\n",
      "\u001b[0;32m/usr/local/lib/python3.5/dist-packages/keras/legacy/interfaces.py\u001b[0m in \u001b[0;36mwrapper\u001b[0;34m(*args, **kwargs)\u001b[0m\n\u001b[1;32m     89\u001b[0m                 warnings.warn('Update your `' + object_name + '` call to the ' +\n\u001b[1;32m     90\u001b[0m                               'Keras 2 API: ' + signature, stacklevel=2)\n\u001b[0;32m---> 91\u001b[0;31m             \u001b[0;32mreturn\u001b[0m \u001b[0mfunc\u001b[0m\u001b[0;34m(\u001b[0m\u001b[0;34m*\u001b[0m\u001b[0margs\u001b[0m\u001b[0;34m,\u001b[0m \u001b[0;34m**\u001b[0m\u001b[0mkwargs\u001b[0m\u001b[0;34m)\u001b[0m\u001b[0;34m\u001b[0m\u001b[0m\n\u001b[0m\u001b[1;32m     92\u001b[0m         \u001b[0mwrapper\u001b[0m\u001b[0;34m.\u001b[0m\u001b[0m_original_function\u001b[0m \u001b[0;34m=\u001b[0m \u001b[0mfunc\u001b[0m\u001b[0;34m\u001b[0m\u001b[0m\n\u001b[1;32m     93\u001b[0m         \u001b[0;32mreturn\u001b[0m \u001b[0mwrapper\u001b[0m\u001b[0;34m\u001b[0m\u001b[0m\n",
      "\u001b[0;32m/usr/local/lib/python3.5/dist-packages/keras/engine/network.py\u001b[0m in \u001b[0;36m__init__\u001b[0;34m(self, *args, **kwargs)\u001b[0m\n\u001b[1;32m     94\u001b[0m         \u001b[0;32melse\u001b[0m\u001b[0;34m:\u001b[0m\u001b[0;34m\u001b[0m\u001b[0m\n\u001b[1;32m     95\u001b[0m             \u001b[0;31m# Subclassed network\u001b[0m\u001b[0;34m\u001b[0m\u001b[0;34m\u001b[0m\u001b[0m\n\u001b[0;32m---> 96\u001b[0;31m             \u001b[0mself\u001b[0m\u001b[0;34m.\u001b[0m\u001b[0m_init_subclassed_network\u001b[0m\u001b[0;34m(\u001b[0m\u001b[0;34m**\u001b[0m\u001b[0mkwargs\u001b[0m\u001b[0;34m)\u001b[0m\u001b[0;34m\u001b[0m\u001b[0m\n\u001b[0m\u001b[1;32m     97\u001b[0m \u001b[0;34m\u001b[0m\u001b[0m\n\u001b[1;32m     98\u001b[0m     \u001b[0;32mdef\u001b[0m \u001b[0m_base_init\u001b[0m\u001b[0;34m(\u001b[0m\u001b[0mself\u001b[0m\u001b[0;34m,\u001b[0m \u001b[0mname\u001b[0m\u001b[0;34m=\u001b[0m\u001b[0;32mNone\u001b[0m\u001b[0;34m)\u001b[0m\u001b[0;34m:\u001b[0m\u001b[0;34m\u001b[0m\u001b[0m\n",
      "\u001b[0;32m/usr/local/lib/python3.5/dist-packages/keras/engine/network.py\u001b[0m in \u001b[0;36m_init_subclassed_network\u001b[0;34m(self, name)\u001b[0m\n\u001b[1;32m    292\u001b[0m \u001b[0;34m\u001b[0m\u001b[0m\n\u001b[1;32m    293\u001b[0m     \u001b[0;32mdef\u001b[0m \u001b[0m_init_subclassed_network\u001b[0m\u001b[0;34m(\u001b[0m\u001b[0mself\u001b[0m\u001b[0;34m,\u001b[0m \u001b[0mname\u001b[0m\u001b[0;34m=\u001b[0m\u001b[0;32mNone\u001b[0m\u001b[0;34m)\u001b[0m\u001b[0;34m:\u001b[0m\u001b[0;34m\u001b[0m\u001b[0m\n\u001b[0;32m--> 294\u001b[0;31m         \u001b[0mself\u001b[0m\u001b[0;34m.\u001b[0m\u001b[0m_base_init\u001b[0m\u001b[0;34m(\u001b[0m\u001b[0mname\u001b[0m\u001b[0;34m=\u001b[0m\u001b[0mname\u001b[0m\u001b[0;34m)\u001b[0m\u001b[0;34m\u001b[0m\u001b[0m\n\u001b[0m\u001b[1;32m    295\u001b[0m         \u001b[0mself\u001b[0m\u001b[0;34m.\u001b[0m\u001b[0m_is_graph_network\u001b[0m \u001b[0;34m=\u001b[0m \u001b[0;32mFalse\u001b[0m\u001b[0;34m\u001b[0m\u001b[0m\n\u001b[1;32m    296\u001b[0m         \u001b[0mself\u001b[0m\u001b[0;34m.\u001b[0m\u001b[0m_expects_training_arg\u001b[0m \u001b[0;34m=\u001b[0m \u001b[0mhas_arg\u001b[0m\u001b[0;34m(\u001b[0m\u001b[0mself\u001b[0m\u001b[0;34m.\u001b[0m\u001b[0mcall\u001b[0m\u001b[0;34m,\u001b[0m \u001b[0;34m'training'\u001b[0m\u001b[0;34m)\u001b[0m\u001b[0;34m\u001b[0m\u001b[0m\n",
      "\u001b[0;32m/usr/local/lib/python3.5/dist-packages/keras/engine/network.py\u001b[0m in \u001b[0;36m_base_init\u001b[0;34m(self, name)\u001b[0m\n\u001b[1;32m    107\u001b[0m         \u001b[0;32mif\u001b[0m \u001b[0;32mnot\u001b[0m \u001b[0mname\u001b[0m\u001b[0;34m:\u001b[0m\u001b[0;34m\u001b[0m\u001b[0m\n\u001b[1;32m    108\u001b[0m             \u001b[0mprefix\u001b[0m \u001b[0;34m=\u001b[0m \u001b[0mself\u001b[0m\u001b[0;34m.\u001b[0m\u001b[0m__class__\u001b[0m\u001b[0;34m.\u001b[0m\u001b[0m__name__\u001b[0m\u001b[0;34m.\u001b[0m\u001b[0mlower\u001b[0m\u001b[0;34m(\u001b[0m\u001b[0;34m)\u001b[0m\u001b[0;34m\u001b[0m\u001b[0m\n\u001b[0;32m--> 109\u001b[0;31m             \u001b[0mname\u001b[0m \u001b[0;34m=\u001b[0m \u001b[0mprefix\u001b[0m \u001b[0;34m+\u001b[0m \u001b[0;34m'_'\u001b[0m \u001b[0;34m+\u001b[0m \u001b[0mstr\u001b[0m\u001b[0;34m(\u001b[0m\u001b[0mK\u001b[0m\u001b[0;34m.\u001b[0m\u001b[0mget_uid\u001b[0m\u001b[0;34m(\u001b[0m\u001b[0mprefix\u001b[0m\u001b[0;34m)\u001b[0m\u001b[0;34m)\u001b[0m\u001b[0;34m\u001b[0m\u001b[0m\n\u001b[0m\u001b[1;32m    110\u001b[0m         \u001b[0mself\u001b[0m\u001b[0;34m.\u001b[0m\u001b[0mname\u001b[0m \u001b[0;34m=\u001b[0m \u001b[0mname\u001b[0m\u001b[0;34m\u001b[0m\u001b[0m\n\u001b[1;32m    111\u001b[0m \u001b[0;34m\u001b[0m\u001b[0m\n",
      "\u001b[0;32m/usr/local/lib/python3.5/dist-packages/keras/backend/tensorflow_backend.py\u001b[0m in \u001b[0;36mget_uid\u001b[0;34m(prefix)\u001b[0m\n\u001b[1;32m     72\u001b[0m     \"\"\"\n\u001b[1;32m     73\u001b[0m     \u001b[0;32mglobal\u001b[0m \u001b[0m_GRAPH_UID_DICTS\u001b[0m\u001b[0;34m\u001b[0m\u001b[0m\n\u001b[0;32m---> 74\u001b[0;31m     \u001b[0mgraph\u001b[0m \u001b[0;34m=\u001b[0m \u001b[0mtf\u001b[0m\u001b[0;34m.\u001b[0m\u001b[0mget_default_graph\u001b[0m\u001b[0;34m(\u001b[0m\u001b[0;34m)\u001b[0m\u001b[0;34m\u001b[0m\u001b[0m\n\u001b[0m\u001b[1;32m     75\u001b[0m     \u001b[0;32mif\u001b[0m \u001b[0mgraph\u001b[0m \u001b[0;32mnot\u001b[0m \u001b[0;32min\u001b[0m \u001b[0m_GRAPH_UID_DICTS\u001b[0m\u001b[0;34m:\u001b[0m\u001b[0;34m\u001b[0m\u001b[0m\n\u001b[1;32m     76\u001b[0m         \u001b[0m_GRAPH_UID_DICTS\u001b[0m\u001b[0;34m[\u001b[0m\u001b[0mgraph\u001b[0m\u001b[0;34m]\u001b[0m \u001b[0;34m=\u001b[0m \u001b[0mdefaultdict\u001b[0m\u001b[0;34m(\u001b[0m\u001b[0mint\u001b[0m\u001b[0;34m)\u001b[0m\u001b[0;34m\u001b[0m\u001b[0m\n",
      "\u001b[0;31mAttributeError\u001b[0m: module 'tensorflow' has no attribute 'get_default_graph'"
     ]
    }
   ],
   "source": [
    "from keras.models import Sequential\n",
    "from keras.layers import Dense, Activation\n",
    "from keras import backend\n",
    "model = Sequential()\n",
    "model.add(GaussianNoise(STD_DEV, input_shape=(MAX_WORDS, vectors.dim)))\n",
    "model.add(Bidirectional(LSTM(HIDDEN_UNITS, activation='tanh'), merge_mode='concat'))\n",
    "model.add(Dropout(DROPOUT_RATIO))\n",
    "model.add(Dense(num_outputs, activation='softmax'))\n",
    "model.compile(loss='categorical_crossentropy',optimizer=Adam(lr=LEARNING_RATE),metrics=['categorical_accuracy'])"
   ]
  },
  {
   "cell_type": "code",
   "execution_count": 24,
   "metadata": {},
   "outputs": [
    {
     "ename": "NameError",
     "evalue": "name 'keras' is not defined",
     "output_type": "error",
     "traceback": [
      "\u001b[0;31m---------------------------------------------------------------------------\u001b[0m",
      "\u001b[0;31mNameError\u001b[0m                                 Traceback (most recent call last)",
      "\u001b[0;32m<ipython-input-24-2f0fa74e794e>\u001b[0m in \u001b[0;36m<module>\u001b[0;34m\u001b[0m\n\u001b[0;32m----> 1\u001b[0;31m base_model=keras.applications.xception.Xception(include_top=True, \n\u001b[0m\u001b[1;32m      2\u001b[0m                                                 \u001b[0mweights\u001b[0m\u001b[0;34m=\u001b[0m\u001b[0;34m'imagenet'\u001b[0m\u001b[0;34m,\u001b[0m\u001b[0;34m\u001b[0m\u001b[0m\n\u001b[1;32m      3\u001b[0m                                                 \u001b[0minput_tensor\u001b[0m\u001b[0;34m=\u001b[0m\u001b[0;32mNone\u001b[0m\u001b[0;34m,\u001b[0m\u001b[0;34m\u001b[0m\u001b[0m\n\u001b[1;32m      4\u001b[0m                                                 \u001b[0minput_shape\u001b[0m\u001b[0;34m=\u001b[0m\u001b[0;32mNone\u001b[0m\u001b[0;34m,\u001b[0m\u001b[0;34m\u001b[0m\u001b[0m\n\u001b[1;32m      5\u001b[0m                                                 \u001b[0mpooling\u001b[0m\u001b[0;34m=\u001b[0m\u001b[0;32mNone\u001b[0m\u001b[0;34m,\u001b[0m\u001b[0;34m\u001b[0m\u001b[0m\n",
      "\u001b[0;31mNameError\u001b[0m: name 'keras' is not defined"
     ]
    }
   ],
   "source": [
    "base_model=keras.applications.xception.Xception(include_top=True, \n",
    "                                                weights='imagenet', \n",
    "                                                input_tensor=None, \n",
    "                                                input_shape=None, \n",
    "                                                pooling=None, \n",
    "                                                classes=1000)\n",
    "x=base_model.output\n",
    "#x=GlobalAveragePooling4D()(x)\n",
    "x=Dense(1024,activation='relu')(x)\n",
    "x=Dense(1024,activation='relu')(x)\n",
    "x=Dense(512,activation='relu')(x)\n",
    "preds=Dense(2,activation='softmax')(x)"
   ]
  },
  {
   "cell_type": "code",
   "execution_count": null,
   "metadata": {},
   "outputs": [],
   "source": [
    "model=Model(inputs=base_model.input,outputs=preds)"
   ]
  },
  {
   "cell_type": "code",
   "execution_count": null,
   "metadata": {},
   "outputs": [],
   "source": [
    "for layer in model.layers[:20]:    layer.trainable=False\n",
    "for layer in model.layers[20:]:    layer.trainable=True"
   ]
  },
  {
   "cell_type": "code",
   "execution_count": null,
   "metadata": {
    "ExecuteTime": {
     "end_time": "2019-08-18T20:05:20.744133Z",
     "start_time": "2019-08-18T20:05:20.546363Z"
    }
   },
   "outputs": [],
   "source": [
    "train_datagen=ImageDataGenerator(preprocessing_function=preprocess_input)\n",
    "train_generator=train_datagen.flow_from_directory('./subCellular',\n",
    "                                                  target_size=(299,299),\n",
    "                                                  color_mode='rgb',\n",
    "                                                  batch_size=32,\n",
    "                                                  class_mode='categorical', \n",
    "                                                  shuffle=True)\n",
    "model.compile(optimizer='Adam',loss='categorical_crossentropy',\n",
    "              metrics=['accuracy'])\n",
    "step_size_train=train_generator.n//train_generator.batch_size\n",
    "model.fit_generator(generator=train_generator,\n",
    "                    steps_per_epoch=step_size_train,epochs=2)"
   ]
  },
  {
   "cell_type": "code",
   "execution_count": null,
   "metadata": {},
   "outputs": [],
   "source": [
    "model.save('modelMGF.h5')    \n",
    "!bzip2 'modelMGF.h5'"
   ]
  },
  {
   "cell_type": "code",
   "execution_count": null,
   "metadata": {},
   "outputs": [],
   "source": [
    "import keras\n",
    "config = tf.ConfigProto( device_count = {'GPU': 1 , 'CPU': 16} ) \n",
    "sess = tf.Session(config=config) \n",
    "keras.backend.set_session(sess)"
   ]
  },
  {
   "cell_type": "code",
   "execution_count": null,
   "metadata": {},
   "outputs": [],
   "source": [
    "import pandas as pd\n",
    "# import formatter as fm\n",
    "df = pd.read_csv('Groups.txt',sep='\\t')\n",
    "df.head()"
   ]
  },
  {
   "cell_type": "code",
   "execution_count": null,
   "metadata": {},
   "outputs": [],
   "source": [
    "#check also https://github.com/kusterlab/prosit/blob/master/prosit/prediction.py"
   ]
  },
  {
   "cell_type": "code",
   "execution_count": null,
   "metadata": {
    "colab": {
     "base_uri": "https://localhost:8080/",
     "height": 68
    },
    "colab_type": "code",
    "id": "IalCGhW30tMH",
    "outputId": "33b8abef-e68a-4b87-9f77-3b125cf8c38b"
   },
   "outputs": [],
   "source": [
    "!mkdir  ~/.kaggle\n",
    "!cp $PWD/kaggle.json ~/.kaggle/\n",
    "!chmod 600 ~/.kaggle/kaggle.json\n",
    "!ls -lthr ~/.kaggle/"
   ]
  },
  {
   "cell_type": "code",
   "execution_count": null,
   "metadata": {
    "colab": {
     "base_uri": "https://localhost:8080/",
     "height": 68
    },
    "colab_type": "code",
    "id": "D4IJbLst38D6",
    "outputId": "0aff1509-833e-41e9-adc0-7ca002c2f08d"
   },
   "outputs": [],
   "source": [
    "#!$HOME/.local/bin/kaggle datasets download -d piotrgrabo/breastcancerproteomes --force\n",
    "!$HOME/.local/bin/kaggle competitions download -c human-protein-atlas-image-classification"
   ]
  },
  {
   "cell_type": "code",
   "execution_count": null,
   "metadata": {
    "colab": {
     "base_uri": "https://localhost:8080/",
     "height": 51
    },
    "colab_type": "code",
    "id": "uGl3CaM17BKs",
    "outputId": "9cc9d4b9-49ea-4fd7-8e6e-49704d6dc03a"
   },
   "outputs": [],
   "source": [
    "!find $HOME -iname train"
   ]
  },
  {
   "cell_type": "code",
   "execution_count": null,
   "metadata": {
    "colab": {},
    "colab_type": "code",
    "id": "GuUEvbu8_Lpn"
   },
   "outputs": [],
   "source": [
    "!pip install -U -q PyDrive --user\n",
    "!pip install -U -q google.colab --user\n",
    "\n",
    "from pydrive.auth import GoogleAuth\n",
    "from pydrive.drive import GoogleDrive\n",
    "from google.colab import auth\n",
    "from oauth2client.client import GoogleCredentials\n",
    "\n",
    "auth.authenticate_user()\n",
    "gauth = GoogleAuth()\n",
    "gauth.credentials = GoogleCredentials.get_application_default()\n",
    "drive = GoogleDrive(gauth)"
   ]
  },
  {
   "cell_type": "code",
   "execution_count": null,
   "metadata": {
    "colab": {
     "base_uri": "https://localhost:8080/",
     "height": 34
    },
    "colab_type": "code",
    "id": "cnMgXDOE_oxq",
    "outputId": "46ee6fc2-c7fa-46f8-fe6e-fe650ec06097"
   },
   "outputs": [],
   "source": [
    "model.save('model.h5')    \n",
    "model_file = drive.CreateFile({'title' : 'model.h5'})\n",
    "model_file.SetContentFile('model.h5')\n",
    "model_file.Upload()\n",
    "drive.CreateFile({'id': model_file.get('id')})"
   ]
  },
  {
   "cell_type": "code",
   "execution_count": null,
   "metadata": {
    "colab": {
     "base_uri": "https://localhost:8080/",
     "height": 187
    },
    "colab_type": "code",
    "id": "P8woelkc_wJj",
    "outputId": "0ae32103-6a13-4c6c-ac5e-35d4b5bd14e9"
   },
   "outputs": [],
   "source": [
    "!ls -ltrh"
   ]
  },
  {
   "cell_type": "code",
   "execution_count": null,
   "metadata": {
    "ExecuteTime": {
     "end_time": "2018-10-04T08:03:58.500557Z",
     "start_time": "2018-10-04T08:03:58.452086Z"
    },
    "colab": {},
    "colab_type": "code",
    "id": "Hly-Yv5vxQ40",
    "outputId": "0c08ca36-e977-4b24-8ea3-a53ef1e3d5d0"
   },
   "outputs": [],
   "source": [
    "outvec=[1 if 'positive' in i.parts[-2] else 0 for i in trainlist]\n",
    "outvec"
   ]
  },
  {
   "cell_type": "code",
   "execution_count": null,
   "metadata": {
    "ExecuteTime": {
     "end_time": "2018-10-04T09:38:45.204078Z",
     "start_time": "2018-10-04T09:38:45.199481Z"
    },
    "colab": {},
    "colab_type": "code",
    "id": "RVr8Ah_7xQ44"
   },
   "outputs": [],
   "source": [
    "outvecclip=outvec[0:99]"
   ]
  },
  {
   "cell_type": "code",
   "execution_count": null,
   "metadata": {
    "ExecuteTime": {
     "end_time": "2018-10-04T09:38:52.512802Z",
     "start_time": "2018-10-04T09:38:52.503623Z"
    },
    "colab": {},
    "colab_type": "code",
    "id": "FpWeeovBxQ48",
    "outputId": "aba057d6-3517-4c32-d86a-3a7da6bf8d0e"
   },
   "outputs": [],
   "source": [
    "(outvecclip)"
   ]
  },
  {
   "cell_type": "code",
   "execution_count": null,
   "metadata": {
    "colab": {},
    "colab_type": "code",
    "id": "PFxLMSxAxQ-X"
   },
   "outputs": [],
   "source": [
    "import sklearn\n",
    "from sklearn.model_selection import train_test_split\n",
    "X_train, X_test, y_train, y_test = train_test_split(MGF, binary_labels, test_size = .2)"
   ]
  },
  {
   "cell_type": "code",
   "execution_count": null,
   "metadata": {
    "colab": {},
    "colab_type": "code",
    "id": "Q1Llj3vyxQ-a"
   },
   "outputs": [],
   "source": [
    "from sklearn.model_selection import KFold\n",
    "kf = KFold(n_splits=71, shuffle=True, random_state=42)\n",
    "batches = [train for test, train  in kf.split(X_train, y_train)]\n",
    "batches[0].shape"
   ]
  },
  {
   "cell_type": "code",
   "execution_count": null,
   "metadata": {
    "colab": {},
    "colab_type": "code",
    "id": "Kf0oOlgRxQ-c"
   },
   "outputs": [],
   "source": [
    "kf = KFold(n_splits=10, shuffle=True, random_state=42)\n",
    "test_batches = [t_batch for _, t_batch  in kf.split(X_test, y_test)]\n",
    "np.histogram(test_batches[9])"
   ]
  },
  {
   "cell_type": "code",
   "execution_count": null,
   "metadata": {
    "colab": {},
    "colab_type": "code",
    "id": "JrTw2cPKxQ-f"
   },
   "outputs": [],
   "source": [
    "X_train.shape,X_test.shape"
   ]
  },
  {
   "cell_type": "code",
   "execution_count": null,
   "metadata": {
    "colab": {},
    "colab_type": "code",
    "id": "A1RCzj9IxQ-p"
   },
   "outputs": [],
   "source": [
    "predictions = [result for p in pred for result in p ]\n",
    "predictions"
   ]
  },
  {
   "cell_type": "code",
   "execution_count": null,
   "metadata": {
    "colab": {},
    "colab_type": "code",
    "id": "1F0YMuZkxQ-r"
   },
   "outputs": [],
   "source": [
    "from  sklearn.metrics import accuracy_score,log_loss #ytrue ypred\n",
    "log_loss(y_test, [[p[0],1-p[0]] for p in predictions])"
   ]
  },
  {
   "cell_type": "code",
   "execution_count": null,
   "metadata": {
    "colab": {},
    "colab_type": "code",
    "id": "alkjgfvmxQ-x"
   },
   "outputs": [],
   "source": [
    "np.round([p[0] for p in predictions])"
   ]
  },
  {
   "cell_type": "code",
   "execution_count": null,
   "metadata": {
    "colab": {},
    "colab_type": "code",
    "id": "7xBe9nLLxQ-z"
   },
   "outputs": [],
   "source": [
    "# Compute confusion matrix\n",
    "confusion_matrix([0, 1, 0, 1], [1, 1, 1, 0])\n",
    "cnf_matrix = confusion_matrix(y_test, np.round([p[0] for p in predictions]))\n",
    "np.set_printoptions(precision=2)\n",
    "\n",
    "# Plot non-normalized confusion matrix\n",
    "plt.figure()\n",
    "plot_confusion_matrix(cnf_matrix, classes=['No Findings', 'Abnormal Findings'],\n",
    "                      title='Confusion matrix, without normalization')\n",
    "\n",
    "# Plot normalized confusion matrix\n",
    "plt.figure()\n",
    "plot_confusion_matrix(cnf_matrix, classes=['No Findings', 'Abnormal Findings'],\n",
    "                      normalize=True,\n",
    "                      title='Normalized confusion matrix')\n",
    "\n",
    "plt.show()"
   ]
  },
  {
   "cell_type": "markdown",
   "metadata": {
    "colab_type": "text",
    "id": "view-in-github"
   },
   "source": [
    "<a href=\"https://colab.research.google.com/github/animesh/notebooks/blob/master/tfMGF.ipynb\" target=\"_parent\"><img src=\"https://colab.research.google.com/assets/colab-badge.svg\" alt=\"Open In Colab\"/></a>\n",
    "*peptide spectra predictor*\n",
    "- [Novo](https://github.com/nh2tran/DeepNovo)\n",
    "- [Post](https://github.com/semiller10/postnovo)"
   ]
  }
 ],
 "metadata": {
  "accelerator": "GPU",
  "colab": {
   "collapsed_sections": [
    "g8h4wEMDxQ9A",
    "pm7CdZ6wxQ9A",
    "ZIf3cfV_xQ9Y"
   ],
   "include_colab_link": true,
   "name": "pathImgClassifier.ipynb",
   "provenance": [],
   "version": "0.3.2"
  },
  "kernelspec": {
   "display_name": "Python 3",
   "language": "python",
   "name": "python3"
  },
  "language_info": {
   "codemirror_mode": {
    "name": "ipython",
    "version": 3
   },
   "file_extension": ".py",
   "mimetype": "text/x-python",
   "name": "python",
   "nbconvert_exporter": "python",
   "pygments_lexer": "ipython3",
   "version": "3.5.3"
  },
  "toc": {
   "base_numbering": 1,
   "nav_menu": {},
   "number_sections": true,
   "sideBar": true,
   "skip_h1_title": false,
   "title_cell": "Table of Contents",
   "title_sidebar": "Contents",
   "toc_cell": false,
   "toc_position": {},
   "toc_section_display": true,
   "toc_window_display": false
  }
 },
 "nbformat": 4,
 "nbformat_minor": 2
}
