{
 "cells": [
  {
   "cell_type": "markdown",
   "metadata": {
    "id": "C3ae5-qrLLh0"
   },
   "source": [
    "### COVID Logistic Regression Model"
   ]
  },
  {
   "cell_type": "code",
   "execution_count": 1,
   "metadata": {
    "executionInfo": {
     "elapsed": 502,
     "status": "ok",
     "timestamp": 1621175776596,
     "user": {
      "displayName": "Animesh Sharma",
      "photoUrl": "https://lh3.googleusercontent.com/a-/AOh14GgtBEA8HpNXZlxHZ_XN2a7ZU56EZ5DMTqQk-tsov3Y=s64",
      "userId": "07446072663021710031"
     },
     "user_tz": -120
    },
    "id": "WOUFMS_CLLiA"
   },
   "outputs": [],
   "source": [
    "import numpy as np\n",
    "import pandas as pd\n",
    "from sklearn.metrics import accuracy_score\n",
    "from sklearn.linear_model import LogisticRegression\n",
    "from sklearn.model_selection import train_test_split"
   ]
  },
  {
   "cell_type": "code",
   "execution_count": 20,
   "metadata": {
    "colab": {
     "base_uri": "https://localhost:8080/",
     "height": 258
    },
    "executionInfo": {
     "elapsed": 1939,
     "status": "ok",
     "timestamp": 1621175778041,
     "user": {
      "displayName": "Animesh Sharma",
      "photoUrl": "https://lh3.googleusercontent.com/a-/AOh14GgtBEA8HpNXZlxHZ_XN2a7ZU56EZ5DMTqQk-tsov3Y=s64",
      "userId": "07446072663021710031"
     },
     "user_tz": -120
    },
    "id": "e0v92U1JLLiC",
    "outputId": "07ed1b7e-6569-494d-9c7e-e979b7343f40"
   },
   "outputs": [
    {
     "data": {
      "text/html": [
       "<div>\n",
       "<style scoped>\n",
       "    .dataframe tbody tr th:only-of-type {\n",
       "        vertical-align: middle;\n",
       "    }\n",
       "\n",
       "    .dataframe tbody tr th {\n",
       "        vertical-align: top;\n",
       "    }\n",
       "\n",
       "    .dataframe thead th {\n",
       "        text-align: right;\n",
       "    }\n",
       "</style>\n",
       "<table border=\"1\" class=\"dataframe\">\n",
       "  <thead>\n",
       "    <tr style=\"text-align: right;\">\n",
       "      <th></th>\n",
       "      <th>test_date</th>\n",
       "      <th>cough</th>\n",
       "      <th>fever</th>\n",
       "      <th>sore_throat</th>\n",
       "      <th>shortness_of_breath</th>\n",
       "      <th>head_ache</th>\n",
       "      <th>corona_result</th>\n",
       "      <th>age_60_and_above</th>\n",
       "      <th>gender</th>\n",
       "      <th>test_indication</th>\n",
       "    </tr>\n",
       "  </thead>\n",
       "  <tbody>\n",
       "    <tr>\n",
       "      <th>0</th>\n",
       "      <td>2020-04-30</td>\n",
       "      <td>0</td>\n",
       "      <td>0</td>\n",
       "      <td>0</td>\n",
       "      <td>0</td>\n",
       "      <td>0</td>\n",
       "      <td>negative</td>\n",
       "      <td>None</td>\n",
       "      <td>female</td>\n",
       "      <td>Other</td>\n",
       "    </tr>\n",
       "    <tr>\n",
       "      <th>1</th>\n",
       "      <td>2020-04-30</td>\n",
       "      <td>1</td>\n",
       "      <td>0</td>\n",
       "      <td>0</td>\n",
       "      <td>0</td>\n",
       "      <td>0</td>\n",
       "      <td>negative</td>\n",
       "      <td>None</td>\n",
       "      <td>female</td>\n",
       "      <td>Other</td>\n",
       "    </tr>\n",
       "    <tr>\n",
       "      <th>2</th>\n",
       "      <td>2020-04-30</td>\n",
       "      <td>0</td>\n",
       "      <td>1</td>\n",
       "      <td>0</td>\n",
       "      <td>0</td>\n",
       "      <td>0</td>\n",
       "      <td>negative</td>\n",
       "      <td>None</td>\n",
       "      <td>male</td>\n",
       "      <td>Other</td>\n",
       "    </tr>\n",
       "    <tr>\n",
       "      <th>3</th>\n",
       "      <td>2020-04-30</td>\n",
       "      <td>1</td>\n",
       "      <td>0</td>\n",
       "      <td>0</td>\n",
       "      <td>0</td>\n",
       "      <td>0</td>\n",
       "      <td>negative</td>\n",
       "      <td>None</td>\n",
       "      <td>female</td>\n",
       "      <td>Other</td>\n",
       "    </tr>\n",
       "    <tr>\n",
       "      <th>4</th>\n",
       "      <td>2020-04-30</td>\n",
       "      <td>1</td>\n",
       "      <td>0</td>\n",
       "      <td>0</td>\n",
       "      <td>0</td>\n",
       "      <td>0</td>\n",
       "      <td>negative</td>\n",
       "      <td>None</td>\n",
       "      <td>male</td>\n",
       "      <td>Other</td>\n",
       "    </tr>\n",
       "  </tbody>\n",
       "</table>\n",
       "</div>"
      ],
      "text/plain": [
       "    test_date cough fever sore_throat shortness_of_breath head_ache  \\\n",
       "0  2020-04-30     0     0           0                   0         0   \n",
       "1  2020-04-30     1     0           0                   0         0   \n",
       "2  2020-04-30     0     1           0                   0         0   \n",
       "3  2020-04-30     1     0           0                   0         0   \n",
       "4  2020-04-30     1     0           0                   0         0   \n",
       "\n",
       "  corona_result age_60_and_above  gender test_indication  \n",
       "0      negative             None  female           Other  \n",
       "1      negative             None  female           Other  \n",
       "2      negative             None    male           Other  \n",
       "3      negative             None  female           Other  \n",
       "4      negative             None    male           Other  "
      ]
     },
     "execution_count": 20,
     "metadata": {},
     "output_type": "execute_result"
    }
   ],
   "source": [
    "data = pd.read_csv(\"https://github.com/animesh/covidpred/raw/master/data/corona_tested_individuals_ver_006.english.csv.zip\",low_memory=False)\n",
    "data.head()"
   ]
  },
  {
   "cell_type": "code",
   "execution_count": 21,
   "metadata": {
    "colab": {
     "base_uri": "https://localhost:8080/"
    },
    "executionInfo": {
     "elapsed": 1932,
     "status": "ok",
     "timestamp": 1621175778042,
     "user": {
      "displayName": "Animesh Sharma",
      "photoUrl": "https://lh3.googleusercontent.com/a-/AOh14GgtBEA8HpNXZlxHZ_XN2a7ZU56EZ5DMTqQk-tsov3Y=s64",
      "userId": "07446072663021710031"
     },
     "user_tz": -120
    },
    "id": "lg4UQbuHLLiF",
    "outputId": "9b3bad8a-b3eb-495b-8dba-b1ee5bf4a23b"
   },
   "outputs": [
    {
     "data": {
      "text/plain": [
       "(278848, 10)"
      ]
     },
     "execution_count": 21,
     "metadata": {},
     "output_type": "execute_result"
    }
   ],
   "source": [
    "data.shape"
   ]
  },
  {
   "cell_type": "code",
   "execution_count": 22,
   "metadata": {
    "colab": {
     "base_uri": "https://localhost:8080/"
    },
    "executionInfo": {
     "elapsed": 1926,
     "status": "ok",
     "timestamp": 1621175778043,
     "user": {
      "displayName": "Animesh Sharma",
      "photoUrl": "https://lh3.googleusercontent.com/a-/AOh14GgtBEA8HpNXZlxHZ_XN2a7ZU56EZ5DMTqQk-tsov3Y=s64",
      "userId": "07446072663021710031"
     },
     "user_tz": -120
    },
    "id": "uQcDkz11LLiG",
    "outputId": "0614d3cd-a60e-42db-cf1f-f7488b23b7af"
   },
   "outputs": [
    {
     "data": {
      "text/plain": [
       "test_date              object\n",
       "cough                  object\n",
       "fever                  object\n",
       "sore_throat            object\n",
       "shortness_of_breath    object\n",
       "head_ache              object\n",
       "corona_result          object\n",
       "age_60_and_above       object\n",
       "gender                 object\n",
       "test_indication        object\n",
       "dtype: object"
      ]
     },
     "execution_count": 22,
     "metadata": {},
     "output_type": "execute_result"
    }
   ],
   "source": [
    "data.dtypes"
   ]
  },
  {
   "cell_type": "code",
   "execution_count": 34,
   "metadata": {
    "colab": {
     "base_uri": "https://localhost:8080/"
    },
    "executionInfo": {
     "elapsed": 1917,
     "status": "ok",
     "timestamp": 1621175778043,
     "user": {
      "displayName": "Animesh Sharma",
      "photoUrl": "https://lh3.googleusercontent.com/a-/AOh14GgtBEA8HpNXZlxHZ_XN2a7ZU56EZ5DMTqQk-tsov3Y=s64",
      "userId": "07446072663021710031"
     },
     "user_tz": -120
    },
    "id": "yt-B8xA1LLiI",
    "outputId": "dee7cbc8-b424-41dd-fe5c-76c90475e2ed"
   },
   "outputs": [
    {
     "data": {
      "text/plain": [
       "negative    0.933222\n",
       "positive    0.052821\n",
       "other       0.013957\n",
       "Name: corona_result, dtype: float64"
      ]
     },
     "execution_count": 34,
     "metadata": {},
     "output_type": "execute_result"
    }
   ],
   "source": [
    "data['corona_result'].value_counts()/data['corona_result'].value_counts().sum()"
   ]
  },
  {
   "cell_type": "code",
   "execution_count": 24,
   "metadata": {
    "executionInfo": {
     "elapsed": 1909,
     "status": "ok",
     "timestamp": 1621175778044,
     "user": {
      "displayName": "Animesh Sharma",
      "photoUrl": "https://lh3.googleusercontent.com/a-/AOh14GgtBEA8HpNXZlxHZ_XN2a7ZU56EZ5DMTqQk-tsov3Y=s64",
      "userId": "07446072663021710031"
     },
     "user_tz": -120
    },
    "id": "eJPwSdBDLLiJ"
   },
   "outputs": [],
   "source": [
    "X = data.drop(['corona_result'], axis=1)\n",
    "y = data['corona_result']"
   ]
  },
  {
   "cell_type": "code",
   "execution_count": 25,
   "metadata": {
    "executionInfo": {
     "elapsed": 1904,
     "status": "ok",
     "timestamp": 1621175778045,
     "user": {
      "displayName": "Animesh Sharma",
      "photoUrl": "https://lh3.googleusercontent.com/a-/AOh14GgtBEA8HpNXZlxHZ_XN2a7ZU56EZ5DMTqQk-tsov3Y=s64",
      "userId": "07446072663021710031"
     },
     "user_tz": -120
    },
    "id": "01SA-1SojOFR"
   },
   "outputs": [],
   "source": [
    "X = X.drop(['test_date'], axis=1)"
   ]
  },
  {
   "cell_type": "code",
   "execution_count": 26,
   "metadata": {
    "executionInfo": {
     "elapsed": 1899,
     "status": "ok",
     "timestamp": 1621175778046,
     "user": {
      "displayName": "Animesh Sharma",
      "photoUrl": "https://lh3.googleusercontent.com/a-/AOh14GgtBEA8HpNXZlxHZ_XN2a7ZU56EZ5DMTqQk-tsov3Y=s64",
      "userId": "07446072663021710031"
     },
     "user_tz": -120
    },
    "id": "jUwd9qMyja1v"
   },
   "outputs": [],
   "source": [
    "X = X.drop(['gender'], axis=1)"
   ]
  },
  {
   "cell_type": "code",
   "execution_count": 27,
   "metadata": {
    "colab": {
     "base_uri": "https://localhost:8080/"
    },
    "executionInfo": {
     "elapsed": 2146,
     "status": "ok",
     "timestamp": 1621175778299,
     "user": {
      "displayName": "Animesh Sharma",
      "photoUrl": "https://lh3.googleusercontent.com/a-/AOh14GgtBEA8HpNXZlxHZ_XN2a7ZU56EZ5DMTqQk-tsov3Y=s64",
      "userId": "07446072663021710031"
     },
     "user_tz": -120
    },
    "id": "_keJwVoxkKKy",
    "outputId": "80372f72-c0ab-45d1-a8f3-92ec7d17ad4e"
   },
   "outputs": [
    {
     "data": {
      "text/plain": [
       "Index(['cough', 'fever', 'sore_throat', 'shortness_of_breath', 'head_ache',\n",
       "       'age_60_and_above', 'test_indication'],\n",
       "      dtype='object')"
      ]
     },
     "execution_count": 27,
     "metadata": {},
     "output_type": "execute_result"
    }
   ],
   "source": [
    "X.columns"
   ]
  },
  {
   "cell_type": "code",
   "execution_count": 28,
   "metadata": {
    "executionInfo": {
     "elapsed": 2139,
     "status": "ok",
     "timestamp": 1621175778300,
     "user": {
      "displayName": "Animesh Sharma",
      "photoUrl": "https://lh3.googleusercontent.com/a-/AOh14GgtBEA8HpNXZlxHZ_XN2a7ZU56EZ5DMTqQk-tsov3Y=s64",
      "userId": "07446072663021710031"
     },
     "user_tz": -120
    },
    "id": "JrBkXu6dj2R5"
   },
   "outputs": [],
   "source": [
    "X = X.drop(['age_60_and_above'],axis=1)"
   ]
  },
  {
   "cell_type": "code",
   "execution_count": 29,
   "metadata": {
    "executionInfo": {
     "elapsed": 2134,
     "status": "ok",
     "timestamp": 1621175778301,
     "user": {
      "displayName": "Animesh Sharma",
      "photoUrl": "https://lh3.googleusercontent.com/a-/AOh14GgtBEA8HpNXZlxHZ_XN2a7ZU56EZ5DMTqQk-tsov3Y=s64",
      "userId": "07446072663021710031"
     },
     "user_tz": -120
    },
    "id": "cLLzu6y3kijz"
   },
   "outputs": [],
   "source": [
    "X = X.drop(['test_indication'],axis=1)"
   ]
  },
  {
   "cell_type": "code",
   "execution_count": 30,
   "metadata": {
    "executionInfo": {
     "elapsed": 2127,
     "status": "ok",
     "timestamp": 1621175778302,
     "user": {
      "displayName": "Animesh Sharma",
      "photoUrl": "https://lh3.googleusercontent.com/a-/AOh14GgtBEA8HpNXZlxHZ_XN2a7ZU56EZ5DMTqQk-tsov3Y=s64",
      "userId": "07446072663021710031"
     },
     "user_tz": -120
    },
    "id": "p2GytxMelIlL"
   },
   "outputs": [],
   "source": [
    "cols = X.columns\n",
    "X[cols] = X[cols].apply(pd.to_numeric, errors='coerce')"
   ]
  },
  {
   "cell_type": "code",
   "execution_count": 31,
   "metadata": {
    "executionInfo": {
     "elapsed": 2122,
     "status": "ok",
     "timestamp": 1621175778303,
     "user": {
      "displayName": "Animesh Sharma",
      "photoUrl": "https://lh3.googleusercontent.com/a-/AOh14GgtBEA8HpNXZlxHZ_XN2a7ZU56EZ5DMTqQk-tsov3Y=s64",
      "userId": "07446072663021710031"
     },
     "user_tz": -120
    },
    "id": "iXU77PbalhlR"
   },
   "outputs": [],
   "source": [
    "X.fillna(0,inplace=True)"
   ]
  },
  {
   "cell_type": "code",
   "execution_count": 32,
   "metadata": {
    "colab": {
     "base_uri": "https://localhost:8080/"
    },
    "executionInfo": {
     "elapsed": 8084,
     "status": "ok",
     "timestamp": 1621175784271,
     "user": {
      "displayName": "Animesh Sharma",
      "photoUrl": "https://lh3.googleusercontent.com/a-/AOh14GgtBEA8HpNXZlxHZ_XN2a7ZU56EZ5DMTqQk-tsov3Y=s64",
      "userId": "07446072663021710031"
     },
     "user_tz": -120
    },
    "id": "Z466ICzTLLiJ",
    "outputId": "0e8aaf96-3bed-4268-acb4-d216c5e888b9"
   },
   "outputs": [
    {
     "name": "stdout",
     "output_type": "stream",
     "text": [
      "0.9439842209072978\n"
     ]
    }
   ],
   "source": [
    "X_train, X_test, y_train, y_test = train_test_split(X,y , test_size = 0.2)\n",
    "model = LogisticRegression()\n",
    "model.fit(X_train, y_train)\n",
    "y_pred = model.predict(X_test)\n",
    "print(accuracy_score(y_test, y_pred))"
   ]
  },
  {
   "cell_type": "code",
   "execution_count": 33,
   "metadata": {
    "colab": {
     "base_uri": "https://localhost:8080/"
    },
    "executionInfo": {
     "elapsed": 433,
     "status": "ok",
     "timestamp": 1621177378700,
     "user": {
      "displayName": "Animesh Sharma",
      "photoUrl": "https://lh3.googleusercontent.com/a-/AOh14GgtBEA8HpNXZlxHZ_XN2a7ZU56EZ5DMTqQk-tsov3Y=s64",
      "userId": "07446072663021710031"
     },
     "user_tz": -120
    },
    "id": "NQiIvUNXLLiL",
    "outputId": "db0b5ff0-113d-46d0-da93-82a6b4ab3f3d"
   },
   "outputs": [
    {
     "data": {
      "text/plain": [
       "array(['negative'], dtype=object)"
      ]
     },
     "execution_count": 33,
     "metadata": {},
     "output_type": "execute_result"
    }
   ],
   "source": [
    "model.predict(np.array([[0,0,0,0,0]]))"
   ]
  },
  {
   "cell_type": "code",
   "execution_count": 16,
   "metadata": {
    "executionInfo": {
     "elapsed": 8070,
     "status": "ok",
     "timestamp": 1621175784273,
     "user": {
      "displayName": "Animesh Sharma",
      "photoUrl": "https://lh3.googleusercontent.com/a-/AOh14GgtBEA8HpNXZlxHZ_XN2a7ZU56EZ5DMTqQk-tsov3Y=s64",
      "userId": "07446072663021710031"
     },
     "user_tz": -120
    },
    "id": "Bke3tL4kLLiN"
   },
   "outputs": [],
   "source": [
    "import pickle\n",
    "pickle.dump(model, open(\"covidpred_model_v1.pkl\", \"wb\"))"
   ]
  },
  {
   "cell_type": "code",
   "execution_count": 17,
   "metadata": {
    "colab": {
     "base_uri": "https://localhost:8080/"
    },
    "executionInfo": {
     "elapsed": 8064,
     "status": "ok",
     "timestamp": 1621175784273,
     "user": {
      "displayName": "Animesh Sharma",
      "photoUrl": "https://lh3.googleusercontent.com/a-/AOh14GgtBEA8HpNXZlxHZ_XN2a7ZU56EZ5DMTqQk-tsov3Y=s64",
      "userId": "07446072663021710031"
     },
     "user_tz": -120
    },
    "id": "Ul9N-vrRLLiP",
    "outputId": "e225f986-d9b5-4bbc-c07e-d00885d6ca61"
   },
   "outputs": [
    {
     "data": {
      "text/plain": [
       "array(['negative'], dtype=object)"
      ]
     },
     "execution_count": 17,
     "metadata": {},
     "output_type": "execute_result"
    }
   ],
   "source": [
    "# deseralize\n",
    "model_pk = pickle.load(open(\"covidpred_model_v1.pkl\", \"rb\"))\n",
    "# Rerun predictions\n",
    "model.predict(np.array([[0,0,0,0,0]]))"
   ]
  },
  {
   "cell_type": "code",
   "execution_count": 18,
   "metadata": {
    "colab": {
     "base_uri": "https://localhost:8080/"
    },
    "executionInfo": {
     "elapsed": 8057,
     "status": "ok",
     "timestamp": 1621175784274,
     "user": {
      "displayName": "Animesh Sharma",
      "photoUrl": "https://lh3.googleusercontent.com/a-/AOh14GgtBEA8HpNXZlxHZ_XN2a7ZU56EZ5DMTqQk-tsov3Y=s64",
      "userId": "07446072663021710031"
     },
     "user_tz": -120
    },
    "id": "_9ydSNY6j_5Y",
    "outputId": "34397441-ea76-4d25-a89e-8f4066b576b3"
   },
   "outputs": [
    {
     "data": {
      "text/plain": [
       "array(['positive'], dtype=object)"
      ]
     },
     "execution_count": 18,
     "metadata": {},
     "output_type": "execute_result"
    }
   ],
   "source": [
    "model.predict(np.array([[1,1,1,1,1]]))"
   ]
  },
  {
   "cell_type": "code",
   "execution_count": 19,
   "metadata": {
    "colab": {
     "base_uri": "https://localhost:8080/"
    },
    "executionInfo": {
     "elapsed": 507,
     "status": "ok",
     "timestamp": 1621176402864,
     "user": {
      "displayName": "Animesh Sharma",
      "photoUrl": "https://lh3.googleusercontent.com/a-/AOh14GgtBEA8HpNXZlxHZ_XN2a7ZU56EZ5DMTqQk-tsov3Y=s64",
      "userId": "07446072663021710031"
     },
     "user_tz": -120
    },
    "id": "ZcD3jaM5oqyQ",
    "outputId": "1a20a4b0-cc85-4838-d910-0882c371c25a"
   },
   "outputs": [
    {
     "ename": "ModuleNotFoundError",
     "evalue": "No module named 'google.colab'",
     "output_type": "error",
     "traceback": [
      "\u001b[1;31m---------------------------------------------------------------------------\u001b[0m",
      "\u001b[1;31mModuleNotFoundError\u001b[0m                       Traceback (most recent call last)",
      "\u001b[1;32mC:\\Temp/ipykernel_159760/3330746954.py\u001b[0m in \u001b[0;36m<module>\u001b[1;34m\u001b[0m\n\u001b[1;32m----> 1\u001b[1;33m \u001b[1;32mfrom\u001b[0m \u001b[0mgoogle\u001b[0m\u001b[1;33m.\u001b[0m\u001b[0mcolab\u001b[0m \u001b[1;32mimport\u001b[0m \u001b[0mdrive\u001b[0m\u001b[1;33m\u001b[0m\u001b[1;33m\u001b[0m\u001b[0m\n\u001b[0m\u001b[0;32m      2\u001b[0m \u001b[0mdrive\u001b[0m\u001b[1;33m.\u001b[0m\u001b[0mmount\u001b[0m\u001b[1;33m(\u001b[0m\u001b[1;34m'GD/'\u001b[0m\u001b[1;33m)\u001b[0m\u001b[1;33m\u001b[0m\u001b[1;33m\u001b[0m\u001b[0m\n",
      "\u001b[1;31mModuleNotFoundError\u001b[0m: No module named 'google.colab'"
     ]
    }
   ],
   "source": [
    "from google.colab import drive\n",
    "drive.mount('GD/')"
   ]
  },
  {
   "cell_type": "code",
   "execution_count": null,
   "metadata": {
    "colab": {
     "base_uri": "https://localhost:8080/"
    },
    "executionInfo": {
     "elapsed": 908,
     "status": "ok",
     "timestamp": 1621176523934,
     "user": {
      "displayName": "Animesh Sharma",
      "photoUrl": "https://lh3.googleusercontent.com/a-/AOh14GgtBEA8HpNXZlxHZ_XN2a7ZU56EZ5DMTqQk-tsov3Y=s64",
      "userId": "07446072663021710031"
     },
     "user_tz": -120
    },
    "id": "5FXsk7itpFGR",
    "outputId": "4838ced5-e636-43cf-af98-ff0844b346e3"
   },
   "outputs": [],
   "source": [
    "!ls GD/\n",
    "!cp covidpred_model_v1.pkl GD/MyDrive/."
   ]
  }
 ],
 "metadata": {
  "colab": {
   "collapsed_sections": [],
   "name": "covidpred_model.ipynb",
   "provenance": [
    {
     "file_id": "https://github.com/saedhussain/gcp_serverless_ml/blob/main/Iris_model/iris_model.ipynb",
     "timestamp": 1621168574479
    }
   ]
  },
  "kernelspec": {
   "display_name": "Python 3",
   "language": "python",
   "name": "python3"
  },
  "language_info": {
   "codemirror_mode": {
    "name": "ipython",
    "version": 3
   },
   "file_extension": ".py",
   "mimetype": "text/x-python",
   "name": "python",
   "nbconvert_exporter": "python",
   "pygments_lexer": "ipython3",
   "version": "3.8.5"
  }
 },
 "nbformat": 4,
 "nbformat_minor": 4
}
