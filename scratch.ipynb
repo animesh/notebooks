{
 "cells": [
  {
   "cell_type": "code",
   "execution_count": 18,
   "metadata": {},
   "outputs": [],
   "source": [
    "#https://www.eadan.net/blog/german-tank-problem/\n",
    "import numpy as np\n",
    "num_tanks = 1000\n",
    "num_captured = 15\n",
    "serial_numbers = np.arange(1, num_tanks + 1)\n",
    "num_simulations = 100_000\n",
    "def capture_tanks(serial_numbers, n):\n",
    "     \"\"\"Capture `n` tanks, uniformly, at random.\"\"\"\n",
    "     return np.random.choice(serial_numbers, n, replace=False)\n",
    "simulations = [\n",
    "    capture_tanks(serial_numbers, num_captured)\n",
    "    for _ in range(num_simulations)\n",
    "]"
   ]
  },
  {
   "cell_type": "code",
   "execution_count": 20,
   "metadata": {},
   "outputs": [
    {
     "data": {
      "text/plain": [
       "(array([1.7000e+01, 2.5000e+01, 1.0400e+02, 2.6400e+02, 7.4000e+02,\n",
       "        2.0330e+03, 4.9160e+03, 1.1239e+04, 2.5310e+04, 5.5352e+04]),\n",
       " array([ 488. ,  539.2,  590.4,  641.6,  692.8,  744. ,  795.2,  846.4,\n",
       "         897.6,  948.8, 1000. ]),\n",
       " <a list of 10 Patch objects>)"
      ]
     },
     "execution_count": 20,
     "metadata": {},
     "output_type": "execute_result"
    },
    {
     "data": {
      "image/png": "[encoded data removed]",
      "text/plain": [
       "<Figure size 432x288 with 1 Axes>"
      ]
     },
     "metadata": {
      "needs_background": "light"
     },
     "output_type": "display_data"
    }
   ],
   "source": [
    "import matplotlib.pyplot as plt\n",
    "first_estimates = [max(s) for s in simulations]\n",
    "avg_first_estimates = np.mean(first_estimates)\n",
    "plt.hist(first_estimates)\n"
   ]
  },
  {
   "cell_type": "code",
   "execution_count": 16,
   "metadata": {},
   "outputs": [
    {
     "name": "stdout",
     "output_type": "stream",
     "text": [
      "Collecting cupy\n",
      "\u001b[?25l  Downloading https://files.pythonhosted.org/packages/fb/18/a8c5f594d6fc70d70e53c7847eabc9b922c037b3b7dff4af89a499217d42/cupy-6.1.0.tar.gz (3.1MB)\n",
      "\u001b[K    100% |████████████████████████████████| 3.1MB 5.4MB/s \n",
      "\u001b[?25h    Complete output from command python setup.py egg_info:\n",
      "    Options: {'package_name': 'cupy', 'long_description': None, 'wheel_libs': [], 'wheel_includes': [], 'no_rpath': False, 'profile': False, 'linetrace': False, 'annotate': False, 'no_cuda': False}\n",
      "    \n",
      "    -------- Configuring Module: cuda --------\n",
      "    cc1plus: warning: command line option ‘-Wstrict-prototypes’ is valid for C/ObjC but not for C++\n",
      "    cc1plus: warning: command line option ‘-Wstrict-prototypes’ is valid for C/ObjC but not for C++\n",
      "    /opt/conda/compiler_compat/ld: cannot find -lcuda\n",
      "    collect2: error: ld returned 1 exit status\n",
      "    Cannot build a stub file.\n",
      "    Original error: command 'g++' failed with exit status 1\n",
      "    \n",
      "    ************************************************************\n",
      "    * CuPy Configuration Summary                               *\n",
      "    ************************************************************\n",
      "    \n",
      "    Build Environment:\n",
      "      Include directories: ['/usr/local/cuda/include']\n",
      "      Library directories: ['/usr/local/cuda/lib64']\n",
      "      nvcc command       : ['/usr/local/cuda/bin/nvcc']\n",
      "    \n",
      "    Environment Variables:\n",
      "      CFLAGS          : (none)\n",
      "      LDFLAGS         : (none)\n",
      "      LIBRARY_PATH    : (none)\n",
      "      CUDA_PATH       : (none)\n",
      "      NVTOOLSEXT_PATH : (none)\n",
      "      NVCC            : (none)\n",
      "    \n",
      "    Modules:\n",
      "      cuda      : No\n",
      "        -> Cannot link libraries: ['cublas', 'cuda', 'cudart', 'cufft', 'curand', 'cusparse', 'nvrtc']\n",
      "        -> Check your LDFLAGS environment variable.\n",
      "    \n",
      "    ERROR: CUDA could not be found on your system.\n",
      "    Please refer to the Installation Guide for details:\n",
      "    https://docs-cupy.chainer.org/en/stable/install.html\n",
      "    \n",
      "    ************************************************************\n",
      "    \n",
      "    Traceback (most recent call last):\n",
      "      File \"<string>\", line 1, in <module>\n",
      "      File \"/tmp/pip-install-agipraz_/cupy/setup.py\", line 120, in <module>\n",
      "        ext_modules = cupy_setup_build.get_ext_modules()\n",
      "      File \"/tmp/pip-install-agipraz_/cupy/cupy_setup_build.py\", line 632, in get_ext_modules\n",
      "        extensions = make_extensions(arg_options, compiler, use_cython)\n",
      "      File \"/tmp/pip-install-agipraz_/cupy/cupy_setup_build.py\", line 387, in make_extensions\n",
      "        raise Exception('Your CUDA environment is invalid. '\n",
      "    Exception: Your CUDA environment is invalid. Please check above error log.\n",
      "    \n",
      "    ----------------------------------------\n",
      "\u001b[31mCommand \"python setup.py egg_info\" failed with error code 1 in /tmp/pip-install-agipraz_/cupy/\u001b[0m\n"
     ]
    }
   ],
   "source": [
    "#pip install voila --user\n",
    "!pip install cupy --user"
   ]
  },
  {
   "cell_type": "code",
   "execution_count": 17,
   "metadata": {},
   "outputs": [
    {
     "ename": "ModuleNotFoundError",
     "evalue": "No module named 'cupy'",
     "output_type": "error",
     "traceback": [
      "\u001b[0;31m---------------------------------------------------------------------------\u001b[0m",
      "\u001b[0;31mModuleNotFoundError\u001b[0m                       Traceback (most recent call last)",
      "\u001b[0;32m<ipython-input-17-b703feb34a5f>\u001b[0m in \u001b[0;36m<module>\u001b[0;34m\u001b[0m\n\u001b[0;32m----> 1\u001b[0;31m \u001b[0;32mimport\u001b[0m \u001b[0mcupy\u001b[0m \u001b[0;32mas\u001b[0m \u001b[0mcp\u001b[0m\u001b[0;34m\u001b[0m\u001b[0;34m\u001b[0m\u001b[0m\n\u001b[0m\u001b[1;32m      2\u001b[0m \u001b[0mx\u001b[0m \u001b[0;34m=\u001b[0m \u001b[0mcp\u001b[0m\u001b[0;34m.\u001b[0m\u001b[0marange\u001b[0m\u001b[0;34m(\u001b[0m\u001b[0;36m6\u001b[0m\u001b[0;34m)\u001b[0m\u001b[0;34m.\u001b[0m\u001b[0mreshape\u001b[0m\u001b[0;34m(\u001b[0m\u001b[0;36m2\u001b[0m\u001b[0;34m,\u001b[0m \u001b[0;36m3\u001b[0m\u001b[0;34m)\u001b[0m\u001b[0;34m.\u001b[0m\u001b[0mastype\u001b[0m\u001b[0;34m(\u001b[0m\u001b[0;34m'f'\u001b[0m\u001b[0;34m)\u001b[0m\u001b[0;34m\u001b[0m\u001b[0;34m\u001b[0m\u001b[0m\n\u001b[1;32m      3\u001b[0m \u001b[0mprint\u001b[0m\u001b[0;34m(\u001b[0m\u001b[0mx\u001b[0m\u001b[0;34m)\u001b[0m\u001b[0;34m\u001b[0m\u001b[0;34m\u001b[0m\u001b[0m\n\u001b[1;32m      4\u001b[0m \u001b[0mx\u001b[0m\u001b[0;34m.\u001b[0m\u001b[0msum\u001b[0m\u001b[0;34m(\u001b[0m\u001b[0maxis\u001b[0m\u001b[0;34m=\u001b[0m\u001b[0;36m1\u001b[0m\u001b[0;34m)\u001b[0m\u001b[0;34m\u001b[0m\u001b[0;34m\u001b[0m\u001b[0m\n\u001b[1;32m      5\u001b[0m \u001b[0;31m#array([  3.,  12.], dtype=float32)\u001b[0m\u001b[0;34m\u001b[0m\u001b[0;34m\u001b[0m\u001b[0;34m\u001b[0m\u001b[0m\n",
      "\u001b[0;31mModuleNotFoundError\u001b[0m: No module named 'cupy'"
     ]
    }
   ],
   "source": [
    "import cupy as cp\n",
    "x = cp.arange(6).reshape(2, 3).astype('f')\n",
    "print(x)\n",
    "x.sum(axis=1)\n",
    "#array([  3.,  12.], dtype=float32)"
   ]
  },
  {
   "cell_type": "code",
   "execution_count": 14,
   "metadata": {},
   "outputs": [
    {
     "name": "stdout",
     "output_type": "stream",
     "text": [
      "[0. 0. 0. 0. 0. 0. 0. 0. 0. 0. 0. 0. 0. 0. 0. 0. 0. 0. 0. 0. 0. 0. 0. 0.\n",
      " 0. 0. 0. 0. 0. 0. 0. 0. 0. 0. 0. 0. 0. 0. 0. 0. 0. 0. 0. 0. 0. 0. 0. 0.\n",
      " 0. 0. 0. 0. 0. 0. 0. 0. 0. 0. 0. 0. 0. 0. 0. 0. 0. 0. 0. 0. 0. 0. 0. 0.\n",
      " 0. 0. 0. 0. 0. 0. 0. 0. 0. 0. 0. 0. 0. 0. 0. 0. 0. 0. 0. 0. 0. 0. 0. 0.\n",
      " 0. 0. 0. 0. 0. 0. 0. 0. 0. 0. 0. 0. 0. 0. 0. 0. 0. 0. 0. 0. 0. 0. 0. 0.\n",
      " 0. 0. 0. 0. 0. 0. 0. 0. 0. 0. 0. 0. 0. 0. 0. 0. 0. 0. 0. 0. 0. 0. 0. 0.\n",
      " 0. 0. 0. 0. 0. 0. 0. 0. 0. 0. 0. 0. 0. 0. 0. 0. 0. 0. 0. 0. 0. 0. 0. 0.\n",
      " 0. 0. 0. 0. 0. 0. 0. 0. 0. 0. 0. 0. 0. 0. 0. 0. 0. 0. 0. 0. 0. 0. 0. 0.\n",
      " 0. 0. 0. 0. 0. 0. 0. 0. 0. 0. 0. 0. 0. 0. 0. 0. 0. 0. 0. 0. 0. 0. 0. 0.\n",
      " 0. 0. 0. 0. 0. 0. 0. 0. 0. 0. 0. 0. 0. 0. 0. 0. 0. 0. 0. 0. 0. 0. 0. 0.\n",
      " 0. 0. 0. 0. 0. 0. 0. 0. 0. 0. 0. 0. 0. 0. 0. 0. 0. 0. 0. 0. 0. 0. 0. 0.\n",
      " 0. 0. 0. 0. 0. 0. 0. 0. 0. 0. 0. 0. 0. 0. 0. 0. 0. 0. 0. 0. 0. 0. 0. 0.\n",
      " 0. 0. 0. 0. 0. 0. 0. 0. 0. 0. 0. 0. 0. 0. 0. 0. 0. 0. 0. 0. 0. 0. 0. 0.\n",
      " 0. 0. 0. 0. 0. 0. 0. 0. 0. 0. 0. 0. 0. 0. 0. 0. 0. 0. 0. 0. 0. 0. 0. 0.\n",
      " 0. 0. 0. 0. 0. 0. 0. 0. 0. 0. 0. 0. 0. 0. 0. 0. 0. 0. 0. 0. 0. 0. 0. 0.\n",
      " 0. 0. 0. 0. 0. 0. 0. 0. 0. 0. 0. 0. 0. 0. 0. 0. 0. 0. 0. 0. 0. 0. 0. 0.\n",
      " 0. 0. 0. 0. 0. 0. 0. 0. 0. 0. 0. 0. 0. 0. 0. 0.]\n"
     ]
    }
   ],
   "source": [
    "#cuda\n",
    "import pycuda.autoinit\n",
    "import pycuda.driver as drv\n",
    "import numpy\n",
    "\n",
    "from pycuda.compiler import SourceModule\n",
    "mod = SourceModule(\"\"\"\n",
    "__global__ void multiply_them(float *dest, float *a, float *b)\n",
    "{\n",
    "  const int i = threadIdx.x;\n",
    "  dest[i] = a[i] * b[i];\n",
    "}\n",
    "\"\"\")\n",
    "\n",
    "multiply_them = mod.get_function(\"multiply_them\")\n",
    "\n",
    "a = numpy.random.randn(400).astype(numpy.float32)\n",
    "b = numpy.random.randn(400).astype(numpy.float32)\n",
    "\n",
    "dest = numpy.zeros_like(a)\n",
    "multiply_them(\n",
    "        drv.Out(dest), drv.In(a), drv.In(b),\n",
    "        block=(400,1,1), grid=(1,1))\n",
    "\n",
    "print(dest-a*b)"
   ]
  },
  {
   "cell_type": "code",
   "execution_count": 13,
   "metadata": {},
   "outputs": [
    {
     "name": "stdout",
     "output_type": "stream",
     "text": [
      "<pycuda.compiler.SourceModule object at 0x7ff625359400>\n"
     ]
    }
   ],
   "source": [
    "#metaprogramming\n",
    "from jinja2 import Template\n",
    "thread_block_size=32\n",
    "tpl = Template(\"\"\"\n",
    "    __global__ void add(\n",
    "            {{ type_name }} *tgt,\n",
    "            {{ type_name }} *op1,\n",
    "            {{ type_name }} *op2)\n",
    "    {\n",
    "      int idx = threadIdx.x +\n",
    "        {{ thread_block_size }} * {{block_size}}\n",
    "        * blockIdx.x;\n",
    "\n",
    "      {% for i in range(block_size) %}\n",
    "          {% set offset = i*thread_block_size %}\n",
    "          tgt[idx + {{ offset }}] =\n",
    "            op1[idx + {{ offset }}]\n",
    "            + op2[idx + {{ offset }}];\n",
    "      {% endfor %}\n",
    "    }\"\"\")\n",
    "\n",
    "rendered_tpl = tpl.render(\n",
    "    type_name=\"float\", block_size=block_size,\n",
    "    thread_block_size=thread_block_size)\n",
    "\n",
    "mod = SourceModule(rendered_tpl)\n",
    "print(mod)"
   ]
  },
  {
   "cell_type": "code",
   "execution_count": 10,
   "metadata": {},
   "outputs": [
    {
     "name": "stdout",
     "output_type": "stream",
     "text": [
      "Requirement already satisfied: codepy in /home/ash022/.local/lib/python3.6/site-packages (2017.2.2)\n",
      "Requirement already satisfied: numpy>=1.6 in /opt/conda/lib/python3.6/site-packages (from codepy) (1.16.2)\n",
      "Requirement already satisfied: appdirs>=1.4.0 in /opt/conda/lib/python3.6/site-packages (from codepy) (1.4.3)\n",
      "Requirement already satisfied: cgen in /home/ash022/.local/lib/python3.6/site-packages (from codepy) (2017.1)\n",
      "Requirement already satisfied: pytools>=2015.1.2 in /opt/conda/lib/python3.6/site-packages (from codepy) (2019.1)\n",
      "Requirement already satisfied: six in /opt/conda/lib/python3.6/site-packages (from codepy) (1.12.0)\n",
      "Requirement already satisfied: decorator>=3.2.0 in /opt/conda/lib/python3.6/site-packages (from pytools>=2015.1.2->codepy) (4.4.0)\n"
     ]
    }
   ],
   "source": [
    "!pip install codepy --user"
   ]
  },
  {
   "cell_type": "code",
   "execution_count": 6,
   "metadata": {},
   "outputs": [
    {
     "name": "stderr",
     "output_type": "stream",
     "text": [
      "/opt/conda/lib/python3.6/site-packages/ipykernel_launcher.py:1: DeprecationWarning: codepy.cgen is deprecated. Use the separate 'cgen' module instead, see the Python package index.\n",
      "  \"\"\"Entry point for launching an IPython kernel.\n"
     ]
    },
    {
     "ename": "ModuleNotFoundError",
     "evalue": "No module named 'codepy.cgen.cuda'",
     "output_type": "error",
     "traceback": [
      "\u001b[0;31m---------------------------------------------------------------------------\u001b[0m",
      "\u001b[0;31mModuleNotFoundError\u001b[0m                       Traceback (most recent call last)",
      "\u001b[0;32m<ipython-input-6-ae42badb94ce>\u001b[0m in \u001b[0;36m<module>\u001b[0;34m\u001b[0m\n\u001b[1;32m      2\u001b[0m         \u001b[0mFunctionDeclaration\u001b[0m\u001b[0;34m,\u001b[0m \u001b[0mTypedef\u001b[0m\u001b[0;34m,\u001b[0m \u001b[0mPOD\u001b[0m\u001b[0;34m,\u001b[0m \u001b[0mValue\u001b[0m\u001b[0;34m,\u001b[0m\u001b[0;31m \u001b[0m\u001b[0;31m\\\u001b[0m\u001b[0;34m\u001b[0m\u001b[0;34m\u001b[0m\u001b[0m\n\u001b[1;32m      3\u001b[0m         \u001b[0mPointer\u001b[0m\u001b[0;34m,\u001b[0m \u001b[0mModule\u001b[0m\u001b[0;34m,\u001b[0m \u001b[0mBlock\u001b[0m\u001b[0;34m,\u001b[0m \u001b[0mInitializer\u001b[0m\u001b[0;34m,\u001b[0m \u001b[0mAssign\u001b[0m\u001b[0;34m\u001b[0m\u001b[0;34m\u001b[0m\u001b[0m\n\u001b[0;32m----> 4\u001b[0;31m \u001b[0;32mfrom\u001b[0m \u001b[0mcodepy\u001b[0m\u001b[0;34m.\u001b[0m\u001b[0mcgen\u001b[0m\u001b[0;34m.\u001b[0m\u001b[0mcuda\u001b[0m \u001b[0;32mimport\u001b[0m \u001b[0mCudaGlobal\u001b[0m\u001b[0;34m\u001b[0m\u001b[0;34m\u001b[0m\u001b[0m\n\u001b[0m\u001b[1;32m      5\u001b[0m \u001b[0;34m\u001b[0m\u001b[0m\n\u001b[1;32m      6\u001b[0m mod = Module([\n",
      "\u001b[0;31mModuleNotFoundError\u001b[0m: No module named 'codepy.cgen.cuda'"
     ]
    }
   ],
   "source": [
    "from codepy.cgen import FunctionBody, \\\n",
    "        FunctionDeclaration, Typedef, POD, Value, \\\n",
    "        Pointer, Module, Block, Initializer, Assign\n",
    "from codepy.cgen.cuda import CudaGlobal\n",
    "\n",
    "mod = Module([\n",
    "    FunctionBody(\n",
    "        CudaGlobal(FunctionDeclaration(\n",
    "            Value(\"void\", \"add\"),\n",
    "            arg_decls=[Pointer(POD(dtype, name))\n",
    "                for name in [\"tgt\", \"op1\", \"op2\"]])),\n",
    "        Block([\n",
    "            Initializer(\n",
    "                POD(numpy.int32, \"idx\"),\n",
    "                \"threadIdx.x + %d*blockIdx.x\"\n",
    "                % (thread_block_size*block_size)),\n",
    "            ]+[\n",
    "            Assign(\n",
    "                \"tgt[idx+%d]\" % (o*thread_block_size),\n",
    "                \"op1[idx+%d] + op2[idx+%d]\" % (\n",
    "                    o*thread_block_size,\n",
    "                    o*thread_block_size))\n",
    "            for o in range(block_size)]))])\n",
    "\n",
    "mod = SourceModule(mod)"
   ]
  }
 ],
 "metadata": {
  "kernelspec": {
   "display_name": "Python 3",
   "language": "python",
   "name": "python3"
  },
  "language_info": {
   "codemirror_mode": {
    "name": "ipython",
    "version": 3
   },
   "file_extension": ".py",
   "mimetype": "text/x-python",
   "name": "python",
   "nbconvert_exporter": "python",
   "pygments_lexer": "ipython3",
   "version": "3.6.7"
  }
 },
 "nbformat": 4,
 "nbformat_minor": 2
}
