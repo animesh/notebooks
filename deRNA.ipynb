{
  "nbformat": 4,
  "nbformat_minor": 0,
  "metadata": {
    "colab": {
      "name": "deRNA.ipynb",
      "provenance": [],
      "collapsed_sections": [],
      "history_visible": true
    },
    "kernelspec": {
      "name": "python3",
      "display_name": "Python 3"
    },
    "widgets": {
      "application/vnd.jupyter.widget-state+json": {
        "a10ae5ef6ad745cf9eb2ab36e471464c": {
          "model_module": "@jupyter-widgets/controls",
          "model_name": "VBoxModel",
          "state": {
            "_dom_classes": [
              "widget-interact"
            ],
            "_model_module": "@jupyter-widgets/controls",
            "_model_module_version": "1.5.0",
            "_model_name": "VBoxModel",
            "_view_count": null,
            "_view_module": "@jupyter-widgets/controls",
            "_view_module_version": "1.5.0",
            "_view_name": "VBoxView",
            "box_style": "",
            "children": [
              "IPY_MODEL_a733ee007a6a406e86a09a4589b3ab87",
              "IPY_MODEL_15c4349d3aa44fd3a30a4bd16760a0be",
              "IPY_MODEL_010bf3cab23a4e89b0deea2fae9f80d6"
            ],
            "layout": "IPY_MODEL_bd0b2dbbbc114776ac0e654b6f4120f9"
          }
        },
        "a733ee007a6a406e86a09a4589b3ab87": {
          "model_module": "@jupyter-widgets/controls",
          "model_name": "CheckboxModel",
          "state": {
            "_dom_classes": [],
            "_model_module": "@jupyter-widgets/controls",
            "_model_module_version": "1.5.0",
            "_model_name": "CheckboxModel",
            "_view_count": null,
            "_view_module": "@jupyter-widgets/controls",
            "_view_module_version": "1.5.0",
            "_view_name": "CheckboxView",
            "description": "x",
            "description_tooltip": null,
            "disabled": false,
            "indent": true,
            "layout": "IPY_MODEL_eeebfe59f7724497b857443ae5e2bcd2",
            "style": "IPY_MODEL_f48f214d068c4a648efc3c1fbc564a20",
            "value": true
          }
        },
        "15c4349d3aa44fd3a30a4bd16760a0be": {
          "model_module": "@jupyter-widgets/controls",
          "model_name": "FloatSliderModel",
          "state": {
            "_dom_classes": [],
            "_model_module": "@jupyter-widgets/controls",
            "_model_module_version": "1.5.0",
            "_model_name": "FloatSliderModel",
            "_view_count": null,
            "_view_module": "@jupyter-widgets/controls",
            "_view_module_version": "1.5.0",
            "_view_name": "FloatSliderView",
            "continuous_update": true,
            "description": "y",
            "description_tooltip": null,
            "disabled": false,
            "layout": "IPY_MODEL_b6a8d15da6b447d4a56b724f776f3e49",
            "max": 3,
            "min": -1,
            "orientation": "horizontal",
            "readout": true,
            "readout_format": ".2f",
            "step": 0.1,
            "style": "IPY_MODEL_34fb1ecb9f644a57b4c2026396abc413",
            "value": 1
          }
        },
        "010bf3cab23a4e89b0deea2fae9f80d6": {
          "model_module": "@jupyter-widgets/output",
          "model_name": "OutputModel",
          "state": {
            "_dom_classes": [],
            "_model_module": "@jupyter-widgets/output",
            "_model_module_version": "1.0.0",
            "_model_name": "OutputModel",
            "_view_count": null,
            "_view_module": "@jupyter-widgets/output",
            "_view_module_version": "1.0.0",
            "_view_name": "OutputView",
            "layout": "IPY_MODEL_25de3c96b37749e89f64da724fc57304",
            "msg_id": "",
            "outputs": [
              {
                "output_type": "stream",
                "metadata": {
                  "tags": []
                },
                "text": "True 1.0\n",
                "stream": "stdout"
              }
            ]
          }
        },
        "bd0b2dbbbc114776ac0e654b6f4120f9": {
          "model_module": "@jupyter-widgets/base",
          "model_name": "LayoutModel",
          "state": {
            "_model_module": "@jupyter-widgets/base",
            "_model_module_version": "1.2.0",
            "_model_name": "LayoutModel",
            "_view_count": null,
            "_view_module": "@jupyter-widgets/base",
            "_view_module_version": "1.2.0",
            "_view_name": "LayoutView",
            "align_content": null,
            "align_items": null,
            "align_self": null,
            "border": null,
            "bottom": null,
            "display": null,
            "flex": null,
            "flex_flow": null,
            "grid_area": null,
            "grid_auto_columns": null,
            "grid_auto_flow": null,
            "grid_auto_rows": null,
            "grid_column": null,
            "grid_gap": null,
            "grid_row": null,
            "grid_template_areas": null,
            "grid_template_columns": null,
            "grid_template_rows": null,
            "height": null,
            "justify_content": null,
            "justify_items": null,
            "left": null,
            "margin": null,
            "max_height": null,
            "max_width": null,
            "min_height": null,
            "min_width": null,
            "object_fit": null,
            "object_position": null,
            "order": null,
            "overflow": null,
            "overflow_x": null,
            "overflow_y": null,
            "padding": null,
            "right": null,
            "top": null,
            "visibility": null,
            "width": null
          }
        },
        "eeebfe59f7724497b857443ae5e2bcd2": {
          "model_module": "@jupyter-widgets/base",
          "model_name": "LayoutModel",
          "state": {
            "_model_module": "@jupyter-widgets/base",
            "_model_module_version": "1.2.0",
            "_model_name": "LayoutModel",
            "_view_count": null,
            "_view_module": "@jupyter-widgets/base",
            "_view_module_version": "1.2.0",
            "_view_name": "LayoutView",
            "align_content": null,
            "align_items": null,
            "align_self": null,
            "border": null,
            "bottom": null,
            "display": null,
            "flex": null,
            "flex_flow": null,
            "grid_area": null,
            "grid_auto_columns": null,
            "grid_auto_flow": null,
            "grid_auto_rows": null,
            "grid_column": null,
            "grid_gap": null,
            "grid_row": null,
            "grid_template_areas": null,
            "grid_template_columns": null,
            "grid_template_rows": null,
            "height": null,
            "justify_content": null,
            "justify_items": null,
            "left": null,
            "margin": null,
            "max_height": null,
            "max_width": null,
            "min_height": null,
            "min_width": null,
            "object_fit": null,
            "object_position": null,
            "order": null,
            "overflow": null,
            "overflow_x": null,
            "overflow_y": null,
            "padding": null,
            "right": null,
            "top": null,
            "visibility": null,
            "width": null
          }
        },
        "f48f214d068c4a648efc3c1fbc564a20": {
          "model_module": "@jupyter-widgets/controls",
          "model_name": "DescriptionStyleModel",
          "state": {
            "_model_module": "@jupyter-widgets/controls",
            "_model_module_version": "1.5.0",
            "_model_name": "DescriptionStyleModel",
            "_view_count": null,
            "_view_module": "@jupyter-widgets/base",
            "_view_module_version": "1.2.0",
            "_view_name": "StyleView",
            "description_width": ""
          }
        },
        "b6a8d15da6b447d4a56b724f776f3e49": {
          "model_module": "@jupyter-widgets/base",
          "model_name": "LayoutModel",
          "state": {
            "_model_module": "@jupyter-widgets/base",
            "_model_module_version": "1.2.0",
            "_model_name": "LayoutModel",
            "_view_count": null,
            "_view_module": "@jupyter-widgets/base",
            "_view_module_version": "1.2.0",
            "_view_name": "LayoutView",
            "align_content": null,
            "align_items": null,
            "align_self": null,
            "border": null,
            "bottom": null,
            "display": null,
            "flex": null,
            "flex_flow": null,
            "grid_area": null,
            "grid_auto_columns": null,
            "grid_auto_flow": null,
            "grid_auto_rows": null,
            "grid_column": null,
            "grid_gap": null,
            "grid_row": null,
            "grid_template_areas": null,
            "grid_template_columns": null,
            "grid_template_rows": null,
            "height": null,
            "justify_content": null,
            "justify_items": null,
            "left": null,
            "margin": null,
            "max_height": null,
            "max_width": null,
            "min_height": null,
            "min_width": null,
            "object_fit": null,
            "object_position": null,
            "order": null,
            "overflow": null,
            "overflow_x": null,
            "overflow_y": null,
            "padding": null,
            "right": null,
            "top": null,
            "visibility": null,
            "width": null
          }
        },
        "34fb1ecb9f644a57b4c2026396abc413": {
          "model_module": "@jupyter-widgets/controls",
          "model_name": "SliderStyleModel",
          "state": {
            "_model_module": "@jupyter-widgets/controls",
            "_model_module_version": "1.5.0",
            "_model_name": "SliderStyleModel",
            "_view_count": null,
            "_view_module": "@jupyter-widgets/base",
            "_view_module_version": "1.2.0",
            "_view_name": "StyleView",
            "description_width": "",
            "handle_color": null
          }
        },
        "25de3c96b37749e89f64da724fc57304": {
          "model_module": "@jupyter-widgets/base",
          "model_name": "LayoutModel",
          "state": {
            "_model_module": "@jupyter-widgets/base",
            "_model_module_version": "1.2.0",
            "_model_name": "LayoutModel",
            "_view_count": null,
            "_view_module": "@jupyter-widgets/base",
            "_view_module_version": "1.2.0",
            "_view_name": "LayoutView",
            "align_content": null,
            "align_items": null,
            "align_self": null,
            "border": null,
            "bottom": null,
            "display": null,
            "flex": null,
            "flex_flow": null,
            "grid_area": null,
            "grid_auto_columns": null,
            "grid_auto_flow": null,
            "grid_auto_rows": null,
            "grid_column": null,
            "grid_gap": null,
            "grid_row": null,
            "grid_template_areas": null,
            "grid_template_columns": null,
            "grid_template_rows": null,
            "height": null,
            "justify_content": null,
            "justify_items": null,
            "left": null,
            "margin": null,
            "max_height": null,
            "max_width": null,
            "min_height": null,
            "min_width": null,
            "object_fit": null,
            "object_position": null,
            "order": null,
            "overflow": null,
            "overflow_x": null,
            "overflow_y": null,
            "padding": null,
            "right": null,
            "top": null,
            "visibility": null,
            "width": null
          }
        },
        "cdad5047b8d943189f721139f1376935": {
          "model_module": "@jupyter-widgets/controls",
          "model_name": "HBoxModel",
          "state": {
            "_dom_classes": [],
            "_model_module": "@jupyter-widgets/controls",
            "_model_module_version": "1.5.0",
            "_model_name": "HBoxModel",
            "_view_count": null,
            "_view_module": "@jupyter-widgets/controls",
            "_view_module_version": "1.5.0",
            "_view_name": "HBoxView",
            "box_style": "",
            "children": [
              "IPY_MODEL_90b5d679ba244043af52ca8c87885c1a",
              "IPY_MODEL_3c217fa268c64517ba9fe1ac33c61653"
            ],
            "layout": "IPY_MODEL_87a76dbbeaa9492e81c16e889556c0de"
          }
        },
        "90b5d679ba244043af52ca8c87885c1a": {
          "model_module": "@jupyter-widgets/controls",
          "model_name": "FloatProgressModel",
          "state": {
            "_dom_classes": [],
            "_model_module": "@jupyter-widgets/controls",
            "_model_module_version": "1.5.0",
            "_model_name": "FloatProgressModel",
            "_view_count": null,
            "_view_module": "@jupyter-widgets/controls",
            "_view_module_version": "1.5.0",
            "_view_name": "ProgressView",
            "bar_style": "success",
            "description": "outer loop: 100%",
            "description_tooltip": null,
            "layout": "IPY_MODEL_bd84f84c215f4ef6a628e6ffcfc14370",
            "max": 10,
            "min": 0,
            "orientation": "horizontal",
            "style": "IPY_MODEL_43f2305369af48bdab199306109775d5",
            "value": 10
          }
        },
        "3c217fa268c64517ba9fe1ac33c61653": {
          "model_module": "@jupyter-widgets/controls",
          "model_name": "HTMLModel",
          "state": {
            "_dom_classes": [],
            "_model_module": "@jupyter-widgets/controls",
            "_model_module_version": "1.5.0",
            "_model_name": "HTMLModel",
            "_view_count": null,
            "_view_module": "@jupyter-widgets/controls",
            "_view_module_version": "1.5.0",
            "_view_name": "HTMLView",
            "description": "",
            "description_tooltip": null,
            "layout": "IPY_MODEL_e5b9c505542c4de281096594b4667c44",
            "placeholder": "​",
            "style": "IPY_MODEL_dac71b9f22fc481abf18f94e301746f0",
            "value": " 10/10 [00:30&lt;00:00,  3.09s/it]"
          }
        },
        "87a76dbbeaa9492e81c16e889556c0de": {
          "model_module": "@jupyter-widgets/base",
          "model_name": "LayoutModel",
          "state": {
            "_model_module": "@jupyter-widgets/base",
            "_model_module_version": "1.2.0",
            "_model_name": "LayoutModel",
            "_view_count": null,
            "_view_module": "@jupyter-widgets/base",
            "_view_module_version": "1.2.0",
            "_view_name": "LayoutView",
            "align_content": null,
            "align_items": null,
            "align_self": null,
            "border": null,
            "bottom": null,
            "display": null,
            "flex": null,
            "flex_flow": null,
            "grid_area": null,
            "grid_auto_columns": null,
            "grid_auto_flow": null,
            "grid_auto_rows": null,
            "grid_column": null,
            "grid_gap": null,
            "grid_row": null,
            "grid_template_areas": null,
            "grid_template_columns": null,
            "grid_template_rows": null,
            "height": null,
            "justify_content": null,
            "justify_items": null,
            "left": null,
            "margin": null,
            "max_height": null,
            "max_width": null,
            "min_height": null,
            "min_width": null,
            "object_fit": null,
            "object_position": null,
            "order": null,
            "overflow": null,
            "overflow_x": null,
            "overflow_y": null,
            "padding": null,
            "right": null,
            "top": null,
            "visibility": null,
            "width": null
          }
        },
        "bd84f84c215f4ef6a628e6ffcfc14370": {
          "model_module": "@jupyter-widgets/base",
          "model_name": "LayoutModel",
          "state": {
            "_model_module": "@jupyter-widgets/base",
            "_model_module_version": "1.2.0",
            "_model_name": "LayoutModel",
            "_view_count": null,
            "_view_module": "@jupyter-widgets/base",
            "_view_module_version": "1.2.0",
            "_view_name": "LayoutView",
            "align_content": null,
            "align_items": null,
            "align_self": null,
            "border": null,
            "bottom": null,
            "display": null,
            "flex": null,
            "flex_flow": null,
            "grid_area": null,
            "grid_auto_columns": null,
            "grid_auto_flow": null,
            "grid_auto_rows": null,
            "grid_column": null,
            "grid_gap": null,
            "grid_row": null,
            "grid_template_areas": null,
            "grid_template_columns": null,
            "grid_template_rows": null,
            "height": null,
            "justify_content": null,
            "justify_items": null,
            "left": null,
            "margin": null,
            "max_height": null,
            "max_width": null,
            "min_height": null,
            "min_width": null,
            "object_fit": null,
            "object_position": null,
            "order": null,
            "overflow": null,
            "overflow_x": null,
            "overflow_y": null,
            "padding": null,
            "right": null,
            "top": null,
            "visibility": null,
            "width": null
          }
        },
        "43f2305369af48bdab199306109775d5": {
          "model_module": "@jupyter-widgets/controls",
          "model_name": "ProgressStyleModel",
          "state": {
            "_model_module": "@jupyter-widgets/controls",
            "_model_module_version": "1.5.0",
            "_model_name": "ProgressStyleModel",
            "_view_count": null,
            "_view_module": "@jupyter-widgets/base",
            "_view_module_version": "1.2.0",
            "_view_name": "StyleView",
            "bar_color": null,
            "description_width": "initial"
          }
        },
        "e5b9c505542c4de281096594b4667c44": {
          "model_module": "@jupyter-widgets/base",
          "model_name": "LayoutModel",
          "state": {
            "_model_module": "@jupyter-widgets/base",
            "_model_module_version": "1.2.0",
            "_model_name": "LayoutModel",
            "_view_count": null,
            "_view_module": "@jupyter-widgets/base",
            "_view_module_version": "1.2.0",
            "_view_name": "LayoutView",
            "align_content": null,
            "align_items": null,
            "align_self": null,
            "border": null,
            "bottom": null,
            "display": null,
            "flex": null,
            "flex_flow": null,
            "grid_area": null,
            "grid_auto_columns": null,
            "grid_auto_flow": null,
            "grid_auto_rows": null,
            "grid_column": null,
            "grid_gap": null,
            "grid_row": null,
            "grid_template_areas": null,
            "grid_template_columns": null,
            "grid_template_rows": null,
            "height": null,
            "justify_content": null,
            "justify_items": null,
            "left": null,
            "margin": null,
            "max_height": null,
            "max_width": null,
            "min_height": null,
            "min_width": null,
            "object_fit": null,
            "object_position": null,
            "order": null,
            "overflow": null,
            "overflow_x": null,
            "overflow_y": null,
            "padding": null,
            "right": null,
            "top": null,
            "visibility": null,
            "width": null
          }
        },
        "dac71b9f22fc481abf18f94e301746f0": {
          "model_module": "@jupyter-widgets/controls",
          "model_name": "DescriptionStyleModel",
          "state": {
            "_model_module": "@jupyter-widgets/controls",
            "_model_module_version": "1.5.0",
            "_model_name": "DescriptionStyleModel",
            "_view_count": null,
            "_view_module": "@jupyter-widgets/base",
            "_view_module_version": "1.2.0",
            "_view_name": "StyleView",
            "description_width": ""
          }
        },
        "2ff4645b97ff4cff95f93875bcd06560": {
          "model_module": "@jupyter-widgets/controls",
          "model_name": "HBoxModel",
          "state": {
            "_dom_classes": [],
            "_model_module": "@jupyter-widgets/controls",
            "_model_module_version": "1.5.0",
            "_model_name": "HBoxModel",
            "_view_count": null,
            "_view_module": "@jupyter-widgets/controls",
            "_view_module_version": "1.5.0",
            "_view_name": "HBoxView",
            "box_style": "",
            "children": [
              "IPY_MODEL_417b15b734724a9b88a540bbc0ec4d5c",
              "IPY_MODEL_c224ea54e40947bf99f40cf3c8cb382d"
            ],
            "layout": "IPY_MODEL_fb9c2b0b694f4d089dd4e11beced6015"
          }
        },
        "417b15b734724a9b88a540bbc0ec4d5c": {
          "model_module": "@jupyter-widgets/controls",
          "model_name": "FloatProgressModel",
          "state": {
            "_dom_classes": [],
            "_model_module": "@jupyter-widgets/controls",
            "_model_module_version": "1.5.0",
            "_model_name": "FloatProgressModel",
            "_view_count": null,
            "_view_module": "@jupyter-widgets/controls",
            "_view_module_version": "1.5.0",
            "_view_name": "ProgressView",
            "bar_style": "success",
            "description": "loop 0: 100%",
            "description_tooltip": null,
            "layout": "IPY_MODEL_f8f7b3e503c446b4a98d1f66da0d466f",
            "max": 10,
            "min": 0,
            "orientation": "horizontal",
            "style": "IPY_MODEL_6035ff9d5af7468d86cb050f29ac004c",
            "value": 10
          }
        },
        "c224ea54e40947bf99f40cf3c8cb382d": {
          "model_module": "@jupyter-widgets/controls",
          "model_name": "HTMLModel",
          "state": {
            "_dom_classes": [],
            "_model_module": "@jupyter-widgets/controls",
            "_model_module_version": "1.5.0",
            "_model_name": "HTMLModel",
            "_view_count": null,
            "_view_module": "@jupyter-widgets/controls",
            "_view_module_version": "1.5.0",
            "_view_name": "HTMLView",
            "description": "",
            "description_tooltip": null,
            "layout": "IPY_MODEL_143994c83a06451ea9d33e4e2a2d6edf",
            "placeholder": "​",
            "style": "IPY_MODEL_e2f36d1135df4f97b97ccfa9d204eddb",
            "value": " 10/10 [00:03&lt;00:00,  3.22it/s]"
          }
        },
        "fb9c2b0b694f4d089dd4e11beced6015": {
          "model_module": "@jupyter-widgets/base",
          "model_name": "LayoutModel",
          "state": {
            "_model_module": "@jupyter-widgets/base",
            "_model_module_version": "1.2.0",
            "_model_name": "LayoutModel",
            "_view_count": null,
            "_view_module": "@jupyter-widgets/base",
            "_view_module_version": "1.2.0",
            "_view_name": "LayoutView",
            "align_content": null,
            "align_items": null,
            "align_self": null,
            "border": null,
            "bottom": null,
            "display": null,
            "flex": null,
            "flex_flow": null,
            "grid_area": null,
            "grid_auto_columns": null,
            "grid_auto_flow": null,
            "grid_auto_rows": null,
            "grid_column": null,
            "grid_gap": null,
            "grid_row": null,
            "grid_template_areas": null,
            "grid_template_columns": null,
            "grid_template_rows": null,
            "height": null,
            "justify_content": null,
            "justify_items": null,
            "left": null,
            "margin": null,
            "max_height": null,
            "max_width": null,
            "min_height": null,
            "min_width": null,
            "object_fit": null,
            "object_position": null,
            "order": null,
            "overflow": null,
            "overflow_x": null,
            "overflow_y": null,
            "padding": null,
            "right": null,
            "top": null,
            "visibility": null,
            "width": null
          }
        },
        "f8f7b3e503c446b4a98d1f66da0d466f": {
          "model_module": "@jupyter-widgets/base",
          "model_name": "LayoutModel",
          "state": {
            "_model_module": "@jupyter-widgets/base",
            "_model_module_version": "1.2.0",
            "_model_name": "LayoutModel",
            "_view_count": null,
            "_view_module": "@jupyter-widgets/base",
            "_view_module_version": "1.2.0",
            "_view_name": "LayoutView",
            "align_content": null,
            "align_items": null,
            "align_self": null,
            "border": null,
            "bottom": null,
            "display": null,
            "flex": null,
            "flex_flow": null,
            "grid_area": null,
            "grid_auto_columns": null,
            "grid_auto_flow": null,
            "grid_auto_rows": null,
            "grid_column": null,
            "grid_gap": null,
            "grid_row": null,
            "grid_template_areas": null,
            "grid_template_columns": null,
            "grid_template_rows": null,
            "height": null,
            "justify_content": null,
            "justify_items": null,
            "left": null,
            "margin": null,
            "max_height": null,
            "max_width": null,
            "min_height": null,
            "min_width": null,
            "object_fit": null,
            "object_position": null,
            "order": null,
            "overflow": null,
            "overflow_x": null,
            "overflow_y": null,
            "padding": null,
            "right": null,
            "top": null,
            "visibility": null,
            "width": null
          }
        },
        "6035ff9d5af7468d86cb050f29ac004c": {
          "model_module": "@jupyter-widgets/controls",
          "model_name": "ProgressStyleModel",
          "state": {
            "_model_module": "@jupyter-widgets/controls",
            "_model_module_version": "1.5.0",
            "_model_name": "ProgressStyleModel",
            "_view_count": null,
            "_view_module": "@jupyter-widgets/base",
            "_view_module_version": "1.2.0",
            "_view_name": "StyleView",
            "bar_color": null,
            "description_width": "initial"
          }
        },
        "143994c83a06451ea9d33e4e2a2d6edf": {
          "model_module": "@jupyter-widgets/base",
          "model_name": "LayoutModel",
          "state": {
            "_model_module": "@jupyter-widgets/base",
            "_model_module_version": "1.2.0",
            "_model_name": "LayoutModel",
            "_view_count": null,
            "_view_module": "@jupyter-widgets/base",
            "_view_module_version": "1.2.0",
            "_view_name": "LayoutView",
            "align_content": null,
            "align_items": null,
            "align_self": null,
            "border": null,
            "bottom": null,
            "display": null,
            "flex": null,
            "flex_flow": null,
            "grid_area": null,
            "grid_auto_columns": null,
            "grid_auto_flow": null,
            "grid_auto_rows": null,
            "grid_column": null,
            "grid_gap": null,
            "grid_row": null,
            "grid_template_areas": null,
            "grid_template_columns": null,
            "grid_template_rows": null,
            "height": null,
            "justify_content": null,
            "justify_items": null,
            "left": null,
            "margin": null,
            "max_height": null,
            "max_width": null,
            "min_height": null,
            "min_width": null,
            "object_fit": null,
            "object_position": null,
            "order": null,
            "overflow": null,
            "overflow_x": null,
            "overflow_y": null,
            "padding": null,
            "right": null,
            "top": null,
            "visibility": null,
            "width": null
          }
        },
        "e2f36d1135df4f97b97ccfa9d204eddb": {
          "model_module": "@jupyter-widgets/controls",
          "model_name": "DescriptionStyleModel",
          "state": {
            "_model_module": "@jupyter-widgets/controls",
            "_model_module_version": "1.5.0",
            "_model_name": "DescriptionStyleModel",
            "_view_count": null,
            "_view_module": "@jupyter-widgets/base",
            "_view_module_version": "1.2.0",
            "_view_name": "StyleView",
            "description_width": ""
          }
        },
        "b346585fbe2c482b8641ae3db1c0872c": {
          "model_module": "@jupyter-widgets/controls",
          "model_name": "HBoxModel",
          "state": {
            "_dom_classes": [],
            "_model_module": "@jupyter-widgets/controls",
            "_model_module_version": "1.5.0",
            "_model_name": "HBoxModel",
            "_view_count": null,
            "_view_module": "@jupyter-widgets/controls",
            "_view_module_version": "1.5.0",
            "_view_name": "HBoxView",
            "box_style": "",
            "children": [
              "IPY_MODEL_f730652a814e480abc4f34d65b0bb262",
              "IPY_MODEL_4ae1844d5c104336be2d5d4bb8eeddff"
            ],
            "layout": "IPY_MODEL_8402cd964d41438a9abc4d36a379c546"
          }
        },
        "f730652a814e480abc4f34d65b0bb262": {
          "model_module": "@jupyter-widgets/controls",
          "model_name": "FloatProgressModel",
          "state": {
            "_dom_classes": [],
            "_model_module": "@jupyter-widgets/controls",
            "_model_module_version": "1.5.0",
            "_model_name": "FloatProgressModel",
            "_view_count": null,
            "_view_module": "@jupyter-widgets/controls",
            "_view_module_version": "1.5.0",
            "_view_name": "ProgressView",
            "bar_style": "success",
            "description": "loop 1: 100%",
            "description_tooltip": null,
            "layout": "IPY_MODEL_02fcbee0607c448daabf16dce9ee5cec",
            "max": 10,
            "min": 0,
            "orientation": "horizontal",
            "style": "IPY_MODEL_0e818e6ab3fd421baa134367f2cb2deb",
            "value": 10
          }
        },
        "4ae1844d5c104336be2d5d4bb8eeddff": {
          "model_module": "@jupyter-widgets/controls",
          "model_name": "HTMLModel",
          "state": {
            "_dom_classes": [],
            "_model_module": "@jupyter-widgets/controls",
            "_model_module_version": "1.5.0",
            "_model_name": "HTMLModel",
            "_view_count": null,
            "_view_module": "@jupyter-widgets/controls",
            "_view_module_version": "1.5.0",
            "_view_name": "HTMLView",
            "description": "",
            "description_tooltip": null,
            "layout": "IPY_MODEL_5e8c3c65d6a8470283332ba0ca09797e",
            "placeholder": "​",
            "style": "IPY_MODEL_6996382faf9c479d9dd55be407ddee01",
            "value": " 10/10 [00:03&lt;00:00,  3.24it/s]"
          }
        },
        "8402cd964d41438a9abc4d36a379c546": {
          "model_module": "@jupyter-widgets/base",
          "model_name": "LayoutModel",
          "state": {
            "_model_module": "@jupyter-widgets/base",
            "_model_module_version": "1.2.0",
            "_model_name": "LayoutModel",
            "_view_count": null,
            "_view_module": "@jupyter-widgets/base",
            "_view_module_version": "1.2.0",
            "_view_name": "LayoutView",
            "align_content": null,
            "align_items": null,
            "align_self": null,
            "border": null,
            "bottom": null,
            "display": null,
            "flex": null,
            "flex_flow": null,
            "grid_area": null,
            "grid_auto_columns": null,
            "grid_auto_flow": null,
            "grid_auto_rows": null,
            "grid_column": null,
            "grid_gap": null,
            "grid_row": null,
            "grid_template_areas": null,
            "grid_template_columns": null,
            "grid_template_rows": null,
            "height": null,
            "justify_content": null,
            "justify_items": null,
            "left": null,
            "margin": null,
            "max_height": null,
            "max_width": null,
            "min_height": null,
            "min_width": null,
            "object_fit": null,
            "object_position": null,
            "order": null,
            "overflow": null,
            "overflow_x": null,
            "overflow_y": null,
            "padding": null,
            "right": null,
            "top": null,
            "visibility": null,
            "width": null
          }
        },
        "02fcbee0607c448daabf16dce9ee5cec": {
          "model_module": "@jupyter-widgets/base",
          "model_name": "LayoutModel",
          "state": {
            "_model_module": "@jupyter-widgets/base",
            "_model_module_version": "1.2.0",
            "_model_name": "LayoutModel",
            "_view_count": null,
            "_view_module": "@jupyter-widgets/base",
            "_view_module_version": "1.2.0",
            "_view_name": "LayoutView",
            "align_content": null,
            "align_items": null,
            "align_self": null,
            "border": null,
            "bottom": null,
            "display": null,
            "flex": null,
            "flex_flow": null,
            "grid_area": null,
            "grid_auto_columns": null,
            "grid_auto_flow": null,
            "grid_auto_rows": null,
            "grid_column": null,
            "grid_gap": null,
            "grid_row": null,
            "grid_template_areas": null,
            "grid_template_columns": null,
            "grid_template_rows": null,
            "height": null,
            "justify_content": null,
            "justify_items": null,
            "left": null,
            "margin": null,
            "max_height": null,
            "max_width": null,
            "min_height": null,
            "min_width": null,
            "object_fit": null,
            "object_position": null,
            "order": null,
            "overflow": null,
            "overflow_x": null,
            "overflow_y": null,
            "padding": null,
            "right": null,
            "top": null,
            "visibility": null,
            "width": null
          }
        },
        "0e818e6ab3fd421baa134367f2cb2deb": {
          "model_module": "@jupyter-widgets/controls",
          "model_name": "ProgressStyleModel",
          "state": {
            "_model_module": "@jupyter-widgets/controls",
            "_model_module_version": "1.5.0",
            "_model_name": "ProgressStyleModel",
            "_view_count": null,
            "_view_module": "@jupyter-widgets/base",
            "_view_module_version": "1.2.0",
            "_view_name": "StyleView",
            "bar_color": null,
            "description_width": "initial"
          }
        },
        "5e8c3c65d6a8470283332ba0ca09797e": {
          "model_module": "@jupyter-widgets/base",
          "model_name": "LayoutModel",
          "state": {
            "_model_module": "@jupyter-widgets/base",
            "_model_module_version": "1.2.0",
            "_model_name": "LayoutModel",
            "_view_count": null,
            "_view_module": "@jupyter-widgets/base",
            "_view_module_version": "1.2.0",
            "_view_name": "LayoutView",
            "align_content": null,
            "align_items": null,
            "align_self": null,
            "border": null,
            "bottom": null,
            "display": null,
            "flex": null,
            "flex_flow": null,
            "grid_area": null,
            "grid_auto_columns": null,
            "grid_auto_flow": null,
            "grid_auto_rows": null,
            "grid_column": null,
            "grid_gap": null,
            "grid_row": null,
            "grid_template_areas": null,
            "grid_template_columns": null,
            "grid_template_rows": null,
            "height": null,
            "justify_content": null,
            "justify_items": null,
            "left": null,
            "margin": null,
            "max_height": null,
            "max_width": null,
            "min_height": null,
            "min_width": null,
            "object_fit": null,
            "object_position": null,
            "order": null,
            "overflow": null,
            "overflow_x": null,
            "overflow_y": null,
            "padding": null,
            "right": null,
            "top": null,
            "visibility": null,
            "width": null
          }
        },
        "6996382faf9c479d9dd55be407ddee01": {
          "model_module": "@jupyter-widgets/controls",
          "model_name": "DescriptionStyleModel",
          "state": {
            "_model_module": "@jupyter-widgets/controls",
            "_model_module_version": "1.5.0",
            "_model_name": "DescriptionStyleModel",
            "_view_count": null,
            "_view_module": "@jupyter-widgets/base",
            "_view_module_version": "1.2.0",
            "_view_name": "StyleView",
            "description_width": ""
          }
        },
        "535e8efb604d466193e9c2e7c615bc91": {
          "model_module": "@jupyter-widgets/controls",
          "model_name": "HBoxModel",
          "state": {
            "_dom_classes": [],
            "_model_module": "@jupyter-widgets/controls",
            "_model_module_version": "1.5.0",
            "_model_name": "HBoxModel",
            "_view_count": null,
            "_view_module": "@jupyter-widgets/controls",
            "_view_module_version": "1.5.0",
            "_view_name": "HBoxView",
            "box_style": "",
            "children": [
              "IPY_MODEL_8e39410d2f6b4ee08a3e355ecf3001cc",
              "IPY_MODEL_73116f7a307249d6bbb6379972691352"
            ],
            "layout": "IPY_MODEL_0b90d659050c4c048ae8b65d9032d501"
          }
        },
        "8e39410d2f6b4ee08a3e355ecf3001cc": {
          "model_module": "@jupyter-widgets/controls",
          "model_name": "FloatProgressModel",
          "state": {
            "_dom_classes": [],
            "_model_module": "@jupyter-widgets/controls",
            "_model_module_version": "1.5.0",
            "_model_name": "FloatProgressModel",
            "_view_count": null,
            "_view_module": "@jupyter-widgets/controls",
            "_view_module_version": "1.5.0",
            "_view_name": "ProgressView",
            "bar_style": "success",
            "description": "loop 2: 100%",
            "description_tooltip": null,
            "layout": "IPY_MODEL_634a9d8e91fb49f8a3cdaedfecd8da82",
            "max": 10,
            "min": 0,
            "orientation": "horizontal",
            "style": "IPY_MODEL_f7505d35a0c445e29be58a75dd9d0c90",
            "value": 10
          }
        },
        "73116f7a307249d6bbb6379972691352": {
          "model_module": "@jupyter-widgets/controls",
          "model_name": "HTMLModel",
          "state": {
            "_dom_classes": [],
            "_model_module": "@jupyter-widgets/controls",
            "_model_module_version": "1.5.0",
            "_model_name": "HTMLModel",
            "_view_count": null,
            "_view_module": "@jupyter-widgets/controls",
            "_view_module_version": "1.5.0",
            "_view_name": "HTMLView",
            "description": "",
            "description_tooltip": null,
            "layout": "IPY_MODEL_f6faf5f968b14f9b82ae5b8a56c6f66e",
            "placeholder": "​",
            "style": "IPY_MODEL_8e3d64e104294cb8855f5e84e53d8c71",
            "value": " 10/10 [00:09&lt;00:00,  1.08it/s]"
          }
        },
        "0b90d659050c4c048ae8b65d9032d501": {
          "model_module": "@jupyter-widgets/base",
          "model_name": "LayoutModel",
          "state": {
            "_model_module": "@jupyter-widgets/base",
            "_model_module_version": "1.2.0",
            "_model_name": "LayoutModel",
            "_view_count": null,
            "_view_module": "@jupyter-widgets/base",
            "_view_module_version": "1.2.0",
            "_view_name": "LayoutView",
            "align_content": null,
            "align_items": null,
            "align_self": null,
            "border": null,
            "bottom": null,
            "display": null,
            "flex": null,
            "flex_flow": null,
            "grid_area": null,
            "grid_auto_columns": null,
            "grid_auto_flow": null,
            "grid_auto_rows": null,
            "grid_column": null,
            "grid_gap": null,
            "grid_row": null,
            "grid_template_areas": null,
            "grid_template_columns": null,
            "grid_template_rows": null,
            "height": null,
            "justify_content": null,
            "justify_items": null,
            "left": null,
            "margin": null,
            "max_height": null,
            "max_width": null,
            "min_height": null,
            "min_width": null,
            "object_fit": null,
            "object_position": null,
            "order": null,
            "overflow": null,
            "overflow_x": null,
            "overflow_y": null,
            "padding": null,
            "right": null,
            "top": null,
            "visibility": null,
            "width": null
          }
        },
        "634a9d8e91fb49f8a3cdaedfecd8da82": {
          "model_module": "@jupyter-widgets/base",
          "model_name": "LayoutModel",
          "state": {
            "_model_module": "@jupyter-widgets/base",
            "_model_module_version": "1.2.0",
            "_model_name": "LayoutModel",
            "_view_count": null,
            "_view_module": "@jupyter-widgets/base",
            "_view_module_version": "1.2.0",
            "_view_name": "LayoutView",
            "align_content": null,
            "align_items": null,
            "align_self": null,
            "border": null,
            "bottom": null,
            "display": null,
            "flex": null,
            "flex_flow": null,
            "grid_area": null,
            "grid_auto_columns": null,
            "grid_auto_flow": null,
            "grid_auto_rows": null,
            "grid_column": null,
            "grid_gap": null,
            "grid_row": null,
            "grid_template_areas": null,
            "grid_template_columns": null,
            "grid_template_rows": null,
            "height": null,
            "justify_content": null,
            "justify_items": null,
            "left": null,
            "margin": null,
            "max_height": null,
            "max_width": null,
            "min_height": null,
            "min_width": null,
            "object_fit": null,
            "object_position": null,
            "order": null,
            "overflow": null,
            "overflow_x": null,
            "overflow_y": null,
            "padding": null,
            "right": null,
            "top": null,
            "visibility": null,
            "width": null
          }
        },
        "f7505d35a0c445e29be58a75dd9d0c90": {
          "model_module": "@jupyter-widgets/controls",
          "model_name": "ProgressStyleModel",
          "state": {
            "_model_module": "@jupyter-widgets/controls",
            "_model_module_version": "1.5.0",
            "_model_name": "ProgressStyleModel",
            "_view_count": null,
            "_view_module": "@jupyter-widgets/base",
            "_view_module_version": "1.2.0",
            "_view_name": "StyleView",
            "bar_color": null,
            "description_width": "initial"
          }
        },
        "f6faf5f968b14f9b82ae5b8a56c6f66e": {
          "model_module": "@jupyter-widgets/base",
          "model_name": "LayoutModel",
          "state": {
            "_model_module": "@jupyter-widgets/base",
            "_model_module_version": "1.2.0",
            "_model_name": "LayoutModel",
            "_view_count": null,
            "_view_module": "@jupyter-widgets/base",
            "_view_module_version": "1.2.0",
            "_view_name": "LayoutView",
            "align_content": null,
            "align_items": null,
            "align_self": null,
            "border": null,
            "bottom": null,
            "display": null,
            "flex": null,
            "flex_flow": null,
            "grid_area": null,
            "grid_auto_columns": null,
            "grid_auto_flow": null,
            "grid_auto_rows": null,
            "grid_column": null,
            "grid_gap": null,
            "grid_row": null,
            "grid_template_areas": null,
            "grid_template_columns": null,
            "grid_template_rows": null,
            "height": null,
            "justify_content": null,
            "justify_items": null,
            "left": null,
            "margin": null,
            "max_height": null,
            "max_width": null,
            "min_height": null,
            "min_width": null,
            "object_fit": null,
            "object_position": null,
            "order": null,
            "overflow": null,
            "overflow_x": null,
            "overflow_y": null,
            "padding": null,
            "right": null,
            "top": null,
            "visibility": null,
            "width": null
          }
        },
        "8e3d64e104294cb8855f5e84e53d8c71": {
          "model_module": "@jupyter-widgets/controls",
          "model_name": "DescriptionStyleModel",
          "state": {
            "_model_module": "@jupyter-widgets/controls",
            "_model_module_version": "1.5.0",
            "_model_name": "DescriptionStyleModel",
            "_view_count": null,
            "_view_module": "@jupyter-widgets/base",
            "_view_module_version": "1.2.0",
            "_view_name": "StyleView",
            "description_width": ""
          }
        },
        "b4daff3ba85d4e1eba0e8fc1ef8faa3b": {
          "model_module": "@jupyter-widgets/controls",
          "model_name": "HBoxModel",
          "state": {
            "_dom_classes": [],
            "_model_module": "@jupyter-widgets/controls",
            "_model_module_version": "1.5.0",
            "_model_name": "HBoxModel",
            "_view_count": null,
            "_view_module": "@jupyter-widgets/controls",
            "_view_module_version": "1.5.0",
            "_view_name": "HBoxView",
            "box_style": "",
            "children": [
              "IPY_MODEL_c671e1766e07488c998c8bdb20859fb3",
              "IPY_MODEL_1fc989b78c384503bff423c7b38c75be"
            ],
            "layout": "IPY_MODEL_dc865eab909a4ef095fe3e2ef818e196"
          }
        },
        "c671e1766e07488c998c8bdb20859fb3": {
          "model_module": "@jupyter-widgets/controls",
          "model_name": "FloatProgressModel",
          "state": {
            "_dom_classes": [],
            "_model_module": "@jupyter-widgets/controls",
            "_model_module_version": "1.5.0",
            "_model_name": "FloatProgressModel",
            "_view_count": null,
            "_view_module": "@jupyter-widgets/controls",
            "_view_module_version": "1.5.0",
            "_view_name": "ProgressView",
            "bar_style": "success",
            "description": "loop 3: 100%",
            "description_tooltip": null,
            "layout": "IPY_MODEL_896959e8ad87464c9c27676d2350c2e8",
            "max": 10,
            "min": 0,
            "orientation": "horizontal",
            "style": "IPY_MODEL_22d15258613642f4ae062f52afe45deb",
            "value": 10
          }
        },
        "1fc989b78c384503bff423c7b38c75be": {
          "model_module": "@jupyter-widgets/controls",
          "model_name": "HTMLModel",
          "state": {
            "_dom_classes": [],
            "_model_module": "@jupyter-widgets/controls",
            "_model_module_version": "1.5.0",
            "_model_name": "HTMLModel",
            "_view_count": null,
            "_view_module": "@jupyter-widgets/controls",
            "_view_module_version": "1.5.0",
            "_view_name": "HTMLView",
            "description": "",
            "description_tooltip": null,
            "layout": "IPY_MODEL_7e193d14de5d40c094080579e103c099",
            "placeholder": "​",
            "style": "IPY_MODEL_c2e81af4f45742c8a0fca6f2ca26c0dd",
            "value": " 10/10 [00:06&lt;00:00,  1.62it/s]"
          }
        },
        "dc865eab909a4ef095fe3e2ef818e196": {
          "model_module": "@jupyter-widgets/base",
          "model_name": "LayoutModel",
          "state": {
            "_model_module": "@jupyter-widgets/base",
            "_model_module_version": "1.2.0",
            "_model_name": "LayoutModel",
            "_view_count": null,
            "_view_module": "@jupyter-widgets/base",
            "_view_module_version": "1.2.0",
            "_view_name": "LayoutView",
            "align_content": null,
            "align_items": null,
            "align_self": null,
            "border": null,
            "bottom": null,
            "display": null,
            "flex": null,
            "flex_flow": null,
            "grid_area": null,
            "grid_auto_columns": null,
            "grid_auto_flow": null,
            "grid_auto_rows": null,
            "grid_column": null,
            "grid_gap": null,
            "grid_row": null,
            "grid_template_areas": null,
            "grid_template_columns": null,
            "grid_template_rows": null,
            "height": null,
            "justify_content": null,
            "justify_items": null,
            "left": null,
            "margin": null,
            "max_height": null,
            "max_width": null,
            "min_height": null,
            "min_width": null,
            "object_fit": null,
            "object_position": null,
            "order": null,
            "overflow": null,
            "overflow_x": null,
            "overflow_y": null,
            "padding": null,
            "right": null,
            "top": null,
            "visibility": null,
            "width": null
          }
        },
        "896959e8ad87464c9c27676d2350c2e8": {
          "model_module": "@jupyter-widgets/base",
          "model_name": "LayoutModel",
          "state": {
            "_model_module": "@jupyter-widgets/base",
            "_model_module_version": "1.2.0",
            "_model_name": "LayoutModel",
            "_view_count": null,
            "_view_module": "@jupyter-widgets/base",
            "_view_module_version": "1.2.0",
            "_view_name": "LayoutView",
            "align_content": null,
            "align_items": null,
            "align_self": null,
            "border": null,
            "bottom": null,
            "display": null,
            "flex": null,
            "flex_flow": null,
            "grid_area": null,
            "grid_auto_columns": null,
            "grid_auto_flow": null,
            "grid_auto_rows": null,
            "grid_column": null,
            "grid_gap": null,
            "grid_row": null,
            "grid_template_areas": null,
            "grid_template_columns": null,
            "grid_template_rows": null,
            "height": null,
            "justify_content": null,
            "justify_items": null,
            "left": null,
            "margin": null,
            "max_height": null,
            "max_width": null,
            "min_height": null,
            "min_width": null,
            "object_fit": null,
            "object_position": null,
            "order": null,
            "overflow": null,
            "overflow_x": null,
            "overflow_y": null,
            "padding": null,
            "right": null,
            "top": null,
            "visibility": null,
            "width": null
          }
        },
        "22d15258613642f4ae062f52afe45deb": {
          "model_module": "@jupyter-widgets/controls",
          "model_name": "ProgressStyleModel",
          "state": {
            "_model_module": "@jupyter-widgets/controls",
            "_model_module_version": "1.5.0",
            "_model_name": "ProgressStyleModel",
            "_view_count": null,
            "_view_module": "@jupyter-widgets/base",
            "_view_module_version": "1.2.0",
            "_view_name": "StyleView",
            "bar_color": null,
            "description_width": "initial"
          }
        },
        "7e193d14de5d40c094080579e103c099": {
          "model_module": "@jupyter-widgets/base",
          "model_name": "LayoutModel",
          "state": {
            "_model_module": "@jupyter-widgets/base",
            "_model_module_version": "1.2.0",
            "_model_name": "LayoutModel",
            "_view_count": null,
            "_view_module": "@jupyter-widgets/base",
            "_view_module_version": "1.2.0",
            "_view_name": "LayoutView",
            "align_content": null,
            "align_items": null,
            "align_self": null,
            "border": null,
            "bottom": null,
            "display": null,
            "flex": null,
            "flex_flow": null,
            "grid_area": null,
            "grid_auto_columns": null,
            "grid_auto_flow": null,
            "grid_auto_rows": null,
            "grid_column": null,
            "grid_gap": null,
            "grid_row": null,
            "grid_template_areas": null,
            "grid_template_columns": null,
            "grid_template_rows": null,
            "height": null,
            "justify_content": null,
            "justify_items": null,
            "left": null,
            "margin": null,
            "max_height": null,
            "max_width": null,
            "min_height": null,
            "min_width": null,
            "object_fit": null,
            "object_position": null,
            "order": null,
            "overflow": null,
            "overflow_x": null,
            "overflow_y": null,
            "padding": null,
            "right": null,
            "top": null,
            "visibility": null,
            "width": null
          }
        },
        "c2e81af4f45742c8a0fca6f2ca26c0dd": {
          "model_module": "@jupyter-widgets/controls",
          "model_name": "DescriptionStyleModel",
          "state": {
            "_model_module": "@jupyter-widgets/controls",
            "_model_module_version": "1.5.0",
            "_model_name": "DescriptionStyleModel",
            "_view_count": null,
            "_view_module": "@jupyter-widgets/base",
            "_view_module_version": "1.2.0",
            "_view_name": "StyleView",
            "description_width": ""
          }
        },
        "032b6c87ad6442c8a192e600400a16a9": {
          "model_module": "@jupyter-widgets/controls",
          "model_name": "HBoxModel",
          "state": {
            "_dom_classes": [],
            "_model_module": "@jupyter-widgets/controls",
            "_model_module_version": "1.5.0",
            "_model_name": "HBoxModel",
            "_view_count": null,
            "_view_module": "@jupyter-widgets/controls",
            "_view_module_version": "1.5.0",
            "_view_name": "HBoxView",
            "box_style": "",
            "children": [
              "IPY_MODEL_330d1793701640258806bed6ed393bf9",
              "IPY_MODEL_d5b7956f147b4ba6ae63b49c05d63d24"
            ],
            "layout": "IPY_MODEL_34d06e40de6f4d828d382ba04ad19578"
          }
        },
        "330d1793701640258806bed6ed393bf9": {
          "model_module": "@jupyter-widgets/controls",
          "model_name": "FloatProgressModel",
          "state": {
            "_dom_classes": [],
            "_model_module": "@jupyter-widgets/controls",
            "_model_module_version": "1.5.0",
            "_model_name": "FloatProgressModel",
            "_view_count": null,
            "_view_module": "@jupyter-widgets/controls",
            "_view_module_version": "1.5.0",
            "_view_name": "ProgressView",
            "bar_style": "success",
            "description": "loop 4: 100%",
            "description_tooltip": null,
            "layout": "IPY_MODEL_9e4be7debb1149dc8df716f6caae34a5",
            "max": 10,
            "min": 0,
            "orientation": "horizontal",
            "style": "IPY_MODEL_36bbb48e24204834ad3838957db65942",
            "value": 10
          }
        },
        "d5b7956f147b4ba6ae63b49c05d63d24": {
          "model_module": "@jupyter-widgets/controls",
          "model_name": "HTMLModel",
          "state": {
            "_dom_classes": [],
            "_model_module": "@jupyter-widgets/controls",
            "_model_module_version": "1.5.0",
            "_model_name": "HTMLModel",
            "_view_count": null,
            "_view_module": "@jupyter-widgets/controls",
            "_view_module_version": "1.5.0",
            "_view_name": "HTMLView",
            "description": "",
            "description_tooltip": null,
            "layout": "IPY_MODEL_593082c2913c4780abe8be30b63a7086",
            "placeholder": "​",
            "style": "IPY_MODEL_50eb5ba54eb340ab8a732248fbf5efc8",
            "value": " 10/10 [00:03&lt;00:00,  3.22it/s]"
          }
        },
        "34d06e40de6f4d828d382ba04ad19578": {
          "model_module": "@jupyter-widgets/base",
          "model_name": "LayoutModel",
          "state": {
            "_model_module": "@jupyter-widgets/base",
            "_model_module_version": "1.2.0",
            "_model_name": "LayoutModel",
            "_view_count": null,
            "_view_module": "@jupyter-widgets/base",
            "_view_module_version": "1.2.0",
            "_view_name": "LayoutView",
            "align_content": null,
            "align_items": null,
            "align_self": null,
            "border": null,
            "bottom": null,
            "display": null,
            "flex": null,
            "flex_flow": null,
            "grid_area": null,
            "grid_auto_columns": null,
            "grid_auto_flow": null,
            "grid_auto_rows": null,
            "grid_column": null,
            "grid_gap": null,
            "grid_row": null,
            "grid_template_areas": null,
            "grid_template_columns": null,
            "grid_template_rows": null,
            "height": null,
            "justify_content": null,
            "justify_items": null,
            "left": null,
            "margin": null,
            "max_height": null,
            "max_width": null,
            "min_height": null,
            "min_width": null,
            "object_fit": null,
            "object_position": null,
            "order": null,
            "overflow": null,
            "overflow_x": null,
            "overflow_y": null,
            "padding": null,
            "right": null,
            "top": null,
            "visibility": null,
            "width": null
          }
        },
        "9e4be7debb1149dc8df716f6caae34a5": {
          "model_module": "@jupyter-widgets/base",
          "model_name": "LayoutModel",
          "state": {
            "_model_module": "@jupyter-widgets/base",
            "_model_module_version": "1.2.0",
            "_model_name": "LayoutModel",
            "_view_count": null,
            "_view_module": "@jupyter-widgets/base",
            "_view_module_version": "1.2.0",
            "_view_name": "LayoutView",
            "align_content": null,
            "align_items": null,
            "align_self": null,
            "border": null,
            "bottom": null,
            "display": null,
            "flex": null,
            "flex_flow": null,
            "grid_area": null,
            "grid_auto_columns": null,
            "grid_auto_flow": null,
            "grid_auto_rows": null,
            "grid_column": null,
            "grid_gap": null,
            "grid_row": null,
            "grid_template_areas": null,
            "grid_template_columns": null,
            "grid_template_rows": null,
            "height": null,
            "justify_content": null,
            "justify_items": null,
            "left": null,
            "margin": null,
            "max_height": null,
            "max_width": null,
            "min_height": null,
            "min_width": null,
            "object_fit": null,
            "object_position": null,
            "order": null,
            "overflow": null,
            "overflow_x": null,
            "overflow_y": null,
            "padding": null,
            "right": null,
            "top": null,
            "visibility": null,
            "width": null
          }
        },
        "36bbb48e24204834ad3838957db65942": {
          "model_module": "@jupyter-widgets/controls",
          "model_name": "ProgressStyleModel",
          "state": {
            "_model_module": "@jupyter-widgets/controls",
            "_model_module_version": "1.5.0",
            "_model_name": "ProgressStyleModel",
            "_view_count": null,
            "_view_module": "@jupyter-widgets/base",
            "_view_module_version": "1.2.0",
            "_view_name": "StyleView",
            "bar_color": null,
            "description_width": "initial"
          }
        },
        "593082c2913c4780abe8be30b63a7086": {
          "model_module": "@jupyter-widgets/base",
          "model_name": "LayoutModel",
          "state": {
            "_model_module": "@jupyter-widgets/base",
            "_model_module_version": "1.2.0",
            "_model_name": "LayoutModel",
            "_view_count": null,
            "_view_module": "@jupyter-widgets/base",
            "_view_module_version": "1.2.0",
            "_view_name": "LayoutView",
            "align_content": null,
            "align_items": null,
            "align_self": null,
            "border": null,
            "bottom": null,
            "display": null,
            "flex": null,
            "flex_flow": null,
            "grid_area": null,
            "grid_auto_columns": null,
            "grid_auto_flow": null,
            "grid_auto_rows": null,
            "grid_column": null,
            "grid_gap": null,
            "grid_row": null,
            "grid_template_areas": null,
            "grid_template_columns": null,
            "grid_template_rows": null,
            "height": null,
            "justify_content": null,
            "justify_items": null,
            "left": null,
            "margin": null,
            "max_height": null,
            "max_width": null,
            "min_height": null,
            "min_width": null,
            "object_fit": null,
            "object_position": null,
            "order": null,
            "overflow": null,
            "overflow_x": null,
            "overflow_y": null,
            "padding": null,
            "right": null,
            "top": null,
            "visibility": null,
            "width": null
          }
        },
        "50eb5ba54eb340ab8a732248fbf5efc8": {
          "model_module": "@jupyter-widgets/controls",
          "model_name": "DescriptionStyleModel",
          "state": {
            "_model_module": "@jupyter-widgets/controls",
            "_model_module_version": "1.5.0",
            "_model_name": "DescriptionStyleModel",
            "_view_count": null,
            "_view_module": "@jupyter-widgets/base",
            "_view_module_version": "1.2.0",
            "_view_name": "StyleView",
            "description_width": ""
          }
        },
        "a3a5bab2c8af4fb9ac2f45b1f1c18c94": {
          "model_module": "@jupyter-widgets/controls",
          "model_name": "HBoxModel",
          "state": {
            "_dom_classes": [],
            "_model_module": "@jupyter-widgets/controls",
            "_model_module_version": "1.5.0",
            "_model_name": "HBoxModel",
            "_view_count": null,
            "_view_module": "@jupyter-widgets/controls",
            "_view_module_version": "1.5.0",
            "_view_name": "HBoxView",
            "box_style": "",
            "children": [
              "IPY_MODEL_4bb3e5a4884e408c8e3741fa457897af",
              "IPY_MODEL_fde2a953db684a5686f12506186bf210"
            ],
            "layout": "IPY_MODEL_64cedb8f07604365b98a77e0c7d9d3e0"
          }
        },
        "4bb3e5a4884e408c8e3741fa457897af": {
          "model_module": "@jupyter-widgets/controls",
          "model_name": "FloatProgressModel",
          "state": {
            "_dom_classes": [],
            "_model_module": "@jupyter-widgets/controls",
            "_model_module_version": "1.5.0",
            "_model_name": "FloatProgressModel",
            "_view_count": null,
            "_view_module": "@jupyter-widgets/controls",
            "_view_module_version": "1.5.0",
            "_view_name": "ProgressView",
            "bar_style": "success",
            "description": "loop 5: 100%",
            "description_tooltip": null,
            "layout": "IPY_MODEL_f08450220ab64506acbd5dacd64faddf",
            "max": 10,
            "min": 0,
            "orientation": "horizontal",
            "style": "IPY_MODEL_27bafc67683549ab997bb26d5ad2d725",
            "value": 10
          }
        },
        "fde2a953db684a5686f12506186bf210": {
          "model_module": "@jupyter-widgets/controls",
          "model_name": "HTMLModel",
          "state": {
            "_dom_classes": [],
            "_model_module": "@jupyter-widgets/controls",
            "_model_module_version": "1.5.0",
            "_model_name": "HTMLModel",
            "_view_count": null,
            "_view_module": "@jupyter-widgets/controls",
            "_view_module_version": "1.5.0",
            "_view_name": "HTMLView",
            "description": "",
            "description_tooltip": null,
            "layout": "IPY_MODEL_de203ce398e44bba935523113004f0d9",
            "placeholder": "​",
            "style": "IPY_MODEL_3018ba86858d4d54a1d0bdbeb3e15b09",
            "value": " 10/10 [00:03&lt;00:00,  3.24it/s]"
          }
        },
        "64cedb8f07604365b98a77e0c7d9d3e0": {
          "model_module": "@jupyter-widgets/base",
          "model_name": "LayoutModel",
          "state": {
            "_model_module": "@jupyter-widgets/base",
            "_model_module_version": "1.2.0",
            "_model_name": "LayoutModel",
            "_view_count": null,
            "_view_module": "@jupyter-widgets/base",
            "_view_module_version": "1.2.0",
            "_view_name": "LayoutView",
            "align_content": null,
            "align_items": null,
            "align_self": null,
            "border": null,
            "bottom": null,
            "display": null,
            "flex": null,
            "flex_flow": null,
            "grid_area": null,
            "grid_auto_columns": null,
            "grid_auto_flow": null,
            "grid_auto_rows": null,
            "grid_column": null,
            "grid_gap": null,
            "grid_row": null,
            "grid_template_areas": null,
            "grid_template_columns": null,
            "grid_template_rows": null,
            "height": null,
            "justify_content": null,
            "justify_items": null,
            "left": null,
            "margin": null,
            "max_height": null,
            "max_width": null,
            "min_height": null,
            "min_width": null,
            "object_fit": null,
            "object_position": null,
            "order": null,
            "overflow": null,
            "overflow_x": null,
            "overflow_y": null,
            "padding": null,
            "right": null,
            "top": null,
            "visibility": null,
            "width": null
          }
        },
        "f08450220ab64506acbd5dacd64faddf": {
          "model_module": "@jupyter-widgets/base",
          "model_name": "LayoutModel",
          "state": {
            "_model_module": "@jupyter-widgets/base",
            "_model_module_version": "1.2.0",
            "_model_name": "LayoutModel",
            "_view_count": null,
            "_view_module": "@jupyter-widgets/base",
            "_view_module_version": "1.2.0",
            "_view_name": "LayoutView",
            "align_content": null,
            "align_items": null,
            "align_self": null,
            "border": null,
            "bottom": null,
            "display": null,
            "flex": null,
            "flex_flow": null,
            "grid_area": null,
            "grid_auto_columns": null,
            "grid_auto_flow": null,
            "grid_auto_rows": null,
            "grid_column": null,
            "grid_gap": null,
            "grid_row": null,
            "grid_template_areas": null,
            "grid_template_columns": null,
            "grid_template_rows": null,
            "height": null,
            "justify_content": null,
            "justify_items": null,
            "left": null,
            "margin": null,
            "max_height": null,
            "max_width": null,
            "min_height": null,
            "min_width": null,
            "object_fit": null,
            "object_position": null,
            "order": null,
            "overflow": null,
            "overflow_x": null,
            "overflow_y": null,
            "padding": null,
            "right": null,
            "top": null,
            "visibility": null,
            "width": null
          }
        },
        "27bafc67683549ab997bb26d5ad2d725": {
          "model_module": "@jupyter-widgets/controls",
          "model_name": "ProgressStyleModel",
          "state": {
            "_model_module": "@jupyter-widgets/controls",
            "_model_module_version": "1.5.0",
            "_model_name": "ProgressStyleModel",
            "_view_count": null,
            "_view_module": "@jupyter-widgets/base",
            "_view_module_version": "1.2.0",
            "_view_name": "StyleView",
            "bar_color": null,
            "description_width": "initial"
          }
        },
        "de203ce398e44bba935523113004f0d9": {
          "model_module": "@jupyter-widgets/base",
          "model_name": "LayoutModel",
          "state": {
            "_model_module": "@jupyter-widgets/base",
            "_model_module_version": "1.2.0",
            "_model_name": "LayoutModel",
            "_view_count": null,
            "_view_module": "@jupyter-widgets/base",
            "_view_module_version": "1.2.0",
            "_view_name": "LayoutView",
            "align_content": null,
            "align_items": null,
            "align_self": null,
            "border": null,
            "bottom": null,
            "display": null,
            "flex": null,
            "flex_flow": null,
            "grid_area": null,
            "grid_auto_columns": null,
            "grid_auto_flow": null,
            "grid_auto_rows": null,
            "grid_column": null,
            "grid_gap": null,
            "grid_row": null,
            "grid_template_areas": null,
            "grid_template_columns": null,
            "grid_template_rows": null,
            "height": null,
            "justify_content": null,
            "justify_items": null,
            "left": null,
            "margin": null,
            "max_height": null,
            "max_width": null,
            "min_height": null,
            "min_width": null,
            "object_fit": null,
            "object_position": null,
            "order": null,
            "overflow": null,
            "overflow_x": null,
            "overflow_y": null,
            "padding": null,
            "right": null,
            "top": null,
            "visibility": null,
            "width": null
          }
        },
        "3018ba86858d4d54a1d0bdbeb3e15b09": {
          "model_module": "@jupyter-widgets/controls",
          "model_name": "DescriptionStyleModel",
          "state": {
            "_model_module": "@jupyter-widgets/controls",
            "_model_module_version": "1.5.0",
            "_model_name": "DescriptionStyleModel",
            "_view_count": null,
            "_view_module": "@jupyter-widgets/base",
            "_view_module_version": "1.2.0",
            "_view_name": "StyleView",
            "description_width": ""
          }
        },
        "d54a69ff2e19465190af13beebf806d6": {
          "model_module": "@jupyter-widgets/controls",
          "model_name": "HBoxModel",
          "state": {
            "_dom_classes": [],
            "_model_module": "@jupyter-widgets/controls",
            "_model_module_version": "1.5.0",
            "_model_name": "HBoxModel",
            "_view_count": null,
            "_view_module": "@jupyter-widgets/controls",
            "_view_module_version": "1.5.0",
            "_view_name": "HBoxView",
            "box_style": "",
            "children": [
              "IPY_MODEL_bde3e8e5469a441b8792b4181609a0d1",
              "IPY_MODEL_5aaee4276f094efdaa59727eba6c6d29"
            ],
            "layout": "IPY_MODEL_a676bbd96592425d8602dd969987fd55"
          }
        },
        "bde3e8e5469a441b8792b4181609a0d1": {
          "model_module": "@jupyter-widgets/controls",
          "model_name": "FloatProgressModel",
          "state": {
            "_dom_classes": [],
            "_model_module": "@jupyter-widgets/controls",
            "_model_module_version": "1.5.0",
            "_model_name": "FloatProgressModel",
            "_view_count": null,
            "_view_module": "@jupyter-widgets/controls",
            "_view_module_version": "1.5.0",
            "_view_name": "ProgressView",
            "bar_style": "success",
            "description": "loop 6: 100%",
            "description_tooltip": null,
            "layout": "IPY_MODEL_a1c2868d323c43cf985cdaf30ab83ddc",
            "max": 10,
            "min": 0,
            "orientation": "horizontal",
            "style": "IPY_MODEL_54ab1fa72320481a9fd85be212b90695",
            "value": 10
          }
        },
        "5aaee4276f094efdaa59727eba6c6d29": {
          "model_module": "@jupyter-widgets/controls",
          "model_name": "HTMLModel",
          "state": {
            "_dom_classes": [],
            "_model_module": "@jupyter-widgets/controls",
            "_model_module_version": "1.5.0",
            "_model_name": "HTMLModel",
            "_view_count": null,
            "_view_module": "@jupyter-widgets/controls",
            "_view_module_version": "1.5.0",
            "_view_name": "HTMLView",
            "description": "",
            "description_tooltip": null,
            "layout": "IPY_MODEL_af19fd3c49fd47278c38b80f9ae921b8",
            "placeholder": "​",
            "style": "IPY_MODEL_fc8b1d5b7bc448e48143bd5da2936b56",
            "value": " 10/10 [00:09&lt;00:00,  1.08it/s]"
          }
        },
        "a676bbd96592425d8602dd969987fd55": {
          "model_module": "@jupyter-widgets/base",
          "model_name": "LayoutModel",
          "state": {
            "_model_module": "@jupyter-widgets/base",
            "_model_module_version": "1.2.0",
            "_model_name": "LayoutModel",
            "_view_count": null,
            "_view_module": "@jupyter-widgets/base",
            "_view_module_version": "1.2.0",
            "_view_name": "LayoutView",
            "align_content": null,
            "align_items": null,
            "align_self": null,
            "border": null,
            "bottom": null,
            "display": null,
            "flex": null,
            "flex_flow": null,
            "grid_area": null,
            "grid_auto_columns": null,
            "grid_auto_flow": null,
            "grid_auto_rows": null,
            "grid_column": null,
            "grid_gap": null,
            "grid_row": null,
            "grid_template_areas": null,
            "grid_template_columns": null,
            "grid_template_rows": null,
            "height": null,
            "justify_content": null,
            "justify_items": null,
            "left": null,
            "margin": null,
            "max_height": null,
            "max_width": null,
            "min_height": null,
            "min_width": null,
            "object_fit": null,
            "object_position": null,
            "order": null,
            "overflow": null,
            "overflow_x": null,
            "overflow_y": null,
            "padding": null,
            "right": null,
            "top": null,
            "visibility": null,
            "width": null
          }
        },
        "a1c2868d323c43cf985cdaf30ab83ddc": {
          "model_module": "@jupyter-widgets/base",
          "model_name": "LayoutModel",
          "state": {
            "_model_module": "@jupyter-widgets/base",
            "_model_module_version": "1.2.0",
            "_model_name": "LayoutModel",
            "_view_count": null,
            "_view_module": "@jupyter-widgets/base",
            "_view_module_version": "1.2.0",
            "_view_name": "LayoutView",
            "align_content": null,
            "align_items": null,
            "align_self": null,
            "border": null,
            "bottom": null,
            "display": null,
            "flex": null,
            "flex_flow": null,
            "grid_area": null,
            "grid_auto_columns": null,
            "grid_auto_flow": null,
            "grid_auto_rows": null,
            "grid_column": null,
            "grid_gap": null,
            "grid_row": null,
            "grid_template_areas": null,
            "grid_template_columns": null,
            "grid_template_rows": null,
            "height": null,
            "justify_content": null,
            "justify_items": null,
            "left": null,
            "margin": null,
            "max_height": null,
            "max_width": null,
            "min_height": null,
            "min_width": null,
            "object_fit": null,
            "object_position": null,
            "order": null,
            "overflow": null,
            "overflow_x": null,
            "overflow_y": null,
            "padding": null,
            "right": null,
            "top": null,
            "visibility": null,
            "width": null
          }
        },
        "54ab1fa72320481a9fd85be212b90695": {
          "model_module": "@jupyter-widgets/controls",
          "model_name": "ProgressStyleModel",
          "state": {
            "_model_module": "@jupyter-widgets/controls",
            "_model_module_version": "1.5.0",
            "_model_name": "ProgressStyleModel",
            "_view_count": null,
            "_view_module": "@jupyter-widgets/base",
            "_view_module_version": "1.2.0",
            "_view_name": "StyleView",
            "bar_color": null,
            "description_width": "initial"
          }
        },
        "af19fd3c49fd47278c38b80f9ae921b8": {
          "model_module": "@jupyter-widgets/base",
          "model_name": "LayoutModel",
          "state": {
            "_model_module": "@jupyter-widgets/base",
            "_model_module_version": "1.2.0",
            "_model_name": "LayoutModel",
            "_view_count": null,
            "_view_module": "@jupyter-widgets/base",
            "_view_module_version": "1.2.0",
            "_view_name": "LayoutView",
            "align_content": null,
            "align_items": null,
            "align_self": null,
            "border": null,
            "bottom": null,
            "display": null,
            "flex": null,
            "flex_flow": null,
            "grid_area": null,
            "grid_auto_columns": null,
            "grid_auto_flow": null,
            "grid_auto_rows": null,
            "grid_column": null,
            "grid_gap": null,
            "grid_row": null,
            "grid_template_areas": null,
            "grid_template_columns": null,
            "grid_template_rows": null,
            "height": null,
            "justify_content": null,
            "justify_items": null,
            "left": null,
            "margin": null,
            "max_height": null,
            "max_width": null,
            "min_height": null,
            "min_width": null,
            "object_fit": null,
            "object_position": null,
            "order": null,
            "overflow": null,
            "overflow_x": null,
            "overflow_y": null,
            "padding": null,
            "right": null,
            "top": null,
            "visibility": null,
            "width": null
          }
        },
        "fc8b1d5b7bc448e48143bd5da2936b56": {
          "model_module": "@jupyter-widgets/controls",
          "model_name": "DescriptionStyleModel",
          "state": {
            "_model_module": "@jupyter-widgets/controls",
            "_model_module_version": "1.5.0",
            "_model_name": "DescriptionStyleModel",
            "_view_count": null,
            "_view_module": "@jupyter-widgets/base",
            "_view_module_version": "1.2.0",
            "_view_name": "StyleView",
            "description_width": ""
          }
        },
        "0d2acadc07f64cd684fb2100b5e1a094": {
          "model_module": "@jupyter-widgets/controls",
          "model_name": "HBoxModel",
          "state": {
            "_dom_classes": [],
            "_model_module": "@jupyter-widgets/controls",
            "_model_module_version": "1.5.0",
            "_model_name": "HBoxModel",
            "_view_count": null,
            "_view_module": "@jupyter-widgets/controls",
            "_view_module_version": "1.5.0",
            "_view_name": "HBoxView",
            "box_style": "",
            "children": [
              "IPY_MODEL_cca232fd5010470fa02478651a82444d",
              "IPY_MODEL_dba9227f8e7e4998ab5fc2f4f6ef6b86"
            ],
            "layout": "IPY_MODEL_b476fa80e096439483a240d13e249e42"
          }
        },
        "cca232fd5010470fa02478651a82444d": {
          "model_module": "@jupyter-widgets/controls",
          "model_name": "FloatProgressModel",
          "state": {
            "_dom_classes": [],
            "_model_module": "@jupyter-widgets/controls",
            "_model_module_version": "1.5.0",
            "_model_name": "FloatProgressModel",
            "_view_count": null,
            "_view_module": "@jupyter-widgets/controls",
            "_view_module_version": "1.5.0",
            "_view_name": "ProgressView",
            "bar_style": "success",
            "description": "loop 7: 100%",
            "description_tooltip": null,
            "layout": "IPY_MODEL_e0b60bfc6c514506b4b8136f7e29defc",
            "max": 10,
            "min": 0,
            "orientation": "horizontal",
            "style": "IPY_MODEL_34976baafddc4132a6cbc269ad625070",
            "value": 10
          }
        },
        "dba9227f8e7e4998ab5fc2f4f6ef6b86": {
          "model_module": "@jupyter-widgets/controls",
          "model_name": "HTMLModel",
          "state": {
            "_dom_classes": [],
            "_model_module": "@jupyter-widgets/controls",
            "_model_module_version": "1.5.0",
            "_model_name": "HTMLModel",
            "_view_count": null,
            "_view_module": "@jupyter-widgets/controls",
            "_view_module_version": "1.5.0",
            "_view_name": "HTMLView",
            "description": "",
            "description_tooltip": null,
            "layout": "IPY_MODEL_2d99c410637b4d6bb2a6b14174db27b0",
            "placeholder": "​",
            "style": "IPY_MODEL_79af04848eca456d89b3f5c56fd8dd78",
            "value": " 10/10 [00:06&lt;00:00,  1.61it/s]"
          }
        },
        "b476fa80e096439483a240d13e249e42": {
          "model_module": "@jupyter-widgets/base",
          "model_name": "LayoutModel",
          "state": {
            "_model_module": "@jupyter-widgets/base",
            "_model_module_version": "1.2.0",
            "_model_name": "LayoutModel",
            "_view_count": null,
            "_view_module": "@jupyter-widgets/base",
            "_view_module_version": "1.2.0",
            "_view_name": "LayoutView",
            "align_content": null,
            "align_items": null,
            "align_self": null,
            "border": null,
            "bottom": null,
            "display": null,
            "flex": null,
            "flex_flow": null,
            "grid_area": null,
            "grid_auto_columns": null,
            "grid_auto_flow": null,
            "grid_auto_rows": null,
            "grid_column": null,
            "grid_gap": null,
            "grid_row": null,
            "grid_template_areas": null,
            "grid_template_columns": null,
            "grid_template_rows": null,
            "height": null,
            "justify_content": null,
            "justify_items": null,
            "left": null,
            "margin": null,
            "max_height": null,
            "max_width": null,
            "min_height": null,
            "min_width": null,
            "object_fit": null,
            "object_position": null,
            "order": null,
            "overflow": null,
            "overflow_x": null,
            "overflow_y": null,
            "padding": null,
            "right": null,
            "top": null,
            "visibility": null,
            "width": null
          }
        },
        "e0b60bfc6c514506b4b8136f7e29defc": {
          "model_module": "@jupyter-widgets/base",
          "model_name": "LayoutModel",
          "state": {
            "_model_module": "@jupyter-widgets/base",
            "_model_module_version": "1.2.0",
            "_model_name": "LayoutModel",
            "_view_count": null,
            "_view_module": "@jupyter-widgets/base",
            "_view_module_version": "1.2.0",
            "_view_name": "LayoutView",
            "align_content": null,
            "align_items": null,
            "align_self": null,
            "border": null,
            "bottom": null,
            "display": null,
            "flex": null,
            "flex_flow": null,
            "grid_area": null,
            "grid_auto_columns": null,
            "grid_auto_flow": null,
            "grid_auto_rows": null,
            "grid_column": null,
            "grid_gap": null,
            "grid_row": null,
            "grid_template_areas": null,
            "grid_template_columns": null,
            "grid_template_rows": null,
            "height": null,
            "justify_content": null,
            "justify_items": null,
            "left": null,
            "margin": null,
            "max_height": null,
            "max_width": null,
            "min_height": null,
            "min_width": null,
            "object_fit": null,
            "object_position": null,
            "order": null,
            "overflow": null,
            "overflow_x": null,
            "overflow_y": null,
            "padding": null,
            "right": null,
            "top": null,
            "visibility": null,
            "width": null
          }
        },
        "34976baafddc4132a6cbc269ad625070": {
          "model_module": "@jupyter-widgets/controls",
          "model_name": "ProgressStyleModel",
          "state": {
            "_model_module": "@jupyter-widgets/controls",
            "_model_module_version": "1.5.0",
            "_model_name": "ProgressStyleModel",
            "_view_count": null,
            "_view_module": "@jupyter-widgets/base",
            "_view_module_version": "1.2.0",
            "_view_name": "StyleView",
            "bar_color": null,
            "description_width": "initial"
          }
        },
        "2d99c410637b4d6bb2a6b14174db27b0": {
          "model_module": "@jupyter-widgets/base",
          "model_name": "LayoutModel",
          "state": {
            "_model_module": "@jupyter-widgets/base",
            "_model_module_version": "1.2.0",
            "_model_name": "LayoutModel",
            "_view_count": null,
            "_view_module": "@jupyter-widgets/base",
            "_view_module_version": "1.2.0",
            "_view_name": "LayoutView",
            "align_content": null,
            "align_items": null,
            "align_self": null,
            "border": null,
            "bottom": null,
            "display": null,
            "flex": null,
            "flex_flow": null,
            "grid_area": null,
            "grid_auto_columns": null,
            "grid_auto_flow": null,
            "grid_auto_rows": null,
            "grid_column": null,
            "grid_gap": null,
            "grid_row": null,
            "grid_template_areas": null,
            "grid_template_columns": null,
            "grid_template_rows": null,
            "height": null,
            "justify_content": null,
            "justify_items": null,
            "left": null,
            "margin": null,
            "max_height": null,
            "max_width": null,
            "min_height": null,
            "min_width": null,
            "object_fit": null,
            "object_position": null,
            "order": null,
            "overflow": null,
            "overflow_x": null,
            "overflow_y": null,
            "padding": null,
            "right": null,
            "top": null,
            "visibility": null,
            "width": null
          }
        },
        "79af04848eca456d89b3f5c56fd8dd78": {
          "model_module": "@jupyter-widgets/controls",
          "model_name": "DescriptionStyleModel",
          "state": {
            "_model_module": "@jupyter-widgets/controls",
            "_model_module_version": "1.5.0",
            "_model_name": "DescriptionStyleModel",
            "_view_count": null,
            "_view_module": "@jupyter-widgets/base",
            "_view_module_version": "1.2.0",
            "_view_name": "StyleView",
            "description_width": ""
          }
        },
        "b5502372aef24422bd3e8bfe58c936b1": {
          "model_module": "@jupyter-widgets/controls",
          "model_name": "HBoxModel",
          "state": {
            "_dom_classes": [],
            "_model_module": "@jupyter-widgets/controls",
            "_model_module_version": "1.5.0",
            "_model_name": "HBoxModel",
            "_view_count": null,
            "_view_module": "@jupyter-widgets/controls",
            "_view_module_version": "1.5.0",
            "_view_name": "HBoxView",
            "box_style": "",
            "children": [
              "IPY_MODEL_4b0a8078f3794645b8114f6c44034bdc",
              "IPY_MODEL_98755fc0599a4e00be9cc57a4dc22344"
            ],
            "layout": "IPY_MODEL_75a81f08871c4c398cf2409def0567f3"
          }
        },
        "4b0a8078f3794645b8114f6c44034bdc": {
          "model_module": "@jupyter-widgets/controls",
          "model_name": "FloatProgressModel",
          "state": {
            "_dom_classes": [],
            "_model_module": "@jupyter-widgets/controls",
            "_model_module_version": "1.5.0",
            "_model_name": "FloatProgressModel",
            "_view_count": null,
            "_view_module": "@jupyter-widgets/controls",
            "_view_module_version": "1.5.0",
            "_view_name": "ProgressView",
            "bar_style": "success",
            "description": "loop 8: 100%",
            "description_tooltip": null,
            "layout": "IPY_MODEL_119a27a70ef9484d889823c3568b039d",
            "max": 10,
            "min": 0,
            "orientation": "horizontal",
            "style": "IPY_MODEL_0e973c3f73924beda7184c2f6eca321f",
            "value": 10
          }
        },
        "98755fc0599a4e00be9cc57a4dc22344": {
          "model_module": "@jupyter-widgets/controls",
          "model_name": "HTMLModel",
          "state": {
            "_dom_classes": [],
            "_model_module": "@jupyter-widgets/controls",
            "_model_module_version": "1.5.0",
            "_model_name": "HTMLModel",
            "_view_count": null,
            "_view_module": "@jupyter-widgets/controls",
            "_view_module_version": "1.5.0",
            "_view_name": "HTMLView",
            "description": "",
            "description_tooltip": null,
            "layout": "IPY_MODEL_7ec8100236e84fcf9a6e68e55451aedc",
            "placeholder": "​",
            "style": "IPY_MODEL_60b01354740546fba49070b437b30732",
            "value": " 10/10 [00:03&lt;00:00,  3.22it/s]"
          }
        },
        "75a81f08871c4c398cf2409def0567f3": {
          "model_module": "@jupyter-widgets/base",
          "model_name": "LayoutModel",
          "state": {
            "_model_module": "@jupyter-widgets/base",
            "_model_module_version": "1.2.0",
            "_model_name": "LayoutModel",
            "_view_count": null,
            "_view_module": "@jupyter-widgets/base",
            "_view_module_version": "1.2.0",
            "_view_name": "LayoutView",
            "align_content": null,
            "align_items": null,
            "align_self": null,
            "border": null,
            "bottom": null,
            "display": null,
            "flex": null,
            "flex_flow": null,
            "grid_area": null,
            "grid_auto_columns": null,
            "grid_auto_flow": null,
            "grid_auto_rows": null,
            "grid_column": null,
            "grid_gap": null,
            "grid_row": null,
            "grid_template_areas": null,
            "grid_template_columns": null,
            "grid_template_rows": null,
            "height": null,
            "justify_content": null,
            "justify_items": null,
            "left": null,
            "margin": null,
            "max_height": null,
            "max_width": null,
            "min_height": null,
            "min_width": null,
            "object_fit": null,
            "object_position": null,
            "order": null,
            "overflow": null,
            "overflow_x": null,
            "overflow_y": null,
            "padding": null,
            "right": null,
            "top": null,
            "visibility": null,
            "width": null
          }
        },
        "119a27a70ef9484d889823c3568b039d": {
          "model_module": "@jupyter-widgets/base",
          "model_name": "LayoutModel",
          "state": {
            "_model_module": "@jupyter-widgets/base",
            "_model_module_version": "1.2.0",
            "_model_name": "LayoutModel",
            "_view_count": null,
            "_view_module": "@jupyter-widgets/base",
            "_view_module_version": "1.2.0",
            "_view_name": "LayoutView",
            "align_content": null,
            "align_items": null,
            "align_self": null,
            "border": null,
            "bottom": null,
            "display": null,
            "flex": null,
            "flex_flow": null,
            "grid_area": null,
            "grid_auto_columns": null,
            "grid_auto_flow": null,
            "grid_auto_rows": null,
            "grid_column": null,
            "grid_gap": null,
            "grid_row": null,
            "grid_template_areas": null,
            "grid_template_columns": null,
            "grid_template_rows": null,
            "height": null,
            "justify_content": null,
            "justify_items": null,
            "left": null,
            "margin": null,
            "max_height": null,
            "max_width": null,
            "min_height": null,
            "min_width": null,
            "object_fit": null,
            "object_position": null,
            "order": null,
            "overflow": null,
            "overflow_x": null,
            "overflow_y": null,
            "padding": null,
            "right": null,
            "top": null,
            "visibility": null,
            "width": null
          }
        },
        "0e973c3f73924beda7184c2f6eca321f": {
          "model_module": "@jupyter-widgets/controls",
          "model_name": "ProgressStyleModel",
          "state": {
            "_model_module": "@jupyter-widgets/controls",
            "_model_module_version": "1.5.0",
            "_model_name": "ProgressStyleModel",
            "_view_count": null,
            "_view_module": "@jupyter-widgets/base",
            "_view_module_version": "1.2.0",
            "_view_name": "StyleView",
            "bar_color": null,
            "description_width": "initial"
          }
        },
        "7ec8100236e84fcf9a6e68e55451aedc": {
          "model_module": "@jupyter-widgets/base",
          "model_name": "LayoutModel",
          "state": {
            "_model_module": "@jupyter-widgets/base",
            "_model_module_version": "1.2.0",
            "_model_name": "LayoutModel",
            "_view_count": null,
            "_view_module": "@jupyter-widgets/base",
            "_view_module_version": "1.2.0",
            "_view_name": "LayoutView",
            "align_content": null,
            "align_items": null,
            "align_self": null,
            "border": null,
            "bottom": null,
            "display": null,
            "flex": null,
            "flex_flow": null,
            "grid_area": null,
            "grid_auto_columns": null,
            "grid_auto_flow": null,
            "grid_auto_rows": null,
            "grid_column": null,
            "grid_gap": null,
            "grid_row": null,
            "grid_template_areas": null,
            "grid_template_columns": null,
            "grid_template_rows": null,
            "height": null,
            "justify_content": null,
            "justify_items": null,
            "left": null,
            "margin": null,
            "max_height": null,
            "max_width": null,
            "min_height": null,
            "min_width": null,
            "object_fit": null,
            "object_position": null,
            "order": null,
            "overflow": null,
            "overflow_x": null,
            "overflow_y": null,
            "padding": null,
            "right": null,
            "top": null,
            "visibility": null,
            "width": null
          }
        },
        "60b01354740546fba49070b437b30732": {
          "model_module": "@jupyter-widgets/controls",
          "model_name": "DescriptionStyleModel",
          "state": {
            "_model_module": "@jupyter-widgets/controls",
            "_model_module_version": "1.5.0",
            "_model_name": "DescriptionStyleModel",
            "_view_count": null,
            "_view_module": "@jupyter-widgets/base",
            "_view_module_version": "1.2.0",
            "_view_name": "StyleView",
            "description_width": ""
          }
        },
        "46c45a27954e46b38c701e52b027af2a": {
          "model_module": "@jupyter-widgets/controls",
          "model_name": "HBoxModel",
          "state": {
            "_dom_classes": [],
            "_model_module": "@jupyter-widgets/controls",
            "_model_module_version": "1.5.0",
            "_model_name": "HBoxModel",
            "_view_count": null,
            "_view_module": "@jupyter-widgets/controls",
            "_view_module_version": "1.5.0",
            "_view_name": "HBoxView",
            "box_style": "",
            "children": [
              "IPY_MODEL_d5e4f87c5bd74021a821abff6b265824",
              "IPY_MODEL_c59dc02f4bbc428ca8e85e8acde55af5"
            ],
            "layout": "IPY_MODEL_6aa6a9af4c32408c8fbcb1c6ca5112a6"
          }
        },
        "d5e4f87c5bd74021a821abff6b265824": {
          "model_module": "@jupyter-widgets/controls",
          "model_name": "FloatProgressModel",
          "state": {
            "_dom_classes": [],
            "_model_module": "@jupyter-widgets/controls",
            "_model_module_version": "1.5.0",
            "_model_name": "FloatProgressModel",
            "_view_count": null,
            "_view_module": "@jupyter-widgets/controls",
            "_view_module_version": "1.5.0",
            "_view_name": "ProgressView",
            "bar_style": "success",
            "description": "loop 9: 100%",
            "description_tooltip": null,
            "layout": "IPY_MODEL_86e5e8d889294b5893e12aa3fa47d21d",
            "max": 10,
            "min": 0,
            "orientation": "horizontal",
            "style": "IPY_MODEL_d66ea45dc3e648c8a59755334bf0c364",
            "value": 10
          }
        },
        "c59dc02f4bbc428ca8e85e8acde55af5": {
          "model_module": "@jupyter-widgets/controls",
          "model_name": "HTMLModel",
          "state": {
            "_dom_classes": [],
            "_model_module": "@jupyter-widgets/controls",
            "_model_module_version": "1.5.0",
            "_model_name": "HTMLModel",
            "_view_count": null,
            "_view_module": "@jupyter-widgets/controls",
            "_view_module_version": "1.5.0",
            "_view_name": "HTMLView",
            "description": "",
            "description_tooltip": null,
            "layout": "IPY_MODEL_726f9d87237140ab84ae8ad8ee2fd727",
            "placeholder": "​",
            "style": "IPY_MODEL_d0eef80e202540e999b54e4973a10351",
            "value": " 10/10 [00:03&lt;00:00,  3.26it/s]"
          }
        },
        "6aa6a9af4c32408c8fbcb1c6ca5112a6": {
          "model_module": "@jupyter-widgets/base",
          "model_name": "LayoutModel",
          "state": {
            "_model_module": "@jupyter-widgets/base",
            "_model_module_version": "1.2.0",
            "_model_name": "LayoutModel",
            "_view_count": null,
            "_view_module": "@jupyter-widgets/base",
            "_view_module_version": "1.2.0",
            "_view_name": "LayoutView",
            "align_content": null,
            "align_items": null,
            "align_self": null,
            "border": null,
            "bottom": null,
            "display": null,
            "flex": null,
            "flex_flow": null,
            "grid_area": null,
            "grid_auto_columns": null,
            "grid_auto_flow": null,
            "grid_auto_rows": null,
            "grid_column": null,
            "grid_gap": null,
            "grid_row": null,
            "grid_template_areas": null,
            "grid_template_columns": null,
            "grid_template_rows": null,
            "height": null,
            "justify_content": null,
            "justify_items": null,
            "left": null,
            "margin": null,
            "max_height": null,
            "max_width": null,
            "min_height": null,
            "min_width": null,
            "object_fit": null,
            "object_position": null,
            "order": null,
            "overflow": null,
            "overflow_x": null,
            "overflow_y": null,
            "padding": null,
            "right": null,
            "top": null,
            "visibility": null,
            "width": null
          }
        },
        "86e5e8d889294b5893e12aa3fa47d21d": {
          "model_module": "@jupyter-widgets/base",
          "model_name": "LayoutModel",
          "state": {
            "_model_module": "@jupyter-widgets/base",
            "_model_module_version": "1.2.0",
            "_model_name": "LayoutModel",
            "_view_count": null,
            "_view_module": "@jupyter-widgets/base",
            "_view_module_version": "1.2.0",
            "_view_name": "LayoutView",
            "align_content": null,
            "align_items": null,
            "align_self": null,
            "border": null,
            "bottom": null,
            "display": null,
            "flex": null,
            "flex_flow": null,
            "grid_area": null,
            "grid_auto_columns": null,
            "grid_auto_flow": null,
            "grid_auto_rows": null,
            "grid_column": null,
            "grid_gap": null,
            "grid_row": null,
            "grid_template_areas": null,
            "grid_template_columns": null,
            "grid_template_rows": null,
            "height": null,
            "justify_content": null,
            "justify_items": null,
            "left": null,
            "margin": null,
            "max_height": null,
            "max_width": null,
            "min_height": null,
            "min_width": null,
            "object_fit": null,
            "object_position": null,
            "order": null,
            "overflow": null,
            "overflow_x": null,
            "overflow_y": null,
            "padding": null,
            "right": null,
            "top": null,
            "visibility": null,
            "width": null
          }
        },
        "d66ea45dc3e648c8a59755334bf0c364": {
          "model_module": "@jupyter-widgets/controls",
          "model_name": "ProgressStyleModel",
          "state": {
            "_model_module": "@jupyter-widgets/controls",
            "_model_module_version": "1.5.0",
            "_model_name": "ProgressStyleModel",
            "_view_count": null,
            "_view_module": "@jupyter-widgets/base",
            "_view_module_version": "1.2.0",
            "_view_name": "StyleView",
            "bar_color": null,
            "description_width": "initial"
          }
        },
        "726f9d87237140ab84ae8ad8ee2fd727": {
          "model_module": "@jupyter-widgets/base",
          "model_name": "LayoutModel",
          "state": {
            "_model_module": "@jupyter-widgets/base",
            "_model_module_version": "1.2.0",
            "_model_name": "LayoutModel",
            "_view_count": null,
            "_view_module": "@jupyter-widgets/base",
            "_view_module_version": "1.2.0",
            "_view_name": "LayoutView",
            "align_content": null,
            "align_items": null,
            "align_self": null,
            "border": null,
            "bottom": null,
            "display": null,
            "flex": null,
            "flex_flow": null,
            "grid_area": null,
            "grid_auto_columns": null,
            "grid_auto_flow": null,
            "grid_auto_rows": null,
            "grid_column": null,
            "grid_gap": null,
            "grid_row": null,
            "grid_template_areas": null,
            "grid_template_columns": null,
            "grid_template_rows": null,
            "height": null,
            "justify_content": null,
            "justify_items": null,
            "left": null,
            "margin": null,
            "max_height": null,
            "max_width": null,
            "min_height": null,
            "min_width": null,
            "object_fit": null,
            "object_position": null,
            "order": null,
            "overflow": null,
            "overflow_x": null,
            "overflow_y": null,
            "padding": null,
            "right": null,
            "top": null,
            "visibility": null,
            "width": null
          }
        },
        "d0eef80e202540e999b54e4973a10351": {
          "model_module": "@jupyter-widgets/controls",
          "model_name": "DescriptionStyleModel",
          "state": {
            "_model_module": "@jupyter-widgets/controls",
            "_model_module_version": "1.5.0",
            "_model_name": "DescriptionStyleModel",
            "_view_count": null,
            "_view_module": "@jupyter-widgets/base",
            "_view_module_version": "1.2.0",
            "_view_name": "StyleView",
            "description_width": ""
          }
        }
      }
    }
  },
  "cells": [
    {
      "cell_type": "code",
      "metadata": {
        "id": "YWr2f5Nr3VBb"
      },
      "source": [
        "#https://research.google.com/colaboratory/local-runtimes.html\n",
        "#pip install jupyter_http_over_ws\n",
        "#jupyter serverextension enable --py jupyter_http_over_ws\n",
        "#jupyter notebook --NotebookApp.allow_origin='https://colab.research.google.com'  --port=8889 --NotebookApp.port_retries=0"
      ],
      "execution_count": null,
      "outputs": []
    },
    {
      "cell_type": "code",
      "metadata": {
        "id": "4rmWUYeEy-oL"
      },
      "source": [
        "#https://www.kaggle.com/c/stanford-covid-vaccine/data\n",
        "#https://www.kaggle.com/artgor/openvaccine-eda-feature-engineering-and-modelling\n",
        "#kaggle competitions download -c stanford-covid-vaccine\n",
        "#kaggle competitions submit -c stanford-covid-vaccine -f submission.csv -m \"Message\""
      ],
      "execution_count": null,
      "outputs": []
    },
    {
      "cell_type": "code",
      "metadata": {
        "id": "FlsEDEVwf3OF",
        "outputId": "5ba7d57b-0ffc-4737-b00f-60dd3555fdfb",
        "colab": {
          "base_uri": "https://localhost:8080/",
          "height": 122
        }
      },
      "source": [
        "!pip install pathlib\n",
        "!pip install pandas\n",
        "!pip install forgi\n",
        "!pip install numpy\n",
        "!pip install matplotlib\n",
        "!pip install pandas_profiling"
      ],
      "execution_count": null,
      "outputs": [
        {
          "output_type": "stream",
          "text": [
            "Requirement already satisfied: pandas in c:\\users\\animeshs\\appdata\\local\\continuum\\miniconda3\\lib\\site-packages (1.1.2)\n",
            "Requirement already satisfied: python-dateutil>=2.7.3 in c:\\users\\animeshs\\appdata\\local\\continuum\\miniconda3\\lib\\site-packages (from pandas) (2.8.0)\n",
            "Requirement already satisfied: pytz>=2017.2 in c:\\users\\animeshs\\appdata\\local\\continuum\\miniconda3\\lib\\site-packages (from pandas) (2019.1)\n",
            "Requirement already satisfied: numpy>=1.15.4 in c:\\users\\animeshs\\appdata\\local\\continuum\\miniconda3\\lib\\site-packages (from pandas) (1.16.4)\n",
            "Requirement already satisfied: six>=1.5 in c:\\users\\animeshs\\appdata\\local\\continuum\\miniconda3\\lib\\site-packages (from python-dateutil>=2.7.3->pandas) (1.12.0)\n"
          ],
          "name": "stdout"
        }
      ]
    },
    {
      "cell_type": "code",
      "metadata": {
        "id": "sqh0J_9z2IXm",
        "outputId": "2f4fc599-e9b5-4eab-d27d-96b2d36a95ce",
        "colab": {
          "base_uri": "https://localhost:8080/",
          "height": 54
        }
      },
      "source": [
        "from pathlib import Path\n",
        "pathFiles = Path('C:/Users/animeshs/GD/stanford-covid-vaccine')\n",
        "testFile=pathFiles/'test.json'\n",
        "trainFile=pathFiles/'train.json'\n",
        "imgList=list(pathFiles.rglob(\"*.npy*\"))\n",
        "print(imgList)"
      ],
      "execution_count": 16,
      "outputs": [
        {
          "output_type": "stream",
          "text": [
            "[WindowsPath('C:/Users/animeshs/GD/stanford-covid-vaccine/bpps/id_00073f8be.npy'), WindowsPath('C:/Users/animeshs/GD/stanford-covid-vaccine/bpps/id_000ae4237.npy'), WindowsPath('C:/Users/animeshs/GD/stanford-covid-vaccine/bpps/id_00131c573.npy'), WindowsPath('C:/Users/animeshs/GD/stanford-covid-vaccine/bpps/id_00181fd34.npy'), WindowsPath('C:/Users/animeshs/GD/stanford-covid-vaccine/bpps/id_001f94081.npy'), WindowsPath('C:/Users/animeshs/GD/stanford-covid-vaccine/bpps/id_0020473f7.npy'), WindowsPath('C:/Users/animeshs/GD/stanford-covid-vaccine/bpps/id_002852873.npy'), WindowsPath('C:/Users/animeshs/GD/stanford-covid-vaccine/bpps/id_0031191b7.npy'), WindowsPath('C:/Users/animeshs/GD/stanford-covid-vaccine/bpps/id_003ab2445.npy'), WindowsPath('C:/Users/animeshs/GD/stanford-covid-vaccine/bpps/id_0049f53ba.npy'), WindowsPath('C:/Users/animeshs/GD/stanford-covid-vaccine/bpps/id_0051b1d76.npy'), WindowsPath('C:/Users/animeshs/GD/stanford-covid-vaccine/bpps/id_00583aef6.npy'), WindowsPath('C:/Users/animeshs/GD/stanford-covid-vaccine/bpps/id_006a0ab6e.npy'), WindowsPath('C:/Users/animeshs/GD/stanford-covid-vaccine/bpps/id_006af2226.npy'), WindowsPath('C:/Users/animeshs/GD/stanford-covid-vaccine/bpps/id_006f36f57.npy'), WindowsPath('C:/Users/animeshs/GD/stanford-covid-vaccine/bpps/id_00710bcba.npy'), WindowsPath('C:/Users/animeshs/GD/stanford-covid-vaccine/bpps/id_0082d463b.npy'), WindowsPath('C:/Users/animeshs/GD/stanford-covid-vaccine/bpps/id_0087940f4.npy'), WindowsPath('C:/Users/animeshs/GD/stanford-covid-vaccine/bpps/id_0088b606f.npy'), WindowsPath('C:/Users/animeshs/GD/stanford-covid-vaccine/bpps/id_008d87c43.npy'), WindowsPath('C:/Users/animeshs/GD/stanford-covid-vaccine/bpps/id_009721b4c.npy'), WindowsPath('C:/Users/animeshs/GD/stanford-covid-vaccine/bpps/id_00ab2d761.npy'), WindowsPath('C:/Users/animeshs/GD/stanford-covid-vaccine/bpps/id_00abef1d7.npy'), WindowsPath('C:/Users/animeshs/GD/stanford-covid-vaccine/bpps/id_00b436dec.npy'), WindowsPath('C:/Users/animeshs/GD/stanford-covid-vaccine/bpps/id_00bca3932.npy'), WindowsPath('C:/Users/animeshs/GD/stanford-covid-vaccine/bpps/id_00c4348c4.npy'), WindowsPath('C:/Users/animeshs/GD/stanford-covid-vaccine/bpps/id_00ca60e44.npy'), WindowsPath('C:/Users/animeshs/GD/stanford-covid-vaccine/bpps/id_00cd52aa9.npy'), WindowsPath('C:/Users/animeshs/GD/stanford-covid-vaccine/bpps/id_00cda8e23.npy'), WindowsPath('C:/Users/animeshs/GD/stanford-covid-vaccine/bpps/id_00dccd97d.npy'), WindowsPath('C:/Users/animeshs/GD/stanford-covid-vaccine/bpps/id_00e33f23b.npy'), WindowsPath('C:/Users/animeshs/GD/stanford-covid-vaccine/bpps/id_00e99b69c.npy'), WindowsPath('C:/Users/animeshs/GD/stanford-covid-vaccine/bpps/id_00fcc5cd1.npy'), WindowsPath('C:/Users/animeshs/GD/stanford-covid-vaccine/bpps/id_00ff7414e.npy'), WindowsPath('C:/Users/animeshs/GD/stanford-covid-vaccine/bpps/id_010440bb8.npy'), WindowsPath('C:/Users/animeshs/GD/stanford-covid-vaccine/bpps/id_010ab0472.npy'), WindowsPath('C:/Users/animeshs/GD/stanford-covid-vaccine/bpps/id_0113160e0.npy'), WindowsPath('C:/Users/animeshs/GD/stanford-covid-vaccine/bpps/id_013071ac2.npy'), WindowsPath('C:/Users/animeshs/GD/stanford-covid-vaccine/bpps/id_0133c7f43.npy'), WindowsPath('C:/Users/animeshs/GD/stanford-covid-vaccine/bpps/id_014453f46.npy'), WindowsPath('C:/Users/animeshs/GD/stanford-covid-vaccine/bpps/id_014c66289.npy'), WindowsPath('C:/Users/animeshs/GD/stanford-covid-vaccine/bpps/id_016682486.npy'), WindowsPath('C:/Users/animeshs/GD/stanford-covid-vaccine/bpps/id_01703bcb7.npy'), WindowsPath('C:/Users/animeshs/GD/stanford-covid-vaccine/bpps/id_0172c2cb6.npy'), WindowsPath('C:/Users/animeshs/GD/stanford-covid-vaccine/bpps/id_017704a91.npy'), WindowsPath('C:/Users/animeshs/GD/stanford-covid-vaccine/bpps/id_0186793df.npy'), WindowsPath('C:/Users/animeshs/GD/stanford-covid-vaccine/bpps/id_019001f8c.npy'), WindowsPath('C:/Users/animeshs/GD/stanford-covid-vaccine/bpps/id_0197d5afb.npy'), WindowsPath('C:/Users/animeshs/GD/stanford-covid-vaccine/bpps/id_019a556b1.npy'), WindowsPath('C:/Users/animeshs/GD/stanford-covid-vaccine/bpps/id_01afd75b1.npy'), WindowsPath('C:/Users/animeshs/GD/stanford-covid-vaccine/bpps/id_01b53b647.npy'), WindowsPath('C:/Users/animeshs/GD/stanford-covid-vaccine/bpps/id_01bd6a9b8.npy'), WindowsPath('C:/Users/animeshs/GD/stanford-covid-vaccine/bpps/id_01bded1ea.npy'), WindowsPath('C:/Users/animeshs/GD/stanford-covid-vaccine/bpps/id_01ccf95c0.npy'), WindowsPath('C:/Users/animeshs/GD/stanford-covid-vaccine/bpps/id_01cd826d9.npy'), WindowsPath('C:/Users/animeshs/GD/stanford-covid-vaccine/bpps/id_01e2cf40a.npy'), WindowsPath('C:/Users/animeshs/GD/stanford-covid-vaccine/bpps/id_01e62ef42.npy'), WindowsPath('C:/Users/animeshs/GD/stanford-covid-vaccine/bpps/id_01e948286.npy'), WindowsPath('C:/Users/animeshs/GD/stanford-covid-vaccine/bpps/id_01f38f83d.npy'), WindowsPath('C:/Users/animeshs/GD/stanford-covid-vaccine/bpps/id_020105a22.npy'), WindowsPath('C:/Users/animeshs/GD/stanford-covid-vaccine/bpps/id_020af5561.npy'), WindowsPath('C:/Users/animeshs/GD/stanford-covid-vaccine/bpps/id_0211b293a.npy'), WindowsPath('C:/Users/animeshs/GD/stanford-covid-vaccine/bpps/id_021cec502.npy'), WindowsPath('C:/Users/animeshs/GD/stanford-covid-vaccine/bpps/id_02266c5e0.npy'), WindowsPath('C:/Users/animeshs/GD/stanford-covid-vaccine/bpps/id_0231d8646.npy'), WindowsPath('C:/Users/animeshs/GD/stanford-covid-vaccine/bpps/id_023f91e97.npy'), WindowsPath('C:/Users/animeshs/GD/stanford-covid-vaccine/bpps/id_0249ac3ec.npy'), WindowsPath('C:/Users/animeshs/GD/stanford-covid-vaccine/bpps/id_024a00ada.npy'), WindowsPath('C:/Users/animeshs/GD/stanford-covid-vaccine/bpps/id_024a77bd6.npy'), WindowsPath('C:/Users/animeshs/GD/stanford-covid-vaccine/bpps/id_02612d250.npy'), WindowsPath('C:/Users/animeshs/GD/stanford-covid-vaccine/bpps/id_026306386.npy'), WindowsPath('C:/Users/animeshs/GD/stanford-covid-vaccine/bpps/id_0268223d3.npy'), WindowsPath('C:/Users/animeshs/GD/stanford-covid-vaccine/bpps/id_026ecc0f7.npy'), WindowsPath('C:/Users/animeshs/GD/stanford-covid-vaccine/bpps/id_028daae5f.npy'), WindowsPath('C:/Users/animeshs/GD/stanford-covid-vaccine/bpps/id_0292ade85.npy'), WindowsPath('C:/Users/animeshs/GD/stanford-covid-vaccine/bpps/id_02949f9a6.npy'), WindowsPath('C:/Users/animeshs/GD/stanford-covid-vaccine/bpps/id_0295caf90.npy'), WindowsPath('C:/Users/animeshs/GD/stanford-covid-vaccine/bpps/id_029adfef2.npy'), WindowsPath('C:/Users/animeshs/GD/stanford-covid-vaccine/bpps/id_02adfe04c.npy'), WindowsPath('C:/Users/animeshs/GD/stanford-covid-vaccine/bpps/id_02bda376d.npy'), WindowsPath('C:/Users/animeshs/GD/stanford-covid-vaccine/bpps/id_02c0278e3.npy'), WindowsPath('C:/Users/animeshs/GD/stanford-covid-vaccine/bpps/id_02c16cf5b.npy'), WindowsPath('C:/Users/animeshs/GD/stanford-covid-vaccine/bpps/id_02cbae389.npy'), WindowsPath('C:/Users/animeshs/GD/stanford-covid-vaccine/bpps/id_02d02ff15.npy'), WindowsPath('C:/Users/animeshs/GD/stanford-covid-vaccine/bpps/id_02d34ad3e.npy'), WindowsPath('C:/Users/animeshs/GD/stanford-covid-vaccine/bpps/id_02dc976c7.npy'), WindowsPath('C:/Users/animeshs/GD/stanford-covid-vaccine/bpps/id_02f23caa2.npy'), WindowsPath('C:/Users/animeshs/GD/stanford-covid-vaccine/bpps/id_02f8252e9.npy'), WindowsPath('C:/Users/animeshs/GD/stanford-covid-vaccine/bpps/id_030873a8c.npy'), WindowsPath('C:/Users/animeshs/GD/stanford-covid-vaccine/bpps/id_031276afd.npy'), WindowsPath('C:/Users/animeshs/GD/stanford-covid-vaccine/bpps/id_031500f63.npy'), WindowsPath('C:/Users/animeshs/GD/stanford-covid-vaccine/bpps/id_032386617.npy'), WindowsPath('C:/Users/animeshs/GD/stanford-covid-vaccine/bpps/id_032da0b42.npy'), WindowsPath('C:/Users/animeshs/GD/stanford-covid-vaccine/bpps/id_03329a6bb.npy'), WindowsPath('C:/Users/animeshs/GD/stanford-covid-vaccine/bpps/id_03374ce85.npy'), WindowsPath('C:/Users/animeshs/GD/stanford-covid-vaccine/bpps/id_034b76dfa.npy'), WindowsPath('C:/Users/animeshs/GD/stanford-covid-vaccine/bpps/id_03534a5ef.npy'), WindowsPath('C:/Users/animeshs/GD/stanford-covid-vaccine/bpps/id_035b55616.npy'), WindowsPath('C:/Users/animeshs/GD/stanford-covid-vaccine/bpps/id_035ea3536.npy'), WindowsPath('C:/Users/animeshs/GD/stanford-covid-vaccine/bpps/id_036f2e603.npy'), WindowsPath('C:/Users/animeshs/GD/stanford-covid-vaccine/bpps/id_0370608c1.npy'), WindowsPath('C:/Users/animeshs/GD/stanford-covid-vaccine/bpps/id_037d94ac8.npy'), WindowsPath('C:/Users/animeshs/GD/stanford-covid-vaccine/bpps/id_038b5053f.npy'), WindowsPath('C:/Users/animeshs/GD/stanford-covid-vaccine/bpps/id_038b7f371.npy'), WindowsPath('C:/Users/animeshs/GD/stanford-covid-vaccine/bpps/id_039aeb7a1.npy'), WindowsPath('C:/Users/animeshs/GD/stanford-covid-vaccine/bpps/id_03a428713.npy'), WindowsPath('C:/Users/animeshs/GD/stanford-covid-vaccine/bpps/id_03a7086d9.npy'), WindowsPath('C:/Users/animeshs/GD/stanford-covid-vaccine/bpps/id_03ada4344.npy'), WindowsPath('C:/Users/animeshs/GD/stanford-covid-vaccine/bpps/id_03c6fc117.npy'), WindowsPath('C:/Users/animeshs/GD/stanford-covid-vaccine/bpps/id_03c9360c3.npy'), WindowsPath('C:/Users/animeshs/GD/stanford-covid-vaccine/bpps/id_03e7df12c.npy'), WindowsPath('C:/Users/animeshs/GD/stanford-covid-vaccine/bpps/id_03ead2efd.npy'), WindowsPath('C:/Users/animeshs/GD/stanford-covid-vaccine/bpps/id_040aef802.npy'), WindowsPath('C:/Users/animeshs/GD/stanford-covid-vaccine/bpps/id_040ce1936.npy'), WindowsPath('C:/Users/animeshs/GD/stanford-covid-vaccine/bpps/id_040ef436f.npy'), WindowsPath('C:/Users/animeshs/GD/stanford-covid-vaccine/bpps/id_042105873.npy'), WindowsPath('C:/Users/animeshs/GD/stanford-covid-vaccine/bpps/id_0425d26b0.npy'), WindowsPath('C:/Users/animeshs/GD/stanford-covid-vaccine/bpps/id_0426fec9c.npy'), WindowsPath('C:/Users/animeshs/GD/stanford-covid-vaccine/bpps/id_042cdf5dc.npy'), WindowsPath('C:/Users/animeshs/GD/stanford-covid-vaccine/bpps/id_042d60cdd.npy'), WindowsPath('C:/Users/animeshs/GD/stanford-covid-vaccine/bpps/id_044180f0f.npy'), WindowsPath('C:/Users/animeshs/GD/stanford-covid-vaccine/bpps/id_0447c09b0.npy'), WindowsPath('C:/Users/animeshs/GD/stanford-covid-vaccine/bpps/id_044d00072.npy'), WindowsPath('C:/Users/animeshs/GD/stanford-covid-vaccine/bpps/id_047618cb5.npy'), WindowsPath('C:/Users/animeshs/GD/stanford-covid-vaccine/bpps/id_048360f30.npy'), WindowsPath('C:/Users/animeshs/GD/stanford-covid-vaccine/bpps/id_048fb632c.npy'), WindowsPath('C:/Users/animeshs/GD/stanford-covid-vaccine/bpps/id_049095e85.npy'), WindowsPath('C:/Users/animeshs/GD/stanford-covid-vaccine/bpps/id_049a6e7b8.npy'), WindowsPath('C:/Users/animeshs/GD/stanford-covid-vaccine/bpps/id_04ce915de.npy'), WindowsPath('C:/Users/animeshs/GD/stanford-covid-vaccine/bpps/id_04e2a4acf.npy'), WindowsPath('C:/Users/animeshs/GD/stanford-covid-vaccine/bpps/id_04e6f6e67.npy'), WindowsPath('C:/Users/animeshs/GD/stanford-covid-vaccine/bpps/id_04e8d7ce2.npy'), WindowsPath('C:/Users/animeshs/GD/stanford-covid-vaccine/bpps/id_05055c277.npy'), WindowsPath('C:/Users/animeshs/GD/stanford-covid-vaccine/bpps/id_050619233.npy'), WindowsPath('C:/Users/animeshs/GD/stanford-covid-vaccine/bpps/id_0509928c0.npy'), WindowsPath('C:/Users/animeshs/GD/stanford-covid-vaccine/bpps/id_0515a9903.npy'), WindowsPath('C:/Users/animeshs/GD/stanford-covid-vaccine/bpps/id_051b09374.npy'), WindowsPath('C:/Users/animeshs/GD/stanford-covid-vaccine/bpps/id_052055877.npy'), WindowsPath('C:/Users/animeshs/GD/stanford-covid-vaccine/bpps/id_0542c01db.npy'), WindowsPath('C:/Users/animeshs/GD/stanford-covid-vaccine/bpps/id_054c42ac8.npy'), WindowsPath('C:/Users/animeshs/GD/stanford-covid-vaccine/bpps/id_054e87a74.npy'), WindowsPath('C:/Users/animeshs/GD/stanford-covid-vaccine/bpps/id_05652137c.npy'), WindowsPath('C:/Users/animeshs/GD/stanford-covid-vaccine/bpps/id_0573bfe84.npy'), WindowsPath('C:/Users/animeshs/GD/stanford-covid-vaccine/bpps/id_0583a20b4.npy'), WindowsPath('C:/Users/animeshs/GD/stanford-covid-vaccine/bpps/id_058cb0b00.npy'), WindowsPath('C:/Users/animeshs/GD/stanford-covid-vaccine/bpps/id_0598b0df7.npy'), WindowsPath('C:/Users/animeshs/GD/stanford-covid-vaccine/bpps/id_059eec860.npy'), WindowsPath('C:/Users/animeshs/GD/stanford-covid-vaccine/bpps/id_05b937127.npy'), WindowsPath('C:/Users/animeshs/GD/stanford-covid-vaccine/bpps/id_05c5cffc1.npy'), WindowsPath('C:/Users/animeshs/GD/stanford-covid-vaccine/bpps/id_05d1a13d3.npy'), WindowsPath('C:/Users/animeshs/GD/stanford-covid-vaccine/bpps/id_05e19e82e.npy'), WindowsPath('C:/Users/animeshs/GD/stanford-covid-vaccine/bpps/id_05f25a79d.npy'), WindowsPath('C:/Users/animeshs/GD/stanford-covid-vaccine/bpps/id_05fed8073.npy'), WindowsPath('C:/Users/animeshs/GD/stanford-covid-vaccine/bpps/id_0604d37a5.npy'), WindowsPath('C:/Users/animeshs/GD/stanford-covid-vaccine/bpps/id_061e79e4f.npy'), WindowsPath('C:/Users/animeshs/GD/stanford-covid-vaccine/bpps/id_061f8c467.npy'), WindowsPath('C:/Users/animeshs/GD/stanford-covid-vaccine/bpps/id_062b07da4.npy'), WindowsPath('C:/Users/animeshs/GD/stanford-covid-vaccine/bpps/id_062b31d30.npy'), WindowsPath('C:/Users/animeshs/GD/stanford-covid-vaccine/bpps/id_062b5d830.npy'), WindowsPath('C:/Users/animeshs/GD/stanford-covid-vaccine/bpps/id_06354b28a.npy'), WindowsPath('C:/Users/animeshs/GD/stanford-covid-vaccine/bpps/id_06375c2e7.npy'), WindowsPath('C:/Users/animeshs/GD/stanford-covid-vaccine/bpps/id_064cec650.npy'), WindowsPath('C:/Users/animeshs/GD/stanford-covid-vaccine/bpps/id_0654eb8e4.npy'), WindowsPath('C:/Users/animeshs/GD/stanford-covid-vaccine/bpps/id_06561a4e9.npy'), WindowsPath('C:/Users/animeshs/GD/stanford-covid-vaccine/bpps/id_06581dc09.npy'), WindowsPath('C:/Users/animeshs/GD/stanford-covid-vaccine/bpps/id_066f0ad26.npy'), WindowsPath('C:/Users/animeshs/GD/stanford-covid-vaccine/bpps/id_06913857e.npy'), WindowsPath('C:/Users/animeshs/GD/stanford-covid-vaccine/bpps/id_06a11167b.npy'), WindowsPath('C:/Users/animeshs/GD/stanford-covid-vaccine/bpps/id_06a1badec.npy'), WindowsPath('C:/Users/animeshs/GD/stanford-covid-vaccine/bpps/id_06b6f9ce7.npy'), WindowsPath('C:/Users/animeshs/GD/stanford-covid-vaccine/bpps/id_06c72914f.npy'), WindowsPath('C:/Users/animeshs/GD/stanford-covid-vaccine/bpps/id_06d94fdb2.npy'), WindowsPath('C:/Users/animeshs/GD/stanford-covid-vaccine/bpps/id_06e797132.npy'), WindowsPath('C:/Users/animeshs/GD/stanford-covid-vaccine/bpps/id_070d19963.npy'), WindowsPath('C:/Users/animeshs/GD/stanford-covid-vaccine/bpps/id_071d7d239.npy'), WindowsPath('C:/Users/animeshs/GD/stanford-covid-vaccine/bpps/id_07256d451.npy'), WindowsPath('C:/Users/animeshs/GD/stanford-covid-vaccine/bpps/id_0728c7bd4.npy'), WindowsPath('C:/Users/animeshs/GD/stanford-covid-vaccine/bpps/id_073e10df7.npy'), WindowsPath('C:/Users/animeshs/GD/stanford-covid-vaccine/bpps/id_0743380fa.npy'), WindowsPath('C:/Users/animeshs/GD/stanford-covid-vaccine/bpps/id_074872c13.npy'), WindowsPath('C:/Users/animeshs/GD/stanford-covid-vaccine/bpps/id_0748e1513.npy'), WindowsPath('C:/Users/animeshs/GD/stanford-covid-vaccine/bpps/id_0751ca023.npy'), WindowsPath('C:/Users/animeshs/GD/stanford-covid-vaccine/bpps/id_0752887e5.npy'), WindowsPath('C:/Users/animeshs/GD/stanford-covid-vaccine/bpps/id_0756c91f5.npy'), WindowsPath('C:/Users/animeshs/GD/stanford-covid-vaccine/bpps/id_0757e351b.npy'), WindowsPath('C:/Users/animeshs/GD/stanford-covid-vaccine/bpps/id_0772185a8.npy'), WindowsPath('C:/Users/animeshs/GD/stanford-covid-vaccine/bpps/id_078d95d6c.npy'), WindowsPath('C:/Users/animeshs/GD/stanford-covid-vaccine/bpps/id_07a11a1da.npy'), WindowsPath('C:/Users/animeshs/GD/stanford-covid-vaccine/bpps/id_07a1c6001.npy'), WindowsPath('C:/Users/animeshs/GD/stanford-covid-vaccine/bpps/id_07a3806c1.npy'), WindowsPath('C:/Users/animeshs/GD/stanford-covid-vaccine/bpps/id_07b2873e8.npy'), WindowsPath('C:/Users/animeshs/GD/stanford-covid-vaccine/bpps/id_07bfae084.npy'), WindowsPath('C:/Users/animeshs/GD/stanford-covid-vaccine/bpps/id_07cc03485.npy'), WindowsPath('C:/Users/animeshs/GD/stanford-covid-vaccine/bpps/id_07cf56b9b.npy'), WindowsPath('C:/Users/animeshs/GD/stanford-covid-vaccine/bpps/id_07d9b4939.npy'), WindowsPath('C:/Users/animeshs/GD/stanford-covid-vaccine/bpps/id_07dcc5ff8.npy'), WindowsPath('C:/Users/animeshs/GD/stanford-covid-vaccine/bpps/id_07e6d9a0d.npy'), WindowsPath('C:/Users/animeshs/GD/stanford-covid-vaccine/bpps/id_07e87fefe.npy'), WindowsPath('C:/Users/animeshs/GD/stanford-covid-vaccine/bpps/id_07f10f769.npy'), WindowsPath('C:/Users/animeshs/GD/stanford-covid-vaccine/bpps/id_07f301467.npy'), WindowsPath('C:/Users/animeshs/GD/stanford-covid-vaccine/bpps/id_07fff2f9b.npy'), WindowsPath('C:/Users/animeshs/GD/stanford-covid-vaccine/bpps/id_0808e97e1.npy'), WindowsPath('C:/Users/animeshs/GD/stanford-covid-vaccine/bpps/id_0819df711.npy'), WindowsPath('C:/Users/animeshs/GD/stanford-covid-vaccine/bpps/id_08290f0e0.npy'), WindowsPath('C:/Users/animeshs/GD/stanford-covid-vaccine/bpps/id_083261c0f.npy'), WindowsPath('C:/Users/animeshs/GD/stanford-covid-vaccine/bpps/id_083500800.npy'), WindowsPath('C:/Users/animeshs/GD/stanford-covid-vaccine/bpps/id_0841a0911.npy'), WindowsPath('C:/Users/animeshs/GD/stanford-covid-vaccine/bpps/id_08454c85c.npy'), WindowsPath('C:/Users/animeshs/GD/stanford-covid-vaccine/bpps/id_084ece3ec.npy'), WindowsPath('C:/Users/animeshs/GD/stanford-covid-vaccine/bpps/id_084fb203e.npy'), WindowsPath('C:/Users/animeshs/GD/stanford-covid-vaccine/bpps/id_08556e3c1.npy'), WindowsPath('C:/Users/animeshs/GD/stanford-covid-vaccine/bpps/id_0863fc10f.npy'), WindowsPath('C:/Users/animeshs/GD/stanford-covid-vaccine/bpps/id_0876f48e5.npy'), WindowsPath('C:/Users/animeshs/GD/stanford-covid-vaccine/bpps/id_08792c25e.npy'), WindowsPath('C:/Users/animeshs/GD/stanford-covid-vaccine/bpps/id_088ad7ce5.npy'), WindowsPath('C:/Users/animeshs/GD/stanford-covid-vaccine/bpps/id_088c0d17e.npy'), WindowsPath('C:/Users/animeshs/GD/stanford-covid-vaccine/bpps/id_088cef62f.npy'), WindowsPath('C:/Users/animeshs/GD/stanford-covid-vaccine/bpps/id_08926e366.npy'), WindowsPath('C:/Users/animeshs/GD/stanford-covid-vaccine/bpps/id_089dd359b.npy'), WindowsPath('C:/Users/animeshs/GD/stanford-covid-vaccine/bpps/id_08a84e8bd.npy'), WindowsPath('C:/Users/animeshs/GD/stanford-covid-vaccine/bpps/id_08b44c4e2.npy'), WindowsPath('C:/Users/animeshs/GD/stanford-covid-vaccine/bpps/id_08b7c8397.npy'), WindowsPath('C:/Users/animeshs/GD/stanford-covid-vaccine/bpps/id_08c1ecfac.npy'), WindowsPath('C:/Users/animeshs/GD/stanford-covid-vaccine/bpps/id_08d29ab3d.npy'), WindowsPath('C:/Users/animeshs/GD/stanford-covid-vaccine/bpps/id_08d3992f9.npy'), WindowsPath('C:/Users/animeshs/GD/stanford-covid-vaccine/bpps/id_08d9db389.npy'), WindowsPath('C:/Users/animeshs/GD/stanford-covid-vaccine/bpps/id_08db26f2e.npy'), WindowsPath('C:/Users/animeshs/GD/stanford-covid-vaccine/bpps/id_08dc9e1ae.npy'), WindowsPath('C:/Users/animeshs/GD/stanford-covid-vaccine/bpps/id_08e0dfed5.npy'), WindowsPath('C:/Users/animeshs/GD/stanford-covid-vaccine/bpps/id_08e4b8fd9.npy'), WindowsPath('C:/Users/animeshs/GD/stanford-covid-vaccine/bpps/id_08e719d62.npy'), WindowsPath('C:/Users/animeshs/GD/stanford-covid-vaccine/bpps/id_090b32a79.npy'), WindowsPath('C:/Users/animeshs/GD/stanford-covid-vaccine/bpps/id_090c61f40.npy'), WindowsPath('C:/Users/animeshs/GD/stanford-covid-vaccine/bpps/id_091138873.npy'), WindowsPath('C:/Users/animeshs/GD/stanford-covid-vaccine/bpps/id_09152228d.npy'), WindowsPath('C:/Users/animeshs/GD/stanford-covid-vaccine/bpps/id_091c9fbe9.npy'), WindowsPath('C:/Users/animeshs/GD/stanford-covid-vaccine/bpps/id_091ebfa1a.npy'), WindowsPath('C:/Users/animeshs/GD/stanford-covid-vaccine/bpps/id_092395284.npy'), WindowsPath('C:/Users/animeshs/GD/stanford-covid-vaccine/bpps/id_092636c86.npy'), WindowsPath('C:/Users/animeshs/GD/stanford-covid-vaccine/bpps/id_092c33ada.npy'), WindowsPath('C:/Users/animeshs/GD/stanford-covid-vaccine/bpps/id_093046b24.npy'), WindowsPath('C:/Users/animeshs/GD/stanford-covid-vaccine/bpps/id_094a86648.npy'), WindowsPath('C:/Users/animeshs/GD/stanford-covid-vaccine/bpps/id_09648efcb.npy'), WindowsPath('C:/Users/animeshs/GD/stanford-covid-vaccine/bpps/id_0977d33f5.npy'), WindowsPath('C:/Users/animeshs/GD/stanford-covid-vaccine/bpps/id_09807b9e5.npy'), WindowsPath('C:/Users/animeshs/GD/stanford-covid-vaccine/bpps/id_0987cc34d.npy'), WindowsPath('C:/Users/animeshs/GD/stanford-covid-vaccine/bpps/id_098af4907.npy'), WindowsPath('C:/Users/animeshs/GD/stanford-covid-vaccine/bpps/id_099a8a149.npy'), WindowsPath('C:/Users/animeshs/GD/stanford-covid-vaccine/bpps/id_09a47a3cf.npy'), WindowsPath('C:/Users/animeshs/GD/stanford-covid-vaccine/bpps/id_09aadb786.npy'), WindowsPath('C:/Users/animeshs/GD/stanford-covid-vaccine/bpps/id_09aee1f84.npy'), WindowsPath('C:/Users/animeshs/GD/stanford-covid-vaccine/bpps/id_09be4ee60.npy'), WindowsPath('C:/Users/animeshs/GD/stanford-covid-vaccine/bpps/id_09d05f687.npy'), WindowsPath('C:/Users/animeshs/GD/stanford-covid-vaccine/bpps/id_09d5f475c.npy'), WindowsPath('C:/Users/animeshs/GD/stanford-covid-vaccine/bpps/id_09dab801a.npy'), WindowsPath('C:/Users/animeshs/GD/stanford-covid-vaccine/bpps/id_09df8803a.npy'), WindowsPath('C:/Users/animeshs/GD/stanford-covid-vaccine/bpps/id_09dfcf08b.npy'), WindowsPath('C:/Users/animeshs/GD/stanford-covid-vaccine/bpps/id_09e098274.npy'), WindowsPath('C:/Users/animeshs/GD/stanford-covid-vaccine/bpps/id_09e5afda3.npy'), WindowsPath('C:/Users/animeshs/GD/stanford-covid-vaccine/bpps/id_09e62df39.npy'), WindowsPath('C:/Users/animeshs/GD/stanford-covid-vaccine/bpps/id_09eeacdeb.npy'), WindowsPath('C:/Users/animeshs/GD/stanford-covid-vaccine/bpps/id_09f9891bf.npy'), WindowsPath('C:/Users/animeshs/GD/stanford-covid-vaccine/bpps/id_0a014457e.npy'), WindowsPath('C:/Users/animeshs/GD/stanford-covid-vaccine/bpps/id_0a22a39dd.npy'), WindowsPath('C:/Users/animeshs/GD/stanford-covid-vaccine/bpps/id_0a26f0da5.npy'), WindowsPath('C:/Users/animeshs/GD/stanford-covid-vaccine/bpps/id_0a2bbe37e.npy'), WindowsPath('C:/Users/animeshs/GD/stanford-covid-vaccine/bpps/id_0a30b7d87.npy'), WindowsPath('C:/Users/animeshs/GD/stanford-covid-vaccine/bpps/id_0a331310e.npy'), WindowsPath('C:/Users/animeshs/GD/stanford-covid-vaccine/bpps/id_0a38162fd.npy'), WindowsPath('C:/Users/animeshs/GD/stanford-covid-vaccine/bpps/id_0a42c8a30.npy'), WindowsPath('C:/Users/animeshs/GD/stanford-covid-vaccine/bpps/id_0a5640fee.npy'), WindowsPath('C:/Users/animeshs/GD/stanford-covid-vaccine/bpps/id_0a5ba2a51.npy'), WindowsPath('C:/Users/animeshs/GD/stanford-covid-vaccine/bpps/id_0a5fc0b4d.npy'), WindowsPath('C:/Users/animeshs/GD/stanford-covid-vaccine/bpps/id_0a6ff9412.npy'), WindowsPath('C:/Users/animeshs/GD/stanford-covid-vaccine/bpps/id_0a712091a.npy'), WindowsPath('C:/Users/animeshs/GD/stanford-covid-vaccine/bpps/id_0a7f659a1.npy'), WindowsPath('C:/Users/animeshs/GD/stanford-covid-vaccine/bpps/id_0a9931ed9.npy'), WindowsPath('C:/Users/animeshs/GD/stanford-covid-vaccine/bpps/id_0aa95ce0e.npy'), WindowsPath('C:/Users/animeshs/GD/stanford-covid-vaccine/bpps/id_0aaf04989.npy'), WindowsPath('C:/Users/animeshs/GD/stanford-covid-vaccine/bpps/id_0ab3e2791.npy'), WindowsPath('C:/Users/animeshs/GD/stanford-covid-vaccine/bpps/id_0aba6be53.npy'), WindowsPath('C:/Users/animeshs/GD/stanford-covid-vaccine/bpps/id_0abc04b7f.npy'), WindowsPath('C:/Users/animeshs/GD/stanford-covid-vaccine/bpps/id_0ace33314.npy'), WindowsPath('C:/Users/animeshs/GD/stanford-covid-vaccine/bpps/id_0ade54170.npy'), WindowsPath('C:/Users/animeshs/GD/stanford-covid-vaccine/bpps/id_0ae3f3e09.npy'), WindowsPath('C:/Users/animeshs/GD/stanford-covid-vaccine/bpps/id_0aff1dafc.npy'), WindowsPath('C:/Users/animeshs/GD/stanford-covid-vaccine/bpps/id_0b0a4d9c5.npy'), WindowsPath('C:/Users/animeshs/GD/stanford-covid-vaccine/bpps/id_0b0cddf96.npy'), WindowsPath('C:/Users/animeshs/GD/stanford-covid-vaccine/bpps/id_0b31f9681.npy'), WindowsPath('C:/Users/animeshs/GD/stanford-covid-vaccine/bpps/id_0b3a651e9.npy'), WindowsPath('C:/Users/animeshs/GD/stanford-covid-vaccine/bpps/id_0b3f318e7.npy'), WindowsPath('C:/Users/animeshs/GD/stanford-covid-vaccine/bpps/id_0b410ccec.npy'), WindowsPath('C:/Users/animeshs/GD/stanford-covid-vaccine/bpps/id_0b441d0ca.npy'), WindowsPath('C:/Users/animeshs/GD/stanford-covid-vaccine/bpps/id_0b46b8f03.npy'), WindowsPath('C:/Users/animeshs/GD/stanford-covid-vaccine/bpps/id_0b4cd0203.npy'), WindowsPath('C:/Users/animeshs/GD/stanford-covid-vaccine/bpps/id_0b4cd1e16.npy'), WindowsPath('C:/Users/animeshs/GD/stanford-covid-vaccine/bpps/id_0b4f6be68.npy'), WindowsPath('C:/Users/animeshs/GD/stanford-covid-vaccine/bpps/id_0b62be4ba.npy'), WindowsPath('C:/Users/animeshs/GD/stanford-covid-vaccine/bpps/id_0b7951de2.npy'), WindowsPath('C:/Users/animeshs/GD/stanford-covid-vaccine/bpps/id_0b887fdbe.npy'), WindowsPath('C:/Users/animeshs/GD/stanford-covid-vaccine/bpps/id_0b9e3db80.npy'), WindowsPath('C:/Users/animeshs/GD/stanford-covid-vaccine/bpps/id_0ba026e3a.npy'), WindowsPath('C:/Users/animeshs/GD/stanford-covid-vaccine/bpps/id_0ba84a979.npy'), WindowsPath('C:/Users/animeshs/GD/stanford-covid-vaccine/bpps/id_0bae760ba.npy'), WindowsPath('C:/Users/animeshs/GD/stanford-covid-vaccine/bpps/id_0bc53eb41.npy'), WindowsPath('C:/Users/animeshs/GD/stanford-covid-vaccine/bpps/id_0bdb0926f.npy'), WindowsPath('C:/Users/animeshs/GD/stanford-covid-vaccine/bpps/id_0be55e5a6.npy'), WindowsPath('C:/Users/animeshs/GD/stanford-covid-vaccine/bpps/id_0bf57ab9a.npy'), WindowsPath('C:/Users/animeshs/GD/stanford-covid-vaccine/bpps/id_0bff1d34c.npy'), WindowsPath('C:/Users/animeshs/GD/stanford-covid-vaccine/bpps/id_0c02067f1.npy'), WindowsPath('C:/Users/animeshs/GD/stanford-covid-vaccine/bpps/id_0c0985d2f.npy'), WindowsPath('C:/Users/animeshs/GD/stanford-covid-vaccine/bpps/id_0c121310f.npy'), WindowsPath('C:/Users/animeshs/GD/stanford-covid-vaccine/bpps/id_0c1a25090.npy'), WindowsPath('C:/Users/animeshs/GD/stanford-covid-vaccine/bpps/id_0c3025e3d.npy'), WindowsPath('C:/Users/animeshs/GD/stanford-covid-vaccine/bpps/id_0c34691b4.npy'), WindowsPath('C:/Users/animeshs/GD/stanford-covid-vaccine/bpps/id_0c3aa67f2.npy'), WindowsPath('C:/Users/animeshs/GD/stanford-covid-vaccine/bpps/id_0c3fe0aa9.npy'), WindowsPath('C:/Users/animeshs/GD/stanford-covid-vaccine/bpps/id_0c47b5006.npy'), WindowsPath('C:/Users/animeshs/GD/stanford-covid-vaccine/bpps/id_0c6594799.npy'), WindowsPath('C:/Users/animeshs/GD/stanford-covid-vaccine/bpps/id_0c673c2d6.npy'), WindowsPath('C:/Users/animeshs/GD/stanford-covid-vaccine/bpps/id_0c82ce7e3.npy'), WindowsPath('C:/Users/animeshs/GD/stanford-covid-vaccine/bpps/id_0c8ad248e.npy'), WindowsPath('C:/Users/animeshs/GD/stanford-covid-vaccine/bpps/id_0c97a4832.npy'), WindowsPath('C:/Users/animeshs/GD/stanford-covid-vaccine/bpps/id_0c99c248e.npy'), WindowsPath('C:/Users/animeshs/GD/stanford-covid-vaccine/bpps/id_0ca4577ee.npy'), WindowsPath('C:/Users/animeshs/GD/stanford-covid-vaccine/bpps/id_0ca816a4d.npy'), WindowsPath('C:/Users/animeshs/GD/stanford-covid-vaccine/bpps/id_0ca925b98.npy'), WindowsPath('C:/Users/animeshs/GD/stanford-covid-vaccine/bpps/id_0cae35829.npy'), WindowsPath('C:/Users/animeshs/GD/stanford-covid-vaccine/bpps/id_0cc3c1484.npy'), WindowsPath('C:/Users/animeshs/GD/stanford-covid-vaccine/bpps/id_0cca65cd6.npy'), WindowsPath('C:/Users/animeshs/GD/stanford-covid-vaccine/bpps/id_0cd15dd2e.npy'), WindowsPath('C:/Users/animeshs/GD/stanford-covid-vaccine/bpps/id_0cd22c06b.npy'), WindowsPath('C:/Users/animeshs/GD/stanford-covid-vaccine/bpps/id_0ce12efb8.npy'), WindowsPath('C:/Users/animeshs/GD/stanford-covid-vaccine/bpps/id_0ce65ce7b.npy'), WindowsPath('C:/Users/animeshs/GD/stanford-covid-vaccine/bpps/id_0ce791a14.npy'), WindowsPath('C:/Users/animeshs/GD/stanford-covid-vaccine/bpps/id_0cf11b852.npy'), WindowsPath('C:/Users/animeshs/GD/stanford-covid-vaccine/bpps/id_0cf21441d.npy'), WindowsPath('C:/Users/animeshs/GD/stanford-covid-vaccine/bpps/id_0cf82307d.npy'), WindowsPath('C:/Users/animeshs/GD/stanford-covid-vaccine/bpps/id_0d27385fd.npy'), WindowsPath('C:/Users/animeshs/GD/stanford-covid-vaccine/bpps/id_0d2756ea6.npy'), WindowsPath('C:/Users/animeshs/GD/stanford-covid-vaccine/bpps/id_0d2913247.npy'), WindowsPath('C:/Users/animeshs/GD/stanford-covid-vaccine/bpps/id_0d2932141.npy'), WindowsPath('C:/Users/animeshs/GD/stanford-covid-vaccine/bpps/id_0d31de566.npy'), WindowsPath('C:/Users/animeshs/GD/stanford-covid-vaccine/bpps/id_0d413a680.npy'), WindowsPath('C:/Users/animeshs/GD/stanford-covid-vaccine/bpps/id_0d56693df.npy'), WindowsPath('C:/Users/animeshs/GD/stanford-covid-vaccine/bpps/id_0d62cd1b7.npy'), WindowsPath('C:/Users/animeshs/GD/stanford-covid-vaccine/bpps/id_0d66bbdb4.npy'), WindowsPath('C:/Users/animeshs/GD/stanford-covid-vaccine/bpps/id_0d67f41fd.npy'), WindowsPath('C:/Users/animeshs/GD/stanford-covid-vaccine/bpps/id_0d6a71f64.npy'), WindowsPath('C:/Users/animeshs/GD/stanford-covid-vaccine/bpps/id_0d6ebd29b.npy'), WindowsPath('C:/Users/animeshs/GD/stanford-covid-vaccine/bpps/id_0d805d85f.npy'), WindowsPath('C:/Users/animeshs/GD/stanford-covid-vaccine/bpps/id_0d83fd1e3.npy'), WindowsPath('C:/Users/animeshs/GD/stanford-covid-vaccine/bpps/id_0d893f433.npy'), WindowsPath('C:/Users/animeshs/GD/stanford-covid-vaccine/bpps/id_0d8bdce20.npy'), WindowsPath('C:/Users/animeshs/GD/stanford-covid-vaccine/bpps/id_0d94c5e0e.npy'), WindowsPath('C:/Users/animeshs/GD/stanford-covid-vaccine/bpps/id_0d9d2e775.npy'), WindowsPath('C:/Users/animeshs/GD/stanford-covid-vaccine/bpps/id_0da46ead4.npy'), WindowsPath('C:/Users/animeshs/GD/stanford-covid-vaccine/bpps/id_0da624e95.npy'), WindowsPath('C:/Users/animeshs/GD/stanford-covid-vaccine/bpps/id_0dabde633.npy'), WindowsPath('C:/Users/animeshs/GD/stanford-covid-vaccine/bpps/id_0dabea105.npy'), WindowsPath('C:/Users/animeshs/GD/stanford-covid-vaccine/bpps/id_0db611754.npy'), WindowsPath('C:/Users/animeshs/GD/stanford-covid-vaccine/bpps/id_0db6252f5.npy'), WindowsPath('C:/Users/animeshs/GD/stanford-covid-vaccine/bpps/id_0db80aaad.npy'), WindowsPath('C:/Users/animeshs/GD/stanford-covid-vaccine/bpps/id_0dbcda49b.npy'), WindowsPath('C:/Users/animeshs/GD/stanford-covid-vaccine/bpps/id_0dc68084b.npy'), WindowsPath('C:/Users/animeshs/GD/stanford-covid-vaccine/bpps/id_0dc8a1479.npy'), WindowsPath('C:/Users/animeshs/GD/stanford-covid-vaccine/bpps/id_0de111baa.npy'), WindowsPath('C:/Users/animeshs/GD/stanford-covid-vaccine/bpps/id_0de367e40.npy'), WindowsPath('C:/Users/animeshs/GD/stanford-covid-vaccine/bpps/id_0de71eea3.npy'), WindowsPath('C:/Users/animeshs/GD/stanford-covid-vaccine/bpps/id_0deb6f117.npy'), WindowsPath('C:/Users/animeshs/GD/stanford-covid-vaccine/bpps/id_0dec22059.npy'), WindowsPath('C:/Users/animeshs/GD/stanford-covid-vaccine/bpps/id_0dfaa037b.npy'), WindowsPath('C:/Users/animeshs/GD/stanford-covid-vaccine/bpps/id_0e0aa9715.npy'), WindowsPath('C:/Users/animeshs/GD/stanford-covid-vaccine/bpps/id_0e0c3a639.npy'), WindowsPath('C:/Users/animeshs/GD/stanford-covid-vaccine/bpps/id_0e12a3594.npy'), WindowsPath('C:/Users/animeshs/GD/stanford-covid-vaccine/bpps/id_0e1d350ee.npy'), WindowsPath('C:/Users/animeshs/GD/stanford-covid-vaccine/bpps/id_0e401ea6b.npy'), WindowsPath('C:/Users/animeshs/GD/stanford-covid-vaccine/bpps/id_0e4715ffc.npy'), WindowsPath('C:/Users/animeshs/GD/stanford-covid-vaccine/bpps/id_0e48c5c14.npy'), WindowsPath('C:/Users/animeshs/GD/stanford-covid-vaccine/bpps/id_0e612f0b1.npy'), WindowsPath('C:/Users/animeshs/GD/stanford-covid-vaccine/bpps/id_0e69a3073.npy'), WindowsPath('C:/Users/animeshs/GD/stanford-covid-vaccine/bpps/id_0e727c5f4.npy'), WindowsPath('C:/Users/animeshs/GD/stanford-covid-vaccine/bpps/id_0e7b90563.npy'), WindowsPath('C:/Users/animeshs/GD/stanford-covid-vaccine/bpps/id_0eb28bf20.npy'), WindowsPath('C:/Users/animeshs/GD/stanford-covid-vaccine/bpps/id_0eb39fe7d.npy'), WindowsPath('C:/Users/animeshs/GD/stanford-covid-vaccine/bpps/id_0eb8cc92a.npy'), WindowsPath('C:/Users/animeshs/GD/stanford-covid-vaccine/bpps/id_0ec622c6b.npy'), WindowsPath('C:/Users/animeshs/GD/stanford-covid-vaccine/bpps/id_0ec78c966.npy'), WindowsPath('C:/Users/animeshs/GD/stanford-covid-vaccine/bpps/id_0ee44fbb1.npy'), WindowsPath('C:/Users/animeshs/GD/stanford-covid-vaccine/bpps/id_0eeac7c5b.npy'), WindowsPath('C:/Users/animeshs/GD/stanford-covid-vaccine/bpps/id_0efc0e9bd.npy'), WindowsPath('C:/Users/animeshs/GD/stanford-covid-vaccine/bpps/id_0efc22899.npy'), WindowsPath('C:/Users/animeshs/GD/stanford-covid-vaccine/bpps/id_0f0c106e6.npy'), WindowsPath('C:/Users/animeshs/GD/stanford-covid-vaccine/bpps/id_0f1a04124.npy'), WindowsPath('C:/Users/animeshs/GD/stanford-covid-vaccine/bpps/id_0f1f87d49.npy'), WindowsPath('C:/Users/animeshs/GD/stanford-covid-vaccine/bpps/id_0f5dc30df.npy'), WindowsPath('C:/Users/animeshs/GD/stanford-covid-vaccine/bpps/id_0f61af524.npy'), WindowsPath('C:/Users/animeshs/GD/stanford-covid-vaccine/bpps/id_0f6291169.npy'), WindowsPath('C:/Users/animeshs/GD/stanford-covid-vaccine/bpps/id_0f6e30d07.npy'), WindowsPath('C:/Users/animeshs/GD/stanford-covid-vaccine/bpps/id_0f764a256.npy'), WindowsPath('C:/Users/animeshs/GD/stanford-covid-vaccine/bpps/id_0f8376eb4.npy'), WindowsPath('C:/Users/animeshs/GD/stanford-covid-vaccine/bpps/id_0f88bf7fa.npy'), WindowsPath('C:/Users/animeshs/GD/stanford-covid-vaccine/bpps/id_0f89f3e55.npy'), WindowsPath('C:/Users/animeshs/GD/stanford-covid-vaccine/bpps/id_0fb3aa279.npy'), WindowsPath('C:/Users/animeshs/GD/stanford-covid-vaccine/bpps/id_0fb6b8966.npy'), WindowsPath('C:/Users/animeshs/GD/stanford-covid-vaccine/bpps/id_0fc0a5bd3.npy'), WindowsPath('C:/Users/animeshs/GD/stanford-covid-vaccine/bpps/id_0fcb20a21.npy'), WindowsPath('C:/Users/animeshs/GD/stanford-covid-vaccine/bpps/id_0fcb9bf33.npy'), WindowsPath('C:/Users/animeshs/GD/stanford-covid-vaccine/bpps/id_0fcbd68dd.npy'), WindowsPath('C:/Users/animeshs/GD/stanford-covid-vaccine/bpps/id_0fcbe9aed.npy'), WindowsPath('C:/Users/animeshs/GD/stanford-covid-vaccine/bpps/id_0fcd1bc18.npy'), WindowsPath('C:/Users/animeshs/GD/stanford-covid-vaccine/bpps/id_0fd2f39fa.npy'), WindowsPath('C:/Users/animeshs/GD/stanford-covid-vaccine/bpps/id_0fd75b2f7.npy'), WindowsPath('C:/Users/animeshs/GD/stanford-covid-vaccine/bpps/id_0ff239567.npy'), WindowsPath('C:/Users/animeshs/GD/stanford-covid-vaccine/bpps/id_0ff370c27.npy'), WindowsPath('C:/Users/animeshs/GD/stanford-covid-vaccine/bpps/id_0ff4cfe70.npy'), WindowsPath('C:/Users/animeshs/GD/stanford-covid-vaccine/bpps/id_0ffc9f8ee.npy'), WindowsPath('C:/Users/animeshs/GD/stanford-covid-vaccine/bpps/id_10031426c.npy'), WindowsPath('C:/Users/animeshs/GD/stanford-covid-vaccine/bpps/id_100349a4b.npy'), WindowsPath('C:/Users/animeshs/GD/stanford-covid-vaccine/bpps/id_101467fb4.npy'), WindowsPath('C:/Users/animeshs/GD/stanford-covid-vaccine/bpps/id_1019985ee.npy'), WindowsPath('C:/Users/animeshs/GD/stanford-covid-vaccine/bpps/id_1024c252a.npy'), WindowsPath('C:/Users/animeshs/GD/stanford-covid-vaccine/bpps/id_1046eca55.npy'), WindowsPath('C:/Users/animeshs/GD/stanford-covid-vaccine/bpps/id_105992547.npy'), WindowsPath('C:/Users/animeshs/GD/stanford-covid-vaccine/bpps/id_1066c9452.npy'), WindowsPath('C:/Users/animeshs/GD/stanford-covid-vaccine/bpps/id_106b3a3a1.npy'), WindowsPath('C:/Users/animeshs/GD/stanford-covid-vaccine/bpps/id_106ef3d3e.npy'), WindowsPath('C:/Users/animeshs/GD/stanford-covid-vaccine/bpps/id_10732ee97.npy'), WindowsPath('C:/Users/animeshs/GD/stanford-covid-vaccine/bpps/id_1073b57e9.npy'), WindowsPath('C:/Users/animeshs/GD/stanford-covid-vaccine/bpps/id_107667125.npy'), WindowsPath('C:/Users/animeshs/GD/stanford-covid-vaccine/bpps/id_107ac8b69.npy'), WindowsPath('C:/Users/animeshs/GD/stanford-covid-vaccine/bpps/id_107e8de1b.npy'), WindowsPath('C:/Users/animeshs/GD/stanford-covid-vaccine/bpps/id_10a8994e9.npy'), WindowsPath('C:/Users/animeshs/GD/stanford-covid-vaccine/bpps/id_10abbc99b.npy'), WindowsPath('C:/Users/animeshs/GD/stanford-covid-vaccine/bpps/id_10c26f92c.npy'), WindowsPath('C:/Users/animeshs/GD/stanford-covid-vaccine/bpps/id_10c43923e.npy'), WindowsPath('C:/Users/animeshs/GD/stanford-covid-vaccine/bpps/id_10cba216a.npy'), WindowsPath('C:/Users/animeshs/GD/stanford-covid-vaccine/bpps/id_10ce3cd3f.npy'), WindowsPath('C:/Users/animeshs/GD/stanford-covid-vaccine/bpps/id_10cf0be5a.npy'), WindowsPath('C:/Users/animeshs/GD/stanford-covid-vaccine/bpps/id_10d10309f.npy'), WindowsPath('C:/Users/animeshs/GD/stanford-covid-vaccine/bpps/id_10dc54d1a.npy'), WindowsPath('C:/Users/animeshs/GD/stanford-covid-vaccine/bpps/id_10fb46ba3.npy'), WindowsPath('C:/Users/animeshs/GD/stanford-covid-vaccine/bpps/id_10fb5c937.npy'), WindowsPath('C:/Users/animeshs/GD/stanford-covid-vaccine/bpps/id_10fda36a6.npy'), WindowsPath('C:/Users/animeshs/GD/stanford-covid-vaccine/bpps/id_10fddc4cc.npy'), WindowsPath('C:/Users/animeshs/GD/stanford-covid-vaccine/bpps/id_110405952.npy'), WindowsPath('C:/Users/animeshs/GD/stanford-covid-vaccine/bpps/id_1109d5dc8.npy'), WindowsPath('C:/Users/animeshs/GD/stanford-covid-vaccine/bpps/id_110bd1408.npy'), WindowsPath('C:/Users/animeshs/GD/stanford-covid-vaccine/bpps/id_1118f5cc6.npy'), WindowsPath('C:/Users/animeshs/GD/stanford-covid-vaccine/bpps/id_1123f6d91.npy'), WindowsPath('C:/Users/animeshs/GD/stanford-covid-vaccine/bpps/id_1123fd606.npy'), WindowsPath('C:/Users/animeshs/GD/stanford-covid-vaccine/bpps/id_11251942f.npy'), WindowsPath('C:/Users/animeshs/GD/stanford-covid-vaccine/bpps/id_112b61222.npy'), WindowsPath('C:/Users/animeshs/GD/stanford-covid-vaccine/bpps/id_1140b5ae6.npy'), WindowsPath('C:/Users/animeshs/GD/stanford-covid-vaccine/bpps/id_114b3196b.npy'), WindowsPath('C:/Users/animeshs/GD/stanford-covid-vaccine/bpps/id_114f20c99.npy'), WindowsPath('C:/Users/animeshs/GD/stanford-covid-vaccine/bpps/id_1150504f8.npy'), WindowsPath('C:/Users/animeshs/GD/stanford-covid-vaccine/bpps/id_11619368e.npy'), WindowsPath('C:/Users/animeshs/GD/stanford-covid-vaccine/bpps/id_1162da429.npy'), WindowsPath('C:/Users/animeshs/GD/stanford-covid-vaccine/bpps/id_116331ff9.npy'), WindowsPath('C:/Users/animeshs/GD/stanford-covid-vaccine/bpps/id_116a7b9cc.npy'), WindowsPath('C:/Users/animeshs/GD/stanford-covid-vaccine/bpps/id_116e8eab3.npy'), WindowsPath('C:/Users/animeshs/GD/stanford-covid-vaccine/bpps/id_116e9132c.npy'), WindowsPath('C:/Users/animeshs/GD/stanford-covid-vaccine/bpps/id_117fc1d26.npy'), WindowsPath('C:/Users/animeshs/GD/stanford-covid-vaccine/bpps/id_118286e90.npy'), WindowsPath('C:/Users/animeshs/GD/stanford-covid-vaccine/bpps/id_118335b65.npy'), WindowsPath('C:/Users/animeshs/GD/stanford-covid-vaccine/bpps/id_118651cb4.npy'), WindowsPath('C:/Users/animeshs/GD/stanford-covid-vaccine/bpps/id_119aa2f18.npy'), WindowsPath('C:/Users/animeshs/GD/stanford-covid-vaccine/bpps/id_11a42b57c.npy'), WindowsPath('C:/Users/animeshs/GD/stanford-covid-vaccine/bpps/id_11aba0f80.npy'), WindowsPath('C:/Users/animeshs/GD/stanford-covid-vaccine/bpps/id_11b2c8d4e.npy'), WindowsPath('C:/Users/animeshs/GD/stanford-covid-vaccine/bpps/id_11b4b782b.npy'), WindowsPath('C:/Users/animeshs/GD/stanford-covid-vaccine/bpps/id_11ba0cfd1.npy'), WindowsPath('C:/Users/animeshs/GD/stanford-covid-vaccine/bpps/id_11c08922d.npy'), WindowsPath('C:/Users/animeshs/GD/stanford-covid-vaccine/bpps/id_11ce4faec.npy'), WindowsPath('C:/Users/animeshs/GD/stanford-covid-vaccine/bpps/id_11da8eccb.npy'), WindowsPath('C:/Users/animeshs/GD/stanford-covid-vaccine/bpps/id_11ed473d9.npy'), WindowsPath('C:/Users/animeshs/GD/stanford-covid-vaccine/bpps/id_11f74378f.npy'), WindowsPath('C:/Users/animeshs/GD/stanford-covid-vaccine/bpps/id_11febfe22.npy'), WindowsPath('C:/Users/animeshs/GD/stanford-covid-vaccine/bpps/id_12091383b.npy'), WindowsPath('C:/Users/animeshs/GD/stanford-covid-vaccine/bpps/id_121ea1d0b.npy'), WindowsPath('C:/Users/animeshs/GD/stanford-covid-vaccine/bpps/id_124f888ee.npy'), WindowsPath('C:/Users/animeshs/GD/stanford-covid-vaccine/bpps/id_1252325f2.npy'), WindowsPath('C:/Users/animeshs/GD/stanford-covid-vaccine/bpps/id_12533405a.npy'), WindowsPath('C:/Users/animeshs/GD/stanford-covid-vaccine/bpps/id_1253cacaf.npy'), WindowsPath('C:/Users/animeshs/GD/stanford-covid-vaccine/bpps/id_1257bcc44.npy'), WindowsPath('C:/Users/animeshs/GD/stanford-covid-vaccine/bpps/id_12580b51b.npy'), WindowsPath('C:/Users/animeshs/GD/stanford-covid-vaccine/bpps/id_125c45aa9.npy'), WindowsPath('C:/Users/animeshs/GD/stanford-covid-vaccine/bpps/id_1295a387d.npy'), WindowsPath('C:/Users/animeshs/GD/stanford-covid-vaccine/bpps/id_12a307676.npy'), WindowsPath('C:/Users/animeshs/GD/stanford-covid-vaccine/bpps/id_12b5a93d5.npy'), WindowsPath('C:/Users/animeshs/GD/stanford-covid-vaccine/bpps/id_12bc4c397.npy'), WindowsPath('C:/Users/animeshs/GD/stanford-covid-vaccine/bpps/id_12c651020.npy'), WindowsPath('C:/Users/animeshs/GD/stanford-covid-vaccine/bpps/id_12ca23bcb.npy'), WindowsPath('C:/Users/animeshs/GD/stanford-covid-vaccine/bpps/id_12ce33482.npy'), WindowsPath('C:/Users/animeshs/GD/stanford-covid-vaccine/bpps/id_12e4551de.npy'), WindowsPath('C:/Users/animeshs/GD/stanford-covid-vaccine/bpps/id_12f08889f.npy'), WindowsPath('C:/Users/animeshs/GD/stanford-covid-vaccine/bpps/id_12fe1e32f.npy'), WindowsPath('C:/Users/animeshs/GD/stanford-covid-vaccine/bpps/id_131bec14c.npy'), WindowsPath('C:/Users/animeshs/GD/stanford-covid-vaccine/bpps/id_1326a5981.npy'), WindowsPath('C:/Users/animeshs/GD/stanford-covid-vaccine/bpps/id_132c644f8.npy'), WindowsPath('C:/Users/animeshs/GD/stanford-covid-vaccine/bpps/id_13518c7d6.npy'), WindowsPath('C:/Users/animeshs/GD/stanford-covid-vaccine/bpps/id_135656fe3.npy'), WindowsPath('C:/Users/animeshs/GD/stanford-covid-vaccine/bpps/id_1358f2e45.npy'), WindowsPath('C:/Users/animeshs/GD/stanford-covid-vaccine/bpps/id_136f22289.npy'), WindowsPath('C:/Users/animeshs/GD/stanford-covid-vaccine/bpps/id_13721750d.npy'), WindowsPath('C:/Users/animeshs/GD/stanford-covid-vaccine/bpps/id_137238e31.npy'), WindowsPath('C:/Users/animeshs/GD/stanford-covid-vaccine/bpps/id_13811e06c.npy'), WindowsPath('C:/Users/animeshs/GD/stanford-covid-vaccine/bpps/id_139b0156e.npy'), WindowsPath('C:/Users/animeshs/GD/stanford-covid-vaccine/bpps/id_139b1b8b3.npy'), WindowsPath('C:/Users/animeshs/GD/stanford-covid-vaccine/bpps/id_13bb36759.npy'), WindowsPath('C:/Users/animeshs/GD/stanford-covid-vaccine/bpps/id_13bcaac2e.npy'), WindowsPath('C:/Users/animeshs/GD/stanford-covid-vaccine/bpps/id_13e729f1b.npy'), WindowsPath('C:/Users/animeshs/GD/stanford-covid-vaccine/bpps/id_13e79a725.npy'), WindowsPath('C:/Users/animeshs/GD/stanford-covid-vaccine/bpps/id_13e7cdb34.npy'), WindowsPath('C:/Users/animeshs/GD/stanford-covid-vaccine/bpps/id_13ee5d47c.npy'), WindowsPath('C:/Users/animeshs/GD/stanford-covid-vaccine/bpps/id_13f097070.npy'), WindowsPath('C:/Users/animeshs/GD/stanford-covid-vaccine/bpps/id_1401c226b.npy'), WindowsPath('C:/Users/animeshs/GD/stanford-covid-vaccine/bpps/id_140463f2c.npy'), WindowsPath('C:/Users/animeshs/GD/stanford-covid-vaccine/bpps/id_140f75584.npy'), WindowsPath('C:/Users/animeshs/GD/stanford-covid-vaccine/bpps/id_141522f26.npy'), WindowsPath('C:/Users/animeshs/GD/stanford-covid-vaccine/bpps/id_141a65825.npy'), WindowsPath('C:/Users/animeshs/GD/stanford-covid-vaccine/bpps/id_141be2858.npy'), WindowsPath('C:/Users/animeshs/GD/stanford-covid-vaccine/bpps/id_141ed62da.npy'), WindowsPath('C:/Users/animeshs/GD/stanford-covid-vaccine/bpps/id_1422ab4c2.npy'), WindowsPath('C:/Users/animeshs/GD/stanford-covid-vaccine/bpps/id_1430ba229.npy'), WindowsPath('C:/Users/animeshs/GD/stanford-covid-vaccine/bpps/id_14543e73b.npy'), WindowsPath('C:/Users/animeshs/GD/stanford-covid-vaccine/bpps/id_14779ce14.npy'), WindowsPath('C:/Users/animeshs/GD/stanford-covid-vaccine/bpps/id_14862c00d.npy'), WindowsPath('C:/Users/animeshs/GD/stanford-covid-vaccine/bpps/id_1488bc83f.npy'), WindowsPath('C:/Users/animeshs/GD/stanford-covid-vaccine/bpps/id_149c4b09c.npy'), WindowsPath('C:/Users/animeshs/GD/stanford-covid-vaccine/bpps/id_14ae966ad.npy'), WindowsPath('C:/Users/animeshs/GD/stanford-covid-vaccine/bpps/id_14b5f984b.npy'), WindowsPath('C:/Users/animeshs/GD/stanford-covid-vaccine/bpps/id_14bfd610e.npy'), WindowsPath('C:/Users/animeshs/GD/stanford-covid-vaccine/bpps/id_14cb53096.npy'), WindowsPath('C:/Users/animeshs/GD/stanford-covid-vaccine/bpps/id_14d13e2f4.npy'), WindowsPath('C:/Users/animeshs/GD/stanford-covid-vaccine/bpps/id_14d8fc8b1.npy'), WindowsPath('C:/Users/animeshs/GD/stanford-covid-vaccine/bpps/id_14dcf28b0.npy'), WindowsPath('C:/Users/animeshs/GD/stanford-covid-vaccine/bpps/id_14f75757e.npy'), WindowsPath('C:/Users/animeshs/GD/stanford-covid-vaccine/bpps/id_14f75d7d5.npy'), WindowsPath('C:/Users/animeshs/GD/stanford-covid-vaccine/bpps/id_14fc37706.npy'), WindowsPath('C:/Users/animeshs/GD/stanford-covid-vaccine/bpps/id_14fd8d915.npy'), WindowsPath('C:/Users/animeshs/GD/stanford-covid-vaccine/bpps/id_151378e7e.npy'), WindowsPath('C:/Users/animeshs/GD/stanford-covid-vaccine/bpps/id_15269cf1a.npy'), WindowsPath('C:/Users/animeshs/GD/stanford-covid-vaccine/bpps/id_155a41a08.npy'), WindowsPath('C:/Users/animeshs/GD/stanford-covid-vaccine/bpps/id_155baec4e.npy'), WindowsPath('C:/Users/animeshs/GD/stanford-covid-vaccine/bpps/id_1582df224.npy'), WindowsPath('C:/Users/animeshs/GD/stanford-covid-vaccine/bpps/id_159901b25.npy'), WindowsPath('C:/Users/animeshs/GD/stanford-covid-vaccine/bpps/id_159e3da13.npy'), WindowsPath('C:/Users/animeshs/GD/stanford-covid-vaccine/bpps/id_159f0ff46.npy'), WindowsPath('C:/Users/animeshs/GD/stanford-covid-vaccine/bpps/id_15a392e63.npy'), WindowsPath('C:/Users/animeshs/GD/stanford-covid-vaccine/bpps/id_15ac1f0d2.npy'), WindowsPath('C:/Users/animeshs/GD/stanford-covid-vaccine/bpps/id_15ad2f59b.npy'), WindowsPath('C:/Users/animeshs/GD/stanford-covid-vaccine/bpps/id_15b848070.npy'), WindowsPath('C:/Users/animeshs/GD/stanford-covid-vaccine/bpps/id_15bf131aa.npy'), WindowsPath('C:/Users/animeshs/GD/stanford-covid-vaccine/bpps/id_15bf9b142.npy'), WindowsPath('C:/Users/animeshs/GD/stanford-covid-vaccine/bpps/id_15c0d8f45.npy'), WindowsPath('C:/Users/animeshs/GD/stanford-covid-vaccine/bpps/id_15c601e33.npy'), WindowsPath('C:/Users/animeshs/GD/stanford-covid-vaccine/bpps/id_15c73f7f9.npy'), WindowsPath('C:/Users/animeshs/GD/stanford-covid-vaccine/bpps/id_15c7d917a.npy'), WindowsPath('C:/Users/animeshs/GD/stanford-covid-vaccine/bpps/id_15ce19e16.npy'), WindowsPath('C:/Users/animeshs/GD/stanford-covid-vaccine/bpps/id_15ce9b530.npy'), WindowsPath('C:/Users/animeshs/GD/stanford-covid-vaccine/bpps/id_15da5dc1d.npy'), WindowsPath('C:/Users/animeshs/GD/stanford-covid-vaccine/bpps/id_15f9f8f8b.npy'), WindowsPath('C:/Users/animeshs/GD/stanford-covid-vaccine/bpps/id_1605c18de.npy'), WindowsPath('C:/Users/animeshs/GD/stanford-covid-vaccine/bpps/id_160a213f5.npy'), WindowsPath('C:/Users/animeshs/GD/stanford-covid-vaccine/bpps/id_160c1cc62.npy'), WindowsPath('C:/Users/animeshs/GD/stanford-covid-vaccine/bpps/id_16118b49b.npy'), WindowsPath('C:/Users/animeshs/GD/stanford-covid-vaccine/bpps/id_16124001b.npy'), WindowsPath('C:/Users/animeshs/GD/stanford-covid-vaccine/bpps/id_161793e4b.npy'), WindowsPath('C:/Users/animeshs/GD/stanford-covid-vaccine/bpps/id_16185e871.npy'), WindowsPath('C:/Users/animeshs/GD/stanford-covid-vaccine/bpps/id_161942309.npy'), WindowsPath('C:/Users/animeshs/GD/stanford-covid-vaccine/bpps/id_161d26c52.npy'), WindowsPath('C:/Users/animeshs/GD/stanford-covid-vaccine/bpps/id_162694280.npy'), WindowsPath('C:/Users/animeshs/GD/stanford-covid-vaccine/bpps/id_162706431.npy'), WindowsPath('C:/Users/animeshs/GD/stanford-covid-vaccine/bpps/id_163ada4c7.npy'), WindowsPath('C:/Users/animeshs/GD/stanford-covid-vaccine/bpps/id_164e8ab2f.npy'), WindowsPath('C:/Users/animeshs/GD/stanford-covid-vaccine/bpps/id_1655d15c9.npy'), WindowsPath('C:/Users/animeshs/GD/stanford-covid-vaccine/bpps/id_165d0ae00.npy'), WindowsPath('C:/Users/animeshs/GD/stanford-covid-vaccine/bpps/id_1661157c7.npy'), WindowsPath('C:/Users/animeshs/GD/stanford-covid-vaccine/bpps/id_1662281c2.npy'), WindowsPath('C:/Users/animeshs/GD/stanford-covid-vaccine/bpps/id_166ef3ca3.npy'), WindowsPath('C:/Users/animeshs/GD/stanford-covid-vaccine/bpps/id_16787f71c.npy'), WindowsPath('C:/Users/animeshs/GD/stanford-covid-vaccine/bpps/id_1692b1e5d.npy'), WindowsPath('C:/Users/animeshs/GD/stanford-covid-vaccine/bpps/id_1694cb3d9.npy'), WindowsPath('C:/Users/animeshs/GD/stanford-covid-vaccine/bpps/id_16a1231f1.npy'), WindowsPath('C:/Users/animeshs/GD/stanford-covid-vaccine/bpps/id_16b430b4b.npy'), WindowsPath('C:/Users/animeshs/GD/stanford-covid-vaccine/bpps/id_16b70de8a.npy'), WindowsPath('C:/Users/animeshs/GD/stanford-covid-vaccine/bpps/id_16d22f3e9.npy'), WindowsPath('C:/Users/animeshs/GD/stanford-covid-vaccine/bpps/id_1700bba0b.npy'), WindowsPath('C:/Users/animeshs/GD/stanford-covid-vaccine/bpps/id_1701d357f.npy'), WindowsPath('C:/Users/animeshs/GD/stanford-covid-vaccine/bpps/id_171a19e7e.npy'), WindowsPath('C:/Users/animeshs/GD/stanford-covid-vaccine/bpps/id_172dff66c.npy'), WindowsPath('C:/Users/animeshs/GD/stanford-covid-vaccine/bpps/id_1740e6b26.npy'), WindowsPath('C:/Users/animeshs/GD/stanford-covid-vaccine/bpps/id_174bfbf45.npy'), WindowsPath('C:/Users/animeshs/GD/stanford-covid-vaccine/bpps/id_174e4f1d5.npy'), WindowsPath('C:/Users/animeshs/GD/stanford-covid-vaccine/bpps/id_17670a42d.npy'), WindowsPath('C:/Users/animeshs/GD/stanford-covid-vaccine/bpps/id_17761aa7c.npy'), WindowsPath('C:/Users/animeshs/GD/stanford-covid-vaccine/bpps/id_177cd630b.npy'), WindowsPath('C:/Users/animeshs/GD/stanford-covid-vaccine/bpps/id_1788270f8.npy'), WindowsPath('C:/Users/animeshs/GD/stanford-covid-vaccine/bpps/id_178e18b61.npy'), WindowsPath('C:/Users/animeshs/GD/stanford-covid-vaccine/bpps/id_17a1d6b3d.npy'), WindowsPath('C:/Users/animeshs/GD/stanford-covid-vaccine/bpps/id_17a80ba63.npy'), WindowsPath('C:/Users/animeshs/GD/stanford-covid-vaccine/bpps/id_17a9ad5b7.npy'), WindowsPath('C:/Users/animeshs/GD/stanford-covid-vaccine/bpps/id_17ab91518.npy'), WindowsPath('C:/Users/animeshs/GD/stanford-covid-vaccine/bpps/id_17ad6fd8a.npy'), WindowsPath('C:/Users/animeshs/GD/stanford-covid-vaccine/bpps/id_17af51066.npy'), WindowsPath('C:/Users/animeshs/GD/stanford-covid-vaccine/bpps/id_17de96164.npy'), WindowsPath('C:/Users/animeshs/GD/stanford-covid-vaccine/bpps/id_17dec83da.npy'), WindowsPath('C:/Users/animeshs/GD/stanford-covid-vaccine/bpps/id_17f2cedf2.npy'), WindowsPath('C:/Users/animeshs/GD/stanford-covid-vaccine/bpps/id_1806347e7.npy'), WindowsPath('C:/Users/animeshs/GD/stanford-covid-vaccine/bpps/id_1818acd2b.npy'), WindowsPath('C:/Users/animeshs/GD/stanford-covid-vaccine/bpps/id_182aaf706.npy'), WindowsPath('C:/Users/animeshs/GD/stanford-covid-vaccine/bpps/id_18326044d.npy'), WindowsPath('C:/Users/animeshs/GD/stanford-covid-vaccine/bpps/id_1836f7a98.npy'), WindowsPath('C:/Users/animeshs/GD/stanford-covid-vaccine/bpps/id_183e29cbd.npy'), WindowsPath('C:/Users/animeshs/GD/stanford-covid-vaccine/bpps/id_1850700c5.npy'), WindowsPath('C:/Users/animeshs/GD/stanford-covid-vaccine/bpps/id_1857090dc.npy'), WindowsPath('C:/Users/animeshs/GD/stanford-covid-vaccine/bpps/id_186fb72c6.npy'), WindowsPath('C:/Users/animeshs/GD/stanford-covid-vaccine/bpps/id_1874dad2f.npy'), WindowsPath('C:/Users/animeshs/GD/stanford-covid-vaccine/bpps/id_18820f795.npy'), WindowsPath('C:/Users/animeshs/GD/stanford-covid-vaccine/bpps/id_1887c4b8c.npy'), WindowsPath('C:/Users/animeshs/GD/stanford-covid-vaccine/bpps/id_1898122a5.npy'), WindowsPath('C:/Users/animeshs/GD/stanford-covid-vaccine/bpps/id_18a4f7978.npy'), WindowsPath('C:/Users/animeshs/GD/stanford-covid-vaccine/bpps/id_18a923b55.npy'), WindowsPath('C:/Users/animeshs/GD/stanford-covid-vaccine/bpps/id_18cea7633.npy'), WindowsPath('C:/Users/animeshs/GD/stanford-covid-vaccine/bpps/id_18d3d1dda.npy'), WindowsPath('C:/Users/animeshs/GD/stanford-covid-vaccine/bpps/id_18dff836a.npy'), WindowsPath('C:/Users/animeshs/GD/stanford-covid-vaccine/bpps/id_18f058131.npy'), WindowsPath('C:/Users/animeshs/GD/stanford-covid-vaccine/bpps/id_18ff9d670.npy'), WindowsPath('C:/Users/animeshs/GD/stanford-covid-vaccine/bpps/id_18ffb89cd.npy'), WindowsPath('C:/Users/animeshs/GD/stanford-covid-vaccine/bpps/id_190a676ad.npy'), WindowsPath('C:/Users/animeshs/GD/stanford-covid-vaccine/bpps/id_190c3e31b.npy'), WindowsPath('C:/Users/animeshs/GD/stanford-covid-vaccine/bpps/id_190f0c729.npy'), WindowsPath('C:/Users/animeshs/GD/stanford-covid-vaccine/bpps/id_1915cfa50.npy'), WindowsPath('C:/Users/animeshs/GD/stanford-covid-vaccine/bpps/id_1931dd142.npy'), WindowsPath('C:/Users/animeshs/GD/stanford-covid-vaccine/bpps/id_193760078.npy'), WindowsPath('C:/Users/animeshs/GD/stanford-covid-vaccine/bpps/id_1951893c4.npy'), WindowsPath('C:/Users/animeshs/GD/stanford-covid-vaccine/bpps/id_19581cbc3.npy'), WindowsPath('C:/Users/animeshs/GD/stanford-covid-vaccine/bpps/id_196880f95.npy'), WindowsPath('C:/Users/animeshs/GD/stanford-covid-vaccine/bpps/id_196b512a8.npy'), WindowsPath('C:/Users/animeshs/GD/stanford-covid-vaccine/bpps/id_197839d8e.npy'), WindowsPath('C:/Users/animeshs/GD/stanford-covid-vaccine/bpps/id_1980b84d4.npy'), WindowsPath('C:/Users/animeshs/GD/stanford-covid-vaccine/bpps/id_1987ac4e0.npy'), WindowsPath('C:/Users/animeshs/GD/stanford-covid-vaccine/bpps/id_198a72145.npy'), WindowsPath('C:/Users/animeshs/GD/stanford-covid-vaccine/bpps/id_199b25de2.npy'), WindowsPath('C:/Users/animeshs/GD/stanford-covid-vaccine/bpps/id_19a8fb0a2.npy'), WindowsPath('C:/Users/animeshs/GD/stanford-covid-vaccine/bpps/id_19aaa4ee0.npy'), WindowsPath('C:/Users/animeshs/GD/stanford-covid-vaccine/bpps/id_19b3da359.npy'), WindowsPath('C:/Users/animeshs/GD/stanford-covid-vaccine/bpps/id_19c71ddf9.npy'), WindowsPath('C:/Users/animeshs/GD/stanford-covid-vaccine/bpps/id_19d4c60f2.npy'), WindowsPath('C:/Users/animeshs/GD/stanford-covid-vaccine/bpps/id_19e46a8b0.npy'), WindowsPath('C:/Users/animeshs/GD/stanford-covid-vaccine/bpps/id_19f3d55e0.npy'), WindowsPath('C:/Users/animeshs/GD/stanford-covid-vaccine/bpps/id_19f519f16.npy'), WindowsPath('C:/Users/animeshs/GD/stanford-covid-vaccine/bpps/id_19f71e9f4.npy'), WindowsPath('C:/Users/animeshs/GD/stanford-covid-vaccine/bpps/id_19f71f7de.npy'), WindowsPath('C:/Users/animeshs/GD/stanford-covid-vaccine/bpps/id_1a087e8dc.npy'), WindowsPath('C:/Users/animeshs/GD/stanford-covid-vaccine/bpps/id_1a11365f7.npy'), WindowsPath('C:/Users/animeshs/GD/stanford-covid-vaccine/bpps/id_1a2347b2a.npy'), WindowsPath('C:/Users/animeshs/GD/stanford-covid-vaccine/bpps/id_1a35b8f57.npy'), WindowsPath('C:/Users/animeshs/GD/stanford-covid-vaccine/bpps/id_1a4211479.npy'), WindowsPath('C:/Users/animeshs/GD/stanford-covid-vaccine/bpps/id_1a426ce94.npy'), WindowsPath('C:/Users/animeshs/GD/stanford-covid-vaccine/bpps/id_1a615b1b0.npy'), WindowsPath('C:/Users/animeshs/GD/stanford-covid-vaccine/bpps/id_1a6328b0c.npy'), WindowsPath('C:/Users/animeshs/GD/stanford-covid-vaccine/bpps/id_1a7dd8049.npy'), WindowsPath('C:/Users/animeshs/GD/stanford-covid-vaccine/bpps/id_1a947db7e.npy'), WindowsPath('C:/Users/animeshs/GD/stanford-covid-vaccine/bpps/id_1aac89d9d.npy'), WindowsPath('C:/Users/animeshs/GD/stanford-covid-vaccine/bpps/id_1aad4f3e0.npy'), WindowsPath('C:/Users/animeshs/GD/stanford-covid-vaccine/bpps/id_1aad6ab32.npy'), WindowsPath('C:/Users/animeshs/GD/stanford-covid-vaccine/bpps/id_1ab28a282.npy'), WindowsPath('C:/Users/animeshs/GD/stanford-covid-vaccine/bpps/id_1abf939e4.npy'), WindowsPath('C:/Users/animeshs/GD/stanford-covid-vaccine/bpps/id_1ac3aa1e9.npy'), WindowsPath('C:/Users/animeshs/GD/stanford-covid-vaccine/bpps/id_1ad0b0bfe.npy'), WindowsPath('C:/Users/animeshs/GD/stanford-covid-vaccine/bpps/id_1ad806f77.npy'), WindowsPath('C:/Users/animeshs/GD/stanford-covid-vaccine/bpps/id_1aea9d2f3.npy'), WindowsPath('C:/Users/animeshs/GD/stanford-covid-vaccine/bpps/id_1aeb57321.npy'), WindowsPath('C:/Users/animeshs/GD/stanford-covid-vaccine/bpps/id_1b000ffe6.npy'), WindowsPath('C:/Users/animeshs/GD/stanford-covid-vaccine/bpps/id_1b072023e.npy'), WindowsPath('C:/Users/animeshs/GD/stanford-covid-vaccine/bpps/id_1b1b3368b.npy'), WindowsPath('C:/Users/animeshs/GD/stanford-covid-vaccine/bpps/id_1b1e1ab6f.npy'), WindowsPath('C:/Users/animeshs/GD/stanford-covid-vaccine/bpps/id_1b2177cc9.npy'), WindowsPath('C:/Users/animeshs/GD/stanford-covid-vaccine/bpps/id_1b2aed703.npy'), WindowsPath('C:/Users/animeshs/GD/stanford-covid-vaccine/bpps/id_1b2d2589a.npy'), WindowsPath('C:/Users/animeshs/GD/stanford-covid-vaccine/bpps/id_1b43eb5be.npy'), WindowsPath('C:/Users/animeshs/GD/stanford-covid-vaccine/bpps/id_1b65db4cf.npy'), WindowsPath('C:/Users/animeshs/GD/stanford-covid-vaccine/bpps/id_1b68199cc.npy'), WindowsPath('C:/Users/animeshs/GD/stanford-covid-vaccine/bpps/id_1b6cb31be.npy'), WindowsPath('C:/Users/animeshs/GD/stanford-covid-vaccine/bpps/id_1b7d24ce3.npy'), WindowsPath('C:/Users/animeshs/GD/stanford-covid-vaccine/bpps/id_1b917b4a7.npy'), WindowsPath('C:/Users/animeshs/GD/stanford-covid-vaccine/bpps/id_1b949b081.npy'), WindowsPath('C:/Users/animeshs/GD/stanford-covid-vaccine/bpps/id_1b97ba0cf.npy'), WindowsPath('C:/Users/animeshs/GD/stanford-covid-vaccine/bpps/id_1ba7b85e5.npy'), WindowsPath('C:/Users/animeshs/GD/stanford-covid-vaccine/bpps/id_1bb2f1786.npy'), WindowsPath('C:/Users/animeshs/GD/stanford-covid-vaccine/bpps/id_1bb6c57ab.npy'), WindowsPath('C:/Users/animeshs/GD/stanford-covid-vaccine/bpps/id_1bc23fbaa.npy'), WindowsPath('C:/Users/animeshs/GD/stanford-covid-vaccine/bpps/id_1bd260b05.npy'), WindowsPath('C:/Users/animeshs/GD/stanford-covid-vaccine/bpps/id_1bd4ca8ef.npy'), WindowsPath('C:/Users/animeshs/GD/stanford-covid-vaccine/bpps/id_1bd6afc86.npy'), WindowsPath('C:/Users/animeshs/GD/stanford-covid-vaccine/bpps/id_1bf477fb3.npy'), WindowsPath('C:/Users/animeshs/GD/stanford-covid-vaccine/bpps/id_1bfb48529.npy'), WindowsPath('C:/Users/animeshs/GD/stanford-covid-vaccine/bpps/id_1c0081a79.npy'), WindowsPath('C:/Users/animeshs/GD/stanford-covid-vaccine/bpps/id_1c0ded083.npy'), WindowsPath('C:/Users/animeshs/GD/stanford-covid-vaccine/bpps/id_1c0f063bd.npy'), WindowsPath('C:/Users/animeshs/GD/stanford-covid-vaccine/bpps/id_1c17765c5.npy'), WindowsPath('C:/Users/animeshs/GD/stanford-covid-vaccine/bpps/id_1c29025a4.npy'), WindowsPath('C:/Users/animeshs/GD/stanford-covid-vaccine/bpps/id_1c31fff7e.npy'), WindowsPath('C:/Users/animeshs/GD/stanford-covid-vaccine/bpps/id_1c529c5cd.npy'), WindowsPath('C:/Users/animeshs/GD/stanford-covid-vaccine/bpps/id_1c572708e.npy'), WindowsPath('C:/Users/animeshs/GD/stanford-covid-vaccine/bpps/id_1c5918a27.npy'), WindowsPath('C:/Users/animeshs/GD/stanford-covid-vaccine/bpps/id_1c640c1f5.npy'), WindowsPath('C:/Users/animeshs/GD/stanford-covid-vaccine/bpps/id_1c65fcf24.npy'), WindowsPath('C:/Users/animeshs/GD/stanford-covid-vaccine/bpps/id_1c8ae5c4d.npy'), WindowsPath('C:/Users/animeshs/GD/stanford-covid-vaccine/bpps/id_1c9242e0c.npy'), WindowsPath('C:/Users/animeshs/GD/stanford-covid-vaccine/bpps/id_1c9391392.npy'), WindowsPath('C:/Users/animeshs/GD/stanford-covid-vaccine/bpps/id_1ca82e7ea.npy'), WindowsPath('C:/Users/animeshs/GD/stanford-covid-vaccine/bpps/id_1cab23f88.npy'), WindowsPath('C:/Users/animeshs/GD/stanford-covid-vaccine/bpps/id_1cb5bc713.npy'), WindowsPath('C:/Users/animeshs/GD/stanford-covid-vaccine/bpps/id_1cddd3491.npy'), WindowsPath('C:/Users/animeshs/GD/stanford-covid-vaccine/bpps/id_1ce902961.npy'), WindowsPath('C:/Users/animeshs/GD/stanford-covid-vaccine/bpps/id_1ce9a7261.npy'), WindowsPath('C:/Users/animeshs/GD/stanford-covid-vaccine/bpps/id_1cec1712b.npy'), WindowsPath('C:/Users/animeshs/GD/stanford-covid-vaccine/bpps/id_1cf4a77ef.npy'), WindowsPath('C:/Users/animeshs/GD/stanford-covid-vaccine/bpps/id_1d059751c.npy'), WindowsPath('C:/Users/animeshs/GD/stanford-covid-vaccine/bpps/id_1d0b77bd5.npy'), WindowsPath('C:/Users/animeshs/GD/stanford-covid-vaccine/bpps/id_1d2e07c63.npy'), WindowsPath('C:/Users/animeshs/GD/stanford-covid-vaccine/bpps/id_1d3608b52.npy'), WindowsPath('C:/Users/animeshs/GD/stanford-covid-vaccine/bpps/id_1d364a97a.npy'), WindowsPath('C:/Users/animeshs/GD/stanford-covid-vaccine/bpps/id_1d3d657da.npy'), WindowsPath('C:/Users/animeshs/GD/stanford-covid-vaccine/bpps/id_1d408758a.npy'), WindowsPath('C:/Users/animeshs/GD/stanford-covid-vaccine/bpps/id_1d497017f.npy'), WindowsPath('C:/Users/animeshs/GD/stanford-covid-vaccine/bpps/id_1d4a54b6a.npy'), WindowsPath('C:/Users/animeshs/GD/stanford-covid-vaccine/bpps/id_1d59fdb08.npy'), WindowsPath('C:/Users/animeshs/GD/stanford-covid-vaccine/bpps/id_1d7773a09.npy'), WindowsPath('C:/Users/animeshs/GD/stanford-covid-vaccine/bpps/id_1d8cbd18f.npy'), WindowsPath('C:/Users/animeshs/GD/stanford-covid-vaccine/bpps/id_1d963c141.npy'), WindowsPath('C:/Users/animeshs/GD/stanford-covid-vaccine/bpps/id_1dab9d1c0.npy'), WindowsPath('C:/Users/animeshs/GD/stanford-covid-vaccine/bpps/id_1daedbf73.npy'), WindowsPath('C:/Users/animeshs/GD/stanford-covid-vaccine/bpps/id_1db5fefc6.npy'), WindowsPath('C:/Users/animeshs/GD/stanford-covid-vaccine/bpps/id_1db82eeb6.npy'), WindowsPath('C:/Users/animeshs/GD/stanford-covid-vaccine/bpps/id_1dce80b34.npy'), WindowsPath('C:/Users/animeshs/GD/stanford-covid-vaccine/bpps/id_1ddfbbec4.npy'), WindowsPath('C:/Users/animeshs/GD/stanford-covid-vaccine/bpps/id_1df58a907.npy'), WindowsPath('C:/Users/animeshs/GD/stanford-covid-vaccine/bpps/id_1e01c448c.npy'), WindowsPath('C:/Users/animeshs/GD/stanford-covid-vaccine/bpps/id_1e03a2cb5.npy'), WindowsPath('C:/Users/animeshs/GD/stanford-covid-vaccine/bpps/id_1e0bfd53d.npy'), WindowsPath('C:/Users/animeshs/GD/stanford-covid-vaccine/bpps/id_1e12f72c3.npy'), WindowsPath('C:/Users/animeshs/GD/stanford-covid-vaccine/bpps/id_1e1df1e6e.npy'), WindowsPath('C:/Users/animeshs/GD/stanford-covid-vaccine/bpps/id_1e33cd3e8.npy'), WindowsPath('C:/Users/animeshs/GD/stanford-covid-vaccine/bpps/id_1e3482afd.npy'), WindowsPath('C:/Users/animeshs/GD/stanford-covid-vaccine/bpps/id_1e4bed91e.npy'), WindowsPath('C:/Users/animeshs/GD/stanford-covid-vaccine/bpps/id_1e512d10a.npy'), WindowsPath('C:/Users/animeshs/GD/stanford-covid-vaccine/bpps/id_1e5af24d6.npy'), WindowsPath('C:/Users/animeshs/GD/stanford-covid-vaccine/bpps/id_1e5bef2e5.npy'), WindowsPath('C:/Users/animeshs/GD/stanford-covid-vaccine/bpps/id_1e5ed0683.npy'), WindowsPath('C:/Users/animeshs/GD/stanford-covid-vaccine/bpps/id_1e65067c9.npy'), WindowsPath('C:/Users/animeshs/GD/stanford-covid-vaccine/bpps/id_1e6e72141.npy'), WindowsPath('C:/Users/animeshs/GD/stanford-covid-vaccine/bpps/id_1e70902fc.npy'), WindowsPath('C:/Users/animeshs/GD/stanford-covid-vaccine/bpps/id_1e7176ec4.npy'), WindowsPath('C:/Users/animeshs/GD/stanford-covid-vaccine/bpps/id_1e7a5849b.npy'), WindowsPath('C:/Users/animeshs/GD/stanford-covid-vaccine/bpps/id_1e7c8bc25.npy'), WindowsPath('C:/Users/animeshs/GD/stanford-covid-vaccine/bpps/id_1e833c670.npy'), WindowsPath('C:/Users/animeshs/GD/stanford-covid-vaccine/bpps/id_1e84b4fd8.npy'), WindowsPath('C:/Users/animeshs/GD/stanford-covid-vaccine/bpps/id_1e8eae443.npy'), WindowsPath('C:/Users/animeshs/GD/stanford-covid-vaccine/bpps/id_1e96cd7b4.npy'), WindowsPath('C:/Users/animeshs/GD/stanford-covid-vaccine/bpps/id_1e9e56639.npy'), WindowsPath('C:/Users/animeshs/GD/stanford-covid-vaccine/bpps/id_1ea418dee.npy'), WindowsPath('C:/Users/animeshs/GD/stanford-covid-vaccine/bpps/id_1ea640ece.npy'), WindowsPath('C:/Users/animeshs/GD/stanford-covid-vaccine/bpps/id_1ead91b22.npy'), WindowsPath('C:/Users/animeshs/GD/stanford-covid-vaccine/bpps/id_1ec0ae764.npy'), WindowsPath('C:/Users/animeshs/GD/stanford-covid-vaccine/bpps/id_1ed1f1a9d.npy'), WindowsPath('C:/Users/animeshs/GD/stanford-covid-vaccine/bpps/id_1ee0db606.npy'), WindowsPath('C:/Users/animeshs/GD/stanford-covid-vaccine/bpps/id_1f0c8bfa5.npy'), WindowsPath('C:/Users/animeshs/GD/stanford-covid-vaccine/bpps/id_1f0da5517.npy'), WindowsPath('C:/Users/animeshs/GD/stanford-covid-vaccine/bpps/id_1f3bbe239.npy'), WindowsPath('C:/Users/animeshs/GD/stanford-covid-vaccine/bpps/id_1f3cf3305.npy'), WindowsPath('C:/Users/animeshs/GD/stanford-covid-vaccine/bpps/id_1f465a329.npy'), WindowsPath('C:/Users/animeshs/GD/stanford-covid-vaccine/bpps/id_1f47d499c.npy'), WindowsPath('C:/Users/animeshs/GD/stanford-covid-vaccine/bpps/id_1f49c7cea.npy'), WindowsPath('C:/Users/animeshs/GD/stanford-covid-vaccine/bpps/id_1f4b1d167.npy'), WindowsPath('C:/Users/animeshs/GD/stanford-covid-vaccine/bpps/id_1f4f84bfb.npy'), WindowsPath('C:/Users/animeshs/GD/stanford-covid-vaccine/bpps/id_1f620da9e.npy'), WindowsPath('C:/Users/animeshs/GD/stanford-covid-vaccine/bpps/id_1f66cf349.npy'), WindowsPath('C:/Users/animeshs/GD/stanford-covid-vaccine/bpps/id_1f6d9e2dc.npy'), WindowsPath('C:/Users/animeshs/GD/stanford-covid-vaccine/bpps/id_1f7013252.npy'), WindowsPath('C:/Users/animeshs/GD/stanford-covid-vaccine/bpps/id_1f72af0d3.npy'), WindowsPath('C:/Users/animeshs/GD/stanford-covid-vaccine/bpps/id_1f7f835b7.npy'), WindowsPath('C:/Users/animeshs/GD/stanford-covid-vaccine/bpps/id_1fad695fe.npy'), WindowsPath('C:/Users/animeshs/GD/stanford-covid-vaccine/bpps/id_1fbe2826b.npy'), WindowsPath('C:/Users/animeshs/GD/stanford-covid-vaccine/bpps/id_1fc218c98.npy'), WindowsPath('C:/Users/animeshs/GD/stanford-covid-vaccine/bpps/id_1fc41dd55.npy'), WindowsPath('C:/Users/animeshs/GD/stanford-covid-vaccine/bpps/id_1fd77da60.npy'), WindowsPath('C:/Users/animeshs/GD/stanford-covid-vaccine/bpps/id_1fda263b3.npy'), WindowsPath('C:/Users/animeshs/GD/stanford-covid-vaccine/bpps/id_1fe3369b9.npy'), WindowsPath('C:/Users/animeshs/GD/stanford-covid-vaccine/bpps/id_1fefbcbfc.npy'), WindowsPath('C:/Users/animeshs/GD/stanford-covid-vaccine/bpps/id_1ff2ab113.npy'), WindowsPath('C:/Users/animeshs/GD/stanford-covid-vaccine/bpps/id_200e26389.npy'), WindowsPath('C:/Users/animeshs/GD/stanford-covid-vaccine/bpps/id_20175eb1f.npy'), WindowsPath('C:/Users/animeshs/GD/stanford-covid-vaccine/bpps/id_2025b9e2b.npy'), WindowsPath('C:/Users/animeshs/GD/stanford-covid-vaccine/bpps/id_203c20823.npy'), WindowsPath('C:/Users/animeshs/GD/stanford-covid-vaccine/bpps/id_20468720c.npy'), WindowsPath('C:/Users/animeshs/GD/stanford-covid-vaccine/bpps/id_2046c58c6.npy'), WindowsPath('C:/Users/animeshs/GD/stanford-covid-vaccine/bpps/id_204bbe957.npy'), WindowsPath('C:/Users/animeshs/GD/stanford-covid-vaccine/bpps/id_20520d1bd.npy'), WindowsPath('C:/Users/animeshs/GD/stanford-covid-vaccine/bpps/id_2055e3ec8.npy'), WindowsPath('C:/Users/animeshs/GD/stanford-covid-vaccine/bpps/id_205a14a80.npy'), WindowsPath('C:/Users/animeshs/GD/stanford-covid-vaccine/bpps/id_2077733c4.npy'), WindowsPath('C:/Users/animeshs/GD/stanford-covid-vaccine/bpps/id_209123cb8.npy'), WindowsPath('C:/Users/animeshs/GD/stanford-covid-vaccine/bpps/id_2098f5fb1.npy'), WindowsPath('C:/Users/animeshs/GD/stanford-covid-vaccine/bpps/id_209b10f4b.npy'), WindowsPath('C:/Users/animeshs/GD/stanford-covid-vaccine/bpps/id_209d413c6.npy'), WindowsPath('C:/Users/animeshs/GD/stanford-covid-vaccine/bpps/id_20b4449df.npy'), WindowsPath('C:/Users/animeshs/GD/stanford-covid-vaccine/bpps/id_20b793940.npy'), WindowsPath('C:/Users/animeshs/GD/stanford-covid-vaccine/bpps/id_20b99c451.npy'), WindowsPath('C:/Users/animeshs/GD/stanford-covid-vaccine/bpps/id_20ba100cb.npy'), WindowsPath('C:/Users/animeshs/GD/stanford-covid-vaccine/bpps/id_20c503623.npy'), WindowsPath('C:/Users/animeshs/GD/stanford-covid-vaccine/bpps/id_20cefe072.npy'), WindowsPath('C:/Users/animeshs/GD/stanford-covid-vaccine/bpps/id_20dec87f6.npy'), WindowsPath('C:/Users/animeshs/GD/stanford-covid-vaccine/bpps/id_20e11048d.npy'), WindowsPath('C:/Users/animeshs/GD/stanford-covid-vaccine/bpps/id_20e6bf45b.npy'), WindowsPath('C:/Users/animeshs/GD/stanford-covid-vaccine/bpps/id_20f7c9dc1.npy'), WindowsPath('C:/Users/animeshs/GD/stanford-covid-vaccine/bpps/id_210a33ba1.npy'), WindowsPath('C:/Users/animeshs/GD/stanford-covid-vaccine/bpps/id_21108d283.npy'), WindowsPath('C:/Users/animeshs/GD/stanford-covid-vaccine/bpps/id_211848e53.npy'), WindowsPath('C:/Users/animeshs/GD/stanford-covid-vaccine/bpps/id_212b2be55.npy'), WindowsPath('C:/Users/animeshs/GD/stanford-covid-vaccine/bpps/id_213610c66.npy'), WindowsPath('C:/Users/animeshs/GD/stanford-covid-vaccine/bpps/id_213a7eed9.npy'), WindowsPath('C:/Users/animeshs/GD/stanford-covid-vaccine/bpps/id_2149487ab.npy'), WindowsPath('C:/Users/animeshs/GD/stanford-covid-vaccine/bpps/id_215b8bbf1.npy'), WindowsPath('C:/Users/animeshs/GD/stanford-covid-vaccine/bpps/id_215ca080d.npy'), WindowsPath('C:/Users/animeshs/GD/stanford-covid-vaccine/bpps/id_215ef40b3.npy'), WindowsPath('C:/Users/animeshs/GD/stanford-covid-vaccine/bpps/id_2164d22d3.npy'), WindowsPath('C:/Users/animeshs/GD/stanford-covid-vaccine/bpps/id_2164f0b69.npy'), WindowsPath('C:/Users/animeshs/GD/stanford-covid-vaccine/bpps/id_216a5233d.npy'), WindowsPath('C:/Users/animeshs/GD/stanford-covid-vaccine/bpps/id_216f2caff.npy'), WindowsPath('C:/Users/animeshs/GD/stanford-covid-vaccine/bpps/id_2176bed35.npy'), WindowsPath('C:/Users/animeshs/GD/stanford-covid-vaccine/bpps/id_217facbdd.npy'), WindowsPath('C:/Users/animeshs/GD/stanford-covid-vaccine/bpps/id_218180989.npy'), WindowsPath('C:/Users/animeshs/GD/stanford-covid-vaccine/bpps/id_21873c85f.npy'), WindowsPath('C:/Users/animeshs/GD/stanford-covid-vaccine/bpps/id_2190ea8af.npy'), WindowsPath('C:/Users/animeshs/GD/stanford-covid-vaccine/bpps/id_219204b32.npy'), WindowsPath('C:/Users/animeshs/GD/stanford-covid-vaccine/bpps/id_21972ec2e.npy'), WindowsPath('C:/Users/animeshs/GD/stanford-covid-vaccine/bpps/id_219d8c69a.npy'), WindowsPath('C:/Users/animeshs/GD/stanford-covid-vaccine/bpps/id_21b2691c4.npy'), WindowsPath('C:/Users/animeshs/GD/stanford-covid-vaccine/bpps/id_21ba2ad00.npy'), WindowsPath('C:/Users/animeshs/GD/stanford-covid-vaccine/bpps/id_21c302462.npy'), WindowsPath('C:/Users/animeshs/GD/stanford-covid-vaccine/bpps/id_21ea7e6b2.npy'), WindowsPath('C:/Users/animeshs/GD/stanford-covid-vaccine/bpps/id_21ec2d0f7.npy'), WindowsPath('C:/Users/animeshs/GD/stanford-covid-vaccine/bpps/id_21f172cf3.npy'), WindowsPath('C:/Users/animeshs/GD/stanford-covid-vaccine/bpps/id_21ff30e09.npy'), WindowsPath('C:/Users/animeshs/GD/stanford-covid-vaccine/bpps/id_2208225d2.npy'), WindowsPath('C:/Users/animeshs/GD/stanford-covid-vaccine/bpps/id_2217a2a3c.npy'), WindowsPath('C:/Users/animeshs/GD/stanford-covid-vaccine/bpps/id_221dd79af.npy'), WindowsPath('C:/Users/animeshs/GD/stanford-covid-vaccine/bpps/id_2229bceb9.npy'), WindowsPath('C:/Users/animeshs/GD/stanford-covid-vaccine/bpps/id_2232ec04e.npy'), WindowsPath('C:/Users/animeshs/GD/stanford-covid-vaccine/bpps/id_2241aaa66.npy'), WindowsPath('C:/Users/animeshs/GD/stanford-covid-vaccine/bpps/id_2242fbdf4.npy'), WindowsPath('C:/Users/animeshs/GD/stanford-covid-vaccine/bpps/id_22440d528.npy'), WindowsPath('C:/Users/animeshs/GD/stanford-covid-vaccine/bpps/id_225aedb1c.npy'), WindowsPath('C:/Users/animeshs/GD/stanford-covid-vaccine/bpps/id_225d9e428.npy'), WindowsPath('C:/Users/animeshs/GD/stanford-covid-vaccine/bpps/id_225fd6057.npy'), WindowsPath('C:/Users/animeshs/GD/stanford-covid-vaccine/bpps/id_2266a10c4.npy'), WindowsPath('C:/Users/animeshs/GD/stanford-covid-vaccine/bpps/id_2275959d6.npy'), WindowsPath('C:/Users/animeshs/GD/stanford-covid-vaccine/bpps/id_2299c3b46.npy'), WindowsPath('C:/Users/animeshs/GD/stanford-covid-vaccine/bpps/id_22a19c533.npy'), WindowsPath('C:/Users/animeshs/GD/stanford-covid-vaccine/bpps/id_22ce9c862.npy'), WindowsPath('C:/Users/animeshs/GD/stanford-covid-vaccine/bpps/id_22de77380.npy'), WindowsPath('C:/Users/animeshs/GD/stanford-covid-vaccine/bpps/id_22f17cfc1.npy'), WindowsPath('C:/Users/animeshs/GD/stanford-covid-vaccine/bpps/id_2346a2394.npy'), WindowsPath('C:/Users/animeshs/GD/stanford-covid-vaccine/bpps/id_2347feee7.npy'), WindowsPath('C:/Users/animeshs/GD/stanford-covid-vaccine/bpps/id_23563d4d5.npy'), WindowsPath('C:/Users/animeshs/GD/stanford-covid-vaccine/bpps/id_235d3ae8c.npy'), WindowsPath('C:/Users/animeshs/GD/stanford-covid-vaccine/bpps/id_235d6b081.npy'), WindowsPath('C:/Users/animeshs/GD/stanford-covid-vaccine/bpps/id_2369b74f1.npy'), WindowsPath('C:/Users/animeshs/GD/stanford-covid-vaccine/bpps/id_236fbba04.npy'), WindowsPath('C:/Users/animeshs/GD/stanford-covid-vaccine/bpps/id_237574cea.npy'), WindowsPath('C:/Users/animeshs/GD/stanford-covid-vaccine/bpps/id_237e9b11e.npy'), WindowsPath('C:/Users/animeshs/GD/stanford-covid-vaccine/bpps/id_23882d82c.npy'), WindowsPath('C:/Users/animeshs/GD/stanford-covid-vaccine/bpps/id_238e3b19b.npy'), WindowsPath('C:/Users/animeshs/GD/stanford-covid-vaccine/bpps/id_23b039b11.npy'), WindowsPath('C:/Users/animeshs/GD/stanford-covid-vaccine/bpps/id_23c3cec7a.npy'), WindowsPath('C:/Users/animeshs/GD/stanford-covid-vaccine/bpps/id_23ce2b744.npy'), WindowsPath('C:/Users/animeshs/GD/stanford-covid-vaccine/bpps/id_23dc72462.npy'), WindowsPath('C:/Users/animeshs/GD/stanford-covid-vaccine/bpps/id_23e45e664.npy'), WindowsPath('C:/Users/animeshs/GD/stanford-covid-vaccine/bpps/id_23e68d3e3.npy'), WindowsPath('C:/Users/animeshs/GD/stanford-covid-vaccine/bpps/id_23e7600a3.npy'), WindowsPath('C:/Users/animeshs/GD/stanford-covid-vaccine/bpps/id_23fa43951.npy'), WindowsPath('C:/Users/animeshs/GD/stanford-covid-vaccine/bpps/id_23fc948a4.npy'), WindowsPath('C:/Users/animeshs/GD/stanford-covid-vaccine/bpps/id_2400e26e9.npy'), WindowsPath('C:/Users/animeshs/GD/stanford-covid-vaccine/bpps/id_240cf4977.npy'), WindowsPath('C:/Users/animeshs/GD/stanford-covid-vaccine/bpps/id_241291b18.npy'), WindowsPath('C:/Users/animeshs/GD/stanford-covid-vaccine/bpps/id_2423be63e.npy'), WindowsPath('C:/Users/animeshs/GD/stanford-covid-vaccine/bpps/id_24248f7c3.npy'), WindowsPath('C:/Users/animeshs/GD/stanford-covid-vaccine/bpps/id_242e5c5f7.npy'), WindowsPath('C:/Users/animeshs/GD/stanford-covid-vaccine/bpps/id_2435fea06.npy'), WindowsPath('C:/Users/animeshs/GD/stanford-covid-vaccine/bpps/id_243673f7c.npy'), WindowsPath('C:/Users/animeshs/GD/stanford-covid-vaccine/bpps/id_24426bd3e.npy'), WindowsPath('C:/Users/animeshs/GD/stanford-covid-vaccine/bpps/id_245df192b.npy'), WindowsPath('C:/Users/animeshs/GD/stanford-covid-vaccine/bpps/id_2475e00d0.npy'), WindowsPath('C:/Users/animeshs/GD/stanford-covid-vaccine/bpps/id_247ab0402.npy'), WindowsPath('C:/Users/animeshs/GD/stanford-covid-vaccine/bpps/id_249330b87.npy'), WindowsPath('C:/Users/animeshs/GD/stanford-covid-vaccine/bpps/id_24a12ddef.npy'), WindowsPath('C:/Users/animeshs/GD/stanford-covid-vaccine/bpps/id_24b8eae65.npy'), WindowsPath('C:/Users/animeshs/GD/stanford-covid-vaccine/bpps/id_24bd084c3.npy'), WindowsPath('C:/Users/animeshs/GD/stanford-covid-vaccine/bpps/id_24be77523.npy'), WindowsPath('C:/Users/animeshs/GD/stanford-covid-vaccine/bpps/id_24c4ed5ea.npy'), WindowsPath('C:/Users/animeshs/GD/stanford-covid-vaccine/bpps/id_24de40567.npy'), WindowsPath('C:/Users/animeshs/GD/stanford-covid-vaccine/bpps/id_24e543e21.npy'), WindowsPath('C:/Users/animeshs/GD/stanford-covid-vaccine/bpps/id_24eef0d3f.npy'), WindowsPath('C:/Users/animeshs/GD/stanford-covid-vaccine/bpps/id_24efdb5d0.npy'), WindowsPath('C:/Users/animeshs/GD/stanford-covid-vaccine/bpps/id_24f51fd1a.npy'), WindowsPath('C:/Users/animeshs/GD/stanford-covid-vaccine/bpps/id_251b77b1d.npy'), WindowsPath('C:/Users/animeshs/GD/stanford-covid-vaccine/bpps/id_251bb7979.npy'), WindowsPath('C:/Users/animeshs/GD/stanford-covid-vaccine/bpps/id_251d67d4f.npy'), WindowsPath('C:/Users/animeshs/GD/stanford-covid-vaccine/bpps/id_25276ec16.npy'), WindowsPath('C:/Users/animeshs/GD/stanford-covid-vaccine/bpps/id_254257547.npy'), WindowsPath('C:/Users/animeshs/GD/stanford-covid-vaccine/bpps/id_25475e355.npy'), WindowsPath('C:/Users/animeshs/GD/stanford-covid-vaccine/bpps/id_254ed13b6.npy'), WindowsPath('C:/Users/animeshs/GD/stanford-covid-vaccine/bpps/id_255470d44.npy'), WindowsPath('C:/Users/animeshs/GD/stanford-covid-vaccine/bpps/id_2562805c4.npy'), WindowsPath('C:/Users/animeshs/GD/stanford-covid-vaccine/bpps/id_256fe9ee7.npy'), WindowsPath('C:/Users/animeshs/GD/stanford-covid-vaccine/bpps/id_2570d21cf.npy'), WindowsPath('C:/Users/animeshs/GD/stanford-covid-vaccine/bpps/id_2581e9e37.npy'), WindowsPath('C:/Users/animeshs/GD/stanford-covid-vaccine/bpps/id_25891e558.npy'), WindowsPath('C:/Users/animeshs/GD/stanford-covid-vaccine/bpps/id_25a376c6f.npy'), WindowsPath('C:/Users/animeshs/GD/stanford-covid-vaccine/bpps/id_25a949555.npy'), WindowsPath('C:/Users/animeshs/GD/stanford-covid-vaccine/bpps/id_25aa5174e.npy'), WindowsPath('C:/Users/animeshs/GD/stanford-covid-vaccine/bpps/id_25bd0e174.npy'), WindowsPath('C:/Users/animeshs/GD/stanford-covid-vaccine/bpps/id_25cc5e7ca.npy'), WindowsPath('C:/Users/animeshs/GD/stanford-covid-vaccine/bpps/id_25d5045b1.npy'), WindowsPath('C:/Users/animeshs/GD/stanford-covid-vaccine/bpps/id_25dc85843.npy'), WindowsPath('C:/Users/animeshs/GD/stanford-covid-vaccine/bpps/id_25dd09835.npy'), WindowsPath('C:/Users/animeshs/GD/stanford-covid-vaccine/bpps/id_25e96d7d6.npy'), WindowsPath('C:/Users/animeshs/GD/stanford-covid-vaccine/bpps/id_25ec47201.npy'), WindowsPath('C:/Users/animeshs/GD/stanford-covid-vaccine/bpps/id_25f1cc414.npy'), WindowsPath('C:/Users/animeshs/GD/stanford-covid-vaccine/bpps/id_260842f80.npy'), WindowsPath('C:/Users/animeshs/GD/stanford-covid-vaccine/bpps/id_2608a68d1.npy'), WindowsPath('C:/Users/animeshs/GD/stanford-covid-vaccine/bpps/id_260dcd08c.npy'), WindowsPath('C:/Users/animeshs/GD/stanford-covid-vaccine/bpps/id_260e9dc94.npy'), WindowsPath('C:/Users/animeshs/GD/stanford-covid-vaccine/bpps/id_261c1105c.npy'), WindowsPath('C:/Users/animeshs/GD/stanford-covid-vaccine/bpps/id_261fb6031.npy'), WindowsPath('C:/Users/animeshs/GD/stanford-covid-vaccine/bpps/id_263c528f2.npy'), WindowsPath('C:/Users/animeshs/GD/stanford-covid-vaccine/bpps/id_26400abf3.npy'), WindowsPath('C:/Users/animeshs/GD/stanford-covid-vaccine/bpps/id_264c0ff8f.npy'), WindowsPath('C:/Users/animeshs/GD/stanford-covid-vaccine/bpps/id_264c53017.npy'), WindowsPath('C:/Users/animeshs/GD/stanford-covid-vaccine/bpps/id_2650a3b0d.npy'), WindowsPath('C:/Users/animeshs/GD/stanford-covid-vaccine/bpps/id_265866ae1.npy'), WindowsPath('C:/Users/animeshs/GD/stanford-covid-vaccine/bpps/id_265ff3241.npy'), WindowsPath('C:/Users/animeshs/GD/stanford-covid-vaccine/bpps/id_2672757fd.npy'), WindowsPath('C:/Users/animeshs/GD/stanford-covid-vaccine/bpps/id_26843a332.npy'), WindowsPath('C:/Users/animeshs/GD/stanford-covid-vaccine/bpps/id_26887946c.npy'), WindowsPath('C:/Users/animeshs/GD/stanford-covid-vaccine/bpps/id_26a883add.npy'), WindowsPath('C:/Users/animeshs/GD/stanford-covid-vaccine/bpps/id_26adedf4a.npy'), WindowsPath('C:/Users/animeshs/GD/stanford-covid-vaccine/bpps/id_26af45343.npy'), WindowsPath('C:/Users/animeshs/GD/stanford-covid-vaccine/bpps/id_26c1cde85.npy'), WindowsPath('C:/Users/animeshs/GD/stanford-covid-vaccine/bpps/id_26c7a139e.npy'), WindowsPath('C:/Users/animeshs/GD/stanford-covid-vaccine/bpps/id_26c9fc5d9.npy'), WindowsPath('C:/Users/animeshs/GD/stanford-covid-vaccine/bpps/id_26cf4764d.npy'), WindowsPath('C:/Users/animeshs/GD/stanford-covid-vaccine/bpps/id_26d70b588.npy'), WindowsPath('C:/Users/animeshs/GD/stanford-covid-vaccine/bpps/id_26e1ddd77.npy'), WindowsPath('C:/Users/animeshs/GD/stanford-covid-vaccine/bpps/id_26e52d305.npy'), WindowsPath('C:/Users/animeshs/GD/stanford-covid-vaccine/bpps/id_27080f904.npy'), WindowsPath('C:/Users/animeshs/GD/stanford-covid-vaccine/bpps/id_2712fc0cf.npy'), WindowsPath('C:/Users/animeshs/GD/stanford-covid-vaccine/bpps/id_2714124a2.npy'), WindowsPath('C:/Users/animeshs/GD/stanford-covid-vaccine/bpps/id_27164a360.npy'), WindowsPath('C:/Users/animeshs/GD/stanford-covid-vaccine/bpps/id_271c62708.npy'), WindowsPath('C:/Users/animeshs/GD/stanford-covid-vaccine/bpps/id_272c8e52a.npy'), WindowsPath('C:/Users/animeshs/GD/stanford-covid-vaccine/bpps/id_2736cc568.npy'), WindowsPath('C:/Users/animeshs/GD/stanford-covid-vaccine/bpps/id_27403a50b.npy'), WindowsPath('C:/Users/animeshs/GD/stanford-covid-vaccine/bpps/id_274541fa3.npy'), WindowsPath('C:/Users/animeshs/GD/stanford-covid-vaccine/bpps/id_27533ce85.npy'), WindowsPath('C:/Users/animeshs/GD/stanford-covid-vaccine/bpps/id_275cd6d6a.npy'), WindowsPath('C:/Users/animeshs/GD/stanford-covid-vaccine/bpps/id_277e0935c.npy'), WindowsPath('C:/Users/animeshs/GD/stanford-covid-vaccine/bpps/id_2793f3a97.npy'), WindowsPath('C:/Users/animeshs/GD/stanford-covid-vaccine/bpps/id_27adb84d9.npy'), WindowsPath('C:/Users/animeshs/GD/stanford-covid-vaccine/bpps/id_27b6f1695.npy'), WindowsPath('C:/Users/animeshs/GD/stanford-covid-vaccine/bpps/id_27c0d1dec.npy'), WindowsPath('C:/Users/animeshs/GD/stanford-covid-vaccine/bpps/id_27c3830ff.npy'), WindowsPath('C:/Users/animeshs/GD/stanford-covid-vaccine/bpps/id_27cb190c0.npy'), WindowsPath('C:/Users/animeshs/GD/stanford-covid-vaccine/bpps/id_27cb8cf10.npy'), WindowsPath('C:/Users/animeshs/GD/stanford-covid-vaccine/bpps/id_27f16f9fa.npy'), WindowsPath('C:/Users/animeshs/GD/stanford-covid-vaccine/bpps/id_27f4f21b9.npy'), WindowsPath('C:/Users/animeshs/GD/stanford-covid-vaccine/bpps/id_27f7eb0a0.npy'), WindowsPath('C:/Users/animeshs/GD/stanford-covid-vaccine/bpps/id_27fb61b08.npy'), WindowsPath('C:/Users/animeshs/GD/stanford-covid-vaccine/bpps/id_27fca71ab.npy'), WindowsPath('C:/Users/animeshs/GD/stanford-covid-vaccine/bpps/id_280aeb5ac.npy'), WindowsPath('C:/Users/animeshs/GD/stanford-covid-vaccine/bpps/id_2810bfb3a.npy'), WindowsPath('C:/Users/animeshs/GD/stanford-covid-vaccine/bpps/id_28501d002.npy'), WindowsPath('C:/Users/animeshs/GD/stanford-covid-vaccine/bpps/id_2853f281c.npy'), WindowsPath('C:/Users/animeshs/GD/stanford-covid-vaccine/bpps/id_285fc5620.npy'), WindowsPath('C:/Users/animeshs/GD/stanford-covid-vaccine/bpps/id_286152c12.npy'), WindowsPath('C:/Users/animeshs/GD/stanford-covid-vaccine/bpps/id_2864563a1.npy'), WindowsPath('C:/Users/animeshs/GD/stanford-covid-vaccine/bpps/id_2873730df.npy'), WindowsPath('C:/Users/animeshs/GD/stanford-covid-vaccine/bpps/id_2873e9f8a.npy'), WindowsPath('C:/Users/animeshs/GD/stanford-covid-vaccine/bpps/id_28744d25e.npy'), WindowsPath('C:/Users/animeshs/GD/stanford-covid-vaccine/bpps/id_2877f6b27.npy'), WindowsPath('C:/Users/animeshs/GD/stanford-covid-vaccine/bpps/id_289f1f92c.npy'), WindowsPath('C:/Users/animeshs/GD/stanford-covid-vaccine/bpps/id_28b635d23.npy'), WindowsPath('C:/Users/animeshs/GD/stanford-covid-vaccine/bpps/id_28c6ac1e6.npy'), WindowsPath('C:/Users/animeshs/GD/stanford-covid-vaccine/bpps/id_28c6f0271.npy'), WindowsPath('C:/Users/animeshs/GD/stanford-covid-vaccine/bpps/id_28c8362a1.npy'), WindowsPath('C:/Users/animeshs/GD/stanford-covid-vaccine/bpps/id_28cfd6542.npy'), WindowsPath('C:/Users/animeshs/GD/stanford-covid-vaccine/bpps/id_28eb682ec.npy'), WindowsPath('C:/Users/animeshs/GD/stanford-covid-vaccine/bpps/id_29001e9e8.npy'), WindowsPath('C:/Users/animeshs/GD/stanford-covid-vaccine/bpps/id_29023b870.npy'), WindowsPath('C:/Users/animeshs/GD/stanford-covid-vaccine/bpps/id_290df87e7.npy'), WindowsPath('C:/Users/animeshs/GD/stanford-covid-vaccine/bpps/id_29277e7d6.npy'), WindowsPath('C:/Users/animeshs/GD/stanford-covid-vaccine/bpps/id_2929c5167.npy'), WindowsPath('C:/Users/animeshs/GD/stanford-covid-vaccine/bpps/id_2930db86d.npy'), WindowsPath('C:/Users/animeshs/GD/stanford-covid-vaccine/bpps/id_293d99c96.npy'), WindowsPath('C:/Users/animeshs/GD/stanford-covid-vaccine/bpps/id_294c65008.npy'), WindowsPath('C:/Users/animeshs/GD/stanford-covid-vaccine/bpps/id_294ed59c3.npy'), WindowsPath('C:/Users/animeshs/GD/stanford-covid-vaccine/bpps/id_295fe17e7.npy'), WindowsPath('C:/Users/animeshs/GD/stanford-covid-vaccine/bpps/id_2975bd550.npy'), WindowsPath('C:/Users/animeshs/GD/stanford-covid-vaccine/bpps/id_29850e01e.npy'), WindowsPath('C:/Users/animeshs/GD/stanford-covid-vaccine/bpps/id_298a44f13.npy'), WindowsPath('C:/Users/animeshs/GD/stanford-covid-vaccine/bpps/id_298d1bbbc.npy'), WindowsPath('C:/Users/animeshs/GD/stanford-covid-vaccine/bpps/id_29a16feb6.npy'), WindowsPath('C:/Users/animeshs/GD/stanford-covid-vaccine/bpps/id_29b9f9617.npy'), WindowsPath('C:/Users/animeshs/GD/stanford-covid-vaccine/bpps/id_29e2cfc3b.npy'), WindowsPath('C:/Users/animeshs/GD/stanford-covid-vaccine/bpps/id_29eda8db7.npy'), WindowsPath('C:/Users/animeshs/GD/stanford-covid-vaccine/bpps/id_29f1386ca.npy'), WindowsPath('C:/Users/animeshs/GD/stanford-covid-vaccine/bpps/id_29f873a00.npy'), WindowsPath('C:/Users/animeshs/GD/stanford-covid-vaccine/bpps/id_29fb577aa.npy'), WindowsPath('C:/Users/animeshs/GD/stanford-covid-vaccine/bpps/id_29fccb196.npy'), WindowsPath('C:/Users/animeshs/GD/stanford-covid-vaccine/bpps/id_29fdc9466.npy'), WindowsPath('C:/Users/animeshs/GD/stanford-covid-vaccine/bpps/id_2a11d2e2e.npy'), WindowsPath('C:/Users/animeshs/GD/stanford-covid-vaccine/bpps/id_2a11dab9a.npy'), WindowsPath('C:/Users/animeshs/GD/stanford-covid-vaccine/bpps/id_2a1330486.npy'), WindowsPath('C:/Users/animeshs/GD/stanford-covid-vaccine/bpps/id_2a1a1b36d.npy'), WindowsPath('C:/Users/animeshs/GD/stanford-covid-vaccine/bpps/id_2a2972c5c.npy'), WindowsPath('C:/Users/animeshs/GD/stanford-covid-vaccine/bpps/id_2a3308237.npy'), WindowsPath('C:/Users/animeshs/GD/stanford-covid-vaccine/bpps/id_2a3f057af.npy'), WindowsPath('C:/Users/animeshs/GD/stanford-covid-vaccine/bpps/id_2a491ea91.npy'), WindowsPath('C:/Users/animeshs/GD/stanford-covid-vaccine/bpps/id_2a5c5f6ae.npy'), WindowsPath('C:/Users/animeshs/GD/stanford-covid-vaccine/bpps/id_2a65e9f2b.npy'), WindowsPath('C:/Users/animeshs/GD/stanford-covid-vaccine/bpps/id_2a66a03f6.npy'), WindowsPath('C:/Users/animeshs/GD/stanford-covid-vaccine/bpps/id_2a6a9af2b.npy'), WindowsPath('C:/Users/animeshs/GD/stanford-covid-vaccine/bpps/id_2a7568244.npy'), WindowsPath('C:/Users/animeshs/GD/stanford-covid-vaccine/bpps/id_2a7a4496f.npy'), WindowsPath('C:/Users/animeshs/GD/stanford-covid-vaccine/bpps/id_2a983d026.npy'), WindowsPath('C:/Users/animeshs/GD/stanford-covid-vaccine/bpps/id_2a9950bb9.npy'), WindowsPath('C:/Users/animeshs/GD/stanford-covid-vaccine/bpps/id_2aa8d42fb.npy'), WindowsPath('C:/Users/animeshs/GD/stanford-covid-vaccine/bpps/id_2ab513ee0.npy'), WindowsPath('C:/Users/animeshs/GD/stanford-covid-vaccine/bpps/id_2abce6b09.npy'), WindowsPath('C:/Users/animeshs/GD/stanford-covid-vaccine/bpps/id_2ac476592.npy'), WindowsPath('C:/Users/animeshs/GD/stanford-covid-vaccine/bpps/id_2ac864952.npy'), WindowsPath('C:/Users/animeshs/GD/stanford-covid-vaccine/bpps/id_2acaec4d9.npy'), WindowsPath('C:/Users/animeshs/GD/stanford-covid-vaccine/bpps/id_2ad904ce7.npy'), WindowsPath('C:/Users/animeshs/GD/stanford-covid-vaccine/bpps/id_2adc98948.npy'), WindowsPath('C:/Users/animeshs/GD/stanford-covid-vaccine/bpps/id_2adcc95ee.npy'), WindowsPath('C:/Users/animeshs/GD/stanford-covid-vaccine/bpps/id_2adf6505a.npy'), WindowsPath('C:/Users/animeshs/GD/stanford-covid-vaccine/bpps/id_2ae53e628.npy'), WindowsPath('C:/Users/animeshs/GD/stanford-covid-vaccine/bpps/id_2ae740c81.npy'), WindowsPath('C:/Users/animeshs/GD/stanford-covid-vaccine/bpps/id_2af9b4635.npy'), WindowsPath('C:/Users/animeshs/GD/stanford-covid-vaccine/bpps/id_2b008fdc6.npy'), WindowsPath('C:/Users/animeshs/GD/stanford-covid-vaccine/bpps/id_2b0523047.npy'), WindowsPath('C:/Users/animeshs/GD/stanford-covid-vaccine/bpps/id_2b0bd5740.npy'), WindowsPath('C:/Users/animeshs/GD/stanford-covid-vaccine/bpps/id_2b25abb2c.npy'), WindowsPath('C:/Users/animeshs/GD/stanford-covid-vaccine/bpps/id_2b42b45fa.npy'), WindowsPath('C:/Users/animeshs/GD/stanford-covid-vaccine/bpps/id_2b4dacfbb.npy'), WindowsPath('C:/Users/animeshs/GD/stanford-covid-vaccine/bpps/id_2b5feeebd.npy'), WindowsPath('C:/Users/animeshs/GD/stanford-covid-vaccine/bpps/id_2b65f1257.npy'), WindowsPath('C:/Users/animeshs/GD/stanford-covid-vaccine/bpps/id_2b8436b85.npy'), WindowsPath('C:/Users/animeshs/GD/stanford-covid-vaccine/bpps/id_2b84d4278.npy'), WindowsPath('C:/Users/animeshs/GD/stanford-covid-vaccine/bpps/id_2b8e6dcf7.npy'), WindowsPath('C:/Users/animeshs/GD/stanford-covid-vaccine/bpps/id_2ba9bc619.npy'), WindowsPath('C:/Users/animeshs/GD/stanford-covid-vaccine/bpps/id_2bb701124.npy'), WindowsPath('C:/Users/animeshs/GD/stanford-covid-vaccine/bpps/id_2bb76d566.npy'), WindowsPath('C:/Users/animeshs/GD/stanford-covid-vaccine/bpps/id_2bbaa3937.npy'), WindowsPath('C:/Users/animeshs/GD/stanford-covid-vaccine/bpps/id_2bc699ef8.npy'), WindowsPath('C:/Users/animeshs/GD/stanford-covid-vaccine/bpps/id_2bc6f631b.npy'), WindowsPath('C:/Users/animeshs/GD/stanford-covid-vaccine/bpps/id_2bc989103.npy'), WindowsPath('C:/Users/animeshs/GD/stanford-covid-vaccine/bpps/id_2bcc7c0f1.npy'), WindowsPath('C:/Users/animeshs/GD/stanford-covid-vaccine/bpps/id_2bd580544.npy'), WindowsPath('C:/Users/animeshs/GD/stanford-covid-vaccine/bpps/id_2bd8b6504.npy'), WindowsPath('C:/Users/animeshs/GD/stanford-covid-vaccine/bpps/id_2bd9f20c0.npy'), WindowsPath('C:/Users/animeshs/GD/stanford-covid-vaccine/bpps/id_2bdf376b4.npy'), WindowsPath('C:/Users/animeshs/GD/stanford-covid-vaccine/bpps/id_2bf1206b9.npy'), WindowsPath('C:/Users/animeshs/GD/stanford-covid-vaccine/bpps/id_2bf13d455.npy'), WindowsPath('C:/Users/animeshs/GD/stanford-covid-vaccine/bpps/id_2bf4417d3.npy'), WindowsPath('C:/Users/animeshs/GD/stanford-covid-vaccine/bpps/id_2bf64fa5c.npy'), WindowsPath('C:/Users/animeshs/GD/stanford-covid-vaccine/bpps/id_2c1776c28.npy'), WindowsPath('C:/Users/animeshs/GD/stanford-covid-vaccine/bpps/id_2c17dd165.npy'), WindowsPath('C:/Users/animeshs/GD/stanford-covid-vaccine/bpps/id_2c1d7df73.npy'), WindowsPath('C:/Users/animeshs/GD/stanford-covid-vaccine/bpps/id_2c29a6754.npy'), WindowsPath('C:/Users/animeshs/GD/stanford-covid-vaccine/bpps/id_2c31d1283.npy'), WindowsPath('C:/Users/animeshs/GD/stanford-covid-vaccine/bpps/id_2c39296b7.npy'), WindowsPath('C:/Users/animeshs/GD/stanford-covid-vaccine/bpps/id_2c438e4f7.npy'), WindowsPath('C:/Users/animeshs/GD/stanford-covid-vaccine/bpps/id_2c4546c13.npy'), WindowsPath('C:/Users/animeshs/GD/stanford-covid-vaccine/bpps/id_2c5151d91.npy'), WindowsPath('C:/Users/animeshs/GD/stanford-covid-vaccine/bpps/id_2c6aff43d.npy'), WindowsPath('C:/Users/animeshs/GD/stanford-covid-vaccine/bpps/id_2c7f6eb38.npy'), WindowsPath('C:/Users/animeshs/GD/stanford-covid-vaccine/bpps/id_2c8ec88dc.npy'), WindowsPath('C:/Users/animeshs/GD/stanford-covid-vaccine/bpps/id_2ca54dea1.npy'), WindowsPath('C:/Users/animeshs/GD/stanford-covid-vaccine/bpps/id_2cb2febfd.npy'), WindowsPath('C:/Users/animeshs/GD/stanford-covid-vaccine/bpps/id_2cb616b3b.npy'), WindowsPath('C:/Users/animeshs/GD/stanford-covid-vaccine/bpps/id_2cbce5a19.npy'), WindowsPath('C:/Users/animeshs/GD/stanford-covid-vaccine/bpps/id_2cbddc2f9.npy'), WindowsPath('C:/Users/animeshs/GD/stanford-covid-vaccine/bpps/id_2cbe08285.npy'), WindowsPath('C:/Users/animeshs/GD/stanford-covid-vaccine/bpps/id_2ccb4f40a.npy'), WindowsPath('C:/Users/animeshs/GD/stanford-covid-vaccine/bpps/id_2cd16deac.npy'), WindowsPath('C:/Users/animeshs/GD/stanford-covid-vaccine/bpps/id_2cd1a3b81.npy'), WindowsPath('C:/Users/animeshs/GD/stanford-covid-vaccine/bpps/id_2cd1e121f.npy'), WindowsPath('C:/Users/animeshs/GD/stanford-covid-vaccine/bpps/id_2cd48d57f.npy'), WindowsPath('C:/Users/animeshs/GD/stanford-covid-vaccine/bpps/id_2cda32b51.npy'), WindowsPath('C:/Users/animeshs/GD/stanford-covid-vaccine/bpps/id_2ce36c681.npy'), WindowsPath('C:/Users/animeshs/GD/stanford-covid-vaccine/bpps/id_2cea129e2.npy'), WindowsPath('C:/Users/animeshs/GD/stanford-covid-vaccine/bpps/id_2cf2cdfd3.npy'), WindowsPath('C:/Users/animeshs/GD/stanford-covid-vaccine/bpps/id_2cfbdbe87.npy'), WindowsPath('C:/Users/animeshs/GD/stanford-covid-vaccine/bpps/id_2d13fd8cd.npy'), WindowsPath('C:/Users/animeshs/GD/stanford-covid-vaccine/bpps/id_2d158ceb1.npy'), WindowsPath('C:/Users/animeshs/GD/stanford-covid-vaccine/bpps/id_2d1bc6cb8.npy'), WindowsPath('C:/Users/animeshs/GD/stanford-covid-vaccine/bpps/id_2d215bf76.npy'), WindowsPath('C:/Users/animeshs/GD/stanford-covid-vaccine/bpps/id_2d2509533.npy'), WindowsPath('C:/Users/animeshs/GD/stanford-covid-vaccine/bpps/id_2d30ff016.npy'), WindowsPath('C:/Users/animeshs/GD/stanford-covid-vaccine/bpps/id_2d368025c.npy'), WindowsPath('C:/Users/animeshs/GD/stanford-covid-vaccine/bpps/id_2d3994833.npy'), WindowsPath('C:/Users/animeshs/GD/stanford-covid-vaccine/bpps/id_2d4865272.npy'), WindowsPath('C:/Users/animeshs/GD/stanford-covid-vaccine/bpps/id_2d49146e3.npy'), WindowsPath('C:/Users/animeshs/GD/stanford-covid-vaccine/bpps/id_2d568dcce.npy'), WindowsPath('C:/Users/animeshs/GD/stanford-covid-vaccine/bpps/id_2d6bad181.npy'), WindowsPath('C:/Users/animeshs/GD/stanford-covid-vaccine/bpps/id_2d6c6fb4a.npy'), WindowsPath('C:/Users/animeshs/GD/stanford-covid-vaccine/bpps/id_2d8356e2b.npy'), WindowsPath('C:/Users/animeshs/GD/stanford-covid-vaccine/bpps/id_2d91461c9.npy'), WindowsPath('C:/Users/animeshs/GD/stanford-covid-vaccine/bpps/id_2da234b7c.npy'), WindowsPath('C:/Users/animeshs/GD/stanford-covid-vaccine/bpps/id_2da346b3f.npy'), WindowsPath('C:/Users/animeshs/GD/stanford-covid-vaccine/bpps/id_2db9c6a30.npy'), WindowsPath('C:/Users/animeshs/GD/stanford-covid-vaccine/bpps/id_2dc0a33a7.npy'), WindowsPath('C:/Users/animeshs/GD/stanford-covid-vaccine/bpps/id_2dc15cef2.npy'), WindowsPath('C:/Users/animeshs/GD/stanford-covid-vaccine/bpps/id_2dc93b4d2.npy'), WindowsPath('C:/Users/animeshs/GD/stanford-covid-vaccine/bpps/id_2dd9c8df5.npy'), WindowsPath('C:/Users/animeshs/GD/stanford-covid-vaccine/bpps/id_2df1a8077.npy'), WindowsPath('C:/Users/animeshs/GD/stanford-covid-vaccine/bpps/id_2dfb32382.npy'), WindowsPath('C:/Users/animeshs/GD/stanford-covid-vaccine/bpps/id_2e038da46.npy'), WindowsPath('C:/Users/animeshs/GD/stanford-covid-vaccine/bpps/id_2e134b235.npy'), WindowsPath('C:/Users/animeshs/GD/stanford-covid-vaccine/bpps/id_2e5252a85.npy'), WindowsPath('C:/Users/animeshs/GD/stanford-covid-vaccine/bpps/id_2e574125e.npy'), WindowsPath('C:/Users/animeshs/GD/stanford-covid-vaccine/bpps/id_2e5c35220.npy'), WindowsPath('C:/Users/animeshs/GD/stanford-covid-vaccine/bpps/id_2e63221b6.npy'), WindowsPath('C:/Users/animeshs/GD/stanford-covid-vaccine/bpps/id_2e6d1ca51.npy'), WindowsPath('C:/Users/animeshs/GD/stanford-covid-vaccine/bpps/id_2e74ec29a.npy'), WindowsPath('C:/Users/animeshs/GD/stanford-covid-vaccine/bpps/id_2e7a33854.npy'), WindowsPath('C:/Users/animeshs/GD/stanford-covid-vaccine/bpps/id_2e80caf98.npy'), WindowsPath('C:/Users/animeshs/GD/stanford-covid-vaccine/bpps/id_2e82fc05a.npy'), WindowsPath('C:/Users/animeshs/GD/stanford-covid-vaccine/bpps/id_2e8f38005.npy'), WindowsPath('C:/Users/animeshs/GD/stanford-covid-vaccine/bpps/id_2e8f990ee.npy'), WindowsPath('C:/Users/animeshs/GD/stanford-covid-vaccine/bpps/id_2e95ea0d9.npy'), WindowsPath('C:/Users/animeshs/GD/stanford-covid-vaccine/bpps/id_2eaf9233e.npy'), WindowsPath('C:/Users/animeshs/GD/stanford-covid-vaccine/bpps/id_2ebf8851a.npy'), WindowsPath('C:/Users/animeshs/GD/stanford-covid-vaccine/bpps/id_2ec0fa325.npy'), WindowsPath('C:/Users/animeshs/GD/stanford-covid-vaccine/bpps/id_2ec1eec33.npy'), WindowsPath('C:/Users/animeshs/GD/stanford-covid-vaccine/bpps/id_2ec9733a3.npy'), WindowsPath('C:/Users/animeshs/GD/stanford-covid-vaccine/bpps/id_2ecd99b9d.npy'), WindowsPath('C:/Users/animeshs/GD/stanford-covid-vaccine/bpps/id_2ed373503.npy'), WindowsPath('C:/Users/animeshs/GD/stanford-covid-vaccine/bpps/id_2ed83df0c.npy'), WindowsPath('C:/Users/animeshs/GD/stanford-covid-vaccine/bpps/id_2eda4406c.npy'), WindowsPath('C:/Users/animeshs/GD/stanford-covid-vaccine/bpps/id_2ee02fe9b.npy'), WindowsPath('C:/Users/animeshs/GD/stanford-covid-vaccine/bpps/id_2ee27cef2.npy'), WindowsPath('C:/Users/animeshs/GD/stanford-covid-vaccine/bpps/id_2ee29c643.npy'), WindowsPath('C:/Users/animeshs/GD/stanford-covid-vaccine/bpps/id_2eeea0fb4.npy'), WindowsPath('C:/Users/animeshs/GD/stanford-covid-vaccine/bpps/id_2ef4de110.npy'), WindowsPath('C:/Users/animeshs/GD/stanford-covid-vaccine/bpps/id_2f0917acb.npy'), WindowsPath('C:/Users/animeshs/GD/stanford-covid-vaccine/bpps/id_2f0f4a0d4.npy'), WindowsPath('C:/Users/animeshs/GD/stanford-covid-vaccine/bpps/id_2f140351c.npy'), WindowsPath('C:/Users/animeshs/GD/stanford-covid-vaccine/bpps/id_2f143febe.npy'), WindowsPath('C:/Users/animeshs/GD/stanford-covid-vaccine/bpps/id_2f155df29.npy'), WindowsPath('C:/Users/animeshs/GD/stanford-covid-vaccine/bpps/id_2f2f6cc40.npy'), WindowsPath('C:/Users/animeshs/GD/stanford-covid-vaccine/bpps/id_2f317fcda.npy'), WindowsPath('C:/Users/animeshs/GD/stanford-covid-vaccine/bpps/id_2f3bdc545.npy'), WindowsPath('C:/Users/animeshs/GD/stanford-covid-vaccine/bpps/id_2f531c6d6.npy'), WindowsPath('C:/Users/animeshs/GD/stanford-covid-vaccine/bpps/id_2f551bdfb.npy'), WindowsPath('C:/Users/animeshs/GD/stanford-covid-vaccine/bpps/id_2f59394d6.npy'), WindowsPath('C:/Users/animeshs/GD/stanford-covid-vaccine/bpps/id_2f803bb8e.npy'), WindowsPath('C:/Users/animeshs/GD/stanford-covid-vaccine/bpps/id_2f81d2d94.npy'), WindowsPath('C:/Users/animeshs/GD/stanford-covid-vaccine/bpps/id_2f8bdb4a2.npy'), WindowsPath('C:/Users/animeshs/GD/stanford-covid-vaccine/bpps/id_2f9f7ee33.npy'), WindowsPath('C:/Users/animeshs/GD/stanford-covid-vaccine/bpps/id_2fafd6548.npy'), WindowsPath('C:/Users/animeshs/GD/stanford-covid-vaccine/bpps/id_2fb968053.npy'), WindowsPath('C:/Users/animeshs/GD/stanford-covid-vaccine/bpps/id_2fb9d78f8.npy'), WindowsPath('C:/Users/animeshs/GD/stanford-covid-vaccine/bpps/id_2fd4fdcff.npy'), WindowsPath('C:/Users/animeshs/GD/stanford-covid-vaccine/bpps/id_2fe0794e9.npy'), WindowsPath('C:/Users/animeshs/GD/stanford-covid-vaccine/bpps/id_2fe381d9e.npy'), WindowsPath('C:/Users/animeshs/GD/stanford-covid-vaccine/bpps/id_2fe692154.npy'), WindowsPath('C:/Users/animeshs/GD/stanford-covid-vaccine/bpps/id_2fe9ee961.npy'), WindowsPath('C:/Users/animeshs/GD/stanford-covid-vaccine/bpps/id_30055b674.npy'), WindowsPath('C:/Users/animeshs/GD/stanford-covid-vaccine/bpps/id_3009bdc5a.npy'), WindowsPath('C:/Users/animeshs/GD/stanford-covid-vaccine/bpps/id_3010f9cac.npy'), WindowsPath('C:/Users/animeshs/GD/stanford-covid-vaccine/bpps/id_30117d130.npy'), WindowsPath('C:/Users/animeshs/GD/stanford-covid-vaccine/bpps/id_30166ef12.npy'), WindowsPath('C:/Users/animeshs/GD/stanford-covid-vaccine/bpps/id_301b650a0.npy'), WindowsPath('C:/Users/animeshs/GD/stanford-covid-vaccine/bpps/id_3029bf560.npy'), WindowsPath('C:/Users/animeshs/GD/stanford-covid-vaccine/bpps/id_302a059fe.npy'), WindowsPath('C:/Users/animeshs/GD/stanford-covid-vaccine/bpps/id_303e50de8.npy'), WindowsPath('C:/Users/animeshs/GD/stanford-covid-vaccine/bpps/id_304068149.npy'), WindowsPath('C:/Users/animeshs/GD/stanford-covid-vaccine/bpps/id_307f58688.npy'), WindowsPath('C:/Users/animeshs/GD/stanford-covid-vaccine/bpps/id_3083be3e2.npy'), WindowsPath('C:/Users/animeshs/GD/stanford-covid-vaccine/bpps/id_3095efb6d.npy'), WindowsPath('C:/Users/animeshs/GD/stanford-covid-vaccine/bpps/id_30b78c68a.npy'), WindowsPath('C:/Users/animeshs/GD/stanford-covid-vaccine/bpps/id_30c694dd6.npy'), WindowsPath('C:/Users/animeshs/GD/stanford-covid-vaccine/bpps/id_30cdfe6dc.npy'), WindowsPath('C:/Users/animeshs/GD/stanford-covid-vaccine/bpps/id_30df8e451.npy'), WindowsPath('C:/Users/animeshs/GD/stanford-covid-vaccine/bpps/id_30e4baa8b.npy'), WindowsPath('C:/Users/animeshs/GD/stanford-covid-vaccine/bpps/id_30fade39e.npy'), WindowsPath('C:/Users/animeshs/GD/stanford-covid-vaccine/bpps/id_3101730e3.npy'), WindowsPath('C:/Users/animeshs/GD/stanford-covid-vaccine/bpps/id_3101e5ce4.npy'), WindowsPath('C:/Users/animeshs/GD/stanford-covid-vaccine/bpps/id_311ab93a1.npy'), WindowsPath('C:/Users/animeshs/GD/stanford-covid-vaccine/bpps/id_31213c006.npy'), WindowsPath('C:/Users/animeshs/GD/stanford-covid-vaccine/bpps/id_314b92f79.npy'), WindowsPath('C:/Users/animeshs/GD/stanford-covid-vaccine/bpps/id_315f8d416.npy'), WindowsPath('C:/Users/animeshs/GD/stanford-covid-vaccine/bpps/id_31669c948.npy'), WindowsPath('C:/Users/animeshs/GD/stanford-covid-vaccine/bpps/id_316caf569.npy'), WindowsPath('C:/Users/animeshs/GD/stanford-covid-vaccine/bpps/id_316fa63e1.npy'), WindowsPath('C:/Users/animeshs/GD/stanford-covid-vaccine/bpps/id_316fd3ac4.npy'), WindowsPath('C:/Users/animeshs/GD/stanford-covid-vaccine/bpps/id_317203759.npy'), WindowsPath('C:/Users/animeshs/GD/stanford-covid-vaccine/bpps/id_31745dfa0.npy'), WindowsPath('C:/Users/animeshs/GD/stanford-covid-vaccine/bpps/id_3179031b3.npy'), WindowsPath('C:/Users/animeshs/GD/stanford-covid-vaccine/bpps/id_317e4e4ad.npy'), WindowsPath('C:/Users/animeshs/GD/stanford-covid-vaccine/bpps/id_3194b5b72.npy'), WindowsPath('C:/Users/animeshs/GD/stanford-covid-vaccine/bpps/id_319549a3d.npy'), WindowsPath('C:/Users/animeshs/GD/stanford-covid-vaccine/bpps/id_31b002c50.npy'), WindowsPath('C:/Users/animeshs/GD/stanford-covid-vaccine/bpps/id_31b853a80.npy'), WindowsPath('C:/Users/animeshs/GD/stanford-covid-vaccine/bpps/id_31c132765.npy'), WindowsPath('C:/Users/animeshs/GD/stanford-covid-vaccine/bpps/id_31cf4c51f.npy'), WindowsPath('C:/Users/animeshs/GD/stanford-covid-vaccine/bpps/id_31cff5abe.npy'), WindowsPath('C:/Users/animeshs/GD/stanford-covid-vaccine/bpps/id_31e89e4d4.npy'), WindowsPath('C:/Users/animeshs/GD/stanford-covid-vaccine/bpps/id_31ef7f99a.npy'), WindowsPath('C:/Users/animeshs/GD/stanford-covid-vaccine/bpps/id_31fc92633.npy'), WindowsPath('C:/Users/animeshs/GD/stanford-covid-vaccine/bpps/id_32000451a.npy'), WindowsPath('C:/Users/animeshs/GD/stanford-covid-vaccine/bpps/id_320e8a819.npy'), WindowsPath('C:/Users/animeshs/GD/stanford-covid-vaccine/bpps/id_3211f2710.npy'), WindowsPath('C:/Users/animeshs/GD/stanford-covid-vaccine/bpps/id_321cff58b.npy'), WindowsPath('C:/Users/animeshs/GD/stanford-covid-vaccine/bpps/id_32308d54c.npy'), WindowsPath('C:/Users/animeshs/GD/stanford-covid-vaccine/bpps/id_323d4a629.npy'), WindowsPath('C:/Users/animeshs/GD/stanford-covid-vaccine/bpps/id_32462f9b7.npy'), WindowsPath('C:/Users/animeshs/GD/stanford-covid-vaccine/bpps/id_324cded4c.npy'), WindowsPath('C:/Users/animeshs/GD/stanford-covid-vaccine/bpps/id_325497c00.npy'), WindowsPath('C:/Users/animeshs/GD/stanford-covid-vaccine/bpps/id_325d897fa.npy'), WindowsPath('C:/Users/animeshs/GD/stanford-covid-vaccine/bpps/id_325ff5471.npy'), WindowsPath('C:/Users/animeshs/GD/stanford-covid-vaccine/bpps/id_3260e4288.npy'), WindowsPath('C:/Users/animeshs/GD/stanford-covid-vaccine/bpps/id_326279a60.npy'), WindowsPath('C:/Users/animeshs/GD/stanford-covid-vaccine/bpps/id_32707c9e2.npy'), WindowsPath('C:/Users/animeshs/GD/stanford-covid-vaccine/bpps/id_32793fbea.npy'), WindowsPath('C:/Users/animeshs/GD/stanford-covid-vaccine/bpps/id_327e763f6.npy'), WindowsPath('C:/Users/animeshs/GD/stanford-covid-vaccine/bpps/id_32810afee.npy'), WindowsPath('C:/Users/animeshs/GD/stanford-covid-vaccine/bpps/id_3289b0c51.npy'), WindowsPath('C:/Users/animeshs/GD/stanford-covid-vaccine/bpps/id_328d6c111.npy'), WindowsPath('C:/Users/animeshs/GD/stanford-covid-vaccine/bpps/id_32951d413.npy'), WindowsPath('C:/Users/animeshs/GD/stanford-covid-vaccine/bpps/id_3298aa152.npy'), WindowsPath('C:/Users/animeshs/GD/stanford-covid-vaccine/bpps/id_3299853ee.npy'), WindowsPath('C:/Users/animeshs/GD/stanford-covid-vaccine/bpps/id_32b432d79.npy'), WindowsPath('C:/Users/animeshs/GD/stanford-covid-vaccine/bpps/id_32c5d2db6.npy'), WindowsPath('C:/Users/animeshs/GD/stanford-covid-vaccine/bpps/id_32dbf0e24.npy'), WindowsPath('C:/Users/animeshs/GD/stanford-covid-vaccine/bpps/id_32e06b487.npy'), WindowsPath('C:/Users/animeshs/GD/stanford-covid-vaccine/bpps/id_32e5a3350.npy'), WindowsPath('C:/Users/animeshs/GD/stanford-covid-vaccine/bpps/id_32ec4f355.npy'), WindowsPath('C:/Users/animeshs/GD/stanford-covid-vaccine/bpps/id_32f06695a.npy'), WindowsPath('C:/Users/animeshs/GD/stanford-covid-vaccine/bpps/id_32f9d97b3.npy'), WindowsPath('C:/Users/animeshs/GD/stanford-covid-vaccine/bpps/id_330561c89.npy'), WindowsPath('C:/Users/animeshs/GD/stanford-covid-vaccine/bpps/id_331da810e.npy'), WindowsPath('C:/Users/animeshs/GD/stanford-covid-vaccine/bpps/id_332013149.npy'), WindowsPath('C:/Users/animeshs/GD/stanford-covid-vaccine/bpps/id_3320b5944.npy'), WindowsPath('C:/Users/animeshs/GD/stanford-covid-vaccine/bpps/id_33299d447.npy'), WindowsPath('C:/Users/animeshs/GD/stanford-covid-vaccine/bpps/id_332e3d6c1.npy'), WindowsPath('C:/Users/animeshs/GD/stanford-covid-vaccine/bpps/id_333b280e1.npy'), WindowsPath('C:/Users/animeshs/GD/stanford-covid-vaccine/bpps/id_333b8f28b.npy'), WindowsPath('C:/Users/animeshs/GD/stanford-covid-vaccine/bpps/id_3342261d6.npy'), WindowsPath('C:/Users/animeshs/GD/stanford-covid-vaccine/bpps/id_33516c3e4.npy'), WindowsPath('C:/Users/animeshs/GD/stanford-covid-vaccine/bpps/id_33538d7b9.npy'), WindowsPath('C:/Users/animeshs/GD/stanford-covid-vaccine/bpps/id_336aafa44.npy'), WindowsPath('C:/Users/animeshs/GD/stanford-covid-vaccine/bpps/id_336df606e.npy'), WindowsPath('C:/Users/animeshs/GD/stanford-covid-vaccine/bpps/id_336e49913.npy'), WindowsPath('C:/Users/animeshs/GD/stanford-covid-vaccine/bpps/id_3372a4259.npy'), WindowsPath('C:/Users/animeshs/GD/stanford-covid-vaccine/bpps/id_339041394.npy'), WindowsPath('C:/Users/animeshs/GD/stanford-covid-vaccine/bpps/id_33920944d.npy'), WindowsPath('C:/Users/animeshs/GD/stanford-covid-vaccine/bpps/id_3397e6fde.npy'), WindowsPath('C:/Users/animeshs/GD/stanford-covid-vaccine/bpps/id_33b33ce4e.npy'), WindowsPath('C:/Users/animeshs/GD/stanford-covid-vaccine/bpps/id_33b754424.npy'), WindowsPath('C:/Users/animeshs/GD/stanford-covid-vaccine/bpps/id_33bd903ba.npy'), WindowsPath('C:/Users/animeshs/GD/stanford-covid-vaccine/bpps/id_33cbe6509.npy'), WindowsPath('C:/Users/animeshs/GD/stanford-covid-vaccine/bpps/id_33cfa91dc.npy'), WindowsPath('C:/Users/animeshs/GD/stanford-covid-vaccine/bpps/id_33d4dc6d0.npy'), WindowsPath('C:/Users/animeshs/GD/stanford-covid-vaccine/bpps/id_33e8cdd16.npy'), WindowsPath('C:/Users/animeshs/GD/stanford-covid-vaccine/bpps/id_33ea0b43b.npy'), WindowsPath('C:/Users/animeshs/GD/stanford-covid-vaccine/bpps/id_33f606ec5.npy'), WindowsPath('C:/Users/animeshs/GD/stanford-covid-vaccine/bpps/id_3406dc4f8.npy'), WindowsPath('C:/Users/animeshs/GD/stanford-covid-vaccine/bpps/id_340d5ef56.npy'), WindowsPath('C:/Users/animeshs/GD/stanford-covid-vaccine/bpps/id_34201072a.npy'), WindowsPath('C:/Users/animeshs/GD/stanford-covid-vaccine/bpps/id_34202b68b.npy'), WindowsPath('C:/Users/animeshs/GD/stanford-covid-vaccine/bpps/id_34286a9d3.npy'), WindowsPath('C:/Users/animeshs/GD/stanford-covid-vaccine/bpps/id_34340f0bf.npy'), WindowsPath('C:/Users/animeshs/GD/stanford-covid-vaccine/bpps/id_344128dc3.npy'), WindowsPath('C:/Users/animeshs/GD/stanford-covid-vaccine/bpps/id_344a913eb.npy'), WindowsPath('C:/Users/animeshs/GD/stanford-covid-vaccine/bpps/id_3453672f8.npy'), WindowsPath('C:/Users/animeshs/GD/stanford-covid-vaccine/bpps/id_34541b2fa.npy'), WindowsPath('C:/Users/animeshs/GD/stanford-covid-vaccine/bpps/id_345bc28db.npy'), WindowsPath('C:/Users/animeshs/GD/stanford-covid-vaccine/bpps/id_345ff4df9.npy'), WindowsPath('C:/Users/animeshs/GD/stanford-covid-vaccine/bpps/id_3467ded35.npy'), WindowsPath('C:/Users/animeshs/GD/stanford-covid-vaccine/bpps/id_34685be76.npy'), WindowsPath('C:/Users/animeshs/GD/stanford-covid-vaccine/bpps/id_346f56b43.npy'), WindowsPath('C:/Users/animeshs/GD/stanford-covid-vaccine/bpps/id_347b6dc9f.npy'), WindowsPath('C:/Users/animeshs/GD/stanford-covid-vaccine/bpps/id_34838c4eb.npy'), WindowsPath('C:/Users/animeshs/GD/stanford-covid-vaccine/bpps/id_3494c074f.npy'), WindowsPath('C:/Users/animeshs/GD/stanford-covid-vaccine/bpps/id_349a31561.npy'), WindowsPath('C:/Users/animeshs/GD/stanford-covid-vaccine/bpps/id_34a9df75b.npy'), WindowsPath('C:/Users/animeshs/GD/stanford-covid-vaccine/bpps/id_34ad1391e.npy'), WindowsPath('C:/Users/animeshs/GD/stanford-covid-vaccine/bpps/id_34be926ed.npy'), WindowsPath('C:/Users/animeshs/GD/stanford-covid-vaccine/bpps/id_34c5145a1.npy'), WindowsPath('C:/Users/animeshs/GD/stanford-covid-vaccine/bpps/id_34cc201fc.npy'), WindowsPath('C:/Users/animeshs/GD/stanford-covid-vaccine/bpps/id_34db1dced.npy'), WindowsPath('C:/Users/animeshs/GD/stanford-covid-vaccine/bpps/id_34dc5d4de.npy'), WindowsPath('C:/Users/animeshs/GD/stanford-covid-vaccine/bpps/id_34e0c27b9.npy'), WindowsPath('C:/Users/animeshs/GD/stanford-covid-vaccine/bpps/id_34e165769.npy'), WindowsPath('C:/Users/animeshs/GD/stanford-covid-vaccine/bpps/id_34e1826bb.npy'), WindowsPath('C:/Users/animeshs/GD/stanford-covid-vaccine/bpps/id_34e61c356.npy'), WindowsPath('C:/Users/animeshs/GD/stanford-covid-vaccine/bpps/id_34eddf8d4.npy'), WindowsPath('C:/Users/animeshs/GD/stanford-covid-vaccine/bpps/id_34ee4f665.npy'), WindowsPath('C:/Users/animeshs/GD/stanford-covid-vaccine/bpps/id_34f5b74b5.npy'), WindowsPath('C:/Users/animeshs/GD/stanford-covid-vaccine/bpps/id_3506a5050.npy'), WindowsPath('C:/Users/animeshs/GD/stanford-covid-vaccine/bpps/id_3509366a8.npy'), WindowsPath('C:/Users/animeshs/GD/stanford-covid-vaccine/bpps/id_351588d02.npy'), WindowsPath('C:/Users/animeshs/GD/stanford-covid-vaccine/bpps/id_3516e120f.npy'), WindowsPath('C:/Users/animeshs/GD/stanford-covid-vaccine/bpps/id_3522f4f16.npy'), WindowsPath('C:/Users/animeshs/GD/stanford-covid-vaccine/bpps/id_35236d52e.npy'), WindowsPath('C:/Users/animeshs/GD/stanford-covid-vaccine/bpps/id_3527385ee.npy'), WindowsPath('C:/Users/animeshs/GD/stanford-covid-vaccine/bpps/id_353d7e741.npy'), WindowsPath('C:/Users/animeshs/GD/stanford-covid-vaccine/bpps/id_3550dd8c9.npy'), WindowsPath('C:/Users/animeshs/GD/stanford-covid-vaccine/bpps/id_356282780.npy'), WindowsPath('C:/Users/animeshs/GD/stanford-covid-vaccine/bpps/id_3567b9d09.npy'), WindowsPath('C:/Users/animeshs/GD/stanford-covid-vaccine/bpps/id_356c18cfe.npy'), WindowsPath('C:/Users/animeshs/GD/stanford-covid-vaccine/bpps/id_3576d9fb8.npy'), WindowsPath('C:/Users/animeshs/GD/stanford-covid-vaccine/bpps/id_357a2c5ad.npy'), WindowsPath('C:/Users/animeshs/GD/stanford-covid-vaccine/bpps/id_357fb501e.npy'), WindowsPath('C:/Users/animeshs/GD/stanford-covid-vaccine/bpps/id_358040f1e.npy'), WindowsPath('C:/Users/animeshs/GD/stanford-covid-vaccine/bpps/id_3584c84d0.npy'), WindowsPath('C:/Users/animeshs/GD/stanford-covid-vaccine/bpps/id_3592a8c75.npy'), WindowsPath('C:/Users/animeshs/GD/stanford-covid-vaccine/bpps/id_3593aefb2.npy'), WindowsPath('C:/Users/animeshs/GD/stanford-covid-vaccine/bpps/id_3599cd980.npy'), WindowsPath('C:/Users/animeshs/GD/stanford-covid-vaccine/bpps/id_35a2b231a.npy'), WindowsPath('C:/Users/animeshs/GD/stanford-covid-vaccine/bpps/id_35b624df6.npy'), WindowsPath('C:/Users/animeshs/GD/stanford-covid-vaccine/bpps/id_35c182e83.npy'), WindowsPath('C:/Users/animeshs/GD/stanford-covid-vaccine/bpps/id_35cd6a279.npy'), WindowsPath('C:/Users/animeshs/GD/stanford-covid-vaccine/bpps/id_35d2c86cc.npy'), WindowsPath('C:/Users/animeshs/GD/stanford-covid-vaccine/bpps/id_35fd57143.npy'), WindowsPath('C:/Users/animeshs/GD/stanford-covid-vaccine/bpps/id_35fea2050.npy'), WindowsPath('C:/Users/animeshs/GD/stanford-covid-vaccine/bpps/id_3608cebc8.npy'), WindowsPath('C:/Users/animeshs/GD/stanford-covid-vaccine/bpps/id_360bf0068.npy'), WindowsPath('C:/Users/animeshs/GD/stanford-covid-vaccine/bpps/id_3622f8a34.npy'), WindowsPath('C:/Users/animeshs/GD/stanford-covid-vaccine/bpps/id_36279882a.npy'), WindowsPath('C:/Users/animeshs/GD/stanford-covid-vaccine/bpps/id_362c6a174.npy'), WindowsPath('C:/Users/animeshs/GD/stanford-covid-vaccine/bpps/id_3649742b1.npy'), WindowsPath('C:/Users/animeshs/GD/stanford-covid-vaccine/bpps/id_36548481b.npy'), WindowsPath('C:/Users/animeshs/GD/stanford-covid-vaccine/bpps/id_366486252.npy'), WindowsPath('C:/Users/animeshs/GD/stanford-covid-vaccine/bpps/id_366819169.npy'), WindowsPath('C:/Users/animeshs/GD/stanford-covid-vaccine/bpps/id_3672ade38.npy'), WindowsPath('C:/Users/animeshs/GD/stanford-covid-vaccine/bpps/id_367412d87.npy'), WindowsPath('C:/Users/animeshs/GD/stanford-covid-vaccine/bpps/id_369913ac0.npy'), WindowsPath('C:/Users/animeshs/GD/stanford-covid-vaccine/bpps/id_369a1949d.npy'), WindowsPath('C:/Users/animeshs/GD/stanford-covid-vaccine/bpps/id_369e0271b.npy'), WindowsPath('C:/Users/animeshs/GD/stanford-covid-vaccine/bpps/id_36a021a48.npy'), WindowsPath('C:/Users/animeshs/GD/stanford-covid-vaccine/bpps/id_36bd9e35c.npy'), WindowsPath('C:/Users/animeshs/GD/stanford-covid-vaccine/bpps/id_36c31e18a.npy'), WindowsPath('C:/Users/animeshs/GD/stanford-covid-vaccine/bpps/id_36c742020.npy'), WindowsPath('C:/Users/animeshs/GD/stanford-covid-vaccine/bpps/id_36ce03559.npy'), WindowsPath('C:/Users/animeshs/GD/stanford-covid-vaccine/bpps/id_36d6b7f56.npy'), WindowsPath('C:/Users/animeshs/GD/stanford-covid-vaccine/bpps/id_36d96462d.npy'), WindowsPath('C:/Users/animeshs/GD/stanford-covid-vaccine/bpps/id_36dde3c79.npy'), WindowsPath('C:/Users/animeshs/GD/stanford-covid-vaccine/bpps/id_36e412002.npy'), WindowsPath('C:/Users/animeshs/GD/stanford-covid-vaccine/bpps/id_36e620eb8.npy'), WindowsPath('C:/Users/animeshs/GD/stanford-covid-vaccine/bpps/id_36f93d6fe.npy'), WindowsPath('C:/Users/animeshs/GD/stanford-covid-vaccine/bpps/id_36ffe66a9.npy'), WindowsPath('C:/Users/animeshs/GD/stanford-covid-vaccine/bpps/id_370305317.npy'), WindowsPath('C:/Users/animeshs/GD/stanford-covid-vaccine/bpps/id_3713b5115.npy'), WindowsPath('C:/Users/animeshs/GD/stanford-covid-vaccine/bpps/id_372118b52.npy'), WindowsPath('C:/Users/animeshs/GD/stanford-covid-vaccine/bpps/id_37304d07b.npy'), WindowsPath('C:/Users/animeshs/GD/stanford-covid-vaccine/bpps/id_37318dc58.npy'), WindowsPath('C:/Users/animeshs/GD/stanford-covid-vaccine/bpps/id_373b13545.npy'), WindowsPath('C:/Users/animeshs/GD/stanford-covid-vaccine/bpps/id_3740b8038.npy'), WindowsPath('C:/Users/animeshs/GD/stanford-covid-vaccine/bpps/id_374bf21ab.npy'), WindowsPath('C:/Users/animeshs/GD/stanford-covid-vaccine/bpps/id_374cf45df.npy'), WindowsPath('C:/Users/animeshs/GD/stanford-covid-vaccine/bpps/id_375790db3.npy'), WindowsPath('C:/Users/animeshs/GD/stanford-covid-vaccine/bpps/id_376dfe72f.npy'), WindowsPath('C:/Users/animeshs/GD/stanford-covid-vaccine/bpps/id_3780ce50c.npy'), WindowsPath('C:/Users/animeshs/GD/stanford-covid-vaccine/bpps/id_378991b7b.npy'), WindowsPath('C:/Users/animeshs/GD/stanford-covid-vaccine/bpps/id_3790d2c53.npy'), WindowsPath('C:/Users/animeshs/GD/stanford-covid-vaccine/bpps/id_3799f65cf.npy'), WindowsPath('C:/Users/animeshs/GD/stanford-covid-vaccine/bpps/id_37a444412.npy'), WindowsPath('C:/Users/animeshs/GD/stanford-covid-vaccine/bpps/id_37af116f1.npy'), WindowsPath('C:/Users/animeshs/GD/stanford-covid-vaccine/bpps/id_37bd9acb8.npy'), WindowsPath('C:/Users/animeshs/GD/stanford-covid-vaccine/bpps/id_37d5899be.npy'), WindowsPath('C:/Users/animeshs/GD/stanford-covid-vaccine/bpps/id_37df7371f.npy'), WindowsPath('C:/Users/animeshs/GD/stanford-covid-vaccine/bpps/id_37e7be610.npy'), WindowsPath('C:/Users/animeshs/GD/stanford-covid-vaccine/bpps/id_37ea56cc9.npy'), WindowsPath('C:/Users/animeshs/GD/stanford-covid-vaccine/bpps/id_37f98719a.npy'), WindowsPath('C:/Users/animeshs/GD/stanford-covid-vaccine/bpps/id_37ff48b21.npy'), WindowsPath('C:/Users/animeshs/GD/stanford-covid-vaccine/bpps/id_38004ee10.npy'), WindowsPath('C:/Users/animeshs/GD/stanford-covid-vaccine/bpps/id_3821fbb66.npy'), WindowsPath('C:/Users/animeshs/GD/stanford-covid-vaccine/bpps/id_382caf6bc.npy'), WindowsPath('C:/Users/animeshs/GD/stanford-covid-vaccine/bpps/id_38378ae18.npy'), WindowsPath('C:/Users/animeshs/GD/stanford-covid-vaccine/bpps/id_383ad58f7.npy'), WindowsPath('C:/Users/animeshs/GD/stanford-covid-vaccine/bpps/id_3845388e8.npy'), WindowsPath('C:/Users/animeshs/GD/stanford-covid-vaccine/bpps/id_386c979e5.npy'), WindowsPath('C:/Users/animeshs/GD/stanford-covid-vaccine/bpps/id_3871bf1b7.npy'), WindowsPath('C:/Users/animeshs/GD/stanford-covid-vaccine/bpps/id_387a46c96.npy'), WindowsPath('C:/Users/animeshs/GD/stanford-covid-vaccine/bpps/id_387bf579a.npy'), WindowsPath('C:/Users/animeshs/GD/stanford-covid-vaccine/bpps/id_3880655de.npy'), WindowsPath('C:/Users/animeshs/GD/stanford-covid-vaccine/bpps/id_38813cb3e.npy'), WindowsPath('C:/Users/animeshs/GD/stanford-covid-vaccine/bpps/id_389d00ced.npy'), WindowsPath('C:/Users/animeshs/GD/stanford-covid-vaccine/bpps/id_38a672dc0.npy'), WindowsPath('C:/Users/animeshs/GD/stanford-covid-vaccine/bpps/id_38c092a43.npy'), WindowsPath('C:/Users/animeshs/GD/stanford-covid-vaccine/bpps/id_38c1774d5.npy'), WindowsPath('C:/Users/animeshs/GD/stanford-covid-vaccine/bpps/id_38c5079b1.npy'), WindowsPath('C:/Users/animeshs/GD/stanford-covid-vaccine/bpps/id_38cabf78b.npy'), WindowsPath('C:/Users/animeshs/GD/stanford-covid-vaccine/bpps/id_38dcbd335.npy'), WindowsPath('C:/Users/animeshs/GD/stanford-covid-vaccine/bpps/id_38e0390ef.npy'), WindowsPath('C:/Users/animeshs/GD/stanford-covid-vaccine/bpps/id_38e3ce260.npy'), WindowsPath('C:/Users/animeshs/GD/stanford-covid-vaccine/bpps/id_38e6a0429.npy'), WindowsPath('C:/Users/animeshs/GD/stanford-covid-vaccine/bpps/id_38eba0861.npy'), WindowsPath('C:/Users/animeshs/GD/stanford-covid-vaccine/bpps/id_38fe81c08.npy'), WindowsPath('C:/Users/animeshs/GD/stanford-covid-vaccine/bpps/id_3908cfd34.npy'), WindowsPath('C:/Users/animeshs/GD/stanford-covid-vaccine/bpps/id_390cc7aba.npy'), WindowsPath('C:/Users/animeshs/GD/stanford-covid-vaccine/bpps/id_3911ed8be.npy'), WindowsPath('C:/Users/animeshs/GD/stanford-covid-vaccine/bpps/id_3923be6b0.npy'), WindowsPath('C:/Users/animeshs/GD/stanford-covid-vaccine/bpps/id_392be8a38.npy'), WindowsPath('C:/Users/animeshs/GD/stanford-covid-vaccine/bpps/id_3934f9e53.npy'), WindowsPath('C:/Users/animeshs/GD/stanford-covid-vaccine/bpps/id_394430dcb.npy'), WindowsPath('C:/Users/animeshs/GD/stanford-covid-vaccine/bpps/id_3951b512f.npy'), WindowsPath('C:/Users/animeshs/GD/stanford-covid-vaccine/bpps/id_39564a7ae.npy'), WindowsPath('C:/Users/animeshs/GD/stanford-covid-vaccine/bpps/id_39821c8c1.npy'), WindowsPath('C:/Users/animeshs/GD/stanford-covid-vaccine/bpps/id_3998a391b.npy'), WindowsPath('C:/Users/animeshs/GD/stanford-covid-vaccine/bpps/id_399bc73c8.npy'), WindowsPath('C:/Users/animeshs/GD/stanford-covid-vaccine/bpps/id_399e7a56b.npy'), WindowsPath('C:/Users/animeshs/GD/stanford-covid-vaccine/bpps/id_39a96a8e3.npy'), WindowsPath('C:/Users/animeshs/GD/stanford-covid-vaccine/bpps/id_39aa86261.npy'), WindowsPath('C:/Users/animeshs/GD/stanford-covid-vaccine/bpps/id_39cb72025.npy'), WindowsPath('C:/Users/animeshs/GD/stanford-covid-vaccine/bpps/id_39d8f1120.npy'), WindowsPath('C:/Users/animeshs/GD/stanford-covid-vaccine/bpps/id_39dfc839d.npy'), WindowsPath('C:/Users/animeshs/GD/stanford-covid-vaccine/bpps/id_39e9b75c2.npy'), WindowsPath('C:/Users/animeshs/GD/stanford-covid-vaccine/bpps/id_39eab5dca.npy'), WindowsPath('C:/Users/animeshs/GD/stanford-covid-vaccine/bpps/id_3a00941a3.npy'), WindowsPath('C:/Users/animeshs/GD/stanford-covid-vaccine/bpps/id_3a037ef16.npy'), WindowsPath('C:/Users/animeshs/GD/stanford-covid-vaccine/bpps/id_3a09a7175.npy'), WindowsPath('C:/Users/animeshs/GD/stanford-covid-vaccine/bpps/id_3a177be25.npy'), WindowsPath('C:/Users/animeshs/GD/stanford-covid-vaccine/bpps/id_3a1c8432d.npy'), WindowsPath('C:/Users/animeshs/GD/stanford-covid-vaccine/bpps/id_3a23cdb04.npy'), WindowsPath('C:/Users/animeshs/GD/stanford-covid-vaccine/bpps/id_3a2bc8815.npy'), WindowsPath('C:/Users/animeshs/GD/stanford-covid-vaccine/bpps/id_3a3bba74e.npy'), WindowsPath('C:/Users/animeshs/GD/stanford-covid-vaccine/bpps/id_3a4618a65.npy'), WindowsPath('C:/Users/animeshs/GD/stanford-covid-vaccine/bpps/id_3a545d913.npy'), WindowsPath('C:/Users/animeshs/GD/stanford-covid-vaccine/bpps/id_3a63523f0.npy'), WindowsPath('C:/Users/animeshs/GD/stanford-covid-vaccine/bpps/id_3a7163d71.npy'), WindowsPath('C:/Users/animeshs/GD/stanford-covid-vaccine/bpps/id_3a84b9636.npy'), WindowsPath('C:/Users/animeshs/GD/stanford-covid-vaccine/bpps/id_3a87bc4f2.npy'), WindowsPath('C:/Users/animeshs/GD/stanford-covid-vaccine/bpps/id_3a973a59e.npy'), WindowsPath('C:/Users/animeshs/GD/stanford-covid-vaccine/bpps/id_3aac85e88.npy'), WindowsPath('C:/Users/animeshs/GD/stanford-covid-vaccine/bpps/id_3abf87ddc.npy'), WindowsPath('C:/Users/animeshs/GD/stanford-covid-vaccine/bpps/id_3ac6590eb.npy'), WindowsPath('C:/Users/animeshs/GD/stanford-covid-vaccine/bpps/id_3ac9d6af2.npy'), WindowsPath('C:/Users/animeshs/GD/stanford-covid-vaccine/bpps/id_3aca20720.npy'), WindowsPath('C:/Users/animeshs/GD/stanford-covid-vaccine/bpps/id_3ad59a2c4.npy'), WindowsPath('C:/Users/animeshs/GD/stanford-covid-vaccine/bpps/id_3ad7ce7c8.npy'), WindowsPath('C:/Users/animeshs/GD/stanford-covid-vaccine/bpps/id_3adc4808d.npy'), WindowsPath('C:/Users/animeshs/GD/stanford-covid-vaccine/bpps/id_3b0030667.npy'), WindowsPath('C:/Users/animeshs/GD/stanford-covid-vaccine/bpps/id_3b0281870.npy'), WindowsPath('C:/Users/animeshs/GD/stanford-covid-vaccine/bpps/id_3b0e3fd98.npy'), WindowsPath('C:/Users/animeshs/GD/stanford-covid-vaccine/bpps/id_3b16da8a9.npy'), WindowsPath('C:/Users/animeshs/GD/stanford-covid-vaccine/bpps/id_3b20c0e69.npy'), WindowsPath('C:/Users/animeshs/GD/stanford-covid-vaccine/bpps/id_3b26bb992.npy'), WindowsPath('C:/Users/animeshs/GD/stanford-covid-vaccine/bpps/id_3b39fce73.npy'), WindowsPath('C:/Users/animeshs/GD/stanford-covid-vaccine/bpps/id_3b41c4b87.npy'), WindowsPath('C:/Users/animeshs/GD/stanford-covid-vaccine/bpps/id_3b4eb3003.npy'), WindowsPath('C:/Users/animeshs/GD/stanford-covid-vaccine/bpps/id_3b61cb953.npy'), WindowsPath('C:/Users/animeshs/GD/stanford-covid-vaccine/bpps/id_3b6af0775.npy'), WindowsPath('C:/Users/animeshs/GD/stanford-covid-vaccine/bpps/id_3b7827fb0.npy'), WindowsPath('C:/Users/animeshs/GD/stanford-covid-vaccine/bpps/id_3b91a1da1.npy'), WindowsPath('C:/Users/animeshs/GD/stanford-covid-vaccine/bpps/id_3ba245b9f.npy'), WindowsPath('C:/Users/animeshs/GD/stanford-covid-vaccine/bpps/id_3ba7f4268.npy'), WindowsPath('C:/Users/animeshs/GD/stanford-covid-vaccine/bpps/id_3bb5bfeb2.npy'), WindowsPath('C:/Users/animeshs/GD/stanford-covid-vaccine/bpps/id_3bba2869d.npy'), WindowsPath('C:/Users/animeshs/GD/stanford-covid-vaccine/bpps/id_3bbf9bcc5.npy'), WindowsPath('C:/Users/animeshs/GD/stanford-covid-vaccine/bpps/id_3bc127702.npy'), WindowsPath('C:/Users/animeshs/GD/stanford-covid-vaccine/bpps/id_3bc269248.npy'), WindowsPath('C:/Users/animeshs/GD/stanford-covid-vaccine/bpps/id_3bc7cd01f.npy'), WindowsPath('C:/Users/animeshs/GD/stanford-covid-vaccine/bpps/id_3bca4e0de.npy'), WindowsPath('C:/Users/animeshs/GD/stanford-covid-vaccine/bpps/id_3bcead533.npy'), WindowsPath('C:/Users/animeshs/GD/stanford-covid-vaccine/bpps/id_3bd884100.npy'), WindowsPath('C:/Users/animeshs/GD/stanford-covid-vaccine/bpps/id_3be37c87d.npy'), WindowsPath('C:/Users/animeshs/GD/stanford-covid-vaccine/bpps/id_3bfab3f64.npy'), WindowsPath('C:/Users/animeshs/GD/stanford-covid-vaccine/bpps/id_3c0100530.npy'), WindowsPath('C:/Users/animeshs/GD/stanford-covid-vaccine/bpps/id_3c0852b67.npy'), WindowsPath('C:/Users/animeshs/GD/stanford-covid-vaccine/bpps/id_3c08ab80e.npy'), WindowsPath('C:/Users/animeshs/GD/stanford-covid-vaccine/bpps/id_3c0a5fe02.npy'), WindowsPath('C:/Users/animeshs/GD/stanford-covid-vaccine/bpps/id_3c110f0ac.npy'), WindowsPath('C:/Users/animeshs/GD/stanford-covid-vaccine/bpps/id_3c2053b7e.npy'), WindowsPath('C:/Users/animeshs/GD/stanford-covid-vaccine/bpps/id_3c2740e47.npy'), WindowsPath('C:/Users/animeshs/GD/stanford-covid-vaccine/bpps/id_3c349c650.npy'), WindowsPath('C:/Users/animeshs/GD/stanford-covid-vaccine/bpps/id_3c3a042f1.npy'), WindowsPath('C:/Users/animeshs/GD/stanford-covid-vaccine/bpps/id_3c46e23bf.npy'), WindowsPath('C:/Users/animeshs/GD/stanford-covid-vaccine/bpps/id_3c487ed38.npy'), WindowsPath('C:/Users/animeshs/GD/stanford-covid-vaccine/bpps/id_3c50a5720.npy'), WindowsPath('C:/Users/animeshs/GD/stanford-covid-vaccine/bpps/id_3c55e48fb.npy'), WindowsPath('C:/Users/animeshs/GD/stanford-covid-vaccine/bpps/id_3c6c18b3f.npy'), WindowsPath('C:/Users/animeshs/GD/stanford-covid-vaccine/bpps/id_3c74c0060.npy'), WindowsPath('C:/Users/animeshs/GD/stanford-covid-vaccine/bpps/id_3c79adcdb.npy'), WindowsPath('C:/Users/animeshs/GD/stanford-covid-vaccine/bpps/id_3c7eac45d.npy'), WindowsPath('C:/Users/animeshs/GD/stanford-covid-vaccine/bpps/id_3c965550b.npy'), WindowsPath('C:/Users/animeshs/GD/stanford-covid-vaccine/bpps/id_3c9bef3be.npy'), WindowsPath('C:/Users/animeshs/GD/stanford-covid-vaccine/bpps/id_3c9cc9483.npy'), WindowsPath('C:/Users/animeshs/GD/stanford-covid-vaccine/bpps/id_3ca6cffdd.npy'), WindowsPath('C:/Users/animeshs/GD/stanford-covid-vaccine/bpps/id_3ca9412b4.npy'), WindowsPath('C:/Users/animeshs/GD/stanford-covid-vaccine/bpps/id_3cab3bb66.npy'), WindowsPath('C:/Users/animeshs/GD/stanford-covid-vaccine/bpps/id_3cd578d6b.npy'), WindowsPath('C:/Users/animeshs/GD/stanford-covid-vaccine/bpps/id_3cde7a007.npy'), WindowsPath('C:/Users/animeshs/GD/stanford-covid-vaccine/bpps/id_3cf3dcec9.npy'), WindowsPath('C:/Users/animeshs/GD/stanford-covid-vaccine/bpps/id_3d059a8a9.npy'), WindowsPath('C:/Users/animeshs/GD/stanford-covid-vaccine/bpps/id_3d1912c7f.npy'), WindowsPath('C:/Users/animeshs/GD/stanford-covid-vaccine/bpps/id_3d1a2275c.npy'), WindowsPath('C:/Users/animeshs/GD/stanford-covid-vaccine/bpps/id_3d1c4fc4f.npy'), WindowsPath('C:/Users/animeshs/GD/stanford-covid-vaccine/bpps/id_3d2342879.npy'), WindowsPath('C:/Users/animeshs/GD/stanford-covid-vaccine/bpps/id_3d2727bb1.npy'), WindowsPath('C:/Users/animeshs/GD/stanford-covid-vaccine/bpps/id_3d54d35de.npy'), WindowsPath('C:/Users/animeshs/GD/stanford-covid-vaccine/bpps/id_3d54f5f16.npy'), WindowsPath('C:/Users/animeshs/GD/stanford-covid-vaccine/bpps/id_3d633ae65.npy'), WindowsPath('C:/Users/animeshs/GD/stanford-covid-vaccine/bpps/id_3d86606d6.npy'), WindowsPath('C:/Users/animeshs/GD/stanford-covid-vaccine/bpps/id_3d93c36a3.npy'), WindowsPath('C:/Users/animeshs/GD/stanford-covid-vaccine/bpps/id_3d96f7a21.npy'), WindowsPath('C:/Users/animeshs/GD/stanford-covid-vaccine/bpps/id_3da0a3b4a.npy'), WindowsPath('C:/Users/animeshs/GD/stanford-covid-vaccine/bpps/id_3daeb8785.npy'), WindowsPath('C:/Users/animeshs/GD/stanford-covid-vaccine/bpps/id_3db1c0efa.npy'), WindowsPath('C:/Users/animeshs/GD/stanford-covid-vaccine/bpps/id_3db6f6864.npy'), WindowsPath('C:/Users/animeshs/GD/stanford-covid-vaccine/bpps/id_3db9689ea.npy'), WindowsPath('C:/Users/animeshs/GD/stanford-covid-vaccine/bpps/id_3dbf1ba27.npy'), WindowsPath('C:/Users/animeshs/GD/stanford-covid-vaccine/bpps/id_3dc6a250f.npy'), WindowsPath('C:/Users/animeshs/GD/stanford-covid-vaccine/bpps/id_3dd6253b9.npy'), WindowsPath('C:/Users/animeshs/GD/stanford-covid-vaccine/bpps/id_3dd6e7612.npy'), WindowsPath('C:/Users/animeshs/GD/stanford-covid-vaccine/bpps/id_3dec4224f.npy'), WindowsPath('C:/Users/animeshs/GD/stanford-covid-vaccine/bpps/id_3e2bb7a87.npy'), WindowsPath('C:/Users/animeshs/GD/stanford-covid-vaccine/bpps/id_3e41017e9.npy'), WindowsPath('C:/Users/animeshs/GD/stanford-covid-vaccine/bpps/id_3e45056bd.npy'), WindowsPath('C:/Users/animeshs/GD/stanford-covid-vaccine/bpps/id_3e51319c2.npy'), WindowsPath('C:/Users/animeshs/GD/stanford-covid-vaccine/bpps/id_3e6d15d7c.npy'), WindowsPath('C:/Users/animeshs/GD/stanford-covid-vaccine/bpps/id_3e9649922.npy'), WindowsPath('C:/Users/animeshs/GD/stanford-covid-vaccine/bpps/id_3eb3b1219.npy'), WindowsPath('C:/Users/animeshs/GD/stanford-covid-vaccine/bpps/id_3eb4d13d2.npy'), WindowsPath('C:/Users/animeshs/GD/stanford-covid-vaccine/bpps/id_3ed87cfc4.npy'), WindowsPath('C:/Users/animeshs/GD/stanford-covid-vaccine/bpps/id_3ee1e3008.npy'), WindowsPath('C:/Users/animeshs/GD/stanford-covid-vaccine/bpps/id_3ee960d5d.npy'), WindowsPath('C:/Users/animeshs/GD/stanford-covid-vaccine/bpps/id_3ef9abf5c.npy'), WindowsPath('C:/Users/animeshs/GD/stanford-covid-vaccine/bpps/id_3f0a3e5bb.npy'), WindowsPath('C:/Users/animeshs/GD/stanford-covid-vaccine/bpps/id_3f120bbd7.npy'), WindowsPath('C:/Users/animeshs/GD/stanford-covid-vaccine/bpps/id_3f1546f7b.npy'), WindowsPath('C:/Users/animeshs/GD/stanford-covid-vaccine/bpps/id_3f1fd5121.npy'), WindowsPath('C:/Users/animeshs/GD/stanford-covid-vaccine/bpps/id_3f31eb2a1.npy'), WindowsPath('C:/Users/animeshs/GD/stanford-covid-vaccine/bpps/id_3f54fd97b.npy'), WindowsPath('C:/Users/animeshs/GD/stanford-covid-vaccine/bpps/id_3f5ca67ec.npy'), WindowsPath('C:/Users/animeshs/GD/stanford-covid-vaccine/bpps/id_3f5da9c43.npy'), WindowsPath('C:/Users/animeshs/GD/stanford-covid-vaccine/bpps/id_3f652df8f.npy'), WindowsPath('C:/Users/animeshs/GD/stanford-covid-vaccine/bpps/id_3f6a3e784.npy'), WindowsPath('C:/Users/animeshs/GD/stanford-covid-vaccine/bpps/id_3f81dc4e2.npy'), WindowsPath('C:/Users/animeshs/GD/stanford-covid-vaccine/bpps/id_3f870e501.npy'), WindowsPath('C:/Users/animeshs/GD/stanford-covid-vaccine/bpps/id_3f8c56752.npy'), WindowsPath('C:/Users/animeshs/GD/stanford-covid-vaccine/bpps/id_3f8d8758a.npy'), WindowsPath('C:/Users/animeshs/GD/stanford-covid-vaccine/bpps/id_3f8f8dd92.npy'), WindowsPath('C:/Users/animeshs/GD/stanford-covid-vaccine/bpps/id_3f97b4361.npy'), WindowsPath('C:/Users/animeshs/GD/stanford-covid-vaccine/bpps/id_3f9945761.npy'), WindowsPath('C:/Users/animeshs/GD/stanford-covid-vaccine/bpps/id_3fa1b69aa.npy'), WindowsPath('C:/Users/animeshs/GD/stanford-covid-vaccine/bpps/id_3fa71a012.npy'), WindowsPath('C:/Users/animeshs/GD/stanford-covid-vaccine/bpps/id_3fa7f0df7.npy'), WindowsPath('C:/Users/animeshs/GD/stanford-covid-vaccine/bpps/id_3fb02843f.npy'), WindowsPath('C:/Users/animeshs/GD/stanford-covid-vaccine/bpps/id_3fdc19208.npy'), WindowsPath('C:/Users/animeshs/GD/stanford-covid-vaccine/bpps/id_3fe28e5f7.npy'), WindowsPath('C:/Users/animeshs/GD/stanford-covid-vaccine/bpps/id_4015c227e.npy'), WindowsPath('C:/Users/animeshs/GD/stanford-covid-vaccine/bpps/id_401feca21.npy'), WindowsPath('C:/Users/animeshs/GD/stanford-covid-vaccine/bpps/id_402053c6d.npy'), WindowsPath('C:/Users/animeshs/GD/stanford-covid-vaccine/bpps/id_40261dc2a.npy'), WindowsPath('C:/Users/animeshs/GD/stanford-covid-vaccine/bpps/id_402c50528.npy'), WindowsPath('C:/Users/animeshs/GD/stanford-covid-vaccine/bpps/id_404c67668.npy'), WindowsPath('C:/Users/animeshs/GD/stanford-covid-vaccine/bpps/id_405ae1609.npy'), WindowsPath('C:/Users/animeshs/GD/stanford-covid-vaccine/bpps/id_405e8ae0c.npy'), WindowsPath('C:/Users/animeshs/GD/stanford-covid-vaccine/bpps/id_4072ffc93.npy'), WindowsPath('C:/Users/animeshs/GD/stanford-covid-vaccine/bpps/id_408a0c829.npy'), WindowsPath('C:/Users/animeshs/GD/stanford-covid-vaccine/bpps/id_4095d6420.npy'), WindowsPath('C:/Users/animeshs/GD/stanford-covid-vaccine/bpps/id_40b67a14a.npy'), WindowsPath('C:/Users/animeshs/GD/stanford-covid-vaccine/bpps/id_40cc2171a.npy'), WindowsPath('C:/Users/animeshs/GD/stanford-covid-vaccine/bpps/id_40ce3e243.npy'), WindowsPath('C:/Users/animeshs/GD/stanford-covid-vaccine/bpps/id_40df7508f.npy'), WindowsPath('C:/Users/animeshs/GD/stanford-covid-vaccine/bpps/id_40ee8c4ba.npy'), WindowsPath('C:/Users/animeshs/GD/stanford-covid-vaccine/bpps/id_40f4f6eed.npy'), WindowsPath('C:/Users/animeshs/GD/stanford-covid-vaccine/bpps/id_40f52a81b.npy'), WindowsPath('C:/Users/animeshs/GD/stanford-covid-vaccine/bpps/id_40f7ee940.npy'), WindowsPath('C:/Users/animeshs/GD/stanford-covid-vaccine/bpps/id_40fc0f782.npy'), WindowsPath('C:/Users/animeshs/GD/stanford-covid-vaccine/bpps/id_40fdd11a7.npy'), WindowsPath('C:/Users/animeshs/GD/stanford-covid-vaccine/bpps/id_4101b9602.npy'), WindowsPath('C:/Users/animeshs/GD/stanford-covid-vaccine/bpps/id_410274ce9.npy'), WindowsPath('C:/Users/animeshs/GD/stanford-covid-vaccine/bpps/id_410e61f13.npy'), WindowsPath('C:/Users/animeshs/GD/stanford-covid-vaccine/bpps/id_4113e89a0.npy'), WindowsPath('C:/Users/animeshs/GD/stanford-covid-vaccine/bpps/id_4114c42cc.npy'), WindowsPath('C:/Users/animeshs/GD/stanford-covid-vaccine/bpps/id_41188d5bb.npy'), WindowsPath('C:/Users/animeshs/GD/stanford-covid-vaccine/bpps/id_412489dfb.npy'), WindowsPath('C:/Users/animeshs/GD/stanford-covid-vaccine/bpps/id_4128645f6.npy'), WindowsPath('C:/Users/animeshs/GD/stanford-covid-vaccine/bpps/id_413606099.npy'), WindowsPath('C:/Users/animeshs/GD/stanford-covid-vaccine/bpps/id_414511638.npy'), WindowsPath('C:/Users/animeshs/GD/stanford-covid-vaccine/bpps/id_414fb9ecc.npy'), WindowsPath('C:/Users/animeshs/GD/stanford-covid-vaccine/bpps/id_4159ea3af.npy'), WindowsPath('C:/Users/animeshs/GD/stanford-covid-vaccine/bpps/id_416ac6d59.npy'), WindowsPath('C:/Users/animeshs/GD/stanford-covid-vaccine/bpps/id_4184341fc.npy'), WindowsPath('C:/Users/animeshs/GD/stanford-covid-vaccine/bpps/id_418c78f9b.npy'), WindowsPath('C:/Users/animeshs/GD/stanford-covid-vaccine/bpps/id_41987bfa4.npy'), WindowsPath('C:/Users/animeshs/GD/stanford-covid-vaccine/bpps/id_419df2f80.npy'), WindowsPath('C:/Users/animeshs/GD/stanford-covid-vaccine/bpps/id_41a98d8f6.npy'), WindowsPath('C:/Users/animeshs/GD/stanford-covid-vaccine/bpps/id_41b373b2b.npy'), WindowsPath('C:/Users/animeshs/GD/stanford-covid-vaccine/bpps/id_41b67184e.npy'), WindowsPath('C:/Users/animeshs/GD/stanford-covid-vaccine/bpps/id_41c7b72ed.npy'), WindowsPath('C:/Users/animeshs/GD/stanford-covid-vaccine/bpps/id_41cea6370.npy'), WindowsPath('C:/Users/animeshs/GD/stanford-covid-vaccine/bpps/id_41d260a35.npy'), WindowsPath('C:/Users/animeshs/GD/stanford-covid-vaccine/bpps/id_41db17cb2.npy'), WindowsPath('C:/Users/animeshs/GD/stanford-covid-vaccine/bpps/id_41dbf65e5.npy'), WindowsPath('C:/Users/animeshs/GD/stanford-covid-vaccine/bpps/id_41fbfa2af.npy'), WindowsPath('C:/Users/animeshs/GD/stanford-covid-vaccine/bpps/id_4215e6821.npy'), WindowsPath('C:/Users/animeshs/GD/stanford-covid-vaccine/bpps/id_421b4f3a9.npy'), WindowsPath('C:/Users/animeshs/GD/stanford-covid-vaccine/bpps/id_4221e36c3.npy'), WindowsPath('C:/Users/animeshs/GD/stanford-covid-vaccine/bpps/id_4236d2aa8.npy'), WindowsPath('C:/Users/animeshs/GD/stanford-covid-vaccine/bpps/id_424309c8d.npy'), WindowsPath('C:/Users/animeshs/GD/stanford-covid-vaccine/bpps/id_4243c8c03.npy'), WindowsPath('C:/Users/animeshs/GD/stanford-covid-vaccine/bpps/id_424848d4d.npy'), WindowsPath('C:/Users/animeshs/GD/stanford-covid-vaccine/bpps/id_4264ef940.npy'), WindowsPath('C:/Users/animeshs/GD/stanford-covid-vaccine/bpps/id_4267d3bfc.npy'), WindowsPath('C:/Users/animeshs/GD/stanford-covid-vaccine/bpps/id_426f6911f.npy'), WindowsPath('C:/Users/animeshs/GD/stanford-covid-vaccine/bpps/id_42ab8dfef.npy'), WindowsPath('C:/Users/animeshs/GD/stanford-covid-vaccine/bpps/id_42ac9ec19.npy'), WindowsPath('C:/Users/animeshs/GD/stanford-covid-vaccine/bpps/id_42af39ddf.npy'), WindowsPath('C:/Users/animeshs/GD/stanford-covid-vaccine/bpps/id_42ba8fd77.npy'), WindowsPath('C:/Users/animeshs/GD/stanford-covid-vaccine/bpps/id_42c4bce81.npy'), WindowsPath('C:/Users/animeshs/GD/stanford-covid-vaccine/bpps/id_42c5a3dcf.npy'), WindowsPath('C:/Users/animeshs/GD/stanford-covid-vaccine/bpps/id_42e1c7e31.npy'), WindowsPath('C:/Users/animeshs/GD/stanford-covid-vaccine/bpps/id_42ee80e52.npy'), WindowsPath('C:/Users/animeshs/GD/stanford-covid-vaccine/bpps/id_42f288b9f.npy'), WindowsPath('C:/Users/animeshs/GD/stanford-covid-vaccine/bpps/id_430be1aaf.npy'), WindowsPath('C:/Users/animeshs/GD/stanford-covid-vaccine/bpps/id_4314782c3.npy'), WindowsPath('C:/Users/animeshs/GD/stanford-covid-vaccine/bpps/id_431579a4b.npy'), WindowsPath('C:/Users/animeshs/GD/stanford-covid-vaccine/bpps/id_432fccd12.npy'), WindowsPath('C:/Users/animeshs/GD/stanford-covid-vaccine/bpps/id_43398f01f.npy'), WindowsPath('C:/Users/animeshs/GD/stanford-covid-vaccine/bpps/id_43491b5ba.npy'), WindowsPath('C:/Users/animeshs/GD/stanford-covid-vaccine/bpps/id_435373965.npy'), WindowsPath('C:/Users/animeshs/GD/stanford-covid-vaccine/bpps/id_43564595b.npy'), WindowsPath('C:/Users/animeshs/GD/stanford-covid-vaccine/bpps/id_4365b8dc0.npy'), WindowsPath('C:/Users/animeshs/GD/stanford-covid-vaccine/bpps/id_436c440f0.npy'), WindowsPath('C:/Users/animeshs/GD/stanford-covid-vaccine/bpps/id_436c64820.npy'), WindowsPath('C:/Users/animeshs/GD/stanford-covid-vaccine/bpps/id_4371fb900.npy'), WindowsPath('C:/Users/animeshs/GD/stanford-covid-vaccine/bpps/id_4375dedfd.npy'), WindowsPath('C:/Users/animeshs/GD/stanford-covid-vaccine/bpps/id_4391ab97c.npy'), WindowsPath('C:/Users/animeshs/GD/stanford-covid-vaccine/bpps/id_4396c5cc6.npy'), WindowsPath('C:/Users/animeshs/GD/stanford-covid-vaccine/bpps/id_439b7495e.npy'), WindowsPath('C:/Users/animeshs/GD/stanford-covid-vaccine/bpps/id_43a17ff8d.npy'), WindowsPath('C:/Users/animeshs/GD/stanford-covid-vaccine/bpps/id_43a71abd9.npy'), WindowsPath('C:/Users/animeshs/GD/stanford-covid-vaccine/bpps/id_43bf26740.npy'), WindowsPath('C:/Users/animeshs/GD/stanford-covid-vaccine/bpps/id_43c18d146.npy'), WindowsPath('C:/Users/animeshs/GD/stanford-covid-vaccine/bpps/id_43cbbe539.npy'), WindowsPath('C:/Users/animeshs/GD/stanford-covid-vaccine/bpps/id_43e5fa95f.npy'), WindowsPath('C:/Users/animeshs/GD/stanford-covid-vaccine/bpps/id_4405103bc.npy'), WindowsPath('C:/Users/animeshs/GD/stanford-covid-vaccine/bpps/id_441409e57.npy'), WindowsPath('C:/Users/animeshs/GD/stanford-covid-vaccine/bpps/id_4419996c3.npy'), WindowsPath('C:/Users/animeshs/GD/stanford-covid-vaccine/bpps/id_4425e174f.npy'), WindowsPath('C:/Users/animeshs/GD/stanford-covid-vaccine/bpps/id_4428a0b90.npy'), WindowsPath('C:/Users/animeshs/GD/stanford-covid-vaccine/bpps/id_443eddfba.npy'), WindowsPath('C:/Users/animeshs/GD/stanford-covid-vaccine/bpps/id_444033473.npy'), WindowsPath('C:/Users/animeshs/GD/stanford-covid-vaccine/bpps/id_444490add.npy'), WindowsPath('C:/Users/animeshs/GD/stanford-covid-vaccine/bpps/id_444978315.npy'), WindowsPath('C:/Users/animeshs/GD/stanford-covid-vaccine/bpps/id_445435ef2.npy'), WindowsPath('C:/Users/animeshs/GD/stanford-covid-vaccine/bpps/id_445e70693.npy'), WindowsPath('C:/Users/animeshs/GD/stanford-covid-vaccine/bpps/id_4466d5ae8.npy'), WindowsPath('C:/Users/animeshs/GD/stanford-covid-vaccine/bpps/id_447964eb7.npy'), WindowsPath('C:/Users/animeshs/GD/stanford-covid-vaccine/bpps/id_447b69565.npy'), WindowsPath('C:/Users/animeshs/GD/stanford-covid-vaccine/bpps/id_449557b9c.npy'), WindowsPath('C:/Users/animeshs/GD/stanford-covid-vaccine/bpps/id_44a74701e.npy'), WindowsPath('C:/Users/animeshs/GD/stanford-covid-vaccine/bpps/id_44bf9620b.npy'), WindowsPath('C:/Users/animeshs/GD/stanford-covid-vaccine/bpps/id_44c21cbd1.npy'), WindowsPath('C:/Users/animeshs/GD/stanford-covid-vaccine/bpps/id_44c62ffa9.npy'), WindowsPath('C:/Users/animeshs/GD/stanford-covid-vaccine/bpps/id_44cfeb8cd.npy'), WindowsPath('C:/Users/animeshs/GD/stanford-covid-vaccine/bpps/id_44d4b8729.npy'), WindowsPath('C:/Users/animeshs/GD/stanford-covid-vaccine/bpps/id_44d8da55c.npy'), WindowsPath('C:/Users/animeshs/GD/stanford-covid-vaccine/bpps/id_44e9890c4.npy'), WindowsPath('C:/Users/animeshs/GD/stanford-covid-vaccine/bpps/id_44e9f5490.npy'), WindowsPath('C:/Users/animeshs/GD/stanford-covid-vaccine/bpps/id_44f903db2.npy'), WindowsPath('C:/Users/animeshs/GD/stanford-covid-vaccine/bpps/id_44f944832.npy'), WindowsPath('C:/Users/animeshs/GD/stanford-covid-vaccine/bpps/id_44fa91353.npy'), WindowsPath('C:/Users/animeshs/GD/stanford-covid-vaccine/bpps/id_4526edc11.npy'), WindowsPath('C:/Users/animeshs/GD/stanford-covid-vaccine/bpps/id_452b0afe8.npy'), WindowsPath('C:/Users/animeshs/GD/stanford-covid-vaccine/bpps/id_453a14fe5.npy'), WindowsPath('C:/Users/animeshs/GD/stanford-covid-vaccine/bpps/id_453c1de17.npy'), WindowsPath('C:/Users/animeshs/GD/stanford-covid-vaccine/bpps/id_4555b128d.npy'), WindowsPath('C:/Users/animeshs/GD/stanford-covid-vaccine/bpps/id_455955004.npy'), WindowsPath('C:/Users/animeshs/GD/stanford-covid-vaccine/bpps/id_456622821.npy'), WindowsPath('C:/Users/animeshs/GD/stanford-covid-vaccine/bpps/id_456ee04a3.npy'), WindowsPath('C:/Users/animeshs/GD/stanford-covid-vaccine/bpps/id_4576a4054.npy'), WindowsPath('C:/Users/animeshs/GD/stanford-covid-vaccine/bpps/id_459a0aa1c.npy'), WindowsPath('C:/Users/animeshs/GD/stanford-covid-vaccine/bpps/id_45ab490c3.npy'), WindowsPath('C:/Users/animeshs/GD/stanford-covid-vaccine/bpps/id_45b7d3373.npy'), WindowsPath('C:/Users/animeshs/GD/stanford-covid-vaccine/bpps/id_45d8db08b.npy'), WindowsPath('C:/Users/animeshs/GD/stanford-covid-vaccine/bpps/id_45d979588.npy'), WindowsPath('C:/Users/animeshs/GD/stanford-covid-vaccine/bpps/id_45d9d2280.npy'), WindowsPath('C:/Users/animeshs/GD/stanford-covid-vaccine/bpps/id_45dba7199.npy'), WindowsPath('C:/Users/animeshs/GD/stanford-covid-vaccine/bpps/id_45dd07962.npy'), WindowsPath('C:/Users/animeshs/GD/stanford-covid-vaccine/bpps/id_45df9e49d.npy'), WindowsPath('C:/Users/animeshs/GD/stanford-covid-vaccine/bpps/id_45f62ef71.npy'), WindowsPath('C:/Users/animeshs/GD/stanford-covid-vaccine/bpps/id_461a0691e.npy'), WindowsPath('C:/Users/animeshs/GD/stanford-covid-vaccine/bpps/id_461bd8ddb.npy'), WindowsPath('C:/Users/animeshs/GD/stanford-covid-vaccine/bpps/id_463fbfbb1.npy'), WindowsPath('C:/Users/animeshs/GD/stanford-covid-vaccine/bpps/id_46452ae75.npy'), WindowsPath('C:/Users/animeshs/GD/stanford-covid-vaccine/bpps/id_4656a46a3.npy'), WindowsPath('C:/Users/animeshs/GD/stanford-covid-vaccine/bpps/id_46577c2eb.npy'), WindowsPath('C:/Users/animeshs/GD/stanford-covid-vaccine/bpps/id_465ffdbdd.npy'), WindowsPath('C:/Users/animeshs/GD/stanford-covid-vaccine/bpps/id_466f30d2f.npy'), WindowsPath('C:/Users/animeshs/GD/stanford-covid-vaccine/bpps/id_467a5548c.npy'), WindowsPath('C:/Users/animeshs/GD/stanford-covid-vaccine/bpps/id_467e4f4e9.npy'), WindowsPath('C:/Users/animeshs/GD/stanford-covid-vaccine/bpps/id_467ef420b.npy'), WindowsPath('C:/Users/animeshs/GD/stanford-covid-vaccine/bpps/id_468300749.npy'), WindowsPath('C:/Users/animeshs/GD/stanford-covid-vaccine/bpps/id_46854718c.npy'), WindowsPath('C:/Users/animeshs/GD/stanford-covid-vaccine/bpps/id_468a56589.npy'), WindowsPath('C:/Users/animeshs/GD/stanford-covid-vaccine/bpps/id_46a2647c2.npy'), WindowsPath('C:/Users/animeshs/GD/stanford-covid-vaccine/bpps/id_46ab89594.npy'), WindowsPath('C:/Users/animeshs/GD/stanford-covid-vaccine/bpps/id_46ad44932.npy'), WindowsPath('C:/Users/animeshs/GD/stanford-covid-vaccine/bpps/id_46b0ac461.npy'), WindowsPath('C:/Users/animeshs/GD/stanford-covid-vaccine/bpps/id_46baaa850.npy'), WindowsPath('C:/Users/animeshs/GD/stanford-covid-vaccine/bpps/id_46c02baf2.npy'), WindowsPath('C:/Users/animeshs/GD/stanford-covid-vaccine/bpps/id_46c58cde9.npy'), WindowsPath('C:/Users/animeshs/GD/stanford-covid-vaccine/bpps/id_46ca0667b.npy'), WindowsPath('C:/Users/animeshs/GD/stanford-covid-vaccine/bpps/id_46d9cce33.npy'), WindowsPath('C:/Users/animeshs/GD/stanford-covid-vaccine/bpps/id_46ef98150.npy'), WindowsPath('C:/Users/animeshs/GD/stanford-covid-vaccine/bpps/id_46f806598.npy'), WindowsPath('C:/Users/animeshs/GD/stanford-covid-vaccine/bpps/id_470a5fbe3.npy'), WindowsPath('C:/Users/animeshs/GD/stanford-covid-vaccine/bpps/id_470c2f3f2.npy'), WindowsPath('C:/Users/animeshs/GD/stanford-covid-vaccine/bpps/id_471961bfd.npy'), WindowsPath('C:/Users/animeshs/GD/stanford-covid-vaccine/bpps/id_471c59bb8.npy'), WindowsPath('C:/Users/animeshs/GD/stanford-covid-vaccine/bpps/id_471d1dee0.npy'), WindowsPath('C:/Users/animeshs/GD/stanford-covid-vaccine/bpps/id_473acd550.npy'), WindowsPath('C:/Users/animeshs/GD/stanford-covid-vaccine/bpps/id_473c94c9e.npy'), WindowsPath('C:/Users/animeshs/GD/stanford-covid-vaccine/bpps/id_47408a1d8.npy'), WindowsPath('C:/Users/animeshs/GD/stanford-covid-vaccine/bpps/id_4741a204c.npy'), WindowsPath('C:/Users/animeshs/GD/stanford-covid-vaccine/bpps/id_474347d55.npy'), WindowsPath('C:/Users/animeshs/GD/stanford-covid-vaccine/bpps/id_474a3f8bc.npy'), WindowsPath('C:/Users/animeshs/GD/stanford-covid-vaccine/bpps/id_47519d856.npy'), WindowsPath('C:/Users/animeshs/GD/stanford-covid-vaccine/bpps/id_475bad1bb.npy'), WindowsPath('C:/Users/animeshs/GD/stanford-covid-vaccine/bpps/id_475cf46ed.npy'), WindowsPath('C:/Users/animeshs/GD/stanford-covid-vaccine/bpps/id_4775f1bad.npy'), WindowsPath('C:/Users/animeshs/GD/stanford-covid-vaccine/bpps/id_47781df55.npy'), WindowsPath('C:/Users/animeshs/GD/stanford-covid-vaccine/bpps/id_477acecda.npy'), WindowsPath('C:/Users/animeshs/GD/stanford-covid-vaccine/bpps/id_47851cd46.npy'), WindowsPath('C:/Users/animeshs/GD/stanford-covid-vaccine/bpps/id_4798ed79d.npy'), WindowsPath('C:/Users/animeshs/GD/stanford-covid-vaccine/bpps/id_4799bc62c.npy'), WindowsPath('C:/Users/animeshs/GD/stanford-covid-vaccine/bpps/id_479d5a9b0.npy'), WindowsPath('C:/Users/animeshs/GD/stanford-covid-vaccine/bpps/id_47a8bb9fa.npy'), WindowsPath('C:/Users/animeshs/GD/stanford-covid-vaccine/bpps/id_47baa6e5a.npy'), WindowsPath('C:/Users/animeshs/GD/stanford-covid-vaccine/bpps/id_47c4df6cd.npy'), WindowsPath('C:/Users/animeshs/GD/stanford-covid-vaccine/bpps/id_47c695a36.npy'), WindowsPath('C:/Users/animeshs/GD/stanford-covid-vaccine/bpps/id_47ca37d88.npy'), WindowsPath('C:/Users/animeshs/GD/stanford-covid-vaccine/bpps/id_47ecb057c.npy'), WindowsPath('C:/Users/animeshs/GD/stanford-covid-vaccine/bpps/id_47fc78659.npy'), WindowsPath('C:/Users/animeshs/GD/stanford-covid-vaccine/bpps/id_4800342f0.npy'), WindowsPath('C:/Users/animeshs/GD/stanford-covid-vaccine/bpps/id_48153ed84.npy'), WindowsPath('C:/Users/animeshs/GD/stanford-covid-vaccine/bpps/id_4818bfd8f.npy'), WindowsPath('C:/Users/animeshs/GD/stanford-covid-vaccine/bpps/id_481942778.npy'), WindowsPath('C:/Users/animeshs/GD/stanford-covid-vaccine/bpps/id_4823a5da7.npy'), WindowsPath('C:/Users/animeshs/GD/stanford-covid-vaccine/bpps/id_482410b6f.npy'), WindowsPath('C:/Users/animeshs/GD/stanford-covid-vaccine/bpps/id_4825bb697.npy'), WindowsPath('C:/Users/animeshs/GD/stanford-covid-vaccine/bpps/id_48273a6c9.npy'), WindowsPath('C:/Users/animeshs/GD/stanford-covid-vaccine/bpps/id_4839d8500.npy'), WindowsPath('C:/Users/animeshs/GD/stanford-covid-vaccine/bpps/id_485abbecd.npy'), WindowsPath('C:/Users/animeshs/GD/stanford-covid-vaccine/bpps/id_48655f9ff.npy'), WindowsPath('C:/Users/animeshs/GD/stanford-covid-vaccine/bpps/id_48707f3c6.npy'), WindowsPath('C:/Users/animeshs/GD/stanford-covid-vaccine/bpps/id_488770fcf.npy'), WindowsPath('C:/Users/animeshs/GD/stanford-covid-vaccine/bpps/id_4888556c8.npy'), WindowsPath('C:/Users/animeshs/GD/stanford-covid-vaccine/bpps/id_488d0890b.npy'), WindowsPath('C:/Users/animeshs/GD/stanford-covid-vaccine/bpps/id_48a3127c9.npy'), WindowsPath('C:/Users/animeshs/GD/stanford-covid-vaccine/bpps/id_48acd4aab.npy'), WindowsPath('C:/Users/animeshs/GD/stanford-covid-vaccine/bpps/id_48af6873c.npy'), WindowsPath('C:/Users/animeshs/GD/stanford-covid-vaccine/bpps/id_48c920ead.npy'), WindowsPath('C:/Users/animeshs/GD/stanford-covid-vaccine/bpps/id_48d22a904.npy'), WindowsPath('C:/Users/animeshs/GD/stanford-covid-vaccine/bpps/id_48d4998db.npy'), WindowsPath('C:/Users/animeshs/GD/stanford-covid-vaccine/bpps/id_48d7dcc35.npy'), WindowsPath('C:/Users/animeshs/GD/stanford-covid-vaccine/bpps/id_48d837f01.npy'), WindowsPath('C:/Users/animeshs/GD/stanford-covid-vaccine/bpps/id_48eb4ed1a.npy'), WindowsPath('C:/Users/animeshs/GD/stanford-covid-vaccine/bpps/id_48fab9f25.npy'), WindowsPath('C:/Users/animeshs/GD/stanford-covid-vaccine/bpps/id_48fc78f1b.npy'), WindowsPath('C:/Users/animeshs/GD/stanford-covid-vaccine/bpps/id_48ffca7cd.npy'), WindowsPath('C:/Users/animeshs/GD/stanford-covid-vaccine/bpps/id_490c23cac.npy'), WindowsPath('C:/Users/animeshs/GD/stanford-covid-vaccine/bpps/id_4912c2fcb.npy'), WindowsPath('C:/Users/animeshs/GD/stanford-covid-vaccine/bpps/id_49181fc43.npy'), WindowsPath('C:/Users/animeshs/GD/stanford-covid-vaccine/bpps/id_4920b5e66.npy'), WindowsPath('C:/Users/animeshs/GD/stanford-covid-vaccine/bpps/id_49281b64f.npy'), WindowsPath('C:/Users/animeshs/GD/stanford-covid-vaccine/bpps/id_493314151.npy'), WindowsPath('C:/Users/animeshs/GD/stanford-covid-vaccine/bpps/id_49345d64e.npy'), WindowsPath('C:/Users/animeshs/GD/stanford-covid-vaccine/bpps/id_493ddffdf.npy'), WindowsPath('C:/Users/animeshs/GD/stanford-covid-vaccine/bpps/id_494960321.npy'), WindowsPath('C:/Users/animeshs/GD/stanford-covid-vaccine/bpps/id_494c566bf.npy'), WindowsPath('C:/Users/animeshs/GD/stanford-covid-vaccine/bpps/id_494eefa0e.npy'), WindowsPath('C:/Users/animeshs/GD/stanford-covid-vaccine/bpps/id_495f5ed3f.npy'), WindowsPath('C:/Users/animeshs/GD/stanford-covid-vaccine/bpps/id_4961df203.npy'), WindowsPath('C:/Users/animeshs/GD/stanford-covid-vaccine/bpps/id_4966e10e7.npy'), WindowsPath('C:/Users/animeshs/GD/stanford-covid-vaccine/bpps/id_497b527d7.npy'), WindowsPath('C:/Users/animeshs/GD/stanford-covid-vaccine/bpps/id_497fab95f.npy'), WindowsPath('C:/Users/animeshs/GD/stanford-covid-vaccine/bpps/id_498c1c993.npy'), WindowsPath('C:/Users/animeshs/GD/stanford-covid-vaccine/bpps/id_499db7d53.npy'), WindowsPath('C:/Users/animeshs/GD/stanford-covid-vaccine/bpps/id_49a4529d9.npy'), WindowsPath('C:/Users/animeshs/GD/stanford-covid-vaccine/bpps/id_49a48b1eb.npy'), WindowsPath('C:/Users/animeshs/GD/stanford-covid-vaccine/bpps/id_49bb9474a.npy'), WindowsPath('C:/Users/animeshs/GD/stanford-covid-vaccine/bpps/id_49be22dae.npy'), WindowsPath('C:/Users/animeshs/GD/stanford-covid-vaccine/bpps/id_49cf087a5.npy'), WindowsPath('C:/Users/animeshs/GD/stanford-covid-vaccine/bpps/id_49d1dbdd3.npy'), WindowsPath('C:/Users/animeshs/GD/stanford-covid-vaccine/bpps/id_49d447020.npy'), WindowsPath('C:/Users/animeshs/GD/stanford-covid-vaccine/bpps/id_49e1bae90.npy'), WindowsPath('C:/Users/animeshs/GD/stanford-covid-vaccine/bpps/id_49e8d07c0.npy'), WindowsPath('C:/Users/animeshs/GD/stanford-covid-vaccine/bpps/id_49efbf536.npy'), WindowsPath('C:/Users/animeshs/GD/stanford-covid-vaccine/bpps/id_49f2af26e.npy'), WindowsPath('C:/Users/animeshs/GD/stanford-covid-vaccine/bpps/id_49fc81bb4.npy'), WindowsPath('C:/Users/animeshs/GD/stanford-covid-vaccine/bpps/id_4a042fd8e.npy'), WindowsPath('C:/Users/animeshs/GD/stanford-covid-vaccine/bpps/id_4a142b968.npy'), WindowsPath('C:/Users/animeshs/GD/stanford-covid-vaccine/bpps/id_4a1d752ed.npy'), WindowsPath('C:/Users/animeshs/GD/stanford-covid-vaccine/bpps/id_4a2d6e031.npy'), WindowsPath('C:/Users/animeshs/GD/stanford-covid-vaccine/bpps/id_4a2f7a25b.npy'), WindowsPath('C:/Users/animeshs/GD/stanford-covid-vaccine/bpps/id_4a320ae6f.npy'), WindowsPath('C:/Users/animeshs/GD/stanford-covid-vaccine/bpps/id_4a3c62839.npy'), WindowsPath('C:/Users/animeshs/GD/stanford-covid-vaccine/bpps/id_4a4330088.npy'), WindowsPath('C:/Users/animeshs/GD/stanford-covid-vaccine/bpps/id_4a5e707f5.npy'), WindowsPath('C:/Users/animeshs/GD/stanford-covid-vaccine/bpps/id_4a606be32.npy'), WindowsPath('C:/Users/animeshs/GD/stanford-covid-vaccine/bpps/id_4a63e2da6.npy'), WindowsPath('C:/Users/animeshs/GD/stanford-covid-vaccine/bpps/id_4a9059e63.npy'), WindowsPath('C:/Users/animeshs/GD/stanford-covid-vaccine/bpps/id_4a932be7b.npy'), WindowsPath('C:/Users/animeshs/GD/stanford-covid-vaccine/bpps/id_4ab897483.npy'), WindowsPath('C:/Users/animeshs/GD/stanford-covid-vaccine/bpps/id_4abae33ae.npy'), WindowsPath('C:/Users/animeshs/GD/stanford-covid-vaccine/bpps/id_4abfc08e4.npy'), WindowsPath('C:/Users/animeshs/GD/stanford-covid-vaccine/bpps/id_4ac437619.npy'), WindowsPath('C:/Users/animeshs/GD/stanford-covid-vaccine/bpps/id_4ac4629b1.npy'), WindowsPath('C:/Users/animeshs/GD/stanford-covid-vaccine/bpps/id_4ad815cd5.npy'), WindowsPath('C:/Users/animeshs/GD/stanford-covid-vaccine/bpps/id_4ae627a4c.npy'), WindowsPath('C:/Users/animeshs/GD/stanford-covid-vaccine/bpps/id_4b18f6005.npy'), WindowsPath('C:/Users/animeshs/GD/stanford-covid-vaccine/bpps/id_4b1e8e6cd.npy'), WindowsPath('C:/Users/animeshs/GD/stanford-covid-vaccine/bpps/id_4b249377f.npy'), WindowsPath('C:/Users/animeshs/GD/stanford-covid-vaccine/bpps/id_4b28b8196.npy'), WindowsPath('C:/Users/animeshs/GD/stanford-covid-vaccine/bpps/id_4b29de1ad.npy'), WindowsPath('C:/Users/animeshs/GD/stanford-covid-vaccine/bpps/id_4b2f1e5a3.npy'), WindowsPath('C:/Users/animeshs/GD/stanford-covid-vaccine/bpps/id_4b367d6f2.npy'), WindowsPath('C:/Users/animeshs/GD/stanford-covid-vaccine/bpps/id_4b37616cb.npy'), WindowsPath('C:/Users/animeshs/GD/stanford-covid-vaccine/bpps/id_4b49ea656.npy'), WindowsPath('C:/Users/animeshs/GD/stanford-covid-vaccine/bpps/id_4b5b0186f.npy'), WindowsPath('C:/Users/animeshs/GD/stanford-covid-vaccine/bpps/id_4b78913da.npy'), WindowsPath('C:/Users/animeshs/GD/stanford-covid-vaccine/bpps/id_4b7bdaefc.npy'), WindowsPath('C:/Users/animeshs/GD/stanford-covid-vaccine/bpps/id_4b7dd84f2.npy'), WindowsPath('C:/Users/animeshs/GD/stanford-covid-vaccine/bpps/id_4b88a0003.npy'), WindowsPath('C:/Users/animeshs/GD/stanford-covid-vaccine/bpps/id_4b959b253.npy'), WindowsPath('C:/Users/animeshs/GD/stanford-covid-vaccine/bpps/id_4b9e2063e.npy'), WindowsPath('C:/Users/animeshs/GD/stanford-covid-vaccine/bpps/id_4ba021f44.npy'), WindowsPath('C:/Users/animeshs/GD/stanford-covid-vaccine/bpps/id_4bd0225a2.npy'), WindowsPath('C:/Users/animeshs/GD/stanford-covid-vaccine/bpps/id_4bd128173.npy'), WindowsPath('C:/Users/animeshs/GD/stanford-covid-vaccine/bpps/id_4bd14703c.npy'), WindowsPath('C:/Users/animeshs/GD/stanford-covid-vaccine/bpps/id_4be566a26.npy'), WindowsPath('C:/Users/animeshs/GD/stanford-covid-vaccine/bpps/id_4bf0f8d39.npy'), WindowsPath('C:/Users/animeshs/GD/stanford-covid-vaccine/bpps/id_4bfc99006.npy'), WindowsPath('C:/Users/animeshs/GD/stanford-covid-vaccine/bpps/id_4bfe793ad.npy'), WindowsPath('C:/Users/animeshs/GD/stanford-covid-vaccine/bpps/id_4c20bb261.npy'), WindowsPath('C:/Users/animeshs/GD/stanford-covid-vaccine/bpps/id_4c228acf4.npy'), WindowsPath('C:/Users/animeshs/GD/stanford-covid-vaccine/bpps/id_4c2b35558.npy'), WindowsPath('C:/Users/animeshs/GD/stanford-covid-vaccine/bpps/id_4c2e5bd8b.npy'), WindowsPath('C:/Users/animeshs/GD/stanford-covid-vaccine/bpps/id_4c32130e6.npy'), WindowsPath('C:/Users/animeshs/GD/stanford-covid-vaccine/bpps/id_4c46701cc.npy'), WindowsPath('C:/Users/animeshs/GD/stanford-covid-vaccine/bpps/id_4c50e9deb.npy'), WindowsPath('C:/Users/animeshs/GD/stanford-covid-vaccine/bpps/id_4c5cfa195.npy'), WindowsPath('C:/Users/animeshs/GD/stanford-covid-vaccine/bpps/id_4c7774152.npy'), WindowsPath('C:/Users/animeshs/GD/stanford-covid-vaccine/bpps/id_4ca00962c.npy'), WindowsPath('C:/Users/animeshs/GD/stanford-covid-vaccine/bpps/id_4ca6a1132.npy'), WindowsPath('C:/Users/animeshs/GD/stanford-covid-vaccine/bpps/id_4caa03447.npy'), WindowsPath('C:/Users/animeshs/GD/stanford-covid-vaccine/bpps/id_4cc792927.npy'), WindowsPath('C:/Users/animeshs/GD/stanford-covid-vaccine/bpps/id_4cd80f9f0.npy'), WindowsPath('C:/Users/animeshs/GD/stanford-covid-vaccine/bpps/id_4ce6a74af.npy'), WindowsPath('C:/Users/animeshs/GD/stanford-covid-vaccine/bpps/id_4cea46561.npy'), WindowsPath('C:/Users/animeshs/GD/stanford-covid-vaccine/bpps/id_4cec61d9a.npy'), WindowsPath('C:/Users/animeshs/GD/stanford-covid-vaccine/bpps/id_4cf4b36bb.npy'), WindowsPath('C:/Users/animeshs/GD/stanford-covid-vaccine/bpps/id_4cf88d2a9.npy'), WindowsPath('C:/Users/animeshs/GD/stanford-covid-vaccine/bpps/id_4d0c14707.npy'), WindowsPath('C:/Users/animeshs/GD/stanford-covid-vaccine/bpps/id_4d0dab150.npy'), WindowsPath('C:/Users/animeshs/GD/stanford-covid-vaccine/bpps/id_4d21b4e24.npy'), WindowsPath('C:/Users/animeshs/GD/stanford-covid-vaccine/bpps/id_4d369813f.npy'), WindowsPath('C:/Users/animeshs/GD/stanford-covid-vaccine/bpps/id_4d37b9edc.npy'), WindowsPath('C:/Users/animeshs/GD/stanford-covid-vaccine/bpps/id_4d4716d63.npy'), WindowsPath('C:/Users/animeshs/GD/stanford-covid-vaccine/bpps/id_4d5c88851.npy'), WindowsPath('C:/Users/animeshs/GD/stanford-covid-vaccine/bpps/id_4d65b1b11.npy'), WindowsPath('C:/Users/animeshs/GD/stanford-covid-vaccine/bpps/id_4d6f49158.npy'), WindowsPath('C:/Users/animeshs/GD/stanford-covid-vaccine/bpps/id_4d847279b.npy'), WindowsPath('C:/Users/animeshs/GD/stanford-covid-vaccine/bpps/id_4d93f1756.npy'), WindowsPath('C:/Users/animeshs/GD/stanford-covid-vaccine/bpps/id_4d9b00e87.npy'), WindowsPath('C:/Users/animeshs/GD/stanford-covid-vaccine/bpps/id_4d9b740cf.npy'), WindowsPath('C:/Users/animeshs/GD/stanford-covid-vaccine/bpps/id_4d9e01b6c.npy'), WindowsPath('C:/Users/animeshs/GD/stanford-covid-vaccine/bpps/id_4da2411cb.npy'), WindowsPath('C:/Users/animeshs/GD/stanford-covid-vaccine/bpps/id_4dd74c40c.npy'), WindowsPath('C:/Users/animeshs/GD/stanford-covid-vaccine/bpps/id_4dec51f2b.npy'), WindowsPath('C:/Users/animeshs/GD/stanford-covid-vaccine/bpps/id_4deea761a.npy'), WindowsPath('C:/Users/animeshs/GD/stanford-covid-vaccine/bpps/id_4df612909.npy'), WindowsPath('C:/Users/animeshs/GD/stanford-covid-vaccine/bpps/id_4df71d67c.npy'), WindowsPath('C:/Users/animeshs/GD/stanford-covid-vaccine/bpps/id_4dfe0869f.npy'), WindowsPath('C:/Users/animeshs/GD/stanford-covid-vaccine/bpps/id_4dff8ada4.npy'), WindowsPath('C:/Users/animeshs/GD/stanford-covid-vaccine/bpps/id_4e011753b.npy'), WindowsPath('C:/Users/animeshs/GD/stanford-covid-vaccine/bpps/id_4e190c5a9.npy'), WindowsPath('C:/Users/animeshs/GD/stanford-covid-vaccine/bpps/id_4e1926f86.npy'), WindowsPath('C:/Users/animeshs/GD/stanford-covid-vaccine/bpps/id_4e1daba91.npy'), WindowsPath('C:/Users/animeshs/GD/stanford-covid-vaccine/bpps/id_4e4aaa36e.npy'), WindowsPath('C:/Users/animeshs/GD/stanford-covid-vaccine/bpps/id_4e575dc57.npy'), WindowsPath('C:/Users/animeshs/GD/stanford-covid-vaccine/bpps/id_4e6636e5a.npy'), WindowsPath('C:/Users/animeshs/GD/stanford-covid-vaccine/bpps/id_4e76b9c96.npy'), WindowsPath('C:/Users/animeshs/GD/stanford-covid-vaccine/bpps/id_4e779e197.npy'), WindowsPath('C:/Users/animeshs/GD/stanford-covid-vaccine/bpps/id_4e8fc051e.npy'), WindowsPath('C:/Users/animeshs/GD/stanford-covid-vaccine/bpps/id_4e952945d.npy'), WindowsPath('C:/Users/animeshs/GD/stanford-covid-vaccine/bpps/id_4eaa1170c.npy'), WindowsPath('C:/Users/animeshs/GD/stanford-covid-vaccine/bpps/id_4ebf969d8.npy'), WindowsPath('C:/Users/animeshs/GD/stanford-covid-vaccine/bpps/id_4eca06da6.npy'), WindowsPath('C:/Users/animeshs/GD/stanford-covid-vaccine/bpps/id_4ecfb115f.npy'), WindowsPath('C:/Users/animeshs/GD/stanford-covid-vaccine/bpps/id_4ed53c323.npy'), WindowsPath('C:/Users/animeshs/GD/stanford-covid-vaccine/bpps/id_4ed8de0d6.npy'), WindowsPath('C:/Users/animeshs/GD/stanford-covid-vaccine/bpps/id_4eda2c5a5.npy'), WindowsPath('C:/Users/animeshs/GD/stanford-covid-vaccine/bpps/id_4f02106e3.npy'), WindowsPath('C:/Users/animeshs/GD/stanford-covid-vaccine/bpps/id_4f0601d33.npy'), WindowsPath('C:/Users/animeshs/GD/stanford-covid-vaccine/bpps/id_4f0cf4072.npy'), WindowsPath('C:/Users/animeshs/GD/stanford-covid-vaccine/bpps/id_4f10f065f.npy'), WindowsPath('C:/Users/animeshs/GD/stanford-covid-vaccine/bpps/id_4f16757d6.npy'), WindowsPath('C:/Users/animeshs/GD/stanford-covid-vaccine/bpps/id_4f3a09931.npy'), WindowsPath('C:/Users/animeshs/GD/stanford-covid-vaccine/bpps/id_4f4df2c24.npy'), WindowsPath('C:/Users/animeshs/GD/stanford-covid-vaccine/bpps/id_4f5be017a.npy'), WindowsPath('C:/Users/animeshs/GD/stanford-covid-vaccine/bpps/id_4f7760ead.npy'), WindowsPath('C:/Users/animeshs/GD/stanford-covid-vaccine/bpps/id_4f7d7109b.npy'), WindowsPath('C:/Users/animeshs/GD/stanford-covid-vaccine/bpps/id_4f8ddfd42.npy'), WindowsPath('C:/Users/animeshs/GD/stanford-covid-vaccine/bpps/id_4f9056473.npy'), WindowsPath('C:/Users/animeshs/GD/stanford-covid-vaccine/bpps/id_4faec2e2c.npy'), WindowsPath('C:/Users/animeshs/GD/stanford-covid-vaccine/bpps/id_4fb071eac.npy'), WindowsPath('C:/Users/animeshs/GD/stanford-covid-vaccine/bpps/id_4fb8f31b5.npy'), WindowsPath('C:/Users/animeshs/GD/stanford-covid-vaccine/bpps/id_4fb9d81a1.npy'), WindowsPath('C:/Users/animeshs/GD/stanford-covid-vaccine/bpps/id_4fbe79922.npy'), WindowsPath('C:/Users/animeshs/GD/stanford-covid-vaccine/bpps/id_4fca3b905.npy'), WindowsPath('C:/Users/animeshs/GD/stanford-covid-vaccine/bpps/id_4fd75e6a4.npy'), WindowsPath('C:/Users/animeshs/GD/stanford-covid-vaccine/bpps/id_4fd83dee8.npy'), WindowsPath('C:/Users/animeshs/GD/stanford-covid-vaccine/bpps/id_4fee99845.npy'), WindowsPath('C:/Users/animeshs/GD/stanford-covid-vaccine/bpps/id_4ff52607e.npy'), WindowsPath('C:/Users/animeshs/GD/stanford-covid-vaccine/bpps/id_4ff6bf2db.npy'), WindowsPath('C:/Users/animeshs/GD/stanford-covid-vaccine/bpps/id_500348145.npy'), WindowsPath('C:/Users/animeshs/GD/stanford-covid-vaccine/bpps/id_500944194.npy'), WindowsPath('C:/Users/animeshs/GD/stanford-covid-vaccine/bpps/id_500f0cba4.npy'), WindowsPath('C:/Users/animeshs/GD/stanford-covid-vaccine/bpps/id_503ab426f.npy'), WindowsPath('C:/Users/animeshs/GD/stanford-covid-vaccine/bpps/id_503d48e47.npy'), WindowsPath('C:/Users/animeshs/GD/stanford-covid-vaccine/bpps/id_504bae10c.npy'), WindowsPath('C:/Users/animeshs/GD/stanford-covid-vaccine/bpps/id_504e42806.npy'), WindowsPath('C:/Users/animeshs/GD/stanford-covid-vaccine/bpps/id_504edd847.npy'), WindowsPath('C:/Users/animeshs/GD/stanford-covid-vaccine/bpps/id_5063776ab.npy'), WindowsPath('C:/Users/animeshs/GD/stanford-covid-vaccine/bpps/id_507b8651a.npy'), WindowsPath('C:/Users/animeshs/GD/stanford-covid-vaccine/bpps/id_50828de3a.npy'), WindowsPath('C:/Users/animeshs/GD/stanford-covid-vaccine/bpps/id_5084bf4b7.npy'), WindowsPath('C:/Users/animeshs/GD/stanford-covid-vaccine/bpps/id_5097ec3d4.npy'), WindowsPath('C:/Users/animeshs/GD/stanford-covid-vaccine/bpps/id_509e98a91.npy'), WindowsPath('C:/Users/animeshs/GD/stanford-covid-vaccine/bpps/id_509eba1b8.npy'), WindowsPath('C:/Users/animeshs/GD/stanford-covid-vaccine/bpps/id_50ae9e506.npy'), WindowsPath('C:/Users/animeshs/GD/stanford-covid-vaccine/bpps/id_50db22e9b.npy'), WindowsPath('C:/Users/animeshs/GD/stanford-covid-vaccine/bpps/id_50db3470b.npy'), WindowsPath('C:/Users/animeshs/GD/stanford-covid-vaccine/bpps/id_50f38862e.npy'), WindowsPath('C:/Users/animeshs/GD/stanford-covid-vaccine/bpps/id_50f9379fa.npy'), WindowsPath('C:/Users/animeshs/GD/stanford-covid-vaccine/bpps/id_510bbdae9.npy'), WindowsPath('C:/Users/animeshs/GD/stanford-covid-vaccine/bpps/id_51191ffc3.npy'), WindowsPath('C:/Users/animeshs/GD/stanford-covid-vaccine/bpps/id_5131bdc96.npy'), WindowsPath('C:/Users/animeshs/GD/stanford-covid-vaccine/bpps/id_514008433.npy'), WindowsPath('C:/Users/animeshs/GD/stanford-covid-vaccine/bpps/id_514a1add5.npy'), WindowsPath('C:/Users/animeshs/GD/stanford-covid-vaccine/bpps/id_514b59379.npy'), WindowsPath('C:/Users/animeshs/GD/stanford-covid-vaccine/bpps/id_5153eaca6.npy'), WindowsPath('C:/Users/animeshs/GD/stanford-covid-vaccine/bpps/id_5154bbe73.npy'), WindowsPath('C:/Users/animeshs/GD/stanford-covid-vaccine/bpps/id_515c2ad00.npy'), WindowsPath('C:/Users/animeshs/GD/stanford-covid-vaccine/bpps/id_51608b260.npy'), WindowsPath('C:/Users/animeshs/GD/stanford-covid-vaccine/bpps/id_5163eb374.npy'), WindowsPath('C:/Users/animeshs/GD/stanford-covid-vaccine/bpps/id_5166b8a17.npy'), WindowsPath('C:/Users/animeshs/GD/stanford-covid-vaccine/bpps/id_5172f0fc1.npy'), WindowsPath('C:/Users/animeshs/GD/stanford-covid-vaccine/bpps/id_5175ac550.npy'), WindowsPath('C:/Users/animeshs/GD/stanford-covid-vaccine/bpps/id_517d45098.npy'), WindowsPath('C:/Users/animeshs/GD/stanford-covid-vaccine/bpps/id_518927ac9.npy'), WindowsPath('C:/Users/animeshs/GD/stanford-covid-vaccine/bpps/id_5190406f5.npy'), WindowsPath('C:/Users/animeshs/GD/stanford-covid-vaccine/bpps/id_51a4542f8.npy'), WindowsPath('C:/Users/animeshs/GD/stanford-covid-vaccine/bpps/id_51a7c6427.npy'), WindowsPath('C:/Users/animeshs/GD/stanford-covid-vaccine/bpps/id_51ad8d14b.npy'), WindowsPath('C:/Users/animeshs/GD/stanford-covid-vaccine/bpps/id_51af0d845.npy'), WindowsPath('C:/Users/animeshs/GD/stanford-covid-vaccine/bpps/id_51d8b8d52.npy'), WindowsPath('C:/Users/animeshs/GD/stanford-covid-vaccine/bpps/id_51fdaf34a.npy'), WindowsPath('C:/Users/animeshs/GD/stanford-covid-vaccine/bpps/id_5211f50a9.npy'), WindowsPath('C:/Users/animeshs/GD/stanford-covid-vaccine/bpps/id_522022b1a.npy'), WindowsPath('C:/Users/animeshs/GD/stanford-covid-vaccine/bpps/id_5236a76f1.npy'), WindowsPath('C:/Users/animeshs/GD/stanford-covid-vaccine/bpps/id_52370f004.npy'), WindowsPath('C:/Users/animeshs/GD/stanford-covid-vaccine/bpps/id_5241d41f3.npy'), WindowsPath('C:/Users/animeshs/GD/stanford-covid-vaccine/bpps/id_524fb4ccd.npy'), WindowsPath('C:/Users/animeshs/GD/stanford-covid-vaccine/bpps/id_5254698ae.npy'), WindowsPath('C:/Users/animeshs/GD/stanford-covid-vaccine/bpps/id_525bab205.npy'), WindowsPath('C:/Users/animeshs/GD/stanford-covid-vaccine/bpps/id_5273a6372.npy'), WindowsPath('C:/Users/animeshs/GD/stanford-covid-vaccine/bpps/id_527b0c83b.npy'), WindowsPath('C:/Users/animeshs/GD/stanford-covid-vaccine/bpps/id_527fec00a.npy'), WindowsPath('C:/Users/animeshs/GD/stanford-covid-vaccine/bpps/id_528a78142.npy'), WindowsPath('C:/Users/animeshs/GD/stanford-covid-vaccine/bpps/id_529368a87.npy'), WindowsPath('C:/Users/animeshs/GD/stanford-covid-vaccine/bpps/id_5293b6cfe.npy'), WindowsPath('C:/Users/animeshs/GD/stanford-covid-vaccine/bpps/id_52ac6bad3.npy'), WindowsPath('C:/Users/animeshs/GD/stanford-covid-vaccine/bpps/id_52b6a278b.npy'), WindowsPath('C:/Users/animeshs/GD/stanford-covid-vaccine/bpps/id_52bb85967.npy'), WindowsPath('C:/Users/animeshs/GD/stanford-covid-vaccine/bpps/id_52d50989c.npy'), WindowsPath('C:/Users/animeshs/GD/stanford-covid-vaccine/bpps/id_52d5188df.npy'), WindowsPath('C:/Users/animeshs/GD/stanford-covid-vaccine/bpps/id_52e132574.npy'), WindowsPath('C:/Users/animeshs/GD/stanford-covid-vaccine/bpps/id_52f27297a.npy'), WindowsPath('C:/Users/animeshs/GD/stanford-covid-vaccine/bpps/id_530798a61.npy'), WindowsPath('C:/Users/animeshs/GD/stanford-covid-vaccine/bpps/id_53088a841.npy'), WindowsPath('C:/Users/animeshs/GD/stanford-covid-vaccine/bpps/id_531a9a07a.npy'), WindowsPath('C:/Users/animeshs/GD/stanford-covid-vaccine/bpps/id_531bc6010.npy'), WindowsPath('C:/Users/animeshs/GD/stanford-covid-vaccine/bpps/id_532ceebab.npy'), WindowsPath('C:/Users/animeshs/GD/stanford-covid-vaccine/bpps/id_5330c3dd8.npy'), WindowsPath('C:/Users/animeshs/GD/stanford-covid-vaccine/bpps/id_5335748f7.npy'), WindowsPath('C:/Users/animeshs/GD/stanford-covid-vaccine/bpps/id_5337c2da6.npy'), WindowsPath('C:/Users/animeshs/GD/stanford-covid-vaccine/bpps/id_53410d896.npy'), WindowsPath('C:/Users/animeshs/GD/stanford-covid-vaccine/bpps/id_534207e7c.npy'), WindowsPath('C:/Users/animeshs/GD/stanford-covid-vaccine/bpps/id_534b8a458.npy'), WindowsPath('C:/Users/animeshs/GD/stanford-covid-vaccine/bpps/id_534f2ea70.npy'), WindowsPath('C:/Users/animeshs/GD/stanford-covid-vaccine/bpps/id_5352c22e8.npy'), WindowsPath('C:/Users/animeshs/GD/stanford-covid-vaccine/bpps/id_535d80666.npy'), WindowsPath('C:/Users/animeshs/GD/stanford-covid-vaccine/bpps/id_53683e290.npy'), WindowsPath('C:/Users/animeshs/GD/stanford-covid-vaccine/bpps/id_536e7512d.npy'), WindowsPath('C:/Users/animeshs/GD/stanford-covid-vaccine/bpps/id_5378550b8.npy'), WindowsPath('C:/Users/animeshs/GD/stanford-covid-vaccine/bpps/id_538bbe838.npy'), WindowsPath('C:/Users/animeshs/GD/stanford-covid-vaccine/bpps/id_538f17dc5.npy'), WindowsPath('C:/Users/animeshs/GD/stanford-covid-vaccine/bpps/id_539e81c45.npy'), WindowsPath('C:/Users/animeshs/GD/stanford-covid-vaccine/bpps/id_53a7baf17.npy'), WindowsPath('C:/Users/animeshs/GD/stanford-covid-vaccine/bpps/id_53bb6d77a.npy'), WindowsPath('C:/Users/animeshs/GD/stanford-covid-vaccine/bpps/id_53c9796cb.npy'), WindowsPath('C:/Users/animeshs/GD/stanford-covid-vaccine/bpps/id_53ccbe2d6.npy'), WindowsPath('C:/Users/animeshs/GD/stanford-covid-vaccine/bpps/id_53d7ef89f.npy'), WindowsPath('C:/Users/animeshs/GD/stanford-covid-vaccine/bpps/id_53ddb3ec2.npy'), WindowsPath('C:/Users/animeshs/GD/stanford-covid-vaccine/bpps/id_53e516126.npy'), WindowsPath('C:/Users/animeshs/GD/stanford-covid-vaccine/bpps/id_53e7835da.npy'), WindowsPath('C:/Users/animeshs/GD/stanford-covid-vaccine/bpps/id_53e9164d2.npy'), WindowsPath('C:/Users/animeshs/GD/stanford-covid-vaccine/bpps/id_53f0ffcaa.npy'), WindowsPath('C:/Users/animeshs/GD/stanford-covid-vaccine/bpps/id_53f8da126.npy'), WindowsPath('C:/Users/animeshs/GD/stanford-covid-vaccine/bpps/id_5407ff72d.npy'), WindowsPath('C:/Users/animeshs/GD/stanford-covid-vaccine/bpps/id_542027cb0.npy'), WindowsPath('C:/Users/animeshs/GD/stanford-covid-vaccine/bpps/id_5429cb841.npy'), WindowsPath('C:/Users/animeshs/GD/stanford-covid-vaccine/bpps/id_542dfefdb.npy'), WindowsPath('C:/Users/animeshs/GD/stanford-covid-vaccine/bpps/id_542e6f92c.npy'), WindowsPath('C:/Users/animeshs/GD/stanford-covid-vaccine/bpps/id_54338ff85.npy'), WindowsPath('C:/Users/animeshs/GD/stanford-covid-vaccine/bpps/id_5434bb464.npy'), WindowsPath('C:/Users/animeshs/GD/stanford-covid-vaccine/bpps/id_5436844ae.npy'), WindowsPath('C:/Users/animeshs/GD/stanford-covid-vaccine/bpps/id_5441118ed.npy'), WindowsPath('C:/Users/animeshs/GD/stanford-covid-vaccine/bpps/id_5467510d5.npy'), WindowsPath('C:/Users/animeshs/GD/stanford-covid-vaccine/bpps/id_546ff040e.npy'), WindowsPath('C:/Users/animeshs/GD/stanford-covid-vaccine/bpps/id_54704cd73.npy'), WindowsPath('C:/Users/animeshs/GD/stanford-covid-vaccine/bpps/id_547e9a535.npy'), WindowsPath('C:/Users/animeshs/GD/stanford-covid-vaccine/bpps/id_547e9f569.npy'), WindowsPath('C:/Users/animeshs/GD/stanford-covid-vaccine/bpps/id_549199a2e.npy'), WindowsPath('C:/Users/animeshs/GD/stanford-covid-vaccine/bpps/id_5494a183c.npy'), WindowsPath('C:/Users/animeshs/GD/stanford-covid-vaccine/bpps/id_549bc12c8.npy'), WindowsPath('C:/Users/animeshs/GD/stanford-covid-vaccine/bpps/id_549d458a8.npy'), WindowsPath('C:/Users/animeshs/GD/stanford-covid-vaccine/bpps/id_549f88b61.npy'), WindowsPath('C:/Users/animeshs/GD/stanford-covid-vaccine/bpps/id_54a6db2e4.npy'), WindowsPath('C:/Users/animeshs/GD/stanford-covid-vaccine/bpps/id_54b9f3525.npy'), WindowsPath('C:/Users/animeshs/GD/stanford-covid-vaccine/bpps/id_54bbf3d10.npy'), WindowsPath('C:/Users/animeshs/GD/stanford-covid-vaccine/bpps/id_54d3f756c.npy'), WindowsPath('C:/Users/animeshs/GD/stanford-covid-vaccine/bpps/id_54d65d117.npy'), WindowsPath('C:/Users/animeshs/GD/stanford-covid-vaccine/bpps/id_54daaf52b.npy'), WindowsPath('C:/Users/animeshs/GD/stanford-covid-vaccine/bpps/id_54e15b79e.npy'), WindowsPath('C:/Users/animeshs/GD/stanford-covid-vaccine/bpps/id_54ef2ae73.npy'), WindowsPath('C:/Users/animeshs/GD/stanford-covid-vaccine/bpps/id_550418236.npy'), WindowsPath('C:/Users/animeshs/GD/stanford-covid-vaccine/bpps/id_5517cd712.npy'), WindowsPath('C:/Users/animeshs/GD/stanford-covid-vaccine/bpps/id_551842ab3.npy'), WindowsPath('C:/Users/animeshs/GD/stanford-covid-vaccine/bpps/id_551babcfe.npy'), WindowsPath('C:/Users/animeshs/GD/stanford-covid-vaccine/bpps/id_55224aaae.npy'), WindowsPath('C:/Users/animeshs/GD/stanford-covid-vaccine/bpps/id_5522ab7d9.npy'), WindowsPath('C:/Users/animeshs/GD/stanford-covid-vaccine/bpps/id_552b2b233.npy'), WindowsPath('C:/Users/animeshs/GD/stanford-covid-vaccine/bpps/id_55370152f.npy'), WindowsPath('C:/Users/animeshs/GD/stanford-covid-vaccine/bpps/id_5538b8b50.npy'), WindowsPath('C:/Users/animeshs/GD/stanford-covid-vaccine/bpps/id_55494a69a.npy'), WindowsPath('C:/Users/animeshs/GD/stanford-covid-vaccine/bpps/id_554a18290.npy'), WindowsPath('C:/Users/animeshs/GD/stanford-covid-vaccine/bpps/id_554d344fd.npy'), WindowsPath('C:/Users/animeshs/GD/stanford-covid-vaccine/bpps/id_5551d9a94.npy'), WindowsPath('C:/Users/animeshs/GD/stanford-covid-vaccine/bpps/id_5562d2bb5.npy'), WindowsPath('C:/Users/animeshs/GD/stanford-covid-vaccine/bpps/id_5565a48cc.npy'), WindowsPath('C:/Users/animeshs/GD/stanford-covid-vaccine/bpps/id_55739e52f.npy'), WindowsPath('C:/Users/animeshs/GD/stanford-covid-vaccine/bpps/id_55791b77d.npy'), WindowsPath('C:/Users/animeshs/GD/stanford-covid-vaccine/bpps/id_5581446df.npy'), WindowsPath('C:/Users/animeshs/GD/stanford-covid-vaccine/bpps/id_5589aab12.npy'), WindowsPath('C:/Users/animeshs/GD/stanford-covid-vaccine/bpps/id_558ec8737.npy'), WindowsPath('C:/Users/animeshs/GD/stanford-covid-vaccine/bpps/id_559026a39.npy'), WindowsPath('C:/Users/animeshs/GD/stanford-covid-vaccine/bpps/id_5594d3ef3.npy'), WindowsPath('C:/Users/animeshs/GD/stanford-covid-vaccine/bpps/id_55961c465.npy'), WindowsPath('C:/Users/animeshs/GD/stanford-covid-vaccine/bpps/id_559af9e3a.npy'), WindowsPath('C:/Users/animeshs/GD/stanford-covid-vaccine/bpps/id_559e8e345.npy'), WindowsPath('C:/Users/animeshs/GD/stanford-covid-vaccine/bpps/id_55a79ce7b.npy'), WindowsPath('C:/Users/animeshs/GD/stanford-covid-vaccine/bpps/id_55a962d8e.npy'), WindowsPath('C:/Users/animeshs/GD/stanford-covid-vaccine/bpps/id_55a97fe18.npy'), WindowsPath('C:/Users/animeshs/GD/stanford-covid-vaccine/bpps/id_55b770547.npy'), WindowsPath('C:/Users/animeshs/GD/stanford-covid-vaccine/bpps/id_55be3c9c4.npy'), WindowsPath('C:/Users/animeshs/GD/stanford-covid-vaccine/bpps/id_55c870840.npy'), WindowsPath('C:/Users/animeshs/GD/stanford-covid-vaccine/bpps/id_55ca462f7.npy'), WindowsPath('C:/Users/animeshs/GD/stanford-covid-vaccine/bpps/id_55d4ac4a5.npy'), WindowsPath('C:/Users/animeshs/GD/stanford-covid-vaccine/bpps/id_55ecdae7b.npy'), WindowsPath('C:/Users/animeshs/GD/stanford-covid-vaccine/bpps/id_55fe96e4b.npy'), WindowsPath('C:/Users/animeshs/GD/stanford-covid-vaccine/bpps/id_5606b34ed.npy'), WindowsPath('C:/Users/animeshs/GD/stanford-covid-vaccine/bpps/id_560ae5dd3.npy'), WindowsPath('C:/Users/animeshs/GD/stanford-covid-vaccine/bpps/id_56135099d.npy'), WindowsPath('C:/Users/animeshs/GD/stanford-covid-vaccine/bpps/id_561c91eed.npy'), WindowsPath('C:/Users/animeshs/GD/stanford-covid-vaccine/bpps/id_561cf4959.npy'), WindowsPath('C:/Users/animeshs/GD/stanford-covid-vaccine/bpps/id_561dc7cff.npy'), WindowsPath('C:/Users/animeshs/GD/stanford-covid-vaccine/bpps/id_562a7036b.npy'), WindowsPath('C:/Users/animeshs/GD/stanford-covid-vaccine/bpps/id_562f1749d.npy'), WindowsPath('C:/Users/animeshs/GD/stanford-covid-vaccine/bpps/id_5636da142.npy'), WindowsPath('C:/Users/animeshs/GD/stanford-covid-vaccine/bpps/id_563fb9e62.npy'), WindowsPath('C:/Users/animeshs/GD/stanford-covid-vaccine/bpps/id_56428dda9.npy'), WindowsPath('C:/Users/animeshs/GD/stanford-covid-vaccine/bpps/id_5658572b3.npy'), WindowsPath('C:/Users/animeshs/GD/stanford-covid-vaccine/bpps/id_565c1da42.npy'), WindowsPath('C:/Users/animeshs/GD/stanford-covid-vaccine/bpps/id_566ca630b.npy'), WindowsPath('C:/Users/animeshs/GD/stanford-covid-vaccine/bpps/id_56840b6c7.npy'), WindowsPath('C:/Users/animeshs/GD/stanford-covid-vaccine/bpps/id_568903c16.npy'), WindowsPath('C:/Users/animeshs/GD/stanford-covid-vaccine/bpps/id_569ebfb8a.npy'), WindowsPath('C:/Users/animeshs/GD/stanford-covid-vaccine/bpps/id_56a32b65f.npy'), WindowsPath('C:/Users/animeshs/GD/stanford-covid-vaccine/bpps/id_56a50e5d7.npy'), WindowsPath('C:/Users/animeshs/GD/stanford-covid-vaccine/bpps/id_56cf79828.npy'), WindowsPath('C:/Users/animeshs/GD/stanford-covid-vaccine/bpps/id_56d117319.npy'), WindowsPath('C:/Users/animeshs/GD/stanford-covid-vaccine/bpps/id_56d417f46.npy'), WindowsPath('C:/Users/animeshs/GD/stanford-covid-vaccine/bpps/id_56e1a2530.npy'), WindowsPath('C:/Users/animeshs/GD/stanford-covid-vaccine/bpps/id_56e552077.npy'), WindowsPath('C:/Users/animeshs/GD/stanford-covid-vaccine/bpps/id_5700f69d7.npy'), WindowsPath('C:/Users/animeshs/GD/stanford-covid-vaccine/bpps/id_5705d84f0.npy'), WindowsPath('C:/Users/animeshs/GD/stanford-covid-vaccine/bpps/id_5711ac60e.npy'), WindowsPath('C:/Users/animeshs/GD/stanford-covid-vaccine/bpps/id_5721c026f.npy'), WindowsPath('C:/Users/animeshs/GD/stanford-covid-vaccine/bpps/id_572332bce.npy'), WindowsPath('C:/Users/animeshs/GD/stanford-covid-vaccine/bpps/id_574b42d5b.npy'), WindowsPath('C:/Users/animeshs/GD/stanford-covid-vaccine/bpps/id_575282e93.npy'), WindowsPath('C:/Users/animeshs/GD/stanford-covid-vaccine/bpps/id_5756ecae3.npy'), WindowsPath('C:/Users/animeshs/GD/stanford-covid-vaccine/bpps/id_575b66ab4.npy'), WindowsPath('C:/Users/animeshs/GD/stanford-covid-vaccine/bpps/id_5786299e1.npy'), WindowsPath('C:/Users/animeshs/GD/stanford-covid-vaccine/bpps/id_5796565c2.npy'), WindowsPath('C:/Users/animeshs/GD/stanford-covid-vaccine/bpps/id_579ee1f1b.npy'), WindowsPath('C:/Users/animeshs/GD/stanford-covid-vaccine/bpps/id_57bf10196.npy'), WindowsPath('C:/Users/animeshs/GD/stanford-covid-vaccine/bpps/id_57c3bf92c.npy'), WindowsPath('C:/Users/animeshs/GD/stanford-covid-vaccine/bpps/id_57e0a9e54.npy'), WindowsPath('C:/Users/animeshs/GD/stanford-covid-vaccine/bpps/id_57eb263e4.npy'), WindowsPath('C:/Users/animeshs/GD/stanford-covid-vaccine/bpps/id_57fc04c0a.npy'), WindowsPath('C:/Users/animeshs/GD/stanford-covid-vaccine/bpps/id_57feae50b.npy'), WindowsPath('C:/Users/animeshs/GD/stanford-covid-vaccine/bpps/id_5805201f3.npy'), WindowsPath('C:/Users/animeshs/GD/stanford-covid-vaccine/bpps/id_581e38f48.npy'), WindowsPath('C:/Users/animeshs/GD/stanford-covid-vaccine/bpps/id_5837514cd.npy'), WindowsPath('C:/Users/animeshs/GD/stanford-covid-vaccine/bpps/id_58502b512.npy'), WindowsPath('C:/Users/animeshs/GD/stanford-covid-vaccine/bpps/id_5852652a0.npy'), WindowsPath('C:/Users/animeshs/GD/stanford-covid-vaccine/bpps/id_58577f91e.npy'), WindowsPath('C:/Users/animeshs/GD/stanford-covid-vaccine/bpps/id_585e3ff17.npy'), WindowsPath('C:/Users/animeshs/GD/stanford-covid-vaccine/bpps/id_586997629.npy'), WindowsPath('C:/Users/animeshs/GD/stanford-covid-vaccine/bpps/id_5872ab381.npy'), WindowsPath('C:/Users/animeshs/GD/stanford-covid-vaccine/bpps/id_589ae1f6f.npy'), WindowsPath('C:/Users/animeshs/GD/stanford-covid-vaccine/bpps/id_58a213162.npy'), WindowsPath('C:/Users/animeshs/GD/stanford-covid-vaccine/bpps/id_58a6c87d7.npy'), WindowsPath('C:/Users/animeshs/GD/stanford-covid-vaccine/bpps/id_58a7d374f.npy'), WindowsPath('C:/Users/animeshs/GD/stanford-covid-vaccine/bpps/id_58a8bb7ec.npy'), WindowsPath('C:/Users/animeshs/GD/stanford-covid-vaccine/bpps/id_58ac7fdf0.npy'), WindowsPath('C:/Users/animeshs/GD/stanford-covid-vaccine/bpps/id_58ad61b16.npy'), WindowsPath('C:/Users/animeshs/GD/stanford-covid-vaccine/bpps/id_58b903e9f.npy'), WindowsPath('C:/Users/animeshs/GD/stanford-covid-vaccine/bpps/id_58b9d9ac3.npy'), WindowsPath('C:/Users/animeshs/GD/stanford-covid-vaccine/bpps/id_58bc6c0f5.npy'), WindowsPath('C:/Users/animeshs/GD/stanford-covid-vaccine/bpps/id_58cc36712.npy'), WindowsPath('C:/Users/animeshs/GD/stanford-covid-vaccine/bpps/id_58ce7c12a.npy'), WindowsPath('C:/Users/animeshs/GD/stanford-covid-vaccine/bpps/id_58d5a22cd.npy'), WindowsPath('C:/Users/animeshs/GD/stanford-covid-vaccine/bpps/id_58ec3162e.npy'), WindowsPath('C:/Users/animeshs/GD/stanford-covid-vaccine/bpps/id_58f38f9e4.npy'), WindowsPath('C:/Users/animeshs/GD/stanford-covid-vaccine/bpps/id_58fc976c5.npy'), WindowsPath('C:/Users/animeshs/GD/stanford-covid-vaccine/bpps/id_58fefa813.npy'), WindowsPath('C:/Users/animeshs/GD/stanford-covid-vaccine/bpps/id_59252b684.npy'), WindowsPath('C:/Users/animeshs/GD/stanford-covid-vaccine/bpps/id_592a20e0f.npy'), WindowsPath('C:/Users/animeshs/GD/stanford-covid-vaccine/bpps/id_5931aa62e.npy'), WindowsPath('C:/Users/animeshs/GD/stanford-covid-vaccine/bpps/id_59349b42e.npy'), WindowsPath('C:/Users/animeshs/GD/stanford-covid-vaccine/bpps/id_59368918a.npy'), WindowsPath('C:/Users/animeshs/GD/stanford-covid-vaccine/bpps/id_593bc80f1.npy'), WindowsPath('C:/Users/animeshs/GD/stanford-covid-vaccine/bpps/id_5940babd2.npy'), WindowsPath('C:/Users/animeshs/GD/stanford-covid-vaccine/bpps/id_5940cc278.npy'), WindowsPath('C:/Users/animeshs/GD/stanford-covid-vaccine/bpps/id_5941839f8.npy'), WindowsPath('C:/Users/animeshs/GD/stanford-covid-vaccine/bpps/id_5947b7b07.npy'), WindowsPath('C:/Users/animeshs/GD/stanford-covid-vaccine/bpps/id_595796aa5.npy'), WindowsPath('C:/Users/animeshs/GD/stanford-covid-vaccine/bpps/id_596430363.npy'), WindowsPath('C:/Users/animeshs/GD/stanford-covid-vaccine/bpps/id_596bd23fc.npy'), WindowsPath('C:/Users/animeshs/GD/stanford-covid-vaccine/bpps/id_597042243.npy'), WindowsPath('C:/Users/animeshs/GD/stanford-covid-vaccine/bpps/id_598272cd5.npy'), WindowsPath('C:/Users/animeshs/GD/stanford-covid-vaccine/bpps/id_5984001e6.npy'), WindowsPath('C:/Users/animeshs/GD/stanford-covid-vaccine/bpps/id_59916edc2.npy'), WindowsPath('C:/Users/animeshs/GD/stanford-covid-vaccine/bpps/id_59945faea.npy'), WindowsPath('C:/Users/animeshs/GD/stanford-covid-vaccine/bpps/id_5997fe356.npy'), WindowsPath('C:/Users/animeshs/GD/stanford-covid-vaccine/bpps/id_59991a63c.npy'), WindowsPath('C:/Users/animeshs/GD/stanford-covid-vaccine/bpps/id_599b36f6b.npy'), WindowsPath('C:/Users/animeshs/GD/stanford-covid-vaccine/bpps/id_59aa75bd4.npy'), WindowsPath('C:/Users/animeshs/GD/stanford-covid-vaccine/bpps/id_59aafc1ee.npy'), WindowsPath('C:/Users/animeshs/GD/stanford-covid-vaccine/bpps/id_59adfe951.npy'), WindowsPath('C:/Users/animeshs/GD/stanford-covid-vaccine/bpps/id_59bd64669.npy'), WindowsPath('C:/Users/animeshs/GD/stanford-covid-vaccine/bpps/id_59cd1aeaf.npy'), WindowsPath('C:/Users/animeshs/GD/stanford-covid-vaccine/bpps/id_59d26dec6.npy'), WindowsPath('C:/Users/animeshs/GD/stanford-covid-vaccine/bpps/id_59dc0ffe9.npy'), WindowsPath('C:/Users/animeshs/GD/stanford-covid-vaccine/bpps/id_59e2d7096.npy'), WindowsPath('C:/Users/animeshs/GD/stanford-covid-vaccine/bpps/id_59e7ed5e1.npy'), WindowsPath('C:/Users/animeshs/GD/stanford-covid-vaccine/bpps/id_59ed67331.npy'), WindowsPath('C:/Users/animeshs/GD/stanford-covid-vaccine/bpps/id_59f604b86.npy'), WindowsPath('C:/Users/animeshs/GD/stanford-covid-vaccine/bpps/id_5a00dd07b.npy'), WindowsPath('C:/Users/animeshs/GD/stanford-covid-vaccine/bpps/id_5a0c69b47.npy'), WindowsPath('C:/Users/animeshs/GD/stanford-covid-vaccine/bpps/id_5a1157393.npy'), WindowsPath('C:/Users/animeshs/GD/stanford-covid-vaccine/bpps/id_5a29d714b.npy'), WindowsPath('C:/Users/animeshs/GD/stanford-covid-vaccine/bpps/id_5a3871882.npy'), WindowsPath('C:/Users/animeshs/GD/stanford-covid-vaccine/bpps/id_5a47d88c7.npy'), WindowsPath('C:/Users/animeshs/GD/stanford-covid-vaccine/bpps/id_5a4b6f886.npy'), WindowsPath('C:/Users/animeshs/GD/stanford-covid-vaccine/bpps/id_5a53691b4.npy'), WindowsPath('C:/Users/animeshs/GD/stanford-covid-vaccine/bpps/id_5a53a9943.npy'), WindowsPath('C:/Users/animeshs/GD/stanford-covid-vaccine/bpps/id_5a6710bda.npy'), WindowsPath('C:/Users/animeshs/GD/stanford-covid-vaccine/bpps/id_5a672b53f.npy'), WindowsPath('C:/Users/animeshs/GD/stanford-covid-vaccine/bpps/id_5a7040fa1.npy'), WindowsPath('C:/Users/animeshs/GD/stanford-covid-vaccine/bpps/id_5a7babb33.npy'), WindowsPath('C:/Users/animeshs/GD/stanford-covid-vaccine/bpps/id_5a87be566.npy'), WindowsPath('C:/Users/animeshs/GD/stanford-covid-vaccine/bpps/id_5a89aa84a.npy'), WindowsPath('C:/Users/animeshs/GD/stanford-covid-vaccine/bpps/id_5a8ab0a25.npy'), WindowsPath('C:/Users/animeshs/GD/stanford-covid-vaccine/bpps/id_5a917f313.npy'), WindowsPath('C:/Users/animeshs/GD/stanford-covid-vaccine/bpps/id_5a9b9fbff.npy'), WindowsPath('C:/Users/animeshs/GD/stanford-covid-vaccine/bpps/id_5a9cd4a0d.npy'), WindowsPath('C:/Users/animeshs/GD/stanford-covid-vaccine/bpps/id_5aa156654.npy'), WindowsPath('C:/Users/animeshs/GD/stanford-covid-vaccine/bpps/id_5aa453797.npy'), WindowsPath('C:/Users/animeshs/GD/stanford-covid-vaccine/bpps/id_5aab3e5c4.npy'), WindowsPath('C:/Users/animeshs/GD/stanford-covid-vaccine/bpps/id_5ab699511.npy'), WindowsPath('C:/Users/animeshs/GD/stanford-covid-vaccine/bpps/id_5ab7218b3.npy'), WindowsPath('C:/Users/animeshs/GD/stanford-covid-vaccine/bpps/id_5abedba25.npy'), WindowsPath('C:/Users/animeshs/GD/stanford-covid-vaccine/bpps/id_5abf322c1.npy'), WindowsPath('C:/Users/animeshs/GD/stanford-covid-vaccine/bpps/id_5acbdb452.npy'), WindowsPath('C:/Users/animeshs/GD/stanford-covid-vaccine/bpps/id_5ad20f032.npy'), WindowsPath('C:/Users/animeshs/GD/stanford-covid-vaccine/bpps/id_5adefabd4.npy'), WindowsPath('C:/Users/animeshs/GD/stanford-covid-vaccine/bpps/id_5b08ec5fd.npy'), WindowsPath('C:/Users/animeshs/GD/stanford-covid-vaccine/bpps/id_5b0b8676d.npy'), WindowsPath('C:/Users/animeshs/GD/stanford-covid-vaccine/bpps/id_5b2e84c62.npy'), WindowsPath('C:/Users/animeshs/GD/stanford-covid-vaccine/bpps/id_5b2f01506.npy'), WindowsPath('C:/Users/animeshs/GD/stanford-covid-vaccine/bpps/id_5b2ffc72f.npy'), WindowsPath('C:/Users/animeshs/GD/stanford-covid-vaccine/bpps/id_5b38d7471.npy'), WindowsPath('C:/Users/animeshs/GD/stanford-covid-vaccine/bpps/id_5b3ba31c5.npy'), WindowsPath('C:/Users/animeshs/GD/stanford-covid-vaccine/bpps/id_5b55490a1.npy'), WindowsPath('C:/Users/animeshs/GD/stanford-covid-vaccine/bpps/id_5b584e65d.npy'), WindowsPath('C:/Users/animeshs/GD/stanford-covid-vaccine/bpps/id_5b627cbf2.npy'), WindowsPath('C:/Users/animeshs/GD/stanford-covid-vaccine/bpps/id_5b652433a.npy'), WindowsPath('C:/Users/animeshs/GD/stanford-covid-vaccine/bpps/id_5b6e3e51c.npy'), WindowsPath('C:/Users/animeshs/GD/stanford-covid-vaccine/bpps/id_5b6e9a434.npy'), WindowsPath('C:/Users/animeshs/GD/stanford-covid-vaccine/bpps/id_5b834a549.npy'), WindowsPath('C:/Users/animeshs/GD/stanford-covid-vaccine/bpps/id_5b8baa166.npy'), WindowsPath('C:/Users/animeshs/GD/stanford-covid-vaccine/bpps/id_5b9c7041f.npy'), WindowsPath('C:/Users/animeshs/GD/stanford-covid-vaccine/bpps/id_5ba0fa79a.npy'), WindowsPath('C:/Users/animeshs/GD/stanford-covid-vaccine/bpps/id_5badee75e.npy'), WindowsPath('C:/Users/animeshs/GD/stanford-covid-vaccine/bpps/id_5baf0782a.npy'), WindowsPath('C:/Users/animeshs/GD/stanford-covid-vaccine/bpps/id_5bb362a0e.npy'), WindowsPath('C:/Users/animeshs/GD/stanford-covid-vaccine/bpps/id_5bb59e23b.npy'), WindowsPath('C:/Users/animeshs/GD/stanford-covid-vaccine/bpps/id_5bba9dedb.npy'), WindowsPath('C:/Users/animeshs/GD/stanford-covid-vaccine/bpps/id_5bbd258bd.npy'), WindowsPath('C:/Users/animeshs/GD/stanford-covid-vaccine/bpps/id_5bc641ab1.npy'), WindowsPath('C:/Users/animeshs/GD/stanford-covid-vaccine/bpps/id_5bd892994.npy'), WindowsPath('C:/Users/animeshs/GD/stanford-covid-vaccine/bpps/id_5bdcb00cf.npy'), WindowsPath('C:/Users/animeshs/GD/stanford-covid-vaccine/bpps/id_5be574414.npy'), WindowsPath('C:/Users/animeshs/GD/stanford-covid-vaccine/bpps/id_5beb3d12f.npy'), WindowsPath('C:/Users/animeshs/GD/stanford-covid-vaccine/bpps/id_5c0071c56.npy'), WindowsPath('C:/Users/animeshs/GD/stanford-covid-vaccine/bpps/id_5c19b06ac.npy'), WindowsPath('C:/Users/animeshs/GD/stanford-covid-vaccine/bpps/id_5c2e1a107.npy'), WindowsPath('C:/Users/animeshs/GD/stanford-covid-vaccine/bpps/id_5c378394b.npy'), WindowsPath('C:/Users/animeshs/GD/stanford-covid-vaccine/bpps/id_5c590cf2d.npy'), WindowsPath('C:/Users/animeshs/GD/stanford-covid-vaccine/bpps/id_5c6775ff4.npy'), WindowsPath('C:/Users/animeshs/GD/stanford-covid-vaccine/bpps/id_5c6869085.npy'), WindowsPath('C:/Users/animeshs/GD/stanford-covid-vaccine/bpps/id_5c743665e.npy'), WindowsPath('C:/Users/animeshs/GD/stanford-covid-vaccine/bpps/id_5c7489068.npy'), WindowsPath('C:/Users/animeshs/GD/stanford-covid-vaccine/bpps/id_5c7ae0123.npy'), WindowsPath('C:/Users/animeshs/GD/stanford-covid-vaccine/bpps/id_5c7f92646.npy'), WindowsPath('C:/Users/animeshs/GD/stanford-covid-vaccine/bpps/id_5c952f22c.npy'), WindowsPath('C:/Users/animeshs/GD/stanford-covid-vaccine/bpps/id_5c98e54e0.npy'), WindowsPath('C:/Users/animeshs/GD/stanford-covid-vaccine/bpps/id_5cb444b10.npy'), WindowsPath('C:/Users/animeshs/GD/stanford-covid-vaccine/bpps/id_5cb8dc850.npy'), WindowsPath('C:/Users/animeshs/GD/stanford-covid-vaccine/bpps/id_5cbff5edc.npy'), WindowsPath('C:/Users/animeshs/GD/stanford-covid-vaccine/bpps/id_5ccbcb6ff.npy'), WindowsPath('C:/Users/animeshs/GD/stanford-covid-vaccine/bpps/id_5cd59dead.npy'), WindowsPath('C:/Users/animeshs/GD/stanford-covid-vaccine/bpps/id_5cdae27e8.npy'), WindowsPath('C:/Users/animeshs/GD/stanford-covid-vaccine/bpps/id_5ce44aa56.npy'), WindowsPath('C:/Users/animeshs/GD/stanford-covid-vaccine/bpps/id_5cf44a2e8.npy'), WindowsPath('C:/Users/animeshs/GD/stanford-covid-vaccine/bpps/id_5cf4ee288.npy'), WindowsPath('C:/Users/animeshs/GD/stanford-covid-vaccine/bpps/id_5d1c5ae80.npy'), WindowsPath('C:/Users/animeshs/GD/stanford-covid-vaccine/bpps/id_5d1f53ad7.npy'), WindowsPath('C:/Users/animeshs/GD/stanford-covid-vaccine/bpps/id_5d261a216.npy'), WindowsPath('C:/Users/animeshs/GD/stanford-covid-vaccine/bpps/id_5d3326f87.npy'), WindowsPath('C:/Users/animeshs/GD/stanford-covid-vaccine/bpps/id_5d366e1ba.npy'), WindowsPath('C:/Users/animeshs/GD/stanford-covid-vaccine/bpps/id_5d4aeaeba.npy'), WindowsPath('C:/Users/animeshs/GD/stanford-covid-vaccine/bpps/id_5d4c97e90.npy'), WindowsPath('C:/Users/animeshs/GD/stanford-covid-vaccine/bpps/id_5d60f6054.npy'), WindowsPath('C:/Users/animeshs/GD/stanford-covid-vaccine/bpps/id_5d63ec842.npy'), WindowsPath('C:/Users/animeshs/GD/stanford-covid-vaccine/bpps/id_5d69a4d9b.npy'), WindowsPath('C:/Users/animeshs/GD/stanford-covid-vaccine/bpps/id_5d7740412.npy'), WindowsPath('C:/Users/animeshs/GD/stanford-covid-vaccine/bpps/id_5d8487260.npy'), WindowsPath('C:/Users/animeshs/GD/stanford-covid-vaccine/bpps/id_5d93bdda1.npy'), WindowsPath('C:/Users/animeshs/GD/stanford-covid-vaccine/bpps/id_5d9c01f84.npy'), WindowsPath('C:/Users/animeshs/GD/stanford-covid-vaccine/bpps/id_5db0b0455.npy'), WindowsPath('C:/Users/animeshs/GD/stanford-covid-vaccine/bpps/id_5dbd0de8c.npy'), WindowsPath('C:/Users/animeshs/GD/stanford-covid-vaccine/bpps/id_5de2c7937.npy'), WindowsPath('C:/Users/animeshs/GD/stanford-covid-vaccine/bpps/id_5de3760b1.npy'), WindowsPath('C:/Users/animeshs/GD/stanford-covid-vaccine/bpps/id_5deb672d9.npy'), WindowsPath('C:/Users/animeshs/GD/stanford-covid-vaccine/bpps/id_5df18a4f8.npy'), WindowsPath('C:/Users/animeshs/GD/stanford-covid-vaccine/bpps/id_5e2d1676d.npy'), WindowsPath('C:/Users/animeshs/GD/stanford-covid-vaccine/bpps/id_5e3b11e27.npy'), WindowsPath('C:/Users/animeshs/GD/stanford-covid-vaccine/bpps/id_5e4ca4633.npy'), WindowsPath('C:/Users/animeshs/GD/stanford-covid-vaccine/bpps/id_5e5204a74.npy'), WindowsPath('C:/Users/animeshs/GD/stanford-covid-vaccine/bpps/id_5e5c7d368.npy'), WindowsPath('C:/Users/animeshs/GD/stanford-covid-vaccine/bpps/id_5e5dddb69.npy'), WindowsPath('C:/Users/animeshs/GD/stanford-covid-vaccine/bpps/id_5e6632525.npy'), WindowsPath('C:/Users/animeshs/GD/stanford-covid-vaccine/bpps/id_5e67f37fb.npy'), WindowsPath('C:/Users/animeshs/GD/stanford-covid-vaccine/bpps/id_5e761f329.npy'), WindowsPath('C:/Users/animeshs/GD/stanford-covid-vaccine/bpps/id_5e90af053.npy'), WindowsPath('C:/Users/animeshs/GD/stanford-covid-vaccine/bpps/id_5e911abe7.npy'), WindowsPath('C:/Users/animeshs/GD/stanford-covid-vaccine/bpps/id_5ecb2e07c.npy'), WindowsPath('C:/Users/animeshs/GD/stanford-covid-vaccine/bpps/id_5ed64045f.npy'), WindowsPath('C:/Users/animeshs/GD/stanford-covid-vaccine/bpps/id_5edc717fc.npy'), WindowsPath('C:/Users/animeshs/GD/stanford-covid-vaccine/bpps/id_5ee8e69ea.npy'), WindowsPath('C:/Users/animeshs/GD/stanford-covid-vaccine/bpps/id_5ef37f111.npy'), WindowsPath('C:/Users/animeshs/GD/stanford-covid-vaccine/bpps/id_5efb0eab1.npy'), WindowsPath('C:/Users/animeshs/GD/stanford-covid-vaccine/bpps/id_5efef2381.npy'), WindowsPath('C:/Users/animeshs/GD/stanford-covid-vaccine/bpps/id_5f0b69dbe.npy'), WindowsPath('C:/Users/animeshs/GD/stanford-covid-vaccine/bpps/id_5f0e991fb.npy'), WindowsPath('C:/Users/animeshs/GD/stanford-covid-vaccine/bpps/id_5f221ed69.npy'), WindowsPath('C:/Users/animeshs/GD/stanford-covid-vaccine/bpps/id_5f2ab7ad5.npy'), WindowsPath('C:/Users/animeshs/GD/stanford-covid-vaccine/bpps/id_5f2ec4dcc.npy'), WindowsPath('C:/Users/animeshs/GD/stanford-covid-vaccine/bpps/id_5f3ba20fa.npy'), WindowsPath('C:/Users/animeshs/GD/stanford-covid-vaccine/bpps/id_5f47ab65b.npy'), WindowsPath('C:/Users/animeshs/GD/stanford-covid-vaccine/bpps/id_5f7aa30df.npy'), WindowsPath('C:/Users/animeshs/GD/stanford-covid-vaccine/bpps/id_5f8b3a0f0.npy'), WindowsPath('C:/Users/animeshs/GD/stanford-covid-vaccine/bpps/id_5fbd9115d.npy'), WindowsPath('C:/Users/animeshs/GD/stanford-covid-vaccine/bpps/id_5fd25fc5b.npy'), WindowsPath('C:/Users/animeshs/GD/stanford-covid-vaccine/bpps/id_5fd29feaf.npy'), WindowsPath('C:/Users/animeshs/GD/stanford-covid-vaccine/bpps/id_5fd6025bb.npy'), WindowsPath('C:/Users/animeshs/GD/stanford-covid-vaccine/bpps/id_5fd7ef58e.npy'), WindowsPath('C:/Users/animeshs/GD/stanford-covid-vaccine/bpps/id_5fd8448df.npy'), WindowsPath('C:/Users/animeshs/GD/stanford-covid-vaccine/bpps/id_60003deb4.npy'), WindowsPath('C:/Users/animeshs/GD/stanford-covid-vaccine/bpps/id_600234039.npy'), WindowsPath('C:/Users/animeshs/GD/stanford-covid-vaccine/bpps/id_6014e2ee9.npy'), WindowsPath('C:/Users/animeshs/GD/stanford-covid-vaccine/bpps/id_601a86f32.npy'), WindowsPath('C:/Users/animeshs/GD/stanford-covid-vaccine/bpps/id_6044f337e.npy'), WindowsPath('C:/Users/animeshs/GD/stanford-covid-vaccine/bpps/id_6054e2d67.npy'), WindowsPath('C:/Users/animeshs/GD/stanford-covid-vaccine/bpps/id_6073e2601.npy'), WindowsPath('C:/Users/animeshs/GD/stanford-covid-vaccine/bpps/id_6075d05f0.npy'), WindowsPath('C:/Users/animeshs/GD/stanford-covid-vaccine/bpps/id_607d75cae.npy'), WindowsPath('C:/Users/animeshs/GD/stanford-covid-vaccine/bpps/id_607db267e.npy'), WindowsPath('C:/Users/animeshs/GD/stanford-covid-vaccine/bpps/id_608397d9b.npy'), WindowsPath('C:/Users/animeshs/GD/stanford-covid-vaccine/bpps/id_608745e82.npy'), WindowsPath('C:/Users/animeshs/GD/stanford-covid-vaccine/bpps/id_608de1dac.npy'), WindowsPath('C:/Users/animeshs/GD/stanford-covid-vaccine/bpps/id_60b73fc85.npy'), WindowsPath('C:/Users/animeshs/GD/stanford-covid-vaccine/bpps/id_60bbf0297.npy'), WindowsPath('C:/Users/animeshs/GD/stanford-covid-vaccine/bpps/id_60c828ede.npy'), WindowsPath('C:/Users/animeshs/GD/stanford-covid-vaccine/bpps/id_60cbbddd4.npy'), WindowsPath('C:/Users/animeshs/GD/stanford-covid-vaccine/bpps/id_60d522f97.npy'), WindowsPath('C:/Users/animeshs/GD/stanford-covid-vaccine/bpps/id_60d58ec87.npy'), WindowsPath('C:/Users/animeshs/GD/stanford-covid-vaccine/bpps/id_60d89ea44.npy'), WindowsPath('C:/Users/animeshs/GD/stanford-covid-vaccine/bpps/id_60e0f00f6.npy'), WindowsPath('C:/Users/animeshs/GD/stanford-covid-vaccine/bpps/id_60ea89310.npy'), WindowsPath('C:/Users/animeshs/GD/stanford-covid-vaccine/bpps/id_60fb915b5.npy'), WindowsPath('C:/Users/animeshs/GD/stanford-covid-vaccine/bpps/id_610daf64c.npy'), WindowsPath('C:/Users/animeshs/GD/stanford-covid-vaccine/bpps/id_610eb7012.npy'), WindowsPath('C:/Users/animeshs/GD/stanford-covid-vaccine/bpps/id_611e1d752.npy'), WindowsPath('C:/Users/animeshs/GD/stanford-covid-vaccine/bpps/id_612882315.npy'), WindowsPath('C:/Users/animeshs/GD/stanford-covid-vaccine/bpps/id_614b94f40.npy'), WindowsPath('C:/Users/animeshs/GD/stanford-covid-vaccine/bpps/id_615029ea3.npy'), WindowsPath('C:/Users/animeshs/GD/stanford-covid-vaccine/bpps/id_6150da5b3.npy'), WindowsPath('C:/Users/animeshs/GD/stanford-covid-vaccine/bpps/id_6159eaeed.npy'), WindowsPath('C:/Users/animeshs/GD/stanford-covid-vaccine/bpps/id_6163ae5b9.npy'), WindowsPath('C:/Users/animeshs/GD/stanford-covid-vaccine/bpps/id_617b6b998.npy'), WindowsPath('C:/Users/animeshs/GD/stanford-covid-vaccine/bpps/id_617e76f0a.npy'), WindowsPath('C:/Users/animeshs/GD/stanford-covid-vaccine/bpps/id_6184b26b0.npy'), WindowsPath('C:/Users/animeshs/GD/stanford-covid-vaccine/bpps/id_61860f465.npy'), WindowsPath('C:/Users/animeshs/GD/stanford-covid-vaccine/bpps/id_61897d583.npy'), WindowsPath('C:/Users/animeshs/GD/stanford-covid-vaccine/bpps/id_6199ba748.npy'), WindowsPath('C:/Users/animeshs/GD/stanford-covid-vaccine/bpps/id_619ac044b.npy'), WindowsPath('C:/Users/animeshs/GD/stanford-covid-vaccine/bpps/id_61a1afa7f.npy'), WindowsPath('C:/Users/animeshs/GD/stanford-covid-vaccine/bpps/id_61c3eb2c5.npy'), WindowsPath('C:/Users/animeshs/GD/stanford-covid-vaccine/bpps/id_61cc48c1f.npy'), WindowsPath('C:/Users/animeshs/GD/stanford-covid-vaccine/bpps/id_61d07566d.npy'), WindowsPath('C:/Users/animeshs/GD/stanford-covid-vaccine/bpps/id_61d598534.npy'), WindowsPath('C:/Users/animeshs/GD/stanford-covid-vaccine/bpps/id_61da77e14.npy'), WindowsPath('C:/Users/animeshs/GD/stanford-covid-vaccine/bpps/id_61dd26450.npy'), WindowsPath('C:/Users/animeshs/GD/stanford-covid-vaccine/bpps/id_61e3861c8.npy'), WindowsPath('C:/Users/animeshs/GD/stanford-covid-vaccine/bpps/id_61e6ed53e.npy'), WindowsPath('C:/Users/animeshs/GD/stanford-covid-vaccine/bpps/id_61ec47590.npy'), WindowsPath('C:/Users/animeshs/GD/stanford-covid-vaccine/bpps/id_620275a0b.npy'), WindowsPath('C:/Users/animeshs/GD/stanford-covid-vaccine/bpps/id_6204c5996.npy'), WindowsPath('C:/Users/animeshs/GD/stanford-covid-vaccine/bpps/id_621f728eb.npy'), WindowsPath('C:/Users/animeshs/GD/stanford-covid-vaccine/bpps/id_622b1c316.npy'), WindowsPath('C:/Users/animeshs/GD/stanford-covid-vaccine/bpps/id_622f21d15.npy'), WindowsPath('C:/Users/animeshs/GD/stanford-covid-vaccine/bpps/id_62545f273.npy'), WindowsPath('C:/Users/animeshs/GD/stanford-covid-vaccine/bpps/id_6263f75df.npy'), WindowsPath('C:/Users/animeshs/GD/stanford-covid-vaccine/bpps/id_627c15578.npy'), WindowsPath('C:/Users/animeshs/GD/stanford-covid-vaccine/bpps/id_627f6c5c2.npy'), WindowsPath('C:/Users/animeshs/GD/stanford-covid-vaccine/bpps/id_628bf0cca.npy'), WindowsPath('C:/Users/animeshs/GD/stanford-covid-vaccine/bpps/id_629f355f1.npy'), WindowsPath('C:/Users/animeshs/GD/stanford-covid-vaccine/bpps/id_62a6ffbc8.npy'), WindowsPath('C:/Users/animeshs/GD/stanford-covid-vaccine/bpps/id_62b581745.npy'), WindowsPath('C:/Users/animeshs/GD/stanford-covid-vaccine/bpps/id_62b6318b4.npy'), WindowsPath('C:/Users/animeshs/GD/stanford-covid-vaccine/bpps/id_62ba2466d.npy'), WindowsPath('C:/Users/animeshs/GD/stanford-covid-vaccine/bpps/id_62cb5aded.npy'), WindowsPath('C:/Users/animeshs/GD/stanford-covid-vaccine/bpps/id_62d10370c.npy'), WindowsPath('C:/Users/animeshs/GD/stanford-covid-vaccine/bpps/id_62fa7893d.npy'), WindowsPath('C:/Users/animeshs/GD/stanford-covid-vaccine/bpps/id_63054f3ba.npy'), WindowsPath('C:/Users/animeshs/GD/stanford-covid-vaccine/bpps/id_631e8b75e.npy'), WindowsPath('C:/Users/animeshs/GD/stanford-covid-vaccine/bpps/id_633e8db3c.npy'), WindowsPath('C:/Users/animeshs/GD/stanford-covid-vaccine/bpps/id_634e6ce77.npy'), WindowsPath('C:/Users/animeshs/GD/stanford-covid-vaccine/bpps/id_6354173de.npy'), WindowsPath('C:/Users/animeshs/GD/stanford-covid-vaccine/bpps/id_635ec4b7d.npy'), WindowsPath('C:/Users/animeshs/GD/stanford-covid-vaccine/bpps/id_63716e3b8.npy'), WindowsPath('C:/Users/animeshs/GD/stanford-covid-vaccine/bpps/id_6379f5888.npy'), WindowsPath('C:/Users/animeshs/GD/stanford-covid-vaccine/bpps/id_638b1d647.npy'), WindowsPath('C:/Users/animeshs/GD/stanford-covid-vaccine/bpps/id_639ca4183.npy'), WindowsPath('C:/Users/animeshs/GD/stanford-covid-vaccine/bpps/id_63b51372f.npy'), WindowsPath('C:/Users/animeshs/GD/stanford-covid-vaccine/bpps/id_63c08aa1e.npy'), WindowsPath('C:/Users/animeshs/GD/stanford-covid-vaccine/bpps/id_63c129549.npy'), WindowsPath('C:/Users/animeshs/GD/stanford-covid-vaccine/bpps/id_63c3b7d50.npy'), WindowsPath('C:/Users/animeshs/GD/stanford-covid-vaccine/bpps/id_63c6adff7.npy'), WindowsPath('C:/Users/animeshs/GD/stanford-covid-vaccine/bpps/id_63d57cce5.npy'), WindowsPath('C:/Users/animeshs/GD/stanford-covid-vaccine/bpps/id_63ea77791.npy'), WindowsPath('C:/Users/animeshs/GD/stanford-covid-vaccine/bpps/id_63ed6e584.npy'), WindowsPath('C:/Users/animeshs/GD/stanford-covid-vaccine/bpps/id_63efc8a58.npy'), WindowsPath('C:/Users/animeshs/GD/stanford-covid-vaccine/bpps/id_641139b98.npy'), WindowsPath('C:/Users/animeshs/GD/stanford-covid-vaccine/bpps/id_6420cd22d.npy'), WindowsPath('C:/Users/animeshs/GD/stanford-covid-vaccine/bpps/id_6422999d9.npy'), WindowsPath('C:/Users/animeshs/GD/stanford-covid-vaccine/bpps/id_642eeba5d.npy'), WindowsPath('C:/Users/animeshs/GD/stanford-covid-vaccine/bpps/id_6434fe682.npy'), WindowsPath('C:/Users/animeshs/GD/stanford-covid-vaccine/bpps/id_643a30c8a.npy'), WindowsPath('C:/Users/animeshs/GD/stanford-covid-vaccine/bpps/id_644095f68.npy'), WindowsPath('C:/Users/animeshs/GD/stanford-covid-vaccine/bpps/id_6450874c8.npy'), WindowsPath('C:/Users/animeshs/GD/stanford-covid-vaccine/bpps/id_645624da0.npy'), WindowsPath('C:/Users/animeshs/GD/stanford-covid-vaccine/bpps/id_646884c91.npy'), WindowsPath('C:/Users/animeshs/GD/stanford-covid-vaccine/bpps/id_64692873f.npy'), WindowsPath('C:/Users/animeshs/GD/stanford-covid-vaccine/bpps/id_646e4ee28.npy'), WindowsPath('C:/Users/animeshs/GD/stanford-covid-vaccine/bpps/id_64786c2c5.npy'), WindowsPath('C:/Users/animeshs/GD/stanford-covid-vaccine/bpps/id_647caf45e.npy'), WindowsPath('C:/Users/animeshs/GD/stanford-covid-vaccine/bpps/id_647f39862.npy'), WindowsPath('C:/Users/animeshs/GD/stanford-covid-vaccine/bpps/id_64964adc9.npy'), WindowsPath('C:/Users/animeshs/GD/stanford-covid-vaccine/bpps/id_64a2a0562.npy'), WindowsPath('C:/Users/animeshs/GD/stanford-covid-vaccine/bpps/id_64aa29e98.npy'), WindowsPath('C:/Users/animeshs/GD/stanford-covid-vaccine/bpps/id_64aca596b.npy'), WindowsPath('C:/Users/animeshs/GD/stanford-covid-vaccine/bpps/id_64d01ad6d.npy'), WindowsPath('C:/Users/animeshs/GD/stanford-covid-vaccine/bpps/id_64d6b7665.npy'), WindowsPath('C:/Users/animeshs/GD/stanford-covid-vaccine/bpps/id_64d7328fc.npy'), WindowsPath('C:/Users/animeshs/GD/stanford-covid-vaccine/bpps/id_64d8a7ed6.npy'), WindowsPath('C:/Users/animeshs/GD/stanford-covid-vaccine/bpps/id_64faab1b6.npy'), WindowsPath('C:/Users/animeshs/GD/stanford-covid-vaccine/bpps/id_64fd9e845.npy'), WindowsPath('C:/Users/animeshs/GD/stanford-covid-vaccine/bpps/id_651ca45dd.npy'), WindowsPath('C:/Users/animeshs/GD/stanford-covid-vaccine/bpps/id_65225b437.npy'), WindowsPath('C:/Users/animeshs/GD/stanford-covid-vaccine/bpps/id_652613a0b.npy'), WindowsPath('C:/Users/animeshs/GD/stanford-covid-vaccine/bpps/id_652706c6a.npy'), WindowsPath('C:/Users/animeshs/GD/stanford-covid-vaccine/bpps/id_652a4be05.npy'), WindowsPath('C:/Users/animeshs/GD/stanford-covid-vaccine/bpps/id_652e19559.npy'), WindowsPath('C:/Users/animeshs/GD/stanford-covid-vaccine/bpps/id_652f7e933.npy'), WindowsPath('C:/Users/animeshs/GD/stanford-covid-vaccine/bpps/id_65337ec7e.npy'), WindowsPath('C:/Users/animeshs/GD/stanford-covid-vaccine/bpps/id_653759b9f.npy'), WindowsPath('C:/Users/animeshs/GD/stanford-covid-vaccine/bpps/id_653c0a7dd.npy'), WindowsPath('C:/Users/animeshs/GD/stanford-covid-vaccine/bpps/id_654ccdb48.npy'), WindowsPath('C:/Users/animeshs/GD/stanford-covid-vaccine/bpps/id_65583c8e8.npy'), WindowsPath('C:/Users/animeshs/GD/stanford-covid-vaccine/bpps/id_655e2ceab.npy'), WindowsPath('C:/Users/animeshs/GD/stanford-covid-vaccine/bpps/id_656f6e49e.npy'), WindowsPath('C:/Users/animeshs/GD/stanford-covid-vaccine/bpps/id_657337a5a.npy'), WindowsPath('C:/Users/animeshs/GD/stanford-covid-vaccine/bpps/id_657476e43.npy'), WindowsPath('C:/Users/animeshs/GD/stanford-covid-vaccine/bpps/id_6580fa67a.npy'), WindowsPath('C:/Users/animeshs/GD/stanford-covid-vaccine/bpps/id_658895336.npy'), WindowsPath('C:/Users/animeshs/GD/stanford-covid-vaccine/bpps/id_6594f0cb7.npy'), WindowsPath('C:/Users/animeshs/GD/stanford-covid-vaccine/bpps/id_65a3566f2.npy'), WindowsPath('C:/Users/animeshs/GD/stanford-covid-vaccine/bpps/id_65b39c177.npy'), WindowsPath('C:/Users/animeshs/GD/stanford-covid-vaccine/bpps/id_65bac322a.npy'), WindowsPath('C:/Users/animeshs/GD/stanford-covid-vaccine/bpps/id_65bbee525.npy'), WindowsPath('C:/Users/animeshs/GD/stanford-covid-vaccine/bpps/id_65d4b4168.npy'), WindowsPath('C:/Users/animeshs/GD/stanford-covid-vaccine/bpps/id_65d5e2158.npy'), WindowsPath('C:/Users/animeshs/GD/stanford-covid-vaccine/bpps/id_65e6df8a0.npy'), WindowsPath('C:/Users/animeshs/GD/stanford-covid-vaccine/bpps/id_65f125c03.npy'), WindowsPath('C:/Users/animeshs/GD/stanford-covid-vaccine/bpps/id_65f243359.npy'), WindowsPath('C:/Users/animeshs/GD/stanford-covid-vaccine/bpps/id_6611fb4d9.npy'), WindowsPath('C:/Users/animeshs/GD/stanford-covid-vaccine/bpps/id_6617f0e64.npy'), WindowsPath('C:/Users/animeshs/GD/stanford-covid-vaccine/bpps/id_6619806ea.npy'), WindowsPath('C:/Users/animeshs/GD/stanford-covid-vaccine/bpps/id_6625df6b6.npy'), WindowsPath('C:/Users/animeshs/GD/stanford-covid-vaccine/bpps/id_663874600.npy'), WindowsPath('C:/Users/animeshs/GD/stanford-covid-vaccine/bpps/id_663bf9c4b.npy'), WindowsPath('C:/Users/animeshs/GD/stanford-covid-vaccine/bpps/id_664f742fd.npy'), WindowsPath('C:/Users/animeshs/GD/stanford-covid-vaccine/bpps/id_665d59309.npy'), WindowsPath('C:/Users/animeshs/GD/stanford-covid-vaccine/bpps/id_665e36c73.npy'), WindowsPath('C:/Users/animeshs/GD/stanford-covid-vaccine/bpps/id_666b07d9f.npy'), WindowsPath('C:/Users/animeshs/GD/stanford-covid-vaccine/bpps/id_66767f6a5.npy'), WindowsPath('C:/Users/animeshs/GD/stanford-covid-vaccine/bpps/id_667f04c50.npy'), WindowsPath('C:/Users/animeshs/GD/stanford-covid-vaccine/bpps/id_669d8937c.npy'), WindowsPath('C:/Users/animeshs/GD/stanford-covid-vaccine/bpps/id_669edaca6.npy'), WindowsPath('C:/Users/animeshs/GD/stanford-covid-vaccine/bpps/id_66aa024df.npy'), WindowsPath('C:/Users/animeshs/GD/stanford-covid-vaccine/bpps/id_66cb2f52d.npy'), WindowsPath('C:/Users/animeshs/GD/stanford-covid-vaccine/bpps/id_66cc03f14.npy'), WindowsPath('C:/Users/animeshs/GD/stanford-covid-vaccine/bpps/id_66da560a5.npy'), WindowsPath('C:/Users/animeshs/GD/stanford-covid-vaccine/bpps/id_66dc8e0c9.npy'), WindowsPath('C:/Users/animeshs/GD/stanford-covid-vaccine/bpps/id_66f32b21c.npy'), WindowsPath('C:/Users/animeshs/GD/stanford-covid-vaccine/bpps/id_66f9d54e5.npy'), WindowsPath('C:/Users/animeshs/GD/stanford-covid-vaccine/bpps/id_67187eb03.npy'), WindowsPath('C:/Users/animeshs/GD/stanford-covid-vaccine/bpps/id_67193bfcb.npy'), WindowsPath('C:/Users/animeshs/GD/stanford-covid-vaccine/bpps/id_6734aa69e.npy'), WindowsPath('C:/Users/animeshs/GD/stanford-covid-vaccine/bpps/id_67409bf45.npy'), WindowsPath('C:/Users/animeshs/GD/stanford-covid-vaccine/bpps/id_6748376ba.npy'), WindowsPath('C:/Users/animeshs/GD/stanford-covid-vaccine/bpps/id_674b4130e.npy'), WindowsPath('C:/Users/animeshs/GD/stanford-covid-vaccine/bpps/id_6769fe398.npy'), WindowsPath('C:/Users/animeshs/GD/stanford-covid-vaccine/bpps/id_676a7b133.npy'), WindowsPath('C:/Users/animeshs/GD/stanford-covid-vaccine/bpps/id_676ceeb47.npy'), WindowsPath('C:/Users/animeshs/GD/stanford-covid-vaccine/bpps/id_67736df5a.npy'), WindowsPath('C:/Users/animeshs/GD/stanford-covid-vaccine/bpps/id_677e7ea5a.npy'), WindowsPath('C:/Users/animeshs/GD/stanford-covid-vaccine/bpps/id_678854884.npy'), WindowsPath('C:/Users/animeshs/GD/stanford-covid-vaccine/bpps/id_67937fbaf.npy'), WindowsPath('C:/Users/animeshs/GD/stanford-covid-vaccine/bpps/id_6799d6e01.npy'), WindowsPath('C:/Users/animeshs/GD/stanford-covid-vaccine/bpps/id_679d15d3b.npy'), WindowsPath('C:/Users/animeshs/GD/stanford-covid-vaccine/bpps/id_67a5c7d70.npy'), WindowsPath('C:/Users/animeshs/GD/stanford-covid-vaccine/bpps/id_67a63d1fb.npy'), WindowsPath('C:/Users/animeshs/GD/stanford-covid-vaccine/bpps/id_67a70d2e1.npy'), WindowsPath('C:/Users/animeshs/GD/stanford-covid-vaccine/bpps/id_67dec91e0.npy'), WindowsPath('C:/Users/animeshs/GD/stanford-covid-vaccine/bpps/id_67e133d29.npy'), WindowsPath('C:/Users/animeshs/GD/stanford-covid-vaccine/bpps/id_67efb6abe.npy'), WindowsPath('C:/Users/animeshs/GD/stanford-covid-vaccine/bpps/id_680880e18.npy'), WindowsPath('C:/Users/animeshs/GD/stanford-covid-vaccine/bpps/id_680a92b98.npy'), WindowsPath('C:/Users/animeshs/GD/stanford-covid-vaccine/bpps/id_681f85e31.npy'), WindowsPath('C:/Users/animeshs/GD/stanford-covid-vaccine/bpps/id_6836c5d65.npy'), WindowsPath('C:/Users/animeshs/GD/stanford-covid-vaccine/bpps/id_683d895aa.npy'), WindowsPath('C:/Users/animeshs/GD/stanford-covid-vaccine/bpps/id_6851998ad.npy'), WindowsPath('C:/Users/animeshs/GD/stanford-covid-vaccine/bpps/id_685f1cf8c.npy'), WindowsPath('C:/Users/animeshs/GD/stanford-covid-vaccine/bpps/id_6868db50a.npy'), WindowsPath('C:/Users/animeshs/GD/stanford-covid-vaccine/bpps/id_6869a582e.npy'), WindowsPath('C:/Users/animeshs/GD/stanford-covid-vaccine/bpps/id_686cf5e9d.npy'), WindowsPath('C:/Users/animeshs/GD/stanford-covid-vaccine/bpps/id_68727278a.npy'), WindowsPath('C:/Users/animeshs/GD/stanford-covid-vaccine/bpps/id_687a7d5b1.npy'), WindowsPath('C:/Users/animeshs/GD/stanford-covid-vaccine/bpps/id_6886aa0df.npy'), WindowsPath('C:/Users/animeshs/GD/stanford-covid-vaccine/bpps/id_688c4a4a8.npy'), WindowsPath('C:/Users/animeshs/GD/stanford-covid-vaccine/bpps/id_68947e9a4.npy'), WindowsPath('C:/Users/animeshs/GD/stanford-covid-vaccine/bpps/id_68954ba34.npy'), WindowsPath('C:/Users/animeshs/GD/stanford-covid-vaccine/bpps/id_689856780.npy'), WindowsPath('C:/Users/animeshs/GD/stanford-covid-vaccine/bpps/id_68a871d86.npy'), WindowsPath('C:/Users/animeshs/GD/stanford-covid-vaccine/bpps/id_68b468355.npy'), WindowsPath('C:/Users/animeshs/GD/stanford-covid-vaccine/bpps/id_68c5e049c.npy'), WindowsPath('C:/Users/animeshs/GD/stanford-covid-vaccine/bpps/id_68caac980.npy'), WindowsPath('C:/Users/animeshs/GD/stanford-covid-vaccine/bpps/id_68d054676.npy'), WindowsPath('C:/Users/animeshs/GD/stanford-covid-vaccine/bpps/id_68dff92da.npy'), WindowsPath('C:/Users/animeshs/GD/stanford-covid-vaccine/bpps/id_68f7a95f5.npy'), WindowsPath('C:/Users/animeshs/GD/stanford-covid-vaccine/bpps/id_690cffcc2.npy'), WindowsPath('C:/Users/animeshs/GD/stanford-covid-vaccine/bpps/id_690f0c52f.npy'), WindowsPath('C:/Users/animeshs/GD/stanford-covid-vaccine/bpps/id_6914512b3.npy'), WindowsPath('C:/Users/animeshs/GD/stanford-covid-vaccine/bpps/id_692a7faf8.npy'), WindowsPath('C:/Users/animeshs/GD/stanford-covid-vaccine/bpps/id_694116071.npy'), WindowsPath('C:/Users/animeshs/GD/stanford-covid-vaccine/bpps/id_694407573.npy'), WindowsPath('C:/Users/animeshs/GD/stanford-covid-vaccine/bpps/id_694a784ce.npy'), WindowsPath('C:/Users/animeshs/GD/stanford-covid-vaccine/bpps/id_69681b847.npy'), WindowsPath('C:/Users/animeshs/GD/stanford-covid-vaccine/bpps/id_697187b7a.npy'), WindowsPath('C:/Users/animeshs/GD/stanford-covid-vaccine/bpps/id_6973257ae.npy'), WindowsPath('C:/Users/animeshs/GD/stanford-covid-vaccine/bpps/id_6985ed544.npy'), WindowsPath('C:/Users/animeshs/GD/stanford-covid-vaccine/bpps/id_699345691.npy'), WindowsPath('C:/Users/animeshs/GD/stanford-covid-vaccine/bpps/id_6993db2ab.npy'), WindowsPath('C:/Users/animeshs/GD/stanford-covid-vaccine/bpps/id_69a308039.npy'), WindowsPath('C:/Users/animeshs/GD/stanford-covid-vaccine/bpps/id_69a38ed79.npy'), WindowsPath('C:/Users/animeshs/GD/stanford-covid-vaccine/bpps/id_69a3e7c2b.npy'), WindowsPath('C:/Users/animeshs/GD/stanford-covid-vaccine/bpps/id_69bbedd86.npy'), WindowsPath('C:/Users/animeshs/GD/stanford-covid-vaccine/bpps/id_69c9f7545.npy'), WindowsPath('C:/Users/animeshs/GD/stanford-covid-vaccine/bpps/id_69d9edaf0.npy'), WindowsPath('C:/Users/animeshs/GD/stanford-covid-vaccine/bpps/id_69da5bc8c.npy'), WindowsPath('C:/Users/animeshs/GD/stanford-covid-vaccine/bpps/id_69dbe3ca0.npy'), WindowsPath('C:/Users/animeshs/GD/stanford-covid-vaccine/bpps/id_69e3878a2.npy'), WindowsPath('C:/Users/animeshs/GD/stanford-covid-vaccine/bpps/id_69f031c76.npy'), WindowsPath('C:/Users/animeshs/GD/stanford-covid-vaccine/bpps/id_69f243546.npy'), WindowsPath('C:/Users/animeshs/GD/stanford-covid-vaccine/bpps/id_69f2c129d.npy'), WindowsPath('C:/Users/animeshs/GD/stanford-covid-vaccine/bpps/id_6a0a738e1.npy'), WindowsPath('C:/Users/animeshs/GD/stanford-covid-vaccine/bpps/id_6a2ef34e2.npy'), WindowsPath('C:/Users/animeshs/GD/stanford-covid-vaccine/bpps/id_6a35fc0f5.npy'), WindowsPath('C:/Users/animeshs/GD/stanford-covid-vaccine/bpps/id_6a42f14eb.npy'), WindowsPath('C:/Users/animeshs/GD/stanford-covid-vaccine/bpps/id_6a46a3aa2.npy'), WindowsPath('C:/Users/animeshs/GD/stanford-covid-vaccine/bpps/id_6a49365b5.npy'), WindowsPath('C:/Users/animeshs/GD/stanford-covid-vaccine/bpps/id_6a613f832.npy'), WindowsPath('C:/Users/animeshs/GD/stanford-covid-vaccine/bpps/id_6a79d892d.npy'), WindowsPath('C:/Users/animeshs/GD/stanford-covid-vaccine/bpps/id_6a7a590c1.npy'), WindowsPath('C:/Users/animeshs/GD/stanford-covid-vaccine/bpps/id_6a8430094.npy'), WindowsPath('C:/Users/animeshs/GD/stanford-covid-vaccine/bpps/id_6a8c013ac.npy'), WindowsPath('C:/Users/animeshs/GD/stanford-covid-vaccine/bpps/id_6a8dcc355.npy'), WindowsPath('C:/Users/animeshs/GD/stanford-covid-vaccine/bpps/id_6a987cd81.npy'), WindowsPath('C:/Users/animeshs/GD/stanford-covid-vaccine/bpps/id_6a9c57be9.npy'), WindowsPath('C:/Users/animeshs/GD/stanford-covid-vaccine/bpps/id_6ab289299.npy'), WindowsPath('C:/Users/animeshs/GD/stanford-covid-vaccine/bpps/id_6ab97f35f.npy'), WindowsPath('C:/Users/animeshs/GD/stanford-covid-vaccine/bpps/id_6ad4b9e6e.npy'), WindowsPath('C:/Users/animeshs/GD/stanford-covid-vaccine/bpps/id_6add5e119.npy'), WindowsPath('C:/Users/animeshs/GD/stanford-covid-vaccine/bpps/id_6aec2308f.npy'), WindowsPath('C:/Users/animeshs/GD/stanford-covid-vaccine/bpps/id_6aecc8e32.npy'), WindowsPath('C:/Users/animeshs/GD/stanford-covid-vaccine/bpps/id_6af23f5d1.npy'), WindowsPath('C:/Users/animeshs/GD/stanford-covid-vaccine/bpps/id_6afddefd0.npy'), WindowsPath('C:/Users/animeshs/GD/stanford-covid-vaccine/bpps/id_6b0333bf2.npy'), WindowsPath('C:/Users/animeshs/GD/stanford-covid-vaccine/bpps/id_6b0b9ac67.npy'), WindowsPath('C:/Users/animeshs/GD/stanford-covid-vaccine/bpps/id_6b0f5ca2c.npy'), WindowsPath('C:/Users/animeshs/GD/stanford-covid-vaccine/bpps/id_6b108d4de.npy'), WindowsPath('C:/Users/animeshs/GD/stanford-covid-vaccine/bpps/id_6b21287c3.npy'), WindowsPath('C:/Users/animeshs/GD/stanford-covid-vaccine/bpps/id_6b43ea17a.npy'), WindowsPath('C:/Users/animeshs/GD/stanford-covid-vaccine/bpps/id_6b4753ff6.npy'), WindowsPath('C:/Users/animeshs/GD/stanford-covid-vaccine/bpps/id_6b4786295.npy'), WindowsPath('C:/Users/animeshs/GD/stanford-covid-vaccine/bpps/id_6b4d8ebe1.npy'), WindowsPath('C:/Users/animeshs/GD/stanford-covid-vaccine/bpps/id_6b739cfde.npy'), WindowsPath('C:/Users/animeshs/GD/stanford-covid-vaccine/bpps/id_6b78819fa.npy'), WindowsPath('C:/Users/animeshs/GD/stanford-covid-vaccine/bpps/id_6b86265f9.npy'), WindowsPath('C:/Users/animeshs/GD/stanford-covid-vaccine/bpps/id_6b89da398.npy'), WindowsPath('C:/Users/animeshs/GD/stanford-covid-vaccine/bpps/id_6b8cd1ec2.npy'), WindowsPath('C:/Users/animeshs/GD/stanford-covid-vaccine/bpps/id_6ba1dee91.npy'), WindowsPath('C:/Users/animeshs/GD/stanford-covid-vaccine/bpps/id_6ba2cf115.npy'), WindowsPath('C:/Users/animeshs/GD/stanford-covid-vaccine/bpps/id_6baa932a8.npy'), WindowsPath('C:/Users/animeshs/GD/stanford-covid-vaccine/bpps/id_6bb732a1e.npy'), WindowsPath('C:/Users/animeshs/GD/stanford-covid-vaccine/bpps/id_6bba74fd3.npy'), WindowsPath('C:/Users/animeshs/GD/stanford-covid-vaccine/bpps/id_6bd89c2c9.npy'), WindowsPath('C:/Users/animeshs/GD/stanford-covid-vaccine/bpps/id_6bdd27363.npy'), WindowsPath('C:/Users/animeshs/GD/stanford-covid-vaccine/bpps/id_6be17eee1.npy'), WindowsPath('C:/Users/animeshs/GD/stanford-covid-vaccine/bpps/id_6be209879.npy'), WindowsPath('C:/Users/animeshs/GD/stanford-covid-vaccine/bpps/id_6bf0243a9.npy'), WindowsPath('C:/Users/animeshs/GD/stanford-covid-vaccine/bpps/id_6c1114009.npy'), WindowsPath('C:/Users/animeshs/GD/stanford-covid-vaccine/bpps/id_6c26d96c5.npy'), WindowsPath('C:/Users/animeshs/GD/stanford-covid-vaccine/bpps/id_6c326c939.npy'), WindowsPath('C:/Users/animeshs/GD/stanford-covid-vaccine/bpps/id_6c3c89bd0.npy'), WindowsPath('C:/Users/animeshs/GD/stanford-covid-vaccine/bpps/id_6c3c9f23b.npy'), WindowsPath('C:/Users/animeshs/GD/stanford-covid-vaccine/bpps/id_6c4ae1fe7.npy'), WindowsPath('C:/Users/animeshs/GD/stanford-covid-vaccine/bpps/id_6c4e7626d.npy'), WindowsPath('C:/Users/animeshs/GD/stanford-covid-vaccine/bpps/id_6c584964b.npy'), WindowsPath('C:/Users/animeshs/GD/stanford-covid-vaccine/bpps/id_6c58cab59.npy'), WindowsPath('C:/Users/animeshs/GD/stanford-covid-vaccine/bpps/id_6c61a75c4.npy'), WindowsPath('C:/Users/animeshs/GD/stanford-covid-vaccine/bpps/id_6c6b4bd70.npy'), WindowsPath('C:/Users/animeshs/GD/stanford-covid-vaccine/bpps/id_6c7b8fe03.npy'), WindowsPath('C:/Users/animeshs/GD/stanford-covid-vaccine/bpps/id_6c8082f29.npy'), WindowsPath('C:/Users/animeshs/GD/stanford-covid-vaccine/bpps/id_6c90fef7e.npy'), WindowsPath('C:/Users/animeshs/GD/stanford-covid-vaccine/bpps/id_6c9208239.npy'), WindowsPath('C:/Users/animeshs/GD/stanford-covid-vaccine/bpps/id_6c94d655e.npy'), WindowsPath('C:/Users/animeshs/GD/stanford-covid-vaccine/bpps/id_6c99531af.npy'), WindowsPath('C:/Users/animeshs/GD/stanford-covid-vaccine/bpps/id_6c9c38d38.npy'), WindowsPath('C:/Users/animeshs/GD/stanford-covid-vaccine/bpps/id_6cb65a015.npy'), WindowsPath('C:/Users/animeshs/GD/stanford-covid-vaccine/bpps/id_6cd67a7f6.npy'), WindowsPath('C:/Users/animeshs/GD/stanford-covid-vaccine/bpps/id_6cf76acbe.npy'), WindowsPath('C:/Users/animeshs/GD/stanford-covid-vaccine/bpps/id_6d091829e.npy'), WindowsPath('C:/Users/animeshs/GD/stanford-covid-vaccine/bpps/id_6d0b4309f.npy'), WindowsPath('C:/Users/animeshs/GD/stanford-covid-vaccine/bpps/id_6d1bd5533.npy'), WindowsPath('C:/Users/animeshs/GD/stanford-covid-vaccine/bpps/id_6d1ed000e.npy'), WindowsPath('C:/Users/animeshs/GD/stanford-covid-vaccine/bpps/id_6d2838185.npy'), WindowsPath('C:/Users/animeshs/GD/stanford-covid-vaccine/bpps/id_6d3120b29.npy'), WindowsPath('C:/Users/animeshs/GD/stanford-covid-vaccine/bpps/id_6d46feb62.npy'), WindowsPath('C:/Users/animeshs/GD/stanford-covid-vaccine/bpps/id_6d48b247d.npy'), WindowsPath('C:/Users/animeshs/GD/stanford-covid-vaccine/bpps/id_6d4aafa5e.npy'), WindowsPath('C:/Users/animeshs/GD/stanford-covid-vaccine/bpps/id_6d4fb38dd.npy'), WindowsPath('C:/Users/animeshs/GD/stanford-covid-vaccine/bpps/id_6d66da5ef.npy'), WindowsPath('C:/Users/animeshs/GD/stanford-covid-vaccine/bpps/id_6d75db0d9.npy'), WindowsPath('C:/Users/animeshs/GD/stanford-covid-vaccine/bpps/id_6d7a549eb.npy'), WindowsPath('C:/Users/animeshs/GD/stanford-covid-vaccine/bpps/id_6d8046177.npy'), WindowsPath('C:/Users/animeshs/GD/stanford-covid-vaccine/bpps/id_6d830896c.npy'), WindowsPath('C:/Users/animeshs/GD/stanford-covid-vaccine/bpps/id_6d96646df.npy'), WindowsPath('C:/Users/animeshs/GD/stanford-covid-vaccine/bpps/id_6d9ba7911.npy'), WindowsPath('C:/Users/animeshs/GD/stanford-covid-vaccine/bpps/id_6d9dc37d7.npy'), WindowsPath('C:/Users/animeshs/GD/stanford-covid-vaccine/bpps/id_6d9ef226c.npy'), WindowsPath('C:/Users/animeshs/GD/stanford-covid-vaccine/bpps/id_6d9ef62de.npy'), WindowsPath('C:/Users/animeshs/GD/stanford-covid-vaccine/bpps/id_6d9f056e0.npy'), WindowsPath('C:/Users/animeshs/GD/stanford-covid-vaccine/bpps/id_6daff01dc.npy'), WindowsPath('C:/Users/animeshs/GD/stanford-covid-vaccine/bpps/id_6dc2f32e4.npy'), WindowsPath('C:/Users/animeshs/GD/stanford-covid-vaccine/bpps/id_6de018792.npy'), WindowsPath('C:/Users/animeshs/GD/stanford-covid-vaccine/bpps/id_6de0fd83a.npy'), WindowsPath('C:/Users/animeshs/GD/stanford-covid-vaccine/bpps/id_6deb37f7d.npy'), WindowsPath('C:/Users/animeshs/GD/stanford-covid-vaccine/bpps/id_6e0055284.npy'), WindowsPath('C:/Users/animeshs/GD/stanford-covid-vaccine/bpps/id_6e072995a.npy'), WindowsPath('C:/Users/animeshs/GD/stanford-covid-vaccine/bpps/id_6e24e39dd.npy'), WindowsPath('C:/Users/animeshs/GD/stanford-covid-vaccine/bpps/id_6e264da9d.npy'), WindowsPath('C:/Users/animeshs/GD/stanford-covid-vaccine/bpps/id_6e39f9976.npy'), WindowsPath('C:/Users/animeshs/GD/stanford-covid-vaccine/bpps/id_6e490328c.npy'), WindowsPath('C:/Users/animeshs/GD/stanford-covid-vaccine/bpps/id_6e4f3fdfb.npy'), WindowsPath('C:/Users/animeshs/GD/stanford-covid-vaccine/bpps/id_6e612b4ac.npy'), WindowsPath('C:/Users/animeshs/GD/stanford-covid-vaccine/bpps/id_6e751e09d.npy'), WindowsPath('C:/Users/animeshs/GD/stanford-covid-vaccine/bpps/id_6ea17f6f1.npy'), WindowsPath('C:/Users/animeshs/GD/stanford-covid-vaccine/bpps/id_6ea18f302.npy'), WindowsPath('C:/Users/animeshs/GD/stanford-covid-vaccine/bpps/id_6ea4f3fef.npy'), WindowsPath('C:/Users/animeshs/GD/stanford-covid-vaccine/bpps/id_6eacc6127.npy'), WindowsPath('C:/Users/animeshs/GD/stanford-covid-vaccine/bpps/id_6eb80736e.npy'), WindowsPath('C:/Users/animeshs/GD/stanford-covid-vaccine/bpps/id_6ee62b387.npy'), WindowsPath('C:/Users/animeshs/GD/stanford-covid-vaccine/bpps/id_6f06e4c44.npy'), WindowsPath('C:/Users/animeshs/GD/stanford-covid-vaccine/bpps/id_6f0a2c1f5.npy'), WindowsPath('C:/Users/animeshs/GD/stanford-covid-vaccine/bpps/id_6f2830b7d.npy'), WindowsPath('C:/Users/animeshs/GD/stanford-covid-vaccine/bpps/id_6f28c3156.npy'), WindowsPath('C:/Users/animeshs/GD/stanford-covid-vaccine/bpps/id_6f32b03c6.npy'), WindowsPath('C:/Users/animeshs/GD/stanford-covid-vaccine/bpps/id_6f3943f0d.npy'), WindowsPath('C:/Users/animeshs/GD/stanford-covid-vaccine/bpps/id_6f5059b19.npy'), WindowsPath('C:/Users/animeshs/GD/stanford-covid-vaccine/bpps/id_6f5762747.npy'), WindowsPath('C:/Users/animeshs/GD/stanford-covid-vaccine/bpps/id_6f58e59b2.npy'), WindowsPath('C:/Users/animeshs/GD/stanford-covid-vaccine/bpps/id_6f74b7db2.npy'), WindowsPath('C:/Users/animeshs/GD/stanford-covid-vaccine/bpps/id_6f751f5b8.npy'), WindowsPath('C:/Users/animeshs/GD/stanford-covid-vaccine/bpps/id_6f7a14222.npy'), WindowsPath('C:/Users/animeshs/GD/stanford-covid-vaccine/bpps/id_6f7a875b1.npy'), WindowsPath('C:/Users/animeshs/GD/stanford-covid-vaccine/bpps/id_6f84843e8.npy'), WindowsPath('C:/Users/animeshs/GD/stanford-covid-vaccine/bpps/id_6f99847e2.npy'), WindowsPath('C:/Users/animeshs/GD/stanford-covid-vaccine/bpps/id_6f9b98a6b.npy'), WindowsPath('C:/Users/animeshs/GD/stanford-covid-vaccine/bpps/id_6fa075a84.npy'), WindowsPath('C:/Users/animeshs/GD/stanford-covid-vaccine/bpps/id_6fa2f2ee2.npy'), WindowsPath('C:/Users/animeshs/GD/stanford-covid-vaccine/bpps/id_6fa58120f.npy'), WindowsPath('C:/Users/animeshs/GD/stanford-covid-vaccine/bpps/id_6fa79bdd5.npy'), WindowsPath('C:/Users/animeshs/GD/stanford-covid-vaccine/bpps/id_6faed9c8e.npy'), WindowsPath('C:/Users/animeshs/GD/stanford-covid-vaccine/bpps/id_6fbb0e73d.npy'), WindowsPath('C:/Users/animeshs/GD/stanford-covid-vaccine/bpps/id_6fbeabd61.npy'), WindowsPath('C:/Users/animeshs/GD/stanford-covid-vaccine/bpps/id_6fc14557f.npy'), WindowsPath('C:/Users/animeshs/GD/stanford-covid-vaccine/bpps/id_6fc888b5f.npy'), WindowsPath('C:/Users/animeshs/GD/stanford-covid-vaccine/bpps/id_6fd90b255.npy'), WindowsPath('C:/Users/animeshs/GD/stanford-covid-vaccine/bpps/id_6fdb8f698.npy'), WindowsPath('C:/Users/animeshs/GD/stanford-covid-vaccine/bpps/id_6fe45c20c.npy'), WindowsPath('C:/Users/animeshs/GD/stanford-covid-vaccine/bpps/id_6fe4a1abc.npy'), WindowsPath('C:/Users/animeshs/GD/stanford-covid-vaccine/bpps/id_6fe6034e4.npy'), WindowsPath('C:/Users/animeshs/GD/stanford-covid-vaccine/bpps/id_6fef62b80.npy'), WindowsPath('C:/Users/animeshs/GD/stanford-covid-vaccine/bpps/id_7003185de.npy'), WindowsPath('C:/Users/animeshs/GD/stanford-covid-vaccine/bpps/id_7028528d7.npy'), WindowsPath('C:/Users/animeshs/GD/stanford-covid-vaccine/bpps/id_703b4f079.npy'), WindowsPath('C:/Users/animeshs/GD/stanford-covid-vaccine/bpps/id_703dbd538.npy'), WindowsPath('C:/Users/animeshs/GD/stanford-covid-vaccine/bpps/id_70409da95.npy'), WindowsPath('C:/Users/animeshs/GD/stanford-covid-vaccine/bpps/id_704308b24.npy'), WindowsPath('C:/Users/animeshs/GD/stanford-covid-vaccine/bpps/id_7045a8296.npy'), WindowsPath('C:/Users/animeshs/GD/stanford-covid-vaccine/bpps/id_704b80fbf.npy'), WindowsPath('C:/Users/animeshs/GD/stanford-covid-vaccine/bpps/id_7054c6f00.npy'), WindowsPath('C:/Users/animeshs/GD/stanford-covid-vaccine/bpps/id_7058efbae.npy'), WindowsPath('C:/Users/animeshs/GD/stanford-covid-vaccine/bpps/id_706d296fe.npy'), WindowsPath('C:/Users/animeshs/GD/stanford-covid-vaccine/bpps/id_706d518fd.npy'), WindowsPath('C:/Users/animeshs/GD/stanford-covid-vaccine/bpps/id_70747b441.npy'), WindowsPath('C:/Users/animeshs/GD/stanford-covid-vaccine/bpps/id_70948cfd7.npy'), WindowsPath('C:/Users/animeshs/GD/stanford-covid-vaccine/bpps/id_70daf3cba.npy'), WindowsPath('C:/Users/animeshs/GD/stanford-covid-vaccine/bpps/id_70e656a2d.npy'), WindowsPath('C:/Users/animeshs/GD/stanford-covid-vaccine/bpps/id_70e7524ea.npy'), WindowsPath('C:/Users/animeshs/GD/stanford-covid-vaccine/bpps/id_70ff94751.npy'), WindowsPath('C:/Users/animeshs/GD/stanford-covid-vaccine/bpps/id_71023745a.npy'), WindowsPath('C:/Users/animeshs/GD/stanford-covid-vaccine/bpps/id_710b6d03a.npy'), WindowsPath('C:/Users/animeshs/GD/stanford-covid-vaccine/bpps/id_710d552b2.npy'), WindowsPath('C:/Users/animeshs/GD/stanford-covid-vaccine/bpps/id_710e4bb30.npy'), WindowsPath('C:/Users/animeshs/GD/stanford-covid-vaccine/bpps/id_710fe1bbf.npy'), WindowsPath('C:/Users/animeshs/GD/stanford-covid-vaccine/bpps/id_71108cb31.npy'), WindowsPath('C:/Users/animeshs/GD/stanford-covid-vaccine/bpps/id_71140f8cf.npy'), WindowsPath('C:/Users/animeshs/GD/stanford-covid-vaccine/bpps/id_7116b43c9.npy'), WindowsPath('C:/Users/animeshs/GD/stanford-covid-vaccine/bpps/id_71195bc81.npy'), WindowsPath('C:/Users/animeshs/GD/stanford-covid-vaccine/bpps/id_7121538ea.npy'), WindowsPath('C:/Users/animeshs/GD/stanford-covid-vaccine/bpps/id_712e3f559.npy'), WindowsPath('C:/Users/animeshs/GD/stanford-covid-vaccine/bpps/id_71309e53b.npy'), WindowsPath('C:/Users/animeshs/GD/stanford-covid-vaccine/bpps/id_7142626b9.npy'), WindowsPath('C:/Users/animeshs/GD/stanford-covid-vaccine/bpps/id_715f08181.npy'), WindowsPath('C:/Users/animeshs/GD/stanford-covid-vaccine/bpps/id_71601d7d4.npy'), WindowsPath('C:/Users/animeshs/GD/stanford-covid-vaccine/bpps/id_716737b3c.npy'), WindowsPath('C:/Users/animeshs/GD/stanford-covid-vaccine/bpps/id_71687a190.npy'), WindowsPath('C:/Users/animeshs/GD/stanford-covid-vaccine/bpps/id_716eba54a.npy'), WindowsPath('C:/Users/animeshs/GD/stanford-covid-vaccine/bpps/id_71a4d9faf.npy'), WindowsPath('C:/Users/animeshs/GD/stanford-covid-vaccine/bpps/id_71b8baf2b.npy'), WindowsPath('C:/Users/animeshs/GD/stanford-covid-vaccine/bpps/id_71c4c2ed7.npy'), WindowsPath('C:/Users/animeshs/GD/stanford-covid-vaccine/bpps/id_71d23ef11.npy'), WindowsPath('C:/Users/animeshs/GD/stanford-covid-vaccine/bpps/id_71dc699a2.npy'), WindowsPath('C:/Users/animeshs/GD/stanford-covid-vaccine/bpps/id_71e4cf2e8.npy'), WindowsPath('C:/Users/animeshs/GD/stanford-covid-vaccine/bpps/id_71f4d834c.npy'), WindowsPath('C:/Users/animeshs/GD/stanford-covid-vaccine/bpps/id_71fc8ec10.npy'), WindowsPath('C:/Users/animeshs/GD/stanford-covid-vaccine/bpps/id_71fef30de.npy'), WindowsPath('C:/Users/animeshs/GD/stanford-covid-vaccine/bpps/id_720cc6906.npy'), WindowsPath('C:/Users/animeshs/GD/stanford-covid-vaccine/bpps/id_72130a8e2.npy'), WindowsPath('C:/Users/animeshs/GD/stanford-covid-vaccine/bpps/id_721774803.npy'), WindowsPath('C:/Users/animeshs/GD/stanford-covid-vaccine/bpps/id_72179944a.npy'), WindowsPath('C:/Users/animeshs/GD/stanford-covid-vaccine/bpps/id_7218d5823.npy'), WindowsPath('C:/Users/animeshs/GD/stanford-covid-vaccine/bpps/id_721d037d3.npy'), WindowsPath('C:/Users/animeshs/GD/stanford-covid-vaccine/bpps/id_721f97711.npy'), WindowsPath('C:/Users/animeshs/GD/stanford-covid-vaccine/bpps/id_722aa8119.npy'), WindowsPath('C:/Users/animeshs/GD/stanford-covid-vaccine/bpps/id_722bae059.npy'), WindowsPath('C:/Users/animeshs/GD/stanford-covid-vaccine/bpps/id_724185d34.npy'), WindowsPath('C:/Users/animeshs/GD/stanford-covid-vaccine/bpps/id_72421b8b3.npy'), WindowsPath('C:/Users/animeshs/GD/stanford-covid-vaccine/bpps/id_724d32b46.npy'), WindowsPath('C:/Users/animeshs/GD/stanford-covid-vaccine/bpps/id_7286997e0.npy'), WindowsPath('C:/Users/animeshs/GD/stanford-covid-vaccine/bpps/id_7288156f7.npy'), WindowsPath('C:/Users/animeshs/GD/stanford-covid-vaccine/bpps/id_729650cdf.npy'), WindowsPath('C:/Users/animeshs/GD/stanford-covid-vaccine/bpps/id_72a065486.npy'), WindowsPath('C:/Users/animeshs/GD/stanford-covid-vaccine/bpps/id_72b3c43ea.npy'), WindowsPath('C:/Users/animeshs/GD/stanford-covid-vaccine/bpps/id_72d390bb8.npy'), WindowsPath('C:/Users/animeshs/GD/stanford-covid-vaccine/bpps/id_72e27c7e2.npy'), WindowsPath('C:/Users/animeshs/GD/stanford-covid-vaccine/bpps/id_72e3709c8.npy'), WindowsPath('C:/Users/animeshs/GD/stanford-covid-vaccine/bpps/id_72e4ab318.npy'), WindowsPath('C:/Users/animeshs/GD/stanford-covid-vaccine/bpps/id_72f6a1db2.npy'), WindowsPath('C:/Users/animeshs/GD/stanford-covid-vaccine/bpps/id_73007d61b.npy'), WindowsPath('C:/Users/animeshs/GD/stanford-covid-vaccine/bpps/id_731082e03.npy'), WindowsPath('C:/Users/animeshs/GD/stanford-covid-vaccine/bpps/id_7313e8bb1.npy'), WindowsPath('C:/Users/animeshs/GD/stanford-covid-vaccine/bpps/id_73206e5e5.npy'), WindowsPath('C:/Users/animeshs/GD/stanford-covid-vaccine/bpps/id_73269545c.npy'), WindowsPath('C:/Users/animeshs/GD/stanford-covid-vaccine/bpps/id_734b70aad.npy'), WindowsPath('C:/Users/animeshs/GD/stanford-covid-vaccine/bpps/id_7351f787b.npy'), WindowsPath('C:/Users/animeshs/GD/stanford-covid-vaccine/bpps/id_736397a85.npy'), WindowsPath('C:/Users/animeshs/GD/stanford-covid-vaccine/bpps/id_7363e5a52.npy'), WindowsPath('C:/Users/animeshs/GD/stanford-covid-vaccine/bpps/id_7365e4f5c.npy'), WindowsPath('C:/Users/animeshs/GD/stanford-covid-vaccine/bpps/id_7378361f2.npy'), WindowsPath('C:/Users/animeshs/GD/stanford-covid-vaccine/bpps/id_737cfe7cd.npy'), WindowsPath('C:/Users/animeshs/GD/stanford-covid-vaccine/bpps/id_737f6abc7.npy'), WindowsPath('C:/Users/animeshs/GD/stanford-covid-vaccine/bpps/id_7382d826e.npy'), WindowsPath('C:/Users/animeshs/GD/stanford-covid-vaccine/bpps/id_73884edf2.npy'), WindowsPath('C:/Users/animeshs/GD/stanford-covid-vaccine/bpps/id_738bc48b7.npy'), WindowsPath('C:/Users/animeshs/GD/stanford-covid-vaccine/bpps/id_738cc7468.npy'), WindowsPath('C:/Users/animeshs/GD/stanford-covid-vaccine/bpps/id_7395f9f41.npy'), WindowsPath('C:/Users/animeshs/GD/stanford-covid-vaccine/bpps/id_73a02e035.npy'), WindowsPath('C:/Users/animeshs/GD/stanford-covid-vaccine/bpps/id_73a4ede6b.npy'), WindowsPath('C:/Users/animeshs/GD/stanford-covid-vaccine/bpps/id_73a94d160.npy'), WindowsPath('C:/Users/animeshs/GD/stanford-covid-vaccine/bpps/id_73ad24172.npy'), WindowsPath('C:/Users/animeshs/GD/stanford-covid-vaccine/bpps/id_73b022d30.npy'), WindowsPath('C:/Users/animeshs/GD/stanford-covid-vaccine/bpps/id_73b6c5d48.npy'), WindowsPath('C:/Users/animeshs/GD/stanford-covid-vaccine/bpps/id_73bf7867c.npy'), WindowsPath('C:/Users/animeshs/GD/stanford-covid-vaccine/bpps/id_73cd99bba.npy'), WindowsPath('C:/Users/animeshs/GD/stanford-covid-vaccine/bpps/id_73dbde19b.npy'), WindowsPath('C:/Users/animeshs/GD/stanford-covid-vaccine/bpps/id_73f332f49.npy'), WindowsPath('C:/Users/animeshs/GD/stanford-covid-vaccine/bpps/id_73f786139.npy'), WindowsPath('C:/Users/animeshs/GD/stanford-covid-vaccine/bpps/id_73fda61b1.npy'), WindowsPath('C:/Users/animeshs/GD/stanford-covid-vaccine/bpps/id_73fefd6c3.npy'), WindowsPath('C:/Users/animeshs/GD/stanford-covid-vaccine/bpps/id_7412cfc95.npy'), WindowsPath('C:/Users/animeshs/GD/stanford-covid-vaccine/bpps/id_741755fa7.npy'), WindowsPath('C:/Users/animeshs/GD/stanford-covid-vaccine/bpps/id_742c325f3.npy'), WindowsPath('C:/Users/animeshs/GD/stanford-covid-vaccine/bpps/id_742e40c7e.npy'), WindowsPath('C:/Users/animeshs/GD/stanford-covid-vaccine/bpps/id_74321ce25.npy'), WindowsPath('C:/Users/animeshs/GD/stanford-covid-vaccine/bpps/id_743fb597b.npy'), WindowsPath('C:/Users/animeshs/GD/stanford-covid-vaccine/bpps/id_74453c559.npy'), WindowsPath('C:/Users/animeshs/GD/stanford-covid-vaccine/bpps/id_74555b34a.npy'), WindowsPath('C:/Users/animeshs/GD/stanford-covid-vaccine/bpps/id_745b6765d.npy'), WindowsPath('C:/Users/animeshs/GD/stanford-covid-vaccine/bpps/id_746eb553c.npy'), WindowsPath('C:/Users/animeshs/GD/stanford-covid-vaccine/bpps/id_747ba49c6.npy'), WindowsPath('C:/Users/animeshs/GD/stanford-covid-vaccine/bpps/id_7485c677c.npy'), WindowsPath('C:/Users/animeshs/GD/stanford-covid-vaccine/bpps/id_7487f2391.npy'), WindowsPath('C:/Users/animeshs/GD/stanford-covid-vaccine/bpps/id_74920ecc1.npy'), WindowsPath('C:/Users/animeshs/GD/stanford-covid-vaccine/bpps/id_74921789d.npy'), WindowsPath('C:/Users/animeshs/GD/stanford-covid-vaccine/bpps/id_74bb620d3.npy'), WindowsPath('C:/Users/animeshs/GD/stanford-covid-vaccine/bpps/id_74bbe3958.npy'), WindowsPath('C:/Users/animeshs/GD/stanford-covid-vaccine/bpps/id_74c809b2a.npy'), WindowsPath('C:/Users/animeshs/GD/stanford-covid-vaccine/bpps/id_74cc98d43.npy'), WindowsPath('C:/Users/animeshs/GD/stanford-covid-vaccine/bpps/id_74d06fdf7.npy'), WindowsPath('C:/Users/animeshs/GD/stanford-covid-vaccine/bpps/id_74d6d82c6.npy'), WindowsPath('C:/Users/animeshs/GD/stanford-covid-vaccine/bpps/id_74dd1e7b2.npy'), WindowsPath('C:/Users/animeshs/GD/stanford-covid-vaccine/bpps/id_74ddaeb1b.npy'), WindowsPath('C:/Users/animeshs/GD/stanford-covid-vaccine/bpps/id_74e708ac3.npy'), WindowsPath('C:/Users/animeshs/GD/stanford-covid-vaccine/bpps/id_74f1b787c.npy'), WindowsPath('C:/Users/animeshs/GD/stanford-covid-vaccine/bpps/id_74f8a543e.npy'), WindowsPath('C:/Users/animeshs/GD/stanford-covid-vaccine/bpps/id_7518c0356.npy'), WindowsPath('C:/Users/animeshs/GD/stanford-covid-vaccine/bpps/id_752614c23.npy'), WindowsPath('C:/Users/animeshs/GD/stanford-covid-vaccine/bpps/id_752a682b6.npy'), WindowsPath('C:/Users/animeshs/GD/stanford-covid-vaccine/bpps/id_7532287c6.npy'), WindowsPath('C:/Users/animeshs/GD/stanford-covid-vaccine/bpps/id_7550b78fe.npy'), WindowsPath('C:/Users/animeshs/GD/stanford-covid-vaccine/bpps/id_755466a4d.npy'), WindowsPath('C:/Users/animeshs/GD/stanford-covid-vaccine/bpps/id_755fa0280.npy'), WindowsPath('C:/Users/animeshs/GD/stanford-covid-vaccine/bpps/id_756489dc3.npy'), WindowsPath('C:/Users/animeshs/GD/stanford-covid-vaccine/bpps/id_7564b0329.npy'), WindowsPath('C:/Users/animeshs/GD/stanford-covid-vaccine/bpps/id_7566e34ad.npy'), WindowsPath('C:/Users/animeshs/GD/stanford-covid-vaccine/bpps/id_7570b4218.npy'), WindowsPath('C:/Users/animeshs/GD/stanford-covid-vaccine/bpps/id_7574de484.npy'), WindowsPath('C:/Users/animeshs/GD/stanford-covid-vaccine/bpps/id_757b252c2.npy'), WindowsPath('C:/Users/animeshs/GD/stanford-covid-vaccine/bpps/id_758f20788.npy'), WindowsPath('C:/Users/animeshs/GD/stanford-covid-vaccine/bpps/id_758f2931d.npy'), WindowsPath('C:/Users/animeshs/GD/stanford-covid-vaccine/bpps/id_7592f8c4d.npy'), WindowsPath('C:/Users/animeshs/GD/stanford-covid-vaccine/bpps/id_7593e3b13.npy'), WindowsPath('C:/Users/animeshs/GD/stanford-covid-vaccine/bpps/id_759834463.npy'), WindowsPath('C:/Users/animeshs/GD/stanford-covid-vaccine/bpps/id_75a4b633e.npy'), WindowsPath('C:/Users/animeshs/GD/stanford-covid-vaccine/bpps/id_75b58ad28.npy'), WindowsPath('C:/Users/animeshs/GD/stanford-covid-vaccine/bpps/id_75ca3a981.npy'), WindowsPath('C:/Users/animeshs/GD/stanford-covid-vaccine/bpps/id_75d402d55.npy'), WindowsPath('C:/Users/animeshs/GD/stanford-covid-vaccine/bpps/id_75d565bf1.npy'), WindowsPath('C:/Users/animeshs/GD/stanford-covid-vaccine/bpps/id_75d83042d.npy'), WindowsPath('C:/Users/animeshs/GD/stanford-covid-vaccine/bpps/id_75d8e1c99.npy'), WindowsPath('C:/Users/animeshs/GD/stanford-covid-vaccine/bpps/id_75dc3b653.npy'), WindowsPath('C:/Users/animeshs/GD/stanford-covid-vaccine/bpps/id_75e85e4f0.npy'), WindowsPath('C:/Users/animeshs/GD/stanford-covid-vaccine/bpps/id_75f8d1902.npy'), WindowsPath('C:/Users/animeshs/GD/stanford-covid-vaccine/bpps/id_760215195.npy'), WindowsPath('C:/Users/animeshs/GD/stanford-covid-vaccine/bpps/id_7617e749f.npy'), WindowsPath('C:/Users/animeshs/GD/stanford-covid-vaccine/bpps/id_762abf3d0.npy'), WindowsPath('C:/Users/animeshs/GD/stanford-covid-vaccine/bpps/id_763b85759.npy'), WindowsPath('C:/Users/animeshs/GD/stanford-covid-vaccine/bpps/id_764ad4f6b.npy'), WindowsPath('C:/Users/animeshs/GD/stanford-covid-vaccine/bpps/id_764e7c118.npy'), WindowsPath('C:/Users/animeshs/GD/stanford-covid-vaccine/bpps/id_765b4390c.npy'), WindowsPath('C:/Users/animeshs/GD/stanford-covid-vaccine/bpps/id_7670bcadd.npy'), WindowsPath('C:/Users/animeshs/GD/stanford-covid-vaccine/bpps/id_7694128d5.npy'), WindowsPath('C:/Users/animeshs/GD/stanford-covid-vaccine/bpps/id_7695eeda8.npy'), WindowsPath('C:/Users/animeshs/GD/stanford-covid-vaccine/bpps/id_769a3088c.npy'), WindowsPath('C:/Users/animeshs/GD/stanford-covid-vaccine/bpps/id_769f95a88.npy'), WindowsPath('C:/Users/animeshs/GD/stanford-covid-vaccine/bpps/id_76aea566a.npy'), WindowsPath('C:/Users/animeshs/GD/stanford-covid-vaccine/bpps/id_76d2462a2.npy'), WindowsPath('C:/Users/animeshs/GD/stanford-covid-vaccine/bpps/id_76ddd0eb6.npy'), WindowsPath('C:/Users/animeshs/GD/stanford-covid-vaccine/bpps/id_76f6c459d.npy'), WindowsPath('C:/Users/animeshs/GD/stanford-covid-vaccine/bpps/id_76f9c19c5.npy'), WindowsPath('C:/Users/animeshs/GD/stanford-covid-vaccine/bpps/id_7704f616f.npy'), WindowsPath('C:/Users/animeshs/GD/stanford-covid-vaccine/bpps/id_770b10573.npy'), WindowsPath('C:/Users/animeshs/GD/stanford-covid-vaccine/bpps/id_7718ada11.npy'), WindowsPath('C:/Users/animeshs/GD/stanford-covid-vaccine/bpps/id_771bb721e.npy'), WindowsPath('C:/Users/animeshs/GD/stanford-covid-vaccine/bpps/id_7721b8feb.npy'), WindowsPath('C:/Users/animeshs/GD/stanford-covid-vaccine/bpps/id_7726689e6.npy'), WindowsPath('C:/Users/animeshs/GD/stanford-covid-vaccine/bpps/id_772bc6324.npy'), WindowsPath('C:/Users/animeshs/GD/stanford-covid-vaccine/bpps/id_77339e046.npy'), WindowsPath('C:/Users/animeshs/GD/stanford-covid-vaccine/bpps/id_7734c9976.npy'), WindowsPath('C:/Users/animeshs/GD/stanford-covid-vaccine/bpps/id_773626206.npy'), WindowsPath('C:/Users/animeshs/GD/stanford-covid-vaccine/bpps/id_774076eae.npy'), WindowsPath('C:/Users/animeshs/GD/stanford-covid-vaccine/bpps/id_7756a6565.npy'), WindowsPath('C:/Users/animeshs/GD/stanford-covid-vaccine/bpps/id_775e13c77.npy'), WindowsPath('C:/Users/animeshs/GD/stanford-covid-vaccine/bpps/id_776badaae.npy'), WindowsPath('C:/Users/animeshs/GD/stanford-covid-vaccine/bpps/id_776c9eb3d.npy'), WindowsPath('C:/Users/animeshs/GD/stanford-covid-vaccine/bpps/id_77714dd43.npy'), WindowsPath('C:/Users/animeshs/GD/stanford-covid-vaccine/bpps/id_777214ee8.npy'), WindowsPath('C:/Users/animeshs/GD/stanford-covid-vaccine/bpps/id_777aba2dd.npy'), WindowsPath('C:/Users/animeshs/GD/stanford-covid-vaccine/bpps/id_777be2b1f.npy'), WindowsPath('C:/Users/animeshs/GD/stanford-covid-vaccine/bpps/id_777f23537.npy'), WindowsPath('C:/Users/animeshs/GD/stanford-covid-vaccine/bpps/id_778a39265.npy'), WindowsPath('C:/Users/animeshs/GD/stanford-covid-vaccine/bpps/id_77a6a163a.npy'), WindowsPath('C:/Users/animeshs/GD/stanford-covid-vaccine/bpps/id_77a8ef175.npy'), WindowsPath('C:/Users/animeshs/GD/stanford-covid-vaccine/bpps/id_77d43a7de.npy'), WindowsPath('C:/Users/animeshs/GD/stanford-covid-vaccine/bpps/id_77d9904d7.npy'), WindowsPath('C:/Users/animeshs/GD/stanford-covid-vaccine/bpps/id_77e1845c5.npy'), WindowsPath('C:/Users/animeshs/GD/stanford-covid-vaccine/bpps/id_77ea2d7c0.npy'), WindowsPath('C:/Users/animeshs/GD/stanford-covid-vaccine/bpps/id_780819727.npy'), WindowsPath('C:/Users/animeshs/GD/stanford-covid-vaccine/bpps/id_7810f0f9d.npy'), WindowsPath('C:/Users/animeshs/GD/stanford-covid-vaccine/bpps/id_781979879.npy'), WindowsPath('C:/Users/animeshs/GD/stanford-covid-vaccine/bpps/id_785b9582c.npy'), WindowsPath('C:/Users/animeshs/GD/stanford-covid-vaccine/bpps/id_786b39898.npy'), WindowsPath('C:/Users/animeshs/GD/stanford-covid-vaccine/bpps/id_7871822f8.npy'), WindowsPath('C:/Users/animeshs/GD/stanford-covid-vaccine/bpps/id_7874719de.npy'), WindowsPath('C:/Users/animeshs/GD/stanford-covid-vaccine/bpps/id_787c90278.npy'), WindowsPath('C:/Users/animeshs/GD/stanford-covid-vaccine/bpps/id_7888880a7.npy'), WindowsPath('C:/Users/animeshs/GD/stanford-covid-vaccine/bpps/id_78b417990.npy'), WindowsPath('C:/Users/animeshs/GD/stanford-covid-vaccine/bpps/id_78be6dae6.npy'), WindowsPath('C:/Users/animeshs/GD/stanford-covid-vaccine/bpps/id_78bfcfe03.npy'), WindowsPath('C:/Users/animeshs/GD/stanford-covid-vaccine/bpps/id_78d4fb8c1.npy'), WindowsPath('C:/Users/animeshs/GD/stanford-covid-vaccine/bpps/id_78d642aed.npy'), WindowsPath('C:/Users/animeshs/GD/stanford-covid-vaccine/bpps/id_78f666b41.npy'), WindowsPath('C:/Users/animeshs/GD/stanford-covid-vaccine/bpps/id_78f8345a4.npy'), WindowsPath('C:/Users/animeshs/GD/stanford-covid-vaccine/bpps/id_79030dc2e.npy'), WindowsPath('C:/Users/animeshs/GD/stanford-covid-vaccine/bpps/id_79069c7ec.npy'), WindowsPath('C:/Users/animeshs/GD/stanford-covid-vaccine/bpps/id_79071e705.npy'), WindowsPath('C:/Users/animeshs/GD/stanford-covid-vaccine/bpps/id_7910d05ec.npy'), WindowsPath('C:/Users/animeshs/GD/stanford-covid-vaccine/bpps/id_792ac06ea.npy'), WindowsPath('C:/Users/animeshs/GD/stanford-covid-vaccine/bpps/id_7931450ae.npy'), WindowsPath('C:/Users/animeshs/GD/stanford-covid-vaccine/bpps/id_793d15011.npy'), WindowsPath('C:/Users/animeshs/GD/stanford-covid-vaccine/bpps/id_79452d6ae.npy'), WindowsPath('C:/Users/animeshs/GD/stanford-covid-vaccine/bpps/id_7948b5bae.npy'), WindowsPath('C:/Users/animeshs/GD/stanford-covid-vaccine/bpps/id_7952630ba.npy'), WindowsPath('C:/Users/animeshs/GD/stanford-covid-vaccine/bpps/id_796128149.npy'), WindowsPath('C:/Users/animeshs/GD/stanford-covid-vaccine/bpps/id_796a3fa4a.npy'), WindowsPath('C:/Users/animeshs/GD/stanford-covid-vaccine/bpps/id_7977d4ebf.npy'), WindowsPath('C:/Users/animeshs/GD/stanford-covid-vaccine/bpps/id_7978ffe9d.npy'), WindowsPath('C:/Users/animeshs/GD/stanford-covid-vaccine/bpps/id_79800d2d6.npy'), WindowsPath('C:/Users/animeshs/GD/stanford-covid-vaccine/bpps/id_79819a72b.npy'), WindowsPath('C:/Users/animeshs/GD/stanford-covid-vaccine/bpps/id_7984da78c.npy'), WindowsPath('C:/Users/animeshs/GD/stanford-covid-vaccine/bpps/id_7995ceaee.npy'), WindowsPath('C:/Users/animeshs/GD/stanford-covid-vaccine/bpps/id_79bda5d72.npy'), WindowsPath('C:/Users/animeshs/GD/stanford-covid-vaccine/bpps/id_79c0f13ee.npy'), WindowsPath('C:/Users/animeshs/GD/stanford-covid-vaccine/bpps/id_79db0c225.npy'), WindowsPath('C:/Users/animeshs/GD/stanford-covid-vaccine/bpps/id_79dba2ca9.npy'), WindowsPath('C:/Users/animeshs/GD/stanford-covid-vaccine/bpps/id_79e92656f.npy'), WindowsPath('C:/Users/animeshs/GD/stanford-covid-vaccine/bpps/id_79e9ca0c9.npy'), WindowsPath('C:/Users/animeshs/GD/stanford-covid-vaccine/bpps/id_79ea27ef9.npy'), WindowsPath('C:/Users/animeshs/GD/stanford-covid-vaccine/bpps/id_79f0b20a2.npy'), WindowsPath('C:/Users/animeshs/GD/stanford-covid-vaccine/bpps/id_79fc466b2.npy'), WindowsPath('C:/Users/animeshs/GD/stanford-covid-vaccine/bpps/id_79fd4e190.npy'), WindowsPath('C:/Users/animeshs/GD/stanford-covid-vaccine/bpps/id_7a06b866a.npy'), WindowsPath('C:/Users/animeshs/GD/stanford-covid-vaccine/bpps/id_7a12832da.npy'), WindowsPath('C:/Users/animeshs/GD/stanford-covid-vaccine/bpps/id_7a14f31fd.npy'), WindowsPath('C:/Users/animeshs/GD/stanford-covid-vaccine/bpps/id_7a348e99e.npy'), WindowsPath('C:/Users/animeshs/GD/stanford-covid-vaccine/bpps/id_7a36e0886.npy'), WindowsPath('C:/Users/animeshs/GD/stanford-covid-vaccine/bpps/id_7a37e4dae.npy'), WindowsPath('C:/Users/animeshs/GD/stanford-covid-vaccine/bpps/id_7a3af657e.npy'), WindowsPath('C:/Users/animeshs/GD/stanford-covid-vaccine/bpps/id_7a3e821a1.npy'), WindowsPath('C:/Users/animeshs/GD/stanford-covid-vaccine/bpps/id_7a60777d5.npy'), WindowsPath('C:/Users/animeshs/GD/stanford-covid-vaccine/bpps/id_7a6d90203.npy'), WindowsPath('C:/Users/animeshs/GD/stanford-covid-vaccine/bpps/id_7a7b3ff3a.npy'), WindowsPath('C:/Users/animeshs/GD/stanford-covid-vaccine/bpps/id_7aa4dfcd7.npy'), WindowsPath('C:/Users/animeshs/GD/stanford-covid-vaccine/bpps/id_7ab741bff.npy'), WindowsPath('C:/Users/animeshs/GD/stanford-covid-vaccine/bpps/id_7abe42ebe.npy'), WindowsPath('C:/Users/animeshs/GD/stanford-covid-vaccine/bpps/id_7ac77fc49.npy'), WindowsPath('C:/Users/animeshs/GD/stanford-covid-vaccine/bpps/id_7acb463de.npy'), WindowsPath('C:/Users/animeshs/GD/stanford-covid-vaccine/bpps/id_7acee3061.npy'), WindowsPath('C:/Users/animeshs/GD/stanford-covid-vaccine/bpps/id_7ad7fdd17.npy'), WindowsPath('C:/Users/animeshs/GD/stanford-covid-vaccine/bpps/id_7adcb8c5d.npy'), WindowsPath('C:/Users/animeshs/GD/stanford-covid-vaccine/bpps/id_7adf6eb17.npy'), WindowsPath('C:/Users/animeshs/GD/stanford-covid-vaccine/bpps/id_7ae643bfd.npy'), WindowsPath('C:/Users/animeshs/GD/stanford-covid-vaccine/bpps/id_7ae799cc1.npy'), WindowsPath('C:/Users/animeshs/GD/stanford-covid-vaccine/bpps/id_7b0974b74.npy'), WindowsPath('C:/Users/animeshs/GD/stanford-covid-vaccine/bpps/id_7b0b28eb1.npy'), WindowsPath('C:/Users/animeshs/GD/stanford-covid-vaccine/bpps/id_7b17c0170.npy'), WindowsPath('C:/Users/animeshs/GD/stanford-covid-vaccine/bpps/id_7b341dd2a.npy'), WindowsPath('C:/Users/animeshs/GD/stanford-covid-vaccine/bpps/id_7b513680d.npy'), WindowsPath('C:/Users/animeshs/GD/stanford-covid-vaccine/bpps/id_7b67bd830.npy'), WindowsPath('C:/Users/animeshs/GD/stanford-covid-vaccine/bpps/id_7b69a079c.npy'), WindowsPath('C:/Users/animeshs/GD/stanford-covid-vaccine/bpps/id_7b980a566.npy'), WindowsPath('C:/Users/animeshs/GD/stanford-covid-vaccine/bpps/id_7bb6c09d3.npy'), WindowsPath('C:/Users/animeshs/GD/stanford-covid-vaccine/bpps/id_7bb88e36d.npy'), WindowsPath('C:/Users/animeshs/GD/stanford-covid-vaccine/bpps/id_7beac68a8.npy'), WindowsPath('C:/Users/animeshs/GD/stanford-covid-vaccine/bpps/id_7beacaaea.npy'), WindowsPath('C:/Users/animeshs/GD/stanford-covid-vaccine/bpps/id_7bf1fb864.npy'), WindowsPath('C:/Users/animeshs/GD/stanford-covid-vaccine/bpps/id_7bf304767.npy'), WindowsPath('C:/Users/animeshs/GD/stanford-covid-vaccine/bpps/id_7bf4f2b9e.npy'), WindowsPath('C:/Users/animeshs/GD/stanford-covid-vaccine/bpps/id_7bfb7fe72.npy'), WindowsPath('C:/Users/animeshs/GD/stanford-covid-vaccine/bpps/id_7bff4e74f.npy'), WindowsPath('C:/Users/animeshs/GD/stanford-covid-vaccine/bpps/id_7c03381fb.npy'), WindowsPath('C:/Users/animeshs/GD/stanford-covid-vaccine/bpps/id_7c0620bde.npy'), WindowsPath('C:/Users/animeshs/GD/stanford-covid-vaccine/bpps/id_7c0e8a319.npy'), WindowsPath('C:/Users/animeshs/GD/stanford-covid-vaccine/bpps/id_7c10e217b.npy'), WindowsPath('C:/Users/animeshs/GD/stanford-covid-vaccine/bpps/id_7c133d164.npy'), WindowsPath('C:/Users/animeshs/GD/stanford-covid-vaccine/bpps/id_7c1ae6927.npy'), WindowsPath('C:/Users/animeshs/GD/stanford-covid-vaccine/bpps/id_7c48738df.npy'), WindowsPath('C:/Users/animeshs/GD/stanford-covid-vaccine/bpps/id_7c4880745.npy'), WindowsPath('C:/Users/animeshs/GD/stanford-covid-vaccine/bpps/id_7c4917ab7.npy'), WindowsPath('C:/Users/animeshs/GD/stanford-covid-vaccine/bpps/id_7c54fbf18.npy'), WindowsPath('C:/Users/animeshs/GD/stanford-covid-vaccine/bpps/id_7c56de281.npy'), WindowsPath('C:/Users/animeshs/GD/stanford-covid-vaccine/bpps/id_7c5d49df9.npy'), WindowsPath('C:/Users/animeshs/GD/stanford-covid-vaccine/bpps/id_7c771faa0.npy'), WindowsPath('C:/Users/animeshs/GD/stanford-covid-vaccine/bpps/id_7c8541649.npy'), WindowsPath('C:/Users/animeshs/GD/stanford-covid-vaccine/bpps/id_7c9ec3d9c.npy'), WindowsPath('C:/Users/animeshs/GD/stanford-covid-vaccine/bpps/id_7ca16ccf8.npy'), WindowsPath('C:/Users/animeshs/GD/stanford-covid-vaccine/bpps/id_7cc1334e7.npy'), WindowsPath('C:/Users/animeshs/GD/stanford-covid-vaccine/bpps/id_7cc2db472.npy'), WindowsPath('C:/Users/animeshs/GD/stanford-covid-vaccine/bpps/id_7ccc9ad22.npy'), WindowsPath('C:/Users/animeshs/GD/stanford-covid-vaccine/bpps/id_7cd46e0e6.npy'), WindowsPath('C:/Users/animeshs/GD/stanford-covid-vaccine/bpps/id_7cdaab398.npy'), WindowsPath('C:/Users/animeshs/GD/stanford-covid-vaccine/bpps/id_7cdbcc130.npy'), WindowsPath('C:/Users/animeshs/GD/stanford-covid-vaccine/bpps/id_7cdd8d086.npy'), WindowsPath('C:/Users/animeshs/GD/stanford-covid-vaccine/bpps/id_7cdfbc543.npy'), WindowsPath('C:/Users/animeshs/GD/stanford-covid-vaccine/bpps/id_7cf1d2233.npy'), WindowsPath('C:/Users/animeshs/GD/stanford-covid-vaccine/bpps/id_7cf320f30.npy'), WindowsPath('C:/Users/animeshs/GD/stanford-covid-vaccine/bpps/id_7cf74be89.npy'), WindowsPath('C:/Users/animeshs/GD/stanford-covid-vaccine/bpps/id_7cfbf8dc9.npy'), WindowsPath('C:/Users/animeshs/GD/stanford-covid-vaccine/bpps/id_7d223cc20.npy'), WindowsPath('C:/Users/animeshs/GD/stanford-covid-vaccine/bpps/id_7d25e9a9f.npy'), WindowsPath('C:/Users/animeshs/GD/stanford-covid-vaccine/bpps/id_7d29d0323.npy'), WindowsPath('C:/Users/animeshs/GD/stanford-covid-vaccine/bpps/id_7d29f72f9.npy'), WindowsPath('C:/Users/animeshs/GD/stanford-covid-vaccine/bpps/id_7d2cad41b.npy'), WindowsPath('C:/Users/animeshs/GD/stanford-covid-vaccine/bpps/id_7d3ef32df.npy'), WindowsPath('C:/Users/animeshs/GD/stanford-covid-vaccine/bpps/id_7d493ecfb.npy'), WindowsPath('C:/Users/animeshs/GD/stanford-covid-vaccine/bpps/id_7d4ef19cf.npy'), WindowsPath('C:/Users/animeshs/GD/stanford-covid-vaccine/bpps/id_7d4f8a973.npy'), WindowsPath('C:/Users/animeshs/GD/stanford-covid-vaccine/bpps/id_7d50c6bfd.npy'), WindowsPath('C:/Users/animeshs/GD/stanford-covid-vaccine/bpps/id_7d5471b22.npy'), WindowsPath('C:/Users/animeshs/GD/stanford-covid-vaccine/bpps/id_7d5779c46.npy'), WindowsPath('C:/Users/animeshs/GD/stanford-covid-vaccine/bpps/id_7d7cb7df8.npy'), WindowsPath('C:/Users/animeshs/GD/stanford-covid-vaccine/bpps/id_7d9319476.npy'), WindowsPath('C:/Users/animeshs/GD/stanford-covid-vaccine/bpps/id_7d9971096.npy'), WindowsPath('C:/Users/animeshs/GD/stanford-covid-vaccine/bpps/id_7da4556fb.npy'), WindowsPath('C:/Users/animeshs/GD/stanford-covid-vaccine/bpps/id_7dab16c90.npy'), WindowsPath('C:/Users/animeshs/GD/stanford-covid-vaccine/bpps/id_7db531463.npy'), WindowsPath('C:/Users/animeshs/GD/stanford-covid-vaccine/bpps/id_7db88ff66.npy'), WindowsPath('C:/Users/animeshs/GD/stanford-covid-vaccine/bpps/id_7dd2b827b.npy'), WindowsPath('C:/Users/animeshs/GD/stanford-covid-vaccine/bpps/id_7dd2dfa8c.npy'), WindowsPath('C:/Users/animeshs/GD/stanford-covid-vaccine/bpps/id_7ddc993e8.npy'), WindowsPath('C:/Users/animeshs/GD/stanford-covid-vaccine/bpps/id_7de543324.npy'), WindowsPath('C:/Users/animeshs/GD/stanford-covid-vaccine/bpps/id_7dfbbfd4f.npy'), WindowsPath('C:/Users/animeshs/GD/stanford-covid-vaccine/bpps/id_7dfd0b6a5.npy'), WindowsPath('C:/Users/animeshs/GD/stanford-covid-vaccine/bpps/id_7e019d45b.npy'), WindowsPath('C:/Users/animeshs/GD/stanford-covid-vaccine/bpps/id_7e0b72cf1.npy'), WindowsPath('C:/Users/animeshs/GD/stanford-covid-vaccine/bpps/id_7e2208c50.npy'), WindowsPath('C:/Users/animeshs/GD/stanford-covid-vaccine/bpps/id_7e27b6416.npy'), WindowsPath('C:/Users/animeshs/GD/stanford-covid-vaccine/bpps/id_7e29e5a9d.npy'), WindowsPath('C:/Users/animeshs/GD/stanford-covid-vaccine/bpps/id_7e3164c4c.npy'), WindowsPath('C:/Users/animeshs/GD/stanford-covid-vaccine/bpps/id_7e4211165.npy'), WindowsPath('C:/Users/animeshs/GD/stanford-covid-vaccine/bpps/id_7e5324b2d.npy'), WindowsPath('C:/Users/animeshs/GD/stanford-covid-vaccine/bpps/id_7e5344c46.npy'), WindowsPath('C:/Users/animeshs/GD/stanford-covid-vaccine/bpps/id_7e5da5095.npy'), WindowsPath('C:/Users/animeshs/GD/stanford-covid-vaccine/bpps/id_7e6507bda.npy'), WindowsPath('C:/Users/animeshs/GD/stanford-covid-vaccine/bpps/id_7e6c4ea2e.npy'), WindowsPath('C:/Users/animeshs/GD/stanford-covid-vaccine/bpps/id_7e8876839.npy'), WindowsPath('C:/Users/animeshs/GD/stanford-covid-vaccine/bpps/id_7e8e3dca8.npy'), WindowsPath('C:/Users/animeshs/GD/stanford-covid-vaccine/bpps/id_7e95279f1.npy'), WindowsPath('C:/Users/animeshs/GD/stanford-covid-vaccine/bpps/id_7ea301c9d.npy'), WindowsPath('C:/Users/animeshs/GD/stanford-covid-vaccine/bpps/id_7ec66d16e.npy'), WindowsPath('C:/Users/animeshs/GD/stanford-covid-vaccine/bpps/id_7f126c0c7.npy'), WindowsPath('C:/Users/animeshs/GD/stanford-covid-vaccine/bpps/id_7f18e63d3.npy'), WindowsPath('C:/Users/animeshs/GD/stanford-covid-vaccine/bpps/id_7f215cac7.npy'), WindowsPath('C:/Users/animeshs/GD/stanford-covid-vaccine/bpps/id_7f25f1ab2.npy'), WindowsPath('C:/Users/animeshs/GD/stanford-covid-vaccine/bpps/id_7f2e3ef78.npy'), WindowsPath('C:/Users/animeshs/GD/stanford-covid-vaccine/bpps/id_7f53ceb5b.npy'), WindowsPath('C:/Users/animeshs/GD/stanford-covid-vaccine/bpps/id_7f604ebd3.npy'), WindowsPath('C:/Users/animeshs/GD/stanford-covid-vaccine/bpps/id_7f63742c6.npy'), WindowsPath('C:/Users/animeshs/GD/stanford-covid-vaccine/bpps/id_7f73937f7.npy'), WindowsPath('C:/Users/animeshs/GD/stanford-covid-vaccine/bpps/id_7f97ff40d.npy'), WindowsPath('C:/Users/animeshs/GD/stanford-covid-vaccine/bpps/id_7fbaf44c8.npy'), WindowsPath('C:/Users/animeshs/GD/stanford-covid-vaccine/bpps/id_7fbd8df4b.npy'), WindowsPath('C:/Users/animeshs/GD/stanford-covid-vaccine/bpps/id_7fc190d36.npy'), WindowsPath('C:/Users/animeshs/GD/stanford-covid-vaccine/bpps/id_7fcb2c613.npy'), WindowsPath('C:/Users/animeshs/GD/stanford-covid-vaccine/bpps/id_7fdbfd5e2.npy'), WindowsPath('C:/Users/animeshs/GD/stanford-covid-vaccine/bpps/id_7fe34c9c6.npy'), WindowsPath('C:/Users/animeshs/GD/stanford-covid-vaccine/bpps/id_7fe813d0f.npy'), WindowsPath('C:/Users/animeshs/GD/stanford-covid-vaccine/bpps/id_7ff4347a9.npy'), WindowsPath('C:/Users/animeshs/GD/stanford-covid-vaccine/bpps/id_80082199f.npy'), WindowsPath('C:/Users/animeshs/GD/stanford-covid-vaccine/bpps/id_801488676.npy'), WindowsPath('C:/Users/animeshs/GD/stanford-covid-vaccine/bpps/id_801c11414.npy'), WindowsPath('C:/Users/animeshs/GD/stanford-covid-vaccine/bpps/id_802646649.npy'), WindowsPath('C:/Users/animeshs/GD/stanford-covid-vaccine/bpps/id_8042af17e.npy'), WindowsPath('C:/Users/animeshs/GD/stanford-covid-vaccine/bpps/id_8046cfbd4.npy'), WindowsPath('C:/Users/animeshs/GD/stanford-covid-vaccine/bpps/id_804ee3ff4.npy'), WindowsPath('C:/Users/animeshs/GD/stanford-covid-vaccine/bpps/id_805a29d27.npy'), WindowsPath('C:/Users/animeshs/GD/stanford-covid-vaccine/bpps/id_8079e1945.npy'), WindowsPath('C:/Users/animeshs/GD/stanford-covid-vaccine/bpps/id_807efd790.npy'), WindowsPath('C:/Users/animeshs/GD/stanford-covid-vaccine/bpps/id_8086445a9.npy'), WindowsPath('C:/Users/animeshs/GD/stanford-covid-vaccine/bpps/id_808745482.npy'), WindowsPath('C:/Users/animeshs/GD/stanford-covid-vaccine/bpps/id_80a38cce5.npy'), WindowsPath('C:/Users/animeshs/GD/stanford-covid-vaccine/bpps/id_80accfa0b.npy'), WindowsPath('C:/Users/animeshs/GD/stanford-covid-vaccine/bpps/id_80b616ef4.npy'), WindowsPath('C:/Users/animeshs/GD/stanford-covid-vaccine/bpps/id_80b6b670a.npy'), WindowsPath('C:/Users/animeshs/GD/stanford-covid-vaccine/bpps/id_80b9ed9a9.npy'), WindowsPath('C:/Users/animeshs/GD/stanford-covid-vaccine/bpps/id_80bdc926f.npy'), WindowsPath('C:/Users/animeshs/GD/stanford-covid-vaccine/bpps/id_80d866554.npy'), WindowsPath('C:/Users/animeshs/GD/stanford-covid-vaccine/bpps/id_80e708a73.npy'), WindowsPath('C:/Users/animeshs/GD/stanford-covid-vaccine/bpps/id_810bdd33b.npy'), WindowsPath('C:/Users/animeshs/GD/stanford-covid-vaccine/bpps/id_811598b72.npy'), WindowsPath('C:/Users/animeshs/GD/stanford-covid-vaccine/bpps/id_8115efe48.npy'), WindowsPath('C:/Users/animeshs/GD/stanford-covid-vaccine/bpps/id_811e1083f.npy'), WindowsPath('C:/Users/animeshs/GD/stanford-covid-vaccine/bpps/id_812146bb8.npy'), WindowsPath('C:/Users/animeshs/GD/stanford-covid-vaccine/bpps/id_8133b63d1.npy'), WindowsPath('C:/Users/animeshs/GD/stanford-covid-vaccine/bpps/id_813c248e5.npy'), WindowsPath('C:/Users/animeshs/GD/stanford-covid-vaccine/bpps/id_814e100b2.npy'), WindowsPath('C:/Users/animeshs/GD/stanford-covid-vaccine/bpps/id_815645d00.npy'), WindowsPath('C:/Users/animeshs/GD/stanford-covid-vaccine/bpps/id_81578f674.npy'), WindowsPath('C:/Users/animeshs/GD/stanford-covid-vaccine/bpps/id_815f927c8.npy'), WindowsPath('C:/Users/animeshs/GD/stanford-covid-vaccine/bpps/id_816306f29.npy'), WindowsPath('C:/Users/animeshs/GD/stanford-covid-vaccine/bpps/id_816bb0a4f.npy'), WindowsPath('C:/Users/animeshs/GD/stanford-covid-vaccine/bpps/id_8171811a3.npy'), WindowsPath('C:/Users/animeshs/GD/stanford-covid-vaccine/bpps/id_8187456c6.npy'), WindowsPath('C:/Users/animeshs/GD/stanford-covid-vaccine/bpps/id_818bd86b1.npy'), WindowsPath('C:/Users/animeshs/GD/stanford-covid-vaccine/bpps/id_8196a7ec9.npy'), WindowsPath('C:/Users/animeshs/GD/stanford-covid-vaccine/bpps/id_819741a1f.npy'), WindowsPath('C:/Users/animeshs/GD/stanford-covid-vaccine/bpps/id_8198aad7f.npy'), WindowsPath('C:/Users/animeshs/GD/stanford-covid-vaccine/bpps/id_81a8fb36d.npy'), WindowsPath('C:/Users/animeshs/GD/stanford-covid-vaccine/bpps/id_81b6361e0.npy'), WindowsPath('C:/Users/animeshs/GD/stanford-covid-vaccine/bpps/id_81cb37252.npy'), WindowsPath('C:/Users/animeshs/GD/stanford-covid-vaccine/bpps/id_81dbd0345.npy'), WindowsPath('C:/Users/animeshs/GD/stanford-covid-vaccine/bpps/id_81dfeb2e4.npy'), WindowsPath('C:/Users/animeshs/GD/stanford-covid-vaccine/bpps/id_81e31768b.npy'), WindowsPath('C:/Users/animeshs/GD/stanford-covid-vaccine/bpps/id_81e75f3ab.npy'), WindowsPath('C:/Users/animeshs/GD/stanford-covid-vaccine/bpps/id_81f465e10.npy'), WindowsPath('C:/Users/animeshs/GD/stanford-covid-vaccine/bpps/id_820d9b684.npy'), WindowsPath('C:/Users/animeshs/GD/stanford-covid-vaccine/bpps/id_820fe2166.npy'), WindowsPath('C:/Users/animeshs/GD/stanford-covid-vaccine/bpps/id_821366b39.npy'), WindowsPath('C:/Users/animeshs/GD/stanford-covid-vaccine/bpps/id_821a78dc7.npy'), WindowsPath('C:/Users/animeshs/GD/stanford-covid-vaccine/bpps/id_821caea51.npy'), WindowsPath('C:/Users/animeshs/GD/stanford-covid-vaccine/bpps/id_822cdbd59.npy'), WindowsPath('C:/Users/animeshs/GD/stanford-covid-vaccine/bpps/id_8230331fa.npy'), WindowsPath('C:/Users/animeshs/GD/stanford-covid-vaccine/bpps/id_823620682.npy'), WindowsPath('C:/Users/animeshs/GD/stanford-covid-vaccine/bpps/id_823d38dff.npy'), WindowsPath('C:/Users/animeshs/GD/stanford-covid-vaccine/bpps/id_8252b2b58.npy'), WindowsPath('C:/Users/animeshs/GD/stanford-covid-vaccine/bpps/id_825fff405.npy'), WindowsPath('C:/Users/animeshs/GD/stanford-covid-vaccine/bpps/id_8262b9f10.npy'), WindowsPath('C:/Users/animeshs/GD/stanford-covid-vaccine/bpps/id_8279db854.npy'), WindowsPath('C:/Users/animeshs/GD/stanford-covid-vaccine/bpps/id_828eea50c.npy'), WindowsPath('C:/Users/animeshs/GD/stanford-covid-vaccine/bpps/id_829517c72.npy'), WindowsPath('C:/Users/animeshs/GD/stanford-covid-vaccine/bpps/id_829d0ffe5.npy'), WindowsPath('C:/Users/animeshs/GD/stanford-covid-vaccine/bpps/id_82a26561a.npy'), WindowsPath('C:/Users/animeshs/GD/stanford-covid-vaccine/bpps/id_82b50b3fe.npy'), WindowsPath('C:/Users/animeshs/GD/stanford-covid-vaccine/bpps/id_82b6d3c2d.npy'), WindowsPath('C:/Users/animeshs/GD/stanford-covid-vaccine/bpps/id_82bc445ed.npy'), WindowsPath('C:/Users/animeshs/GD/stanford-covid-vaccine/bpps/id_82c3125e3.npy'), WindowsPath('C:/Users/animeshs/GD/stanford-covid-vaccine/bpps/id_82ca0bc78.npy'), WindowsPath('C:/Users/animeshs/GD/stanford-covid-vaccine/bpps/id_82e386de2.npy'), WindowsPath('C:/Users/animeshs/GD/stanford-covid-vaccine/bpps/id_82f204439.npy'), WindowsPath('C:/Users/animeshs/GD/stanford-covid-vaccine/bpps/id_82f51ffa1.npy'), WindowsPath('C:/Users/animeshs/GD/stanford-covid-vaccine/bpps/id_830154306.npy'), WindowsPath('C:/Users/animeshs/GD/stanford-covid-vaccine/bpps/id_831df0960.npy'), WindowsPath('C:/Users/animeshs/GD/stanford-covid-vaccine/bpps/id_834ec48f3.npy'), WindowsPath('C:/Users/animeshs/GD/stanford-covid-vaccine/bpps/id_83752eddc.npy'), WindowsPath('C:/Users/animeshs/GD/stanford-covid-vaccine/bpps/id_8376fec69.npy'), WindowsPath('C:/Users/animeshs/GD/stanford-covid-vaccine/bpps/id_837f26116.npy'), WindowsPath('C:/Users/animeshs/GD/stanford-covid-vaccine/bpps/id_838531e21.npy'), WindowsPath('C:/Users/animeshs/GD/stanford-covid-vaccine/bpps/id_83932a8a5.npy'), WindowsPath('C:/Users/animeshs/GD/stanford-covid-vaccine/bpps/id_83a0e35b7.npy'), WindowsPath('C:/Users/animeshs/GD/stanford-covid-vaccine/bpps/id_83ac044c6.npy'), WindowsPath('C:/Users/animeshs/GD/stanford-covid-vaccine/bpps/id_83b09a8e1.npy'), WindowsPath('C:/Users/animeshs/GD/stanford-covid-vaccine/bpps/id_83b647eb1.npy'), WindowsPath('C:/Users/animeshs/GD/stanford-covid-vaccine/bpps/id_83c6f8198.npy'), WindowsPath('C:/Users/animeshs/GD/stanford-covid-vaccine/bpps/id_83c82b8a8.npy'), WindowsPath('C:/Users/animeshs/GD/stanford-covid-vaccine/bpps/id_83d92ffb6.npy'), WindowsPath('C:/Users/animeshs/GD/stanford-covid-vaccine/bpps/id_83de3e3bc.npy'), WindowsPath('C:/Users/animeshs/GD/stanford-covid-vaccine/bpps/id_83f014a41.npy'), WindowsPath('C:/Users/animeshs/GD/stanford-covid-vaccine/bpps/id_83fd87017.npy'), WindowsPath('C:/Users/animeshs/GD/stanford-covid-vaccine/bpps/id_8409a2dbc.npy'), WindowsPath('C:/Users/animeshs/GD/stanford-covid-vaccine/bpps/id_841499d6b.npy'), WindowsPath('C:/Users/animeshs/GD/stanford-covid-vaccine/bpps/id_842ba8bb1.npy'), WindowsPath('C:/Users/animeshs/GD/stanford-covid-vaccine/bpps/id_842d34ac8.npy'), WindowsPath('C:/Users/animeshs/GD/stanford-covid-vaccine/bpps/id_8444ba3a1.npy'), WindowsPath('C:/Users/animeshs/GD/stanford-covid-vaccine/bpps/id_844fe53ea.npy'), WindowsPath('C:/Users/animeshs/GD/stanford-covid-vaccine/bpps/id_8456f4742.npy'), WindowsPath('C:/Users/animeshs/GD/stanford-covid-vaccine/bpps/id_8459bfeea.npy'), WindowsPath('C:/Users/animeshs/GD/stanford-covid-vaccine/bpps/id_8459deaae.npy'), WindowsPath('C:/Users/animeshs/GD/stanford-covid-vaccine/bpps/id_846bd902e.npy'), WindowsPath('C:/Users/animeshs/GD/stanford-covid-vaccine/bpps/id_847aee7a3.npy'), WindowsPath('C:/Users/animeshs/GD/stanford-covid-vaccine/bpps/id_847b1f8fa.npy'), WindowsPath('C:/Users/animeshs/GD/stanford-covid-vaccine/bpps/id_84819a996.npy'), WindowsPath('C:/Users/animeshs/GD/stanford-covid-vaccine/bpps/id_849f15f9d.npy'), WindowsPath('C:/Users/animeshs/GD/stanford-covid-vaccine/bpps/id_84a829342.npy'), WindowsPath('C:/Users/animeshs/GD/stanford-covid-vaccine/bpps/id_84b460689.npy'), WindowsPath('C:/Users/animeshs/GD/stanford-covid-vaccine/bpps/id_84ca91e8e.npy'), WindowsPath('C:/Users/animeshs/GD/stanford-covid-vaccine/bpps/id_84d133bda.npy'), WindowsPath('C:/Users/animeshs/GD/stanford-covid-vaccine/bpps/id_84f929f4b.npy'), WindowsPath('C:/Users/animeshs/GD/stanford-covid-vaccine/bpps/id_8507a7cbb.npy'), WindowsPath('C:/Users/animeshs/GD/stanford-covid-vaccine/bpps/id_8507fe8c1.npy'), WindowsPath('C:/Users/animeshs/GD/stanford-covid-vaccine/bpps/id_85089b683.npy'), WindowsPath('C:/Users/animeshs/GD/stanford-covid-vaccine/bpps/id_8518b47aa.npy'), WindowsPath('C:/Users/animeshs/GD/stanford-covid-vaccine/bpps/id_85194b2db.npy'), WindowsPath('C:/Users/animeshs/GD/stanford-covid-vaccine/bpps/id_851abcdea.npy'), WindowsPath('C:/Users/animeshs/GD/stanford-covid-vaccine/bpps/id_8523f81b7.npy'), WindowsPath('C:/Users/animeshs/GD/stanford-covid-vaccine/bpps/id_852631365.npy'), WindowsPath('C:/Users/animeshs/GD/stanford-covid-vaccine/bpps/id_85291c84e.npy'), WindowsPath('C:/Users/animeshs/GD/stanford-covid-vaccine/bpps/id_852926b27.npy'), WindowsPath('C:/Users/animeshs/GD/stanford-covid-vaccine/bpps/id_8530fa156.npy'), WindowsPath('C:/Users/animeshs/GD/stanford-covid-vaccine/bpps/id_853c426d0.npy'), WindowsPath('C:/Users/animeshs/GD/stanford-covid-vaccine/bpps/id_853deaa50.npy'), WindowsPath('C:/Users/animeshs/GD/stanford-covid-vaccine/bpps/id_8540063fb.npy'), WindowsPath('C:/Users/animeshs/GD/stanford-covid-vaccine/bpps/id_857390162.npy'), WindowsPath('C:/Users/animeshs/GD/stanford-covid-vaccine/bpps/id_8574e4433.npy'), WindowsPath('C:/Users/animeshs/GD/stanford-covid-vaccine/bpps/id_857c256f0.npy'), WindowsPath('C:/Users/animeshs/GD/stanford-covid-vaccine/bpps/id_857ffee73.npy'), WindowsPath('C:/Users/animeshs/GD/stanford-covid-vaccine/bpps/id_858225d72.npy'), WindowsPath('C:/Users/animeshs/GD/stanford-covid-vaccine/bpps/id_8593453cb.npy'), WindowsPath('C:/Users/animeshs/GD/stanford-covid-vaccine/bpps/id_859df29a6.npy'), WindowsPath('C:/Users/animeshs/GD/stanford-covid-vaccine/bpps/id_85af4f7f1.npy'), WindowsPath('C:/Users/animeshs/GD/stanford-covid-vaccine/bpps/id_85bef7bb9.npy'), WindowsPath('C:/Users/animeshs/GD/stanford-covid-vaccine/bpps/id_85c22c0a3.npy'), WindowsPath('C:/Users/animeshs/GD/stanford-covid-vaccine/bpps/id_85c7bb511.npy'), WindowsPath('C:/Users/animeshs/GD/stanford-covid-vaccine/bpps/id_85c8f5656.npy'), WindowsPath('C:/Users/animeshs/GD/stanford-covid-vaccine/bpps/id_85cead1b4.npy'), WindowsPath('C:/Users/animeshs/GD/stanford-covid-vaccine/bpps/id_85f188597.npy'), WindowsPath('C:/Users/animeshs/GD/stanford-covid-vaccine/bpps/id_85f2854c2.npy'), WindowsPath('C:/Users/animeshs/GD/stanford-covid-vaccine/bpps/id_85f5277a9.npy'), WindowsPath('C:/Users/animeshs/GD/stanford-covid-vaccine/bpps/id_85f757e92.npy'), WindowsPath('C:/Users/animeshs/GD/stanford-covid-vaccine/bpps/id_860775288.npy'), WindowsPath('C:/Users/animeshs/GD/stanford-covid-vaccine/bpps/id_86157c50c.npy'), WindowsPath('C:/Users/animeshs/GD/stanford-covid-vaccine/bpps/id_8622860d7.npy'), WindowsPath('C:/Users/animeshs/GD/stanford-covid-vaccine/bpps/id_862a3c9f3.npy'), WindowsPath('C:/Users/animeshs/GD/stanford-covid-vaccine/bpps/id_863f9dbb7.npy'), WindowsPath('C:/Users/animeshs/GD/stanford-covid-vaccine/bpps/id_86479505b.npy'), WindowsPath('C:/Users/animeshs/GD/stanford-covid-vaccine/bpps/id_864ee3620.npy'), WindowsPath('C:/Users/animeshs/GD/stanford-covid-vaccine/bpps/id_864fc3afc.npy'), WindowsPath('C:/Users/animeshs/GD/stanford-covid-vaccine/bpps/id_865e1b5df.npy'), WindowsPath('C:/Users/animeshs/GD/stanford-covid-vaccine/bpps/id_866a6b7fa.npy'), WindowsPath('C:/Users/animeshs/GD/stanford-covid-vaccine/bpps/id_869ad5ade.npy'), WindowsPath('C:/Users/animeshs/GD/stanford-covid-vaccine/bpps/id_86ba46adb.npy'), WindowsPath('C:/Users/animeshs/GD/stanford-covid-vaccine/bpps/id_86cb74f2c.npy'), WindowsPath('C:/Users/animeshs/GD/stanford-covid-vaccine/bpps/id_86cf54185.npy'), WindowsPath('C:/Users/animeshs/GD/stanford-covid-vaccine/bpps/id_86cf90e1d.npy'), WindowsPath('C:/Users/animeshs/GD/stanford-covid-vaccine/bpps/id_86d38d5a0.npy'), WindowsPath('C:/Users/animeshs/GD/stanford-covid-vaccine/bpps/id_86d9ef21a.npy'), WindowsPath('C:/Users/animeshs/GD/stanford-covid-vaccine/bpps/id_86e36ed36.npy'), WindowsPath('C:/Users/animeshs/GD/stanford-covid-vaccine/bpps/id_86e57db61.npy'), WindowsPath('C:/Users/animeshs/GD/stanford-covid-vaccine/bpps/id_86f662f37.npy'), WindowsPath('C:/Users/animeshs/GD/stanford-covid-vaccine/bpps/id_871ca8837.npy'), WindowsPath('C:/Users/animeshs/GD/stanford-covid-vaccine/bpps/id_873188992.npy'), WindowsPath('C:/Users/animeshs/GD/stanford-covid-vaccine/bpps/id_87407f77e.npy'), WindowsPath('C:/Users/animeshs/GD/stanford-covid-vaccine/bpps/id_874c00a90.npy'), WindowsPath('C:/Users/animeshs/GD/stanford-covid-vaccine/bpps/id_874d6f469.npy'), WindowsPath('C:/Users/animeshs/GD/stanford-covid-vaccine/bpps/id_8751852be.npy'), WindowsPath('C:/Users/animeshs/GD/stanford-covid-vaccine/bpps/id_8752c07ed.npy'), WindowsPath('C:/Users/animeshs/GD/stanford-covid-vaccine/bpps/id_875559d55.npy'), WindowsPath('C:/Users/animeshs/GD/stanford-covid-vaccine/bpps/id_877c9af05.npy'), WindowsPath('C:/Users/animeshs/GD/stanford-covid-vaccine/bpps/id_877ccf34d.npy'), WindowsPath('C:/Users/animeshs/GD/stanford-covid-vaccine/bpps/id_87811b12e.npy'), WindowsPath('C:/Users/animeshs/GD/stanford-covid-vaccine/bpps/id_87868fddf.npy'), WindowsPath('C:/Users/animeshs/GD/stanford-covid-vaccine/bpps/id_8794510ce.npy'), WindowsPath('C:/Users/animeshs/GD/stanford-covid-vaccine/bpps/id_87a35461e.npy'), WindowsPath('C:/Users/animeshs/GD/stanford-covid-vaccine/bpps/id_87a89d334.npy'), WindowsPath('C:/Users/animeshs/GD/stanford-covid-vaccine/bpps/id_87aa8cf00.npy'), WindowsPath('C:/Users/animeshs/GD/stanford-covid-vaccine/bpps/id_87b57e5b1.npy'), WindowsPath('C:/Users/animeshs/GD/stanford-covid-vaccine/bpps/id_87c35b44e.npy'), WindowsPath('C:/Users/animeshs/GD/stanford-covid-vaccine/bpps/id_87c760070.npy'), WindowsPath('C:/Users/animeshs/GD/stanford-covid-vaccine/bpps/id_87d3b20d3.npy'), WindowsPath('C:/Users/animeshs/GD/stanford-covid-vaccine/bpps/id_87d58891d.npy'), WindowsPath('C:/Users/animeshs/GD/stanford-covid-vaccine/bpps/id_87d6837a6.npy'), WindowsPath('C:/Users/animeshs/GD/stanford-covid-vaccine/bpps/id_87e635313.npy'), WindowsPath('C:/Users/animeshs/GD/stanford-covid-vaccine/bpps/id_87e81acf7.npy'), WindowsPath('C:/Users/animeshs/GD/stanford-covid-vaccine/bpps/id_87e9d56b4.npy'), WindowsPath('C:/Users/animeshs/GD/stanford-covid-vaccine/bpps/id_87ec9752d.npy'), WindowsPath('C:/Users/animeshs/GD/stanford-covid-vaccine/bpps/id_87f425ff4.npy'), WindowsPath('C:/Users/animeshs/GD/stanford-covid-vaccine/bpps/id_8803ee3e0.npy'), WindowsPath('C:/Users/animeshs/GD/stanford-covid-vaccine/bpps/id_8823f47b9.npy'), WindowsPath('C:/Users/animeshs/GD/stanford-covid-vaccine/bpps/id_882bb0fda.npy'), WindowsPath('C:/Users/animeshs/GD/stanford-covid-vaccine/bpps/id_884655d3a.npy'), WindowsPath('C:/Users/animeshs/GD/stanford-covid-vaccine/bpps/id_884766802.npy'), WindowsPath('C:/Users/animeshs/GD/stanford-covid-vaccine/bpps/id_88640237b.npy'), WindowsPath('C:/Users/animeshs/GD/stanford-covid-vaccine/bpps/id_886afc42d.npy'), WindowsPath('C:/Users/animeshs/GD/stanford-covid-vaccine/bpps/id_8877d3177.npy'), WindowsPath('C:/Users/animeshs/GD/stanford-covid-vaccine/bpps/id_8878a9682.npy'), WindowsPath('C:/Users/animeshs/GD/stanford-covid-vaccine/bpps/id_887ccb5de.npy'), WindowsPath('C:/Users/animeshs/GD/stanford-covid-vaccine/bpps/id_8886295f0.npy'), WindowsPath('C:/Users/animeshs/GD/stanford-covid-vaccine/bpps/id_88888d513.npy'), WindowsPath('C:/Users/animeshs/GD/stanford-covid-vaccine/bpps/id_888cb3cf4.npy'), WindowsPath('C:/Users/animeshs/GD/stanford-covid-vaccine/bpps/id_889300ecc.npy'), WindowsPath('C:/Users/animeshs/GD/stanford-covid-vaccine/bpps/id_889664ce7.npy'), WindowsPath('C:/Users/animeshs/GD/stanford-covid-vaccine/bpps/id_8896b4f1b.npy'), WindowsPath('C:/Users/animeshs/GD/stanford-covid-vaccine/bpps/id_8897a2a65.npy'), WindowsPath('C:/Users/animeshs/GD/stanford-covid-vaccine/bpps/id_88b80fae7.npy'), WindowsPath('C:/Users/animeshs/GD/stanford-covid-vaccine/bpps/id_88bac6080.npy'), WindowsPath('C:/Users/animeshs/GD/stanford-covid-vaccine/bpps/id_88bfbe613.npy'), WindowsPath('C:/Users/animeshs/GD/stanford-covid-vaccine/bpps/id_88c71ba12.npy'), WindowsPath('C:/Users/animeshs/GD/stanford-covid-vaccine/bpps/id_88c8a2d3e.npy'), WindowsPath('C:/Users/animeshs/GD/stanford-covid-vaccine/bpps/id_88cb9acc7.npy'), WindowsPath('C:/Users/animeshs/GD/stanford-covid-vaccine/bpps/id_88d528019.npy'), WindowsPath('C:/Users/animeshs/GD/stanford-covid-vaccine/bpps/id_88e3524a9.npy'), WindowsPath('C:/Users/animeshs/GD/stanford-covid-vaccine/bpps/id_88eae0914.npy'), WindowsPath('C:/Users/animeshs/GD/stanford-covid-vaccine/bpps/id_88eebdca5.npy'), WindowsPath('C:/Users/animeshs/GD/stanford-covid-vaccine/bpps/id_890adfd88.npy'), WindowsPath('C:/Users/animeshs/GD/stanford-covid-vaccine/bpps/id_89122ba65.npy'), WindowsPath('C:/Users/animeshs/GD/stanford-covid-vaccine/bpps/id_8924fb16f.npy'), WindowsPath('C:/Users/animeshs/GD/stanford-covid-vaccine/bpps/id_892631452.npy'), WindowsPath('C:/Users/animeshs/GD/stanford-covid-vaccine/bpps/id_892b86bec.npy'), WindowsPath('C:/Users/animeshs/GD/stanford-covid-vaccine/bpps/id_8930a35c1.npy'), WindowsPath('C:/Users/animeshs/GD/stanford-covid-vaccine/bpps/id_89381df4c.npy'), WindowsPath('C:/Users/animeshs/GD/stanford-covid-vaccine/bpps/id_8948ea3ae.npy'), WindowsPath('C:/Users/animeshs/GD/stanford-covid-vaccine/bpps/id_895334fbc.npy'), WindowsPath('C:/Users/animeshs/GD/stanford-covid-vaccine/bpps/id_8956253a1.npy'), WindowsPath('C:/Users/animeshs/GD/stanford-covid-vaccine/bpps/id_8971ccdd7.npy'), WindowsPath('C:/Users/animeshs/GD/stanford-covid-vaccine/bpps/id_89722a4b1.npy'), WindowsPath('C:/Users/animeshs/GD/stanford-covid-vaccine/bpps/id_898d758a5.npy'), WindowsPath('C:/Users/animeshs/GD/stanford-covid-vaccine/bpps/id_89a68512f.npy'), WindowsPath('C:/Users/animeshs/GD/stanford-covid-vaccine/bpps/id_89b69bb5e.npy'), WindowsPath('C:/Users/animeshs/GD/stanford-covid-vaccine/bpps/id_89bdf1e22.npy'), WindowsPath('C:/Users/animeshs/GD/stanford-covid-vaccine/bpps/id_89ce1a4bc.npy'), WindowsPath('C:/Users/animeshs/GD/stanford-covid-vaccine/bpps/id_89da6320e.npy'), WindowsPath('C:/Users/animeshs/GD/stanford-covid-vaccine/bpps/id_89e453cf2.npy'), WindowsPath('C:/Users/animeshs/GD/stanford-covid-vaccine/bpps/id_89ecb48cb.npy'), WindowsPath('C:/Users/animeshs/GD/stanford-covid-vaccine/bpps/id_89f8bdecf.npy'), WindowsPath('C:/Users/animeshs/GD/stanford-covid-vaccine/bpps/id_89f8ef7e1.npy'), WindowsPath('C:/Users/animeshs/GD/stanford-covid-vaccine/bpps/id_8a01ce737.npy'), WindowsPath('C:/Users/animeshs/GD/stanford-covid-vaccine/bpps/id_8a3de5a19.npy'), WindowsPath('C:/Users/animeshs/GD/stanford-covid-vaccine/bpps/id_8a41c83bb.npy'), WindowsPath('C:/Users/animeshs/GD/stanford-covid-vaccine/bpps/id_8a466e770.npy'), WindowsPath('C:/Users/animeshs/GD/stanford-covid-vaccine/bpps/id_8a5a17149.npy'), WindowsPath('C:/Users/animeshs/GD/stanford-covid-vaccine/bpps/id_8a5e88413.npy'), WindowsPath('C:/Users/animeshs/GD/stanford-covid-vaccine/bpps/id_8a6c43c81.npy'), WindowsPath('C:/Users/animeshs/GD/stanford-covid-vaccine/bpps/id_8a6c7ba39.npy'), WindowsPath('C:/Users/animeshs/GD/stanford-covid-vaccine/bpps/id_8a73ee850.npy'), WindowsPath('C:/Users/animeshs/GD/stanford-covid-vaccine/bpps/id_8a77d92b2.npy'), WindowsPath('C:/Users/animeshs/GD/stanford-covid-vaccine/bpps/id_8a7896b66.npy'), WindowsPath('C:/Users/animeshs/GD/stanford-covid-vaccine/bpps/id_8a78ba033.npy'), WindowsPath('C:/Users/animeshs/GD/stanford-covid-vaccine/bpps/id_8a8e1c7e6.npy'), WindowsPath('C:/Users/animeshs/GD/stanford-covid-vaccine/bpps/id_8a8f52a0f.npy'), WindowsPath('C:/Users/animeshs/GD/stanford-covid-vaccine/bpps/id_8aaeda1b6.npy'), WindowsPath('C:/Users/animeshs/GD/stanford-covid-vaccine/bpps/id_8abc22510.npy'), WindowsPath('C:/Users/animeshs/GD/stanford-covid-vaccine/bpps/id_8abc31d2c.npy'), WindowsPath('C:/Users/animeshs/GD/stanford-covid-vaccine/bpps/id_8ac370abf.npy'), WindowsPath('C:/Users/animeshs/GD/stanford-covid-vaccine/bpps/id_8ac460775.npy'), WindowsPath('C:/Users/animeshs/GD/stanford-covid-vaccine/bpps/id_8ac8734e7.npy'), WindowsPath('C:/Users/animeshs/GD/stanford-covid-vaccine/bpps/id_8acda0a54.npy'), WindowsPath('C:/Users/animeshs/GD/stanford-covid-vaccine/bpps/id_8acfeceee.npy'), WindowsPath('C:/Users/animeshs/GD/stanford-covid-vaccine/bpps/id_8ad38e548.npy'), WindowsPath('C:/Users/animeshs/GD/stanford-covid-vaccine/bpps/id_8ad4d7498.npy'), WindowsPath('C:/Users/animeshs/GD/stanford-covid-vaccine/bpps/id_8ae98c059.npy'), WindowsPath('C:/Users/animeshs/GD/stanford-covid-vaccine/bpps/id_8aefd5589.npy'), WindowsPath('C:/Users/animeshs/GD/stanford-covid-vaccine/bpps/id_8affba650.npy'), WindowsPath('C:/Users/animeshs/GD/stanford-covid-vaccine/bpps/id_8b17e044f.npy'), WindowsPath('C:/Users/animeshs/GD/stanford-covid-vaccine/bpps/id_8b39127fa.npy'), WindowsPath('C:/Users/animeshs/GD/stanford-covid-vaccine/bpps/id_8b3a67620.npy'), WindowsPath('C:/Users/animeshs/GD/stanford-covid-vaccine/bpps/id_8b46c3ea8.npy'), WindowsPath('C:/Users/animeshs/GD/stanford-covid-vaccine/bpps/id_8b53752fb.npy'), WindowsPath('C:/Users/animeshs/GD/stanford-covid-vaccine/bpps/id_8b5beeb6f.npy'), WindowsPath('C:/Users/animeshs/GD/stanford-covid-vaccine/bpps/id_8b740c598.npy'), WindowsPath('C:/Users/animeshs/GD/stanford-covid-vaccine/bpps/id_8b747f20a.npy'), WindowsPath('C:/Users/animeshs/GD/stanford-covid-vaccine/bpps/id_8b7abea64.npy'), WindowsPath('C:/Users/animeshs/GD/stanford-covid-vaccine/bpps/id_8b99b9afe.npy'), WindowsPath('C:/Users/animeshs/GD/stanford-covid-vaccine/bpps/id_8ba3d0cca.npy'), WindowsPath('C:/Users/animeshs/GD/stanford-covid-vaccine/bpps/id_8bb1008e1.npy'), WindowsPath('C:/Users/animeshs/GD/stanford-covid-vaccine/bpps/id_8bbb85d24.npy'), WindowsPath('C:/Users/animeshs/GD/stanford-covid-vaccine/bpps/id_8bbe4fc9c.npy'), WindowsPath('C:/Users/animeshs/GD/stanford-covid-vaccine/bpps/id_8bca0cd4f.npy'), WindowsPath('C:/Users/animeshs/GD/stanford-covid-vaccine/bpps/id_8bce0b6e2.npy'), WindowsPath('C:/Users/animeshs/GD/stanford-covid-vaccine/bpps/id_8bdc61817.npy'), WindowsPath('C:/Users/animeshs/GD/stanford-covid-vaccine/bpps/id_8bdf07fa3.npy'), WindowsPath('C:/Users/animeshs/GD/stanford-covid-vaccine/bpps/id_8be15b1c3.npy'), WindowsPath('C:/Users/animeshs/GD/stanford-covid-vaccine/bpps/id_8bf8ae423.npy'), WindowsPath('C:/Users/animeshs/GD/stanford-covid-vaccine/bpps/id_8bfabc261.npy'), WindowsPath('C:/Users/animeshs/GD/stanford-covid-vaccine/bpps/id_8bfcf26ed.npy'), WindowsPath('C:/Users/animeshs/GD/stanford-covid-vaccine/bpps/id_8bfe25023.npy'), WindowsPath('C:/Users/animeshs/GD/stanford-covid-vaccine/bpps/id_8c0644b6c.npy'), WindowsPath('C:/Users/animeshs/GD/stanford-covid-vaccine/bpps/id_8c094a191.npy'), WindowsPath('C:/Users/animeshs/GD/stanford-covid-vaccine/bpps/id_8c0b0a998.npy'), WindowsPath('C:/Users/animeshs/GD/stanford-covid-vaccine/bpps/id_8c0d7837d.npy'), WindowsPath('C:/Users/animeshs/GD/stanford-covid-vaccine/bpps/id_8c1c0903f.npy'), WindowsPath('C:/Users/animeshs/GD/stanford-covid-vaccine/bpps/id_8c1d4266d.npy'), WindowsPath('C:/Users/animeshs/GD/stanford-covid-vaccine/bpps/id_8c2157920.npy'), WindowsPath('C:/Users/animeshs/GD/stanford-covid-vaccine/bpps/id_8c2159bc2.npy'), WindowsPath('C:/Users/animeshs/GD/stanford-covid-vaccine/bpps/id_8c330c059.npy'), WindowsPath('C:/Users/animeshs/GD/stanford-covid-vaccine/bpps/id_8c345ed26.npy'), WindowsPath('C:/Users/animeshs/GD/stanford-covid-vaccine/bpps/id_8c417eac0.npy'), WindowsPath('C:/Users/animeshs/GD/stanford-covid-vaccine/bpps/id_8c45baf43.npy'), WindowsPath('C:/Users/animeshs/GD/stanford-covid-vaccine/bpps/id_8c53466a8.npy'), WindowsPath('C:/Users/animeshs/GD/stanford-covid-vaccine/bpps/id_8c53bd1ba.npy'), WindowsPath('C:/Users/animeshs/GD/stanford-covid-vaccine/bpps/id_8c551b08b.npy'), WindowsPath('C:/Users/animeshs/GD/stanford-covid-vaccine/bpps/id_8c58ff311.npy'), WindowsPath('C:/Users/animeshs/GD/stanford-covid-vaccine/bpps/id_8c6db1b6a.npy'), WindowsPath('C:/Users/animeshs/GD/stanford-covid-vaccine/bpps/id_8c77ad603.npy'), WindowsPath('C:/Users/animeshs/GD/stanford-covid-vaccine/bpps/id_8c7c42284.npy'), WindowsPath('C:/Users/animeshs/GD/stanford-covid-vaccine/bpps/id_8c7de33cb.npy'), WindowsPath('C:/Users/animeshs/GD/stanford-covid-vaccine/bpps/id_8c88963e9.npy'), WindowsPath('C:/Users/animeshs/GD/stanford-covid-vaccine/bpps/id_8c8c82d2c.npy'), WindowsPath('C:/Users/animeshs/GD/stanford-covid-vaccine/bpps/id_8ca214bf0.npy'), WindowsPath('C:/Users/animeshs/GD/stanford-covid-vaccine/bpps/id_8ca9a1d77.npy'), WindowsPath('C:/Users/animeshs/GD/stanford-covid-vaccine/bpps/id_8cb5cff1e.npy'), WindowsPath('C:/Users/animeshs/GD/stanford-covid-vaccine/bpps/id_8cc1745f9.npy'), WindowsPath('C:/Users/animeshs/GD/stanford-covid-vaccine/bpps/id_8ccd91c90.npy'), WindowsPath('C:/Users/animeshs/GD/stanford-covid-vaccine/bpps/id_8cd1ab6a6.npy'), WindowsPath('C:/Users/animeshs/GD/stanford-covid-vaccine/bpps/id_8cd5e8da5.npy'), WindowsPath('C:/Users/animeshs/GD/stanford-covid-vaccine/bpps/id_8cd8851d8.npy'), WindowsPath('C:/Users/animeshs/GD/stanford-covid-vaccine/bpps/id_8cf83f450.npy'), WindowsPath('C:/Users/animeshs/GD/stanford-covid-vaccine/bpps/id_8cfda2084.npy'), WindowsPath('C:/Users/animeshs/GD/stanford-covid-vaccine/bpps/id_8d08066c2.npy'), WindowsPath('C:/Users/animeshs/GD/stanford-covid-vaccine/bpps/id_8d1f611d0.npy'), WindowsPath('C:/Users/animeshs/GD/stanford-covid-vaccine/bpps/id_8d31d5258.npy'), WindowsPath('C:/Users/animeshs/GD/stanford-covid-vaccine/bpps/id_8d3f93316.npy'), WindowsPath('C:/Users/animeshs/GD/stanford-covid-vaccine/bpps/id_8d4772a6b.npy'), WindowsPath('C:/Users/animeshs/GD/stanford-covid-vaccine/bpps/id_8d47dad62.npy'), WindowsPath('C:/Users/animeshs/GD/stanford-covid-vaccine/bpps/id_8d53127fa.npy'), WindowsPath('C:/Users/animeshs/GD/stanford-covid-vaccine/bpps/id_8d6011151.npy'), WindowsPath('C:/Users/animeshs/GD/stanford-covid-vaccine/bpps/id_8d62093f2.npy'), WindowsPath('C:/Users/animeshs/GD/stanford-covid-vaccine/bpps/id_8d72110b2.npy'), WindowsPath('C:/Users/animeshs/GD/stanford-covid-vaccine/bpps/id_8d7689482.npy'), WindowsPath('C:/Users/animeshs/GD/stanford-covid-vaccine/bpps/id_8d786492e.npy'), WindowsPath('C:/Users/animeshs/GD/stanford-covid-vaccine/bpps/id_8d9480df5.npy'), WindowsPath('C:/Users/animeshs/GD/stanford-covid-vaccine/bpps/id_8d9aec05b.npy'), WindowsPath('C:/Users/animeshs/GD/stanford-covid-vaccine/bpps/id_8d9e41606.npy'), WindowsPath('C:/Users/animeshs/GD/stanford-covid-vaccine/bpps/id_8d9e5c066.npy'), WindowsPath('C:/Users/animeshs/GD/stanford-covid-vaccine/bpps/id_8da36fc21.npy'), WindowsPath('C:/Users/animeshs/GD/stanford-covid-vaccine/bpps/id_8da720243.npy'), WindowsPath('C:/Users/animeshs/GD/stanford-covid-vaccine/bpps/id_8da9cebc4.npy'), WindowsPath('C:/Users/animeshs/GD/stanford-covid-vaccine/bpps/id_8daf663e1.npy'), WindowsPath('C:/Users/animeshs/GD/stanford-covid-vaccine/bpps/id_8db0cae14.npy'), WindowsPath('C:/Users/animeshs/GD/stanford-covid-vaccine/bpps/id_8db4a23a1.npy'), WindowsPath('C:/Users/animeshs/GD/stanford-covid-vaccine/bpps/id_8dd11f11f.npy'), WindowsPath('C:/Users/animeshs/GD/stanford-covid-vaccine/bpps/id_8dd5bfa1a.npy'), WindowsPath('C:/Users/animeshs/GD/stanford-covid-vaccine/bpps/id_8ddd5ff08.npy'), WindowsPath('C:/Users/animeshs/GD/stanford-covid-vaccine/bpps/id_8df0a596c.npy'), WindowsPath('C:/Users/animeshs/GD/stanford-covid-vaccine/bpps/id_8dfb0f3ac.npy'), WindowsPath('C:/Users/animeshs/GD/stanford-covid-vaccine/bpps/id_8e0abbf0c.npy'), WindowsPath('C:/Users/animeshs/GD/stanford-covid-vaccine/bpps/id_8e0d84155.npy'), WindowsPath('C:/Users/animeshs/GD/stanford-covid-vaccine/bpps/id_8e0e1352a.npy'), WindowsPath('C:/Users/animeshs/GD/stanford-covid-vaccine/bpps/id_8e1ae98b4.npy'), WindowsPath('C:/Users/animeshs/GD/stanford-covid-vaccine/bpps/id_8e245aacd.npy'), WindowsPath('C:/Users/animeshs/GD/stanford-covid-vaccine/bpps/id_8e46713cd.npy'), WindowsPath('C:/Users/animeshs/GD/stanford-covid-vaccine/bpps/id_8e4a3c0e9.npy'), WindowsPath('C:/Users/animeshs/GD/stanford-covid-vaccine/bpps/id_8e4b5f2b0.npy'), WindowsPath('C:/Users/animeshs/GD/stanford-covid-vaccine/bpps/id_8e5309374.npy'), WindowsPath('C:/Users/animeshs/GD/stanford-covid-vaccine/bpps/id_8e60fdc54.npy'), WindowsPath('C:/Users/animeshs/GD/stanford-covid-vaccine/bpps/id_8e7ea8619.npy'), WindowsPath('C:/Users/animeshs/GD/stanford-covid-vaccine/bpps/id_8e87d3884.npy'), WindowsPath('C:/Users/animeshs/GD/stanford-covid-vaccine/bpps/id_8e8de2b8b.npy'), WindowsPath('C:/Users/animeshs/GD/stanford-covid-vaccine/bpps/id_8e9e2c77f.npy'), WindowsPath('C:/Users/animeshs/GD/stanford-covid-vaccine/bpps/id_8ea62bdaa.npy'), WindowsPath('C:/Users/animeshs/GD/stanford-covid-vaccine/bpps/id_8ea6e9542.npy'), WindowsPath('C:/Users/animeshs/GD/stanford-covid-vaccine/bpps/id_8ea8a1447.npy'), WindowsPath('C:/Users/animeshs/GD/stanford-covid-vaccine/bpps/id_8eb0081e6.npy'), WindowsPath('C:/Users/animeshs/GD/stanford-covid-vaccine/bpps/id_8ebee061f.npy'), WindowsPath('C:/Users/animeshs/GD/stanford-covid-vaccine/bpps/id_8ec4899fc.npy'), WindowsPath('C:/Users/animeshs/GD/stanford-covid-vaccine/bpps/id_8ecd971da.npy'), WindowsPath('C:/Users/animeshs/GD/stanford-covid-vaccine/bpps/id_8ed652b36.npy'), WindowsPath('C:/Users/animeshs/GD/stanford-covid-vaccine/bpps/id_8ee913d30.npy'), WindowsPath('C:/Users/animeshs/GD/stanford-covid-vaccine/bpps/id_8eebf8884.npy'), WindowsPath('C:/Users/animeshs/GD/stanford-covid-vaccine/bpps/id_8efc3ca8a.npy'), WindowsPath('C:/Users/animeshs/GD/stanford-covid-vaccine/bpps/id_8f08f0fac.npy'), WindowsPath('C:/Users/animeshs/GD/stanford-covid-vaccine/bpps/id_8f2411f8e.npy'), WindowsPath('C:/Users/animeshs/GD/stanford-covid-vaccine/bpps/id_8f4afd2ca.npy'), WindowsPath('C:/Users/animeshs/GD/stanford-covid-vaccine/bpps/id_8f4cfb37f.npy'), WindowsPath('C:/Users/animeshs/GD/stanford-covid-vaccine/bpps/id_8f60c896a.npy'), WindowsPath('C:/Users/animeshs/GD/stanford-covid-vaccine/bpps/id_8f85ab584.npy'), WindowsPath('C:/Users/animeshs/GD/stanford-covid-vaccine/bpps/id_8fa034290.npy'), WindowsPath('C:/Users/animeshs/GD/stanford-covid-vaccine/bpps/id_8fd6e6014.npy'), WindowsPath('C:/Users/animeshs/GD/stanford-covid-vaccine/bpps/id_900f3303d.npy'), WindowsPath('C:/Users/animeshs/GD/stanford-covid-vaccine/bpps/id_90229d307.npy'), WindowsPath('C:/Users/animeshs/GD/stanford-covid-vaccine/bpps/id_9024ae509.npy'), WindowsPath('C:/Users/animeshs/GD/stanford-covid-vaccine/bpps/id_903479f3f.npy'), WindowsPath('C:/Users/animeshs/GD/stanford-covid-vaccine/bpps/id_9059159e9.npy'), WindowsPath('C:/Users/animeshs/GD/stanford-covid-vaccine/bpps/id_90787f138.npy'), WindowsPath('C:/Users/animeshs/GD/stanford-covid-vaccine/bpps/id_907ea8575.npy'), WindowsPath('C:/Users/animeshs/GD/stanford-covid-vaccine/bpps/id_9083c0373.npy'), WindowsPath('C:/Users/animeshs/GD/stanford-covid-vaccine/bpps/id_9085aafc1.npy'), WindowsPath('C:/Users/animeshs/GD/stanford-covid-vaccine/bpps/id_90962d717.npy'), WindowsPath('C:/Users/animeshs/GD/stanford-covid-vaccine/bpps/id_90a97184b.npy'), WindowsPath('C:/Users/animeshs/GD/stanford-covid-vaccine/bpps/id_90bbfd029.npy'), WindowsPath('C:/Users/animeshs/GD/stanford-covid-vaccine/bpps/id_90d4428db.npy'), WindowsPath('C:/Users/animeshs/GD/stanford-covid-vaccine/bpps/id_90df3df8d.npy'), WindowsPath('C:/Users/animeshs/GD/stanford-covid-vaccine/bpps/id_90eaaf175.npy'), WindowsPath('C:/Users/animeshs/GD/stanford-covid-vaccine/bpps/id_90f817131.npy'), WindowsPath('C:/Users/animeshs/GD/stanford-covid-vaccine/bpps/id_90feddce0.npy'), WindowsPath('C:/Users/animeshs/GD/stanford-covid-vaccine/bpps/id_9103bdf86.npy'), WindowsPath('C:/Users/animeshs/GD/stanford-covid-vaccine/bpps/id_910cd53af.npy'), WindowsPath('C:/Users/animeshs/GD/stanford-covid-vaccine/bpps/id_9122dfcb0.npy'), WindowsPath('C:/Users/animeshs/GD/stanford-covid-vaccine/bpps/id_912dcf49b.npy'), WindowsPath('C:/Users/animeshs/GD/stanford-covid-vaccine/bpps/id_913befe62.npy'), WindowsPath('C:/Users/animeshs/GD/stanford-covid-vaccine/bpps/id_915056289.npy'), WindowsPath('C:/Users/animeshs/GD/stanford-covid-vaccine/bpps/id_915c7149a.npy'), WindowsPath('C:/Users/animeshs/GD/stanford-covid-vaccine/bpps/id_916b1d4a3.npy'), WindowsPath('C:/Users/animeshs/GD/stanford-covid-vaccine/bpps/id_916deb11f.npy'), WindowsPath('C:/Users/animeshs/GD/stanford-covid-vaccine/bpps/id_917cebe5e.npy'), WindowsPath('C:/Users/animeshs/GD/stanford-covid-vaccine/bpps/id_91811f5ed.npy'), WindowsPath('C:/Users/animeshs/GD/stanford-covid-vaccine/bpps/id_919528a42.npy'), WindowsPath('C:/Users/animeshs/GD/stanford-covid-vaccine/bpps/id_9196ae9d6.npy'), WindowsPath('C:/Users/animeshs/GD/stanford-covid-vaccine/bpps/id_91a16928b.npy'), WindowsPath('C:/Users/animeshs/GD/stanford-covid-vaccine/bpps/id_91a508680.npy'), WindowsPath('C:/Users/animeshs/GD/stanford-covid-vaccine/bpps/id_91a88cc6f.npy'), WindowsPath('C:/Users/animeshs/GD/stanford-covid-vaccine/bpps/id_91b7649d7.npy'), WindowsPath('C:/Users/animeshs/GD/stanford-covid-vaccine/bpps/id_91c3c874c.npy'), WindowsPath('C:/Users/animeshs/GD/stanford-covid-vaccine/bpps/id_91f07078c.npy'), WindowsPath('C:/Users/animeshs/GD/stanford-covid-vaccine/bpps/id_91f0cc7ee.npy'), WindowsPath('C:/Users/animeshs/GD/stanford-covid-vaccine/bpps/id_9207ac2ab.npy'), WindowsPath('C:/Users/animeshs/GD/stanford-covid-vaccine/bpps/id_9223fa84c.npy'), WindowsPath('C:/Users/animeshs/GD/stanford-covid-vaccine/bpps/id_922549c5a.npy'), WindowsPath('C:/Users/animeshs/GD/stanford-covid-vaccine/bpps/id_9243e2db7.npy'), WindowsPath('C:/Users/animeshs/GD/stanford-covid-vaccine/bpps/id_92443775f.npy'), WindowsPath('C:/Users/animeshs/GD/stanford-covid-vaccine/bpps/id_9244838fc.npy'), WindowsPath('C:/Users/animeshs/GD/stanford-covid-vaccine/bpps/id_9247795bf.npy'), WindowsPath('C:/Users/animeshs/GD/stanford-covid-vaccine/bpps/id_924ba57cc.npy'), WindowsPath('C:/Users/animeshs/GD/stanford-covid-vaccine/bpps/id_9255cbc5a.npy'), WindowsPath('C:/Users/animeshs/GD/stanford-covid-vaccine/bpps/id_9259509f5.npy'), WindowsPath('C:/Users/animeshs/GD/stanford-covid-vaccine/bpps/id_925b8249d.npy'), WindowsPath('C:/Users/animeshs/GD/stanford-covid-vaccine/bpps/id_926965c34.npy'), WindowsPath('C:/Users/animeshs/GD/stanford-covid-vaccine/bpps/id_927127905.npy'), WindowsPath('C:/Users/animeshs/GD/stanford-covid-vaccine/bpps/id_9277529c4.npy'), WindowsPath('C:/Users/animeshs/GD/stanford-covid-vaccine/bpps/id_927f10823.npy'), WindowsPath('C:/Users/animeshs/GD/stanford-covid-vaccine/bpps/id_9293a0026.npy'), WindowsPath('C:/Users/animeshs/GD/stanford-covid-vaccine/bpps/id_9293a1984.npy'), WindowsPath('C:/Users/animeshs/GD/stanford-covid-vaccine/bpps/id_92a10c14f.npy'), WindowsPath('C:/Users/animeshs/GD/stanford-covid-vaccine/bpps/id_92bce30ba.npy'), WindowsPath('C:/Users/animeshs/GD/stanford-covid-vaccine/bpps/id_92c8a3234.npy'), WindowsPath('C:/Users/animeshs/GD/stanford-covid-vaccine/bpps/id_92d37165a.npy'), WindowsPath('C:/Users/animeshs/GD/stanford-covid-vaccine/bpps/id_92da5a5df.npy'), WindowsPath('C:/Users/animeshs/GD/stanford-covid-vaccine/bpps/id_92dc0522e.npy'), WindowsPath('C:/Users/animeshs/GD/stanford-covid-vaccine/bpps/id_92de3db73.npy'), WindowsPath('C:/Users/animeshs/GD/stanford-covid-vaccine/bpps/id_92df46c93.npy'), WindowsPath('C:/Users/animeshs/GD/stanford-covid-vaccine/bpps/id_92e230897.npy'), WindowsPath('C:/Users/animeshs/GD/stanford-covid-vaccine/bpps/id_92f3ddcfd.npy'), WindowsPath('C:/Users/animeshs/GD/stanford-covid-vaccine/bpps/id_9300032a2.npy'), WindowsPath('C:/Users/animeshs/GD/stanford-covid-vaccine/bpps/id_93046f643.npy'), WindowsPath('C:/Users/animeshs/GD/stanford-covid-vaccine/bpps/id_930d53295.npy'), WindowsPath('C:/Users/animeshs/GD/stanford-covid-vaccine/bpps/id_9310f6ba9.npy'), WindowsPath('C:/Users/animeshs/GD/stanford-covid-vaccine/bpps/id_933462ecb.npy'), WindowsPath('C:/Users/animeshs/GD/stanford-covid-vaccine/bpps/id_934db2890.npy'), WindowsPath('C:/Users/animeshs/GD/stanford-covid-vaccine/bpps/id_93a6eefce.npy'), WindowsPath('C:/Users/animeshs/GD/stanford-covid-vaccine/bpps/id_93afdfde6.npy'), WindowsPath('C:/Users/animeshs/GD/stanford-covid-vaccine/bpps/id_93b1fce63.npy'), WindowsPath('C:/Users/animeshs/GD/stanford-covid-vaccine/bpps/id_93bb0b040.npy'), WindowsPath('C:/Users/animeshs/GD/stanford-covid-vaccine/bpps/id_93bb33d70.npy'), WindowsPath('C:/Users/animeshs/GD/stanford-covid-vaccine/bpps/id_93c012643.npy'), WindowsPath('C:/Users/animeshs/GD/stanford-covid-vaccine/bpps/id_93c3a613e.npy'), WindowsPath('C:/Users/animeshs/GD/stanford-covid-vaccine/bpps/id_93cea55d7.npy'), WindowsPath('C:/Users/animeshs/GD/stanford-covid-vaccine/bpps/id_93daf4a26.npy'), WindowsPath('C:/Users/animeshs/GD/stanford-covid-vaccine/bpps/id_93fb44691.npy'), WindowsPath('C:/Users/animeshs/GD/stanford-covid-vaccine/bpps/id_93fe4f68b.npy'), WindowsPath('C:/Users/animeshs/GD/stanford-covid-vaccine/bpps/id_93ff1553c.npy'), WindowsPath('C:/Users/animeshs/GD/stanford-covid-vaccine/bpps/id_94014a4dd.npy'), WindowsPath('C:/Users/animeshs/GD/stanford-covid-vaccine/bpps/id_940dc9b1f.npy'), WindowsPath('C:/Users/animeshs/GD/stanford-covid-vaccine/bpps/id_94149eaab.npy'), WindowsPath('C:/Users/animeshs/GD/stanford-covid-vaccine/bpps/id_941716402.npy'), WindowsPath('C:/Users/animeshs/GD/stanford-covid-vaccine/bpps/id_941abeff3.npy'), WindowsPath('C:/Users/animeshs/GD/stanford-covid-vaccine/bpps/id_9423158a8.npy'), WindowsPath('C:/Users/animeshs/GD/stanford-covid-vaccine/bpps/id_9429700d5.npy'), WindowsPath('C:/Users/animeshs/GD/stanford-covid-vaccine/bpps/id_942d756ba.npy'), WindowsPath('C:/Users/animeshs/GD/stanford-covid-vaccine/bpps/id_9432d2e5c.npy'), WindowsPath('C:/Users/animeshs/GD/stanford-covid-vaccine/bpps/id_943e612a1.npy'), WindowsPath('C:/Users/animeshs/GD/stanford-covid-vaccine/bpps/id_9445c9459.npy'), WindowsPath('C:/Users/animeshs/GD/stanford-covid-vaccine/bpps/id_9446b75ec.npy'), WindowsPath('C:/Users/animeshs/GD/stanford-covid-vaccine/bpps/id_944a4423a.npy'), WindowsPath('C:/Users/animeshs/GD/stanford-covid-vaccine/bpps/id_945145a4d.npy'), WindowsPath('C:/Users/animeshs/GD/stanford-covid-vaccine/bpps/id_9453ead3a.npy'), WindowsPath('C:/Users/animeshs/GD/stanford-covid-vaccine/bpps/id_9454cad82.npy'), WindowsPath('C:/Users/animeshs/GD/stanford-covid-vaccine/bpps/id_945afc3f4.npy'), WindowsPath('C:/Users/animeshs/GD/stanford-covid-vaccine/bpps/id_9467d557d.npy'), WindowsPath('C:/Users/animeshs/GD/stanford-covid-vaccine/bpps/id_946856a77.npy'), WindowsPath('C:/Users/animeshs/GD/stanford-covid-vaccine/bpps/id_94720a909.npy'), WindowsPath('C:/Users/animeshs/GD/stanford-covid-vaccine/bpps/id_94730e605.npy'), WindowsPath('C:/Users/animeshs/GD/stanford-covid-vaccine/bpps/id_947616e81.npy'), WindowsPath('C:/Users/animeshs/GD/stanford-covid-vaccine/bpps/id_947ef783f.npy'), WindowsPath('C:/Users/animeshs/GD/stanford-covid-vaccine/bpps/id_9482b025f.npy'), WindowsPath('C:/Users/animeshs/GD/stanford-covid-vaccine/bpps/id_9488aa003.npy'), WindowsPath('C:/Users/animeshs/GD/stanford-covid-vaccine/bpps/id_9494ae709.npy'), WindowsPath('C:/Users/animeshs/GD/stanford-covid-vaccine/bpps/id_949d0aa69.npy'), WindowsPath('C:/Users/animeshs/GD/stanford-covid-vaccine/bpps/id_94a53e3fd.npy'), WindowsPath('C:/Users/animeshs/GD/stanford-covid-vaccine/bpps/id_94b2e6f85.npy'), WindowsPath('C:/Users/animeshs/GD/stanford-covid-vaccine/bpps/id_94bc4a905.npy'), WindowsPath('C:/Users/animeshs/GD/stanford-covid-vaccine/bpps/id_94cabfa8e.npy'), WindowsPath('C:/Users/animeshs/GD/stanford-covid-vaccine/bpps/id_94ccf391f.npy'), WindowsPath('C:/Users/animeshs/GD/stanford-covid-vaccine/bpps/id_94da9e198.npy'), WindowsPath('C:/Users/animeshs/GD/stanford-covid-vaccine/bpps/id_94eae5eac.npy'), WindowsPath('C:/Users/animeshs/GD/stanford-covid-vaccine/bpps/id_94f304095.npy'), WindowsPath('C:/Users/animeshs/GD/stanford-covid-vaccine/bpps/id_9511313f4.npy'), WindowsPath('C:/Users/animeshs/GD/stanford-covid-vaccine/bpps/id_951d8673f.npy'), WindowsPath('C:/Users/animeshs/GD/stanford-covid-vaccine/bpps/id_951f1701b.npy'), WindowsPath('C:/Users/animeshs/GD/stanford-covid-vaccine/bpps/id_95253113a.npy'), WindowsPath('C:/Users/animeshs/GD/stanford-covid-vaccine/bpps/id_952d77d00.npy'), WindowsPath('C:/Users/animeshs/GD/stanford-covid-vaccine/bpps/id_953d3e92b.npy'), WindowsPath('C:/Users/animeshs/GD/stanford-covid-vaccine/bpps/id_953f8ceb9.npy'), WindowsPath('C:/Users/animeshs/GD/stanford-covid-vaccine/bpps/id_954af2d66.npy'), WindowsPath('C:/Users/animeshs/GD/stanford-covid-vaccine/bpps/id_9558a71f5.npy'), WindowsPath('C:/Users/animeshs/GD/stanford-covid-vaccine/bpps/id_955c04fd7.npy'), WindowsPath('C:/Users/animeshs/GD/stanford-covid-vaccine/bpps/id_9565f81c6.npy'), WindowsPath('C:/Users/animeshs/GD/stanford-covid-vaccine/bpps/id_9573815a7.npy'), WindowsPath('C:/Users/animeshs/GD/stanford-covid-vaccine/bpps/id_957b3dc16.npy'), WindowsPath('C:/Users/animeshs/GD/stanford-covid-vaccine/bpps/id_957e8c2df.npy'), WindowsPath('C:/Users/animeshs/GD/stanford-covid-vaccine/bpps/id_958ea6977.npy'), WindowsPath('C:/Users/animeshs/GD/stanford-covid-vaccine/bpps/id_95901828a.npy'), WindowsPath('C:/Users/animeshs/GD/stanford-covid-vaccine/bpps/id_959ca1917.npy'), WindowsPath('C:/Users/animeshs/GD/stanford-covid-vaccine/bpps/id_95a2ebaec.npy'), WindowsPath('C:/Users/animeshs/GD/stanford-covid-vaccine/bpps/id_95a7d3bc3.npy'), WindowsPath('C:/Users/animeshs/GD/stanford-covid-vaccine/bpps/id_95ad145e0.npy'), WindowsPath('C:/Users/animeshs/GD/stanford-covid-vaccine/bpps/id_95b62f3fd.npy'), WindowsPath('C:/Users/animeshs/GD/stanford-covid-vaccine/bpps/id_95cc6d29d.npy'), WindowsPath('C:/Users/animeshs/GD/stanford-covid-vaccine/bpps/id_95ccfedc6.npy'), WindowsPath('C:/Users/animeshs/GD/stanford-covid-vaccine/bpps/id_95d4c8445.npy'), WindowsPath('C:/Users/animeshs/GD/stanford-covid-vaccine/bpps/id_95e9211c1.npy'), WindowsPath('C:/Users/animeshs/GD/stanford-covid-vaccine/bpps/id_95f723137.npy'), WindowsPath('C:/Users/animeshs/GD/stanford-covid-vaccine/bpps/id_95fcb4c7c.npy'), WindowsPath('C:/Users/animeshs/GD/stanford-covid-vaccine/bpps/id_960071d7e.npy'), WindowsPath('C:/Users/animeshs/GD/stanford-covid-vaccine/bpps/id_96066e6d2.npy'), WindowsPath('C:/Users/animeshs/GD/stanford-covid-vaccine/bpps/id_960b01f37.npy'), WindowsPath('C:/Users/animeshs/GD/stanford-covid-vaccine/bpps/id_9621a190b.npy'), WindowsPath('C:/Users/animeshs/GD/stanford-covid-vaccine/bpps/id_9622ea8ce.npy'), WindowsPath('C:/Users/animeshs/GD/stanford-covid-vaccine/bpps/id_963786fec.npy'), WindowsPath('C:/Users/animeshs/GD/stanford-covid-vaccine/bpps/id_96462654c.npy'), WindowsPath('C:/Users/animeshs/GD/stanford-covid-vaccine/bpps/id_9687287db.npy'), WindowsPath('C:/Users/animeshs/GD/stanford-covid-vaccine/bpps/id_969133bc4.npy'), WindowsPath('C:/Users/animeshs/GD/stanford-covid-vaccine/bpps/id_96ad52483.npy'), WindowsPath('C:/Users/animeshs/GD/stanford-covid-vaccine/bpps/id_96b9587cd.npy'), WindowsPath('C:/Users/animeshs/GD/stanford-covid-vaccine/bpps/id_96bc80225.npy'), WindowsPath('C:/Users/animeshs/GD/stanford-covid-vaccine/bpps/id_96d76059b.npy'), WindowsPath('C:/Users/animeshs/GD/stanford-covid-vaccine/bpps/id_96e15c96b.npy'), WindowsPath('C:/Users/animeshs/GD/stanford-covid-vaccine/bpps/id_96eed0e31.npy'), WindowsPath('C:/Users/animeshs/GD/stanford-covid-vaccine/bpps/id_96f2606b0.npy'), WindowsPath('C:/Users/animeshs/GD/stanford-covid-vaccine/bpps/id_96f52583a.npy'), WindowsPath('C:/Users/animeshs/GD/stanford-covid-vaccine/bpps/id_96fa2f614.npy'), WindowsPath('C:/Users/animeshs/GD/stanford-covid-vaccine/bpps/id_970b55ffd.npy'), WindowsPath('C:/Users/animeshs/GD/stanford-covid-vaccine/bpps/id_97149b5e1.npy'), WindowsPath('C:/Users/animeshs/GD/stanford-covid-vaccine/bpps/id_971a93cc4.npy'), WindowsPath('C:/Users/animeshs/GD/stanford-covid-vaccine/bpps/id_972942a6a.npy'), WindowsPath('C:/Users/animeshs/GD/stanford-covid-vaccine/bpps/id_972c96a24.npy'), WindowsPath('C:/Users/animeshs/GD/stanford-covid-vaccine/bpps/id_972d805a3.npy'), WindowsPath('C:/Users/animeshs/GD/stanford-covid-vaccine/bpps/id_974347def.npy'), WindowsPath('C:/Users/animeshs/GD/stanford-covid-vaccine/bpps/id_97436ff2b.npy'), WindowsPath('C:/Users/animeshs/GD/stanford-covid-vaccine/bpps/id_974c5be1c.npy'), WindowsPath('C:/Users/animeshs/GD/stanford-covid-vaccine/bpps/id_974dfe397.npy'), WindowsPath('C:/Users/animeshs/GD/stanford-covid-vaccine/bpps/id_97568128a.npy'), WindowsPath('C:/Users/animeshs/GD/stanford-covid-vaccine/bpps/id_976aaee9c.npy'), WindowsPath('C:/Users/animeshs/GD/stanford-covid-vaccine/bpps/id_9772c457c.npy'), WindowsPath('C:/Users/animeshs/GD/stanford-covid-vaccine/bpps/id_978cafdbc.npy'), WindowsPath('C:/Users/animeshs/GD/stanford-covid-vaccine/bpps/id_979bd6ef2.npy'), WindowsPath('C:/Users/animeshs/GD/stanford-covid-vaccine/bpps/id_97b2f3ff8.npy'), WindowsPath('C:/Users/animeshs/GD/stanford-covid-vaccine/bpps/id_97c8361ed.npy'), WindowsPath('C:/Users/animeshs/GD/stanford-covid-vaccine/bpps/id_97c8f2497.npy'), WindowsPath('C:/Users/animeshs/GD/stanford-covid-vaccine/bpps/id_97dedae83.npy'), WindowsPath('C:/Users/animeshs/GD/stanford-covid-vaccine/bpps/id_97f0bbd4c.npy'), WindowsPath('C:/Users/animeshs/GD/stanford-covid-vaccine/bpps/id_9800fbf23.npy'), WindowsPath('C:/Users/animeshs/GD/stanford-covid-vaccine/bpps/id_98083e401.npy'), WindowsPath('C:/Users/animeshs/GD/stanford-covid-vaccine/bpps/id_980bf19cd.npy'), WindowsPath('C:/Users/animeshs/GD/stanford-covid-vaccine/bpps/id_9816ff53e.npy'), WindowsPath('C:/Users/animeshs/GD/stanford-covid-vaccine/bpps/id_981f6c440.npy'), WindowsPath('C:/Users/animeshs/GD/stanford-covid-vaccine/bpps/id_982a2f9d4.npy'), WindowsPath('C:/Users/animeshs/GD/stanford-covid-vaccine/bpps/id_982f07d35.npy'), WindowsPath('C:/Users/animeshs/GD/stanford-covid-vaccine/bpps/id_98349b45f.npy'), WindowsPath('C:/Users/animeshs/GD/stanford-covid-vaccine/bpps/id_9837632fb.npy'), WindowsPath('C:/Users/animeshs/GD/stanford-covid-vaccine/bpps/id_983883f72.npy'), WindowsPath('C:/Users/animeshs/GD/stanford-covid-vaccine/bpps/id_983d86e79.npy'), WindowsPath('C:/Users/animeshs/GD/stanford-covid-vaccine/bpps/id_98452df6b.npy'), WindowsPath('C:/Users/animeshs/GD/stanford-covid-vaccine/bpps/id_984786aa5.npy'), WindowsPath('C:/Users/animeshs/GD/stanford-covid-vaccine/bpps/id_9855e3d90.npy'), WindowsPath('C:/Users/animeshs/GD/stanford-covid-vaccine/bpps/id_985f7e909.npy'), WindowsPath('C:/Users/animeshs/GD/stanford-covid-vaccine/bpps/id_9861ef8c5.npy'), WindowsPath('C:/Users/animeshs/GD/stanford-covid-vaccine/bpps/id_986327b69.npy'), WindowsPath('C:/Users/animeshs/GD/stanford-covid-vaccine/bpps/id_98686955d.npy'), WindowsPath('C:/Users/animeshs/GD/stanford-covid-vaccine/bpps/id_9883e4737.npy'), WindowsPath('C:/Users/animeshs/GD/stanford-covid-vaccine/bpps/id_988a29379.npy'), WindowsPath('C:/Users/animeshs/GD/stanford-covid-vaccine/bpps/id_9892cbb23.npy'), WindowsPath('C:/Users/animeshs/GD/stanford-covid-vaccine/bpps/id_9894858c0.npy'), WindowsPath('C:/Users/animeshs/GD/stanford-covid-vaccine/bpps/id_98978b9c1.npy'), WindowsPath('C:/Users/animeshs/GD/stanford-covid-vaccine/bpps/id_98a5ae714.npy'), WindowsPath('C:/Users/animeshs/GD/stanford-covid-vaccine/bpps/id_98b0498b3.npy'), WindowsPath('C:/Users/animeshs/GD/stanford-covid-vaccine/bpps/id_98d5d785e.npy'), WindowsPath('C:/Users/animeshs/GD/stanford-covid-vaccine/bpps/id_98e6b1902.npy'), WindowsPath('C:/Users/animeshs/GD/stanford-covid-vaccine/bpps/id_98edd7105.npy'), WindowsPath('C:/Users/animeshs/GD/stanford-covid-vaccine/bpps/id_98f0472f1.npy'), WindowsPath('C:/Users/animeshs/GD/stanford-covid-vaccine/bpps/id_98f20f5e0.npy'), WindowsPath('C:/Users/animeshs/GD/stanford-covid-vaccine/bpps/id_98f9f6d4f.npy'), WindowsPath('C:/Users/animeshs/GD/stanford-covid-vaccine/bpps/id_98fc86679.npy'), WindowsPath('C:/Users/animeshs/GD/stanford-covid-vaccine/bpps/id_98fe4444c.npy'), WindowsPath('C:/Users/animeshs/GD/stanford-covid-vaccine/bpps/id_98ff19244.npy'), WindowsPath('C:/Users/animeshs/GD/stanford-covid-vaccine/bpps/id_99251e703.npy'), WindowsPath('C:/Users/animeshs/GD/stanford-covid-vaccine/bpps/id_992c0d05e.npy'), WindowsPath('C:/Users/animeshs/GD/stanford-covid-vaccine/bpps/id_992d8268a.npy'), WindowsPath('C:/Users/animeshs/GD/stanford-covid-vaccine/bpps/id_993607a0b.npy'), WindowsPath('C:/Users/animeshs/GD/stanford-covid-vaccine/bpps/id_9936267f4.npy'), WindowsPath('C:/Users/animeshs/GD/stanford-covid-vaccine/bpps/id_993d9f38a.npy'), WindowsPath('C:/Users/animeshs/GD/stanford-covid-vaccine/bpps/id_9941a1df4.npy'), WindowsPath('C:/Users/animeshs/GD/stanford-covid-vaccine/bpps/id_994c07e26.npy'), WindowsPath('C:/Users/animeshs/GD/stanford-covid-vaccine/bpps/id_994f0c8a3.npy'), WindowsPath('C:/Users/animeshs/GD/stanford-covid-vaccine/bpps/id_996191644.npy'), WindowsPath('C:/Users/animeshs/GD/stanford-covid-vaccine/bpps/id_996e504dc.npy'), WindowsPath('C:/Users/animeshs/GD/stanford-covid-vaccine/bpps/id_99758a532.npy'), WindowsPath('C:/Users/animeshs/GD/stanford-covid-vaccine/bpps/id_99796f172.npy'), WindowsPath('C:/Users/animeshs/GD/stanford-covid-vaccine/bpps/id_9981c3364.npy'), WindowsPath('C:/Users/animeshs/GD/stanford-covid-vaccine/bpps/id_998226e97.npy'), WindowsPath('C:/Users/animeshs/GD/stanford-covid-vaccine/bpps/id_998669e76.npy'), WindowsPath('C:/Users/animeshs/GD/stanford-covid-vaccine/bpps/id_9989af547.npy'), WindowsPath('C:/Users/animeshs/GD/stanford-covid-vaccine/bpps/id_998f908e6.npy'), WindowsPath('C:/Users/animeshs/GD/stanford-covid-vaccine/bpps/id_99a391eae.npy'), WindowsPath('C:/Users/animeshs/GD/stanford-covid-vaccine/bpps/id_99a81def0.npy'), WindowsPath('C:/Users/animeshs/GD/stanford-covid-vaccine/bpps/id_99be2bfb2.npy'), WindowsPath('C:/Users/animeshs/GD/stanford-covid-vaccine/bpps/id_99bf3ab8b.npy'), WindowsPath('C:/Users/animeshs/GD/stanford-covid-vaccine/bpps/id_99bfa9de5.npy'), WindowsPath('C:/Users/animeshs/GD/stanford-covid-vaccine/bpps/id_99cf13ee1.npy'), WindowsPath('C:/Users/animeshs/GD/stanford-covid-vaccine/bpps/id_99cfeddd0.npy'), WindowsPath('C:/Users/animeshs/GD/stanford-covid-vaccine/bpps/id_99d1db007.npy'), WindowsPath('C:/Users/animeshs/GD/stanford-covid-vaccine/bpps/id_99e0ab5d5.npy'), WindowsPath('C:/Users/animeshs/GD/stanford-covid-vaccine/bpps/id_99e34ad3f.npy'), WindowsPath('C:/Users/animeshs/GD/stanford-covid-vaccine/bpps/id_99ef127b9.npy'), WindowsPath('C:/Users/animeshs/GD/stanford-covid-vaccine/bpps/id_9a0520b5a.npy'), WindowsPath('C:/Users/animeshs/GD/stanford-covid-vaccine/bpps/id_9a052b0aa.npy'), WindowsPath('C:/Users/animeshs/GD/stanford-covid-vaccine/bpps/id_9a2489b3a.npy'), WindowsPath('C:/Users/animeshs/GD/stanford-covid-vaccine/bpps/id_9a252ed80.npy'), WindowsPath('C:/Users/animeshs/GD/stanford-covid-vaccine/bpps/id_9a2aea001.npy'), WindowsPath('C:/Users/animeshs/GD/stanford-covid-vaccine/bpps/id_9a2e0c880.npy'), WindowsPath('C:/Users/animeshs/GD/stanford-covid-vaccine/bpps/id_9a46a19f0.npy'), WindowsPath('C:/Users/animeshs/GD/stanford-covid-vaccine/bpps/id_9a47697ea.npy'), WindowsPath('C:/Users/animeshs/GD/stanford-covid-vaccine/bpps/id_9a521e5a2.npy'), WindowsPath('C:/Users/animeshs/GD/stanford-covid-vaccine/bpps/id_9a62ecfae.npy'), WindowsPath('C:/Users/animeshs/GD/stanford-covid-vaccine/bpps/id_9a6f8178e.npy'), WindowsPath('C:/Users/animeshs/GD/stanford-covid-vaccine/bpps/id_9a8ac9254.npy'), WindowsPath('C:/Users/animeshs/GD/stanford-covid-vaccine/bpps/id_9a98d3395.npy'), WindowsPath('C:/Users/animeshs/GD/stanford-covid-vaccine/bpps/id_9aa2e44c7.npy'), WindowsPath('C:/Users/animeshs/GD/stanford-covid-vaccine/bpps/id_9aae92b2d.npy'), WindowsPath('C:/Users/animeshs/GD/stanford-covid-vaccine/bpps/id_9ab4463a9.npy'), WindowsPath('C:/Users/animeshs/GD/stanford-covid-vaccine/bpps/id_9ad39ffbb.npy'), WindowsPath('C:/Users/animeshs/GD/stanford-covid-vaccine/bpps/id_9adb8d1e9.npy'), WindowsPath('C:/Users/animeshs/GD/stanford-covid-vaccine/bpps/id_9af3fe531.npy'), WindowsPath('C:/Users/animeshs/GD/stanford-covid-vaccine/bpps/id_9af4087f3.npy'), WindowsPath('C:/Users/animeshs/GD/stanford-covid-vaccine/bpps/id_9af5fcd88.npy'), WindowsPath('C:/Users/animeshs/GD/stanford-covid-vaccine/bpps/id_9afdc9f52.npy'), WindowsPath('C:/Users/animeshs/GD/stanford-covid-vaccine/bpps/id_9b04d857d.npy'), WindowsPath('C:/Users/animeshs/GD/stanford-covid-vaccine/bpps/id_9b05dfab4.npy'), WindowsPath('C:/Users/animeshs/GD/stanford-covid-vaccine/bpps/id_9b13c50b2.npy'), WindowsPath('C:/Users/animeshs/GD/stanford-covid-vaccine/bpps/id_9b4f08d67.npy'), WindowsPath('C:/Users/animeshs/GD/stanford-covid-vaccine/bpps/id_9b607dbea.npy'), WindowsPath('C:/Users/animeshs/GD/stanford-covid-vaccine/bpps/id_9b6570d9d.npy'), WindowsPath('C:/Users/animeshs/GD/stanford-covid-vaccine/bpps/id_9b71bc402.npy'), WindowsPath('C:/Users/animeshs/GD/stanford-covid-vaccine/bpps/id_9b73a3e17.npy'), WindowsPath('C:/Users/animeshs/GD/stanford-covid-vaccine/bpps/id_9b775136b.npy'), WindowsPath('C:/Users/animeshs/GD/stanford-covid-vaccine/bpps/id_9b7930817.npy'), WindowsPath('C:/Users/animeshs/GD/stanford-covid-vaccine/bpps/id_9b7faf9e4.npy'), WindowsPath('C:/Users/animeshs/GD/stanford-covid-vaccine/bpps/id_9b8f0d1b0.npy'), WindowsPath('C:/Users/animeshs/GD/stanford-covid-vaccine/bpps/id_9b9bfa467.npy'), WindowsPath('C:/Users/animeshs/GD/stanford-covid-vaccine/bpps/id_9b9ec876e.npy'), WindowsPath('C:/Users/animeshs/GD/stanford-covid-vaccine/bpps/id_9ba711c28.npy'), WindowsPath('C:/Users/animeshs/GD/stanford-covid-vaccine/bpps/id_9baa5b2b1.npy'), WindowsPath('C:/Users/animeshs/GD/stanford-covid-vaccine/bpps/id_9bb9614db.npy'), WindowsPath('C:/Users/animeshs/GD/stanford-covid-vaccine/bpps/id_9bc95044e.npy'), WindowsPath('C:/Users/animeshs/GD/stanford-covid-vaccine/bpps/id_9bdb90d72.npy'), WindowsPath('C:/Users/animeshs/GD/stanford-covid-vaccine/bpps/id_9be50a1ef.npy'), WindowsPath('C:/Users/animeshs/GD/stanford-covid-vaccine/bpps/id_9be8c407e.npy'), WindowsPath('C:/Users/animeshs/GD/stanford-covid-vaccine/bpps/id_9bf6be1a4.npy'), WindowsPath('C:/Users/animeshs/GD/stanford-covid-vaccine/bpps/id_9bfbe9f81.npy'), WindowsPath('C:/Users/animeshs/GD/stanford-covid-vaccine/bpps/id_9c1fc6517.npy'), WindowsPath('C:/Users/animeshs/GD/stanford-covid-vaccine/bpps/id_9c315ac38.npy'), WindowsPath('C:/Users/animeshs/GD/stanford-covid-vaccine/bpps/id_9c3301631.npy'), WindowsPath('C:/Users/animeshs/GD/stanford-covid-vaccine/bpps/id_9c3653d8d.npy'), WindowsPath('C:/Users/animeshs/GD/stanford-covid-vaccine/bpps/id_9c3b30419.npy'), WindowsPath('C:/Users/animeshs/GD/stanford-covid-vaccine/bpps/id_9c3b71afa.npy'), WindowsPath('C:/Users/animeshs/GD/stanford-covid-vaccine/bpps/id_9c3c1814e.npy'), WindowsPath('C:/Users/animeshs/GD/stanford-covid-vaccine/bpps/id_9c5f70c74.npy'), WindowsPath('C:/Users/animeshs/GD/stanford-covid-vaccine/bpps/id_9c6ccc627.npy'), WindowsPath('C:/Users/animeshs/GD/stanford-covid-vaccine/bpps/id_9c748aa0e.npy'), WindowsPath('C:/Users/animeshs/GD/stanford-covid-vaccine/bpps/id_9c77e1984.npy'), WindowsPath('C:/Users/animeshs/GD/stanford-covid-vaccine/bpps/id_9c7daea1a.npy'), WindowsPath('C:/Users/animeshs/GD/stanford-covid-vaccine/bpps/id_9c8829ff6.npy'), WindowsPath('C:/Users/animeshs/GD/stanford-covid-vaccine/bpps/id_9c8eff5f1.npy'), WindowsPath('C:/Users/animeshs/GD/stanford-covid-vaccine/bpps/id_9c9aa505e.npy'), WindowsPath('C:/Users/animeshs/GD/stanford-covid-vaccine/bpps/id_9ca4c4379.npy'), WindowsPath('C:/Users/animeshs/GD/stanford-covid-vaccine/bpps/id_9cab36303.npy'), WindowsPath('C:/Users/animeshs/GD/stanford-covid-vaccine/bpps/id_9cad1b5ba.npy'), WindowsPath('C:/Users/animeshs/GD/stanford-covid-vaccine/bpps/id_9cc4974d2.npy'), WindowsPath('C:/Users/animeshs/GD/stanford-covid-vaccine/bpps/id_9cc898056.npy'), WindowsPath('C:/Users/animeshs/GD/stanford-covid-vaccine/bpps/id_9cca7db97.npy'), WindowsPath('C:/Users/animeshs/GD/stanford-covid-vaccine/bpps/id_9cf009a5f.npy'), WindowsPath('C:/Users/animeshs/GD/stanford-covid-vaccine/bpps/id_9d0342d9c.npy'), WindowsPath('C:/Users/animeshs/GD/stanford-covid-vaccine/bpps/id_9d0917462.npy'), WindowsPath('C:/Users/animeshs/GD/stanford-covid-vaccine/bpps/id_9d158ee1d.npy'), WindowsPath('C:/Users/animeshs/GD/stanford-covid-vaccine/bpps/id_9d1cac17c.npy'), WindowsPath('C:/Users/animeshs/GD/stanford-covid-vaccine/bpps/id_9d1ea2912.npy'), WindowsPath('C:/Users/animeshs/GD/stanford-covid-vaccine/bpps/id_9d20caad2.npy'), WindowsPath('C:/Users/animeshs/GD/stanford-covid-vaccine/bpps/id_9d2f17eb7.npy'), WindowsPath('C:/Users/animeshs/GD/stanford-covid-vaccine/bpps/id_9d367d278.npy'), WindowsPath('C:/Users/animeshs/GD/stanford-covid-vaccine/bpps/id_9d424cfd0.npy'), WindowsPath('C:/Users/animeshs/GD/stanford-covid-vaccine/bpps/id_9d43e547b.npy'), WindowsPath('C:/Users/animeshs/GD/stanford-covid-vaccine/bpps/id_9d7817a3d.npy'), WindowsPath('C:/Users/animeshs/GD/stanford-covid-vaccine/bpps/id_9d7bb8420.npy'), WindowsPath('C:/Users/animeshs/GD/stanford-covid-vaccine/bpps/id_9d88d5380.npy'), WindowsPath('C:/Users/animeshs/GD/stanford-covid-vaccine/bpps/id_9d8cfc8af.npy'), WindowsPath('C:/Users/animeshs/GD/stanford-covid-vaccine/bpps/id_9d8fcb143.npy'), WindowsPath('C:/Users/animeshs/GD/stanford-covid-vaccine/bpps/id_9d9e080b7.npy'), WindowsPath('C:/Users/animeshs/GD/stanford-covid-vaccine/bpps/id_9d9e42445.npy'), WindowsPath('C:/Users/animeshs/GD/stanford-covid-vaccine/bpps/id_9da3d823a.npy'), WindowsPath('C:/Users/animeshs/GD/stanford-covid-vaccine/bpps/id_9db7ff271.npy'), WindowsPath('C:/Users/animeshs/GD/stanford-covid-vaccine/bpps/id_9db8faa6f.npy'), WindowsPath('C:/Users/animeshs/GD/stanford-covid-vaccine/bpps/id_9dc678039.npy'), WindowsPath('C:/Users/animeshs/GD/stanford-covid-vaccine/bpps/id_9dce475d6.npy'), WindowsPath('C:/Users/animeshs/GD/stanford-covid-vaccine/bpps/id_9dd331347.npy'), WindowsPath('C:/Users/animeshs/GD/stanford-covid-vaccine/bpps/id_9ddbb0fd5.npy'), WindowsPath('C:/Users/animeshs/GD/stanford-covid-vaccine/bpps/id_9ddc4c86d.npy'), WindowsPath('C:/Users/animeshs/GD/stanford-covid-vaccine/bpps/id_9dddfaa9c.npy'), WindowsPath('C:/Users/animeshs/GD/stanford-covid-vaccine/bpps/id_9ddf44de9.npy'), WindowsPath('C:/Users/animeshs/GD/stanford-covid-vaccine/bpps/id_9e0736689.npy'), WindowsPath('C:/Users/animeshs/GD/stanford-covid-vaccine/bpps/id_9e089997f.npy'), WindowsPath('C:/Users/animeshs/GD/stanford-covid-vaccine/bpps/id_9e10fe9ab.npy'), WindowsPath('C:/Users/animeshs/GD/stanford-covid-vaccine/bpps/id_9e238378b.npy'), WindowsPath('C:/Users/animeshs/GD/stanford-covid-vaccine/bpps/id_9e29be439.npy'), WindowsPath('C:/Users/animeshs/GD/stanford-covid-vaccine/bpps/id_9e3102987.npy'), WindowsPath('C:/Users/animeshs/GD/stanford-covid-vaccine/bpps/id_9e4338dce.npy'), WindowsPath('C:/Users/animeshs/GD/stanford-covid-vaccine/bpps/id_9e4942b33.npy'), WindowsPath('C:/Users/animeshs/GD/stanford-covid-vaccine/bpps/id_9e5e694ea.npy'), WindowsPath('C:/Users/animeshs/GD/stanford-covid-vaccine/bpps/id_9e5f8cf1c.npy'), WindowsPath('C:/Users/animeshs/GD/stanford-covid-vaccine/bpps/id_9e6749d2d.npy'), WindowsPath('C:/Users/animeshs/GD/stanford-covid-vaccine/bpps/id_9e76e7c06.npy'), WindowsPath('C:/Users/animeshs/GD/stanford-covid-vaccine/bpps/id_9e7cabbe7.npy'), WindowsPath('C:/Users/animeshs/GD/stanford-covid-vaccine/bpps/id_9e7f92c48.npy'), WindowsPath('C:/Users/animeshs/GD/stanford-covid-vaccine/bpps/id_9eab9e371.npy'), WindowsPath('C:/Users/animeshs/GD/stanford-covid-vaccine/bpps/id_9ecacd013.npy'), WindowsPath('C:/Users/animeshs/GD/stanford-covid-vaccine/bpps/id_9ed2468c3.npy'), WindowsPath('C:/Users/animeshs/GD/stanford-covid-vaccine/bpps/id_9ee5c9053.npy'), WindowsPath('C:/Users/animeshs/GD/stanford-covid-vaccine/bpps/id_9f0e1aaeb.npy'), WindowsPath('C:/Users/animeshs/GD/stanford-covid-vaccine/bpps/id_9f1d07794.npy'), WindowsPath('C:/Users/animeshs/GD/stanford-covid-vaccine/bpps/id_9f34a9c88.npy'), WindowsPath('C:/Users/animeshs/GD/stanford-covid-vaccine/bpps/id_9f3c72477.npy'), WindowsPath('C:/Users/animeshs/GD/stanford-covid-vaccine/bpps/id_9f3cc9f9b.npy'), WindowsPath('C:/Users/animeshs/GD/stanford-covid-vaccine/bpps/id_9f424bc74.npy'), WindowsPath('C:/Users/animeshs/GD/stanford-covid-vaccine/bpps/id_9f46d6607.npy'), WindowsPath('C:/Users/animeshs/GD/stanford-covid-vaccine/bpps/id_9f481c348.npy'), WindowsPath('C:/Users/animeshs/GD/stanford-covid-vaccine/bpps/id_9f576db1c.npy'), WindowsPath('C:/Users/animeshs/GD/stanford-covid-vaccine/bpps/id_9f5c5cefd.npy'), WindowsPath('C:/Users/animeshs/GD/stanford-covid-vaccine/bpps/id_9f5e30605.npy'), WindowsPath('C:/Users/animeshs/GD/stanford-covid-vaccine/bpps/id_9f784a71a.npy'), WindowsPath('C:/Users/animeshs/GD/stanford-covid-vaccine/bpps/id_9f7868ccc.npy'), WindowsPath('C:/Users/animeshs/GD/stanford-covid-vaccine/bpps/id_9f79850f4.npy'), WindowsPath('C:/Users/animeshs/GD/stanford-covid-vaccine/bpps/id_9f88c99dc.npy'), WindowsPath('C:/Users/animeshs/GD/stanford-covid-vaccine/bpps/id_9fab5010f.npy'), WindowsPath('C:/Users/animeshs/GD/stanford-covid-vaccine/bpps/id_9fccfae96.npy'), WindowsPath('C:/Users/animeshs/GD/stanford-covid-vaccine/bpps/id_9fcf4adbc.npy'), WindowsPath('C:/Users/animeshs/GD/stanford-covid-vaccine/bpps/id_9fcf9f79e.npy'), WindowsPath('C:/Users/animeshs/GD/stanford-covid-vaccine/bpps/id_9ff04a87b.npy'), WindowsPath('C:/Users/animeshs/GD/stanford-covid-vaccine/bpps/id_a00227336.npy'), WindowsPath('C:/Users/animeshs/GD/stanford-covid-vaccine/bpps/id_a03b10d8f.npy'), WindowsPath('C:/Users/animeshs/GD/stanford-covid-vaccine/bpps/id_a04bd9238.npy'), WindowsPath('C:/Users/animeshs/GD/stanford-covid-vaccine/bpps/id_a053bcdca.npy'), WindowsPath('C:/Users/animeshs/GD/stanford-covid-vaccine/bpps/id_a060a0cb6.npy'), WindowsPath('C:/Users/animeshs/GD/stanford-covid-vaccine/bpps/id_a06a14f36.npy'), WindowsPath('C:/Users/animeshs/GD/stanford-covid-vaccine/bpps/id_a0760b67a.npy'), WindowsPath('C:/Users/animeshs/GD/stanford-covid-vaccine/bpps/id_a077d87ab.npy'), WindowsPath('C:/Users/animeshs/GD/stanford-covid-vaccine/bpps/id_a07c85711.npy'), WindowsPath('C:/Users/animeshs/GD/stanford-covid-vaccine/bpps/id_a080c6fca.npy'), WindowsPath('C:/Users/animeshs/GD/stanford-covid-vaccine/bpps/id_a08786da1.npy'), WindowsPath('C:/Users/animeshs/GD/stanford-covid-vaccine/bpps/id_a090fb524.npy'), WindowsPath('C:/Users/animeshs/GD/stanford-covid-vaccine/bpps/id_a092bf447.npy'), WindowsPath('C:/Users/animeshs/GD/stanford-covid-vaccine/bpps/id_a0b18040d.npy'), WindowsPath('C:/Users/animeshs/GD/stanford-covid-vaccine/bpps/id_a0b960a84.npy'), WindowsPath('C:/Users/animeshs/GD/stanford-covid-vaccine/bpps/id_a0df4c5ed.npy'), WindowsPath('C:/Users/animeshs/GD/stanford-covid-vaccine/bpps/id_a0f308553.npy'), WindowsPath('C:/Users/animeshs/GD/stanford-covid-vaccine/bpps/id_a0f7ab926.npy'), WindowsPath('C:/Users/animeshs/GD/stanford-covid-vaccine/bpps/id_a0fc45be8.npy'), WindowsPath('C:/Users/animeshs/GD/stanford-covid-vaccine/bpps/id_a10ff8ef4.npy'), WindowsPath('C:/Users/animeshs/GD/stanford-covid-vaccine/bpps/id_a11eefec8.npy'), WindowsPath('C:/Users/animeshs/GD/stanford-covid-vaccine/bpps/id_a126f866c.npy'), WindowsPath('C:/Users/animeshs/GD/stanford-covid-vaccine/bpps/id_a128c1d9b.npy'), WindowsPath('C:/Users/animeshs/GD/stanford-covid-vaccine/bpps/id_a13074759.npy'), WindowsPath('C:/Users/animeshs/GD/stanford-covid-vaccine/bpps/id_a14fc39b9.npy'), WindowsPath('C:/Users/animeshs/GD/stanford-covid-vaccine/bpps/id_a1719ebbc.npy'), WindowsPath('C:/Users/animeshs/GD/stanford-covid-vaccine/bpps/id_a17f5baa2.npy'), WindowsPath('C:/Users/animeshs/GD/stanford-covid-vaccine/bpps/id_a181978cc.npy'), WindowsPath('C:/Users/animeshs/GD/stanford-covid-vaccine/bpps/id_a18978d25.npy'), WindowsPath('C:/Users/animeshs/GD/stanford-covid-vaccine/bpps/id_a1bb30df9.npy'), WindowsPath('C:/Users/animeshs/GD/stanford-covid-vaccine/bpps/id_a1c851517.npy'), WindowsPath('C:/Users/animeshs/GD/stanford-covid-vaccine/bpps/id_a1ca103af.npy'), WindowsPath('C:/Users/animeshs/GD/stanford-covid-vaccine/bpps/id_a1d923203.npy'), WindowsPath('C:/Users/animeshs/GD/stanford-covid-vaccine/bpps/id_a1da5df0c.npy'), WindowsPath('C:/Users/animeshs/GD/stanford-covid-vaccine/bpps/id_a1db7b815.npy'), WindowsPath('C:/Users/animeshs/GD/stanford-covid-vaccine/bpps/id_a1eb8a355.npy'), WindowsPath('C:/Users/animeshs/GD/stanford-covid-vaccine/bpps/id_a1f63c61d.npy'), WindowsPath('C:/Users/animeshs/GD/stanford-covid-vaccine/bpps/id_a20847c6a.npy'), WindowsPath('C:/Users/animeshs/GD/stanford-covid-vaccine/bpps/id_a209de576.npy'), WindowsPath('C:/Users/animeshs/GD/stanford-covid-vaccine/bpps/id_a20f3155a.npy'), WindowsPath('C:/Users/animeshs/GD/stanford-covid-vaccine/bpps/id_a2125790f.npy'), WindowsPath('C:/Users/animeshs/GD/stanford-covid-vaccine/bpps/id_a239464ab.npy'), WindowsPath('C:/Users/animeshs/GD/stanford-covid-vaccine/bpps/id_a2454a8ba.npy'), WindowsPath('C:/Users/animeshs/GD/stanford-covid-vaccine/bpps/id_a2458b2e6.npy'), WindowsPath('C:/Users/animeshs/GD/stanford-covid-vaccine/bpps/id_a26e948c2.npy'), WindowsPath('C:/Users/animeshs/GD/stanford-covid-vaccine/bpps/id_a2754b18f.npy'), WindowsPath('C:/Users/animeshs/GD/stanford-covid-vaccine/bpps/id_a27ae0ead.npy'), WindowsPath('C:/Users/animeshs/GD/stanford-covid-vaccine/bpps/id_a280e2524.npy'), WindowsPath('C:/Users/animeshs/GD/stanford-covid-vaccine/bpps/id_a2837c7e2.npy'), WindowsPath('C:/Users/animeshs/GD/stanford-covid-vaccine/bpps/id_a2c2594f0.npy'), WindowsPath('C:/Users/animeshs/GD/stanford-covid-vaccine/bpps/id_a2d92f112.npy'), WindowsPath('C:/Users/animeshs/GD/stanford-covid-vaccine/bpps/id_a2e543175.npy'), WindowsPath('C:/Users/animeshs/GD/stanford-covid-vaccine/bpps/id_a2e63e8e1.npy'), WindowsPath('C:/Users/animeshs/GD/stanford-covid-vaccine/bpps/id_a2ea5243a.npy'), WindowsPath('C:/Users/animeshs/GD/stanford-covid-vaccine/bpps/id_a2ecd39f6.npy'), WindowsPath('C:/Users/animeshs/GD/stanford-covid-vaccine/bpps/id_a2f44ca5c.npy'), WindowsPath('C:/Users/animeshs/GD/stanford-covid-vaccine/bpps/id_a30acff94.npy'), WindowsPath('C:/Users/animeshs/GD/stanford-covid-vaccine/bpps/id_a31b174d3.npy'), WindowsPath('C:/Users/animeshs/GD/stanford-covid-vaccine/bpps/id_a322929ca.npy'), WindowsPath('C:/Users/animeshs/GD/stanford-covid-vaccine/bpps/id_a32476c43.npy'), WindowsPath('C:/Users/animeshs/GD/stanford-covid-vaccine/bpps/id_a32ac7d1a.npy'), WindowsPath('C:/Users/animeshs/GD/stanford-covid-vaccine/bpps/id_a3371d7e0.npy'), WindowsPath('C:/Users/animeshs/GD/stanford-covid-vaccine/bpps/id_a347e0832.npy'), WindowsPath('C:/Users/animeshs/GD/stanford-covid-vaccine/bpps/id_a358de5b9.npy'), WindowsPath('C:/Users/animeshs/GD/stanford-covid-vaccine/bpps/id_a35cc6480.npy'), WindowsPath('C:/Users/animeshs/GD/stanford-covid-vaccine/bpps/id_a360d954d.npy'), WindowsPath('C:/Users/animeshs/GD/stanford-covid-vaccine/bpps/id_a370fc0cf.npy'), WindowsPath('C:/Users/animeshs/GD/stanford-covid-vaccine/bpps/id_a37346baa.npy'), WindowsPath('C:/Users/animeshs/GD/stanford-covid-vaccine/bpps/id_a37683c93.npy'), WindowsPath('C:/Users/animeshs/GD/stanford-covid-vaccine/bpps/id_a37cb1107.npy'), WindowsPath('C:/Users/animeshs/GD/stanford-covid-vaccine/bpps/id_a38245729.npy'), WindowsPath('C:/Users/animeshs/GD/stanford-covid-vaccine/bpps/id_a38868e0e.npy'), WindowsPath('C:/Users/animeshs/GD/stanford-covid-vaccine/bpps/id_a39590485.npy'), WindowsPath('C:/Users/animeshs/GD/stanford-covid-vaccine/bpps/id_a3959a8e3.npy'), WindowsPath('C:/Users/animeshs/GD/stanford-covid-vaccine/bpps/id_a3aab0640.npy'), WindowsPath('C:/Users/animeshs/GD/stanford-covid-vaccine/bpps/id_a3c6438bf.npy'), WindowsPath('C:/Users/animeshs/GD/stanford-covid-vaccine/bpps/id_a3e1ea9d4.npy'), WindowsPath('C:/Users/animeshs/GD/stanford-covid-vaccine/bpps/id_a4041adad.npy'), WindowsPath('C:/Users/animeshs/GD/stanford-covid-vaccine/bpps/id_a410242e1.npy'), WindowsPath('C:/Users/animeshs/GD/stanford-covid-vaccine/bpps/id_a413d9f10.npy'), WindowsPath('C:/Users/animeshs/GD/stanford-covid-vaccine/bpps/id_a4284f7e5.npy'), WindowsPath('C:/Users/animeshs/GD/stanford-covid-vaccine/bpps/id_a42becddd.npy'), WindowsPath('C:/Users/animeshs/GD/stanford-covid-vaccine/bpps/id_a431668b0.npy'), WindowsPath('C:/Users/animeshs/GD/stanford-covid-vaccine/bpps/id_a44439d95.npy'), WindowsPath('C:/Users/animeshs/GD/stanford-covid-vaccine/bpps/id_a45b1e3ca.npy'), WindowsPath('C:/Users/animeshs/GD/stanford-covid-vaccine/bpps/id_a46151683.npy'), WindowsPath('C:/Users/animeshs/GD/stanford-covid-vaccine/bpps/id_a4817967b.npy'), WindowsPath('C:/Users/animeshs/GD/stanford-covid-vaccine/bpps/id_a49331a79.npy'), WindowsPath('C:/Users/animeshs/GD/stanford-covid-vaccine/bpps/id_a494521bf.npy'), WindowsPath('C:/Users/animeshs/GD/stanford-covid-vaccine/bpps/id_a49740b76.npy'), WindowsPath('C:/Users/animeshs/GD/stanford-covid-vaccine/bpps/id_a4a43fe89.npy'), WindowsPath('C:/Users/animeshs/GD/stanford-covid-vaccine/bpps/id_a4b55ae97.npy'), WindowsPath('C:/Users/animeshs/GD/stanford-covid-vaccine/bpps/id_a4cf52c83.npy'), WindowsPath('C:/Users/animeshs/GD/stanford-covid-vaccine/bpps/id_a4d18227a.npy'), WindowsPath('C:/Users/animeshs/GD/stanford-covid-vaccine/bpps/id_a4d585a5d.npy'), WindowsPath('C:/Users/animeshs/GD/stanford-covid-vaccine/bpps/id_a4e613e0b.npy'), WindowsPath('C:/Users/animeshs/GD/stanford-covid-vaccine/bpps/id_a4f4ebd2b.npy'), WindowsPath('C:/Users/animeshs/GD/stanford-covid-vaccine/bpps/id_a4f8db62a.npy'), WindowsPath('C:/Users/animeshs/GD/stanford-covid-vaccine/bpps/id_a4f939bd6.npy'), WindowsPath('C:/Users/animeshs/GD/stanford-covid-vaccine/bpps/id_a4f9fdcd5.npy'), WindowsPath('C:/Users/animeshs/GD/stanford-covid-vaccine/bpps/id_a501643fa.npy'), WindowsPath('C:/Users/animeshs/GD/stanford-covid-vaccine/bpps/id_a50df1753.npy'), WindowsPath('C:/Users/animeshs/GD/stanford-covid-vaccine/bpps/id_a50fbc0bf.npy'), WindowsPath('C:/Users/animeshs/GD/stanford-covid-vaccine/bpps/id_a5310854d.npy'), WindowsPath('C:/Users/animeshs/GD/stanford-covid-vaccine/bpps/id_a5317e46e.npy'), WindowsPath('C:/Users/animeshs/GD/stanford-covid-vaccine/bpps/id_a5377aa10.npy'), WindowsPath('C:/Users/animeshs/GD/stanford-covid-vaccine/bpps/id_a549cd85d.npy'), WindowsPath('C:/Users/animeshs/GD/stanford-covid-vaccine/bpps/id_a5541b21b.npy'), WindowsPath('C:/Users/animeshs/GD/stanford-covid-vaccine/bpps/id_a55f91c29.npy'), WindowsPath('C:/Users/animeshs/GD/stanford-covid-vaccine/bpps/id_a560a1b87.npy'), WindowsPath('C:/Users/animeshs/GD/stanford-covid-vaccine/bpps/id_a561651f0.npy'), WindowsPath('C:/Users/animeshs/GD/stanford-covid-vaccine/bpps/id_a570bad09.npy'), WindowsPath('C:/Users/animeshs/GD/stanford-covid-vaccine/bpps/id_a57fd5c45.npy'), WindowsPath('C:/Users/animeshs/GD/stanford-covid-vaccine/bpps/id_a5821c519.npy'), WindowsPath('C:/Users/animeshs/GD/stanford-covid-vaccine/bpps/id_a58811b90.npy'), WindowsPath('C:/Users/animeshs/GD/stanford-covid-vaccine/bpps/id_a59ec12db.npy'), WindowsPath('C:/Users/animeshs/GD/stanford-covid-vaccine/bpps/id_a5a1abf32.npy'), WindowsPath('C:/Users/animeshs/GD/stanford-covid-vaccine/bpps/id_a5a6b2f6c.npy'), WindowsPath('C:/Users/animeshs/GD/stanford-covid-vaccine/bpps/id_a5b113d5a.npy'), WindowsPath('C:/Users/animeshs/GD/stanford-covid-vaccine/bpps/id_a5b51864b.npy'), WindowsPath('C:/Users/animeshs/GD/stanford-covid-vaccine/bpps/id_a5c75b0fb.npy'), WindowsPath('C:/Users/animeshs/GD/stanford-covid-vaccine/bpps/id_a5c87a31f.npy'), WindowsPath('C:/Users/animeshs/GD/stanford-covid-vaccine/bpps/id_a5d32bd8d.npy'), WindowsPath('C:/Users/animeshs/GD/stanford-covid-vaccine/bpps/id_a5e5fb03f.npy'), WindowsPath('C:/Users/animeshs/GD/stanford-covid-vaccine/bpps/id_a5f1340aa.npy'), WindowsPath('C:/Users/animeshs/GD/stanford-covid-vaccine/bpps/id_a5fb9adb0.npy'), WindowsPath('C:/Users/animeshs/GD/stanford-covid-vaccine/bpps/id_a5fce8330.npy'), WindowsPath('C:/Users/animeshs/GD/stanford-covid-vaccine/bpps/id_a6089f874.npy'), WindowsPath('C:/Users/animeshs/GD/stanford-covid-vaccine/bpps/id_a61978ebd.npy'), WindowsPath('C:/Users/animeshs/GD/stanford-covid-vaccine/bpps/id_a625f5977.npy'), WindowsPath('C:/Users/animeshs/GD/stanford-covid-vaccine/bpps/id_a63224bb6.npy'), WindowsPath('C:/Users/animeshs/GD/stanford-covid-vaccine/bpps/id_a63958c74.npy'), WindowsPath('C:/Users/animeshs/GD/stanford-covid-vaccine/bpps/id_a649f5f5d.npy'), WindowsPath('C:/Users/animeshs/GD/stanford-covid-vaccine/bpps/id_a64e11b3b.npy'), WindowsPath('C:/Users/animeshs/GD/stanford-covid-vaccine/bpps/id_a6525533c.npy'), WindowsPath('C:/Users/animeshs/GD/stanford-covid-vaccine/bpps/id_a6695768a.npy'), WindowsPath('C:/Users/animeshs/GD/stanford-covid-vaccine/bpps/id_a66a267c5.npy'), WindowsPath('C:/Users/animeshs/GD/stanford-covid-vaccine/bpps/id_a66c78a80.npy'), WindowsPath('C:/Users/animeshs/GD/stanford-covid-vaccine/bpps/id_a68c77dde.npy'), WindowsPath('C:/Users/animeshs/GD/stanford-covid-vaccine/bpps/id_a6941b363.npy'), WindowsPath('C:/Users/animeshs/GD/stanford-covid-vaccine/bpps/id_a6b5db252.npy'), WindowsPath('C:/Users/animeshs/GD/stanford-covid-vaccine/bpps/id_a6b7b7397.npy'), WindowsPath('C:/Users/animeshs/GD/stanford-covid-vaccine/bpps/id_a6b9c4937.npy'), WindowsPath('C:/Users/animeshs/GD/stanford-covid-vaccine/bpps/id_a6d2e2fe0.npy'), WindowsPath('C:/Users/animeshs/GD/stanford-covid-vaccine/bpps/id_a6da3bc3a.npy'), WindowsPath('C:/Users/animeshs/GD/stanford-covid-vaccine/bpps/id_a6dac4db5.npy'), WindowsPath('C:/Users/animeshs/GD/stanford-covid-vaccine/bpps/id_a6ff7e4d7.npy'), WindowsPath('C:/Users/animeshs/GD/stanford-covid-vaccine/bpps/id_a71b09e2c.npy'), WindowsPath('C:/Users/animeshs/GD/stanford-covid-vaccine/bpps/id_a71b40f94.npy'), WindowsPath('C:/Users/animeshs/GD/stanford-covid-vaccine/bpps/id_a71ee9a04.npy'), WindowsPath('C:/Users/animeshs/GD/stanford-covid-vaccine/bpps/id_a721516f6.npy'), WindowsPath('C:/Users/animeshs/GD/stanford-covid-vaccine/bpps/id_a72af0c36.npy'), WindowsPath('C:/Users/animeshs/GD/stanford-covid-vaccine/bpps/id_a72e5245d.npy'), WindowsPath('C:/Users/animeshs/GD/stanford-covid-vaccine/bpps/id_a73abf2bc.npy'), WindowsPath('C:/Users/animeshs/GD/stanford-covid-vaccine/bpps/id_a73d8a8fe.npy'), WindowsPath('C:/Users/animeshs/GD/stanford-covid-vaccine/bpps/id_a746b0473.npy'), WindowsPath('C:/Users/animeshs/GD/stanford-covid-vaccine/bpps/id_a74b7ee7d.npy'), WindowsPath('C:/Users/animeshs/GD/stanford-covid-vaccine/bpps/id_a74e98a7c.npy'), WindowsPath('C:/Users/animeshs/GD/stanford-covid-vaccine/bpps/id_a756630ad.npy'), WindowsPath('C:/Users/animeshs/GD/stanford-covid-vaccine/bpps/id_a75ea0d62.npy'), WindowsPath('C:/Users/animeshs/GD/stanford-covid-vaccine/bpps/id_a766f88e4.npy'), WindowsPath('C:/Users/animeshs/GD/stanford-covid-vaccine/bpps/id_a77084a23.npy'), WindowsPath('C:/Users/animeshs/GD/stanford-covid-vaccine/bpps/id_a77ab462e.npy'), WindowsPath('C:/Users/animeshs/GD/stanford-covid-vaccine/bpps/id_a78740cf7.npy'), WindowsPath('C:/Users/animeshs/GD/stanford-covid-vaccine/bpps/id_a79195d20.npy'), WindowsPath('C:/Users/animeshs/GD/stanford-covid-vaccine/bpps/id_a7991e926.npy'), WindowsPath('C:/Users/animeshs/GD/stanford-covid-vaccine/bpps/id_a7a88c3f8.npy'), WindowsPath('C:/Users/animeshs/GD/stanford-covid-vaccine/bpps/id_a7c4abbd4.npy'), WindowsPath('C:/Users/animeshs/GD/stanford-covid-vaccine/bpps/id_a7e46caa3.npy'), WindowsPath('C:/Users/animeshs/GD/stanford-covid-vaccine/bpps/id_a7e61b2bf.npy'), WindowsPath('C:/Users/animeshs/GD/stanford-covid-vaccine/bpps/id_a801e21d9.npy'), WindowsPath('C:/Users/animeshs/GD/stanford-covid-vaccine/bpps/id_a81331db3.npy'), WindowsPath('C:/Users/animeshs/GD/stanford-covid-vaccine/bpps/id_a82338fe2.npy'), WindowsPath('C:/Users/animeshs/GD/stanford-covid-vaccine/bpps/id_a8248032e.npy'), WindowsPath('C:/Users/animeshs/GD/stanford-covid-vaccine/bpps/id_a82ffa4df.npy'), WindowsPath('C:/Users/animeshs/GD/stanford-covid-vaccine/bpps/id_a833c2ed7.npy'), WindowsPath('C:/Users/animeshs/GD/stanford-covid-vaccine/bpps/id_a83b12000.npy'), WindowsPath('C:/Users/animeshs/GD/stanford-covid-vaccine/bpps/id_a84d1b536.npy'), WindowsPath('C:/Users/animeshs/GD/stanford-covid-vaccine/bpps/id_a84f230ea.npy'), WindowsPath('C:/Users/animeshs/GD/stanford-covid-vaccine/bpps/id_a85252dc4.npy'), WindowsPath('C:/Users/animeshs/GD/stanford-covid-vaccine/bpps/id_a8553456d.npy'), WindowsPath('C:/Users/animeshs/GD/stanford-covid-vaccine/bpps/id_a875d91d3.npy'), WindowsPath('C:/Users/animeshs/GD/stanford-covid-vaccine/bpps/id_a89303f48.npy'), WindowsPath('C:/Users/animeshs/GD/stanford-covid-vaccine/bpps/id_a8994b257.npy'), WindowsPath('C:/Users/animeshs/GD/stanford-covid-vaccine/bpps/id_a8a770a4a.npy'), WindowsPath('C:/Users/animeshs/GD/stanford-covid-vaccine/bpps/id_a8b6431da.npy'), WindowsPath('C:/Users/animeshs/GD/stanford-covid-vaccine/bpps/id_a8b6db616.npy'), WindowsPath('C:/Users/animeshs/GD/stanford-covid-vaccine/bpps/id_a8b98b40f.npy'), WindowsPath('C:/Users/animeshs/GD/stanford-covid-vaccine/bpps/id_a8df399d9.npy'), WindowsPath('C:/Users/animeshs/GD/stanford-covid-vaccine/bpps/id_a8e311e9a.npy'), WindowsPath('C:/Users/animeshs/GD/stanford-covid-vaccine/bpps/id_a8f0780c8.npy'), WindowsPath('C:/Users/animeshs/GD/stanford-covid-vaccine/bpps/id_a8fdfd5c2.npy'), WindowsPath('C:/Users/animeshs/GD/stanford-covid-vaccine/bpps/id_a9024a35d.npy'), WindowsPath('C:/Users/animeshs/GD/stanford-covid-vaccine/bpps/id_a905054b2.npy'), WindowsPath('C:/Users/animeshs/GD/stanford-covid-vaccine/bpps/id_a9056cfc4.npy'), WindowsPath('C:/Users/animeshs/GD/stanford-covid-vaccine/bpps/id_a910d4dd7.npy'), WindowsPath('C:/Users/animeshs/GD/stanford-covid-vaccine/bpps/id_a928eb5ff.npy'), WindowsPath('C:/Users/animeshs/GD/stanford-covid-vaccine/bpps/id_a934323f9.npy'), WindowsPath('C:/Users/animeshs/GD/stanford-covid-vaccine/bpps/id_a93c9dc87.npy'), WindowsPath('C:/Users/animeshs/GD/stanford-covid-vaccine/bpps/id_a93d2afd1.npy'), WindowsPath('C:/Users/animeshs/GD/stanford-covid-vaccine/bpps/id_a93dc1fa1.npy'), WindowsPath('C:/Users/animeshs/GD/stanford-covid-vaccine/bpps/id_a93efe979.npy'), WindowsPath('C:/Users/animeshs/GD/stanford-covid-vaccine/bpps/id_a93fe47df.npy'), WindowsPath('C:/Users/animeshs/GD/stanford-covid-vaccine/bpps/id_a94a6ec8d.npy'), WindowsPath('C:/Users/animeshs/GD/stanford-covid-vaccine/bpps/id_a95be6376.npy'), WindowsPath('C:/Users/animeshs/GD/stanford-covid-vaccine/bpps/id_a96fcb4e6.npy'), WindowsPath('C:/Users/animeshs/GD/stanford-covid-vaccine/bpps/id_a9790c32e.npy'), WindowsPath('C:/Users/animeshs/GD/stanford-covid-vaccine/bpps/id_a97e202d8.npy'), WindowsPath('C:/Users/animeshs/GD/stanford-covid-vaccine/bpps/id_a98e2f401.npy'), WindowsPath('C:/Users/animeshs/GD/stanford-covid-vaccine/bpps/id_a9923d924.npy'), WindowsPath('C:/Users/animeshs/GD/stanford-covid-vaccine/bpps/id_a99321740.npy'), WindowsPath('C:/Users/animeshs/GD/stanford-covid-vaccine/bpps/id_a997c2a5b.npy'), WindowsPath('C:/Users/animeshs/GD/stanford-covid-vaccine/bpps/id_a997e6596.npy'), WindowsPath('C:/Users/animeshs/GD/stanford-covid-vaccine/bpps/id_a99edd8eb.npy'), WindowsPath('C:/Users/animeshs/GD/stanford-covid-vaccine/bpps/id_a9aadd956.npy'), WindowsPath('C:/Users/animeshs/GD/stanford-covid-vaccine/bpps/id_a9bce94b4.npy'), WindowsPath('C:/Users/animeshs/GD/stanford-covid-vaccine/bpps/id_a9c646544.npy'), WindowsPath('C:/Users/animeshs/GD/stanford-covid-vaccine/bpps/id_a9c9c1480.npy'), WindowsPath('C:/Users/animeshs/GD/stanford-covid-vaccine/bpps/id_a9fc5b495.npy'), WindowsPath('C:/Users/animeshs/GD/stanford-covid-vaccine/bpps/id_a9ff4af64.npy'), WindowsPath('C:/Users/animeshs/GD/stanford-covid-vaccine/bpps/id_aa048ae0f.npy'), WindowsPath('C:/Users/animeshs/GD/stanford-covid-vaccine/bpps/id_aa35f9a8d.npy'), WindowsPath('C:/Users/animeshs/GD/stanford-covid-vaccine/bpps/id_aa3feb971.npy'), WindowsPath('C:/Users/animeshs/GD/stanford-covid-vaccine/bpps/id_aa49b0bec.npy'), WindowsPath('C:/Users/animeshs/GD/stanford-covid-vaccine/bpps/id_aa5255de2.npy'), WindowsPath('C:/Users/animeshs/GD/stanford-covid-vaccine/bpps/id_aa55cd204.npy'), WindowsPath('C:/Users/animeshs/GD/stanford-covid-vaccine/bpps/id_aa5eabb88.npy'), WindowsPath('C:/Users/animeshs/GD/stanford-covid-vaccine/bpps/id_aa65538c3.npy'), WindowsPath('C:/Users/animeshs/GD/stanford-covid-vaccine/bpps/id_aa78e9a49.npy'), WindowsPath('C:/Users/animeshs/GD/stanford-covid-vaccine/bpps/id_aa7c23ad3.npy'), WindowsPath('C:/Users/animeshs/GD/stanford-covid-vaccine/bpps/id_aa86a1e60.npy'), WindowsPath('C:/Users/animeshs/GD/stanford-covid-vaccine/bpps/id_aa8785f4f.npy'), WindowsPath('C:/Users/animeshs/GD/stanford-covid-vaccine/bpps/id_aa91b1ae6.npy'), WindowsPath('C:/Users/animeshs/GD/stanford-covid-vaccine/bpps/id_aa9eb6dbc.npy'), WindowsPath('C:/Users/animeshs/GD/stanford-covid-vaccine/bpps/id_aabcffab9.npy'), WindowsPath('C:/Users/animeshs/GD/stanford-covid-vaccine/bpps/id_aabf97296.npy'), WindowsPath('C:/Users/animeshs/GD/stanford-covid-vaccine/bpps/id_aac74087c.npy'), WindowsPath('C:/Users/animeshs/GD/stanford-covid-vaccine/bpps/id_aad8a2879.npy'), WindowsPath('C:/Users/animeshs/GD/stanford-covid-vaccine/bpps/id_aae05d2e3.npy'), WindowsPath('C:/Users/animeshs/GD/stanford-covid-vaccine/bpps/id_aae602f5b.npy'), WindowsPath('C:/Users/animeshs/GD/stanford-covid-vaccine/bpps/id_aaec68108.npy'), WindowsPath('C:/Users/animeshs/GD/stanford-covid-vaccine/bpps/id_aaefd0972.npy'), WindowsPath('C:/Users/animeshs/GD/stanford-covid-vaccine/bpps/id_aaf3d2d7c.npy'), WindowsPath('C:/Users/animeshs/GD/stanford-covid-vaccine/bpps/id_aaf57623f.npy'), WindowsPath('C:/Users/animeshs/GD/stanford-covid-vaccine/bpps/id_ab0b8c5b6.npy'), WindowsPath('C:/Users/animeshs/GD/stanford-covid-vaccine/bpps/id_ab104e8fb.npy'), WindowsPath('C:/Users/animeshs/GD/stanford-covid-vaccine/bpps/id_ab180c305.npy'), WindowsPath('C:/Users/animeshs/GD/stanford-covid-vaccine/bpps/id_ab21475e0.npy'), WindowsPath('C:/Users/animeshs/GD/stanford-covid-vaccine/bpps/id_ab337d4f5.npy'), WindowsPath('C:/Users/animeshs/GD/stanford-covid-vaccine/bpps/id_ab441d871.npy'), WindowsPath('C:/Users/animeshs/GD/stanford-covid-vaccine/bpps/id_ab476935c.npy'), WindowsPath('C:/Users/animeshs/GD/stanford-covid-vaccine/bpps/id_ab55519e9.npy'), WindowsPath('C:/Users/animeshs/GD/stanford-covid-vaccine/bpps/id_ab63505cd.npy'), WindowsPath('C:/Users/animeshs/GD/stanford-covid-vaccine/bpps/id_ab69423e6.npy'), WindowsPath('C:/Users/animeshs/GD/stanford-covid-vaccine/bpps/id_ab723f32f.npy'), WindowsPath('C:/Users/animeshs/GD/stanford-covid-vaccine/bpps/id_ab88bc518.npy'), WindowsPath('C:/Users/animeshs/GD/stanford-covid-vaccine/bpps/id_ab959900c.npy'), WindowsPath('C:/Users/animeshs/GD/stanford-covid-vaccine/bpps/id_ab9985dbb.npy'), WindowsPath('C:/Users/animeshs/GD/stanford-covid-vaccine/bpps/id_aba2ab57d.npy'), WindowsPath('C:/Users/animeshs/GD/stanford-covid-vaccine/bpps/id_aba8b8306.npy'), WindowsPath('C:/Users/animeshs/GD/stanford-covid-vaccine/bpps/id_abaaa3c63.npy'), WindowsPath('C:/Users/animeshs/GD/stanford-covid-vaccine/bpps/id_abb075717.npy'), WindowsPath('C:/Users/animeshs/GD/stanford-covid-vaccine/bpps/id_abb364b15.npy'), WindowsPath('C:/Users/animeshs/GD/stanford-covid-vaccine/bpps/id_abb47d689.npy'), WindowsPath('C:/Users/animeshs/GD/stanford-covid-vaccine/bpps/id_abd11e5b8.npy'), WindowsPath('C:/Users/animeshs/GD/stanford-covid-vaccine/bpps/id_abdd83ae4.npy'), WindowsPath('C:/Users/animeshs/GD/stanford-covid-vaccine/bpps/id_abfc32ce0.npy'), WindowsPath('C:/Users/animeshs/GD/stanford-covid-vaccine/bpps/id_abfd2bafb.npy'), WindowsPath('C:/Users/animeshs/GD/stanford-covid-vaccine/bpps/id_abfe92811.npy'), WindowsPath('C:/Users/animeshs/GD/stanford-covid-vaccine/bpps/id_ac15ece78.npy'), WindowsPath('C:/Users/animeshs/GD/stanford-covid-vaccine/bpps/id_ac197c677.npy'), WindowsPath('C:/Users/animeshs/GD/stanford-covid-vaccine/bpps/id_ac229a7ae.npy'), WindowsPath('C:/Users/animeshs/GD/stanford-covid-vaccine/bpps/id_ac24fde81.npy'), WindowsPath('C:/Users/animeshs/GD/stanford-covid-vaccine/bpps/id_ac30702cb.npy'), WindowsPath('C:/Users/animeshs/GD/stanford-covid-vaccine/bpps/id_ac35d91af.npy'), WindowsPath('C:/Users/animeshs/GD/stanford-covid-vaccine/bpps/id_ac4a7f571.npy'), WindowsPath('C:/Users/animeshs/GD/stanford-covid-vaccine/bpps/id_ac5af8b82.npy'), WindowsPath('C:/Users/animeshs/GD/stanford-covid-vaccine/bpps/id_ac5cc6c14.npy'), WindowsPath('C:/Users/animeshs/GD/stanford-covid-vaccine/bpps/id_ac63308bb.npy'), WindowsPath('C:/Users/animeshs/GD/stanford-covid-vaccine/bpps/id_ac6659227.npy'), WindowsPath('C:/Users/animeshs/GD/stanford-covid-vaccine/bpps/id_ac6a66ba5.npy'), WindowsPath('C:/Users/animeshs/GD/stanford-covid-vaccine/bpps/id_ac71743f8.npy'), WindowsPath('C:/Users/animeshs/GD/stanford-covid-vaccine/bpps/id_ac7250d36.npy'), WindowsPath('C:/Users/animeshs/GD/stanford-covid-vaccine/bpps/id_ac7ae8198.npy'), WindowsPath('C:/Users/animeshs/GD/stanford-covid-vaccine/bpps/id_ac9913b8a.npy'), WindowsPath('C:/Users/animeshs/GD/stanford-covid-vaccine/bpps/id_ac9cd1bb9.npy'), WindowsPath('C:/Users/animeshs/GD/stanford-covid-vaccine/bpps/id_acb034877.npy'), WindowsPath('C:/Users/animeshs/GD/stanford-covid-vaccine/bpps/id_acca47ed0.npy'), WindowsPath('C:/Users/animeshs/GD/stanford-covid-vaccine/bpps/id_accb73c60.npy'), WindowsPath('C:/Users/animeshs/GD/stanford-covid-vaccine/bpps/id_acd45c140.npy'), WindowsPath('C:/Users/animeshs/GD/stanford-covid-vaccine/bpps/id_acda77781.npy'), WindowsPath('C:/Users/animeshs/GD/stanford-covid-vaccine/bpps/id_ace336fa1.npy'), WindowsPath('C:/Users/animeshs/GD/stanford-covid-vaccine/bpps/id_ace650b2a.npy'), WindowsPath('C:/Users/animeshs/GD/stanford-covid-vaccine/bpps/id_ad15501f0.npy'), WindowsPath('C:/Users/animeshs/GD/stanford-covid-vaccine/bpps/id_ad1a9e0f6.npy'), WindowsPath('C:/Users/animeshs/GD/stanford-covid-vaccine/bpps/id_ad21e3ab7.npy'), WindowsPath('C:/Users/animeshs/GD/stanford-covid-vaccine/bpps/id_ad248190a.npy'), WindowsPath('C:/Users/animeshs/GD/stanford-covid-vaccine/bpps/id_ad438e1ab.npy'), WindowsPath('C:/Users/animeshs/GD/stanford-covid-vaccine/bpps/id_ad458897e.npy'), WindowsPath('C:/Users/animeshs/GD/stanford-covid-vaccine/bpps/id_ad48fbe48.npy'), WindowsPath('C:/Users/animeshs/GD/stanford-covid-vaccine/bpps/id_ad59dcacb.npy'), WindowsPath('C:/Users/animeshs/GD/stanford-covid-vaccine/bpps/id_ad6db1cf5.npy'), WindowsPath('C:/Users/animeshs/GD/stanford-covid-vaccine/bpps/id_ad70a6907.npy'), WindowsPath('C:/Users/animeshs/GD/stanford-covid-vaccine/bpps/id_ad87d651c.npy'), WindowsPath('C:/Users/animeshs/GD/stanford-covid-vaccine/bpps/id_ad8b55062.npy'), WindowsPath('C:/Users/animeshs/GD/stanford-covid-vaccine/bpps/id_ad8cceca9.npy'), WindowsPath('C:/Users/animeshs/GD/stanford-covid-vaccine/bpps/id_adad513fa.npy'), WindowsPath('C:/Users/animeshs/GD/stanford-covid-vaccine/bpps/id_adb7f239e.npy'), WindowsPath('C:/Users/animeshs/GD/stanford-covid-vaccine/bpps/id_adbe2bf46.npy'), WindowsPath('C:/Users/animeshs/GD/stanford-covid-vaccine/bpps/id_adcc89c7f.npy'), WindowsPath('C:/Users/animeshs/GD/stanford-covid-vaccine/bpps/id_adcfe8ab8.npy'), WindowsPath('C:/Users/animeshs/GD/stanford-covid-vaccine/bpps/id_ade4fb83b.npy'), WindowsPath('C:/Users/animeshs/GD/stanford-covid-vaccine/bpps/id_ade6e953b.npy'), WindowsPath('C:/Users/animeshs/GD/stanford-covid-vaccine/bpps/id_adefac779.npy'), WindowsPath('C:/Users/animeshs/GD/stanford-covid-vaccine/bpps/id_adf9a7b2a.npy'), WindowsPath('C:/Users/animeshs/GD/stanford-covid-vaccine/bpps/id_adfbdaf3e.npy'), WindowsPath('C:/Users/animeshs/GD/stanford-covid-vaccine/bpps/id_ae0a58af9.npy'), WindowsPath('C:/Users/animeshs/GD/stanford-covid-vaccine/bpps/id_ae14df626.npy'), WindowsPath('C:/Users/animeshs/GD/stanford-covid-vaccine/bpps/id_ae43665eb.npy'), WindowsPath('C:/Users/animeshs/GD/stanford-covid-vaccine/bpps/id_ae5350c07.npy'), WindowsPath('C:/Users/animeshs/GD/stanford-covid-vaccine/bpps/id_ae5b119ac.npy'), WindowsPath('C:/Users/animeshs/GD/stanford-covid-vaccine/bpps/id_ae76bf7cd.npy'), WindowsPath('C:/Users/animeshs/GD/stanford-covid-vaccine/bpps/id_ae81777b6.npy'), WindowsPath('C:/Users/animeshs/GD/stanford-covid-vaccine/bpps/id_ae9052e48.npy'), WindowsPath('C:/Users/animeshs/GD/stanford-covid-vaccine/bpps/id_ae94d3faa.npy'), WindowsPath('C:/Users/animeshs/GD/stanford-covid-vaccine/bpps/id_aeb94c0e4.npy'), WindowsPath('C:/Users/animeshs/GD/stanford-covid-vaccine/bpps/id_aec92db71.npy'), WindowsPath('C:/Users/animeshs/GD/stanford-covid-vaccine/bpps/id_aecc6b223.npy'), WindowsPath('C:/Users/animeshs/GD/stanford-covid-vaccine/bpps/id_aed1c9e6a.npy'), WindowsPath('C:/Users/animeshs/GD/stanford-covid-vaccine/bpps/id_aed85c0e5.npy'), WindowsPath('C:/Users/animeshs/GD/stanford-covid-vaccine/bpps/id_aed88e242.npy'), WindowsPath('C:/Users/animeshs/GD/stanford-covid-vaccine/bpps/id_aede91333.npy'), WindowsPath('C:/Users/animeshs/GD/stanford-covid-vaccine/bpps/id_aee2b3403.npy'), WindowsPath('C:/Users/animeshs/GD/stanford-covid-vaccine/bpps/id_aefb8b199.npy'), WindowsPath('C:/Users/animeshs/GD/stanford-covid-vaccine/bpps/id_aeffa88cb.npy'), WindowsPath('C:/Users/animeshs/GD/stanford-covid-vaccine/bpps/id_af0501e14.npy'), WindowsPath('C:/Users/animeshs/GD/stanford-covid-vaccine/bpps/id_af130610a.npy'), WindowsPath('C:/Users/animeshs/GD/stanford-covid-vaccine/bpps/id_af45504c6.npy'), WindowsPath('C:/Users/animeshs/GD/stanford-covid-vaccine/bpps/id_af51fa176.npy'), WindowsPath('C:/Users/animeshs/GD/stanford-covid-vaccine/bpps/id_af525d5d7.npy'), WindowsPath('C:/Users/animeshs/GD/stanford-covid-vaccine/bpps/id_af527f0ad.npy'), WindowsPath('C:/Users/animeshs/GD/stanford-covid-vaccine/bpps/id_af610d54c.npy'), WindowsPath('C:/Users/animeshs/GD/stanford-covid-vaccine/bpps/id_af8857341.npy'), WindowsPath('C:/Users/animeshs/GD/stanford-covid-vaccine/bpps/id_af98646cb.npy'), WindowsPath('C:/Users/animeshs/GD/stanford-covid-vaccine/bpps/id_af990a478.npy'), WindowsPath('C:/Users/animeshs/GD/stanford-covid-vaccine/bpps/id_afa2d1bd1.npy'), WindowsPath('C:/Users/animeshs/GD/stanford-covid-vaccine/bpps/id_afa6e8c02.npy'), WindowsPath('C:/Users/animeshs/GD/stanford-covid-vaccine/bpps/id_afaf46178.npy'), WindowsPath('C:/Users/animeshs/GD/stanford-covid-vaccine/bpps/id_afb0d97f6.npy'), WindowsPath('C:/Users/animeshs/GD/stanford-covid-vaccine/bpps/id_afb53bf03.npy'), WindowsPath('C:/Users/animeshs/GD/stanford-covid-vaccine/bpps/id_afb775798.npy'), WindowsPath('C:/Users/animeshs/GD/stanford-covid-vaccine/bpps/id_afb7bebdb.npy'), WindowsPath('C:/Users/animeshs/GD/stanford-covid-vaccine/bpps/id_afbdcd748.npy'), WindowsPath('C:/Users/animeshs/GD/stanford-covid-vaccine/bpps/id_afd13f660.npy'), WindowsPath('C:/Users/animeshs/GD/stanford-covid-vaccine/bpps/id_afdb33eed.npy'), WindowsPath('C:/Users/animeshs/GD/stanford-covid-vaccine/bpps/id_afe253138.npy'), WindowsPath('C:/Users/animeshs/GD/stanford-covid-vaccine/bpps/id_afe2c99d3.npy'), WindowsPath('C:/Users/animeshs/GD/stanford-covid-vaccine/bpps/id_afe503201.npy'), WindowsPath('C:/Users/animeshs/GD/stanford-covid-vaccine/bpps/id_afe8fb34a.npy'), WindowsPath('C:/Users/animeshs/GD/stanford-covid-vaccine/bpps/id_aff6a51a4.npy'), WindowsPath('C:/Users/animeshs/GD/stanford-covid-vaccine/bpps/id_aff77ba16.npy'), WindowsPath('C:/Users/animeshs/GD/stanford-covid-vaccine/bpps/id_b00144e6d.npy'), WindowsPath('C:/Users/animeshs/GD/stanford-covid-vaccine/bpps/id_b00d6848f.npy'), WindowsPath('C:/Users/animeshs/GD/stanford-covid-vaccine/bpps/id_b010dbcd5.npy'), WindowsPath('C:/Users/animeshs/GD/stanford-covid-vaccine/bpps/id_b022f5e67.npy'), WindowsPath('C:/Users/animeshs/GD/stanford-covid-vaccine/bpps/id_b02324946.npy'), WindowsPath('C:/Users/animeshs/GD/stanford-covid-vaccine/bpps/id_b028b8238.npy'), WindowsPath('C:/Users/animeshs/GD/stanford-covid-vaccine/bpps/id_b03b10d69.npy'), WindowsPath('C:/Users/animeshs/GD/stanford-covid-vaccine/bpps/id_b05128c1e.npy'), WindowsPath('C:/Users/animeshs/GD/stanford-covid-vaccine/bpps/id_b06e7e027.npy'), WindowsPath('C:/Users/animeshs/GD/stanford-covid-vaccine/bpps/id_b09a63e00.npy'), WindowsPath('C:/Users/animeshs/GD/stanford-covid-vaccine/bpps/id_b0a3ef01b.npy'), WindowsPath('C:/Users/animeshs/GD/stanford-covid-vaccine/bpps/id_b0daa2b79.npy'), WindowsPath('C:/Users/animeshs/GD/stanford-covid-vaccine/bpps/id_b0e1eff4b.npy'), WindowsPath('C:/Users/animeshs/GD/stanford-covid-vaccine/bpps/id_b0f195174.npy'), WindowsPath('C:/Users/animeshs/GD/stanford-covid-vaccine/bpps/id_b0ff4115b.npy'), WindowsPath('C:/Users/animeshs/GD/stanford-covid-vaccine/bpps/id_b10bbd84e.npy'), WindowsPath('C:/Users/animeshs/GD/stanford-covid-vaccine/bpps/id_b10fd8612.npy'), WindowsPath('C:/Users/animeshs/GD/stanford-covid-vaccine/bpps/id_b1254bded.npy'), WindowsPath('C:/Users/animeshs/GD/stanford-covid-vaccine/bpps/id_b14f3a766.npy'), WindowsPath('C:/Users/animeshs/GD/stanford-covid-vaccine/bpps/id_b15a07962.npy'), WindowsPath('C:/Users/animeshs/GD/stanford-covid-vaccine/bpps/id_b16025b29.npy'), WindowsPath('C:/Users/animeshs/GD/stanford-covid-vaccine/bpps/id_b161d9f47.npy'), WindowsPath('C:/Users/animeshs/GD/stanford-covid-vaccine/bpps/id_b170ef32a.npy'), WindowsPath('C:/Users/animeshs/GD/stanford-covid-vaccine/bpps/id_b177ffaed.npy'), WindowsPath('C:/Users/animeshs/GD/stanford-covid-vaccine/bpps/id_b17806fbf.npy'), WindowsPath('C:/Users/animeshs/GD/stanford-covid-vaccine/bpps/id_b17f81388.npy'), WindowsPath('C:/Users/animeshs/GD/stanford-covid-vaccine/bpps/id_b1837d520.npy'), WindowsPath('C:/Users/animeshs/GD/stanford-covid-vaccine/bpps/id_b18b0292b.npy'), WindowsPath('C:/Users/animeshs/GD/stanford-covid-vaccine/bpps/id_b1a16fabb.npy'), WindowsPath('C:/Users/animeshs/GD/stanford-covid-vaccine/bpps/id_b1a663780.npy'), WindowsPath('C:/Users/animeshs/GD/stanford-covid-vaccine/bpps/id_b1b057cfe.npy'), WindowsPath('C:/Users/animeshs/GD/stanford-covid-vaccine/bpps/id_b1b12cc0b.npy'), WindowsPath('C:/Users/animeshs/GD/stanford-covid-vaccine/bpps/id_b1c136c17.npy'), WindowsPath('C:/Users/animeshs/GD/stanford-covid-vaccine/bpps/id_b1c5d7628.npy'), WindowsPath('C:/Users/animeshs/GD/stanford-covid-vaccine/bpps/id_b1cbb88b9.npy'), WindowsPath('C:/Users/animeshs/GD/stanford-covid-vaccine/bpps/id_b1d372ffa.npy'), WindowsPath('C:/Users/animeshs/GD/stanford-covid-vaccine/bpps/id_b1d530e51.npy'), WindowsPath('C:/Users/animeshs/GD/stanford-covid-vaccine/bpps/id_b1d9d05d7.npy'), WindowsPath('C:/Users/animeshs/GD/stanford-covid-vaccine/bpps/id_b1f9285df.npy'), WindowsPath('C:/Users/animeshs/GD/stanford-covid-vaccine/bpps/id_b2049e73a.npy'), WindowsPath('C:/Users/animeshs/GD/stanford-covid-vaccine/bpps/id_b23cad2bb.npy'), WindowsPath('C:/Users/animeshs/GD/stanford-covid-vaccine/bpps/id_b24885daa.npy'), WindowsPath('C:/Users/animeshs/GD/stanford-covid-vaccine/bpps/id_b24a65018.npy'), WindowsPath('C:/Users/animeshs/GD/stanford-covid-vaccine/bpps/id_b251d74ab.npy'), WindowsPath('C:/Users/animeshs/GD/stanford-covid-vaccine/bpps/id_b264d7da0.npy'), WindowsPath('C:/Users/animeshs/GD/stanford-covid-vaccine/bpps/id_b28e991d6.npy'), WindowsPath('C:/Users/animeshs/GD/stanford-covid-vaccine/bpps/id_b28f5a18d.npy'), WindowsPath('C:/Users/animeshs/GD/stanford-covid-vaccine/bpps/id_b2a06457a.npy'), WindowsPath('C:/Users/animeshs/GD/stanford-covid-vaccine/bpps/id_b2a5fa12d.npy'), WindowsPath('C:/Users/animeshs/GD/stanford-covid-vaccine/bpps/id_b2abac214.npy'), WindowsPath('C:/Users/animeshs/GD/stanford-covid-vaccine/bpps/id_b2ad26242.npy'), WindowsPath('C:/Users/animeshs/GD/stanford-covid-vaccine/bpps/id_b2b562d39.npy'), WindowsPath('C:/Users/animeshs/GD/stanford-covid-vaccine/bpps/id_b2be5322a.npy'), WindowsPath('C:/Users/animeshs/GD/stanford-covid-vaccine/bpps/id_b2c1d5a57.npy'), WindowsPath('C:/Users/animeshs/GD/stanford-covid-vaccine/bpps/id_b2c40fa12.npy'), WindowsPath('C:/Users/animeshs/GD/stanford-covid-vaccine/bpps/id_b2d813595.npy'), WindowsPath('C:/Users/animeshs/GD/stanford-covid-vaccine/bpps/id_b2d990981.npy'), WindowsPath('C:/Users/animeshs/GD/stanford-covid-vaccine/bpps/id_b2e8f5a61.npy'), WindowsPath('C:/Users/animeshs/GD/stanford-covid-vaccine/bpps/id_b2ea0c566.npy'), WindowsPath('C:/Users/animeshs/GD/stanford-covid-vaccine/bpps/id_b2fb7ff8d.npy'), WindowsPath('C:/Users/animeshs/GD/stanford-covid-vaccine/bpps/id_b2ff1d6ab.npy'), WindowsPath('C:/Users/animeshs/GD/stanford-covid-vaccine/bpps/id_b31fd7ce5.npy'), WindowsPath('C:/Users/animeshs/GD/stanford-covid-vaccine/bpps/id_b31ffd687.npy'), WindowsPath('C:/Users/animeshs/GD/stanford-covid-vaccine/bpps/id_b321f9a0f.npy'), WindowsPath('C:/Users/animeshs/GD/stanford-covid-vaccine/bpps/id_b32572eec.npy'), WindowsPath('C:/Users/animeshs/GD/stanford-covid-vaccine/bpps/id_b32efe88a.npy'), WindowsPath('C:/Users/animeshs/GD/stanford-covid-vaccine/bpps/id_b34ba1061.npy'), WindowsPath('C:/Users/animeshs/GD/stanford-covid-vaccine/bpps/id_b34f3df1b.npy'), WindowsPath('C:/Users/animeshs/GD/stanford-covid-vaccine/bpps/id_b3607ea96.npy'), WindowsPath('C:/Users/animeshs/GD/stanford-covid-vaccine/bpps/id_b3676376e.npy'), WindowsPath('C:/Users/animeshs/GD/stanford-covid-vaccine/bpps/id_b368c4982.npy'), WindowsPath('C:/Users/animeshs/GD/stanford-covid-vaccine/bpps/id_b389fa4b7.npy'), WindowsPath('C:/Users/animeshs/GD/stanford-covid-vaccine/bpps/id_b38fe16c3.npy'), WindowsPath('C:/Users/animeshs/GD/stanford-covid-vaccine/bpps/id_b390191a9.npy'), WindowsPath('C:/Users/animeshs/GD/stanford-covid-vaccine/bpps/id_b39230f4f.npy'), WindowsPath('C:/Users/animeshs/GD/stanford-covid-vaccine/bpps/id_b394a2a4a.npy'), WindowsPath('C:/Users/animeshs/GD/stanford-covid-vaccine/bpps/id_b397d4170.npy'), WindowsPath('C:/Users/animeshs/GD/stanford-covid-vaccine/bpps/id_b3a332153.npy'), WindowsPath('C:/Users/animeshs/GD/stanford-covid-vaccine/bpps/id_b3ad376bd.npy'), WindowsPath('C:/Users/animeshs/GD/stanford-covid-vaccine/bpps/id_b3bd6debe.npy'), WindowsPath('C:/Users/animeshs/GD/stanford-covid-vaccine/bpps/id_b3cc082f2.npy'), WindowsPath('C:/Users/animeshs/GD/stanford-covid-vaccine/bpps/id_b3ccec332.npy'), WindowsPath('C:/Users/animeshs/GD/stanford-covid-vaccine/bpps/id_b3db7464b.npy'), WindowsPath('C:/Users/animeshs/GD/stanford-covid-vaccine/bpps/id_b3de01e1c.npy'), WindowsPath('C:/Users/animeshs/GD/stanford-covid-vaccine/bpps/id_b400d0597.npy'), WindowsPath('C:/Users/animeshs/GD/stanford-covid-vaccine/bpps/id_b40a51e73.npy'), WindowsPath('C:/Users/animeshs/GD/stanford-covid-vaccine/bpps/id_b4120299b.npy'), WindowsPath('C:/Users/animeshs/GD/stanford-covid-vaccine/bpps/id_b4188544d.npy'), WindowsPath('C:/Users/animeshs/GD/stanford-covid-vaccine/bpps/id_b43452d3f.npy'), WindowsPath('C:/Users/animeshs/GD/stanford-covid-vaccine/bpps/id_b44a2c37d.npy'), WindowsPath('C:/Users/animeshs/GD/stanford-covid-vaccine/bpps/id_b44e52939.npy'), WindowsPath('C:/Users/animeshs/GD/stanford-covid-vaccine/bpps/id_b465bc4de.npy'), WindowsPath('C:/Users/animeshs/GD/stanford-covid-vaccine/bpps/id_b46e8e4fa.npy'), WindowsPath('C:/Users/animeshs/GD/stanford-covid-vaccine/bpps/id_b4aa34fee.npy'), WindowsPath('C:/Users/animeshs/GD/stanford-covid-vaccine/bpps/id_b4afce64c.npy'), WindowsPath('C:/Users/animeshs/GD/stanford-covid-vaccine/bpps/id_b4b488982.npy'), WindowsPath('C:/Users/animeshs/GD/stanford-covid-vaccine/bpps/id_b4b5a0acd.npy'), WindowsPath('C:/Users/animeshs/GD/stanford-covid-vaccine/bpps/id_b4c604413.npy'), WindowsPath('C:/Users/animeshs/GD/stanford-covid-vaccine/bpps/id_b4c8c51cf.npy'), WindowsPath('C:/Users/animeshs/GD/stanford-covid-vaccine/bpps/id_b4cb9c550.npy'), WindowsPath('C:/Users/animeshs/GD/stanford-covid-vaccine/bpps/id_b4ce18f08.npy'), WindowsPath('C:/Users/animeshs/GD/stanford-covid-vaccine/bpps/id_b4e970192.npy'), WindowsPath('C:/Users/animeshs/GD/stanford-covid-vaccine/bpps/id_b4fefe0b7.npy'), WindowsPath('C:/Users/animeshs/GD/stanford-covid-vaccine/bpps/id_b5093fd65.npy'), WindowsPath('C:/Users/animeshs/GD/stanford-covid-vaccine/bpps/id_b511cd74a.npy'), WindowsPath('C:/Users/animeshs/GD/stanford-covid-vaccine/bpps/id_b5139c1d6.npy'), WindowsPath('C:/Users/animeshs/GD/stanford-covid-vaccine/bpps/id_b5190e21b.npy'), WindowsPath('C:/Users/animeshs/GD/stanford-covid-vaccine/bpps/id_b51a82237.npy'), WindowsPath('C:/Users/animeshs/GD/stanford-covid-vaccine/bpps/id_b51b4a273.npy'), WindowsPath('C:/Users/animeshs/GD/stanford-covid-vaccine/bpps/id_b51bf2fe7.npy'), WindowsPath('C:/Users/animeshs/GD/stanford-covid-vaccine/bpps/id_b51e2f1f4.npy'), WindowsPath('C:/Users/animeshs/GD/stanford-covid-vaccine/bpps/id_b5281d373.npy'), WindowsPath('C:/Users/animeshs/GD/stanford-covid-vaccine/bpps/id_b53950421.npy'), WindowsPath('C:/Users/animeshs/GD/stanford-covid-vaccine/bpps/id_b544084c6.npy'), WindowsPath('C:/Users/animeshs/GD/stanford-covid-vaccine/bpps/id_b54e07093.npy'), WindowsPath('C:/Users/animeshs/GD/stanford-covid-vaccine/bpps/id_b5593fd80.npy'), WindowsPath('C:/Users/animeshs/GD/stanford-covid-vaccine/bpps/id_b55d67611.npy'), WindowsPath('C:/Users/animeshs/GD/stanford-covid-vaccine/bpps/id_b56fe545d.npy'), WindowsPath('C:/Users/animeshs/GD/stanford-covid-vaccine/bpps/id_b586b8338.npy'), WindowsPath('C:/Users/animeshs/GD/stanford-covid-vaccine/bpps/id_b58700b4d.npy'), WindowsPath('C:/Users/animeshs/GD/stanford-covid-vaccine/bpps/id_b58f2a902.npy'), WindowsPath('C:/Users/animeshs/GD/stanford-covid-vaccine/bpps/id_b597d13f1.npy'), WindowsPath('C:/Users/animeshs/GD/stanford-covid-vaccine/bpps/id_b5ae33df9.npy'), WindowsPath('C:/Users/animeshs/GD/stanford-covid-vaccine/bpps/id_b5d885b5b.npy'), WindowsPath('C:/Users/animeshs/GD/stanford-covid-vaccine/bpps/id_b5f0059ea.npy'), WindowsPath('C:/Users/animeshs/GD/stanford-covid-vaccine/bpps/id_b5f8838d4.npy'), WindowsPath('C:/Users/animeshs/GD/stanford-covid-vaccine/bpps/id_b60ff5a1e.npy'), WindowsPath('C:/Users/animeshs/GD/stanford-covid-vaccine/bpps/id_b627a7bb4.npy'), WindowsPath('C:/Users/animeshs/GD/stanford-covid-vaccine/bpps/id_b63224647.npy'), WindowsPath('C:/Users/animeshs/GD/stanford-covid-vaccine/bpps/id_b6325341f.npy'), WindowsPath('C:/Users/animeshs/GD/stanford-covid-vaccine/bpps/id_b636c2599.npy'), WindowsPath('C:/Users/animeshs/GD/stanford-covid-vaccine/bpps/id_b664e8e0a.npy'), WindowsPath('C:/Users/animeshs/GD/stanford-covid-vaccine/bpps/id_b66f0c0f0.npy'), WindowsPath('C:/Users/animeshs/GD/stanford-covid-vaccine/bpps/id_b67438ee3.npy'), WindowsPath('C:/Users/animeshs/GD/stanford-covid-vaccine/bpps/id_b6746b57a.npy'), WindowsPath('C:/Users/animeshs/GD/stanford-covid-vaccine/bpps/id_b67d99961.npy'), WindowsPath('C:/Users/animeshs/GD/stanford-covid-vaccine/bpps/id_b68e6e765.npy'), WindowsPath('C:/Users/animeshs/GD/stanford-covid-vaccine/bpps/id_b6b8d6c81.npy'), WindowsPath('C:/Users/animeshs/GD/stanford-covid-vaccine/bpps/id_b6b93cedc.npy'), WindowsPath('C:/Users/animeshs/GD/stanford-covid-vaccine/bpps/id_b6bc28788.npy'), WindowsPath('C:/Users/animeshs/GD/stanford-covid-vaccine/bpps/id_b6c289a72.npy'), WindowsPath('C:/Users/animeshs/GD/stanford-covid-vaccine/bpps/id_b6cdce7eb.npy'), WindowsPath('C:/Users/animeshs/GD/stanford-covid-vaccine/bpps/id_b6d14993f.npy'), WindowsPath('C:/Users/animeshs/GD/stanford-covid-vaccine/bpps/id_b6ddd5e7c.npy'), WindowsPath('C:/Users/animeshs/GD/stanford-covid-vaccine/bpps/id_b6e729d5d.npy'), WindowsPath('C:/Users/animeshs/GD/stanford-covid-vaccine/bpps/id_b6ee9d5ff.npy'), WindowsPath('C:/Users/animeshs/GD/stanford-covid-vaccine/bpps/id_b6f0681aa.npy'), WindowsPath('C:/Users/animeshs/GD/stanford-covid-vaccine/bpps/id_b6f5a4b3b.npy'), WindowsPath('C:/Users/animeshs/GD/stanford-covid-vaccine/bpps/id_b70e2e655.npy'), WindowsPath('C:/Users/animeshs/GD/stanford-covid-vaccine/bpps/id_b7181bf40.npy'), WindowsPath('C:/Users/animeshs/GD/stanford-covid-vaccine/bpps/id_b726b998a.npy'), WindowsPath('C:/Users/animeshs/GD/stanford-covid-vaccine/bpps/id_b7313af83.npy'), WindowsPath('C:/Users/animeshs/GD/stanford-covid-vaccine/bpps/id_b73bd4a36.npy'), WindowsPath('C:/Users/animeshs/GD/stanford-covid-vaccine/bpps/id_b73d3a2d1.npy'), WindowsPath('C:/Users/animeshs/GD/stanford-covid-vaccine/bpps/id_b73e4a98e.npy'), WindowsPath('C:/Users/animeshs/GD/stanford-covid-vaccine/bpps/id_b7434a659.npy'), WindowsPath('C:/Users/animeshs/GD/stanford-covid-vaccine/bpps/id_b743ea76c.npy'), WindowsPath('C:/Users/animeshs/GD/stanford-covid-vaccine/bpps/id_b745f3b46.npy'), WindowsPath('C:/Users/animeshs/GD/stanford-covid-vaccine/bpps/id_b74675e86.npy'), WindowsPath('C:/Users/animeshs/GD/stanford-covid-vaccine/bpps/id_b74eff33b.npy'), WindowsPath('C:/Users/animeshs/GD/stanford-covid-vaccine/bpps/id_b74f31d1a.npy'), WindowsPath('C:/Users/animeshs/GD/stanford-covid-vaccine/bpps/id_b750a3a31.npy'), WindowsPath('C:/Users/animeshs/GD/stanford-covid-vaccine/bpps/id_b75710ff3.npy'), WindowsPath('C:/Users/animeshs/GD/stanford-covid-vaccine/bpps/id_b75d9a7fd.npy'), WindowsPath('C:/Users/animeshs/GD/stanford-covid-vaccine/bpps/id_b76735f32.npy'), WindowsPath('C:/Users/animeshs/GD/stanford-covid-vaccine/bpps/id_b76b27ee5.npy'), WindowsPath('C:/Users/animeshs/GD/stanford-covid-vaccine/bpps/id_b76b2c1e9.npy'), WindowsPath('C:/Users/animeshs/GD/stanford-covid-vaccine/bpps/id_b76c84b7b.npy'), WindowsPath('C:/Users/animeshs/GD/stanford-covid-vaccine/bpps/id_b78b98c50.npy'), WindowsPath('C:/Users/animeshs/GD/stanford-covid-vaccine/bpps/id_b79196d43.npy'), WindowsPath('C:/Users/animeshs/GD/stanford-covid-vaccine/bpps/id_b792b2fd4.npy'), WindowsPath('C:/Users/animeshs/GD/stanford-covid-vaccine/bpps/id_b79761c4a.npy'), WindowsPath('C:/Users/animeshs/GD/stanford-covid-vaccine/bpps/id_b7bed4a3c.npy'), WindowsPath('C:/Users/animeshs/GD/stanford-covid-vaccine/bpps/id_b7bf7d623.npy'), WindowsPath('C:/Users/animeshs/GD/stanford-covid-vaccine/bpps/id_b7c2d855c.npy'), WindowsPath('C:/Users/animeshs/GD/stanford-covid-vaccine/bpps/id_b7e98199f.npy'), WindowsPath('C:/Users/animeshs/GD/stanford-covid-vaccine/bpps/id_b7f0854a8.npy'), WindowsPath('C:/Users/animeshs/GD/stanford-covid-vaccine/bpps/id_b7ffe6011.npy'), WindowsPath('C:/Users/animeshs/GD/stanford-covid-vaccine/bpps/id_b809c715b.npy'), WindowsPath('C:/Users/animeshs/GD/stanford-covid-vaccine/bpps/id_b80edd9e7.npy'), WindowsPath('C:/Users/animeshs/GD/stanford-covid-vaccine/bpps/id_b813cc513.npy'), WindowsPath('C:/Users/animeshs/GD/stanford-covid-vaccine/bpps/id_b81b6c5ae.npy'), WindowsPath('C:/Users/animeshs/GD/stanford-covid-vaccine/bpps/id_b8395486b.npy'), WindowsPath('C:/Users/animeshs/GD/stanford-covid-vaccine/bpps/id_b83aa9f6a.npy'), WindowsPath('C:/Users/animeshs/GD/stanford-covid-vaccine/bpps/id_b83d7d122.npy'), WindowsPath('C:/Users/animeshs/GD/stanford-covid-vaccine/bpps/id_b856f50ab.npy'), WindowsPath('C:/Users/animeshs/GD/stanford-covid-vaccine/bpps/id_b85a9d36d.npy'), WindowsPath('C:/Users/animeshs/GD/stanford-covid-vaccine/bpps/id_b85d321d9.npy'), WindowsPath('C:/Users/animeshs/GD/stanford-covid-vaccine/bpps/id_b86080c2e.npy'), WindowsPath('C:/Users/animeshs/GD/stanford-covid-vaccine/bpps/id_b86c747fc.npy'), WindowsPath('C:/Users/animeshs/GD/stanford-covid-vaccine/bpps/id_b871f3a26.npy'), WindowsPath('C:/Users/animeshs/GD/stanford-covid-vaccine/bpps/id_b87d65f26.npy'), WindowsPath('C:/Users/animeshs/GD/stanford-covid-vaccine/bpps/id_b898ffbdc.npy'), WindowsPath('C:/Users/animeshs/GD/stanford-covid-vaccine/bpps/id_b89905e88.npy'), WindowsPath('C:/Users/animeshs/GD/stanford-covid-vaccine/bpps/id_b8ac7d5ff.npy'), WindowsPath('C:/Users/animeshs/GD/stanford-covid-vaccine/bpps/id_b8b04898b.npy'), WindowsPath('C:/Users/animeshs/GD/stanford-covid-vaccine/bpps/id_b8b92f29d.npy'), WindowsPath('C:/Users/animeshs/GD/stanford-covid-vaccine/bpps/id_b8bc013bb.npy'), WindowsPath('C:/Users/animeshs/GD/stanford-covid-vaccine/bpps/id_b8bf2c151.npy'), WindowsPath('C:/Users/animeshs/GD/stanford-covid-vaccine/bpps/id_b8c05a12c.npy'), WindowsPath('C:/Users/animeshs/GD/stanford-covid-vaccine/bpps/id_b8ec4e75d.npy'), WindowsPath('C:/Users/animeshs/GD/stanford-covid-vaccine/bpps/id_b8ee7324b.npy'), WindowsPath('C:/Users/animeshs/GD/stanford-covid-vaccine/bpps/id_b8fb23954.npy'), WindowsPath('C:/Users/animeshs/GD/stanford-covid-vaccine/bpps/id_b90506624.npy'), WindowsPath('C:/Users/animeshs/GD/stanford-covid-vaccine/bpps/id_b9097bc5f.npy'), WindowsPath('C:/Users/animeshs/GD/stanford-covid-vaccine/bpps/id_b91213831.npy'), WindowsPath('C:/Users/animeshs/GD/stanford-covid-vaccine/bpps/id_b914f58fc.npy'), WindowsPath('C:/Users/animeshs/GD/stanford-covid-vaccine/bpps/id_b9186b6d8.npy'), WindowsPath('C:/Users/animeshs/GD/stanford-covid-vaccine/bpps/id_b91cc07ce.npy'), WindowsPath('C:/Users/animeshs/GD/stanford-covid-vaccine/bpps/id_b93a405bb.npy'), WindowsPath('C:/Users/animeshs/GD/stanford-covid-vaccine/bpps/id_b94927d88.npy'), WindowsPath('C:/Users/animeshs/GD/stanford-covid-vaccine/bpps/id_b954627d8.npy'), WindowsPath('C:/Users/animeshs/GD/stanford-covid-vaccine/bpps/id_b95c9525e.npy'), WindowsPath('C:/Users/animeshs/GD/stanford-covid-vaccine/bpps/id_b96c5589d.npy'), WindowsPath('C:/Users/animeshs/GD/stanford-covid-vaccine/bpps/id_b971506f0.npy'), WindowsPath('C:/Users/animeshs/GD/stanford-covid-vaccine/bpps/id_b987d219f.npy'), WindowsPath('C:/Users/animeshs/GD/stanford-covid-vaccine/bpps/id_b989299f3.npy'), WindowsPath('C:/Users/animeshs/GD/stanford-covid-vaccine/bpps/id_b989d0163.npy'), WindowsPath('C:/Users/animeshs/GD/stanford-covid-vaccine/bpps/id_b99707ac9.npy'), WindowsPath('C:/Users/animeshs/GD/stanford-covid-vaccine/bpps/id_b99911d9c.npy'), WindowsPath('C:/Users/animeshs/GD/stanford-covid-vaccine/bpps/id_b9a0c0c92.npy'), WindowsPath('C:/Users/animeshs/GD/stanford-covid-vaccine/bpps/id_b9b971e9e.npy'), WindowsPath('C:/Users/animeshs/GD/stanford-covid-vaccine/bpps/id_b9bb21c3b.npy'), WindowsPath('C:/Users/animeshs/GD/stanford-covid-vaccine/bpps/id_b9c000d29.npy'), WindowsPath('C:/Users/animeshs/GD/stanford-covid-vaccine/bpps/id_b9c266213.npy'), WindowsPath('C:/Users/animeshs/GD/stanford-covid-vaccine/bpps/id_b9d7b0b4e.npy'), WindowsPath('C:/Users/animeshs/GD/stanford-covid-vaccine/bpps/id_b9e57146b.npy'), WindowsPath('C:/Users/animeshs/GD/stanford-covid-vaccine/bpps/id_b9ecb0d41.npy'), WindowsPath('C:/Users/animeshs/GD/stanford-covid-vaccine/bpps/id_b9f3273fe.npy'), WindowsPath('C:/Users/animeshs/GD/stanford-covid-vaccine/bpps/id_b9fb52ca3.npy'), WindowsPath('C:/Users/animeshs/GD/stanford-covid-vaccine/bpps/id_ba022f0f7.npy'), WindowsPath('C:/Users/animeshs/GD/stanford-covid-vaccine/bpps/id_ba0f897b2.npy'), WindowsPath('C:/Users/animeshs/GD/stanford-covid-vaccine/bpps/id_ba19b29e9.npy'), WindowsPath('C:/Users/animeshs/GD/stanford-covid-vaccine/bpps/id_ba1ab9ff1.npy'), WindowsPath('C:/Users/animeshs/GD/stanford-covid-vaccine/bpps/id_ba3232d20.npy'), WindowsPath('C:/Users/animeshs/GD/stanford-covid-vaccine/bpps/id_ba35b3e3d.npy'), WindowsPath('C:/Users/animeshs/GD/stanford-covid-vaccine/bpps/id_ba4a05f10.npy'), WindowsPath('C:/Users/animeshs/GD/stanford-covid-vaccine/bpps/id_ba51c54f2.npy'), WindowsPath('C:/Users/animeshs/GD/stanford-covid-vaccine/bpps/id_ba680a11e.npy'), WindowsPath('C:/Users/animeshs/GD/stanford-covid-vaccine/bpps/id_ba7411e5e.npy'), WindowsPath('C:/Users/animeshs/GD/stanford-covid-vaccine/bpps/id_ba8c96582.npy'), WindowsPath('C:/Users/animeshs/GD/stanford-covid-vaccine/bpps/id_ba9297fd1.npy'), WindowsPath('C:/Users/animeshs/GD/stanford-covid-vaccine/bpps/id_ba97027f1.npy'), WindowsPath('C:/Users/animeshs/GD/stanford-covid-vaccine/bpps/id_ba9d7f4c5.npy'), WindowsPath('C:/Users/animeshs/GD/stanford-covid-vaccine/bpps/id_baa014a2d.npy'), WindowsPath('C:/Users/animeshs/GD/stanford-covid-vaccine/bpps/id_babb601d5.npy'), WindowsPath('C:/Users/animeshs/GD/stanford-covid-vaccine/bpps/id_badad285b.npy'), WindowsPath('C:/Users/animeshs/GD/stanford-covid-vaccine/bpps/id_bae79abdc.npy'), WindowsPath('C:/Users/animeshs/GD/stanford-covid-vaccine/bpps/id_bb0b245fc.npy'), WindowsPath('C:/Users/animeshs/GD/stanford-covid-vaccine/bpps/id_bb205a290.npy'), WindowsPath('C:/Users/animeshs/GD/stanford-covid-vaccine/bpps/id_bb26e6a1d.npy'), WindowsPath('C:/Users/animeshs/GD/stanford-covid-vaccine/bpps/id_bb2841282.npy'), WindowsPath('C:/Users/animeshs/GD/stanford-covid-vaccine/bpps/id_bb28e3aca.npy'), WindowsPath('C:/Users/animeshs/GD/stanford-covid-vaccine/bpps/id_bb3cf3bbf.npy'), WindowsPath('C:/Users/animeshs/GD/stanford-covid-vaccine/bpps/id_bb484d8f2.npy'), WindowsPath('C:/Users/animeshs/GD/stanford-covid-vaccine/bpps/id_bb66eb329.npy'), WindowsPath('C:/Users/animeshs/GD/stanford-covid-vaccine/bpps/id_bb70938c7.npy'), WindowsPath('C:/Users/animeshs/GD/stanford-covid-vaccine/bpps/id_bb764dbc7.npy'), WindowsPath('C:/Users/animeshs/GD/stanford-covid-vaccine/bpps/id_bb809d365.npy'), WindowsPath('C:/Users/animeshs/GD/stanford-covid-vaccine/bpps/id_bb8e66139.npy'), WindowsPath('C:/Users/animeshs/GD/stanford-covid-vaccine/bpps/id_bb91036d3.npy'), WindowsPath('C:/Users/animeshs/GD/stanford-covid-vaccine/bpps/id_bbca436e5.npy'), WindowsPath('C:/Users/animeshs/GD/stanford-covid-vaccine/bpps/id_bbcfe7630.npy'), WindowsPath('C:/Users/animeshs/GD/stanford-covid-vaccine/bpps/id_bbd04a844.npy'), WindowsPath('C:/Users/animeshs/GD/stanford-covid-vaccine/bpps/id_bbd9cf490.npy'), WindowsPath('C:/Users/animeshs/GD/stanford-covid-vaccine/bpps/id_bbdb47b34.npy'), WindowsPath('C:/Users/animeshs/GD/stanford-covid-vaccine/bpps/id_bbf602cd3.npy'), WindowsPath('C:/Users/animeshs/GD/stanford-covid-vaccine/bpps/id_bbf633c56.npy'), WindowsPath('C:/Users/animeshs/GD/stanford-covid-vaccine/bpps/id_bc0214f49.npy'), WindowsPath('C:/Users/animeshs/GD/stanford-covid-vaccine/bpps/id_bc1a29e59.npy'), WindowsPath('C:/Users/animeshs/GD/stanford-covid-vaccine/bpps/id_bc1eb122f.npy'), WindowsPath('C:/Users/animeshs/GD/stanford-covid-vaccine/bpps/id_bc2cc3cc1.npy'), WindowsPath('C:/Users/animeshs/GD/stanford-covid-vaccine/bpps/id_bc468a9d9.npy'), WindowsPath('C:/Users/animeshs/GD/stanford-covid-vaccine/bpps/id_bc46db3f7.npy'), WindowsPath('C:/Users/animeshs/GD/stanford-covid-vaccine/bpps/id_bc486d86f.npy'), WindowsPath('C:/Users/animeshs/GD/stanford-covid-vaccine/bpps/id_bc4966a09.npy'), WindowsPath('C:/Users/animeshs/GD/stanford-covid-vaccine/bpps/id_bc4a7137e.npy'), WindowsPath('C:/Users/animeshs/GD/stanford-covid-vaccine/bpps/id_bc50bf31f.npy'), WindowsPath('C:/Users/animeshs/GD/stanford-covid-vaccine/bpps/id_bc54dbff1.npy'), WindowsPath('C:/Users/animeshs/GD/stanford-covid-vaccine/bpps/id_bc652d860.npy'), WindowsPath('C:/Users/animeshs/GD/stanford-covid-vaccine/bpps/id_bc7da9980.npy'), WindowsPath('C:/Users/animeshs/GD/stanford-covid-vaccine/bpps/id_bc856e060.npy'), WindowsPath('C:/Users/animeshs/GD/stanford-covid-vaccine/bpps/id_bc87fb988.npy'), WindowsPath('C:/Users/animeshs/GD/stanford-covid-vaccine/bpps/id_bc8cafe93.npy'), WindowsPath('C:/Users/animeshs/GD/stanford-covid-vaccine/bpps/id_bc925d891.npy'), WindowsPath('C:/Users/animeshs/GD/stanford-covid-vaccine/bpps/id_bcaf00602.npy'), WindowsPath('C:/Users/animeshs/GD/stanford-covid-vaccine/bpps/id_bcb13fa7b.npy'), WindowsPath('C:/Users/animeshs/GD/stanford-covid-vaccine/bpps/id_bcc97b6b5.npy'), WindowsPath('C:/Users/animeshs/GD/stanford-covid-vaccine/bpps/id_bccbadc02.npy'), WindowsPath('C:/Users/animeshs/GD/stanford-covid-vaccine/bpps/id_bcd2f71d4.npy'), WindowsPath('C:/Users/animeshs/GD/stanford-covid-vaccine/bpps/id_bcdf938f7.npy'), WindowsPath('C:/Users/animeshs/GD/stanford-covid-vaccine/bpps/id_bced8bcdf.npy'), WindowsPath('C:/Users/animeshs/GD/stanford-covid-vaccine/bpps/id_bcf82ae7d.npy'), WindowsPath('C:/Users/animeshs/GD/stanford-covid-vaccine/bpps/id_bcfec7f69.npy'), WindowsPath('C:/Users/animeshs/GD/stanford-covid-vaccine/bpps/id_bd00b759e.npy'), WindowsPath('C:/Users/animeshs/GD/stanford-covid-vaccine/bpps/id_bd082dde6.npy'), WindowsPath('C:/Users/animeshs/GD/stanford-covid-vaccine/bpps/id_bd0b4e888.npy'), WindowsPath('C:/Users/animeshs/GD/stanford-covid-vaccine/bpps/id_bd161b679.npy'), WindowsPath('C:/Users/animeshs/GD/stanford-covid-vaccine/bpps/id_bd1fbd738.npy'), WindowsPath('C:/Users/animeshs/GD/stanford-covid-vaccine/bpps/id_bd211a267.npy'), WindowsPath('C:/Users/animeshs/GD/stanford-covid-vaccine/bpps/id_bd22beebb.npy'), WindowsPath('C:/Users/animeshs/GD/stanford-covid-vaccine/bpps/id_bd34b1856.npy'), WindowsPath('C:/Users/animeshs/GD/stanford-covid-vaccine/bpps/id_bd3aa5c18.npy'), WindowsPath('C:/Users/animeshs/GD/stanford-covid-vaccine/bpps/id_bd4805fdb.npy'), WindowsPath('C:/Users/animeshs/GD/stanford-covid-vaccine/bpps/id_bd5f8b421.npy'), WindowsPath('C:/Users/animeshs/GD/stanford-covid-vaccine/bpps/id_bd6015b4a.npy'), WindowsPath('C:/Users/animeshs/GD/stanford-covid-vaccine/bpps/id_bd64a6e7a.npy'), WindowsPath('C:/Users/animeshs/GD/stanford-covid-vaccine/bpps/id_bd69dc7b5.npy'), WindowsPath('C:/Users/animeshs/GD/stanford-covid-vaccine/bpps/id_bd6ade34d.npy'), WindowsPath('C:/Users/animeshs/GD/stanford-covid-vaccine/bpps/id_bd70ae9f0.npy'), WindowsPath('C:/Users/animeshs/GD/stanford-covid-vaccine/bpps/id_bd8786c6a.npy'), WindowsPath('C:/Users/animeshs/GD/stanford-covid-vaccine/bpps/id_bd87ac49f.npy'), WindowsPath('C:/Users/animeshs/GD/stanford-covid-vaccine/bpps/id_bd8a2932f.npy'), WindowsPath('C:/Users/animeshs/GD/stanford-covid-vaccine/bpps/id_bd8aa0ee4.npy'), WindowsPath('C:/Users/animeshs/GD/stanford-covid-vaccine/bpps/id_bda734740.npy'), WindowsPath('C:/Users/animeshs/GD/stanford-covid-vaccine/bpps/id_bda9bf889.npy'), WindowsPath('C:/Users/animeshs/GD/stanford-covid-vaccine/bpps/id_bdaa60351.npy'), WindowsPath('C:/Users/animeshs/GD/stanford-covid-vaccine/bpps/id_bdab53099.npy'), WindowsPath('C:/Users/animeshs/GD/stanford-covid-vaccine/bpps/id_bdad397c9.npy'), WindowsPath('C:/Users/animeshs/GD/stanford-covid-vaccine/bpps/id_bdaf37c79.npy'), WindowsPath('C:/Users/animeshs/GD/stanford-covid-vaccine/bpps/id_bdb14172f.npy'), WindowsPath('C:/Users/animeshs/GD/stanford-covid-vaccine/bpps/id_bdb2f2568.npy'), WindowsPath('C:/Users/animeshs/GD/stanford-covid-vaccine/bpps/id_bdbc14325.npy'), WindowsPath('C:/Users/animeshs/GD/stanford-covid-vaccine/bpps/id_bdd2a1acb.npy'), WindowsPath('C:/Users/animeshs/GD/stanford-covid-vaccine/bpps/id_bde1e0025.npy'), WindowsPath('C:/Users/animeshs/GD/stanford-covid-vaccine/bpps/id_bde364478.npy'), WindowsPath('C:/Users/animeshs/GD/stanford-covid-vaccine/bpps/id_bdebe7dc1.npy'), WindowsPath('C:/Users/animeshs/GD/stanford-covid-vaccine/bpps/id_bdf6227db.npy'), WindowsPath('C:/Users/animeshs/GD/stanford-covid-vaccine/bpps/id_be0e5a50a.npy'), WindowsPath('C:/Users/animeshs/GD/stanford-covid-vaccine/bpps/id_be0e82173.npy'), WindowsPath('C:/Users/animeshs/GD/stanford-covid-vaccine/bpps/id_be1233a0f.npy'), WindowsPath('C:/Users/animeshs/GD/stanford-covid-vaccine/bpps/id_be2dd6486.npy'), WindowsPath('C:/Users/animeshs/GD/stanford-covid-vaccine/bpps/id_be2e00545.npy'), WindowsPath('C:/Users/animeshs/GD/stanford-covid-vaccine/bpps/id_be5fe9ab4.npy'), WindowsPath('C:/Users/animeshs/GD/stanford-covid-vaccine/bpps/id_be6314f26.npy'), WindowsPath('C:/Users/animeshs/GD/stanford-covid-vaccine/bpps/id_be6d18aab.npy'), WindowsPath('C:/Users/animeshs/GD/stanford-covid-vaccine/bpps/id_be7ab49e6.npy'), WindowsPath('C:/Users/animeshs/GD/stanford-covid-vaccine/bpps/id_be7af3da4.npy'), WindowsPath('C:/Users/animeshs/GD/stanford-covid-vaccine/bpps/id_be9b2c00f.npy'), WindowsPath('C:/Users/animeshs/GD/stanford-covid-vaccine/bpps/id_bea92c62a.npy'), WindowsPath('C:/Users/animeshs/GD/stanford-covid-vaccine/bpps/id_beaef2ebd.npy'), WindowsPath('C:/Users/animeshs/GD/stanford-covid-vaccine/bpps/id_beb4a0733.npy'), WindowsPath('C:/Users/animeshs/GD/stanford-covid-vaccine/bpps/id_bebf46714.npy'), WindowsPath('C:/Users/animeshs/GD/stanford-covid-vaccine/bpps/id_bed419c49.npy'), WindowsPath('C:/Users/animeshs/GD/stanford-covid-vaccine/bpps/id_bed576e5a.npy'), WindowsPath('C:/Users/animeshs/GD/stanford-covid-vaccine/bpps/id_bee7c64c3.npy'), WindowsPath('C:/Users/animeshs/GD/stanford-covid-vaccine/bpps/id_bee8b8077.npy'), WindowsPath('C:/Users/animeshs/GD/stanford-covid-vaccine/bpps/id_bee8f72c0.npy'), WindowsPath('C:/Users/animeshs/GD/stanford-covid-vaccine/bpps/id_befa440c0.npy'), WindowsPath('C:/Users/animeshs/GD/stanford-covid-vaccine/bpps/id_bf147c4d1.npy'), WindowsPath('C:/Users/animeshs/GD/stanford-covid-vaccine/bpps/id_bf38cbb5f.npy'), WindowsPath('C:/Users/animeshs/GD/stanford-covid-vaccine/bpps/id_bf3a8043d.npy'), WindowsPath('C:/Users/animeshs/GD/stanford-covid-vaccine/bpps/id_bf3af010e.npy'), WindowsPath('C:/Users/animeshs/GD/stanford-covid-vaccine/bpps/id_bf5b8e4f8.npy'), WindowsPath('C:/Users/animeshs/GD/stanford-covid-vaccine/bpps/id_bf629f17a.npy'), WindowsPath('C:/Users/animeshs/GD/stanford-covid-vaccine/bpps/id_bf6945761.npy'), WindowsPath('C:/Users/animeshs/GD/stanford-covid-vaccine/bpps/id_bf726b59e.npy'), WindowsPath('C:/Users/animeshs/GD/stanford-covid-vaccine/bpps/id_bf820765c.npy'), WindowsPath('C:/Users/animeshs/GD/stanford-covid-vaccine/bpps/id_bf90f27a2.npy'), WindowsPath('C:/Users/animeshs/GD/stanford-covid-vaccine/bpps/id_bfa9ee33b.npy'), WindowsPath('C:/Users/animeshs/GD/stanford-covid-vaccine/bpps/id_bfb701b40.npy'), WindowsPath('C:/Users/animeshs/GD/stanford-covid-vaccine/bpps/id_bfd222e98.npy'), WindowsPath('C:/Users/animeshs/GD/stanford-covid-vaccine/bpps/id_bfd6b773f.npy'), WindowsPath('C:/Users/animeshs/GD/stanford-covid-vaccine/bpps/id_bfd802a3a.npy'), WindowsPath('C:/Users/animeshs/GD/stanford-covid-vaccine/bpps/id_bfdfc8db3.npy'), WindowsPath('C:/Users/animeshs/GD/stanford-covid-vaccine/bpps/id_bff023e60.npy'), WindowsPath('C:/Users/animeshs/GD/stanford-covid-vaccine/bpps/id_bff319235.npy'), WindowsPath('C:/Users/animeshs/GD/stanford-covid-vaccine/bpps/id_bff5a371c.npy'), WindowsPath('C:/Users/animeshs/GD/stanford-covid-vaccine/bpps/id_bff8afa81.npy'), WindowsPath('C:/Users/animeshs/GD/stanford-covid-vaccine/bpps/id_bffb09b4a.npy'), WindowsPath('C:/Users/animeshs/GD/stanford-covid-vaccine/bpps/id_c0090f223.npy'), WindowsPath('C:/Users/animeshs/GD/stanford-covid-vaccine/bpps/id_c01fb9b47.npy'), WindowsPath('C:/Users/animeshs/GD/stanford-covid-vaccine/bpps/id_c02eeef67.npy'), WindowsPath('C:/Users/animeshs/GD/stanford-covid-vaccine/bpps/id_c03e77453.npy'), WindowsPath('C:/Users/animeshs/GD/stanford-covid-vaccine/bpps/id_c048a971e.npy'), WindowsPath('C:/Users/animeshs/GD/stanford-covid-vaccine/bpps/id_c049cd16f.npy'), WindowsPath('C:/Users/animeshs/GD/stanford-covid-vaccine/bpps/id_c04c4a118.npy'), WindowsPath('C:/Users/animeshs/GD/stanford-covid-vaccine/bpps/id_c054dcead.npy'), WindowsPath('C:/Users/animeshs/GD/stanford-covid-vaccine/bpps/id_c05586be3.npy'), WindowsPath('C:/Users/animeshs/GD/stanford-covid-vaccine/bpps/id_c05a80765.npy'), WindowsPath('C:/Users/animeshs/GD/stanford-covid-vaccine/bpps/id_c05abb9f9.npy'), WindowsPath('C:/Users/animeshs/GD/stanford-covid-vaccine/bpps/id_c065b5e80.npy'), WindowsPath('C:/Users/animeshs/GD/stanford-covid-vaccine/bpps/id_c06d7fb62.npy'), WindowsPath('C:/Users/animeshs/GD/stanford-covid-vaccine/bpps/id_c0743d8c4.npy'), WindowsPath('C:/Users/animeshs/GD/stanford-covid-vaccine/bpps/id_c07506bc7.npy'), WindowsPath('C:/Users/animeshs/GD/stanford-covid-vaccine/bpps/id_c07da7b45.npy'), WindowsPath('C:/Users/animeshs/GD/stanford-covid-vaccine/bpps/id_c07f26f4e.npy'), WindowsPath('C:/Users/animeshs/GD/stanford-covid-vaccine/bpps/id_c08668a99.npy'), WindowsPath('C:/Users/animeshs/GD/stanford-covid-vaccine/bpps/id_c08e8d5f2.npy'), WindowsPath('C:/Users/animeshs/GD/stanford-covid-vaccine/bpps/id_c09d0c3a9.npy'), WindowsPath('C:/Users/animeshs/GD/stanford-covid-vaccine/bpps/id_c0a082c5e.npy'), WindowsPath('C:/Users/animeshs/GD/stanford-covid-vaccine/bpps/id_c0a766bfa.npy'), WindowsPath('C:/Users/animeshs/GD/stanford-covid-vaccine/bpps/id_c0bf6598e.npy'), WindowsPath('C:/Users/animeshs/GD/stanford-covid-vaccine/bpps/id_c0c0a84c4.npy'), WindowsPath('C:/Users/animeshs/GD/stanford-covid-vaccine/bpps/id_c0d030516.npy'), WindowsPath('C:/Users/animeshs/GD/stanford-covid-vaccine/bpps/id_c0d82ab33.npy'), WindowsPath('C:/Users/animeshs/GD/stanford-covid-vaccine/bpps/id_c0dc08499.npy'), WindowsPath('C:/Users/animeshs/GD/stanford-covid-vaccine/bpps/id_c0dffa298.npy'), WindowsPath('C:/Users/animeshs/GD/stanford-covid-vaccine/bpps/id_c0e299e58.npy'), WindowsPath('C:/Users/animeshs/GD/stanford-covid-vaccine/bpps/id_c0fbf2106.npy'), WindowsPath('C:/Users/animeshs/GD/stanford-covid-vaccine/bpps/id_c126fa6c5.npy'), WindowsPath('C:/Users/animeshs/GD/stanford-covid-vaccine/bpps/id_c14041d68.npy'), WindowsPath('C:/Users/animeshs/GD/stanford-covid-vaccine/bpps/id_c141404bd.npy'), WindowsPath('C:/Users/animeshs/GD/stanford-covid-vaccine/bpps/id_c14225566.npy'), WindowsPath('C:/Users/animeshs/GD/stanford-covid-vaccine/bpps/id_c1468745e.npy'), WindowsPath('C:/Users/animeshs/GD/stanford-covid-vaccine/bpps/id_c14abe160.npy'), WindowsPath('C:/Users/animeshs/GD/stanford-covid-vaccine/bpps/id_c14fc4c1b.npy'), WindowsPath('C:/Users/animeshs/GD/stanford-covid-vaccine/bpps/id_c16a7c5a9.npy'), WindowsPath('C:/Users/animeshs/GD/stanford-covid-vaccine/bpps/id_c1778c83a.npy'), WindowsPath('C:/Users/animeshs/GD/stanford-covid-vaccine/bpps/id_c18e3542a.npy'), WindowsPath('C:/Users/animeshs/GD/stanford-covid-vaccine/bpps/id_c193b0bd4.npy'), WindowsPath('C:/Users/animeshs/GD/stanford-covid-vaccine/bpps/id_c1a7896a5.npy'), WindowsPath('C:/Users/animeshs/GD/stanford-covid-vaccine/bpps/id_c1a9d837b.npy'), WindowsPath('C:/Users/animeshs/GD/stanford-covid-vaccine/bpps/id_c1abd1ac7.npy'), WindowsPath('C:/Users/animeshs/GD/stanford-covid-vaccine/bpps/id_c1acf4368.npy'), WindowsPath('C:/Users/animeshs/GD/stanford-covid-vaccine/bpps/id_c1af8a38d.npy'), WindowsPath('C:/Users/animeshs/GD/stanford-covid-vaccine/bpps/id_c1b77ae55.npy'), WindowsPath('C:/Users/animeshs/GD/stanford-covid-vaccine/bpps/id_c1b9ec473.npy'), WindowsPath('C:/Users/animeshs/GD/stanford-covid-vaccine/bpps/id_c1ca84996.npy'), WindowsPath('C:/Users/animeshs/GD/stanford-covid-vaccine/bpps/id_c1d2b2b12.npy'), WindowsPath('C:/Users/animeshs/GD/stanford-covid-vaccine/bpps/id_c1d712bd9.npy'), WindowsPath('C:/Users/animeshs/GD/stanford-covid-vaccine/bpps/id_c1dd5c35f.npy'), WindowsPath('C:/Users/animeshs/GD/stanford-covid-vaccine/bpps/id_c1f5bee60.npy'), WindowsPath('C:/Users/animeshs/GD/stanford-covid-vaccine/bpps/id_c1fbbc044.npy'), WindowsPath('C:/Users/animeshs/GD/stanford-covid-vaccine/bpps/id_c20134e12.npy'), WindowsPath('C:/Users/animeshs/GD/stanford-covid-vaccine/bpps/id_c2047a02b.npy'), WindowsPath('C:/Users/animeshs/GD/stanford-covid-vaccine/bpps/id_c20744160.npy'), WindowsPath('C:/Users/animeshs/GD/stanford-covid-vaccine/bpps/id_c20e8fc7c.npy'), WindowsPath('C:/Users/animeshs/GD/stanford-covid-vaccine/bpps/id_c21e71457.npy'), WindowsPath('C:/Users/animeshs/GD/stanford-covid-vaccine/bpps/id_c2364d085.npy'), WindowsPath('C:/Users/animeshs/GD/stanford-covid-vaccine/bpps/id_c23b1b230.npy'), WindowsPath('C:/Users/animeshs/GD/stanford-covid-vaccine/bpps/id_c23b20ee0.npy'), WindowsPath('C:/Users/animeshs/GD/stanford-covid-vaccine/bpps/id_c23b66b25.npy'), WindowsPath('C:/Users/animeshs/GD/stanford-covid-vaccine/bpps/id_c24fbb9fa.npy'), WindowsPath('C:/Users/animeshs/GD/stanford-covid-vaccine/bpps/id_c25a357b7.npy'), WindowsPath('C:/Users/animeshs/GD/stanford-covid-vaccine/bpps/id_c26f3537c.npy'), WindowsPath('C:/Users/animeshs/GD/stanford-covid-vaccine/bpps/id_c2700467c.npy'), WindowsPath('C:/Users/animeshs/GD/stanford-covid-vaccine/bpps/id_c272913e0.npy'), WindowsPath('C:/Users/animeshs/GD/stanford-covid-vaccine/bpps/id_c27bf6447.npy'), WindowsPath('C:/Users/animeshs/GD/stanford-covid-vaccine/bpps/id_c2a6df7cc.npy'), WindowsPath('C:/Users/animeshs/GD/stanford-covid-vaccine/bpps/id_c2b3f82d6.npy'), WindowsPath('C:/Users/animeshs/GD/stanford-covid-vaccine/bpps/id_c2b459ece.npy'), WindowsPath('C:/Users/animeshs/GD/stanford-covid-vaccine/bpps/id_c2b69dc43.npy'), WindowsPath('C:/Users/animeshs/GD/stanford-covid-vaccine/bpps/id_c2c17074d.npy'), WindowsPath('C:/Users/animeshs/GD/stanford-covid-vaccine/bpps/id_c2c8305cf.npy'), WindowsPath('C:/Users/animeshs/GD/stanford-covid-vaccine/bpps/id_c2cbccade.npy'), WindowsPath('C:/Users/animeshs/GD/stanford-covid-vaccine/bpps/id_c2cd68b0f.npy'), WindowsPath('C:/Users/animeshs/GD/stanford-covid-vaccine/bpps/id_c2cde566d.npy'), WindowsPath('C:/Users/animeshs/GD/stanford-covid-vaccine/bpps/id_c2ce7ae6a.npy'), WindowsPath('C:/Users/animeshs/GD/stanford-covid-vaccine/bpps/id_c2d9d053a.npy'), WindowsPath('C:/Users/animeshs/GD/stanford-covid-vaccine/bpps/id_c2dd1071a.npy'), WindowsPath('C:/Users/animeshs/GD/stanford-covid-vaccine/bpps/id_c2ec307dc.npy'), WindowsPath('C:/Users/animeshs/GD/stanford-covid-vaccine/bpps/id_c3020eceb.npy'), WindowsPath('C:/Users/animeshs/GD/stanford-covid-vaccine/bpps/id_c30213a0d.npy'), WindowsPath('C:/Users/animeshs/GD/stanford-covid-vaccine/bpps/id_c32898f5d.npy'), WindowsPath('C:/Users/animeshs/GD/stanford-covid-vaccine/bpps/id_c34c7dacb.npy'), WindowsPath('C:/Users/animeshs/GD/stanford-covid-vaccine/bpps/id_c35ed364e.npy'), WindowsPath('C:/Users/animeshs/GD/stanford-covid-vaccine/bpps/id_c3728b078.npy'), WindowsPath('C:/Users/animeshs/GD/stanford-covid-vaccine/bpps/id_c377052cf.npy'), WindowsPath('C:/Users/animeshs/GD/stanford-covid-vaccine/bpps/id_c37ba2363.npy'), WindowsPath('C:/Users/animeshs/GD/stanford-covid-vaccine/bpps/id_c37c72b10.npy'), WindowsPath('C:/Users/animeshs/GD/stanford-covid-vaccine/bpps/id_c3800555d.npy'), WindowsPath('C:/Users/animeshs/GD/stanford-covid-vaccine/bpps/id_c3b28f6b5.npy'), WindowsPath('C:/Users/animeshs/GD/stanford-covid-vaccine/bpps/id_c3c98b715.npy'), WindowsPath('C:/Users/animeshs/GD/stanford-covid-vaccine/bpps/id_c3ce484dc.npy'), WindowsPath('C:/Users/animeshs/GD/stanford-covid-vaccine/bpps/id_c3e4c721e.npy'), WindowsPath('C:/Users/animeshs/GD/stanford-covid-vaccine/bpps/id_c3e97e848.npy'), WindowsPath('C:/Users/animeshs/GD/stanford-covid-vaccine/bpps/id_c3eacc17f.npy'), WindowsPath('C:/Users/animeshs/GD/stanford-covid-vaccine/bpps/id_c3ee2ff58.npy'), WindowsPath('C:/Users/animeshs/GD/stanford-covid-vaccine/bpps/id_c4058d170.npy'), WindowsPath('C:/Users/animeshs/GD/stanford-covid-vaccine/bpps/id_c428aeca5.npy'), WindowsPath('C:/Users/animeshs/GD/stanford-covid-vaccine/bpps/id_c42b6071b.npy'), WindowsPath('C:/Users/animeshs/GD/stanford-covid-vaccine/bpps/id_c44431d09.npy'), WindowsPath('C:/Users/animeshs/GD/stanford-covid-vaccine/bpps/id_c44a351dc.npy'), WindowsPath('C:/Users/animeshs/GD/stanford-covid-vaccine/bpps/id_c44c41e4f.npy'), WindowsPath('C:/Users/animeshs/GD/stanford-covid-vaccine/bpps/id_c4628591e.npy'), WindowsPath('C:/Users/animeshs/GD/stanford-covid-vaccine/bpps/id_c46a85d91.npy'), WindowsPath('C:/Users/animeshs/GD/stanford-covid-vaccine/bpps/id_c46e37c33.npy'), WindowsPath('C:/Users/animeshs/GD/stanford-covid-vaccine/bpps/id_c48efd4a5.npy'), WindowsPath('C:/Users/animeshs/GD/stanford-covid-vaccine/bpps/id_c499a6050.npy'), WindowsPath('C:/Users/animeshs/GD/stanford-covid-vaccine/bpps/id_c49ea53be.npy'), WindowsPath('C:/Users/animeshs/GD/stanford-covid-vaccine/bpps/id_c4a698c05.npy'), WindowsPath('C:/Users/animeshs/GD/stanford-covid-vaccine/bpps/id_c4ab30afb.npy'), WindowsPath('C:/Users/animeshs/GD/stanford-covid-vaccine/bpps/id_c4ae7c5f7.npy'), WindowsPath('C:/Users/animeshs/GD/stanford-covid-vaccine/bpps/id_c4c5f181a.npy'), WindowsPath('C:/Users/animeshs/GD/stanford-covid-vaccine/bpps/id_c4c77ed5b.npy'), WindowsPath('C:/Users/animeshs/GD/stanford-covid-vaccine/bpps/id_c4c8b15ee.npy'), WindowsPath('C:/Users/animeshs/GD/stanford-covid-vaccine/bpps/id_c4e82f46d.npy'), WindowsPath('C:/Users/animeshs/GD/stanford-covid-vaccine/bpps/id_c4ef8e1a2.npy'), WindowsPath('C:/Users/animeshs/GD/stanford-covid-vaccine/bpps/id_c4f0b9781.npy'), WindowsPath('C:/Users/animeshs/GD/stanford-covid-vaccine/bpps/id_c4fefdb77.npy'), WindowsPath('C:/Users/animeshs/GD/stanford-covid-vaccine/bpps/id_c52e3853d.npy'), WindowsPath('C:/Users/animeshs/GD/stanford-covid-vaccine/bpps/id_c5309dc8e.npy'), WindowsPath('C:/Users/animeshs/GD/stanford-covid-vaccine/bpps/id_c53e485d8.npy'), WindowsPath('C:/Users/animeshs/GD/stanford-covid-vaccine/bpps/id_c544872cd.npy'), WindowsPath('C:/Users/animeshs/GD/stanford-covid-vaccine/bpps/id_c54853411.npy'), WindowsPath('C:/Users/animeshs/GD/stanford-covid-vaccine/bpps/id_c56d6fdec.npy'), WindowsPath('C:/Users/animeshs/GD/stanford-covid-vaccine/bpps/id_c573aa16f.npy'), WindowsPath('C:/Users/animeshs/GD/stanford-covid-vaccine/bpps/id_c578ec469.npy'), WindowsPath('C:/Users/animeshs/GD/stanford-covid-vaccine/bpps/id_c579d7f22.npy'), WindowsPath('C:/Users/animeshs/GD/stanford-covid-vaccine/bpps/id_c5993eccf.npy'), WindowsPath('C:/Users/animeshs/GD/stanford-covid-vaccine/bpps/id_c59cf4ac9.npy'), WindowsPath('C:/Users/animeshs/GD/stanford-covid-vaccine/bpps/id_c5af92e83.npy'), WindowsPath('C:/Users/animeshs/GD/stanford-covid-vaccine/bpps/id_c5b485752.npy'), WindowsPath('C:/Users/animeshs/GD/stanford-covid-vaccine/bpps/id_c5bbb3b29.npy'), WindowsPath('C:/Users/animeshs/GD/stanford-covid-vaccine/bpps/id_c5bbbbdbb.npy'), WindowsPath('C:/Users/animeshs/GD/stanford-covid-vaccine/bpps/id_c5c162460.npy'), WindowsPath('C:/Users/animeshs/GD/stanford-covid-vaccine/bpps/id_c5d2bd079.npy'), WindowsPath('C:/Users/animeshs/GD/stanford-covid-vaccine/bpps/id_c5d6760a2.npy'), WindowsPath('C:/Users/animeshs/GD/stanford-covid-vaccine/bpps/id_c5de72257.npy'), WindowsPath('C:/Users/animeshs/GD/stanford-covid-vaccine/bpps/id_c5e79dcb9.npy'), WindowsPath('C:/Users/animeshs/GD/stanford-covid-vaccine/bpps/id_c5ebc9e24.npy'), WindowsPath('C:/Users/animeshs/GD/stanford-covid-vaccine/bpps/id_c5f018c91.npy'), WindowsPath('C:/Users/animeshs/GD/stanford-covid-vaccine/bpps/id_c5f042c9c.npy'), WindowsPath('C:/Users/animeshs/GD/stanford-covid-vaccine/bpps/id_c5f8111d6.npy'), WindowsPath('C:/Users/animeshs/GD/stanford-covid-vaccine/bpps/id_c6034fa8c.npy'), WindowsPath('C:/Users/animeshs/GD/stanford-covid-vaccine/bpps/id_c608f98d9.npy'), WindowsPath('C:/Users/animeshs/GD/stanford-covid-vaccine/bpps/id_c61a7767c.npy'), WindowsPath('C:/Users/animeshs/GD/stanford-covid-vaccine/bpps/id_c63df258e.npy'), WindowsPath('C:/Users/animeshs/GD/stanford-covid-vaccine/bpps/id_c678fefe7.npy'), WindowsPath('C:/Users/animeshs/GD/stanford-covid-vaccine/bpps/id_c67ad77eb.npy'), WindowsPath('C:/Users/animeshs/GD/stanford-covid-vaccine/bpps/id_c67fad48d.npy'), WindowsPath('C:/Users/animeshs/GD/stanford-covid-vaccine/bpps/id_c68040752.npy'), WindowsPath('C:/Users/animeshs/GD/stanford-covid-vaccine/bpps/id_c6b1ffaeb.npy'), WindowsPath('C:/Users/animeshs/GD/stanford-covid-vaccine/bpps/id_c6b70d44c.npy'), WindowsPath('C:/Users/animeshs/GD/stanford-covid-vaccine/bpps/id_c6b7184e1.npy'), WindowsPath('C:/Users/animeshs/GD/stanford-covid-vaccine/bpps/id_c6bbf904a.npy'), WindowsPath('C:/Users/animeshs/GD/stanford-covid-vaccine/bpps/id_c6c1b118e.npy'), WindowsPath('C:/Users/animeshs/GD/stanford-covid-vaccine/bpps/id_c6c1c4c40.npy'), WindowsPath('C:/Users/animeshs/GD/stanford-covid-vaccine/bpps/id_c6c6a7d33.npy'), WindowsPath('C:/Users/animeshs/GD/stanford-covid-vaccine/bpps/id_c6cec1866.npy'), WindowsPath('C:/Users/animeshs/GD/stanford-covid-vaccine/bpps/id_c6d03c266.npy'), WindowsPath('C:/Users/animeshs/GD/stanford-covid-vaccine/bpps/id_c6d07b0b1.npy'), WindowsPath('C:/Users/animeshs/GD/stanford-covid-vaccine/bpps/id_c6d202bb6.npy'), WindowsPath('C:/Users/animeshs/GD/stanford-covid-vaccine/bpps/id_c6e49c503.npy'), WindowsPath('C:/Users/animeshs/GD/stanford-covid-vaccine/bpps/id_c6f92ecb3.npy'), WindowsPath('C:/Users/animeshs/GD/stanford-covid-vaccine/bpps/id_c7141fa83.npy'), WindowsPath('C:/Users/animeshs/GD/stanford-covid-vaccine/bpps/id_c71ec2c74.npy'), WindowsPath('C:/Users/animeshs/GD/stanford-covid-vaccine/bpps/id_c72464ba4.npy'), WindowsPath('C:/Users/animeshs/GD/stanford-covid-vaccine/bpps/id_c725ed0e9.npy'), WindowsPath('C:/Users/animeshs/GD/stanford-covid-vaccine/bpps/id_c7290e4c3.npy'), WindowsPath('C:/Users/animeshs/GD/stanford-covid-vaccine/bpps/id_c72df99c0.npy'), WindowsPath('C:/Users/animeshs/GD/stanford-covid-vaccine/bpps/id_c734c0d6b.npy'), WindowsPath('C:/Users/animeshs/GD/stanford-covid-vaccine/bpps/id_c739ea3bf.npy'), WindowsPath('C:/Users/animeshs/GD/stanford-covid-vaccine/bpps/id_c73e2e314.npy'), WindowsPath('C:/Users/animeshs/GD/stanford-covid-vaccine/bpps/id_c73f82b3c.npy'), WindowsPath('C:/Users/animeshs/GD/stanford-covid-vaccine/bpps/id_c747b68f1.npy'), WindowsPath('C:/Users/animeshs/GD/stanford-covid-vaccine/bpps/id_c74b01c1f.npy'), WindowsPath('C:/Users/animeshs/GD/stanford-covid-vaccine/bpps/id_c75bfee93.npy'), WindowsPath('C:/Users/animeshs/GD/stanford-covid-vaccine/bpps/id_c7686b3f9.npy'), WindowsPath('C:/Users/animeshs/GD/stanford-covid-vaccine/bpps/id_c7812374e.npy'), WindowsPath('C:/Users/animeshs/GD/stanford-covid-vaccine/bpps/id_c795cd0d6.npy'), WindowsPath('C:/Users/animeshs/GD/stanford-covid-vaccine/bpps/id_c7970a1ee.npy'), WindowsPath('C:/Users/animeshs/GD/stanford-covid-vaccine/bpps/id_c79aa964a.npy'), WindowsPath('C:/Users/animeshs/GD/stanford-covid-vaccine/bpps/id_c79fad927.npy'), WindowsPath('C:/Users/animeshs/GD/stanford-covid-vaccine/bpps/id_c7a300e13.npy'), WindowsPath('C:/Users/animeshs/GD/stanford-covid-vaccine/bpps/id_c7ad8bb49.npy'), WindowsPath('C:/Users/animeshs/GD/stanford-covid-vaccine/bpps/id_c7b10e16d.npy'), WindowsPath('C:/Users/animeshs/GD/stanford-covid-vaccine/bpps/id_c7e12ae5a.npy'), WindowsPath('C:/Users/animeshs/GD/stanford-covid-vaccine/bpps/id_c7e70795c.npy'), WindowsPath('C:/Users/animeshs/GD/stanford-covid-vaccine/bpps/id_c7e9b2173.npy'), WindowsPath('C:/Users/animeshs/GD/stanford-covid-vaccine/bpps/id_c7f1638fd.npy'), WindowsPath('C:/Users/animeshs/GD/stanford-covid-vaccine/bpps/id_c7f36d48e.npy'), WindowsPath('C:/Users/animeshs/GD/stanford-covid-vaccine/bpps/id_c7f63c52f.npy'), WindowsPath('C:/Users/animeshs/GD/stanford-covid-vaccine/bpps/id_c7fe2c407.npy'), WindowsPath('C:/Users/animeshs/GD/stanford-covid-vaccine/bpps/id_c808854eb.npy'), WindowsPath('C:/Users/animeshs/GD/stanford-covid-vaccine/bpps/id_c81015750.npy'), WindowsPath('C:/Users/animeshs/GD/stanford-covid-vaccine/bpps/id_c811f6a9d.npy'), WindowsPath('C:/Users/animeshs/GD/stanford-covid-vaccine/bpps/id_c817f5db7.npy'), WindowsPath('C:/Users/animeshs/GD/stanford-covid-vaccine/bpps/id_c824b643c.npy'), WindowsPath('C:/Users/animeshs/GD/stanford-covid-vaccine/bpps/id_c824c98a7.npy'), WindowsPath('C:/Users/animeshs/GD/stanford-covid-vaccine/bpps/id_c825c4bf8.npy'), WindowsPath('C:/Users/animeshs/GD/stanford-covid-vaccine/bpps/id_c8297a591.npy'), WindowsPath('C:/Users/animeshs/GD/stanford-covid-vaccine/bpps/id_c82e15426.npy'), WindowsPath('C:/Users/animeshs/GD/stanford-covid-vaccine/bpps/id_c8326c7e4.npy'), WindowsPath('C:/Users/animeshs/GD/stanford-covid-vaccine/bpps/id_c84bb5315.npy'), WindowsPath('C:/Users/animeshs/GD/stanford-covid-vaccine/bpps/id_c84e11cca.npy'), WindowsPath('C:/Users/animeshs/GD/stanford-covid-vaccine/bpps/id_c85039a1e.npy'), WindowsPath('C:/Users/animeshs/GD/stanford-covid-vaccine/bpps/id_c85572cfe.npy'), WindowsPath('C:/Users/animeshs/GD/stanford-covid-vaccine/bpps/id_c85731665.npy'), WindowsPath('C:/Users/animeshs/GD/stanford-covid-vaccine/bpps/id_c8866cf33.npy'), WindowsPath('C:/Users/animeshs/GD/stanford-covid-vaccine/bpps/id_c88d1092f.npy'), WindowsPath('C:/Users/animeshs/GD/stanford-covid-vaccine/bpps/id_c89b62fe2.npy'), WindowsPath('C:/Users/animeshs/GD/stanford-covid-vaccine/bpps/id_c89c5c313.npy'), WindowsPath('C:/Users/animeshs/GD/stanford-covid-vaccine/bpps/id_c8a2772f9.npy'), WindowsPath('C:/Users/animeshs/GD/stanford-covid-vaccine/bpps/id_c8b8bc5e7.npy'), WindowsPath('C:/Users/animeshs/GD/stanford-covid-vaccine/bpps/id_c8c07c4c9.npy'), WindowsPath('C:/Users/animeshs/GD/stanford-covid-vaccine/bpps/id_c8c64b7e3.npy'), WindowsPath('C:/Users/animeshs/GD/stanford-covid-vaccine/bpps/id_c8d1eb243.npy'), WindowsPath('C:/Users/animeshs/GD/stanford-covid-vaccine/bpps/id_c8d3d2483.npy'), WindowsPath('C:/Users/animeshs/GD/stanford-covid-vaccine/bpps/id_c8d7d6cf4.npy'), WindowsPath('C:/Users/animeshs/GD/stanford-covid-vaccine/bpps/id_c8dbd756f.npy'), WindowsPath('C:/Users/animeshs/GD/stanford-covid-vaccine/bpps/id_c8e638ed3.npy'), WindowsPath('C:/Users/animeshs/GD/stanford-covid-vaccine/bpps/id_c90fab325.npy'), WindowsPath('C:/Users/animeshs/GD/stanford-covid-vaccine/bpps/id_c92391b3d.npy'), WindowsPath('C:/Users/animeshs/GD/stanford-covid-vaccine/bpps/id_c926d70a9.npy'), WindowsPath('C:/Users/animeshs/GD/stanford-covid-vaccine/bpps/id_c92724ae5.npy'), WindowsPath('C:/Users/animeshs/GD/stanford-covid-vaccine/bpps/id_c92a472bc.npy'), WindowsPath('C:/Users/animeshs/GD/stanford-covid-vaccine/bpps/id_c92cd5377.npy'), WindowsPath('C:/Users/animeshs/GD/stanford-covid-vaccine/bpps/id_c94424d05.npy'), WindowsPath('C:/Users/animeshs/GD/stanford-covid-vaccine/bpps/id_c95866103.npy'), WindowsPath('C:/Users/animeshs/GD/stanford-covid-vaccine/bpps/id_c95b4f2e1.npy'), WindowsPath('C:/Users/animeshs/GD/stanford-covid-vaccine/bpps/id_c96138170.npy'), WindowsPath('C:/Users/animeshs/GD/stanford-covid-vaccine/bpps/id_c97223820.npy'), WindowsPath('C:/Users/animeshs/GD/stanford-covid-vaccine/bpps/id_c9754c6a3.npy'), WindowsPath('C:/Users/animeshs/GD/stanford-covid-vaccine/bpps/id_c98091edd.npy'), WindowsPath('C:/Users/animeshs/GD/stanford-covid-vaccine/bpps/id_c9827c021.npy'), WindowsPath('C:/Users/animeshs/GD/stanford-covid-vaccine/bpps/id_c9829d47d.npy'), WindowsPath('C:/Users/animeshs/GD/stanford-covid-vaccine/bpps/id_c984e49a4.npy'), WindowsPath('C:/Users/animeshs/GD/stanford-covid-vaccine/bpps/id_c99ee268c.npy'), WindowsPath('C:/Users/animeshs/GD/stanford-covid-vaccine/bpps/id_c99f7b153.npy'), WindowsPath('C:/Users/animeshs/GD/stanford-covid-vaccine/bpps/id_c9a3d3fd1.npy'), WindowsPath('C:/Users/animeshs/GD/stanford-covid-vaccine/bpps/id_c9aafe980.npy'), WindowsPath('C:/Users/animeshs/GD/stanford-covid-vaccine/bpps/id_c9c063a89.npy'), WindowsPath('C:/Users/animeshs/GD/stanford-covid-vaccine/bpps/id_c9c0c59c3.npy'), WindowsPath('C:/Users/animeshs/GD/stanford-covid-vaccine/bpps/id_c9c4e3a2c.npy'), WindowsPath('C:/Users/animeshs/GD/stanford-covid-vaccine/bpps/id_c9cf2b80d.npy'), WindowsPath('C:/Users/animeshs/GD/stanford-covid-vaccine/bpps/id_c9d3dea29.npy'), WindowsPath('C:/Users/animeshs/GD/stanford-covid-vaccine/bpps/id_c9d7dde32.npy'), WindowsPath('C:/Users/animeshs/GD/stanford-covid-vaccine/bpps/id_c9d8c9fb2.npy'), WindowsPath('C:/Users/animeshs/GD/stanford-covid-vaccine/bpps/id_c9da1dd4e.npy'), WindowsPath('C:/Users/animeshs/GD/stanford-covid-vaccine/bpps/id_c9dd539b3.npy'), WindowsPath('C:/Users/animeshs/GD/stanford-covid-vaccine/bpps/id_c9e14c453.npy'), WindowsPath('C:/Users/animeshs/GD/stanford-covid-vaccine/bpps/id_c9e8fc7ca.npy'), WindowsPath('C:/Users/animeshs/GD/stanford-covid-vaccine/bpps/id_c9f19becd.npy'), WindowsPath('C:/Users/animeshs/GD/stanford-covid-vaccine/bpps/id_ca04a5074.npy'), WindowsPath('C:/Users/animeshs/GD/stanford-covid-vaccine/bpps/id_ca067c74c.npy'), WindowsPath('C:/Users/animeshs/GD/stanford-covid-vaccine/bpps/id_ca0708c4e.npy'), WindowsPath('C:/Users/animeshs/GD/stanford-covid-vaccine/bpps/id_ca0c55c7a.npy'), WindowsPath('C:/Users/animeshs/GD/stanford-covid-vaccine/bpps/id_ca162ea40.npy'), WindowsPath('C:/Users/animeshs/GD/stanford-covid-vaccine/bpps/id_ca213da94.npy'), WindowsPath('C:/Users/animeshs/GD/stanford-covid-vaccine/bpps/id_ca269c787.npy'), WindowsPath('C:/Users/animeshs/GD/stanford-covid-vaccine/bpps/id_ca28d582a.npy'), WindowsPath('C:/Users/animeshs/GD/stanford-covid-vaccine/bpps/id_ca34296f6.npy'), WindowsPath('C:/Users/animeshs/GD/stanford-covid-vaccine/bpps/id_ca3e4283a.npy'), WindowsPath('C:/Users/animeshs/GD/stanford-covid-vaccine/bpps/id_ca4ed997e.npy'), WindowsPath('C:/Users/animeshs/GD/stanford-covid-vaccine/bpps/id_ca509cada.npy'), WindowsPath('C:/Users/animeshs/GD/stanford-covid-vaccine/bpps/id_ca5960eb4.npy'), WindowsPath('C:/Users/animeshs/GD/stanford-covid-vaccine/bpps/id_ca6c4da32.npy'), WindowsPath('C:/Users/animeshs/GD/stanford-covid-vaccine/bpps/id_ca6d13e89.npy'), WindowsPath('C:/Users/animeshs/GD/stanford-covid-vaccine/bpps/id_ca7973cce.npy'), WindowsPath('C:/Users/animeshs/GD/stanford-covid-vaccine/bpps/id_ca88bcaf4.npy'), WindowsPath('C:/Users/animeshs/GD/stanford-covid-vaccine/bpps/id_ca8c5b2f2.npy'), WindowsPath('C:/Users/animeshs/GD/stanford-covid-vaccine/bpps/id_ca929d5d5.npy'), WindowsPath('C:/Users/animeshs/GD/stanford-covid-vaccine/bpps/id_caa5e5e4d.npy'), WindowsPath('C:/Users/animeshs/GD/stanford-covid-vaccine/bpps/id_caaf3d29a.npy'), WindowsPath('C:/Users/animeshs/GD/stanford-covid-vaccine/bpps/id_cab4a5e78.npy'), WindowsPath('C:/Users/animeshs/GD/stanford-covid-vaccine/bpps/id_cab6bcdbd.npy'), WindowsPath('C:/Users/animeshs/GD/stanford-covid-vaccine/bpps/id_cacd25a15.npy'), WindowsPath('C:/Users/animeshs/GD/stanford-covid-vaccine/bpps/id_cae3626a2.npy'), WindowsPath('C:/Users/animeshs/GD/stanford-covid-vaccine/bpps/id_caeeade47.npy'), WindowsPath('C:/Users/animeshs/GD/stanford-covid-vaccine/bpps/id_caf1d9a04.npy'), WindowsPath('C:/Users/animeshs/GD/stanford-covid-vaccine/bpps/id_caf4ccba9.npy'), WindowsPath('C:/Users/animeshs/GD/stanford-covid-vaccine/bpps/id_cafe23601.npy'), WindowsPath('C:/Users/animeshs/GD/stanford-covid-vaccine/bpps/id_cb06d29c0.npy'), WindowsPath('C:/Users/animeshs/GD/stanford-covid-vaccine/bpps/id_cb0fb3531.npy'), WindowsPath('C:/Users/animeshs/GD/stanford-covid-vaccine/bpps/id_cb115840c.npy'), WindowsPath('C:/Users/animeshs/GD/stanford-covid-vaccine/bpps/id_cb1fdda3d.npy'), WindowsPath('C:/Users/animeshs/GD/stanford-covid-vaccine/bpps/id_cb45a6206.npy'), WindowsPath('C:/Users/animeshs/GD/stanford-covid-vaccine/bpps/id_cb4f6c691.npy'), WindowsPath('C:/Users/animeshs/GD/stanford-covid-vaccine/bpps/id_cb55a133d.npy'), WindowsPath('C:/Users/animeshs/GD/stanford-covid-vaccine/bpps/id_cb650799f.npy'), WindowsPath('C:/Users/animeshs/GD/stanford-covid-vaccine/bpps/id_cb6c30425.npy'), WindowsPath('C:/Users/animeshs/GD/stanford-covid-vaccine/bpps/id_cb7525096.npy'), WindowsPath('C:/Users/animeshs/GD/stanford-covid-vaccine/bpps/id_cb849c8b8.npy'), WindowsPath('C:/Users/animeshs/GD/stanford-covid-vaccine/bpps/id_cba165aee.npy'), WindowsPath('C:/Users/animeshs/GD/stanford-covid-vaccine/bpps/id_cba8c8d5a.npy'), WindowsPath('C:/Users/animeshs/GD/stanford-covid-vaccine/bpps/id_cba9de8aa.npy'), WindowsPath('C:/Users/animeshs/GD/stanford-covid-vaccine/bpps/id_cbab7af6e.npy'), WindowsPath('C:/Users/animeshs/GD/stanford-covid-vaccine/bpps/id_cbacbbb10.npy'), WindowsPath('C:/Users/animeshs/GD/stanford-covid-vaccine/bpps/id_cbadcaddd.npy'), WindowsPath('C:/Users/animeshs/GD/stanford-covid-vaccine/bpps/id_cbb0b9455.npy'), WindowsPath('C:/Users/animeshs/GD/stanford-covid-vaccine/bpps/id_cbb108354.npy'), WindowsPath('C:/Users/animeshs/GD/stanford-covid-vaccine/bpps/id_cbb5ee136.npy'), WindowsPath('C:/Users/animeshs/GD/stanford-covid-vaccine/bpps/id_cbcf32e80.npy'), WindowsPath('C:/Users/animeshs/GD/stanford-covid-vaccine/bpps/id_cbcf4c298.npy'), WindowsPath('C:/Users/animeshs/GD/stanford-covid-vaccine/bpps/id_cbdd404e8.npy'), WindowsPath('C:/Users/animeshs/GD/stanford-covid-vaccine/bpps/id_cbdde8f92.npy'), WindowsPath('C:/Users/animeshs/GD/stanford-covid-vaccine/bpps/id_cbff4bd90.npy'), WindowsPath('C:/Users/animeshs/GD/stanford-covid-vaccine/bpps/id_cc08b2cdc.npy'), WindowsPath('C:/Users/animeshs/GD/stanford-covid-vaccine/bpps/id_cc165d70e.npy'), WindowsPath('C:/Users/animeshs/GD/stanford-covid-vaccine/bpps/id_cc23d7216.npy'), WindowsPath('C:/Users/animeshs/GD/stanford-covid-vaccine/bpps/id_cc314d41a.npy'), WindowsPath('C:/Users/animeshs/GD/stanford-covid-vaccine/bpps/id_cc433520d.npy'), WindowsPath('C:/Users/animeshs/GD/stanford-covid-vaccine/bpps/id_cc44c1078.npy'), WindowsPath('C:/Users/animeshs/GD/stanford-covid-vaccine/bpps/id_cc44e4406.npy'), WindowsPath('C:/Users/animeshs/GD/stanford-covid-vaccine/bpps/id_cc46fd080.npy'), WindowsPath('C:/Users/animeshs/GD/stanford-covid-vaccine/bpps/id_cc4a0367d.npy'), WindowsPath('C:/Users/animeshs/GD/stanford-covid-vaccine/bpps/id_cc5720652.npy'), WindowsPath('C:/Users/animeshs/GD/stanford-covid-vaccine/bpps/id_cc85ac9b1.npy'), WindowsPath('C:/Users/animeshs/GD/stanford-covid-vaccine/bpps/id_ccb0ccd8a.npy'), WindowsPath('C:/Users/animeshs/GD/stanford-covid-vaccine/bpps/id_ccba0c924.npy'), WindowsPath('C:/Users/animeshs/GD/stanford-covid-vaccine/bpps/id_ccbf1de7d.npy'), WindowsPath('C:/Users/animeshs/GD/stanford-covid-vaccine/bpps/id_ccd3a1ccc.npy'), WindowsPath('C:/Users/animeshs/GD/stanford-covid-vaccine/bpps/id_cce2d1a1c.npy'), WindowsPath('C:/Users/animeshs/GD/stanford-covid-vaccine/bpps/id_cce855ce2.npy'), WindowsPath('C:/Users/animeshs/GD/stanford-covid-vaccine/bpps/id_ccf9d6822.npy'), WindowsPath('C:/Users/animeshs/GD/stanford-covid-vaccine/bpps/id_ccff5a326.npy'), WindowsPath('C:/Users/animeshs/GD/stanford-covid-vaccine/bpps/id_cd074c168.npy'), WindowsPath('C:/Users/animeshs/GD/stanford-covid-vaccine/bpps/id_cd091b3be.npy'), WindowsPath('C:/Users/animeshs/GD/stanford-covid-vaccine/bpps/id_cd0a8b392.npy'), WindowsPath('C:/Users/animeshs/GD/stanford-covid-vaccine/bpps/id_cd116efd5.npy'), WindowsPath('C:/Users/animeshs/GD/stanford-covid-vaccine/bpps/id_cd139c792.npy'), WindowsPath('C:/Users/animeshs/GD/stanford-covid-vaccine/bpps/id_cd1cf287f.npy'), WindowsPath('C:/Users/animeshs/GD/stanford-covid-vaccine/bpps/id_cd294f2f4.npy'), WindowsPath('C:/Users/animeshs/GD/stanford-covid-vaccine/bpps/id_cd4bf7130.npy'), WindowsPath('C:/Users/animeshs/GD/stanford-covid-vaccine/bpps/id_cd6e3a2a6.npy'), WindowsPath('C:/Users/animeshs/GD/stanford-covid-vaccine/bpps/id_cd817d365.npy'), WindowsPath('C:/Users/animeshs/GD/stanford-covid-vaccine/bpps/id_cd821844f.npy'), WindowsPath('C:/Users/animeshs/GD/stanford-covid-vaccine/bpps/id_cd9b90914.npy'), WindowsPath('C:/Users/animeshs/GD/stanford-covid-vaccine/bpps/id_cdbb4c4c5.npy'), WindowsPath('C:/Users/animeshs/GD/stanford-covid-vaccine/bpps/id_cdbcb5a7b.npy'), WindowsPath('C:/Users/animeshs/GD/stanford-covid-vaccine/bpps/id_cdbe072bd.npy'), WindowsPath('C:/Users/animeshs/GD/stanford-covid-vaccine/bpps/id_cdc117fd0.npy'), WindowsPath('C:/Users/animeshs/GD/stanford-covid-vaccine/bpps/id_cdc2865dc.npy'), WindowsPath('C:/Users/animeshs/GD/stanford-covid-vaccine/bpps/id_cdd804ea7.npy'), WindowsPath('C:/Users/animeshs/GD/stanford-covid-vaccine/bpps/id_cdda806ad.npy'), WindowsPath('C:/Users/animeshs/GD/stanford-covid-vaccine/bpps/id_cddc0efe3.npy'), WindowsPath('C:/Users/animeshs/GD/stanford-covid-vaccine/bpps/id_cddf0ba58.npy'), WindowsPath('C:/Users/animeshs/GD/stanford-covid-vaccine/bpps/id_cddfe9f7a.npy'), WindowsPath('C:/Users/animeshs/GD/stanford-covid-vaccine/bpps/id_cde6d69c3.npy'), WindowsPath('C:/Users/animeshs/GD/stanford-covid-vaccine/bpps/id_cde7f811b.npy'), WindowsPath('C:/Users/animeshs/GD/stanford-covid-vaccine/bpps/id_cdeca81a7.npy'), WindowsPath('C:/Users/animeshs/GD/stanford-covid-vaccine/bpps/id_cdfa987e8.npy'), WindowsPath('C:/Users/animeshs/GD/stanford-covid-vaccine/bpps/id_ce01a6a50.npy'), WindowsPath('C:/Users/animeshs/GD/stanford-covid-vaccine/bpps/id_ce041350d.npy'), WindowsPath('C:/Users/animeshs/GD/stanford-covid-vaccine/bpps/id_ce0733413.npy'), WindowsPath('C:/Users/animeshs/GD/stanford-covid-vaccine/bpps/id_ce0dcf1ac.npy'), WindowsPath('C:/Users/animeshs/GD/stanford-covid-vaccine/bpps/id_ce17f7652.npy'), WindowsPath('C:/Users/animeshs/GD/stanford-covid-vaccine/bpps/id_ce28d0c68.npy'), WindowsPath('C:/Users/animeshs/GD/stanford-covid-vaccine/bpps/id_ce2babe59.npy'), WindowsPath('C:/Users/animeshs/GD/stanford-covid-vaccine/bpps/id_ce2c7d86e.npy'), WindowsPath('C:/Users/animeshs/GD/stanford-covid-vaccine/bpps/id_ce38c9cf5.npy'), WindowsPath('C:/Users/animeshs/GD/stanford-covid-vaccine/bpps/id_ce3a55e44.npy'), WindowsPath('C:/Users/animeshs/GD/stanford-covid-vaccine/bpps/id_ce495d735.npy'), WindowsPath('C:/Users/animeshs/GD/stanford-covid-vaccine/bpps/id_ce49f0eee.npy'), WindowsPath('C:/Users/animeshs/GD/stanford-covid-vaccine/bpps/id_ce4ceb8e3.npy'), WindowsPath('C:/Users/animeshs/GD/stanford-covid-vaccine/bpps/id_ce5bb4d65.npy'), WindowsPath('C:/Users/animeshs/GD/stanford-covid-vaccine/bpps/id_ce740603a.npy'), WindowsPath('C:/Users/animeshs/GD/stanford-covid-vaccine/bpps/id_ce7cab574.npy'), WindowsPath('C:/Users/animeshs/GD/stanford-covid-vaccine/bpps/id_ce7d0cef1.npy'), WindowsPath('C:/Users/animeshs/GD/stanford-covid-vaccine/bpps/id_ce82fe9fc.npy'), WindowsPath('C:/Users/animeshs/GD/stanford-covid-vaccine/bpps/id_ce8adba7b.npy'), WindowsPath('C:/Users/animeshs/GD/stanford-covid-vaccine/bpps/id_ce9a02917.npy'), WindowsPath('C:/Users/animeshs/GD/stanford-covid-vaccine/bpps/id_cea87c0bc.npy'), WindowsPath('C:/Users/animeshs/GD/stanford-covid-vaccine/bpps/id_ceba21339.npy'), WindowsPath('C:/Users/animeshs/GD/stanford-covid-vaccine/bpps/id_cec70e664.npy'), WindowsPath('C:/Users/animeshs/GD/stanford-covid-vaccine/bpps/id_cee7cea81.npy'), WindowsPath('C:/Users/animeshs/GD/stanford-covid-vaccine/bpps/id_cee89cdd0.npy'), WindowsPath('C:/Users/animeshs/GD/stanford-covid-vaccine/bpps/id_cef3c9df8.npy'), WindowsPath('C:/Users/animeshs/GD/stanford-covid-vaccine/bpps/id_cefb086da.npy'), WindowsPath('C:/Users/animeshs/GD/stanford-covid-vaccine/bpps/id_cf1087c57.npy'), WindowsPath('C:/Users/animeshs/GD/stanford-covid-vaccine/bpps/id_cf2473142.npy'), WindowsPath('C:/Users/animeshs/GD/stanford-covid-vaccine/bpps/id_cf2ad06f0.npy'), WindowsPath('C:/Users/animeshs/GD/stanford-covid-vaccine/bpps/id_cf2c5299b.npy'), WindowsPath('C:/Users/animeshs/GD/stanford-covid-vaccine/bpps/id_cf307ff14.npy'), WindowsPath('C:/Users/animeshs/GD/stanford-covid-vaccine/bpps/id_cf54440fb.npy'), WindowsPath('C:/Users/animeshs/GD/stanford-covid-vaccine/bpps/id_cf5e9bc97.npy'), WindowsPath('C:/Users/animeshs/GD/stanford-covid-vaccine/bpps/id_cf66166e5.npy'), WindowsPath('C:/Users/animeshs/GD/stanford-covid-vaccine/bpps/id_cf681a2de.npy'), WindowsPath('C:/Users/animeshs/GD/stanford-covid-vaccine/bpps/id_cf6844d7a.npy'), WindowsPath('C:/Users/animeshs/GD/stanford-covid-vaccine/bpps/id_cf714c53f.npy'), WindowsPath('C:/Users/animeshs/GD/stanford-covid-vaccine/bpps/id_cf7180772.npy'), WindowsPath('C:/Users/animeshs/GD/stanford-covid-vaccine/bpps/id_cf76340fd.npy'), WindowsPath('C:/Users/animeshs/GD/stanford-covid-vaccine/bpps/id_cf7daba11.npy'), WindowsPath('C:/Users/animeshs/GD/stanford-covid-vaccine/bpps/id_cf84c3947.npy'), WindowsPath('C:/Users/animeshs/GD/stanford-covid-vaccine/bpps/id_cf87655f3.npy'), WindowsPath('C:/Users/animeshs/GD/stanford-covid-vaccine/bpps/id_cf9212b98.npy'), WindowsPath('C:/Users/animeshs/GD/stanford-covid-vaccine/bpps/id_cfa43a4b1.npy'), WindowsPath('C:/Users/animeshs/GD/stanford-covid-vaccine/bpps/id_cfa83f9b2.npy'), WindowsPath('C:/Users/animeshs/GD/stanford-covid-vaccine/bpps/id_cfbab3322.npy'), WindowsPath('C:/Users/animeshs/GD/stanford-covid-vaccine/bpps/id_cfc185f3f.npy'), WindowsPath('C:/Users/animeshs/GD/stanford-covid-vaccine/bpps/id_cfc945617.npy'), WindowsPath('C:/Users/animeshs/GD/stanford-covid-vaccine/bpps/id_cfe48930a.npy'), WindowsPath('C:/Users/animeshs/GD/stanford-covid-vaccine/bpps/id_cfea8a428.npy'), WindowsPath('C:/Users/animeshs/GD/stanford-covid-vaccine/bpps/id_cff62b5c1.npy'), WindowsPath('C:/Users/animeshs/GD/stanford-covid-vaccine/bpps/id_cff9666f8.npy'), WindowsPath('C:/Users/animeshs/GD/stanford-covid-vaccine/bpps/id_cfff17cd0.npy'), WindowsPath('C:/Users/animeshs/GD/stanford-covid-vaccine/bpps/id_d00e4b64d.npy'), WindowsPath('C:/Users/animeshs/GD/stanford-covid-vaccine/bpps/id_d025b4a90.npy'), WindowsPath('C:/Users/animeshs/GD/stanford-covid-vaccine/bpps/id_d02d28b3a.npy'), WindowsPath('C:/Users/animeshs/GD/stanford-covid-vaccine/bpps/id_d037d0ca2.npy'), WindowsPath('C:/Users/animeshs/GD/stanford-covid-vaccine/bpps/id_d0395ce97.npy'), WindowsPath('C:/Users/animeshs/GD/stanford-covid-vaccine/bpps/id_d03ca225b.npy'), WindowsPath('C:/Users/animeshs/GD/stanford-covid-vaccine/bpps/id_d0432546c.npy'), WindowsPath('C:/Users/animeshs/GD/stanford-covid-vaccine/bpps/id_d0477a4b3.npy'), WindowsPath('C:/Users/animeshs/GD/stanford-covid-vaccine/bpps/id_d04a92cd2.npy'), WindowsPath('C:/Users/animeshs/GD/stanford-covid-vaccine/bpps/id_d069d7e0a.npy'), WindowsPath('C:/Users/animeshs/GD/stanford-covid-vaccine/bpps/id_d06fade81.npy'), WindowsPath('C:/Users/animeshs/GD/stanford-covid-vaccine/bpps/id_d08065f79.npy'), WindowsPath('C:/Users/animeshs/GD/stanford-covid-vaccine/bpps/id_d09345a41.npy'), WindowsPath('C:/Users/animeshs/GD/stanford-covid-vaccine/bpps/id_d0a7ae751.npy'), WindowsPath('C:/Users/animeshs/GD/stanford-covid-vaccine/bpps/id_d0beaf5ab.npy'), WindowsPath('C:/Users/animeshs/GD/stanford-covid-vaccine/bpps/id_d0c3b4f80.npy'), WindowsPath('C:/Users/animeshs/GD/stanford-covid-vaccine/bpps/id_d0d5b90fb.npy'), WindowsPath('C:/Users/animeshs/GD/stanford-covid-vaccine/bpps/id_d0da7b69a.npy'), WindowsPath('C:/Users/animeshs/GD/stanford-covid-vaccine/bpps/id_d0f07b896.npy'), WindowsPath('C:/Users/animeshs/GD/stanford-covid-vaccine/bpps/id_d0f8f45f9.npy'), WindowsPath('C:/Users/animeshs/GD/stanford-covid-vaccine/bpps/id_d13446fd6.npy'), WindowsPath('C:/Users/animeshs/GD/stanford-covid-vaccine/bpps/id_d1356fd45.npy'), WindowsPath('C:/Users/animeshs/GD/stanford-covid-vaccine/bpps/id_d13a0e7cc.npy'), WindowsPath('C:/Users/animeshs/GD/stanford-covid-vaccine/bpps/id_d155729f4.npy'), WindowsPath('C:/Users/animeshs/GD/stanford-covid-vaccine/bpps/id_d1659e148.npy'), WindowsPath('C:/Users/animeshs/GD/stanford-covid-vaccine/bpps/id_d16a2af46.npy'), WindowsPath('C:/Users/animeshs/GD/stanford-covid-vaccine/bpps/id_d171a5182.npy'), WindowsPath('C:/Users/animeshs/GD/stanford-covid-vaccine/bpps/id_d1825b6f9.npy'), WindowsPath('C:/Users/animeshs/GD/stanford-covid-vaccine/bpps/id_d187ae3ed.npy'), WindowsPath('C:/Users/animeshs/GD/stanford-covid-vaccine/bpps/id_d190610e8.npy'), WindowsPath('C:/Users/animeshs/GD/stanford-covid-vaccine/bpps/id_d19174185.npy'), WindowsPath('C:/Users/animeshs/GD/stanford-covid-vaccine/bpps/id_d1bfbc8ac.npy'), WindowsPath('C:/Users/animeshs/GD/stanford-covid-vaccine/bpps/id_d1c3c4eae.npy'), WindowsPath('C:/Users/animeshs/GD/stanford-covid-vaccine/bpps/id_d1cd6b0f7.npy'), WindowsPath('C:/Users/animeshs/GD/stanford-covid-vaccine/bpps/id_d1e8d2173.npy'), WindowsPath('C:/Users/animeshs/GD/stanford-covid-vaccine/bpps/id_d1f0df46a.npy'), WindowsPath('C:/Users/animeshs/GD/stanford-covid-vaccine/bpps/id_d1fc6ee47.npy'), WindowsPath('C:/Users/animeshs/GD/stanford-covid-vaccine/bpps/id_d2140b73e.npy'), WindowsPath('C:/Users/animeshs/GD/stanford-covid-vaccine/bpps/id_d236f5ca3.npy'), WindowsPath('C:/Users/animeshs/GD/stanford-covid-vaccine/bpps/id_d242af194.npy'), WindowsPath('C:/Users/animeshs/GD/stanford-covid-vaccine/bpps/id_d248660d3.npy'), WindowsPath('C:/Users/animeshs/GD/stanford-covid-vaccine/bpps/id_d25aca930.npy'), WindowsPath('C:/Users/animeshs/GD/stanford-covid-vaccine/bpps/id_d27117cca.npy'), WindowsPath('C:/Users/animeshs/GD/stanford-covid-vaccine/bpps/id_d27523600.npy'), WindowsPath('C:/Users/animeshs/GD/stanford-covid-vaccine/bpps/id_d28c0f4cc.npy'), WindowsPath('C:/Users/animeshs/GD/stanford-covid-vaccine/bpps/id_d28ec65d5.npy'), WindowsPath('C:/Users/animeshs/GD/stanford-covid-vaccine/bpps/id_d29c7b17c.npy'), WindowsPath('C:/Users/animeshs/GD/stanford-covid-vaccine/bpps/id_d2a2637b0.npy'), WindowsPath('C:/Users/animeshs/GD/stanford-covid-vaccine/bpps/id_d2a5c1877.npy'), WindowsPath('C:/Users/animeshs/GD/stanford-covid-vaccine/bpps/id_d2a700323.npy'), WindowsPath('C:/Users/animeshs/GD/stanford-covid-vaccine/bpps/id_d2abb8049.npy'), WindowsPath('C:/Users/animeshs/GD/stanford-covid-vaccine/bpps/id_d2c379959.npy'), WindowsPath('C:/Users/animeshs/GD/stanford-covid-vaccine/bpps/id_d2caab1e7.npy'), WindowsPath('C:/Users/animeshs/GD/stanford-covid-vaccine/bpps/id_d2d002fbc.npy'), WindowsPath('C:/Users/animeshs/GD/stanford-covid-vaccine/bpps/id_d2d95bef1.npy'), WindowsPath('C:/Users/animeshs/GD/stanford-covid-vaccine/bpps/id_d2e862f47.npy'), WindowsPath('C:/Users/animeshs/GD/stanford-covid-vaccine/bpps/id_d2fcb15d1.npy'), WindowsPath('C:/Users/animeshs/GD/stanford-covid-vaccine/bpps/id_d30401aa0.npy'), WindowsPath('C:/Users/animeshs/GD/stanford-covid-vaccine/bpps/id_d321f4051.npy'), WindowsPath('C:/Users/animeshs/GD/stanford-covid-vaccine/bpps/id_d3226215a.npy'), WindowsPath('C:/Users/animeshs/GD/stanford-covid-vaccine/bpps/id_d32c32dd8.npy'), WindowsPath('C:/Users/animeshs/GD/stanford-covid-vaccine/bpps/id_d330da330.npy'), WindowsPath('C:/Users/animeshs/GD/stanford-covid-vaccine/bpps/id_d334e6b5b.npy'), WindowsPath('C:/Users/animeshs/GD/stanford-covid-vaccine/bpps/id_d33a8b2b2.npy'), WindowsPath('C:/Users/animeshs/GD/stanford-covid-vaccine/bpps/id_d348e946d.npy'), WindowsPath('C:/Users/animeshs/GD/stanford-covid-vaccine/bpps/id_d34f92d1c.npy'), WindowsPath('C:/Users/animeshs/GD/stanford-covid-vaccine/bpps/id_d350ce2e0.npy'), WindowsPath('C:/Users/animeshs/GD/stanford-covid-vaccine/bpps/id_d380bb370.npy'), WindowsPath('C:/Users/animeshs/GD/stanford-covid-vaccine/bpps/id_d38555ea7.npy'), WindowsPath('C:/Users/animeshs/GD/stanford-covid-vaccine/bpps/id_d38c19d59.npy'), WindowsPath('C:/Users/animeshs/GD/stanford-covid-vaccine/bpps/id_d395fc9f0.npy'), WindowsPath('C:/Users/animeshs/GD/stanford-covid-vaccine/bpps/id_d3a01aa5f.npy'), WindowsPath('C:/Users/animeshs/GD/stanford-covid-vaccine/bpps/id_d3a1ecc8c.npy'), WindowsPath('C:/Users/animeshs/GD/stanford-covid-vaccine/bpps/id_d3ad4cd71.npy'), WindowsPath('C:/Users/animeshs/GD/stanford-covid-vaccine/bpps/id_d3aed2699.npy'), WindowsPath('C:/Users/animeshs/GD/stanford-covid-vaccine/bpps/id_d3bf15d5a.npy'), WindowsPath('C:/Users/animeshs/GD/stanford-covid-vaccine/bpps/id_d3c2f2bfd.npy'), WindowsPath('C:/Users/animeshs/GD/stanford-covid-vaccine/bpps/id_d3ca98f09.npy'), WindowsPath('C:/Users/animeshs/GD/stanford-covid-vaccine/bpps/id_d3cd85374.npy'), WindowsPath('C:/Users/animeshs/GD/stanford-covid-vaccine/bpps/id_d3d1dd2f1.npy'), WindowsPath('C:/Users/animeshs/GD/stanford-covid-vaccine/bpps/id_d3d986be8.npy'), WindowsPath('C:/Users/animeshs/GD/stanford-covid-vaccine/bpps/id_d3ea0d027.npy'), WindowsPath('C:/Users/animeshs/GD/stanford-covid-vaccine/bpps/id_d3ee6c3e8.npy'), WindowsPath('C:/Users/animeshs/GD/stanford-covid-vaccine/bpps/id_d3f22ab2f.npy'), WindowsPath('C:/Users/animeshs/GD/stanford-covid-vaccine/bpps/id_d40628c39.npy'), WindowsPath('C:/Users/animeshs/GD/stanford-covid-vaccine/bpps/id_d4089bebf.npy'), WindowsPath('C:/Users/animeshs/GD/stanford-covid-vaccine/bpps/id_d40c3dff3.npy'), WindowsPath('C:/Users/animeshs/GD/stanford-covid-vaccine/bpps/id_d42fcc1b3.npy'), WindowsPath('C:/Users/animeshs/GD/stanford-covid-vaccine/bpps/id_d44e8a54e.npy'), WindowsPath('C:/Users/animeshs/GD/stanford-covid-vaccine/bpps/id_d44f23deb.npy'), WindowsPath('C:/Users/animeshs/GD/stanford-covid-vaccine/bpps/id_d45bc4269.npy'), WindowsPath('C:/Users/animeshs/GD/stanford-covid-vaccine/bpps/id_d46ef3f8b.npy'), WindowsPath('C:/Users/animeshs/GD/stanford-covid-vaccine/bpps/id_d4734599f.npy'), WindowsPath('C:/Users/animeshs/GD/stanford-covid-vaccine/bpps/id_d48511409.npy'), WindowsPath('C:/Users/animeshs/GD/stanford-covid-vaccine/bpps/id_d4a2d9e5f.npy'), WindowsPath('C:/Users/animeshs/GD/stanford-covid-vaccine/bpps/id_d4addb0d1.npy'), WindowsPath('C:/Users/animeshs/GD/stanford-covid-vaccine/bpps/id_d4b639022.npy'), WindowsPath('C:/Users/animeshs/GD/stanford-covid-vaccine/bpps/id_d4b8cfa55.npy'), WindowsPath('C:/Users/animeshs/GD/stanford-covid-vaccine/bpps/id_d4bab05ef.npy'), WindowsPath('C:/Users/animeshs/GD/stanford-covid-vaccine/bpps/id_d4bcf9c13.npy'), WindowsPath('C:/Users/animeshs/GD/stanford-covid-vaccine/bpps/id_d4c1bb8b0.npy'), WindowsPath('C:/Users/animeshs/GD/stanford-covid-vaccine/bpps/id_d4c29f42d.npy'), WindowsPath('C:/Users/animeshs/GD/stanford-covid-vaccine/bpps/id_d4d3f44c9.npy'), WindowsPath('C:/Users/animeshs/GD/stanford-covid-vaccine/bpps/id_d4fda0e05.npy'), WindowsPath('C:/Users/animeshs/GD/stanford-covid-vaccine/bpps/id_d50f34da6.npy'), WindowsPath('C:/Users/animeshs/GD/stanford-covid-vaccine/bpps/id_d50fca25b.npy'), WindowsPath('C:/Users/animeshs/GD/stanford-covid-vaccine/bpps/id_d518123e6.npy'), WindowsPath('C:/Users/animeshs/GD/stanford-covid-vaccine/bpps/id_d519cf4ab.npy'), WindowsPath('C:/Users/animeshs/GD/stanford-covid-vaccine/bpps/id_d51a2d416.npy'), WindowsPath('C:/Users/animeshs/GD/stanford-covid-vaccine/bpps/id_d51add379.npy'), WindowsPath('C:/Users/animeshs/GD/stanford-covid-vaccine/bpps/id_d527e5714.npy'), WindowsPath('C:/Users/animeshs/GD/stanford-covid-vaccine/bpps/id_d54dc5b2a.npy'), WindowsPath('C:/Users/animeshs/GD/stanford-covid-vaccine/bpps/id_d5528f37c.npy'), WindowsPath('C:/Users/animeshs/GD/stanford-covid-vaccine/bpps/id_d55f95715.npy'), WindowsPath('C:/Users/animeshs/GD/stanford-covid-vaccine/bpps/id_d56292940.npy'), WindowsPath('C:/Users/animeshs/GD/stanford-covid-vaccine/bpps/id_d566ca0d0.npy'), WindowsPath('C:/Users/animeshs/GD/stanford-covid-vaccine/bpps/id_d56917eae.npy'), WindowsPath('C:/Users/animeshs/GD/stanford-covid-vaccine/bpps/id_d56d85f16.npy'), WindowsPath('C:/Users/animeshs/GD/stanford-covid-vaccine/bpps/id_d57b2913d.npy'), WindowsPath('C:/Users/animeshs/GD/stanford-covid-vaccine/bpps/id_d57cfd640.npy'), WindowsPath('C:/Users/animeshs/GD/stanford-covid-vaccine/bpps/id_d582c4e25.npy'), WindowsPath('C:/Users/animeshs/GD/stanford-covid-vaccine/bpps/id_d58663e30.npy'), WindowsPath('C:/Users/animeshs/GD/stanford-covid-vaccine/bpps/id_d58bbd802.npy'), WindowsPath('C:/Users/animeshs/GD/stanford-covid-vaccine/bpps/id_d590f7b9b.npy'), WindowsPath('C:/Users/animeshs/GD/stanford-covid-vaccine/bpps/id_d5964eb2b.npy'), WindowsPath('C:/Users/animeshs/GD/stanford-covid-vaccine/bpps/id_d59b4b448.npy'), WindowsPath('C:/Users/animeshs/GD/stanford-covid-vaccine/bpps/id_d5afc1d74.npy'), WindowsPath('C:/Users/animeshs/GD/stanford-covid-vaccine/bpps/id_d5b33ea1a.npy'), WindowsPath('C:/Users/animeshs/GD/stanford-covid-vaccine/bpps/id_d5b43deef.npy'), WindowsPath('C:/Users/animeshs/GD/stanford-covid-vaccine/bpps/id_d5b78932a.npy'), WindowsPath('C:/Users/animeshs/GD/stanford-covid-vaccine/bpps/id_d5ca63c33.npy'), WindowsPath('C:/Users/animeshs/GD/stanford-covid-vaccine/bpps/id_d5e5b32fa.npy'), WindowsPath('C:/Users/animeshs/GD/stanford-covid-vaccine/bpps/id_d619738d1.npy'), WindowsPath('C:/Users/animeshs/GD/stanford-covid-vaccine/bpps/id_d627110d4.npy'), WindowsPath('C:/Users/animeshs/GD/stanford-covid-vaccine/bpps/id_d66b55b41.npy'), WindowsPath('C:/Users/animeshs/GD/stanford-covid-vaccine/bpps/id_d6820b9a9.npy'), WindowsPath('C:/Users/animeshs/GD/stanford-covid-vaccine/bpps/id_d6830cb27.npy'), WindowsPath('C:/Users/animeshs/GD/stanford-covid-vaccine/bpps/id_d68a2cbb7.npy'), WindowsPath('C:/Users/animeshs/GD/stanford-covid-vaccine/bpps/id_d6986f624.npy'), WindowsPath('C:/Users/animeshs/GD/stanford-covid-vaccine/bpps/id_d69b6de04.npy'), WindowsPath('C:/Users/animeshs/GD/stanford-covid-vaccine/bpps/id_d6ace292e.npy'), WindowsPath('C:/Users/animeshs/GD/stanford-covid-vaccine/bpps/id_d6b2ae629.npy'), WindowsPath('C:/Users/animeshs/GD/stanford-covid-vaccine/bpps/id_d6b3eebf7.npy'), WindowsPath('C:/Users/animeshs/GD/stanford-covid-vaccine/bpps/id_d6b46cda4.npy'), WindowsPath('C:/Users/animeshs/GD/stanford-covid-vaccine/bpps/id_d6b47f7a5.npy'), WindowsPath('C:/Users/animeshs/GD/stanford-covid-vaccine/bpps/id_d6c2cc94b.npy'), WindowsPath('C:/Users/animeshs/GD/stanford-covid-vaccine/bpps/id_d6d62c7e0.npy'), WindowsPath('C:/Users/animeshs/GD/stanford-covid-vaccine/bpps/id_d6ec3fbe5.npy'), WindowsPath('C:/Users/animeshs/GD/stanford-covid-vaccine/bpps/id_d6f26ece5.npy'), WindowsPath('C:/Users/animeshs/GD/stanford-covid-vaccine/bpps/id_d70592d50.npy'), WindowsPath('C:/Users/animeshs/GD/stanford-covid-vaccine/bpps/id_d707887c0.npy'), WindowsPath('C:/Users/animeshs/GD/stanford-covid-vaccine/bpps/id_d7086afd6.npy'), WindowsPath('C:/Users/animeshs/GD/stanford-covid-vaccine/bpps/id_d712263bb.npy'), WindowsPath('C:/Users/animeshs/GD/stanford-covid-vaccine/bpps/id_d71c0392b.npy'), WindowsPath('C:/Users/animeshs/GD/stanford-covid-vaccine/bpps/id_d7282a87c.npy'), WindowsPath('C:/Users/animeshs/GD/stanford-covid-vaccine/bpps/id_d73546f4e.npy'), WindowsPath('C:/Users/animeshs/GD/stanford-covid-vaccine/bpps/id_d73abdb23.npy'), WindowsPath('C:/Users/animeshs/GD/stanford-covid-vaccine/bpps/id_d740a5805.npy'), WindowsPath('C:/Users/animeshs/GD/stanford-covid-vaccine/bpps/id_d747b1e6a.npy'), WindowsPath('C:/Users/animeshs/GD/stanford-covid-vaccine/bpps/id_d74bbd70a.npy'), WindowsPath('C:/Users/animeshs/GD/stanford-covid-vaccine/bpps/id_d75bd3676.npy'), WindowsPath('C:/Users/animeshs/GD/stanford-covid-vaccine/bpps/id_d75febf16.npy'), WindowsPath('C:/Users/animeshs/GD/stanford-covid-vaccine/bpps/id_d76389490.npy'), WindowsPath('C:/Users/animeshs/GD/stanford-covid-vaccine/bpps/id_d780588bd.npy'), WindowsPath('C:/Users/animeshs/GD/stanford-covid-vaccine/bpps/id_d780e7397.npy'), WindowsPath('C:/Users/animeshs/GD/stanford-covid-vaccine/bpps/id_d7a91a318.npy'), WindowsPath('C:/Users/animeshs/GD/stanford-covid-vaccine/bpps/id_d7abad521.npy'), WindowsPath('C:/Users/animeshs/GD/stanford-covid-vaccine/bpps/id_d7b07ac38.npy'), WindowsPath('C:/Users/animeshs/GD/stanford-covid-vaccine/bpps/id_d7b2408a2.npy'), WindowsPath('C:/Users/animeshs/GD/stanford-covid-vaccine/bpps/id_d7c045984.npy'), WindowsPath('C:/Users/animeshs/GD/stanford-covid-vaccine/bpps/id_d7c93a1d4.npy'), WindowsPath('C:/Users/animeshs/GD/stanford-covid-vaccine/bpps/id_d7d873e9f.npy'), WindowsPath('C:/Users/animeshs/GD/stanford-covid-vaccine/bpps/id_d81232765.npy'), WindowsPath('C:/Users/animeshs/GD/stanford-covid-vaccine/bpps/id_d81d181f4.npy'), WindowsPath('C:/Users/animeshs/GD/stanford-covid-vaccine/bpps/id_d8389f811.npy'), WindowsPath('C:/Users/animeshs/GD/stanford-covid-vaccine/bpps/id_d841fcb71.npy'), WindowsPath('C:/Users/animeshs/GD/stanford-covid-vaccine/bpps/id_d84732bc5.npy'), WindowsPath('C:/Users/animeshs/GD/stanford-covid-vaccine/bpps/id_d847c07c3.npy'), WindowsPath('C:/Users/animeshs/GD/stanford-covid-vaccine/bpps/id_d848d76a3.npy'), WindowsPath('C:/Users/animeshs/GD/stanford-covid-vaccine/bpps/id_d8494b4e5.npy'), WindowsPath('C:/Users/animeshs/GD/stanford-covid-vaccine/bpps/id_d8556430e.npy'), WindowsPath('C:/Users/animeshs/GD/stanford-covid-vaccine/bpps/id_d86962bc6.npy'), WindowsPath('C:/Users/animeshs/GD/stanford-covid-vaccine/bpps/id_d86bdd3b8.npy'), WindowsPath('C:/Users/animeshs/GD/stanford-covid-vaccine/bpps/id_d87288120.npy'), WindowsPath('C:/Users/animeshs/GD/stanford-covid-vaccine/bpps/id_d87ae263a.npy'), WindowsPath('C:/Users/animeshs/GD/stanford-covid-vaccine/bpps/id_d8827aa19.npy'), WindowsPath('C:/Users/animeshs/GD/stanford-covid-vaccine/bpps/id_d8855591b.npy'), WindowsPath('C:/Users/animeshs/GD/stanford-covid-vaccine/bpps/id_d8864adba.npy'), WindowsPath('C:/Users/animeshs/GD/stanford-covid-vaccine/bpps/id_d88c855f2.npy'), WindowsPath('C:/Users/animeshs/GD/stanford-covid-vaccine/bpps/id_d899bd2e4.npy'), WindowsPath('C:/Users/animeshs/GD/stanford-covid-vaccine/bpps/id_d8bfec14b.npy'), WindowsPath('C:/Users/animeshs/GD/stanford-covid-vaccine/bpps/id_d8d0654bb.npy'), WindowsPath('C:/Users/animeshs/GD/stanford-covid-vaccine/bpps/id_d8d2c075c.npy'), WindowsPath('C:/Users/animeshs/GD/stanford-covid-vaccine/bpps/id_d8d432ced.npy'), WindowsPath('C:/Users/animeshs/GD/stanford-covid-vaccine/bpps/id_d8db2b6da.npy'), WindowsPath('C:/Users/animeshs/GD/stanford-covid-vaccine/bpps/id_d8e54eacb.npy'), WindowsPath('C:/Users/animeshs/GD/stanford-covid-vaccine/bpps/id_d8e578e8e.npy'), WindowsPath('C:/Users/animeshs/GD/stanford-covid-vaccine/bpps/id_d8e97fec7.npy'), WindowsPath('C:/Users/animeshs/GD/stanford-covid-vaccine/bpps/id_d900ac08a.npy'), WindowsPath('C:/Users/animeshs/GD/stanford-covid-vaccine/bpps/id_d91a3d077.npy'), WindowsPath('C:/Users/animeshs/GD/stanford-covid-vaccine/bpps/id_d92366a30.npy'), WindowsPath('C:/Users/animeshs/GD/stanford-covid-vaccine/bpps/id_d93e36f91.npy'), WindowsPath('C:/Users/animeshs/GD/stanford-covid-vaccine/bpps/id_d944bce8a.npy'), WindowsPath('C:/Users/animeshs/GD/stanford-covid-vaccine/bpps/id_d94ba9f47.npy'), WindowsPath('C:/Users/animeshs/GD/stanford-covid-vaccine/bpps/id_d959dfb88.npy'), WindowsPath('C:/Users/animeshs/GD/stanford-covid-vaccine/bpps/id_d96bd6a06.npy'), WindowsPath('C:/Users/animeshs/GD/stanford-covid-vaccine/bpps/id_d96e89af0.npy'), WindowsPath('C:/Users/animeshs/GD/stanford-covid-vaccine/bpps/id_d9891ffcf.npy'), WindowsPath('C:/Users/animeshs/GD/stanford-covid-vaccine/bpps/id_d98c10664.npy'), WindowsPath('C:/Users/animeshs/GD/stanford-covid-vaccine/bpps/id_d99156117.npy'), WindowsPath('C:/Users/animeshs/GD/stanford-covid-vaccine/bpps/id_d9989dacb.npy'), WindowsPath('C:/Users/animeshs/GD/stanford-covid-vaccine/bpps/id_d99bde9a5.npy'), WindowsPath('C:/Users/animeshs/GD/stanford-covid-vaccine/bpps/id_d9abd8efe.npy'), WindowsPath('C:/Users/animeshs/GD/stanford-covid-vaccine/bpps/id_d9b750852.npy'), WindowsPath('C:/Users/animeshs/GD/stanford-covid-vaccine/bpps/id_d9b8f30cd.npy'), WindowsPath('C:/Users/animeshs/GD/stanford-covid-vaccine/bpps/id_d9bd89de7.npy'), WindowsPath('C:/Users/animeshs/GD/stanford-covid-vaccine/bpps/id_da0dda2c2.npy'), WindowsPath('C:/Users/animeshs/GD/stanford-covid-vaccine/bpps/id_da0dfb3af.npy'), WindowsPath('C:/Users/animeshs/GD/stanford-covid-vaccine/bpps/id_da128920f.npy'), WindowsPath('C:/Users/animeshs/GD/stanford-covid-vaccine/bpps/id_da130e240.npy'), WindowsPath('C:/Users/animeshs/GD/stanford-covid-vaccine/bpps/id_da1bf888d.npy'), WindowsPath('C:/Users/animeshs/GD/stanford-covid-vaccine/bpps/id_da1c846d4.npy'), WindowsPath('C:/Users/animeshs/GD/stanford-covid-vaccine/bpps/id_da32b08b9.npy'), WindowsPath('C:/Users/animeshs/GD/stanford-covid-vaccine/bpps/id_da3c95907.npy'), WindowsPath('C:/Users/animeshs/GD/stanford-covid-vaccine/bpps/id_da44c3220.npy'), WindowsPath('C:/Users/animeshs/GD/stanford-covid-vaccine/bpps/id_da530e3d3.npy'), WindowsPath('C:/Users/animeshs/GD/stanford-covid-vaccine/bpps/id_da589f697.npy'), WindowsPath('C:/Users/animeshs/GD/stanford-covid-vaccine/bpps/id_da5c60717.npy'), WindowsPath('C:/Users/animeshs/GD/stanford-covid-vaccine/bpps/id_da6756af7.npy'), WindowsPath('C:/Users/animeshs/GD/stanford-covid-vaccine/bpps/id_da9e44633.npy'), WindowsPath('C:/Users/animeshs/GD/stanford-covid-vaccine/bpps/id_da9e609a2.npy'), WindowsPath('C:/Users/animeshs/GD/stanford-covid-vaccine/bpps/id_da9ea56cc.npy'), WindowsPath('C:/Users/animeshs/GD/stanford-covid-vaccine/bpps/id_dab0058d0.npy'), WindowsPath('C:/Users/animeshs/GD/stanford-covid-vaccine/bpps/id_dab592db9.npy'), WindowsPath('C:/Users/animeshs/GD/stanford-covid-vaccine/bpps/id_dacadcb70.npy'), WindowsPath('C:/Users/animeshs/GD/stanford-covid-vaccine/bpps/id_dad3c4893.npy'), WindowsPath('C:/Users/animeshs/GD/stanford-covid-vaccine/bpps/id_dad6df035.npy'), WindowsPath('C:/Users/animeshs/GD/stanford-covid-vaccine/bpps/id_dad733315.npy'), WindowsPath('C:/Users/animeshs/GD/stanford-covid-vaccine/bpps/id_dad9bc032.npy'), WindowsPath('C:/Users/animeshs/GD/stanford-covid-vaccine/bpps/id_dadaa5dd4.npy'), WindowsPath('C:/Users/animeshs/GD/stanford-covid-vaccine/bpps/id_dadd4b985.npy'), WindowsPath('C:/Users/animeshs/GD/stanford-covid-vaccine/bpps/id_dae3738b4.npy'), WindowsPath('C:/Users/animeshs/GD/stanford-covid-vaccine/bpps/id_db071dd1a.npy'), WindowsPath('C:/Users/animeshs/GD/stanford-covid-vaccine/bpps/id_db19924fa.npy'), WindowsPath('C:/Users/animeshs/GD/stanford-covid-vaccine/bpps/id_db497fab0.npy'), WindowsPath('C:/Users/animeshs/GD/stanford-covid-vaccine/bpps/id_db4af1563.npy'), WindowsPath('C:/Users/animeshs/GD/stanford-covid-vaccine/bpps/id_db4b59416.npy'), WindowsPath('C:/Users/animeshs/GD/stanford-covid-vaccine/bpps/id_db4ea202a.npy'), WindowsPath('C:/Users/animeshs/GD/stanford-covid-vaccine/bpps/id_db55c9de3.npy'), WindowsPath('C:/Users/animeshs/GD/stanford-covid-vaccine/bpps/id_db677e717.npy'), WindowsPath('C:/Users/animeshs/GD/stanford-covid-vaccine/bpps/id_db709077b.npy'), WindowsPath('C:/Users/animeshs/GD/stanford-covid-vaccine/bpps/id_db78cab53.npy'), WindowsPath('C:/Users/animeshs/GD/stanford-covid-vaccine/bpps/id_db9b911a2.npy'), WindowsPath('C:/Users/animeshs/GD/stanford-covid-vaccine/bpps/id_db9d14e88.npy'), WindowsPath('C:/Users/animeshs/GD/stanford-covid-vaccine/bpps/id_dbb0465c5.npy'), WindowsPath('C:/Users/animeshs/GD/stanford-covid-vaccine/bpps/id_dbba5f88b.npy'), WindowsPath('C:/Users/animeshs/GD/stanford-covid-vaccine/bpps/id_dbbd0d937.npy'), WindowsPath('C:/Users/animeshs/GD/stanford-covid-vaccine/bpps/id_dbc098a78.npy'), WindowsPath('C:/Users/animeshs/GD/stanford-covid-vaccine/bpps/id_dbc43230b.npy'), WindowsPath('C:/Users/animeshs/GD/stanford-covid-vaccine/bpps/id_dbd6c6a2f.npy'), WindowsPath('C:/Users/animeshs/GD/stanford-covid-vaccine/bpps/id_dbd9c814f.npy'), WindowsPath('C:/Users/animeshs/GD/stanford-covid-vaccine/bpps/id_dbda15f7c.npy'), WindowsPath('C:/Users/animeshs/GD/stanford-covid-vaccine/bpps/id_dbdeb6ed8.npy'), WindowsPath('C:/Users/animeshs/GD/stanford-covid-vaccine/bpps/id_dbe564a8a.npy'), WindowsPath('C:/Users/animeshs/GD/stanford-covid-vaccine/bpps/id_dbf363346.npy'), WindowsPath('C:/Users/animeshs/GD/stanford-covid-vaccine/bpps/id_dbfc526ab.npy'), WindowsPath('C:/Users/animeshs/GD/stanford-covid-vaccine/bpps/id_dbfc7108c.npy'), WindowsPath('C:/Users/animeshs/GD/stanford-covid-vaccine/bpps/id_dbfe22533.npy'), WindowsPath('C:/Users/animeshs/GD/stanford-covid-vaccine/bpps/id_dc1291fa3.npy'), WindowsPath('C:/Users/animeshs/GD/stanford-covid-vaccine/bpps/id_dc1b01043.npy'), WindowsPath('C:/Users/animeshs/GD/stanford-covid-vaccine/bpps/id_dc1c4562c.npy'), WindowsPath('C:/Users/animeshs/GD/stanford-covid-vaccine/bpps/id_dc1ca1bb4.npy'), WindowsPath('C:/Users/animeshs/GD/stanford-covid-vaccine/bpps/id_dc2472639.npy'), WindowsPath('C:/Users/animeshs/GD/stanford-covid-vaccine/bpps/id_dc2fc22f0.npy'), WindowsPath('C:/Users/animeshs/GD/stanford-covid-vaccine/bpps/id_dc4f75726.npy'), WindowsPath('C:/Users/animeshs/GD/stanford-covid-vaccine/bpps/id_dc5086daa.npy'), WindowsPath('C:/Users/animeshs/GD/stanford-covid-vaccine/bpps/id_dc744603f.npy'), WindowsPath('C:/Users/animeshs/GD/stanford-covid-vaccine/bpps/id_dc7545b2d.npy'), WindowsPath('C:/Users/animeshs/GD/stanford-covid-vaccine/bpps/id_dc83812ce.npy'), WindowsPath('C:/Users/animeshs/GD/stanford-covid-vaccine/bpps/id_dc89ad7b1.npy'), WindowsPath('C:/Users/animeshs/GD/stanford-covid-vaccine/bpps/id_dc9433b71.npy'), WindowsPath('C:/Users/animeshs/GD/stanford-covid-vaccine/bpps/id_dc9f789fb.npy'), WindowsPath('C:/Users/animeshs/GD/stanford-covid-vaccine/bpps/id_dcaa98394.npy'), WindowsPath('C:/Users/animeshs/GD/stanford-covid-vaccine/bpps/id_dce68bd14.npy'), WindowsPath('C:/Users/animeshs/GD/stanford-covid-vaccine/bpps/id_dd16c5412.npy'), WindowsPath('C:/Users/animeshs/GD/stanford-covid-vaccine/bpps/id_dd2ecea86.npy'), WindowsPath('C:/Users/animeshs/GD/stanford-covid-vaccine/bpps/id_dd32a1449.npy'), WindowsPath('C:/Users/animeshs/GD/stanford-covid-vaccine/bpps/id_dd348f58f.npy'), WindowsPath('C:/Users/animeshs/GD/stanford-covid-vaccine/bpps/id_dd6ce4315.npy'), WindowsPath('C:/Users/animeshs/GD/stanford-covid-vaccine/bpps/id_dd8494962.npy'), WindowsPath('C:/Users/animeshs/GD/stanford-covid-vaccine/bpps/id_dd857ab18.npy'), WindowsPath('C:/Users/animeshs/GD/stanford-covid-vaccine/bpps/id_dd8df99e1.npy'), WindowsPath('C:/Users/animeshs/GD/stanford-covid-vaccine/bpps/id_dda9a1458.npy'), WindowsPath('C:/Users/animeshs/GD/stanford-covid-vaccine/bpps/id_ddad78868.npy'), WindowsPath('C:/Users/animeshs/GD/stanford-covid-vaccine/bpps/id_ddb02965c.npy'), WindowsPath('C:/Users/animeshs/GD/stanford-covid-vaccine/bpps/id_ddb2c0580.npy'), WindowsPath('C:/Users/animeshs/GD/stanford-covid-vaccine/bpps/id_ddcb800f3.npy'), WindowsPath('C:/Users/animeshs/GD/stanford-covid-vaccine/bpps/id_ddde5e084.npy'), WindowsPath('C:/Users/animeshs/GD/stanford-covid-vaccine/bpps/id_dde68ff41.npy'), WindowsPath('C:/Users/animeshs/GD/stanford-covid-vaccine/bpps/id_ddfcdcc4c.npy'), WindowsPath('C:/Users/animeshs/GD/stanford-covid-vaccine/bpps/id_de0409749.npy'), WindowsPath('C:/Users/animeshs/GD/stanford-covid-vaccine/bpps/id_de1d9311c.npy'), WindowsPath('C:/Users/animeshs/GD/stanford-covid-vaccine/bpps/id_de2165d3d.npy'), WindowsPath('C:/Users/animeshs/GD/stanford-covid-vaccine/bpps/id_de22258ab.npy'), WindowsPath('C:/Users/animeshs/GD/stanford-covid-vaccine/bpps/id_de431cdf3.npy'), WindowsPath('C:/Users/animeshs/GD/stanford-covid-vaccine/bpps/id_de529174a.npy'), WindowsPath('C:/Users/animeshs/GD/stanford-covid-vaccine/bpps/id_de6dedb6d.npy'), WindowsPath('C:/Users/animeshs/GD/stanford-covid-vaccine/bpps/id_de9117a7d.npy'), WindowsPath('C:/Users/animeshs/GD/stanford-covid-vaccine/bpps/id_dea4defe7.npy'), WindowsPath('C:/Users/animeshs/GD/stanford-covid-vaccine/bpps/id_dea7f01bb.npy'), WindowsPath('C:/Users/animeshs/GD/stanford-covid-vaccine/bpps/id_deab7ac46.npy'), WindowsPath('C:/Users/animeshs/GD/stanford-covid-vaccine/bpps/id_deaf1fc69.npy'), WindowsPath('C:/Users/animeshs/GD/stanford-covid-vaccine/bpps/id_deb07354e.npy'), WindowsPath('C:/Users/animeshs/GD/stanford-covid-vaccine/bpps/id_decb12536.npy'), WindowsPath('C:/Users/animeshs/GD/stanford-covid-vaccine/bpps/id_ded74312d.npy'), WindowsPath('C:/Users/animeshs/GD/stanford-covid-vaccine/bpps/id_ded9008ac.npy'), WindowsPath('C:/Users/animeshs/GD/stanford-covid-vaccine/bpps/id_dee516131.npy'), WindowsPath('C:/Users/animeshs/GD/stanford-covid-vaccine/bpps/id_dee69470b.npy'), WindowsPath('C:/Users/animeshs/GD/stanford-covid-vaccine/bpps/id_deeb2b830.npy'), WindowsPath('C:/Users/animeshs/GD/stanford-covid-vaccine/bpps/id_def3b8ef3.npy'), WindowsPath('C:/Users/animeshs/GD/stanford-covid-vaccine/bpps/id_def8b40b0.npy'), WindowsPath('C:/Users/animeshs/GD/stanford-covid-vaccine/bpps/id_deffe2017.npy'), WindowsPath('C:/Users/animeshs/GD/stanford-covid-vaccine/bpps/id_df00844f1.npy'), WindowsPath('C:/Users/animeshs/GD/stanford-covid-vaccine/bpps/id_df0661f2c.npy'), WindowsPath('C:/Users/animeshs/GD/stanford-covid-vaccine/bpps/id_df0d22594.npy'), WindowsPath('C:/Users/animeshs/GD/stanford-covid-vaccine/bpps/id_df1966c7b.npy'), WindowsPath('C:/Users/animeshs/GD/stanford-covid-vaccine/bpps/id_df1eebcf2.npy'), WindowsPath('C:/Users/animeshs/GD/stanford-covid-vaccine/bpps/id_df3e4f913.npy'), WindowsPath('C:/Users/animeshs/GD/stanford-covid-vaccine/bpps/id_df428035f.npy'), WindowsPath('C:/Users/animeshs/GD/stanford-covid-vaccine/bpps/id_df4b4801e.npy'), WindowsPath('C:/Users/animeshs/GD/stanford-covid-vaccine/bpps/id_df5fd71b0.npy'), WindowsPath('C:/Users/animeshs/GD/stanford-covid-vaccine/bpps/id_df61cfddb.npy'), WindowsPath('C:/Users/animeshs/GD/stanford-covid-vaccine/bpps/id_df6e739ae.npy'), WindowsPath('C:/Users/animeshs/GD/stanford-covid-vaccine/bpps/id_df8343453.npy'), WindowsPath('C:/Users/animeshs/GD/stanford-covid-vaccine/bpps/id_df84391d0.npy'), WindowsPath('C:/Users/animeshs/GD/stanford-covid-vaccine/bpps/id_df9158dfa.npy'), WindowsPath('C:/Users/animeshs/GD/stanford-covid-vaccine/bpps/id_dfaaebd5d.npy'), WindowsPath('C:/Users/animeshs/GD/stanford-covid-vaccine/bpps/id_dfb1c0c32.npy'), WindowsPath('C:/Users/animeshs/GD/stanford-covid-vaccine/bpps/id_dfbddbaa7.npy'), WindowsPath('C:/Users/animeshs/GD/stanford-covid-vaccine/bpps/id_dfcd5c8f6.npy'), WindowsPath('C:/Users/animeshs/GD/stanford-covid-vaccine/bpps/id_dfcd87ac5.npy'), WindowsPath('C:/Users/animeshs/GD/stanford-covid-vaccine/bpps/id_dfd0cb865.npy'), WindowsPath('C:/Users/animeshs/GD/stanford-covid-vaccine/bpps/id_dfe01bf35.npy'), WindowsPath('C:/Users/animeshs/GD/stanford-covid-vaccine/bpps/id_dfe3dba5a.npy'), WindowsPath('C:/Users/animeshs/GD/stanford-covid-vaccine/bpps/id_dfe5f6fda.npy'), WindowsPath('C:/Users/animeshs/GD/stanford-covid-vaccine/bpps/id_dfe64d442.npy'), WindowsPath('C:/Users/animeshs/GD/stanford-covid-vaccine/bpps/id_dfeac1d4c.npy'), WindowsPath('C:/Users/animeshs/GD/stanford-covid-vaccine/bpps/id_dff1b4375.npy'), WindowsPath('C:/Users/animeshs/GD/stanford-covid-vaccine/bpps/id_dffb72592.npy'), WindowsPath('C:/Users/animeshs/GD/stanford-covid-vaccine/bpps/id_e00c8ac2a.npy'), WindowsPath('C:/Users/animeshs/GD/stanford-covid-vaccine/bpps/id_e01085785.npy'), WindowsPath('C:/Users/animeshs/GD/stanford-covid-vaccine/bpps/id_e02195ac9.npy'), WindowsPath('C:/Users/animeshs/GD/stanford-covid-vaccine/bpps/id_e0456b8b0.npy'), WindowsPath('C:/Users/animeshs/GD/stanford-covid-vaccine/bpps/id_e051f65bd.npy'), WindowsPath('C:/Users/animeshs/GD/stanford-covid-vaccine/bpps/id_e053baede.npy'), WindowsPath('C:/Users/animeshs/GD/stanford-covid-vaccine/bpps/id_e05505c99.npy'), WindowsPath('C:/Users/animeshs/GD/stanford-covid-vaccine/bpps/id_e057390b1.npy'), WindowsPath('C:/Users/animeshs/GD/stanford-covid-vaccine/bpps/id_e064cb65b.npy'), WindowsPath('C:/Users/animeshs/GD/stanford-covid-vaccine/bpps/id_e064d1102.npy'), WindowsPath('C:/Users/animeshs/GD/stanford-covid-vaccine/bpps/id_e06b6e5a4.npy'), WindowsPath('C:/Users/animeshs/GD/stanford-covid-vaccine/bpps/id_e089311f4.npy'), WindowsPath('C:/Users/animeshs/GD/stanford-covid-vaccine/bpps/id_e098c956a.npy'), WindowsPath('C:/Users/animeshs/GD/stanford-covid-vaccine/bpps/id_e09eaad4e.npy'), WindowsPath('C:/Users/animeshs/GD/stanford-covid-vaccine/bpps/id_e0a073d39.npy'), WindowsPath('C:/Users/animeshs/GD/stanford-covid-vaccine/bpps/id_e0abe4d9d.npy'), WindowsPath('C:/Users/animeshs/GD/stanford-covid-vaccine/bpps/id_e0b2f84b9.npy'), WindowsPath('C:/Users/animeshs/GD/stanford-covid-vaccine/bpps/id_e0c1cce30.npy'), WindowsPath('C:/Users/animeshs/GD/stanford-covid-vaccine/bpps/id_e0d3af270.npy'), WindowsPath('C:/Users/animeshs/GD/stanford-covid-vaccine/bpps/id_e0ddf12ff.npy'), WindowsPath('C:/Users/animeshs/GD/stanford-covid-vaccine/bpps/id_e0e546752.npy'), WindowsPath('C:/Users/animeshs/GD/stanford-covid-vaccine/bpps/id_e0e7e5cfe.npy'), WindowsPath('C:/Users/animeshs/GD/stanford-covid-vaccine/bpps/id_e0ea9f170.npy'), WindowsPath('C:/Users/animeshs/GD/stanford-covid-vaccine/bpps/id_e0ed675a2.npy'), WindowsPath('C:/Users/animeshs/GD/stanford-covid-vaccine/bpps/id_e104c3ebf.npy'), WindowsPath('C:/Users/animeshs/GD/stanford-covid-vaccine/bpps/id_e1084a0cd.npy'), WindowsPath('C:/Users/animeshs/GD/stanford-covid-vaccine/bpps/id_e10902e0e.npy'), WindowsPath('C:/Users/animeshs/GD/stanford-covid-vaccine/bpps/id_e1093a9a7.npy'), WindowsPath('C:/Users/animeshs/GD/stanford-covid-vaccine/bpps/id_e10d5ea19.npy'), WindowsPath('C:/Users/animeshs/GD/stanford-covid-vaccine/bpps/id_e111a9cc8.npy'), WindowsPath('C:/Users/animeshs/GD/stanford-covid-vaccine/bpps/id_e11f2d9e3.npy'), WindowsPath('C:/Users/animeshs/GD/stanford-covid-vaccine/bpps/id_e11f89fb9.npy'), WindowsPath('C:/Users/animeshs/GD/stanford-covid-vaccine/bpps/id_e120af811.npy'), WindowsPath('C:/Users/animeshs/GD/stanford-covid-vaccine/bpps/id_e128e127e.npy'), WindowsPath('C:/Users/animeshs/GD/stanford-covid-vaccine/bpps/id_e12fbc1f3.npy'), WindowsPath('C:/Users/animeshs/GD/stanford-covid-vaccine/bpps/id_e13a5ef5f.npy'), WindowsPath('C:/Users/animeshs/GD/stanford-covid-vaccine/bpps/id_e141c2601.npy'), WindowsPath('C:/Users/animeshs/GD/stanford-covid-vaccine/bpps/id_e1571ddbe.npy'), WindowsPath('C:/Users/animeshs/GD/stanford-covid-vaccine/bpps/id_e165b9bab.npy'), WindowsPath('C:/Users/animeshs/GD/stanford-covid-vaccine/bpps/id_e16812de3.npy'), WindowsPath('C:/Users/animeshs/GD/stanford-covid-vaccine/bpps/id_e16cee8ce.npy'), WindowsPath('C:/Users/animeshs/GD/stanford-covid-vaccine/bpps/id_e16dc2823.npy'), WindowsPath('C:/Users/animeshs/GD/stanford-covid-vaccine/bpps/id_e17913a3e.npy'), WindowsPath('C:/Users/animeshs/GD/stanford-covid-vaccine/bpps/id_e18ccc38b.npy'), WindowsPath('C:/Users/animeshs/GD/stanford-covid-vaccine/bpps/id_e1936e16e.npy'), WindowsPath('C:/Users/animeshs/GD/stanford-covid-vaccine/bpps/id_e197f5e72.npy'), WindowsPath('C:/Users/animeshs/GD/stanford-covid-vaccine/bpps/id_e1989a951.npy'), WindowsPath('C:/Users/animeshs/GD/stanford-covid-vaccine/bpps/id_e1a1e4834.npy'), WindowsPath('C:/Users/animeshs/GD/stanford-covid-vaccine/bpps/id_e1a3437b8.npy'), WindowsPath('C:/Users/animeshs/GD/stanford-covid-vaccine/bpps/id_e1b0c5553.npy'), WindowsPath('C:/Users/animeshs/GD/stanford-covid-vaccine/bpps/id_e1bea7c09.npy'), WindowsPath('C:/Users/animeshs/GD/stanford-covid-vaccine/bpps/id_e1c86887d.npy'), WindowsPath('C:/Users/animeshs/GD/stanford-covid-vaccine/bpps/id_e1d1a8bc6.npy'), WindowsPath('C:/Users/animeshs/GD/stanford-covid-vaccine/bpps/id_e1f9de8c0.npy'), WindowsPath('C:/Users/animeshs/GD/stanford-covid-vaccine/bpps/id_e2027362b.npy'), WindowsPath('C:/Users/animeshs/GD/stanford-covid-vaccine/bpps/id_e20a9aa44.npy'), WindowsPath('C:/Users/animeshs/GD/stanford-covid-vaccine/bpps/id_e20aecf60.npy'), WindowsPath('C:/Users/animeshs/GD/stanford-covid-vaccine/bpps/id_e2257f895.npy'), WindowsPath('C:/Users/animeshs/GD/stanford-covid-vaccine/bpps/id_e22fcdbb6.npy'), WindowsPath('C:/Users/animeshs/GD/stanford-covid-vaccine/bpps/id_e238f0fae.npy'), WindowsPath('C:/Users/animeshs/GD/stanford-covid-vaccine/bpps/id_e23990d36.npy'), WindowsPath('C:/Users/animeshs/GD/stanford-covid-vaccine/bpps/id_e2450c275.npy'), WindowsPath('C:/Users/animeshs/GD/stanford-covid-vaccine/bpps/id_e26a3e451.npy'), WindowsPath('C:/Users/animeshs/GD/stanford-covid-vaccine/bpps/id_e27beac77.npy'), WindowsPath('C:/Users/animeshs/GD/stanford-covid-vaccine/bpps/id_e28065a10.npy'), WindowsPath('C:/Users/animeshs/GD/stanford-covid-vaccine/bpps/id_e28e5a1b2.npy'), WindowsPath('C:/Users/animeshs/GD/stanford-covid-vaccine/bpps/id_e28f7879a.npy'), WindowsPath('C:/Users/animeshs/GD/stanford-covid-vaccine/bpps/id_e2b5176b0.npy'), WindowsPath('C:/Users/animeshs/GD/stanford-covid-vaccine/bpps/id_e2c9b220f.npy'), WindowsPath('C:/Users/animeshs/GD/stanford-covid-vaccine/bpps/id_e2ce7b34f.npy'), WindowsPath('C:/Users/animeshs/GD/stanford-covid-vaccine/bpps/id_e2d580657.npy'), WindowsPath('C:/Users/animeshs/GD/stanford-covid-vaccine/bpps/id_e3018884a.npy'), WindowsPath('C:/Users/animeshs/GD/stanford-covid-vaccine/bpps/id_e30d6f0a1.npy'), WindowsPath('C:/Users/animeshs/GD/stanford-covid-vaccine/bpps/id_e31434bea.npy'), WindowsPath('C:/Users/animeshs/GD/stanford-covid-vaccine/bpps/id_e31be71a3.npy'), WindowsPath('C:/Users/animeshs/GD/stanford-covid-vaccine/bpps/id_e321345cd.npy'), WindowsPath('C:/Users/animeshs/GD/stanford-covid-vaccine/bpps/id_e32632b7d.npy'), WindowsPath('C:/Users/animeshs/GD/stanford-covid-vaccine/bpps/id_e326c01fc.npy'), WindowsPath('C:/Users/animeshs/GD/stanford-covid-vaccine/bpps/id_e32e6dc86.npy'), WindowsPath('C:/Users/animeshs/GD/stanford-covid-vaccine/bpps/id_e33668279.npy'), WindowsPath('C:/Users/animeshs/GD/stanford-covid-vaccine/bpps/id_e3369bb35.npy'), WindowsPath('C:/Users/animeshs/GD/stanford-covid-vaccine/bpps/id_e33addbaf.npy'), WindowsPath('C:/Users/animeshs/GD/stanford-covid-vaccine/bpps/id_e33daf1c9.npy'), WindowsPath('C:/Users/animeshs/GD/stanford-covid-vaccine/bpps/id_e357bd493.npy'), WindowsPath('C:/Users/animeshs/GD/stanford-covid-vaccine/bpps/id_e36245c2e.npy'), WindowsPath('C:/Users/animeshs/GD/stanford-covid-vaccine/bpps/id_e36279a47.npy'), WindowsPath('C:/Users/animeshs/GD/stanford-covid-vaccine/bpps/id_e36ae70c4.npy'), WindowsPath('C:/Users/animeshs/GD/stanford-covid-vaccine/bpps/id_e3734abc0.npy'), WindowsPath('C:/Users/animeshs/GD/stanford-covid-vaccine/bpps/id_e37445ac6.npy'), WindowsPath('C:/Users/animeshs/GD/stanford-covid-vaccine/bpps/id_e37816ee1.npy'), WindowsPath('C:/Users/animeshs/GD/stanford-covid-vaccine/bpps/id_e3837d521.npy'), WindowsPath('C:/Users/animeshs/GD/stanford-covid-vaccine/bpps/id_e3849f2af.npy'), WindowsPath('C:/Users/animeshs/GD/stanford-covid-vaccine/bpps/id_e38d13390.npy'), WindowsPath('C:/Users/animeshs/GD/stanford-covid-vaccine/bpps/id_e3a1b7e33.npy'), WindowsPath('C:/Users/animeshs/GD/stanford-covid-vaccine/bpps/id_e3a9fbe73.npy'), WindowsPath('C:/Users/animeshs/GD/stanford-covid-vaccine/bpps/id_e3b2bf089.npy'), WindowsPath('C:/Users/animeshs/GD/stanford-covid-vaccine/bpps/id_e3b333c02.npy'), WindowsPath('C:/Users/animeshs/GD/stanford-covid-vaccine/bpps/id_e3c2dfe4d.npy'), WindowsPath('C:/Users/animeshs/GD/stanford-covid-vaccine/bpps/id_e3ca29693.npy'), WindowsPath('C:/Users/animeshs/GD/stanford-covid-vaccine/bpps/id_e3d68a577.npy'), WindowsPath('C:/Users/animeshs/GD/stanford-covid-vaccine/bpps/id_e3e38e287.npy'), WindowsPath('C:/Users/animeshs/GD/stanford-covid-vaccine/bpps/id_e3e46a868.npy'), WindowsPath('C:/Users/animeshs/GD/stanford-covid-vaccine/bpps/id_e3ea6f580.npy'), WindowsPath('C:/Users/animeshs/GD/stanford-covid-vaccine/bpps/id_e3ebb4c5c.npy'), WindowsPath('C:/Users/animeshs/GD/stanford-covid-vaccine/bpps/id_e3f1a0050.npy'), WindowsPath('C:/Users/animeshs/GD/stanford-covid-vaccine/bpps/id_e3fdffb1e.npy'), WindowsPath('C:/Users/animeshs/GD/stanford-covid-vaccine/bpps/id_e404d89bc.npy'), WindowsPath('C:/Users/animeshs/GD/stanford-covid-vaccine/bpps/id_e40774d1b.npy'), WindowsPath('C:/Users/animeshs/GD/stanford-covid-vaccine/bpps/id_e411ce058.npy'), WindowsPath('C:/Users/animeshs/GD/stanford-covid-vaccine/bpps/id_e425aed88.npy'), WindowsPath('C:/Users/animeshs/GD/stanford-covid-vaccine/bpps/id_e43165706.npy'), WindowsPath('C:/Users/animeshs/GD/stanford-covid-vaccine/bpps/id_e4341f2c8.npy'), WindowsPath('C:/Users/animeshs/GD/stanford-covid-vaccine/bpps/id_e44ae5f31.npy'), WindowsPath('C:/Users/animeshs/GD/stanford-covid-vaccine/bpps/id_e44b72f3d.npy'), WindowsPath('C:/Users/animeshs/GD/stanford-covid-vaccine/bpps/id_e4591152e.npy'), WindowsPath('C:/Users/animeshs/GD/stanford-covid-vaccine/bpps/id_e4607743a.npy'), WindowsPath('C:/Users/animeshs/GD/stanford-covid-vaccine/bpps/id_e46191cc6.npy'), WindowsPath('C:/Users/animeshs/GD/stanford-covid-vaccine/bpps/id_e4a388004.npy'), WindowsPath('C:/Users/animeshs/GD/stanford-covid-vaccine/bpps/id_e4a731c19.npy'), WindowsPath('C:/Users/animeshs/GD/stanford-covid-vaccine/bpps/id_e4aa6f1bc.npy'), WindowsPath('C:/Users/animeshs/GD/stanford-covid-vaccine/bpps/id_e4de05033.npy'), WindowsPath('C:/Users/animeshs/GD/stanford-covid-vaccine/bpps/id_e4fc6c0bb.npy'), WindowsPath('C:/Users/animeshs/GD/stanford-covid-vaccine/bpps/id_e506e0da6.npy'), WindowsPath('C:/Users/animeshs/GD/stanford-covid-vaccine/bpps/id_e51649366.npy'), WindowsPath('C:/Users/animeshs/GD/stanford-covid-vaccine/bpps/id_e51c63683.npy'), WindowsPath('C:/Users/animeshs/GD/stanford-covid-vaccine/bpps/id_e53e7064a.npy'), WindowsPath('C:/Users/animeshs/GD/stanford-covid-vaccine/bpps/id_e54015ef7.npy'), WindowsPath('C:/Users/animeshs/GD/stanford-covid-vaccine/bpps/id_e56279d05.npy'), WindowsPath('C:/Users/animeshs/GD/stanford-covid-vaccine/bpps/id_e56c1e002.npy'), WindowsPath('C:/Users/animeshs/GD/stanford-covid-vaccine/bpps/id_e58e547c4.npy'), WindowsPath('C:/Users/animeshs/GD/stanford-covid-vaccine/bpps/id_e593b08f0.npy'), WindowsPath('C:/Users/animeshs/GD/stanford-covid-vaccine/bpps/id_e59a7fd8d.npy'), WindowsPath('C:/Users/animeshs/GD/stanford-covid-vaccine/bpps/id_e5af15981.npy'), WindowsPath('C:/Users/animeshs/GD/stanford-covid-vaccine/bpps/id_e5c35b6d4.npy'), WindowsPath('C:/Users/animeshs/GD/stanford-covid-vaccine/bpps/id_e5ce762a8.npy'), WindowsPath('C:/Users/animeshs/GD/stanford-covid-vaccine/bpps/id_e5df6dde3.npy'), WindowsPath('C:/Users/animeshs/GD/stanford-covid-vaccine/bpps/id_e5e230667.npy'), WindowsPath('C:/Users/animeshs/GD/stanford-covid-vaccine/bpps/id_e5e3b0c09.npy'), WindowsPath('C:/Users/animeshs/GD/stanford-covid-vaccine/bpps/id_e5f1fbce7.npy'), WindowsPath('C:/Users/animeshs/GD/stanford-covid-vaccine/bpps/id_e5f2ce42a.npy'), WindowsPath('C:/Users/animeshs/GD/stanford-covid-vaccine/bpps/id_e5f793a5b.npy'), WindowsPath('C:/Users/animeshs/GD/stanford-covid-vaccine/bpps/id_e5f7cccbc.npy'), WindowsPath('C:/Users/animeshs/GD/stanford-covid-vaccine/bpps/id_e60f1458e.npy'), WindowsPath('C:/Users/animeshs/GD/stanford-covid-vaccine/bpps/id_e617dd3a6.npy'), WindowsPath('C:/Users/animeshs/GD/stanford-covid-vaccine/bpps/id_e62da3961.npy'), WindowsPath('C:/Users/animeshs/GD/stanford-covid-vaccine/bpps/id_e653ad93f.npy'), WindowsPath('C:/Users/animeshs/GD/stanford-covid-vaccine/bpps/id_e66383c79.npy'), WindowsPath('C:/Users/animeshs/GD/stanford-covid-vaccine/bpps/id_e6644ca32.npy'), WindowsPath('C:/Users/animeshs/GD/stanford-covid-vaccine/bpps/id_e679e80dd.npy'), WindowsPath('C:/Users/animeshs/GD/stanford-covid-vaccine/bpps/id_e6901b174.npy'), WindowsPath('C:/Users/animeshs/GD/stanford-covid-vaccine/bpps/id_e6c53c2ba.npy'), WindowsPath('C:/Users/animeshs/GD/stanford-covid-vaccine/bpps/id_e6c8c401a.npy'), WindowsPath('C:/Users/animeshs/GD/stanford-covid-vaccine/bpps/id_e6d58a093.npy'), WindowsPath('C:/Users/animeshs/GD/stanford-covid-vaccine/bpps/id_e6ed5b032.npy'), WindowsPath('C:/Users/animeshs/GD/stanford-covid-vaccine/bpps/id_e7036f611.npy'), WindowsPath('C:/Users/animeshs/GD/stanford-covid-vaccine/bpps/id_e717ffa48.npy'), WindowsPath('C:/Users/animeshs/GD/stanford-covid-vaccine/bpps/id_e71939819.npy'), WindowsPath('C:/Users/animeshs/GD/stanford-covid-vaccine/bpps/id_e71a0f2af.npy'), WindowsPath('C:/Users/animeshs/GD/stanford-covid-vaccine/bpps/id_e73c58b1e.npy'), WindowsPath('C:/Users/animeshs/GD/stanford-covid-vaccine/bpps/id_e7495ccf5.npy'), WindowsPath('C:/Users/animeshs/GD/stanford-covid-vaccine/bpps/id_e754196d6.npy'), WindowsPath('C:/Users/animeshs/GD/stanford-covid-vaccine/bpps/id_e75efb4c2.npy'), WindowsPath('C:/Users/animeshs/GD/stanford-covid-vaccine/bpps/id_e772efd1d.npy'), WindowsPath('C:/Users/animeshs/GD/stanford-covid-vaccine/bpps/id_e775f1e6a.npy'), WindowsPath('C:/Users/animeshs/GD/stanford-covid-vaccine/bpps/id_e780fc5e0.npy'), WindowsPath('C:/Users/animeshs/GD/stanford-covid-vaccine/bpps/id_e784d62db.npy'), WindowsPath('C:/Users/animeshs/GD/stanford-covid-vaccine/bpps/id_e784e76eb.npy'), WindowsPath('C:/Users/animeshs/GD/stanford-covid-vaccine/bpps/id_e7903d604.npy'), WindowsPath('C:/Users/animeshs/GD/stanford-covid-vaccine/bpps/id_e7981e8fe.npy'), WindowsPath('C:/Users/animeshs/GD/stanford-covid-vaccine/bpps/id_e799adf26.npy'), WindowsPath('C:/Users/animeshs/GD/stanford-covid-vaccine/bpps/id_e7a3ff540.npy'), WindowsPath('C:/Users/animeshs/GD/stanford-covid-vaccine/bpps/id_e7b16d5f4.npy'), WindowsPath('C:/Users/animeshs/GD/stanford-covid-vaccine/bpps/id_e7bcb9b05.npy'), WindowsPath('C:/Users/animeshs/GD/stanford-covid-vaccine/bpps/id_e7c28b521.npy'), WindowsPath('C:/Users/animeshs/GD/stanford-covid-vaccine/bpps/id_e7c4d1816.npy'), WindowsPath('C:/Users/animeshs/GD/stanford-covid-vaccine/bpps/id_e7c82830e.npy'), WindowsPath('C:/Users/animeshs/GD/stanford-covid-vaccine/bpps/id_e7cc088ff.npy'), WindowsPath('C:/Users/animeshs/GD/stanford-covid-vaccine/bpps/id_e7cc7a91d.npy'), WindowsPath('C:/Users/animeshs/GD/stanford-covid-vaccine/bpps/id_e7d5e1296.npy'), WindowsPath('C:/Users/animeshs/GD/stanford-covid-vaccine/bpps/id_e7dab68bd.npy'), WindowsPath('C:/Users/animeshs/GD/stanford-covid-vaccine/bpps/id_e7e1642ca.npy'), WindowsPath('C:/Users/animeshs/GD/stanford-covid-vaccine/bpps/id_e7e7c26b8.npy'), WindowsPath('C:/Users/animeshs/GD/stanford-covid-vaccine/bpps/id_e7f61f888.npy'), WindowsPath('C:/Users/animeshs/GD/stanford-covid-vaccine/bpps/id_e7f73b85f.npy'), WindowsPath('C:/Users/animeshs/GD/stanford-covid-vaccine/bpps/id_e7fc12163.npy'), WindowsPath('C:/Users/animeshs/GD/stanford-covid-vaccine/bpps/id_e80c31245.npy'), WindowsPath('C:/Users/animeshs/GD/stanford-covid-vaccine/bpps/id_e8123e7fe.npy'), WindowsPath('C:/Users/animeshs/GD/stanford-covid-vaccine/bpps/id_e824cd38a.npy'), WindowsPath('C:/Users/animeshs/GD/stanford-covid-vaccine/bpps/id_e8269d60e.npy'), WindowsPath('C:/Users/animeshs/GD/stanford-covid-vaccine/bpps/id_e82c8ff31.npy'), WindowsPath('C:/Users/animeshs/GD/stanford-covid-vaccine/bpps/id_e82ea185a.npy'), WindowsPath('C:/Users/animeshs/GD/stanford-covid-vaccine/bpps/id_e8520acba.npy'), WindowsPath('C:/Users/animeshs/GD/stanford-covid-vaccine/bpps/id_e8550ca77.npy'), WindowsPath('C:/Users/animeshs/GD/stanford-covid-vaccine/bpps/id_e866bc913.npy'), WindowsPath('C:/Users/animeshs/GD/stanford-covid-vaccine/bpps/id_e868adf51.npy'), WindowsPath('C:/Users/animeshs/GD/stanford-covid-vaccine/bpps/id_e87671661.npy'), WindowsPath('C:/Users/animeshs/GD/stanford-covid-vaccine/bpps/id_e877a2403.npy'), WindowsPath('C:/Users/animeshs/GD/stanford-covid-vaccine/bpps/id_e883aee59.npy'), WindowsPath('C:/Users/animeshs/GD/stanford-covid-vaccine/bpps/id_e88f522bc.npy'), WindowsPath('C:/Users/animeshs/GD/stanford-covid-vaccine/bpps/id_e88f54317.npy'), WindowsPath('C:/Users/animeshs/GD/stanford-covid-vaccine/bpps/id_e88f8cddd.npy'), WindowsPath('C:/Users/animeshs/GD/stanford-covid-vaccine/bpps/id_e89b28576.npy'), WindowsPath('C:/Users/animeshs/GD/stanford-covid-vaccine/bpps/id_e8adec7d5.npy'), WindowsPath('C:/Users/animeshs/GD/stanford-covid-vaccine/bpps/id_e8bcd88bd.npy'), WindowsPath('C:/Users/animeshs/GD/stanford-covid-vaccine/bpps/id_e8c9eea2c.npy'), WindowsPath('C:/Users/animeshs/GD/stanford-covid-vaccine/bpps/id_e8cac6503.npy'), WindowsPath('C:/Users/animeshs/GD/stanford-covid-vaccine/bpps/id_e8cd7a937.npy'), WindowsPath('C:/Users/animeshs/GD/stanford-covid-vaccine/bpps/id_e8d70dc66.npy'), WindowsPath('C:/Users/animeshs/GD/stanford-covid-vaccine/bpps/id_e8de5f2d5.npy'), WindowsPath('C:/Users/animeshs/GD/stanford-covid-vaccine/bpps/id_e8e6a9cfc.npy'), WindowsPath('C:/Users/animeshs/GD/stanford-covid-vaccine/bpps/id_e902df05f.npy'), WindowsPath('C:/Users/animeshs/GD/stanford-covid-vaccine/bpps/id_e9037deef.npy'), WindowsPath('C:/Users/animeshs/GD/stanford-covid-vaccine/bpps/id_e929e313e.npy'), WindowsPath('C:/Users/animeshs/GD/stanford-covid-vaccine/bpps/id_e93b4ae96.npy'), WindowsPath('C:/Users/animeshs/GD/stanford-covid-vaccine/bpps/id_e94f18d97.npy'), WindowsPath('C:/Users/animeshs/GD/stanford-covid-vaccine/bpps/id_e951abd1b.npy'), WindowsPath('C:/Users/animeshs/GD/stanford-covid-vaccine/bpps/id_e95f64c7c.npy'), WindowsPath('C:/Users/animeshs/GD/stanford-covid-vaccine/bpps/id_e973b705c.npy'), WindowsPath('C:/Users/animeshs/GD/stanford-covid-vaccine/bpps/id_e977568f8.npy'), WindowsPath('C:/Users/animeshs/GD/stanford-covid-vaccine/bpps/id_e97c9e07d.npy'), WindowsPath('C:/Users/animeshs/GD/stanford-covid-vaccine/bpps/id_e982c2fc1.npy'), WindowsPath('C:/Users/animeshs/GD/stanford-covid-vaccine/bpps/id_e98cc8db2.npy'), WindowsPath('C:/Users/animeshs/GD/stanford-covid-vaccine/bpps/id_e9ac1b1ca.npy'), WindowsPath('C:/Users/animeshs/GD/stanford-covid-vaccine/bpps/id_e9ac2d27b.npy'), WindowsPath('C:/Users/animeshs/GD/stanford-covid-vaccine/bpps/id_e9b6a643c.npy'), WindowsPath('C:/Users/animeshs/GD/stanford-covid-vaccine/bpps/id_e9bc95068.npy'), WindowsPath('C:/Users/animeshs/GD/stanford-covid-vaccine/bpps/id_e9cdc8e65.npy'), WindowsPath('C:/Users/animeshs/GD/stanford-covid-vaccine/bpps/id_e9d43222e.npy'), WindowsPath('C:/Users/animeshs/GD/stanford-covid-vaccine/bpps/id_e9d68c5c0.npy'), WindowsPath('C:/Users/animeshs/GD/stanford-covid-vaccine/bpps/id_e9d935e91.npy'), WindowsPath('C:/Users/animeshs/GD/stanford-covid-vaccine/bpps/id_e9e4c4918.npy'), WindowsPath('C:/Users/animeshs/GD/stanford-covid-vaccine/bpps/id_e9e541b26.npy'), WindowsPath('C:/Users/animeshs/GD/stanford-covid-vaccine/bpps/id_e9f28c662.npy'), WindowsPath('C:/Users/animeshs/GD/stanford-covid-vaccine/bpps/id_e9f4f081e.npy'), WindowsPath('C:/Users/animeshs/GD/stanford-covid-vaccine/bpps/id_ea0c1d8d4.npy'), WindowsPath('C:/Users/animeshs/GD/stanford-covid-vaccine/bpps/id_ea16c62f5.npy'), WindowsPath('C:/Users/animeshs/GD/stanford-covid-vaccine/bpps/id_ea201c388.npy'), WindowsPath('C:/Users/animeshs/GD/stanford-covid-vaccine/bpps/id_ea40c9cd4.npy'), WindowsPath('C:/Users/animeshs/GD/stanford-covid-vaccine/bpps/id_ea65789b9.npy'), WindowsPath('C:/Users/animeshs/GD/stanford-covid-vaccine/bpps/id_ea6b0b16a.npy'), WindowsPath('C:/Users/animeshs/GD/stanford-covid-vaccine/bpps/id_ea93bec97.npy'), WindowsPath('C:/Users/animeshs/GD/stanford-covid-vaccine/bpps/id_eaa6633e1.npy'), WindowsPath('C:/Users/animeshs/GD/stanford-covid-vaccine/bpps/id_eaaaf0960.npy'), WindowsPath('C:/Users/animeshs/GD/stanford-covid-vaccine/bpps/id_eac02c237.npy'), WindowsPath('C:/Users/animeshs/GD/stanford-covid-vaccine/bpps/id_eada9444e.npy'), WindowsPath('C:/Users/animeshs/GD/stanford-covid-vaccine/bpps/id_eaf017d90.npy'), WindowsPath('C:/Users/animeshs/GD/stanford-covid-vaccine/bpps/id_eaf807a39.npy'), WindowsPath('C:/Users/animeshs/GD/stanford-covid-vaccine/bpps/id_eaffc8a60.npy'), WindowsPath('C:/Users/animeshs/GD/stanford-covid-vaccine/bpps/id_eb06da8bc.npy'), WindowsPath('C:/Users/animeshs/GD/stanford-covid-vaccine/bpps/id_eb08d0c28.npy'), WindowsPath('C:/Users/animeshs/GD/stanford-covid-vaccine/bpps/id_eb13273b5.npy'), WindowsPath('C:/Users/animeshs/GD/stanford-covid-vaccine/bpps/id_eb177f06d.npy'), WindowsPath('C:/Users/animeshs/GD/stanford-covid-vaccine/bpps/id_eb1831a85.npy'), WindowsPath('C:/Users/animeshs/GD/stanford-covid-vaccine/bpps/id_eb26c9579.npy'), WindowsPath('C:/Users/animeshs/GD/stanford-covid-vaccine/bpps/id_eb2efe1c4.npy'), WindowsPath('C:/Users/animeshs/GD/stanford-covid-vaccine/bpps/id_eb309f225.npy'), WindowsPath('C:/Users/animeshs/GD/stanford-covid-vaccine/bpps/id_eb3195677.npy'), WindowsPath('C:/Users/animeshs/GD/stanford-covid-vaccine/bpps/id_eb3d415d1.npy'), WindowsPath('C:/Users/animeshs/GD/stanford-covid-vaccine/bpps/id_eb46ebe65.npy'), WindowsPath('C:/Users/animeshs/GD/stanford-covid-vaccine/bpps/id_eb4e1c878.npy'), WindowsPath('C:/Users/animeshs/GD/stanford-covid-vaccine/bpps/id_eb523f2d5.npy'), WindowsPath('C:/Users/animeshs/GD/stanford-covid-vaccine/bpps/id_eb9ecf091.npy'), WindowsPath('C:/Users/animeshs/GD/stanford-covid-vaccine/bpps/id_eba2258b6.npy'), WindowsPath('C:/Users/animeshs/GD/stanford-covid-vaccine/bpps/id_eba627a8f.npy'), WindowsPath('C:/Users/animeshs/GD/stanford-covid-vaccine/bpps/id_ebb0e93eb.npy'), WindowsPath('C:/Users/animeshs/GD/stanford-covid-vaccine/bpps/id_ebb16ec3a.npy'), WindowsPath('C:/Users/animeshs/GD/stanford-covid-vaccine/bpps/id_ebc2c158b.npy'), WindowsPath('C:/Users/animeshs/GD/stanford-covid-vaccine/bpps/id_ebca06a78.npy'), WindowsPath('C:/Users/animeshs/GD/stanford-covid-vaccine/bpps/id_ebcfd1539.npy'), WindowsPath('C:/Users/animeshs/GD/stanford-covid-vaccine/bpps/id_ebef5c4cc.npy'), WindowsPath('C:/Users/animeshs/GD/stanford-covid-vaccine/bpps/id_ebf1148ee.npy'), WindowsPath('C:/Users/animeshs/GD/stanford-covid-vaccine/bpps/id_ebf11a657.npy'), WindowsPath('C:/Users/animeshs/GD/stanford-covid-vaccine/bpps/id_ec1ba73fa.npy'), WindowsPath('C:/Users/animeshs/GD/stanford-covid-vaccine/bpps/id_ec2877c37.npy'), WindowsPath('C:/Users/animeshs/GD/stanford-covid-vaccine/bpps/id_ec2b2bf28.npy'), WindowsPath('C:/Users/animeshs/GD/stanford-covid-vaccine/bpps/id_ec2e7a423.npy'), WindowsPath('C:/Users/animeshs/GD/stanford-covid-vaccine/bpps/id_ec3ea3c28.npy'), WindowsPath('C:/Users/animeshs/GD/stanford-covid-vaccine/bpps/id_ec5598c4f.npy'), WindowsPath('C:/Users/animeshs/GD/stanford-covid-vaccine/bpps/id_ec5de6408.npy'), WindowsPath('C:/Users/animeshs/GD/stanford-covid-vaccine/bpps/id_ec9321439.npy'), WindowsPath('C:/Users/animeshs/GD/stanford-covid-vaccine/bpps/id_ec967a03a.npy'), WindowsPath('C:/Users/animeshs/GD/stanford-covid-vaccine/bpps/id_ecb568b34.npy'), WindowsPath('C:/Users/animeshs/GD/stanford-covid-vaccine/bpps/id_ecd79ba5b.npy'), WindowsPath('C:/Users/animeshs/GD/stanford-covid-vaccine/bpps/id_ecd8c2651.npy'), WindowsPath('C:/Users/animeshs/GD/stanford-covid-vaccine/bpps/id_ecd9075d2.npy'), WindowsPath('C:/Users/animeshs/GD/stanford-covid-vaccine/bpps/id_ecdced5c7.npy'), WindowsPath('C:/Users/animeshs/GD/stanford-covid-vaccine/bpps/id_ecde34a24.npy'), WindowsPath('C:/Users/animeshs/GD/stanford-covid-vaccine/bpps/id_ecdf86a01.npy'), WindowsPath('C:/Users/animeshs/GD/stanford-covid-vaccine/bpps/id_ece2cb983.npy'), WindowsPath('C:/Users/animeshs/GD/stanford-covid-vaccine/bpps/id_ece989504.npy'), WindowsPath('C:/Users/animeshs/GD/stanford-covid-vaccine/bpps/id_ece9f1260.npy'), WindowsPath('C:/Users/animeshs/GD/stanford-covid-vaccine/bpps/id_ecf0fc25f.npy'), WindowsPath('C:/Users/animeshs/GD/stanford-covid-vaccine/bpps/id_ecf43eef3.npy'), WindowsPath('C:/Users/animeshs/GD/stanford-covid-vaccine/bpps/id_ecf7368d5.npy'), WindowsPath('C:/Users/animeshs/GD/stanford-covid-vaccine/bpps/id_ed07b34c6.npy'), WindowsPath('C:/Users/animeshs/GD/stanford-covid-vaccine/bpps/id_ed0b25c35.npy'), WindowsPath('C:/Users/animeshs/GD/stanford-covid-vaccine/bpps/id_ed2565a16.npy'), WindowsPath('C:/Users/animeshs/GD/stanford-covid-vaccine/bpps/id_ed3866db5.npy'), WindowsPath('C:/Users/animeshs/GD/stanford-covid-vaccine/bpps/id_ed38bce31.npy'), WindowsPath('C:/Users/animeshs/GD/stanford-covid-vaccine/bpps/id_ed401793c.npy'), WindowsPath('C:/Users/animeshs/GD/stanford-covid-vaccine/bpps/id_ed4078ded.npy'), WindowsPath('C:/Users/animeshs/GD/stanford-covid-vaccine/bpps/id_ed4397a49.npy'), WindowsPath('C:/Users/animeshs/GD/stanford-covid-vaccine/bpps/id_ed492b2d5.npy'), WindowsPath('C:/Users/animeshs/GD/stanford-covid-vaccine/bpps/id_ed4d47441.npy'), WindowsPath('C:/Users/animeshs/GD/stanford-covid-vaccine/bpps/id_ed50eab2f.npy'), WindowsPath('C:/Users/animeshs/GD/stanford-covid-vaccine/bpps/id_ed7a60eb4.npy'), WindowsPath('C:/Users/animeshs/GD/stanford-covid-vaccine/bpps/id_ed81cfd4b.npy'), WindowsPath('C:/Users/animeshs/GD/stanford-covid-vaccine/bpps/id_ed85893e9.npy'), WindowsPath('C:/Users/animeshs/GD/stanford-covid-vaccine/bpps/id_ed9c21efa.npy'), WindowsPath('C:/Users/animeshs/GD/stanford-covid-vaccine/bpps/id_edb033786.npy'), WindowsPath('C:/Users/animeshs/GD/stanford-covid-vaccine/bpps/id_edbeb2164.npy'), WindowsPath('C:/Users/animeshs/GD/stanford-covid-vaccine/bpps/id_edc04583a.npy'), WindowsPath('C:/Users/animeshs/GD/stanford-covid-vaccine/bpps/id_eddfb4852.npy'), WindowsPath('C:/Users/animeshs/GD/stanford-covid-vaccine/bpps/id_edec49092.npy'), WindowsPath('C:/Users/animeshs/GD/stanford-covid-vaccine/bpps/id_ee08bcdaf.npy'), WindowsPath('C:/Users/animeshs/GD/stanford-covid-vaccine/bpps/id_ee08c8bf4.npy'), WindowsPath('C:/Users/animeshs/GD/stanford-covid-vaccine/bpps/id_ee166df47.npy'), WindowsPath('C:/Users/animeshs/GD/stanford-covid-vaccine/bpps/id_ee1833a39.npy'), WindowsPath('C:/Users/animeshs/GD/stanford-covid-vaccine/bpps/id_ee1b3d6c2.npy'), WindowsPath('C:/Users/animeshs/GD/stanford-covid-vaccine/bpps/id_ee214afdd.npy'), WindowsPath('C:/Users/animeshs/GD/stanford-covid-vaccine/bpps/id_ee2b9cf3d.npy'), WindowsPath('C:/Users/animeshs/GD/stanford-covid-vaccine/bpps/id_ee3096f0d.npy'), WindowsPath('C:/Users/animeshs/GD/stanford-covid-vaccine/bpps/id_ee3503d1a.npy'), WindowsPath('C:/Users/animeshs/GD/stanford-covid-vaccine/bpps/id_ee3f72ad9.npy'), WindowsPath('C:/Users/animeshs/GD/stanford-covid-vaccine/bpps/id_ee4f597e5.npy'), WindowsPath('C:/Users/animeshs/GD/stanford-covid-vaccine/bpps/id_ee5313ef4.npy'), WindowsPath('C:/Users/animeshs/GD/stanford-covid-vaccine/bpps/id_ee61ee80e.npy'), WindowsPath('C:/Users/animeshs/GD/stanford-covid-vaccine/bpps/id_ee6e6c387.npy'), WindowsPath('C:/Users/animeshs/GD/stanford-covid-vaccine/bpps/id_ee76c2b80.npy'), WindowsPath('C:/Users/animeshs/GD/stanford-covid-vaccine/bpps/id_ee79c6be1.npy'), WindowsPath('C:/Users/animeshs/GD/stanford-covid-vaccine/bpps/id_ee8a2a12a.npy'), WindowsPath('C:/Users/animeshs/GD/stanford-covid-vaccine/bpps/id_ee90b77ef.npy'), WindowsPath('C:/Users/animeshs/GD/stanford-covid-vaccine/bpps/id_ee96e66ed.npy'), WindowsPath('C:/Users/animeshs/GD/stanford-covid-vaccine/bpps/id_ee9cb0ac1.npy'), WindowsPath('C:/Users/animeshs/GD/stanford-covid-vaccine/bpps/id_ee9ebf7cd.npy'), WindowsPath('C:/Users/animeshs/GD/stanford-covid-vaccine/bpps/id_eeb1c7dd2.npy'), WindowsPath('C:/Users/animeshs/GD/stanford-covid-vaccine/bpps/id_eed48d0f6.npy'), WindowsPath('C:/Users/animeshs/GD/stanford-covid-vaccine/bpps/id_eedf0159a.npy'), WindowsPath('C:/Users/animeshs/GD/stanford-covid-vaccine/bpps/id_eee15d7c1.npy'), WindowsPath('C:/Users/animeshs/GD/stanford-covid-vaccine/bpps/id_eeeb065cd.npy'), WindowsPath('C:/Users/animeshs/GD/stanford-covid-vaccine/bpps/id_eef460c6b.npy'), WindowsPath('C:/Users/animeshs/GD/stanford-covid-vaccine/bpps/id_ef0eded02.npy'), WindowsPath('C:/Users/animeshs/GD/stanford-covid-vaccine/bpps/id_ef100d122.npy'), WindowsPath('C:/Users/animeshs/GD/stanford-covid-vaccine/bpps/id_ef215bd4c.npy'), WindowsPath('C:/Users/animeshs/GD/stanford-covid-vaccine/bpps/id_ef3aa1324.npy'), WindowsPath('C:/Users/animeshs/GD/stanford-covid-vaccine/bpps/id_ef3f28be6.npy'), WindowsPath('C:/Users/animeshs/GD/stanford-covid-vaccine/bpps/id_ef4355fe6.npy'), WindowsPath('C:/Users/animeshs/GD/stanford-covid-vaccine/bpps/id_ef4c0fcfe.npy'), WindowsPath('C:/Users/animeshs/GD/stanford-covid-vaccine/bpps/id_ef52f7e00.npy'), WindowsPath('C:/Users/animeshs/GD/stanford-covid-vaccine/bpps/id_ef5ec8f0d.npy'), WindowsPath('C:/Users/animeshs/GD/stanford-covid-vaccine/bpps/id_ef6779c47.npy'), WindowsPath('C:/Users/animeshs/GD/stanford-covid-vaccine/bpps/id_ef6b44201.npy'), WindowsPath('C:/Users/animeshs/GD/stanford-covid-vaccine/bpps/id_ef7c1e165.npy'), WindowsPath('C:/Users/animeshs/GD/stanford-covid-vaccine/bpps/id_ef7e56dcf.npy'), WindowsPath('C:/Users/animeshs/GD/stanford-covid-vaccine/bpps/id_ef961b60b.npy'), WindowsPath('C:/Users/animeshs/GD/stanford-covid-vaccine/bpps/id_ef9a237df.npy'), WindowsPath('C:/Users/animeshs/GD/stanford-covid-vaccine/bpps/id_ef9fc4d8b.npy'), WindowsPath('C:/Users/animeshs/GD/stanford-covid-vaccine/bpps/id_efb3cb297.npy'), WindowsPath('C:/Users/animeshs/GD/stanford-covid-vaccine/bpps/id_efcb4a9b4.npy'), WindowsPath('C:/Users/animeshs/GD/stanford-covid-vaccine/bpps/id_efceeb2ee.npy'), WindowsPath('C:/Users/animeshs/GD/stanford-covid-vaccine/bpps/id_efcef4e56.npy'), WindowsPath('C:/Users/animeshs/GD/stanford-covid-vaccine/bpps/id_efdd0bb44.npy'), WindowsPath('C:/Users/animeshs/GD/stanford-covid-vaccine/bpps/id_efe58a1cc.npy'), WindowsPath('C:/Users/animeshs/GD/stanford-covid-vaccine/bpps/id_efe7fd715.npy'), WindowsPath('C:/Users/animeshs/GD/stanford-covid-vaccine/bpps/id_effb3fa3f.npy'), WindowsPath('C:/Users/animeshs/GD/stanford-covid-vaccine/bpps/id_effd21ca8.npy'), WindowsPath('C:/Users/animeshs/GD/stanford-covid-vaccine/bpps/id_f0065e459.npy'), WindowsPath('C:/Users/animeshs/GD/stanford-covid-vaccine/bpps/id_f01117273.npy'), WindowsPath('C:/Users/animeshs/GD/stanford-covid-vaccine/bpps/id_f011c4135.npy'), WindowsPath('C:/Users/animeshs/GD/stanford-covid-vaccine/bpps/id_f02315e7e.npy'), WindowsPath('C:/Users/animeshs/GD/stanford-covid-vaccine/bpps/id_f02501680.npy'), WindowsPath('C:/Users/animeshs/GD/stanford-covid-vaccine/bpps/id_f0377b70c.npy'), WindowsPath('C:/Users/animeshs/GD/stanford-covid-vaccine/bpps/id_f03866c30.npy'), WindowsPath('C:/Users/animeshs/GD/stanford-covid-vaccine/bpps/id_f046240d8.npy'), WindowsPath('C:/Users/animeshs/GD/stanford-covid-vaccine/bpps/id_f0478a04b.npy'), WindowsPath('C:/Users/animeshs/GD/stanford-covid-vaccine/bpps/id_f05c99037.npy'), WindowsPath('C:/Users/animeshs/GD/stanford-covid-vaccine/bpps/id_f0646f41c.npy'), WindowsPath('C:/Users/animeshs/GD/stanford-covid-vaccine/bpps/id_f07aa1a30.npy'), WindowsPath('C:/Users/animeshs/GD/stanford-covid-vaccine/bpps/id_f09015db2.npy'), WindowsPath('C:/Users/animeshs/GD/stanford-covid-vaccine/bpps/id_f0922afa1.npy'), WindowsPath('C:/Users/animeshs/GD/stanford-covid-vaccine/bpps/id_f0a0e62b0.npy'), WindowsPath('C:/Users/animeshs/GD/stanford-covid-vaccine/bpps/id_f0aab9a8a.npy'), WindowsPath('C:/Users/animeshs/GD/stanford-covid-vaccine/bpps/id_f0b827680.npy'), WindowsPath('C:/Users/animeshs/GD/stanford-covid-vaccine/bpps/id_f0be40ab4.npy'), WindowsPath('C:/Users/animeshs/GD/stanford-covid-vaccine/bpps/id_f0bf41fdc.npy'), WindowsPath('C:/Users/animeshs/GD/stanford-covid-vaccine/bpps/id_f0d063262.npy'), WindowsPath('C:/Users/animeshs/GD/stanford-covid-vaccine/bpps/id_f0dabb14c.npy'), WindowsPath('C:/Users/animeshs/GD/stanford-covid-vaccine/bpps/id_f0de6e2b8.npy'), WindowsPath('C:/Users/animeshs/GD/stanford-covid-vaccine/bpps/id_f0e80c021.npy'), WindowsPath('C:/Users/animeshs/GD/stanford-covid-vaccine/bpps/id_f0e9eec1d.npy'), WindowsPath('C:/Users/animeshs/GD/stanford-covid-vaccine/bpps/id_f1195ab2f.npy'), WindowsPath('C:/Users/animeshs/GD/stanford-covid-vaccine/bpps/id_f11efec6d.npy'), WindowsPath('C:/Users/animeshs/GD/stanford-covid-vaccine/bpps/id_f12913f9f.npy'), WindowsPath('C:/Users/animeshs/GD/stanford-covid-vaccine/bpps/id_f12f03115.npy'), WindowsPath('C:/Users/animeshs/GD/stanford-covid-vaccine/bpps/id_f135ca3c7.npy'), WindowsPath('C:/Users/animeshs/GD/stanford-covid-vaccine/bpps/id_f1401c162.npy'), WindowsPath('C:/Users/animeshs/GD/stanford-covid-vaccine/bpps/id_f152a007f.npy'), WindowsPath('C:/Users/animeshs/GD/stanford-covid-vaccine/bpps/id_f160925e7.npy'), WindowsPath('C:/Users/animeshs/GD/stanford-covid-vaccine/bpps/id_f17872b95.npy'), WindowsPath('C:/Users/animeshs/GD/stanford-covid-vaccine/bpps/id_f17af1292.npy'), WindowsPath('C:/Users/animeshs/GD/stanford-covid-vaccine/bpps/id_f18aaa51a.npy'), WindowsPath('C:/Users/animeshs/GD/stanford-covid-vaccine/bpps/id_f19bb8048.npy'), WindowsPath('C:/Users/animeshs/GD/stanford-covid-vaccine/bpps/id_f19ecf7f0.npy'), WindowsPath('C:/Users/animeshs/GD/stanford-covid-vaccine/bpps/id_f19ef6ccf.npy'), WindowsPath('C:/Users/animeshs/GD/stanford-covid-vaccine/bpps/id_f1ae07857.npy'), WindowsPath('C:/Users/animeshs/GD/stanford-covid-vaccine/bpps/id_f1b629583.npy'), WindowsPath('C:/Users/animeshs/GD/stanford-covid-vaccine/bpps/id_f1c2edeac.npy'), WindowsPath('C:/Users/animeshs/GD/stanford-covid-vaccine/bpps/id_f1c5d0ac2.npy'), WindowsPath('C:/Users/animeshs/GD/stanford-covid-vaccine/bpps/id_f1c7beb0a.npy'), WindowsPath('C:/Users/animeshs/GD/stanford-covid-vaccine/bpps/id_f1cc592fa.npy'), WindowsPath('C:/Users/animeshs/GD/stanford-covid-vaccine/bpps/id_f1ce95a0a.npy'), WindowsPath('C:/Users/animeshs/GD/stanford-covid-vaccine/bpps/id_f1fb4b534.npy'), WindowsPath('C:/Users/animeshs/GD/stanford-covid-vaccine/bpps/id_f1fd92ff6.npy'), WindowsPath('C:/Users/animeshs/GD/stanford-covid-vaccine/bpps/id_f20530c43.npy'), WindowsPath('C:/Users/animeshs/GD/stanford-covid-vaccine/bpps/id_f214596a9.npy'), WindowsPath('C:/Users/animeshs/GD/stanford-covid-vaccine/bpps/id_f21c63ddd.npy'), WindowsPath('C:/Users/animeshs/GD/stanford-covid-vaccine/bpps/id_f22a35716.npy'), WindowsPath('C:/Users/animeshs/GD/stanford-covid-vaccine/bpps/id_f22bb7725.npy'), WindowsPath('C:/Users/animeshs/GD/stanford-covid-vaccine/bpps/id_f23e909e2.npy'), WindowsPath('C:/Users/animeshs/GD/stanford-covid-vaccine/bpps/id_f2494efe0.npy'), WindowsPath('C:/Users/animeshs/GD/stanford-covid-vaccine/bpps/id_f24dd6c78.npy'), WindowsPath('C:/Users/animeshs/GD/stanford-covid-vaccine/bpps/id_f25080624.npy'), WindowsPath('C:/Users/animeshs/GD/stanford-covid-vaccine/bpps/id_f25a85692.npy'), WindowsPath('C:/Users/animeshs/GD/stanford-covid-vaccine/bpps/id_f25bb0e0e.npy'), WindowsPath('C:/Users/animeshs/GD/stanford-covid-vaccine/bpps/id_f2673cbfb.npy'), WindowsPath('C:/Users/animeshs/GD/stanford-covid-vaccine/bpps/id_f26c42879.npy'), WindowsPath('C:/Users/animeshs/GD/stanford-covid-vaccine/bpps/id_f283cc4ee.npy'), WindowsPath('C:/Users/animeshs/GD/stanford-covid-vaccine/bpps/id_f2999efc2.npy'), WindowsPath('C:/Users/animeshs/GD/stanford-covid-vaccine/bpps/id_f29c60c9d.npy'), WindowsPath('C:/Users/animeshs/GD/stanford-covid-vaccine/bpps/id_f29d7e35e.npy'), WindowsPath('C:/Users/animeshs/GD/stanford-covid-vaccine/bpps/id_f2b6f2182.npy'), WindowsPath('C:/Users/animeshs/GD/stanford-covid-vaccine/bpps/id_f2c627dcc.npy'), WindowsPath('C:/Users/animeshs/GD/stanford-covid-vaccine/bpps/id_f2c6c3453.npy'), WindowsPath('C:/Users/animeshs/GD/stanford-covid-vaccine/bpps/id_f2d1ea25a.npy'), WindowsPath('C:/Users/animeshs/GD/stanford-covid-vaccine/bpps/id_f2d688810.npy'), WindowsPath('C:/Users/animeshs/GD/stanford-covid-vaccine/bpps/id_f2da22046.npy'), WindowsPath('C:/Users/animeshs/GD/stanford-covid-vaccine/bpps/id_f2dbbe01f.npy'), WindowsPath('C:/Users/animeshs/GD/stanford-covid-vaccine/bpps/id_f2e742929.npy'), WindowsPath('C:/Users/animeshs/GD/stanford-covid-vaccine/bpps/id_f2e88643f.npy'), WindowsPath('C:/Users/animeshs/GD/stanford-covid-vaccine/bpps/id_f2f764461.npy'), WindowsPath('C:/Users/animeshs/GD/stanford-covid-vaccine/bpps/id_f2fe52bef.npy'), WindowsPath('C:/Users/animeshs/GD/stanford-covid-vaccine/bpps/id_f3037fedf.npy'), WindowsPath('C:/Users/animeshs/GD/stanford-covid-vaccine/bpps/id_f3093f5fa.npy'), WindowsPath('C:/Users/animeshs/GD/stanford-covid-vaccine/bpps/id_f30b2f5c9.npy'), WindowsPath('C:/Users/animeshs/GD/stanford-covid-vaccine/bpps/id_f31e2d460.npy'), WindowsPath('C:/Users/animeshs/GD/stanford-covid-vaccine/bpps/id_f32da8012.npy'), WindowsPath('C:/Users/animeshs/GD/stanford-covid-vaccine/bpps/id_f331f60e2.npy'), WindowsPath('C:/Users/animeshs/GD/stanford-covid-vaccine/bpps/id_f33207a96.npy'), WindowsPath('C:/Users/animeshs/GD/stanford-covid-vaccine/bpps/id_f332e40ae.npy'), WindowsPath('C:/Users/animeshs/GD/stanford-covid-vaccine/bpps/id_f339cc0f2.npy'), WindowsPath('C:/Users/animeshs/GD/stanford-covid-vaccine/bpps/id_f34a563b9.npy'), WindowsPath('C:/Users/animeshs/GD/stanford-covid-vaccine/bpps/id_f353508cd.npy'), WindowsPath('C:/Users/animeshs/GD/stanford-covid-vaccine/bpps/id_f36cbfade.npy'), WindowsPath('C:/Users/animeshs/GD/stanford-covid-vaccine/bpps/id_f38172d68.npy'), WindowsPath('C:/Users/animeshs/GD/stanford-covid-vaccine/bpps/id_f381c2805.npy'), WindowsPath('C:/Users/animeshs/GD/stanford-covid-vaccine/bpps/id_f39352eed.npy'), WindowsPath('C:/Users/animeshs/GD/stanford-covid-vaccine/bpps/id_f3b2f2c50.npy'), WindowsPath('C:/Users/animeshs/GD/stanford-covid-vaccine/bpps/id_f3b9fdf5b.npy'), WindowsPath('C:/Users/animeshs/GD/stanford-covid-vaccine/bpps/id_f3bb1e09f.npy'), WindowsPath('C:/Users/animeshs/GD/stanford-covid-vaccine/bpps/id_f3dc6d856.npy'), WindowsPath('C:/Users/animeshs/GD/stanford-covid-vaccine/bpps/id_f3dd75ac9.npy'), WindowsPath('C:/Users/animeshs/GD/stanford-covid-vaccine/bpps/id_f3eb0351d.npy'), WindowsPath('C:/Users/animeshs/GD/stanford-covid-vaccine/bpps/id_f3f6ecf94.npy'), WindowsPath('C:/Users/animeshs/GD/stanford-covid-vaccine/bpps/id_f41ff6ad6.npy'), WindowsPath('C:/Users/animeshs/GD/stanford-covid-vaccine/bpps/id_f42b2d105.npy'), WindowsPath('C:/Users/animeshs/GD/stanford-covid-vaccine/bpps/id_f442962c2.npy'), WindowsPath('C:/Users/animeshs/GD/stanford-covid-vaccine/bpps/id_f444474b3.npy'), WindowsPath('C:/Users/animeshs/GD/stanford-covid-vaccine/bpps/id_f4563a3cf.npy'), WindowsPath('C:/Users/animeshs/GD/stanford-covid-vaccine/bpps/id_f46e12542.npy'), WindowsPath('C:/Users/animeshs/GD/stanford-covid-vaccine/bpps/id_f4713355d.npy'), WindowsPath('C:/Users/animeshs/GD/stanford-covid-vaccine/bpps/id_f472818fa.npy'), WindowsPath('C:/Users/animeshs/GD/stanford-covid-vaccine/bpps/id_f47406562.npy'), WindowsPath('C:/Users/animeshs/GD/stanford-covid-vaccine/bpps/id_f485bc04c.npy'), WindowsPath('C:/Users/animeshs/GD/stanford-covid-vaccine/bpps/id_f4884e179.npy'), WindowsPath('C:/Users/animeshs/GD/stanford-covid-vaccine/bpps/id_f4891440c.npy'), WindowsPath('C:/Users/animeshs/GD/stanford-covid-vaccine/bpps/id_f492db2f4.npy'), WindowsPath('C:/Users/animeshs/GD/stanford-covid-vaccine/bpps/id_f49a58d42.npy'), WindowsPath('C:/Users/animeshs/GD/stanford-covid-vaccine/bpps/id_f4a3fbd6a.npy'), WindowsPath('C:/Users/animeshs/GD/stanford-covid-vaccine/bpps/id_f4b3a9fb0.npy'), WindowsPath('C:/Users/animeshs/GD/stanford-covid-vaccine/bpps/id_f4b73f260.npy'), WindowsPath('C:/Users/animeshs/GD/stanford-covid-vaccine/bpps/id_f4c0df6b7.npy'), WindowsPath('C:/Users/animeshs/GD/stanford-covid-vaccine/bpps/id_f4c4433d4.npy'), WindowsPath('C:/Users/animeshs/GD/stanford-covid-vaccine/bpps/id_f4c476bbc.npy'), WindowsPath('C:/Users/animeshs/GD/stanford-covid-vaccine/bpps/id_f4db46f0f.npy'), WindowsPath('C:/Users/animeshs/GD/stanford-covid-vaccine/bpps/id_f4db84e7f.npy'), WindowsPath('C:/Users/animeshs/GD/stanford-covid-vaccine/bpps/id_f4de381b4.npy'), WindowsPath('C:/Users/animeshs/GD/stanford-covid-vaccine/bpps/id_f4ec2c420.npy'), WindowsPath('C:/Users/animeshs/GD/stanford-covid-vaccine/bpps/id_f4f17f445.npy'), WindowsPath('C:/Users/animeshs/GD/stanford-covid-vaccine/bpps/id_f4f640e7a.npy'), WindowsPath('C:/Users/animeshs/GD/stanford-covid-vaccine/bpps/id_f4fbebd5c.npy'), WindowsPath('C:/Users/animeshs/GD/stanford-covid-vaccine/bpps/id_f502a5e5f.npy'), WindowsPath('C:/Users/animeshs/GD/stanford-covid-vaccine/bpps/id_f504e5338.npy'), WindowsPath('C:/Users/animeshs/GD/stanford-covid-vaccine/bpps/id_f50ed2a83.npy'), WindowsPath('C:/Users/animeshs/GD/stanford-covid-vaccine/bpps/id_f51446491.npy'), WindowsPath('C:/Users/animeshs/GD/stanford-covid-vaccine/bpps/id_f51cb821e.npy'), WindowsPath('C:/Users/animeshs/GD/stanford-covid-vaccine/bpps/id_f5212dd4e.npy'), WindowsPath('C:/Users/animeshs/GD/stanford-covid-vaccine/bpps/id_f537c2540.npy'), WindowsPath('C:/Users/animeshs/GD/stanford-covid-vaccine/bpps/id_f554631b3.npy'), WindowsPath('C:/Users/animeshs/GD/stanford-covid-vaccine/bpps/id_f55d5b0ac.npy'), WindowsPath('C:/Users/animeshs/GD/stanford-covid-vaccine/bpps/id_f56317bf2.npy'), WindowsPath('C:/Users/animeshs/GD/stanford-covid-vaccine/bpps/id_f5867beea.npy'), WindowsPath('C:/Users/animeshs/GD/stanford-covid-vaccine/bpps/id_f58c2f1a4.npy'), WindowsPath('C:/Users/animeshs/GD/stanford-covid-vaccine/bpps/id_f58dd3cfb.npy'), WindowsPath('C:/Users/animeshs/GD/stanford-covid-vaccine/bpps/id_f5984493a.npy'), WindowsPath('C:/Users/animeshs/GD/stanford-covid-vaccine/bpps/id_f59e38b4d.npy'), WindowsPath('C:/Users/animeshs/GD/stanford-covid-vaccine/bpps/id_f59e8bc1f.npy'), WindowsPath('C:/Users/animeshs/GD/stanford-covid-vaccine/bpps/id_f5aa6517e.npy'), WindowsPath('C:/Users/animeshs/GD/stanford-covid-vaccine/bpps/id_f5adabae7.npy'), WindowsPath('C:/Users/animeshs/GD/stanford-covid-vaccine/bpps/id_f5bac0e16.npy'), WindowsPath('C:/Users/animeshs/GD/stanford-covid-vaccine/bpps/id_f5ca74136.npy'), WindowsPath('C:/Users/animeshs/GD/stanford-covid-vaccine/bpps/id_f5e5dab65.npy'), WindowsPath('C:/Users/animeshs/GD/stanford-covid-vaccine/bpps/id_f5e731bbe.npy'), WindowsPath('C:/Users/animeshs/GD/stanford-covid-vaccine/bpps/id_f5e7b1489.npy'), WindowsPath('C:/Users/animeshs/GD/stanford-covid-vaccine/bpps/id_f5ee04c3d.npy'), WindowsPath('C:/Users/animeshs/GD/stanford-covid-vaccine/bpps/id_f5f025500.npy'), WindowsPath('C:/Users/animeshs/GD/stanford-covid-vaccine/bpps/id_f5f974806.npy'), WindowsPath('C:/Users/animeshs/GD/stanford-covid-vaccine/bpps/id_f60a74959.npy'), WindowsPath('C:/Users/animeshs/GD/stanford-covid-vaccine/bpps/id_f60fa53c6.npy'), WindowsPath('C:/Users/animeshs/GD/stanford-covid-vaccine/bpps/id_f613e464b.npy'), WindowsPath('C:/Users/animeshs/GD/stanford-covid-vaccine/bpps/id_f617bdd24.npy'), WindowsPath('C:/Users/animeshs/GD/stanford-covid-vaccine/bpps/id_f621199fc.npy'), WindowsPath('C:/Users/animeshs/GD/stanford-covid-vaccine/bpps/id_f6434dfe9.npy'), WindowsPath('C:/Users/animeshs/GD/stanford-covid-vaccine/bpps/id_f6502a1ff.npy'), WindowsPath('C:/Users/animeshs/GD/stanford-covid-vaccine/bpps/id_f654c634c.npy'), WindowsPath('C:/Users/animeshs/GD/stanford-covid-vaccine/bpps/id_f65c976f9.npy'), WindowsPath('C:/Users/animeshs/GD/stanford-covid-vaccine/bpps/id_f6807805b.npy'), WindowsPath('C:/Users/animeshs/GD/stanford-covid-vaccine/bpps/id_f68784784.npy'), WindowsPath('C:/Users/animeshs/GD/stanford-covid-vaccine/bpps/id_f6995d1d8.npy'), WindowsPath('C:/Users/animeshs/GD/stanford-covid-vaccine/bpps/id_f69b35102.npy'), WindowsPath('C:/Users/animeshs/GD/stanford-covid-vaccine/bpps/id_f69bfac4c.npy'), WindowsPath('C:/Users/animeshs/GD/stanford-covid-vaccine/bpps/id_f6a4eb264.npy'), WindowsPath('C:/Users/animeshs/GD/stanford-covid-vaccine/bpps/id_f6a554ef8.npy'), WindowsPath('C:/Users/animeshs/GD/stanford-covid-vaccine/bpps/id_f6ce95f55.npy'), WindowsPath('C:/Users/animeshs/GD/stanford-covid-vaccine/bpps/id_f6d0e35c5.npy'), WindowsPath('C:/Users/animeshs/GD/stanford-covid-vaccine/bpps/id_f6dd8a1ea.npy'), WindowsPath('C:/Users/animeshs/GD/stanford-covid-vaccine/bpps/id_f6e3e122a.npy'), WindowsPath('C:/Users/animeshs/GD/stanford-covid-vaccine/bpps/id_f6e4a2535.npy'), WindowsPath('C:/Users/animeshs/GD/stanford-covid-vaccine/bpps/id_f6f2afbbd.npy'), WindowsPath('C:/Users/animeshs/GD/stanford-covid-vaccine/bpps/id_f6fb2cdc2.npy'), WindowsPath('C:/Users/animeshs/GD/stanford-covid-vaccine/bpps/id_f70580b85.npy'), WindowsPath('C:/Users/animeshs/GD/stanford-covid-vaccine/bpps/id_f70e1a293.npy'), WindowsPath('C:/Users/animeshs/GD/stanford-covid-vaccine/bpps/id_f71066182.npy'), WindowsPath('C:/Users/animeshs/GD/stanford-covid-vaccine/bpps/id_f71dc699d.npy'), WindowsPath('C:/Users/animeshs/GD/stanford-covid-vaccine/bpps/id_f7239bae8.npy'), WindowsPath('C:/Users/animeshs/GD/stanford-covid-vaccine/bpps/id_f72ec641d.npy'), WindowsPath('C:/Users/animeshs/GD/stanford-covid-vaccine/bpps/id_f73a71dcb.npy'), WindowsPath('C:/Users/animeshs/GD/stanford-covid-vaccine/bpps/id_f7450b147.npy'), WindowsPath('C:/Users/animeshs/GD/stanford-covid-vaccine/bpps/id_f74d6ce29.npy'), WindowsPath('C:/Users/animeshs/GD/stanford-covid-vaccine/bpps/id_f757e1a3e.npy'), WindowsPath('C:/Users/animeshs/GD/stanford-covid-vaccine/bpps/id_f7601ad2d.npy'), WindowsPath('C:/Users/animeshs/GD/stanford-covid-vaccine/bpps/id_f77485a5f.npy'), WindowsPath('C:/Users/animeshs/GD/stanford-covid-vaccine/bpps/id_f77af6e02.npy'), WindowsPath('C:/Users/animeshs/GD/stanford-covid-vaccine/bpps/id_f7856dedb.npy'), WindowsPath('C:/Users/animeshs/GD/stanford-covid-vaccine/bpps/id_f7a579c31.npy'), WindowsPath('C:/Users/animeshs/GD/stanford-covid-vaccine/bpps/id_f7a68b267.npy'), WindowsPath('C:/Users/animeshs/GD/stanford-covid-vaccine/bpps/id_f7b95b0f3.npy'), WindowsPath('C:/Users/animeshs/GD/stanford-covid-vaccine/bpps/id_f7c8e0520.npy'), WindowsPath('C:/Users/animeshs/GD/stanford-covid-vaccine/bpps/id_f7ef2757b.npy'), WindowsPath('C:/Users/animeshs/GD/stanford-covid-vaccine/bpps/id_f80e1bc7f.npy'), WindowsPath('C:/Users/animeshs/GD/stanford-covid-vaccine/bpps/id_f81757ae7.npy'), WindowsPath('C:/Users/animeshs/GD/stanford-covid-vaccine/bpps/id_f81e57da1.npy'), WindowsPath('C:/Users/animeshs/GD/stanford-covid-vaccine/bpps/id_f852c48b7.npy'), WindowsPath('C:/Users/animeshs/GD/stanford-covid-vaccine/bpps/id_f85849edf.npy'), WindowsPath('C:/Users/animeshs/GD/stanford-covid-vaccine/bpps/id_f85cd572c.npy'), WindowsPath('C:/Users/animeshs/GD/stanford-covid-vaccine/bpps/id_f8759baaf.npy'), WindowsPath('C:/Users/animeshs/GD/stanford-covid-vaccine/bpps/id_f879335a7.npy'), WindowsPath('C:/Users/animeshs/GD/stanford-covid-vaccine/bpps/id_f879f58de.npy'), WindowsPath('C:/Users/animeshs/GD/stanford-covid-vaccine/bpps/id_f884586ca.npy'), WindowsPath('C:/Users/animeshs/GD/stanford-covid-vaccine/bpps/id_f88c7c3da.npy'), WindowsPath('C:/Users/animeshs/GD/stanford-covid-vaccine/bpps/id_f8b920942.npy'), WindowsPath('C:/Users/animeshs/GD/stanford-covid-vaccine/bpps/id_f8cafdaf5.npy'), WindowsPath('C:/Users/animeshs/GD/stanford-covid-vaccine/bpps/id_f8cd344a3.npy'), WindowsPath('C:/Users/animeshs/GD/stanford-covid-vaccine/bpps/id_f8d08573e.npy'), WindowsPath('C:/Users/animeshs/GD/stanford-covid-vaccine/bpps/id_f8f71d987.npy'), WindowsPath('C:/Users/animeshs/GD/stanford-covid-vaccine/bpps/id_f8fdb19fd.npy'), WindowsPath('C:/Users/animeshs/GD/stanford-covid-vaccine/bpps/id_f904636ea.npy'), WindowsPath('C:/Users/animeshs/GD/stanford-covid-vaccine/bpps/id_f91144d2a.npy'), WindowsPath('C:/Users/animeshs/GD/stanford-covid-vaccine/bpps/id_f913d83d2.npy'), WindowsPath('C:/Users/animeshs/GD/stanford-covid-vaccine/bpps/id_f92a2944d.npy'), WindowsPath('C:/Users/animeshs/GD/stanford-covid-vaccine/bpps/id_f93835c53.npy'), WindowsPath('C:/Users/animeshs/GD/stanford-covid-vaccine/bpps/id_f93eb1798.npy'), WindowsPath('C:/Users/animeshs/GD/stanford-covid-vaccine/bpps/id_f9409192d.npy'), WindowsPath('C:/Users/animeshs/GD/stanford-covid-vaccine/bpps/id_f946f387f.npy'), WindowsPath('C:/Users/animeshs/GD/stanford-covid-vaccine/bpps/id_f94701d5d.npy'), WindowsPath('C:/Users/animeshs/GD/stanford-covid-vaccine/bpps/id_f94982796.npy'), WindowsPath('C:/Users/animeshs/GD/stanford-covid-vaccine/bpps/id_f952f663c.npy'), WindowsPath('C:/Users/animeshs/GD/stanford-covid-vaccine/bpps/id_f960a4761.npy'), WindowsPath('C:/Users/animeshs/GD/stanford-covid-vaccine/bpps/id_f97825e24.npy'), WindowsPath('C:/Users/animeshs/GD/stanford-covid-vaccine/bpps/id_f981a9fd5.npy'), WindowsPath('C:/Users/animeshs/GD/stanford-covid-vaccine/bpps/id_f986f6791.npy'), WindowsPath('C:/Users/animeshs/GD/stanford-covid-vaccine/bpps/id_f999a54f5.npy'), WindowsPath('C:/Users/animeshs/GD/stanford-covid-vaccine/bpps/id_f9a122aba.npy'), WindowsPath('C:/Users/animeshs/GD/stanford-covid-vaccine/bpps/id_f9a20232f.npy'), WindowsPath('C:/Users/animeshs/GD/stanford-covid-vaccine/bpps/id_f9b1c26c0.npy'), WindowsPath('C:/Users/animeshs/GD/stanford-covid-vaccine/bpps/id_f9cc96146.npy'), WindowsPath('C:/Users/animeshs/GD/stanford-covid-vaccine/bpps/id_f9d812c1b.npy'), WindowsPath('C:/Users/animeshs/GD/stanford-covid-vaccine/bpps/id_f9d971af9.npy'), WindowsPath('C:/Users/animeshs/GD/stanford-covid-vaccine/bpps/id_f9d998f4f.npy'), WindowsPath('C:/Users/animeshs/GD/stanford-covid-vaccine/bpps/id_f9e299652.npy'), WindowsPath('C:/Users/animeshs/GD/stanford-covid-vaccine/bpps/id_f9ec5b48b.npy'), WindowsPath('C:/Users/animeshs/GD/stanford-covid-vaccine/bpps/id_f9edb3819.npy'), WindowsPath('C:/Users/animeshs/GD/stanford-covid-vaccine/bpps/id_f9fabe12e.npy'), WindowsPath('C:/Users/animeshs/GD/stanford-covid-vaccine/bpps/id_f9fcc91bf.npy'), WindowsPath('C:/Users/animeshs/GD/stanford-covid-vaccine/bpps/id_fa02998e7.npy'), WindowsPath('C:/Users/animeshs/GD/stanford-covid-vaccine/bpps/id_fa0fe6f82.npy'), WindowsPath('C:/Users/animeshs/GD/stanford-covid-vaccine/bpps/id_fa1334dde.npy'), WindowsPath('C:/Users/animeshs/GD/stanford-covid-vaccine/bpps/id_fa1d5a3b7.npy'), WindowsPath('C:/Users/animeshs/GD/stanford-covid-vaccine/bpps/id_fa1f0fa81.npy'), WindowsPath('C:/Users/animeshs/GD/stanford-covid-vaccine/bpps/id_fa2f5fa13.npy'), WindowsPath('C:/Users/animeshs/GD/stanford-covid-vaccine/bpps/id_fa3420d68.npy'), WindowsPath('C:/Users/animeshs/GD/stanford-covid-vaccine/bpps/id_fa3943f40.npy'), WindowsPath('C:/Users/animeshs/GD/stanford-covid-vaccine/bpps/id_fa47ce3d4.npy'), WindowsPath('C:/Users/animeshs/GD/stanford-covid-vaccine/bpps/id_fa5e0c672.npy'), WindowsPath('C:/Users/animeshs/GD/stanford-covid-vaccine/bpps/id_fa60e19e1.npy'), WindowsPath('C:/Users/animeshs/GD/stanford-covid-vaccine/bpps/id_fa6a18278.npy'), WindowsPath('C:/Users/animeshs/GD/stanford-covid-vaccine/bpps/id_fa94b0b3f.npy'), WindowsPath('C:/Users/animeshs/GD/stanford-covid-vaccine/bpps/id_fa9d2fc44.npy'), WindowsPath('C:/Users/animeshs/GD/stanford-covid-vaccine/bpps/id_faa40342f.npy'), WindowsPath('C:/Users/animeshs/GD/stanford-covid-vaccine/bpps/id_faa6823a0.npy'), WindowsPath('C:/Users/animeshs/GD/stanford-covid-vaccine/bpps/id_faa76a3ce.npy'), WindowsPath('C:/Users/animeshs/GD/stanford-covid-vaccine/bpps/id_faab72ba5.npy'), WindowsPath('C:/Users/animeshs/GD/stanford-covid-vaccine/bpps/id_fac5a88f6.npy'), WindowsPath('C:/Users/animeshs/GD/stanford-covid-vaccine/bpps/id_fade48f91.npy'), WindowsPath('C:/Users/animeshs/GD/stanford-covid-vaccine/bpps/id_fae29b194.npy'), WindowsPath('C:/Users/animeshs/GD/stanford-covid-vaccine/bpps/id_faed6b441.npy'), WindowsPath('C:/Users/animeshs/GD/stanford-covid-vaccine/bpps/id_faf56291e.npy'), WindowsPath('C:/Users/animeshs/GD/stanford-covid-vaccine/bpps/id_fafb4ab64.npy'), WindowsPath('C:/Users/animeshs/GD/stanford-covid-vaccine/bpps/id_fb031da54.npy'), WindowsPath('C:/Users/animeshs/GD/stanford-covid-vaccine/bpps/id_fb213f589.npy'), WindowsPath('C:/Users/animeshs/GD/stanford-covid-vaccine/bpps/id_fb34a48d8.npy'), WindowsPath('C:/Users/animeshs/GD/stanford-covid-vaccine/bpps/id_fb3833ddb.npy'), WindowsPath('C:/Users/animeshs/GD/stanford-covid-vaccine/bpps/id_fb3ae20f9.npy'), WindowsPath('C:/Users/animeshs/GD/stanford-covid-vaccine/bpps/id_fb415ba4e.npy'), WindowsPath('C:/Users/animeshs/GD/stanford-covid-vaccine/bpps/id_fb7cbeec5.npy'), WindowsPath('C:/Users/animeshs/GD/stanford-covid-vaccine/bpps/id_fb7dfccef.npy'), WindowsPath('C:/Users/animeshs/GD/stanford-covid-vaccine/bpps/id_fb7f56942.npy'), WindowsPath('C:/Users/animeshs/GD/stanford-covid-vaccine/bpps/id_fb7f92299.npy'), WindowsPath('C:/Users/animeshs/GD/stanford-covid-vaccine/bpps/id_fb88117ba.npy'), WindowsPath('C:/Users/animeshs/GD/stanford-covid-vaccine/bpps/id_fb99d0da0.npy'), WindowsPath('C:/Users/animeshs/GD/stanford-covid-vaccine/bpps/id_fb9d49820.npy'), WindowsPath('C:/Users/animeshs/GD/stanford-covid-vaccine/bpps/id_fbbb2c2fe.npy'), WindowsPath('C:/Users/animeshs/GD/stanford-covid-vaccine/bpps/id_fbc66add0.npy'), WindowsPath('C:/Users/animeshs/GD/stanford-covid-vaccine/bpps/id_fbd5a6bb5.npy'), WindowsPath('C:/Users/animeshs/GD/stanford-covid-vaccine/bpps/id_fbe197970.npy'), WindowsPath('C:/Users/animeshs/GD/stanford-covid-vaccine/bpps/id_fbe6f85cb.npy'), WindowsPath('C:/Users/animeshs/GD/stanford-covid-vaccine/bpps/id_fbf25ebae.npy'), WindowsPath('C:/Users/animeshs/GD/stanford-covid-vaccine/bpps/id_fbfd1b1a2.npy'), WindowsPath('C:/Users/animeshs/GD/stanford-covid-vaccine/bpps/id_fc0bf0cd5.npy'), WindowsPath('C:/Users/animeshs/GD/stanford-covid-vaccine/bpps/id_fc0d0130e.npy'), WindowsPath('C:/Users/animeshs/GD/stanford-covid-vaccine/bpps/id_fc16e85b9.npy'), WindowsPath('C:/Users/animeshs/GD/stanford-covid-vaccine/bpps/id_fc2f0dd53.npy'), WindowsPath('C:/Users/animeshs/GD/stanford-covid-vaccine/bpps/id_fc300e0bb.npy'), WindowsPath('C:/Users/animeshs/GD/stanford-covid-vaccine/bpps/id_fc4b93521.npy'), WindowsPath('C:/Users/animeshs/GD/stanford-covid-vaccine/bpps/id_fc627f1a8.npy'), WindowsPath('C:/Users/animeshs/GD/stanford-covid-vaccine/bpps/id_fc6dd6015.npy'), WindowsPath('C:/Users/animeshs/GD/stanford-covid-vaccine/bpps/id_fc739dce3.npy'), WindowsPath('C:/Users/animeshs/GD/stanford-covid-vaccine/bpps/id_fc875f9d8.npy'), WindowsPath('C:/Users/animeshs/GD/stanford-covid-vaccine/bpps/id_fc8db8970.npy'), WindowsPath('C:/Users/animeshs/GD/stanford-covid-vaccine/bpps/id_fc954ef39.npy'), WindowsPath('C:/Users/animeshs/GD/stanford-covid-vaccine/bpps/id_fca920cac.npy'), WindowsPath('C:/Users/animeshs/GD/stanford-covid-vaccine/bpps/id_fcaa1673e.npy'), WindowsPath('C:/Users/animeshs/GD/stanford-covid-vaccine/bpps/id_fcb3e153f.npy'), WindowsPath('C:/Users/animeshs/GD/stanford-covid-vaccine/bpps/id_fcbe7a3a9.npy'), WindowsPath('C:/Users/animeshs/GD/stanford-covid-vaccine/bpps/id_fcc028795.npy'), WindowsPath('C:/Users/animeshs/GD/stanford-covid-vaccine/bpps/id_fcc9a1921.npy'), WindowsPath('C:/Users/animeshs/GD/stanford-covid-vaccine/bpps/id_fcdf5eda3.npy'), WindowsPath('C:/Users/animeshs/GD/stanford-covid-vaccine/bpps/id_fce242635.npy'), WindowsPath('C:/Users/animeshs/GD/stanford-covid-vaccine/bpps/id_fcf051e33.npy'), WindowsPath('C:/Users/animeshs/GD/stanford-covid-vaccine/bpps/id_fd05a12dd.npy'), WindowsPath('C:/Users/animeshs/GD/stanford-covid-vaccine/bpps/id_fd0bfd599.npy'), WindowsPath('C:/Users/animeshs/GD/stanford-covid-vaccine/bpps/id_fd15781dd.npy'), WindowsPath('C:/Users/animeshs/GD/stanford-covid-vaccine/bpps/id_fd4117291.npy'), WindowsPath('C:/Users/animeshs/GD/stanford-covid-vaccine/bpps/id_fd566a723.npy'), WindowsPath('C:/Users/animeshs/GD/stanford-covid-vaccine/bpps/id_fd5a68db0.npy'), WindowsPath('C:/Users/animeshs/GD/stanford-covid-vaccine/bpps/id_fd6527613.npy'), WindowsPath('C:/Users/animeshs/GD/stanford-covid-vaccine/bpps/id_fd6f8afc8.npy'), WindowsPath('C:/Users/animeshs/GD/stanford-covid-vaccine/bpps/id_fd70f462a.npy'), WindowsPath('C:/Users/animeshs/GD/stanford-covid-vaccine/bpps/id_fd7353508.npy'), WindowsPath('C:/Users/animeshs/GD/stanford-covid-vaccine/bpps/id_fd7587a82.npy'), WindowsPath('C:/Users/animeshs/GD/stanford-covid-vaccine/bpps/id_fd8952619.npy'), WindowsPath('C:/Users/animeshs/GD/stanford-covid-vaccine/bpps/id_fd9146096.npy'), WindowsPath('C:/Users/animeshs/GD/stanford-covid-vaccine/bpps/id_fd96725a9.npy'), WindowsPath('C:/Users/animeshs/GD/stanford-covid-vaccine/bpps/id_fda2aab11.npy'), WindowsPath('C:/Users/animeshs/GD/stanford-covid-vaccine/bpps/id_fda7d1ea2.npy'), WindowsPath('C:/Users/animeshs/GD/stanford-covid-vaccine/bpps/id_fdba42881.npy'), WindowsPath('C:/Users/animeshs/GD/stanford-covid-vaccine/bpps/id_fde6f7ace.npy'), WindowsPath('C:/Users/animeshs/GD/stanford-covid-vaccine/bpps/id_fdf275153.npy'), WindowsPath('C:/Users/animeshs/GD/stanford-covid-vaccine/bpps/id_fdfadd9b9.npy'), WindowsPath('C:/Users/animeshs/GD/stanford-covid-vaccine/bpps/id_fe07d4fc9.npy'), WindowsPath('C:/Users/animeshs/GD/stanford-covid-vaccine/bpps/id_fe0d6310e.npy'), WindowsPath('C:/Users/animeshs/GD/stanford-covid-vaccine/bpps/id_fe104d269.npy'), WindowsPath('C:/Users/animeshs/GD/stanford-covid-vaccine/bpps/id_fe14835ce.npy'), WindowsPath('C:/Users/animeshs/GD/stanford-covid-vaccine/bpps/id_fe1d9a133.npy'), WindowsPath('C:/Users/animeshs/GD/stanford-covid-vaccine/bpps/id_fe2102731.npy'), WindowsPath('C:/Users/animeshs/GD/stanford-covid-vaccine/bpps/id_fe244a127.npy'), WindowsPath('C:/Users/animeshs/GD/stanford-covid-vaccine/bpps/id_fe2dbf14a.npy'), WindowsPath('C:/Users/animeshs/GD/stanford-covid-vaccine/bpps/id_fe2edbdb0.npy'), WindowsPath('C:/Users/animeshs/GD/stanford-covid-vaccine/bpps/id_fe4688093.npy'), WindowsPath('C:/Users/animeshs/GD/stanford-covid-vaccine/bpps/id_fe7a3fdc6.npy'), WindowsPath('C:/Users/animeshs/GD/stanford-covid-vaccine/bpps/id_fe7a65da5.npy'), WindowsPath('C:/Users/animeshs/GD/stanford-covid-vaccine/bpps/id_fe7ed3286.npy'), WindowsPath('C:/Users/animeshs/GD/stanford-covid-vaccine/bpps/id_fe84d31d3.npy'), WindowsPath('C:/Users/animeshs/GD/stanford-covid-vaccine/bpps/id_fe899d33d.npy'), WindowsPath('C:/Users/animeshs/GD/stanford-covid-vaccine/bpps/id_fe8b2758c.npy'), WindowsPath('C:/Users/animeshs/GD/stanford-covid-vaccine/bpps/id_fe9353d84.npy'), WindowsPath('C:/Users/animeshs/GD/stanford-covid-vaccine/bpps/id_febefd9c1.npy'), WindowsPath('C:/Users/animeshs/GD/stanford-covid-vaccine/bpps/id_febf3bab9.npy'), WindowsPath('C:/Users/animeshs/GD/stanford-covid-vaccine/bpps/id_feea15e66.npy'), WindowsPath('C:/Users/animeshs/GD/stanford-covid-vaccine/bpps/id_ff103a85c.npy'), WindowsPath('C:/Users/animeshs/GD/stanford-covid-vaccine/bpps/id_ff13729b0.npy'), WindowsPath('C:/Users/animeshs/GD/stanford-covid-vaccine/bpps/id_ff2d18b94.npy'), WindowsPath('C:/Users/animeshs/GD/stanford-covid-vaccine/bpps/id_ff42102b0.npy'), WindowsPath('C:/Users/animeshs/GD/stanford-covid-vaccine/bpps/id_ff44a595a.npy'), WindowsPath('C:/Users/animeshs/GD/stanford-covid-vaccine/bpps/id_ff4593941.npy'), WindowsPath('C:/Users/animeshs/GD/stanford-covid-vaccine/bpps/id_ff5b068b6.npy'), WindowsPath('C:/Users/animeshs/GD/stanford-covid-vaccine/bpps/id_ff6304a4a.npy'), WindowsPath('C:/Users/animeshs/GD/stanford-covid-vaccine/bpps/id_ff691b7e5.npy'), WindowsPath('C:/Users/animeshs/GD/stanford-covid-vaccine/bpps/id_ff84602f7.npy'), WindowsPath('C:/Users/animeshs/GD/stanford-covid-vaccine/bpps/id_ff85fcdba.npy'), WindowsPath('C:/Users/animeshs/GD/stanford-covid-vaccine/bpps/id_ff9bf3581.npy'), WindowsPath('C:/Users/animeshs/GD/stanford-covid-vaccine/bpps/id_ffa99f541.npy'), WindowsPath('C:/Users/animeshs/GD/stanford-covid-vaccine/bpps/id_ffc8f96a8.npy'), WindowsPath('C:/Users/animeshs/GD/stanford-covid-vaccine/bpps/id_ffd7e8cc1.npy'), WindowsPath('C:/Users/animeshs/GD/stanford-covid-vaccine/bpps/id_ffda94f24.npy'), WindowsPath('C:/Users/animeshs/GD/stanford-covid-vaccine/bpps/id_ffe06f3fe.npy'), WindowsPath('C:/Users/animeshs/GD/stanford-covid-vaccine/bpps/id_fff546103.npy')]\n"
          ],
          "name": "stdout"
        }
      ]
    },
    {
      "cell_type": "code",
      "metadata": {
        "id": "UOECjhdhpSUx",
        "outputId": "aac1fcff-8658-43f6-cf13-5cd63b0fd45e",
        "colab": {
          "base_uri": "https://localhost:8080/",
          "height": 34
        }
      },
      "source": [
        "import forgi\n",
        "bg, = forgi.load_rna('(((((((((...((((((.........))))))........((((((.......))))))..)))))))))') #bg.pairing_partner(7) #71\n",
        "bg.pairing_partner(9)"
      ],
      "execution_count": 17,
      "outputs": [
        {
          "output_type": "execute_result",
          "data": {
            "text/plain": [
              "63"
            ]
          },
          "metadata": {
            "tags": []
          },
          "execution_count": 17
        }
      ]
    },
    {
      "cell_type": "code",
      "metadata": {
        "id": "7S-kYshT2E0h"
      },
      "source": [
        "import pandas as pd\n",
        "#train\n",
        "dfTrain=pd.read_json(trainFile,lines=True)\n",
        "train_data = []\n",
        "#dfTrain.columns.get_loc(\"mol\")\n",
        "dfTrain.loc[dfTrain['id'] == \"mol_id\"]\n",
        "for mol_id in dfTrain['id'].unique():\n",
        "    sample_data = dfTrain.loc[dfTrain['id'] == mol_id]\n",
        "    bg, = forgi.load_rna(sample_data['structure'].values[0])\n",
        "    for i in range(68): #calculate data only for 68 positions\n",
        "    #for i in range(int(sample_data['sequence'].apply(len)-1)):\n",
        "        #print(i)\n",
        "        sample_tuple = (sample_data['id'].values[0], sample_data['sequence'].values[0][i],\n",
        "                        sample_data['structure'].values[0][i], sample_data['predicted_loop_type'].values[0][i],\n",
        "                        sample_data['reactivity'].values[0][i], #sample_data['reactivity_error'].values[0][i],\n",
        "                        sample_data['deg_Mg_pH10'].values[0][i], #sample_data['deg_error_Mg_pH10'].values[0][i],\n",
        "                        sample_data['deg_pH10'].values[0][i], #sample_data['deg_error_pH10'].values[0][i],\n",
        "                        sample_data['deg_Mg_50C'].values[0][i], #sample_data['deg_error_Mg_50C'].values[0][i],\n",
        "                        sample_data['deg_50C'].values[0][i], #sample_data['deg_error_50C'].values[0][i],\n",
        "                        bg.pairing_partner(i),(i+1)\n",
        "                        )\n",
        "        train_data.append(sample_tuple)\n",
        "trainCSV=pathFiles/'train_data_pair2.csv'\n",
        "train_data = pd.DataFrame(train_data, columns=['id', 'sequence', 'structure', 'predicted_loop_type', 'reactivity', 'deg_Mg_pH10', 'deg_pH10', 'deg_Mg_50C', 'deg_50C', 'bg_pairing_partner','pos'])\n",
        "#train_data = pd.DataFrame(train_data, columns=['id', 'sequence', 'structure', 'predicted_loop_type', 'reactivity', 'reactivity_error', 'deg_Mg_pH10', 'deg_error_Mg_pH10','deg_pH10', 'deg_error_pH10', 'deg_Mg_50C', 'deg_error_Mg_50C', 'deg_50C', 'deg_error_50C','bg_pairing_partner','pos'])\n",
        "train_data.head()\n",
        "train_data.to_csv(trainCSV, index = None)"
      ],
      "execution_count": null,
      "outputs": []
    },
    {
      "cell_type": "code",
      "metadata": {
        "id": "2JKcUJ71lpJD"
      },
      "source": [
        "import numpy as np\n",
        "x_train=tf.convert_to_tensor(np.asarray(train_data.values[:,4:13]),np.float32)\n",
        "y_train=tf.convert_to_tensor(np.asarray(train_data.values[:,13:16]),np.float32)\n",
        "x_test=tf.convert_to_tensor(np.asarray(train_data.values[:,4:13]),np.float32)\n",
        "y_test=tf.convert_to_tensor(np.asarray(train_data.values[:,13:16]),np.float32)"
      ],
      "execution_count": null,
      "outputs": []
    },
    {
      "cell_type": "code",
      "metadata": {
        "id": "LS8NVI2hgbmp",
        "outputId": "bcdfb8c1-90e8-4c0a-efd1-4e2d23a68aab",
        "colab": {
          "base_uri": "https://localhost:8080/",
          "height": 170
        }
      },
      "source": [
        "import numpy as np\n",
        "dataframe=train_data\n",
        "dataframe['target'] = np.asarray(dataframe['reactivity'],np.float32)\n",
        "dataframe['target'].describe()"
      ],
      "execution_count": 108,
      "outputs": [
        {
          "output_type": "execute_result",
          "data": {
            "text/plain": [
              "count    2400.000000\n",
              "mean        0.536378\n",
              "std         0.729612\n",
              "min       -20.664801\n",
              "25%         0.323375\n",
              "50%         0.504150\n",
              "75%         0.737650\n",
              "max        20.664801\n",
              "Name: target, dtype: float64"
            ]
          },
          "metadata": {
            "tags": []
          },
          "execution_count": 108
        }
      ]
    },
    {
      "cell_type": "code",
      "metadata": {
        "id": "3NYZ3HBxprcO",
        "outputId": "4b305f5f-2321-48c4-8c95-dcb48a8bdd09",
        "colab": {
          "base_uri": "https://localhost:8080/",
          "height": 204
        }
      },
      "source": [
        "# Drop un-used columns.\n",
        "dataframe = dataframe.drop(columns=['id'])#, 'sequence'])#, 'structure', 'predicted_loop_type'])\n",
        "dataframe.tail()"
      ],
      "execution_count": 109,
      "outputs": [
        {
          "output_type": "execute_result",
          "data": {
            "text/plain": [
              "     sequence structure predicted_loop_type  reactivity  deg_Mg_pH10  \\\n",
              "2395        G         .                   E      0.6957       0.6439   \n",
              "2396        G         .                   E      0.2891       0.3619   \n",
              "2397        G         .                   E      1.6204       1.7708   \n",
              "2398        G         .                   E      0.6919       0.4544   \n",
              "2399        G         .                   E      1.0102       1.4842   \n",
              "\n",
              "      deg_pH10  deg_Mg_50C  deg_50C bg_pairing_partner  pos  target  \n",
              "2395    2.1589      0.4790   0.5759               None    1  0.6957  \n",
              "2396    2.8541      0.2964   0.6526               None    1  0.2891  \n",
              "2397    6.4088      0.6038   2.9632               None    1  1.6204  \n",
              "2398    2.7158      0.3262   0.5814               None    1  0.6919  \n",
              "2399    2.3588      1.3281   0.7043               None    1  1.0102  "
            ],
            "text/html": [
              "<div>\n",
              "<style scoped>\n",
              "    .dataframe tbody tr th:only-of-type {\n",
              "        vertical-align: middle;\n",
              "    }\n",
              "\n",
              "    .dataframe tbody tr th {\n",
              "        vertical-align: top;\n",
              "    }\n",
              "\n",
              "    .dataframe thead th {\n",
              "        text-align: right;\n",
              "    }\n",
              "</style>\n",
              "<table border=\"1\" class=\"dataframe\">\n",
              "  <thead>\n",
              "    <tr style=\"text-align: right;\">\n",
              "      <th></th>\n",
              "      <th>sequence</th>\n",
              "      <th>structure</th>\n",
              "      <th>predicted_loop_type</th>\n",
              "      <th>reactivity</th>\n",
              "      <th>deg_Mg_pH10</th>\n",
              "      <th>deg_pH10</th>\n",
              "      <th>deg_Mg_50C</th>\n",
              "      <th>deg_50C</th>\n",
              "      <th>bg_pairing_partner</th>\n",
              "      <th>pos</th>\n",
              "      <th>target</th>\n",
              "    </tr>\n",
              "  </thead>\n",
              "  <tbody>\n",
              "    <tr>\n",
              "      <th>2395</th>\n",
              "      <td>G</td>\n",
              "      <td>.</td>\n",
              "      <td>E</td>\n",
              "      <td>0.6957</td>\n",
              "      <td>0.6439</td>\n",
              "      <td>2.1589</td>\n",
              "      <td>0.4790</td>\n",
              "      <td>0.5759</td>\n",
              "      <td>None</td>\n",
              "      <td>1</td>\n",
              "      <td>0.6957</td>\n",
              "    </tr>\n",
              "    <tr>\n",
              "      <th>2396</th>\n",
              "      <td>G</td>\n",
              "      <td>.</td>\n",
              "      <td>E</td>\n",
              "      <td>0.2891</td>\n",
              "      <td>0.3619</td>\n",
              "      <td>2.8541</td>\n",
              "      <td>0.2964</td>\n",
              "      <td>0.6526</td>\n",
              "      <td>None</td>\n",
              "      <td>1</td>\n",
              "      <td>0.2891</td>\n",
              "    </tr>\n",
              "    <tr>\n",
              "      <th>2397</th>\n",
              "      <td>G</td>\n",
              "      <td>.</td>\n",
              "      <td>E</td>\n",
              "      <td>1.6204</td>\n",
              "      <td>1.7708</td>\n",
              "      <td>6.4088</td>\n",
              "      <td>0.6038</td>\n",
              "      <td>2.9632</td>\n",
              "      <td>None</td>\n",
              "      <td>1</td>\n",
              "      <td>1.6204</td>\n",
              "    </tr>\n",
              "    <tr>\n",
              "      <th>2398</th>\n",
              "      <td>G</td>\n",
              "      <td>.</td>\n",
              "      <td>E</td>\n",
              "      <td>0.6919</td>\n",
              "      <td>0.4544</td>\n",
              "      <td>2.7158</td>\n",
              "      <td>0.3262</td>\n",
              "      <td>0.5814</td>\n",
              "      <td>None</td>\n",
              "      <td>1</td>\n",
              "      <td>0.6919</td>\n",
              "    </tr>\n",
              "    <tr>\n",
              "      <th>2399</th>\n",
              "      <td>G</td>\n",
              "      <td>.</td>\n",
              "      <td>E</td>\n",
              "      <td>1.0102</td>\n",
              "      <td>1.4842</td>\n",
              "      <td>2.3588</td>\n",
              "      <td>1.3281</td>\n",
              "      <td>0.7043</td>\n",
              "      <td>None</td>\n",
              "      <td>1</td>\n",
              "      <td>1.0102</td>\n",
              "    </tr>\n",
              "  </tbody>\n",
              "</table>\n",
              "</div>"
            ]
          },
          "metadata": {
            "tags": []
          },
          "execution_count": 109
        }
      ]
    },
    {
      "cell_type": "code",
      "metadata": {
        "id": "LnRrWRgQPmew",
        "outputId": "59c5c217-f73b-46bb-f80d-193e9506302c",
        "colab": {
          "base_uri": "https://localhost:8080/",
          "height": 204
        }
      },
      "source": [
        "dataframe.fillna(0,inplace=True)\n",
        "dataframe.tail()"
      ],
      "execution_count": 110,
      "outputs": [
        {
          "output_type": "execute_result",
          "data": {
            "text/plain": [
              "     sequence structure predicted_loop_type  reactivity  deg_Mg_pH10  \\\n",
              "2395        G         .                   E      0.6957       0.6439   \n",
              "2396        G         .                   E      0.2891       0.3619   \n",
              "2397        G         .                   E      1.6204       1.7708   \n",
              "2398        G         .                   E      0.6919       0.4544   \n",
              "2399        G         .                   E      1.0102       1.4842   \n",
              "\n",
              "      deg_pH10  deg_Mg_50C  deg_50C  bg_pairing_partner  pos  target  \n",
              "2395    2.1589      0.4790   0.5759                   0    1  0.6957  \n",
              "2396    2.8541      0.2964   0.6526                   0    1  0.2891  \n",
              "2397    6.4088      0.6038   2.9632                   0    1  1.6204  \n",
              "2398    2.7158      0.3262   0.5814                   0    1  0.6919  \n",
              "2399    2.3588      1.3281   0.7043                   0    1  1.0102  "
            ],
            "text/html": [
              "<div>\n",
              "<style scoped>\n",
              "    .dataframe tbody tr th:only-of-type {\n",
              "        vertical-align: middle;\n",
              "    }\n",
              "\n",
              "    .dataframe tbody tr th {\n",
              "        vertical-align: top;\n",
              "    }\n",
              "\n",
              "    .dataframe thead th {\n",
              "        text-align: right;\n",
              "    }\n",
              "</style>\n",
              "<table border=\"1\" class=\"dataframe\">\n",
              "  <thead>\n",
              "    <tr style=\"text-align: right;\">\n",
              "      <th></th>\n",
              "      <th>sequence</th>\n",
              "      <th>structure</th>\n",
              "      <th>predicted_loop_type</th>\n",
              "      <th>reactivity</th>\n",
              "      <th>deg_Mg_pH10</th>\n",
              "      <th>deg_pH10</th>\n",
              "      <th>deg_Mg_50C</th>\n",
              "      <th>deg_50C</th>\n",
              "      <th>bg_pairing_partner</th>\n",
              "      <th>pos</th>\n",
              "      <th>target</th>\n",
              "    </tr>\n",
              "  </thead>\n",
              "  <tbody>\n",
              "    <tr>\n",
              "      <th>2395</th>\n",
              "      <td>G</td>\n",
              "      <td>.</td>\n",
              "      <td>E</td>\n",
              "      <td>0.6957</td>\n",
              "      <td>0.6439</td>\n",
              "      <td>2.1589</td>\n",
              "      <td>0.4790</td>\n",
              "      <td>0.5759</td>\n",
              "      <td>0</td>\n",
              "      <td>1</td>\n",
              "      <td>0.6957</td>\n",
              "    </tr>\n",
              "    <tr>\n",
              "      <th>2396</th>\n",
              "      <td>G</td>\n",
              "      <td>.</td>\n",
              "      <td>E</td>\n",
              "      <td>0.2891</td>\n",
              "      <td>0.3619</td>\n",
              "      <td>2.8541</td>\n",
              "      <td>0.2964</td>\n",
              "      <td>0.6526</td>\n",
              "      <td>0</td>\n",
              "      <td>1</td>\n",
              "      <td>0.2891</td>\n",
              "    </tr>\n",
              "    <tr>\n",
              "      <th>2397</th>\n",
              "      <td>G</td>\n",
              "      <td>.</td>\n",
              "      <td>E</td>\n",
              "      <td>1.6204</td>\n",
              "      <td>1.7708</td>\n",
              "      <td>6.4088</td>\n",
              "      <td>0.6038</td>\n",
              "      <td>2.9632</td>\n",
              "      <td>0</td>\n",
              "      <td>1</td>\n",
              "      <td>1.6204</td>\n",
              "    </tr>\n",
              "    <tr>\n",
              "      <th>2398</th>\n",
              "      <td>G</td>\n",
              "      <td>.</td>\n",
              "      <td>E</td>\n",
              "      <td>0.6919</td>\n",
              "      <td>0.4544</td>\n",
              "      <td>2.7158</td>\n",
              "      <td>0.3262</td>\n",
              "      <td>0.5814</td>\n",
              "      <td>0</td>\n",
              "      <td>1</td>\n",
              "      <td>0.6919</td>\n",
              "    </tr>\n",
              "    <tr>\n",
              "      <th>2399</th>\n",
              "      <td>G</td>\n",
              "      <td>.</td>\n",
              "      <td>E</td>\n",
              "      <td>1.0102</td>\n",
              "      <td>1.4842</td>\n",
              "      <td>2.3588</td>\n",
              "      <td>1.3281</td>\n",
              "      <td>0.7043</td>\n",
              "      <td>0</td>\n",
              "      <td>1</td>\n",
              "      <td>1.0102</td>\n",
              "    </tr>\n",
              "  </tbody>\n",
              "</table>\n",
              "</div>"
            ]
          },
          "metadata": {
            "tags": []
          },
          "execution_count": 110
        }
      ]
    },
    {
      "cell_type": "code",
      "metadata": {
        "id": "g0ha5CrXA4a5",
        "outputId": "c5344d8b-fb07-485b-928d-d532b0234027",
        "colab": {
          "base_uri": "https://localhost:8080/",
          "height": 299
        }
      },
      "source": [
        "import matplotlib.pyplot as plt\n",
        "#print(plt.style.available)\n",
        "plt.style.use(['fivethirtyeight'])\n",
        "dataframe.reactivity.plot()"
      ],
      "execution_count": 111,
      "outputs": [
        {
          "output_type": "execute_result",
          "data": {
            "text/plain": [
              "<AxesSubplot:>"
            ]
          },
          "metadata": {
            "tags": []
          },
          "execution_count": 111
        },
        {
          "output_type": "display_data",
          "data": {
            "text/plain": [
              "<Figure size 432x288 with 1 Axes>"
            ],
            "image/png": "[encoded data removed]"
          },
          "metadata": {
            "tags": []
          }
        }
      ]
    },
    {
      "cell_type": "code",
      "metadata": {
        "id": "E56wRxDwJbp2"
      },
      "source": [
        "from pandas_profiling import ProfileReport\n",
        "profile = ProfileReport(dataframe, title='Pandas Profiling Report', explorative=True)\n",
        "profile.to_notebook_iframe()\n",
        "#profile.to_html()"
      ],
      "execution_count": null,
      "outputs": []
    },
    {
      "cell_type": "code",
      "metadata": {
        "id": "9BbXqp0Wx4jn",
        "outputId": "049e771d-dca6-499e-e806-952b45b6face",
        "colab": {
          "base_uri": "https://localhost:8080/",
          "height": 68
        }
      },
      "source": [
        "from sklearn.model_selection import train_test_split\n",
        "from tensorflow import feature_column\n",
        "from tensorflow.keras import layers\n",
        "train, test = train_test_split(dataframe, test_size=0.2)\n",
        "train, val = train_test_split(train, test_size=0.2)\n",
        "print(len(train), 'train examples')\n",
        "print(len(val), 'validation examples')\n",
        "print(len(test), 'test examples')"
      ],
      "execution_count": 24,
      "outputs": [
        {
          "output_type": "stream",
          "text": [
            "104448 train examples\n",
            "26112 validation examples\n",
            "32640 test examples\n"
          ],
          "name": "stdout"
        }
      ]
    },
    {
      "cell_type": "code",
      "metadata": {
        "id": "UF4pugYxyqxt"
      },
      "source": [
        "import tensorflow as tf\n",
        "def df_to_dataset(dataframe, shuffle=True, batch_size=68, target='target'):\n",
        "  dataframe = dataframe.copy()\n",
        "  labels = dataframe.pop(target)\n",
        "  ds = tf.data.Dataset.from_tensor_slices((dict(dataframe), labels))\n",
        "  if shuffle:\n",
        "    ds = ds.shuffle(buffer_size=len(dataframe))\n",
        "  ds = ds.batch(batch_size)\n",
        "  return ds"
      ],
      "execution_count": 27,
      "outputs": []
    },
    {
      "cell_type": "code",
      "metadata": {
        "id": "vpp794lUkS6f"
      },
      "source": [
        "batch_size = len(train) # A small batch sized is used for demonstration purposes\n",
        "target='reactivity'\n",
        "target='deg_Mg_pH10'\n",
        "target='deg_Mg_50C'\n",
        "train_ds = df_to_dataset(train, batch_size=batch_size, target=target)\n",
        "val_ds = df_to_dataset(val, shuffle=False, batch_size=batch_size, target=target)\n",
        "test_ds = df_to_dataset(test, shuffle=False, batch_size=batch_size, target=target)"
      ],
      "execution_count": 190,
      "outputs": []
    },
    {
      "cell_type": "code",
      "metadata": {
        "id": "-mQmNFXWkdRh",
        "outputId": "d34f6168-580c-4ca6-e027-580205a471d7",
        "colab": {
          "base_uri": "https://localhost:8080/",
          "height": 51
        }
      },
      "source": [
        "for feature_batch, label_batch in train_ds.take(1):\n",
        "  print('Every feature:', list(feature_batch.keys()))\n",
        "  #print('A batch of ages:', feature_batch['Age'])\n",
        "  print('A batch of targets:', label_batch )"
      ],
      "execution_count": 169,
      "outputs": [
        {
          "output_type": "stream",
          "text": [
            "Every feature: ['sequence', 'structure', 'predicted_loop_type', 'reactivity', 'deg_pH10', 'deg_Mg_50C', 'deg_50C', 'bg_pairing_partner', 'pos', 'target']\n",
            "A batch of targets: tf.Tensor([0.3254 0.     0.6254 ... 0.1401 0.312  0.6944], shape=(104448,), dtype=float64)\n"
          ],
          "name": "stdout"
        }
      ]
    },
    {
      "cell_type": "code",
      "metadata": {
        "id": "PZNqnN2mkt3Q",
        "outputId": "014aa626-3447-4780-b280-1f936c09226c",
        "colab": {
          "base_uri": "https://localhost:8080/",
          "height": 139
        }
      },
      "source": [
        "#test batches\n",
        "example_batch = next(iter(train_ds))[0]\n",
        "def demo(feature_column):\n",
        "  feature_layer = layers.DenseFeatures(feature_column)\n",
        "  print(feature_layer(example_batch).numpy())\n",
        "print(example_batch)\n",
        "print(feature_column)"
      ],
      "execution_count": 170,
      "outputs": [
        {
          "output_type": "stream",
          "text": [
            "{'sequence': <tf.Tensor: shape=(104448,), dtype=string, numpy=array([b'A', b'A', b'C', ..., b'C', b'G', b'U'], dtype=object)>, 'structure': <tf.Tensor: shape=(104448,), dtype=string, numpy=array([b'.', b'.', b'.', ..., b'(', b')', b')'], dtype=object)>, 'predicted_loop_type': <tf.Tensor: shape=(104448,), dtype=string, numpy=array([b'E', b'E', b'E', ..., b'S', b'S', b'S'], dtype=object)>, 'reactivity': <tf.Tensor: shape=(104448,), dtype=float64, numpy=\n",
            "array([5.17900e-01, 2.06648e+01, 3.84900e-01, ..., 6.10000e-02,\n",
            "       2.05300e-01, 2.06000e-02])>, 'deg_pH10': <tf.Tensor: shape=(104448,), dtype=float64, numpy=array([0.3649, 0.    , 0.6656, ..., 0.    , 0.106 , 0.0634])>, 'deg_Mg_50C': <tf.Tensor: shape=(104448,), dtype=float64, numpy=array([0.0925, 0.    , 0.0638, ..., 0.0793, 0.0934, 0.1492])>, 'deg_50C': <tf.Tensor: shape=(104448,), dtype=float64, numpy=array([0.3232, 0.    , 0.2058, ..., 0.0704, 0.4012, 0.1852])>, 'bg_pairing_partner': <tf.Tensor: shape=(104448,), dtype=float64, numpy=array([ 0.,  0.,  0., ..., 61.,  0., 41.])>, 'pos': <tf.Tensor: shape=(104448,), dtype=int64, numpy=array([42,  4, 19, ..., 55, 39, 53], dtype=int64)>, 'target': <tf.Tensor: shape=(104448,), dtype=float32, numpy=\n",
            "array([5.17900e-01, 2.06648e+01, 3.84900e-01, ..., 6.10000e-02,\n",
            "       2.05300e-01, 2.06000e-02], dtype=float32)>}\n",
            "<module 'tensorflow._api.v2.feature_column' from 'c:\\\\python385\\\\lib\\\\site-packages\\\\tensorflow\\\\_api\\\\v2\\\\feature_column\\\\__init__.py'>\n"
          ],
          "name": "stdout"
        }
      ]
    },
    {
      "cell_type": "code",
      "metadata": {
        "id": "6mB2S5xik7zc"
      },
      "source": [
        "pos_count = feature_column.numeric_column('pos')\n",
        "demo(pos_count)"
      ],
      "execution_count": null,
      "outputs": []
    },
    {
      "cell_type": "code",
      "metadata": {
        "id": "L5Hk-IhAlD6z"
      },
      "source": [
        "pos_buckets = feature_column.bucketized_column(pos_count, boundaries=[1,10,20,30,50,60,70])\n",
        "demo(pos_buckets)"
      ],
      "execution_count": null,
      "outputs": []
    },
    {
      "cell_type": "code",
      "metadata": {
        "id": "FUz8_gdETS3o"
      },
      "source": [
        "bg_pairing_partner_count = feature_column.numeric_column('bg_pairing_partner')\n",
        "demo(bg_pairing_partner_count)\n",
        "bg_pairing_partner_buckets = feature_column.bucketized_column(bg_pairing_partner_count, boundaries=[1,10,20,30,50,60,70])\n",
        "demo(bg_pairing_partner_buckets)"
      ],
      "execution_count": null,
      "outputs": []
    },
    {
      "cell_type": "code",
      "metadata": {
        "id": "Ko2w5j5blk2a",
        "outputId": "e4908d06-fd69-42ae-e54d-b76bebdd337d",
        "colab": {
          "base_uri": "https://localhost:8080/",
          "height": 34
        }
      },
      "source": [
        "nuc_type = feature_column.categorical_column_with_vocabulary_list('sequence', ['A', 'U', 'G', 'C'])\n",
        "nuc_type"
      ],
      "execution_count": 37,
      "outputs": [
        {
          "output_type": "execute_result",
          "data": {
            "text/plain": [
              "VocabularyListCategoricalColumn(key='sequence', vocabulary_list=('A', 'U', 'G', 'C'), dtype=tf.string, default_value=-1, num_oov_buckets=0)"
            ]
          },
          "metadata": {
            "tags": []
          },
          "execution_count": 37
        }
      ]
    },
    {
      "cell_type": "code",
      "metadata": {
        "id": "gWgmboEAUMXR",
        "outputId": "8e250b08-55b8-4d01-ec3f-1ce6daa13ce5",
        "colab": {
          "base_uri": "https://localhost:8080/",
          "height": 34
        }
      },
      "source": [
        "struct_type = feature_column.categorical_column_with_vocabulary_list('structure', ['(', ')', '.'])\n",
        "struct_type"
      ],
      "execution_count": 38,
      "outputs": [
        {
          "output_type": "execute_result",
          "data": {
            "text/plain": [
              "VocabularyListCategoricalColumn(key='structure', vocabulary_list=('(', ')', '.'), dtype=tf.string, default_value=-1, num_oov_buckets=0)"
            ]
          },
          "metadata": {
            "tags": []
          },
          "execution_count": 38
        }
      ]
    },
    {
      "cell_type": "code",
      "metadata": {
        "id": "ymZ_8JQTmVWH"
      },
      "source": [
        "nuc1 = feature_column.categorical_column_with_vocabulary_list('sequence', dataframe.sequence.unique())\n",
        "nuc1_embedding = feature_column.embedding_column(nuc1, dimension=2)\n",
        "demo(nuc1_embedding)"
      ],
      "execution_count": null,
      "outputs": []
    },
    {
      "cell_type": "code",
      "metadata": {
        "id": "3iKxuIxwdxEG"
      },
      "source": [
        "struct1 = feature_column.categorical_column_with_vocabulary_list('structure', dataframe.structure.unique())\n",
        "struct1_embedding = feature_column.embedding_column(struct1, dimension=2)\n",
        "demo(struct1_embedding)"
      ],
      "execution_count": null,
      "outputs": []
    },
    {
      "cell_type": "code",
      "metadata": {
        "id": "dzq6y-a4oQwn"
      },
      "source": [
        "predicted_loop1 = feature_column.categorical_column_with_vocabulary_list('predicted_loop_type', dataframe.predicted_loop_type.unique())\n",
        "predicted_loop1_embedding = feature_column.embedding_column(predicted_loop1, dimension=2)\n",
        "demo(predicted_loop1_embedding)"
      ],
      "execution_count": null,
      "outputs": []
    },
    {
      "cell_type": "code",
      "metadata": {
        "id": "c-7PnSLjUeza"
      },
      "source": [
        "#crossed_feature_nuc_loop = feature_column.crossed_column([feature_column.indicator_column(pos), feature_column.indicator_column(bg_pairing_partner)], hash_bucket_size=4)\n",
        "crossed_feature_nuc_loop = feature_column.crossed_column([nuc1, struct1,predicted_loop1], hash_bucket_size=4)\n",
        "demo(feature_column.indicator_column(crossed_feature_nuc_loop))"
      ],
      "execution_count": null,
      "outputs": []
    },
    {
      "cell_type": "code",
      "metadata": {
        "id": "OPYu-E0wobN3",
        "outputId": "a7ebc180-b613-49ce-daa7-0454f39d2234",
        "colab": {
          "base_uri": "https://localhost:8080/",
          "height": 51
        }
      },
      "source": [
        "feature_columns = []\n",
        "# numeric cols\n",
        "for header in ['pos',\t'bg_pairing_partner']:\n",
        "  feature_columns.append(feature_column.numeric_column(header))\n",
        "feature_columns"
      ],
      "execution_count": 60,
      "outputs": [
        {
          "output_type": "execute_result",
          "data": {
            "text/plain": [
              "[NumericColumn(key='pos', shape=(1,), default_value=None, dtype=tf.float32, normalizer_fn=None),\n",
              " NumericColumn(key='bg_pairing_partner', shape=(1,), default_value=None, dtype=tf.float32, normalizer_fn=None)]"
            ]
          },
          "metadata": {
            "tags": []
          },
          "execution_count": 60
        }
      ]
    },
    {
      "cell_type": "code",
      "metadata": {
        "id": "vUQukzSJhWJX",
        "outputId": "595ac4bd-481b-43ec-d881-65394263b258",
        "colab": {
          "base_uri": "https://localhost:8080/",
          "height": 122
        }
      },
      "source": [
        "for header in [nuc1_embedding,\tstruct1_embedding,predicted_loop1_embedding]:\n",
        "  feature_columns.append((header))\n",
        "feature_columns"
      ],
      "execution_count": 61,
      "outputs": [
        {
          "output_type": "execute_result",
          "data": {
            "text/plain": [
              "[NumericColumn(key='pos', shape=(1,), default_value=None, dtype=tf.float32, normalizer_fn=None),\n",
              " NumericColumn(key='bg_pairing_partner', shape=(1,), default_value=None, dtype=tf.float32, normalizer_fn=None),\n",
              " EmbeddingColumn(categorical_column=VocabularyListCategoricalColumn(key='sequence', vocabulary_list=('G', 'A', 'C', 'U'), dtype=tf.string, default_value=-1, num_oov_buckets=0), dimension=2, combiner='mean', initializer=<tensorflow.python.ops.init_ops.TruncatedNormal object at 0x000001B67F5D03A0>, ckpt_to_load_from=None, tensor_name_in_ckpt=None, max_norm=None, trainable=True, use_safe_embedding_lookup=True),\n",
              " EmbeddingColumn(categorical_column=VocabularyListCategoricalColumn(key='structure', vocabulary_list=('.', '(', ')'), dtype=tf.string, default_value=-1, num_oov_buckets=0), dimension=2, combiner='mean', initializer=<tensorflow.python.ops.init_ops.TruncatedNormal object at 0x000001B67F5C8F10>, ckpt_to_load_from=None, tensor_name_in_ckpt=None, max_norm=None, trainable=True, use_safe_embedding_lookup=True),\n",
              " EmbeddingColumn(categorical_column=VocabularyListCategoricalColumn(key='predicted_loop_type', vocabulary_list=('E', 'S', 'H', 'B', 'X', 'I', 'M'), dtype=tf.string, default_value=-1, num_oov_buckets=0), dimension=2, combiner='mean', initializer=<tensorflow.python.ops.init_ops.TruncatedNormal object at 0x000001B67F5DA490>, ckpt_to_load_from=None, tensor_name_in_ckpt=None, max_norm=None, trainable=True, use_safe_embedding_lookup=True)]"
            ]
          },
          "metadata": {
            "tags": []
          },
          "execution_count": 61
        }
      ]
    },
    {
      "cell_type": "code",
      "metadata": {
        "id": "3fJcj61n0l8k",
        "outputId": "ead6fc1b-6eae-471b-834e-7ace80e74da8",
        "colab": {
          "base_uri": "https://localhost:8080/",
          "height": 156
        }
      },
      "source": [
        "for header in [pos_count,\tbg_pairing_partner_count]:\n",
        "  feature_columns.append((header))\n",
        "feature_columns"
      ],
      "execution_count": 56,
      "outputs": [
        {
          "output_type": "execute_result",
          "data": {
            "text/plain": [
              "[NumericColumn(key='pos', shape=(1,), default_value=None, dtype=tf.float32, normalizer_fn=None),\n",
              " NumericColumn(key='bg_pairing_partner', shape=(1,), default_value=None, dtype=tf.float32, normalizer_fn=None),\n",
              " EmbeddingColumn(categorical_column=VocabularyListCategoricalColumn(key='sequence', vocabulary_list=('G', 'A', 'C', 'U'), dtype=tf.string, default_value=-1, num_oov_buckets=0), dimension=2, combiner='mean', initializer=<tensorflow.python.ops.init_ops.TruncatedNormal object at 0x000001B67F5D03A0>, ckpt_to_load_from=None, tensor_name_in_ckpt=None, max_norm=None, trainable=True, use_safe_embedding_lookup=True),\n",
              " EmbeddingColumn(categorical_column=VocabularyListCategoricalColumn(key='structure', vocabulary_list=('.', '(', ')'), dtype=tf.string, default_value=-1, num_oov_buckets=0), dimension=2, combiner='mean', initializer=<tensorflow.python.ops.init_ops.TruncatedNormal object at 0x000001B67F5C8F10>, ckpt_to_load_from=None, tensor_name_in_ckpt=None, max_norm=None, trainable=True, use_safe_embedding_lookup=True),\n",
              " EmbeddingColumn(categorical_column=VocabularyListCategoricalColumn(key='predicted_loop_type', vocabulary_list=('E', 'S', 'H', 'B', 'X', 'I', 'M'), dtype=tf.string, default_value=-1, num_oov_buckets=0), dimension=2, combiner='mean', initializer=<tensorflow.python.ops.init_ops.TruncatedNormal object at 0x000001B67F5DA490>, ckpt_to_load_from=None, tensor_name_in_ckpt=None, max_norm=None, trainable=True, use_safe_embedding_lookup=True),\n",
              " NumericColumn(key='pos', shape=(1,), default_value=None, dtype=tf.float32, normalizer_fn=None),\n",
              " NumericColumn(key='bg_pairing_partner', shape=(1,), default_value=None, dtype=tf.float32, normalizer_fn=None)]"
            ]
          },
          "metadata": {
            "tags": []
          },
          "execution_count": 56
        }
      ]
    },
    {
      "cell_type": "code",
      "metadata": {
        "id": "XfwZNJ0Z01Wy",
        "outputId": "0cd2d5a0-0c82-4287-c891-b66941505eb5",
        "colab": {
          "base_uri": "https://localhost:8080/",
          "height": 190
        }
      },
      "source": [
        "for header in [pos_buckets,\tbg_pairing_partner_buckets]:\n",
        "  feature_columns.append((header))\n",
        "feature_columns"
      ],
      "execution_count": 57,
      "outputs": [
        {
          "output_type": "execute_result",
          "data": {
            "text/plain": [
              "[NumericColumn(key='pos', shape=(1,), default_value=None, dtype=tf.float32, normalizer_fn=None),\n",
              " NumericColumn(key='bg_pairing_partner', shape=(1,), default_value=None, dtype=tf.float32, normalizer_fn=None),\n",
              " EmbeddingColumn(categorical_column=VocabularyListCategoricalColumn(key='sequence', vocabulary_list=('G', 'A', 'C', 'U'), dtype=tf.string, default_value=-1, num_oov_buckets=0), dimension=2, combiner='mean', initializer=<tensorflow.python.ops.init_ops.TruncatedNormal object at 0x000001B67F5D03A0>, ckpt_to_load_from=None, tensor_name_in_ckpt=None, max_norm=None, trainable=True, use_safe_embedding_lookup=True),\n",
              " EmbeddingColumn(categorical_column=VocabularyListCategoricalColumn(key='structure', vocabulary_list=('.', '(', ')'), dtype=tf.string, default_value=-1, num_oov_buckets=0), dimension=2, combiner='mean', initializer=<tensorflow.python.ops.init_ops.TruncatedNormal object at 0x000001B67F5C8F10>, ckpt_to_load_from=None, tensor_name_in_ckpt=None, max_norm=None, trainable=True, use_safe_embedding_lookup=True),\n",
              " EmbeddingColumn(categorical_column=VocabularyListCategoricalColumn(key='predicted_loop_type', vocabulary_list=('E', 'S', 'H', 'B', 'X', 'I', 'M'), dtype=tf.string, default_value=-1, num_oov_buckets=0), dimension=2, combiner='mean', initializer=<tensorflow.python.ops.init_ops.TruncatedNormal object at 0x000001B67F5DA490>, ckpt_to_load_from=None, tensor_name_in_ckpt=None, max_norm=None, trainable=True, use_safe_embedding_lookup=True),\n",
              " NumericColumn(key='pos', shape=(1,), default_value=None, dtype=tf.float32, normalizer_fn=None),\n",
              " NumericColumn(key='bg_pairing_partner', shape=(1,), default_value=None, dtype=tf.float32, normalizer_fn=None),\n",
              " BucketizedColumn(source_column=NumericColumn(key='pos', shape=(1,), default_value=None, dtype=tf.float32, normalizer_fn=None), boundaries=(1, 10, 20, 30, 50, 60, 70)),\n",
              " BucketizedColumn(source_column=NumericColumn(key='bg_pairing_partner', shape=(1,), default_value=None, dtype=tf.float32, normalizer_fn=None), boundaries=(1, 10, 20, 30, 50, 60, 70))]"
            ]
          },
          "metadata": {
            "tags": []
          },
          "execution_count": 57
        }
      ]
    },
    {
      "cell_type": "code",
      "metadata": {
        "id": "2nrjcjuo07qD",
        "outputId": "39c29ccd-b800-4900-8870-1f9ceb1d7b51",
        "colab": {
          "base_uri": "https://localhost:8080/",
          "height": 241
        }
      },
      "source": [
        "for header in [nuc1,\tstruct1, predicted_loop1]:\n",
        "  feature_columns.append(feature_column.indicator_column(header))\n",
        "feature_columns"
      ],
      "execution_count": 58,
      "outputs": [
        {
          "output_type": "execute_result",
          "data": {
            "text/plain": [
              "[NumericColumn(key='pos', shape=(1,), default_value=None, dtype=tf.float32, normalizer_fn=None),\n",
              " NumericColumn(key='bg_pairing_partner', shape=(1,), default_value=None, dtype=tf.float32, normalizer_fn=None),\n",
              " EmbeddingColumn(categorical_column=VocabularyListCategoricalColumn(key='sequence', vocabulary_list=('G', 'A', 'C', 'U'), dtype=tf.string, default_value=-1, num_oov_buckets=0), dimension=2, combiner='mean', initializer=<tensorflow.python.ops.init_ops.TruncatedNormal object at 0x000001B67F5D03A0>, ckpt_to_load_from=None, tensor_name_in_ckpt=None, max_norm=None, trainable=True, use_safe_embedding_lookup=True),\n",
              " EmbeddingColumn(categorical_column=VocabularyListCategoricalColumn(key='structure', vocabulary_list=('.', '(', ')'), dtype=tf.string, default_value=-1, num_oov_buckets=0), dimension=2, combiner='mean', initializer=<tensorflow.python.ops.init_ops.TruncatedNormal object at 0x000001B67F5C8F10>, ckpt_to_load_from=None, tensor_name_in_ckpt=None, max_norm=None, trainable=True, use_safe_embedding_lookup=True),\n",
              " EmbeddingColumn(categorical_column=VocabularyListCategoricalColumn(key='predicted_loop_type', vocabulary_list=('E', 'S', 'H', 'B', 'X', 'I', 'M'), dtype=tf.string, default_value=-1, num_oov_buckets=0), dimension=2, combiner='mean', initializer=<tensorflow.python.ops.init_ops.TruncatedNormal object at 0x000001B67F5DA490>, ckpt_to_load_from=None, tensor_name_in_ckpt=None, max_norm=None, trainable=True, use_safe_embedding_lookup=True),\n",
              " NumericColumn(key='pos', shape=(1,), default_value=None, dtype=tf.float32, normalizer_fn=None),\n",
              " NumericColumn(key='bg_pairing_partner', shape=(1,), default_value=None, dtype=tf.float32, normalizer_fn=None),\n",
              " BucketizedColumn(source_column=NumericColumn(key='pos', shape=(1,), default_value=None, dtype=tf.float32, normalizer_fn=None), boundaries=(1, 10, 20, 30, 50, 60, 70)),\n",
              " BucketizedColumn(source_column=NumericColumn(key='bg_pairing_partner', shape=(1,), default_value=None, dtype=tf.float32, normalizer_fn=None), boundaries=(1, 10, 20, 30, 50, 60, 70)),\n",
              " IndicatorColumn(categorical_column=VocabularyListCategoricalColumn(key='sequence', vocabulary_list=('G', 'A', 'C', 'U'), dtype=tf.string, default_value=-1, num_oov_buckets=0)),\n",
              " IndicatorColumn(categorical_column=VocabularyListCategoricalColumn(key='structure', vocabulary_list=('.', '(', ')'), dtype=tf.string, default_value=-1, num_oov_buckets=0)),\n",
              " IndicatorColumn(categorical_column=VocabularyListCategoricalColumn(key='predicted_loop_type', vocabulary_list=('E', 'S', 'H', 'B', 'X', 'I', 'M'), dtype=tf.string, default_value=-1, num_oov_buckets=0))]"
            ]
          },
          "metadata": {
            "tags": []
          },
          "execution_count": 58
        }
      ]
    },
    {
      "cell_type": "code",
      "metadata": {
        "id": "194AVLG6ezT1"
      },
      "source": [
        "target_column=feature_column.numeric_column('target')"
      ],
      "execution_count": null,
      "outputs": []
    },
    {
      "cell_type": "code",
      "metadata": {
        "id": "vo2VVwmQWVzd",
        "outputId": "52954341-429d-496f-d087-d9ce219890c7",
        "colab": {
          "base_uri": "https://localhost:8080/",
          "height": 102
        }
      },
      "source": [
        "target_columns = []\n",
        "# numeric cols\n",
        "for header in ['reactivity',\t'deg_Mg_pH10',\t'deg_pH10',\t'deg_Mg_50C',\t'deg_50C']:\n",
        "  target_columns.append(feature_column.numeric_column(header))\n",
        "target_columns"
      ],
      "execution_count": null,
      "outputs": [
        {
          "output_type": "execute_result",
          "data": {
            "text/plain": [
              "[NumericColumn(key='reactivity', shape=(1,), default_value=None, dtype=tf.float32, normalizer_fn=None),\n",
              " NumericColumn(key='deg_Mg_pH10', shape=(1,), default_value=None, dtype=tf.float32, normalizer_fn=None),\n",
              " NumericColumn(key='deg_pH10', shape=(1,), default_value=None, dtype=tf.float32, normalizer_fn=None),\n",
              " NumericColumn(key='deg_Mg_50C', shape=(1,), default_value=None, dtype=tf.float32, normalizer_fn=None),\n",
              " NumericColumn(key='deg_50C', shape=(1,), default_value=None, dtype=tf.float32, normalizer_fn=None)]"
            ]
          },
          "metadata": {
            "tags": []
          },
          "execution_count": 176
        }
      ]
    },
    {
      "cell_type": "code",
      "metadata": {
        "id": "8gwabgEYp0gT"
      },
      "source": [
        "#feature_layer = tf.keras.layers.DenseFeatures(feature_columns)\n",
        "#feature_layer = tf.keras.layers.DenseFeatures([predicted_loop1_embedding,struct1_embedding,nuc1_embedding])\n",
        "feature_layer = tf.keras.layers.DenseFeatures(feature_columns)"
      ],
      "execution_count": 62,
      "outputs": []
    },
    {
      "cell_type": "code",
      "metadata": {
        "id": "UM38CLV0qMEq"
      },
      "source": [
        "batch_size =  len(train)\n",
        "target = 'reactivity'\n",
        "target='deg_Mg_50C'\n",
        "target = 'deg_Mg_pH10'\n",
        "\n",
        "train_ds = df_to_dataset(train, batch_size=batch_size)\n",
        "val_ds = df_to_dataset(val, shuffle=False, batch_size=batch_size)\n",
        "test_ds = df_to_dataset(test, shuffle=False, batch_size=batch_size)"
      ],
      "execution_count": 205,
      "outputs": []
    },
    {
      "cell_type": "code",
      "metadata": {
        "id": "Zt4s4r4oqNjk",
        "outputId": "5ba55d9a-0e9f-498b-a990-4c1b894f83c4",
        "colab": {
          "base_uri": "https://localhost:8080/",
          "height": 1000
        }
      },
      "source": [
        "model = tf.keras.Sequential([\n",
        "  feature_layer,\n",
        "  layers.Dense(68, activation='relu'),\n",
        "  #layers.Dropout(.05),\n",
        "  layers.Dense(68, activation='relu'),\n",
        "  layers.Dense(1)\n",
        "])\n",
        "#model.compile(optimizer='adam',loss=tf.keras.losses.BinaryCrossentropy(from_logits=True),metrics=['accuracy'])\n",
        "model.compile(optimizer='adam',loss=tf.keras.losses.mean_absolute_error,metrics=['accuracy'])\n",
        "model.fit(train_ds,validation_data=val_ds,epochs=50)"
      ],
      "execution_count": 206,
      "outputs": [
        {
          "output_type": "stream",
          "text": [
            "Epoch 1/50\n",
            "WARNING:tensorflow:Layers in a Sequential model should only have a single input tensor, but we receive a <class 'dict'> input: {'sequence': <tf.Tensor 'ExpandDims_8:0' shape=(None, 1) dtype=string>, 'structure': <tf.Tensor 'ExpandDims_9:0' shape=(None, 1) dtype=string>, 'predicted_loop_type': <tf.Tensor 'ExpandDims_6:0' shape=(None, 1) dtype=string>, 'reactivity': <tf.Tensor 'ExpandDims_7:0' shape=(None, 1) dtype=float64>, 'deg_Mg_pH10': <tf.Tensor 'ExpandDims_3:0' shape=(None, 1) dtype=float64>, 'deg_pH10': <tf.Tensor 'ExpandDims_4:0' shape=(None, 1) dtype=float64>, 'deg_Mg_50C': <tf.Tensor 'ExpandDims_2:0' shape=(None, 1) dtype=float64>, 'deg_50C': <tf.Tensor 'ExpandDims_1:0' shape=(None, 1) dtype=float64>, 'bg_pairing_partner': <tf.Tensor 'ExpandDims:0' shape=(None, 1) dtype=float64>, 'pos': <tf.Tensor 'ExpandDims_5:0' shape=(None, 1) dtype=int64>}\n",
            "Consider rewriting this model with the Functional API.\n",
            "WARNING:tensorflow:Layers in a Sequential model should only have a single input tensor, but we receive a <class 'dict'> input: {'sequence': <tf.Tensor 'ExpandDims_8:0' shape=(None, 1) dtype=string>, 'structure': <tf.Tensor 'ExpandDims_9:0' shape=(None, 1) dtype=string>, 'predicted_loop_type': <tf.Tensor 'ExpandDims_6:0' shape=(None, 1) dtype=string>, 'reactivity': <tf.Tensor 'ExpandDims_7:0' shape=(None, 1) dtype=float64>, 'deg_Mg_pH10': <tf.Tensor 'ExpandDims_3:0' shape=(None, 1) dtype=float64>, 'deg_pH10': <tf.Tensor 'ExpandDims_4:0' shape=(None, 1) dtype=float64>, 'deg_Mg_50C': <tf.Tensor 'ExpandDims_2:0' shape=(None, 1) dtype=float64>, 'deg_50C': <tf.Tensor 'ExpandDims_1:0' shape=(None, 1) dtype=float64>, 'bg_pairing_partner': <tf.Tensor 'ExpandDims:0' shape=(None, 1) dtype=float64>, 'pos': <tf.Tensor 'ExpandDims_5:0' shape=(None, 1) dtype=int64>}\n",
            "Consider rewriting this model with the Functional API.\n",
            "1/1 [==============================] - ETA: 0s - loss: 3.1264 - accuracy: 0.0875WARNING:tensorflow:Layers in a Sequential model should only have a single input tensor, but we receive a <class 'dict'> input: {'sequence': <tf.Tensor 'ExpandDims_8:0' shape=(None, 1) dtype=string>, 'structure': <tf.Tensor 'ExpandDims_9:0' shape=(None, 1) dtype=string>, 'predicted_loop_type': <tf.Tensor 'ExpandDims_6:0' shape=(None, 1) dtype=string>, 'reactivity': <tf.Tensor 'ExpandDims_7:0' shape=(None, 1) dtype=float64>, 'deg_Mg_pH10': <tf.Tensor 'ExpandDims_3:0' shape=(None, 1) dtype=float64>, 'deg_pH10': <tf.Tensor 'ExpandDims_4:0' shape=(None, 1) dtype=float64>, 'deg_Mg_50C': <tf.Tensor 'ExpandDims_2:0' shape=(None, 1) dtype=float64>, 'deg_50C': <tf.Tensor 'ExpandDims_1:0' shape=(None, 1) dtype=float64>, 'bg_pairing_partner': <tf.Tensor 'ExpandDims:0' shape=(None, 1) dtype=float64>, 'pos': <tf.Tensor 'ExpandDims_5:0' shape=(None, 1) dtype=int64>}\n",
            "Consider rewriting this model with the Functional API.\n",
            "1/1 [==============================] - 0s 450ms/step - loss: 3.1264 - accuracy: 0.0875 - val_loss: 1.9895 - val_accuracy: 0.0787\n",
            "Epoch 2/50\n",
            "1/1 [==============================] - 0s 153ms/step - loss: 1.9819 - accuracy: 0.0804 - val_loss: 1.0073 - val_accuracy: 0.0702\n",
            "Epoch 3/50\n",
            "1/1 [==============================] - 0s 153ms/step - loss: 1.0057 - accuracy: 0.0711 - val_loss: 1.0919 - val_accuracy: 0.0215\n",
            "Epoch 4/50\n",
            "1/1 [==============================] - 0s 153ms/step - loss: 1.0958 - accuracy: 0.0211 - val_loss: 1.3728 - val_accuracy: 0.0067\n",
            "Epoch 5/50\n",
            "1/1 [==============================] - 0s 170ms/step - loss: 1.3758 - accuracy: 0.0069 - val_loss: 1.2387 - val_accuracy: 0.0080\n",
            "Epoch 6/50\n",
            "1/1 [==============================] - 0s 152ms/step - loss: 1.2397 - accuracy: 0.0079 - val_loss: 0.8799 - val_accuracy: 0.0292\n",
            "Epoch 7/50\n",
            "1/1 [==============================] - 0s 153ms/step - loss: 0.8777 - accuracy: 0.0290 - val_loss: 0.6411 - val_accuracy: 0.0674\n",
            "Epoch 8/50\n",
            "1/1 [==============================] - 0s 153ms/step - loss: 0.6364 - accuracy: 0.0685 - val_loss: 0.7248 - val_accuracy: 0.0760\n",
            "Epoch 9/50\n",
            "1/1 [==============================] - 0s 154ms/step - loss: 0.7209 - accuracy: 0.0775 - val_loss: 0.8610 - val_accuracy: 0.0921\n",
            "Epoch 10/50\n",
            "1/1 [==============================] - 0s 152ms/step - loss: 0.8574 - accuracy: 0.0940 - val_loss: 0.8938 - val_accuracy: 0.0964\n",
            "Epoch 11/50\n",
            "1/1 [==============================] - 0s 150ms/step - loss: 0.8903 - accuracy: 0.0979 - val_loss: 0.7478 - val_accuracy: 0.0959\n",
            "Epoch 12/50\n",
            "1/1 [==============================] - 0s 153ms/step - loss: 0.7442 - accuracy: 0.0972 - val_loss: 0.4752 - val_accuracy: 0.0892\n",
            "Epoch 13/50\n",
            "1/1 [==============================] - 0s 152ms/step - loss: 0.4719 - accuracy: 0.0911 - val_loss: 0.4017 - val_accuracy: 0.0537\n",
            "Epoch 14/50\n",
            "1/1 [==============================] - 0s 152ms/step - loss: 0.4011 - accuracy: 0.0543 - val_loss: 0.5812 - val_accuracy: 0.0171\n",
            "Epoch 15/50\n",
            "1/1 [==============================] - 0s 153ms/step - loss: 0.5831 - accuracy: 0.0177 - val_loss: 0.6572 - val_accuracy: 0.0116\n",
            "Epoch 16/50\n",
            "1/1 [==============================] - 0s 216ms/step - loss: 0.6594 - accuracy: 0.0116 - val_loss: 0.6013 - val_accuracy: 0.0141\n",
            "Epoch 17/50\n",
            "1/1 [==============================] - 0s 152ms/step - loss: 0.6040 - accuracy: 0.0142 - val_loss: 0.5054 - val_accuracy: 0.0303\n",
            "Epoch 18/50\n",
            "1/1 [==============================] - 0s 218ms/step - loss: 0.5075 - accuracy: 0.0309 - val_loss: 0.4620 - val_accuracy: 0.0624\n",
            "Epoch 19/50\n",
            "1/1 [==============================] - 0s 153ms/step - loss: 0.4623 - accuracy: 0.0635 - val_loss: 0.4728 - val_accuracy: 0.0903\n",
            "Epoch 20/50\n",
            "1/1 [==============================] - 0s 152ms/step - loss: 0.4708 - accuracy: 0.0905 - val_loss: 0.5177 - val_accuracy: 0.0931\n",
            "Epoch 21/50\n",
            "1/1 [==============================] - 0s 152ms/step - loss: 0.5156 - accuracy: 0.0937 - val_loss: 0.4954 - val_accuracy: 0.0918\n",
            "Epoch 22/50\n",
            "1/1 [==============================] - 0s 153ms/step - loss: 0.4936 - accuracy: 0.0920 - val_loss: 0.4106 - val_accuracy: 0.0862\n",
            "Epoch 23/50\n",
            "1/1 [==============================] - 0s 153ms/step - loss: 0.4089 - accuracy: 0.0872 - val_loss: 0.3810 - val_accuracy: 0.0691\n",
            "Epoch 24/50\n",
            "1/1 [==============================] - 0s 155ms/step - loss: 0.3806 - accuracy: 0.0696 - val_loss: 0.4336 - val_accuracy: 0.0583\n",
            "Epoch 25/50\n",
            "1/1 [==============================] - 0s 153ms/step - loss: 0.4333 - accuracy: 0.0578 - val_loss: 0.4546 - val_accuracy: 0.0537\n",
            "Epoch 26/50\n",
            "1/1 [==============================] - 0s 154ms/step - loss: 0.4541 - accuracy: 0.0528 - val_loss: 0.4102 - val_accuracy: 0.0635\n",
            "Epoch 27/50\n",
            "1/1 [==============================] - 0s 165ms/step - loss: 0.4099 - accuracy: 0.0630 - val_loss: 0.3452 - val_accuracy: 0.0730\n",
            "Epoch 28/50\n",
            "1/1 [==============================] - 0s 211ms/step - loss: 0.3440 - accuracy: 0.0729 - val_loss: 0.3613 - val_accuracy: 0.0860\n",
            "Epoch 29/50\n",
            "1/1 [==============================] - 0s 154ms/step - loss: 0.3589 - accuracy: 0.0869 - val_loss: 0.4066 - val_accuracy: 0.0907\n",
            "Epoch 30/50\n",
            "1/1 [==============================] - 0s 221ms/step - loss: 0.4037 - accuracy: 0.0911 - val_loss: 0.3927 - val_accuracy: 0.0891\n",
            "Epoch 31/50\n",
            "1/1 [==============================] - 0s 154ms/step - loss: 0.3901 - accuracy: 0.0896 - val_loss: 0.3512 - val_accuracy: 0.0817\n",
            "Epoch 32/50\n",
            "1/1 [==============================] - 0s 214ms/step - loss: 0.3499 - accuracy: 0.0822 - val_loss: 0.3477 - val_accuracy: 0.0710\n",
            "Epoch 33/50\n",
            "1/1 [==============================] - 0s 154ms/step - loss: 0.3479 - accuracy: 0.0720 - val_loss: 0.3694 - val_accuracy: 0.0596\n",
            "Epoch 34/50\n",
            "1/1 [==============================] - 0s 150ms/step - loss: 0.3708 - accuracy: 0.0602 - val_loss: 0.3533 - val_accuracy: 0.0662\n",
            "Epoch 35/50\n",
            "1/1 [==============================] - 0s 220ms/step - loss: 0.3541 - accuracy: 0.0666 - val_loss: 0.3199 - val_accuracy: 0.0813\n",
            "Epoch 36/50\n",
            "1/1 [==============================] - 0s 153ms/step - loss: 0.3191 - accuracy: 0.0822 - val_loss: 0.3378 - val_accuracy: 0.0864\n",
            "Epoch 37/50\n",
            "1/1 [==============================] - 0s 153ms/step - loss: 0.3360 - accuracy: 0.0875 - val_loss: 0.3555 - val_accuracy: 0.0883\n",
            "Epoch 38/50\n",
            "1/1 [==============================] - 0s 204ms/step - loss: 0.3540 - accuracy: 0.0891 - val_loss: 0.3276 - val_accuracy: 0.0874\n",
            "Epoch 39/50\n",
            "1/1 [==============================] - 0s 220ms/step - loss: 0.3261 - accuracy: 0.0881 - val_loss: 0.3144 - val_accuracy: 0.0843\n",
            "Epoch 40/50\n",
            "1/1 [==============================] - 0s 224ms/step - loss: 0.3140 - accuracy: 0.0850 - val_loss: 0.3325 - val_accuracy: 0.0801\n",
            "Epoch 41/50\n",
            "1/1 [==============================] - 0s 151ms/step - loss: 0.3335 - accuracy: 0.0814 - val_loss: 0.3288 - val_accuracy: 0.0818\n",
            "Epoch 42/50\n",
            "1/1 [==============================] - 0s 196ms/step - loss: 0.3297 - accuracy: 0.0828 - val_loss: 0.3116 - val_accuracy: 0.0866\n",
            "Epoch 43/50\n",
            "1/1 [==============================] - 0s 152ms/step - loss: 0.3115 - accuracy: 0.0879 - val_loss: 0.3177 - val_accuracy: 0.0903\n",
            "Epoch 44/50\n",
            "1/1 [==============================] - 0s 152ms/step - loss: 0.3166 - accuracy: 0.0911 - val_loss: 0.3239 - val_accuracy: 0.0905\n",
            "Epoch 45/50\n",
            "1/1 [==============================] - 0s 150ms/step - loss: 0.3226 - accuracy: 0.0912 - val_loss: 0.3059 - val_accuracy: 0.0887\n",
            "Epoch 46/50\n",
            "1/1 [==============================] - 0s 153ms/step - loss: 0.3047 - accuracy: 0.0901 - val_loss: 0.3067 - val_accuracy: 0.0857\n",
            "Epoch 47/50\n",
            "1/1 [==============================] - 0s 220ms/step - loss: 0.3062 - accuracy: 0.0867 - val_loss: 0.3159 - val_accuracy: 0.0837\n",
            "Epoch 48/50\n",
            "1/1 [==============================] - 0s 151ms/step - loss: 0.3157 - accuracy: 0.0847 - val_loss: 0.3056 - val_accuracy: 0.0859\n",
            "Epoch 49/50\n",
            "1/1 [==============================] - 0s 167ms/step - loss: 0.3048 - accuracy: 0.0871 - val_loss: 0.3027 - val_accuracy: 0.0888\n",
            "Epoch 50/50\n",
            "1/1 [==============================] - 0s 221ms/step - loss: 0.3014 - accuracy: 0.0900 - val_loss: 0.3095 - val_accuracy: 0.0896\n"
          ],
          "name": "stdout"
        },
        {
          "output_type": "execute_result",
          "data": {
            "text/plain": [
              "<tensorflow.python.keras.callbacks.History at 0x1b6d9da5190>"
            ]
          },
          "metadata": {
            "tags": []
          },
          "execution_count": 206
        }
      ]
    },
    {
      "cell_type": "code",
      "metadata": {
        "id": "a0VJpPgnqg5C",
        "outputId": "eba28ec9-d216-4259-bd9f-14371a5b11c7",
        "colab": {
          "base_uri": "https://localhost:8080/",
          "height": 51
        }
      },
      "source": [
        "loss, accuracy = model.evaluate(test_ds)\n",
        "print(\"Accuracy\", accuracy)"
      ],
      "execution_count": 207,
      "outputs": [
        {
          "output_type": "stream",
          "text": [
            "1/1 [==============================] - 0s 3ms/step - loss: 0.3064 - accuracy: 0.0911\n",
            "Accuracy 0.0911458358168602\n"
          ],
          "name": "stdout"
        }
      ]
    },
    {
      "cell_type": "code",
      "metadata": {
        "id": "PrmWOJjQn0-E",
        "outputId": "3a6c1bd7-6df9-4e29-d802-71c5b7968403",
        "colab": {
          "base_uri": "https://localhost:8080/",
          "height": 373
        }
      },
      "source": [
        "plt.plot(train['reactivity'],model.predict(train_ds).flatten())"
      ],
      "execution_count": 186,
      "outputs": [
        {
          "output_type": "stream",
          "text": [
            "WARNING:tensorflow:Layers in a Sequential model should only have a single input tensor, but we receive a <class 'dict'> input: {'sequence': <tf.Tensor 'ExpandDims_8:0' shape=(None, 1) dtype=string>, 'structure': <tf.Tensor 'ExpandDims_9:0' shape=(None, 1) dtype=string>, 'predicted_loop_type': <tf.Tensor 'ExpandDims_6:0' shape=(None, 1) dtype=string>, 'reactivity': <tf.Tensor 'ExpandDims_7:0' shape=(None, 1) dtype=float64>, 'deg_Mg_pH10': <tf.Tensor 'ExpandDims_3:0' shape=(None, 1) dtype=float64>, 'deg_pH10': <tf.Tensor 'ExpandDims_4:0' shape=(None, 1) dtype=float64>, 'deg_Mg_50C': <tf.Tensor 'ExpandDims_2:0' shape=(None, 1) dtype=float64>, 'deg_50C': <tf.Tensor 'ExpandDims_1:0' shape=(None, 1) dtype=float64>, 'bg_pairing_partner': <tf.Tensor 'ExpandDims:0' shape=(None, 1) dtype=float64>, 'pos': <tf.Tensor 'ExpandDims_5:0' shape=(None, 1) dtype=int64>}\n",
            "Consider rewriting this model with the Functional API.\n",
            "WARNING:tensorflow:5 out of the last 484 calls to <function Model.make_predict_function.<locals>.predict_function at 0x000001B6D71AE790> triggered tf.function retracing. Tracing is expensive and the excessive number of tracings could be due to (1) creating @tf.function repeatedly in a loop, (2) passing tensors with different shapes, (3) passing Python objects instead of tensors. For (1), please define your @tf.function outside of the loop. For (2), @tf.function has experimental_relax_shapes=True option that relaxes argument shapes that can avoid unnecessary retracing. For (3), please refer to https://www.tensorflow.org/tutorials/customization/performance#python_or_tensor_args and https://www.tensorflow.org/api_docs/python/tf/function for  more details.\n"
          ],
          "name": "stdout"
        },
        {
          "output_type": "execute_result",
          "data": {
            "text/plain": [
              "[<matplotlib.lines.Line2D at 0x1b6d7930700>]"
            ]
          },
          "metadata": {
            "tags": []
          },
          "execution_count": 186
        },
        {
          "output_type": "display_data",
          "data": {
            "text/plain": [
              "<Figure size 432x288 with 1 Axes>"
            ],
            "image/png": "[encoded data removed]"
          },
          "metadata": {
            "tags": []
          }
        }
      ]
    },
    {
      "cell_type": "code",
      "metadata": {
        "id": "8_N9eUfOqYiE"
      },
      "source": [
        "from sklearn.metrics import mean_squared_error\n",
        "from math import sqrt\n",
        "pred_train = model.predict(train_ds)\n",
        "print(np.sqrt(mean_squared_error(label_batch,pred_train)))\n",
        "pred = model.predict(test_ds)\n",
        "plt.plot(pred_train)\n",
        "#print(np.sqrt(mean_squared_error(test,pred)))"
      ],
      "execution_count": null,
      "outputs": []
    },
    {
      "cell_type": "code",
      "metadata": {
        "id": "JvN_YcAHMfUn"
      },
      "source": [
        "  def create_model():\n",
        "  return tf.keras.models.Sequential([\n",
        "    tf.keras.layers.Flatten(input_shape=(1, 9)),\n",
        "    tf.keras.layers.Dense(9, activation='relu'),\n",
        "    tf.keras.layers.Dropout(0.2),\n",
        "    tf.keras.layers.Dense(3, activation='softmax')\n",
        "  ])\n",
        "def train_model():\n",
        "  model = create_model()\n",
        "  model.compile(optimizer='adam',\n",
        "                loss='sparse_categorical_crossentropy',\n",
        "                metrics=['accuracy'])\n",
        "  logdir = os.path.join(\"C:/Users/animeshs/GD/tensorboardlogdir/\",datetime.datetime.now().strftime(\"%Y%m%d-%H%M%S\"))\n",
        "  tensorboard_callback = tf.keras.callbacks.TensorBoard(logdir, histogram_freq=1)\n",
        "  model.fit(x=x_train, \n",
        "            y=y_train, \n",
        "            epochs=5, \n",
        "            validation_data=(x_test, y_test), \n",
        "            callbacks=[tensorboard_callback])\n",
        "train_model()"
      ],
      "execution_count": null,
      "outputs": []
    },
    {
      "cell_type": "code",
      "metadata": {
        "id": "qJeWuaextjbJ",
        "outputId": "c8ee6f71-377e-4d91-cd53-5d7f336669d9",
        "colab": {
          "base_uri": "https://localhost:8080/",
          "height": 309
        }
      },
      "source": [
        "dfTest=pd.read_json(testFile,lines=True)\n",
        "dfTest.head()"
      ],
      "execution_count": null,
      "outputs": [
        {
          "output_type": "execute_result",
          "data": {
            "text/plain": [
              "   index            id                                           sequence  \\\n",
              "0      0  id_00073f8be  GGAAAAGUACGACUUGAGUACGGAAAACGUACCAACUCGAUUAAAA...   \n",
              "1      1  id_000ae4237  GGAAACGGGUUCCGCGGAUUGCUGCUAAUAAGAGUAAUCUCUAAAU...   \n",
              "2      2  id_00131c573  GGAAAACAAAACGGCCUGGAAGACGAAGGAAUUCGGCGCGAAGGCC...   \n",
              "3      3  id_00181fd34  GGAAAGGAUCUCUAUCGAAGGAUAGAGAUCGCUCGCGACGGCACGA...   \n",
              "4      4  id_0020473f7  GGAAACCCGCCCGCGCCCGCCCGCGCUGCUGCCGUGCCUCCUCUCC...   \n",
              "\n",
              "                                           structure  \\\n",
              "0  ......((((((((((.(((((.....))))))))((((((((......   \n",
              "1  .....((((..((((((...(((((.....((((....)))).......   \n",
              "2  ...........((.(((.(.(..((..((..((((...))))..))...   \n",
              "3  ......((((((((((....))))))))))((((((..((.(((.....   \n",
              "4  .....(((((((((((((((((((((((((((((((((((((((((...   \n",
              "\n",
              "                                 predicted_loop_type  seq_length  seq_scored  \n",
              "0  EEEEEESSSSSSSSSSBSSSSSHHHHHSSSSSSSSSSSSSSSSHHH...         107          68  \n",
              "1  EEEEESSSSIISSSSSSIIISSSSSIIIIISSSSHHHHSSSSIIII...         130          91  \n",
              "2  EEEEEEEEEEESSISSSISISIISSIISSIISSSSHHHSSSSIISS...         107          68  \n",
              "3  EEEEEESSSSSSSSSSHHHHSSSSSSSSSSSSSSSSIISSISSSHH...         107          68  \n",
              "4  EEEEESSSSSSSSSSSSSSSSSSSSSSSSSSSSSSSSSSSSSSSSS...         130          91  "
            ],
            "text/html": [
              "<div>\n",
              "<style scoped>\n",
              "    .dataframe tbody tr th:only-of-type {\n",
              "        vertical-align: middle;\n",
              "    }\n",
              "\n",
              "    .dataframe tbody tr th {\n",
              "        vertical-align: top;\n",
              "    }\n",
              "\n",
              "    .dataframe thead th {\n",
              "        text-align: right;\n",
              "    }\n",
              "</style>\n",
              "<table border=\"1\" class=\"dataframe\">\n",
              "  <thead>\n",
              "    <tr style=\"text-align: right;\">\n",
              "      <th></th>\n",
              "      <th>index</th>\n",
              "      <th>id</th>\n",
              "      <th>sequence</th>\n",
              "      <th>structure</th>\n",
              "      <th>predicted_loop_type</th>\n",
              "      <th>seq_length</th>\n",
              "      <th>seq_scored</th>\n",
              "    </tr>\n",
              "  </thead>\n",
              "  <tbody>\n",
              "    <tr>\n",
              "      <th>0</th>\n",
              "      <td>0</td>\n",
              "      <td>id_00073f8be</td>\n",
              "      <td>GGAAAAGUACGACUUGAGUACGGAAAACGUACCAACUCGAUUAAAA...</td>\n",
              "      <td>......((((((((((.(((((.....))))))))((((((((......</td>\n",
              "      <td>EEEEEESSSSSSSSSSBSSSSSHHHHHSSSSSSSSSSSSSSSSHHH...</td>\n",
              "      <td>107</td>\n",
              "      <td>68</td>\n",
              "    </tr>\n",
              "    <tr>\n",
              "      <th>1</th>\n",
              "      <td>1</td>\n",
              "      <td>id_000ae4237</td>\n",
              "      <td>GGAAACGGGUUCCGCGGAUUGCUGCUAAUAAGAGUAAUCUCUAAAU...</td>\n",
              "      <td>.....((((..((((((...(((((.....((((....)))).......</td>\n",
              "      <td>EEEEESSSSIISSSSSSIIISSSSSIIIIISSSSHHHHSSSSIIII...</td>\n",
              "      <td>130</td>\n",
              "      <td>91</td>\n",
              "    </tr>\n",
              "    <tr>\n",
              "      <th>2</th>\n",
              "      <td>2</td>\n",
              "      <td>id_00131c573</td>\n",
              "      <td>GGAAAACAAAACGGCCUGGAAGACGAAGGAAUUCGGCGCGAAGGCC...</td>\n",
              "      <td>...........((.(((.(.(..((..((..((((...))))..))...</td>\n",
              "      <td>EEEEEEEEEEESSISSSISISIISSIISSIISSSSHHHSSSSIISS...</td>\n",
              "      <td>107</td>\n",
              "      <td>68</td>\n",
              "    </tr>\n",
              "    <tr>\n",
              "      <th>3</th>\n",
              "      <td>3</td>\n",
              "      <td>id_00181fd34</td>\n",
              "      <td>GGAAAGGAUCUCUAUCGAAGGAUAGAGAUCGCUCGCGACGGCACGA...</td>\n",
              "      <td>......((((((((((....))))))))))((((((..((.(((.....</td>\n",
              "      <td>EEEEEESSSSSSSSSSHHHHSSSSSSSSSSSSSSSSIISSISSSHH...</td>\n",
              "      <td>107</td>\n",
              "      <td>68</td>\n",
              "    </tr>\n",
              "    <tr>\n",
              "      <th>4</th>\n",
              "      <td>4</td>\n",
              "      <td>id_0020473f7</td>\n",
              "      <td>GGAAACCCGCCCGCGCCCGCCCGCGCUGCUGCCGUGCCUCCUCUCC...</td>\n",
              "      <td>.....(((((((((((((((((((((((((((((((((((((((((...</td>\n",
              "      <td>EEEEESSSSSSSSSSSSSSSSSSSSSSSSSSSSSSSSSSSSSSSSS...</td>\n",
              "      <td>130</td>\n",
              "      <td>91</td>\n",
              "    </tr>\n",
              "  </tbody>\n",
              "</table>\n",
              "</div>"
            ]
          },
          "metadata": {
            "tags": []
          },
          "execution_count": 63
        }
      ]
    },
    {
      "cell_type": "code",
      "metadata": {
        "id": "-6XYzhBogFP2",
        "outputId": "1b0f0d29-8960-4cbd-8fbc-301487c00990",
        "colab": {
          "base_uri": "https://localhost:8080/",
          "height": 238
        }
      },
      "source": [
        "#test\n",
        "test_data = []\n",
        "dfTest=pd.read_json(testFile,lines=True)\n",
        "for mol_id in dfTest['id']:\n",
        "    sample_data = dfTest.loc[dfTest['id'] == mol_id]\n",
        "    bg, = forgi.load_rna(sample_data['structure'].values[0])\n",
        "#    for i in range(len(dfTest['sequence'])):\n",
        "    for i in range(68):\n",
        "        sample_tuple = (sample_data['id'].values[0]+'_'+str(i), sample_data['sequence'].values[0][i],\n",
        "                        sample_data['structure'].values[0][i], sample_data['predicted_loop_type'].values[0][i],\n",
        "                        #sample_data['reactivity'].values[0][i], sample_data['reactivity_error'].values[0][i],\n",
        "                        #sample_data['deg_Mg_pH10'].values[0][i], sample_data['deg_error_Mg_pH10'].values[0][i],\n",
        "                        #sample_data['deg_pH10'].values[0][i], sample_data['deg_error_pH10'].values[0][i],\n",
        "                        #sample_data['deg_Mg_50C'].values[0][i], sample_data['deg_error_Mg_50C'].values[0][i],\n",
        "                        #sample_data['deg_50C'].values[0][i], sample_data['deg_error_50C'].values[0][i]),\n",
        "                        bg.pairing_partner(i),(i+1)\n",
        "                        )\n",
        "        test_data.append(sample_tuple)\n",
        "testCSV=pathFiles/'test_data2.csv'\n",
        "test_data = pd.DataFrame(test_data, columns=['id', 'sequence', 'structure', 'predicted_loop_type','bg_pairing_partner','pos']) #'predicted_loop_type', 'reactivity', 'reactivity_error', 'deg_Mg_pH10', 'deg_error_Mg_pH10','deg_pH10', 'deg_error_pH10', 'deg_Mg_50C', 'deg_error_Mg_50C', 'deg_50C', 'deg_error_50C'])\n",
        "print(test_data.head())\n",
        "#print(test_data)\n",
        "test_data.to_csv(testCSV, index = None)"
      ],
      "execution_count": 81,
      "outputs": [
        {
          "output_type": "stream",
          "text": [
            "               id sequence structure predicted_loop_type  bg_pairing_partner  \\\n",
            "0  id_00073f8be_0        G         .                   E                 NaN   \n",
            "1  id_00073f8be_1        G         .                   E                 NaN   \n",
            "2  id_00073f8be_2        A         .                   E                 NaN   \n",
            "3  id_00073f8be_3        A         .                   E                 NaN   \n",
            "4  id_00073f8be_4        A         .                   E                 NaN   \n",
            "\n",
            "   pos  \n",
            "0    1  \n",
            "1    2  \n",
            "2    3  \n",
            "3    4  \n",
            "4    5  \n"
          ],
          "name": "stdout"
        }
      ]
    },
    {
      "cell_type": "code",
      "metadata": {
        "id": "UlZoave3hzOS",
        "outputId": "2595ead9-c2b1-4806-c52f-d4d4ceceb092",
        "colab": {
          "base_uri": "https://localhost:8080/",
          "height": 204
        }
      },
      "source": [
        "dataframe=test_data\n",
        "# Drop un-used columns.\n",
        "dataframe = dataframe.drop(columns=['id'])#, 'sequence'])#, 'structure', 'predicted_loop_type'])\n",
        "dataframe[target]=0\n",
        "dataframe.tail()\n",
        "dataframe.fillna(0,inplace=True)\n",
        "dataframe.tail()"
      ],
      "execution_count": 208,
      "outputs": [
        {
          "output_type": "execute_result",
          "data": {
            "text/plain": [
              "       sequence structure predicted_loop_type  bg_pairing_partner  pos  \\\n",
              "247107        A         .                   I                37.0   64   \n",
              "247108        U         .                   I                 0.0   65   \n",
              "247109        U         .                   I                 0.0   66   \n",
              "247110        A         )                   S                 0.0   67   \n",
              "247111        U         )                   S                33.0   68   \n",
              "\n",
              "        deg_Mg_pH10  \n",
              "247107            0  \n",
              "247108            0  \n",
              "247109            0  \n",
              "247110            0  \n",
              "247111            0  "
            ],
            "text/html": [
              "<div>\n",
              "<style scoped>\n",
              "    .dataframe tbody tr th:only-of-type {\n",
              "        vertical-align: middle;\n",
              "    }\n",
              "\n",
              "    .dataframe tbody tr th {\n",
              "        vertical-align: top;\n",
              "    }\n",
              "\n",
              "    .dataframe thead th {\n",
              "        text-align: right;\n",
              "    }\n",
              "</style>\n",
              "<table border=\"1\" class=\"dataframe\">\n",
              "  <thead>\n",
              "    <tr style=\"text-align: right;\">\n",
              "      <th></th>\n",
              "      <th>sequence</th>\n",
              "      <th>structure</th>\n",
              "      <th>predicted_loop_type</th>\n",
              "      <th>bg_pairing_partner</th>\n",
              "      <th>pos</th>\n",
              "      <th>deg_Mg_pH10</th>\n",
              "    </tr>\n",
              "  </thead>\n",
              "  <tbody>\n",
              "    <tr>\n",
              "      <th>247107</th>\n",
              "      <td>A</td>\n",
              "      <td>.</td>\n",
              "      <td>I</td>\n",
              "      <td>37.0</td>\n",
              "      <td>64</td>\n",
              "      <td>0</td>\n",
              "    </tr>\n",
              "    <tr>\n",
              "      <th>247108</th>\n",
              "      <td>U</td>\n",
              "      <td>.</td>\n",
              "      <td>I</td>\n",
              "      <td>0.0</td>\n",
              "      <td>65</td>\n",
              "      <td>0</td>\n",
              "    </tr>\n",
              "    <tr>\n",
              "      <th>247109</th>\n",
              "      <td>U</td>\n",
              "      <td>.</td>\n",
              "      <td>I</td>\n",
              "      <td>0.0</td>\n",
              "      <td>66</td>\n",
              "      <td>0</td>\n",
              "    </tr>\n",
              "    <tr>\n",
              "      <th>247110</th>\n",
              "      <td>A</td>\n",
              "      <td>)</td>\n",
              "      <td>S</td>\n",
              "      <td>0.0</td>\n",
              "      <td>67</td>\n",
              "      <td>0</td>\n",
              "    </tr>\n",
              "    <tr>\n",
              "      <th>247111</th>\n",
              "      <td>U</td>\n",
              "      <td>)</td>\n",
              "      <td>S</td>\n",
              "      <td>33.0</td>\n",
              "      <td>68</td>\n",
              "      <td>0</td>\n",
              "    </tr>\n",
              "  </tbody>\n",
              "</table>\n",
              "</div>"
            ]
          },
          "metadata": {
            "tags": []
          },
          "execution_count": 208
        }
      ]
    },
    {
      "cell_type": "code",
      "metadata": {
        "id": "sv5v6WEihINa"
      },
      "source": [
        "from pandas_profiling import ProfileReport\n",
        "profile = ProfileReport(dataframe, title='Pandas Profiling Report', explorative=True)\n",
        "profile.to_notebook_iframe()\n",
        "#profile.to_html()"
      ],
      "execution_count": null,
      "outputs": []
    },
    {
      "cell_type": "code",
      "metadata": {
        "id": "zQKqmAVpinmP"
      },
      "source": [
        "#testO_ds = df_to_dataset(dataframe, shuffle=False, batch_size=len(dataframe), target=target)"
      ],
      "execution_count": 210,
      "outputs": []
    },
    {
      "cell_type": "code",
      "metadata": {
        "id": "KKwPMCoci7kt",
        "outputId": "4d51f23a-7d0e-40a4-9574-3f92169ffaf2",
        "colab": {
          "base_uri": "https://localhost:8080/",
          "height": 370
        }
      },
      "source": [
        "pred_test = model.predict(testO_ds)\n",
        "#print(np.sqrt(mean_squared_error(label_batch,pred_train)))\n",
        "plt.plot(pred_test)"
      ],
      "execution_count": 211,
      "outputs": [
        {
          "output_type": "stream",
          "text": [
            "WARNING:tensorflow:Layers in a Sequential model should only have a single input tensor, but we receive a <class 'dict'> input: {'sequence': <tf.Tensor 'ExpandDims_3:0' shape=(None, 1) dtype=string>, 'structure': <tf.Tensor 'ExpandDims_4:0' shape=(None, 1) dtype=string>, 'predicted_loop_type': <tf.Tensor 'ExpandDims_2:0' shape=(None, 1) dtype=string>, 'bg_pairing_partner': <tf.Tensor 'ExpandDims:0' shape=(None, 1) dtype=float64>, 'pos': <tf.Tensor 'ExpandDims_1:0' shape=(None, 1) dtype=int64>}\n",
            "Consider rewriting this model with the Functional API.\n",
            "WARNING:tensorflow:9 out of the last 488 calls to <function Model.make_predict_function.<locals>.predict_function at 0x000001B6D236D8B0> triggered tf.function retracing. Tracing is expensive and the excessive number of tracings could be due to (1) creating @tf.function repeatedly in a loop, (2) passing tensors with different shapes, (3) passing Python objects instead of tensors. For (1), please define your @tf.function outside of the loop. For (2), @tf.function has experimental_relax_shapes=True option that relaxes argument shapes that can avoid unnecessary retracing. For (3), please refer to https://www.tensorflow.org/tutorials/customization/performance#python_or_tensor_args and https://www.tensorflow.org/api_docs/python/tf/function for  more details.\n"
          ],
          "name": "stdout"
        },
        {
          "output_type": "execute_result",
          "data": {
            "text/plain": [
              "[<matplotlib.lines.Line2D at 0x1b68350a1c0>]"
            ]
          },
          "metadata": {
            "tags": []
          },
          "execution_count": 211
        },
        {
          "output_type": "display_data",
          "data": {
            "text/plain": [
              "<Figure size 432x288 with 1 Axes>"
            ],
            "image/png": "[encoded data removed]"
          },
          "metadata": {
            "tags": []
          }
        }
      ]
    },
    {
      "cell_type": "code",
      "metadata": {
        "id": "NEgM6GzroQWN",
        "outputId": "c52241ef-59d5-4704-c388-5ee1f817209a",
        "colab": {
          "base_uri": "https://localhost:8080/",
          "height": 238
        }
      },
      "source": [
        "testCSV=pathFiles/'test_data2predReactivity.csv'\n",
        "testCSV=pathFiles/'test_data2preddeg_Mg_50C.csv'\n",
        "testCSV=pathFiles/'test_data2preddeg_Mg_pH10.csv'\n",
        "test_data_pred = pd.concat([test_data, pd.DataFrame(pred_test)], axis=1)#DataFrame(test_data, columns=['id', 'sequence', 'structure', 'predicted_loop_type','bg_pairing_partner','pos']) #'predicted_loop_type', 'reactivity', 'reactivity_error', 'deg_Mg_pH10', 'deg_error_Mg_pH10','deg_pH10', 'deg_error_pH10', 'deg_Mg_50C', 'deg_error_Mg_50C', 'deg_50C', 'deg_error_50C'])\n",
        "print(test_data_pred.head())\n",
        "test_data_pred.to_csv(testCSV, index = None)"
      ],
      "execution_count": 237,
      "outputs": [
        {
          "output_type": "stream",
          "text": [
            "               id sequence structure predicted_loop_type  bg_pairing_partner  \\\n",
            "0  id_00073f8be_0        G         .                   E                 NaN   \n",
            "1  id_00073f8be_1        G         .                   E                 NaN   \n",
            "2  id_00073f8be_2        A         .                   E                 NaN   \n",
            "3  id_00073f8be_3        A         .                   E                 NaN   \n",
            "4  id_00073f8be_4        A         .                   E                 NaN   \n",
            "\n",
            "   pos         0  \n",
            "0    1  0.805392  \n",
            "1    2  0.804743  \n",
            "2    3  0.890490  \n",
            "3    4  0.821674  \n",
            "4    5  0.722183  \n"
          ],
          "name": "stdout"
        }
      ]
    },
    {
      "cell_type": "code",
      "metadata": {
        "id": "vWsQsQR9fpLX",
        "outputId": "c7b4f6f1-42ad-4d9c-a137-5a75dcd2856b",
        "colab": {
          "base_uri": "https://localhost:8080/",
          "height": 1000
        }
      },
      "source": [
        "fileName='test_data2pred*.csv'\n",
        "trainList=list(pathFiles.rglob(fileName))\n",
        "print(trainList)\n",
        "import pandas as pd\n",
        "df=pd.read_csv('C:/Users/animeshs/GD/stanford-covid-vaccine/test_data_pred.csv',low_memory=False,index_col=0)\n",
        "for f in trainList:\n",
        "    print(f)\n",
        "    temp=pd.read_csv(f,low_memory=False,index_col=0)\n",
        "    temp.rename(columns={'0':f}, inplace=True)\n",
        "    df=df.merge(temp,left_index=True, right_index=True,how='outer')\n",
        "print(df.head())\n",
        "print(df.columns)\n",
        "testCSV=pathFiles/ 'sample_submission.csv'\n",
        "df.to_csv(testCSV)"
      ],
      "execution_count": 246,
      "outputs": [
        {
          "output_type": "stream",
          "text": [
            "[WindowsPath('C:/Users/animeshs/GD/stanford-covid-vaccine/test_data2preddeg_Mg_50C.csv'), WindowsPath('C:/Users/animeshs/GD/stanford-covid-vaccine/test_data2preddeg_Mg_pH10.csv'), WindowsPath('C:/Users/animeshs/GD/stanford-covid-vaccine/test_data2predReactivity.csv')]\n",
            "C:\\Users\\animeshs\\GD\\stanford-covid-vaccine\\test_data2preddeg_Mg_50C.csv\n",
            "C:\\Users\\animeshs\\GD\\stanford-covid-vaccine\\test_data2preddeg_Mg_pH10.csv\n",
            "C:\\Users\\animeshs\\GD\\stanford-covid-vaccine\\test_data2predReactivity.csv\n",
            "                  reactivity  deg_Mg_pH10  deg_pH10  deg_Mg_50C  deg_50C  \\\n",
            "id_00073f8be_0           0.0          0.0       0.0         0.0      0.0   \n",
            "id_00073f8be_1           0.0          0.0       0.0         0.0      0.0   \n",
            "id_00073f8be_10          0.0          0.0       0.0         0.0      0.0   \n",
            "id_00073f8be_100         0.0          0.0       0.0         0.0      0.0   \n",
            "id_00073f8be_101         0.0          0.0       0.0         0.0      0.0   \n",
            "\n",
            "                 sequence_x structure_x predicted_loop_type_x  \\\n",
            "id_00073f8be_0            G           .                     E   \n",
            "id_00073f8be_1            G           .                     E   \n",
            "id_00073f8be_10           G           (                     S   \n",
            "id_00073f8be_100        NaN         NaN                   NaN   \n",
            "id_00073f8be_101        NaN         NaN                   NaN   \n",
            "\n",
            "                  bg_pairing_partner_x  pos_x  ...  predicted_loop_type_y  \\\n",
            "id_00073f8be_0                     NaN    1.0  ...                      E   \n",
            "id_00073f8be_1                     NaN    2.0  ...                      E   \n",
            "id_00073f8be_10                   61.0   11.0  ...                      S   \n",
            "id_00073f8be_100                   NaN    NaN  ...                    NaN   \n",
            "id_00073f8be_101                   NaN    NaN  ...                    NaN   \n",
            "\n",
            "                 bg_pairing_partner_y pos_y  \\\n",
            "id_00073f8be_0                    NaN   1.0   \n",
            "id_00073f8be_1                    NaN   2.0   \n",
            "id_00073f8be_10                  61.0  11.0   \n",
            "id_00073f8be_100                  NaN   NaN   \n",
            "id_00073f8be_101                  NaN   NaN   \n",
            "\n",
            "                 C:\\Users\\animeshs\\GD\\stanford-covid-vaccine\\test_data2preddeg_Mg_pH10.csv  \\\n",
            "id_00073f8be_0                                             0.805392                          \n",
            "id_00073f8be_1                                             0.804743                          \n",
            "id_00073f8be_10                                           -0.113088                          \n",
            "id_00073f8be_100                                                NaN                          \n",
            "id_00073f8be_101                                                NaN                          \n",
            "\n",
            "                  sequence  structure  predicted_loop_type bg_pairing_partner  \\\n",
            "id_00073f8be_0           G          .                    E                NaN   \n",
            "id_00073f8be_1           G          .                    E                NaN   \n",
            "id_00073f8be_10          G          (                    S               61.0   \n",
            "id_00073f8be_100       NaN        NaN                  NaN                NaN   \n",
            "id_00073f8be_101       NaN        NaN                  NaN                NaN   \n",
            "\n",
            "                   pos  \\\n",
            "id_00073f8be_0     1.0   \n",
            "id_00073f8be_1     2.0   \n",
            "id_00073f8be_10   11.0   \n",
            "id_00073f8be_100   NaN   \n",
            "id_00073f8be_101   NaN   \n",
            "\n",
            "                 C:\\Users\\animeshs\\GD\\stanford-covid-vaccine\\test_data2predReactivity.csv  \n",
            "id_00073f8be_0                                             0.523629                        \n",
            "id_00073f8be_1                                             1.373443                        \n",
            "id_00073f8be_10                                            0.058381                        \n",
            "id_00073f8be_100                                                NaN                        \n",
            "id_00073f8be_101                                                NaN                        \n",
            "\n",
            "[5 rows x 23 columns]\n",
            "Index([                                                             'reactivity',\n",
            "                                                                   'deg_Mg_pH10',\n",
            "                                                                      'deg_pH10',\n",
            "                                                                    'deg_Mg_50C',\n",
            "                                                                       'deg_50C',\n",
            "                                                                    'sequence_x',\n",
            "                                                                   'structure_x',\n",
            "                                                         'predicted_loop_type_x',\n",
            "                                                          'bg_pairing_partner_x',\n",
            "                                                                         'pos_x',\n",
            "        C:\\Users\\animeshs\\GD\\stanford-covid-vaccine\\test_data2preddeg_Mg_50C.csv,\n",
            "                                                                    'sequence_y',\n",
            "                                                                   'structure_y',\n",
            "                                                         'predicted_loop_type_y',\n",
            "                                                          'bg_pairing_partner_y',\n",
            "                                                                         'pos_y',\n",
            "       C:\\Users\\animeshs\\GD\\stanford-covid-vaccine\\test_data2preddeg_Mg_pH10.csv,\n",
            "                                                                      'sequence',\n",
            "                                                                     'structure',\n",
            "                                                           'predicted_loop_type',\n",
            "                                                            'bg_pairing_partner',\n",
            "                                                                           'pos',\n",
            "        C:\\Users\\animeshs\\GD\\stanford-covid-vaccine\\test_data2predReactivity.csv],\n",
            "      dtype='object')\n"
          ],
          "name": "stdout"
        }
      ]
    },
    {
      "cell_type": "code",
      "metadata": {
        "id": "QRdtn8nBhYl5",
        "outputId": "08ef4fff-18e4-4e38-d510-d9526e5768ca",
        "colab": {
          "base_uri": "https://localhost:8080/",
          "height": 904
        }
      },
      "source": [
        "!pip install ipywidgets\n",
        "from ipywidgets import interact, interactive, fixed, interact_manual\n",
        "import ipywidgets as widgets"
      ],
      "execution_count": null,
      "outputs": [
        {
          "output_type": "stream",
          "text": [
            "Requirement already satisfied: ipywidgets in c:\\python385\\lib\\site-packages (7.5.1)\n",
            "Requirement already satisfied: nbformat>=4.2.0 in c:\\python385\\lib\\site-packages (from ipywidgets) (5.0.7)\n",
            "Requirement already satisfied: ipython>=4.0.0; python_version >= \"3.3\" in c:\\python385\\lib\\site-packages (from ipywidgets) (7.18.1)\n",
            "Requirement already satisfied: traitlets>=4.3.1 in c:\\python385\\lib\\site-packages (from ipywidgets) (5.0.4)\n",
            "Requirement already satisfied: widgetsnbextension~=3.5.0 in c:\\python385\\lib\\site-packages (from ipywidgets) (3.5.1)\n",
            "Requirement already satisfied: ipykernel>=4.5.1 in c:\\python385\\lib\\site-packages (from ipywidgets) (5.3.4)\n",
            "Requirement already satisfied: jsonschema!=2.5.0,>=2.4 in c:\\python385\\lib\\site-packages (from nbformat>=4.2.0->ipywidgets) (3.2.0)\n",
            "Requirement already satisfied: ipython-genutils in c:\\python385\\lib\\site-packages (from nbformat>=4.2.0->ipywidgets) (0.2.0)\n",
            "Requirement already satisfied: jupyter-core in c:\\python385\\lib\\site-packages (from nbformat>=4.2.0->ipywidgets) (4.6.3)\n",
            "Requirement already satisfied: decorator in c:\\python385\\lib\\site-packages (from ipython>=4.0.0; python_version >= \"3.3\"->ipywidgets) (4.4.2)\n",
            "Requirement already satisfied: pygments in c:\\python385\\lib\\site-packages (from ipython>=4.0.0; python_version >= \"3.3\"->ipywidgets) (2.7.1)\n",
            "Requirement already satisfied: colorama; sys_platform == \"win32\" in c:\\python385\\lib\\site-packages (from ipython>=4.0.0; python_version >= \"3.3\"->ipywidgets) (0.4.3)\n",
            "Requirement already satisfied: prompt-toolkit!=3.0.0,!=3.0.1,<3.1.0,>=2.0.0 in c:\\python385\\lib\\site-packages (from ipython>=4.0.0; python_version >= \"3.3\"->ipywidgets) (3.0.7)\n",
            "Requirement already satisfied: backcall in c:\\python385\\lib\\site-packages (from ipython>=4.0.0; python_version >= \"3.3\"->ipywidgets) (0.2.0)\n",
            "Requirement already satisfied: setuptools>=18.5 in c:\\python385\\lib\\site-packages (from ipython>=4.0.0; python_version >= \"3.3\"->ipywidgets) (47.1.0)\n",
            "Requirement already satisfied: jedi>=0.10 in c:\\python385\\lib\\site-packages (from ipython>=4.0.0; python_version >= \"3.3\"->ipywidgets) (0.17.2)\n",
            "Requirement already satisfied: pickleshare in c:\\python385\\lib\\site-packages (from ipython>=4.0.0; python_version >= \"3.3\"->ipywidgets) (0.7.5)\n",
            "Requirement already satisfied: notebook>=4.4.1 in c:\\python385\\lib\\site-packages (from widgetsnbextension~=3.5.0->ipywidgets) (6.1.4)\n",
            "Requirement already satisfied: tornado>=4.2 in c:\\python385\\lib\\site-packages (from ipykernel>=4.5.1->ipywidgets) (6.0.4)\n",
            "Requirement already satisfied: jupyter-client in c:\\python385\\lib\\site-packages (from ipykernel>=4.5.1->ipywidgets) (6.1.7)\n",
            "Requirement already satisfied: pyrsistent>=0.14.0 in c:\\python385\\lib\\site-packages (from jsonschema!=2.5.0,>=2.4->nbformat>=4.2.0->ipywidgets) (0.17.3)\n",
            "Requirement already satisfied: attrs>=17.4.0 in c:\\python385\\lib\\site-packages (from jsonschema!=2.5.0,>=2.4->nbformat>=4.2.0->ipywidgets) (20.2.0)\n",
            "Requirement already satisfied: six>=1.11.0 in c:\\python385\\lib\\site-packages (from jsonschema!=2.5.0,>=2.4->nbformat>=4.2.0->ipywidgets) (1.15.0)\n",
            "Requirement already satisfied: pywin32>=1.0; sys_platform == \"win32\" in c:\\python385\\lib\\site-packages (from jupyter-core->nbformat>=4.2.0->ipywidgets) (228)\n",
            "Requirement already satisfied: wcwidth in c:\\python385\\lib\\site-packages (from prompt-toolkit!=3.0.0,!=3.0.1,<3.1.0,>=2.0.0->ipython>=4.0.0; python_version >= \"3.3\"->ipywidgets) (0.2.5)\n",
            "Requirement already satisfied: parso<0.8.0,>=0.7.0 in c:\\python385\\lib\\site-packages (from jedi>=0.10->ipython>=4.0.0; python_version >= \"3.3\"->ipywidgets) (0.7.1)\n",
            "Requirement already satisfied: pyzmq>=17 in c:\\python385\\lib\\site-packages (from notebook>=4.4.1->widgetsnbextension~=3.5.0->ipywidgets) (19.0.2)\n",
            "Requirement already satisfied: prometheus-client in c:\\python385\\lib\\site-packages (from notebook>=4.4.1->widgetsnbextension~=3.5.0->ipywidgets) (0.8.0)\n",
            "Requirement already satisfied: Send2Trash in c:\\python385\\lib\\site-packages (from notebook>=4.4.1->widgetsnbextension~=3.5.0->ipywidgets) (1.5.0)\n",
            "Requirement already satisfied: argon2-cffi in c:\\python385\\lib\\site-packages (from notebook>=4.4.1->widgetsnbextension~=3.5.0->ipywidgets) (20.1.0)\n",
            "Requirement already satisfied: terminado>=0.8.3 in c:\\python385\\lib\\site-packages (from notebook>=4.4.1->widgetsnbextension~=3.5.0->ipywidgets) (0.9.1)\n",
            "Requirement already satisfied: jinja2 in c:\\python385\\lib\\site-packages (from notebook>=4.4.1->widgetsnbextension~=3.5.0->ipywidgets) (2.11.2)\n",
            "Requirement already satisfied: nbconvert in c:\\python385\\lib\\site-packages (from notebook>=4.4.1->widgetsnbextension~=3.5.0->ipywidgets) (6.0.5)\n",
            "Requirement already satisfied: python-dateutil>=2.1 in c:\\python385\\lib\\site-packages (from jupyter-client->ipykernel>=4.5.1->ipywidgets) (2.8.1)\n",
            "Requirement already satisfied: cffi>=1.0.0 in c:\\python385\\lib\\site-packages (from argon2-cffi->notebook>=4.4.1->widgetsnbextension~=3.5.0->ipywidgets) (1.14.3)\n",
            "Requirement already satisfied: pywinpty>=0.5; os_name == \"nt\" in c:\\python385\\lib\\site-packages (from terminado>=0.8.3->notebook>=4.4.1->widgetsnbextension~=3.5.0->ipywidgets) (0.5.7)\n",
            "Requirement already satisfied: MarkupSafe>=0.23 in c:\\python385\\lib\\site-packages (from jinja2->notebook>=4.4.1->widgetsnbextension~=3.5.0->ipywidgets) (1.1.1)\n",
            "Requirement already satisfied: bleach in c:\\python385\\lib\\site-packages (from nbconvert->notebook>=4.4.1->widgetsnbextension~=3.5.0->ipywidgets) (3.2.1)\n",
            "Requirement already satisfied: pandocfilters>=1.4.1 in c:\\python385\\lib\\site-packages (from nbconvert->notebook>=4.4.1->widgetsnbextension~=3.5.0->ipywidgets) (1.4.2)\n",
            "Requirement already satisfied: defusedxml in c:\\python385\\lib\\site-packages (from nbconvert->notebook>=4.4.1->widgetsnbextension~=3.5.0->ipywidgets) (0.6.0)\n",
            "Requirement already satisfied: jupyterlab-pygments in c:\\python385\\lib\\site-packages (from nbconvert->notebook>=4.4.1->widgetsnbextension~=3.5.0->ipywidgets) (0.1.1)\n",
            "Requirement already satisfied: mistune<2,>=0.8.1 in c:\\python385\\lib\\site-packages (from nbconvert->notebook>=4.4.1->widgetsnbextension~=3.5.0->ipywidgets) (0.8.4)\n",
            "Requirement already satisfied: entrypoints>=0.2.2 in c:\\python385\\lib\\site-packages (from nbconvert->notebook>=4.4.1->widgetsnbextension~=3.5.0->ipywidgets) (0.3)\n",
            "Requirement already satisfied: testpath in c:\\python385\\lib\\site-packages (from nbconvert->notebook>=4.4.1->widgetsnbextension~=3.5.0->ipywidgets) (0.4.4)\n",
            "Requirement already satisfied: nbclient<0.6.0,>=0.5.0 in c:\\python385\\lib\\site-packages (from nbconvert->notebook>=4.4.1->widgetsnbextension~=3.5.0->ipywidgets) (0.5.0)\n",
            "Requirement already satisfied: pycparser in c:\\python385\\lib\\site-packages (from cffi>=1.0.0->argon2-cffi->notebook>=4.4.1->widgetsnbextension~=3.5.0->ipywidgets) (2.20)\n",
            "Requirement already satisfied: webencodings in c:\\python385\\lib\\site-packages (from bleach->nbconvert->notebook>=4.4.1->widgetsnbextension~=3.5.0->ipywidgets) (0.5.1)\n",
            "Requirement already satisfied: packaging in c:\\python385\\lib\\site-packages (from bleach->nbconvert->notebook>=4.4.1->widgetsnbextension~=3.5.0->ipywidgets) (20.4)\n",
            "Requirement already satisfied: nest-asyncio in c:\\python385\\lib\\site-packages (from nbclient<0.6.0,>=0.5.0->nbconvert->notebook>=4.4.1->widgetsnbextension~=3.5.0->ipywidgets) (1.4.0)\n",
            "Requirement already satisfied: async-generator in c:\\python385\\lib\\site-packages (from nbclient<0.6.0,>=0.5.0->nbconvert->notebook>=4.4.1->widgetsnbextension~=3.5.0->ipywidgets) (1.10)\n",
            "Requirement already satisfied: pyparsing>=2.0.2 in c:\\python385\\lib\\site-packages (from packaging->bleach->nbconvert->notebook>=4.4.1->widgetsnbextension~=3.5.0->ipywidgets) (2.4.7)\n"
          ],
          "name": "stdout"
        }
      ]
    },
    {
      "cell_type": "code",
      "metadata": {
        "id": "xqKa18y2hewI",
        "outputId": "1d8c6136-8994-40a2-bca8-2b862c448d55",
        "colab": {
          "base_uri": "https://localhost:8080/",
          "height": 98,
          "referenced_widgets": [
            "a10ae5ef6ad745cf9eb2ab36e471464c",
            "a733ee007a6a406e86a09a4589b3ab87",
            "15c4349d3aa44fd3a30a4bd16760a0be",
            "010bf3cab23a4e89b0deea2fae9f80d6",
            "bd0b2dbbbc114776ac0e654b6f4120f9",
            "eeebfe59f7724497b857443ae5e2bcd2",
            "f48f214d068c4a648efc3c1fbc564a20",
            "b6a8d15da6b447d4a56b724f776f3e49",
            "34fb1ecb9f644a57b4c2026396abc413",
            "25de3c96b37749e89f64da724fc57304"
          ]
        }
      },
      "source": [
        "import matplotlib.pyplot as plt\n",
        "plt.style.use(['dark_background'])\n",
        "@interact(x=True, y=1.0)\n",
        "def g(x, y):\n",
        "    print(x, y)"
      ],
      "execution_count": null,
      "outputs": [
        {
          "output_type": "display_data",
          "data": {
            "text/plain": [
              "interactive(children=(Checkbox(value=True, description='x'), FloatSlider(value=1.0, description='y', max=3.0, …"
            ],
            "application/vnd.jupyter.widget-view+json": {
              "version_major": 2,
              "version_minor": 0,
              "model_id": "a10ae5ef6ad745cf9eb2ab36e471464c"
            }
          },
          "metadata": {
            "tags": []
          }
        }
      ]
    },
    {
      "cell_type": "code",
      "metadata": {
        "id": "MqKsbDKCi1he"
      },
      "source": [
        "%load_ext google.colab.data_table"
      ],
      "execution_count": null,
      "outputs": []
    },
    {
      "cell_type": "code",
      "metadata": {
        "id": "sRkTT5ZpD9Aa",
        "outputId": "3b1ac643-e623-4a32-d94f-8985449a07b4",
        "colab": {
          "base_uri": "https://localhost:8080/",
          "height": 282
        }
      },
      "source": [
        "#!pip install matplotlib\n",
        "import matplotlib.pyplot as plt\n",
        "plt.plot(train_data.deg_error_50C)"
      ],
      "execution_count": null,
      "outputs": [
        {
          "output_type": "execute_result",
          "data": {
            "text/plain": [
              "[<matplotlib.lines.Line2D at 0x1899919a358>]"
            ]
          },
          "metadata": {
            "tags": []
          },
          "execution_count": 16
        },
        {
          "output_type": "display_data",
          "data": {
            "text/plain": [
              "<Figure size 432x288 with 1 Axes>"
            ],
            "image/png": "[encoded data removed]"
          },
          "metadata": {
            "tags": [],
            "needs_background": "light"
          }
        }
      ]
    },
    {
      "cell_type": "code",
      "metadata": {
        "id": "YJONKSismGq4",
        "outputId": "13e85eca-fe37-4d1b-9eb0-083446414b67",
        "colab": {
          "base_uri": "https://localhost:8080/",
          "height": 678,
          "referenced_widgets": [
            "cdad5047b8d943189f721139f1376935",
            "90b5d679ba244043af52ca8c87885c1a",
            "3c217fa268c64517ba9fe1ac33c61653",
            "87a76dbbeaa9492e81c16e889556c0de",
            "bd84f84c215f4ef6a628e6ffcfc14370",
            "43f2305369af48bdab199306109775d5",
            "e5b9c505542c4de281096594b4667c44",
            "dac71b9f22fc481abf18f94e301746f0",
            "2ff4645b97ff4cff95f93875bcd06560",
            "417b15b734724a9b88a540bbc0ec4d5c",
            "c224ea54e40947bf99f40cf3c8cb382d",
            "fb9c2b0b694f4d089dd4e11beced6015",
            "f8f7b3e503c446b4a98d1f66da0d466f",
            "6035ff9d5af7468d86cb050f29ac004c",
            "143994c83a06451ea9d33e4e2a2d6edf",
            "e2f36d1135df4f97b97ccfa9d204eddb",
            "b346585fbe2c482b8641ae3db1c0872c",
            "f730652a814e480abc4f34d65b0bb262",
            "4ae1844d5c104336be2d5d4bb8eeddff",
            "8402cd964d41438a9abc4d36a379c546",
            "02fcbee0607c448daabf16dce9ee5cec",
            "0e818e6ab3fd421baa134367f2cb2deb",
            "5e8c3c65d6a8470283332ba0ca09797e",
            "6996382faf9c479d9dd55be407ddee01",
            "535e8efb604d466193e9c2e7c615bc91",
            "8e39410d2f6b4ee08a3e355ecf3001cc",
            "73116f7a307249d6bbb6379972691352",
            "0b90d659050c4c048ae8b65d9032d501",
            "634a9d8e91fb49f8a3cdaedfecd8da82",
            "f7505d35a0c445e29be58a75dd9d0c90",
            "f6faf5f968b14f9b82ae5b8a56c6f66e",
            "8e3d64e104294cb8855f5e84e53d8c71",
            "b4daff3ba85d4e1eba0e8fc1ef8faa3b",
            "c671e1766e07488c998c8bdb20859fb3",
            "1fc989b78c384503bff423c7b38c75be",
            "dc865eab909a4ef095fe3e2ef818e196",
            "896959e8ad87464c9c27676d2350c2e8",
            "22d15258613642f4ae062f52afe45deb",
            "7e193d14de5d40c094080579e103c099",
            "c2e81af4f45742c8a0fca6f2ca26c0dd",
            "032b6c87ad6442c8a192e600400a16a9",
            "330d1793701640258806bed6ed393bf9",
            "d5b7956f147b4ba6ae63b49c05d63d24",
            "34d06e40de6f4d828d382ba04ad19578",
            "9e4be7debb1149dc8df716f6caae34a5",
            "36bbb48e24204834ad3838957db65942",
            "593082c2913c4780abe8be30b63a7086",
            "50eb5ba54eb340ab8a732248fbf5efc8",
            "a3a5bab2c8af4fb9ac2f45b1f1c18c94",
            "4bb3e5a4884e408c8e3741fa457897af",
            "fde2a953db684a5686f12506186bf210",
            "64cedb8f07604365b98a77e0c7d9d3e0",
            "f08450220ab64506acbd5dacd64faddf",
            "27bafc67683549ab997bb26d5ad2d725",
            "de203ce398e44bba935523113004f0d9",
            "3018ba86858d4d54a1d0bdbeb3e15b09",
            "d54a69ff2e19465190af13beebf806d6",
            "bde3e8e5469a441b8792b4181609a0d1",
            "5aaee4276f094efdaa59727eba6c6d29",
            "a676bbd96592425d8602dd969987fd55",
            "a1c2868d323c43cf985cdaf30ab83ddc",
            "54ab1fa72320481a9fd85be212b90695",
            "af19fd3c49fd47278c38b80f9ae921b8",
            "fc8b1d5b7bc448e48143bd5da2936b56",
            "0d2acadc07f64cd684fb2100b5e1a094",
            "cca232fd5010470fa02478651a82444d",
            "dba9227f8e7e4998ab5fc2f4f6ef6b86",
            "b476fa80e096439483a240d13e249e42",
            "e0b60bfc6c514506b4b8136f7e29defc",
            "34976baafddc4132a6cbc269ad625070",
            "2d99c410637b4d6bb2a6b14174db27b0",
            "79af04848eca456d89b3f5c56fd8dd78",
            "b5502372aef24422bd3e8bfe58c936b1",
            "4b0a8078f3794645b8114f6c44034bdc",
            "98755fc0599a4e00be9cc57a4dc22344",
            "75a81f08871c4c398cf2409def0567f3",
            "119a27a70ef9484d889823c3568b039d",
            "0e973c3f73924beda7184c2f6eca321f",
            "7ec8100236e84fcf9a6e68e55451aedc",
            "60b01354740546fba49070b437b30732",
            "46c45a27954e46b38c701e52b027af2a",
            "d5e4f87c5bd74021a821abff6b265824",
            "c59dc02f4bbc428ca8e85e8acde55af5",
            "6aa6a9af4c32408c8fbcb1c6ca5112a6",
            "86e5e8d889294b5893e12aa3fa47d21d",
            "d66ea45dc3e648c8a59755334bf0c364",
            "726f9d87237140ab84ae8ad8ee2fd727",
            "d0eef80e202540e999b54e4973a10351"
          ]
        }
      },
      "source": [
        "!pip install tqdm\n",
        "from tqdm import tnrange, tqdm_notebook\n",
        "from time import sleep\n",
        "for i in tnrange(10, desc='outer loop'):\n",
        "    for j in tqdm_notebook(range(10), desc=f'loop {i}'):\n",
        "        sleep(0.3)"
      ],
      "execution_count": null,
      "outputs": [
        {
          "output_type": "stream",
          "text": [
            "Requirement already satisfied: tqdm in c:\\users\\animeshs\\appdata\\local\\continuum\\miniconda3\\lib\\site-packages (4.48.2)\n"
          ],
          "name": "stdout"
        },
        {
          "output_type": "stream",
          "text": [
            "C:\\Users\\animeshs\\AppData\\Local\\Continuum\\miniconda3\\lib\\site-packages\\ipykernel_launcher.py:4: TqdmDeprecationWarning: Please use `tqdm.notebook.trange` instead of `tqdm.tnrange`\n",
            "  after removing the cwd from sys.path.\n"
          ],
          "name": "stderr"
        },
        {
          "output_type": "display_data",
          "data": {
            "text/plain": [
              "HBox(children=(FloatProgress(value=0.0, description='outer loop', max=10.0, style=ProgressStyle(description_wi…"
            ],
            "application/vnd.jupyter.widget-view+json": {
              "version_major": 2,
              "version_minor": 0,
              "model_id": "cdad5047b8d943189f721139f1376935"
            }
          },
          "metadata": {
            "tags": []
          }
        },
        {
          "output_type": "stream",
          "text": [
            "C:\\Users\\animeshs\\AppData\\Local\\Continuum\\miniconda3\\lib\\site-packages\\ipykernel_launcher.py:5: TqdmDeprecationWarning: This function will be removed in tqdm==5.0.0\n",
            "Please use `tqdm.notebook.tqdm` instead of `tqdm.tqdm_notebook`\n",
            "  \"\"\"\n"
          ],
          "name": "stderr"
        },
        {
          "output_type": "display_data",
          "data": {
            "text/plain": [
              "HBox(children=(FloatProgress(value=0.0, description='loop 0', max=10.0, style=ProgressStyle(description_width=…"
            ],
            "application/vnd.jupyter.widget-view+json": {
              "version_major": 2,
              "version_minor": 0,
              "model_id": "2ff4645b97ff4cff95f93875bcd06560"
            }
          },
          "metadata": {
            "tags": []
          }
        },
        {
          "output_type": "stream",
          "text": [
            "\n"
          ],
          "name": "stdout"
        },
        {
          "output_type": "display_data",
          "data": {
            "text/plain": [
              "HBox(children=(FloatProgress(value=0.0, description='loop 1', max=10.0, style=ProgressStyle(description_width=…"
            ],
            "application/vnd.jupyter.widget-view+json": {
              "version_major": 2,
              "version_minor": 0,
              "model_id": "b346585fbe2c482b8641ae3db1c0872c"
            }
          },
          "metadata": {
            "tags": []
          }
        },
        {
          "output_type": "stream",
          "text": [
            "\n"
          ],
          "name": "stdout"
        },
        {
          "output_type": "display_data",
          "data": {
            "text/plain": [
              "HBox(children=(FloatProgress(value=0.0, description='loop 2', max=10.0, style=ProgressStyle(description_width=…"
            ],
            "application/vnd.jupyter.widget-view+json": {
              "version_major": 2,
              "version_minor": 0,
              "model_id": "535e8efb604d466193e9c2e7c615bc91"
            }
          },
          "metadata": {
            "tags": []
          }
        },
        {
          "output_type": "stream",
          "text": [
            "\n"
          ],
          "name": "stdout"
        },
        {
          "output_type": "display_data",
          "data": {
            "text/plain": [
              "HBox(children=(FloatProgress(value=0.0, description='loop 3', max=10.0, style=ProgressStyle(description_width=…"
            ],
            "application/vnd.jupyter.widget-view+json": {
              "version_major": 2,
              "version_minor": 0,
              "model_id": "b4daff3ba85d4e1eba0e8fc1ef8faa3b"
            }
          },
          "metadata": {
            "tags": []
          }
        },
        {
          "output_type": "stream",
          "text": [
            "\n"
          ],
          "name": "stdout"
        },
        {
          "output_type": "display_data",
          "data": {
            "text/plain": [
              "HBox(children=(FloatProgress(value=0.0, description='loop 4', max=10.0, style=ProgressStyle(description_width=…"
            ],
            "application/vnd.jupyter.widget-view+json": {
              "version_major": 2,
              "version_minor": 0,
              "model_id": "032b6c87ad6442c8a192e600400a16a9"
            }
          },
          "metadata": {
            "tags": []
          }
        },
        {
          "output_type": "stream",
          "text": [
            "\n"
          ],
          "name": "stdout"
        },
        {
          "output_type": "display_data",
          "data": {
            "text/plain": [
              "HBox(children=(FloatProgress(value=0.0, description='loop 5', max=10.0, style=ProgressStyle(description_width=…"
            ],
            "application/vnd.jupyter.widget-view+json": {
              "version_major": 2,
              "version_minor": 0,
              "model_id": "a3a5bab2c8af4fb9ac2f45b1f1c18c94"
            }
          },
          "metadata": {
            "tags": []
          }
        },
        {
          "output_type": "stream",
          "text": [
            "\n"
          ],
          "name": "stdout"
        },
        {
          "output_type": "display_data",
          "data": {
            "text/plain": [
              "HBox(children=(FloatProgress(value=0.0, description='loop 6', max=10.0, style=ProgressStyle(description_width=…"
            ],
            "application/vnd.jupyter.widget-view+json": {
              "version_major": 2,
              "version_minor": 0,
              "model_id": "d54a69ff2e19465190af13beebf806d6"
            }
          },
          "metadata": {
            "tags": []
          }
        },
        {
          "output_type": "stream",
          "text": [
            "\n"
          ],
          "name": "stdout"
        },
        {
          "output_type": "display_data",
          "data": {
            "text/plain": [
              "HBox(children=(FloatProgress(value=0.0, description='loop 7', max=10.0, style=ProgressStyle(description_width=…"
            ],
            "application/vnd.jupyter.widget-view+json": {
              "version_major": 2,
              "version_minor": 0,
              "model_id": "0d2acadc07f64cd684fb2100b5e1a094"
            }
          },
          "metadata": {
            "tags": []
          }
        },
        {
          "output_type": "stream",
          "text": [
            "\n"
          ],
          "name": "stdout"
        },
        {
          "output_type": "display_data",
          "data": {
            "text/plain": [
              "HBox(children=(FloatProgress(value=0.0, description='loop 8', max=10.0, style=ProgressStyle(description_width=…"
            ],
            "application/vnd.jupyter.widget-view+json": {
              "version_major": 2,
              "version_minor": 0,
              "model_id": "b5502372aef24422bd3e8bfe58c936b1"
            }
          },
          "metadata": {
            "tags": []
          }
        },
        {
          "output_type": "stream",
          "text": [
            "\n"
          ],
          "name": "stdout"
        },
        {
          "output_type": "display_data",
          "data": {
            "text/plain": [
              "HBox(children=(FloatProgress(value=0.0, description='loop 9', max=10.0, style=ProgressStyle(description_width=…"
            ],
            "application/vnd.jupyter.widget-view+json": {
              "version_major": 2,
              "version_minor": 0,
              "model_id": "46c45a27954e46b38c701e52b027af2a"
            }
          },
          "metadata": {
            "tags": []
          }
        },
        {
          "output_type": "stream",
          "text": [
            "\n",
            "\n"
          ],
          "name": "stdout"
        }
      ]
    },
    {
      "cell_type": "code",
      "metadata": {
        "id": "dpFQbYxalSxQ",
        "outputId": "157450e8-1722-439a-fbbc-fadf211fbe63",
        "colab": {
          "base_uri": "https://localhost:8080/",
          "height": 51
        }
      },
      "source": [
        "from tensorboard import notebook\n",
        "notebook.list() # View open TensorBoard instances"
      ],
      "execution_count": null,
      "outputs": [
        {
          "output_type": "stream",
          "text": [
            "Known TensorBoard instances:\n",
            "  - port 6006: logdir tensorboardlogdir (started 0:11:28 ago; pid 14164)\n"
          ],
          "name": "stdout"
        }
      ]
    },
    {
      "cell_type": "code",
      "metadata": {
        "id": "QmyQXhSuluQ2"
      },
      "source": [
        "notebook.display(port=6006, height=1000) "
      ],
      "execution_count": null,
      "outputs": []
    },
    {
      "cell_type": "code",
      "metadata": {
        "id": "tY16eureBVNP",
        "outputId": "74660d41-e3a3-4047-e81d-d20392c3792d",
        "colab": {
          "base_uri": "https://localhost:8080/",
          "height": 428
        }
      },
      "source": [
        ""
      ],
      "execution_count": null,
      "outputs": [
        {
          "output_type": "stream",
          "text": [
            "Collecting forgi\n",
            "  Downloading https://files.pythonhosted.org/packages/ea/95/2fdfc3636ce7957d2581ef9813cd49af123afd718c4bcb41486dadd5babc/forgi-2.0.2.tar.gz (26.6MB)\n",
            "Requirement already satisfied: numpy>=1.10.0 in c:\\users\\animeshs\\appdata\\local\\continuum\\miniconda3\\lib\\site-packages (from forgi) (1.16.4)\n",
            "Requirement already satisfied: scipy>=0.19.1 in c:\\users\\animeshs\\appdata\\local\\continuum\\miniconda3\\lib\\site-packages (from forgi) (1.5.2)\n",
            "Requirement already satisfied: pandas>=0.20 in c:\\users\\animeshs\\appdata\\local\\continuum\\miniconda3\\lib\\site-packages (from forgi) (1.1.2)\n",
            "Requirement already satisfied: future in c:\\users\\animeshs\\appdata\\local\\continuum\\miniconda3\\lib\\site-packages (from forgi) (0.18.2)\n",
            "Requirement already satisfied: networkx>=2.0 in c:\\users\\animeshs\\appdata\\local\\continuum\\miniconda3\\lib\\site-packages (from forgi) (2.4)\n",
            "Requirement already satisfied: biopython in c:\\users\\animeshs\\appdata\\local\\continuum\\miniconda3\\lib\\site-packages (from forgi) (1.78)\n",
            "Collecting appdirs>=1.4 (from forgi)\n",
            "  Downloading https://files.pythonhosted.org/packages/3b/00/2344469e2084fb287c2e0b57b72910309874c3245463acd6cf5e3db69324/appdirs-1.4.4-py2.py3-none-any.whl\n",
            "Collecting logging_exceptions>=0.1.8 (from forgi)\n",
            "  Downloading https://files.pythonhosted.org/packages/9c/d8/6d94dfd3bba77c4e2a4eb749291125018a010b1ac7fdee811074e7a4b73c/logging_exceptions-0.1.8-py2.py3-none-any.whl\n",
            "Requirement already satisfied: python-dateutil>=2.7.3 in c:\\users\\animeshs\\appdata\\local\\continuum\\miniconda3\\lib\\site-packages (from pandas>=0.20->forgi) (2.8.0)\n",
            "Requirement already satisfied: pytz>=2017.2 in c:\\users\\animeshs\\appdata\\local\\continuum\\miniconda3\\lib\\site-packages (from pandas>=0.20->forgi) (2019.1)\n",
            "Requirement already satisfied: decorator>=4.3.0 in c:\\users\\animeshs\\appdata\\local\\continuum\\miniconda3\\lib\\site-packages (from networkx>=2.0->forgi) (4.4.0)\n",
            "Requirement already satisfied: six>=1.5 in c:\\users\\animeshs\\appdata\\local\\continuum\\miniconda3\\lib\\site-packages (from python-dateutil>=2.7.3->pandas>=0.20->forgi) (1.12.0)\n",
            "Building wheels for collected packages: forgi\n",
            "  Building wheel for forgi (setup.py): started\n",
            "  Building wheel for forgi (setup.py): finished with status 'done'\n",
            "  Stored in directory: C:\\Users\\animeshs\\AppData\\Local\\pip\\Cache\\wheels\\5b\\c9\\6a\\2b4247ae9c1b200f64e91a600952bf662bac5b9dcc7d19f6c1\n",
            "Successfully built forgi\n",
            "Installing collected packages: appdirs, logging-exceptions, forgi\n",
            "Successfully installed appdirs-1.4.4 forgi-2.0.2 logging-exceptions-0.1.8\n"
          ],
          "name": "stdout"
        }
      ]
    },
    {
      "cell_type": "code",
      "metadata": {
        "id": "QNQI5ds6BTTI",
        "outputId": "ed164217-df43-4cbd-a919-8254dd01d201",
        "colab": {
          "base_uri": "https://localhost:8080/",
          "height": 34
        }
      },
      "source": [
        "#https://viennarna.github.io/forgi/graph_tutorial.html\n",
        "!pip install forgi\n",
        "import matplotlib.pyplot as plt\n",
        "import forgi.visual.mplotlib as fvm\n",
        "import forgi\n",
        "import forgi.graph.bulge_graph as fgb\n",
        "bg = fgb.BulgeGraph.from_dotbracket(dfTrain['structure'][1])\n",
        "#print(bg.to_bg_string())\n",
        "bg, = forgi.load_rna('(((((((((...((((((.........))))))........((((((.......))))))..)))))))))') #bg.pairing_partner(7) #71\n",
        "bg, = forgi.load_rna(dfTrain['structure'][1]) #bg.pairing_partner(7) #55\n",
        "#bg.to_pair_table()\n",
        "bg.pairing_partner(9)"
      ],
      "execution_count": null,
      "outputs": [
        {
          "output_type": "execute_result",
          "data": {
            "text/plain": [
              "53"
            ]
          },
          "metadata": {
            "tags": []
          },
          "execution_count": 5
        }
      ]
    },
    {
      "cell_type": "code",
      "metadata": {
        "id": "eQW5xZAyDmTn",
        "outputId": "57b66376-4deb-48f5-a077-be4ae60fdf51",
        "colab": {
          "base_uri": "https://localhost:8080/",
          "height": 34
        }
      },
      "source": [
        "biggest_stem = (-1, 'x')\n",
        "for s in bg.stem_iterator():\n",
        "    if bg.stem_length(s) > biggest_stem[0]:\n",
        "        biggest_stem = (bg.stem_length(s), s)\n",
        "print(biggest_stem)"
      ],
      "execution_count": null,
      "outputs": [
        {
          "output_type": "stream",
          "text": [
            "(13, 's0')\n"
          ],
          "name": "stdout"
        }
      ]
    },
    {
      "cell_type": "code",
      "metadata": {
        "id": "9cZQvrfOFuBM",
        "outputId": "f669838e-b54b-461a-cb8a-80363cb8bb5f",
        "colab": {
          "base_uri": "https://localhost:8080/",
          "height": 68
        }
      },
      "source": [
        "print(bg.get_flanking_sequence('h0')) #hairpin 0\n",
        "print(bg.get_flanking_sequence('m0')) #multiloop\n",
        "bg.get_flanking_sequence('i0', side=0)#inner loop lower strand"
      ],
      "execution_count": null,
      "outputs": [
        {
          "output_type": "stream",
          "text": [
            "NNNNNNNNNNNNNNNNNNNNNNNN\n",
            "NNNNNNNNNNNNNNNNNN\n"
          ],
          "name": "stdout"
        },
        {
          "output_type": "execute_result",
          "data": {
            "text/plain": [
              "'NNNNNNNNNNNNNNNNNNNNNNN'"
            ]
          },
          "metadata": {
            "tags": []
          },
          "execution_count": 48
        }
      ]
    },
    {
      "cell_type": "code",
      "metadata": {
        "id": "GkBc76DeGaRd",
        "outputId": "b237b687-65ff-443f-db78-60c45ee51d06",
        "colab": {
          "base_uri": "https://localhost:8080/",
          "height": 34
        }
      },
      "source": [
        "bg.get_bulge_dimensions('m0')"
      ],
      "execution_count": null,
      "outputs": [
        {
          "output_type": "execute_result",
          "data": {
            "text/plain": [
              "(2, 1000)"
            ]
          },
          "metadata": {
            "tags": []
          },
          "execution_count": 49
        }
      ]
    },
    {
      "cell_type": "code",
      "metadata": {
        "id": "FMNusppzGi0t",
        "outputId": "0f8d4e46-e42e-40cc-9e75-29228a636305",
        "colab": {
          "base_uri": "https://localhost:8080/",
          "height": 34
        }
      },
      "source": [
        "bg.get_sides('s0', 'i0')"
      ],
      "execution_count": null,
      "outputs": [
        {
          "output_type": "execute_result",
          "data": {
            "text/plain": [
              "(1, 0)"
            ]
          },
          "metadata": {
            "tags": []
          },
          "execution_count": 50
        }
      ]
    },
    {
      "cell_type": "code",
      "metadata": {
        "id": "_YKQ7JAVGsdd",
        "outputId": "851e22c5-5b6a-49a0-e440-336c9b73cdd7",
        "colab": {
          "base_uri": "https://localhost:8080/",
          "height": 34
        }
      },
      "source": [
        "import sys\n",
        "for iloop in bg.iloop_iterator():\n",
        "  for rn in bg.define_residue_num_iterator(iloop):\n",
        "    sys.stdout.write(str(rn) + \" \")"
      ],
      "execution_count": null,
      "outputs": [
        {
          "output_type": "stream",
          "text": [
            "43 "
          ],
          "name": "stdout"
        }
      ]
    },
    {
      "cell_type": "code",
      "metadata": {
        "id": "xyoshkKdG8GW",
        "outputId": "483829c1-e9c6-4b44-fbcc-f60f954d3c30",
        "colab": {
          "base_uri": "https://localhost:8080/",
          "height": 34
        }
      },
      "source": [
        "print(list(bg.stem_iterator()))"
      ],
      "execution_count": null,
      "outputs": [
        {
          "output_type": "stream",
          "text": [
            "['s0', 's1', 's2', 's3']\n"
          ],
          "name": "stdout"
        }
      ]
    },
    {
      "cell_type": "code",
      "metadata": {
        "id": "edeCIZ_9HII2",
        "outputId": "117ecb86-0941-4774-e2a6-fd95f26982f5",
        "colab": {
          "base_uri": "https://localhost:8080/",
          "height": 34
        }
      },
      "source": [
        "print(list(bg.iloop_iterator()))"
      ],
      "execution_count": null,
      "outputs": [
        {
          "output_type": "stream",
          "text": [
            "['i0']\n"
          ],
          "name": "stdout"
        }
      ]
    },
    {
      "cell_type": "code",
      "metadata": {
        "id": "tLKYhiyzHXgX",
        "outputId": "eaeef7e5-1fba-4e8f-e66b-4b6b1cc15a1b",
        "colab": {
          "base_uri": "https://localhost:8080/",
          "height": 34
        }
      },
      "source": [
        "bg.get_mst()"
      ],
      "execution_count": null,
      "outputs": [
        {
          "output_type": "execute_result",
          "data": {
            "text/plain": [
              "{'f0', 'h0', 'h1', 'h2', 'i0', 'm0', 'm1', 's0', 's1', 's2', 's3', 't0'}"
            ]
          },
          "metadata": {
            "tags": []
          },
          "execution_count": 55
        }
      ]
    },
    {
      "cell_type": "code",
      "metadata": {
        "id": "zXeymt3XHeef",
        "outputId": "6bae2556-41f2-4410-c9f5-9b4a4c7bf44b",
        "colab": {
          "base_uri": "https://localhost:8080/",
          "height": 34
        }
      },
      "source": [
        "bg.traverse_graph()"
      ],
      "execution_count": null,
      "outputs": [
        {
          "output_type": "execute_result",
          "data": {
            "text/plain": [
              "[('s0', 'i0', 's1'), ('s0', 'm0', 's2'), ('s2', 'm1', 's3')]"
            ]
          },
          "metadata": {
            "tags": []
          },
          "execution_count": 56
        }
      ]
    },
    {
      "cell_type": "code",
      "metadata": {
        "id": "LaUL6iQrIPLB",
        "outputId": "a4b6fc98-ca7c-44e4-c19c-5af4502f9fbf",
        "colab": {
          "base_uri": "https://localhost:8080/",
          "height": 34
        }
      },
      "source": [
        "bg.ss_distance('s0', 's1')"
      ],
      "execution_count": null,
      "outputs": [
        {
          "output_type": "execute_result",
          "data": {
            "text/plain": [
              "1"
            ]
          },
          "metadata": {
            "tags": []
          },
          "execution_count": 60
        }
      ]
    },
    {
      "cell_type": "code",
      "metadata": {
        "id": "qEaxN9U5Idnp",
        "outputId": "7ad09e08-6ce3-4ea2-b299-150101d384cf",
        "colab": {
          "base_uri": "https://localhost:8080/",
          "height": 34
        }
      },
      "source": [
        "bg0, = forgi.load_rna('(.(.(.(.).(.).).(.).))', dissolve_length_one_stems=False)\n",
        "print(bg0)#.junctions())"
      ],
      "execution_count": null,
      "outputs": [
        {
          "output_type": "stream",
          "text": [
            "<forgi.graph.bulge_graph.BulgeGraph object at 0x000001FF8519F070>\n"
          ],
          "name": "stdout"
        }
      ]
    },
    {
      "cell_type": "code",
      "metadata": {
        "id": "18JKo_CTIFpp",
        "outputId": "09c5c01b-e337-4f62-bd6c-af3e7f02fc97",
        "colab": {
          "base_uri": "https://localhost:8080/",
          "height": 34
        }
      },
      "source": [
        "import forgi\n",
        "import forgi.graph.bulge_graph as fgb\n",
        "fx =\"\"\"\n",
        "GAAUUGCGGGAAAGGGGUCAACAGCCGUUCAGUACCAAGUCUCAGGGGAAACUUUGAGAUGGCCUUGCAAAGGGUAUGGUAAUAAGCUGACGGACAUGGUCCUAACCACGCAGCCAAGUCCUAAGUCAACAGAUCUUCUGUUGAUAUGGAUGCAGUUC\n",
        "....((((((....((.......((((.((((.(((...(((((..........)))))...((.......))....)))......))))))))......))...)).))))......(((....((((((((...))))))))...)))......\n",
        "\"\"\"\n",
        "nuc_number = 80 # Nucleotide of interest\n",
        "rna = fgb.BulgeGraph.from_fasta_text(fx)[0]\n",
        "elems = set()\n",
        "for i in range(nuc_number-10, nuc_number+11):\n",
        "    elems.add(rna.get_elem(i))\n",
        "print(\", \".join(sorted(elems)))"
      ],
      "execution_count": null,
      "outputs": [
        {
          "output_type": "stream",
          "text": [
            "h1, i3, m2, s4, s5, s7\n"
          ],
          "name": "stdout"
        }
      ]
    },
    {
      "cell_type": "code",
      "metadata": {
        "id": "xwCareGRIA2Y",
        "outputId": "0ea142de-80dd-436e-94ab-f8054129c1ab",
        "colab": {
          "base_uri": "https://localhost:8080/",
          "height": 231
        }
      },
      "source": [
        "elems=set()\n",
        "for elem in rna.defines:\n",
        "    if rna.ss_distance(58, ref_elem)<=10:\n",
        "        elems.add(elem)\n",
        "print(\", \".join(sorted(elems)))"
      ],
      "execution_count": null,
      "outputs": [
        {
          "output_type": "error",
          "ename": "NameError",
          "evalue": "ignored",
          "traceback": [
            "\u001b[1;31m---------------------------------------------------------------------------\u001b[0m",
            "\u001b[1;31mNameError\u001b[0m                                 Traceback (most recent call last)",
            "\u001b[1;32m<ipython-input-59-b41b365159c2>\u001b[0m in \u001b[0;36m<module>\u001b[1;34m\u001b[0m\n\u001b[0;32m      1\u001b[0m \u001b[0melems\u001b[0m\u001b[1;33m=\u001b[0m\u001b[0mset\u001b[0m\u001b[1;33m(\u001b[0m\u001b[1;33m)\u001b[0m\u001b[1;33m\u001b[0m\u001b[1;33m\u001b[0m\u001b[0m\n\u001b[0;32m      2\u001b[0m \u001b[1;32mfor\u001b[0m \u001b[0melem\u001b[0m \u001b[1;32min\u001b[0m \u001b[0mrna\u001b[0m\u001b[1;33m.\u001b[0m\u001b[0mdefines\u001b[0m\u001b[1;33m:\u001b[0m\u001b[1;33m\u001b[0m\u001b[1;33m\u001b[0m\u001b[0m\n\u001b[1;32m----> 3\u001b[1;33m     \u001b[1;32mif\u001b[0m \u001b[0mrna\u001b[0m\u001b[1;33m.\u001b[0m\u001b[0mss_distance\u001b[0m\u001b[1;33m(\u001b[0m\u001b[1;36m58\u001b[0m\u001b[1;33m,\u001b[0m \u001b[0mref_elem\u001b[0m\u001b[1;33m)\u001b[0m\u001b[1;33m<=\u001b[0m\u001b[1;36m10\u001b[0m\u001b[1;33m:\u001b[0m\u001b[1;33m\u001b[0m\u001b[1;33m\u001b[0m\u001b[0m\n\u001b[0m\u001b[0;32m      4\u001b[0m         \u001b[0melems\u001b[0m\u001b[1;33m.\u001b[0m\u001b[0madd\u001b[0m\u001b[1;33m(\u001b[0m\u001b[0melem\u001b[0m\u001b[1;33m)\u001b[0m\u001b[1;33m\u001b[0m\u001b[1;33m\u001b[0m\u001b[0m\n\u001b[0;32m      5\u001b[0m \u001b[0mprint\u001b[0m\u001b[1;33m(\u001b[0m\u001b[1;34m\", \"\u001b[0m\u001b[1;33m.\u001b[0m\u001b[0mjoin\u001b[0m\u001b[1;33m(\u001b[0m\u001b[0msorted\u001b[0m\u001b[1;33m(\u001b[0m\u001b[0melems\u001b[0m\u001b[1;33m)\u001b[0m\u001b[1;33m)\u001b[0m\u001b[1;33m)\u001b[0m\u001b[1;33m\u001b[0m\u001b[1;33m\u001b[0m\u001b[0m\n",
            "\u001b[1;31mNameError\u001b[0m: name 'ref_elem' is not defined"
          ]
        }
      ]
    },
    {
      "cell_type": "code",
      "metadata": {
        "id": "pApMOcE8l-F3"
      },
      "source": [
        "import tensorflow as tf\n",
        "import datetime, os"
      ],
      "execution_count": null,
      "outputs": []
    },
    {
      "cell_type": "code",
      "metadata": {
        "id": "RumbfFaOmM3P",
        "outputId": "5d2f2dae-6a12-43f8-82c5-718de9fc4003",
        "colab": {
          "base_uri": "https://localhost:8080/",
          "height": 241
        }
      },
      "source": [
        "fashion_mnist = tf.keras.datasets.fashion_mnist\n",
        "(x_train, y_train),(x_test, y_test) = fashion_mnist.load_data()\n",
        "x_train, x_test = x_train / 255.0, x_test / 255.0\n",
        "def create_model():\n",
        "  return tf.keras.models.Sequential([\n",
        "    tf.keras.layers.Flatten(input_shape=(28, 28)),\n",
        "    tf.keras.layers.Dense(512, activation='relu'),\n",
        "    tf.keras.layers.Dropout(0.2),\n",
        "    tf.keras.layers.Dense(10, activation='softmax')\n",
        "  ])\n",
        "def train_model():\n",
        "  model = create_model()\n",
        "  model.compile(optimizer='adam',\n",
        "                loss='sparse_categorical_crossentropy',\n",
        "                metrics=['accuracy'])\n",
        "  logdir = os.path.join(\"C:/Users/animeshs/GD/tensorboardlogdir/\",datetime.datetime.now().strftime(\"%Y%m%d-%H%M%S\"))\n",
        "  tensorboard_callback = tf.keras.callbacks.TensorBoard(logdir, histogram_freq=1)\n",
        "  model.fit(x=x_train, \n",
        "            y=y_train, \n",
        "            epochs=5, \n",
        "            validation_data=(x_test, y_test), \n",
        "            callbacks=[tensorboard_callback])\n",
        "train_model()"
      ],
      "execution_count": null,
      "outputs": [
        {
          "output_type": "stream",
          "text": [
            "Epoch 1/5\n",
            "   2/1875 [..............................] - ETA: 5:24 - loss: 2.2377 - accuracy: 0.1875WARNING:tensorflow:Callbacks method `on_train_batch_begin` is slow compared to the batch time (batch time: 0.0020s vs `on_train_batch_begin` time: 0.0030s). Check your callbacks.\n",
            "WARNING:tensorflow:Callbacks method `on_train_batch_end` is slow compared to the batch time (batch time: 0.0020s vs `on_train_batch_end` time: 0.3417s). Check your callbacks.\n",
            "1875/1875 [==============================] - 4s 2ms/step - loss: 0.4940 - accuracy: 0.8234 - val_loss: 0.4382 - val_accuracy: 0.8416\n",
            "Epoch 2/5\n",
            "1875/1875 [==============================] - 4s 2ms/step - loss: 0.3827 - accuracy: 0.8597 - val_loss: 0.3972 - val_accuracy: 0.8551\n",
            "Epoch 3/5\n",
            "1875/1875 [==============================] - 4s 2ms/step - loss: 0.3491 - accuracy: 0.8707 - val_loss: 0.3592 - val_accuracy: 0.8721\n",
            "Epoch 4/5\n",
            "1875/1875 [==============================] - 4s 2ms/step - loss: 0.3292 - accuracy: 0.8774 - val_loss: 0.3484 - val_accuracy: 0.8735\n",
            "Epoch 5/5\n",
            "1875/1875 [==============================] - 4s 2ms/step - loss: 0.3133 - accuracy: 0.8832 - val_loss: 0.3510 - val_accuracy: 0.8727\n"
          ],
          "name": "stdout"
        }
      ]
    },
    {
      "cell_type": "code",
      "metadata": {
        "id": "sWBguyITnR2Q",
        "outputId": "12f2a2d7-6c43-43f7-b607-3675c90efa66",
        "colab": {
          "base_uri": "https://localhost:8080/",
          "height": 51
        }
      },
      "source": [
        "#https://jeffpollock9.github.io/sample_distributions/\n",
        "import tensorflow as tf\n",
        "import tensorflow_probability as tfp\n",
        "import time as tm\n",
        "import matplotlib.pyplot as plt\n",
        "import numpy as np\n",
        "\n",
        "plt.rcParams[\"figure.figsize\"] = (12, 8)\n",
        "\n",
        "tfd = tfp.distributions\n",
        "tfl = tf.linalg\n",
        "\n",
        "N = 10_000\n",
        "P = 20\n",
        "\n",
        "intercept_true = tfd.Normal(loc=0.666, scale=1.0).sample()\n",
        "coefficients_true = tfd.Normal(loc=0.0, scale=3.14).sample(P)\n",
        "\n",
        "x = tfd.Normal(loc=0.0, scale=1.0).sample([N, P])\n",
        "y = tfd.Bernoulli(intercept_true + tfl.matvec(x, coefficients_true)).sample()\n",
        "\n",
        "Root = tfd.JointDistributionCoroutine.Root\n",
        "\n",
        "print(f\"tf: {tf.__version__}\")\n",
        "print(f\"tfp: {tfp.__version__}\")"
      ],
      "execution_count": null,
      "outputs": [
        {
          "output_type": "stream",
          "text": [
            "tf: 2.3.0\n",
            "tfp: 0.11.0\n"
          ],
          "name": "stdout"
        }
      ]
    },
    {
      "cell_type": "code",
      "metadata": {
        "id": "Dp3N3DoMnXDF"
      },
      "source": [
        "def model():\n",
        "    intercept = yield Root(tfd.Normal(loc=0.0, scale=10.0))\n",
        "    coefficients = yield Root(\n",
        "        tfd.MultivariateNormalLinearOperator(scale=tfl.LinearOperatorIdentity(P))\n",
        "    )\n",
        "    y = yield tfd.Independent(\n",
        "        tfd.Bernoulli(intercept[..., tf.newaxis] + tfl.matvec(x, coefficients)),\n",
        "        reinterpreted_batch_ndims=1,\n",
        "    )\n",
        "\n",
        "\n",
        "joint_dist = tfd.JointDistributionCoroutine(model)"
      ],
      "execution_count": null,
      "outputs": []
    },
    {
      "cell_type": "code",
      "metadata": {
        "id": "KMlxsFNgG6IO",
        "outputId": "064e4a06-4037-4709-9ab1-374d036f4e6d",
        "colab": {
          "base_uri": "https://localhost:8080/",
          "height": 497
        }
      },
      "source": [
        "def plot_ppc(y, y_rep):\n",
        "    sampled_counts = [np.bincount(sample, minlength=2) for sample in y_rep]\n",
        "    observed_counts = np.bincount(y)\n",
        "\n",
        "    sampled_mean = np.mean(sampled_counts, axis=0)\n",
        "    sampled_quantiles = np.quantile(sampled_counts, q=[0.025, 0.975], axis=0)\n",
        "\n",
        "    low_error = sampled_mean - sampled_quantiles[0]\n",
        "    high_error = sampled_quantiles[1] - sampled_mean\n",
        "\n",
        "    plt.bar(\n",
        "        x=[0, 1], height=observed_counts, label=\"observed data\", color=\"blue\",\n",
        "    )\n",
        "\n",
        "    plt.errorbar(\n",
        "        x=[0, 1],\n",
        "        y=sampled_mean,\n",
        "        yerr=[low_error, high_error],\n",
        "        fmt=\"o\",\n",
        "        label=\"simulated data\",\n",
        "        color=\"red\",\n",
        "        capsize=5,\n",
        "    )\n",
        "\n",
        "    plt.legend(loc=\"upper left\")\n",
        "    plt.xlabel(\"y\")\n",
        "    plt.ylabel(\"frequency\")\n",
        "\n",
        "\n",
        "prior_intercept, prior_cofficients, prior_y = joint_dist.sample(1_000)\n",
        "\n",
        "plot_ppc(y, prior_y)"
      ],
      "execution_count": null,
      "outputs": [
        {
          "output_type": "display_data",
          "data": {
            "text/plain": [
              "<Figure size 864x576 with 1 Axes>"
            ],
            "image/png": "[encoded data removed]"
          },
          "metadata": {
            "tags": []
          }
        }
      ]
    },
    {
      "cell_type": "code",
      "metadata": {
        "id": "_2mOJu_1nhOB",
        "outputId": "df3702f0-49fe-43e0-8462-b39c12476cac",
        "colab": {
          "base_uri": "https://localhost:8080/",
          "height": 34
        }
      },
      "source": [
        "def target_log_prob_fn(*state):\n",
        "    return joint_dist.log_prob(list(state) + [y])\n",
        "\n",
        "\n",
        "def trace_fn(states, pkr):\n",
        "    return (\n",
        "        pkr.inner_results.target_log_prob,\n",
        "        pkr.inner_results.leapfrogs_taken,\n",
        "        pkr.inner_results.has_divergence,\n",
        "        pkr.inner_results.energy,\n",
        "        pkr.inner_results.log_accept_ratio,\n",
        "    )\n",
        "\n",
        "\n",
        "def step_size_setter_fn(pkr, new_step_size):\n",
        "    return pkr._replace(step_size=new_step_size)\n",
        "\n",
        "\n",
        "def step_size_getter_fn(pkr):\n",
        "    return pkr.step_size\n",
        "\n",
        "\n",
        "def log_accept_prob_getter_fn(pkr):\n",
        "    return pkr.log_accept_ratio\n",
        "\n",
        "\n",
        "num_chains = 6\n",
        "initial_state = list(joint_dist.sample(num_chains)[:-1])\n",
        "initial_step_size = [0.1] * len(initial_state)\n",
        "\n",
        "nuts = tfp.mcmc.NoUTurnSampler(target_log_prob_fn, step_size=initial_step_size)\n",
        "\n",
        "adaptive_nuts = tfp.mcmc.DualAveragingStepSizeAdaptation(\n",
        "    inner_kernel=nuts,\n",
        "    num_adaptation_steps=800,\n",
        "    target_accept_prob=0.8,\n",
        "    step_size_setter_fn=step_size_setter_fn,\n",
        "    step_size_getter_fn=step_size_getter_fn,\n",
        "    log_accept_prob_getter_fn=log_accept_prob_getter_fn,\n",
        ")\n",
        "\n",
        "\n",
        "@tf.function(autograph=False, experimental_compile=True)\n",
        "def run_mcmc():\n",
        "    return tfp.mcmc.sample_chain(\n",
        "        num_results=1_000,\n",
        "        current_state=initial_state,\n",
        "        num_burnin_steps=1_000,\n",
        "        kernel=adaptive_nuts,\n",
        "        trace_fn=trace_fn,\n",
        "    )\n",
        "\n",
        "\n",
        "s = tm.time()\n",
        "mcmc_samples, mcmc_stats = run_mcmc()\n",
        "e = tm.time()\n",
        "\n",
        "print(f\"run_mcmc finished in {e - s:.2f} seconds\")"
      ],
      "execution_count": null,
      "outputs": [
        {
          "output_type": "stream",
          "text": [
            "run_mcmc finished in 88.09 seconds\n"
          ],
          "name": "stdout"
        }
      ]
    },
    {
      "cell_type": "code",
      "metadata": {
        "id": "EDcpNTDPnp05",
        "outputId": "aa957c0d-d64f-4c41-909d-89dd370d558a",
        "colab": {
          "base_uri": "https://localhost:8080/",
          "height": 51
        }
      },
      "source": [
        "posterior_distributions, posterior_samples = joint_dist.sample_distributions(value=mcmc_samples + [None])\n",
        "print(f\"intercept: {np.allclose(posterior_samples[0], mcmc_samples[0])}\")\n",
        "print(f\"coefficients: {np.allclose(posterior_samples[1], mcmc_samples[1])}\")"
      ],
      "execution_count": null,
      "outputs": [
        {
          "output_type": "stream",
          "text": [
            "intercept: True\n",
            "coefficients: True\n"
          ],
          "name": "stdout"
        }
      ]
    },
    {
      "cell_type": "code",
      "metadata": {
        "id": "VZWRiwl_nwMk",
        "outputId": "69b0e0e7-766e-40d0-a398-b803e9b14a57",
        "colab": {
          "base_uri": "https://localhost:8080/",
          "height": 497
        }
      },
      "source": [
        "posterior_y = tf.reshape(posterior_samples[-1], [-1, N])\n",
        "plot_ppc(y, posterior_y)"
      ],
      "execution_count": null,
      "outputs": [
        {
          "output_type": "display_data",
          "data": {
            "text/plain": [
              "<Figure size 864x576 with 1 Axes>"
            ],
            "image/png": "[encoded data removed]"
          },
          "metadata": {
            "tags": []
          }
        }
      ]
    },
    {
      "cell_type": "code",
      "metadata": {
        "id": "lezwIzYFn5-B",
        "outputId": "915be797-ff56-4c0d-8da9-a75c1d9defcb",
        "colab": {
          "base_uri": "https://localhost:8080/",
          "height": 34
        }
      },
      "source": [
        "log_lik = posterior_distributions[-1].distribution.log_prob(y)\n",
        "print(log_lik.shape) # (draws, chains, num_observations)"
      ],
      "execution_count": null,
      "outputs": [
        {
          "output_type": "stream",
          "text": [
            "(1000, 6, 10000)\n"
          ],
          "name": "stdout"
        }
      ]
    },
    {
      "cell_type": "code",
      "metadata": {
        "id": "XZGqRH-Suh7c",
        "outputId": "b8bd488d-85b4-4f2e-c8ab-8f5494d79680",
        "colab": {
          "base_uri": "https://localhost:8080/",
          "height": 462
        }
      },
      "source": [
        "dfTrain.head()"
      ],
      "execution_count": null,
      "outputs": [
        {
          "output_type": "execute_result",
          "data": {
            "text/plain": [
              "   index            id                                           sequence  \\\n",
              "0      0  id_001f94081  GGAAAAGCUCUAAUAACAGGAGACUAGGACUACGUAUUUCUAGGUA...   \n",
              "1      1  id_0049f53ba  GGAAAAAGCGCGCGCGGUUAGCGCGCGCUUUUGCGCGCGCUGUACC...   \n",
              "2      2  id_006f36f57  GGAAAGUGCUCAGAUAAGCUAAGCUCGAAUAGCAAUCGAAUAGAAU...   \n",
              "3      3  id_0082d463b  GGAAAAGCGCGCGCGCGCGCGCGAAAAAGCGCGCGCGCGCGCGCGC...   \n",
              "4      4  id_0087940f4  GGAAAAUAUAUAAUAUAUUAUAUAAAUAUAUUAUAGAAGUAUAAUA...   \n",
              "\n",
              "                                           structure  \\\n",
              "0  .....((((((.......)))).)).((.....((..((((((......   \n",
              "1  .....(((((((((((((((((((((((....)))))))))).)))...   \n",
              "2  .....((((.((.....((((.(((.....)))..((((......)...   \n",
              "3  ......((((((((((((((((......))))))))))))))))((...   \n",
              "4  .....(((((((.((((((((((((.(((((((((....)))))))...   \n",
              "\n",
              "                                 predicted_loop_type  signal_to_noise  \\\n",
              "0  EEEEESSSSSSHHHHHHHSSSSBSSXSSIIIIISSIISSSSSSHHH...            6.894   \n",
              "1  EEEEESSSSSSSSSSSSSSSSSSSSSSSHHHHSSSSSSSSSSBSSS...            0.193   \n",
              "2  EEEEESSSSISSIIIIISSSSMSSSHHHHHSSSMMSSSSHHHHHHS...            8.800   \n",
              "3  EEEEEESSSSSSSSSSSSSSSSHHHHHHSSSSSSSSSSSSSSSSSS...            0.104   \n",
              "4  EEEEESSSSSSSBSSSSSSSSSSSSBSSSSSSSSSHHHHSSSSSSS...            0.423   \n",
              "\n",
              "   SN_filter  seq_length  seq_scored  \\\n",
              "0          1         107          68   \n",
              "1          0         107          68   \n",
              "2          1         107          68   \n",
              "3          0         107          68   \n",
              "4          0         107          68   \n",
              "\n",
              "                                    reactivity_error  \\\n",
              "0  [0.1359, 0.20700000000000002, 0.1633, 0.1452, ...   \n",
              "1  [2.8272, 2.8272, 2.8272, 4.7343, 2.5676, 2.567...   \n",
              "2  [0.0931, 0.13290000000000002, 0.11280000000000...   \n",
              "3  [3.5229, 6.0748, 3.0374, 3.0374, 3.0374, 3.037...   \n",
              "4  [1.665, 2.1728, 2.0041, 1.2405, 0.620200000000...   \n",
              "\n",
              "                                   deg_error_Mg_pH10  \\\n",
              "0  [0.26130000000000003, 0.38420000000000004, 0.1...   \n",
              "1  [73705.3985, 73705.3985, 73705.3985, 73705.398...   \n",
              "2  [0.1365, 0.2237, 0.1812, 0.1333, 0.1148, 0.160...   \n",
              "3  [73705.3985, 73705.3985, 73705.3985, 73705.398...   \n",
              "4  [4.2139, 3.9637000000000002, 3.2467, 2.4716, 1...   \n",
              "\n",
              "                                      deg_error_pH10  \\\n",
              "0  [0.2631, 0.28600000000000003, 0.0964, 0.1574, ...   \n",
              "1  [10.1986, 9.2418, 5.0933, 5.0933, 5.0933, 5.09...   \n",
              "2  [0.17020000000000002, 0.178, 0.111, 0.091, 0.0...   \n",
              "3  [11.8007, 12.7566, 5.7733, 5.7733, 5.7733, 5.7...   \n",
              "4  [3.0942, 3.015, 2.1212, 2.0552, 0.881500000000...   \n",
              "\n",
              "                                    deg_error_Mg_50C  \\\n",
              "0  [0.1501, 0.275, 0.0947, 0.18660000000000002, 0...   \n",
              "1  [16.6174, 13.868, 8.1968, 8.1968, 8.1968, 8.19...   \n",
              "2  [0.1033, 0.1464, 0.1126, 0.09620000000000001, ...   \n",
              "3  [121286.7181, 121286.7182, 121286.7181, 121286...   \n",
              "4  [2.6717, 2.4818, 1.9919, 2.5484999999999998, 1...   \n",
              "\n",
              "                                       deg_error_50C  \\\n",
              "0  [0.2167, 0.34750000000000003, 0.188, 0.2124, 0...   \n",
              "1  [15.4857, 7.9596, 13.3957, 5.8777, 5.8777, 5.8...   \n",
              "2  [0.14980000000000002, 0.1761, 0.1517, 0.116700...   \n",
              "3  [15.3995, 8.1124, 7.7824, 7.7824, 7.7824, 7.78...   \n",
              "4  [1.3285, 3.6173, 1.3057, 1.3021, 1.1507, 1.150...   \n",
              "\n",
              "                                          reactivity  \\\n",
              "0  [0.3297, 1.5693000000000001, 1.1227, 0.8686, 0...   \n",
              "1  [0.0, 0.0, 0.0, 2.2965, 0.0, 0.0, 0.0, 0.0, 0....   \n",
              "2  [0.44820000000000004, 1.4822, 1.1819, 0.743400...   \n",
              "3  [0.0, 2.2399, 0.0, 0.0, 0.0, 0.0, 0.0, 0.0, 0....   \n",
              "4  [0.8267, 2.6577, 2.8481, 0.40090000000000003, ...   \n",
              "\n",
              "                                         deg_Mg_pH10  \\\n",
              "0  [0.7556, 2.983, 0.2526, 1.3789, 0.637600000000...   \n",
              "1  [0.0, 0.0, 0.0, 0.0, 0.0, 0.0, 0.0, 0.0, 0.0, ...   \n",
              "2  [0.2504, 1.4021, 0.9804, 0.49670000000000003, ...   \n",
              "3  [0.0, -0.5083, 0.0, 0.0, 0.0, 0.0, 0.0, 0.0, 0...   \n",
              "4  [2.1058, 3.138, 2.5437000000000003, 1.0932, 0....   \n",
              "\n",
              "                                            deg_pH10  \\\n",
              "0  [2.3375, 3.5060000000000002, 0.3008, 1.0108, 0...   \n",
              "1  [4.947, 4.4523, 0.0, 0.0, 0.0, 0.0, 0.0, 0.0, ...   \n",
              "2  [2.243, 2.9361, 1.0553, 0.721, 0.6396000000000...   \n",
              "3  [3.4248, 6.8128, 0.0, 0.0, 0.0, 0.0, 0.0, 0.0,...   \n",
              "4  [4.7366, 4.6243, 1.2068, 1.1538, 0.0, 0.0, 0.7...   \n",
              "\n",
              "                                          deg_Mg_50C  \\\n",
              "0  [0.35810000000000003, 2.9683, 0.2589, 1.4552, ...   \n",
              "1  [4.8511, 4.0426, 0.0, 0.0, 0.0, 0.0, 0.0, 0.0,...   \n",
              "2  [0.5163, 1.6823000000000001, 1.0426, 0.7902, 0...   \n",
              "3  [0.0, -0.8365, 0.0, 0.0, 0.0, 0.0, 0.0, 0.0, 0...   \n",
              "4  [2.2052, 1.7947000000000002, 0.7457, 3.1233, 0...   \n",
              "\n",
              "                                             deg_50C  \n",
              "0  [0.6382, 3.4773, 0.9988, 1.3228, 0.78770000000...  \n",
              "1  [7.6692, 0.0, 10.9561, 0.0, 0.0, 0.0, 0.0, 0.0...  \n",
              "2  [0.9501000000000001, 1.7974999999999999, 1.499...  \n",
              "3  [7.6692, -1.3223, 0.0, 0.0, 0.0, 0.0, 0.0, 0.0...  \n",
              "4  [0.0, 5.1198, -0.3551, -0.3518, 0.0, 0.0, 0.0,...  "
            ],
            "text/html": [
              "<div>\n",
              "<style scoped>\n",
              "    .dataframe tbody tr th:only-of-type {\n",
              "        vertical-align: middle;\n",
              "    }\n",
              "\n",
              "    .dataframe tbody tr th {\n",
              "        vertical-align: top;\n",
              "    }\n",
              "\n",
              "    .dataframe thead th {\n",
              "        text-align: right;\n",
              "    }\n",
              "</style>\n",
              "<table border=\"1\" class=\"dataframe\">\n",
              "  <thead>\n",
              "    <tr style=\"text-align: right;\">\n",
              "      <th></th>\n",
              "      <th>index</th>\n",
              "      <th>id</th>\n",
              "      <th>sequence</th>\n",
              "      <th>structure</th>\n",
              "      <th>predicted_loop_type</th>\n",
              "      <th>signal_to_noise</th>\n",
              "      <th>SN_filter</th>\n",
              "      <th>seq_length</th>\n",
              "      <th>seq_scored</th>\n",
              "      <th>reactivity_error</th>\n",
              "      <th>deg_error_Mg_pH10</th>\n",
              "      <th>deg_error_pH10</th>\n",
              "      <th>deg_error_Mg_50C</th>\n",
              "      <th>deg_error_50C</th>\n",
              "      <th>reactivity</th>\n",
              "      <th>deg_Mg_pH10</th>\n",
              "      <th>deg_pH10</th>\n",
              "      <th>deg_Mg_50C</th>\n",
              "      <th>deg_50C</th>\n",
              "    </tr>\n",
              "  </thead>\n",
              "  <tbody>\n",
              "    <tr>\n",
              "      <th>0</th>\n",
              "      <td>0</td>\n",
              "      <td>id_001f94081</td>\n",
              "      <td>GGAAAAGCUCUAAUAACAGGAGACUAGGACUACGUAUUUCUAGGUA...</td>\n",
              "      <td>.....((((((.......)))).)).((.....((..((((((......</td>\n",
              "      <td>EEEEESSSSSSHHHHHHHSSSSBSSXSSIIIIISSIISSSSSSHHH...</td>\n",
              "      <td>6.894</td>\n",
              "      <td>1</td>\n",
              "      <td>107</td>\n",
              "      <td>68</td>\n",
              "      <td>[0.1359, 0.20700000000000002, 0.1633, 0.1452, ...</td>\n",
              "      <td>[0.26130000000000003, 0.38420000000000004, 0.1...</td>\n",
              "      <td>[0.2631, 0.28600000000000003, 0.0964, 0.1574, ...</td>\n",
              "      <td>[0.1501, 0.275, 0.0947, 0.18660000000000002, 0...</td>\n",
              "      <td>[0.2167, 0.34750000000000003, 0.188, 0.2124, 0...</td>\n",
              "      <td>[0.3297, 1.5693000000000001, 1.1227, 0.8686, 0...</td>\n",
              "      <td>[0.7556, 2.983, 0.2526, 1.3789, 0.637600000000...</td>\n",
              "      <td>[2.3375, 3.5060000000000002, 0.3008, 1.0108, 0...</td>\n",
              "      <td>[0.35810000000000003, 2.9683, 0.2589, 1.4552, ...</td>\n",
              "      <td>[0.6382, 3.4773, 0.9988, 1.3228, 0.78770000000...</td>\n",
              "    </tr>\n",
              "    <tr>\n",
              "      <th>1</th>\n",
              "      <td>1</td>\n",
              "      <td>id_0049f53ba</td>\n",
              "      <td>GGAAAAAGCGCGCGCGGUUAGCGCGCGCUUUUGCGCGCGCUGUACC...</td>\n",
              "      <td>.....(((((((((((((((((((((((....)))))))))).)))...</td>\n",
              "      <td>EEEEESSSSSSSSSSSSSSSSSSSSSSSHHHHSSSSSSSSSSBSSS...</td>\n",
              "      <td>0.193</td>\n",
              "      <td>0</td>\n",
              "      <td>107</td>\n",
              "      <td>68</td>\n",
              "      <td>[2.8272, 2.8272, 2.8272, 4.7343, 2.5676, 2.567...</td>\n",
              "      <td>[73705.3985, 73705.3985, 73705.3985, 73705.398...</td>\n",
              "      <td>[10.1986, 9.2418, 5.0933, 5.0933, 5.0933, 5.09...</td>\n",
              "      <td>[16.6174, 13.868, 8.1968, 8.1968, 8.1968, 8.19...</td>\n",
              "      <td>[15.4857, 7.9596, 13.3957, 5.8777, 5.8777, 5.8...</td>\n",
              "      <td>[0.0, 0.0, 0.0, 2.2965, 0.0, 0.0, 0.0, 0.0, 0....</td>\n",
              "      <td>[0.0, 0.0, 0.0, 0.0, 0.0, 0.0, 0.0, 0.0, 0.0, ...</td>\n",
              "      <td>[4.947, 4.4523, 0.0, 0.0, 0.0, 0.0, 0.0, 0.0, ...</td>\n",
              "      <td>[4.8511, 4.0426, 0.0, 0.0, 0.0, 0.0, 0.0, 0.0,...</td>\n",
              "      <td>[7.6692, 0.0, 10.9561, 0.0, 0.0, 0.0, 0.0, 0.0...</td>\n",
              "    </tr>\n",
              "    <tr>\n",
              "      <th>2</th>\n",
              "      <td>2</td>\n",
              "      <td>id_006f36f57</td>\n",
              "      <td>GGAAAGUGCUCAGAUAAGCUAAGCUCGAAUAGCAAUCGAAUAGAAU...</td>\n",
              "      <td>.....((((.((.....((((.(((.....)))..((((......)...</td>\n",
              "      <td>EEEEESSSSISSIIIIISSSSMSSSHHHHHSSSMMSSSSHHHHHHS...</td>\n",
              "      <td>8.800</td>\n",
              "      <td>1</td>\n",
              "      <td>107</td>\n",
              "      <td>68</td>\n",
              "      <td>[0.0931, 0.13290000000000002, 0.11280000000000...</td>\n",
              "      <td>[0.1365, 0.2237, 0.1812, 0.1333, 0.1148, 0.160...</td>\n",
              "      <td>[0.17020000000000002, 0.178, 0.111, 0.091, 0.0...</td>\n",
              "      <td>[0.1033, 0.1464, 0.1126, 0.09620000000000001, ...</td>\n",
              "      <td>[0.14980000000000002, 0.1761, 0.1517, 0.116700...</td>\n",
              "      <td>[0.44820000000000004, 1.4822, 1.1819, 0.743400...</td>\n",
              "      <td>[0.2504, 1.4021, 0.9804, 0.49670000000000003, ...</td>\n",
              "      <td>[2.243, 2.9361, 1.0553, 0.721, 0.6396000000000...</td>\n",
              "      <td>[0.5163, 1.6823000000000001, 1.0426, 0.7902, 0...</td>\n",
              "      <td>[0.9501000000000001, 1.7974999999999999, 1.499...</td>\n",
              "    </tr>\n",
              "    <tr>\n",
              "      <th>3</th>\n",
              "      <td>3</td>\n",
              "      <td>id_0082d463b</td>\n",
              "      <td>GGAAAAGCGCGCGCGCGCGCGCGAAAAAGCGCGCGCGCGCGCGCGC...</td>\n",
              "      <td>......((((((((((((((((......))))))))))))))))((...</td>\n",
              "      <td>EEEEEESSSSSSSSSSSSSSSSHHHHHHSSSSSSSSSSSSSSSSSS...</td>\n",
              "      <td>0.104</td>\n",
              "      <td>0</td>\n",
              "      <td>107</td>\n",
              "      <td>68</td>\n",
              "      <td>[3.5229, 6.0748, 3.0374, 3.0374, 3.0374, 3.037...</td>\n",
              "      <td>[73705.3985, 73705.3985, 73705.3985, 73705.398...</td>\n",
              "      <td>[11.8007, 12.7566, 5.7733, 5.7733, 5.7733, 5.7...</td>\n",
              "      <td>[121286.7181, 121286.7182, 121286.7181, 121286...</td>\n",
              "      <td>[15.3995, 8.1124, 7.7824, 7.7824, 7.7824, 7.78...</td>\n",
              "      <td>[0.0, 2.2399, 0.0, 0.0, 0.0, 0.0, 0.0, 0.0, 0....</td>\n",
              "      <td>[0.0, -0.5083, 0.0, 0.0, 0.0, 0.0, 0.0, 0.0, 0...</td>\n",
              "      <td>[3.4248, 6.8128, 0.0, 0.0, 0.0, 0.0, 0.0, 0.0,...</td>\n",
              "      <td>[0.0, -0.8365, 0.0, 0.0, 0.0, 0.0, 0.0, 0.0, 0...</td>\n",
              "      <td>[7.6692, -1.3223, 0.0, 0.0, 0.0, 0.0, 0.0, 0.0...</td>\n",
              "    </tr>\n",
              "    <tr>\n",
              "      <th>4</th>\n",
              "      <td>4</td>\n",
              "      <td>id_0087940f4</td>\n",
              "      <td>GGAAAAUAUAUAAUAUAUUAUAUAAAUAUAUUAUAGAAGUAUAAUA...</td>\n",
              "      <td>.....(((((((.((((((((((((.(((((((((....)))))))...</td>\n",
              "      <td>EEEEESSSSSSSBSSSSSSSSSSSSBSSSSSSSSSHHHHSSSSSSS...</td>\n",
              "      <td>0.423</td>\n",
              "      <td>0</td>\n",
              "      <td>107</td>\n",
              "      <td>68</td>\n",
              "      <td>[1.665, 2.1728, 2.0041, 1.2405, 0.620200000000...</td>\n",
              "      <td>[4.2139, 3.9637000000000002, 3.2467, 2.4716, 1...</td>\n",
              "      <td>[3.0942, 3.015, 2.1212, 2.0552, 0.881500000000...</td>\n",
              "      <td>[2.6717, 2.4818, 1.9919, 2.5484999999999998, 1...</td>\n",
              "      <td>[1.3285, 3.6173, 1.3057, 1.3021, 1.1507, 1.150...</td>\n",
              "      <td>[0.8267, 2.6577, 2.8481, 0.40090000000000003, ...</td>\n",
              "      <td>[2.1058, 3.138, 2.5437000000000003, 1.0932, 0....</td>\n",
              "      <td>[4.7366, 4.6243, 1.2068, 1.1538, 0.0, 0.0, 0.7...</td>\n",
              "      <td>[2.2052, 1.7947000000000002, 0.7457, 3.1233, 0...</td>\n",
              "      <td>[0.0, 5.1198, -0.3551, -0.3518, 0.0, 0.0, 0.0,...</td>\n",
              "    </tr>\n",
              "  </tbody>\n",
              "</table>\n",
              "</div>"
            ]
          },
          "metadata": {
            "tags": []
          },
          "execution_count": 80
        }
      ]
    },
    {
      "cell_type": "code",
      "metadata": {
        "id": "ocPop8yVyf47"
      },
      "source": [
        "#https://github.com/ludvb/xfuse code\n",
        "#https://doi.org/10.1126/science.aaf2403 data\n",
        "# Image data\n",
        "curl -Lo section1.jpg https://www.spatialresearch.org/wp-content/uploads/2016/07/HE_layer1_BC.jpg\n",
        "curl -Lo section2.jpg https://www.spatialresearch.org/wp-content/uploads/2016/07/HE_layer2_BC.jpg\n",
        "curl -Lo section3.jpg https://www.spatialresearch.org/wp-content/uploads/2016/07/HE_layer3_BC.jpg\n",
        "curl -Lo section4.jpg https://www.spatialresearch.org/wp-content/uploads/2016/07/HE_layer4_BC.jpg\n",
        "\n",
        "# Gene expression count data\n",
        "curl -Lo section1.tsv https://www.spatialresearch.org/wp-content/uploads/2016/07/Layer1_BC_count_matrix-1.tsv\n",
        "curl -Lo section2.tsv https://www.spatialresearch.org/wp-content/uploads/2016/07/Layer2_BC_count_matrix-1.tsv\n",
        "curl -Lo section3.tsv https://www.spatialresearch.org/wp-content/uploads/2016/07/Layer3_BC_count_matrix-1.tsv\n",
        "curl -Lo section4.tsv https://www.spatialresearch.org/wp-content/uploads/2016/07/Layer4_BC_count_matrix-1.tsv\n",
        "\n",
        "# Alignment data\n",
        "curl -Lo section1-alignment.txt https://www.spatialresearch.org/wp-content/uploads/2016/07/Layer1_BC_transformation.txt\n",
        "curl -Lo section2-alignment.txt https://www.spatialresearch.org/wp-content/uploads/2016/07/Layer2_BC_transformation.txt\n",
        "curl -Lo section3-alignment.txt https://www.spatialresearch.org/wp-content/uploads/2016/07/Layer3_BC_transformation.txt\n",
        "curl -Lo section4-alignment.txt https://www.spatialresearch.org/wp-content/uploads/2016/07/Layer4_BC_transformation.txt"
      ],
      "execution_count": null,
      "outputs": []
    },
    {
      "cell_type": "code",
      "metadata": {
        "id": "hRD-SyZzllKI"
      },
      "source": [
        ""
      ],
      "execution_count": null,
      "outputs": []
    }
  ]
}