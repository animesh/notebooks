{
 "cells": [
  {
   "cell_type": "code",
   "execution_count": null,
   "metadata": {},
   "outputs": [],
   "source": [
    "#https://www.r-bloggers.com/explaining-predictions-random-forest-post-hoc-analysis-randomforestexplainer-package/\n",
    "library(randomForestExplainer)\n",
    "impt_frame<-measure_importance(rf_model$fit)\n",
    "impt_frame %>% head()"
   ]
  },
  {
   "cell_type": "code",
   "execution_count": null,
   "metadata": {},
   "outputs": [],
   "source": [
    "#http://m-clark.github.io/posts/2019-05-14-shrinkage-in-mixed-models/\n",
    "N=100\n",
    "#d<-runif(N)\n",
    "d<-rep(0,N);\n",
    "dd<-runif(N);\n",
    "#for (n in seq(1:N)) {i=runif(n);d[n]=sum(i);dd[n]=sqrt(sum(i*i))}\n",
    "dd<--log(dd)/dd\n",
    "#hist(d,breaks=N)\n",
    "hist(dd)\n",
    "#plot(d)\n",
    "#plot(d,dd)\n",
    "#plot(d,dd)"
   ]
  },
  {
   "cell_type": "code",
   "execution_count": null,
   "metadata": {},
   "outputs": [],
   "source": [
    "#https://github.com/rformassspectrometry/Spectra/blob/master/R/Spectra.R\n",
    "#wget \"https://s3-us-west-2.amazonaws.com/10x.files/samples/cell/pbmc3k/pbmc3k_filtered_gene_bc_matrices.tar.gz\"\n",
    "#filtered_gene_bc_matrices/hg19/\n",
    "#library(dplyr)\n",
    "#https://www.r-bloggers.com/package-paths-in-r/\n",
    ".libPaths('') # Cleanup any additional paths the user might have\n",
    "dir.create('packages') # Create the directory\n",
    ".libPaths('packages') \n",
    "install.packages(\"Seurat\")\n",
    "library(Seurat)\n",
    "# Load the PBMC dataset\n",
    "#pbmc.data <- Read10X(data.dir = \"../data/pbmc3k/filtered_gene_bc_matrices/hg19/\")\n",
    "# Initialize the Seurat object with the raw (non-normalized data).\n",
    "#pbmc <- CreateSeuratObject(counts = pbmc.data, project = \"pbmc3k\", min.cells = 3, min.features = 200)\n",
    "#pbmc\n",
    "install.packages(\"devtools\")\n",
    "install.packages(\"\")\n",
    "install.packages('randomForestExplainer',dependencies=TRUE)\n",
    "RUN R -e \"install.packages('multivariance',dependencies=TRUE,repos='http://cran.us.r-project.org',lib='packages')\"\n",
    "\n",
    "RUN R -e \"install.packages('randomForestExplainer',dependencies=TRUE,repos='http://cran.us.r-project.org',lib='packages')\""
   ]
  },
  {
   "cell_type": "code",
   "execution_count": 2,
   "metadata": {},
   "outputs": [
    {
     "ename": "ERROR",
     "evalue": "Error: package or namespace load failed for ‘tidyverse’ in loadNamespace(i, c(lib.loc, .libPaths()), versionCheck = vI[[i]]):\n namespace ‘rlang’ 0.3.4 is already loaded, but >= 0.4.0 is required\n",
     "output_type": "error",
     "traceback": [
      "Error: package or namespace load failed for ‘tidyverse’ in loadNamespace(i, c(lib.loc, .libPaths()), versionCheck = vI[[i]]):\n namespace ‘rlang’ 0.3.4 is already loaded, but >= 0.4.0 is required\nTraceback:\n",
      "1. library(\"tidyverse\")",
      "2. tryCatch({\n .     attr(package, \"LibPath\") <- which.lib.loc\n .     ns <- loadNamespace(package, lib.loc)\n .     env <- attachNamespace(ns, pos = pos, deps)\n . }, error = function(e) {\n .     P <- if (!is.null(cc <- conditionCall(e))) \n .         paste(\" in\", deparse(cc)[1L])\n .     else \"\"\n .     msg <- gettextf(\"package or namespace load failed for %s%s:\\n %s\", \n .         sQuote(package), P, conditionMessage(e))\n .     if (logical.return) \n .         message(paste(\"Error:\", msg), domain = NA)\n .     else stop(msg, call. = FALSE, domain = NA)\n . })",
      "3. tryCatchList(expr, classes, parentenv, handlers)",
      "4. tryCatchOne(expr, names, parentenv, handlers[[1L]])",
      "5. value[[3L]](cond)",
      "6. stop(msg, call. = FALSE, domain = NA)"
     ]
    }
   ],
   "source": [
    ".libPaths('packages') \n",
    "library('randomForestExplainer')\n",
    "library('tidyverse')\n",
    "library('tidymodels')"
   ]
  },
  {
   "cell_type": "code",
   "execution_count": null,
   "metadata": {},
   "outputs": [],
   "source": [
    "#https://rawgit.com/ChristophH/sctransform/master/inst/doc/variance_stabilizing_transformation.html\n",
    "class(pbmc_data)\n",
    "#> [1] \"dgCMatrix\"\n",
    "#> attr(,\"package\")\n",
    "#> [1] \"Matrix\"\n",
    "dim(pbmc_data)\n",
    "#> [1] 32738  2700\n",
    "gene_attr <- data.frame(mean = rowMeans(pbmc_data), \n",
    "                        detection_rate = rowMeans(pbmc_data > 0),\n",
    "                        var = apply(pbmc_data, 1, var))\n",
    "gene_attr$log_mean <- log10(gene_attr$mean)\n",
    "gene_attr$log_var <- log10(gene_attr$var)\n",
    "rownames(gene_attr) <- rownames(pbmc_data)\n",
    "cell_attr <- data.frame(n_umi = colSums(pbmc_data),\n",
    "                        n_gene = colSums(pbmc_data > 0))\n",
    "rownames(cell_attr) <- colnames(pbmc_data)"
   ]
  },
  {
   "cell_type": "code",
   "execution_count": null,
   "metadata": {},
   "outputs": [],
   "source": [
    "#http://htmlpreview.github.io/?https://github.com/AllenInstitute/VENcelltypes/blob/master/vignettes/Code4_crossSpeciesComparisons.nb.html\n",
    "library(dplyr)\n",
    "library(feather)\n",
    "library(gplots)\n",
    "library(Matrix)\n",
    "library(cowplot)\n",
    "library(Seurat)\n",
    "library(pheatmap)\n",
    "library(VENcelltypes)"
   ]
  },
  {
   "cell_type": "code",
   "execution_count": null,
   "metadata": {},
   "outputs": [],
   "source": [
    "#http://www.sumsar.net/best_online/\n",
    "#https://lindeloev.github.io/tests-as-linear/ \n",
    "#https://www.gwern.net/Everything"
   ]
  }
 ],
 "metadata": {
  "kernelspec": {
   "display_name": "R",
   "language": "R",
   "name": "ir"
  },
  "language_info": {
   "codemirror_mode": "r",
   "file_extension": ".r",
   "mimetype": "text/x-r-source",
   "name": "R",
   "pygments_lexer": "r",
   "version": "3.5.1"
  }
 },
 "nbformat": 4,
 "nbformat_minor": 2
}
