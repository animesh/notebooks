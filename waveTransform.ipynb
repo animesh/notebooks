{
 "cells": [
  {
   "cell_type": "code",
   "execution_count": 2,
   "metadata": {},
   "outputs": [
    {
     "name": "stdout",
     "output_type": "stream",
     "text": [
      "Collecting librosa\n",
      "  Downloading librosa-0.7.2.tar.gz (1.6 MB)\n",
      "\u001b[K     |████████████████████████████████| 1.6 MB 2.2 MB/s eta 0:00:01\n",
      "\u001b[?25hCollecting audioread>=2.0.0\n",
      "  Downloading audioread-2.1.8.tar.gz (21 kB)\n",
      "Requirement already satisfied: numpy>=1.15.0 in /home/animeshs/.local/lib/python3.5/site-packages (from librosa) (1.17.4)\n",
      "Requirement already satisfied: scipy>=1.0.0 in /home/animeshs/.local/lib/python3.5/site-packages (from librosa) (1.4.1)\n",
      "Requirement already satisfied: scikit-learn!=0.19.0,>=0.14.0 in /home/animeshs/.local/lib/python3.5/site-packages (from librosa) (0.22.2.post1)\n",
      "Requirement already satisfied: joblib>=0.12 in /home/animeshs/.local/lib/python3.5/site-packages (from librosa) (0.14.1)\n",
      "Requirement already satisfied: decorator>=3.0.0 in /home/animeshs/.local/lib/python3.5/site-packages (from librosa) (4.4.0)\n",
      "Requirement already satisfied: six>=1.3 in /home/animeshs/.local/lib/python3.5/site-packages (from librosa) (1.14.0)\n",
      "Collecting resampy>=0.2.2\n",
      "  Downloading resampy-0.2.2.tar.gz (323 kB)\n",
      "\u001b[K     |████████████████████████████████| 323 kB 75.6 MB/s eta 0:00:01\n",
      "\u001b[?25hCollecting numba>=0.43.0\n",
      "  Downloading numba-0.47.0-cp35-cp35m-manylinux1_x86_64.whl (3.7 MB)\n",
      "\u001b[K     |████████████████████████████████| 3.7 MB 92.3 MB/s eta 0:00:01\n",
      "\u001b[?25hCollecting soundfile>=0.9.0\n",
      "  Downloading SoundFile-0.10.3.post1-py2.py3-none-any.whl (21 kB)\n",
      "Collecting llvmlite>=0.31.0dev0\n",
      "  Downloading llvmlite-0.31.0-cp35-cp35m-manylinux1_x86_64.whl (20.2 MB)\n",
      "\u001b[K     |████████████████████████████████| 20.2 MB 25.4 MB/s eta 0:00:01\n",
      "\u001b[?25hRequirement already satisfied: setuptools in /home/animeshs/.local/lib/python3.5/site-packages (from numba>=0.43.0->librosa) (45.3.0)\n",
      "Collecting cffi>=1.0\n",
      "  Downloading cffi-1.14.0-cp35-cp35m-manylinux1_x86_64.whl (399 kB)\n",
      "\u001b[K     |████████████████████████████████| 399 kB 81.3 MB/s eta 0:00:01\n",
      "\u001b[?25hCollecting pycparser\n",
      "  Downloading pycparser-2.20-py2.py3-none-any.whl (112 kB)\n",
      "\u001b[K     |████████████████████████████████| 112 kB 95.4 MB/s eta 0:00:01\n",
      "\u001b[?25hBuilding wheels for collected packages: librosa, audioread, resampy\n",
      "  Building wheel for librosa (setup.py) ... \u001b[?25ldone\n",
      "\u001b[?25h  Created wheel for librosa: filename=librosa-0.7.2-py3-none-any.whl size=1613952 sha256=ace08697a841a386e9789800dbbe79a22ba35e26d58bc1094e5bbb749c0750d4\n",
      "  Stored in directory: /home/animeshs/.cache/pip/wheels/4b/72/78/82101d52cdfc32755f1606294a72d380aabb3fe70e105a71a0\n",
      "  Building wheel for audioread (setup.py) ... \u001b[?25ldone\n",
      "\u001b[?25h  Created wheel for audioread: filename=audioread-2.1.8-py3-none-any.whl size=26090 sha256=9180911a8e36b0478f8c18a0d079cd2defab3cd18e2ba6044c992cff172aac25\n",
      "  Stored in directory: /home/animeshs/.cache/pip/wheels/fb/86/30/67eca0131420c96216f3a8a63a69795f6f5ebedad799ab0b00\n",
      "  Building wheel for resampy (setup.py) ... \u001b[?25ldone\n",
      "\u001b[?25h  Created wheel for resampy: filename=resampy-0.2.2-py3-none-any.whl size=321050 sha256=723b77f6f2ff03eb5a466eaa8801716da38ae9cc97747b27797826c0966cc131\n",
      "  Stored in directory: /home/animeshs/.cache/pip/wheels/8a/37/1c/0a08130bbb9d7c7b7bbab74e4b7e5cd5db50817c225733418c\n",
      "Successfully built librosa audioread resampy\n",
      "Installing collected packages: audioread, llvmlite, numba, resampy, pycparser, cffi, soundfile, librosa\n",
      "Successfully installed audioread-2.1.8 cffi-1.14.0 librosa-0.7.2 llvmlite-0.31.0 numba-0.47.0 pycparser-2.20 resampy-0.2.2 soundfile-0.10.3.post1\n"
     ]
    }
   ],
   "source": [
    "!python3 -m pip install librosa --user"
   ]
  },
  {
   "cell_type": "code",
   "execution_count": 5,
   "metadata": {},
   "outputs": [
    {
     "name": "stderr",
     "output_type": "stream",
     "text": [
      "/home/animeshs/.local/lib/python3.5/site-packages/librosa/core/audio.py:161: UserWarning: PySoundFile failed. Trying audioread instead.\n",
      "  warnings.warn('PySoundFile failed. Trying audioread instead.')\n"
     ]
    }
   ],
   "source": [
    "import librosa\n",
    "from scipy.fftpack import fft\n",
    "import numpy as np\n",
    "n_fft = 1024\n",
    "hop_length = 256\n",
    "n_mels = 40\n",
    "f_min = 20\n",
    "f_max = 8000\n",
    "fmin = 20\n",
    "fmax = 8000\n",
    "n_fft = 1024\n",
    "sample_rate = 16000\n",
    "sample_rate = 16000\n",
    "clip, sample_rate = librosa.load('../HareKrishna.mp3', sr=None)\n",
    "#signal, sample_rate = librosa.load(file, sr=22050)\n",
    "clip = clip[:132300] # first three seconds of file\n",
    "n_fft = 1024  # frame length \n",
    "start = 45000 # start at a part of the sound thats not silence\n",
    "x = clip[start:start+n_fft]\n",
    "X = fft(x, n_fft)\n",
    "X_magnitude, X_phase = librosa.magphase(X)\n",
    "X_magnitude_db = librosa.amplitude_to_db(X_magnitude)\n",
    "stft = librosa.stft(clip, n_fft=n_fft, hop_length=hop_length)\n",
    "stft_magnitude, stft_phase = librosa.magphase(stft)\n",
    "stft_magnitude_db = librosa.amplitude_to_db(stft_magnitude)\n",
    "mel_spec = librosa.feature.melspectrogram(clip, n_fft=n_fft, hop_length=hop_length, n_mels=n_mels, sr=sample_rate, power=1.0, fmin=fmin, fmax=fmax)\n",
    "mel_spec_db = librosa.amplitude_to_db(mel_spec, ref=np.max)"
   ]
  },
  {
   "cell_type": "code",
   "execution_count": 19,
   "metadata": {},
   "outputs": [
    {
     "name": "stderr",
     "output_type": "stream",
     "text": [
      "/home/animeshs/.local/lib/python3.5/site-packages/numpy/core/_asarray.py:138: ComplexWarning: Casting complex values to real discards the imaginary part\n",
      "  return array(a, dtype, copy=False, order=order, subok=True)\n"
     ]
    },
    {
     "data": {
      "text/plain": [
       "<matplotlib.collections.PathCollection at 0x7f47f7663748>"
      ]
     },
     "execution_count": 19,
     "metadata": {},
     "output_type": "execute_result"
    },
    {
     "data": {
      "image/png": "[encoded data removed]",
      "text/plain": [
       "<Figure size 432x288 with 1 Axes>"
      ]
     },
     "metadata": {},
     "output_type": "display_data"
    }
   ],
   "source": [
    "import matplotlib.pyplot as plt\n",
    "plt.scatter(X_phase, X_magnitude)"
   ]
  },
  {
   "cell_type": "code",
   "execution_count": 8,
   "metadata": {},
   "outputs": [
    {
     "ename": "AttributeError",
     "evalue": "module 'librosa' has no attribute 'display'",
     "output_type": "error",
     "traceback": [
      "\u001b[0;31m---------------------------------------------------------------------------\u001b[0m",
      "\u001b[0;31mAttributeError\u001b[0m                            Traceback (most recent call last)",
      "\u001b[0;32m<ipython-input-8-9be8baab13b8>\u001b[0m in \u001b[0;36m<module>\u001b[0;34m()\u001b[0m\n\u001b[1;32m      3\u001b[0m \u001b[0;31m# display waveform\u001b[0m\u001b[0;34m\u001b[0m\u001b[0;34m\u001b[0m\u001b[0m\n\u001b[1;32m      4\u001b[0m \u001b[0mplt\u001b[0m\u001b[0;34m.\u001b[0m\u001b[0mfigure\u001b[0m\u001b[0;34m(\u001b[0m\u001b[0;34m)\u001b[0m\u001b[0;31m#(figsize=FIG_SIZE)\u001b[0m\u001b[0;34m\u001b[0m\u001b[0m\n\u001b[0;32m----> 5\u001b[0;31m \u001b[0mlibrosa\u001b[0m\u001b[0;34m.\u001b[0m\u001b[0mdisplay\u001b[0m\u001b[0;34m.\u001b[0m\u001b[0mwaveplot\u001b[0m\u001b[0;34m(\u001b[0m\u001b[0msignal\u001b[0m\u001b[0;34m,\u001b[0m \u001b[0msample_rate\u001b[0m\u001b[0;34m,\u001b[0m \u001b[0malpha\u001b[0m\u001b[0;34m=\u001b[0m\u001b[0;36m0.4\u001b[0m\u001b[0;34m)\u001b[0m\u001b[0;34m\u001b[0m\u001b[0m\n\u001b[0m\u001b[1;32m      6\u001b[0m \u001b[0mplt\u001b[0m\u001b[0;34m.\u001b[0m\u001b[0mxlabel\u001b[0m\u001b[0;34m(\u001b[0m\u001b[0;34m\"Time (s)\"\u001b[0m\u001b[0;34m)\u001b[0m\u001b[0;34m\u001b[0m\u001b[0m\n\u001b[1;32m      7\u001b[0m \u001b[0mplt\u001b[0m\u001b[0;34m.\u001b[0m\u001b[0mylabel\u001b[0m\u001b[0;34m(\u001b[0m\u001b[0;34m\"Amplitude\"\u001b[0m\u001b[0;34m)\u001b[0m\u001b[0;34m\u001b[0m\u001b[0m\n",
      "\u001b[0;31mAttributeError\u001b[0m: module 'librosa' has no attribute 'display'"
     ]
    }
   ],
   "source": [
    "# WAVEFORM\n",
    "# display waveform\n",
    "plt.figure()#(figsize=FIG_SIZE)\n",
    "librosa.display.waveplot(signal, sample_rate, alpha=0.4)\n",
    "plt.xlabel(\"Time (s)\")\n",
    "plt.ylabel(\"Amplitude\")\n",
    "plt.title(\"Waveform\")\n",
    "# FFT -> power spectrum\n",
    "fft = np.fft.fft(signal)\n",
    "# calculate abs values on complex numbers to get magnitude\n",
    "spectrum = np.abs(fft)\n",
    "# create frequency variable\n",
    "f = np.linspace(0, sample_rate, len(spectrum))\n",
    "# take half of the spectrum and frequency\n",
    "left_spectrum = spectrum[:int(len(spectrum)/2)]\n",
    "left_f = f[:int(len(spectrum)/2)]\n",
    "# plot spectrum\n",
    "plt.figure(figsize=FIG_SIZE)\n",
    "plt.plot(left_f, left_spectrum, alpha=0.4)\n",
    "plt.xlabel(\"Frequency\")\n",
    "plt.ylabel(\"Magnitude\")\n",
    "plt.title(\"Power spectrum\")\n",
    "# STFT -> spectrogram\n",
    "hop_length = 512 # in num. of samples\n",
    "n_fft = 2048 # window in num. of samples\n",
    "# calculate duration hop length and window in seconds\n",
    "hop_length_duration = float(hop_length)/sample_rate\n",
    "n_fft_duration = float(n_fft)/sample_rate\n",
    "print(\"STFT hop length duration is: {}s\".format(hop_length_duration))\n",
    "print(\"STFT window duration is: {}s\".format(n_fft_duration))\n",
    "# perform stft\n",
    "stft = librosa.stft(signal, n_fft=n_fft, hop_length=hop_length)\n",
    "# calculate abs values on complex numbers to get magnitude\n",
    "spectrogram = np.abs(stft)\n",
    "# display spectrogram\n",
    "plt.figure(figsize=FIG_SIZE)\n",
    "librosa.display.specshow(spectrogram, sr=sample_rate, hop_length=hop_length)\n",
    "plt.xlabel(\"Time\")\n",
    "plt.ylabel(\"Frequency\")\n",
    "plt.colorbar()\n",
    "plt.title(\"Spectrogram\")\n",
    "# apply logarithm to cast amplitude to Decibels\n",
    "log_spectrogram = librosa.amplitude_to_db(spectrogram)\n",
    "plt.figure(figsize=FIG_SIZE)\n",
    "librosa.display.specshow(log_spectrogram, sr=sample_rate, hop_length=hop_length)\n",
    "plt.xlabel(\"Time\")\n",
    "plt.ylabel(\"Frequency\")\n",
    "plt.colorbar(format=\"%+2.0f dB\")\n",
    "plt.title(\"Spectrogram (dB)\")\n",
    "# MFCCs\n",
    "# extract 13 MFCCs\n",
    "MFCCs = librosa.feature.mfcc(signal, sample_rate, n_fft=n_fft, hop_length=hop_length, n_mfcc=13)\n",
    "# display MFCCs\n",
    "plt.figure(figsize=FIG_SIZE)\n",
    "librosa.display.specshow(MFCCs, sr=sample_rate, hop_length=hop_length)\n",
    "plt.xlabel(\"Time\")\n",
    "plt.ylabel(\"MFCC coefficients\")\n",
    "plt.colorbar()\n",
    "plt.title(\"MFCCs\")\n",
    "# show plots\n",
    "plt.show()"
   ]
  }
 ],
 "metadata": {
  "kernelspec": {
   "display_name": "Python 3",
   "language": "python",
   "name": "python3"
  },
  "language_info": {
   "codemirror_mode": {
    "name": "ipython",
    "version": 3
   },
   "file_extension": ".py",
   "mimetype": "text/x-python",
   "name": "python",
   "nbconvert_exporter": "python",
   "pygments_lexer": "ipython3",
   "version": "3.5.2"
  }
 },
 "nbformat": 4,
 "nbformat_minor": 2
}
