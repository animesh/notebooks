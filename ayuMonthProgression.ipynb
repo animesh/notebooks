{
 "cells": [
  {
   "cell_type": "code",
   "execution_count": 8,
   "metadata": {
    "scrolled": true
   },
   "outputs": [
    {
     "name": "stdout",
     "output_type": "stream",
     "text": [
      "2019-12-17 11:56:29.130029: I tensorflow/core/platform/cpu_feature_guard.cc:142] Your CPU supports instructions that this TensorFlow binary was not compiled to use: AVX2 FMA\n",
      "2019-12-17 11:56:29.141974: I tensorflow/core/platform/profile_utils/cpu_utils.cc:94] CPU Frequency: 3401000000 Hz\n",
      "2019-12-17 11:56:29.146473: I tensorflow/compiler/xla/service/service.cc:168] XLA service 0x7fffbeba11f0 executing computations on platform Host. Devices:\n",
      "2019-12-17 11:56:29.146514: I tensorflow/compiler/xla/service/service.cc:175]   StreamExecutor device (0): Host, Default Version\n",
      "tf.Tensor(\n",
      "[ 0  1  2  3  4  5  6  7  8  9 10 11 12 13 14 15 16 17 18 19 20 21 22 23\n",
      " 24 25 26 27 28 29 30 31 32 33 34 35 36 37 38 39 40 41], shape=(42,), dtype=int32)\n"
     ]
    }
   ],
   "source": [
    "!python3 -c \"import tensorflow as tf;print(tf.range(42))\""
   ]
  },
  {
   "cell_type": "code",
   "execution_count": 9,
   "metadata": {},
   "outputs": [
    {
     "name": "stdout",
     "output_type": "stream",
     "text": [
      "2.0.0\n"
     ]
    }
   ],
   "source": [
    "import tensorflow as tf\n",
    "print(tf.__version__)"
   ]
  },
  {
   "cell_type": "code",
   "execution_count": 3,
   "metadata": {},
   "outputs": [
    {
     "data": {
      "text/plain": [
       "True"
      ]
     },
     "execution_count": 3,
     "metadata": {},
     "output_type": "execute_result"
    }
   ],
   "source": [
    "tf.test.is_gpu_available()"
   ]
  },
  {
   "cell_type": "code",
   "execution_count": 10,
   "metadata": {},
   "outputs": [
    {
     "name": "stdout",
     "output_type": "stream",
     "text": [
      "/mnt/f/GD/notebooks\r\n"
     ]
    }
   ],
   "source": [
    "!pwd"
   ]
  },
  {
   "cell_type": "code",
   "execution_count": 118,
   "metadata": {},
   "outputs": [
    {
     "data": {
      "text/html": [
       "<div>\n",
       "<style scoped>\n",
       "    .dataframe tbody tr th:only-of-type {\n",
       "        vertical-align: middle;\n",
       "    }\n",
       "\n",
       "    .dataframe tbody tr th {\n",
       "        vertical-align: top;\n",
       "    }\n",
       "\n",
       "    .dataframe thead th {\n",
       "        text-align: right;\n",
       "    }\n",
       "</style>\n",
       "<table border=\"1\" class=\"dataframe\">\n",
       "  <thead>\n",
       "    <tr style=\"text-align: right;\">\n",
       "      <th></th>\n",
       "      <th>Month</th>\n",
       "      <th>Col0</th>\n",
       "      <th>Col1</th>\n",
       "      <th>Col2</th>\n",
       "      <th>Col3</th>\n",
       "      <th>Col4</th>\n",
       "      <th>Col5</th>\n",
       "      <th>Col6</th>\n",
       "    </tr>\n",
       "    <tr>\n",
       "      <th>Name</th>\n",
       "      <th></th>\n",
       "      <th></th>\n",
       "      <th></th>\n",
       "      <th></th>\n",
       "      <th></th>\n",
       "      <th></th>\n",
       "      <th></th>\n",
       "      <th></th>\n",
       "    </tr>\n",
       "  </thead>\n",
       "  <tbody>\n",
       "    <tr>\n",
       "      <td>Row1</td>\n",
       "      <td>1</td>\n",
       "      <td>1</td>\n",
       "      <td>0.503802</td>\n",
       "      <td>0.503802</td>\n",
       "      <td>1.007604</td>\n",
       "      <td>1.007604</td>\n",
       "      <td>1.007604</td>\n",
       "      <td>1.007604</td>\n",
       "    </tr>\n",
       "    <tr>\n",
       "      <td>Row2</td>\n",
       "      <td>2</td>\n",
       "      <td>2</td>\n",
       "      <td>0.559860</td>\n",
       "      <td>1.119720</td>\n",
       "      <td>1.679580</td>\n",
       "      <td>1.679580</td>\n",
       "      <td>1.679580</td>\n",
       "      <td>1.679580</td>\n",
       "    </tr>\n",
       "    <tr>\n",
       "      <td>Row3</td>\n",
       "      <td>3</td>\n",
       "      <td>3</td>\n",
       "      <td>0.199593</td>\n",
       "      <td>0.598779</td>\n",
       "      <td>0.798372</td>\n",
       "      <td>0.798372</td>\n",
       "      <td>0.798372</td>\n",
       "      <td>0.798372</td>\n",
       "    </tr>\n",
       "    <tr>\n",
       "      <td>Row4</td>\n",
       "      <td>4</td>\n",
       "      <td>0</td>\n",
       "      <td>0.577018</td>\n",
       "      <td>2.308073</td>\n",
       "      <td>0.885091</td>\n",
       "      <td>2.885091</td>\n",
       "      <td>2.885091</td>\n",
       "      <td>2.885091</td>\n",
       "    </tr>\n",
       "  </tbody>\n",
       "</table>\n",
       "</div>"
      ],
      "text/plain": [
       "      Month  Col0      Col1      Col2      Col3      Col4      Col5      Col6\n",
       "Name                                                                         \n",
       "Row1      1     1  0.503802  0.503802  1.007604  1.007604  1.007604  1.007604\n",
       "Row2      2     2  0.559860  1.119720  1.679580  1.679580  1.679580  1.679580\n",
       "Row3      3     3  0.199593  0.598779  0.798372  0.798372  0.798372  0.798372\n",
       "Row4      4     0  0.577018  2.308073  0.885091  2.885091  2.885091  2.885091"
      ]
     },
     "execution_count": 118,
     "metadata": {},
     "output_type": "execute_result"
    }
   ],
   "source": [
    "data = pd.read_excel(\"/mnt/f/HeLa/ayu/ModTest.xlsx\", index_col=0)\n",
    "data.shape\n",
    "data.head(4)"
   ]
  },
  {
   "cell_type": "code",
   "execution_count": 125,
   "metadata": {},
   "outputs": [
    {
     "name": "stdout",
     "output_type": "stream",
     "text": [
      "[1.00760426 1.6795798  0.79837218 2.88509099 5.2406133  0.83600949\n",
      " 2.51233326 6.05262111 5.46076511 5.79313412 0.91797806 4.8045121 ] [ 0  1  2  3  4  5  6  7  8  9 10 11] 0.8574222006561211\n"
     ]
    },
    {
     "data": {
      "text/plain": [
       "<matplotlib.collections.PathCollection at 0x7f7b5aa1e450>"
      ]
     },
     "execution_count": 125,
     "metadata": {},
     "output_type": "execute_result"
    },
    {
     "data": {
      "image/png": "[encoded data removed]",
      "text/plain": [
       "<Figure size 432x288 with 1 Axes>"
      ]
     },
     "metadata": {
      "needs_background": "light"
     },
     "output_type": "display_data"
    }
   ],
   "source": [
    "import numpy as np\n",
    "import matplotlib.pyplot as plt\n",
    "a = [1/2,np.sqrt(3)/2]\n",
    "a=np.array(data['Col6'])\n",
    "b = [np.sqrt(3)/2,1/2]\n",
    "b=np.arange(start=0, stop=12, step=1)\n",
    "dot = np.dot(a, b)\n",
    "norma = np.linalg.norm(a)\n",
    "normb = np.linalg.norm(b)\n",
    "cos = dot / (norma * normb)\n",
    "print(a,b,cos )\n",
    "plt.scatter(b,a)"
   ]
  },
  {
   "cell_type": "code",
   "execution_count": 136,
   "metadata": {},
   "outputs": [
    {
     "name": "stdout",
     "output_type": "stream",
     "text": [
      "[13.98861376+0.j         -0.34758389+1.37305389j -0.68079067-1.89852275j\n",
      "  1.48029916-0.56649922j -0.69706295-1.7243721j   0.35309771+0.7845763j\n",
      " -2.11328144+0.j          0.35309771-0.7845763j  -0.69706295+1.7243721j\n",
      "  1.48029916+0.56649922j -0.68079067+1.89852275j -0.34758389-1.37305389j] 12\n"
     ]
    },
    {
     "data": {
      "text/plain": [
       "<matplotlib.collections.PathCollection at 0x7f7b5a71af10>"
      ]
     },
     "execution_count": 136,
     "metadata": {},
     "output_type": "execute_result"
    },
    {
     "data": {
      "image/png": "[encoded data removed]",
      "text/plain": [
       "<Figure size 432x288 with 1 Axes>"
      ]
     },
     "metadata": {
      "needs_background": "light"
     },
     "output_type": "display_data"
    }
   ],
   "source": [
    "import scipy as sp\n",
    "import scipy.fftpack\n",
    "temp = data['Col3']\n",
    "temp_fft = sp.fftpack.fft(temp)\n",
    "print(temp_fft,len(temp_fft))\n",
    "plt.scatter(b,temp_fft)"
   ]
  },
  {
   "cell_type": "code",
   "execution_count": 137,
   "metadata": {
    "scrolled": true
   },
   "outputs": [
    {
     "name": "stdout",
     "output_type": "stream",
     "text": [
      "[195.68131496   2.00609154   4.06786455   2.51220698   3.45935589\n",
      "   0.74023796   4.46595845   0.74023796   3.45935589   2.51220698\n",
      "   4.06786455   2.00609154] 12\n"
     ]
    },
    {
     "data": {
      "text/plain": [
       "<matplotlib.collections.PathCollection at 0x7f7b5a6c5f90>"
      ]
     },
     "execution_count": 137,
     "metadata": {},
     "output_type": "execute_result"
    },
    {
     "data": {
      "image/png": "[encoded data removed]",
      "text/plain": [
       "<Figure size 432x288 with 1 Axes>"
      ]
     },
     "metadata": {
      "needs_background": "light"
     },
     "output_type": "display_data"
    }
   ],
   "source": [
    "temp_psd = np.abs(temp_fft) ** 2\n",
    "print(temp_psd,len(temp_psd))\n",
    "plt.scatter(b,temp_psd)"
   ]
  },
  {
   "cell_type": "code",
   "execution_count": 138,
   "metadata": {},
   "outputs": [
    {
     "data": {
      "text/plain": [
       "<matplotlib.collections.PathCollection at 0x7f7b5a631910>"
      ]
     },
     "execution_count": 138,
     "metadata": {},
     "output_type": "execute_result"
    },
    {
     "data": {
      "image/png": "[encoded data removed]",
      "text/plain": [
       "<Figure size 432x288 with 1 Axes>"
      ]
     },
     "metadata": {
      "needs_background": "light"
     },
     "output_type": "display_data"
    }
   ],
   "source": [
    "fftfreq = sp.fftpack.fftfreq(len(temp_psd), 1. / 12)\n",
    "#i = abs(fftfreq) > 0\n",
    "i = fftfreq > 0\n",
    "plt.scatter(fftfreq[i], 10 * np.log10(temp_psd[i]))"
   ]
  },
  {
   "cell_type": "code",
   "execution_count": 148,
   "metadata": {},
   "outputs": [
    {
     "data": {
      "text/plain": [
       "array(['Bifidobacterium', 'Faecalibacterium', 'Bacteroides',\n",
       "       'Lactobacillus', 'Streptococcus', 'Ruminococcus', 'Other',\n",
       "       'Collinsella', 'f__Rikenellaceae;g__', 'f__Ruminococcaceae;g__',\n",
       "       'Roseburia', 'Coprococcus', 'Oscillospira',\n",
       "       'f__[Barnesiellaceae];g__', 'o__Clostridiales;f__;g__',\n",
       "       'Butyricicoccus', 'Ruminococcus', 'Prevotella', 'Escherichia',\n",
       "       'Parabacteroides', 'f__Lachnospiraceae;Other', 'Dialister'],\n",
       "      dtype=object)"
      ]
     },
     "execution_count": 148,
     "metadata": {},
     "output_type": "execute_result"
    }
   ],
   "source": [
    "import pandas as pd\n",
    "df = pd.read_excel(\"/mnt/f/HeLa/ayu/for ML analysis.xlsx\", index_col=0)\n",
    "df.shape\n",
    "df.index.values"
   ]
  },
  {
   "cell_type": "code",
   "execution_count": 149,
   "metadata": {},
   "outputs": [
    {
     "data": {
      "text/plain": [
       "array([[<matplotlib.axes._subplots.AxesSubplot object at 0x7f7b4f454e90>,\n",
       "        <matplotlib.axes._subplots.AxesSubplot object at 0x7f7b4f472e10>,\n",
       "        <matplotlib.axes._subplots.AxesSubplot object at 0x7f7b4f45f650>],\n",
       "       [<matplotlib.axes._subplots.AxesSubplot object at 0x7f7b4f3ede90>,\n",
       "        <matplotlib.axes._subplots.AxesSubplot object at 0x7f7b4f39db50>,\n",
       "        <matplotlib.axes._subplots.AxesSubplot object at 0x7f7b4f358ed0>],\n",
       "       [<matplotlib.axes._subplots.AxesSubplot object at 0x7f7b4f30ab90>,\n",
       "        <matplotlib.axes._subplots.AxesSubplot object at 0x7f7b4f2c5f10>,\n",
       "        <matplotlib.axes._subplots.AxesSubplot object at 0x7f7b4f2d1050>],\n",
       "       [<matplotlib.axes._subplots.AxesSubplot object at 0x7f7b4f2808d0>,\n",
       "        <matplotlib.axes._subplots.AxesSubplot object at 0x7f7b4f264c10>,\n",
       "        <matplotlib.axes._subplots.AxesSubplot object at 0x7f7b4f225f90>]],\n",
       "      dtype=object)"
      ]
     },
     "execution_count": 149,
     "metadata": {},
     "output_type": "execute_result"
    },
    {
     "data": {
      "image/png": "[encoded data removed]",
      "text/plain": [
       "<Figure size 432x288 with 12 Axes>"
      ]
     },
     "metadata": {
      "needs_background": "light"
     },
     "output_type": "display_data"
    }
   ],
   "source": [
    "df.hist()"
   ]
  },
  {
   "cell_type": "code",
   "execution_count": 150,
   "metadata": {},
   "outputs": [
    {
     "name": "stdout",
     "output_type": "stream",
     "text": [
      "[0.03949479 0.02305865 0.07582859 0.03672056 0.02909731 0.02558369\n",
      " 0.08685159 0.12504401 0.09501    0.00434251 0.00923748 0.00501482] [ 0  1  2  3  4  5  6  7  8  9 10 11] 0.6155833179074953\n"
     ]
    },
    {
     "data": {
      "text/plain": [
       "<matplotlib.collections.PathCollection at 0x7f7b4eebdb50>"
      ]
     },
     "execution_count": 150,
     "metadata": {},
     "output_type": "execute_result"
    },
    {
     "data": {
      "image/png": "[encoded data removed]",
      "text/plain": [
       "<Figure size 432x288 with 1 Axes>"
      ]
     },
     "metadata": {
      "needs_background": "light"
     },
     "output_type": "display_data"
    }
   ],
   "source": [
    "import numpy as np\n",
    "import matplotlib.pyplot as plt\n",
    "a = [1/2,np.sqrt(3)/2]\n",
    "a=np.array(df.iloc[5])\n",
    "b = [np.sqrt(3)/2,1/2]\n",
    "b=np.arange(start=0, stop=12, step=1)\n",
    "dot = np.dot(a, b)\n",
    "norma = np.linalg.norm(a)\n",
    "normb = np.linalg.norm(b)\n",
    "cos = dot / (norma * normb)\n",
    "print(a,b,cos )\n",
    "plt.scatter(b,a)"
   ]
  },
  {
   "cell_type": "code",
   "execution_count": 151,
   "metadata": {},
   "outputs": [
    {
     "name": "stdout",
     "output_type": "stream",
     "text": [
      "[0.03949479 0.02305865 0.07582859 0.03672056 0.02909731 0.02558369\n",
      " 0.08685159 0.12504401 0.09501    0.00434251 0.00923748 0.00501482] [ 0  1  2  3  4  5  6  7  8  9 10 11] [[0.03949479 0.02305865 0.07582859 0.03672056 0.02909731 0.02558369\n",
      "  0.08685159 0.12504401 0.09501    0.00434251 0.00923748 0.00501482]] [[ 0  1  2  3  4  5  6  7  8  9 10 11]] 2.8723031178963803 0.2074283769372175 22.494443758403985 0.6155833179074953 0.6155833179074952 [[7.38699981]]\n"
     ]
    },
    {
     "data": {
      "text/plain": [
       "<matplotlib.collections.PathCollection at 0x7f7b4ee0aa10>"
      ]
     },
     "execution_count": 151,
     "metadata": {},
     "output_type": "execute_result"
    },
    {
     "data": {
      "image/png": "[encoded data removed]",
      "text/plain": [
       "<Figure size 432x288 with 1 Axes>"
      ]
     },
     "metadata": {
      "needs_background": "light"
     },
     "output_type": "display_data"
    }
   ],
   "source": [
    "from sklearn.metrics.pairwise import cosine_similarity\n",
    "aa = a.reshape(1,12)\n",
    "ba = b.reshape(1,12)\n",
    "cos_lib = cosine_similarity(aa, ba)\n",
    "print(a,b,aa,ba,dot,norma,normb,cos,cos_lib[0][0],cos_lib*12)\n",
    "plt.scatter(ba,aa)"
   ]
  },
  {
   "cell_type": "code",
   "execution_count": 152,
   "metadata": {},
   "outputs": [
    {
     "name": "stdout",
     "output_type": "stream",
     "text": [
      "52.00568255787649\n"
     ]
    }
   ],
   "source": [
    "import math\n",
    "angle_in_radians = math.acos(cos)\n",
    "print(math.degrees(angle_in_radians))"
   ]
  },
  {
   "cell_type": "code",
   "execution_count": 158,
   "metadata": {},
   "outputs": [
    {
     "name": "stdout",
     "output_type": "stream",
     "text": [
      "[ 0.55528398+0.j         -0.1730125 +0.00774266j  0.07004719-0.21651324j\n",
      " -0.00831555+0.11379454j -0.02652783+0.01299008j  0.03925766+0.00891773j\n",
      "  0.11575553+0.j          0.03925766-0.00891773j -0.02652783-0.01299008j\n",
      " -0.00831555-0.11379454j  0.07004719+0.21651324j -0.1730125 -0.00774266j] 12\n"
     ]
    },
    {
     "data": {
      "text/plain": [
       "<matplotlib.collections.PathCollection at 0x7f7b4eb83350>"
      ]
     },
     "execution_count": 158,
     "metadata": {},
     "output_type": "execute_result"
    },
    {
     "data": {
      "image/png": "[encoded data removed]",
      "text/plain": [
       "<Figure size 432x288 with 1 Axes>"
      ]
     },
     "metadata": {
      "needs_background": "light"
     },
     "output_type": "display_data"
    }
   ],
   "source": [
    "import scipy as sp\n",
    "import scipy.fftpack\n",
    "temp = df.iloc[5]\n",
    "temp_fft = sp.fftpack.fft(temp)\n",
    "print(temp_fft,len(temp_fft))\n",
    "plt.scatter(b,temp_fft)"
   ]
  },
  {
   "cell_type": "code",
   "execution_count": 159,
   "metadata": {
    "scrolled": true
   },
   "outputs": [
    {
     "name": "stdout",
     "output_type": "stream",
     "text": [
      "[0.3083403  0.02999327 0.05178459 0.01301835 0.00087247 0.00162069\n",
      " 0.01339934 0.00162069 0.00087247 0.01301835 0.05178459 0.02999327] 12\n"
     ]
    },
    {
     "data": {
      "text/plain": [
       "<matplotlib.collections.PathCollection at 0x7f7b4e92e590>"
      ]
     },
     "execution_count": 159,
     "metadata": {},
     "output_type": "execute_result"
    },
    {
     "data": {
      "image/png": "[encoded data removed]",
      "text/plain": [
       "<Figure size 432x288 with 1 Axes>"
      ]
     },
     "metadata": {
      "needs_background": "light"
     },
     "output_type": "display_data"
    }
   ],
   "source": [
    "temp_psd = np.abs(temp_fft) ** 2\n",
    "print(temp_psd,len(temp_psd))\n",
    "plt.scatter(b,temp_psd)"
   ]
  },
  {
   "cell_type": "code",
   "execution_count": 160,
   "metadata": {},
   "outputs": [
    {
     "data": {
      "text/plain": [
       "<matplotlib.collections.PathCollection at 0x7f7b4e88b590>"
      ]
     },
     "execution_count": 160,
     "metadata": {},
     "output_type": "execute_result"
    },
    {
     "data": {
      "image/png": "[encoded data removed]",
      "text/plain": [
       "<Figure size 432x288 with 1 Axes>"
      ]
     },
     "metadata": {
      "needs_background": "light"
     },
     "output_type": "display_data"
    }
   ],
   "source": [
    "fftfreq = sp.fftpack.fftfreq(len(temp_psd), 1. / 12)\n",
    "#i = abs(fftfreq) > 0\n",
    "i = fftfreq > 0\n",
    "plt.scatter(fftfreq[i], 10 * np.log10(temp_psd[i]))"
   ]
  },
  {
   "cell_type": "code",
   "execution_count": 299,
   "metadata": {},
   "outputs": [
    {
     "data": {
      "text/plain": [
       "array(['Bifidobacterium', 'Faecalibacterium', 'Bacteroides',\n",
       "       'Lactobacillus', 'Streptococcus', 'Ruminococcus', 'Other',\n",
       "       'Collinsella', 'f__Rikenellaceae;g__', 'f__Ruminococcaceae;g__',\n",
       "       'Roseburia', 'Coprococcus', 'Oscillospira',\n",
       "       'f__[Barnesiellaceae];g__', 'o__Clostridiales;f__;g__',\n",
       "       'Butyricicoccus', 'Ruminococcus', 'Prevotella', 'Escherichia',\n",
       "       'Parabacteroides', 'f__Lachnospiraceae;Other', 'Dialister'],\n",
       "      dtype=object)"
      ]
     },
     "execution_count": 299,
     "metadata": {},
     "output_type": "execute_result"
    }
   ],
   "source": [
    "df.index.values"
   ]
  },
  {
   "cell_type": "code",
   "execution_count": 300,
   "metadata": {
    "scrolled": true
   },
   "outputs": [
    {
     "name": "stdout",
     "output_type": "stream",
     "text": [
      "(0, 'Bifidobacterium', array([ 1.        , -0.18552172, -0.02226848, -0.45187151,  0.15901265,\n",
      "       -0.02457722,  0.30847599, -0.08301071, -0.05477172, -0.0998049 ,\n",
      "       -0.03691822, -0.00874414]))\n",
      "(1, 'Faecalibacterium', array([ 1.        ,  0.31150047, -0.30354991, -0.25125967, -0.05992153,\n",
      "       -0.19178332, -0.11854059,  0.03197848,  0.05596741,  0.00931476,\n",
      "        0.00556213,  0.01073177]))\n",
      "(2, 'Bacteroides', array([ 1.        , -0.05243536,  0.47996502, -0.06421435,  0.25746569,\n",
      "       -0.39902979,  0.10323196, -0.31739699, -0.15784787, -0.21046895,\n",
      "       -0.05877889, -0.08049046]))\n",
      "(3, 'Lactobacillus', array([ 1.        ,  0.41454371,  0.38401322, -0.05486186, -0.18870864,\n",
      "       -0.2457329 , -0.25206386, -0.29372869, -0.16151896, -0.13328967,\n",
      "        0.015316  ,  0.01603166]))\n",
      "(4, 'Streptococcus', array([ 1.        ,  0.16917928, -0.35248973, -0.07305164,  0.15884727,\n",
      "        0.20592899, -0.10628282, -0.21037236, -0.14758169, -0.09501653,\n",
      "       -0.03045828, -0.01870248]))\n",
      "(5, 'Ruminococcus', array([ 1.        ,  0.4005195 , -0.23169321, -0.54966979, -0.21226385,\n",
      "        0.05037126,  0.07079795, -0.1062905 , -0.0033117 , -0.00434816,\n",
      "        0.06975093,  0.01613759]))\n",
      "(6, 'Other', array([ 1.        , -0.21091579, -0.09613435, -0.16693136,  0.04979896,\n",
      "       -0.18998789,  0.06996846, -0.09373508,  0.23453426, -0.16514125,\n",
      "        0.09300951, -0.02446548]))\n",
      "(7, 'Collinsella', array([ 1.        , -0.12666185,  0.18441013,  0.00622123, -0.23951309,\n",
      "       -0.12690229, -0.16021263, -0.18255469,  0.2003926 , -0.19599787,\n",
      "        0.1113178 ,  0.02950065]))\n",
      "(8, 'f__Rikenellaceae;g__', array([ 1.        ,  0.58752137,  0.35541734,  0.140857  , -0.01855324,\n",
      "       -0.21426105, -0.33750038, -0.43173802, -0.30731315, -0.14434862,\n",
      "       -0.09259411, -0.03748715]))\n",
      "(9, 'f__Ruminococcaceae;g__', array([ 1.        ,  0.71691004,  0.34855891,  0.13049011,  0.03818735,\n",
      "       -0.09505533, -0.27539532, -0.40184811, -0.41898657, -0.31656244,\n",
      "       -0.18416122, -0.04213743]))\n",
      "(10, 'Roseburia', array([ 1.        ,  0.68864662,  0.32025188,  0.15848639, -0.05823756,\n",
      "       -0.2946593 , -0.45614017, -0.35877335, -0.20043737, -0.18373419,\n",
      "       -0.10343307, -0.01196988]))\n",
      "(11, 'Coprococcus', array([ 1.        ,  0.56054547,  0.33630505,  0.19885031, -0.10432366,\n",
      "       -0.27513203, -0.23123637, -0.3722415 , -0.30591908, -0.14718724,\n",
      "       -0.12147737, -0.03818357]))\n",
      "(12, 'Oscillospira', array([ 1.        ,  0.30802407,  0.24991656, -0.04251469,  0.10395198,\n",
      "        0.02165499, -0.18922745, -0.18777187, -0.32015846, -0.25735213,\n",
      "       -0.16047439, -0.02604861]))\n",
      "(13, 'f__[Barnesiellaceae];g__', array([ 1.        ,  0.66406409,  0.60537978,  0.17594604,  0.08541375,\n",
      "       -0.25652083, -0.25096407, -0.46749082, -0.38795302, -0.35949919,\n",
      "       -0.19331346, -0.11506227]))\n",
      "(14, 'o__Clostridiales;f__;g__', array([ 1.        , -0.28844745,  0.24949138, -0.48965179,  0.17615189,\n",
      "       -0.24464863,  0.27345638, -0.17746382,  0.0291135 , -0.03073696,\n",
      "        0.02995071, -0.02721521]))\n",
      "(15, 'Butyricicoccus', array([ 1.        ,  0.33110654,  0.04733556, -0.02303116,  0.22135602,\n",
      "       -0.02298002, -0.30313496, -0.09830501, -0.11252758, -0.1588134 ,\n",
      "       -0.27683357, -0.10417242]))\n",
      "(16, 'Ruminococcus', array([ 1.00000000e+00,  3.22125692e-01,  1.26952023e-01,  8.29139080e-02,\n",
      "       -1.19431708e-01, -1.55130780e-01, -3.47254029e-01, -8.48539928e-02,\n",
      "       -1.58384047e-01, -1.28017327e-01, -1.24414246e-04, -3.87953250e-02]))\n",
      "(17, 'Prevotella', array([ 1.        , -0.35634827,  0.14798979, -0.21195599,  0.11403534,\n",
      "       -0.28054355,  0.02271564, -0.12221787,  0.21594456, -0.0909596 ,\n",
      "        0.09295669, -0.03161675]))\n",
      "(18, 'Escherichia', array([ 1.        , -0.11973721, -0.14456671, -0.2126999 , -0.24269709,\n",
      "        0.1739534 ,  0.00638781,  0.0316401 ,  0.01466887,  0.01428016,\n",
      "       -0.02427786,  0.00304843]))\n",
      "(19, 'Parabacteroides', array([ 1.00000000e+00, -4.73619895e-01,  4.81334791e-01, -6.02962468e-01,\n",
      "        3.96108837e-01, -3.38016915e-01,  3.61643627e-01, -1.70115694e-01,\n",
      "        1.18597377e-01, -2.07936097e-01,  6.23231548e-04, -6.56567949e-02]))\n",
      "(20, 'f__Lachnospiraceae;Other', array([ 1.        ,  0.04268765,  0.21303117, -0.09219643, -0.22448069,\n",
      "       -0.32086207, -0.19628181, -0.0617188 ,  0.10886043, -0.15080369,\n",
      "        0.21144215, -0.0296779 ]))\n",
      "(21, 'Dialister', array([ 1.        , -0.12292698,  0.10222409, -0.27869897,  0.18752044,\n",
      "       -0.25752001,  0.18751726, -0.04355241,  0.0546324 , -0.28789373,\n",
      "       -0.05394914,  0.01264704]))\n"
     ]
    },
    {
     "data": {
      "image/png": "[encoded data removed]",
      "text/plain": [
       "<Figure size 432x288 with 1 Axes>"
      ]
     },
     "metadata": {
      "needs_background": "light"
     },
     "output_type": "display_data"
    }
   ],
   "source": [
    "from pandas.plotting import autocorrelation_plot\n",
    "for i in range(len(df)):\n",
    "    print((i,df.index.values[i],sm.tsa.acf(np.array(df.iloc[i]), nlags=12)))\n",
    "    autocorrelation_plot(np.array(df.iloc[i]))\n",
    "#autocorrelation_plot(df)"
   ]
  },
  {
   "cell_type": "code",
   "execution_count": 296,
   "metadata": {},
   "outputs": [
    {
     "name": "stdout",
     "output_type": "stream",
     "text": [
      "[ 1.          0.31150047 -0.30354991 -0.25125967 -0.05992153 -0.19178332\n",
      " -0.11854059  0.03197848  0.05596741  0.00931476  0.00556213  0.01073177]\n"
     ]
    }
   ],
   "source": [
    "import statsmodels.api as sm\n",
    "#if(max(sm.tsa.acf(np.array(df.iloc[i]), nlags=12))!=1):\n",
    "print((sm.tsa.acf(np.array(df.iloc[1]), nlags=12)))"
   ]
  },
  {
   "cell_type": "code",
   "execution_count": 268,
   "metadata": {},
   "outputs": [
    {
     "ename": "AttributeError",
     "evalue": "'Index' object has no attribute 'inferred_freq'",
     "output_type": "error",
     "traceback": [
      "\u001b[0;31m---------------------------------------------------------------------------\u001b[0m",
      "\u001b[0;31mAttributeError\u001b[0m                            Traceback (most recent call last)",
      "\u001b[0;32m<ipython-input-268-977535545310>\u001b[0m in \u001b[0;36m<module>\u001b[0;34m\u001b[0m\n\u001b[1;32m      1\u001b[0m \u001b[0;32mfrom\u001b[0m \u001b[0mstatsmodels\u001b[0m\u001b[0;34m.\u001b[0m\u001b[0mtsa\u001b[0m\u001b[0;34m.\u001b[0m\u001b[0mseasonal\u001b[0m \u001b[0;32mimport\u001b[0m \u001b[0mseasonal_decompose\u001b[0m\u001b[0;34m\u001b[0m\u001b[0;34m\u001b[0m\u001b[0m\n\u001b[0;32m----> 2\u001b[0;31m \u001b[0mdecomposed\u001b[0m \u001b[0;34m=\u001b[0m \u001b[0mseasonal_decompose\u001b[0m\u001b[0;34m(\u001b[0m\u001b[0mdfT\u001b[0m\u001b[0;34m[\u001b[0m\u001b[0;34m'y'\u001b[0m\u001b[0;34m]\u001b[0m\u001b[0;34m,\u001b[0m \u001b[0mmodel\u001b[0m\u001b[0;34m=\u001b[0m\u001b[0;34m'additive'\u001b[0m\u001b[0;34m)\u001b[0m\u001b[0;34m\u001b[0m\u001b[0;34m\u001b[0m\u001b[0m\n\u001b[0m\u001b[1;32m      3\u001b[0m \u001b[0mx\u001b[0m \u001b[0;34m=\u001b[0m \u001b[0mdecomposed\u001b[0m\u001b[0;34m.\u001b[0m\u001b[0mplot\u001b[0m\u001b[0;34m(\u001b[0m\u001b[0;34m)\u001b[0m \u001b[0;31m#See note below about this\u001b[0m\u001b[0;34m\u001b[0m\u001b[0;34m\u001b[0m\u001b[0m\n",
      "\u001b[0;32m~/anaconda3/lib/python3.7/site-packages/statsmodels/tsa/seasonal.py\u001b[0m in \u001b[0;36mseasonal_decompose\u001b[0;34m(x, model, filt, freq, two_sided, extrapolate_trend)\u001b[0m\n\u001b[1;32m    106\u001b[0m     \"\"\"\n\u001b[1;32m    107\u001b[0m     \u001b[0;32mif\u001b[0m \u001b[0mfreq\u001b[0m \u001b[0;32mis\u001b[0m \u001b[0;32mNone\u001b[0m\u001b[0;34m:\u001b[0m\u001b[0;34m\u001b[0m\u001b[0;34m\u001b[0m\u001b[0m\n\u001b[0;32m--> 108\u001b[0;31m         \u001b[0m_pandas_wrapper\u001b[0m\u001b[0;34m,\u001b[0m \u001b[0mpfreq\u001b[0m \u001b[0;34m=\u001b[0m \u001b[0m_maybe_get_pandas_wrapper_freq\u001b[0m\u001b[0;34m(\u001b[0m\u001b[0mx\u001b[0m\u001b[0;34m)\u001b[0m\u001b[0;34m\u001b[0m\u001b[0;34m\u001b[0m\u001b[0m\n\u001b[0m\u001b[1;32m    109\u001b[0m     \u001b[0;32melse\u001b[0m\u001b[0;34m:\u001b[0m\u001b[0;34m\u001b[0m\u001b[0;34m\u001b[0m\u001b[0m\n\u001b[1;32m    110\u001b[0m         \u001b[0m_pandas_wrapper\u001b[0m \u001b[0;34m=\u001b[0m \u001b[0m_maybe_get_pandas_wrapper\u001b[0m\u001b[0;34m(\u001b[0m\u001b[0mx\u001b[0m\u001b[0;34m)\u001b[0m\u001b[0;34m\u001b[0m\u001b[0;34m\u001b[0m\u001b[0m\n",
      "\u001b[0;32m~/anaconda3/lib/python3.7/site-packages/statsmodels/tsa/filters/_utils.py\u001b[0m in \u001b[0;36m_maybe_get_pandas_wrapper_freq\u001b[0;34m(X, trim)\u001b[0m\n\u001b[1;32m     46\u001b[0m         \u001b[0mindex\u001b[0m \u001b[0;34m=\u001b[0m \u001b[0mX\u001b[0m\u001b[0;34m.\u001b[0m\u001b[0mindex\u001b[0m\u001b[0;34m\u001b[0m\u001b[0;34m\u001b[0m\u001b[0m\n\u001b[1;32m     47\u001b[0m         \u001b[0mfunc\u001b[0m \u001b[0;34m=\u001b[0m \u001b[0m_get_pandas_wrapper\u001b[0m\u001b[0;34m(\u001b[0m\u001b[0mX\u001b[0m\u001b[0;34m,\u001b[0m \u001b[0mtrim\u001b[0m\u001b[0;34m)\u001b[0m\u001b[0;34m\u001b[0m\u001b[0;34m\u001b[0m\u001b[0m\n\u001b[0;32m---> 48\u001b[0;31m         \u001b[0mfreq\u001b[0m \u001b[0;34m=\u001b[0m \u001b[0mindex\u001b[0m\u001b[0;34m.\u001b[0m\u001b[0minferred_freq\u001b[0m\u001b[0;34m\u001b[0m\u001b[0;34m\u001b[0m\u001b[0m\n\u001b[0m\u001b[1;32m     49\u001b[0m         \u001b[0;32mreturn\u001b[0m \u001b[0mfunc\u001b[0m\u001b[0;34m,\u001b[0m \u001b[0mfreq\u001b[0m\u001b[0;34m\u001b[0m\u001b[0;34m\u001b[0m\u001b[0m\n\u001b[1;32m     50\u001b[0m     \u001b[0;32melse\u001b[0m\u001b[0;34m:\u001b[0m\u001b[0;34m\u001b[0m\u001b[0;34m\u001b[0m\u001b[0m\n",
      "\u001b[0;31mAttributeError\u001b[0m: 'Index' object has no attribute 'inferred_freq'"
     ]
    }
   ],
   "source": [
    "from statsmodels.tsa.seasonal import seasonal_decompose\n",
    "decomposed = seasonal_decompose(dfT['y'], model='additive')\n",
    "x = decomposed.plot() #See note below about this"
   ]
  },
  {
   "cell_type": "code",
   "execution_count": 270,
   "metadata": {},
   "outputs": [
    {
     "name": "stdout",
     "output_type": "stream",
     "text": [
      "0 12 7 [ 0.13635233  0.12975671 -0.21110074 -0.20407758  0.20870254 -0.02333586\n",
      "  0.43154941 -0.0756633 ]\n",
      "1 12 7 [ 0.15107795  0.08753323  0.04817059 -0.15501648  0.16168352 -0.01024188\n",
      " -0.01797903  0.01746551]\n",
      "2 12 7 [ 0.04953359 -0.1035295  -0.0645844   0.0885062   0.43912458 -0.3396579\n",
      "  0.23336707 -0.10164988]\n",
      "3 12 7 [ 0.114217   -0.00244066  0.61610605  0.39106851 -0.7874514   0.08385166\n",
      "  0.39981241 -1.47827596]\n",
      "4 12 7 [ 0.00909873 -0.15875576 -0.42298662  0.37975451  0.18263793  0.84872238\n",
      "  0.01218719 -0.36361248]\n",
      "5 12 7 [ 0.37598966 -0.67017333 -0.41146454 -1.12999736 -1.24633089 -0.57932694\n",
      " -0.6441902  -1.13391425]\n",
      "6 12 7 [ 0.20871944 -1.00291044 -1.49976111 -0.41050844 -1.0581961  -0.77774617\n",
      "  0.54290619 -0.48482018]\n",
      "7 12 7 [ 0.0438754  -0.35376378  0.7132112   0.06979587 -0.35557078  0.06212093\n",
      " -0.04974372 -0.53568533]\n",
      "8 12 7 [-0.00060053 -0.03503589  0.11297966 -0.09571886  0.23475522  0.12069947\n",
      " -0.09868098 -0.02758452]\n",
      "9 12 7 [-0.01175291 -0.02745721 -0.07882213 -0.06177384  0.62180945  0.23648011\n",
      " -0.11414636  0.21706123]\n",
      "10 12 7 [ 0.11572444 -0.36619964 -0.46454379  0.13331341 -0.24269506 -0.16209439\n",
      " -0.28856134  0.06264325]\n",
      "11 12 7 [ 0.01945307  0.52322449 -0.13773745  0.24177216  0.34770268 -0.2190419\n",
      " -0.10351292 -0.09857692]\n",
      "12 12 7 [-0.01133843 -0.54696843 -0.46113573 -0.53061521  0.42167875  1.31651402\n",
      " -0.28382699  0.77308302]\n",
      "13 12 7 [ 2.51079280e-04 -2.27389025e-01  2.07134511e-01 -1.33507549e-01\n",
      " -2.83464379e-02  4.04349691e-01  8.09222218e-02 -2.56290926e-01]\n",
      "14 12 7 [ 0.01582713  0.14943128  0.22205821 -0.53386772 -0.37316078  0.30624846\n",
      "  0.25603574 -0.32402231]\n",
      "15 12 7 [ 0.0165912  -0.22524889  0.48405219 -0.05766448  0.22507227  0.1419478\n",
      " -0.33956853  0.15792507]\n",
      "16 12 7 [ 0.02765603  0.14920687 -0.11786606 -0.12066049  0.09512724  0.69331875\n",
      " -1.36032231  0.66394254]\n",
      "17 12 7 [ 0.05212997 -0.92654034 -0.24688032 -0.27693544  1.32390979 -0.91724514\n",
      " -1.95816796 -1.25144631]\n",
      "18 12 7 [ 9.22092884e-03 -1.04319688e-02  4.59951591e-03 -5.77780297e-03\n",
      "  2.92665066e-02 -1.48872204e-02 -4.61965877e-03 -4.24045956e-05]\n",
      "19 12 7 [ 0.0043524   0.26609122 -0.25228101 -0.42759027  0.55137127 -0.42499853\n",
      "  0.6913454  -0.0201126 ]\n",
      "20 12 7 [ 0.10201785 -1.74366974 -0.76765874 -1.20390232 -0.09253761 -1.56412328\n",
      " -1.68242003 -1.03193844]\n",
      "21 12 7 [ 0.01940171  0.17553872 -0.70893994 -0.14218894  0.36893677 -1.90046246\n",
      "  0.99787269  1.2109488 ]\n"
     ]
    }
   ],
   "source": [
    "from statsmodels.tsa.ar_model import AR\n",
    "for i in range(len(df)):\n",
    "    X = np.array(df.iloc[i])\n",
    "    train_data = X[0:6]\n",
    "    test_data = X[6:]\n",
    "    #model = AR(train_data)\n",
    "    model = AR(X)\n",
    "    model_fitted = model.fit()\n",
    "    #print(i,len(X),train_data,test_data,model_fitted.k_ar,model_fitted.params)\n",
    "    print(i,len(X),model_fitted.k_ar,model_fitted.params)"
   ]
  },
  {
   "cell_type": "code",
   "execution_count": 271,
   "metadata": {},
   "outputs": [
    {
     "name": "stderr",
     "output_type": "stream",
     "text": [
      "/home/animeshs/anaconda3/lib/python3.7/site-packages/statsmodels/regression/linear_model.py:1358: RuntimeWarning: invalid value encountered in sqrt\n",
      "  return rho, np.sqrt(sigmasq)\n"
     ]
    },
    {
     "data": {
      "image/png": "[encoded data removed]",
      "text/plain": [
       "<Figure size 432x288 with 1 Axes>"
      ]
     },
     "execution_count": 271,
     "metadata": {},
     "output_type": "execute_result"
    },
    {
     "data": {
      "image/png": "[encoded data removed]",
      "text/plain": [
       "<Figure size 432x288 with 1 Axes>"
      ]
     },
     "metadata": {
      "needs_background": "light"
     },
     "output_type": "display_data"
    },
    {
     "data": {
      "image/png": "[encoded data removed]",
      "text/plain": [
       "<Figure size 432x288 with 1 Axes>"
      ]
     },
     "metadata": {
      "needs_background": "light"
     },
     "output_type": "display_data"
    }
   ],
   "source": [
    "from statsmodels.tsa.stattools import acf, pacf\n",
    "from statsmodels.graphics.tsaplots import plot_acf, plot_pacf\n",
    "#fig, axes = plt.subplots(1,2,figsize=(16,3), dpi= 100)\n",
    "plot_acf(df.iloc[5])#, lags=12)#, ax=axes[0])\n",
    "plot_pacf(df.iloc[5])#, lags=12)#, ax=axes[1])"
   ]
  },
  {
   "cell_type": "code",
   "execution_count": 200,
   "metadata": {},
   "outputs": [
    {
     "data": {
      "text/plain": [
       "Index(['Bifidobacterium', 'Faecalibacterium', 'Bacteroides', 'Lactobacillus',\n",
       "       'Streptococcus', 'Ruminococcus', 'Other', 'Collinsella',\n",
       "       'f__Rikenellaceae;g__', 'f__Ruminococcaceae;g__', 'Roseburia',\n",
       "       'Coprococcus', 'Oscillospira', 'f__[Barnesiellaceae];g__',\n",
       "       'o__Clostridiales;f__;g__', 'Butyricicoccus', 'Ruminococcus',\n",
       "       'Prevotella', 'Escherichia', 'Parabacteroides',\n",
       "       'f__Lachnospiraceae;Other', 'Dialister', 'ds'],\n",
       "      dtype='object')"
      ]
     },
     "execution_count": 200,
     "metadata": {},
     "output_type": "execute_result"
    }
   ],
   "source": [
    "dfT=df.transpose()\n",
    "dfT['ds'] = pd.date_range(start='1/1/2019', periods=len(dfT), freq='M')\n",
    "dfT.columns"
   ]
  },
  {
   "cell_type": "code",
   "execution_count": 190,
   "metadata": {},
   "outputs": [],
   "source": [
    "from fbprophet import Prophet"
   ]
  },
  {
   "cell_type": "code",
   "execution_count": 272,
   "metadata": {},
   "outputs": [
    {
     "name": "stderr",
     "output_type": "stream",
     "text": [
      "INFO:fbprophet:Disabling yearly seasonality. Run prophet with yearly_seasonality=True to override this.\n",
      "INFO:fbprophet:Disabling weekly seasonality. Run prophet with weekly_seasonality=True to override this.\n",
      "INFO:fbprophet:Disabling daily seasonality. Run prophet with daily_seasonality=True to override this.\n",
      "INFO:fbprophet:n_changepoints greater than number of observations.Using 8.\n"
     ]
    },
    {
     "data": {
      "text/plain": [
       "<fbprophet.forecaster.Prophet at 0x7f7b414da190>"
      ]
     },
     "execution_count": 272,
     "metadata": {},
     "output_type": "execute_result"
    }
   ],
   "source": [
    "m = Prophet()\n",
    "dfT['y']=dfT['Bifidobacterium']\n",
    "m.fit(dfT)"
   ]
  },
  {
   "cell_type": "code",
   "execution_count": 273,
   "metadata": {},
   "outputs": [
    {
     "data": {
      "image/png": "[encoded data removed]",
      "text/plain": [
       "<Figure size 720x432 with 1 Axes>"
      ]
     },
     "metadata": {},
     "output_type": "display_data"
    }
   ],
   "source": [
    "future = m.make_future_dataframe(periods=120, freq='M')\n",
    "fcst = m.predict(future)\n",
    "fig = m.plot(fcst)"
   ]
  },
  {
   "cell_type": "code",
   "execution_count": 274,
   "metadata": {},
   "outputs": [
    {
     "data": {
      "text/html": [
       "<div>\n",
       "<style scoped>\n",
       "    .dataframe tbody tr th:only-of-type {\n",
       "        vertical-align: middle;\n",
       "    }\n",
       "\n",
       "    .dataframe tbody tr th {\n",
       "        vertical-align: top;\n",
       "    }\n",
       "\n",
       "    .dataframe thead th {\n",
       "        text-align: right;\n",
       "    }\n",
       "</style>\n",
       "<table border=\"1\" class=\"dataframe\">\n",
       "  <thead>\n",
       "    <tr style=\"text-align: right;\">\n",
       "      <th></th>\n",
       "      <th>ds</th>\n",
       "    </tr>\n",
       "  </thead>\n",
       "  <tbody>\n",
       "    <tr>\n",
       "      <td>127</td>\n",
       "      <td>2029-08-31</td>\n",
       "    </tr>\n",
       "    <tr>\n",
       "      <td>128</td>\n",
       "      <td>2029-09-30</td>\n",
       "    </tr>\n",
       "    <tr>\n",
       "      <td>129</td>\n",
       "      <td>2029-10-31</td>\n",
       "    </tr>\n",
       "    <tr>\n",
       "      <td>130</td>\n",
       "      <td>2029-11-30</td>\n",
       "    </tr>\n",
       "    <tr>\n",
       "      <td>131</td>\n",
       "      <td>2029-12-31</td>\n",
       "    </tr>\n",
       "  </tbody>\n",
       "</table>\n",
       "</div>"
      ],
      "text/plain": [
       "            ds\n",
       "127 2029-08-31\n",
       "128 2029-09-30\n",
       "129 2029-10-31\n",
       "130 2029-11-30\n",
       "131 2029-12-31"
      ]
     },
     "execution_count": 274,
     "metadata": {},
     "output_type": "execute_result"
    }
   ],
   "source": [
    "future.tail()"
   ]
  },
  {
   "cell_type": "code",
   "execution_count": 107,
   "metadata": {},
   "outputs": [
    {
     "ename": "NameError",
     "evalue": "name 'y' is not defined",
     "output_type": "error",
     "traceback": [
      "\u001b[0;31m---------------------------------------------------------------------------\u001b[0m",
      "\u001b[0;31mNameError\u001b[0m                                 Traceback (most recent call last)",
      "\u001b[0;32m<ipython-input-107-9bb93acda4d7>\u001b[0m in \u001b[0;36m<module>\u001b[0;34m\u001b[0m\n\u001b[1;32m      1\u001b[0m \u001b[0;32mfrom\u001b[0m \u001b[0msklearn\u001b[0m \u001b[0;32mimport\u001b[0m \u001b[0mpreprocessing\u001b[0m\u001b[0;34m\u001b[0m\u001b[0;34m\u001b[0m\u001b[0m\n\u001b[1;32m      2\u001b[0m \u001b[0mle\u001b[0m \u001b[0;34m=\u001b[0m \u001b[0mpreprocessing\u001b[0m\u001b[0;34m.\u001b[0m\u001b[0mLabelEncoder\u001b[0m\u001b[0;34m(\u001b[0m\u001b[0;34m)\u001b[0m\u001b[0;34m\u001b[0m\u001b[0;34m\u001b[0m\u001b[0m\n\u001b[0;32m----> 3\u001b[0;31m \u001b[0mle\u001b[0m\u001b[0;34m.\u001b[0m\u001b[0mfit\u001b[0m\u001b[0;34m(\u001b[0m\u001b[0my\u001b[0m\u001b[0;34m)\u001b[0m\u001b[0;34m\u001b[0m\u001b[0;34m\u001b[0m\u001b[0m\n\u001b[0m\u001b[1;32m      4\u001b[0m \u001b[0mlist\u001b[0m\u001b[0;34m(\u001b[0m\u001b[0mle\u001b[0m\u001b[0;34m.\u001b[0m\u001b[0mclasses_\u001b[0m\u001b[0;34m)\u001b[0m\u001b[0;34m\u001b[0m\u001b[0;34m\u001b[0m\u001b[0m\n\u001b[1;32m      5\u001b[0m \u001b[0mvalues\u001b[0m\u001b[0;34m=\u001b[0m\u001b[0mle\u001b[0m\u001b[0;34m.\u001b[0m\u001b[0mtransform\u001b[0m\u001b[0;34m(\u001b[0m\u001b[0my\u001b[0m\u001b[0;34m)\u001b[0m\u001b[0;34m\u001b[0m\u001b[0;34m\u001b[0m\u001b[0m\n",
      "\u001b[0;31mNameError\u001b[0m: name 'y' is not defined"
     ]
    }
   ],
   "source": [
    "from sklearn import preprocessing\n",
    "le = preprocessing.LabelEncoder()\n",
    "le.fit(y)\n",
    "list(le.classes_)\n",
    "values=le.transform(y)\n",
    "print(values)"
   ]
  },
  {
   "cell_type": "code",
   "execution_count": 12,
   "metadata": {},
   "outputs": [
    {
     "data": {
      "text/plain": [
       "[array([0, 1, 2])]"
      ]
     },
     "execution_count": 12,
     "metadata": {},
     "output_type": "execute_result"
    }
   ],
   "source": [
    "from sklearn.preprocessing import OneHotEncoder\n",
    "enc = OneHotEncoder(handle_unknown='ignore')\n",
    "enc.fit(le.transform(y).reshape(-1,1))\n",
    "enc.categories_\n",
    "#print(enc.transform(le.transform(y).reshape(-1,1)))"
   ]
  },
  {
   "cell_type": "code",
   "execution_count": 13,
   "metadata": {},
   "outputs": [],
   "source": [
    "#print(np.array(tf.one_hot(le.transform(y), depth=3)))\n",
    "#vocabulary_feature_column =  tf.feature_column.categorical_column_with_vocabulary_list(key=[\"P\", \"V\", \"K\"],vocabulary_list=[\"P\", \"V\", \"K\"])\n",
    "import numpy as np\n",
    "n_values = np.max(values) + 1\n",
    "Y=np.eye(n_values)[values]"
   ]
  },
  {
   "cell_type": "code",
   "execution_count": 14,
   "metadata": {},
   "outputs": [
    {
     "data": {
      "text/html": [
       "<div>\n",
       "<style scoped>\n",
       "    .dataframe tbody tr th:only-of-type {\n",
       "        vertical-align: middle;\n",
       "    }\n",
       "\n",
       "    .dataframe tbody tr th {\n",
       "        vertical-align: top;\n",
       "    }\n",
       "\n",
       "    .dataframe thead th {\n",
       "        text-align: right;\n",
       "    }\n",
       "</style>\n",
       "<table border=\"1\" class=\"dataframe\">\n",
       "  <thead>\n",
       "    <tr style=\"text-align: right;\">\n",
       "      <th></th>\n",
       "      <th>0</th>\n",
       "      <th>1</th>\n",
       "      <th>2</th>\n",
       "    </tr>\n",
       "  </thead>\n",
       "  <tbody>\n",
       "    <tr>\n",
       "      <th>10</th>\n",
       "      <td>0.0</td>\n",
       "      <td>1.0</td>\n",
       "      <td>0.0</td>\n",
       "    </tr>\n",
       "    <tr>\n",
       "      <th>1</th>\n",
       "      <td>0.0</td>\n",
       "      <td>0.0</td>\n",
       "      <td>1.0</td>\n",
       "    </tr>\n",
       "  </tbody>\n",
       "</table>\n",
       "</div>"
      ],
      "text/plain": [
       "      0    1    2\n",
       "10  0.0  1.0  0.0\n",
       "1   0.0  0.0  1.0"
      ]
     },
     "execution_count": 14,
     "metadata": {},
     "output_type": "execute_result"
    }
   ],
   "source": [
    "#Y=pd.DataFrame(np.array(tf.one_hot(le.transform(y), depth=3)))\n",
    "Y=pd.DataFrame(Y)\n",
    "from sklearn.model_selection import train_test_split\n",
    "X_train, X_test, Y_train, Y_test = train_test_split(X, Y, test_size = 0.1, random_state = 0)\n",
    "X_train.to_csv(\"X_train.csv\", index = False, header = None)\n",
    "X_test.to_csv(\"X_test.csv\", index = False, header = None)\n",
    "Y_train.to_csv(\"Y_train.csv\", index = False, header = None)\n",
    "Y_test.to_csv(\"Y_test.csv\", index = False, header = None)\n",
    "Y_test.head()"
   ]
  },
  {
   "cell_type": "code",
   "execution_count": 15,
   "metadata": {},
   "outputs": [
    {
     "name": "stderr",
     "output_type": "stream",
     "text": [
      "/opt/conda/lib/python3.6/site-packages/sklearn/preprocessing/data.py:645: DataConversionWarning: Data with input dtype int64 were all converted to float64 by StandardScaler.\n",
      "  return self.partial_fit(X, y)\n",
      "/opt/conda/lib/python3.6/site-packages/sklearn/base.py:464: DataConversionWarning: Data with input dtype int64 were all converted to float64 by StandardScaler.\n",
      "  return self.fit(X, **fit_params).transform(X)\n",
      "/opt/conda/lib/python3.6/site-packages/ipykernel_launcher.py:4: DataConversionWarning: Data with input dtype int64 were all converted to float64 by StandardScaler.\n",
      "  after removing the cwd from sys.path.\n"
     ]
    },
    {
     "data": {
      "text/plain": [
       "(32, 3)"
      ]
     },
     "execution_count": 15,
     "metadata": {},
     "output_type": "execute_result"
    }
   ],
   "source": [
    "from sklearn.preprocessing import StandardScaler\n",
    "scaler = StandardScaler()\n",
    "X_train = scaler.fit_transform(X_train)\n",
    "X_test = scaler.transform(X_test)\n",
    "X_train.shape[1],Y_train.shape[1] "
   ]
  },
  {
   "cell_type": "code",
   "execution_count": 16,
   "metadata": {},
   "outputs": [
    {
     "name": "stderr",
     "output_type": "stream",
     "text": [
      "Using TensorFlow backend.\n"
     ]
    }
   ],
   "source": [
    "from keras.models import Sequential\n",
    "from keras.layers import Dense"
   ]
  },
  {
   "cell_type": "code",
   "execution_count": 17,
   "metadata": {},
   "outputs": [
    {
     "name": "stdout",
     "output_type": "stream",
     "text": [
      "WARNING:tensorflow:From /opt/conda/lib/python3.6/site-packages/tensorflow/python/framework/op_def_library.py:263: colocate_with (from tensorflow.python.framework.ops) is deprecated and will be removed in a future version.\n",
      "Instructions for updating:\n",
      "Colocations handled automatically by placer.\n"
     ]
    }
   ],
   "source": [
    "classifier = Sequential()\n",
    "classifier.add(Dense(units = 9, activation = 'relu', input_dim=X_train.shape[1]))\n",
    "classifier.add(Dense(units = 6, activation = 'relu'))\n",
    "classifier.add(Dense(units = Y_train.shape[1] , activation = 'sigmoid'))"
   ]
  },
  {
   "cell_type": "code",
   "execution_count": 18,
   "metadata": {},
   "outputs": [],
   "source": [
    "classifier.compile(optimizer='adam', loss='mean_squared_error', metrics=['accuracy'])"
   ]
  },
  {
   "cell_type": "code",
   "execution_count": 19,
   "metadata": {},
   "outputs": [
    {
     "name": "stdout",
     "output_type": "stream",
     "text": [
      "WARNING:tensorflow:From /opt/conda/lib/python3.6/site-packages/tensorflow/python/ops/math_ops.py:3066: to_int32 (from tensorflow.python.ops.math_ops) is deprecated and will be removed in a future version.\n",
      "Instructions for updating:\n",
      "Use tf.cast instead.\n",
      "Epoch 1/100\n",
      "17/17 [==============================] - 1s 68ms/step - loss: 0.3649 - acc: 0.1176\n",
      "Epoch 2/100\n",
      "17/17 [==============================] - 0s 195us/step - loss: 0.3613 - acc: 0.1176\n",
      "Epoch 3/100\n",
      "17/17 [==============================] - 0s 179us/step - loss: 0.3578 - acc: 0.1765\n",
      "Epoch 4/100\n",
      "17/17 [==============================] - 0s 167us/step - loss: 0.3544 - acc: 0.1765\n",
      "Epoch 5/100\n",
      "17/17 [==============================] - 0s 160us/step - loss: 0.3510 - acc: 0.1765\n",
      "Epoch 6/100\n",
      "17/17 [==============================] - 0s 156us/step - loss: 0.3479 - acc: 0.2353\n",
      "Epoch 7/100\n",
      "17/17 [==============================] - 0s 158us/step - loss: 0.3450 - acc: 0.2353\n",
      "Epoch 8/100\n",
      "17/17 [==============================] - 0s 163us/step - loss: 0.3422 - acc: 0.2353\n",
      "Epoch 9/100\n",
      "17/17 [==============================] - 0s 160us/step - loss: 0.3393 - acc: 0.2353\n",
      "Epoch 10/100\n",
      "17/17 [==============================] - 0s 167us/step - loss: 0.3365 - acc: 0.2353\n",
      "Epoch 11/100\n",
      "17/17 [==============================] - 0s 151us/step - loss: 0.3338 - acc: 0.2353\n",
      "Epoch 12/100\n",
      "17/17 [==============================] - 0s 151us/step - loss: 0.3312 - acc: 0.2353\n",
      "Epoch 13/100\n",
      "17/17 [==============================] - 0s 174us/step - loss: 0.3285 - acc: 0.2353\n",
      "Epoch 14/100\n",
      "17/17 [==============================] - 0s 166us/step - loss: 0.3259 - acc: 0.2353\n",
      "Epoch 15/100\n",
      "17/17 [==============================] - 0s 158us/step - loss: 0.3233 - acc: 0.2353\n",
      "Epoch 16/100\n",
      "17/17 [==============================] - 0s 158us/step - loss: 0.3206 - acc: 0.2353\n",
      "Epoch 17/100\n",
      "17/17 [==============================] - 0s 164us/step - loss: 0.3180 - acc: 0.2353\n",
      "Epoch 18/100\n",
      "17/17 [==============================] - 0s 165us/step - loss: 0.3154 - acc: 0.2353\n",
      "Epoch 19/100\n",
      "17/17 [==============================] - 0s 156us/step - loss: 0.3128 - acc: 0.2353\n",
      "Epoch 20/100\n",
      "17/17 [==============================] - 0s 164us/step - loss: 0.3102 - acc: 0.2353\n",
      "Epoch 21/100\n",
      "17/17 [==============================] - 0s 162us/step - loss: 0.3077 - acc: 0.2353\n",
      "Epoch 22/100\n",
      "17/17 [==============================] - 0s 159us/step - loss: 0.3053 - acc: 0.2353\n",
      "Epoch 23/100\n",
      "17/17 [==============================] - 0s 158us/step - loss: 0.3031 - acc: 0.2353\n",
      "Epoch 24/100\n",
      "17/17 [==============================] - 0s 167us/step - loss: 0.3010 - acc: 0.2353\n",
      "Epoch 25/100\n",
      "17/17 [==============================] - 0s 158us/step - loss: 0.2989 - acc: 0.2353\n",
      "Epoch 26/100\n",
      "17/17 [==============================] - 0s 158us/step - loss: 0.2968 - acc: 0.2353\n",
      "Epoch 27/100\n",
      "17/17 [==============================] - 0s 152us/step - loss: 0.2947 - acc: 0.2353\n",
      "Epoch 28/100\n",
      "17/17 [==============================] - 0s 161us/step - loss: 0.2925 - acc: 0.2941\n",
      "Epoch 29/100\n",
      "17/17 [==============================] - 0s 161us/step - loss: 0.2904 - acc: 0.2941\n",
      "Epoch 30/100\n",
      "17/17 [==============================] - 0s 162us/step - loss: 0.2883 - acc: 0.2941\n",
      "Epoch 31/100\n",
      "17/17 [==============================] - 0s 160us/step - loss: 0.2862 - acc: 0.2941\n",
      "Epoch 32/100\n",
      "17/17 [==============================] - 0s 166us/step - loss: 0.2841 - acc: 0.3529\n",
      "Epoch 33/100\n",
      "17/17 [==============================] - 0s 160us/step - loss: 0.2820 - acc: 0.3529\n",
      "Epoch 34/100\n",
      "17/17 [==============================] - 0s 161us/step - loss: 0.2801 - acc: 0.3529\n",
      "Epoch 35/100\n",
      "17/17 [==============================] - 0s 160us/step - loss: 0.2781 - acc: 0.3529\n",
      "Epoch 36/100\n",
      "17/17 [==============================] - 0s 161us/step - loss: 0.2763 - acc: 0.3529\n",
      "Epoch 37/100\n",
      "17/17 [==============================] - 0s 170us/step - loss: 0.2745 - acc: 0.3529\n",
      "Epoch 38/100\n",
      "17/17 [==============================] - 0s 160us/step - loss: 0.2727 - acc: 0.3529\n",
      "Epoch 39/100\n",
      "17/17 [==============================] - 0s 165us/step - loss: 0.2709 - acc: 0.4118\n",
      "Epoch 40/100\n",
      "17/17 [==============================] - 0s 158us/step - loss: 0.2691 - acc: 0.4118\n",
      "Epoch 41/100\n",
      "17/17 [==============================] - 0s 153us/step - loss: 0.2674 - acc: 0.4118\n",
      "Epoch 42/100\n",
      "17/17 [==============================] - 0s 145us/step - loss: 0.2658 - acc: 0.4118\n",
      "Epoch 43/100\n",
      "17/17 [==============================] - 0s 160us/step - loss: 0.2643 - acc: 0.4118\n",
      "Epoch 44/100\n",
      "17/17 [==============================] - 0s 165us/step - loss: 0.2628 - acc: 0.4118\n",
      "Epoch 45/100\n",
      "17/17 [==============================] - 0s 166us/step - loss: 0.2613 - acc: 0.4118\n",
      "Epoch 46/100\n",
      "17/17 [==============================] - 0s 178us/step - loss: 0.2599 - acc: 0.4118\n",
      "Epoch 47/100\n",
      "17/17 [==============================] - 0s 155us/step - loss: 0.2584 - acc: 0.4118\n",
      "Epoch 48/100\n",
      "17/17 [==============================] - 0s 171us/step - loss: 0.2570 - acc: 0.4118\n",
      "Epoch 49/100\n",
      "17/17 [==============================] - 0s 198us/step - loss: 0.2555 - acc: 0.4118\n",
      "Epoch 50/100\n",
      "17/17 [==============================] - 0s 184us/step - loss: 0.2541 - acc: 0.4118\n",
      "Epoch 51/100\n",
      "17/17 [==============================] - 0s 173us/step - loss: 0.2527 - acc: 0.4118\n",
      "Epoch 52/100\n",
      "17/17 [==============================] - 0s 171us/step - loss: 0.2513 - acc: 0.4118\n",
      "Epoch 53/100\n",
      "17/17 [==============================] - 0s 193us/step - loss: 0.2499 - acc: 0.4118\n",
      "Epoch 54/100\n",
      "17/17 [==============================] - 0s 172us/step - loss: 0.2485 - acc: 0.4118\n",
      "Epoch 55/100\n",
      "17/17 [==============================] - 0s 180us/step - loss: 0.2471 - acc: 0.4118\n",
      "Epoch 56/100\n",
      "17/17 [==============================] - 0s 168us/step - loss: 0.2458 - acc: 0.4118\n",
      "Epoch 57/100\n",
      "17/17 [==============================] - 0s 184us/step - loss: 0.2446 - acc: 0.4118\n",
      "Epoch 58/100\n",
      "17/17 [==============================] - 0s 174us/step - loss: 0.2434 - acc: 0.4118\n",
      "Epoch 59/100\n",
      "17/17 [==============================] - 0s 193us/step - loss: 0.2423 - acc: 0.4118\n",
      "Epoch 60/100\n",
      "17/17 [==============================] - 0s 160us/step - loss: 0.2411 - acc: 0.4118\n",
      "Epoch 61/100\n",
      "17/17 [==============================] - 0s 178us/step - loss: 0.2400 - acc: 0.4118\n",
      "Epoch 62/100\n",
      "17/17 [==============================] - 0s 169us/step - loss: 0.2388 - acc: 0.4706\n",
      "Epoch 63/100\n",
      "17/17 [==============================] - 0s 161us/step - loss: 0.2377 - acc: 0.4706\n",
      "Epoch 64/100\n",
      "17/17 [==============================] - 0s 179us/step - loss: 0.2366 - acc: 0.4706\n",
      "Epoch 65/100\n",
      "17/17 [==============================] - 0s 177us/step - loss: 0.2356 - acc: 0.4706\n",
      "Epoch 66/100\n",
      "17/17 [==============================] - 0s 181us/step - loss: 0.2346 - acc: 0.4706\n",
      "Epoch 67/100\n",
      "17/17 [==============================] - 0s 180us/step - loss: 0.2336 - acc: 0.4706\n",
      "Epoch 68/100\n",
      "17/17 [==============================] - 0s 164us/step - loss: 0.2326 - acc: 0.4706\n",
      "Epoch 69/100\n",
      "17/17 [==============================] - 0s 195us/step - loss: 0.2316 - acc: 0.4706\n",
      "Epoch 70/100\n",
      "17/17 [==============================] - 0s 177us/step - loss: 0.2306 - acc: 0.4706\n",
      "Epoch 71/100\n",
      "17/17 [==============================] - 0s 185us/step - loss: 0.2297 - acc: 0.4706\n",
      "Epoch 72/100\n",
      "17/17 [==============================] - 0s 154us/step - loss: 0.2288 - acc: 0.4706\n",
      "Epoch 73/100\n",
      "17/17 [==============================] - 0s 187us/step - loss: 0.2279 - acc: 0.4706\n",
      "Epoch 74/100\n",
      "17/17 [==============================] - 0s 164us/step - loss: 0.2270 - acc: 0.4706\n",
      "Epoch 75/100\n",
      "17/17 [==============================] - 0s 162us/step - loss: 0.2262 - acc: 0.4706\n",
      "Epoch 76/100\n",
      "17/17 [==============================] - 0s 196us/step - loss: 0.2254 - acc: 0.4706\n",
      "Epoch 77/100\n",
      "17/17 [==============================] - 0s 188us/step - loss: 0.2246 - acc: 0.4706\n",
      "Epoch 78/100\n",
      "17/17 [==============================] - 0s 181us/step - loss: 0.2238 - acc: 0.4706\n",
      "Epoch 79/100\n",
      "17/17 [==============================] - 0s 188us/step - loss: 0.2229 - acc: 0.4706\n",
      "Epoch 80/100\n",
      "17/17 [==============================] - 0s 162us/step - loss: 0.2221 - acc: 0.4706\n",
      "Epoch 81/100\n",
      "17/17 [==============================] - 0s 164us/step - loss: 0.2213 - acc: 0.4706\n",
      "Epoch 82/100\n",
      "17/17 [==============================] - 0s 187us/step - loss: 0.2205 - acc: 0.4706\n",
      "Epoch 83/100\n",
      "17/17 [==============================] - 0s 164us/step - loss: 0.2197 - acc: 0.4706\n",
      "Epoch 84/100\n",
      "17/17 [==============================] - 0s 174us/step - loss: 0.2189 - acc: 0.4706\n",
      "Epoch 85/100\n",
      "17/17 [==============================] - 0s 190us/step - loss: 0.2181 - acc: 0.4706\n",
      "Epoch 86/100\n",
      "17/17 [==============================] - 0s 171us/step - loss: 0.2173 - acc: 0.4706\n",
      "Epoch 87/100\n",
      "17/17 [==============================] - 0s 160us/step - loss: 0.2166 - acc: 0.4706\n",
      "Epoch 88/100\n",
      "17/17 [==============================] - 0s 179us/step - loss: 0.2158 - acc: 0.4706\n",
      "Epoch 89/100\n",
      "17/17 [==============================] - 0s 175us/step - loss: 0.2151 - acc: 0.4706\n",
      "Epoch 90/100\n",
      "17/17 [==============================] - 0s 191us/step - loss: 0.2144 - acc: 0.4706\n",
      "Epoch 91/100\n",
      "17/17 [==============================] - 0s 149us/step - loss: 0.2137 - acc: 0.4706\n",
      "Epoch 92/100\n",
      "17/17 [==============================] - 0s 184us/step - loss: 0.2130 - acc: 0.4706\n",
      "Epoch 93/100\n",
      "17/17 [==============================] - 0s 166us/step - loss: 0.2122 - acc: 0.4706\n",
      "Epoch 94/100\n",
      "17/17 [==============================] - 0s 175us/step - loss: 0.2114 - acc: 0.5294\n",
      "Epoch 95/100\n",
      "17/17 [==============================] - 0s 199us/step - loss: 0.2106 - acc: 0.5294\n",
      "Epoch 96/100\n",
      "17/17 [==============================] - 0s 164us/step - loss: 0.2098 - acc: 0.5294\n",
      "Epoch 97/100\n",
      "17/17 [==============================] - 0s 161us/step - loss: 0.2090 - acc: 0.5294\n",
      "Epoch 98/100\n",
      "17/17 [==============================] - 0s 161us/step - loss: 0.2083 - acc: 0.5294\n",
      "Epoch 99/100\n",
      "17/17 [==============================] - 0s 181us/step - loss: 0.2075 - acc: 0.5294\n",
      "Epoch 100/100\n",
      "17/17 [==============================] - 0s 191us/step - loss: 0.2067 - acc: 0.5294\n"
     ]
    },
    {
     "data": {
      "text/plain": [
       "<keras.callbacks.History at 0x7fa3dc094358>"
      ]
     },
     "execution_count": 19,
     "metadata": {},
     "output_type": "execute_result"
    }
   ],
   "source": [
    "classifier.fit(X_train, Y_train, batch_size = X_train.shape[1],epochs = 100)"
   ]
  },
  {
   "cell_type": "code",
   "execution_count": 20,
   "metadata": {},
   "outputs": [
    {
     "data": {
      "text/plain": [
       "array([[0, 1, 0],\n",
       "       [0, 0, 1]])"
      ]
     },
     "execution_count": 20,
     "metadata": {},
     "output_type": "execute_result"
    }
   ],
   "source": [
    "Y_pred = classifier.predict(X_test)\n",
    "#Y_pred\n",
    "y_pred=(Y_pred.argmax(1)[:,None] == np.arange(Y_pred.shape[1])).astype(int)\n",
    "y_pred"
   ]
  },
  {
   "cell_type": "code",
   "execution_count": 21,
   "metadata": {},
   "outputs": [
    {
     "data": {
      "text/plain": [
       "array([[0, 1, 0],\n",
       "       [0, 0, 1]])"
      ]
     },
     "execution_count": 21,
     "metadata": {},
     "output_type": "execute_result"
    }
   ],
   "source": [
    "y_test=Y_test.values\n",
    "y_test=(y_test.argmax(1)[:,None] == np.arange(y_test.shape[1])).astype(int)\n",
    "y_test"
   ]
  },
  {
   "cell_type": "code",
   "execution_count": 23,
   "metadata": {},
   "outputs": [
    {
     "data": {
      "text/plain": [
       "array([[1, 0],\n",
       "       [0, 1]])"
      ]
     },
     "execution_count": 23,
     "metadata": {},
     "output_type": "execute_result"
    }
   ],
   "source": [
    "from sklearn.metrics import confusion_matrix\n",
    "cm = confusion_matrix(y_test.argmax(axis=1), y_pred.argmax(axis=1))\n",
    "cm"
   ]
  },
  {
   "cell_type": "code",
   "execution_count": null,
   "metadata": {},
   "outputs": [],
   "source": []
  }
 ],
 "metadata": {
  "kernelspec": {
   "display_name": "Python 3",
   "language": "python",
   "name": "python3"
  },
  "language_info": {
   "codemirror_mode": {
    "name": "ipython",
    "version": 3
   },
   "file_extension": ".py",
   "mimetype": "text/x-python",
   "name": "python",
   "nbconvert_exporter": "python",
   "pygments_lexer": "ipython3",
   "version": "3.7.4"
  },
  "varInspector": {
   "cols": {
    "lenName": 16,
    "lenType": 16,
    "lenVar": 40
   },
   "kernels_config": {
    "python": {
     "delete_cmd_postfix": "",
     "delete_cmd_prefix": "del ",
     "library": "var_list.py",
     "varRefreshCmd": "print(var_dic_list())"
    },
    "r": {
     "delete_cmd_postfix": ") ",
     "delete_cmd_prefix": "rm(",
     "library": "var_list.r",
     "varRefreshCmd": "cat(var_dic_list()) "
    }
   },
   "position": {
    "height": "892px",
    "left": "1550px",
    "right": "20px",
    "top": "120px",
    "width": "350px"
   },
   "types_to_exclude": [
    "module",
    "function",
    "builtin_function_or_method",
    "instance",
    "_Feature"
   ],
   "window_display": true
  }
 },
 "nbformat": 4,
 "nbformat_minor": 2
}
