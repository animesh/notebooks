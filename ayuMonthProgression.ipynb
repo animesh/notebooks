{
 "cells": [
  {
   "cell_type": "code",
   "execution_count": 2,
   "metadata": {},
   "outputs": [
    {
     "data": {
      "text/html": [
       "<div>\n",
       "<style scoped>\n",
       "    .dataframe tbody tr th:only-of-type {\n",
       "        vertical-align: middle;\n",
       "    }\n",
       "\n",
       "    .dataframe tbody tr th {\n",
       "        vertical-align: top;\n",
       "    }\n",
       "\n",
       "    .dataframe thead th {\n",
       "        text-align: right;\n",
       "    }\n",
       "</style>\n",
       "<table border=\"1\" class=\"dataframe\">\n",
       "  <thead>\n",
       "    <tr style=\"text-align: right;\">\n",
       "      <th></th>\n",
       "      <th>Jan</th>\n",
       "      <th>Feb</th>\n",
       "      <th>Mar</th>\n",
       "      <th>Apr</th>\n",
       "      <th>May</th>\n",
       "      <th>Jun</th>\n",
       "      <th>Jul</th>\n",
       "      <th>Aug</th>\n",
       "      <th>Sep</th>\n",
       "      <th>Oct</th>\n",
       "      <th>Nov</th>\n",
       "      <th>Dec</th>\n",
       "    </tr>\n",
       "  </thead>\n",
       "  <tbody>\n",
       "    <tr>\n",
       "      <td>Faecalibacterium</td>\n",
       "      <td>0.153629</td>\n",
       "      <td>0.166622</td>\n",
       "      <td>0.168463</td>\n",
       "      <td>0.147737</td>\n",
       "      <td>0.151862</td>\n",
       "      <td>0.272817</td>\n",
       "      <td>0.240526</td>\n",
       "      <td>0.183581</td>\n",
       "      <td>0.159364</td>\n",
       "      <td>0.179426</td>\n",
       "      <td>0.181947</td>\n",
       "      <td>0.175909</td>\n",
       "    </tr>\n",
       "    <tr>\n",
       "      <td>Bifidobacterium</td>\n",
       "      <td>0.162069</td>\n",
       "      <td>0.136300</td>\n",
       "      <td>0.085470</td>\n",
       "      <td>0.144926</td>\n",
       "      <td>0.130479</td>\n",
       "      <td>0.395202</td>\n",
       "      <td>0.083105</td>\n",
       "      <td>0.111890</td>\n",
       "      <td>0.103097</td>\n",
       "      <td>0.244660</td>\n",
       "      <td>0.176965</td>\n",
       "      <td>0.268716</td>\n",
       "    </tr>\n",
       "  </tbody>\n",
       "</table>\n",
       "</div>"
      ],
      "text/plain": [
       "                       Jan       Feb       Mar       Apr       May       Jun  \\\n",
       "Faecalibacterium  0.153629  0.166622  0.168463  0.147737  0.151862  0.272817   \n",
       "Bifidobacterium   0.162069  0.136300  0.085470  0.144926  0.130479  0.395202   \n",
       "\n",
       "                       Jul       Aug       Sep       Oct       Nov       Dec  \n",
       "Faecalibacterium  0.240526  0.183581  0.159364  0.179426  0.181947  0.175909  \n",
       "Bifidobacterium   0.083105  0.111890  0.103097  0.244660  0.176965  0.268716  "
      ]
     },
     "execution_count": 2,
     "metadata": {},
     "output_type": "execute_result"
    }
   ],
   "source": [
    "import pandas as pd\n",
    "data = pd.read_excel(\"/mnt/f/HeLa/ayu/For prediction modeling.xlsx\", index_col=0, sheet_name='Genus OTUs')\n",
    "data.shape\n",
    "data.head(2)"
   ]
  },
  {
   "cell_type": "code",
   "execution_count": 3,
   "metadata": {},
   "outputs": [
    {
     "data": {
      "text/html": [
       "<div>\n",
       "<style scoped>\n",
       "    .dataframe tbody tr th:only-of-type {\n",
       "        vertical-align: middle;\n",
       "    }\n",
       "\n",
       "    .dataframe tbody tr th {\n",
       "        vertical-align: top;\n",
       "    }\n",
       "\n",
       "    .dataframe thead th {\n",
       "        text-align: right;\n",
       "    }\n",
       "</style>\n",
       "<table border=\"1\" class=\"dataframe\">\n",
       "  <thead>\n",
       "    <tr style=\"text-align: right;\">\n",
       "      <th></th>\n",
       "      <th>Unnamed: 13</th>\n",
       "      <th>Temp</th>\n",
       "      <th>Humidity</th>\n",
       "    </tr>\n",
       "  </thead>\n",
       "  <tbody>\n",
       "    <tr>\n",
       "      <td>0</td>\n",
       "      <td>Jan</td>\n",
       "      <td>20.111111</td>\n",
       "      <td>59.259259</td>\n",
       "    </tr>\n",
       "    <tr>\n",
       "      <td>1</td>\n",
       "      <td>Feb</td>\n",
       "      <td>18.758621</td>\n",
       "      <td>64.344828</td>\n",
       "    </tr>\n",
       "  </tbody>\n",
       "</table>\n",
       "</div>"
      ],
      "text/plain": [
       "  Unnamed: 13       Temp   Humidity\n",
       "0         Jan  20.111111  59.259259\n",
       "1         Feb  18.758621  64.344828"
      ]
     },
     "execution_count": 3,
     "metadata": {},
     "output_type": "execute_result"
    }
   ],
   "source": [
    "ts = pd.read_excel(\"/mnt/f/HeLa/ayu/For prediction modeling.xlsx\", skiprows=2, sheet_name='Sheet3')\n",
    "ts=ts.dropna(axis=1, how='all')\n",
    "ts=ts.dropna(axis=0, how='all')\n",
    "ts.shape\n",
    "ts.head(2)"
   ]
  },
  {
   "cell_type": "code",
   "execution_count": 39,
   "metadata": {},
   "outputs": [
    {
     "name": "stdout",
     "output_type": "stream",
     "text": [
      "0.153628708901363 20.11111111111111\n"
     ]
    }
   ],
   "source": [
    "import numpy as np\n",
    "import matplotlib.pyplot as plt\n",
    "a = data.iloc[0,:]\n",
    "b = ts['Temp']\n",
    "a=np.array(a)\n",
    "b=np.array(b)\n",
    "print(a[0],b[0])"
   ]
  },
  {
   "cell_type": "code",
   "execution_count": 33,
   "metadata": {},
   "outputs": [
    {
     "name": "stdout",
     "output_type": "stream",
     "text": [
      "0.9758014756290072\n"
     ]
    },
    {
     "data": {
      "text/plain": [
       "<matplotlib.collections.PathCollection at 0x7f880ab08910>"
      ]
     },
     "execution_count": 33,
     "metadata": {},
     "output_type": "execute_result"
    },
    {
     "data": {
      "image/png": "[encoded data removed]",
      "text/plain": [
       "<Figure size 432x288 with 1 Axes>"
      ]
     },
     "metadata": {
      "needs_background": "light"
     },
     "output_type": "display_data"
    }
   ],
   "source": [
    "dot = np.dot(a, b)\n",
    "norma = np.linalg.norm(a)\n",
    "normb = np.linalg.norm(b)\n",
    "cos = dot / (norma * normb)\n",
    "print(cos)\n",
    "plt.scatter(b,a)"
   ]
  },
  {
   "cell_type": "code",
   "execution_count": 41,
   "metadata": {},
   "outputs": [
    {
     "name": "stdout",
     "output_type": "stream",
     "text": [
      "[[0.15362871 0.16662167 0.16846334 0.14773673 0.15186168 0.27281686\n",
      "  0.24052594 0.18358137 0.15936435 0.17942615 0.18194714 0.17590934]] [[20.11111111 18.75862069 24.4516129  31.2173913  37.31428571 38.78378378\n",
      "  34.08571429 31.84375    32.75       33.35294118 25.61764706 20.25      ]] 64.66508392671047 0.6420716831389723 103.21073197616528 0.9758014756290072 0.9758014756290072 [[11.70961771]]\n"
     ]
    },
    {
     "data": {
      "text/plain": [
       "<matplotlib.collections.PathCollection at 0x7f880905f610>"
      ]
     },
     "execution_count": 41,
     "metadata": {},
     "output_type": "execute_result"
    },
    {
     "data": {
      "image/png": "[encoded data removed]",
      "text/plain": [
       "<Figure size 432x288 with 1 Axes>"
      ]
     },
     "metadata": {
      "needs_background": "light"
     },
     "output_type": "display_data"
    }
   ],
   "source": [
    "from sklearn.metrics.pairwise import cosine_similarity\n",
    "aa = a.reshape(1,12)\n",
    "ba = b.reshape(1,12)\n",
    "cos_lib = cosine_similarity(aa, ba)\n",
    "print(aa,ba,dot,norma,normb,cos,cos_lib[0][0],cos_lib*12)\n",
    "plt.scatter(ba,aa)"
   ]
  },
  {
   "cell_type": "code",
   "execution_count": 48,
   "metadata": {},
   "outputs": [
    {
     "name": "stdout",
     "output_type": "stream",
     "text": [
      "12.630244480552777\n"
     ]
    }
   ],
   "source": [
    "import math\n",
    "angle_in_radians = math.acos(cos)\n",
    "print(math.degrees(angle_in_radians))"
   ]
  },
  {
   "cell_type": "code",
   "execution_count": 49,
   "metadata": {},
   "outputs": [
    {
     "name": "stdout",
     "output_type": "stream",
     "text": [
      "0.0072432458615047145 138.05965158723188 0.006896935555701554 48.243980196938466 0.02072797468032\n"
     ]
    }
   ],
   "source": [
    "print(0.00706797/cos,cos/0.00706797,0.00706797*cos,12*math.degrees(angle_in_radians)/math.pi,math.pi/(12*math.degrees(angle_in_radians)))"
   ]
  },
  {
   "cell_type": "code",
   "execution_count": 75,
   "metadata": {},
   "outputs": [
    {
     "name": "stdout",
     "output_type": "stream",
     "text": [
      "0.0\n"
     ]
    },
    {
     "data": {
      "image/png": "[encoded data removed]",
      "text/plain": [
       "<Figure size 432x288 with 1 Axes>"
      ]
     },
     "metadata": {
      "needs_background": "light"
     },
     "output_type": "display_data"
    }
   ],
   "source": [
    "#https://github.com/qingkaikong/blog/tree/master/2017_01_detect_periodic_signal\n",
    "from scipy import fft, arange, signal\n",
    "#tempC=b\n",
    "tempC=np.sin(len(b))\n",
    "tempNorm = tempC - np.mean(tempC)\n",
    "plt.plot(tempC)\n",
    "print(tempNorm)"
   ]
  },
  {
   "cell_type": "code",
   "execution_count": 66,
   "metadata": {},
   "outputs": [
    {
     "data": {
      "text/plain": [
       "[<matplotlib.lines.Line2D at 0x7f880b131d50>]"
      ]
     },
     "execution_count": 66,
     "metadata": {},
     "output_type": "execute_result"
    },
    {
     "data": {
      "image/png": "[encoded data removed]",
      "text/plain": [
       "<Figure size 720x576 with 1 Axes>"
      ]
     },
     "metadata": {
      "needs_background": "light"
     },
     "output_type": "display_data"
    }
   ],
   "source": [
    "fs = 12\n",
    "f, Pxx = signal.periodogram(tempNorm, fs = fs, window='hanning', scaling='spectrum')\n",
    "#f, Pxx = signal.periodogram(tempNorm, fs = fs, window='fft', scaling='spectrum')\n",
    "plt.figure(figsize = (10, 8))\n",
    "plt.plot(f, Pxx)"
   ]
  },
  {
   "cell_type": "code",
   "execution_count": 72,
   "metadata": {},
   "outputs": [
    {
     "name": "stdout",
     "output_type": "stream",
     "text": [
      "[0.         0.08333333 0.16666667 0.25       0.33333333 0.41666667\n",
      " 0.5        0.58333333 0.66666667 0.75       0.83333333 0.91666667]\n"
     ]
    },
    {
     "data": {
      "image/png": "[encoded data removed]",
      "text/plain": [
       "<Figure size 432x288 with 1 Axes>"
      ]
     },
     "metadata": {
      "needs_background": "light"
     },
     "output_type": "display_data"
    }
   ],
   "source": [
    "from statsmodels import api as sm\n",
    "acf = sm.tsa.acf(tempNorm, nlags=len(tempNorm))\n",
    "lag = arange(len(tempNorm)) / 2. / 6.\n",
    "plt.plot(lag, acf)\n",
    "print(lag)"
   ]
  },
  {
   "cell_type": "code",
   "execution_count": 22,
   "metadata": {},
   "outputs": [
    {
     "name": "stdout",
     "output_type": "stream",
     "text": [
      "[ 2.18188326+0.j         -0.16591691+0.00989032j  0.13563814+0.09050337j\n",
      " -0.12608168-0.11163723j -0.00896535+0.08014375j  0.0313069 -0.02645929j\n",
      " -0.07030096+0.j          0.0313069 +0.02645929j -0.00896535-0.08014375j\n",
      " -0.12608168+0.11163723j  0.13563814-0.09050337j -0.16591691-0.00989032j] 12\n"
     ]
    },
    {
     "data": {
      "text/plain": [
       "<matplotlib.collections.PathCollection at 0x7f880c886750>"
      ]
     },
     "execution_count": 22,
     "metadata": {},
     "output_type": "execute_result"
    },
    {
     "data": {
      "image/png": "[encoded data removed]",
      "text/plain": [
       "<Figure size 432x288 with 1 Axes>"
      ]
     },
     "metadata": {
      "needs_background": "light"
     },
     "output_type": "display_data"
    }
   ],
   "source": [
    "import scipy as sp\n",
    "import scipy.fftpack\n",
    "temp = a\n",
    "#temp = b\n",
    "temp_fft = sp.fftpack.fft(temp)\n",
    "print(temp_fft,len(temp_fft))\n",
    "plt.scatter(temp,temp_fft)"
   ]
  },
  {
   "cell_type": "code",
   "execution_count": 23,
   "metadata": {
    "scrolled": true
   },
   "outputs": [
    {
     "name": "stdout",
     "output_type": "stream",
     "text": [
      "[4.76061457e+00 2.76262401e-02 2.65885657e-02 2.83594593e-02\n",
      " 6.50339837e-03 1.68021643e-03 4.94222524e-03 1.68021643e-03\n",
      " 6.50339837e-03 2.83594593e-02 2.65885657e-02 2.76262401e-02] 12\n"
     ]
    },
    {
     "data": {
      "text/plain": [
       "<matplotlib.collections.PathCollection at 0x7f880c47b5d0>"
      ]
     },
     "execution_count": 23,
     "metadata": {},
     "output_type": "execute_result"
    },
    {
     "data": {
      "image/png": "[encoded data removed]",
      "text/plain": [
       "<Figure size 432x288 with 1 Axes>"
      ]
     },
     "metadata": {
      "needs_background": "light"
     },
     "output_type": "display_data"
    }
   ],
   "source": [
    "temp_psd = np.abs(temp_fft) ** 2\n",
    "print(temp_psd,len(temp_psd))\n",
    "plt.scatter(temp,temp_psd)"
   ]
  },
  {
   "cell_type": "code",
   "execution_count": 24,
   "metadata": {},
   "outputs": [
    {
     "data": {
      "text/plain": [
       "<matplotlib.collections.PathCollection at 0x7f880c38e950>"
      ]
     },
     "execution_count": 24,
     "metadata": {},
     "output_type": "execute_result"
    },
    {
     "data": {
      "image/png": "[encoded data removed]",
      "text/plain": [
       "<Figure size 432x288 with 1 Axes>"
      ]
     },
     "metadata": {
      "needs_background": "light"
     },
     "output_type": "display_data"
    }
   ],
   "source": [
    "fftfreq = sp.fftpack.fftfreq(len(temp_psd), 1. / 12)\n",
    "i = abs(fftfreq) > 0\n",
    "#i = fftfreq > 0\n",
    "plt.scatter(fftfreq[i], 10 * np.log10(temp_psd[i]))"
   ]
  },
  {
   "cell_type": "code",
   "execution_count": 30,
   "metadata": {},
   "outputs": [
    {
     "name": "stdout",
     "output_type": "stream",
     "text": [
      "[ 1.          0.31150047 -0.30354991 -0.25125967 -0.05992153 -0.19178332\n",
      " -0.11854059  0.03197848  0.05596741  0.00931476  0.00556213  0.01073177]\n"
     ]
    },
    {
     "name": "stderr",
     "output_type": "stream",
     "text": [
      "/home/animeshs/anaconda3/lib/python3.7/site-packages/statsmodels/tsa/stattools.py:541: FutureWarning: fft=True will become the default in a future version of statsmodels. To suppress this warning, explicitly set fft=False.\n",
      "  warnings.warn(msg, FutureWarning)\n"
     ]
    }
   ],
   "source": [
    "import statsmodels.api as sm\n",
    "#if(max(sm.tsa.acf(np.array(df.iloc[i]), nlags=12))!=1):\n",
    "print((sm.tsa.acf(a, nlags=12)))"
   ]
  },
  {
   "cell_type": "code",
   "execution_count": 31,
   "metadata": {
    "scrolled": true
   },
   "outputs": [
    {
     "name": "stdout",
     "output_type": "stream",
     "text": [
      "(0, 'Faecalibacterium', array([ 1.        ,  0.31150047, -0.30354991, -0.25125967, -0.05992153,\n",
      "       -0.19178332, -0.11854059,  0.03197848,  0.05596741,  0.00931476,\n",
      "        0.00556213,  0.01073177]))\n",
      "(1, 'Bifidobacterium', array([ 1.        , -0.18552172, -0.02226848, -0.45187151,  0.15901265,\n",
      "       -0.02457722,  0.30847599, -0.08301071, -0.05477172, -0.0998049 ,\n",
      "       -0.03691822, -0.00874414]))\n",
      "(2, 'Bacteroides', array([ 1.        , -0.05243536,  0.47996502, -0.06421435,  0.25746569,\n",
      "       -0.39902979,  0.10323196, -0.31739699, -0.15784787, -0.21046895,\n",
      "       -0.05877889, -0.08049046]))\n",
      "(3, 'Lactobacillus', array([ 1.        ,  0.41454371,  0.38401322, -0.05486186, -0.18870864,\n",
      "       -0.2457329 , -0.25206386, -0.29372869, -0.16151896, -0.13328967,\n",
      "        0.015316  ,  0.01603166]))\n",
      "(4, 'Streptococcus', array([ 1.        ,  0.16917928, -0.35248973, -0.07305164,  0.15884727,\n",
      "        0.20592899, -0.10628282, -0.21037236, -0.14758169, -0.09501653,\n",
      "       -0.03045828, -0.01870248]))\n",
      "(5, 'Other', array([ 1.        , -0.21091579, -0.09613435, -0.16693136,  0.04979896,\n",
      "       -0.18998789,  0.06996846, -0.09373508,  0.23453426, -0.16514125,\n",
      "        0.09300951, -0.02446548]))\n",
      "(6, 'Roseburia', array([ 1.        ,  0.68864662,  0.32025188,  0.15848639, -0.05823756,\n",
      "       -0.2946593 , -0.45614017, -0.35877335, -0.20043737, -0.18373419,\n",
      "       -0.10343307, -0.01196988]))\n",
      "(7, 'Ruminococcus', array([ 1.        ,  0.4005195 , -0.23169321, -0.54966979, -0.21226385,\n",
      "        0.05037126,  0.07079795, -0.1062905 , -0.0033117 , -0.00434816,\n",
      "        0.06975093,  0.01613759]))\n",
      "(8, 'Collinsella', array([ 1.        , -0.12666185,  0.18441013,  0.00622123, -0.23951309,\n",
      "       -0.12690229, -0.16021263, -0.18255469,  0.2003926 , -0.19599787,\n",
      "        0.1113178 ,  0.02950065]))\n",
      "(9, 'f__Ruminococcaceae;g__', array([ 1.        ,  0.71691004,  0.34855891,  0.13049011,  0.03818735,\n",
      "       -0.09505533, -0.27539532, -0.40184811, -0.41898657, -0.31656244,\n",
      "       -0.18416122, -0.04213743]))\n",
      "(10, 'Coprococcus', array([ 1.        ,  0.56054547,  0.33630505,  0.19885031, -0.10432366,\n",
      "       -0.27513203, -0.23123637, -0.3722415 , -0.30591908, -0.14718724,\n",
      "       -0.12147737, -0.03818357]))\n",
      "(11, 'Butyricicoccus', array([ 1.        ,  0.33110654,  0.04733556, -0.02303116,  0.22135602,\n",
      "       -0.02298002, -0.30313496, -0.09830501, -0.11252758, -0.1588134 ,\n",
      "       -0.27683357, -0.10417242]))\n",
      "(12, 'Oscillospira', array([ 1.        ,  0.30802407,  0.24991656, -0.04251469,  0.10395198,\n",
      "        0.02165499, -0.18922745, -0.18777187, -0.32015846, -0.25735213,\n",
      "       -0.16047439, -0.02604861]))\n",
      "(13, 'Dialister', array([ 1.        , -0.12292698,  0.10222409, -0.27869897,  0.18752044,\n",
      "       -0.25752001,  0.18751726, -0.04355241,  0.0546324 , -0.28789373,\n",
      "       -0.05394914,  0.01264704]))\n",
      "(14, 'Ruminococcus', array([ 1.00000000e+00,  3.22125692e-01,  1.26952023e-01,  8.29139080e-02,\n",
      "       -1.19431708e-01, -1.55130780e-01, -3.47254029e-01, -8.48539928e-02,\n",
      "       -1.58384047e-01, -1.28017327e-01, -1.24414246e-04, -3.87953250e-02]))\n",
      "(15, 'f__Rikenellaceae;g__', array([ 1.        ,  0.58752137,  0.35541734,  0.140857  , -0.01855324,\n",
      "       -0.21426105, -0.33750038, -0.43173802, -0.30731315, -0.14434862,\n",
      "       -0.09259411, -0.03748715]))\n",
      "(16, 'f__Lachnospiraceae;Other', array([ 1.        ,  0.04268765,  0.21303117, -0.09219643, -0.22448069,\n",
      "       -0.32086207, -0.19628181, -0.0617188 ,  0.10886043, -0.15080369,\n",
      "        0.21144215, -0.0296779 ]))\n",
      "(17, 'Blautia', array([ 1.        ,  0.28083604,  0.32699861,  0.12551287, -0.05637794,\n",
      "       -0.40087659, -0.2347215 , -0.1985078 , -0.13317999, -0.21962559,\n",
      "        0.10946936, -0.09952747]))\n",
      "(18, 'Escherichia', array([ 1.        , -0.11973721, -0.14456671, -0.2126999 , -0.24269709,\n",
      "        0.1739534 ,  0.00638781,  0.0316401 ,  0.01466887,  0.01428016,\n",
      "       -0.02427786,  0.00304843]))\n",
      "(19, 'f__Lachnospiraceae;g_', array([ 1.        ,  0.42101598,  0.11830392, -0.04188138, -0.19507052,\n",
      "       -0.27384702, -0.22657207, -0.17584546, -0.08973368,  0.08110022,\n",
      "       -0.10574614, -0.01172387]))\n",
      "(20, 'Parabacteroides', array([ 1.00000000e+00, -4.73619895e-01,  4.81334791e-01, -6.02962468e-01,\n",
      "        3.96108837e-01, -3.38016915e-01,  3.61643627e-01, -1.70115694e-01,\n",
      "        1.18597377e-01, -2.07936097e-01,  6.23231548e-04, -6.56567949e-02]))\n",
      "(21, 'o__Clostridiales;f__;g__', array([ 1.        , -0.28844745,  0.24949138, -0.48965179,  0.17615189,\n",
      "       -0.24464863,  0.27345638, -0.17746382,  0.0291135 , -0.03073696,\n",
      "        0.02995071, -0.02721521]))\n",
      "(22, 'Prevotella', array([ 1.        , -0.35634827,  0.14798979, -0.21195599,  0.11403534,\n",
      "       -0.28054355,  0.02271564, -0.12221787,  0.21594456, -0.0909596 ,\n",
      "        0.09295669, -0.03161675]))\n",
      "(23, 'Clostridium', array([ 1.00000000e+00,  2.38943402e-01,  8.51812677e-02, -4.50001083e-02,\n",
      "       -2.70521303e-01, -2.86789667e-01, -8.45657726e-02, -1.38795135e-01,\n",
      "       -1.10961529e-01,  1.45037794e-01,  7.19747632e-04, -3.32486957e-02]))\n",
      "(24, 'f__[Barnesiellaceae];g__', array([ 1.        ,  0.66406409,  0.60537978,  0.17594604,  0.08541375,\n",
      "       -0.25652083, -0.25096407, -0.46749082, -0.38795302, -0.35949919,\n",
      "       -0.19331346, -0.11506227]))\n",
      "(25, 'Other', array([ 1.        ,  0.23712885, -0.38748608, -0.51172676, -0.03060231,\n",
      "        0.06274812,  0.11731839, -0.02922328,  0.04667359,  0.01635413,\n",
      "       -0.01230533, -0.00887933]))\n",
      "(26, 'Dorea', array([ 1.        , -0.10268855,  0.18809294,  0.07306836, -0.317431  ,\n",
      "       -0.22203789, -0.04242794, -0.23953442,  0.18216361, -0.11920836,\n",
      "        0.13005154, -0.03004828]))\n",
      "(27, 'Lachnospira', array([ 1.        ,  0.56898682,  0.12004224,  0.0049267 ,  0.02911862,\n",
      "       -0.20207558, -0.24125426, -0.20635638, -0.20959404, -0.23909868,\n",
      "       -0.10920071, -0.01549475]))\n",
      "(28, 'o__RF39;f__;g__', array([ 1.        ,  0.33716649, -0.36356831, -0.35081579,  0.24829677,\n",
      "        0.23214586, -0.13848377, -0.38688709, -0.21063188,  0.01849641,\n",
      "        0.08021716,  0.03406415]))\n",
      "(29, 'o__Clostridiales;Other;Other', array([ 1.        , -0.0137519 , -0.21584859,  0.1461878 ,  0.17338059,\n",
      "       -0.18095857, -0.23004652, -0.0280215 , -0.14014377, -0.04600323,\n",
      "        0.00126863,  0.03393705]))\n",
      "(30, 'SMB53', array([ 1.        ,  0.18598791, -0.05439202, -0.33925917, -0.25681738,\n",
      "       -0.05931281,  0.33799265,  0.03638665, -0.09769414, -0.11206453,\n",
      "       -0.15185175,  0.01102459]))\n",
      "(31, 'f__Erysipelotrichaceae;Other', array([ 1.        , -0.29685137,  0.05992727, -0.33458484, -0.00276214,\n",
      "       -0.20402354,  0.39573202, -0.15241477,  0.08093748, -0.02273251,\n",
      "       -0.01152125, -0.01170636]))\n",
      "(32, 'Slackia', array([ 1.        ,  0.11995841,  0.21625304, -0.374782  ,  0.0943419 ,\n",
      "       -0.02869939,  0.14630838, -0.24504023, -0.22709722, -0.15758467,\n",
      "       -0.07752333,  0.03386511]))\n",
      "(33, 'Paraprevotell', array([ 1.        , -0.30081784, -0.0241644 , -0.08688992, -0.02687327,\n",
      "       -0.04028537,  0.15669346, -0.24209479,  0.20860366, -0.19692217,\n",
      "        0.06007497, -0.00732433]))\n",
      "(34, 'f__Rikenellaceae;Other', array([ 1.        ,  0.46812232,  0.36167944,  0.16375941, -0.032808  ,\n",
      "       -0.1721579 , -0.36507074, -0.37298085, -0.26371002, -0.13108053,\n",
      "       -0.12384675, -0.03190639]))\n",
      "(35, 'Haemophilus', array([ 1.00000000e+00,  1.74791289e-01, -1.77984117e-01, -2.28687324e-01,\n",
      "       -8.21046741e-02,  1.59047387e-02, -1.55138454e-01, -5.29939727e-02,\n",
      "       -1.33473935e-02,  3.06825077e-02, -1.03831612e-02, -7.39438725e-04]))\n",
      "(36, 'f__Gemellaceae;g__', array([ 1.00000000e+00,  4.00548181e-02, -2.89247052e-01, -5.07522742e-02,\n",
      "       -1.21054756e-01,  3.20981130e-04,  3.61122626e-01, -3.73649938e-02,\n",
      "       -1.68297100e-01, -1.41310725e-01, -1.02667794e-01,  9.19626943e-03]))\n",
      "(37, 'f__Clostridiaceae;g__', array([ 1.        ,  0.4179858 ,  0.01901501, -0.33091268, -0.41332401,\n",
      "       -0.20572288, -0.07431986, -0.04763138, -0.00289234,  0.06814915,\n",
      "        0.02155618,  0.048097  ]))\n",
      "(38, 'Anaerostipes', array([ 1.        ,  0.17694715, -0.07143125, -0.14568651, -0.07588508,\n",
      "       -0.02578678, -0.02641526,  0.27230223, -0.09770428, -0.26243642,\n",
      "       -0.22276605, -0.02113774]))\n",
      "(39, 'Veillonella', array([ 1.        , -0.1206418 ,  0.31703357, -0.1543987 , -0.06270205,\n",
      "        0.02656853,  0.00235244, -0.14282648, -0.08035686, -0.18987506,\n",
      "       -0.02580942, -0.06934418]))\n",
      "(40, 'Klebsiella', array([ 1.        ,  0.21603129, -0.21867941, -0.20952253, -0.17156365,\n",
      "       -0.05857784, -0.0711059 , -0.07702833,  0.0125637 ,  0.03970922,\n",
      "        0.02583813,  0.01233532]))\n",
      "(41, 'Holdemania', array([ 1.00000000e+00, -1.21971376e-01,  5.35294082e-02, -3.21543578e-01,\n",
      "        1.13657787e-01,  2.44509576e-01, -1.76418026e-01, -6.19869811e-02,\n",
      "       -2.52879907e-01, -3.25266934e-04, -2.03917692e-02,  4.38201329e-02]))\n",
      "(42, 'Adlercreutzia', array([ 1.        , -0.16164372,  0.17008188, -0.22293045,  0.03638833,\n",
      "       -0.07421626,  0.04183113, -0.26241548,  0.03743273, -0.08612592,\n",
      "        0.0157133 ,  0.00588447]))\n",
      "(43, 'f__;g__', array([ 1.        , -0.25134221,  0.05533257, -0.13348415,  0.36460041,\n",
      "       -0.3309707 , -0.07619519, -0.00480434,  0.0243175 , -0.26426151,\n",
      "       -0.04608809,  0.1628957 ]))\n",
      "(44, 'f__Coriobacteriaceae;g__', array([ 1.        ,  0.22765831,  0.02187081, -0.2938192 , -0.0152402 ,\n",
      "       -0.18384537, -0.15289557, -0.05300385, -0.04936915,  0.01509004,\n",
      "       -0.02843182,  0.011986  ]))\n",
      "(45, 'f__[Mogibacteriaceae];g__', array([ 1.        , -0.62754968,  0.50922331, -0.44798154,  0.2883998 ,\n",
      "       -0.24761284,  0.0438477 , -0.15225761,  0.15124665, -0.04660175,\n",
      "        0.03560171, -0.00631575]))\n",
      "(46, 'Lachnobacterium', array([ 1.        , -0.06296751,  0.22453323, -0.11828934,  0.07726867,\n",
      "       -0.10904413,  0.06224932, -0.17484199, -0.14704655, -0.1976494 ,\n",
      "       -0.0205777 , -0.03363458]))\n",
      "(47, 'Odoribacter', array([ 1.        ,  0.42039753,  0.55058765,  0.06127184,  0.11030601,\n",
      "       -0.32035331, -0.22708361, -0.41496895, -0.28372522, -0.21851145,\n",
      "       -0.09074176, -0.08717872]))\n",
      "(48, 'Eubacterium', array([ 1.        , -0.10330826,  0.24143214,  0.03958677, -0.16245918,\n",
      "        0.14951981, -0.19616743,  0.05765367, -0.246642  , -0.16880474,\n",
      "       -0.13271794,  0.02190716]))\n",
      "(49, 'Butyricimonas', array([ 1.        ,  0.67741431,  0.49920656,  0.1090142 , -0.07096998,\n",
      "       -0.33618082, -0.3502172 , -0.41145115, -0.3186479 , -0.2119283 ,\n",
      "       -0.04678075, -0.03945897]))\n",
      "(50, 'Rothia', array([ 1.        , -0.28931176,  0.23412465, -0.17192602, -0.02735462,\n",
      "       -0.34569226,  0.01742822, -0.03296235,  0.02797975,  0.03645384,\n",
      "        0.0442643 ,  0.00699624]))\n",
      "(51, 'Eggerthella', array([ 1.        ,  0.15254832,  0.20183148, -0.21543721,  0.03699609,\n",
      "       -0.23797185, -0.31784375, -0.07341013, -0.06179953,  0.03679411,\n",
      "       -0.05665321,  0.03494567]))\n",
      "(52, 'Actinomyces', array([ 1.        , -0.21534094, -0.32738001, -0.03430171,  0.26931236,\n",
      "       -0.17153859, -0.16453358,  0.08213524,  0.00453059,  0.11487789,\n",
      "       -0.04311042, -0.01465084]))\n",
      "(53, 'f__Carnobacteriaceae;Other', array([ 1.        ,  0.40687563, -0.0659004 , -0.22467077, -0.19863842,\n",
      "       -0.16076974,  0.08458987,  0.1404151 , -0.09937557, -0.22462828,\n",
      "       -0.14506279, -0.01283463]))\n",
      "(54, 'Turicibacter', array([ 1.00000000e+00,  1.50243300e-01, -2.11738883e-01, -4.40466799e-01,\n",
      "       -3.10776529e-01,  2.24985378e-01,  3.08326037e-01,  1.76561841e-01,\n",
      "       -9.01029372e-02, -1.92045995e-01, -1.14057167e-01, -9.28246048e-04]))\n",
      "(55, 'f__Leuconostocaceae;Other', array([ 1.        ,  0.30173075, -0.15431353,  0.05719734,  0.01436213,\n",
      "       -0.23160876, -0.23798985, -0.04619715, -0.1739805 , -0.06693834,\n",
      "        0.0644237 , -0.0266858 ]))\n",
      "(56, 'Lactococcus', array([ 1.        ,  0.0432483 ,  0.23176257, -0.11342335, -0.11866316,\n",
      "       -0.18600422, -0.14228049, -0.23833118, -0.02938357, -0.21551969,\n",
      "        0.22942058,  0.0391742 ]))\n",
      "(57, 'Catenibacterium', array([ 1.        , -0.08661582, -0.12238325, -0.25565653, -0.40399516,\n",
      "        0.39917703,  0.100588  , -0.02254693, -0.04513745, -0.20719063,\n",
      "        0.06564734,  0.07811339]))\n",
      "(58, 'f__[Barnesiellaceae];Other', array([ 1.        ,  0.65033527,  0.51748559,  0.19231032,  0.08307135,\n",
      "       -0.16440291, -0.21581866, -0.38403971, -0.34864884, -0.39458632,\n",
      "       -0.29530385, -0.14040225]))\n",
      "(59, 'Sutterella', array([ 1.        ,  0.05003191, -0.03300261, -0.04805961, -0.03989505,\n",
      "       -0.05899341, -0.05896541, -0.06061962, -0.07730198, -0.09726265,\n",
      "       -0.08448841,  0.00855684]))\n",
      "(60, 'f__Christensenellaceae;g__', array([ 1.        , -0.14026073, -0.27575344, -0.28667624,  0.28380583,\n",
      "       -0.07288218, -0.03373616, -0.00885329,  0.20161035, -0.05532514,\n",
      "       -0.05936284, -0.05256616]))\n",
      "(61, 'Prevotella', array([ 1.        ,  0.35877475, -0.11717736, -0.23033625, -0.37840922,\n",
      "       -0.20983265, -0.08860489, -0.05192363,  0.07039663,  0.07355631,\n",
      "        0.030566  ,  0.04299031]))\n",
      "(62, 'f__Erysipelotrichaceae;g__', array([ 1.        ,  0.35340867,  0.39507011, -0.09372968, -0.12759621,\n",
      "       -0.15614303, -0.18672424, -0.22076744, -0.25082576, -0.13089007,\n",
      "       -0.10959115,  0.0277888 ]))\n",
      "(63, 'Clostridium', array([ 1.        ,  0.19556123,  0.3942124 ,  0.06761223, -0.1794075 ,\n",
      "       -0.33184261, -0.20813042, -0.26246561, -0.12693536, -0.03446874,\n",
      "       -0.0096949 , -0.00444074]))\n",
      "(64, 'o__Streptophyta;f__;g_', array([ 1.        , -0.06032436, -0.18251097, -0.29286692, -0.10409974,\n",
      "       -0.06678436,  0.22677512, -0.09772539,  0.12067732, -0.02314527,\n",
      "        0.00227614, -0.02227158]))\n",
      "(65, 'f__Clostridiaceae;Other', array([ 1.        ,  0.16396033,  0.04434068, -0.26409999,  0.02865831,\n",
      "        0.14060807,  0.11487506, -0.24232395, -0.33414643, -0.09552426,\n",
      "       -0.13695059,  0.08060277]))\n",
      "(66, 'Staphylococcus', array([ 1.        ,  0.05202097, -0.10178651, -0.02766022,  0.18079032,\n",
      "        0.13825648, -0.27818813, -0.08252969, -0.14182428, -0.10942724,\n",
      "       -0.10059957, -0.02905212]))\n",
      "(67, 'f__Enterococcaceae;Other', array([ 1.        , -0.03359924, -0.16185588, -0.27958778,  0.32527835,\n",
      "       -0.04875785, -0.11719292, -0.18186444, -0.07727935,  0.02886827,\n",
      "        0.03524443,  0.01074641]))\n",
      "(68, 'Coprobacillus', array([ 1.        ,  0.26026747,  0.07104954,  0.15555637, -0.05571244,\n",
      "       -0.10453365, -0.12374486, -0.12730695, -0.16391134, -0.1815544 ,\n",
      "       -0.19227022, -0.03783951]))\n",
      "(69, 'Granulicatella', array([ 1.        , -0.35206348,  0.35023601, -0.29981468,  0.03457969,\n",
      "       -0.28959368,  0.0423487 , -0.19712442,  0.16185533,  0.07800567,\n",
      "       -0.0214863 , -0.00694284]))\n",
      "(70, 'f__Pasteurellaceae;Other', array([ 1.        ,  0.02126403, -0.18623622, -0.15715123, -0.08502977,\n",
      "       -0.02064223, -0.09868161, -0.05968857,  0.02398746,  0.03307964,\n",
      "        0.02244746,  0.00665106]))\n"
     ]
    },
    {
     "name": "stdout",
     "output_type": "stream",
     "text": [
      "(71, 'f__Rs-045;g_', array([ 1.        ,  0.21260116, -0.10609737,  0.07085027,  0.22411523,\n",
      "        0.03598193, -0.30777111, -0.08168085, -0.17078174, -0.17785411,\n",
      "       -0.11657217, -0.08279124]))\n",
      "(72, 'Enterococcus', array([ 1.00000000e+00,  4.69410616e-01, -1.24431064e-01, -1.30578144e-01,\n",
      "       -1.08773794e-01, -1.50050785e-01, -1.69394934e-01, -1.84102473e-01,\n",
      "       -1.08915923e-01,  1.13788020e-04,  1.15407021e-02, -4.81798817e-03]))\n",
      "(73, 'Bilophila', array([ 1.        , -0.32567237, -0.11540403,  0.15111528, -0.25908707,\n",
      "        0.11244077,  0.14539297, -0.19597936,  0.22278273, -0.09939515,\n",
      "       -0.05033892, -0.08585486]))\n",
      "(74, 'CW040;f__;g__', array([ 1.        , -0.16753389,  0.05054081, -0.09714459, -0.40855841,\n",
      "        0.13662696, -0.07349158,  0.29869506,  0.05877301, -0.00577556,\n",
      "       -0.11387729, -0.17825449]))\n",
      "(75, 'Megasphaera', array([ 1.        , -0.05013117, -0.19602564, -0.17565374, -0.37094191,\n",
      "        0.07115726,  0.36127795, -0.12618799,  0.0433901 , -0.06282165,\n",
      "       -0.03375053,  0.03968732]))\n",
      "(76, 'Anaerofustis', array([ 1.        ,  0.40608723,  0.33564506,  0.08504045,  0.07213553,\n",
      "       -0.08778349, -0.19817895, -0.099427  , -0.29056058, -0.30203141,\n",
      "       -0.30421212, -0.1167147 ]))\n",
      "(77, 'Fusobacterium', array([ 1.        , -0.1917548 ,  0.36752401, -0.22405131, -0.1385386 ,\n",
      "        0.12470219, -0.04904554,  0.06323226, -0.09304611, -0.17227755,\n",
      "       -0.08086206, -0.10588251]))\n",
      "(78, 'f__Bifidobacteriaceae;Other', array([ 1.        ,  0.49968614, -0.08287471, -0.19614773, -0.12240167,\n",
      "       -0.12672982, -0.26902465, -0.27244602, -0.05074698,  0.0972025 ,\n",
      "        0.02822748, -0.00474455]))\n",
      "(79, 'Oribacterium', array([ 1.        ,  0.23726901, -0.09173868, -0.28000967, -0.08571249,\n",
      "       -0.20412134, -0.19192562, -0.10696492,  0.01825613,  0.07042198,\n",
      "        0.08968373,  0.04484186]))\n",
      "(80, 'Megamonas', array([ 1.        , -0.36642164,  0.18244294, -0.07199664, -0.25388154,\n",
      "        0.03252294, -0.03744374, -0.12446791,  0.13035165,  0.0224676 ,\n",
      "       -0.01192781, -0.00164584]))\n",
      "(81, 'Other', array([ 1.        ,  0.04868694, -0.0819413 , -0.22991341, -0.16303066,\n",
      "       -0.20378832,  0.26211293,  0.14011385, -0.04604039, -0.14371933,\n",
      "       -0.04664884, -0.03583147]))\n"
     ]
    },
    {
     "data": {
      "image/png": "[encoded data removed]",
      "text/plain": [
       "<Figure size 432x288 with 1 Axes>"
      ]
     },
     "metadata": {
      "needs_background": "light"
     },
     "output_type": "display_data"
    }
   ],
   "source": [
    "from pandas.plotting import autocorrelation_plot\n",
    "for i in range(len(data)):\n",
    "    print((i,data.index.values[i],sm.tsa.acf(np.array(data.iloc[i]), nlags=12)))\n",
    "    autocorrelation_plot(np.array(data.iloc[i]))\n",
    "#autocorrelation_plot(df)"
   ]
  },
  {
   "cell_type": "code",
   "execution_count": null,
   "metadata": {},
   "outputs": [],
   "source": [
    "from statsmodels.tsa.ar_model import AR\n",
    "for i in range(len(df)):\n",
    "    X = np.array(df.iloc[i])\n",
    "    train_data = X[0:6]\n",
    "    test_data = X[6:]\n",
    "    #model = AR(train_data)\n",
    "    model = AR(X)\n",
    "    model_fitted = model.fit()\n",
    "    #print(i,len(X),train_data,test_data,model_fitted.k_ar,model_fitted.params)\n",
    "    print(i,len(X),model_fitted.k_ar,model_fitted.params)"
   ]
  },
  {
   "cell_type": "code",
   "execution_count": null,
   "metadata": {},
   "outputs": [],
   "source": [
    "from statsmodels.tsa.stattools import acf, pacf\n",
    "from statsmodels.graphics.tsaplots import plot_acf, plot_pacf\n",
    "#fig, axes = plt.subplots(1,2,figsize=(16,3), dpi= 100)\n",
    "plot_acf(df.iloc[5])#, lags=12)#, ax=axes[0])\n",
    "plot_pacf(df.iloc[5])#, lags=12)#, ax=axes[1])"
   ]
  },
  {
   "cell_type": "code",
   "execution_count": null,
   "metadata": {},
   "outputs": [],
   "source": [
    "dfT=df.transpose()\n",
    "dfT['ds'] = pd.date_range(start='1/1/2019', periods=len(dfT), freq='M')\n",
    "dfT.columns"
   ]
  },
  {
   "cell_type": "code",
   "execution_count": null,
   "metadata": {},
   "outputs": [],
   "source": [
    "from fbprophet import Prophet"
   ]
  },
  {
   "cell_type": "code",
   "execution_count": null,
   "metadata": {},
   "outputs": [],
   "source": [
    "m = Prophet()\n",
    "dfT['y']=dfT['Bifidobacterium']\n",
    "m.fit(dfT)"
   ]
  },
  {
   "cell_type": "code",
   "execution_count": null,
   "metadata": {},
   "outputs": [],
   "source": [
    "future = m.make_future_dataframe(periods=120, freq='M')\n",
    "fcst = m.predict(future)\n",
    "fig = m.plot(fcst)"
   ]
  },
  {
   "cell_type": "code",
   "execution_count": null,
   "metadata": {},
   "outputs": [],
   "source": [
    "future.tail()"
   ]
  },
  {
   "cell_type": "code",
   "execution_count": null,
   "metadata": {},
   "outputs": [],
   "source": [
    "from sklearn import preprocessing\n",
    "le = preprocessing.LabelEncoder()\n",
    "le.fit(y)\n",
    "list(le.classes_)\n",
    "values=le.transform(y)\n",
    "print(values)"
   ]
  },
  {
   "cell_type": "code",
   "execution_count": null,
   "metadata": {},
   "outputs": [],
   "source": [
    "from sklearn.preprocessing import OneHotEncoder\n",
    "enc = OneHotEncoder(handle_unknown='ignore')\n",
    "enc.fit(le.transform(y).reshape(-1,1))\n",
    "enc.categories_\n",
    "#print(enc.transform(le.transform(y).reshape(-1,1)))"
   ]
  },
  {
   "cell_type": "code",
   "execution_count": null,
   "metadata": {},
   "outputs": [],
   "source": [
    "#print(np.array(tf.one_hot(le.transform(y), depth=3)))\n",
    "#vocabulary_feature_column =  tf.feature_column.categorical_column_with_vocabulary_list(key=[\"P\", \"V\", \"K\"],vocabulary_list=[\"P\", \"V\", \"K\"])\n",
    "import numpy as np\n",
    "n_values = np.max(values) + 1\n",
    "Y=np.eye(n_values)[values]"
   ]
  },
  {
   "cell_type": "code",
   "execution_count": null,
   "metadata": {},
   "outputs": [],
   "source": [
    "#Y=pd.DataFrame(np.array(tf.one_hot(le.transform(y), depth=3)))\n",
    "Y=pd.DataFrame(Y)\n",
    "from sklearn.model_selection import train_test_split\n",
    "X_train, X_test, Y_train, Y_test = train_test_split(X, Y, test_size = 0.1, random_state = 0)\n",
    "X_train.to_csv(\"X_train.csv\", index = False, header = None)\n",
    "X_test.to_csv(\"X_test.csv\", index = False, header = None)\n",
    "Y_train.to_csv(\"Y_train.csv\", index = False, header = None)\n",
    "Y_test.to_csv(\"Y_test.csv\", index = False, header = None)\n",
    "Y_test.head()"
   ]
  },
  {
   "cell_type": "code",
   "execution_count": null,
   "metadata": {},
   "outputs": [],
   "source": [
    "from sklearn.preprocessing import StandardScaler\n",
    "scaler = StandardScaler()\n",
    "X_train = scaler.fit_transform(X_train)\n",
    "X_test = scaler.transform(X_test)\n",
    "X_train.shape[1],Y_train.shape[1] "
   ]
  },
  {
   "cell_type": "code",
   "execution_count": null,
   "metadata": {},
   "outputs": [],
   "source": [
    "from keras.models import Sequential\n",
    "from keras.layers import Dense"
   ]
  },
  {
   "cell_type": "code",
   "execution_count": null,
   "metadata": {},
   "outputs": [],
   "source": [
    "classifier = Sequential()\n",
    "classifier.add(Dense(units = 9, activation = 'relu', input_dim=X_train.shape[1]))\n",
    "classifier.add(Dense(units = 6, activation = 'relu'))\n",
    "classifier.add(Dense(units = Y_train.shape[1] , activation = 'sigmoid'))"
   ]
  },
  {
   "cell_type": "code",
   "execution_count": null,
   "metadata": {},
   "outputs": [],
   "source": [
    "classifier.compile(optimizer='adam', loss='mean_squared_error', metrics=['accuracy'])"
   ]
  },
  {
   "cell_type": "code",
   "execution_count": null,
   "metadata": {},
   "outputs": [],
   "source": [
    "classifier.fit(X_train, Y_train, batch_size = X_train.shape[1],epochs = 100)"
   ]
  },
  {
   "cell_type": "code",
   "execution_count": null,
   "metadata": {},
   "outputs": [],
   "source": [
    "Y_pred = classifier.predict(X_test)\n",
    "#Y_pred\n",
    "y_pred=(Y_pred.argmax(1)[:,None] == np.arange(Y_pred.shape[1])).astype(int)\n",
    "y_pred"
   ]
  },
  {
   "cell_type": "code",
   "execution_count": null,
   "metadata": {},
   "outputs": [],
   "source": [
    "y_test=Y_test.values\n",
    "y_test=(y_test.argmax(1)[:,None] == np.arange(y_test.shape[1])).astype(int)\n",
    "y_test"
   ]
  },
  {
   "cell_type": "code",
   "execution_count": null,
   "metadata": {},
   "outputs": [],
   "source": [
    "from sklearn.metrics import confusion_matrix\n",
    "cm = confusion_matrix(y_test.argmax(axis=1), y_pred.argmax(axis=1))\n",
    "cm"
   ]
  },
  {
   "cell_type": "code",
   "execution_count": null,
   "metadata": {},
   "outputs": [],
   "source": []
  }
 ],
 "metadata": {
  "kernelspec": {
   "display_name": "Python 3",
   "language": "python",
   "name": "python3"
  },
  "language_info": {
   "codemirror_mode": {
    "name": "ipython",
    "version": 3
   },
   "file_extension": ".py",
   "mimetype": "text/x-python",
   "name": "python",
   "nbconvert_exporter": "python",
   "pygments_lexer": "ipython3",
   "version": "3.7.4"
  },
  "varInspector": {
   "cols": {
    "lenName": 16,
    "lenType": 16,
    "lenVar": 40
   },
   "kernels_config": {
    "python": {
     "delete_cmd_postfix": "",
     "delete_cmd_prefix": "del ",
     "library": "var_list.py",
     "varRefreshCmd": "print(var_dic_list())"
    },
    "r": {
     "delete_cmd_postfix": ") ",
     "delete_cmd_prefix": "rm(",
     "library": "var_list.r",
     "varRefreshCmd": "cat(var_dic_list()) "
    }
   },
   "position": {
    "height": "892px",
    "left": "1550px",
    "right": "20px",
    "top": "120px",
    "width": "350px"
   },
   "types_to_exclude": [
    "module",
    "function",
    "builtin_function_or_method",
    "instance",
    "_Feature"
   ],
   "window_display": true
  }
 },
 "nbformat": 4,
 "nbformat_minor": 2
}
