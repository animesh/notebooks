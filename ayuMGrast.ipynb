{
 "cells": [
  {
   "cell_type": "code",
   "execution_count": 1,
   "metadata": {},
   "outputs": [
    {
     "name": "stdout",
     "output_type": "stream",
     "text": [
      "2019-07-18 18:14:54.935410: I tensorflow/core/platform/cpu_feature_guard.cc:141] Your CPU supports instructions that this TensorFlow binary was not compiled to use: AVX2 FMA\n",
      "2019-07-18 18:14:55.646972: I tensorflow/compiler/xla/service/service.cc:150] XLA service 0x557918978300 executing computations on platform CUDA. Devices:\n",
      "2019-07-18 18:14:55.647008: I tensorflow/compiler/xla/service/service.cc:158]   StreamExecutor device (0): Tesla V100-PCIE-16GB, Compute Capability 7.0\n",
      "2019-07-18 18:14:55.650106: I tensorflow/core/platform/profile_utils/cpu_utils.cc:94] CPU Frequency: 2100160000 Hz\n",
      "2019-07-18 18:14:55.658080: I tensorflow/compiler/xla/service/service.cc:150] XLA service 0x55791903c630 executing computations on platform Host. Devices:\n",
      "2019-07-18 18:14:55.658095: I tensorflow/compiler/xla/service/service.cc:158]   StreamExecutor device (0): <undefined>, <undefined>\n",
      "2019-07-18 18:14:55.659050: I tensorflow/core/common_runtime/gpu/gpu_device.cc:1433] Found device 0 with properties: \n",
      "name: Tesla V100-PCIE-16GB major: 7 minor: 0 memoryClockRate(GHz): 1.38\n",
      "pciBusID: 0000:03:00.0\n",
      "totalMemory: 15.75GiB freeMemory: 15.34GiB\n",
      "2019-07-18 18:14:55.659078: I tensorflow/core/common_runtime/gpu/gpu_device.cc:1512] Adding visible gpu devices: 0\n",
      "2019-07-18 18:14:55.660152: I tensorflow/core/common_runtime/gpu/gpu_device.cc:984] Device interconnect StreamExecutor with strength 1 edge matrix:\n",
      "2019-07-18 18:14:55.660163: I tensorflow/core/common_runtime/gpu/gpu_device.cc:990]      0 \n",
      "2019-07-18 18:14:55.660192: I tensorflow/core/common_runtime/gpu/gpu_device.cc:1003] 0:   N \n",
      "2019-07-18 18:14:55.660572: I tensorflow/core/common_runtime/gpu/gpu_device.cc:1115] Created TensorFlow device (/job:localhost/replica:0/task:0/device:GPU:0 with 14926 MB memory) -> physical GPU (device: 0, name: Tesla V100-PCIE-16GB, pci bus id: 0000:03:00.0, compute capability: 7.0)\n",
      "tf.Tensor(-1460.7488, shape=(), dtype=float32)\n"
     ]
    }
   ],
   "source": [
    "!python3 -c \"import tensorflow as tf; tf.enable_eager_execution(); print(tf.reduce_sum(tf.random_normal([999, 9999])))\""
   ]
  },
  {
   "cell_type": "code",
   "execution_count": 2,
   "metadata": {},
   "outputs": [
    {
     "name": "stdout",
     "output_type": "stream",
     "text": [
      "1.13.1\n"
     ]
    }
   ],
   "source": [
    "import tensorflow as tf\n",
    "print(tf.__version__)"
   ]
  },
  {
   "cell_type": "code",
   "execution_count": 3,
   "metadata": {},
   "outputs": [
    {
     "data": {
      "text/plain": [
       "True"
      ]
     },
     "execution_count": 3,
     "metadata": {},
     "output_type": "execute_result"
    }
   ],
   "source": [
    "tf.test.is_gpu_available()"
   ]
  },
  {
   "cell_type": "code",
   "execution_count": 4,
   "metadata": {},
   "outputs": [
    {
     "name": "stdout",
     "output_type": "stream",
     "text": [
      "Using a GPU\n"
     ]
    }
   ],
   "source": [
    "if tf.test.gpu_device_name() == '/device:GPU:0':\n",
    "  print(\"Using a GPU\")\n",
    "else:\n",
    "  print(\"Using a CPU\")"
   ]
  },
  {
   "cell_type": "code",
   "execution_count": 5,
   "metadata": {},
   "outputs": [
    {
     "name": "stdout",
     "output_type": "stream",
     "text": [
      "[name: \"/device:CPU:0\"\n",
      "device_type: \"CPU\"\n",
      "memory_limit: 268435456\n",
      "locality {\n",
      "}\n",
      "incarnation: 4024254152465233954\n",
      ", name: \"/device:XLA_GPU:0\"\n",
      "device_type: \"XLA_GPU\"\n",
      "memory_limit: 17179869184\n",
      "locality {\n",
      "}\n",
      "incarnation: 10780885942879961341\n",
      "physical_device_desc: \"device: XLA_GPU device\"\n",
      ", name: \"/device:XLA_CPU:0\"\n",
      "device_type: \"XLA_CPU\"\n",
      "memory_limit: 17179869184\n",
      "locality {\n",
      "}\n",
      "incarnation: 12567651201342837307\n",
      "physical_device_desc: \"device: XLA_CPU device\"\n",
      ", name: \"/device:GPU:0\"\n",
      "device_type: \"GPU\"\n",
      "memory_limit: 15651091252\n",
      "locality {\n",
      "  bus_id: 1\n",
      "  links {\n",
      "  }\n",
      "}\n",
      "incarnation: 10922718326167081695\n",
      "physical_device_desc: \"device: 0, name: Tesla V100-PCIE-16GB, pci bus id: 0000:03:00.0, compute capability: 7.0\"\n",
      "]\n"
     ]
    }
   ],
   "source": [
    "import tensorflow as tf\n",
    "from tensorflow.python.client import device_lib\n",
    "print(device_lib.list_local_devices())"
   ]
  },
  {
   "cell_type": "code",
   "execution_count": 6,
   "metadata": {},
   "outputs": [
    {
     "name": "stdout",
     "output_type": "stream",
     "text": [
      "[[22. 28.]\n",
      " [49. 64.]]\n"
     ]
    }
   ],
   "source": [
    "with tf.device('/device:GPU:0'):\n",
    "  a = tf.constant([1.0, 2.0, 3.0, 4.0, 5.0, 6.0], shape=[2, 3], name='a')\n",
    "  b = tf.constant([1.0, 2.0, 3.0, 4.0, 5.0, 6.0], shape=[3, 2], name='b')\n",
    "  c = tf.matmul(a, b)\n",
    "# Creates a session with log_device_placement set to True.\n",
    "sess = tf.Session(config=tf.ConfigProto(log_device_placement=True))\n",
    "# Runs the op.\n",
    "print(sess.run(c))"
   ]
  },
  {
   "cell_type": "code",
   "execution_count": 7,
   "metadata": {},
   "outputs": [
    {
     "name": "stdout",
     "output_type": "stream",
     "text": [
      "[[22. 28.]\n",
      " [49. 64.]]\n"
     ]
    }
   ],
   "source": [
    "# Creates a graph.\n",
    "a = tf.constant([1.0, 2.0, 3.0, 4.0, 5.0, 6.0], shape=[2, 3], name='a')\n",
    "b = tf.constant([1.0, 2.0, 3.0, 4.0, 5.0, 6.0], shape=[3, 2], name='b')\n",
    "c = tf.matmul(a, b)\n",
    "# Creates a session with log_device_placement set to True.\n",
    "sess = tf.Session(config=tf.ConfigProto(log_device_placement=True))\n",
    "# Runs the op.\n",
    "print(sess.run(c))"
   ]
  },
  {
   "cell_type": "code",
   "execution_count": 8,
   "metadata": {},
   "outputs": [],
   "source": [
    "#!pwd"
   ]
  },
  {
   "cell_type": "code",
   "execution_count": 9,
   "metadata": {},
   "outputs": [
    {
     "data": {
      "text/plain": [
       "(19, 34)"
      ]
     },
     "execution_count": 9,
     "metadata": {},
     "output_type": "execute_result"
    }
   ],
   "source": [
    "import pandas as pd\n",
    "data = pd.read_csv(\"HeLa/ayu/new/P value 0.05.csv\")\n",
    "data.head(2)\n",
    "data.shape"
   ]
  },
  {
   "cell_type": "code",
   "execution_count": 10,
   "metadata": {},
   "outputs": [],
   "source": [
    "df=pd.DataFrame(data)\n",
    "X = df.iloc[:, :32]\n",
    "y = df.iloc[:, 33]"
   ]
  },
  {
   "cell_type": "code",
   "execution_count": 11,
   "metadata": {},
   "outputs": [
    {
     "name": "stdout",
     "output_type": "stream",
     "text": [
      "[2 2 2 2 2 2 2 2 1 1 1 1 0 0 0 0 0 0 0]\n"
     ]
    }
   ],
   "source": [
    "from sklearn import preprocessing\n",
    "le = preprocessing.LabelEncoder()\n",
    "le.fit(y)\n",
    "list(le.classes_)\n",
    "values=le.transform(y)\n",
    "print(values)"
   ]
  },
  {
   "cell_type": "code",
   "execution_count": 12,
   "metadata": {},
   "outputs": [
    {
     "data": {
      "text/plain": [
       "[array([0, 1, 2])]"
      ]
     },
     "execution_count": 12,
     "metadata": {},
     "output_type": "execute_result"
    }
   ],
   "source": [
    "from sklearn.preprocessing import OneHotEncoder\n",
    "enc = OneHotEncoder(handle_unknown='ignore')\n",
    "enc.fit(le.transform(y).reshape(-1,1))\n",
    "enc.categories_\n",
    "#print(enc.transform(le.transform(y).reshape(-1,1)))"
   ]
  },
  {
   "cell_type": "code",
   "execution_count": 13,
   "metadata": {},
   "outputs": [],
   "source": [
    "#print(np.array(tf.one_hot(le.transform(y), depth=3)))\n",
    "#vocabulary_feature_column =  tf.feature_column.categorical_column_with_vocabulary_list(key=[\"P\", \"V\", \"K\"],vocabulary_list=[\"P\", \"V\", \"K\"])\n",
    "import numpy as np\n",
    "n_values = np.max(values) + 1\n",
    "Y=np.eye(n_values)[values]"
   ]
  },
  {
   "cell_type": "code",
   "execution_count": 14,
   "metadata": {},
   "outputs": [
    {
     "data": {
      "text/html": [
       "<div>\n",
       "<style scoped>\n",
       "    .dataframe tbody tr th:only-of-type {\n",
       "        vertical-align: middle;\n",
       "    }\n",
       "\n",
       "    .dataframe tbody tr th {\n",
       "        vertical-align: top;\n",
       "    }\n",
       "\n",
       "    .dataframe thead th {\n",
       "        text-align: right;\n",
       "    }\n",
       "</style>\n",
       "<table border=\"1\" class=\"dataframe\">\n",
       "  <thead>\n",
       "    <tr style=\"text-align: right;\">\n",
       "      <th></th>\n",
       "      <th>0</th>\n",
       "      <th>1</th>\n",
       "      <th>2</th>\n",
       "    </tr>\n",
       "  </thead>\n",
       "  <tbody>\n",
       "    <tr>\n",
       "      <th>10</th>\n",
       "      <td>0.0</td>\n",
       "      <td>1.0</td>\n",
       "      <td>0.0</td>\n",
       "    </tr>\n",
       "    <tr>\n",
       "      <th>1</th>\n",
       "      <td>0.0</td>\n",
       "      <td>0.0</td>\n",
       "      <td>1.0</td>\n",
       "    </tr>\n",
       "  </tbody>\n",
       "</table>\n",
       "</div>"
      ],
      "text/plain": [
       "      0    1    2\n",
       "10  0.0  1.0  0.0\n",
       "1   0.0  0.0  1.0"
      ]
     },
     "execution_count": 14,
     "metadata": {},
     "output_type": "execute_result"
    }
   ],
   "source": [
    "#Y=pd.DataFrame(np.array(tf.one_hot(le.transform(y), depth=3)))\n",
    "Y=pd.DataFrame(Y)\n",
    "from sklearn.model_selection import train_test_split\n",
    "X_train, X_test, Y_train, Y_test = train_test_split(X, Y, test_size = 0.1, random_state = 0)\n",
    "X_train.to_csv(\"X_train.csv\", index = False, header = None)\n",
    "X_test.to_csv(\"X_test.csv\", index = False, header = None)\n",
    "Y_train.to_csv(\"Y_train.csv\", index = False, header = None)\n",
    "Y_test.to_csv(\"Y_test.csv\", index = False, header = None)\n",
    "Y_test.head()"
   ]
  },
  {
   "cell_type": "code",
   "execution_count": 15,
   "metadata": {},
   "outputs": [
    {
     "name": "stderr",
     "output_type": "stream",
     "text": [
      "/opt/conda/lib/python3.6/site-packages/sklearn/preprocessing/data.py:645: DataConversionWarning: Data with input dtype int64 were all converted to float64 by StandardScaler.\n",
      "  return self.partial_fit(X, y)\n",
      "/opt/conda/lib/python3.6/site-packages/sklearn/base.py:464: DataConversionWarning: Data with input dtype int64 were all converted to float64 by StandardScaler.\n",
      "  return self.fit(X, **fit_params).transform(X)\n",
      "/opt/conda/lib/python3.6/site-packages/ipykernel_launcher.py:4: DataConversionWarning: Data with input dtype int64 were all converted to float64 by StandardScaler.\n",
      "  after removing the cwd from sys.path.\n"
     ]
    },
    {
     "data": {
      "text/plain": [
       "(32, 3)"
      ]
     },
     "execution_count": 15,
     "metadata": {},
     "output_type": "execute_result"
    }
   ],
   "source": [
    "from sklearn.preprocessing import StandardScaler\n",
    "scaler = StandardScaler()\n",
    "X_train = scaler.fit_transform(X_train)\n",
    "X_test = scaler.transform(X_test)\n",
    "X_train.shape[1],Y_train.shape[1] "
   ]
  },
  {
   "cell_type": "code",
   "execution_count": 16,
   "metadata": {},
   "outputs": [
    {
     "name": "stderr",
     "output_type": "stream",
     "text": [
      "Using TensorFlow backend.\n"
     ]
    }
   ],
   "source": [
    "from keras.models import Sequential\n",
    "from keras.layers import Dense"
   ]
  },
  {
   "cell_type": "code",
   "execution_count": 17,
   "metadata": {},
   "outputs": [
    {
     "name": "stdout",
     "output_type": "stream",
     "text": [
      "WARNING:tensorflow:From /opt/conda/lib/python3.6/site-packages/tensorflow/python/framework/op_def_library.py:263: colocate_with (from tensorflow.python.framework.ops) is deprecated and will be removed in a future version.\n",
      "Instructions for updating:\n",
      "Colocations handled automatically by placer.\n"
     ]
    }
   ],
   "source": [
    "classifier = Sequential()\n",
    "classifier.add(Dense(units = 9, activation = 'relu', input_dim=X_train.shape[1]))\n",
    "classifier.add(Dense(units = 6, activation = 'relu'))\n",
    "classifier.add(Dense(units = Y_train.shape[1] , activation = 'sigmoid'))"
   ]
  },
  {
   "cell_type": "code",
   "execution_count": 18,
   "metadata": {},
   "outputs": [],
   "source": [
    "classifier.compile(optimizer='adam', loss='mean_squared_error', metrics=['accuracy'])"
   ]
  },
  {
   "cell_type": "code",
   "execution_count": 19,
   "metadata": {},
   "outputs": [
    {
     "name": "stdout",
     "output_type": "stream",
     "text": [
      "WARNING:tensorflow:From /opt/conda/lib/python3.6/site-packages/tensorflow/python/ops/math_ops.py:3066: to_int32 (from tensorflow.python.ops.math_ops) is deprecated and will be removed in a future version.\n",
      "Instructions for updating:\n",
      "Use tf.cast instead.\n",
      "Epoch 1/100\n",
      "17/17 [==============================] - 1s 68ms/step - loss: 0.3649 - acc: 0.1176\n",
      "Epoch 2/100\n",
      "17/17 [==============================] - 0s 195us/step - loss: 0.3613 - acc: 0.1176\n",
      "Epoch 3/100\n",
      "17/17 [==============================] - 0s 179us/step - loss: 0.3578 - acc: 0.1765\n",
      "Epoch 4/100\n",
      "17/17 [==============================] - 0s 167us/step - loss: 0.3544 - acc: 0.1765\n",
      "Epoch 5/100\n",
      "17/17 [==============================] - 0s 160us/step - loss: 0.3510 - acc: 0.1765\n",
      "Epoch 6/100\n",
      "17/17 [==============================] - 0s 156us/step - loss: 0.3479 - acc: 0.2353\n",
      "Epoch 7/100\n",
      "17/17 [==============================] - 0s 158us/step - loss: 0.3450 - acc: 0.2353\n",
      "Epoch 8/100\n",
      "17/17 [==============================] - 0s 163us/step - loss: 0.3422 - acc: 0.2353\n",
      "Epoch 9/100\n",
      "17/17 [==============================] - 0s 160us/step - loss: 0.3393 - acc: 0.2353\n",
      "Epoch 10/100\n",
      "17/17 [==============================] - 0s 167us/step - loss: 0.3365 - acc: 0.2353\n",
      "Epoch 11/100\n",
      "17/17 [==============================] - 0s 151us/step - loss: 0.3338 - acc: 0.2353\n",
      "Epoch 12/100\n",
      "17/17 [==============================] - 0s 151us/step - loss: 0.3312 - acc: 0.2353\n",
      "Epoch 13/100\n",
      "17/17 [==============================] - 0s 174us/step - loss: 0.3285 - acc: 0.2353\n",
      "Epoch 14/100\n",
      "17/17 [==============================] - 0s 166us/step - loss: 0.3259 - acc: 0.2353\n",
      "Epoch 15/100\n",
      "17/17 [==============================] - 0s 158us/step - loss: 0.3233 - acc: 0.2353\n",
      "Epoch 16/100\n",
      "17/17 [==============================] - 0s 158us/step - loss: 0.3206 - acc: 0.2353\n",
      "Epoch 17/100\n",
      "17/17 [==============================] - 0s 164us/step - loss: 0.3180 - acc: 0.2353\n",
      "Epoch 18/100\n",
      "17/17 [==============================] - 0s 165us/step - loss: 0.3154 - acc: 0.2353\n",
      "Epoch 19/100\n",
      "17/17 [==============================] - 0s 156us/step - loss: 0.3128 - acc: 0.2353\n",
      "Epoch 20/100\n",
      "17/17 [==============================] - 0s 164us/step - loss: 0.3102 - acc: 0.2353\n",
      "Epoch 21/100\n",
      "17/17 [==============================] - 0s 162us/step - loss: 0.3077 - acc: 0.2353\n",
      "Epoch 22/100\n",
      "17/17 [==============================] - 0s 159us/step - loss: 0.3053 - acc: 0.2353\n",
      "Epoch 23/100\n",
      "17/17 [==============================] - 0s 158us/step - loss: 0.3031 - acc: 0.2353\n",
      "Epoch 24/100\n",
      "17/17 [==============================] - 0s 167us/step - loss: 0.3010 - acc: 0.2353\n",
      "Epoch 25/100\n",
      "17/17 [==============================] - 0s 158us/step - loss: 0.2989 - acc: 0.2353\n",
      "Epoch 26/100\n",
      "17/17 [==============================] - 0s 158us/step - loss: 0.2968 - acc: 0.2353\n",
      "Epoch 27/100\n",
      "17/17 [==============================] - 0s 152us/step - loss: 0.2947 - acc: 0.2353\n",
      "Epoch 28/100\n",
      "17/17 [==============================] - 0s 161us/step - loss: 0.2925 - acc: 0.2941\n",
      "Epoch 29/100\n",
      "17/17 [==============================] - 0s 161us/step - loss: 0.2904 - acc: 0.2941\n",
      "Epoch 30/100\n",
      "17/17 [==============================] - 0s 162us/step - loss: 0.2883 - acc: 0.2941\n",
      "Epoch 31/100\n",
      "17/17 [==============================] - 0s 160us/step - loss: 0.2862 - acc: 0.2941\n",
      "Epoch 32/100\n",
      "17/17 [==============================] - 0s 166us/step - loss: 0.2841 - acc: 0.3529\n",
      "Epoch 33/100\n",
      "17/17 [==============================] - 0s 160us/step - loss: 0.2820 - acc: 0.3529\n",
      "Epoch 34/100\n",
      "17/17 [==============================] - 0s 161us/step - loss: 0.2801 - acc: 0.3529\n",
      "Epoch 35/100\n",
      "17/17 [==============================] - 0s 160us/step - loss: 0.2781 - acc: 0.3529\n",
      "Epoch 36/100\n",
      "17/17 [==============================] - 0s 161us/step - loss: 0.2763 - acc: 0.3529\n",
      "Epoch 37/100\n",
      "17/17 [==============================] - 0s 170us/step - loss: 0.2745 - acc: 0.3529\n",
      "Epoch 38/100\n",
      "17/17 [==============================] - 0s 160us/step - loss: 0.2727 - acc: 0.3529\n",
      "Epoch 39/100\n",
      "17/17 [==============================] - 0s 165us/step - loss: 0.2709 - acc: 0.4118\n",
      "Epoch 40/100\n",
      "17/17 [==============================] - 0s 158us/step - loss: 0.2691 - acc: 0.4118\n",
      "Epoch 41/100\n",
      "17/17 [==============================] - 0s 153us/step - loss: 0.2674 - acc: 0.4118\n",
      "Epoch 42/100\n",
      "17/17 [==============================] - 0s 145us/step - loss: 0.2658 - acc: 0.4118\n",
      "Epoch 43/100\n",
      "17/17 [==============================] - 0s 160us/step - loss: 0.2643 - acc: 0.4118\n",
      "Epoch 44/100\n",
      "17/17 [==============================] - 0s 165us/step - loss: 0.2628 - acc: 0.4118\n",
      "Epoch 45/100\n",
      "17/17 [==============================] - 0s 166us/step - loss: 0.2613 - acc: 0.4118\n",
      "Epoch 46/100\n",
      "17/17 [==============================] - 0s 178us/step - loss: 0.2599 - acc: 0.4118\n",
      "Epoch 47/100\n",
      "17/17 [==============================] - 0s 155us/step - loss: 0.2584 - acc: 0.4118\n",
      "Epoch 48/100\n",
      "17/17 [==============================] - 0s 171us/step - loss: 0.2570 - acc: 0.4118\n",
      "Epoch 49/100\n",
      "17/17 [==============================] - 0s 198us/step - loss: 0.2555 - acc: 0.4118\n",
      "Epoch 50/100\n",
      "17/17 [==============================] - 0s 184us/step - loss: 0.2541 - acc: 0.4118\n",
      "Epoch 51/100\n",
      "17/17 [==============================] - 0s 173us/step - loss: 0.2527 - acc: 0.4118\n",
      "Epoch 52/100\n",
      "17/17 [==============================] - 0s 171us/step - loss: 0.2513 - acc: 0.4118\n",
      "Epoch 53/100\n",
      "17/17 [==============================] - 0s 193us/step - loss: 0.2499 - acc: 0.4118\n",
      "Epoch 54/100\n",
      "17/17 [==============================] - 0s 172us/step - loss: 0.2485 - acc: 0.4118\n",
      "Epoch 55/100\n",
      "17/17 [==============================] - 0s 180us/step - loss: 0.2471 - acc: 0.4118\n",
      "Epoch 56/100\n",
      "17/17 [==============================] - 0s 168us/step - loss: 0.2458 - acc: 0.4118\n",
      "Epoch 57/100\n",
      "17/17 [==============================] - 0s 184us/step - loss: 0.2446 - acc: 0.4118\n",
      "Epoch 58/100\n",
      "17/17 [==============================] - 0s 174us/step - loss: 0.2434 - acc: 0.4118\n",
      "Epoch 59/100\n",
      "17/17 [==============================] - 0s 193us/step - loss: 0.2423 - acc: 0.4118\n",
      "Epoch 60/100\n",
      "17/17 [==============================] - 0s 160us/step - loss: 0.2411 - acc: 0.4118\n",
      "Epoch 61/100\n",
      "17/17 [==============================] - 0s 178us/step - loss: 0.2400 - acc: 0.4118\n",
      "Epoch 62/100\n",
      "17/17 [==============================] - 0s 169us/step - loss: 0.2388 - acc: 0.4706\n",
      "Epoch 63/100\n",
      "17/17 [==============================] - 0s 161us/step - loss: 0.2377 - acc: 0.4706\n",
      "Epoch 64/100\n",
      "17/17 [==============================] - 0s 179us/step - loss: 0.2366 - acc: 0.4706\n",
      "Epoch 65/100\n",
      "17/17 [==============================] - 0s 177us/step - loss: 0.2356 - acc: 0.4706\n",
      "Epoch 66/100\n",
      "17/17 [==============================] - 0s 181us/step - loss: 0.2346 - acc: 0.4706\n",
      "Epoch 67/100\n",
      "17/17 [==============================] - 0s 180us/step - loss: 0.2336 - acc: 0.4706\n",
      "Epoch 68/100\n",
      "17/17 [==============================] - 0s 164us/step - loss: 0.2326 - acc: 0.4706\n",
      "Epoch 69/100\n",
      "17/17 [==============================] - 0s 195us/step - loss: 0.2316 - acc: 0.4706\n",
      "Epoch 70/100\n",
      "17/17 [==============================] - 0s 177us/step - loss: 0.2306 - acc: 0.4706\n",
      "Epoch 71/100\n",
      "17/17 [==============================] - 0s 185us/step - loss: 0.2297 - acc: 0.4706\n",
      "Epoch 72/100\n",
      "17/17 [==============================] - 0s 154us/step - loss: 0.2288 - acc: 0.4706\n",
      "Epoch 73/100\n",
      "17/17 [==============================] - 0s 187us/step - loss: 0.2279 - acc: 0.4706\n",
      "Epoch 74/100\n",
      "17/17 [==============================] - 0s 164us/step - loss: 0.2270 - acc: 0.4706\n",
      "Epoch 75/100\n",
      "17/17 [==============================] - 0s 162us/step - loss: 0.2262 - acc: 0.4706\n",
      "Epoch 76/100\n",
      "17/17 [==============================] - 0s 196us/step - loss: 0.2254 - acc: 0.4706\n",
      "Epoch 77/100\n",
      "17/17 [==============================] - 0s 188us/step - loss: 0.2246 - acc: 0.4706\n",
      "Epoch 78/100\n",
      "17/17 [==============================] - 0s 181us/step - loss: 0.2238 - acc: 0.4706\n",
      "Epoch 79/100\n",
      "17/17 [==============================] - 0s 188us/step - loss: 0.2229 - acc: 0.4706\n",
      "Epoch 80/100\n",
      "17/17 [==============================] - 0s 162us/step - loss: 0.2221 - acc: 0.4706\n",
      "Epoch 81/100\n",
      "17/17 [==============================] - 0s 164us/step - loss: 0.2213 - acc: 0.4706\n",
      "Epoch 82/100\n",
      "17/17 [==============================] - 0s 187us/step - loss: 0.2205 - acc: 0.4706\n",
      "Epoch 83/100\n",
      "17/17 [==============================] - 0s 164us/step - loss: 0.2197 - acc: 0.4706\n",
      "Epoch 84/100\n",
      "17/17 [==============================] - 0s 174us/step - loss: 0.2189 - acc: 0.4706\n",
      "Epoch 85/100\n",
      "17/17 [==============================] - 0s 190us/step - loss: 0.2181 - acc: 0.4706\n",
      "Epoch 86/100\n",
      "17/17 [==============================] - 0s 171us/step - loss: 0.2173 - acc: 0.4706\n",
      "Epoch 87/100\n",
      "17/17 [==============================] - 0s 160us/step - loss: 0.2166 - acc: 0.4706\n",
      "Epoch 88/100\n",
      "17/17 [==============================] - 0s 179us/step - loss: 0.2158 - acc: 0.4706\n",
      "Epoch 89/100\n",
      "17/17 [==============================] - 0s 175us/step - loss: 0.2151 - acc: 0.4706\n",
      "Epoch 90/100\n",
      "17/17 [==============================] - 0s 191us/step - loss: 0.2144 - acc: 0.4706\n",
      "Epoch 91/100\n",
      "17/17 [==============================] - 0s 149us/step - loss: 0.2137 - acc: 0.4706\n",
      "Epoch 92/100\n",
      "17/17 [==============================] - 0s 184us/step - loss: 0.2130 - acc: 0.4706\n",
      "Epoch 93/100\n",
      "17/17 [==============================] - 0s 166us/step - loss: 0.2122 - acc: 0.4706\n",
      "Epoch 94/100\n",
      "17/17 [==============================] - 0s 175us/step - loss: 0.2114 - acc: 0.5294\n",
      "Epoch 95/100\n",
      "17/17 [==============================] - 0s 199us/step - loss: 0.2106 - acc: 0.5294\n",
      "Epoch 96/100\n",
      "17/17 [==============================] - 0s 164us/step - loss: 0.2098 - acc: 0.5294\n",
      "Epoch 97/100\n",
      "17/17 [==============================] - 0s 161us/step - loss: 0.2090 - acc: 0.5294\n",
      "Epoch 98/100\n",
      "17/17 [==============================] - 0s 161us/step - loss: 0.2083 - acc: 0.5294\n",
      "Epoch 99/100\n",
      "17/17 [==============================] - 0s 181us/step - loss: 0.2075 - acc: 0.5294\n",
      "Epoch 100/100\n",
      "17/17 [==============================] - 0s 191us/step - loss: 0.2067 - acc: 0.5294\n"
     ]
    },
    {
     "data": {
      "text/plain": [
       "<keras.callbacks.History at 0x7fa3dc094358>"
      ]
     },
     "execution_count": 19,
     "metadata": {},
     "output_type": "execute_result"
    }
   ],
   "source": [
    "classifier.fit(X_train, Y_train, batch_size = X_train.shape[1],epochs = 100)"
   ]
  },
  {
   "cell_type": "code",
   "execution_count": 20,
   "metadata": {},
   "outputs": [
    {
     "data": {
      "text/plain": [
       "array([[0, 1, 0],\n",
       "       [0, 0, 1]])"
      ]
     },
     "execution_count": 20,
     "metadata": {},
     "output_type": "execute_result"
    }
   ],
   "source": [
    "Y_pred = classifier.predict(X_test)\n",
    "#Y_pred\n",
    "y_pred=(Y_pred.argmax(1)[:,None] == np.arange(Y_pred.shape[1])).astype(int)\n",
    "y_pred"
   ]
  },
  {
   "cell_type": "code",
   "execution_count": 21,
   "metadata": {},
   "outputs": [
    {
     "data": {
      "text/plain": [
       "array([[0, 1, 0],\n",
       "       [0, 0, 1]])"
      ]
     },
     "execution_count": 21,
     "metadata": {},
     "output_type": "execute_result"
    }
   ],
   "source": [
    "y_test=Y_test.values\n",
    "y_test=(y_test.argmax(1)[:,None] == np.arange(y_test.shape[1])).astype(int)\n",
    "y_test"
   ]
  },
  {
   "cell_type": "code",
   "execution_count": 23,
   "metadata": {},
   "outputs": [
    {
     "data": {
      "text/plain": [
       "array([[1, 0],\n",
       "       [0, 1]])"
      ]
     },
     "execution_count": 23,
     "metadata": {},
     "output_type": "execute_result"
    }
   ],
   "source": [
    "from sklearn.metrics import confusion_matrix\n",
    "cm = confusion_matrix(y_test.argmax(axis=1), y_pred.argmax(axis=1))\n",
    "cm"
   ]
  },
  {
   "cell_type": "code",
   "execution_count": null,
   "metadata": {},
   "outputs": [],
   "source": []
  }
 ],
 "metadata": {
  "kernelspec": {
   "display_name": "Python 3",
   "language": "python",
   "name": "python3"
  },
  "language_info": {
   "codemirror_mode": {
    "name": "ipython",
    "version": 3
   },
   "file_extension": ".py",
   "mimetype": "text/x-python",
   "name": "python",
   "nbconvert_exporter": "python",
   "pygments_lexer": "ipython3",
   "version": "3.6.7"
  }
 },
 "nbformat": 4,
 "nbformat_minor": 2
}
