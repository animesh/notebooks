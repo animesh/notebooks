{
 "cells": [
  {
   "cell_type": "code",
   "execution_count": 30,
   "metadata": {
    "ExecuteTime": {
     "end_time": "2018-09-07T22:39:54.899476Z",
     "start_time": "2018-09-07T22:39:54.836Z"
    },
    "scrolled": true
   },
   "outputs": [
    {
     "ename": "ERROR",
     "evalue": "Error in fromJSON(\"http://api.metagenomics.anl.gov/1/annotation/sequence/mgm4804308.3?evalue=10&type=organism&source=SwissProt&auth=kbm2R6jxx9LSnLVNmtBVtVNbk\"): unexpected character 'h'\n\n",
     "output_type": "error",
     "traceback": [
      "Error in fromJSON(\"http://api.metagenomics.anl.gov/1/annotation/sequence/mgm4804308.3?evalue=10&type=organism&source=SwissProt&auth=kbm2R6jxx9LSnLVNmtBVtVNbk\"): unexpected character 'h'\n\nTraceback:\n",
      "1. fromJSON(\"http://api.metagenomics.anl.gov/1/annotation/sequence/mgm4804308.3?evalue=10&type=organism&source=SwissProt&auth=kbm2R6jxx9LSnLVNmtBVtVNbk\")",
      "2. stop(x)"
     ]
    }
   ],
   "source": [
    "#install.packages('jsonlite')\n",
    "library(jsonlite)\n",
    "S5 <- fromJSON(\"http://api.metagenomics.anl.gov/1/annotation/sequence/mgm4804308.3?evalue=10&type=organism&source=SwissProt&auth=kbm2R6jxx9LSnLVNmtBVtVNbk\")\n",
    "head(S5)\n",
    "\n",
    "#S5-mgm4804308.3\n",
    "#http://api.metagenomics.anl.gov/1/annotation/sequence/mgm4804308.3?evalue=10&type=organism&source=SwissProt&auth=kbm2R6jxx9LSnLVNmtBVtVNbk\n",
    "#s13_R2- https://api-ui.mg-rast.org/metagenome/72d6f57b296d676d343638363631342e33?verbosity=stats&detail=ontology&auth=kbm2R6jxx9LSnLVNmtBVtVNbk\n",
    "\n",
    "#http://api.mg-rast.org/api.html#metagenome\n",
    "#http://api.metagenomics.anl.gov/1/annotation/sequence/mmgm4804308.3?evalue=10&type=organism&source=SwissProt&auth=kbm2R6jxx9LSnLVNmtBVtVNbk"
   ]
  },
  {
   "cell_type": "code",
   "execution_count": 31,
   "metadata": {
    "ExecuteTime": {
     "end_time": "2018-09-07T22:40:25.064947Z",
     "start_time": "2018-09-07T22:40:23.401Z"
    }
   },
   "outputs": [
    {
     "name": "stderr",
     "output_type": "stream",
     "text": [
      "Warning message in file(con, \"r\"):\n",
      "“cannot open URL 'http://api.metagenomics.anl.gov/1/annotation/sequence/mgm4804308.3?evalue=10&type=organism&source=SwissProt&auth=kbm2R6jxx9LSnLVNmtBVtVNbk': HTTP status was '401 Unauthorized'”"
     ]
    },
    {
     "ename": "ERROR",
     "evalue": "Error in file(con, \"r\"): cannot open the connection to 'http://api.metagenomics.anl.gov/1/annotation/sequence/mgm4804308.3?evalue=10&type=organism&source=SwissProt&auth=kbm2R6jxx9LSnLVNmtBVtVNbk'\n",
     "output_type": "error",
     "traceback": [
      "Error in file(con, \"r\"): cannot open the connection to 'http://api.metagenomics.anl.gov/1/annotation/sequence/mgm4804308.3?evalue=10&type=organism&source=SwissProt&auth=kbm2R6jxx9LSnLVNmtBVtVNbk'\nTraceback:\n",
      "1. rjson::fromJSON(file = \"http://api.metagenomics.anl.gov/1/annotation/sequence/mgm4804308.3?evalue=10&type=organism&source=SwissProt&auth=kbm2R6jxx9LSnLVNmtBVtVNbk\")",
      "2. paste(readLines(file, warn = FALSE), collapse = \"\")",
      "3. readLines(file, warn = FALSE)",
      "4. file(con, \"r\")"
     ]
    }
   ],
   "source": [
    "library(rjson)\n",
    "S5 <- rjson::fromJSON(file=\"http://api.metagenomics.anl.gov/1/annotation/sequence/mgm4804308.3?evalue=10&type=organism&source=SwissProt&auth=kbm2R6jxx9LSnLVNmtBVtVNbk\")\n",
    "head(S5)"
   ]
  },
  {
   "cell_type": "code",
   "execution_count": 32,
   "metadata": {
    "ExecuteTime": {
     "end_time": "2018-09-07T22:40:30.472958Z",
     "start_time": "2018-09-07T22:40:29.836Z"
    }
   },
   "outputs": [
    {
     "name": "stderr",
     "output_type": "stream",
     "text": [
      "Warning message in file(file, \"rt\"):\n",
      "“cannot open URL 'http://api.metagenomics.anl.gov/1/annotation/sequence/mgm4804308.3?evalue=10&type=organism&source=SwissProt&auth=kbm2R6jxx9LSnLVNmtBVtVNbk': HTTP status was '401 Unauthorized'”"
     ]
    },
    {
     "ename": "ERROR",
     "evalue": "Error in file(file, \"rt\"): cannot open the connection to 'http://api.metagenomics.anl.gov/1/annotation/sequence/mgm4804308.3?evalue=10&type=organism&source=SwissProt&auth=kbm2R6jxx9LSnLVNmtBVtVNbk'\n",
     "output_type": "error",
     "traceback": [
      "Error in file(file, \"rt\"): cannot open the connection to 'http://api.metagenomics.anl.gov/1/annotation/sequence/mgm4804308.3?evalue=10&type=organism&source=SwissProt&auth=kbm2R6jxx9LSnLVNmtBVtVNbk'\nTraceback:\n",
      "1. read.table(\"http://api.metagenomics.anl.gov/1/annotation/sequence/mgm4804308.3?evalue=10&type=organism&source=SwissProt&auth=kbm2R6jxx9LSnLVNmtBVtVNbk\", \n .     sep = \"\")",
      "2. file(file, \"rt\")"
     ]
    }
   ],
   "source": [
    "dAyu<-read.table('http://api.metagenomics.anl.gov/1/annotation/sequence/mgm4804308.3?evalue=10&type=organism&source=SwissProt&auth=kbm2R6jxx9LSnLVNmtBVtVNbk',sep='')"
   ]
  },
  {
   "cell_type": "code",
   "execution_count": null,
   "metadata": {},
   "outputs": [],
   "source": [
    "http://api.metagenomics.anl.gov/metadata/export/mgp17042?auth=kbm2R6jxx9LSnLVNmtBVtVNbk\n",
    "http://api.metagenomics.anl.gov/project/mgp17042?auth=kbm2R6jxx9LSnLVNmtBVtVNbk\n",
    "http://api.metagenomics.anl.gov/inbox?auth=kbm2R6jxx9LSnLVNmtBVtVNbk\n",
    "http://api.metagenomics.anl.gov/sample/mgm4804308.3?auth=kbm2R6jxx9LSnLVNmtBVtVNbk\n",
    "\n",
    "https://www.mg-rast.org/mgmain.html?mgpage=project&project=760ca003346d67703137303432 \n",
    "mgp17042\n",
    "\n",
    "https://www.mg-rast.org/mgmain.html?mgpage=pipeline"
   ]
  },
  {
   "cell_type": "code",
   "execution_count": null,
   "metadata": {},
   "outputs": [],
   "source": [
    "Name    class   fwd     rev\n",
    "s13     Vatta   TGGAACAA        TGGAACAA\n",
    "S20-2   Pita    TGGCTTCA        TGGCTTCA\n",
    "S23     Pita    TGGTGGTA        TGGTGGTA\n",
    "S27     Kapha   TTCACGCA        TTCACGCA\n",
    "S28     Vatta   AACTCACC        AACTCACC\n",
    "S2      Kapha   TCCGTCTA        TCCGTCTA\n",
    "S30     Kapha   AAGAGATC        AAGAGATC\n",
    "S31     Kapha   AAGGACAC        AAGGACAC\n",
    "S33     Kapha   AATCCGTC        AATCCGTC\n",
    "S35     Vatta   AATGTTGC        AATGTTGC\n",
    "S36     Vatta   ACACGACC        ACACGACC\n",
    "S37     Pita    ACAGATTC        ACAGATTC\n",
    "S3      Vatta   TCTTCACA        TCTTCACA\n",
    "S40     Kapha   AGATGTAC        AGATGTAC\n",
    "S44     Vatta   AGCACCTC        AGCACCTC\n",
    "S46     Kapha   AGCCATGC        AGCCATGC\n",
    "S47     Vatta   AGGCTAAC        AGGCTAAC\n",
    "S48     Vatta   ATAGCGAC        ATAGCGAC\n",
    "S5      Pita    TGAAGAGA        TGAAGAGA\n"
   ]
  },
  {
   "cell_type": "code",
   "execution_count": null,
   "metadata": {},
   "outputs": [],
   "source": [
    " \"S36-QUALITY_PASSEDk_23mer\",\n",
    "\n",
    "mgm4804296.3_metadata.json\n",
    "\n",
    " \"S23-QUALITY_PASSEDk_23mer\",\n",
    "mgm4804297.3_metadata.json\n",
    "\n",
    " \"S3-QUALITY_PASSEDk_23mer\",\n",
    "mgm4804298.3_metadata.json\n",
    " \"S44-QUALITY_PASSEDk_23mer\",\n",
    "\n",
    "mgm4804299.3_metadata.json\n",
    "\n",
    " \"S28-QUALITY_PASSEDk_23mer\",\n",
    "mgm4804300.3_metadata.json\n",
    "\n",
    " \"S31-QUALITY_PASSEDk_23mer\",\n",
    "mgm4804301.3_metadata.json\n",
    "\n",
    " \"S2-QUALITY_PASSEDk_23mer\",\n",
    "mgm4804302.3_metadata.json\n",
    " \"s13-QUALITY_PASSEDk_23mer\",\n",
    "\n",
    "mgm4804303.3_metadata.json\n",
    " \"S33-QUALITY_PASSEDk_23mer\",\n",
    "\n",
    "mgm4804304.3_metadata.json\n",
    " \"S35-QUALITY_PASSEDk_23mer\",\n",
    "\n",
    "mgm4804305.3_metadata.json\n",
    " \"S48-QUALITY_PASSEDk_23mer\",\n",
    "\n",
    "mgm4804306.3_metadata.json\n",
    " \"S46-QUALITY_PASSEDk_23mer\",\n",
    "\n",
    "mgm4804307.3_metadata.json\n",
    "\n",
    " \"S40-QUALITY_PASSEDk_23mer\",\n",
    "mgm4804308.3_metadata.json\n",
    "\n",
    " \"S5-QUALITY_PASSEDk_23mer\",\n",
    "mgm4804309.3_metadata.json\n",
    "\n",
    " \"S20-2-QUALITY_PASSEDk_23mer\",\n",
    "mgm4804310.3_metadata.json\n",
    "\n",
    " \"S37-QUALITY_PASSEDk_23mer\",\n",
    "mgm4804311.3_metadata.json\n",
    "\n",
    " \"S30-QUALITY_PASSEDk_23mer\",\n",
    "mgm4804312.3_metadata.json\n",
    " \"S47-QUALITY_PASSEDk_23mer\",\n",
    "\n",
    "mgm4804313.3_metadata.json\n",
    "\n",
    " \"S27-QUALITY_PASSEDk_23mer\","
   ]
  },
  {
   "cell_type": "code",
   "execution_count": 23,
   "metadata": {
    "ExecuteTime": {
     "end_time": "2018-10-18T15:03:33.183531Z",
     "start_time": "2018-10-18T15:03:13.431Z"
    }
   },
   "outputs": [],
   "source": [
    "#mgm4804295 = read.delim('/mnt/promec-data/HeLa/mgm4804295.3.csv')\n",
    "mgm4804307 = read.delim('/mnt/promec-data/HeLa/mgm4804307.3.csv')"
   ]
  },
  {
   "cell_type": "code",
   "execution_count": 24,
   "metadata": {
    "ExecuteTime": {
     "end_time": "2018-10-18T15:03:38.640664Z",
     "start_time": "2018-10-18T15:03:36.528Z"
    }
   },
   "outputs": [
    {
     "data": {
      "text/plain": [
       "                                         query.sequence.id \n",
       " mgm4804307.3|contig-1202000022_1_269_-|RefSeq    :     6  \n",
       " mgm4804307.3|contig-2636000016_1_176_-|RefSeq    :     6  \n",
       " mgm4804307.3|contig-2882000006_3294_5779_-|RefSeq:     6  \n",
       " mgm4804307.3|contig-3195000016_1_159_+|RefSeq    :     6  \n",
       " mgm4804307.3|contig-3535000011_1_580_-|RefSeq    :     6  \n",
       " mgm4804307.3|contig-5145000028_1_120_-|RefSeq    :     6  \n",
       " (Other)                                          :386772  \n",
       "                       hit.m5nr.id..md5sum. percentage.identity\n",
       " de956ee4183ba76379334930618bc41c:    75    Min.   : 46.05     \n",
       " 65fda27cd1beb007e05b628ff56362c8:    70    1st Qu.: 69.15     \n",
       " f927215868a5ad1b9b0eb3c3cef17d9d:    66    Median : 78.12     \n",
       " f9b1b75548aa769965da34c44861919c:    64    Mean   : 79.59     \n",
       " b327d7d9fd443e8381ff66fd5c24b52a:    63    3rd Qu.: 90.00     \n",
       " 669614befb643d31181335eacd85989d:    59    Max.   :100.00     \n",
       " (Other)                         :386411    NA's   :1          \n",
       " alignment.length  number.of.mismatches number.of.gap.openings  query.start    \n",
       " Min.   :  17.00   Min.   :  1.00       Min.   :1              Min.   :   1.0  \n",
       " 1st Qu.:  37.00   1st Qu.:  7.00       1st Qu.:1              1st Qu.:   1.0  \n",
       " Median :  50.00   Median : 13.00       Median :1              Median :   1.0  \n",
       " Mean   :  92.41   Mean   : 19.28       Mean   :1              Mean   :  31.7  \n",
       " 3rd Qu.:  91.00   3rd Qu.: 23.00       3rd Qu.:1              3rd Qu.:  11.0  \n",
       " Max.   :1481.00   Max.   :352.00       Max.   :3              Max.   :3487.0  \n",
       " NA's   :1         NA's   :39940        NA's   :382292         NA's   :1       \n",
       "   query.end        hit.start          hit.end           e.value        \n",
       " Min.   :  18.0   Min.   :    1.0   Min.   :   18.0   Min.   :0.00e+00  \n",
       " 1st Qu.:  40.0   1st Qu.:   35.0   1st Qu.:  124.0   1st Qu.:0.00e+00  \n",
       " Median :  57.0   Median :  132.0   Median :  229.0   Median :0.00e+00  \n",
       " Mean   : 123.1   Mean   :  193.3   Mean   :  284.7   Mean   :1.65e-05  \n",
       " 3rd Qu.: 119.0   3rd Qu.:  274.0   3rd Qu.:  377.0   3rd Qu.:0.00e+00  \n",
       " Max.   :3603.0   Max.   :10252.0   Max.   :10289.0   Max.   :8.50e-04  \n",
       " NA's   :1        NA's   :1         NA's   :1         NA's   :1         \n",
       "   bit.score                        semicolon.separated.list.of.annotations\n",
       " Min.   :  42.0   [Prevotella copri DSM 18205]          : 22156            \n",
       " 1st Qu.:  60.0   [Eubacterium rectale ATCC 33656]      : 15502            \n",
       " Median :  82.0   [Roseburia intestinalis L1-82]        : 11143            \n",
       " Mean   : 154.9   [Prevotella melaninogenica ATCC 25845]: 10451            \n",
       " 3rd Qu.: 147.0   [Prevotella ruminicola 23]            : 10396            \n",
       " Max.   :2816.0   [Eubacterium eligens ATCC 27750]      :  8347            \n",
       " NA's   :1        (Other)                               :308813            "
      ]
     },
     "metadata": {},
     "output_type": "display_data"
    }
   ],
   "source": [
    "#summary(mgm4804295)\n",
    "summary(mgm4804307)"
   ]
  },
  {
   "cell_type": "code",
   "execution_count": 4,
   "metadata": {
    "ExecuteTime": {
     "end_time": "2018-10-18T12:34:52.300169Z",
     "start_time": "2018-10-18T12:34:51.592Z"
    }
   },
   "outputs": [
    {
     "data": {
      "image/png": "[encoded data removed]",
      "text/plain": [
       "Plot with title “Histogram of mgm4804295$percentage.identity”"
      ]
     },
     "metadata": {},
     "output_type": "display_data"
    }
   ],
   "source": [
    "hist(mgm4804295$percentage.identity)"
   ]
  },
  {
   "cell_type": "code",
   "execution_count": 25,
   "metadata": {
    "ExecuteTime": {
     "end_time": "2018-10-18T15:04:31.862807Z",
     "start_time": "2018-10-18T15:04:31.397Z"
    }
   },
   "outputs": [
    {
     "data": {
      "text/html": [
       "<dl class=dl-horizontal>\n",
       "\t<dt>[Prevotella copri DSM 18205]</dt>\n",
       "\t\t<dd>21975</dd>\n",
       "\t<dt>[Eubacterium rectale ATCC 33656]</dt>\n",
       "\t\t<dd>15153</dd>\n",
       "\t<dt>[Roseburia intestinalis L1-82]</dt>\n",
       "\t\t<dd>11059</dd>\n",
       "\t<dt>[Prevotella melaninogenica ATCC 25845]</dt>\n",
       "\t\t<dd>10234</dd>\n",
       "\t<dt>[Prevotella ruminicola 23]</dt>\n",
       "\t\t<dd>10105</dd>\n",
       "\t<dt>[Eubacterium eligens ATCC 27750]</dt>\n",
       "\t\t<dd>8146</dd>\n",
       "\t<dt>[Roseburia inulinivorans DSM 16841]</dt>\n",
       "\t\t<dd>7712</dd>\n",
       "\t<dt>[Faecalibacterium prausnitzii M21/2]</dt>\n",
       "\t\t<dd>6050</dd>\n",
       "\t<dt>[Ruminococcus sp. 5_1_39BFAA]</dt>\n",
       "\t\t<dd>5774</dd>\n",
       "\t<dt>[Coprococcus eutactus ATCC 27759]</dt>\n",
       "\t\t<dd>5354</dd>\n",
       "\t<dt>[Faecalibacterium prausnitzii A2-165]</dt>\n",
       "\t\t<dd>5252</dd>\n",
       "\t<dt>[Clostridium phytofermentans ISDg]</dt>\n",
       "\t\t<dd>5120</dd>\n",
       "\t<dt>[Dorea longicatena DSM 13814]</dt>\n",
       "\t\t<dd>4676</dd>\n",
       "\t<dt>[Ruminococcus albus 7]</dt>\n",
       "\t\t<dd>4350</dd>\n",
       "\t<dt>[Collinsella aerofaciens ATCC 25986]</dt>\n",
       "\t\t<dd>4314</dd>\n",
       "\t<dt>[Coprococcus comes ATCC 27758]</dt>\n",
       "\t\t<dd>4294</dd>\n",
       "\t<dt>[Catenibacterium mitsuokai DSM 15897]</dt>\n",
       "\t\t<dd>4142</dd>\n",
       "\t<dt>[Clostridium saccharolyticum WM1]</dt>\n",
       "\t\t<dd>4044</dd>\n",
       "\t<dt>[Bacteroides capillosus ATCC 29799]</dt>\n",
       "\t\t<dd>3775</dd>\n",
       "\t<dt>[Butyrivibrio proteoclasticus B316]</dt>\n",
       "\t\t<dd>3293</dd>\n",
       "\t<dt>[Bifidobacterium adolescentis ATCC 15703]</dt>\n",
       "\t\t<dd>3121</dd>\n",
       "\t<dt>[Bifidobacterium catenulatum DSM 16992]</dt>\n",
       "\t\t<dd>2971</dd>\n",
       "\t<dt>[Faecalibacterium cf. prausnitzii KLE1255]</dt>\n",
       "\t\t<dd>2915</dd>\n",
       "\t<dt>[Prevotella buccae D17]</dt>\n",
       "\t\t<dd>2691</dd>\n",
       "\t<dt>[Ethanoligenens harbinense YUAN-3]</dt>\n",
       "\t\t<dd>2630</dd>\n",
       "\t<dt>[Ruminococcaceae bacterium D16]</dt>\n",
       "\t\t<dd>2563</dd>\n",
       "\t<dt>[Clostridium leptum DSM 753]</dt>\n",
       "\t\t<dd>2530</dd>\n",
       "\t<dt>[Prevotella bergensis DSM 17361]</dt>\n",
       "\t\t<dd>2443</dd>\n",
       "\t<dt>[Prevotella bryantii B14]</dt>\n",
       "\t\t<dd>2312</dd>\n",
       "\t<dt>[Prevotella oris F0302]</dt>\n",
       "\t\t<dd>2190</dd>\n",
       "\t<dt>[Bacteroides vulgatus ATCC 8482]</dt>\n",
       "\t\t<dd>2183</dd>\n",
       "\t<dt>[Ruminococcus albus 8]</dt>\n",
       "\t\t<dd>2144</dd>\n",
       "\t<dt>[Bacteroides thetaiotaomicron VPI-5482]</dt>\n",
       "\t\t<dd>1979</dd>\n",
       "\t<dt>[Prevotella tannerae ATCC 51259]</dt>\n",
       "\t\t<dd>1962</dd>\n",
       "\t<dt>[Clostridium beijerinckii NCIMB 8052]</dt>\n",
       "\t\t<dd>1956</dd>\n",
       "\t<dt>[Prevotella oralis ATCC 33269]</dt>\n",
       "\t\t<dd>1952</dd>\n",
       "\t<dt>[Eubacterium siraeum DSM 15702]</dt>\n",
       "\t\t<dd>1917</dd>\n",
       "\t<dt>[Prevotella buccalis ATCC 35310]</dt>\n",
       "\t\t<dd>1908</dd>\n",
       "\t<dt>[Parabacteroides distasonis ATCC 8503]</dt>\n",
       "\t\t<dd>1889</dd>\n",
       "\t<dt>[Dorea formicigenerans ATCC 27755]</dt>\n",
       "\t\t<dd>1855</dd>\n",
       "\t<dt>[Ruminococcus flavefaciens FD-1]</dt>\n",
       "\t\t<dd>1847</dd>\n",
       "\t<dt>[Ruminococcus lactaris ATCC 29176]</dt>\n",
       "\t\t<dd>1639</dd>\n",
       "\t<dt>[Holdemania filiformis DSM 12042]</dt>\n",
       "\t\t<dd>1628</dd>\n",
       "\t<dt>[Clostridium cellulolyticum H10]</dt>\n",
       "\t\t<dd>1583</dd>\n",
       "\t<dt>[Marvinbryantia formatexigens DSM 14469]</dt>\n",
       "\t\t<dd>1539</dd>\n",
       "\t<dt>[Subdoligranulum variabile DSM 15176]</dt>\n",
       "\t\t<dd>1539</dd>\n",
       "\t<dt>[Desulfovibrio piger ATCC 29098]</dt>\n",
       "\t\t<dd>1518</dd>\n",
       "\t<dt>[Ruminococcus obeum ATCC 29174]</dt>\n",
       "\t\t<dd>1508</dd>\n",
       "\t<dt>[Anaerotruncus colihominis DSM 17241]</dt>\n",
       "\t\t<dd>1434</dd>\n",
       "\t<dt>[Eubacterium limosum KIST612]</dt>\n",
       "\t\t<dd>1431</dd>\n",
       "\t<dt>[Prevotella timonensis CRIS 5C-B1]</dt>\n",
       "\t\t<dd>1342</dd>\n",
       "\t<dt>[Dialister invisus DSM 15470]</dt>\n",
       "\t\t<dd>1287</dd>\n",
       "\t<dt>[Bacteroides pectinophilus ATCC 43243]</dt>\n",
       "\t\t<dd>1279</dd>\n",
       "\t<dt>[Clostridium methylpentosum DSM 5476]</dt>\n",
       "\t\t<dd>1263</dd>\n",
       "\t<dt>[Eubacterium hallii DSM 3353]</dt>\n",
       "\t\t<dd>1186</dd>\n",
       "\t<dt>[Desulfitobacterium hafniense Y51]</dt>\n",
       "\t\t<dd>1152</dd>\n",
       "\t<dt>[Clostridium sp. M62/1]</dt>\n",
       "\t\t<dd>1144</dd>\n",
       "\t<dt>[Alkaliphilus metalliredigens QYMF]</dt>\n",
       "\t\t<dd>1120</dd>\n",
       "\t<dt>[Clostridium acetobutylicum ATCC 824]</dt>\n",
       "\t\t<dd>1109</dd>\n",
       "\t<dt>[Clostridium nexile DSM 1787]</dt>\n",
       "\t\t<dd>1108</dd>\n",
       "\t<dt>[Prevotella sp. oral taxon 317 str. F0108]</dt>\n",
       "\t\t<dd>1094</dd>\n",
       "\t<dt>[Prevotella sp. oral taxon 472 str. F0295]</dt>\n",
       "\t\t<dd>1094</dd>\n",
       "\t<dt>[Clostridium asparagiforme DSM 15981]</dt>\n",
       "\t\t<dd>1050</dd>\n",
       "\t<dt>[Prevotella veroralis F0319]</dt>\n",
       "\t\t<dd>1002</dd>\n",
       "\t<dt>[Slackia heliotrinireducens DSM 20476]</dt>\n",
       "\t\t<dd>992</dd>\n",
       "\t<dt>[Bacteroides plebeius DSM 17135]</dt>\n",
       "\t\t<dd>990</dd>\n",
       "\t<dt>[Acidaminococcus fermentans DSM 20731]</dt>\n",
       "\t\t<dd>973</dd>\n",
       "\t<dt>[Prevotella marshii DSM 16973]</dt>\n",
       "\t\t<dd>962</dd>\n",
       "\t<dt>[Eubacterium ventriosum ATCC 27560]</dt>\n",
       "\t\t<dd>959</dd>\n",
       "\t<dt>[Clostridium sp. L2-50]</dt>\n",
       "\t\t<dd>957</dd>\n",
       "\t<dt>[Caldicellulosiruptor saccharolyticus DSM 8903]</dt>\n",
       "\t\t<dd>938</dd>\n",
       "\t<dt>[Clostridium thermocellum ATCC 27405]</dt>\n",
       "\t\t<dd>938</dd>\n",
       "\t<dt>[Clostridium hathewayi DSM 13479]</dt>\n",
       "\t\t<dd>937</dd>\n",
       "\t<dt>[Eggerthella lenta DSM 2243]</dt>\n",
       "\t\t<dd>930</dd>\n",
       "\t<dt>[Thermoanaerobacter tengcongensis MB4]</dt>\n",
       "\t\t<dd>919</dd>\n",
       "\t<dt>[Parabacteroides merdae ATCC 43184]</dt>\n",
       "\t\t<dd>910</dd>\n",
       "\t<dt>[Atopobium parvulum DSM 20469]</dt>\n",
       "\t\t<dd>909</dd>\n",
       "\t<dt>[Clostridium bolteae ATCC BAA-613]</dt>\n",
       "\t\t<dd>904</dd>\n",
       "\t<dt>[Ruminococcus gnavus ATCC 29149]</dt>\n",
       "\t\t<dd>898</dd>\n",
       "\t<dt>[Bacteroides fragilis NCTC 9343]</dt>\n",
       "\t\t<dd>890</dd>\n",
       "\t<dt>[Bacteroides fragilis YCH46]</dt>\n",
       "\t\t<dd>882</dd>\n",
       "\t<dt>[Olsenella uli DSM 7084]</dt>\n",
       "\t\t<dd>872</dd>\n",
       "\t<dt>[Eubacterium biforme DSM 3989]</dt>\n",
       "\t\t<dd>871</dd>\n",
       "\t<dt>[Bacteroides coprocola DSM 17136]</dt>\n",
       "\t\t<dd>863</dd>\n",
       "\t<dt>[Butyrivibrio crossotus DSM 2876]</dt>\n",
       "\t\t<dd>861</dd>\n",
       "\t<dt>[Blautia hansenii DSM 20583]</dt>\n",
       "\t\t<dd>854</dd>\n",
       "\t<dt>[Burkholderiales bacterium 1_1_47]</dt>\n",
       "\t\t<dd>835</dd>\n",
       "\t<dt>[Prevotella sp. oral taxon 299 str. F0039]</dt>\n",
       "\t\t<dd>833</dd>\n",
       "\t<dt>[Clostridium novyi NT]</dt>\n",
       "\t\t<dd>831</dd>\n",
       "\t<dt>[Blautia hydrogenotrophica DSM 10507]</dt>\n",
       "\t\t<dd>810</dd>\n",
       "\t<dt>[Clostridiales bacterium 1_7_47FAA]</dt>\n",
       "\t\t<dd>785</dd>\n",
       "\t<dt>[Clostridium cellulovorans 743B];[Clostridium cellulovorans 743B]</dt>\n",
       "\t\t<dd>774</dd>\n",
       "\t<dt>[Bifidobacterium pseudocatenulatum DSM 20438]</dt>\n",
       "\t\t<dd>757</dd>\n",
       "\t<dt>[Ruminococcus torques ATCC 27756]</dt>\n",
       "\t\t<dd>750</dd>\n",
       "\t<dt>[Clostridium scindens ATCC 35704]</dt>\n",
       "\t\t<dd>741</dd>\n",
       "\t<dt>[Prevotella oris C735]</dt>\n",
       "\t\t<dd>734</dd>\n",
       "\t<dt>[Alkaliphilus oremlandii OhILAs]</dt>\n",
       "\t\t<dd>729</dd>\n",
       "\t<dt>[Clostridium sp. SS2/1]</dt>\n",
       "\t\t<dd>719</dd>\n",
       "\t<dt>(Other)</dt>\n",
       "\t\t<dd>125452</dd>\n",
       "\t<dt>NA's</dt>\n",
       "\t\t<dd>1</dd>\n",
       "</dl>\n"
      ],
      "text/latex": [
       "\\begin{description*}\n",
       "\\item[\\{{[}\\}Prevotella copri DSM 18205\\{{]}\\}] 21975\n",
       "\\item[\\{{[}\\}Eubacterium rectale ATCC 33656\\{{]}\\}] 15153\n",
       "\\item[\\{{[}\\}Roseburia intestinalis L1-82\\{{]}\\}] 11059\n",
       "\\item[\\{{[}\\}Prevotella melaninogenica ATCC 25845\\{{]}\\}] 10234\n",
       "\\item[\\{{[}\\}Prevotella ruminicola 23\\{{]}\\}] 10105\n",
       "\\item[\\{{[}\\}Eubacterium eligens ATCC 27750\\{{]}\\}] 8146\n",
       "\\item[\\{{[}\\}Roseburia inulinivorans DSM 16841\\{{]}\\}] 7712\n",
       "\\item[\\{{[}\\}Faecalibacterium prausnitzii M21/2\\{{]}\\}] 6050\n",
       "\\item[\\{{[}\\}Ruminococcus sp. 5\\textbackslash{}\\_1\\textbackslash{}\\_39BFAA\\{{]}\\}] 5774\n",
       "\\item[\\{{[}\\}Coprococcus eutactus ATCC 27759\\{{]}\\}] 5354\n",
       "\\item[\\{{[}\\}Faecalibacterium prausnitzii A2-165\\{{]}\\}] 5252\n",
       "\\item[\\{{[}\\}Clostridium phytofermentans ISDg\\{{]}\\}] 5120\n",
       "\\item[\\{{[}\\}Dorea longicatena DSM 13814\\{{]}\\}] 4676\n",
       "\\item[\\{{[}\\}Ruminococcus albus 7\\{{]}\\}] 4350\n",
       "\\item[\\{{[}\\}Collinsella aerofaciens ATCC 25986\\{{]}\\}] 4314\n",
       "\\item[\\{{[}\\}Coprococcus comes ATCC 27758\\{{]}\\}] 4294\n",
       "\\item[\\{{[}\\}Catenibacterium mitsuokai DSM 15897\\{{]}\\}] 4142\n",
       "\\item[\\{{[}\\}Clostridium saccharolyticum WM1\\{{]}\\}] 4044\n",
       "\\item[\\{{[}\\}Bacteroides capillosus ATCC 29799\\{{]}\\}] 3775\n",
       "\\item[\\{{[}\\}Butyrivibrio proteoclasticus B316\\{{]}\\}] 3293\n",
       "\\item[\\{{[}\\}Bifidobacterium adolescentis ATCC 15703\\{{]}\\}] 3121\n",
       "\\item[\\{{[}\\}Bifidobacterium catenulatum DSM 16992\\{{]}\\}] 2971\n",
       "\\item[\\{{[}\\}Faecalibacterium cf. prausnitzii KLE1255\\{{]}\\}] 2915\n",
       "\\item[\\{{[}\\}Prevotella buccae D17\\{{]}\\}] 2691\n",
       "\\item[\\{{[}\\}Ethanoligenens harbinense YUAN-3\\{{]}\\}] 2630\n",
       "\\item[\\{{[}\\}Ruminococcaceae bacterium D16\\{{]}\\}] 2563\n",
       "\\item[\\{{[}\\}Clostridium leptum DSM 753\\{{]}\\}] 2530\n",
       "\\item[\\{{[}\\}Prevotella bergensis DSM 17361\\{{]}\\}] 2443\n",
       "\\item[\\{{[}\\}Prevotella bryantii B14\\{{]}\\}] 2312\n",
       "\\item[\\{{[}\\}Prevotella oris F0302\\{{]}\\}] 2190\n",
       "\\item[\\{{[}\\}Bacteroides vulgatus ATCC 8482\\{{]}\\}] 2183\n",
       "\\item[\\{{[}\\}Ruminococcus albus 8\\{{]}\\}] 2144\n",
       "\\item[\\{{[}\\}Bacteroides thetaiotaomicron VPI-5482\\{{]}\\}] 1979\n",
       "\\item[\\{{[}\\}Prevotella tannerae ATCC 51259\\{{]}\\}] 1962\n",
       "\\item[\\{{[}\\}Clostridium beijerinckii NCIMB 8052\\{{]}\\}] 1956\n",
       "\\item[\\{{[}\\}Prevotella oralis ATCC 33269\\{{]}\\}] 1952\n",
       "\\item[\\{{[}\\}Eubacterium siraeum DSM 15702\\{{]}\\}] 1917\n",
       "\\item[\\{{[}\\}Prevotella buccalis ATCC 35310\\{{]}\\}] 1908\n",
       "\\item[\\{{[}\\}Parabacteroides distasonis ATCC 8503\\{{]}\\}] 1889\n",
       "\\item[\\{{[}\\}Dorea formicigenerans ATCC 27755\\{{]}\\}] 1855\n",
       "\\item[\\{{[}\\}Ruminococcus flavefaciens FD-1\\{{]}\\}] 1847\n",
       "\\item[\\{{[}\\}Ruminococcus lactaris ATCC 29176\\{{]}\\}] 1639\n",
       "\\item[\\{{[}\\}Holdemania filiformis DSM 12042\\{{]}\\}] 1628\n",
       "\\item[\\{{[}\\}Clostridium cellulolyticum H10\\{{]}\\}] 1583\n",
       "\\item[\\{{[}\\}Marvinbryantia formatexigens DSM 14469\\{{]}\\}] 1539\n",
       "\\item[\\{{[}\\}Subdoligranulum variabile DSM 15176\\{{]}\\}] 1539\n",
       "\\item[\\{{[}\\}Desulfovibrio piger ATCC 29098\\{{]}\\}] 1518\n",
       "\\item[\\{{[}\\}Ruminococcus obeum ATCC 29174\\{{]}\\}] 1508\n",
       "\\item[\\{{[}\\}Anaerotruncus colihominis DSM 17241\\{{]}\\}] 1434\n",
       "\\item[\\{{[}\\}Eubacterium limosum KIST612\\{{]}\\}] 1431\n",
       "\\item[\\{{[}\\}Prevotella timonensis CRIS 5C-B1\\{{]}\\}] 1342\n",
       "\\item[\\{{[}\\}Dialister invisus DSM 15470\\{{]}\\}] 1287\n",
       "\\item[\\{{[}\\}Bacteroides pectinophilus ATCC 43243\\{{]}\\}] 1279\n",
       "\\item[\\{{[}\\}Clostridium methylpentosum DSM 5476\\{{]}\\}] 1263\n",
       "\\item[\\{{[}\\}Eubacterium hallii DSM 3353\\{{]}\\}] 1186\n",
       "\\item[\\{{[}\\}Desulfitobacterium hafniense Y51\\{{]}\\}] 1152\n",
       "\\item[\\{{[}\\}Clostridium sp. M62/1\\{{]}\\}] 1144\n",
       "\\item[\\{{[}\\}Alkaliphilus metalliredigens QYMF\\{{]}\\}] 1120\n",
       "\\item[\\{{[}\\}Clostridium acetobutylicum ATCC 824\\{{]}\\}] 1109\n",
       "\\item[\\{{[}\\}Clostridium nexile DSM 1787\\{{]}\\}] 1108\n",
       "\\item[\\{{[}\\}Prevotella sp. oral taxon 317 str. F0108\\{{]}\\}] 1094\n",
       "\\item[\\{{[}\\}Prevotella sp. oral taxon 472 str. F0295\\{{]}\\}] 1094\n",
       "\\item[\\{{[}\\}Clostridium asparagiforme DSM 15981\\{{]}\\}] 1050\n",
       "\\item[\\{{[}\\}Prevotella veroralis F0319\\{{]}\\}] 1002\n",
       "\\item[\\{{[}\\}Slackia heliotrinireducens DSM 20476\\{{]}\\}] 992\n",
       "\\item[\\{{[}\\}Bacteroides plebeius DSM 17135\\{{]}\\}] 990\n",
       "\\item[\\{{[}\\}Acidaminococcus fermentans DSM 20731\\{{]}\\}] 973\n",
       "\\item[\\{{[}\\}Prevotella marshii DSM 16973\\{{]}\\}] 962\n",
       "\\item[\\{{[}\\}Eubacterium ventriosum ATCC 27560\\{{]}\\}] 959\n",
       "\\item[\\{{[}\\}Clostridium sp. L2-50\\{{]}\\}] 957\n",
       "\\item[\\{{[}\\}Caldicellulosiruptor saccharolyticus DSM 8903\\{{]}\\}] 938\n",
       "\\item[\\{{[}\\}Clostridium thermocellum ATCC 27405\\{{]}\\}] 938\n",
       "\\item[\\{{[}\\}Clostridium hathewayi DSM 13479\\{{]}\\}] 937\n",
       "\\item[\\{{[}\\}Eggerthella lenta DSM 2243\\{{]}\\}] 930\n",
       "\\item[\\{{[}\\}Thermoanaerobacter tengcongensis MB4\\{{]}\\}] 919\n",
       "\\item[\\{{[}\\}Parabacteroides merdae ATCC 43184\\{{]}\\}] 910\n",
       "\\item[\\{{[}\\}Atopobium parvulum DSM 20469\\{{]}\\}] 909\n",
       "\\item[\\{{[}\\}Clostridium bolteae ATCC BAA-613\\{{]}\\}] 904\n",
       "\\item[\\{{[}\\}Ruminococcus gnavus ATCC 29149\\{{]}\\}] 898\n",
       "\\item[\\{{[}\\}Bacteroides fragilis NCTC 9343\\{{]}\\}] 890\n",
       "\\item[\\{{[}\\}Bacteroides fragilis YCH46\\{{]}\\}] 882\n",
       "\\item[\\{{[}\\}Olsenella uli DSM 7084\\{{]}\\}] 872\n",
       "\\item[\\{{[}\\}Eubacterium biforme DSM 3989\\{{]}\\}] 871\n",
       "\\item[\\{{[}\\}Bacteroides coprocola DSM 17136\\{{]}\\}] 863\n",
       "\\item[\\{{[}\\}Butyrivibrio crossotus DSM 2876\\{{]}\\}] 861\n",
       "\\item[\\{{[}\\}Blautia hansenii DSM 20583\\{{]}\\}] 854\n",
       "\\item[\\{{[}\\}Burkholderiales bacterium 1\\textbackslash{}\\_1\\textbackslash{}\\_47\\{{]}\\}] 835\n",
       "\\item[\\{{[}\\}Prevotella sp. oral taxon 299 str. F0039\\{{]}\\}] 833\n",
       "\\item[\\{{[}\\}Clostridium novyi NT\\{{]}\\}] 831\n",
       "\\item[\\{{[}\\}Blautia hydrogenotrophica DSM 10507\\{{]}\\}] 810\n",
       "\\item[\\{{[}\\}Clostridiales bacterium 1\\textbackslash{}\\_7\\textbackslash{}\\_47FAA\\{{]}\\}] 785\n",
       "\\item[\\{{[}\\}Clostridium cellulovorans 743B\\{{]}\\};\\{{[}\\}Clostridium cellulovorans 743B\\{{]}\\}] 774\n",
       "\\item[\\{{[}\\}Bifidobacterium pseudocatenulatum DSM 20438\\{{]}\\}] 757\n",
       "\\item[\\{{[}\\}Ruminococcus torques ATCC 27756\\{{]}\\}] 750\n",
       "\\item[\\{{[}\\}Clostridium scindens ATCC 35704\\{{]}\\}] 741\n",
       "\\item[\\{{[}\\}Prevotella oris C735\\{{]}\\}] 734\n",
       "\\item[\\{{[}\\}Alkaliphilus oremlandii OhILAs\\{{]}\\}] 729\n",
       "\\item[\\{{[}\\}Clostridium sp. SS2/1\\{{]}\\}] 719\n",
       "\\item[(Other)] 125452\n",
       "\\item[NA's] 1\n",
       "\\end{description*}\n"
      ],
      "text/markdown": [
       "[Prevotella copri DSM 18205]\n",
       ":   21975[Eubacterium rectale ATCC 33656]\n",
       ":   15153[Roseburia intestinalis L1-82]\n",
       ":   11059[Prevotella melaninogenica ATCC 25845]\n",
       ":   10234[Prevotella ruminicola 23]\n",
       ":   10105[Eubacterium eligens ATCC 27750]\n",
       ":   8146[Roseburia inulinivorans DSM 16841]\n",
       ":   7712[Faecalibacterium prausnitzii M21/2]\n",
       ":   6050[Ruminococcus sp. 5_1_39BFAA]\n",
       ":   5774[Coprococcus eutactus ATCC 27759]\n",
       ":   5354[Faecalibacterium prausnitzii A2-165]\n",
       ":   5252[Clostridium phytofermentans ISDg]\n",
       ":   5120[Dorea longicatena DSM 13814]\n",
       ":   4676[Ruminococcus albus 7]\n",
       ":   4350[Collinsella aerofaciens ATCC 25986]\n",
       ":   4314[Coprococcus comes ATCC 27758]\n",
       ":   4294[Catenibacterium mitsuokai DSM 15897]\n",
       ":   4142[Clostridium saccharolyticum WM1]\n",
       ":   4044[Bacteroides capillosus ATCC 29799]\n",
       ":   3775[Butyrivibrio proteoclasticus B316]\n",
       ":   3293[Bifidobacterium adolescentis ATCC 15703]\n",
       ":   3121[Bifidobacterium catenulatum DSM 16992]\n",
       ":   2971[Faecalibacterium cf. prausnitzii KLE1255]\n",
       ":   2915[Prevotella buccae D17]\n",
       ":   2691[Ethanoligenens harbinense YUAN-3]\n",
       ":   2630[Ruminococcaceae bacterium D16]\n",
       ":   2563[Clostridium leptum DSM 753]\n",
       ":   2530[Prevotella bergensis DSM 17361]\n",
       ":   2443[Prevotella bryantii B14]\n",
       ":   2312[Prevotella oris F0302]\n",
       ":   2190[Bacteroides vulgatus ATCC 8482]\n",
       ":   2183[Ruminococcus albus 8]\n",
       ":   2144[Bacteroides thetaiotaomicron VPI-5482]\n",
       ":   1979[Prevotella tannerae ATCC 51259]\n",
       ":   1962[Clostridium beijerinckii NCIMB 8052]\n",
       ":   1956[Prevotella oralis ATCC 33269]\n",
       ":   1952[Eubacterium siraeum DSM 15702]\n",
       ":   1917[Prevotella buccalis ATCC 35310]\n",
       ":   1908[Parabacteroides distasonis ATCC 8503]\n",
       ":   1889[Dorea formicigenerans ATCC 27755]\n",
       ":   1855[Ruminococcus flavefaciens FD-1]\n",
       ":   1847[Ruminococcus lactaris ATCC 29176]\n",
       ":   1639[Holdemania filiformis DSM 12042]\n",
       ":   1628[Clostridium cellulolyticum H10]\n",
       ":   1583[Marvinbryantia formatexigens DSM 14469]\n",
       ":   1539[Subdoligranulum variabile DSM 15176]\n",
       ":   1539[Desulfovibrio piger ATCC 29098]\n",
       ":   1518[Ruminococcus obeum ATCC 29174]\n",
       ":   1508[Anaerotruncus colihominis DSM 17241]\n",
       ":   1434[Eubacterium limosum KIST612]\n",
       ":   1431[Prevotella timonensis CRIS 5C-B1]\n",
       ":   1342[Dialister invisus DSM 15470]\n",
       ":   1287[Bacteroides pectinophilus ATCC 43243]\n",
       ":   1279[Clostridium methylpentosum DSM 5476]\n",
       ":   1263[Eubacterium hallii DSM 3353]\n",
       ":   1186[Desulfitobacterium hafniense Y51]\n",
       ":   1152[Clostridium sp. M62/1]\n",
       ":   1144[Alkaliphilus metalliredigens QYMF]\n",
       ":   1120[Clostridium acetobutylicum ATCC 824]\n",
       ":   1109[Clostridium nexile DSM 1787]\n",
       ":   1108[Prevotella sp. oral taxon 317 str. F0108]\n",
       ":   1094[Prevotella sp. oral taxon 472 str. F0295]\n",
       ":   1094[Clostridium asparagiforme DSM 15981]\n",
       ":   1050[Prevotella veroralis F0319]\n",
       ":   1002[Slackia heliotrinireducens DSM 20476]\n",
       ":   992[Bacteroides plebeius DSM 17135]\n",
       ":   990[Acidaminococcus fermentans DSM 20731]\n",
       ":   973[Prevotella marshii DSM 16973]\n",
       ":   962[Eubacterium ventriosum ATCC 27560]\n",
       ":   959[Clostridium sp. L2-50]\n",
       ":   957[Caldicellulosiruptor saccharolyticus DSM 8903]\n",
       ":   938[Clostridium thermocellum ATCC 27405]\n",
       ":   938[Clostridium hathewayi DSM 13479]\n",
       ":   937[Eggerthella lenta DSM 2243]\n",
       ":   930[Thermoanaerobacter tengcongensis MB4]\n",
       ":   919[Parabacteroides merdae ATCC 43184]\n",
       ":   910[Atopobium parvulum DSM 20469]\n",
       ":   909[Clostridium bolteae ATCC BAA-613]\n",
       ":   904[Ruminococcus gnavus ATCC 29149]\n",
       ":   898[Bacteroides fragilis NCTC 9343]\n",
       ":   890[Bacteroides fragilis YCH46]\n",
       ":   882[Olsenella uli DSM 7084]\n",
       ":   872[Eubacterium biforme DSM 3989]\n",
       ":   871[Bacteroides coprocola DSM 17136]\n",
       ":   863[Butyrivibrio crossotus DSM 2876]\n",
       ":   861[Blautia hansenii DSM 20583]\n",
       ":   854[Burkholderiales bacterium 1_1_47]\n",
       ":   835[Prevotella sp. oral taxon 299 str. F0039]\n",
       ":   833[Clostridium novyi NT]\n",
       ":   831[Blautia hydrogenotrophica DSM 10507]\n",
       ":   810[Clostridiales bacterium 1_7_47FAA]\n",
       ":   785[Clostridium cellulovorans 743B];[Clostridium cellulovorans 743B]\n",
       ":   774[Bifidobacterium pseudocatenulatum DSM 20438]\n",
       ":   757[Ruminococcus torques ATCC 27756]\n",
       ":   750[Clostridium scindens ATCC 35704]\n",
       ":   741[Prevotella oris C735]\n",
       ":   734[Alkaliphilus oremlandii OhILAs]\n",
       ":   729[Clostridium sp. SS2/1]\n",
       ":   719(Other)\n",
       ":   125452NA's\n",
       ":   1\n",
       "\n"
      ],
      "text/plain": [
       "                                     [Prevotella copri DSM 18205] \n",
       "                                                            21975 \n",
       "                                 [Eubacterium rectale ATCC 33656] \n",
       "                                                            15153 \n",
       "                                   [Roseburia intestinalis L1-82] \n",
       "                                                            11059 \n",
       "                           [Prevotella melaninogenica ATCC 25845] \n",
       "                                                            10234 \n",
       "                                       [Prevotella ruminicola 23] \n",
       "                                                            10105 \n",
       "                                 [Eubacterium eligens ATCC 27750] \n",
       "                                                             8146 \n",
       "                              [Roseburia inulinivorans DSM 16841] \n",
       "                                                             7712 \n",
       "                             [Faecalibacterium prausnitzii M21/2] \n",
       "                                                             6050 \n",
       "                                    [Ruminococcus sp. 5_1_39BFAA] \n",
       "                                                             5774 \n",
       "                                [Coprococcus eutactus ATCC 27759] \n",
       "                                                             5354 \n",
       "                            [Faecalibacterium prausnitzii A2-165] \n",
       "                                                             5252 \n",
       "                               [Clostridium phytofermentans ISDg] \n",
       "                                                             5120 \n",
       "                                    [Dorea longicatena DSM 13814] \n",
       "                                                             4676 \n",
       "                                           [Ruminococcus albus 7] \n",
       "                                                             4350 \n",
       "                             [Collinsella aerofaciens ATCC 25986] \n",
       "                                                             4314 \n",
       "                                   [Coprococcus comes ATCC 27758] \n",
       "                                                             4294 \n",
       "                            [Catenibacterium mitsuokai DSM 15897] \n",
       "                                                             4142 \n",
       "                                [Clostridium saccharolyticum WM1] \n",
       "                                                             4044 \n",
       "                              [Bacteroides capillosus ATCC 29799] \n",
       "                                                             3775 \n",
       "                              [Butyrivibrio proteoclasticus B316] \n",
       "                                                             3293 \n",
       "                        [Bifidobacterium adolescentis ATCC 15703] \n",
       "                                                             3121 \n",
       "                          [Bifidobacterium catenulatum DSM 16992] \n",
       "                                                             2971 \n",
       "                       [Faecalibacterium cf. prausnitzii KLE1255] \n",
       "                                                             2915 \n",
       "                                          [Prevotella buccae D17] \n",
       "                                                             2691 \n",
       "                               [Ethanoligenens harbinense YUAN-3] \n",
       "                                                             2630 \n",
       "                                  [Ruminococcaceae bacterium D16] \n",
       "                                                             2563 \n",
       "                                     [Clostridium leptum DSM 753] \n",
       "                                                             2530 \n",
       "                                 [Prevotella bergensis DSM 17361] \n",
       "                                                             2443 \n",
       "                                        [Prevotella bryantii B14] \n",
       "                                                             2312 \n",
       "                                          [Prevotella oris F0302] \n",
       "                                                             2190 \n",
       "                                 [Bacteroides vulgatus ATCC 8482] \n",
       "                                                             2183 \n",
       "                                           [Ruminococcus albus 8] \n",
       "                                                             2144 \n",
       "                          [Bacteroides thetaiotaomicron VPI-5482] \n",
       "                                                             1979 \n",
       "                                 [Prevotella tannerae ATCC 51259] \n",
       "                                                             1962 \n",
       "                            [Clostridium beijerinckii NCIMB 8052] \n",
       "                                                             1956 \n",
       "                                   [Prevotella oralis ATCC 33269] \n",
       "                                                             1952 \n",
       "                                  [Eubacterium siraeum DSM 15702] \n",
       "                                                             1917 \n",
       "                                 [Prevotella buccalis ATCC 35310] \n",
       "                                                             1908 \n",
       "                           [Parabacteroides distasonis ATCC 8503] \n",
       "                                                             1889 \n",
       "                               [Dorea formicigenerans ATCC 27755] \n",
       "                                                             1855 \n",
       "                                 [Ruminococcus flavefaciens FD-1] \n",
       "                                                             1847 \n",
       "                               [Ruminococcus lactaris ATCC 29176] \n",
       "                                                             1639 \n",
       "                                [Holdemania filiformis DSM 12042] \n",
       "                                                             1628 \n",
       "                                 [Clostridium cellulolyticum H10] \n",
       "                                                             1583 \n",
       "                         [Marvinbryantia formatexigens DSM 14469] \n",
       "                                                             1539 \n",
       "                            [Subdoligranulum variabile DSM 15176] \n",
       "                                                             1539 \n",
       "                                 [Desulfovibrio piger ATCC 29098] \n",
       "                                                             1518 \n",
       "                                  [Ruminococcus obeum ATCC 29174] \n",
       "                                                             1508 \n",
       "                            [Anaerotruncus colihominis DSM 17241] \n",
       "                                                             1434 \n",
       "                                    [Eubacterium limosum KIST612] \n",
       "                                                             1431 \n",
       "                               [Prevotella timonensis CRIS 5C-B1] \n",
       "                                                             1342 \n",
       "                                    [Dialister invisus DSM 15470] \n",
       "                                                             1287 \n",
       "                           [Bacteroides pectinophilus ATCC 43243] \n",
       "                                                             1279 \n",
       "                            [Clostridium methylpentosum DSM 5476] \n",
       "                                                             1263 \n",
       "                                    [Eubacterium hallii DSM 3353] \n",
       "                                                             1186 \n",
       "                               [Desulfitobacterium hafniense Y51] \n",
       "                                                             1152 \n",
       "                                          [Clostridium sp. M62/1] \n",
       "                                                             1144 \n",
       "                              [Alkaliphilus metalliredigens QYMF] \n",
       "                                                             1120 \n",
       "                            [Clostridium acetobutylicum ATCC 824] \n",
       "                                                             1109 \n",
       "                                    [Clostridium nexile DSM 1787] \n",
       "                                                             1108 \n",
       "                       [Prevotella sp. oral taxon 317 str. F0108] \n",
       "                                                             1094 \n",
       "                       [Prevotella sp. oral taxon 472 str. F0295] \n",
       "                                                             1094 \n",
       "                            [Clostridium asparagiforme DSM 15981] \n",
       "                                                             1050 \n",
       "                                     [Prevotella veroralis F0319] \n",
       "                                                             1002 \n",
       "                           [Slackia heliotrinireducens DSM 20476] \n",
       "                                                              992 \n",
       "                                 [Bacteroides plebeius DSM 17135] \n",
       "                                                              990 \n",
       "                           [Acidaminococcus fermentans DSM 20731] \n",
       "                                                              973 \n",
       "                                   [Prevotella marshii DSM 16973] \n",
       "                                                              962 \n",
       "                              [Eubacterium ventriosum ATCC 27560] \n",
       "                                                              959 \n",
       "                                          [Clostridium sp. L2-50] \n",
       "                                                              957 \n",
       "                  [Caldicellulosiruptor saccharolyticus DSM 8903] \n",
       "                                                              938 \n",
       "                            [Clostridium thermocellum ATCC 27405] \n",
       "                                                              938 \n",
       "                                [Clostridium hathewayi DSM 13479] \n",
       "                                                              937 \n",
       "                                     [Eggerthella lenta DSM 2243] \n",
       "                                                              930 \n",
       "                           [Thermoanaerobacter tengcongensis MB4] \n",
       "                                                              919 \n",
       "                              [Parabacteroides merdae ATCC 43184] \n",
       "                                                              910 \n",
       "                                   [Atopobium parvulum DSM 20469] \n",
       "                                                              909 \n",
       "                               [Clostridium bolteae ATCC BAA-613] \n",
       "                                                              904 \n",
       "                                 [Ruminococcus gnavus ATCC 29149] \n",
       "                                                              898 \n",
       "                                 [Bacteroides fragilis NCTC 9343] \n",
       "                                                              890 \n",
       "                                     [Bacteroides fragilis YCH46] \n",
       "                                                              882 \n",
       "                                         [Olsenella uli DSM 7084] \n",
       "                                                              872 \n",
       "                                   [Eubacterium biforme DSM 3989] \n",
       "                                                              871 \n",
       "                                [Bacteroides coprocola DSM 17136] \n",
       "                                                              863 \n",
       "                                [Butyrivibrio crossotus DSM 2876] \n",
       "                                                              861 \n",
       "                                     [Blautia hansenii DSM 20583] \n",
       "                                                              854 \n",
       "                               [Burkholderiales bacterium 1_1_47] \n",
       "                                                              835 \n",
       "                       [Prevotella sp. oral taxon 299 str. F0039] \n",
       "                                                              833 \n",
       "                                           [Clostridium novyi NT] \n",
       "                                                              831 \n",
       "                            [Blautia hydrogenotrophica DSM 10507] \n",
       "                                                              810 \n",
       "                              [Clostridiales bacterium 1_7_47FAA] \n",
       "                                                              785 \n",
       "[Clostridium cellulovorans 743B];[Clostridium cellulovorans 743B] \n",
       "                                                              774 \n",
       "                    [Bifidobacterium pseudocatenulatum DSM 20438] \n",
       "                                                              757 \n",
       "                                [Ruminococcus torques ATCC 27756] \n",
       "                                                              750 \n",
       "                                [Clostridium scindens ATCC 35704] \n",
       "                                                              741 \n",
       "                                           [Prevotella oris C735] \n",
       "                                                              734 \n",
       "                                 [Alkaliphilus oremlandii OhILAs] \n",
       "                                                              729 \n",
       "                                          [Clostridium sp. SS2/1] \n",
       "                                                              719 \n",
       "                                                          (Other) \n",
       "                                                           125452 \n",
       "                                                             NA's \n",
       "                                                                1 "
      ]
     },
     "metadata": {},
     "output_type": "display_data"
    }
   ],
   "source": [
    "#summary(mgm4804295$semicolon.separated.list.of.annotations[mgm4804295$percentage.identity==100])\n",
    "summary(mgm4804307$semicolon.separated.list.of.annotations[mgm4804307$percentage.identity>=60])"
   ]
  },
  {
   "cell_type": "code",
   "execution_count": 22,
   "metadata": {
    "ExecuteTime": {
     "end_time": "2018-10-18T13:56:56.293741Z",
     "start_time": "2018-10-18T13:51:16.972Z"
    }
   },
   "outputs": [],
   "source": [
    "mgms = list.files(pattern=\"*.csv\")\n",
    "mgmsfiles = lapply(mgms, read.delim)"
   ]
  },
  {
   "cell_type": "code",
   "execution_count": 21,
   "metadata": {
    "ExecuteTime": {
     "end_time": "2018-10-18T13:51:02.862584Z",
     "start_time": "2018-10-18T13:51:02.531Z"
    }
   },
   "outputs": [
    {
     "data": {
      "text/html": [
       "'/mnt/promec-data/HeLa'"
      ],
      "text/latex": [
       "'/mnt/promec-data/HeLa'"
      ],
      "text/markdown": [
       "'/mnt/promec-data/HeLa'"
      ],
      "text/plain": [
       "[1] \"/mnt/promec-data/HeLa\""
      ]
     },
     "metadata": {},
     "output_type": "display_data"
    }
   ],
   "source": [
    "getwd()"
   ]
  },
  {
   "cell_type": "code",
   "execution_count": 148,
   "metadata": {
    "ExecuteTime": {
     "end_time": "2018-10-18T17:43:56.557358Z",
     "start_time": "2018-10-18T17:43:56.088Z"
    }
   },
   "outputs": [],
   "source": [
    "setwd('/mnt/promec-data/HeLa/species')"
   ]
  },
  {
   "cell_type": "code",
   "execution_count": 12,
   "metadata": {
    "ExecuteTime": {
     "end_time": "2018-08-11T21:41:27.587568Z",
     "start_time": "2018-08-11T21:41:27.453Z"
    }
   },
   "outputs": [],
   "source": [
    "system(\"mkdir ~/R/\")\n",
    "system(\"mkdir ~/R/libs/\")\n"
   ]
  },
  {
   "cell_type": "code",
   "execution_count": 14,
   "metadata": {
    "ExecuteTime": {
     "end_time": "2018-08-11T21:41:53.032946Z",
     "start_time": "2018-08-11T21:41:52.983Z"
    }
   },
   "outputs": [],
   "source": [
    "system(\"echo 'R_LIBS_USER=\\\"~/R/library\\\"' >  $HOME/.Renviron\")"
   ]
  },
  {
   "cell_type": "code",
   "execution_count": 20,
   "metadata": {
    "ExecuteTime": {
     "end_time": "2018-08-12T18:50:18.221752Z",
     "start_time": "2018-08-12T18:50:18.169Z"
    }
   },
   "outputs": [
    {
     "name": "stderr",
     "output_type": "stream",
     "text": [
      "Installing package into ‘/usr/local/spark-2.3.0-bin-hadoop2.7/R/lib’\n",
      "(as ‘lib’ is unspecified)\n",
      "Warning message in install.packages(\"devtools\", lib.loc = \"/home/notebook/R/library\"):\n",
      "“'lib = \"/usr/local/spark-2.3.0-bin-hadoop2.7/R/lib\"' is not writable”"
     ]
    },
    {
     "ename": "ERROR",
     "evalue": "Error in install.packages(\"devtools\", lib.loc = \"/home/notebook/R/library\"): unable to install packages\n",
     "output_type": "error",
     "traceback": [
      "Error in install.packages(\"devtools\", lib.loc = \"/home/notebook/R/library\"): unable to install packages\nTraceback:\n",
      "1. install.packages(\"devtools\", lib.loc = \"/home/notebook/R/library\")",
      "2. stop(\"unable to install packages\")"
     ]
    }
   ],
   "source": [
    "install.packages('devtools',lib.loc=\"/home/notebook/R/library\")\n",
    "install.packages('devtools')"
   ]
  },
  {
   "cell_type": "code",
   "execution_count": 121,
   "metadata": {
    "ExecuteTime": {
     "end_time": "2018-10-18T17:29:49.217224Z",
     "start_time": "2018-10-18T17:29:15.755Z"
    }
   },
   "outputs": [],
   "source": [
    "library(jsonlite)\n",
    "S46=fromJSON(\"https://api-ui.mg-rast.org/metagenome/c79ea1396b6d676d343830343330362e33?verbosity=stats&detail=taxonomy&auth=m2R6jxx9LSnLVNmtBVtVN\")\n",
    "S27=fromJSON(\"https://api-ui.mg-rast.org/metagenome/17111d40eb6d676d343830343331332e33?verbosity=stats&detail=taxonomy&auth=m2R6jxx9LSnLVNmtBVtVN\")\n",
    "S30=fromJSON(\"https://api-ui.mg-rast.org/metagenome/390b0f8cf36d676d343830343331312e33?verbosity=stats&detail=taxonomy&auth=m2R6jxx9LSnLVNmtBVtVN\")\n",
    "S31=fromJSON(\"https://api-ui.mg-rast.org/metagenome/7e861cbc7c6d676d343830343330302e33?verbosity=stats&detail=taxonomy&auth=m2R6jxx9LSnLVNmtBVtVN\")\n",
    "S48=fromJSON(\"https://api-ui.mg-rast.org/metagenome/cd63d659006d676d343830343330352e33?verbosity=stats&detail=taxonomy&auth=m2R6jxx9LSnLVNmtBVtVN\")\n",
    "S47=fromJSON(\"https://api-ui.mg-rast.org/metagenome/b35b40a2136d676d343830343331322e33?verbosity=stats&detail=taxonomy&auth=m2R6jxx9LSnLVNmtBVtVN\")\n",
    "S2=fromJSON(\"https://api-ui.mg-rast.org/metagenome/a9f8d3cf5c6d676d343830343330312e33?verbosity=stats&detail=taxonomy&auth=m2R6jxx9LSnLVNmtBVtVN\")\n",
    "S28=fromJSON(\"https://api-ui.mg-rast.org/metagenome/9cb103e5436d676d343830343239392e33?verbosity=stats&detail=taxonomy&auth=m2R6jxx9LSnLVNmtBVtVN\")\n",
    "S5=fromJSON(\"https://api-ui.mg-rast.org/metagenome/37c82ece816d676d343830343330382e33?verbosity=stats&detail=taxonomyy&auth=m2R6jxx9LSnLVNmtBVtVN\")\n",
    "S3=fromJSON(\"https://api-ui.mg-rast.org/metagenome/dfc68c81856d676d343830343239372e33?verbosity=stats&detail=taxonomy&auth=m2R6jxx9LSnLVNmtBVtVN\")\n",
    "S36=fromJSON(\"https://api-ui.mg-rast.org/metagenome/08b9c0c7346d676d343830343239352e33?verbosity=stats&detail=taxonomy&auth=m2R6jxx9LSnLVNmtBVtVN\")\n",
    "S33=fromJSON(\"https://api-ui.mg-rast.org/metagenome/f602f0737a6d676d343830343330332e33?verbosity=stats&detail=taxonomy&auth=m2R6jxx9LSnLVNmtBVtVN\")\n",
    "S44=fromJSON(\"https://api-ui.mg-rast.org/metagenome/a751b3d8556d676d343830343239382e33?verbosity=stats&detail=taxonomy&auth=m2R6jxx9LSnLVNmtBVtVN\")\n",
    "s13=fromJSON(\"https://api-ui.mg-rast.org/metagenome/c9b5d6dcf66d676d343830343330322e33?verbosity=stats&detail=taxonomy&auth=m2R6jxx9LSnLVNmtBVtVN\")\n",
    "S37=fromJSON(\"https://api-ui.mg-rast.org/metagenome/9e310b437d6d676d343830343331302e33?verbosity=stats&detail=taxonomy&auth=m2R6jxx9LSnLVNmtBVtVN\")\n",
    "S40=fromJSON(\"https://api-ui.mg-rast.org/metagenome/facb93a0986d676d343830343330372e33?verbosity=stats&detail=taxonomy&auth=m2R6jxx9LSnLVNmtBVtVN\")\n",
    "S23=fromJSON(\"https://api-ui.mg-rast.org/metagenome/2ce842ffdd6d676d343830343239362e33?verbosity=stats&detail=taxonomy&auth=m2R6jxx9LSnLVNmtBVtVN\")\n",
    "S35=fromJSON(\"https://api-ui.mg-rast.org/metagenome/a77e5119de6d676d343830343330342e33?verbosity=stats&detail=taxonomy&auth=m2R6jxx9LSnLVNmtBVtVN\")\n",
    "S20=fromJSON(\"https://api-ui.mg-rast.org/metagenome/8406f98f7a6d676d343830343330392e33?verbosity=stats&detail=taxonomy&auth=m2R6jxx9LSnLVNmtBVtVN\")"
   ]
  },
  {
   "cell_type": "code",
   "execution_count": 132,
   "metadata": {
    "ExecuteTime": {
     "end_time": "2018-10-18T17:34:38.913864Z",
     "start_time": "2018-10-18T17:34:36.336Z"
    }
   },
   "outputs": [],
   "source": [
    "S5=fromJSON(\"https://api-ui.mg-rast.org/metagenome/37c82ece816d676d343830343330382e33?verbosity=stats&detail=taxonomy&auth=m2R6jxx9LSnLVNmtBVtVN\")"
   ]
  },
  {
   "cell_type": "code",
   "execution_count": 133,
   "metadata": {
    "ExecuteTime": {
     "end_time": "2018-10-18T17:34:40.630824Z",
     "start_time": "2018-10-18T17:34:40.176Z"
    }
   },
   "outputs": [
    {
     "data": {
      "text/plain": [
       "        Length Class  Mode     \n",
       "species 2232   -none- character\n",
       "class    162   -none- character\n",
       "domain    12   -none- character\n",
       "family   534   -none- character\n",
       "order    294   -none- character\n",
       "phylum    82   -none- character\n",
       "genus   1048   -none- character"
      ]
     },
     "metadata": {},
     "output_type": "display_data"
    }
   ],
   "source": [
    "summary(S5)"
   ]
  },
  {
   "cell_type": "code",
   "execution_count": 48,
   "metadata": {
    "ExecuteTime": {
     "end_time": "2018-10-18T15:43:28.293634Z",
     "start_time": "2018-10-18T15:43:27.896Z"
    }
   },
   "outputs": [
    {
     "data": {
      "text/html": [
       "<table>\n",
       "<tbody>\n",
       "\t<tr><td>Eukaryota             </td><td>476                   </td></tr>\n",
       "\t<tr><td>other sequences       </td><td>9                     </td></tr>\n",
       "\t<tr><td>Viruses               </td><td>61                    </td></tr>\n",
       "\t<tr><td>unclassified sequences</td><td>117                   </td></tr>\n",
       "\t<tr><td>Archaea               </td><td>329                   </td></tr>\n",
       "\t<tr><td>Bacteria              </td><td>524460                </td></tr>\n",
       "</tbody>\n",
       "</table>\n"
      ],
      "text/latex": [
       "\\begin{tabular}{ll}\n",
       "\t Eukaryota              & 476                   \\\\\n",
       "\t other sequences        & 9                     \\\\\n",
       "\t Viruses                & 61                    \\\\\n",
       "\t unclassified sequences & 117                   \\\\\n",
       "\t Archaea                & 329                   \\\\\n",
       "\t Bacteria               & 524460                \\\\\n",
       "\\end{tabular}\n"
      ],
      "text/markdown": [
       "\n",
       "| Eukaryota              | 476                    | \n",
       "| other sequences        | 9                      | \n",
       "| Viruses                | 61                     | \n",
       "| unclassified sequences | 117                    | \n",
       "| Archaea                | 329                    | \n",
       "| Bacteria               | 524460                 | \n",
       "\n",
       "\n"
      ],
      "text/plain": [
       "     [,1]                   [,2]  \n",
       "[1,] Eukaryota              476   \n",
       "[2,] other sequences        9     \n",
       "[3,] Viruses                61    \n",
       "[4,] unclassified sequences 117   \n",
       "[5,] Archaea                329   \n",
       "[6,] Bacteria               524460"
      ]
     },
     "metadata": {},
     "output_type": "display_data"
    }
   ],
   "source": [
    "S46$domain"
   ]
  },
  {
   "cell_type": "code",
   "execution_count": 60,
   "metadata": {
    "ExecuteTime": {
     "end_time": "2018-10-18T15:52:43.288732Z",
     "start_time": "2018-10-18T15:52:39.682Z"
    }
   },
   "outputs": [],
   "source": [
    "total <- merge(S20$species,S46$species,by=\"row.names\",all = TRUE)"
   ]
  },
  {
   "cell_type": "code",
   "execution_count": 61,
   "metadata": {
    "ExecuteTime": {
     "end_time": "2018-10-18T15:52:47.054873Z",
     "start_time": "2018-10-18T15:52:46.653Z"
    }
   },
   "outputs": [
    {
     "data": {
      "text/plain": [
       "  Row.names                                       V1.x           V2.x     \n",
       " Length:1485        Abiotrophia defectiva           :   1   2      : 111  \n",
       " Class :AsIs        Acanthamoeba polyphaga          :   1   1      : 109  \n",
       " Mode  :character   Acanthamoeba polyphaga mimivirus:   1   4      : 106  \n",
       "                    Acaryochloris marina            :   1   6      :  72  \n",
       "                    Acetivibrio cellulolyticus      :   1   5      :  69  \n",
       "                    (Other)                         :1470   (Other):1008  \n",
       "                    NA's                            :  10   NA's   :  10  \n",
       "                               V1.y           V2.y    \n",
       " Abiotrophia defectiva           :   1   2      :120  \n",
       " Acanthamoeba polyphaga          :   1   1      :117  \n",
       " Acanthamoeba polyphaga mimivirus:   1   4      : 94  \n",
       " Acaryochloris marina            :   1   5      : 72  \n",
       " Acetivibrio cellulolyticus      :   1   3      : 62  \n",
       " Acetobacter pasteurianus        :   1   6      : 60  \n",
       " (Other)                         :1479   (Other):960  "
      ]
     },
     "metadata": {},
     "output_type": "display_data"
    }
   ],
   "source": [
    "summary(total)"
   ]
  },
  {
   "cell_type": "code",
   "execution_count": 134,
   "metadata": {
    "ExecuteTime": {
     "end_time": "2018-10-18T17:34:52.038427Z",
     "start_time": "2018-10-18T17:34:51.578Z"
    }
   },
   "outputs": [],
   "source": [
    "#dte=ls(pattern = '[sS][0-9]+')\n",
    "dte=mget(ls(pattern = '[sS][0-9]+'))\n",
    "#dte=mget(ls(pattern = '[S]2'))"
   ]
  },
  {
   "cell_type": "code",
   "execution_count": 135,
   "metadata": {
    "ExecuteTime": {
     "end_time": "2018-10-18T17:34:54.104454Z",
     "start_time": "2018-10-18T17:34:53.640Z"
    }
   },
   "outputs": [
    {
     "data": {
      "text/plain": [
       "    Length Class  Mode\n",
       "s13 7      -none- list\n",
       "S2  7      -none- list\n",
       "S20 7      -none- list\n",
       "S23 7      -none- list\n",
       "S27 7      -none- list\n",
       "S28 7      -none- list\n",
       "S3  7      -none- list\n",
       "S30 7      -none- list\n",
       "S31 7      -none- list\n",
       "S33 7      -none- list\n",
       "S35 7      -none- list\n",
       "S36 7      -none- list\n",
       "S37 7      -none- list\n",
       "S40 7      -none- list\n",
       "S44 7      -none- list\n",
       "S46 7      -none- list\n",
       "S47 7      -none- list\n",
       "S48 7      -none- list\n",
       "S5  7      -none- list"
      ]
     },
     "metadata": {},
     "output_type": "display_data"
    }
   ],
   "source": [
    "summary(dte)"
   ]
  },
  {
   "cell_type": "code",
   "execution_count": 152,
   "metadata": {
    "ExecuteTime": {
     "end_time": "2018-10-18T17:51:48.788119Z",
     "start_time": "2018-10-18T17:51:47.930Z"
    }
   },
   "outputs": [
    {
     "name": "stdout",
     "output_type": "stream",
     "text": [
      "[1] \"s13\"\n",
      "[1] \"S2\"\n",
      "[1] \"S20\"\n",
      "[1] \"S23\"\n",
      "[1] \"S27\"\n",
      "[1] \"S28\"\n",
      "[1] \"S3\"\n",
      "[1] \"S30\"\n",
      "[1] \"S31\"\n",
      "[1] \"S33\"\n",
      "[1] \"S35\"\n",
      "[1] \"S36\"\n",
      "[1] \"S37\"\n",
      "[1] \"S40\"\n",
      "[1] \"S44\"\n",
      "[1] \"S46\"\n",
      "[1] \"S47\"\n",
      "[1] \"S48\"\n",
      "[1] \"S5\"\n"
     ]
    }
   ],
   "source": [
    "x=1\n",
    "for(i in dte){\n",
    "    name=names(dte)[x]\n",
    "    dft <- data.frame(i$species[,2])\n",
    "    row.names(dft)=i$species[,1]\n",
    "    #colnames(dft)=name\n",
    "    print(name)\n",
    "    x=x+1\n",
    "    #total<-merge(total$species,i$species,by=\"V1\",all = TRUE)\n",
    "    #merge(S20$species,S46$species,by=\"row.names\",all = TRUE)\n",
    "    write.table(dft,paste(name,\".txt\"),sep = \"\\t\",quote = FALSE,col.names = FALSE)\n",
    "}"
   ]
  },
  {
   "cell_type": "code",
   "execution_count": 140,
   "metadata": {
    "ExecuteTime": {
     "end_time": "2018-10-18T17:38:36.052796Z",
     "start_time": "2018-10-18T17:38:35.596Z"
    }
   },
   "outputs": [],
   "source": [
    "total <- s13"
   ]
  },
  {
   "cell_type": "code",
   "execution_count": 141,
   "metadata": {
    "ExecuteTime": {
     "end_time": "2018-10-18T17:38:46.922276Z",
     "start_time": "2018-10-18T17:38:46.460Z"
    }
   },
   "outputs": [
    {
     "data": {
      "text/plain": [
       "        Length Class  Mode     \n",
       "domain    12   -none- character\n",
       "species 3346   -none- character\n",
       "class    214   -none- character\n",
       "phylum    98   -none- character\n",
       "genus   1428   -none- character\n",
       "family   700   -none- character\n",
       "order    394   -none- character"
      ]
     },
     "metadata": {},
     "output_type": "display_data"
    }
   ],
   "source": [
    "summary(s13)"
   ]
  },
  {
   "cell_type": "code",
   "execution_count": 13,
   "metadata": {
    "ExecuteTime": {
     "end_time": "2018-10-18T16:33:46.281279Z",
     "start_time": "2018-10-18T16:33:45.829Z"
    }
   },
   "outputs": [
    {
     "data": {
      "text/plain": [
       "                                V1             V2      \n",
       " Abiotrophia defectiva           :   1   1      : 143  \n",
       " Acanthamoeba polyphaga          :   1   2      : 143  \n",
       " Acanthamoeba polyphaga mimivirus:   1   4      : 105  \n",
       " Acaryochloris marina            :   1   3      :  81  \n",
       " Acetivibrio cellulolyticus      :   1   6      :  60  \n",
       " Acetobacter pasteurianus        :   1   5      :  59  \n",
       " (Other)                         :1667   (Other):1082  "
      ]
     },
     "metadata": {},
     "output_type": "display_data"
    }
   ],
   "source": [
    "x=1\n",
    "for(i in dte){\n",
    "    name=names(dte)[x]\n",
    "    dft <- data.frame(i$species[,2])\n",
    "    row.names(dft)=i$species[,1]\n",
    "    #colnames(dft)=name\n",
    "    print(name)\n",
    "    x=x+1\n",
    "    #total<-merge(total$species,i$species,by=\"V1\",all = TRUE)\n",
    "    #merge(S20$species,S46$species,by=\"row.names\",all = TRUE)\n",
    "    write.csv(dft,name)\n",
    "}"
   ]
  },
  {
   "cell_type": "code",
   "execution_count": 14,
   "metadata": {
    "ExecuteTime": {
     "end_time": "2018-10-18T16:33:54.646187Z",
     "start_time": "2018-10-18T16:33:53.852Z"
    }
   },
   "outputs": [
    {
     "data": {
      "text/html": [
       "<table>\n",
       "<thead><tr><th scope=col>V1</th><th scope=col>V2.x</th><th scope=col>V2.y</th></tr></thead>\n",
       "<tbody>\n",
       "\t<tr><td>Abiotrophia defectiva           </td><td>478                             </td><td>442                             </td></tr>\n",
       "\t<tr><td>Acanthamoeba polyphaga          </td><td>2                               </td><td>4                               </td></tr>\n",
       "\t<tr><td>Acanthamoeba polyphaga mimivirus</td><td>4                               </td><td>8                               </td></tr>\n",
       "\t<tr><td>Acaryochloris marina            </td><td>42                              </td><td>12                              </td></tr>\n",
       "\t<tr><td>Acetivibrio cellulolyticus      </td><td>202                             </td><td>159                             </td></tr>\n",
       "\t<tr><td>Acetobacter pasteurianus        </td><td>78                              </td><td>44                              </td></tr>\n",
       "\t<tr><td>Acetobacterium dehalogenans     </td><td>2                               </td><td>NA                              </td></tr>\n",
       "\t<tr><td>Acetohalobium arabaticum        </td><td>115                             </td><td>79                              </td></tr>\n",
       "\t<tr><td>Acholeplasma axanthum           </td><td>4                               </td><td>1                               </td></tr>\n",
       "\t<tr><td>Acholeplasma brassicae          </td><td>1                               </td><td>NA                              </td></tr>\n",
       "\t<tr><td>Acholeplasma laidlawii          </td><td>170                             </td><td>73                              </td></tr>\n",
       "\t<tr><td>Achromobacter piechaudii        </td><td>43                              </td><td>18                              </td></tr>\n",
       "\t<tr><td>Achromobacter xylosoxidans      </td><td>48                              </td><td>13                              </td></tr>\n",
       "\t<tr><td>Acidaminococcus fermentans      </td><td>7150                            </td><td>7445                            </td></tr>\n",
       "\t<tr><td>Acidaminococcus sp. D21         </td><td>903                             </td><td>1089                            </td></tr>\n",
       "\t<tr><td>Acidiphilium cryptum            </td><td>1                               </td><td>7                               </td></tr>\n",
       "\t<tr><td>Acidithiobacillus caldus        </td><td>14                              </td><td>15                              </td></tr>\n",
       "\t<tr><td>Acidithiobacillus ferrooxidans  </td><td>36                              </td><td>NA                              </td></tr>\n",
       "\t<tr><td>Acidobacterium capsulatum       </td><td>6                               </td><td>NA                              </td></tr>\n",
       "\t<tr><td>Acidobacterium sp. MP5ACTX8     </td><td>15                              </td><td>3                               </td></tr>\n",
       "\t<tr><td>Acidobacterium sp. MP5ACTX9     </td><td>6                               </td><td>3                               </td></tr>\n",
       "\t<tr><td>Acidothermus cellulolyticus     </td><td>1                               </td><td>NA                              </td></tr>\n",
       "\t<tr><td>Acidovorax avenae               </td><td>10                              </td><td>6                               </td></tr>\n",
       "\t<tr><td>Acidovorax citrulli             </td><td>2                               </td><td>5                               </td></tr>\n",
       "\t<tr><td>Acidovorax delafieldii          </td><td>29                              </td><td>5                               </td></tr>\n",
       "\t<tr><td>Aciduliprofundum boonei         </td><td>28                              </td><td>8                               </td></tr>\n",
       "\t<tr><td>Acinetobacter baumannii         </td><td>261                             </td><td>130                             </td></tr>\n",
       "\t<tr><td>Acinetobacter calcoaceticus     </td><td>16                              </td><td>2                               </td></tr>\n",
       "\t<tr><td>Acinetobacter genomosp. 13TU    </td><td>8                               </td><td>NA                              </td></tr>\n",
       "\t<tr><td>Acinetobacter genomosp. 3       </td><td>4                               </td><td>8                               </td></tr>\n",
       "\t<tr><td>⋮</td><td>⋮</td><td>⋮</td></tr>\n",
       "\t<tr><td>Strongylocentrotus purpuratus                </td><td>NA                                           </td><td>4                                            </td></tr>\n",
       "\t<tr><td>Sulfurimonas denitrificans                   </td><td>NA                                           </td><td>9                                            </td></tr>\n",
       "\t<tr><td>Synechococcus sp. PCC 6716                   </td><td>NA                                           </td><td>1                                            </td></tr>\n",
       "\t<tr><td>Taylorella asinigenitalis                    </td><td>NA                                           </td><td>1                                            </td></tr>\n",
       "\t<tr><td>Thalassiosira pseudonana                     </td><td>NA                                           </td><td>4                                            </td></tr>\n",
       "\t<tr><td>Thermoanaerobacterium thermosulfurigenes     </td><td>NA                                           </td><td>1                                            </td></tr>\n",
       "\t<tr><td>Thermococcus litoralis                       </td><td>NA                                           </td><td>1                                            </td></tr>\n",
       "\t<tr><td>Thermocrinis albus                           </td><td>NA                                           </td><td>12                                           </td></tr>\n",
       "\t<tr><td>Thermus brockianus                           </td><td>NA                                           </td><td>2                                            </td></tr>\n",
       "\t<tr><td>Trichodesmium erythraeum                     </td><td>NA                                           </td><td>3                                            </td></tr>\n",
       "\t<tr><td>uncultured bacterium HF770_11D24             </td><td>NA                                           </td><td>2                                            </td></tr>\n",
       "\t<tr><td>uncultured bacterium Rlip2                   </td><td>NA                                           </td><td>4                                            </td></tr>\n",
       "\t<tr><td>uncultured Bacteroidetes bacterium           </td><td>NA                                           </td><td>2                                            </td></tr>\n",
       "\t<tr><td>uncultured gamma proteobacterium EB080_L93H08</td><td>NA                                           </td><td>2                                            </td></tr>\n",
       "\t<tr><td>uncultured marine microorganism HF4000_137B17</td><td>NA                                           </td><td>2                                            </td></tr>\n",
       "\t<tr><td>uncultured proteobacterium                   </td><td>NA                                           </td><td>1                                            </td></tr>\n",
       "\t<tr><td>uncultured SUP05 cluster bacterium           </td><td>NA                                           </td><td>2                                            </td></tr>\n",
       "\t<tr><td>Veillonella sp. MY-P9                        </td><td>NA                                           </td><td>2                                            </td></tr>\n",
       "\t<tr><td>Vibrio metschnikovii                         </td><td>NA                                           </td><td>5                                            </td></tr>\n",
       "\t<tr><td>Vibrio phage fs1                             </td><td>NA                                           </td><td>4                                            </td></tr>\n",
       "\t<tr><td>Vibrio sp. MED222                            </td><td>NA                                           </td><td>1                                            </td></tr>\n",
       "\t<tr><td>Vibrionales bacterium SWAT-3                 </td><td>NA                                           </td><td>4                                            </td></tr>\n",
       "\t<tr><td>Weissella cibaria                            </td><td>NA                                           </td><td>8                                            </td></tr>\n",
       "\t<tr><td>Weissella confusa                            </td><td>NA                                           </td><td>5                                            </td></tr>\n",
       "\t<tr><td>Wigglesworthia glossinidia                   </td><td>NA                                           </td><td>2                                            </td></tr>\n",
       "\t<tr><td>Wolbachia sp. wRi                            </td><td>NA                                           </td><td>3                                            </td></tr>\n",
       "\t<tr><td>Wolinella succinogenes                       </td><td>NA                                           </td><td>1                                            </td></tr>\n",
       "\t<tr><td>Xanthobacter autotrophicus                   </td><td>NA                                           </td><td>1                                            </td></tr>\n",
       "\t<tr><td>Yersinia bercovieri                          </td><td>NA                                           </td><td>8                                            </td></tr>\n",
       "\t<tr><td>Yersinia pseudotuberculosis                  </td><td>NA                                           </td><td>7                                            </td></tr>\n",
       "</tbody>\n",
       "</table>\n"
      ],
      "text/latex": [
       "\\begin{tabular}{r|lll}\n",
       " V1 & V2.x & V2.y\\\\\n",
       "\\hline\n",
       "\t Abiotrophia defectiva            & 478                              & 442                             \\\\\n",
       "\t Acanthamoeba polyphaga           & 2                                & 4                               \\\\\n",
       "\t Acanthamoeba polyphaga mimivirus & 4                                & 8                               \\\\\n",
       "\t Acaryochloris marina             & 42                               & 12                              \\\\\n",
       "\t Acetivibrio cellulolyticus       & 202                              & 159                             \\\\\n",
       "\t Acetobacter pasteurianus         & 78                               & 44                              \\\\\n",
       "\t Acetobacterium dehalogenans      & 2                                & NA                              \\\\\n",
       "\t Acetohalobium arabaticum         & 115                              & 79                              \\\\\n",
       "\t Acholeplasma axanthum            & 4                                & 1                               \\\\\n",
       "\t Acholeplasma brassicae           & 1                                & NA                              \\\\\n",
       "\t Acholeplasma laidlawii           & 170                              & 73                              \\\\\n",
       "\t Achromobacter piechaudii         & 43                               & 18                              \\\\\n",
       "\t Achromobacter xylosoxidans       & 48                               & 13                              \\\\\n",
       "\t Acidaminococcus fermentans       & 7150                             & 7445                            \\\\\n",
       "\t Acidaminococcus sp. D21          & 903                              & 1089                            \\\\\n",
       "\t Acidiphilium cryptum             & 1                                & 7                               \\\\\n",
       "\t Acidithiobacillus caldus         & 14                               & 15                              \\\\\n",
       "\t Acidithiobacillus ferrooxidans   & 36                               & NA                              \\\\\n",
       "\t Acidobacterium capsulatum        & 6                                & NA                              \\\\\n",
       "\t Acidobacterium sp. MP5ACTX8      & 15                               & 3                               \\\\\n",
       "\t Acidobacterium sp. MP5ACTX9      & 6                                & 3                               \\\\\n",
       "\t Acidothermus cellulolyticus      & 1                                & NA                              \\\\\n",
       "\t Acidovorax avenae                & 10                               & 6                               \\\\\n",
       "\t Acidovorax citrulli              & 2                                & 5                               \\\\\n",
       "\t Acidovorax delafieldii           & 29                               & 5                               \\\\\n",
       "\t Aciduliprofundum boonei          & 28                               & 8                               \\\\\n",
       "\t Acinetobacter baumannii          & 261                              & 130                             \\\\\n",
       "\t Acinetobacter calcoaceticus      & 16                               & 2                               \\\\\n",
       "\t Acinetobacter genomosp. 13TU     & 8                                & NA                              \\\\\n",
       "\t Acinetobacter genomosp. 3        & 4                                & 8                               \\\\\n",
       "\t ⋮ & ⋮ & ⋮\\\\\n",
       "\t Strongylocentrotus purpuratus                 & NA                                            & 4                                            \\\\\n",
       "\t Sulfurimonas denitrificans                    & NA                                            & 9                                            \\\\\n",
       "\t Synechococcus sp. PCC 6716                    & NA                                            & 1                                            \\\\\n",
       "\t Taylorella asinigenitalis                     & NA                                            & 1                                            \\\\\n",
       "\t Thalassiosira pseudonana                      & NA                                            & 4                                            \\\\\n",
       "\t Thermoanaerobacterium thermosulfurigenes      & NA                                            & 1                                            \\\\\n",
       "\t Thermococcus litoralis                        & NA                                            & 1                                            \\\\\n",
       "\t Thermocrinis albus                            & NA                                            & 12                                           \\\\\n",
       "\t Thermus brockianus                            & NA                                            & 2                                            \\\\\n",
       "\t Trichodesmium erythraeum                      & NA                                            & 3                                            \\\\\n",
       "\t uncultured bacterium HF770\\_11D24              & NA                                              & 2                                              \\\\\n",
       "\t uncultured bacterium Rlip2                    & NA                                            & 4                                            \\\\\n",
       "\t uncultured Bacteroidetes bacterium            & NA                                            & 2                                            \\\\\n",
       "\t uncultured gamma proteobacterium EB080\\_L93H08 & NA                                              & 2                                              \\\\\n",
       "\t uncultured marine microorganism HF4000\\_137B17 & NA                                              & 2                                              \\\\\n",
       "\t uncultured proteobacterium                    & NA                                            & 1                                            \\\\\n",
       "\t uncultured SUP05 cluster bacterium            & NA                                            & 2                                            \\\\\n",
       "\t Veillonella sp. MY-P9                         & NA                                            & 2                                            \\\\\n",
       "\t Vibrio metschnikovii                          & NA                                            & 5                                            \\\\\n",
       "\t Vibrio phage fs1                              & NA                                            & 4                                            \\\\\n",
       "\t Vibrio sp. MED222                             & NA                                            & 1                                            \\\\\n",
       "\t Vibrionales bacterium SWAT-3                  & NA                                            & 4                                            \\\\\n",
       "\t Weissella cibaria                             & NA                                            & 8                                            \\\\\n",
       "\t Weissella confusa                             & NA                                            & 5                                            \\\\\n",
       "\t Wigglesworthia glossinidia                    & NA                                            & 2                                            \\\\\n",
       "\t Wolbachia sp. wRi                             & NA                                            & 3                                            \\\\\n",
       "\t Wolinella succinogenes                        & NA                                            & 1                                            \\\\\n",
       "\t Xanthobacter autotrophicus                    & NA                                            & 1                                            \\\\\n",
       "\t Yersinia bercovieri                           & NA                                            & 8                                            \\\\\n",
       "\t Yersinia pseudotuberculosis                   & NA                                            & 7                                            \\\\\n",
       "\\end{tabular}\n"
      ],
      "text/markdown": [
       "\n",
       "V1 | V2.x | V2.y | \n",
       "|---|---|---|---|---|---|---|---|---|---|---|---|---|---|---|---|---|---|---|---|---|---|---|---|---|---|---|---|---|---|---|---|---|---|---|---|---|---|---|---|---|---|---|---|---|---|---|---|---|---|---|---|---|---|---|---|---|---|---|---|---|\n",
       "| Abiotrophia defectiva            | 478                              | 442                              | \n",
       "| Acanthamoeba polyphaga           | 2                                | 4                                | \n",
       "| Acanthamoeba polyphaga mimivirus | 4                                | 8                                | \n",
       "| Acaryochloris marina             | 42                               | 12                               | \n",
       "| Acetivibrio cellulolyticus       | 202                              | 159                              | \n",
       "| Acetobacter pasteurianus         | 78                               | 44                               | \n",
       "| Acetobacterium dehalogenans      | 2                                | NA                               | \n",
       "| Acetohalobium arabaticum         | 115                              | 79                               | \n",
       "| Acholeplasma axanthum            | 4                                | 1                                | \n",
       "| Acholeplasma brassicae           | 1                                | NA                               | \n",
       "| Acholeplasma laidlawii           | 170                              | 73                               | \n",
       "| Achromobacter piechaudii         | 43                               | 18                               | \n",
       "| Achromobacter xylosoxidans       | 48                               | 13                               | \n",
       "| Acidaminococcus fermentans       | 7150                             | 7445                             | \n",
       "| Acidaminococcus sp. D21          | 903                              | 1089                             | \n",
       "| Acidiphilium cryptum             | 1                                | 7                                | \n",
       "| Acidithiobacillus caldus         | 14                               | 15                               | \n",
       "| Acidithiobacillus ferrooxidans   | 36                               | NA                               | \n",
       "| Acidobacterium capsulatum        | 6                                | NA                               | \n",
       "| Acidobacterium sp. MP5ACTX8      | 15                               | 3                                | \n",
       "| Acidobacterium sp. MP5ACTX9      | 6                                | 3                                | \n",
       "| Acidothermus cellulolyticus      | 1                                | NA                               | \n",
       "| Acidovorax avenae                | 10                               | 6                                | \n",
       "| Acidovorax citrulli              | 2                                | 5                                | \n",
       "| Acidovorax delafieldii           | 29                               | 5                                | \n",
       "| Aciduliprofundum boonei          | 28                               | 8                                | \n",
       "| Acinetobacter baumannii          | 261                              | 130                              | \n",
       "| Acinetobacter calcoaceticus      | 16                               | 2                                | \n",
       "| Acinetobacter genomosp. 13TU     | 8                                | NA                               | \n",
       "| Acinetobacter genomosp. 3        | 4                                | 8                                | \n",
       "| ⋮ | ⋮ | ⋮ | \n",
       "| Strongylocentrotus purpuratus                 | NA                                            | 4                                             | \n",
       "| Sulfurimonas denitrificans                    | NA                                            | 9                                             | \n",
       "| Synechococcus sp. PCC 6716                    | NA                                            | 1                                             | \n",
       "| Taylorella asinigenitalis                     | NA                                            | 1                                             | \n",
       "| Thalassiosira pseudonana                      | NA                                            | 4                                             | \n",
       "| Thermoanaerobacterium thermosulfurigenes      | NA                                            | 1                                             | \n",
       "| Thermococcus litoralis                        | NA                                            | 1                                             | \n",
       "| Thermocrinis albus                            | NA                                            | 12                                            | \n",
       "| Thermus brockianus                            | NA                                            | 2                                             | \n",
       "| Trichodesmium erythraeum                      | NA                                            | 3                                             | \n",
       "| uncultured bacterium HF770_11D24              | NA                                            | 2                                             | \n",
       "| uncultured bacterium Rlip2                    | NA                                            | 4                                             | \n",
       "| uncultured Bacteroidetes bacterium            | NA                                            | 2                                             | \n",
       "| uncultured gamma proteobacterium EB080_L93H08 | NA                                            | 2                                             | \n",
       "| uncultured marine microorganism HF4000_137B17 | NA                                            | 2                                             | \n",
       "| uncultured proteobacterium                    | NA                                            | 1                                             | \n",
       "| uncultured SUP05 cluster bacterium            | NA                                            | 2                                             | \n",
       "| Veillonella sp. MY-P9                         | NA                                            | 2                                             | \n",
       "| Vibrio metschnikovii                          | NA                                            | 5                                             | \n",
       "| Vibrio phage fs1                              | NA                                            | 4                                             | \n",
       "| Vibrio sp. MED222                             | NA                                            | 1                                             | \n",
       "| Vibrionales bacterium SWAT-3                  | NA                                            | 4                                             | \n",
       "| Weissella cibaria                             | NA                                            | 8                                             | \n",
       "| Weissella confusa                             | NA                                            | 5                                             | \n",
       "| Wigglesworthia glossinidia                    | NA                                            | 2                                             | \n",
       "| Wolbachia sp. wRi                             | NA                                            | 3                                             | \n",
       "| Wolinella succinogenes                        | NA                                            | 1                                             | \n",
       "| Xanthobacter autotrophicus                    | NA                                            | 1                                             | \n",
       "| Yersinia bercovieri                           | NA                                            | 8                                             | \n",
       "| Yersinia pseudotuberculosis                   | NA                                            | 7                                             | \n",
       "\n",
       "\n"
      ],
      "text/plain": [
       "     V1                                            V2.x V2.y\n",
       "1    Abiotrophia defectiva                         478  442 \n",
       "2    Acanthamoeba polyphaga                        2    4   \n",
       "3    Acanthamoeba polyphaga mimivirus              4    8   \n",
       "4    Acaryochloris marina                          42   12  \n",
       "5    Acetivibrio cellulolyticus                    202  159 \n",
       "6    Acetobacter pasteurianus                      78   44  \n",
       "7    Acetobacterium dehalogenans                   2    NA  \n",
       "8    Acetohalobium arabaticum                      115  79  \n",
       "9    Acholeplasma axanthum                         4    1   \n",
       "10   Acholeplasma brassicae                        1    NA  \n",
       "11   Acholeplasma laidlawii                        170  73  \n",
       "12   Achromobacter piechaudii                      43   18  \n",
       "13   Achromobacter xylosoxidans                    48   13  \n",
       "14   Acidaminococcus fermentans                    7150 7445\n",
       "15   Acidaminococcus sp. D21                       903  1089\n",
       "16   Acidiphilium cryptum                          1    7   \n",
       "17   Acidithiobacillus caldus                      14   15  \n",
       "18   Acidithiobacillus ferrooxidans                36   NA  \n",
       "19   Acidobacterium capsulatum                     6    NA  \n",
       "20   Acidobacterium sp. MP5ACTX8                   15   3   \n",
       "21   Acidobacterium sp. MP5ACTX9                   6    3   \n",
       "22   Acidothermus cellulolyticus                   1    NA  \n",
       "23   Acidovorax avenae                             10   6   \n",
       "24   Acidovorax citrulli                           2    5   \n",
       "25   Acidovorax delafieldii                        29   5   \n",
       "26   Aciduliprofundum boonei                       28   8   \n",
       "27   Acinetobacter baumannii                       261  130 \n",
       "28   Acinetobacter calcoaceticus                   16   2   \n",
       "29   Acinetobacter genomosp. 13TU                  8    NA  \n",
       "30   Acinetobacter genomosp. 3                     4    8   \n",
       "⋮    ⋮                                             ⋮    ⋮   \n",
       "1849 Strongylocentrotus purpuratus                 NA   4   \n",
       "1850 Sulfurimonas denitrificans                    NA   9   \n",
       "1851 Synechococcus sp. PCC 6716                    NA   1   \n",
       "1852 Taylorella asinigenitalis                     NA   1   \n",
       "1853 Thalassiosira pseudonana                      NA   4   \n",
       "1854 Thermoanaerobacterium thermosulfurigenes      NA   1   \n",
       "1855 Thermococcus litoralis                        NA   1   \n",
       "1856 Thermocrinis albus                            NA   12  \n",
       "1857 Thermus brockianus                            NA   2   \n",
       "1858 Trichodesmium erythraeum                      NA   3   \n",
       "1859 uncultured bacterium HF770_11D24              NA   2   \n",
       "1860 uncultured bacterium Rlip2                    NA   4   \n",
       "1861 uncultured Bacteroidetes bacterium            NA   2   \n",
       "1862 uncultured gamma proteobacterium EB080_L93H08 NA   2   \n",
       "1863 uncultured marine microorganism HF4000_137B17 NA   2   \n",
       "1864 uncultured proteobacterium                    NA   1   \n",
       "1865 uncultured SUP05 cluster bacterium            NA   2   \n",
       "1866 Veillonella sp. MY-P9                         NA   2   \n",
       "1867 Vibrio metschnikovii                          NA   5   \n",
       "1868 Vibrio phage fs1                              NA   4   \n",
       "1869 Vibrio sp. MED222                             NA   1   \n",
       "1870 Vibrionales bacterium SWAT-3                  NA   4   \n",
       "1871 Weissella cibaria                             NA   8   \n",
       "1872 Weissella confusa                             NA   5   \n",
       "1873 Wigglesworthia glossinidia                    NA   2   \n",
       "1874 Wolbachia sp. wRi                             NA   3   \n",
       "1875 Wolinella succinogenes                        NA   1   \n",
       "1876 Xanthobacter autotrophicus                    NA   1   \n",
       "1877 Yersinia bercovieri                           NA   8   \n",
       "1878 Yersinia pseudotuberculosis                   NA   7   "
      ]
     },
     "metadata": {},
     "output_type": "display_data"
    }
   ],
   "source": [
    "merge(total$species,S46$species,by=\"V1\",all = TRUE)"
   ]
  },
  {
   "cell_type": "code",
   "execution_count": 120,
   "metadata": {
    "ExecuteTime": {
     "end_time": "2018-10-18T17:28:46.635778Z",
     "start_time": "2018-10-18T17:28:46.003Z"
    }
   },
   "outputs": [
    {
     "name": "stdout",
     "output_type": "stream",
     "text": [
      "      s13      \n",
      " 1      : 143  \n",
      " 2      : 143  \n",
      " 4      : 105  \n",
      " 3      :  81  \n",
      " 6      :  60  \n",
      " 5      :  59  \n",
      " (Other):1082  \n",
      "       S2      \n",
      " 1      : 174  \n",
      " 2      : 145  \n",
      " 4      :  88  \n",
      " 3      :  63  \n",
      " 12     :  53  \n",
      " 6      :  53  \n",
      " (Other):1089  \n",
      "      S20     \n",
      " 2      :111  \n",
      " 1      :109  \n",
      " 4      :106  \n",
      " 6      : 72  \n",
      " 5      : 69  \n",
      " 3      : 61  \n",
      " (Other):947  \n",
      "      S23      \n",
      " 2      : 284  \n",
      " 1      : 188  \n",
      " 4      : 120  \n",
      " 3      :  80  \n",
      " 5      :  48  \n",
      " 8      :  48  \n",
      " (Other):1621  \n",
      "      S27      \n",
      " 2      : 203  \n",
      " 1      : 179  \n",
      " 4      : 100  \n",
      " 3      :  88  \n",
      " 8      :  60  \n",
      " 5      :  52  \n",
      " (Other):1430  \n",
      "      S28      \n",
      " 2      : 227  \n",
      " 1      : 179  \n",
      " 4      : 104  \n",
      " 3      :  98  \n",
      " 6      :  61  \n",
      " 5      :  51  \n",
      " (Other):1520  \n",
      "       S3      \n",
      " 2      : 133  \n",
      " 1      : 108  \n",
      " 4      :  85  \n",
      " 3      :  59  \n",
      " 6      :  58  \n",
      " 5      :  55  \n",
      " (Other):1212  \n",
      "      S30      \n",
      " 2      : 153  \n",
      " 1      : 152  \n",
      " 4      : 105  \n",
      " 5      :  65  \n",
      " 8      :  61  \n",
      " 3      :  53  \n",
      " (Other):1210  \n",
      "      S31      \n",
      " 1      : 152  \n",
      " 2      : 135  \n",
      " 4      : 108  \n",
      " 3      :  80  \n",
      " 8      :  62  \n",
      " 5      :  60  \n",
      " (Other):1164  \n",
      "      S33      \n",
      " 2      : 366  \n",
      " 1      : 221  \n",
      " 4      : 106  \n",
      " 3      :  88  \n",
      " 5      :  53  \n",
      " 6      :  53  \n",
      " (Other):1691  \n",
      "      S35      \n",
      " 2      : 303  \n",
      " 1      : 181  \n",
      " 4      : 111  \n",
      " 3      :  68  \n",
      " 6      :  60  \n",
      " 5      :  53  \n",
      " (Other):1615  \n",
      "      S36      \n",
      " 2      : 155  \n",
      " 1      : 153  \n",
      " 4      :  99  \n",
      " 3      :  70  \n",
      " 6      :  57  \n",
      " 8      :  55  \n",
      " (Other):1232  \n",
      "      S37      \n",
      " 2      : 238  \n",
      " 1      : 173  \n",
      " 4      : 120  \n",
      " 3      :  76  \n",
      " 6      :  56  \n",
      " 5      :  55  \n",
      " (Other):1589  \n",
      "      S40      \n",
      " 2      : 272  \n",
      " 1      : 208  \n",
      " 4      :  99  \n",
      " 3      :  73  \n",
      " 6      :  55  \n",
      " 8      :  52  \n",
      " (Other):1554  \n",
      "      S44      \n",
      " 2      : 249  \n",
      " 1      : 197  \n",
      " 4      : 113  \n",
      " 6      :  74  \n",
      " 3      :  72  \n",
      " 5      :  66  \n",
      " (Other):1554  \n",
      "      S46     \n",
      " 2      :120  \n",
      " 1      :117  \n",
      " 4      : 94  \n",
      " 5      : 72  \n",
      " 3      : 62  \n",
      " 6      : 60  \n",
      " (Other):960  \n",
      "      S47      \n",
      " 2      : 221  \n",
      " 1      : 190  \n",
      " 4      : 148  \n",
      " 3      :  76  \n",
      " 6      :  55  \n",
      " 5      :  50  \n",
      " (Other):1538  \n",
      "      S48      \n",
      " 2      : 230  \n",
      " 3      : 210  \n",
      " 1      : 153  \n",
      " 4      : 101  \n",
      " 6      :  59  \n",
      " 5      :  57  \n",
      " (Other):1544  \n"
     ]
    },
    {
     "ename": "ERROR",
     "evalue": "Error in names(x) <- value: 'names' attribute [1] must be the same length as the vector [0]\n",
     "output_type": "error",
     "traceback": [
      "Error in names(x) <- value: 'names' attribute [1] must be the same length as the vector [0]\nTraceback:\n",
      "1. `colnames<-`(`*tmp*`, value = name)"
     ]
    }
   ],
   "source": [
    "x=1\n",
    "for(i in dte){\n",
    "    name=names(dte)[x]\n",
    "    dft <- data.frame(i$species[,2])\n",
    "    row.names(dft)=i$species[,1]\n",
    "    colnames(dft)=name\n",
    "    name=dft\n",
    "    print(summary(name))\n",
    "    x=x+1\n",
    "    #total<-merge(total$species,i$species,by=\"V1\",all = TRUE)\n",
    "    #merge(S20$species,S46$species,by=\"row.names\",all = TRUE)\n",
    "}"
   ]
  },
  {
   "cell_type": "code",
   "execution_count": 118,
   "metadata": {
    "ExecuteTime": {
     "end_time": "2018-10-18T17:28:23.160070Z",
     "start_time": "2018-10-18T17:28:22.699Z"
    }
   },
   "outputs": [
    {
     "data": {
      "text/plain": [
       "                                V1            V2.x           V2.y     \n",
       " Abiotrophia defectiva           :   1   1      : 143   1      : 174  \n",
       " Acanthamoeba polyphaga          :   1   2      : 143   2      : 145  \n",
       " Acanthamoeba polyphaga mimivirus:   1   4      : 105   4      :  88  \n",
       " Acaryochloris marina            :   1   3      :  81   3      :  63  \n",
       " Acetivibrio cellulolyticus      :   1   6      :  60   12     :  53  \n",
       " Acetobacter pasteurianus        :   1   (Other):1141   (Other):1142  \n",
       " (Other)                         :1988   NA's   : 321   NA's   : 329  "
      ]
     },
     "metadata": {},
     "output_type": "display_data"
    }
   ],
   "source": [
    "summary(total)"
   ]
  },
  {
   "cell_type": "code",
   "execution_count": 119,
   "metadata": {
    "ExecuteTime": {
     "end_time": "2018-10-18T17:28:30.520036Z",
     "start_time": "2018-10-18T17:28:29.779Z"
    }
   },
   "outputs": [
    {
     "ename": "ERROR",
     "evalue": "Error in (function (..., row.names = NULL, check.rows = FALSE, check.names = TRUE, : arguments imply differing number of rows: 6, 1673, 107, 49, 714, 350, 197\n",
     "output_type": "error",
     "traceback": [
      "Error in (function (..., row.names = NULL, check.rows = FALSE, check.names = TRUE, : arguments imply differing number of rows: 6, 1673, 107, 49, 714, 350, 197\nTraceback:\n",
      "1. Reduce(function(x, y) merge(x, y, by = 0, all = TRUE), mget(ls(pattern = \"[sS][0-9]+\")))",
      "2. f(init, x[[i]])",
      "3. merge(x, y, by = 0, all = TRUE)   # at line 1 of file <text>",
      "4. merge.default(x, y, by = 0, all = TRUE)",
      "5. merge(as.data.frame(x), as.data.frame(y), ...)",
      "6. as.data.frame(x)",
      "7. as.data.frame.list(x)",
      "8. do.call(data.frame, c(x, alis))",
      "9. (function (..., row.names = NULL, check.rows = FALSE, check.names = TRUE, \n .     fix.empty.names = TRUE, stringsAsFactors = default.stringsAsFactors()) \n . {\n .     data.row.names <- if (check.rows && is.null(row.names)) \n .         function(current, new, i) {\n .             if (is.character(current)) \n .                 new <- as.character(new)\n .             if (is.character(new)) \n .                 current <- as.character(current)\n .             if (anyDuplicated(new)) \n .                 return(current)\n .             if (is.null(current)) \n .                 return(new)\n .             if (all(current == new) || all(current == \"\")) \n .                 return(new)\n .             stop(gettextf(\"mismatch of row names in arguments of 'data.frame', item %d\", \n .                 i), domain = NA)\n .         }\n .     else function(current, new, i) {\n .         if (is.null(current)) {\n .             if (anyDuplicated(new)) {\n .                 warning(gettextf(\"some row.names duplicated: %s --> row.names NOT used\", \n .                   paste(which(duplicated(new)), collapse = \",\")), \n .                   domain = NA)\n .                 current\n .             }\n .             else new\n .         }\n .         else current\n .     }\n .     object <- as.list(substitute(list(...)))[-1L]\n .     mirn <- missing(row.names)\n .     mrn <- is.null(row.names)\n .     x <- list(...)\n .     n <- length(x)\n .     if (n < 1L) {\n .         if (!mrn) {\n .             if (is.object(row.names) || !is.integer(row.names)) \n .                 row.names <- as.character(row.names)\n .             if (anyNA(row.names)) \n .                 stop(\"row names contain missing values\")\n .             if (anyDuplicated(row.names)) \n .                 stop(gettextf(\"duplicate row.names: %s\", paste(unique(row.names[duplicated(row.names)]), \n .                   collapse = \", \")), domain = NA)\n .         }\n .         else row.names <- integer()\n .         return(structure(list(), names = character(), row.names = row.names, \n .             class = \"data.frame\"))\n .     }\n .     vnames <- names(x)\n .     if (length(vnames) != n) \n .         vnames <- character(n)\n .     no.vn <- !nzchar(vnames)\n .     vlist <- vnames <- as.list(vnames)\n .     nrows <- ncols <- integer(n)\n .     for (i in seq_len(n)) {\n .         xi <- if (is.character(x[[i]]) || is.list(x[[i]])) \n .             as.data.frame(x[[i]], optional = TRUE, stringsAsFactors = stringsAsFactors)\n .         else as.data.frame(x[[i]], optional = TRUE)\n .         nrows[i] <- .row_names_info(xi)\n .         ncols[i] <- length(xi)\n .         namesi <- names(xi)\n .         if (ncols[i] > 1L) {\n .             if (length(namesi) == 0L) \n .                 namesi <- seq_len(ncols[i])\n .             vnames[[i]] <- if (no.vn[i]) \n .                 namesi\n .             else paste(vnames[[i]], namesi, sep = \".\")\n .         }\n .         else if (length(namesi)) {\n .             vnames[[i]] <- namesi\n .         }\n .         else if (fix.empty.names && no.vn[[i]]) {\n .             tmpname <- deparse(object[[i]], nlines = 1L)[1L]\n .             if (substr(tmpname, 1L, 2L) == \"I(\") {\n .                 ntmpn <- nchar(tmpname, \"c\")\n .                 if (substr(tmpname, ntmpn, ntmpn) == \")\") \n .                   tmpname <- substr(tmpname, 3L, ntmpn - 1L)\n .             }\n .             vnames[[i]] <- tmpname\n .         }\n .         if (mirn && nrows[i] > 0L) {\n .             rowsi <- attr(xi, \"row.names\")\n .             if (any(nzchar(rowsi))) \n .                 row.names <- data.row.names(row.names, rowsi, \n .                   i)\n .         }\n .         nrows[i] <- abs(nrows[i])\n .         vlist[[i]] <- xi\n .     }\n .     nr <- max(nrows)\n .     for (i in seq_len(n)[nrows < nr]) {\n .         xi <- vlist[[i]]\n .         if (nrows[i] > 0L && (nr%%nrows[i] == 0L)) {\n .             xi <- unclass(xi)\n .             fixed <- TRUE\n .             for (j in seq_along(xi)) {\n .                 xi1 <- xi[[j]]\n .                 if (is.vector(xi1) || is.factor(xi1)) \n .                   xi[[j]] <- rep(xi1, length.out = nr)\n .                 else if (is.character(xi1) && inherits(xi1, \"AsIs\")) \n .                   xi[[j]] <- structure(rep(xi1, length.out = nr), \n .                     class = class(xi1))\n .                 else if (inherits(xi1, \"Date\") || inherits(xi1, \n .                   \"POSIXct\")) \n .                   xi[[j]] <- rep(xi1, length.out = nr)\n .                 else {\n .                   fixed <- FALSE\n .                   break\n .                 }\n .             }\n .             if (fixed) {\n .                 vlist[[i]] <- xi\n .                 next\n .             }\n .         }\n .         stop(gettextf(\"arguments imply differing number of rows: %s\", \n .             paste(unique(nrows), collapse = \", \")), domain = NA)\n .     }\n .     value <- unlist(vlist, recursive = FALSE, use.names = FALSE)\n .     vnames <- unlist(vnames[ncols > 0L])\n .     if (fix.empty.names && any(noname <- !nzchar(vnames))) \n .         vnames[noname] <- paste0(\"Var.\", seq_along(vnames))[noname]\n .     if (check.names) {\n .         if (fix.empty.names) \n .             vnames <- make.names(vnames, unique = TRUE)\n .         else {\n .             nz <- nzchar(vnames)\n .             vnames[nz] <- make.names(vnames[nz], unique = TRUE)\n .         }\n .     }\n .     names(value) <- vnames\n .     if (!mrn) {\n .         if (length(row.names) == 1L && nr != 1L) {\n .             if (is.character(row.names)) \n .                 row.names <- match(row.names, vnames, 0L)\n .             if (length(row.names) != 1L || row.names < 1L || \n .                 row.names > length(vnames)) \n .                 stop(\"'row.names' should specify one of the variables\")\n .             i <- row.names\n .             row.names <- value[[i]]\n .             value <- value[-i]\n .         }\n .         else if (!is.null(row.names) && length(row.names) != \n .             nr) \n .             stop(\"row names supplied are of the wrong length\")\n .     }\n .     else if (!is.null(row.names) && length(row.names) != nr) {\n .         warning(\"row names were found from a short variable and have been discarded\")\n .         row.names <- NULL\n .     }\n .     if (is.null(row.names)) \n .         row.names <- .set_row_names(nr)\n .     else {\n .         if (is.object(row.names) || !is.integer(row.names)) \n .             row.names <- as.character(row.names)\n .         if (anyNA(row.names)) \n .             stop(\"row names contain missing values\")\n .         if (anyDuplicated(row.names)) \n .             stop(gettextf(\"duplicate row.names: %s\", paste(unique(row.names[duplicated(row.names)]), \n .                 collapse = \", \")), domain = NA)\n .     }\n .     attr(value, \"row.names\") <- row.names\n .     attr(value, \"class\") <- \"data.frame\"\n .     value\n . })(domain = structure(c(\"Eukaryota\", \"other sequences\", \"unclassified sequences\", \n . \"Viruses\", \"Archaea\", \"Bacteria\", \"570\", \"79\", \"195\", \"76\", \"409\", \n . \"529852\"), .Dim = c(6L, 2L)), species = structure(c(\"Desulfovibrio fructosovorans\", \n . \"Arthrospira sp.\", \"Thalassiobium sp. R2A62\", \"Nitrococcus mobilis\", \n . \"Helicobacter felis\", \"Xanthomonas campestris\", \"Streptococcus phage 2096.1\", \n . \"Coprococcus catus\", \"Xylanimonas cellulosilytica\", \"Nematostella vectensis\", \n . \"Rhodothermus marinus\", \"Cenarchaeum symbiosum\", \"Methylobacterium nodulans\", \n . \"Plasmid pDK1\", \"Mycobacterium kansasii\", \"Actinomyces urogenitalis\", \n . \"Oscillochloris trichoides\", \"Methanosarcina acetivorans\", \"Enterobacteriaceae bacterium 9_2_54FAA\", \n . \"Turicibacter sanguinis\", \"Pelagibaca bermudensis\", \"Thermoplasma volcanium\", \n . \"Sulfitobacter sp. NAS-14.1\", \"Desulfotomaculum acetoxidans\", \n . \"Chryseobacterium gleum\", \"Mesoplasma florum\", \"Caulobacter segnis\", \n . \"Exiguobacterium sibiricum\", \"Roseobacter denitrificans\", \"Cyanothece sp. ATCC 51142\", \n . \"Thermotoga naphthophila\", \"Anaerococcus lactolyticus\", \"Bordetella pertussis\", \n . \"Halothiobacillus neapolitanus\", \"Frankia sp. EuI1c\", \"Hydra magnipapillata\", \n . \"Candidatus Micrarchaeum acidiphilum\", \"Flavobacteriaceae bacterium 3519-10\", \n . \"Aeromicrobium marinum\", \"Brachybacterium faecium\", \"Bifidobacterium catenulatum\", \n . \"Gemmatimonas aurantiaca\", \"Candida glabrata\", \"Methanothermococcus okinawensis\", \n . \"Thiomonas intermedia\", \"Veillonella sp. 3_1_44\", \"Gordonia bronchialis\", \n . \"Cloning vector RSFmobcat\", \"Rhizobium etli\", \"Thioalkalivibrio sp. K90mix\", \n . \"Pseudoramibacter alactolyticus\", \"Caldicellulosiruptor hydrothermalis\", \n . \"Burkholderia ubonensis\", \"Filifactor alocis\", \"Nitrosococcus watsoni\", \n . \"Eubacterium barkeri\", \"Peptoniphilus sp. oral taxon 386\", \"Caldicellulosiruptor lactoaceticus\", \n . \"Brucella pinnipedialis\", \"Thermoanaerobacterium xylanolyticum\", \n . \"Streptomyces sp. e14\", \"Mycoplasma pneumoniae\", \"Corynebacterium glucuronolyticum\", \n . \"Xanthomonas oryzae\", \"Crocosphaera watsonii\", \"Weissella paramesenteroides\", \n . \"Bacillus cellulosilyticus\", \"uncultured rumen bacterium\", \"Frankia sp. EAN1pec\", \n . \"Synechocystis sp. PCC 6803\", \"Prevotella ruminicola\", \"Oceanithermus profundus\", \n . \"Megasphaera genomosp. type_1\", \"Enterobacter cancerogenus\", \n . \"Cytophaga hutchinsonii\", \"Eubacterium ventriosum\", \"Arthrobacter aurescens\", \n . \"Neisseria sicca\", \"Pichia jadinii\", \"Thermus scotoductus\", \"Vibrio harveyi\", \n . \"Bacillus sp. NRRL B-14911\", \"Victivallis vadensis\", \"Lactobacillus ruminis\", \n . \"Geobacter sp. M21\", \"Bifidobacterium cuniculi\", \"Atopobium parvulum\", \n . \"bacterium Ellin514\", \"Alistipes putredinis\", \"Actinobacillus arthritidis\", \n . \"Spiroplasma kunkelii\", \"Haloferax volcanii\", \"candidate division TM7 genomosp. GTL1\", \n . \"Eubacterium acidaminophilum\", \"Trypanosoma cruzi\", \"Alicyclobacillus acidocaldarius\", \n . \"Caldicellulosiruptor obsidiansis\", \"Methanocaldococcus infernus\", \n . \"Lactobacillus plantarum\", \"Leuconostoc gasicomitatum\", \"Eubacterium hallii\", \n . \"Prevotella sp. RS2\", \"Clostridium sticklandii\", \"Thermomonospora curvata\", \n . \"unidentified cloning vector\", \"Coprinopsis cinerea\", \"Rhodococcus jostii\", \n . \"Plautia stali\", \"Dechloromonas aromatica\", \"Neisseria lactamica\", \n . \"Fusobacterium sp. 3_1_36A2\", \"Bacteroides uniformis\", \"Listeria welshimeri\", \n . \"Staphylococcus hominis\", \"Vibrio brasiliensis\", \"Hoeflea phototrophica\", \n . \"Campylobacter concisus\", \"Clostridium tetani\", \"Clostridium spiroforme\", \n . \"Lactobacillus johnsonii\", \"Parabacteroides sp. D13\", \"Pirellula staleyi\", \n . \"Planctomyces brasiliensis\", \"Citrobacter youngae\", \"Anaerostipes sp. 3_2_56FAA\", \n . \"Campylobacter coli\", \"Chitinophaga pinensis\", \"Arthrospira maxima\", \n . \"Pasteurella multocida\", \"Bifidobacterium bifidum\", \"Neptuniibacter caesariensis\", \n . \"Acetivibrio cellulolyticus\", \"Acinetobacter baumannii\", \"delta proteobacterium NaphS2\", \n . \"Blattabacterium sp. (Periplaneta americana)\", \"Roseibium sp. TrichSKD4\", \n . \"Mycoplasma mycoides\", \"Mycoplasma penetrans\", \"Legionella drancourtii\", \n . \"Taylorella equigenitalis\", \"uncultured Termite group 1 bacterium\", \n . \"Lactobacillus delbrueckii\", \"Roseovarius sp. TM1035\", \"Nocardia farcinica\", \n . \"Streptococcus infantis\", \"Bacteroides sp. 3_1_40A\", \"Prevotella sp. oral taxon 472\", \n . \"Tetragenococcus halophilus\", \"Clostridium sp. SS2/1\", \"Lactobacillus sanfranciscensis\", \n . \"Nitrosomonas sp.\", \"Erythrobacter sp. SD-21\", \"Prevotella loescheii\", \n . \"Shewanella piezotolerans\", \"Brucella canis\", \"Gordonia sp. KTR9\", \n . \"Rhodopseudomonas palustris\", \"Flavobacteria bacterium BAL38\", \n . \"Riemerella anatipestifer\", \"Rhodomonas salina\", \"Microcoleus chthonoplastes\", \n . \"Bacteroides sp. 2_1_33B\", \"Methanospirillum hungatei\", \"Mycoplasma haemofelis\", \n . \"Thermosynechococcus elongatus\", \"Burkholderia cenocepacia\", \n . \"Candida oleophila\", \"Ruegeria sp. TM1040\", \"Solenopsis invicta\", \n . \"Exiguobacterium sp.\", \"Paenibacillus sp. Y412MC10\", \"uncultured delta proteobacterium\", \n . \"Enterobacter cloacae\", \"Corynebacterium lipophiloflavum\", \"Sphingopyxis macrogoltabida\", \n . \"Pachycladon stellatum\", \"Methanosarcina barkeri\", \"uncultured bacterium 52B7\", \n . \"Sutterella wadsworthensis\", \"Porphyromonas uenonis\", \"Catenibacterium mitsuokai\", \n . \"Bacillus sp. 2_A_57_CT2\", \"Kitasatospora setae\", \"Plasmid R100\", \n . \"Streptococcus peroris\", \"Lactobacillus phage LL-K\", \"Cellulomonas flavigena\", \n . \"Shigella boydii\", \"Syntrophomonas wolfei\", \"Bacteroides eggerthii\", \n . \"Methylobacterium sp.\", \"Staphylococcus lugdunensis\", \"Bacteroides coprophilus\", \n . \"Fischerella sp. MV11\", \"Acidovorax citrulli\", \"Allochromatium vinosum\", \n . \"Gemella morbillorum\", \"Thermotoga sp. RQ2\", \"Kribbella flavida\", \n . \"Lawsonia intracellularis\", \"Leeuwenhoekiella blandensis\", \"Actinobacillus ureae\", \n . \"Candida tropicalis\", \"Helicobacter canadensis\", \"Clostridium cellulolyticum\", \n . \"Coraliomargarita akajimensis\", \"Streptomyces sp.\", \"Prevotella amnii\", \n . \"uncultured marine bacterium EB80_02D08\", \"uncultured prokaryote\", \n . \"Carnobacterium sp. AT7\", \"Moritella sp.\", \"Prevotella tannerae\", \n . \"Veillonella parvula\", \"Caulobacter sp. K31\", \"Pedobacter sp. BAL39\", \n . \"Candidatus Amoebophilus asiaticus\", \"Roseburia intestinalis\", \n . \"Brucella suis\", \"Mycoplasma leachii\", \"Lutiella nitroferrum\", \n . \"Solanum lycopersicum\", \"Burkholderia sp.\", \"Eubacterium eligens\", \n . \"Eubacterium ramulus\", \"Bradyrhizobium sp. ORS278\", \"Arthrobacter oxydans\", \n . \"Corynebacterium genitalium\", \"Lactobacillus animalis\", \"Bacillus anthracis\", \n . \"Eremococcus coleocola\", \"Bacillus selenitireducens\", \"Neisseria mucosa\", \n . \"Streptococcus alactolyticus\", \"Thermotoga lettingae\", \"Starkeya novella\", \n . \"Helicobacter cinaedi\", \"Caldanaerobacter subterraneus\", \"Glycine max\", \n . \"Vicia faba\", \"Rhodococcus coprophilus\", \"Ralstonia sp.\", \"Cellvibrio japonicus\", \n . \"Methylobacterium radiotolerans\", \"Burkholderia phytofirmans\", \n . \"Chromobacterium violaceum\", \"Acinetobacter calcoaceticus\", \"Methylobacter tundripaludum\", \n . \"Salmonella enterica\", \"Cloning vector pVZ324\", \"Cloning vector pVZ321\", \n . \"Cloning vector pVZ323\", \"Cloning vector pVZ322\", \"Enterobacter sp. 638\", \n . \"Ruminococcus sp.\", \"Rhodobacter sphaeroides\", \"Parabacteroides distasonis\", \n . \"Thermococcus sibiricus\", \"Tetrahymena thermophila\", \"Burkholderia vietnamiensis\", \n . \"Sclerotinia sclerotiorum\", \"Mycoplasma capricolum\", \"Chloroflexus aurantiacus\", \n . \"Thermococcus onnurineus\", \"Eubacterium biforme\", \"Methylocystis sp. ATCC 49242\", \n . \"Burkholderia sp. Ch1-1\", \"Alcanivorax sp. DG881\", \"Desulfotomaculum nigrificans\", \n . \"Lachnospiraceae bacterium 5_1_63FAA\", \"Thermoanaerobacter sp.\", \n . \"Parvimonas micra\", \"Pediococcus acidilactici\", \"Providencia alcalifaciens\", \n . \"IncP-1 plasmid pKJK5\", \"Methanocaldococcus jannaschii\", \"Pelodictyon luteolum\", \n . \"Sphingobium japonicum\", \"Clostridium thermocellum\", \"Sphaerobacter thermophilus\", \n . \"Eubacterium cellulosolvens\", \"Streptococcus suis\", \"Methanococcus voltae\", \n . \"Paracoccus denitrificans\", \"Acidithiobacillus caldus\", \"Bacteroides sp. 4_1_36\", \n . \"Staphylococcus rostri\", \"Brevibacillus brevis\", \"Yersinia mollaretii\", \n . \"Trichomonas vaginalis\", \"Peptoniphilus sp. oral taxon 836\", \n . \"Petrotoga mobilis\", \"Gramella forsetii\", \"Bordetella avium\", \n . \"Methanobrevibacter ruminantium\", \"Ruminococcus bromii\", \"Candidatus Phytoplasma australiense\", \n . \"Lactobacillus salivarius\", \"Cyanothece sp. PCC 7822\", \"Proteus vulgaris\", \n . \"Geobacter lovleyi\", \"Acanthamoeba polyphaga mimivirus\", \"Methylobacterium extorquens\", \n . \"Enterococcus faecium\", \"Propionibacterium acnes\", \"Acaryochloris marina\", \n . \"Polaribacter sp. MED152\", \"Leuconostoc mesenteroides\", \"Staphylococcus xylosus\", \n . \"Symbiodinium muscatinei\", \"Erwinia chrysanthemi\", \"Tritrichomonas foetus\", \n . \"Cloning vector pVZ209\", \"Saccharophagus degradans\", \"Bacteroides capillosus\", \n . \"Halalkalicoccus jeotgali\", \"Streptococcus sanguinis\", \"Anabaena azollae\", \n . \"Ralstonia pickettii\", \"Pelobacter propionicus\", \"Blattabacterium sp.\", \n . \"Acetobacter pasteurianus\", \"Rhodospirillum centenum\", \"Candidatus Sulcia muelleri\", \n . \"Flavobacterium psychrophilum\", \"Thermotoga neapolitana\", \"Aliivibrio fischeri\", \n . \"Lactobacillus vaginalis\", \"Brevibacillus choshinensis\", \"Micromonospora aurantiaca\", \n . \"Anaeromyxobacter sp. K\", \"Lysinibacillus fusiformis\", \"Archaeoglobus veneficus\", \n . \"Bacteroides dorei\", \"Methylotenera sp. 301\", \"Synechococcus sp. RCC307\", \n . \"alpha proteobacterium HIMB114\", \"Exiguobacterium sp. AT1b\", \n . \"Cyanothece sp. PCC 8801\", \"Cyanothece sp. PCC 8802\", \"Rothia sp. T40-1\", \n . \"Isosphaera pallida\", \"Pedobacter heparinus\", \"Giardia intestinalis\", \n . \"Geobacillus sp. Y4.1MC1\", \"Porphyromonas gingivalis\", \"Brevibacterium mcbrellneri\", \n . \"Mitsuokella multacida\", \"Corynebacterium urealyticum\", \"Rhodobacterales bacterium Y4I\", \n . \"Edwardsiella ictaluri\", \"Bacillus phage BCJA1c\", \"Emiliania huxleyi\", \n . \"Streptococcus sp. C150\", \"Vibrio mimicus\", \"Bacteroides sp. 1_1_14\", \n . \"Brachyspira hyodysenteriae\", \"Acinetobacter sp. ADP1\", \"Prevotella copri\", \n . \"Oxalobacter formigenes\", \"Acidobacterium sp. MP5ACTX9\", \"uncultured bacterium Rlip1\", \n . \"Candidatus Nitrospira defluvii\", \"Afipia sp. 1NLS2\", \"Lysinibacillus sphaericus\", \n . \"Bacteroides sp. 3_1_33FAA\", \"Corynebacterium striatum\", \"Moraxella ovis\", \n . \"Magnetospirillum gryphiswaldense\", \"Mobiluncus curtisii\", \"Geobacillus sp. C56-T3\", \n . \"Cloning vector RSFmob-I\", \"Pseudomonas mendocina\", \"Francisella tularensis\", \n . \"Mycoplasma conjunctivae\", \"Streptomyces sp. AA4\", \"Clostridium hiranonis\", \n . \"Alkalilimnicola ehrlichii\", \"Peptoniphilus harei\", \"Ureaplasma parvum\", \n . \"Lactococcus phage\", \"Pseudomonas entomophila\", \"candidate division TM7 single-cell isolate TM7a\", \n . \"Methylibium petroleiphilum\", \"Citrobacter freundii\", \"Simonsiella muelleri\", \n . \"Eubacterium rectale\", \"Marivirga tractuosa\", \"Polaromonas naphthalenivorans\", \n . \"Pseudomonas sp. ATCC29598\", \"Micromonas sp. RCC299\", \"Aminobacterium colombiense\", \n . \"Gluconacetobacter hansenii\", \"Finegoldia magna\", \"Kordia algicida\", \n . \"Dietzia cinnamea\", \"Heliobacterium modesticaldum\", \"Lactobacillus paracasei\", \n . \"Candidatus Arsenophonus triatominarum\", \"Streptococcus infantarius\", \n . \"Enterobacter aerogenes\", \"Clostridiales bacterium 1_7_47FAA\", \n . \"Ectocarpus siliculosus\", \"Xenopus (Silurana) tropicalis\", \"Aliivibrio salmonicida\", \n . \"Halanaerobium praevalens\", \"Thermus thermophilus\", \"Macrococcus caseolyticus\", \n . \"Geodermatophilus obscurus\", \"Acidaminococcus sp. D21\", \"Geobacter metallireducens\", \n . \"Thermoanaerobacter mathranii\", \"Atopobium rimae\", \"Chlorella variabilis\", \n . \"Symbiobacterium thermophilum\", \"Veillonella dispar\", \"Halomonas elongata\", \n . \"Akkermansia muciniphila\", \"Streptomyces violaceusniger\", \"Beijerinckia indica\", \n . \"Monosiga brevicollis\", \"Sporosarcina globispora\", \"Clostridium asparagiforme\", \n . \"Drosophila mojavensis\", \"Syntrophothermus lipocalidus\", \"Asticcacaulis excentricus\", \n . \"Clostridium sporogenes\", \"Pseudomonas putida\", \"uncultured organism\", \n . \"Paenibacillus sp. Dex70-1B\", \"Microscilla marina\", \"Acinetobacter sp.\", \n . \"Bacteriovorax marinus\", \"Lactobacillus gasseri\", \"Campylobacter hominis\", \n . \"Sulfolobus islandicus\", \"Corynebacterium glutamicum\", \"Brucella sp. F5/99\", \n . \"Xanthomonas axonopodis\", \"Nocardioides sp. JS614\", \"gamma proteobacterium HTCC5015\", \n . \"Roseovarius nubinhibens\", \"Dethiosulfovibrio peptidovorans\", \n . \"Prosthecochloris aestuarii\", \"Anaeromyxobacter dehalogenans\", \n . \"Carboxydothermus hydrogenoformans\", \"Klebsiella pneumoniae\", \n . \"Synechococcus sp. RS9917\", \"Congregibacter litoralis\", \"Pseudomonas alcaligenes\", \n . \"Danio rerio\", \"Hydrogenobaculum sp. Y04AAS1\", \"Clostridium stercorarium\", \n . \"marine bacterium HP15\", \"Mycobacterium gilvum\", \"Campylobacter rectus\", \n . \"Anaeromyxobacter sp. Fw109-5\", \"Kingella oralis\", \"Caldicellulosiruptor bescii\", \n . \"Bacteroides sp. D20\", \"Bacteroides sp. D22\", \"Clostridium ljungdahlii\", \n . \"Aeromonas caviae\", \"Micrococcus luteus\", \"Proteus penneri\", \n . \"Bradyrhizobium sp.\", \"Acinetobacter sp. ATCC 27244\", \"Leptotrichia goodfellowii\", \n . \"unidentified\", \"Cyanothece sp. CCY0110\", \"uncultured marine bacterium\", \n . \"Methylacidiphilum infernorum\", \"Gardnerella vaginalis\", \"Geobacillus sp. G11MC16\", \n . \"Transposon Tn4551\", \"uncultured bacterium URE4\", \"Thermaerobacter marianensis\", \n . \"Corynebacterium diphtheriae\", \"Blastopirellula marina\", \"Shewanella putrefaciens\", \n . \"Arcobacter nitrofigilis\", \"Clostridium difficile\", \"Gordonibacter pamelaeae\", \n . \"Yersinia rohdei\", \"Leptotrichia hofstadii\", \"Streptococcus dysgalactiae\", \n . \"Helicobacter hepaticus\", \"Deinococcus geothermalis\", \"Enterococcus italicus\", \n . \"Terriglobus saanensis\", \"Veillonella atypica\", \"Shuttleworthia satelles\", \n . \"Caldicellulosiruptor kronotskyensis\", \"Rhizobium leguminosarum\", \n . \"Sphingomonas sp. SKA58\", \"Desulfococcus oleovorans\", \"Mycoplasma hominis\", \n . \"Arcanobacterium haemolyticum\", \"Prosthecochloris vibrioformis\", \n . \"Stenotrophomonas sp. SKA14\", \"Escherichia sp. 4_1_40B\", \"Bacteroides intestinalis\", \n . \"Mariprofundus ferrooxydans\", \"Staphylococcus aureus\", \"Leuconostoc lactis\", \n . \"Bacteroides stercoris\", \"Thermoanaerobacter brockii\", \"Lactobacillus phage Sha1\", \n . \"Lachnospiraceae bacterium 8_1_57FAA\", \"Lactobacillus antri\", \n . \"Desulfobacterium autotrophicum\", \"Salmonella bongori\", \"Cloning vector pFL122\", \n . \"Brevibacterium linens\", \"Paenibacillus jamilae\", \"Actinomyces sp. oral taxon 178\", \n . \"Mannheimia haemolytica\", \"Clostridium perfringens\", \"Pelodictyon phaeoclathratiforme\", \n . \"Rhodococcus erythropolis\", \"uncultured archaeon GZfos36D8\", \n . \"Pectinatus frisingensis\", \"Mycoplasma sp. 1220\", \"Klebsiella aerogenes\", \n . \"Acetobacterium dehalogenans\", \"Brucella sp.\", \"Magnetospirillum magneticum\", \n . \"Desulfohalobium retbaense\", \"Rhodobacteraceae bacterium HTCC2150\", \n . \"Neisseria sp.\", \"Zunongwangia profunda\", \"Listeria innocua\", \n . \"Campylobacter upsaliensis\", \"Dyadobacter fermentans\", \"Pectobacterium wasabiae\", \n . \"Providencia rettgeri\", \"Dichelobacter nodosus\", \"Candidatus Hamiltonella defensa\", \n . \"Bacteroides ovatus\", \"Halothermothrix orenii\", \"Spinacia oleracea\", \n . \"Eubacterium yurii\", \"IncJ plasmid R391\", \"Corynebacterium matruchotii\", \n . \"Mycoplasma synoviae\", \"Curvibacter putative symbiont of Hydra magnipapillata\", \n . \"Lactobacillus oris\", \"Kytococcus sedentarius\", \"Carnobacterium sp.\", \n . \"Mesorhizobium opportunistum\", \"Janibacter sp. HTCC2649\", \"Rhodococcus equi\", \n . \"Vibrio sp. AND4\", \"Tribolium castaneum\", \"Micromonospora sp. ATCC 39149\", \n . \"Geobacillus kaustophilus\", \"Chloroflexus sp. Y-400-fl\", \"Phaeosphaeria nodorum\", \n . \"Oceanicaulis alexandrii\", \"Fusobacterium sp. D12\", \"Fusobacterium sp. D11\", \n . \"Ruminococcus torques\", \"Oikopleura dioica\", \"Burkholderia multivorans\", \n . \"Treponema vincentii\", \"Cupriavidus necator\", \"Bacillus acidopullulyticus\", \n . \"Desulfotalea psychrophila\", \"Vibrio parahaemolyticus\", \"Streptomyces hygroscopicus\", \n . \"Sordaria macrospora\", \"Yersinia kristensenii\", \"Bulleidia extructa\", \n . \"Desulfomicrobium baculatum\", \"Vibrio sp. Ex25\", \"Corynebacterium pseudotuberculosis\", \n . \"Lactobacillus manihotivorans\", \"Paenibacillus vortex\", \"Herbaspirillum seropedicae\", \n . \"Eggerthella lenta\", \"Vibrio navarrensis\", \"Bacillus pseudofirmus\", \n . \"Shigella flexneri\", \"Bacillus sp.\", \"Acetohalobium arabaticum\", \n . \"Kineococcus radiotolerans\", \"Lachnospiraceae bacterium 14-2\", \n . \"Shewanella sp.\", \"Erwinia amylovora\", \"Methanosphaera stadtmanae\", \n . \"Spirochaeta thermophila\", \"Spirosoma linguale\", \"Haladaptatus paucihalophilus\", \n . \"Planctomyces maris\", \"Bigelowiella natans\", \"Prevotella sp.\", \n . \"Weeksella virosa\", \"Streptococcus pyogenes\", \"Halobacillus yeomjeoni\", \n . \"Selenomonas sp. oral taxon 137\", \"Mesorhizobium ciceri\", \"Erythrobacter sp.\", \n . \"Fusobacterium sp. 2_1_31\", \"Clostridium phage c-st\", \"Clostridiales genomosp. BVAB3\", \n . \"Aurantimonas manganoxydans\", \"Thermotoga sp.\", \"Alkaliphilus metalliredigens\", \n . \"Bacteroides caccae\", \"Pectobacterium atrosepticum\", \"Corynebacterium resistens\", \n . \"Aquifex aeolicus\", \"Desulfurispirillum indicum\", \"butyrate-producing bacterium SSC/2\", \n . \"Marinobacter sp.\", \"Nitrobacter sp. Nb-311A\", \"Erwinia sp. Ejp617\", \n . \"Desulfurococcus mucosus\", \"Dethiobacter alkaliphilus\", \"Eikenella corrodens\", \n . \"Solobacterium moorei\", \"Erwinia tasmaniensis\", \"Butyrivibrio crossotus\", \n . \"Streptococcus cristatus\", \"Waddlia chondrophila\", \"Cellulosilyticum ruminicola\", \n . \"Neisseria flavescens\", \"Fusobacterium gonidiaformans\", \"Alistipes finegoldii\", \n . \"gamma proteobacterium HTCC2207\", \"Methanoplanus petrolearius\", \n . \"Leadbetterella byssophila\", \"Vibrio cholerae\", \"Ricinus communis\", \n . \"candidate division TM7 single-cell isolate TM7c\", \"Chlamydia trachomatis\", \n . \"Burkholderia glumae\", \"Salinispora tropica\", \"Succinatimonas hippei\", \n . \"Caldicellulosiruptor kristjanssonii\", \"Photobacterium angustum\", \n . \"Corynebacterium jeikeium\", \"Methylocella silvestris\", \"Serratia odorifera\", \n . \"Bartonella grahamii\", \"Broad host range shuttle vector pPMQAK1\", \n . \"Pseudoalteromonas tunicata\", \"Taeniopygia guttata\", \"Histophilus somni\", \n . \"Coprobacillus sp. 29_1\", \"Paenibacillus larvae\", \"Eubacterium cylindroides\", \n . \"Stigmatella aurantiaca\", \"Clostridium bartlettii\", \"Granulicatella elegans\", \n . \"Bacteroides sp. 20_3\", \"butyrate-producing bacterium ART55/1\", \n . \"Nostoc sp.\", \"Denitrovibrio acetiphilus\", \"Azotobacter vinelandii\", \n . \"Haemophilus ducreyi\", \"Streptococcus vestibularis\", \"Ralstonia solanacearum\", \n . \"Vibrio furnissii\", \"Sinorhizobium fredii\", \"Anaplasma phagocytophilum\", \n . \"Streptomyces griseus\", \"Tsukamurella paurometabola\", \"Ralstonia sp. 5_7_47FAA\", \n . \"Leptotrichia buccalis\", \"Methylobacillus flagellatus\", \"Lactobacillus crispatus\", \n . \"uncultured bacterium\", \"uncultured candidate division OP8 bacterium\", \n . \"Aggregatibacter actinomycetemcomitans\", \"Volvox carteri\", \"Dehalogenimonas lykanthroporepellens\", \n . \"Bordetella petrii\", \"Propionibacterium acidifaciens\", \"Bacteroidetes oral taxon 274\", \n . \"butyrate-producing bacterium L2-50\", \"Treponema phagedenis\", \n . \"Pseudovibrio sp. JE062\", \"Helicobacter bilis\", \"Ureaplasma urealyticum\", \n . \"Methanobrevibacter smithii\", \"Thermoanaerobacter pseudethanolicus\", \n . \"Methanocorpusculum labreanum\", \"Oceanicaulis sp. HTCC2633\", \n . \"Claviceps fusiformis\", \"Sulfurovum sp. NBC37-1\", \"Thermotoga maritima\", \n . \"Shewanella sp. ANA-3\", \"Comamonas testosteroni\", \"Leuconostoc kimchii\", \n . \"Methanocella paludicola\", \"Plasmodium cf. ovale\", \"Shigella dysenteriae\", \n . \"Leptospira interrogans\", \"Mycoplasma agalactiae\", \"Variovorax paradoxus\", \n . \"Methylotenera mobilis\", \"Cloning vector pVZ361\", \"Rhodobacter sp. SW2\", \n . \"Plasmid RSF1010\", \"Gallus gallus\", \"Streptomyces filamentosus\", \n . \"Teredinibacter turnerae\", \"Coprococcus comes\", \"Tolumonas auensis\", \n . \"Serratia marcescens\", \"Fusobacterium sp. 7_1\", \"uncultured archaeon GZfos17A3\", \n . \"Fusobacterium sp. 3_1_27\", \"Populus trichocarpa\", \"Cupriavidus pinatubonensis\", \n . \"Actinobacillus pleuropneumoniae\", \"Clostridium longisporum\", \n . \"Acidiphilium cryptum\", \"Mannheimia succiniciproducens\", \"Selenomonas sputigena\", \n . \"Escherichia coli\", \"Pediococcus inopinatus\", \"Neisseria gonorrhoeae\", \n . \"Shewanella sediminis\", \"Thermococcus sp. AM4\", \"Selenomonas sp. oral taxon 149\", \n . \"Campylobacter curvus\", \"Burkholderia sp. H160\", \"Psychrobacter sp. PRwf-1\", \n . \"Bilophila wadsworthia\", \"Desulfurivibrio alkaliphilus\", \"Aspergillus terreus\", \n . \"Dehalococcoides ethenogenes\", \"Lactobacillus jensenii\", \"Haemophilus parainfluenzae\", \n . \"Citromicrobium bathyomarinum\", \"Burkholderia sp. 383\", \"Desulfurococcus kamchatkensis\", \n . \"Lactobacillus rhamnosus\", \"Francisella noatunensis\", \"Klebsiella sp. 1_1_55\", \n . \"Acinetobacter sp. DR1\", \"Cyperus iria\", \"Sulfuricurvum kujiense\", \n . \"Thermotogales bacterium mesG1.Ag.4.2\", \"Clostridium papyrosolvens\", \n . \"Candidatus Poribacteria sp. WGA-A3\", \"beta proteobacterium KB13\", \n . \"Coprococcus eutactus\", \"Rhodomicrobium vannielii\", \"Hahella chejuensis\", \n . \"Prevotella buccae\", \"Treponema socranskii\", \"sediment metagenome\", \n . \"Listeria ivanovii\", \"Bacteroides finegoldii\", \"Aerococcus viridans\", \n . \"Coprothermobacter proteolyticus\", \"Sulfurimonas autotrophica\", \n . \"Anaerococcus prevotii\", \"Clostridium acetobutylicum\", \"Frankia sp. EUN1f\", \n . \"Chloroherpeton thalassium\", \"Clostridium ramosum\", \"Oscillatoria sp.\", \n . \"Phytophthora infestans\", \"Streptococcus thermophilus\", \"Caulobacter sp.\", \n . \"Streptomyces griseoflavus\", \"Synechococcus elongatus\", \"Thermobaculum terrenum\", \n . \"Bifidobacterium sp. A24\", \"Anaerobaculum hydrogeniformans\", \n . \"Dokdonia donghaensis\", \"Natrialba magadii\", \"Anoxybacillus flavithermus\", \n . \"Methanosarcina mazei\", \"Candidatus Pelagibacter sp. HTCC7211\", \n . \"Synechococcus sp.\", \"Thauera sp. MZ1T\", \"Rothia dentocariosa\", \n . \"Rhodococcus sp.\", \"Burkholderia dolosa\", \"Actinomyces sp. oral taxon 848\", \n . \"Dinoroseobacter shibae\", \"Segniliparus rotundus\", \"Rhodobacterales bacterium HTCC2255\", \n . \"Sus scrofa\", \"Clostridium sp. MLG245\", \"Micromonospora viridifaciens\", \n . \"Anaerofustis stercorihominis\", \"Synergistetes bacterium SGP1\", \n . \"Rhodobacter sp.\", \"butyrate-producing bacterium SM4/1\", \"Conexibacter woesei\", \n . \"Burkholderia graminis\", \"Peptoniphilus duerdenii\", \"Pyramidobacter piscolens\", \n . \"Yersinia frederiksenii\", \"Actinomyces coleocanis\", \"Holdemania filiformis\", \n . \"Caloramator fervidus\", \"Marvinbryantia formatexigens\", \"Clostridium bolteae\", \n . \"Brucella sp. NF 2653\", \"Actinomyces odontolyticus\", \"Pseudoalteromonas haloplanktis\", \n . \"Anaerococcus tetradius\", \"Corynebacterium efficiens\", \"Acidovorax delafieldii\", \n . \"Nitrosomonas eutropha\", \"Bifidobacterium gallicum\", \"Fusobacterium sp. 3_1_33\", \n . \"Acholeplasma brassicae\", \"Clostridium sp. M62/1\", \"Streptomyces sp. SPB74\", \n . \"Enterococcus faecalis\", \"Scardovia inopinata\", \"Dictyostelium discoideum\", \n . \"Ferroplasma acidarmanus\", \"Heliobacillus mobilis\", \"Magnetococcus sp. MC-1\", \n . \"Olsenella uli\", \"Sinorhizobium medicae\", \"Peptostreptococcus anaerobius\", \n . \"Clostridium lentocellum\", \"Clostridium methylpentosum\", \"Sulfurihydrogenibium yellowstonense\", \n . \"Bacteroides sp. 2_2_4\", \"Methylophaga thiooxydans\", \"Cupriavidus taiwanensis\", \n . \"Nitrosococcus oceani\", \"Deinococcus maricopensis\", \"Broad host range expression vector pQLICE\", \n . \"Rhodococcus sp. NS1\", \"Clostridium novyi\", \"Clostridium leptum\", \n . \"Bacillus clausii\", \"Phascolarctobacterium sp. YIT 12067\", \"Desulfovibrio sp. FW1012B\", \n . \"Caenorhabditis elegans\", \"Streptococcus australis\", \"Ruminococcus flavefaciens\", \n . \"Staphylococcus caprae\", \"Vibrio coralliilyticus\", \"Peptoniphilus lacrimalis\", \n . \"Synechococcus sp. CC9311\", \"Pseudoalteromonas sp.\", \"Clostridium botulinum\", \n . \"Candidatus Azobacteroides pseudotrichonymphae\", \"Mycoplasma alligatoris\", \n . \"Bacillus sp. m3-13\", \"Methanohalophilus mahii\", \"Desulfitobacterium hafniense\", \n . \"Thermus aquaticus\", \"Dialister invisus\", \"Burkholderia phymatum\", \n . \"Desulfotomaculum reducens\", \"Cyanobium sp. PCC 7001\", \"Serratia proteamaculans\", \n . \"Lactobacillus amylolyticus\", \"Prevotella oralis\", \"Brucella ceti\", \n . \"Methanohalobium evestigatum\", \"Lactobacillus phage Sal3\", \"Lactobacillus phage Sal1\", \n . \"Chaetomium globosum\", \"Shewanella sp. W3-18-1\", \"Lentisphaera araneosa\", \n . \"Methylobacterium chloromethanicum\", \"Saccharopolyspora erythraea\", \n . \"Vibrio alginolyticus\", \"Hydrogenobacter thermophilus\", \"Eubacterium dolichum\", \n . \"Streptococcus oralis\", \"Fusobacterium nucleatum\", \"Bifidobacterium dentium\", \n . \"Actinomyces sp.\", \"Caenorhabditis remanei\", \"Leptospirillum ferrodiazotrophum\", \n . \"Anaerococcus vaginalis\", \"Stackebrandtia nassauensis\", \"Selenomonas noxia\", \n . \"Cyprinus carpio\", \"Thermoanaerobacter sp. X514\", \"Coprococcus sp. ART55/1\", \n . \"Synechocystis sp.\", \"Synechococcus sp. PCC 7335\", \"Acidobacterium capsulatum\", \n . \"Yersinia intermedia\", \"Bacillus thuringiensis\", \"Thermoanaerobacter italicus\", \n . \"Streptococcus pneumoniae\", \"Oribacterium sp. oral taxon 078\", \n . \"Plasmid pWW53\", \"Mycobacterium abscessus\", \"Desulfuromonas acetoxidans\", \n . \"Clostridiaceae bacterium K10\", \"Helicobacter mustelae\", \"Enterococcus casseliflavus\", \n . \"Listonella phage phiHSIC\", \"Bacillus tusciae\", \"Streptococcus equi\", \n . \"Escherichia sp. 3_2_53FAA\", \"Helicobacter pylori\", \"Vibrio shilonii\", \n . \"Pediococcus pentosaceus\", \"Lactobacillus casei\", \"Chlorobaculum parvum\", \n . \"Brucella abortus\", \"Eubacterium siraeum\", \"Ilyobacter polytropus\", \n . \"Paulinella chromatophora\", \"Apis mellifera\", \"Pseudomonas savastanoi\", \n . \"Idiomarina baltica\", \"Campylobacterales bacterium GD 1\", \"Streptococcus pseudoporcinus\", \n . \"Nitrosomonas sp. AL212\", \"Shewanella woodyi\", \"Shewanella pealeana\", \n . \"Streptomyces avermitilis\", \"Slackia heliotrinireducens\", \"Cyanidioschyzon merolae\", \n . \"Geobacter sp.\", \"Anaerostipes caccae\", \"Epulopiscium sp.\", \"Haplotaenium minutum\", \n . \"Cloning vector RSFmob\", \"Nodularia spumigena\", \"Oenococcus oeni\", \n . \"Gloeobacter violaceus\", \"Prevotella bergensis\", \"Prevotella melaninogenica\", \n . \"uncultured Porphyromonadaceae bacterium\", \"Acanthamoeba polyphaga\", \n . \"uncultured marine microorganism HF4000_010L19\", \"Bacteroides vulgatus\", \n . \"Shigella sonnei\", \"Eubacterium saphenum\", \"Desulfovibrio sp. 3_1_syn3\", \n . \"Planococcus donghaensis\", \"Prevotella salivae\", \"Corynebacterium accolens\", \n . \"Porphyromonas endodontalis\", \"Veillonella sp. oral taxon 158\", \n . \"Clostridium sp. CCRI-9842\", \"Fusobacterium mortiferum\", \"Sodalis glossinidius\", \n . \"Erysipelotrichaceae bacterium 5_2_54FAA\", \"Streptococcus mitis\", \n . \"Edwardsiella tarda\", \"Pediococcus damnosus\", \"synthetic Mycoplasma mycoides JCVI-syn1.0\", \n . \"Clostridium kluyveri\", \"Cronobacter sakazakii\", \"Frankia sp.\", \n . \"Bacteroides sp. 2_1_22\", \"Bacteroides sp. D2\", \"Selenomonas flueggei\", \n . \"Bacteroides sp. D1\", \"Rhodopirellula baltica\", \"Bordetella bronchiseptica\", \n . \"Peptococcus niger\", \"Sulfurihydrogenibium sp. YO3AOP1\", \"Roseburia sp. A2-183\", \n . \"Faecalibacterium prausnitzii\", \"Brachyspira pilosicoli\", \"Pantoea ananatis\", \n . \"Slackia exigua\", \"Methanocaldococcus sp. FS406-22\", \"Marinobacter sp. ELB17\", \n . \"Candidatus Solibacter usitatus\", \"Ferrimonas balearica\", \"Chlorobium chlorochromatii\", \n . \"Novosphingobium aromaticivorans\", \"Prevotella marshii\", \"Aspergillus oryzae\", \n . \"Campylobacter phage CGC-2007\", \"Meiothermus silvanus\", \"Thermaerobacter subterraneus\", \n . \"Acinetobacter genomosp. 3\", \"marine actinobacterium PHSC20C1\", \n . \"Photorhabdus asymbiotica\", \"Calditerrivibrio nitroreducens\", \n . \"Streptococcus parauberis\", \"Yarrowia lipolytica\", \"Synechococcus sp. RS9916\", \n . \"Listeria phage P40\", \"Clostridium saccharolyticum\", \"Labrenzia aggregata\", \n . \"Gemmata obscuriglobus\", \"Ruminococcus obeum\", \"Halanaerobium sp. 'sapolanicus'\", \n . \"Lactobacillus pentosus\", \"Bacillus sp. R\", \"Roseomonas cervicalis\", \n . \"Ochrobactrum anthropi\", \"Kosmotoga olearia\", \"Desulfovibrio desulfuricans\", \n . \"Zea mays\", \"Pelobacter carbinolicus\", \"Hyphomonas neptunium\", \n . \"Bacteroides thetaiotaomicron\", \"Lactococcus lactis\", \"Rhizobium sp.\", \n . \"Ruminococcaceae bacterium D16\", \"Fusobacterium ulcerans\", \"Thioalkalivibrio sp. HL-EbGR7\", \n . \"Cupriavidus metallidurans\", \"Candidatus Cloacamonas acidaminovorans\", \n . \"Pseudomonas fluorescens\", \"Streptomyces coelicolor\", \"Streptomyces bingchenggensis\", \n . \"Halobacillus halophilus\", \"Bifidobacterium adolescentis\", \"Sagittula stellata\", \n . \"Robiginitalea biformata\", \"Cyanothece sp. PCC 7424\", \"Cyanothece sp. PCC 7425\", \n . \"Pelotomaculum thermopropionicum\", \"Anaerolinea thermophila\", \n . \"Burkholderia ambifaria\", \"Geobacillus sp. WCH70\", \"Synechococcus phage S-SSM7\", \n . \"Coprobacillus sp. D7\", \"Dictyoglomus turgidum\", \"Entamoeba histolytica\", \n . \"Bacteroides sp. 3_1_23\", \"Vibrio sp. RC341\", \"Thiobacillus denitrificans\", \n . \"Truepera radiovictrix\", \"Bacteroides sp.\", \"Leuconostoc citreum\", \n . \"Helicobacter winghamensis\", \"Gluconacetobacter diazotrophicus\", \n . \"Parascardovia denticolens\", \"Streptococcus parasanguinis\", \"Verrucomicrobiae bacterium DG1235\", \n . \"Abiotrophia defectiva\", \"Oryza sativa\", \"Paenibacillus polymyxa\", \n . \"Chthoniobacter flavus\", \"Arthrobacter arilaitensis\", \"uncultured Acidobacteria bacterium\", \n . \"Shewanella halifaxensis\", \"Bacillus coagulans\", \"Cardiobacterium hominis\", \n . \"Bacillus mycoides\", \"Idiomarina loihiensis\", \"alpha proteobacterium BAL199\", \n . \"Shewanella sp. MR-7\", \"Verminephrobacter eiseniae\", \"Neisseria elongata\", \n . \"Mucilaginibacter paludis\", \"Bacteroides nordii\", \"Clostridium cellulovorans\", \n . \"Veillonella sp. 6_1_27\", \"Methylobacterium sp. 4-46\", \"Achromobacter xylosoxidans\", \n . \"Thermococcus barophilus\", \"Candidatus Puniceispirillum marinum\", \n . \"Beggiatoa sp. PS\", \"Anaerotruncus colihominis\", \"Synechococcus sp. WH 5701\", \n . \"Butyrivibrio fibrisolvens\", \"Campylobacter jejuni\", \"Brevundimonas subvibrioides\", \n . \"Chromohalobacter salexigens\", \"Methanosphaerula palustris\", \n . \"Xanthomonas albilineans\", \"Parabacteroides johnsonii\", \"Neisseria sp. oral taxon 014\", \n . \"Mycobacterium sp. Spyr1\", \"Kryptoperidinium foliaceum\", \"Phenylobacterium zucineum\", \n . \"Clostridium beijerinckii\", \"Acholeplasma laidlawii\", \"Coptotermes formosanus\", \n . \"Renibacterium salmoninarum\", \"Streptococcus uberis\", \"Acidobacterium sp. MP5ACTX8\", \n . \"Collinsella stercoris\", \"Barnesiella viscericola\", \"Naegleria gruberi\", \n . \"Staphylococcus saprophyticus\", \"Geobacter sulfurreducens\", \"Actinobacillus minor\", \n . \"Roseobacter sp. CCS2\", \"Nitrobacter hamburgensis\", \"Mycobacterium sp. MCS\", \n . \"Lactobacillus reuteri\", \"Oscillatoria sp. PCC 6506\", \"Capnocytophaga ochracea\", \n . \"Desulfovibrio salexigens\", \"Arcobacter butzleri\", \"Fusobacterium varium\", \n . \"Sulfurihydrogenibium azorense\", \"Rahnella sp. Y9602\", \"Mycobacterium sp.\", \n . \"Klebsiella sp.\", \"Bacteroides sp. 2_1_16\", \"Methylovorus sp. MP688\", \n . \"Hirschia baltica\", \"Vibrio sp. 343\", \"Endoriftia persephone\", \n . \"Lactobacillus helveticus\", \"Moraxella catarrhalis\", \"Listeria marthii\", \n . \"Streptococcus sp. M143\", \"Cylindrospermopsis raciborskii\", \"Clostridium sp. enrichment culture clone 7-25\", \n . \"Bacillus atrophaeus\", \"Rhodospirillum rubrum\", \"Sorangium cellulosum\", \n . \"Fusobacterium sp. 4_1_13\", \"Desulfovibrio magneticus\", \"Roseburia inulinivorans\", \n . \"Desulfovibrio vulgaris\", \"Legionella pneumophila\", \"Desulfatibacillum alkenivorans\", \n . \"Azorhizobium caulinodans\", \"Kangiella koreensis\", \"Polaribacter irgensii\", \n . \"Malonomonas rubra\", \"Catonella morbi\", \"Treponema denticola\", \n . \"Streptobacillus moniliformis\", \"Fusobacterium sp.\", \"Natranaerobius thermophilus\", \n . \"Fervidobacterium nodosum\", \"Providencia rustigianii\", \"Micromonospora sp.\", \n . \"Oceanicola granulosus\", \"Sinorhizobium meliloti\", \"Bacillus licheniformis\", \n . \"Thermoanaerobacter wiegelii\", \"Megasphaera elsdenii\", \"Vibrio sp.\", \n . \"Candidatus Kuenenia stuttgartiensis\", \"Streptococcus iniae\", \n . \"Lactobacillus amylovorus\", \"Actinosynnema mirum\", \"Yersinia pestis\", \n . \"Brucella microti\", \"Methanothermus fervidus\", \"Ruminococcus gnavus\", \n . \"Selenomonas ruminantium\", \"Legionella longbeachae\", \"Streptococcus sp. 2_1_36FAA\", \n . \"Cyanidium sp. Monte Rotaro\", \"Klebsiella variicola\", \"Bifidobacterium sp. BcRW10\", \n . \"Blautia hydrogenotrophica\", \"Alteromonadales bacterium TW-7\", \n . \"Bacillus coahuilensis\", \"Bacteroides cellulosilyticus\", \"Gibberella zeae\", \n . \"Lactobacillus fermentum\", \"Neisseria meningitidis\", \"Burkholderia sp. CCGE1003\", \n . \"Streptococcus gordonii\", \"Bacillus megaterium\", \"Prevotella bryantii\", \n . \"Wolbachia sp.\", \"Shewanella baltica\", \"Halogeometricum borinquense\", \n . \"Bacteroides fragilis\", \"Streptosporangium roseum\", \"uncultured microorganism\", \n . \"Mobiluncus mulieris\", \"Enterococcus hirae\", \"Sphingobacterium spiritivorum\", \n . \"Dickeya zeae\", \"Alteromonas macleodii\", \"Expression vector pFL190\", \n . \"Plesiocystis pacifica\", \"Chlamydomonas reinhardtii\", \"Ketogulonicigenium vulgare\", \n . \"Thermoanaerobacterium saccharolyticum\", \"Psychrobacter arcticus\", \n . \"Phaeodactylum tricornutum\", \"Dictyoglomus thermophilum\", \"Caminibacter mediatlanticus\", \n . \"Candidatus Desulforudis audaxviator\", \"Candidatus Liberibacter asiaticus\", \n . \"Alkaliphilus oremlandii\", \"Streptococcus sp. C300\", \"Methylovorus sp. SIP3-4\", \n . \"Ktedonobacter racemifer\", \"Erwinia pyrifoliae\", \"uncultured bacterium BAC17H8\", \n . \"Bacteroides plebeius\", \"Vibrio splendidus\", \"Nostoc punctiforme\", \n . \"Paramecium tetraurelia\", \"Dialister propionicifaciens\", \"Bacillus halodurans\", \n . \"Herpetosiphon aurantiacus\", \"Bifidobacterium angulatum\", \"Dorea longicatena\", \n . \"Geobacter sp. FRC-32\", \"Streptococcus gallolyticus\", \"Geobacillus sp. Y412MC61\", \n . \"Bifidobacterium longum\", \"Azospirillum sp. B510\", \"Methanocaldococcus vulcanius\", \n . \"Rothia mucilaginosa\", \"Palm lethal yellowing phytoplasma\", \"Prevotella sp. oral taxon 317\", \n . \"Bacillus cereus\", \"Myxococcus xanthus\", \"Fibrobacter succinogenes\", \n . \"Syntrophobacter fumaroxidans\", \"Pseudoalteromonas sp. S9\", \"Croceibacter atlanticus\", \n . \"Bacillus psychrosaccharolyticus\", \"Staphylococcus warneri\", \n . \"Parvibaculum lavamentivorans\", \"Methanococcus maripaludis\", \n . \"Sphingopyxis alaskensis\", \"butyrate-producing bacterium SS3/4\", \n . \"Polaromonas sp. JS666\", \"Flavobacteriales bacterium ALC-1\", \n . \"Catenulispora acidiphila\", \"Erysipelotrichaceae bacterium 3_1_53\", \n . \"Vibrio vulnificus\", \"Enterobacteria phage Phieco32\", \"Bacillus circulans\", \n . \"uncultured marine group II euryarchaeote HF70_39H11\", \"Burkholderia rhizoxinica\", \n . \"Pseudomonas syringae\", \"Bacillus sp. MGA3\", \"Clostridium carboxidivorans\", \n . \"Desulfovibrio sp. ND132\", \"Pectobacterium carotovorum\", \"Bacteroides sp. 1_1_6\", \n . \"gamma proteobacterium NOR51-B\", \"Azospirillum sp.\", \"Streptococcus sp. M334\", \n . \"Clostridium sp. L2-50\", \"Streptomyces sp. ACT-1\", \"Fusobacterium sp. 1_1_41FAA\", \n . \"Streptomyces sp. SPB78\", \"Erwinia billingiae\", \"Vulcanisaeta distributa\", \n . \"Acinetobacter genomosp. 13TU\", \"Burkholderia pseudomallei\", \n . \"Rhodobacter capsulatus\", \"Ostreococcus 'lucimarinus'\", \"Chlorobium ferrooxidans\", \n . \"Ruminococcus sp. 5_1_39BFAA\", \"Lyngbya sp. PCC 8106\", \"Clostridium phytofermentans\", \n . \"Streptomyces sp. Mg1\", \"Collinsella intestinalis\", \"unidentified microorganism\", \n . \"Marinomonas sp. MED121\", \"Chloroflexus aggregans\", \"Providencia stuartii\", \n . \"unidentified phage\", \"Roseobacter sp. GAI101\", \"Citrobacter rodentium\", \n . \"Cryptobacterium curtum\", \"Streptococcus phage phi-m46.1\", \"Desulfovibrio aespoeensis\", \n . \"Cyanophora paradoxa\", \"Desulfovibrio sp.\", \"Burkholderia thailandensis\", \n . \"Aeromonas salmonicida\", \"Proteus mirabilis\", \"Thermovibrio ammonificans\", \n . \"Bacteroides sp. 4_3_47FAA\", \"Colwellia psychrerythraea\", \"Clostridium sp. 7_2_43FAA\", \n . \"Bifidobacterium sp. 12_1_47BFAA\", \"Jonesia denitrificans\", \"Micromonas pusilla\", \n . \"Caldicellulosiruptor owensensis\", \"Cloning vector pCD341\", \"Cloning vector pCD342\", \n . \"Birmingham IncP-alpha plasmid\", \"Megasphaera micronuciformis\", \n . \"Leuconostoc pseudomesenteroides\", \"Neisseria subflava\", \"Lautropia mirabilis\", \n . \"Bacillus sp. SG-1\", \"Ruminococcus sp. SR1/5\", \"Clostridium saccharobutylicum\", \n . \"Clostridium hylemonae\", \"Deinococcus radiodurans\", \"Acidithiobacillus ferrooxidans\", \n . \"Delftia acidovorans\", \"Xenorhabdus bovienii\", \"Planctomyces limnophilus\", \n . \"Pseudoalteromonas sp. SM9913\", \"Burkholderia sp. CCGE1001\", \n . \"Thermosediminibacter oceani\", \"Burkholderia sp. CCGE1002\", \"Tuber melanosporum\", \n . \"Lactobacillus backi\", \"Pediococcus cellicola\", \"Gemella haemolysans\", \n . \"Francisella novicida\", \"Thermobispora bispora\", \"Chlorobium limicola\", \n . \"Prevotella veroralis\", \"Geobacillus sp. Y412MC52\", \"Ethanoligenens harbinense\", \n . \"Geobacillus stearothermophilus\", \"Mycoplasma bovis\", \"Kocuria rhizophila\", \n . \"Parvularcula bermudensis\", \"Sphingomonas wittichii\", \"Aspergillus niger\", \n . \"Limnobacter sp. MED105\", \"Borrelia duttonii\", \"Lactobacillus sakei\", \n . \"Anaerococcus hydrogenalis\", \"Blattabacterium sp. (Blattella germanica)\", \n . \"Clostridium pasteurianum\", \"Roseburia faecis\", \"Paenibacillus sp. JDR-2\", \n . \"Opitutus terrae\", \"Bacillus cytotoxicus\", \"Bacillus amyloliquefaciens\", \n . \"Coxiella burnetii\", \"Saccoglossus kowalevskii\", \"Atopobium vaginae\", \n . \"Agrobacterium tumefaciens\", \"Streptomyces flavogriseus\", \"Sebaldella termitidis\", \n . \"Aciduliprofundum boonei\", \"Bacteroides pectinophilus\", \"Mycoplasma genitalium\", \n . \"Bifidobacterium animalis\", \"Synechococcus sp. WH 8109\", \"Streptomyces scabiei\", \n . \"Lactobacillus ultunensis\", \"Clostridium subterminale\", \"Maribacter sp. HTCC2170\", \n . \"Pantoea sp. At-9b\", \"Sulfurospirillum deleyianum\", \"Zymomonas mobilis\", \n . \"Aquifex pyrophilus\", \"Thermanaerovibrio acidaminovorans\", \"Corynebacterium amycolatum\", \n . \"Aromatoleum aromaticum\", \"Nitrobacter sp.\", \"Prevotella disiens\", \n . \"Yersinia enterocolitica\", \"Maricaulis maris\", \"Thermomicrobium roseum\", \n . \"Microcystis aeruginosa\", \"Geobacillus thermoglucosidasius\", \n . \"Arthrobacter phenanthrenivorans\", \"Bacteroides sp. 3_1_19\", \n . \"Lactobacillus coleohominis\", \"Elusimicrobium minutum\", \"Thermosipho africanus\", \n . \"Clostridiales bacterium CoAT_21-4c\", \"Treponema primitia\", \"Burkholderia xenovorans\", \n . \"Bacillus weihenstephanensis\", \"Cloning vector pAM120\", \"Corynebacterium kroppenstedtii\", \n . \"Chlorobium phaeobacteroides\", \"Arabidopsis thaliana\", \"Selenomonas artemidis\", \n . \"Aureococcus anophagefferens\", \"Eggerthella sp. 1_3_56FAA\", \"Bacillus pumilus\", \n . \"Bifidobacterium breve\", \"Campylobacter showae\", \"Haemophilus influenzae\", \n . \"Porphyromonas cangingivalis\", \"Synechococcus sp. PCC 7002\", \n . \"Propionibacterium freudenreichii\", \"Fusobacterium periodonticum\", \n . \"Achromobacter piechaudii\", \"Clostridium nexile\", \"Magnaporthe oryzae\", \n . \"Acidothermus cellulolyticus\", \"Transposon Tn1525\", \"Vibrio orientalis\", \n . \"Sanguibacter keddieii\", \"Brucella sp. 83/13\", \"Bermanella marisrubri\", \n . \"Aureoumbra lagunensis\", \"Campylobacter gracilis\", \"Leptothrix cholodnii\", \n . \"Staphylococcus capitis\", \"Roseiflexus castenholzii\", \"Anguillid herpesvirus 1\", \n . \"Geobacillus thermodenitrificans\", \"Thermoanaerobacterium thermosaccharolyticum\", \n . \"Glomerella graminicola\", \"Desulfarculus baarsii\", \"Ruminococcus lactaris\", \n . \"Acinetobacter haemolyticus\", \"Eubacterium saburreum\", \"Tremella fuciformis\", \n . \"Rubrobacter xylanophilus\", \"Flavobacteria bacterium MS024-2A\", \n . \"Pantoea vagans\", \"Parabacteroides merdae\", \"Porphyra purpurea\", \n . \"Roseobacter litoralis\", \"Streptomyces pristinaespiralis\", \"Staphylococcus carnosus\", \n . \"Bacillus sp. BT1B_CT2\", \"Paenibacillus antarcticus\", \"Desulfobulbus propionicus\", \n . \"Strawberry lethal yellows phytoplasma\", \"Gluconobacter oxydans\", \n . \"Bacteroides sp. 3_2_5\", \"Bacteroides coprocola\", \"Leptospira borgpetersenii\", \n . \"Stenotrophomonas sp.\", \"Candidatus Chloracidobacterium thermophilum\", \n . \"Actinomyces viscosus\", \"Enhydrobacter aerosaccus\", \"Corynebacterium sp.\", \n . \"Persephonella marina\", \"Candidatus Accumulibacter phosphatis\", \n . \"Sphingobium chlorophenolicum\", \"Thermococcus gammatolerans\", \n . \"Corynebacterium sp. ATCC 31090\", \"Mesorhizobium loti\", \"Brucella neotomae\", \n . \"Clostridium symbiosum\", \"Bacteroides sp. 2_1_7\", \"Cronobacter turicensis\", \n . \"Physcomitrella patens\", \"Albidiferax ferrireducens\", \"Aminomonas paucivorans\", \n . \"Nitrosococcus halophilus\", \"Paenibacillus sp.\", \"Wolbachia endosymbiont of Muscidifurax uniraptor\", \n . \"Actinomyces sp. oral taxon 171\", \"Corynebacterium ammoniagenes\", \n . \"Psychromonas ingrahamii\", \"Burkholderiales bacterium 1_1_47\", \n . \"Camponotus floridanus\", \"Streptomyces albus\", \"Bartonella tribocorum\", \n . \"Francisella philomiragia\", \"Bacillus sp. KSM-64\", \"Clostridium sp. enrichment culture clone 7-14\", \n . \"Aggregatibacter aphrophilus\", \"Bacteroides sp. 9_1_42FAA\", \"Xenorhabdus nematophila\", \n . \"Enterococcus gallinarum\", \"Chlorobium phaeovibrioides\", \"Photobacterium profundum\", \n . \"Micromonospora sp. L5\", \"Mycobacterium marinum\", \"Laribacter hongkongensis\", \n . \"Flavobacterium johnsoniae\", \"Porphyra yezoensis\", \"Emericella nidulans\", \n . \"Opitutaceae bacterium TAV2\", \"Clostridium sp. HGF2\", \"Escherichia fergusonii\", \n . \"Ruminococcus sp. 18P13\", \"Cloning vector pFD288\", \"Selaginella moellendorffii\", \n . \"Lactobacillus hilgardii\", \"Halorhodospira halophila\", \"Pseudoalteromonas piscicida\", \n . \"Enterobacter sp.\", \"Ammonifex degensii\", \"Granulibacter bethesdensis\", \n . \"Cellulophaga algicola\", \"Nocardiopsis dassonvillei\", \"Eubacterium limosum\", \n . \"Syntrophus aciditrophicus\", \"Shigella sp. D9\", \"Intrasporangium calvum\", \n . \"Neisseria sp. CSL 7565\", \"Hydrogenivirga sp. 128-5-R1-1\", \"Paenibacillus curdlanolyticus\", \n . \"Lactococcus phage Tuc2009\", \"Psychroflexus torquis\", \"Streptomyces ghanaensis\", \n . \"Xylella fastidiosa\", \"Gallionella capsiferriformans\", \"Methylobacterium populi\", \n . \"Thiomicrospira crunogena\", \"Guillardia theta\", \"uncultured bacterium HF0130_06E03\", \n . \"Spiroplasma citri\", \"Azospirillum brasilense\", \"Geobacter uraniireducens\", \n . \"Jonquetella anthropi\", \"Mycoplasma hyorhinis\", \"Capnocytophaga gingivalis\", \n . \"Lactobacillus phage KC5a\", \"Dorea formicigenerans\", \"Yersinia aldovae\", \n . \"Beutenbergia cavernae\", \"Yersinia ruckeri\", \"Stenotrophomonas maltophilia\", \n . \"Nitratifractor salsuginis\", \"Vibrio caribbenthicus\", \"Subdoligranulum variabile\", \n . \"Thermosinus carboxydivorans\", \"Prevotella buccalis\", \"Collinsella aerofaciens\", \n . \"Pantoea sp.\", \"Thermoanaerobacter ethanolicus\", \"Clavibacter michiganensis\", \n . \"Corynebacterium aurimucosum\", \"Desulfovibrio piger\", \"Phormidium laminosum\", \n . \"Geobacter bemidjiensis\", \"Desulfonatronospira thiodismutans\", \n . \"Streptococcus equinus\", \"Dialister micraerophilus\", \"Staphylococcus phage CNPH82\", \n . \"Staphylococcus haemolyticus\", \"Bacillus sp. TA2.A1\", \"Fusobacterium sp. 3_1_5R\", \n . \"Saccharomonospora viridis\", \"Maritimibacter alkaliphilus\", \"Clostridium hathewayi\", \n . \"Spirochaeta smaragdinae\", \"Streptococcus sp.\", \"Streptococcus salivarius\", \n . \"Bacillus sp. B14905\", \"Magnetospirillum magnetotacticum\", \"Burkholderia cepacia\", \n . \"Acholeplasma axanthum\", \"Oceanobacillus iheyensis\", \"Methanocaldococcus fervens\", \n . \"Streptococcus agalactiae\", \"Pneumocystis jirovecii\", \"Acidaminococcus fermentans\", \n . \"Enterobacter pulveris\", \"Haliangium ochraceum\", \"Helicobacter pullorum\", \n . \"Streptomyces sp. C\", \"Thermoanaerobacter sp. X513\", \"Brucella melitensis\", \n . \"Arthrobacter chlorophenolicus\", \"Roseobacter sp. AzwK-3b\", \"Lactobacillus acidophilus\", \n . \"Sulfitobacter sp. EE-36\", \"Prevotella sp. oral taxon 299\", \"unidentified eubacterium SCB49\", \n . \"Prochlorococcus marinus\", \"Streptomyces sp. ACTE\", \"Acinetobacter lwoffii\", \n . \"Thermodesulfovibrio yellowstonii\", \"Flavobacteria bacterium MS024-3C\", \n . \"Dermacoccus sp. Ellin185\", \"Polynucleobacter necessarius\", \"Shewanella loihica\", \n . \"Erwinia sp.\", \"delta proteobacterium MLMS-1\", \"Pantoea sp. aB\", \n . \"Clostridium scindens\", \"Nakamurella multipartita\", \"Acinetobacter phage Acj9\", \n . \"Arthrospira platensis\", \"Synechococcus sp. JA-3-3Ab\", \"Prevotella timonensis\", \n . \"Leptospira biflexa\", \"Flavobacteria bacterium BBFL7\", \"Thermincola potens\", \n . \"Bacteroides xylanisolvens\", \"Agrobacterium vitis\", \"Ochrobactrum intermedium\", \n . \"Staphylococcus pseudintermedius\", \"Aspergillus flavus\", \"Dickeya dadantii\", \n . \"Macaca mulatta\", \"Paenibacillus sp. oral taxon 786\", \"Peptostreptococcus stomatis\", \n . \"Entamoeba dispar\", \"Mycoplasma gallisepticum\", \"Reinekea blandensis\", \n . \"Xanthomonas fuscans\", \"Sideroxydans lithotrophicus\", \"Pseudoxanthomonas suwonensis\", \n . \"Ruminococcus albus\", \"Bacillus subtilis\", \"Haemophilus parasuis\", \n . \"Lactobacillus iners\", \"Candidatus Phytoplasma mali\", \"Lactobacillus brevis\", \n . \"Moritella sp. PE36\", \"Streptomyces sp. Tu6071\", \"Sphingomonas sp.\", \n . \"uncultured bacterium 34R1\", \"Leptospirillum rubarum\", \"Bacteroides helcogenes\", \n . \"Prevotella bivia\", \"Thermosipho melanesiensis\", \"Thermoanaerobacter thermohydrosulfuricus\", \n . \"Tannerella forsythia\", \"Dehalococcoides sp. VS\", \"Fucus vesiculosus\", \n . \"Listeria seeligeri\", \"Granulicatella adiacens\", \"Mycoplasma fermentans\", \n . \"Aeromonas hydrophila\", \"Arabidopsis lyrata\", \"Streptococcus downei\", \n . \"Pseudomonas sp. MT-1\", \"Amycolatopsis mediterranei\", \"Listeria grayi\", \n . \"marine gamma proteobacterium HTCC2143\", \"Clostridiales bacterium CoAT_21-4d\", \n . \"Moorella thermoacetica\", \"Grimontia hollisae\", \"Listeria monocytogenes\", \n . \"Blautia hansenii\", \"Brachyspira murdochii\", \"Pseudomonas aeruginosa\", \n . \"Neisseria polysaccharea\", \"Acidovorax avenae\", \"Rhodococcus opacus\", \n . \"Alistipes sp. HGB5\", \"Bacillus caldolyticus\", \"Verrucomicrobium spinosum\", \n . \"Geobacter sp. M18\", \"Clostridium sp.\", \"Raphidiopsis brookii\", \n . \"Chitinophaga japonensis\", \"Nautilia profundicola\", \"Octadecabacter antarcticus\", \n . \"Caldicellulosiruptor saccharolyticus\", \"Enterocytozoon bieneusi\", \n . \"uncultured bacterium MID12\", \"Alistipes shahii\", \"Streptococcus anginosus\", \n . \"Staphylococcus epidermidis\", \"Pedobacter saltans\", \"Marinobacter algicola\", \n . \"Integration vector pJK202\", \"Erysipelothrix rhusiopathiae\", \n . \"Bifidobacterium pseudocatenulatum\", \"Capnocytophaga sputigena\", \n . \"Bifidobacterium sp.\", \"Synechococcus sp. WH 7805\", \"Deferribacter desulfuricans\", \n . \"Clostridium proteoclasticum\", \"Prevotella oris\", \"Meiothermus ruber\", \n . \"Porphyromonas asaccharolytica\", \"Deinococcus deserti\", \"Psychromonas sp. CNPT3\", \n . \"Streptococcus mutans\", \"Mycoplasma crocodyli\", \"Homo sapiens\", \n . \"Enterobacteria phage P22\", \"Lactobacillus buchneri\", \"Gracilaria tenuistipitata\", \n . \"Oribacterium sinus\", \"Bacillus pseudomycoides\", \"gamma proteobacterium HdN1\", \n . \"Clostridium butyricum\", \"Algoriphagus sp. PR1\", \"Bdellovibrio bacteriovorus\", \n . \"Methylophilales bacterium HTCC2181\", \"Escherichia albertii\", \n . \"Megamonas hypermegale\", \"Beggiatoa sp. SS\", \"Pseudomonas amygdali\", \n . \"Paludibacter propionicigenes\", \"Thermoanaerobacter sp. X561\", \n . \"25\", \"3\", \"4\", \"33\", \"2\", \"8\", \"1\", \"153\", \"77\", \"20\", \"55\", \n . \"5\", \"43\", \"1\", \"2\", \"30\", \"9\", \"28\", \"1\", \"168\", \"5\", \"2\", \"1\", \n . \"344\", \"79\", \"2\", \"17\", \"81\", \"6\", \"25\", \"5\", \"116\", \"2\", \"18\", \n . \"12\", \"10\", \"2\", \"76\", \"3\", \"43\", \"1110\", \"25\", \"5\", \"6\", \"42\", \n . \"276\", \"32\", \"1\", \"9\", \"4\", \"74\", \"74\", \"2\", \"86\", \"5\", \"4\", \n . \"39\", \"3\", \"15\", \"12\", \"4\", \"2\", \"31\", \"5\", \"20\", \"45\", \"179\", \n . \"2\", \"30\", \"4\", \"3228\", \"24\", \"9441\", \"5\", \"9\", \"2139\", \"11\", \n . \"6\", \"1\", \"8\", \"16\", \"56\", \"84\", \"23486\", \"24\", \"2\", \"1817\", \n . \"20\", \"6265\", \"2\", \"2\", \"15\", \"8\", \"3\", \"2\", \"93\", \"58\", \"5\", \n . \"138\", \"50\", \"1105\", \"2\", \"215\", \"61\", \"2\", \"4\", \"31\", \"1\", \"2\", \n . \"28\", \"32\", \"1377\", \"2\", \"34\", \"2\", \"5\", \"16\", \"15\", \"307\", \"81\", \n . \"1285\", \"28\", \"3\", \"9\", \"41\", \"17\", \"383\", \"38\", \"9\", \"22070\", \n . \"25\", \"202\", \"261\", \"15\", \"3\", \"9\", \"39\", \"2\", \"24\", \"33\", \"2\", \n . \"479\", \"4\", \"2\", \"21\", \"522\", \"216\", \"4\", \"794\", \"1\", \"4\", \"8\", \n . \"4\", \"8\", \"7\", \"2\", \"42\", \"46\", \"57\", \"6\", \"67\", \"524\", \"2\", \n . \"1\", \"1\", \"81\", \"4\", \"6\", \"1\", \"38\", \"164\", \"1\", \"52\", \"15\", \n . \"1\", \"2\", \"7\", \"2\", \"318\", \"195\", \"580\", \"7\", \"2\", \"3\", \"4\", \n . \"2\", \"23\", \"20\", \"19\", \"955\", \"1\", \"77\", \"1676\", \"2\", \"2\", \"42\", \n . \"8\", \"5\", \"16\", \"5\", \"77\", \"5\", \"10\", \"40\", \"975\", \"8\", \"10\", \n . \"194\", \"2\", \"2\", \"72\", \"1\", \"395\", \"3652\", \"10\", \"65\", \"4\", \"6170\", \n . \"31\", \"20\", \"28\", \"2\", \"25\", \"3169\", \"2\", \"2\", \"2\", \"10\", \"1\", \n . \"27\", \"12\", \"121\", \"25\", \"2\", \"39\", \"19\", \"15\", \"46\", \"2\", \"1\", \n . \"2\", \"1\", \"43\", \"11\", \"32\", \"2\", \"16\", \"19\", \"331\", \"3\", \"3\", \n . \"3\", \"3\", \"23\", \"379\", \"8\", \"2990\", \"10\", \"4\", \"18\", \"5\", \"8\", \n . \"31\", \"6\", \"2127\", \"1\", \"8\", \"8\", \"26\", \"79\", \"71\", \"92\", \"82\", \n . \"5\", \"6\", \"1\", \"8\", \"33\", \"115\", \"84\", \"285\", \"658\", \"20\", \"17\", \n . \"14\", \"113\", \"6\", \"183\", \"10\", \"82\", \"36\", \"51\", \"36\", \"42\", \n . \"25\", \"7157\", \"6\", \"415\", \"32\", \"4\", \"75\", \"4\", \"2\", \"1618\", \n . \"58\", \"42\", \"28\", \"15\", \"3\", \"2\", \"1\", \"2\", \"3\", \"16\", \"1310\", \n . \"8\", \"7\", \"3\", \"12\", \"10\", \"6\", \"78\", \"70\", \"6\", \"3\", \"30\", \"20\", \n . \"30\", \"1\", \"18\", \"8\", \"9\", \"1\", \"3075\", \"4\", \"1\", \"12\", \"72\", \n . \"36\", \"20\", \"2\", \"10\", \"353\", \"4\", \"75\", \"324\", \"10\", \"33043\", \n . \"5\", \"16\", \"24\", \"15\", \"4\", \"3\", \"10\", \"741\", \"130\", \"5\", \"10528\", \n . \"157\", \"6\", \"4\", \"15\", \"9\", \"185\", \"1000\", \"4\", \"2\", \"10\", \"130\", \n . \"28\", \"1\", \"1\", \"3\", \"45\", \"18\", \"229\", \"1\", \"27\", \"5\", \"1\", \n . \"5\", \"3\", \"21\", \"4\", \"21\", \"11975\", \"64\", \"11\", \"1\", \"2\", \"96\", \n . \"6\", \"337\", \"30\", \"1\", \"474\", \"75\", \"2\", \"59\", \"2\", \"492\", \"1\", \n . \"4\", \"13\", \"42\", \"2\", \"30\", \"26\", \"903\", \"9\", \"83\", \"2017\", \"2\", \n . \"12\", \"390\", \"16\", \"165\", \"3\", \"18\", \"4\", \"1\", \"1043\", \"8\", \"136\", \n . \"28\", \"62\", \"58\", \"183\", \"2\", \"94\", \"11\", \"8\", \"71\", \"26\", \"10\", \n . \"7\", \"5\", \"4\", \"1\", \"4\", \"13\", \"114\", \"18\", \"10\", \"2\", \"73\", \n . \"4\", \"36\", \"5\", \"3\", \"10\", \"3\", \"6\", \"7\", \"20\", \"4\", \"26\", \"87\", \n . \"680\", \"639\", \"582\", \"2\", \"30\", \"10\", \"2\", \"8\", \"89\", \"2\", \"4\", \n . \"2\", \"7\", \"247\", \"12\", \"2\", \"4\", \"21\", \"4\", \"27\", \"5\", \"18\", \n . \"1620\", \"119\", \"5\", \"20\", \"27\", \"18\", \"20\", \"20\", \"40\", \"503\", \n . \"301\", \"25\", \"36\", \"4\", \"80\", \"11\", \"10\", \"1\", \"4\", \"4\", \"1317\", \n . \"27\", \"37\", \"10\", \"1623\", \"100\", \"3\", \"93\", \"63\", \"87\", \"3\", \n . \"3\", \"25\", \"1\", \"3\", \"53\", \"168\", \"101\", \"29\", \"2\", \"3\", \"1\", \n . \"1\", \"2\", \"1\", \"6\", \"25\", \"4\", \"1\", \"260\", \"12\", \"2\", \"356\", \n . \"28\", \"25\", \"1\", \"15\", \"3014\", \"129\", \"1\", \"89\", \"4\", \"11\", \"10\", \n . \"3\", \"6\", \"14\", \"18\", \"2\", \"11\", \"9\", \"8\", \"2\", \"12\", \"7\", \"16\", \n . \"5\", \"2\", \"42\", \"23\", \"1108\", \"1\", \"83\", \"108\", \"4\", \"1\", \"2\", \n . \"38\", \"17\", \"1\", \"5\", \"123\", \"47\", \"40\", \"22\", \"2\", \"12\", \"42\", \n . \"994\", \"1\", \"128\", \"7\", \"44\", \"115\", \"2\", \"2\", \"4\", \"42\", \"2\", \n . \"61\", \"371\", \"1\", \"29\", \"3\", \"143\", \"3\", \"109\", \"1\", \"268\", \"2\", \n . \"2\", \"52\", \"2\", \"132\", \"8\", \"2\", \"24\", \"1505\", \"1\", \"2\", \"4\", \n . \"35\", \"145\", \"3\", \"23\", \"1\", \"2\", \"96\", \"14\", \"41\", \"4\", \"1172\", \n . \"14\", \"11\", \"4\", \"10\", \"60\", \"6\", \"4\", \"60\", \"155\", \"97\", \"12\", \n . \"1\", \"6\", \"12\", \"1\", \"26\", \"36\", \"6\", \"16\", \"20\", \"37\", \"12\", \n . \"3\", \"15\", \"8\", \"29\", \"94\", \"65\", \"71\", \"29\", \"240\", \"45\", \"870\", \n . \"3\", \"5\", \"150\", \"48\", \"9\", \"7\", \"36\", \"7\", \"16\", \"1\", \"21\", \n . \"4\", \"6\", \"202\", \"2\", \"470\", \"71\", \"1\", \"25\", \"8\", \"32\", \"32\", \n . \"107\", \"118\", \"12\", \"14\", \"8\", \"10\", \"18\", \"7\", \"117\", \"3\", \"5\", \n . \"1\", \"1\", \"2\", \"4\", \"27\", \"41\", \"24\", \"1\", \"118\", \"6\", \"16\", \n . \"36\", \"6\", \"3\", \"8\", \"11\", \"4\", \"4\", \"6\", \"1259\", \"47\", \"4\", \n . \"8\", \"2\", \"24\", \"13\", \"31\", \"102\", \"4\", \"1\", \"7\", \"1301\", \"841\", \n . \"1\", \"63\", \"1\", \"4\", \"171\", \"66\", \"4\", \"1\", \"16\", \"36\", \"5\", \n . \"15\", \"323\", \"10\", \"6\", \"15\", \"1\", \"432\", \"2\", \"8\", \"6\", \"1\", \n . \"16\", \"12\", \"232\", \"12\", \"4\", \"1309\", \"23\", \"2\", \"751\", \"1\", \n . \"2\", \"3\", \"1633\", \"39\", \"30\", \"20\", \"159\", \"8\", \"12\", \"54\", \"219\", \n . \"3\", \"4\", \"26\", \"2\", \"12\", \"3\", \"16\", \"6\", \"42\", \"11\", \"5\", \"110\", \n . \"4\", \"4\", \"42\", \"20\", \"18\", \"2\", \"5\", \"12\", \"8\", \"11\", \"3\", \"2\", \n . \"8\", \"1\", \"209\", \"25\", \"1\", \"23\", \"14\", \"6\", \"99\", \"258\", \"21\", \n . \"5\", \"1337\", \"2\", \"726\", \"992\", \"3\", \"15\", \"1\", \"69\", \"9\", \"29\", \n . \"1\", \"105\", \"20\", \"1\", \"612\", \"8\", \"845\", \"116\", \"12\", \"3\", \"14\", \n . \"1\", \"3228\", \"15\", \"163\", \"445\", \"972\", \"10\", \"1116\", \"8\", \"34\", \n . \"5\", \"6\", \"3\", \"3\", \"18\", \"3872\", \"8\", \"157\", \"20\", \"5\", \"4\", \n . \"635\", \"3\", \"10\", \"129\", \"1\", \"1\", \"1371\", \"32\", \"8\", \"4\", \"15\", \n . \"376\", \"20\", \"13962\", \"19\", \"2\", \"4\", \"9\", \"26\", \"70\", \"21\", \n . \"20\", \"2\", \"3\", \"4\", \"6\", \"30\", \"13\", \"10\", \"6\", \"27\", \"388\", \n . \"25\", \"288\", \"3415\", \"2\", \"9\", \"14\", \"10\", \"21\", \"537\", \"1\", \n . \"65\", \"91\", \"4\", \"44\", \"6\", \"6\", \"109\", \"66\", \"349\", \"320\", \"1\", \n . \"8\", \"35\", \"2\", \"17\", \"249\", \"5\", \"129\", \"84\", \"8\", \"21\", \"21\", \n . \"37\", \"145\", \"22\", \"50\", \"1486\", \"214\", \"1\", \"4\", \"6\", \"5\", \"24\", \n . \"21\", \"16\", \"27\", \"1\", \"12\", \"1215\", \"6\", \"35\", \"464\", \"20\", \n . \"1\", \"1\", \"29\", \"24\", \"5\", \"417\", \"2736\", \"8\", \"2\", \"2\", \"11998\", \n . \"201\", \"50\", \"21\", \"3\", \"54\", \"13\", \"281\", \"81\", \"12\", \"95\", \n . \"1\", \"425\", \"115\", \"33\", \"12\", \"4\", \"169\", \"22\", \"19\", \"908\", \n . \"558\", \"588\", \"800\", \"16\", \"2\", \"1\", \"25\", \"1\", \"22153\", \"94\", \n . \"36\", \"296\", \"4\", \"12\", \"5\", \"10\", \"7\", \"3\", \"182\", \"4\", \"3\", \n . \"18\", \"9\", \"4\", \"4\", \"10\", \"48\", \"2\", \"5\", \"8\", \"4\", \"1879\", \n . \"6\", \"22\", \"1716\", \"18\", \"2\", \"2\", \"8\", \"9\", \"43\", \"55\", \"3\", \n . \"1\", \"2\", \"2817\", \"79\", \"8\", \"202\", \"107\", \"5\", \"7\", \"27\", \"23\", \n . \"7\", \"9\", \"1\", \"14443\", \"4\", \"95\", \"28\", \"32\", \"12\", \"15\", \"6\", \n . \"92\", \"4\", \"164\", \"34\", \"23\", \"252\", \"4\", \"1\", \"34\", \"3961\", \n . \"72\", \"4\", \"30\", \"134\", \"43\", \"16\", \"478\", \"33\", \"340\", \"20\", \n . \"4\", \"2\", \"13\", \"142\", \"10\", \"30\", \"1\", \"19\", \"2\", \"2\", \"5\", \n . \"66\", \"2\", \"726\", \"260\", \"4\", \"48\", \"20\", \"12\", \"20\", \"1125\", \n . \"12\", \"101\", \"43\", \"17\", \"1\", \"6\", \"15\", \"4520\", \"3\", \"3\", \"3\", \n . \"24\", \"70\", \"170\", \"2\", \"10\", \"60\", \"15\", \"1041\", \"3\", \"8\", \"2\", \n . \"3\", \"24\", \"4\", \"1\", \"1\", \"244\", \"6\", \"200\", \"71\", \"4\", \"78\", \n . \"18\", \"5\", \"3\", \"2\", \"636\", \"16\", \"11\", \"1\", \"2\", \"171\", \"32\", \n . \"3\", \"40\", \"60\", \"2\", \"61\", \"1\", \"29\", \"28\", \"77\", \"6717\", \"40\", \n . \"14\", \"86\", \"16\", \"33\", \"61\", \"2\", \"40\", \"33\", \"62\", \"65\", \"84\", \n . \"10\", \"10\", \"5\", \"9\", \"29\", \"51\", \"29\", \"81\", \"19\", \"24\", \"1\", \n . \"144\", \"37\", \"6\", \"6\", \"4\", \"712\", \"45\", \"16\", \"4\", \"3\", \"11\", \n . \"2\", \"577\", \"3\", \"12\", \"789\", \"3\", \"538\", \"15\", \"25\", \"2\", \"225\", \n . \"411\", \"1\", \"20\", \"12\", \"4545\", \"49\", \"1\", \"103\", \"7\", \"134\", \n . \"12\", \"9\", \"3\", \"35\", \"13\", \"25\", \"8\", \"1\", \"8\", \"30\", \"10\", \n . \"32\", \"4\", \"199\", \"1\", \"20\", \"40\", \"25\", \"2\", \"39833\", \"21\", \n . \"23\", \"9\", \"3\", \"3\", \"61\", \"476\", \"1909\", \"28\", \"284\", \"44\", \n . \"13991\", \"18\", \"5\", \"7\", \"2\", \"260\", \"402\", \"12\", \"817\", \"21\", \n . \"2\", \"65\", \"1\", \"25\", \"1\", \"6\", \"4\", \"159\", \"6\", \"28\", \"24\", \n . \"156\", \"18\", \"1\", \"2\", \"2\", \"12\", \"4\", \"1\", \"662\", \"5\", \"19\", \n . \"1420\", \"8\", \"11\", \"5\", \"4877\", \"12\", \"36\", \"20\", \"20\", \"4\", \n . \"8\", \"40\", \"16\", \"8\", \"26\", \"1280\", \"30\", \"1253\", \"1\", \"725\", \n . \"3\", \"16\", \"40\", \"22\", \"1\", \"4\", \"23\", \"234\", \"1\", \"47\", \"1\", \n . \"13\", \"11\", \"9\", \"124\", \"32\", \"2784\", \"2\", \"128\", \"212\", \"65\", \n . \"9\", \"39\", \"1\", \"1\", \"4\", \"4152\", \"1\", \"10\", \"2\", \"51\", \"165\", \n . \"6\", \"376\", \"9\", \"36\", \"13\", \"2\", \"21\", \"3\", \"4\", \"275\", \"4\", \n . \"3\", \"1\", \"1\", \"60\", \"5\", \"15\", \"28\", \"164\", \"47\", \"1718\", \"27\", \n . \"4\", \"18\", \"1\", \"1\", \"1\", \"52\", \"6\", \"37\", \"49\", \"3\", \"6\", \"2\", \n . \"177\", \"102\", \"7\", \"40\", \"4\", \"1\", \"1927\", \"29\", \"6\", \"258\", \n . \"28\", \"1751\", \"1\", \"2325\", \"4\", \"20\", \"45\", \"4\", \"64\", \"45\", \n . \"37\", \"19\", \"2\", \"59\", \"14\", \"4\", \"1\", \"270\", \"1\", \"8\", \"56\", \n . \"42\", \"74\", \"1\", \"681\", \"22\", \"48\", \"23\", \"2\", \"14\", \"59\", \"84\", \n . \"2\", \"35\", \"48\", \"4\", \"20\", \"3\", \"45\", \"62\", \"440\", \"15\", \"47\", \n . \"1\", \"32\", \"15\", \"57\", \"43\", \"1230\", \"12\", \"1\", \"2\", \"15\", \"42\", \n . \"5\", \"19\", \"3\", \"16\", \"34\", \"15\", \"8\", \"4\", \"7\", \"338\", \"2\", \n . \"41\", \"989\", \"10\", \"132\", \"2\", \"4\", \"3\", \"15\", \"15564\", \"1\", \n . \"5\", \"8\", \"59\", \"2\", \"1\", \"38\", \"2\", \"1\", \"584\", \"16950\", \"2\", \n . \"1\", \"4\", \"2\", \"10\", \"1\", \"42\", \"30\", \"11\", \"5\", \"1\", \"1\", \"6\", \n . \"316\", \"368\", \"8\", \"12\", \"4\", \"15\", \"29\", \"103\", \"3\", \"2\", \"10\", \n . \"14\", \"420\", \"2\", \"6\", \"5\", \"6\", \"2\", \"2\", \"41\", \"1476\", \"13\", \n . \"80\", \"1\", \"41\", \"10\", \"13\", \"31\", \"70\", \"5\", \"6\", \"12\", \"162\", \n . \"29\", \"103\", \"1\", \"6\", \"25\", \"2\", \"1\", \"7\", \"103\", \"8\", \"48\", \n . \"26\", \"1110\", \"6\", \"2\", \"6\", \"2\", \"44\", \"64\", \"4\", \"16\", \"9\", \n . \"5\", \"30\", \"6\", \"1\", \"4\", \"2\", \"9\", \"1\", \"3\", \"64\", \"11\", \"49\", \n . \"4\", \"1230\", \"15\", \"16\", \"5\", \"48\", \"16\", \"6\", \"2948\", \"679\", \n . \"511\", \"3157\", \"10\", \"15\", \"11\", \"38\", \"49\", \"1\", \"54\", \"25\", \n . \"55\", \"1296\", \"4\", \"7\", \"2\", \"41\", \"19\", \"6\", \"585\", \"162\", \"9\", \n . \"62\", \"56\", \"33\", \"2\", \"4\", \"1\", \"5\", \"118\", \"3\", \"7150\", \"1\", \n . \"54\", \"21\", \"12\", \"65\", \"31\", \"18\", \"4\", \"9\", \"1\", \"104\", \"3\", \n . \"39\", \"8\", \"6\", \"67\", \"3\", \"3\", \"1\", \"1\", \"2\", \"27\", \"3\", \"781\", \n . \"14\", \"3\", \"10\", \"3\", \"352\", \"6\", \"18\", \"495\", \"1164\", \"7\", \"15\", \n . \"61\", \"5\", \"35\", \"4\", \"96\", \"72\", \"4\", \"15\", \"16\", \"5\", \"47\", \n . \"10\", \"2839\", \"294\", \"79\", \"182\", \"3\", \"59\", \"4\", \"2\", \"1\", \"12\", \n . \"6\", \"1432\", \"340\", \"1\", \"2\", \"2\", \"4\", \"1\", \"42\", \"54\", \"41\", \n . \"10\", \"3\", \"21\", \"1\", \"15\", \"58\", \"24\", \"2\", \"5\", \"5\", \"174\", \n . \"753\", \"132\", \"13\", \"14\", \"10\", \"9\", \"318\", \"1\", \"12\", \"45\", \n . \"1199\", \"25\", \"1\", \"12\", \"10\", \"9\", \"24\", \"2\", \"474\", \"16\", \"27\", \n . \"33\", \"20\", \"1\", \"139\", \"1006\", \"55\", \"2\", \"5\", \"70\", \"1011\", \n . \"609\", \"35\", \"60\", \"18\", \"17\", \"27\", \"1\", \"3\", \"5\", \"20\", \"6\", \n . \"234\", \"32\", \"18\", \"649\", \"35\", \"8\", \"3\", \"16\", \"136\", \"4\", \"2\", \n . \"572\", \"50\"), .Dim = c(1673L, 2L)), class = structure(c(\"unclassified (derived from unclassified sequences)\", \n . \"unclassified (derived from Microsporidia)\", \"Bryopsida\", \"Flavobacteria\", \n . \"Dinophyceae\", \"Agaricomycetes\", \"Acidobacteria (class)\", \"Thermoplasmata\", \n . \"Sordariomycetes\", \"Bacteroidia\", \"Thermococci\", \"unclassified (derived from Euryarchaeota)\", \n . \"Gemmatimonadetes (class)\", \"Leotiomycetes\", \"unclassified (derived from Phaeophyceae)\", \n . \"Epsilonproteobacteria\", \"Bacillariophyceae\", \"Clostridia\", \"Eurotiomycetes\", \n . \"Solibacteres\", \"Gammaproteobacteria\", \"Anthozoa\", \"Oligohymenophorea\", \n . \"Methanococci\", \"Enteropneusta\", \"unclassified (derived from Acidobacteria)\", \n . \"Chlamydiae (class)\", \"Saccharomycetes\", \"Sphingobacteria\", \"unclassified (derived from Viruses)\", \n . \"Aves\", \"Chrysiogenetes (class)\", \"unclassified (derived from Thaumarchaeota)\", \n . \"Betaproteobacteria\", \"Deferribacteres (class)\", \"unclassified (derived from Bacteroidetes)\", \n . \"Methanomicrobia\", \"Cytophagia\", \"Fibrobacteres (class)\", \"unclassified (derived from Candidatus Poribacteria)\", \n . \"Deinococci\", \"Cryptophyta\", \"Amphibia\", \"Verrucomicrobiae\", \n . \"Prasinophyceae\", \"unclassified (derived from Proteobacteria)\", \n . \"Bangiophyceae\", \"unclassified (derived from other sequences)\", \n . \"Spartobacteria\", \"Mammalia\", \"Insecta\", \"Aconoidasida\", \"unclassified (derived from Streptophyta)\", \n . \"Heterolobosea\", \"Chlorobia\", \"Liliopsida\", \"Actinopterygii\", \n . \"Chlorophyceae\", \"Thermotogae (class)\", \"Isoetopsida\", \"Anaerolineae\", \n . \"unclassified (derived from Cyanobacteria)\", \"Synergistia\", \"Methanobacteria\", \n . \"Pneumocystidomycetes\", \"Thermoprotei\", \"Chromadorea\", \"Aquificae (class)\", \n . \"Florideophyceae\", \"Spirochaetes (class)\", \"unclassified (derived from Lentisphaerae)\", \n . \"Pezizomycetes\", \"unclassified (derived from Elusimicrobia)\", \n . \"unclassified (derived from Synergistetes)\", \"Bacilli\", \"Hydrozoa\", \n . \"Dehalococcoidetes\", \"Trebouxiophyceae\", \"Dothideomycetes\", \"Mollicutes\", \n . \"Zygnemophyceae\", \"Ktedonobacteria\", \"Gloeobacteria\", \"Negativicutes\", \n . \"Zetaproteobacteria\", \"Dictyoglomia\", \"Opitutae\", \"unclassified (derived from Archaea)\", \n . \"Actinobacteria (class)\", \"Pelagophyceae\", \"Thermomicrobia (class)\", \n . \"Erysipelotrichi\", \"Deltaproteobacteria\", \"Elusimicrobia (class)\", \n . \"Chloroflexi (class)\", \"Tremellomycetes\", \"unclassified (derived from Eukaryota)\", \n . \"unclassified (derived from Verrucomicrobia)\", \"Archaeoglobi\", \n . \"unclassified (derived from Bacteria)\", \"Nitrospira (class)\", \n . \"Halobacteria\", \"Planctomycetacia\", \"Fusobacteria (class)\", \"Glaucocystophyceae\", \n . \"Appendicularia\", \"Alphaproteobacteria\", \"195\", \"24\", \"12\", \"1499\", \n . \"5\", \"4\", \"67\", \"5\", \"23\", \"174240\", \"45\", \"32\", \"25\", \"5\", \"2\", \n . \"527\", \"8\", \"128683\", \"21\", \"5\", \"5023\", \"20\", \"13\", \"52\", \"1\", \n . \"6\", \"17\", \"25\", \"1090\", \"76\", \"12\", \"35\", \"5\", \"2552\", \"268\", \n . \"125\", \"169\", \"1084\", \"817\", \"12\", \"194\", \"10\", \"4\", \"213\", \"19\", \n . \"2\", \"15\", \"79\", \"20\", \"9\", \"20\", \"1\", \"40\", \"8\", \"314\", \"37\", \n . \"4\", \"21\", \"223\", \"6\", \"15\", \"797\", \"648\", \"38\", \"3\", \"17\", \"14\", \n . \"214\", \"6\", \"769\", \"114\", \"3\", \"2\", \"25\", \"39382\", \"10\", \"51\", \n . \"2\", \"5\", \"460\", \"1\", \"40\", \"5\", \"79098\", \"27\", \"64\", \"122\", \n . \"4\", \"79013\", \"6\", \"140\", \"6339\", \"1502\", \"48\", \"165\", \"2\", \"147\", \n . \"7\", \"1\", \"161\", \"102\", \"41\", \"180\", \"1901\", \"1\", \"1\", \"1420\"\n . ), .Dim = c(107L, 2L)), phylum = structure(c(\"unclassified (derived from unclassified sequences)\", \n . \"Verrucomicrobia\", \"Bacteroidetes\", \"Aquificae\", \"Ascomycota\", \n . \"Actinobacteria\", \"Chlorobi\", \"Deferribacteres\", \"unclassified (derived from Viruses)\", \n . \"Bacillariophyta\", \"Streptophyta\", \"Chrysiogenetes\", \"Tenericutes\", \n . \"Lentisphaerae\", \"unclassified (derived from Archaea)\", \"Apicomplexa\", \n . \"Dictyoglomi\", \"Elusimicrobia\", \"Phaeophyceae\", \"Hemichordata\", \n . \"Nitrospirae\", \"Deinococcus-Thermus\", \"Crenarchaeota\", \"Proteobacteria\", \n . \"Acidobacteria\", \"Spirochaetes\", \"Candidatus Poribacteria\", \"Firmicutes\", \n . \"Thaumarchaeota\", \"Chloroflexi\", \"Planctomycetes\", \"Chordata\", \n . \"unclassified (derived from Eukaryota)\", \"Basidiomycota\", \"Fusobacteria\", \n . \"Synergistetes\", \"unclassified (derived from Bacteria)\", \"Arthropoda\", \n . \"Microsporidia\", \"Nematoda\", \"Gemmatimonadetes\", \"Chlamydiae\", \n . \"Cyanobacteria\", \"unclassified (derived from other sequences)\", \n . \"Thermotogae\", \"Chlorophyta\", \"Cnidaria\", \"Fibrobacteres\", \"Euryarchaeota\", \n . \"195\", \"362\", \"178038\", \"214\", \"85\", \"79013\", \"314\", \"268\", \"76\", \n . \"8\", \"96\", \"35\", \"460\", \"114\", \"4\", \"1\", \"64\", \"50\", \"2\", \"1\", \n . \"102\", \"194\", \"17\", \"11053\", \"78\", \"769\", \"12\", \"253502\", \"5\", \n . \"411\", \"180\", \"30\", \"211\", \"6\", \"1901\", \"673\", \"161\", \"20\", \"24\", \n . \"14\", \"25\", \"17\", \"802\", \"79\", \"223\", \"42\", \"30\", \"817\", \"383\"\n . ), .Dim = c(49L, 2L)), genus = structure(c(\"unclassified (derived from unclassified sequences)\", \n . \"Methylobacillus\", \"Methanosphaera\", \"Desulfarculus\", \"Polaromonas\", \n . \"Caldanaerobacter\", \"Alkalilimnicola\", \"Teredinibacter\", \"Methanothermococcus\", \n . \"Hydra\", \"Capnocytophaga\", \"Arcanobacterium\", \"Caulobacter\", \n . \"Eubacterium\", \"Anaerofustis\", \"unclassified (derived from Burkholderiales)\", \n . \"Halogeometricum\", \"Succinatimonas\", \"Symbiodinium\", \"unclassified (derived from Siphoviridae)\", \n . \"Ureaplasma\", \"Blastopirellula\", \"Cryptobacterium\", \"Coraliomargarita\", \n . \"Candida\", \"Selenomonas\", \"Marinomonas\", \"Planococcus\", \"Desulfobulbus\", \n . \"Tetrahymena\", \"Croceibacter\", \"Afipia\", \"Thermobispora\", \"Eggerthella\", \n . \"Gloeobacter\", \"Candidatus Puniceispirillum\", \"Slackia\", \"Rothia\", \n . \"Bdellovibrio\", \"Thiomonas\", \"Ruegeria\", \"Planctomyces\", \"Actinobacillus\", \n . \"Kryptoperidinium\", \"Akkermansia\", \"Pseudoxanthomonas\", \"Cyperus\", \n . \"Eikenella\", \"Nitrococcus\", \"Bordetella\", \"Haliangium\", \"Flavobacterium\", \n . \"Desulfomicrobium\", \"Klebsiella\", \"Chromohalobacter\", \"Chlorella\", \n . \"Cenarchaeum\", \"unclassified (derived from Actinobacteria (class))\", \n . \"Pedobacter\", \"Chlorobium\", \"Barnesiella\", \"Syntrophomonas\", \n . \"Phaeosphaeria\", \"Thermodesulfovibrio\", \"unclassified (derived from Enterobacteriaceae)\", \n . \"Microscilla\", \"Granulibacter\", \"Sulfurospirillum\", \"Tribolium\", \n . \"Thermovibrio\", \"Turicibacter\", \"Dethiobacter\", \"Lysinibacillus\", \n . \"Escherichia\", \"Guillardia\", \"Solanum\", \"Wolbachia\", \"unclassified (derived from Betaproteobacteria)\", \n . \"Gallionella\", \"Thermincola\", \"Oscillochloris\", \"Sutterella\", \n . \"Mimivirus\", \"Lyngbya\", \"Lactococcus\", \"Halalkalicoccus\", \"Albidiferax\", \n . \"Salinispora\", \"Emericella\", \"Cellvibrio\", \"Methanocella\", \"Megasphaera\", \n . \"Bulleidia\", \"Oikopleura\", \"Cyprinus\", \"Danio\", \"Rahnella\", \"Ectocarpus\", \n . \"Peptococcus\", \"Aromatoleum\", \"Enterocytozoon\", \"Thermoplasma\", \n . \"Cyanophora\", \"Gordonia\", \"Gramella\", \"Sphingomonas\", \"Persephonella\", \n . \"Phytophthora\", \"Hoeflea\", \"Giardia\", \"Oryza\", \"Isosphaera\", \n . \"Brachybacterium\", \"Candidatus Liberibacter\", \"Anaerostipes\", \n . \"Leuconostoc\", \"Ferroplasma\", \"Azorhizobium\", \"Bacteroides\", \n . \"Nitrosococcus\", \"Acholeplasma\", \"Aspergillus\", \"Methylacidiphilum\", \n . \"unclassified (derived from Euryarchaeota)\", \"Desulfonatronospira\", \n . \"Coprothermobacter\", \"Streptococcus\", \"Dictyoglomus\", \"Syntrophothermus\", \n . \"Dehalogenimonas\", \"Yersinia\", \"Gracilaria\", \"Psychromonas\", \n . \"Coptotermes\", \"Pachycladon\", \"Cylindrospermopsis\", \"Pectinatus\", \n . \"Lactobacillus\", \"Peptoniphilus\", \"Arsenophonus\", \"Ktedonobacter\", \n . \"Starkeya\", \"Histophilus\", \"Rhizobium\", \"Cyanidium\", \"Yarrowia\", \n . \"Candidatus Accumulibacter\", \"Rhodococcus\", \"Homo\", \"Vulcanisaeta\", \n . \"Mucilaginibacter\", \"Coxiella\", \"Abiotrophia\", \"Filifactor\", \n . \"Thermosinus\", \"Myxococcus\", \"Ferrimonas\", \"Hahella\", \"unclassified (derived from Ruminococcaceae)\", \n . \"Spirosoma\", \"Conexibacter\", \"Zunongwangia\", \"Kingella\", \"Petrotoga\", \n . \"Photobacterium\", \"Sporosarcina\", \"Parvibaculum\", \"Cellulophaga\", \n . \"Chryseobacterium\", \"Nitrospira\", \"Vicia\", \"Thermanaerovibrio\", \n . \"Camponotus\", \"Nakamurella\", \"unclassified (derived from Alloherpesviridae)\", \n . \"Stenotrophomonas\", \"Thermaerobacter\", \"Acidobacterium\", \"Acidaminococcus\", \n . \"Spirochaeta\", \"Delftia\", \"Thermoanaerobacter\", \"Nematostella\", \n . \"Dialister\", \"Kribbella\", \"Natrialba\", \"Anaeromyxobacter\", \"Geodermatophilus\", \n . \"Moorella\", \"Paulinella\", \"Sideroxydans\", \"Actinomyces\", \"Micromonas\", \n . \"Desulfotalea\", \"unclassified (derived from Clostridiales)\", \n . \"Amycolatopsis\", \"Fervidobacterium\", \"Microcoleus\", \"Xylanimonas\", \n . \"Halanaerobium\", \"Thermosynechococcus\", \"Geobacter\", \"Alcanivorax\", \n . \"Sagittula\", \"Idiomarina\", \"Sulfuricurvum\", \"Leadbetterella\", \n . \"Solenopsis\", \"Methanobrevibacter\", \"Porphyra\", \"Neisseria\", \n . \"Methanocaldococcus\", \"Beutenbergia\", \"Gemella\", \"Plautia\", \"Exiguobacterium\", \n . \"Heliobacterium\", \"Tannerella\", \"Archaeoglobus\", \"Allochromatium\", \n . \"Pseudoalteromonas\", \"Ethanoligenens\", \"Jonesia\", \"Paludibacter\", \n . \"Alistipes\", \"Kordia\", \"Acetivibrio\", \"Candidatus Solibacter\", \n . \"Haplotaenium\", \"Candidatus Micrarchaeum\", \"Catenibacterium\", \n . \"Emiliania\", \"Deferribacter\", \"Micrococcus\", \"Halothiobacillus\", \n . \"Thermosediminibacter\", \"Acinetobacter\", \"Coprinopsis\", \"Marivirga\", \n . \"Calditerrivibrio\", \"Octadecabacter\", \"Riemerella\", \"Desulfatibacillum\", \n . \"Herbaspirillum\", \"Gemmata\", \"Sulfurovum\", \"Thiobacillus\", \"unclassified (derived from Rickettsiales)\", \n . \"Herpetosiphon\", \"Thauera\", \"Beggiatoa\", \"Phenylobacterium\", \n . \"Sphaerobacter\", \"Dermacoccus\", \"Pseudovibrio\", \"Mesoplasma\", \n . \"Simonsiella\", \"unclassified (derived from Bacteroidetes)\", \"Rhodomonas\", \n . \"Laribacter\", \"Renibacterium\", \"Mitsuokella\", \"Pelobacter\", \"Porphyromonas\", \n . \"Denitrovibrio\", \"Atopobium\", \"Lutiella\", \"Marinobacter\", \"unclassified (derived from Candidatus Poribacteria)\", \n . \"Gardnerella\", \"Roseobacter\", \"Fischerella\", \"Pneumocystis\", \n . \"Propionibacterium\", \"Agrobacterium\", \"Sorangium\", \"Chromobacterium\", \n . \"Erwinia\", \"Eremococcus\", \"Beijerinckia\", \"Coprobacillus\", \"unclassified (derived from Proteobacteria)\", \n . \"Candidatus Amoebophilus\", \"Deinococcus\", \"unclassified (derived from other sequences)\", \n . \"Arthrospira\", \"Halobacillus\", \"Olsenella\", \"Labrenzia\", \"Psychrobacter\", \n . \"Dickeya\", \"Ammonifex\", \"Chitinophaga\", \"Magnetococcus\", \"Peptostreptococcus\", \n . \"unclassified (derived from Flavobacteriaceae)\", \"Methanosphaerula\", \n . \"Sclerotinia\", \"Symbiobacterium\", \"Parascardovia\", \"Chlamydia\", \n . \"Xylella\", \"unclassified (derived from Thermotogales)\", \"unclassified (derived from Alicyclobacillaceae)\", \n . \"Kineococcus\", \"Leptothrix\", \"Dietzia\", \"Nitratifractor\", \"Intrasporangium\", \n . \"Campylobacter\", \"unclassified (derived from Clostridiales Family XI. Incertae Sedis)\", \n . \"Synechocystis\", \"Weeksella\", \"Lentisphaera\", \"Tritrichomonas\", \n . \"Rubrobacter\", \"Terriglobus\", \"Colwellia\", \"Aerococcus\", \"Bartonella\", \n . \"Sordaria\", \"Trypanosoma\", \"Roseburia\", \"Prevotella\", \"Geobacillus\", \n . \"Halomonas\", \"Plesiocystis\", \"Candidatus Chloracidobacterium\", \n . \"Treponema\", \"Methanothermus\", \"Proteus\", \"Truepera\", \"Hydrogenobaculum\", \n . \"Robiginitalea\", \"Aeromonas\", \"Alteromonas\", \"Aurantimonas\", \n . \"Methylobacter\", \"Microcystis\", \"Macrococcus\", \"Rhodothermus\", \n . \"Shewanella\", \"Dinoroseobacter\", \"Roseomonas\", \"Rhodobacter\", \n . \"Paramecium\", \"Malonomonas\", \"unclassified (derived from Lachnospiraceae)\", \n . \"Acaryochloris\", \"Hyphomonas\", \"Cyanidioschyzon\", \"Phormidium\", \n . \"Cytophaga\", \"unclassified (derived from Myoviridae)\", \"Anaerotruncus\", \n . \"Moraxella\", \"Spiroplasma\", \"Butyrivibrio\", \"Sulfurihydrogenibium\", \n . \"Trichomonas\", \"Thioalkalivibrio\", \"Faecalibacterium\", \"Zea\", \n . \"Phascolarctobacterium\", \"Glycine\", \"Polynucleobacter\", \"Acidothermus\", \n . \"Maritimibacter\", \"Dorea\", \"Actinosynnema\", \"unclassified (derived from Verrucomicrobia subdivision 3)\", \n . \"Methylobacterium\", \"Thermus\", \"Holdemania\", \"Tremella\", \"Xenopus\", \n . \"Solobacterium\", \"Candidatus Azobacteroides\", \"Methanosarcina\", \n . \"Caloramator\", \"Phieco32-like viruses\", \"Ruminococcus\", \"Arcobacter\", \n . \"Endoriftia\", \"Thalassobium\", \"Kocuria\", \"Paenibacillus\", \"Ketogulonicigenium\", \n . \"Pelagibaca\", \"Chloroflexus\", \"Methylocella\", \"unclassified (derived from Flavobacteriales)\", \n . \"Mesorhizobium\", \"Erythrobacter\", \"Francisella\", \"Xenorhabdus\", \n . \"Hydrogenobacter\", \"Nocardiopsis\", \"Acetohalobium\", \"Nodularia\", \n . \"Anaerococcus\", \"Magnetospirillum\", \"Dethiosulfovibrio\", \"Pelotomaculum\", \n . \"Candidatus Kuenenia\", \"Psychroflexus\", \"Gordonibacter\", \"Veillonella\", \n . \"Raphidiopsis\", \"Bigelowiella\", \"Mycobacterium\", \"Acetobacter\", \n . \"Victivallis\", \"Heliobacillus\", \"unclassified (derived from Rhodobacterales)\", \n . \"Mycoplasma\", \"Tolumonas\", \"Tetragenococcus\", \"Thermococcus\", \n . \"Saccharophagus\", \"Verminephrobacter\", \"Oenococcus\", \"Congregibacter\", \n . \"Magnaporthe\", \"Leeuwenhoekiella\", \"Pichia\", \"Pyramidobacter\", \n . \"Novosphingobium\", \"Chloroherpeton\", \"Aciduliprofundum\", \"Finegoldia\", \n . \"Taylorella\", \"Monosiga\", \"Staphylococcus\", \"Bifidobacterium\", \n . \"Apis\", \"Caenorhabditis\", \"Cupriavidus\", \"Gallus\", \"Pseudomonas\", \n . \"Streptobacillus\", \"Anaerolinea\", \"Azospirillum\", \"Leptospirillum\", \n . \"Cardiobacterium\", \"unclassified (derived from Verrucomicrobiales)\", \n . \"Streptosporangium\", \"Elusimicrobium\", \"Algoriphagus\", \"Helicobacter\", \n . \"Stigmatella\", \"Acetobacterium\", \"Limnobacter\", \"Opitutus\", \"Anaerobaculum\", \n . \"Serratia\", \"Nakaseomyces\", \"Desulfitobacterium\", \"Lautropia\", \n . \"Methylibium\", \"Bacteriovorax\", \"Crocosphaera\", \"Vibrio\", \"Oceanicaulis\", \n . \"unclassified (derived from Alteromonadales)\", \"Moritella\", \"Lawsonia\", \n . \"Desulfococcus\", \"Carnobacterium\", \"Candidatus Sulcia\", \"Nocardioides\", \n . \"Volvox\", \"Alkaliphilus\", \"Ricinus\", \"Plasmodium\", \"Bacillus\", \n . \"Curvibacter\", \"Spinacia\", \"Anaplasma\", \"Chlamydomonas\", \"Acidiphilium\", \n . \"Xanthomonas\", \"Saccharopolyspora\", \"Kitasatospora\", \"Cronobacter\", \n . \"Candidatus Desulforudis\", \"Pantoea\", \"Sphingopyxis\", \"Arthrobacter\", \n . \"Blattabacterium\", \"Jonquetella\", \"Syntrophobacter\", \"Azotobacter\", \n . \"Desulfurivibrio\", \"Bradyrhizobium\", \"Oceanicola\", \"unclassified (derived from Elusimicrobia)\", \n . \"Burkholderia\", \"Enhydrobacter\", \"Nitrobacter\", \"Anabaena\", \"Sulfurimonas\", \n . \"Collinsella\", \"Basfia\", \"Aggregatibacter\", \"Oceanithermus\", \n . \"Caminibacter\", \"Dictyostelium\", \"Brevundimonas\", \"Nautilia\", \n . \"Bermanella\", \"Rhodopseudomonas\", \"unclassified (derived from Archaea)\", \n . \"Sphingobacterium\", \"unclassified (derived from Pelagophyceae)\", \n . \"Methylocystis\", \"Cellulomonas\", \"Oceanobacillus\", \"Rhodospirillum\", \n . \"Aliivibrio\", \"Brevibacterium\", \"Kangiella\", \"Carboxydothermus\", \n . \"Acidithiobacillus\", \"Gibberella\", \"Corynebacterium\", \"Macaca\", \n . \"Sphingobium\", \"Segniliparus\", \"Mobiluncus\", \"Photorhabdus\", \n . \"Acidovorax\", \"Chlorobaculum\", \"Desulfovibrio\", \"Methanohalophilus\", \n . \"Hydrogenivirga\", \"Roseiflexus\", \"Ostreococcus\", \"Prochlorococcus\", \n . \"Clostridium\", \"Desulfurispirillum\", \"Shigella\", \"Sanguibacter\", \n . \"Sulfolobus\", \"Blautia\", \"unclassified (derived from Rhodobacteraceae)\", \n . \"Methanohalobium\", \"unclassified (derived from Clostridiaceae)\", \n . \"unclassified (derived from Deltaproteobacteria)\", \"Ilyobacter\", \n . \"Desulfohalobium\", \"Reinekea\", \"Janibacter\", \"Aminobacterium\", \n . \"Streptomyces\", \"Desulfotomaculum\", \"Phaeodactylum\", \"Haemophilus\", \n . \"Pirellula\", \"Megamonas\", \"Pelodictyon\", \"Catenulispora\", \"Nocardia\", \n . \"Zymomonas\", \"Pasteurella\", \"Ochrobactrum\", \"Nitrosomonas\", \"Claviceps\", \n . \"Gluconacetobacter\", \"Methanococcus\", \"Stackebrandtia\", \"Clavibacter\", \n . \"unclassified (derived from Methylophilales)\", \"Dyadobacter\", \n . \"Scardovia\", \"Mariprofundus\", \"Thiomicrospira\", \"Maricaulis\", \n . \"unclassified (derived from Alphaproteobacteria)\", \"Neptuniibacter\", \n . \"Micromonospora\", \"Catonella\", \"Taeniopygia\", \"Aquifex\", \"Prosthecochloris\", \n . \"Methylotenera\", \"Tsukamurella\", \"Comamonas\", \"Arabidopsis\", \n . \"Candidatus Hamiltonella\", \"Sus\", \"Oribacterium\", \"Roseovarius\", \n . \"unclassified (derived from Viruses)\", \"Oscillatoria\", \"Physcomitrella\", \n . \"Waddlia\", \"Fusobacterium\", \"Methylovorus\", \"Dehalococcoides\", \n . \"Listeria\", \"Leptotrichia\", \"Methanoplanus\", \"T4-like viruses\", \n . \"Variovorax\", \"Chaetomium\", \"Cyanobium\", \"unclassified (derived from Acidobacteria)\", \n . \"Dichelobacter\", \"Salmonella\", \"Enterobacter\", \"Chthoniobacter\", \n . \"Desulfuromonas\", \"Borrelia\", \"Haladaptatus\", \"Coprococcus\", \n . \"Rhodopirellula\", \"Asticcacaulis\", \"Alicyclobacillus\", \"Sinorhizobium\", \n . \"Edwardsiella\", \"Desulfobacterium\", \"Pseudoramibacter\", \"Parabacteroides\", \n . \"Candidatus Cloacamonas\", \"Legionella\", \"Aureococcus\", \"Enterococcus\", \n . \"Brachyspira\", \"Methanospirillum\", \"Hirschia\", \"Ralstonia\", \"Shuttleworthia\", \n . \"Aeromicrobium\", \"Weissella\", \"unclassified (derived from Gammaproteobacteria)\", \n . \"Bilophila\", \"Natranaerobius\", \"P22-like viruses\", \"Naegleria\", \n . \"Candidatus Phytoplasma\", \"Thermomicrobium\", \"Caldicellulosiruptor\", \n . \"Methanocorpusculum\", \"Populus\", \"Nostoc\", \"Pectobacterium\", \n . \"Tuber\", \"Entamoeba\", \"Halothermothrix\", \"unclassified (derived from Bacteria)\", \n . \"Cyanothece\", \"Frankia\", \"Selaginella\", \"Desulfurococcus\", \"Pediococcus\", \n . \"Dechloromonas\", \"Fibrobacter\", \"Kytococcus\", \"Synechococcus\", \n . \"unclassified (derived from Vibrionaceae)\", \"Thermosipho\", \"Thermobaculum\", \n . \"Parvularcula\", \"unclassified (derived from Synergistetes)\", \n . \"Syntrophus\", \"Candidatus Pelagibacter\", \"Providencia\", \"Sodalis\", \n . \"Roseibium\", \"unclassified (derived from Campylobacterales)\", \n . \"Gemmatimonas\", \"Anoxybacillus\", \"unclassified (derived from Flavobacteria)\", \n . \"Paracoccus\", \"Brevibacillus\", \"Achromobacter\", \"Acanthamoeba\", \n . \"Granulicatella\", \"Meiothermus\", \"Citrobacter\", \"Brucella\", \"unclassified (derived from Porphyromonadaceae)\", \n . \"Verrucomicrobium\", \"Subdoligranulum\", \"Rhodomicrobium\", \"Kosmotoga\", \n . \"Maribacter\", \"Cellulosilyticum\", \"Sulfitobacter\", \"Gluconobacter\", \n . \"Dokdonia\", \"Thermoanaerobacterium\", \"Sebaldella\", \"unclassified (derived from Opitutaceae)\", \n . \"Fucus\", \"Methylophaga\", \"unclassified (derived from Erysipelotrichaceae)\", \n . \"Mannheimia\", \"Leptospira\", \"Oxalobacter\", \"Haloferax\", \"Glomerella\", \n . \"Aminomonas\", \"Halorhodospira\", \"Drosophila\", \"Erysipelothrix\", \n . \"Polaribacter\", \"Citromicrobium\", \"Epulopiscium\", \"Thermotoga\", \n . \"Saccharomonospora\", \"Thermomonospora\", \"Saccoglossus\", \"195\", \n . \"2\", \"2\", \"41\", \"17\", \"46\", \"1\", \"6\", \"6\", \"10\", \"304\", \"10\", \n . \"29\", \"21549\", \"209\", \"420\", \"12\", \"26\", \"2\", \"38\", \"23\", \"27\", \n . \"234\", \"8\", \"14\", \"2930\", \"16\", \"3\", \"38\", \"4\", \"65\", \"9\", \"15\", \n . \"1039\", \"5\", \"12\", \"1511\", \"27\", \"8\", \"42\", \"6\", \"53\", \"133\", \n . \"3\", \"165\", \"10\", \"1\", \"14\", \"33\", \"78\", \"54\", \"73\", \"47\", \"95\", \n . \"1\", \"2\", \"5\", \"4\", \"451\", \"110\", \"3\", \"19\", \"5\", \"67\", \"1\", \n . \"94\", \"8\", \"37\", \"2\", \"32\", \"168\", \"96\", \"194\", \"898\", \"4\", \"2\", \n . \"4\", \"4\", \"30\", \"495\", \"9\", \"318\", \"4\", \"30\", \"79\", \"8\", \"4\", \n . \"1\", \"6\", \"43\", \"24\", \"13674\", \"123\", \"1\", \"1\", \"3\", \"5\", \"1\", \n . \"1\", \"4\", \"24\", \"2\", \"1\", \"34\", \"36\", \"6\", \"42\", \"4\", \"5\", \"4\", \n . \"33\", \"10\", \"43\", \"4\", \"505\", \"189\", \"3\", \"16\", \"119399\", \"39\", \n . \"175\", \"15\", \"7\", \"2\", \"25\", \"30\", \"2285\", \"64\", \"136\", \"32\", \n . \"74\", \"6\", \"31\", \"2\", \"2\", \"60\", \"3\", \"27743\", \"330\", \"2\", \"40\", \n . \"19\", \"29\", \"53\", \"3\", \"5\", \"30\", \"85\", \"3\", \"4\", \"66\", \"4\", \n . \"478\", \"86\", \"679\", \"12\", \"10\", \"2\", \"202\", \"371\", \"14\", \"260\", \n . \"26\", \"51\", \"47\", \"1\", \"1\", \"48\", \"79\", \"15\", \"1\", \"59\", \"2\", \n . \"14\", \"4\", \"53\", \"30\", \"27\", \"8053\", \"223\", \"13\", \"663\", \"20\", \n . \"15261\", \"16\", \"5\", \"22\", \"26\", \"5\", \"1\", \"47\", \"71\", \"11\", \"2\", \n . \"970\", \"15\", \"10\", \"67\", \"77\", \"60\", \"1\", \"276\", \"8\", \"4\", \"6\", \n . \"16\", \"155\", \"1\", \"32\", \"6\", \"182\", \"20\", \"16\", \"68\", \"1\", \"191\", \n . \"474\", \"2\", \"1\", \"42\", \"23\", \"1718\", \"65\", \"572\", \"7063\", \"30\", \n . \"202\", \"5\", \"1\", \"2\", \"580\", \"4\", \"70\", \"30\", \"18\", \"275\", \"335\", \n . \"4\", \"64\", \"48\", \"10\", \"57\", \"86\", \"42\", \"22\", \"1\", \"1\", \"12\", \n . \"61\", \"20\", \"24\", \"24\", \"84\", \"3\", \"8\", \"2\", \"21\", \"121\", \"6\", \n . \"31\", \"10\", \"33043\", \"11\", \"861\", \"150\", \"5761\", \"28\", \"41\", \n . \"12\", \"247\", \"23\", \"2\", \"3\", \"180\", \"36\", \"29\", \"2\", \"94\", \"12\", \n . \"18\", \"258\", \"1\", \"4\", \"53\", \"79\", \"51\", \"2\", \"3228\", \"6\", \"2\", \n . \"48\", \"103\", \"384\", \"1\", \"235\", \"76\", \"6\", \"5\", \"12\", \"134\", \n . \"6\", \"5\", \"12\", \"129\", \"2\", \"34\", \"1\", \"16\", \"6\", \"221\", \"92\", \n . \"8\", \"3\", \"30\", \"2\", \"4\", \"40\", \"2\", \"39\", \"17\", \"1\", \"2\", \"12890\", \n . \"21941\", \"413\", \"16\", \"35\", \"4\", \"170\", \"4\", \"138\", \"34\", \"10\", \n . \"95\", \"21\", \"9\", \"8\", \"19\", \"42\", \"30\", \"55\", \"92\", \"8\", \"8\", \n . \"33\", \"9\", \"2\", \"900\", \"42\", \"2\", \"6\", \"1\", \"9\", \"6\", \"1125\", \n . \"34\", \"11\", \"2284\", \"53\", \"82\", \"9\", \"22153\", \"3\", \"157\", \"2\", \n . \"1\", \"1\", \"6\", \"3139\", \"37\", \"20\", \"80\", \"30\", \"1337\", \"2\", \"4\", \n . \"41\", \"32\", \"39\", \"2\", \"1\", \"17083\", \"22\", \"2\", \"4\", \"18\", \"1025\", \n . \"25\", \"5\", \"87\", \"20\", \"74\", \"5\", \"10\", \"16\", \"15\", \"27\", \"26\", \n . \"115\", \"29\", \"403\", \"49\", \"114\", \"12\", \"24\", \"16\", \"119\", \"5162\", \n . \"25\", \"3\", \"37\", \"78\", \"84\", \"14\", \"19\", \"236\", \"47\", \"4\", \"45\", \n . \"16\", \"2\", \"24\", \"36\", \"12\", \"77\", \"1\", \"258\", \"3\", \"54\", \"28\", \n . \"337\", \"33\", \"4\", \"356\", \"59605\", \"4\", \"14\", \"76\", \"4\", \"118\", \n . \"62\", \"15\", \"30\", \"20\", \"10\", \"16\", \"49\", \"48\", \"35\", \"148\", \n . \"29\", \"2\", \"52\", \"102\", \"42\", \"50\", \"5\", \"376\", \"2\", \"21\", \"8\", \n . \"20\", \"340\", \"7\", \"3\", \"5\", \"5\", \"80\", \"90\", \"6\", \"1\", \"8\", \"223\", \n . \"12\", \"1\", \"2249\", \"3\", \"1\", \"1\", \"13\", \"1\", \"37\", \"10\", \"2\", \n . \"30\", \"32\", \"109\", \"5\", \"36\", \"12\", \"64\", \"21\", \"48\", \"36\", \"4\", \n . \"9\", \"2\", \"473\", \"10\", \"25\", \"3\", \"20\", \"4923\", \"7\", \"66\", \"24\", \n . \"10\", \"12\", \"17\", \"12\", \"19\", \"42\", \"4\", \"134\", \"3\", \"1\", \"23\", \n . \"1\", \"71\", \"33\", \"35\", \"33\", \"2\", \"50\", \"3\", \"248\", \"4\", \"44\", \n . \"11\", \"233\", \"10\", \"41\", \"22\", \"423\", \"15\", \"44\", \"8\", \"8\", \"39\", \n . \"29244\", \"35\", \"348\", \"42\", \"10\", \"1330\", \"4\", \"20\", \"2\", \"43\", \n . \"214\", \"25\", \"16\", \"11\", \"96\", \"229\", \"372\", \"8\", \"145\", \"28\", \n . \"136\", \"109\", \"24\", \"2\", \"19\", \"9\", \"24\", \"21\", \"1\", \"36\", \"26\", \n . \"21\", \"11\", \"3\", \"356\", \"116\", \"27\", \"1\", \"8\", \"19\", \"25\", \"46\", \n . \"40\", \"8\", \"6\", \"19\", \"10\", \"4\", \"27\", \"7\", \"15\", \"2\", \"554\", \n . \"17\", \"15\", \"9\", \"12\", \"11\", \"1056\", \"36\", \"19\", \"294\", \"311\", \n . \"60\", \"3\", \"36\", \"4\", \"4\", \"2\", \"1\", \"334\", \"90\", \"20\", \"35\", \n . \"6\", \"1\", \"2812\", \"16\", \"28\", \"93\", \"60\", \"57\", \"87\", \"74\", \"24359\", \n . \"27\", \"54\", \"3\", \"2819\", \"356\", \"2\", \"11\", \"55\", \"301\", \"3\", \n . \"45\", \"58\", \"16\", \"84\", \"5\", \"8\", \"13\", \"56\", \"331\", \"3\", \"13\", \n . \"28\", \"48\", \"3\", \"27\", \"129\", \"118\", \"177\", \"73\", \"6\", \"3\", \"133\", \n . \"2\", \"817\", \"14\", \"159\", \"5\", \"24\", \"16\", \"1\", \"25\", \"6\", \"4\", \n . \"62\", \"1\", \"9\", \"24\", \"25\", \"110\", \"24\", \"17\", \"184\", \"91\", \"2\", \n . \"99\", \"53\", \"36\", \"181\", \"8\", \"12\", \"2948\", \"23\", \"43\", \"64\", \n . \"449\", \"2\", \"1\", \"11\", \"358\", \"258\", \"12\", \"1\", \"8\", \"3693\", \n . \"53\", \"14\", \"157\", \"15\", \"2\", \"15\", \"2\", \"8\", \"139\", \"89\", \"6\", \n . \"20\", \"83\", \"19\", \"61\", \"1\"), .Dim = c(714L, 2L)), family = structure(c(\"unclassified (derived from unclassified sequences)\", \n . \"Vahlkampfiidae\", \"Sphaerobacteraceae\", \"unclassified (derived from Burkholderiales)\", \n . \"Anaplasmataceae\", \"Geobacteraceae\", \"Methanobacteriaceae\", \"Helicobacteraceae\", \n . \"Verrucomicrobia subdivision 3\", \"Geodermatophilaceae\", \"Herpetosiphonaceae\", \n . \"Sordariaceae\", \"Alteromonadaceae\", \"Dermacoccaceae\", \"Rhabditidae\", \n . \"Drosophilidae\", \"Hahellaceae\", \"Micromonosporaceae\", \"Gemmatimonadaceae\", \n . \"Salicaceae\", \"Thermotogaceae\", \"Pseudonocardiaceae\", \"Bradyrhizobiaceae\", \n . \"Archaeoglobaceae\", \"unclassified (derived from Chroococcales)\", \n . \"Anaerolineaceae\", \"Tuberaceae\", \"Amaranthaceae\", \"Acidothermaceae\", \n . \"Cyclobacteriaceae\", \"Methanomicrobiaceae\", \"unclassified (derived from Betaproteobacteria)\", \n . \"Porphyromonadaceae\", \"Prevotellaceae\", \"Cercopithecidae\", \"Streptomycetaceae\", \n . \"Aurantimonadaceae\", \"Puniceicoccaceae\", \"Frankiaceae\", \"Shewanellaceae\", \n . \"Waddliaceae\", \"Neisseriaceae\", \"Nocardioidaceae\", \"Bangiaceae\", \n . \"Desulfohalobiaceae\", \"Sanguibacteraceae\", \"Actinosynnemataceae\", \n . \"Hyphomicrobiaceae\", \"Syntrophobacteraceae\", \"Noelaerhabdaceae\", \n . \"Chrysiogenaceae\", \"Leuconostocaceae\", \"Glomerellaceae\", \"Chlamydiaceae\", \n . \"Trichocomaceae\", \"Microbacteriaceae\", \"Verrucomicrobiaceae\", \n . \"Xanthobacteraceae\", \"Desulfobulbaceae\", \"Caulobacteraceae\", \n . \"unclassified (derived from Bacillales)\", \"Mimiviridae\", \"Staphylococcaceae\", \n . \"Corynebacteriaceae\", \"Bacteriovoracaceae\", \"Rhinotermitidae\", \n . \"Acidobacteriaceae\", \"Mycobacteriaceae\", \"Methylacidiphilaceae\", \n . \"Parameciidae\", \"Peridiniaceae\", \"Gallionellaceae\", \"Magnaporthaceae\", \n . \"Nakamurellaceae\", \"Dietziaceae\", \"unclassified (derived from Clostridiales)\", \n . \"Chlamydomonadaceae\", \"Chaetomiaceae\", \"Thermodesulfobiaceae\", \n . \"Suidae\", \"Rhodospirillaceae\", \"Erysipelotrichaceae\", \"Methanosarcinaceae\", \n . \"Moritellaceae\", \"Brassicaceae\", \"Rhizobiaceae\", \"Methylophilaceae\", \n . \"Geminigeraceae\", \"Coxiellaceae\", \"Psathyrellaceae\", \"Carnobacteriaceae\", \n . \"Glycomycetaceae\", \"Tenebrionidae\", \"Nitrospiraceae\", \"Nannocystaceae\", \n . \"Tritrichomonadidae\", \"Desulfovibrionaceae\", \"Funariaceae\", \"unclassified (derived from Gammaproteobacteria)\", \n . \"Sphingomonadaceae\", \"unclassified (derived from Rickettsiales)\", \n . \"Methanocaldococcaceae\", \"unclassified (derived from Oscillatoriales)\", \n . \"Oceanospirillaceae\", \"Burkholderiaceae\", \"Bdellovibrionaceae\", \n . \"Methanocorpusculaceae\", \"unclassified (derived from Bacteroidetes)\", \n . \"Clostridiaceae\", \"Myxococcaceae\", \"Cyperaceae\", \"unclassified (derived from Candidatus Poribacteria)\", \n . \"Brevibacteriaceae\", \"Chloroflexaceae\", \"Polyangiaceae\", \"Thermoplasmataceae\", \n . \"Segniliparaceae\", \"Coriobacteriaceae\", \"Enterobacteriaceae\", \n . \"unclassified (derived from Proteobacteria)\", \"Planctomycetaceae\", \n . \"unclassified (derived from Planctomycetales)\", \"unclassified (derived from other sequences)\", \n . \"unclassified (derived from Stigonematales)\", \"Syntrophomonadaceae\", \n . \"Phyllobacteriaceae\", \"Hydrogenophilaceae\", \"Siphoviridae\", \"Trypanosomatidae\", \n . \"Deferribacteraceae\", \"Cardiobacteriaceae\", \"Erythrobacteraceae\", \n . \"unclassified (derived from Thermotogales)\", \"Ferroplasmaceae\", \n . \"Methanothermaceae\", \"Myoviridae\", \"Trichomonadidae\", \"Thermoproteaceae\", \n . \"unclassified (derived from Acidobacteria)\", \"Bacillaceae\", \"Acidithiobacillaceae\", \n . \"Ruminococcaceae\", \"Clostridiales Family XVII. Incertae Sedis\", \n . \"Natranaerobiaceae\", \"Ktedonobacteraceae\", \"Methanocellaceae\", \n . \"Fabaceae\", \"unclassified (derived from Bacteroidales)\", \"unclassified (derived from Actinobacteria (class))\", \n . \"Euphorbiaceae\", \"Lentisphaeraceae\", \"Trueperaceae\", \"Psychromonadaceae\", \n . \"Halomonadaceae\", \"Alicyclobacillaceae\", \"Syntrophaceae\", \"Deinococcaceae\", \n . \"Haliangiaceae\", \"Parvularculaceae\", \"Cenarchaeaceae\", \"Apidae\", \n . \"Lachnospiraceae\", \"Formicidae\", \"unclassified (derived from Mamiellales)\", \n . \"Solibacteraceae\", \"Phaeodactylaceae\", \"Cytophagaceae\", \"Thermaceae\", \n . \"Gordoniaceae\", \"Sclerotiniaceae\", \"Selaginellaceae\", \"Nocardiaceae\", \n . \"Halobacteroidaceae\", \"Phaeosphaeriaceae\", \"Ectocarpaceae\", \"Harrimaniidae\", \n . \"unclassified (derived from Flavobacteriales)\", \"unclassified (derived from Euryarchaeota)\", \n . \"Listeriaceae\", \"Clostridiales Family XI. Incertae Sedis\", \"Catenulisporaceae\", \n . \"Thermococcaceae\", \"Thermomicrobiaceae\", \"Colwelliaceae\", \"unclassified (derived from Sphingobacteriales)\", \n . \"Peptostreptococcaceae\", \"Solanaceae\", \"Tetrahymenidae\", \"Saccharomycetaceae\", \n . \"Sulfolobaceae\", \"Sphingobacteriaceae\", \"unclassified (derived from Rhodobacterales)\", \n . \"Hydridae\", \"Peptococcaceae\", \"Phasianidae\", \"Clostridiales Family XVIII. Incertae Sedis\", \n . \"Paulinellidae\", \"Aquificaceae\", \"Promicromonosporaceae\", \"Volvocaceae\", \n . \"Oxalobacteraceae\", \"Conexibacteraceae\", \"unclassified (derived from Verrucomicrobiales)\", \n . \"Halobacteriaceae\", \"Aerococcaceae\", \"Methylococcaceae\", \"Comamonadaceae\", \n . \"Alcaligenaceae\", \"Flavobacteriaceae\", \"Hydrogenothermaceae\", \n . \"Thermomonosporaceae\", \"Ferrimonadaceae\", \"Podoviridae\", \"Cyanophoraceae\", \n . \"Methylocystaceae\", \"unclassified (derived from Alteromonadales)\", \n . \"Nectriaceae\", \"unclassified (derived from Cyanobacteria)\", \"Micrococcaceae\", \n . \"Acholeplasmataceae\", \"unclassified (derived from Saccharomycetales)\", \n . \"unclassified (derived from Dehalococcoidetes)\", \"Desulfurococcaceae\", \n . \"unclassified (derived from Elusimicrobia)\", \"Piscirickettsiaceae\", \n . \"Pelobacteraceae\", \"Succinivibrionaceae\", \"Planococcaceae\", \"Aeromonadaceae\", \n . \"Methylobacteriaceae\", \"unclassified (derived from Archaea)\", \n . \"Pseudoalteromonadaceae\", \"Halothiobacillaceae\", \"Fusobacteriaceae\", \n . \"Nautiliaceae\", \"Clavicipitaceae\", \"unclassified (derived from Dictyosteliida)\", \n . \"Elusimicrobiaceae\", \"Brucellaceae\", \"Vibrionaceae\", \"Edwardsiidae\", \n . \"Synergistaceae\", \"Rhodothermaceae\", \"Xanthomonadaceae\", \"Poaceae\", \n . \"Bacteroidaceae\", \"Nitrosomonadaceae\", \"Chlorellaceae\", \"Bifidobacteriaceae\", \n . \"unclassified (derived from Methanomicrobiales)\", \"Halanaerobiaceae\", \n . \"Beutenbergiaceae\", \"Thermoanaerobacterales Family III. Incertae Sedis\", \n . \"Nostocaceae\", \"unclassified (derived from Haemosporida)\", \"Heliobacteriaceae\", \n . \"Desulfomicrobiaceae\", \"Desulfarculaceae\", \"Oikopleuridae\", \"Legionellaceae\", \n . \"Mycoplasmataceae\", \"Codonosigidae\", \"Gracilariaceae\", \"Chromatiaceae\", \n . \"unclassified (derived from Gloeobacterales)\", \"Pasteurellaceae\", \n . \"Acidaminococcaceae\", \"unclassified (derived from Methylophilales)\", \n . \"Cystobacteraceae\", \"Alloherpesviridae\", \"Entomoplasmataceae\", \n . \"Enterococcaceae\", \"unclassified (derived from Alphaproteobacteria)\", \n . \"Pneumocystidaceae\", \"Leptospiraceae\", \"Desulfuromonadaceae\", \n . \"Thermoanaerobacteraceae\", \"Tremellaceae\", \"Streptococcaceae\", \n . \"Hyphomonadaceae\", \"Rhodobacteraceae\", \"Blattabacteriaceae\", \n . \"Cyprinidae\", \"Brachyspiraceae\", \"unclassified (derived from Viruses)\", \n . \"Streptosporangiaceae\", \"Mariprofundaceae\", \"Dictyoglomaceae\", \n . \"Prochlorococcaceae\", \"Victivallaceae\", \"Ectothiorhodospiraceae\", \n . \"Tsukamurellaceae\", \"Moraxellaceae\", \"Pipidae\", \"Kineosporiaceae\", \n . \"Intrasporangiaceae\", \"Paenibacillaceae\", \"Desulfobacteraceae\", \n . \"Spiroplasmataceae\", \"Thiotrichaceae\", \"unclassified (derived from Peronosporales)\", \n . \"Actinomycetaceae\", \"Eubacteriaceae\", \"Veillonellaceae\", \"Fucaceae\", \n . \"Propionibacteriaceae\", \"unclassified (derived from Deltaproteobacteria)\", \n . \"Lactobacillaceae\", \"Estrildidae\", \"Nocardiopsaceae\", \"Hexamitidae\", \n . \"Methanospirillaceae\", \"Pentatomidae\", \"Acetobacteraceae\", \"Flammeovirgaceae\", \n . \"Rhodocyclaceae\", \"Jonesiaceae\", \"Desulfurobacteriaceae\", \"Beijerinckiaceae\", \n . \"Alcanivoracaceae\", \"Pyrenomonadaceae\", \"Opitutaceae\", \"unclassified (derived from Synergistetes)\", \n . \"Symbiodiniaceae\", \"Methanococcaceae\", \"Desmidiaceae\", \"Enterocytozoonidae\", \n . \"unclassified (derived from Campylobacterales)\", \"Francisellaceae\", \n . \"Rubrobacteraceae\", \"Dipodascaceae\", \"unclassified (derived from Flavobacteria)\", \n . \"Pseudomonadaceae\", \"unclassified (derived from Pelagophyceae)\", \n . \"Rikenellaceae\", \"Cellulomonadaceae\", \"Spirochaetaceae\", \"Bartonellaceae\", \n . \"Fibrobacteraceae\", \"Idiomarinaceae\", \"Campylobacteraceae\", \"unclassified (derived from Eukaryota)\", \n . \"Cyanidiaceae\", \"Oscillochloridaceae\", \"Chlorobiaceae\", \"Dermabacteraceae\", \n . \"unclassified (derived from Bacteria)\", \"unclassified (derived from Epsilonproteobacteria)\", \n . \"unclassified (derived from Spartobacteria)\", \"Hominidae\", \"195\", \n . \"8\", \"84\", \"517\", \"5\", \"276\", \"34\", \"184\", \"20\", \"26\", \"61\", \n . \"1\", \"66\", \"17\", \"14\", \"8\", \"2\", \"47\", \"25\", \"13\", \"211\", \"59\", \n . \"80\", \"1\", \"411\", \"15\", \"3\", \"1\", \"1\", \"35\", \"60\", \"34\", \"25805\", \n . \"21941\", \"4\", \"231\", \"8\", \"8\", \"73\", \"92\", \"11\", \"304\", \"20\", \n . \"6\", \"50\", \"42\", \"37\", \"23\", \"21\", \"4\", \"35\", \"258\", \"2\", \"6\", \n . \"21\", \"11\", \"177\", \"35\", \"76\", \"98\", \"259\", \"4\", \"386\", \"248\", \n . \"8\", \"2\", \"67\", \"37\", \"7\", \"9\", \"3\", \"77\", \"12\", \"14\", \"1\", \"2320\", \n . \"13\", \"4\", \"30\", \"2\", \"150\", \"6339\", \"74\", \"5\", \"9\", \"153\", \"48\", \n . \"4\", \"4\", \"4\", \"189\", \"21\", \"2\", \"102\", \"35\", \"2\", \"444\", \"12\", \n . \"112\", \"83\", \"16\", \"20\", \"158\", \"60\", \"659\", \"8\", \"3\", \"125\", \n . \"29471\", \"34\", \"1\", \"12\", \"35\", \"95\", \"29\", \"2\", \"11\", \"16815\", \n . \"2560\", \"2\", \"156\", \"24\", \"79\", \"2\", \"251\", \"11\", \"1\", \"38\", \n . \"2\", \"268\", \"11\", \"10\", \"12\", \"3\", \"4\", \"9\", \"82\", \"4\", \"6\", \n . \"2969\", \"50\", \"45431\", \"30\", \"84\", \"40\", \"24\", \"3\", \"32\", \"4\", \n . \"12\", \"30\", \"34\", \"31\", \"17\", \"222\", \"6\", \"53\", \"54\", \"1\", \"5\", \n . \"4\", \"23874\", \"3\", \"19\", \"5\", \"8\", \"985\", \"107\", \"34\", \"5\", \"6\", \n . \"87\", \"115\", \"5\", \"1\", \"1\", \"80\", \"32\", \"294\", \"1162\", \"24\", \n . \"45\", \"56\", \"2\", \"384\", \"321\", \"2\", \"4\", \"6\", \"10\", \"651\", \"19\", \n . \"10\", \"1288\", \"4\", \"12\", \"1\", \"87\", \"77\", \"8\", \"199\", \"14\", \"16\", \n . \"41\", \"529\", \"19\", \"143\", \"520\", \"1383\", \"95\", \"61\", \"10\", \"6\", \n . \"1\", \"1\", \"9\", \"3\", \"42\", \"121\", \"188\", \"14\", \"51\", \"3\", \"2\", \n . \"9\", \"13\", \"26\", \"4\", \"68\", \"80\", \"4\", \"23\", \"18\", \"1901\", \"22\", \n . \"1\", \"12\", \"48\", \"205\", \"425\", \"20\", \"648\", \"55\", \"105\", \"36\", \n . \"119399\", \"21\", \"2\", \"60102\", \"6\", \"189\", \"16\", \"964\", \"145\", \n . \"1\", \"488\", \"47\", \"41\", \"1\", \"54\", \"259\", \"4\", \"6\", \"81\", \"5\", \n . \"442\", \"8210\", \"3\", \"29\", \"4\", \"2\", \"2823\", \"31\", \"3\", \"14\", \n . \"35\", \"819\", \"2\", \"2364\", \"28\", \"196\", \"12\", \"4\", \"356\", \"15\", \n . \"49\", \"27\", \"64\", \"39\", \"84\", \"45\", \"4\", \"381\", \"4\", \"2\", \"17\", \n . \"1209\", \"253\", \"11\", \"24\", \"4\", \"314\", \"21834\", \"70888\", \"1\", \n . \"180\", \"43\", \"27876\", \"8\", \"26\", \"4\", \"2\", \"1\", \"132\", \"64\", \n . \"26\", \"65\", \"32\", \"38\", \"41\", \"6\", \"114\", \"25\", \"2\", \"32\", \"1\", \n . \"24\", \"24\", \"16\", \"4\", \"5\", \"24\", \"209\", \"6\", \"7063\", \"23\", \"399\", \n . \"17\", \"817\", \"6\", \"280\", \"32\", \"9\", \"9\", \"314\", \"43\", \"161\", \n . \"17\", \"20\", \"3\"), .Dim = c(350L, 2L)), order = structure(c(\"unclassified (derived from unclassified sequences)\", \n . \"Thermococcales\", \"unclassified (derived from Microsporidia)\", \n . \"Methylophilales\", \"Cardiobacteriales\", \"Ktedonobacterales\", \n . \"Dictyoglomales\", \"Gracilariales\", \"Choanoflagellida\", \"Erysipelotrichales\", \n . \"Herpesvirales\", \"Sphingomonadales\", \"Gemmatimonadales\", \"Bdellovibrionales\", \n . \"Clostridiales\", \"Thiotrichales\", \"Poales\", \"Kinetoplastida\", \n . \"unclassified (derived from Euryarchaeota)\", \"Cytophagales\", \n . \"Nostocales\", \"Methanosarcinales\", \"Desulfobacterales\", \"Lactobacillales\", \n . \"Burkholderiales\", \"unclassified (derived from Proteobacteria)\", \n . \"Cypriniformes\", \"Eurotiales\", \"Acidobacteriales\", \"Thermoproteales\", \n . \"Peniculida\", \"Parvularculales\", \"Methylacidiphilales\", \"Rhodocyclales\", \n . \"Suessiales\", \"Cyanidiales\", \"Prochlorales\", \"Flavobacteriales\", \n . \"Campylobacterales\", \"unclassified (derived from Alphaproteobacteria)\", \n . \"Xanthomonadales\", \"Cenarchaeales\", \"Stigonematales\", \"Methanocellales\", \n . \"Brassicales\", \"unclassified (derived from Gammaproteobacteria)\", \n . \"Dictyosteliida\", \"Verrucomicrobiales\", \"Anura\", \"unclassified (derived from Actinobacteria (class))\", \n . \"Rickettsiales\", \"Syntrophobacterales\", \"Myxococcales\", \"Trichomonadida\", \n . \"Caudovirales\", \"Thermales\", \"Puniceicoccales\", \"Bangiales\", \n . \"unclassified (derived from Viruses)\", \"Sphingobacteriales\", \n . \"unclassified (derived from Mammalia)\", \"Coriobacteriales\", \"Thermoplasmatales\", \n . \"Peronosporales\", \"unclassified (derived from Epsilonproteobacteria)\", \n . \"unclassified (derived from Bacteroidetes)\", \"Thermotogales\", \n . \"Solanales\", \"Nitrospirales\", \"Euglyphida\", \"Anaerolineales\", \n . \"Bacillales\", \"Primates\", \"unclassified (derived from Candidatus Poribacteria)\", \n . \"Deferribacterales\", \"Hemiptera\", \"Desulfurococcales\", \"Sordariales\", \n . \"Methanomicrobiales\", \"Pyrenomonadales\", \"Aeromonadales\", \"unclassified (derived from Betaproteobacteria)\", \n . \"Chloroflexales\", \"Diptera\", \"Alteromonadales\", \"Rhizobiales\", \n . \"Pneumocystidales\", \"Ectocarpales\", \"Fabales\", \"Acholeplasmatales\", \n . \"Natranaerobiales\", \"Rhabditida\", \"Rhodobacterales\", \"Synergistales\", \n . \"unclassified (derived from other sequences)\", \"Desulfuromonadales\", \n . \"unclassified (derived from Enteropneusta)\", \"Thermomicrobiales\", \n . \"Bacteroidales\", \"Halanaerobiales\", \"Sulfolobales\", \"Schizopyrenida\", \n . \"unclassified (derived from Opitutae)\", \"Peridiniales\", \"Herpetosiphonales\", \n . \"Actinomycetales\", \"Gloeobacterales\", \"Chromatiales\", \"Hymenostomatida\", \n . \"Chrysiogenales\", \"unclassified (derived from Sordariomycetes)\", \n . \"Planctomycetales\", \"Hydroida\", \"Chlorobiales\", \"Entomoplasmatales\", \n . \"unclassified (derived from Deltaproteobacteria)\", \"Pezizales\", \n . \"Gallionellales\", \"Solibacterales\", \"Desulfarculales\", \"Isoptera\", \n . \"Oceanospirillales\", \"Pleosporales\", \"unclassified (derived from Acidobacteria)\", \n . \"Saccharomycetales\", \"Hypocreales\", \"Selaginellales\", \"Chroococcales\", \n . \"Funariales\", \"Tritrichomonadida\", \"unclassified (derived from Dehalococcoidetes)\", \n . \"Malpighiales\", \"Hydrogenophilales\", \"Archaeoglobales\", \"unclassified (derived from Lentisphaerae)\", \n . \"Solirubrobacterales\", \"unclassified (derived from Elusimicrobia)\", \n . \"unclassified (derived from Synergistetes)\", \"Legionellales\", \n . \"Vibrionales\", \"Oscillatoriales\", \"Galliformes\", \"Enterobacteriales\", \n . \"Methylococcales\", \"Caulobacterales\", \"unclassified (derived from Cyanobacteria)\", \n . \"Chlamydomonadales\", \"Thermoanaerobacterales\", \"Desmidiales\", \n . \"Passeriformes\", \"Mamiellales\", \"Elusimicrobiales\", \"Fucales\", \n . \"Coleoptera\", \"Pasteurellales\", \"unclassified (derived from Flavobacteria)\", \n . \"unclassified (derived from Pelagophyceae)\", \"Tremellales\", \"unclassified (derived from Archaea)\", \n . \"Chlorellales\", \"Chlamydiales\", \"Hymenoptera\", \"Bifidobacteriales\", \n . \"unclassified (derived from Appendicularia)\", \"Haemosporida\", \n . \"Acidithiobacillales\", \"Mycoplasmatales\", \"Fibrobacterales\", \n . \"Aquificales\", \"Fusobacteriales\", \"Nautiliales\", \"Rubrobacterales\", \n . \"Deinococcales\", \"Rhodospirillales\", \"Sphaerobacterales\", \"Isochrysidales\", \n . \"Methanobacteriales\", \"unclassified (derived from Eukaryota)\", \n . \"Neisseriales\", \"Nitrosomonadales\", \"Spirochaetales\", \"Actiniaria\", \n . \"Magnaporthales\", \"Halobacteriales\", \"unclassified (derived from Glaucocystophyceae)\", \n . \"unclassified (derived from Bacteria)\", \"Desulfovibrionales\", \n . \"Caryophyllales\", \"unclassified (derived from Spartobacteria)\", \n . \"Methanococcales\", \"Agaricales\", \"Helotiales\", \"Selenomonadales\", \n . \"Lentisphaerales\", \"Mariprofundales\", \"Naviculales\", \"Pseudomonadales\", \n . \"195\", \"45\", \"24\", \"51\", \"11\", \"40\", \"64\", \"6\", \"4\", \"6339\", \n . \"4\", \"93\", \"25\", \"16\", \"126482\", \"49\", \"37\", \"2\", \"32\", \"1084\", \n . \"145\", \"74\", \"329\", \"34039\", \"2038\", \"2\", \"4\", \"21\", \"67\", \"4\", \n . \"9\", \"1\", \"7\", \"26\", \"2\", \"9\", \"39\", \"1475\", \"488\", \"31\", \"105\", \n . \"5\", \"2\", \"24\", \"9\", \"112\", \"12\", \"213\", \"4\", \"4\", \"21\", \"27\", \n . \"181\", \"82\", \"53\", \"107\", \"8\", \"6\", \"19\", \"1090\", \"2\", \"16815\", \n . \"5\", \"4\", \"17\", \"125\", \"223\", \"2\", \"102\", \"1\", \"15\", \"5343\", \n . \"7\", \"12\", \"268\", \"1\", \"3\", \"5\", \"71\", \"10\", \"94\", \"34\", \"104\", \n . \"8\", \"244\", \"651\", \"3\", \"1\", \"3\", \"188\", \"84\", \"14\", \"243\", \"648\", \n . \"79\", \"324\", \"1\", \"56\", \"174240\", \"304\", \"10\", \"8\", \"114\", \"3\", \n . \"61\", \"2074\", \"5\", \"144\", \"4\", \"35\", \"2\", \"180\", \"10\", \"314\", \n . \"13\", \"43\", \"3\", \"77\", \"5\", \"41\", \"2\", \"120\", \"5\", \"6\", \"25\", \n . \"4\", \"6\", \"411\", \"12\", \"2\", \"51\", \"25\", \"1\", \"1\", \"84\", \"14\", \n . \"2\", \"25\", \"58\", \"425\", \"158\", \"4\", \"2560\", \"19\", \"98\", \"42\", \n . \"21\", \"1813\", \"1\", \"8\", \"19\", \"48\", \"1\", \"2\", \"442\", \"24\", \"6\", \n . \"2\", \"4\", \"2\", \"17\", \"7\", \"60102\", \"1\", \"1\", \"50\", \"259\", \"817\", \n . \"214\", \"1901\", \"22\", \"4\", \"87\", \"282\", \"84\", \"4\", \"38\", \"36\", \n . \"304\", \"21\", \"769\", \"20\", \"12\", \"41\", \"1\", \"161\", \"541\", \"1\", \n . \"20\", \"52\", \"4\", \"5\", \"79098\", \"30\", \"27\", \"8\", \"590\"), .Dim = c(197L, \n . 2L)), check.names = TRUE, fix.empty.names = TRUE, stringsAsFactors = TRUE)",
      "10. stop(gettextf(\"arguments imply differing number of rows: %s\", \n  .     paste(unique(nrows), collapse = \", \")), domain = NA)"
     ]
    }
   ],
   "source": [
    " total<-Reduce(function(x, y) merge(x, y, by=0, all=TRUE), mget(ls(pattern = '[sS][0-9]+')))"
   ]
  },
  {
   "cell_type": "code",
   "execution_count": null,
   "metadata": {},
   "outputs": [],
   "source": []
  }
 ],
 "metadata": {
  "kernelspec": {
   "display_name": "R",
   "language": "R",
   "name": "ir"
  },
  "language_info": {
   "codemirror_mode": "r",
   "file_extension": ".r",
   "mimetype": "text/x-r-source",
   "name": "R",
   "pygments_lexer": "r",
   "version": "3.4.1"
  },
  "toc": {
   "base_numbering": 1,
   "nav_menu": {},
   "number_sections": true,
   "sideBar": true,
   "skip_h1_title": false,
   "title_cell": "Table of Contents",
   "title_sidebar": "Contents",
   "toc_cell": false,
   "toc_position": {},
   "toc_section_display": true,
   "toc_window_display": false
  }
 },
 "nbformat": 4,
 "nbformat_minor": 2
}
