{
 "cells": [
  {
   "cell_type": "code",
   "execution_count": 30,
   "metadata": {
    "ExecuteTime": {
     "end_time": "2018-09-07T22:39:54.899476Z",
     "start_time": "2018-09-07T22:39:54.836Z"
    },
    "scrolled": true
   },
   "outputs": [
    {
     "ename": "ERROR",
     "evalue": "Error in fromJSON(\"http://api.metagenomics.anl.gov/1/annotation/sequence/mgm4804308.3?evalue=10&type=organism&source=SwissProt&auth=kbm2R6jxx9LSnLVNmtawtFBVtVNbk\"): unexpected character 'h'\n\n",
     "output_type": "error",
     "traceback": [
      "Error in fromJSON(\"http://api.metagenomics.anl.gov/1/annotation/sequence/mgm4804308.3?evalue=10&type=organism&source=SwissProt&auth=kbm2R6jxx9LSnLVNmtawtFBVtVNbk\"): unexpected character 'h'\n\nTraceback:\n",
      "1. fromJSON(\"http://api.metagenomics.anl.gov/1/annotation/sequence/mgm4804308.3?evalue=10&type=organism&source=SwissProt&auth=kbm2R6jxx9LSnLVNmtawtFBVtVNbk\")",
      "2. stop(x)"
     ]
    }
   ],
   "source": [
    "#install.packages('jsonlite')\n",
    "library(jsonlite)\n",
    "S5 <- fromJSON(\"http://api.metagenomics.anl.gov/1/annotation/sequence/mgm4804308.3?evalue=10&type=organism&source=SwissProt&auth=kbm2R6jxx9LSnLVNmtawtFBVtVNbk\")\n",
    "head(S5)\n",
    "\n",
    "#S5-mgm4804308.3\n",
    "#http://api.metagenomics.anl.gov/1/annotation/sequence/mgm4804308.3?evalue=10&type=organism&source=SwissProt&auth=kbm2R6jxx9LSnLVNmtawtFBVtVNbk\n",
    "#s13_R2- https://api-ui.mg-rast.org/metagenome/72d6f57b296d676d343638363631342e33?verbosity=stats&detail=ontology&auth=kbm2R6jxx9LSnLVNmtawtFBVtVNbk\n",
    "\n",
    "#http://api.mg-rast.org/api.html#metagenome\n",
    "#http://api.metagenomics.anl.gov/1/annotation/sequence/mmgm4804308.3?evalue=10&type=organism&source=SwissProt&auth=kbm2R6jxx9LSnLVNmtawtFBVtVNbk"
   ]
  },
  {
   "cell_type": "code",
   "execution_count": 31,
   "metadata": {
    "ExecuteTime": {
     "end_time": "2018-09-07T22:40:25.064947Z",
     "start_time": "2018-09-07T22:40:23.401Z"
    }
   },
   "outputs": [
    {
     "name": "stderr",
     "output_type": "stream",
     "text": [
      "Warning message in file(con, \"r\"):\n",
      "“cannot open URL 'http://api.metagenomics.anl.gov/1/annotation/sequence/mgm4804308.3?evalue=10&type=organism&source=SwissProt&auth=kbm2R6jxx9LSnLVNmtawtFBVtVNbk': HTTP status was '401 Unauthorized'”"
     ]
    },
    {
     "ename": "ERROR",
     "evalue": "Error in file(con, \"r\"): cannot open the connection to 'http://api.metagenomics.anl.gov/1/annotation/sequence/mgm4804308.3?evalue=10&type=organism&source=SwissProt&auth=kbm2R6jxx9LSnLVNmtawtFBVtVNbk'\n",
     "output_type": "error",
     "traceback": [
      "Error in file(con, \"r\"): cannot open the connection to 'http://api.metagenomics.anl.gov/1/annotation/sequence/mgm4804308.3?evalue=10&type=organism&source=SwissProt&auth=kbm2R6jxx9LSnLVNmtawtFBVtVNbk'\nTraceback:\n",
      "1. rjson::fromJSON(file = \"http://api.metagenomics.anl.gov/1/annotation/sequence/mgm4804308.3?evalue=10&type=organism&source=SwissProt&auth=kbm2R6jxx9LSnLVNmtawtFBVtVNbk\")",
      "2. paste(readLines(file, warn = FALSE), collapse = \"\")",
      "3. readLines(file, warn = FALSE)",
      "4. file(con, \"r\")"
     ]
    }
   ],
   "source": [
    "library(rjson)\n",
    "S5 <- rjson::fromJSON(file=\"http://api.metagenomics.anl.gov/1/annotation/sequence/mgm4804308.3?evalue=10&type=organism&source=SwissProt&auth=kbm2R6jxx9LSnLVNmtawtFBVtVNbk\")\n",
    "head(S5)"
   ]
  },
  {
   "cell_type": "code",
   "execution_count": 32,
   "metadata": {
    "ExecuteTime": {
     "end_time": "2018-09-07T22:40:30.472958Z",
     "start_time": "2018-09-07T22:40:29.836Z"
    }
   },
   "outputs": [
    {
     "name": "stderr",
     "output_type": "stream",
     "text": [
      "Warning message in file(file, \"rt\"):\n",
      "“cannot open URL 'http://api.metagenomics.anl.gov/1/annotation/sequence/mgm4804308.3?evalue=10&type=organism&source=SwissProt&auth=kbm2R6jxx9LSnLVNmtawtFBVtVNbk': HTTP status was '401 Unauthorized'”"
     ]
    },
    {
     "ename": "ERROR",
     "evalue": "Error in file(file, \"rt\"): cannot open the connection to 'http://api.metagenomics.anl.gov/1/annotation/sequence/mgm4804308.3?evalue=10&type=organism&source=SwissProt&auth=kbm2R6jxx9LSnLVNmtawtFBVtVNbk'\n",
     "output_type": "error",
     "traceback": [
      "Error in file(file, \"rt\"): cannot open the connection to 'http://api.metagenomics.anl.gov/1/annotation/sequence/mgm4804308.3?evalue=10&type=organism&source=SwissProt&auth=kbm2R6jxx9LSnLVNmtawtFBVtVNbk'\nTraceback:\n",
      "1. read.table(\"http://api.metagenomics.anl.gov/1/annotation/sequence/mgm4804308.3?evalue=10&type=organism&source=SwissProt&auth=kbm2R6jxx9LSnLVNmtawtFBVtVNbk\", \n .     sep = \"\")",
      "2. file(file, \"rt\")"
     ]
    }
   ],
   "source": [
    "dAyu<-read.table('http://api.metagenomics.anl.gov/1/annotation/sequence/mgm4804308.3?evalue=10&type=organism&source=SwissProt&auth=kbm2R6jxx9LSnLVNmtawtFBVtVNbk',sep='')"
   ]
  },
  {
   "cell_type": "code",
   "execution_count": null,
   "metadata": {},
   "outputs": [],
   "source": [
    "http://api.metagenomics.anl.gov/metadata/export/mgp17042?auth=kbm2R6jxx9LSnLVNmtawtFBVtVNbk\n",
    "http://api.metagenomics.anl.gov/project/mgp17042?auth=kbm2R6jxx9LSnLVNmtawtFBVtVNbk\n",
    "http://api.metagenomics.anl.gov/inbox?auth=kbm2R6jxx9LSnLVNmtawtFBVtVNbk\n",
    "http://api.metagenomics.anl.gov/sample/mgm4804308.3?auth=kbm2R6jxx9LSnLVNmtawtFBVtVNbk\n",
    "\n",
    "https://www.mg-rast.org/mgmain.html?mgpage=project&project=760ca003346d67703137303432 \n",
    "mgp17042\n",
    "\n",
    "https://www.mg-rast.org/mgmain.html?mgpage=pipeline"
   ]
  },
  {
   "cell_type": "code",
   "execution_count": null,
   "metadata": {},
   "outputs": [],
   "source": [
    "Name    class   fwd     rev\n",
    "s13     Vatta   TGGAACAA        TGGAACAA\n",
    "S20-2   Pita    TGGCTTCA        TGGCTTCA\n",
    "S23     Pita    TGGTGGTA        TGGTGGTA\n",
    "S27     Kapha   TTCACGCA        TTCACGCA\n",
    "S28     Vatta   AACTCACC        AACTCACC\n",
    "S2      Kapha   TCCGTCTA        TCCGTCTA\n",
    "S30     Kapha   AAGAGATC        AAGAGATC\n",
    "S31     Kapha   AAGGACAC        AAGGACAC\n",
    "S33     Kapha   AATCCGTC        AATCCGTC\n",
    "S35     Vatta   AATGTTGC        AATGTTGC\n",
    "S36     Vatta   ACACGACC        ACACGACC\n",
    "S37     Pita    ACAGATTC        ACAGATTC\n",
    "S3      Vatta   TCTTCACA        TCTTCACA\n",
    "S40     Kapha   AGATGTAC        AGATGTAC\n",
    "S44     Vatta   AGCACCTC        AGCACCTC\n",
    "S46     Kapha   AGCCATGC        AGCCATGC\n",
    "S47     Vatta   AGGCTAAC        AGGCTAAC\n",
    "S48     Vatta   ATAGCGAC        ATAGCGAC\n",
    "S5      Pita    TGAAGAGA        TGAAGAGA\n"
   ]
  },
  {
   "cell_type": "code",
   "execution_count": 12,
   "metadata": {
    "ExecuteTime": {
     "end_time": "2018-08-11T21:41:27.587568Z",
     "start_time": "2018-08-11T21:41:27.453Z"
    }
   },
   "outputs": [],
   "source": [
    "system(\"mkdir ~/R/\")\n",
    "system(\"mkdir ~/R/libs/\")\n"
   ]
  },
  {
   "cell_type": "code",
   "execution_count": 14,
   "metadata": {
    "ExecuteTime": {
     "end_time": "2018-08-11T21:41:53.032946Z",
     "start_time": "2018-08-11T21:41:52.983Z"
    }
   },
   "outputs": [],
   "source": [
    "system(\"echo 'R_LIBS_USER=\\\"~/R/library\\\"' >  $HOME/.Renviron\")"
   ]
  },
  {
   "cell_type": "code",
   "execution_count": 20,
   "metadata": {
    "ExecuteTime": {
     "end_time": "2018-08-12T18:50:18.221752Z",
     "start_time": "2018-08-12T18:50:18.169Z"
    }
   },
   "outputs": [
    {
     "name": "stderr",
     "output_type": "stream",
     "text": [
      "Installing package into ‘/usr/local/spark-2.3.0-bin-hadoop2.7/R/lib’\n",
      "(as ‘lib’ is unspecified)\n",
      "Warning message in install.packages(\"devtools\", lib.loc = \"/home/notebook/R/library\"):\n",
      "“'lib = \"/usr/local/spark-2.3.0-bin-hadoop2.7/R/lib\"' is not writable”"
     ]
    },
    {
     "ename": "ERROR",
     "evalue": "Error in install.packages(\"devtools\", lib.loc = \"/home/notebook/R/library\"): unable to install packages\n",
     "output_type": "error",
     "traceback": [
      "Error in install.packages(\"devtools\", lib.loc = \"/home/notebook/R/library\"): unable to install packages\nTraceback:\n",
      "1. install.packages(\"devtools\", lib.loc = \"/home/notebook/R/library\")",
      "2. stop(\"unable to install packages\")"
     ]
    }
   ],
   "source": [
    "install.packages('devtools',lib.loc=\"/home/notebook/R/library\")\n",
    "install.packages('devtools')"
   ]
  }
 ],
 "metadata": {
  "kernelspec": {
   "display_name": "R",
   "language": "R",
   "name": "ir"
  },
  "language_info": {
   "codemirror_mode": "r",
   "file_extension": ".r",
   "mimetype": "text/x-r-source",
   "name": "R",
   "pygments_lexer": "r",
   "version": "3.4.1"
  },
  "toc": {
   "base_numbering": 1,
   "nav_menu": {},
   "number_sections": true,
   "sideBar": true,
   "skip_h1_title": false,
   "title_cell": "Table of Contents",
   "title_sidebar": "Contents",
   "toc_cell": false,
   "toc_position": {},
   "toc_section_display": true,
   "toc_window_display": false
  }
 },
 "nbformat": 4,
 "nbformat_minor": 2
}
