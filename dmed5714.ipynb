{
 "cells": [
  {
   "cell_type": "code",
   "execution_count": 2,
   "metadata": {
    "collapsed": false
   },
   "outputs": [
    {
     "data": {
      "text/plain": [
       "2800\n"
      ]
     },
     "execution_count": 2,
     "metadata": {},
     "output_type": "execute_result"
    }
   ],
   "source": [
    "200*14"
   ]
  },
  {
   "cell_type": "code",
   "execution_count": 12,
   "metadata": {
    "collapsed": false
   },
   "outputs": [
    {
     "ename": "Error",
     "evalue": "Unexpected stderr from execution",
     "output_type": "error",
     "traceback": [
      "# command-line-arguments\n/tmp/050270175/gophernotes_session.go:11: undefined: Sprintf\n/tmp/050270175/gophernotes_session.go:12: undefined: Sprintf\n/tmp/050270175/gophernotes_session.go:14: undefined: fmt.Pprintf\n/tmp/050270175/gophernotes_session.go:15: cannot refer to unexported name fmt.printf\n/tmp/050270175/gophernotes_session.go:15: undefined: fmt.printf\n/tmp/050270175/gophernotes_session.go:17: cannot refer to unexported name fmt.printf\n/tmp/050270175/gophernotes_session.go:17: undefined: fmt.printf\n"
     ]
    }
   ],
   "source": [
    "import \"fmt\""
   ]
  },
  {
   "cell_type": "code",
   "execution_count": 16,
   "metadata": {
    "collapsed": false
   },
   "outputs": [
    {
     "ename": "Error",
     "evalue": "Unexpected stderr from execution",
     "output_type": "error",
     "traceback": [
      "# command-line-arguments\n/tmp/050270175/gophernotes_session.go:11: undefined: Sprintf\n/tmp/050270175/gophernotes_session.go:12: undefined: Sprintf\n/tmp/050270175/gophernotes_session.go:14: undefined: fmt.Pprintf\n/tmp/050270175/gophernotes_session.go:15: cannot refer to unexported name fmt.printf\n/tmp/050270175/gophernotes_session.go:15: undefined: fmt.printf\n/tmp/050270175/gophernotes_session.go:17: cannot refer to unexported name fmt.printf\n/tmp/050270175/gophernotes_session.go:17: undefined: fmt.printf\n"
     ]
    }
   ],
   "source": [
    "fmt.Sprintf(\"hi\")\n",
    "\"hi"
   ]
  }
 ],
 "metadata": {
  "kernelspec": {
   "display_name": "Go",
   "language": "go",
   "name": "gophernotes"
  },
  "language_info": {
   "name": "go"
  }
 },
 "nbformat": 4,
 "nbformat_minor": 2
}
