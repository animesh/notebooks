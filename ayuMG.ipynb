{
 "cells": [
  {
   "cell_type": "code",
   "execution_count": null,
   "metadata": {
    "colab": {
     "base_uri": "https://localhost:8080/"
    },
    "executionInfo": {
     "elapsed": 4088,
     "status": "ok",
     "timestamp": 1622478297464,
     "user": {
      "displayName": "Animesh Sharma",
      "photoUrl": "https://lh3.googleusercontent.com/a-/AOh14GgtBEA8HpNXZlxHZ_XN2a7ZU56EZ5DMTqQk-tsov3Y=s64",
      "userId": "07446072663021710031"
     },
     "user_tz": -120
    },
    "id": "4M0beZtBPagP",
    "outputId": "8463718d-7382-4396-93d0-546be0425009"
   },
   "outputs": [
    {
     "name": "stdout",
     "output_type": "stream",
     "text": [
      "2021-05-31 16:24:53.839804: I tensorflow/stream_executor/platform/default/dso_loader.cc:53] Successfully opened dynamic library libcudart.so.11.0\n",
      "2021-05-31 16:24:55.567830: I tensorflow/stream_executor/platform/default/dso_loader.cc:53] Successfully opened dynamic library libcuda.so.1\n",
      "2021-05-31 16:24:55.649668: E tensorflow/stream_executor/cuda/cuda_driver.cc:328] failed call to cuInit: CUDA_ERROR_NO_DEVICE: no CUDA-capable device is detected\n",
      "2021-05-31 16:24:55.649758: I tensorflow/stream_executor/cuda/cuda_diagnostics.cc:156] kernel driver does not appear to be running on this host (fa7214bc752a): /proc/driver/nvidia/version does not exist\n",
      "tf.Tensor(-40.86964, shape=(), dtype=float32)\n"
     ]
    }
   ],
   "source": [
    "!python3 -c \"import tensorflow as tf; print(tf.reduce_sum(tf.random.normal([99, 99])))\""
   ]
  },
  {
   "cell_type": "code",
   "execution_count": null,
   "metadata": {
    "colab": {
     "base_uri": "https://localhost:8080/"
    },
    "executionInfo": {
     "elapsed": 2535,
     "status": "ok",
     "timestamp": 1622478311921,
     "user": {
      "displayName": "Animesh Sharma",
      "photoUrl": "https://lh3.googleusercontent.com/a-/AOh14GgtBEA8HpNXZlxHZ_XN2a7ZU56EZ5DMTqQk-tsov3Y=s64",
      "userId": "07446072663021710031"
     },
     "user_tz": -120
    },
    "id": "IWFhXLrQPagU",
    "outputId": "e41ba190-c4ef-4e13-f11a-b400894c7efb"
   },
   "outputs": [
    {
     "name": "stdout",
     "output_type": "stream",
     "text": [
      "2.5.0\n"
     ]
    }
   ],
   "source": [
    "import tensorflow as tf\n",
    "print(tf.__version__)"
   ]
  },
  {
   "cell_type": "code",
   "execution_count": null,
   "metadata": {
    "colab": {
     "base_uri": "https://localhost:8080/"
    },
    "executionInfo": {
     "elapsed": 335,
     "status": "ok",
     "timestamp": 1622478321537,
     "user": {
      "displayName": "Animesh Sharma",
      "photoUrl": "https://lh3.googleusercontent.com/a-/AOh14GgtBEA8HpNXZlxHZ_XN2a7ZU56EZ5DMTqQk-tsov3Y=s64",
      "userId": "07446072663021710031"
     },
     "user_tz": -120
    },
    "id": "mtALnCf7PagV",
    "outputId": "787330d3-fd51-4a57-9131-fbe124e23907"
   },
   "outputs": [
    {
     "name": "stdout",
     "output_type": "stream",
     "text": [
      "WARNING:tensorflow:From <ipython-input-3-17bb7203622b>:1: is_gpu_available (from tensorflow.python.framework.test_util) is deprecated and will be removed in a future version.\n",
      "Instructions for updating:\n",
      "Use `tf.config.list_physical_devices('GPU')` instead.\n"
     ]
    },
    {
     "data": {
      "text/plain": [
       "False"
      ]
     },
     "execution_count": 3,
     "metadata": {
      "tags": []
     },
     "output_type": "execute_result"
    }
   ],
   "source": [
    "tf.test.is_gpu_available()"
   ]
  },
  {
   "cell_type": "code",
   "execution_count": null,
   "metadata": {
    "id": "-VhqTct5PagW",
    "outputId": "9d27a1d3-1b63-462a-983d-0a1a67793276"
   },
   "outputs": [
    {
     "name": "stdout",
     "output_type": "stream",
     "text": [
      "Using a GPU\n"
     ]
    }
   ],
   "source": [
    "if tf.test.gpu_device_name() == '/device:GPU:0':\n",
    "  print(\"Using a GPU\")\n",
    "else:\n",
    "  print(\"Using a CPU\")"
   ]
  },
  {
   "cell_type": "code",
   "execution_count": null,
   "metadata": {
    "id": "ElXUEhXUPagX",
    "outputId": "7757370b-e86f-40b7-a690-3033526dd5c6"
   },
   "outputs": [
    {
     "name": "stdout",
     "output_type": "stream",
     "text": [
      "[name: \"/device:CPU:0\"\n",
      "device_type: \"CPU\"\n",
      "memory_limit: 268435456\n",
      "locality {\n",
      "}\n",
      "incarnation: 4024254152465233954\n",
      ", name: \"/device:XLA_GPU:0\"\n",
      "device_type: \"XLA_GPU\"\n",
      "memory_limit: 17179869184\n",
      "locality {\n",
      "}\n",
      "incarnation: 10780885942879961341\n",
      "physical_device_desc: \"device: XLA_GPU device\"\n",
      ", name: \"/device:XLA_CPU:0\"\n",
      "device_type: \"XLA_CPU\"\n",
      "memory_limit: 17179869184\n",
      "locality {\n",
      "}\n",
      "incarnation: 12567651201342837307\n",
      "physical_device_desc: \"device: XLA_CPU device\"\n",
      ", name: \"/device:GPU:0\"\n",
      "device_type: \"GPU\"\n",
      "memory_limit: 15651091252\n",
      "locality {\n",
      "  bus_id: 1\n",
      "  links {\n",
      "  }\n",
      "}\n",
      "incarnation: 10922718326167081695\n",
      "physical_device_desc: \"device: 0, name: Tesla V100-PCIE-16GB, pci bus id: 0000:03:00.0, compute capability: 7.0\"\n",
      "]\n"
     ]
    }
   ],
   "source": [
    "import tensorflow as tf\n",
    "from tensorflow.python.client import device_lib\n",
    "print(device_lib.list_local_devices())"
   ]
  },
  {
   "cell_type": "code",
   "execution_count": null,
   "metadata": {
    "id": "TMnlBGPXPagY",
    "outputId": "a2d05695-4884-4c93-85ff-5b181d91d97c"
   },
   "outputs": [
    {
     "name": "stderr",
     "output_type": "stream",
     "text": [
      "2021-05-31 14:28:57.251221: W tensorflow/stream_executor/platform/default/dso_loader.cc:64] Could not load dynamic library 'libcuda.so.1'; dlerror: libcuda.so.1: cannot open shared object file: No such file or directory\n",
      "2021-05-31 14:28:57.251287: W tensorflow/stream_executor/cuda/cuda_driver.cc:326] failed call to cuInit: UNKNOWN ERROR (303)\n",
      "2021-05-31 14:28:57.251311: I tensorflow/stream_executor/cuda/cuda_diagnostics.cc:156] kernel driver does not appear to be running on this host (DMED7596): /proc/driver/nvidia/version does not exist\n",
      "2021-05-31 14:28:57.251747: I tensorflow/core/platform/cpu_feature_guard.cc:142] This TensorFlow binary is optimized with oneAPI Deep Neural Network Library (oneDNN) to use the following CPU instructions in performance-critical operations:  AVX2 FMA\n",
      "To enable them in other operations, rebuild TensorFlow with the appropriate compiler flags.\n"
     ]
    },
    {
     "ename": "AttributeError",
     "evalue": "module 'tensorflow' has no attribute 'Session'",
     "output_type": "error",
     "traceback": [
      "\u001b[0;31m---------------------------------------------------------------------------\u001b[0m",
      "\u001b[0;31mAttributeError\u001b[0m                            Traceback (most recent call last)",
      "\u001b[0;32m/tmp/ipykernel_7653/1715394986.py\u001b[0m in \u001b[0;36m<module>\u001b[0;34m\u001b[0m\n\u001b[1;32m      4\u001b[0m   \u001b[0mc\u001b[0m \u001b[0;34m=\u001b[0m \u001b[0mtf\u001b[0m\u001b[0;34m.\u001b[0m\u001b[0mmatmul\u001b[0m\u001b[0;34m(\u001b[0m\u001b[0ma\u001b[0m\u001b[0;34m,\u001b[0m \u001b[0mb\u001b[0m\u001b[0;34m)\u001b[0m\u001b[0;34m\u001b[0m\u001b[0;34m\u001b[0m\u001b[0m\n\u001b[1;32m      5\u001b[0m \u001b[0;31m# Creates a session with log_device_placement set to True.\u001b[0m\u001b[0;34m\u001b[0m\u001b[0;34m\u001b[0m\u001b[0;34m\u001b[0m\u001b[0m\n\u001b[0;32m----> 6\u001b[0;31m \u001b[0msess\u001b[0m \u001b[0;34m=\u001b[0m \u001b[0mtf\u001b[0m\u001b[0;34m.\u001b[0m\u001b[0mSession\u001b[0m\u001b[0;34m(\u001b[0m\u001b[0mconfig\u001b[0m\u001b[0;34m=\u001b[0m\u001b[0mtf\u001b[0m\u001b[0;34m.\u001b[0m\u001b[0mConfigProto\u001b[0m\u001b[0;34m(\u001b[0m\u001b[0mlog_device_placement\u001b[0m\u001b[0;34m=\u001b[0m\u001b[0;32mTrue\u001b[0m\u001b[0;34m)\u001b[0m\u001b[0;34m)\u001b[0m\u001b[0;34m\u001b[0m\u001b[0;34m\u001b[0m\u001b[0m\n\u001b[0m\u001b[1;32m      7\u001b[0m \u001b[0;31m# Runs the op.\u001b[0m\u001b[0;34m\u001b[0m\u001b[0;34m\u001b[0m\u001b[0;34m\u001b[0m\u001b[0m\n\u001b[1;32m      8\u001b[0m \u001b[0mprint\u001b[0m\u001b[0;34m(\u001b[0m\u001b[0msess\u001b[0m\u001b[0;34m.\u001b[0m\u001b[0mrun\u001b[0m\u001b[0;34m(\u001b[0m\u001b[0mc\u001b[0m\u001b[0;34m)\u001b[0m\u001b[0;34m)\u001b[0m\u001b[0;34m\u001b[0m\u001b[0;34m\u001b[0m\u001b[0m\n",
      "\u001b[0;31mAttributeError\u001b[0m: module 'tensorflow' has no attribute 'Session'"
     ]
    }
   ],
   "source": [
    "with tf.device('/device:GPU:0'):\n",
    "  a = tf.constant([1.0, 2.0, 3.0, 4.0, 5.0, 6.0], shape=[2, 3], name='a')\n",
    "  b = tf.constant([1.0, 2.0, 3.0, 4.0, 5.0, 6.0], shape=[3, 2], name='b')\n",
    "  c = tf.matmul(a, b)\n",
    "# Creates a session with log_device_placement set to True.\n",
    "sess = tf.Session(config=tf.ConfigProto(log_device_placement=True))\n",
    "# Runs the op.\n",
    "print(sess.run(c))"
   ]
  },
  {
   "cell_type": "code",
   "execution_count": null,
   "metadata": {
    "id": "RvfNkdovPagY",
    "outputId": "65cf0f98-278a-4453-adfb-7ebb715e51a2"
   },
   "outputs": [
    {
     "ename": "AttributeError",
     "evalue": "module 'tensorflow' has no attribute 'Session'",
     "output_type": "error",
     "traceback": [
      "\u001b[0;31m---------------------------------------------------------------------------\u001b[0m",
      "\u001b[0;31mAttributeError\u001b[0m                            Traceback (most recent call last)",
      "\u001b[0;32m/tmp/ipykernel_7653/924442148.py\u001b[0m in \u001b[0;36m<module>\u001b[0;34m\u001b[0m\n\u001b[1;32m      4\u001b[0m \u001b[0mc\u001b[0m \u001b[0;34m=\u001b[0m \u001b[0mtf\u001b[0m\u001b[0;34m.\u001b[0m\u001b[0mmatmul\u001b[0m\u001b[0;34m(\u001b[0m\u001b[0ma\u001b[0m\u001b[0;34m,\u001b[0m \u001b[0mb\u001b[0m\u001b[0;34m)\u001b[0m\u001b[0;34m\u001b[0m\u001b[0;34m\u001b[0m\u001b[0m\n\u001b[1;32m      5\u001b[0m \u001b[0;31m# Creates a session with log_device_placement set to True.\u001b[0m\u001b[0;34m\u001b[0m\u001b[0;34m\u001b[0m\u001b[0;34m\u001b[0m\u001b[0m\n\u001b[0;32m----> 6\u001b[0;31m \u001b[0msess\u001b[0m \u001b[0;34m=\u001b[0m \u001b[0mtf\u001b[0m\u001b[0;34m.\u001b[0m\u001b[0mSession\u001b[0m\u001b[0;34m(\u001b[0m\u001b[0mconfig\u001b[0m\u001b[0;34m=\u001b[0m\u001b[0mtf\u001b[0m\u001b[0;34m.\u001b[0m\u001b[0mConfigProto\u001b[0m\u001b[0;34m(\u001b[0m\u001b[0mlog_device_placement\u001b[0m\u001b[0;34m=\u001b[0m\u001b[0;32mTrue\u001b[0m\u001b[0;34m)\u001b[0m\u001b[0;34m)\u001b[0m\u001b[0;34m\u001b[0m\u001b[0;34m\u001b[0m\u001b[0m\n\u001b[0m\u001b[1;32m      7\u001b[0m \u001b[0;31m# Runs the op.\u001b[0m\u001b[0;34m\u001b[0m\u001b[0;34m\u001b[0m\u001b[0;34m\u001b[0m\u001b[0m\n\u001b[1;32m      8\u001b[0m \u001b[0mprint\u001b[0m\u001b[0;34m(\u001b[0m\u001b[0msess\u001b[0m\u001b[0;34m.\u001b[0m\u001b[0mrun\u001b[0m\u001b[0;34m(\u001b[0m\u001b[0mc\u001b[0m\u001b[0;34m)\u001b[0m\u001b[0;34m)\u001b[0m\u001b[0;34m\u001b[0m\u001b[0;34m\u001b[0m\u001b[0m\n",
      "\u001b[0;31mAttributeError\u001b[0m: module 'tensorflow' has no attribute 'Session'"
     ]
    }
   ],
   "source": [
    "# Creates a graph.\n",
    "a = tf.constant([1.0, 2.0, 3.0, 4.0, 5.0, 6.0], shape=[2, 3], name='a')\n",
    "b = tf.constant([1.0, 2.0, 3.0, 4.0, 5.0, 6.0], shape=[3, 2], name='b')\n",
    "c = tf.matmul(a, b)\n",
    "# Creates a session with log_device_placement set to True.\n",
    "sess = tf.Session(config=tf.ConfigProto(log_device_placement=True))\n",
    "# Runs the op.\n",
    "print(sess.run(c))"
   ]
  },
  {
   "cell_type": "code",
   "execution_count": null,
   "metadata": {
    "id": "1N11h2kNPagZ"
   },
   "outputs": [],
   "source": [
    "#!pwd"
   ]
  },
  {
   "cell_type": "code",
   "execution_count": null,
   "metadata": {
    "id": "QXJZW4k3Paga",
    "outputId": "58fdf7dc-ec05-4c51-f9f9-8e658d25adc8"
   },
   "outputs": [
    {
     "ename": "FileNotFoundError",
     "evalue": "[Errno 2] No such file or directory: 'HeLa/ayu/new/P value 0.05.csv'",
     "output_type": "error",
     "traceback": [
      "\u001b[0;31m---------------------------------------------------------------------------\u001b[0m",
      "\u001b[0;31mFileNotFoundError\u001b[0m                         Traceback (most recent call last)",
      "\u001b[0;32m/tmp/ipykernel_7653/3964298628.py\u001b[0m in \u001b[0;36m<module>\u001b[0;34m\u001b[0m\n\u001b[1;32m      1\u001b[0m \u001b[0;32mimport\u001b[0m \u001b[0mpandas\u001b[0m \u001b[0;32mas\u001b[0m \u001b[0mpd\u001b[0m\u001b[0;34m\u001b[0m\u001b[0;34m\u001b[0m\u001b[0m\n\u001b[0;32m----> 2\u001b[0;31m \u001b[0mdata\u001b[0m \u001b[0;34m=\u001b[0m \u001b[0mpd\u001b[0m\u001b[0;34m.\u001b[0m\u001b[0mread_csv\u001b[0m\u001b[0;34m(\u001b[0m\u001b[0;34m\"HeLa/ayu/new/P value 0.05.csv\"\u001b[0m\u001b[0;34m)\u001b[0m\u001b[0;34m\u001b[0m\u001b[0;34m\u001b[0m\u001b[0m\n\u001b[0m\u001b[1;32m      3\u001b[0m \u001b[0mdata\u001b[0m\u001b[0;34m.\u001b[0m\u001b[0mhead\u001b[0m\u001b[0;34m(\u001b[0m\u001b[0;36m2\u001b[0m\u001b[0;34m)\u001b[0m\u001b[0;34m\u001b[0m\u001b[0;34m\u001b[0m\u001b[0m\n\u001b[1;32m      4\u001b[0m \u001b[0mdata\u001b[0m\u001b[0;34m.\u001b[0m\u001b[0mshape\u001b[0m\u001b[0;34m\u001b[0m\u001b[0;34m\u001b[0m\u001b[0m\n",
      "\u001b[0;32m~/miniconda3/lib/python3.8/site-packages/pandas/io/parsers.py\u001b[0m in \u001b[0;36mread_csv\u001b[0;34m(filepath_or_buffer, sep, delimiter, header, names, index_col, usecols, squeeze, prefix, mangle_dupe_cols, dtype, engine, converters, true_values, false_values, skipinitialspace, skiprows, skipfooter, nrows, na_values, keep_default_na, na_filter, verbose, skip_blank_lines, parse_dates, infer_datetime_format, keep_date_col, date_parser, dayfirst, cache_dates, iterator, chunksize, compression, thousands, decimal, lineterminator, quotechar, quoting, doublequote, escapechar, comment, encoding, dialect, error_bad_lines, warn_bad_lines, delim_whitespace, low_memory, memory_map, float_precision)\u001b[0m\n\u001b[1;32m    686\u001b[0m     )\n\u001b[1;32m    687\u001b[0m \u001b[0;34m\u001b[0m\u001b[0m\n\u001b[0;32m--> 688\u001b[0;31m     \u001b[0;32mreturn\u001b[0m \u001b[0m_read\u001b[0m\u001b[0;34m(\u001b[0m\u001b[0mfilepath_or_buffer\u001b[0m\u001b[0;34m,\u001b[0m \u001b[0mkwds\u001b[0m\u001b[0;34m)\u001b[0m\u001b[0;34m\u001b[0m\u001b[0;34m\u001b[0m\u001b[0m\n\u001b[0m\u001b[1;32m    689\u001b[0m \u001b[0;34m\u001b[0m\u001b[0m\n\u001b[1;32m    690\u001b[0m \u001b[0;34m\u001b[0m\u001b[0m\n",
      "\u001b[0;32m~/miniconda3/lib/python3.8/site-packages/pandas/io/parsers.py\u001b[0m in \u001b[0;36m_read\u001b[0;34m(filepath_or_buffer, kwds)\u001b[0m\n\u001b[1;32m    452\u001b[0m \u001b[0;34m\u001b[0m\u001b[0m\n\u001b[1;32m    453\u001b[0m     \u001b[0;31m# Create the parser.\u001b[0m\u001b[0;34m\u001b[0m\u001b[0;34m\u001b[0m\u001b[0;34m\u001b[0m\u001b[0m\n\u001b[0;32m--> 454\u001b[0;31m     \u001b[0mparser\u001b[0m \u001b[0;34m=\u001b[0m \u001b[0mTextFileReader\u001b[0m\u001b[0;34m(\u001b[0m\u001b[0mfp_or_buf\u001b[0m\u001b[0;34m,\u001b[0m \u001b[0;34m**\u001b[0m\u001b[0mkwds\u001b[0m\u001b[0;34m)\u001b[0m\u001b[0;34m\u001b[0m\u001b[0;34m\u001b[0m\u001b[0m\n\u001b[0m\u001b[1;32m    455\u001b[0m \u001b[0;34m\u001b[0m\u001b[0m\n\u001b[1;32m    456\u001b[0m     \u001b[0;32mif\u001b[0m \u001b[0mchunksize\u001b[0m \u001b[0;32mor\u001b[0m \u001b[0miterator\u001b[0m\u001b[0;34m:\u001b[0m\u001b[0;34m\u001b[0m\u001b[0;34m\u001b[0m\u001b[0m\n",
      "\u001b[0;32m~/miniconda3/lib/python3.8/site-packages/pandas/io/parsers.py\u001b[0m in \u001b[0;36m__init__\u001b[0;34m(self, f, engine, **kwds)\u001b[0m\n\u001b[1;32m    946\u001b[0m             \u001b[0mself\u001b[0m\u001b[0;34m.\u001b[0m\u001b[0moptions\u001b[0m\u001b[0;34m[\u001b[0m\u001b[0;34m\"has_index_names\"\u001b[0m\u001b[0;34m]\u001b[0m \u001b[0;34m=\u001b[0m \u001b[0mkwds\u001b[0m\u001b[0;34m[\u001b[0m\u001b[0;34m\"has_index_names\"\u001b[0m\u001b[0;34m]\u001b[0m\u001b[0;34m\u001b[0m\u001b[0;34m\u001b[0m\u001b[0m\n\u001b[1;32m    947\u001b[0m \u001b[0;34m\u001b[0m\u001b[0m\n\u001b[0;32m--> 948\u001b[0;31m         \u001b[0mself\u001b[0m\u001b[0;34m.\u001b[0m\u001b[0m_make_engine\u001b[0m\u001b[0;34m(\u001b[0m\u001b[0mself\u001b[0m\u001b[0;34m.\u001b[0m\u001b[0mengine\u001b[0m\u001b[0;34m)\u001b[0m\u001b[0;34m\u001b[0m\u001b[0;34m\u001b[0m\u001b[0m\n\u001b[0m\u001b[1;32m    949\u001b[0m \u001b[0;34m\u001b[0m\u001b[0m\n\u001b[1;32m    950\u001b[0m     \u001b[0;32mdef\u001b[0m \u001b[0mclose\u001b[0m\u001b[0;34m(\u001b[0m\u001b[0mself\u001b[0m\u001b[0;34m)\u001b[0m\u001b[0;34m:\u001b[0m\u001b[0;34m\u001b[0m\u001b[0;34m\u001b[0m\u001b[0m\n",
      "\u001b[0;32m~/miniconda3/lib/python3.8/site-packages/pandas/io/parsers.py\u001b[0m in \u001b[0;36m_make_engine\u001b[0;34m(self, engine)\u001b[0m\n\u001b[1;32m   1178\u001b[0m     \u001b[0;32mdef\u001b[0m \u001b[0m_make_engine\u001b[0m\u001b[0;34m(\u001b[0m\u001b[0mself\u001b[0m\u001b[0;34m,\u001b[0m \u001b[0mengine\u001b[0m\u001b[0;34m=\u001b[0m\u001b[0;34m\"c\"\u001b[0m\u001b[0;34m)\u001b[0m\u001b[0;34m:\u001b[0m\u001b[0;34m\u001b[0m\u001b[0;34m\u001b[0m\u001b[0m\n\u001b[1;32m   1179\u001b[0m         \u001b[0;32mif\u001b[0m \u001b[0mengine\u001b[0m \u001b[0;34m==\u001b[0m \u001b[0;34m\"c\"\u001b[0m\u001b[0;34m:\u001b[0m\u001b[0;34m\u001b[0m\u001b[0;34m\u001b[0m\u001b[0m\n\u001b[0;32m-> 1180\u001b[0;31m             \u001b[0mself\u001b[0m\u001b[0;34m.\u001b[0m\u001b[0m_engine\u001b[0m \u001b[0;34m=\u001b[0m \u001b[0mCParserWrapper\u001b[0m\u001b[0;34m(\u001b[0m\u001b[0mself\u001b[0m\u001b[0;34m.\u001b[0m\u001b[0mf\u001b[0m\u001b[0;34m,\u001b[0m \u001b[0;34m**\u001b[0m\u001b[0mself\u001b[0m\u001b[0;34m.\u001b[0m\u001b[0moptions\u001b[0m\u001b[0;34m)\u001b[0m\u001b[0;34m\u001b[0m\u001b[0;34m\u001b[0m\u001b[0m\n\u001b[0m\u001b[1;32m   1181\u001b[0m         \u001b[0;32melse\u001b[0m\u001b[0;34m:\u001b[0m\u001b[0;34m\u001b[0m\u001b[0;34m\u001b[0m\u001b[0m\n\u001b[1;32m   1182\u001b[0m             \u001b[0;32mif\u001b[0m \u001b[0mengine\u001b[0m \u001b[0;34m==\u001b[0m \u001b[0;34m\"python\"\u001b[0m\u001b[0;34m:\u001b[0m\u001b[0;34m\u001b[0m\u001b[0;34m\u001b[0m\u001b[0m\n",
      "\u001b[0;32m~/miniconda3/lib/python3.8/site-packages/pandas/io/parsers.py\u001b[0m in \u001b[0;36m__init__\u001b[0;34m(self, src, **kwds)\u001b[0m\n\u001b[1;32m   2008\u001b[0m         \u001b[0mkwds\u001b[0m\u001b[0;34m[\u001b[0m\u001b[0;34m\"usecols\"\u001b[0m\u001b[0;34m]\u001b[0m \u001b[0;34m=\u001b[0m \u001b[0mself\u001b[0m\u001b[0;34m.\u001b[0m\u001b[0musecols\u001b[0m\u001b[0;34m\u001b[0m\u001b[0;34m\u001b[0m\u001b[0m\n\u001b[1;32m   2009\u001b[0m \u001b[0;34m\u001b[0m\u001b[0m\n\u001b[0;32m-> 2010\u001b[0;31m         \u001b[0mself\u001b[0m\u001b[0;34m.\u001b[0m\u001b[0m_reader\u001b[0m \u001b[0;34m=\u001b[0m \u001b[0mparsers\u001b[0m\u001b[0;34m.\u001b[0m\u001b[0mTextReader\u001b[0m\u001b[0;34m(\u001b[0m\u001b[0msrc\u001b[0m\u001b[0;34m,\u001b[0m \u001b[0;34m**\u001b[0m\u001b[0mkwds\u001b[0m\u001b[0;34m)\u001b[0m\u001b[0;34m\u001b[0m\u001b[0;34m\u001b[0m\u001b[0m\n\u001b[0m\u001b[1;32m   2011\u001b[0m         \u001b[0mself\u001b[0m\u001b[0;34m.\u001b[0m\u001b[0munnamed_cols\u001b[0m \u001b[0;34m=\u001b[0m \u001b[0mself\u001b[0m\u001b[0;34m.\u001b[0m\u001b[0m_reader\u001b[0m\u001b[0;34m.\u001b[0m\u001b[0munnamed_cols\u001b[0m\u001b[0;34m\u001b[0m\u001b[0;34m\u001b[0m\u001b[0m\n\u001b[1;32m   2012\u001b[0m \u001b[0;34m\u001b[0m\u001b[0m\n",
      "\u001b[0;32mpandas/_libs/parsers.pyx\u001b[0m in \u001b[0;36mpandas._libs.parsers.TextReader.__cinit__\u001b[0;34m()\u001b[0m\n",
      "\u001b[0;32mpandas/_libs/parsers.pyx\u001b[0m in \u001b[0;36mpandas._libs.parsers.TextReader._setup_parser_source\u001b[0;34m()\u001b[0m\n",
      "\u001b[0;31mFileNotFoundError\u001b[0m: [Errno 2] No such file or directory: 'HeLa/ayu/new/P value 0.05.csv'"
     ]
    }
   ],
   "source": [
    "import pandas as pd\n",
    "data = pd.read_csv(\"HeLa/ayu/new/P value 0.05.csv\")\n",
    "data.head(2)\n",
    "data.shape"
   ]
  },
  {
   "cell_type": "code",
   "execution_count": null,
   "metadata": {
    "id": "jbuKng5vPagb"
   },
   "outputs": [],
   "source": [
    "df=pd.DataFrame(data)\n",
    "X = df.iloc[:, :32]\n",
    "y = df.iloc[:, 33]"
   ]
  },
  {
   "cell_type": "code",
   "execution_count": null,
   "metadata": {
    "id": "yliethS1Pagb",
    "outputId": "a0ac86f7-9334-4abf-deee-ccf7bf5eede3"
   },
   "outputs": [
    {
     "name": "stdout",
     "output_type": "stream",
     "text": [
      "[2 2 2 2 2 2 2 2 1 1 1 1 0 0 0 0 0 0 0]\n"
     ]
    }
   ],
   "source": [
    "from sklearn import preprocessing\n",
    "le = preprocessing.LabelEncoder()\n",
    "le.fit(y)\n",
    "list(le.classes_)\n",
    "values=le.transform(y)\n",
    "print(values)"
   ]
  },
  {
   "cell_type": "code",
   "execution_count": null,
   "metadata": {
    "id": "ShKBhckkPagb",
    "outputId": "ed2c4855-3e26-4a4c-aac0-b5564fa8d6ee"
   },
   "outputs": [
    {
     "data": {
      "text/plain": [
       "[array([0, 1, 2])]"
      ]
     },
     "execution_count": 12,
     "metadata": {
      "tags": []
     },
     "output_type": "execute_result"
    }
   ],
   "source": [
    "from sklearn.preprocessing import OneHotEncoder\n",
    "enc = OneHotEncoder(handle_unknown='ignore')\n",
    "enc.fit(le.transform(y).reshape(-1,1))\n",
    "enc.categories_\n",
    "#print(enc.transform(le.transform(y).reshape(-1,1)))"
   ]
  },
  {
   "cell_type": "code",
   "execution_count": null,
   "metadata": {
    "id": "T9ukyvUQPagc"
   },
   "outputs": [],
   "source": [
    "#print(np.array(tf.one_hot(le.transform(y), depth=3)))\n",
    "#vocabulary_feature_column =  tf.feature_column.categorical_column_with_vocabulary_list(key=[\"P\", \"V\", \"K\"],vocabulary_list=[\"P\", \"V\", \"K\"])\n",
    "import numpy as np\n",
    "n_values = np.max(values) + 1\n",
    "Y=np.eye(n_values)[values]"
   ]
  },
  {
   "cell_type": "code",
   "execution_count": null,
   "metadata": {
    "id": "1kLJcxIgPagc",
    "outputId": "f7f38d72-732f-4ec3-9fc1-3edcb4baf09c"
   },
   "outputs": [
    {
     "data": {
      "text/html": [
       "<div>\n",
       "<style scoped>\n",
       "    .dataframe tbody tr th:only-of-type {\n",
       "        vertical-align: middle;\n",
       "    }\n",
       "\n",
       "    .dataframe tbody tr th {\n",
       "        vertical-align: top;\n",
       "    }\n",
       "\n",
       "    .dataframe thead th {\n",
       "        text-align: right;\n",
       "    }\n",
       "</style>\n",
       "<table border=\"1\" class=\"dataframe\">\n",
       "  <thead>\n",
       "    <tr style=\"text-align: right;\">\n",
       "      <th></th>\n",
       "      <th>0</th>\n",
       "      <th>1</th>\n",
       "      <th>2</th>\n",
       "    </tr>\n",
       "  </thead>\n",
       "  <tbody>\n",
       "    <tr>\n",
       "      <th>10</th>\n",
       "      <td>0.0</td>\n",
       "      <td>1.0</td>\n",
       "      <td>0.0</td>\n",
       "    </tr>\n",
       "    <tr>\n",
       "      <th>1</th>\n",
       "      <td>0.0</td>\n",
       "      <td>0.0</td>\n",
       "      <td>1.0</td>\n",
       "    </tr>\n",
       "  </tbody>\n",
       "</table>\n",
       "</div>"
      ],
      "text/plain": [
       "      0    1    2\n",
       "10  0.0  1.0  0.0\n",
       "1   0.0  0.0  1.0"
      ]
     },
     "execution_count": 14,
     "metadata": {
      "tags": []
     },
     "output_type": "execute_result"
    }
   ],
   "source": [
    "#Y=pd.DataFrame(np.array(tf.one_hot(le.transform(y), depth=3)))\n",
    "Y=pd.DataFrame(Y)\n",
    "from sklearn.model_selection import train_test_split\n",
    "X_train, X_test, Y_train, Y_test = train_test_split(X, Y, test_size = 0.1, random_state = 0)\n",
    "X_train.to_csv(\"X_train.csv\", index = False, header = None)\n",
    "X_test.to_csv(\"X_test.csv\", index = False, header = None)\n",
    "Y_train.to_csv(\"Y_train.csv\", index = False, header = None)\n",
    "Y_test.to_csv(\"Y_test.csv\", index = False, header = None)\n",
    "Y_test.head()"
   ]
  },
  {
   "cell_type": "code",
   "execution_count": null,
   "metadata": {
    "id": "bCfeiN16Pagd",
    "outputId": "0e12321c-1431-43c6-f78d-53352c6b3f85"
   },
   "outputs": [
    {
     "name": "stderr",
     "output_type": "stream",
     "text": [
      "/opt/conda/lib/python3.6/site-packages/sklearn/preprocessing/data.py:645: DataConversionWarning: Data with input dtype int64 were all converted to float64 by StandardScaler.\n",
      "  return self.partial_fit(X, y)\n",
      "/opt/conda/lib/python3.6/site-packages/sklearn/base.py:464: DataConversionWarning: Data with input dtype int64 were all converted to float64 by StandardScaler.\n",
      "  return self.fit(X, **fit_params).transform(X)\n",
      "/opt/conda/lib/python3.6/site-packages/ipykernel_launcher.py:4: DataConversionWarning: Data with input dtype int64 were all converted to float64 by StandardScaler.\n",
      "  after removing the cwd from sys.path.\n"
     ]
    },
    {
     "data": {
      "text/plain": [
       "(32, 3)"
      ]
     },
     "execution_count": 15,
     "metadata": {
      "tags": []
     },
     "output_type": "execute_result"
    }
   ],
   "source": [
    "from sklearn.preprocessing import StandardScaler\n",
    "scaler = StandardScaler()\n",
    "X_train = scaler.fit_transform(X_train)\n",
    "X_test = scaler.transform(X_test)\n",
    "X_train.shape[1],Y_train.shape[1] "
   ]
  },
  {
   "cell_type": "code",
   "execution_count": null,
   "metadata": {
    "id": "LagqijsbPagd",
    "outputId": "c5478f63-ae08-4595-833e-915fd7ae137c"
   },
   "outputs": [
    {
     "name": "stderr",
     "output_type": "stream",
     "text": [
      "Using TensorFlow backend.\n"
     ]
    }
   ],
   "source": [
    "from keras.models import Sequential\n",
    "from keras.layers import Dense"
   ]
  },
  {
   "cell_type": "code",
   "execution_count": null,
   "metadata": {
    "id": "8nOjXMrAPage",
    "outputId": "3cd5989b-a74b-41a8-93e8-f67760081d7b"
   },
   "outputs": [
    {
     "name": "stdout",
     "output_type": "stream",
     "text": [
      "WARNING:tensorflow:From /opt/conda/lib/python3.6/site-packages/tensorflow/python/framework/op_def_library.py:263: colocate_with (from tensorflow.python.framework.ops) is deprecated and will be removed in a future version.\n",
      "Instructions for updating:\n",
      "Colocations handled automatically by placer.\n"
     ]
    }
   ],
   "source": [
    "classifier = Sequential()\n",
    "classifier.add(Dense(units = 9, activation = 'relu', input_dim=X_train.shape[1]))\n",
    "classifier.add(Dense(units = 6, activation = 'relu'))\n",
    "classifier.add(Dense(units = Y_train.shape[1] , activation = 'sigmoid'))"
   ]
  },
  {
   "cell_type": "code",
   "execution_count": null,
   "metadata": {
    "id": "r5IoIgykPage"
   },
   "outputs": [],
   "source": [
    "classifier.compile(optimizer='adam', loss='mean_squared_error', metrics=['accuracy'])"
   ]
  },
  {
   "cell_type": "code",
   "execution_count": null,
   "metadata": {
    "id": "ROoLK5mKPagf",
    "outputId": "01c4890f-af50-4aae-c07b-061b6fd3838f"
   },
   "outputs": [
    {
     "name": "stdout",
     "output_type": "stream",
     "text": [
      "WARNING:tensorflow:From /opt/conda/lib/python3.6/site-packages/tensorflow/python/ops/math_ops.py:3066: to_int32 (from tensorflow.python.ops.math_ops) is deprecated and will be removed in a future version.\n",
      "Instructions for updating:\n",
      "Use tf.cast instead.\n",
      "Epoch 1/100\n",
      "17/17 [==============================] - 1s 68ms/step - loss: 0.3649 - acc: 0.1176\n",
      "Epoch 2/100\n",
      "17/17 [==============================] - 0s 195us/step - loss: 0.3613 - acc: 0.1176\n",
      "Epoch 3/100\n",
      "17/17 [==============================] - 0s 179us/step - loss: 0.3578 - acc: 0.1765\n",
      "Epoch 4/100\n",
      "17/17 [==============================] - 0s 167us/step - loss: 0.3544 - acc: 0.1765\n",
      "Epoch 5/100\n",
      "17/17 [==============================] - 0s 160us/step - loss: 0.3510 - acc: 0.1765\n",
      "Epoch 6/100\n",
      "17/17 [==============================] - 0s 156us/step - loss: 0.3479 - acc: 0.2353\n",
      "Epoch 7/100\n",
      "17/17 [==============================] - 0s 158us/step - loss: 0.3450 - acc: 0.2353\n",
      "Epoch 8/100\n",
      "17/17 [==============================] - 0s 163us/step - loss: 0.3422 - acc: 0.2353\n",
      "Epoch 9/100\n",
      "17/17 [==============================] - 0s 160us/step - loss: 0.3393 - acc: 0.2353\n",
      "Epoch 10/100\n",
      "17/17 [==============================] - 0s 167us/step - loss: 0.3365 - acc: 0.2353\n",
      "Epoch 11/100\n",
      "17/17 [==============================] - 0s 151us/step - loss: 0.3338 - acc: 0.2353\n",
      "Epoch 12/100\n",
      "17/17 [==============================] - 0s 151us/step - loss: 0.3312 - acc: 0.2353\n",
      "Epoch 13/100\n",
      "17/17 [==============================] - 0s 174us/step - loss: 0.3285 - acc: 0.2353\n",
      "Epoch 14/100\n",
      "17/17 [==============================] - 0s 166us/step - loss: 0.3259 - acc: 0.2353\n",
      "Epoch 15/100\n",
      "17/17 [==============================] - 0s 158us/step - loss: 0.3233 - acc: 0.2353\n",
      "Epoch 16/100\n",
      "17/17 [==============================] - 0s 158us/step - loss: 0.3206 - acc: 0.2353\n",
      "Epoch 17/100\n",
      "17/17 [==============================] - 0s 164us/step - loss: 0.3180 - acc: 0.2353\n",
      "Epoch 18/100\n",
      "17/17 [==============================] - 0s 165us/step - loss: 0.3154 - acc: 0.2353\n",
      "Epoch 19/100\n",
      "17/17 [==============================] - 0s 156us/step - loss: 0.3128 - acc: 0.2353\n",
      "Epoch 20/100\n",
      "17/17 [==============================] - 0s 164us/step - loss: 0.3102 - acc: 0.2353\n",
      "Epoch 21/100\n",
      "17/17 [==============================] - 0s 162us/step - loss: 0.3077 - acc: 0.2353\n",
      "Epoch 22/100\n",
      "17/17 [==============================] - 0s 159us/step - loss: 0.3053 - acc: 0.2353\n",
      "Epoch 23/100\n",
      "17/17 [==============================] - 0s 158us/step - loss: 0.3031 - acc: 0.2353\n",
      "Epoch 24/100\n",
      "17/17 [==============================] - 0s 167us/step - loss: 0.3010 - acc: 0.2353\n",
      "Epoch 25/100\n",
      "17/17 [==============================] - 0s 158us/step - loss: 0.2989 - acc: 0.2353\n",
      "Epoch 26/100\n",
      "17/17 [==============================] - 0s 158us/step - loss: 0.2968 - acc: 0.2353\n",
      "Epoch 27/100\n",
      "17/17 [==============================] - 0s 152us/step - loss: 0.2947 - acc: 0.2353\n",
      "Epoch 28/100\n",
      "17/17 [==============================] - 0s 161us/step - loss: 0.2925 - acc: 0.2941\n",
      "Epoch 29/100\n",
      "17/17 [==============================] - 0s 161us/step - loss: 0.2904 - acc: 0.2941\n",
      "Epoch 30/100\n",
      "17/17 [==============================] - 0s 162us/step - loss: 0.2883 - acc: 0.2941\n",
      "Epoch 31/100\n",
      "17/17 [==============================] - 0s 160us/step - loss: 0.2862 - acc: 0.2941\n",
      "Epoch 32/100\n",
      "17/17 [==============================] - 0s 166us/step - loss: 0.2841 - acc: 0.3529\n",
      "Epoch 33/100\n",
      "17/17 [==============================] - 0s 160us/step - loss: 0.2820 - acc: 0.3529\n",
      "Epoch 34/100\n",
      "17/17 [==============================] - 0s 161us/step - loss: 0.2801 - acc: 0.3529\n",
      "Epoch 35/100\n",
      "17/17 [==============================] - 0s 160us/step - loss: 0.2781 - acc: 0.3529\n",
      "Epoch 36/100\n",
      "17/17 [==============================] - 0s 161us/step - loss: 0.2763 - acc: 0.3529\n",
      "Epoch 37/100\n",
      "17/17 [==============================] - 0s 170us/step - loss: 0.2745 - acc: 0.3529\n",
      "Epoch 38/100\n",
      "17/17 [==============================] - 0s 160us/step - loss: 0.2727 - acc: 0.3529\n",
      "Epoch 39/100\n",
      "17/17 [==============================] - 0s 165us/step - loss: 0.2709 - acc: 0.4118\n",
      "Epoch 40/100\n",
      "17/17 [==============================] - 0s 158us/step - loss: 0.2691 - acc: 0.4118\n",
      "Epoch 41/100\n",
      "17/17 [==============================] - 0s 153us/step - loss: 0.2674 - acc: 0.4118\n",
      "Epoch 42/100\n",
      "17/17 [==============================] - 0s 145us/step - loss: 0.2658 - acc: 0.4118\n",
      "Epoch 43/100\n",
      "17/17 [==============================] - 0s 160us/step - loss: 0.2643 - acc: 0.4118\n",
      "Epoch 44/100\n",
      "17/17 [==============================] - 0s 165us/step - loss: 0.2628 - acc: 0.4118\n",
      "Epoch 45/100\n",
      "17/17 [==============================] - 0s 166us/step - loss: 0.2613 - acc: 0.4118\n",
      "Epoch 46/100\n",
      "17/17 [==============================] - 0s 178us/step - loss: 0.2599 - acc: 0.4118\n",
      "Epoch 47/100\n",
      "17/17 [==============================] - 0s 155us/step - loss: 0.2584 - acc: 0.4118\n",
      "Epoch 48/100\n",
      "17/17 [==============================] - 0s 171us/step - loss: 0.2570 - acc: 0.4118\n",
      "Epoch 49/100\n",
      "17/17 [==============================] - 0s 198us/step - loss: 0.2555 - acc: 0.4118\n",
      "Epoch 50/100\n",
      "17/17 [==============================] - 0s 184us/step - loss: 0.2541 - acc: 0.4118\n",
      "Epoch 51/100\n",
      "17/17 [==============================] - 0s 173us/step - loss: 0.2527 - acc: 0.4118\n",
      "Epoch 52/100\n",
      "17/17 [==============================] - 0s 171us/step - loss: 0.2513 - acc: 0.4118\n",
      "Epoch 53/100\n",
      "17/17 [==============================] - 0s 193us/step - loss: 0.2499 - acc: 0.4118\n",
      "Epoch 54/100\n",
      "17/17 [==============================] - 0s 172us/step - loss: 0.2485 - acc: 0.4118\n",
      "Epoch 55/100\n",
      "17/17 [==============================] - 0s 180us/step - loss: 0.2471 - acc: 0.4118\n",
      "Epoch 56/100\n",
      "17/17 [==============================] - 0s 168us/step - loss: 0.2458 - acc: 0.4118\n",
      "Epoch 57/100\n",
      "17/17 [==============================] - 0s 184us/step - loss: 0.2446 - acc: 0.4118\n",
      "Epoch 58/100\n",
      "17/17 [==============================] - 0s 174us/step - loss: 0.2434 - acc: 0.4118\n",
      "Epoch 59/100\n",
      "17/17 [==============================] - 0s 193us/step - loss: 0.2423 - acc: 0.4118\n",
      "Epoch 60/100\n",
      "17/17 [==============================] - 0s 160us/step - loss: 0.2411 - acc: 0.4118\n",
      "Epoch 61/100\n",
      "17/17 [==============================] - 0s 178us/step - loss: 0.2400 - acc: 0.4118\n",
      "Epoch 62/100\n",
      "17/17 [==============================] - 0s 169us/step - loss: 0.2388 - acc: 0.4706\n",
      "Epoch 63/100\n",
      "17/17 [==============================] - 0s 161us/step - loss: 0.2377 - acc: 0.4706\n",
      "Epoch 64/100\n",
      "17/17 [==============================] - 0s 179us/step - loss: 0.2366 - acc: 0.4706\n",
      "Epoch 65/100\n",
      "17/17 [==============================] - 0s 177us/step - loss: 0.2356 - acc: 0.4706\n",
      "Epoch 66/100\n",
      "17/17 [==============================] - 0s 181us/step - loss: 0.2346 - acc: 0.4706\n",
      "Epoch 67/100\n",
      "17/17 [==============================] - 0s 180us/step - loss: 0.2336 - acc: 0.4706\n",
      "Epoch 68/100\n",
      "17/17 [==============================] - 0s 164us/step - loss: 0.2326 - acc: 0.4706\n",
      "Epoch 69/100\n",
      "17/17 [==============================] - 0s 195us/step - loss: 0.2316 - acc: 0.4706\n",
      "Epoch 70/100\n",
      "17/17 [==============================] - 0s 177us/step - loss: 0.2306 - acc: 0.4706\n",
      "Epoch 71/100\n",
      "17/17 [==============================] - 0s 185us/step - loss: 0.2297 - acc: 0.4706\n",
      "Epoch 72/100\n",
      "17/17 [==============================] - 0s 154us/step - loss: 0.2288 - acc: 0.4706\n",
      "Epoch 73/100\n",
      "17/17 [==============================] - 0s 187us/step - loss: 0.2279 - acc: 0.4706\n",
      "Epoch 74/100\n",
      "17/17 [==============================] - 0s 164us/step - loss: 0.2270 - acc: 0.4706\n",
      "Epoch 75/100\n",
      "17/17 [==============================] - 0s 162us/step - loss: 0.2262 - acc: 0.4706\n",
      "Epoch 76/100\n",
      "17/17 [==============================] - 0s 196us/step - loss: 0.2254 - acc: 0.4706\n",
      "Epoch 77/100\n",
      "17/17 [==============================] - 0s 188us/step - loss: 0.2246 - acc: 0.4706\n",
      "Epoch 78/100\n",
      "17/17 [==============================] - 0s 181us/step - loss: 0.2238 - acc: 0.4706\n",
      "Epoch 79/100\n",
      "17/17 [==============================] - 0s 188us/step - loss: 0.2229 - acc: 0.4706\n",
      "Epoch 80/100\n",
      "17/17 [==============================] - 0s 162us/step - loss: 0.2221 - acc: 0.4706\n",
      "Epoch 81/100\n",
      "17/17 [==============================] - 0s 164us/step - loss: 0.2213 - acc: 0.4706\n",
      "Epoch 82/100\n",
      "17/17 [==============================] - 0s 187us/step - loss: 0.2205 - acc: 0.4706\n",
      "Epoch 83/100\n",
      "17/17 [==============================] - 0s 164us/step - loss: 0.2197 - acc: 0.4706\n",
      "Epoch 84/100\n",
      "17/17 [==============================] - 0s 174us/step - loss: 0.2189 - acc: 0.4706\n",
      "Epoch 85/100\n",
      "17/17 [==============================] - 0s 190us/step - loss: 0.2181 - acc: 0.4706\n",
      "Epoch 86/100\n",
      "17/17 [==============================] - 0s 171us/step - loss: 0.2173 - acc: 0.4706\n",
      "Epoch 87/100\n",
      "17/17 [==============================] - 0s 160us/step - loss: 0.2166 - acc: 0.4706\n",
      "Epoch 88/100\n",
      "17/17 [==============================] - 0s 179us/step - loss: 0.2158 - acc: 0.4706\n",
      "Epoch 89/100\n",
      "17/17 [==============================] - 0s 175us/step - loss: 0.2151 - acc: 0.4706\n",
      "Epoch 90/100\n",
      "17/17 [==============================] - 0s 191us/step - loss: 0.2144 - acc: 0.4706\n",
      "Epoch 91/100\n",
      "17/17 [==============================] - 0s 149us/step - loss: 0.2137 - acc: 0.4706\n",
      "Epoch 92/100\n",
      "17/17 [==============================] - 0s 184us/step - loss: 0.2130 - acc: 0.4706\n",
      "Epoch 93/100\n",
      "17/17 [==============================] - 0s 166us/step - loss: 0.2122 - acc: 0.4706\n",
      "Epoch 94/100\n",
      "17/17 [==============================] - 0s 175us/step - loss: 0.2114 - acc: 0.5294\n",
      "Epoch 95/100\n",
      "17/17 [==============================] - 0s 199us/step - loss: 0.2106 - acc: 0.5294\n",
      "Epoch 96/100\n",
      "17/17 [==============================] - 0s 164us/step - loss: 0.2098 - acc: 0.5294\n",
      "Epoch 97/100\n",
      "17/17 [==============================] - 0s 161us/step - loss: 0.2090 - acc: 0.5294\n",
      "Epoch 98/100\n",
      "17/17 [==============================] - 0s 161us/step - loss: 0.2083 - acc: 0.5294\n",
      "Epoch 99/100\n",
      "17/17 [==============================] - 0s 181us/step - loss: 0.2075 - acc: 0.5294\n",
      "Epoch 100/100\n",
      "17/17 [==============================] - 0s 191us/step - loss: 0.2067 - acc: 0.5294\n"
     ]
    },
    {
     "data": {
      "text/plain": [
       "<keras.callbacks.History at 0x7fa3dc094358>"
      ]
     },
     "execution_count": 19,
     "metadata": {
      "tags": []
     },
     "output_type": "execute_result"
    }
   ],
   "source": [
    "classifier.fit(X_train, Y_train, batch_size = X_train.shape[1],epochs = 100)"
   ]
  },
  {
   "cell_type": "code",
   "execution_count": null,
   "metadata": {
    "id": "wDA4ccHwPagf",
    "outputId": "b29b9d9d-9433-4590-85d0-302dfed5c9f0"
   },
   "outputs": [
    {
     "data": {
      "text/plain": [
       "array([[0, 1, 0],\n",
       "       [0, 0, 1]])"
      ]
     },
     "execution_count": 20,
     "metadata": {
      "tags": []
     },
     "output_type": "execute_result"
    }
   ],
   "source": [
    "Y_pred = classifier.predict(X_test)\n",
    "#Y_pred\n",
    "y_pred=(Y_pred.argmax(1)[:,None] == np.arange(Y_pred.shape[1])).astype(int)\n",
    "y_pred"
   ]
  },
  {
   "cell_type": "code",
   "execution_count": null,
   "metadata": {
    "id": "gNuFRQrfPagf",
    "outputId": "20170768-69b5-41a3-ff2e-84a8cd87d908"
   },
   "outputs": [
    {
     "data": {
      "text/plain": [
       "array([[0, 1, 0],\n",
       "       [0, 0, 1]])"
      ]
     },
     "execution_count": 21,
     "metadata": {
      "tags": []
     },
     "output_type": "execute_result"
    }
   ],
   "source": [
    "y_test=Y_test.values\n",
    "y_test=(y_test.argmax(1)[:,None] == np.arange(y_test.shape[1])).astype(int)\n",
    "y_test"
   ]
  },
  {
   "cell_type": "code",
   "execution_count": null,
   "metadata": {
    "id": "q3X9iJ-OPagg",
    "outputId": "02da01ce-6090-457e-c87b-9aeb5164b52e"
   },
   "outputs": [
    {
     "data": {
      "text/plain": [
       "array([[1, 0],\n",
       "       [0, 1]])"
      ]
     },
     "execution_count": 23,
     "metadata": {
      "tags": []
     },
     "output_type": "execute_result"
    }
   ],
   "source": [
    "from sklearn.metrics import confusion_matrix\n",
    "cm = confusion_matrix(y_test.argmax(axis=1), y_pred.argmax(axis=1))\n",
    "cm"
   ]
  },
  {
   "cell_type": "code",
   "execution_count": 2,
   "metadata": {
    "colab": {
     "base_uri": "https://localhost:8080/"
    },
    "executionInfo": {
     "elapsed": 7817,
     "status": "ok",
     "timestamp": 1622535431785,
     "user": {
      "displayName": "Animesh Sharma",
      "photoUrl": "https://lh3.googleusercontent.com/a-/AOh14GgtBEA8HpNXZlxHZ_XN2a7ZU56EZ5DMTqQk-tsov3Y=s64",
      "userId": "07446072663021710031"
     },
     "user_tz": -120
    },
    "id": "0mmresxZPagg",
    "outputId": "01f1b74b-0dab-44cf-d22a-f2ac36afa465"
   },
   "outputs": [
    {
     "name": "stdout",
     "output_type": "stream",
     "text": [
      "Collecting tensorflow_decision_forests\n",
      "\u001b[?25l  Downloading https://files.pythonhosted.org/packages/ef/1e/7d2c17018512c8e6d583ccea433eecd5e93c18c7e273bc896a857789a098/tensorflow_decision_forests-0.1.5-cp37-cp37m-manylinux_2_12_x86_64.manylinux2010_x86_64.whl (6.2MB)\n",
      "\u001b[K     |████████████████████████████████| 6.2MB 5.9MB/s \n",
      "\u001b[?25hRequirement already satisfied: six in /usr/local/lib/python3.7/dist-packages (from tensorflow_decision_forests) (1.15.0)\n",
      "Requirement already satisfied: pandas in /usr/local/lib/python3.7/dist-packages (from tensorflow_decision_forests) (1.1.5)\n",
      "Requirement already satisfied: numpy in /usr/local/lib/python3.7/dist-packages (from tensorflow_decision_forests) (1.19.5)\n",
      "Requirement already satisfied: wheel in /usr/local/lib/python3.7/dist-packages (from tensorflow_decision_forests) (0.36.2)\n",
      "Requirement already satisfied: tensorflow~=2.5 in /usr/local/lib/python3.7/dist-packages (from tensorflow_decision_forests) (2.5.0)\n",
      "Requirement already satisfied: absl-py in /usr/local/lib/python3.7/dist-packages (from tensorflow_decision_forests) (0.12.0)\n",
      "Requirement already satisfied: pytz>=2017.2 in /usr/local/lib/python3.7/dist-packages (from pandas->tensorflow_decision_forests) (2018.9)\n",
      "Requirement already satisfied: python-dateutil>=2.7.3 in /usr/local/lib/python3.7/dist-packages (from pandas->tensorflow_decision_forests) (2.8.1)\n",
      "Requirement already satisfied: astunparse~=1.6.3 in /usr/local/lib/python3.7/dist-packages (from tensorflow~=2.5->tensorflow_decision_forests) (1.6.3)\n",
      "Requirement already satisfied: typing-extensions~=3.7.4 in /usr/local/lib/python3.7/dist-packages (from tensorflow~=2.5->tensorflow_decision_forests) (3.7.4.3)\n",
      "Requirement already satisfied: tensorboard~=2.5 in /usr/local/lib/python3.7/dist-packages (from tensorflow~=2.5->tensorflow_decision_forests) (2.5.0)\n",
      "Requirement already satisfied: wrapt~=1.12.1 in /usr/local/lib/python3.7/dist-packages (from tensorflow~=2.5->tensorflow_decision_forests) (1.12.1)\n",
      "Requirement already satisfied: protobuf>=3.9.2 in /usr/local/lib/python3.7/dist-packages (from tensorflow~=2.5->tensorflow_decision_forests) (3.12.4)\n",
      "Requirement already satisfied: google-pasta~=0.2 in /usr/local/lib/python3.7/dist-packages (from tensorflow~=2.5->tensorflow_decision_forests) (0.2.0)\n",
      "Requirement already satisfied: keras-preprocessing~=1.1.2 in /usr/local/lib/python3.7/dist-packages (from tensorflow~=2.5->tensorflow_decision_forests) (1.1.2)\n",
      "Requirement already satisfied: h5py~=3.1.0 in /usr/local/lib/python3.7/dist-packages (from tensorflow~=2.5->tensorflow_decision_forests) (3.1.0)\n",
      "Requirement already satisfied: gast==0.4.0 in /usr/local/lib/python3.7/dist-packages (from tensorflow~=2.5->tensorflow_decision_forests) (0.4.0)\n",
      "Requirement already satisfied: termcolor~=1.1.0 in /usr/local/lib/python3.7/dist-packages (from tensorflow~=2.5->tensorflow_decision_forests) (1.1.0)\n",
      "Requirement already satisfied: flatbuffers~=1.12.0 in /usr/local/lib/python3.7/dist-packages (from tensorflow~=2.5->tensorflow_decision_forests) (1.12)\n",
      "Requirement already satisfied: tensorflow-estimator<2.6.0,>=2.5.0rc0 in /usr/local/lib/python3.7/dist-packages (from tensorflow~=2.5->tensorflow_decision_forests) (2.5.0)\n",
      "Requirement already satisfied: keras-nightly~=2.5.0.dev in /usr/local/lib/python3.7/dist-packages (from tensorflow~=2.5->tensorflow_decision_forests) (2.5.0.dev2021032900)\n",
      "Requirement already satisfied: grpcio~=1.34.0 in /usr/local/lib/python3.7/dist-packages (from tensorflow~=2.5->tensorflow_decision_forests) (1.34.1)\n",
      "Requirement already satisfied: opt-einsum~=3.3.0 in /usr/local/lib/python3.7/dist-packages (from tensorflow~=2.5->tensorflow_decision_forests) (3.3.0)\n",
      "Requirement already satisfied: google-auth<2,>=1.6.3 in /usr/local/lib/python3.7/dist-packages (from tensorboard~=2.5->tensorflow~=2.5->tensorflow_decision_forests) (1.30.0)\n",
      "Requirement already satisfied: markdown>=2.6.8 in /usr/local/lib/python3.7/dist-packages (from tensorboard~=2.5->tensorflow~=2.5->tensorflow_decision_forests) (3.3.4)\n",
      "Requirement already satisfied: requests<3,>=2.21.0 in /usr/local/lib/python3.7/dist-packages (from tensorboard~=2.5->tensorflow~=2.5->tensorflow_decision_forests) (2.23.0)\n",
      "Requirement already satisfied: tensorboard-plugin-wit>=1.6.0 in /usr/local/lib/python3.7/dist-packages (from tensorboard~=2.5->tensorflow~=2.5->tensorflow_decision_forests) (1.8.0)\n",
      "Requirement already satisfied: werkzeug>=0.11.15 in /usr/local/lib/python3.7/dist-packages (from tensorboard~=2.5->tensorflow~=2.5->tensorflow_decision_forests) (1.0.1)\n",
      "Requirement already satisfied: setuptools>=41.0.0 in /usr/local/lib/python3.7/dist-packages (from tensorboard~=2.5->tensorflow~=2.5->tensorflow_decision_forests) (56.1.0)\n",
      "Requirement already satisfied: tensorboard-data-server<0.7.0,>=0.6.0 in /usr/local/lib/python3.7/dist-packages (from tensorboard~=2.5->tensorflow~=2.5->tensorflow_decision_forests) (0.6.1)\n",
      "Requirement already satisfied: google-auth-oauthlib<0.5,>=0.4.1 in /usr/local/lib/python3.7/dist-packages (from tensorboard~=2.5->tensorflow~=2.5->tensorflow_decision_forests) (0.4.4)\n",
      "Requirement already satisfied: cached-property; python_version < \"3.8\" in /usr/local/lib/python3.7/dist-packages (from h5py~=3.1.0->tensorflow~=2.5->tensorflow_decision_forests) (1.5.2)\n",
      "Requirement already satisfied: rsa<5,>=3.1.4; python_version >= \"3.6\" in /usr/local/lib/python3.7/dist-packages (from google-auth<2,>=1.6.3->tensorboard~=2.5->tensorflow~=2.5->tensorflow_decision_forests) (4.7.2)\n",
      "Requirement already satisfied: pyasn1-modules>=0.2.1 in /usr/local/lib/python3.7/dist-packages (from google-auth<2,>=1.6.3->tensorboard~=2.5->tensorflow~=2.5->tensorflow_decision_forests) (0.2.8)\n",
      "Requirement already satisfied: cachetools<5.0,>=2.0.0 in /usr/local/lib/python3.7/dist-packages (from google-auth<2,>=1.6.3->tensorboard~=2.5->tensorflow~=2.5->tensorflow_decision_forests) (4.2.2)\n",
      "Requirement already satisfied: importlib-metadata; python_version < \"3.8\" in /usr/local/lib/python3.7/dist-packages (from markdown>=2.6.8->tensorboard~=2.5->tensorflow~=2.5->tensorflow_decision_forests) (4.0.1)\n",
      "Requirement already satisfied: chardet<4,>=3.0.2 in /usr/local/lib/python3.7/dist-packages (from requests<3,>=2.21.0->tensorboard~=2.5->tensorflow~=2.5->tensorflow_decision_forests) (3.0.4)\n",
      "Requirement already satisfied: urllib3!=1.25.0,!=1.25.1,<1.26,>=1.21.1 in /usr/local/lib/python3.7/dist-packages (from requests<3,>=2.21.0->tensorboard~=2.5->tensorflow~=2.5->tensorflow_decision_forests) (1.24.3)\n",
      "Requirement already satisfied: idna<3,>=2.5 in /usr/local/lib/python3.7/dist-packages (from requests<3,>=2.21.0->tensorboard~=2.5->tensorflow~=2.5->tensorflow_decision_forests) (2.10)\n",
      "Requirement already satisfied: certifi>=2017.4.17 in /usr/local/lib/python3.7/dist-packages (from requests<3,>=2.21.0->tensorboard~=2.5->tensorflow~=2.5->tensorflow_decision_forests) (2020.12.5)\n",
      "Requirement already satisfied: requests-oauthlib>=0.7.0 in /usr/local/lib/python3.7/dist-packages (from google-auth-oauthlib<0.5,>=0.4.1->tensorboard~=2.5->tensorflow~=2.5->tensorflow_decision_forests) (1.3.0)\n",
      "Requirement already satisfied: pyasn1>=0.1.3 in /usr/local/lib/python3.7/dist-packages (from rsa<5,>=3.1.4; python_version >= \"3.6\"->google-auth<2,>=1.6.3->tensorboard~=2.5->tensorflow~=2.5->tensorflow_decision_forests) (0.4.8)\n",
      "Requirement already satisfied: zipp>=0.5 in /usr/local/lib/python3.7/dist-packages (from importlib-metadata; python_version < \"3.8\"->markdown>=2.6.8->tensorboard~=2.5->tensorflow~=2.5->tensorflow_decision_forests) (3.4.1)\n",
      "Requirement already satisfied: oauthlib>=3.0.0 in /usr/local/lib/python3.7/dist-packages (from requests-oauthlib>=0.7.0->google-auth-oauthlib<0.5,>=0.4.1->tensorboard~=2.5->tensorflow~=2.5->tensorflow_decision_forests) (3.1.0)\n",
      "Installing collected packages: tensorflow-decision-forests\n",
      "Successfully installed tensorflow-decision-forests-0.1.5\n",
      "Collecting wurlitzer\n",
      "  Downloading https://files.pythonhosted.org/packages/68/ac/b7082c3d228e600af37ec5cf99697d400328b13350b4d7577c213fa4faca/wurlitzer-2.1.0-py2.py3-none-any.whl\n",
      "Installing collected packages: wurlitzer\n",
      "Successfully installed wurlitzer-2.1.0\n"
     ]
    }
   ],
   "source": [
    "# Install TensorFlow Dececision Forests.\n",
    "!pip install tensorflow_decision_forests\n",
    "# Use wurlitzer to capture training logs.\n",
    "!pip install wurlitzer"
   ]
  },
  {
   "cell_type": "code",
   "execution_count": 3,
   "metadata": {
    "executionInfo": {
     "elapsed": 2148,
     "status": "ok",
     "timestamp": 1622535438975,
     "user": {
      "displayName": "Animesh Sharma",
      "photoUrl": "https://lh3.googleusercontent.com/a-/AOh14GgtBEA8HpNXZlxHZ_XN2a7ZU56EZ5DMTqQk-tsov3Y=s64",
      "userId": "07446072663021710031"
     },
     "user_tz": -120
    },
    "id": "-2P8b4lgPagh"
   },
   "outputs": [],
   "source": [
    "import tensorflow_decision_forests as tfdf\n",
    "\n",
    "import os\n",
    "import numpy as np\n",
    "import pandas as pd\n",
    "import tensorflow as tf\n",
    "import math\n",
    "import collections\n",
    "try:\n",
    "  from wurlitzer import sys_pipes\n",
    "except:\n",
    "  from colabtools.googlelog import CaptureLog as sys_pipes\n",
    "from IPython.core.magic import register_line_magic\n",
    "from IPython.display import Javascript\n",
    "@register_line_magic\n",
    "def set_cell_height(size):\n",
    "  display(\n",
    "      Javascript(\"google.colab.output.setIframeHeight(0, true, {maxHeight: \" +\n",
    "                 str(size) + \"})\"))"
   ]
  },
  {
   "cell_type": "code",
   "execution_count": 4,
   "metadata": {
    "colab": {
     "base_uri": "https://localhost:8080/"
    },
    "executionInfo": {
     "elapsed": 30909,
     "status": "ok",
     "timestamp": 1622535473289,
     "user": {
      "displayName": "Animesh Sharma",
      "photoUrl": "https://lh3.googleusercontent.com/a-/AOh14GgtBEA8HpNXZlxHZ_XN2a7ZU56EZ5DMTqQk-tsov3Y=s64",
      "userId": "07446072663021710031"
     },
     "user_tz": -120
    },
    "id": "CfFmuhx3Re5C",
    "outputId": "b855f375-3c29-4282-fdae-b01b77b8dced"
   },
   "outputs": [
    {
     "name": "stdout",
     "output_type": "stream",
     "text": [
      "Mounted at /content/drive\n"
     ]
    }
   ],
   "source": [
    "from google.colab import drive\n",
    "drive.mount('/content/drive')"
   ]
  },
  {
   "cell_type": "code",
   "execution_count": null,
   "metadata": {
    "colab": {
     "base_uri": "https://localhost:8080/"
    },
    "executionInfo": {
     "elapsed": 24,
     "status": "ok",
     "timestamp": 1622486157851,
     "user": {
      "displayName": "Animesh Sharma",
      "photoUrl": "https://lh3.googleusercontent.com/a-/AOh14GgtBEA8HpNXZlxHZ_XN2a7ZU56EZ5DMTqQk-tsov3Y=s64",
      "userId": "07446072663021710031"
     },
     "user_tz": -120
    },
    "id": "zvkBlVv8Pagi",
    "outputId": "09681955-a7d7-4a81-cd3f-f7e0d79faeec"
   },
   "outputs": [
    {
     "name": "stdout",
     "output_type": "stream",
     "text": [
      "  Unnamed: 0  Mayo Score  ...  Escherichia-Shigella  Streptococcus-total\n",
      "0    BKT-26N           2  ...              0.011318             0.017950\n",
      "1    BKT-28N           1  ...              0.001136             0.030205\n",
      "2    BKT-29N           2  ...              0.000000             0.014890\n",
      "\n",
      "[3 rows x 26 columns]\n"
     ]
    }
   ],
   "source": [
    "#from file icon, right click => https://www.roelpeters.be/running-an-r-kernel-in-google-colab/ \n",
    "dataset_df = pd.read_excel(\"/content/drive/My Drive/Prediction analysis.xlsx\")\n",
    "print(dataset_df.head(3))"
   ]
  },
  {
   "cell_type": "code",
   "execution_count": 135,
   "metadata": {
    "colab": {
     "base_uri": "https://localhost:8080/"
    },
    "executionInfo": {
     "elapsed": 497,
     "status": "ok",
     "timestamp": 1622541853278,
     "user": {
      "displayName": "Animesh Sharma",
      "photoUrl": "https://lh3.googleusercontent.com/a-/AOh14GgtBEA8HpNXZlxHZ_XN2a7ZU56EZ5DMTqQk-tsov3Y=s64",
      "userId": "07446072663021710031"
     },
     "user_tz": -120
    },
    "id": "zjaj8Sjtx6AW",
    "outputId": "902023bc-04d1-4ef9-b282-c989cdf51725"
   },
   "outputs": [
    {
     "name": "stdout",
     "output_type": "stream",
     "text": [
      "   Prevotella-Total  Other-Total  ...  Streptococcus-total      Class\n",
      "0          0.122650     0.111059  ...             0.017950  Remission\n",
      "1          0.001408     0.013444  ...             0.030205  Remission\n",
      "2          0.000023     0.033736  ...             0.014890  Remission\n",
      "\n",
      "[3 rows x 20 columns]\n"
     ]
    }
   ],
   "source": [
    "#dataset_df = pd.read_csv(\"/content/drive/My Drive/Table.csv\")\n",
    "dataset_df = pd.read_csv(\"/content/drive/My Drive/Prediction analysis.merged_class.csv\")\n",
    "print(dataset_df.head(3))"
   ]
  },
  {
   "cell_type": "code",
   "execution_count": 137,
   "metadata": {
    "colab": {
     "base_uri": "https://localhost:8080/"
    },
    "executionInfo": {
     "elapsed": 242,
     "status": "ok",
     "timestamp": 1622541865827,
     "user": {
      "displayName": "Animesh Sharma",
      "photoUrl": "https://lh3.googleusercontent.com/a-/AOh14GgtBEA8HpNXZlxHZ_XN2a7ZU56EZ5DMTqQk-tsov3Y=s64",
      "userId": "07446072663021710031"
     },
     "user_tz": -120
    },
    "id": "Am98JRf1rtfu",
    "outputId": "251abae6-6dab-4c0c-bdc4-4f9c1ffa1f86"
   },
   "outputs": [
    {
     "name": "stdout",
     "output_type": "stream",
     "text": [
      "Label classes: ['Remission', 'Relapse', 'control', 'Active', 'ND']\n"
     ]
    }
   ],
   "source": [
    "classes = dataset_df[\"Class\"].unique().tolist()\n",
    "#classes = dataset_df[\"T: Class\"].unique().tolist()\n",
    "print(f\"Label classes: {classes}\")"
   ]
  },
  {
   "cell_type": "code",
   "execution_count": 139,
   "metadata": {
    "colab": {
     "base_uri": "https://localhost:8080/"
    },
    "executionInfo": {
     "elapsed": 2073,
     "status": "ok",
     "timestamp": 1622541880752,
     "user": {
      "displayName": "Animesh Sharma",
      "photoUrl": "https://lh3.googleusercontent.com/a-/AOh14GgtBEA8HpNXZlxHZ_XN2a7ZU56EZ5DMTqQk-tsov3Y=s64",
      "userId": "07446072663021710031"
     },
     "user_tz": -120
    },
    "id": "ikGi4cPCPagj",
    "outputId": "a144f50c-57f7-47b3-884b-dac38a8d5cf9"
   },
   "outputs": [
    {
     "name": "stdout",
     "output_type": "stream",
     "text": [
      "3/3 [==============================] - 0s 4ms/step\n"
     ]
    },
    {
     "name": "stderr",
     "output_type": "stream",
     "text": [
      "[INFO kernel.cc:746] Start Yggdrasil model training\n",
      "[INFO kernel.cc:747] Collect training examples\n",
      "[INFO kernel.cc:392] Number of batches: 3\n",
      "[INFO kernel.cc:393] Number of examples: 189\n",
      "[INFO kernel.cc:769] Dataset:\n",
      "Number of records: 189\n",
      "Number of columns: 20\n",
      "\n",
      "Number of columns by type:\n",
      "\tNUMERICAL: 19 (95%)\n",
      "\tCATEGORICAL: 1 (5%)\n",
      "\n",
      "Columns:\n",
      "\n",
      "NUMERICAL: 19 (95%)\n",
      "\t0: \"Alloprevotella\" NUMERICAL mean:0.00433955 min:0 max:0.0718782 sd:0.0103621\n",
      "\t1: \"Bacteroides\" NUMERICAL mean:0.059932 min:0 max:0.640516 sd:0.127928\n",
      "\t2: \"Bifidobacterium\" NUMERICAL mean:0.109625 min:0.000191558 max:0.568375 sd:0.11191\n",
      "\t3: \"Blautia\" NUMERICAL mean:0.0154908 min:0 max:0.300145 sd:0.0294173\n",
      "\t4: \"Collinsella\" NUMERICAL mean:0.0434541 min:0 max:0.551823 sd:0.0761381\n",
      "\t5: \"Coprococcus-Total\" NUMERICAL mean:0.00495475 min:0 max:0.043152 sd:0.0079093\n",
      "\t6: \"Dialister\" NUMERICAL mean:0.0354263 min:0 max:0.424806 sd:0.0659486\n",
      "\t7: \"Dorea\" NUMERICAL mean:0.00969191 min:0 max:0.075191 sd:0.013361\n",
      "\t8: \"Escherichia-Shigella\" NUMERICAL mean:0.0255075 min:0 max:0.348393 sd:0.0585117\n",
      "\t9: \"Faecalibacterium\" NUMERICAL mean:0.0615962 min:1.90796e-05 max:0.296504 sd:0.0676546\n",
      "\t10: \"Lachnospiraceae-Total\" NUMERICAL mean:0.00677955 min:0 max:0.124941 sd:0.0171457\n",
      "\t11: \"Lactobacillus\" NUMERICAL mean:0.0971681 min:7.44753e-05 max:0.717695 sd:0.14065\n",
      "\t12: \"Other-Total\" NUMERICAL mean:0.0945559 min:0.00162075 max:0.376679 sd:0.076906\n",
      "\t13: \"Prevotella-Total\" NUMERICAL mean:0.0898416 min:1.74143e-05 max:0.62736 sd:0.137179\n",
      "\t14: \"Roseburia\" NUMERICAL mean:0.0187604 min:0 max:0.209163 sd:0.0346103\n",
      "\t15: \"Ruminococcaceae-Total\" NUMERICAL mean:0.0364336 min:0 max:0.315734 sd:0.0648848\n",
      "\t16: \"Ruminococcus-Total\" NUMERICAL mean:0.0106478 min:0 max:0.176105 sd:0.025838\n",
      "\t17: \"Streptococcus-total\" NUMERICAL mean:0.0778643 min:0.00010938 max:0.573112 sd:0.125685\n",
      "\t18: \"uncultured/unidentified-total\" NUMERICAL mean:0.0208143 min:0 max:0.204634 sd:0.0388701\n",
      "\n",
      "CATEGORICAL: 1 (5%)\n",
      "\t19: \"__LABEL\" CATEGORICAL integerized vocab-size:6 no-ood-item\n",
      "\n",
      "Terminology:\n",
      "\tnas: Number of non-available (i.e. missing) values.\n",
      "\tood: Out of dictionary.\n",
      "\tmanually-defined: Attribute which type is manually defined by the user i.e. the type was not automatically inferred.\n",
      "\ttokenized: The attribute value is obtained through tokenization.\n",
      "\thas-dict: The attribute is attached to a string dictionary e.g. a categorical attribute stored as a string.\n",
      "\tvocab-size: Number of unique values.\n",
      "\n",
      "[INFO kernel.cc:772] Configure learner\n",
      "[INFO kernel.cc:797] Training config:\n",
      "learner: \"RANDOM_FOREST\"\n",
      "features: \"Alloprevotella\"\n",
      "features: \"Bacteroides\"\n",
      "features: \"Bifidobacterium\"\n",
      "features: \"Blautia\"\n",
      "features: \"Collinsella\"\n",
      "features: \"Coprococcus-Total\"\n",
      "features: \"Dialister\"\n",
      "features: \"Dorea\"\n",
      "features: \"Escherichia-Shigella\"\n",
      "features: \"Faecalibacterium\"\n",
      "features: \"Lachnospiraceae-Total\"\n",
      "features: \"Lactobacillus\"\n",
      "features: \"Other-Total\"\n",
      "features: \"Prevotella-Total\"\n",
      "features: \"Roseburia\"\n",
      "features: \"Ruminococcaceae-Total\"\n",
      "features: \"Ruminococcus-Total\"\n",
      "features: \"Streptococcus-total\"\n",
      "features: \"uncultured/unidentified-total\"\n",
      "label: \"__LABEL\"\n",
      "task: CLASSIFICATION\n",
      "[yggdrasil_decision_forests.model.random_forest.proto.random_forest_config] {\n",
      "  num_trees: 500\n",
      "  decision_tree {\n",
      "    max_depth: 16\n",
      "    min_examples: 5\n",
      "    in_split_min_examples_check: true\n",
      "    missing_value_policy: GLOBAL_IMPUTATION\n",
      "    allow_na_conditions: false\n",
      "    categorical_set_greedy_forward {\n",
      "      sampling: 0.1\n",
      "      max_num_items: -1\n",
      "      min_item_frequency: 1\n",
      "    }\n",
      "    growing_strategy_local {\n",
      "    }\n",
      "    categorical {\n",
      "      random {\n",
      "      }\n",
      "    }\n",
      "    num_candidate_attributes_ratio: -1\n",
      "    axis_aligned_split {\n",
      "    }\n",
      "  }\n",
      "  winner_take_all_inference: true\n",
      "  compute_oob_performances: true\n",
      "  compute_oob_variable_importances: true\n",
      "  adapt_bootstrap_size_ratio_for_maximum_training_duration: false\n",
      "}\n",
      "\n",
      "[INFO kernel.cc:800] Deployment config:\n",
      "\n",
      "[INFO kernel.cc:837] Train model\n",
      "[INFO random_forest.cc:303] Training random forest on 189 example(s) and 19 feature(s).\n",
      "[INFO random_forest.cc:578] Training of tree  1/500 (tree index:0) done accuracy:0.338462 logloss:23.8443\n",
      "[INFO random_forest.cc:578] Training of tree  11/500 (tree index:11) done accuracy:0.265957 logloss:16.5886\n",
      "[INFO random_forest.cc:578] Training of tree  21/500 (tree index:21) done accuracy:0.269841 logloss:12.8045\n",
      "[INFO random_forest.cc:578] Training of tree  32/500 (tree index:34) done accuracy:0.259259 logloss:7.4932\n",
      "[INFO random_forest.cc:578] Training of tree  42/500 (tree index:45) done accuracy:0.238095 logloss:5.54284\n",
      "[INFO random_forest.cc:578] Training of tree  52/500 (tree index:56) done accuracy:0.21164 logloss:4.49842\n",
      "[INFO random_forest.cc:578] Training of tree  62/500 (tree index:63) done accuracy:0.21164 logloss:4.49582\n",
      "[INFO random_forest.cc:578] Training of tree  72/500 (tree index:73) done accuracy:0.216931 logloss:4.1299\n",
      "[INFO random_forest.cc:578] Training of tree  82/500 (tree index:85) done accuracy:0.206349 logloss:3.25238\n",
      "[INFO random_forest.cc:578] Training of tree  92/500 (tree index:79) done accuracy:0.21164 logloss:2.90203\n",
      "[INFO random_forest.cc:578] Training of tree  102/500 (tree index:101) done accuracy:0.195767 logloss:2.89038\n",
      "[INFO random_forest.cc:578] Training of tree  113/500 (tree index:108) done accuracy:0.206349 logloss:2.88909\n",
      "[INFO random_forest.cc:578] Training of tree  123/500 (tree index:122) done accuracy:0.201058 logloss:2.8954\n",
      "[INFO random_forest.cc:578] Training of tree  133/500 (tree index:134) done accuracy:0.206349 logloss:2.86887\n",
      "[INFO random_forest.cc:578] Training of tree  145/500 (tree index:145) done accuracy:0.206349 logloss:2.86644\n",
      "[INFO random_forest.cc:578] Training of tree  156/500 (tree index:153) done accuracy:0.195767 logloss:2.70847\n",
      "[INFO random_forest.cc:578] Training of tree  167/500 (tree index:167) done accuracy:0.201058 logloss:2.5368\n",
      "[INFO random_forest.cc:578] Training of tree  177/500 (tree index:169) done accuracy:0.195767 logloss:2.53888\n",
      "[INFO random_forest.cc:578] Training of tree  187/500 (tree index:185) done accuracy:0.195767 logloss:2.5323\n",
      "[INFO random_forest.cc:578] Training of tree  197/500 (tree index:199) done accuracy:0.195767 logloss:2.5361\n",
      "[INFO random_forest.cc:578] Training of tree  207/500 (tree index:208) done accuracy:0.195767 logloss:2.54105\n",
      "[INFO random_forest.cc:578] Training of tree  217/500 (tree index:218) done accuracy:0.195767 logloss:2.3697\n",
      "[INFO random_forest.cc:578] Training of tree  227/500 (tree index:228) done accuracy:0.195767 logloss:2.3696\n",
      "[INFO random_forest.cc:578] Training of tree  237/500 (tree index:240) done accuracy:0.190476 logloss:2.36948\n",
      "[INFO random_forest.cc:578] Training of tree  247/500 (tree index:246) done accuracy:0.190476 logloss:2.36722\n",
      "[INFO random_forest.cc:578] Training of tree  257/500 (tree index:258) done accuracy:0.201058 logloss:2.36378\n",
      "[INFO random_forest.cc:578] Training of tree  267/500 (tree index:268) done accuracy:0.195767 logloss:2.3618\n",
      "[INFO random_forest.cc:578] Training of tree  277/500 (tree index:276) done accuracy:0.195767 logloss:2.35927\n",
      "[INFO random_forest.cc:578] Training of tree  287/500 (tree index:283) done accuracy:0.190476 logloss:2.35921\n",
      "[INFO random_forest.cc:578] Training of tree  297/500 (tree index:294) done accuracy:0.190476 logloss:2.35819\n",
      "[INFO random_forest.cc:578] Training of tree  307/500 (tree index:302) done accuracy:0.201058 logloss:2.35659\n",
      "[INFO random_forest.cc:578] Training of tree  318/500 (tree index:320) done accuracy:0.190476 logloss:2.35926\n",
      "[INFO random_forest.cc:578] Training of tree  329/500 (tree index:329) done accuracy:0.190476 logloss:2.35722\n",
      "[INFO random_forest.cc:578] Training of tree  340/500 (tree index:341) done accuracy:0.190476 logloss:2.19137\n",
      "[INFO random_forest.cc:578] Training of tree  350/500 (tree index:339) done accuracy:0.195767 logloss:2.19793\n",
      "[INFO random_forest.cc:578] Training of tree  360/500 (tree index:364) done accuracy:0.185185 logloss:2.1937\n",
      "[INFO random_forest.cc:578] Training of tree  370/500 (tree index:368) done accuracy:0.195767 logloss:2.19284\n",
      "[INFO random_forest.cc:578] Training of tree  380/500 (tree index:381) done accuracy:0.195767 logloss:2.19242\n",
      "[INFO random_forest.cc:578] Training of tree  390/500 (tree index:394) done accuracy:0.201058 logloss:2.19007\n",
      "[INFO random_forest.cc:578] Training of tree  401/500 (tree index:389) done accuracy:0.201058 logloss:2.19032\n",
      "[INFO random_forest.cc:578] Training of tree  411/500 (tree index:405) done accuracy:0.195767 logloss:2.19416\n",
      "[INFO random_forest.cc:578] Training of tree  421/500 (tree index:419) done accuracy:0.206349 logloss:2.19261\n",
      "[INFO random_forest.cc:578] Training of tree  433/500 (tree index:424) done accuracy:0.206349 logloss:2.19632\n",
      "[INFO random_forest.cc:578] Training of tree  443/500 (tree index:441) done accuracy:0.206349 logloss:2.19937\n",
      "[INFO random_forest.cc:578] Training of tree  453/500 (tree index:451) done accuracy:0.190476 logloss:2.03608\n",
      "[INFO random_forest.cc:578] Training of tree  463/500 (tree index:461) done accuracy:0.195767 logloss:1.87054\n",
      "[INFO random_forest.cc:578] Training of tree  473/500 (tree index:473) done accuracy:0.201058 logloss:1.87238\n",
      "[INFO random_forest.cc:578] Training of tree  483/500 (tree index:484) done accuracy:0.195767 logloss:1.8721\n",
      "[INFO random_forest.cc:578] Training of tree  494/500 (tree index:491) done accuracy:0.190476 logloss:1.87348\n",
      "[INFO random_forest.cc:578] Training of tree  500/500 (tree index:498) done accuracy:0.195767 logloss:1.87613\n",
      "[INFO random_forest.cc:645] Final OOB metrics: accuracy:0.195767 logloss:1.87613\n",
      "[INFO kernel.cc:856] Export model in log directory: /tmp/tmp8yla1n8n\n",
      "[INFO kernel.cc:864] Save model in resources\n",
      "[INFO kernel.cc:929] Loading model from path\n",
      "[INFO decision_forest.cc:590] Model loaded with 500 root(s), 25888 node(s), and 19 input feature(s).\n",
      "[INFO abstract_model.cc:876] Engine \"RandomForestGeneric\" built\n",
      "[INFO kernel.cc:797] Use fast generic engine\n"
     ]
    }
   ],
   "source": [
    "#dataset_tf = tfdf.keras.pd_dataframe_to_tf_dataset(dataset_df, label=\"Mayo Score\")\n",
    "dataset_tf = tfdf.keras.pd_dataframe_to_tf_dataset(dataset_df, label=\"Class\")\n",
    "#dataset_tf = tfdf.keras.pd_dataframe_to_tf_dataset(dataset_df, label=\"T: Class\")\n",
    "model = tfdf.keras.RandomForestModel(compute_oob_variable_importances=True,# growing_strategy=\"BEST_FIRST_GLOBAL\",\n",
    "      num_trees=500,\n",
    "#    max_depth=8,\n",
    "#    split_axis=\"SPARSE_OBLIQUE\",\n",
    "    categorical_algorithm=\"RANDOM\",\n",
    "#hyperparameter_template=\"benchmark_rank1\",\n",
    ")\n",
    "model.compile(metrics=[\"accuracy\"])\n",
    "with sys_pipes():\n",
    "  model.fit(x=dataset_tf)"
   ]
  },
  {
   "cell_type": "code",
   "execution_count": 140,
   "metadata": {
    "colab": {
     "base_uri": "https://localhost:8080/",
     "height": 300
    },
    "executionInfo": {
     "elapsed": 169,
     "status": "ok",
     "timestamp": 1622541880770,
     "user": {
      "displayName": "Animesh Sharma",
      "photoUrl": "https://lh3.googleusercontent.com/a-/AOh14GgtBEA8HpNXZlxHZ_XN2a7ZU56EZ5DMTqQk-tsov3Y=s64",
      "userId": "07446072663021710031"
     },
     "user_tz": -120
    },
    "id": "Y3UZS3vTPagk",
    "outputId": "405b30cd-409e-4d39-e3bd-44485d40b49c"
   },
   "outputs": [
    {
     "data": {
      "application/javascript": [
       "google.colab.output.setIframeHeight(0, true, {maxHeight: 300})"
      ],
      "text/plain": [
       "<IPython.core.display.Javascript object>"
      ]
     },
     "metadata": {
      "tags": []
     },
     "output_type": "display_data"
    },
    {
     "name": "stdout",
     "output_type": "stream",
     "text": [
      "Model: \"random_forest_model_25\"\n",
      "_________________________________________________________________\n",
      "Layer (type)                 Output Shape              Param #   \n",
      "=================================================================\n",
      "Total params: 1\n",
      "Trainable params: 0\n",
      "Non-trainable params: 1\n",
      "_________________________________________________________________\n",
      "Type: \"RANDOM_FOREST\"\n",
      "Task: CLASSIFICATION\n",
      "Label: \"__LABEL\"\n",
      "\n",
      "Input Features (19):\n",
      "\tAlloprevotella\n",
      "\tBacteroides\n",
      "\tBifidobacterium\n",
      "\tBlautia\n",
      "\tCollinsella\n",
      "\tCoprococcus-Total\n",
      "\tDialister\n",
      "\tDorea\n",
      "\tEscherichia-Shigella\n",
      "\tFaecalibacterium\n",
      "\tLachnospiraceae-Total\n",
      "\tLactobacillus\n",
      "\tOther-Total\n",
      "\tPrevotella-Total\n",
      "\tRoseburia\n",
      "\tRuminococcaceae-Total\n",
      "\tRuminococcus-Total\n",
      "\tStreptococcus-total\n",
      "\tuncultured/unidentified-total\n",
      "\n",
      "No weights\n",
      "\n",
      "Variable Importance: MEAN_DECREASE_IN_PRAUC_4_VS_OTHERS:\n",
      "    1. \"uncultured/unidentified-total\"  0.116189 ################\n",
      "    2.         \"Lachnospiraceae-Total\"  0.099793 #############\n",
      "    3.                   \"Collinsella\"  0.084967 ###########\n",
      "    4.                         \"Dorea\"  0.068370 #########\n",
      "    5.                       \"Blautia\"  0.065066 #########\n",
      "    6.         \"Ruminococcaceae-Total\"  0.055721 ########\n",
      "    7.                \"Alloprevotella\"  0.051451 #######\n",
      "    8.                     \"Dialister\"  0.041804 ######\n",
      "    9.          \"Escherichia-Shigella\"  0.039755 ######\n",
      "   10.                 \"Lactobacillus\"  0.037485 #####\n",
      "   11.                     \"Roseburia\"  0.033924 #####\n",
      "   12.           \"Streptococcus-total\"  0.027198 ####\n",
      "   13.            \"Ruminococcus-Total\"  0.024517 ####\n",
      "   14.              \"Faecalibacterium\"  0.024440 ####\n",
      "   15.               \"Bifidobacterium\"  0.010336 ##\n",
      "   16.                   \"Bacteroides\"  0.005642 #\n",
      "   17.             \"Coprococcus-Total\"  0.005407 #\n",
      "   18.              \"Prevotella-Total\" -0.005848 \n",
      "   19.                   \"Other-Total\" -0.008321 \n",
      "\n",
      "Variable Importance: MEAN_DECREASE_IN_AP_4_VS_OTHERS:\n",
      "    1. \"uncultured/unidentified-total\"  0.114852 ################\n",
      "    2.         \"Lachnospiraceae-Total\"  0.102217 ##############\n",
      "    3.                   \"Collinsella\"  0.091420 #############\n",
      "    4.                         \"Dorea\"  0.076134 ###########\n",
      "    5.                       \"Blautia\"  0.072677 ##########\n",
      "    6.         \"Ruminococcaceae-Total\"  0.062630 #########\n",
      "    7.                \"Alloprevotella\"  0.058663 ########\n",
      "    8.                     \"Dialister\"  0.049480 #######\n",
      "    9.          \"Escherichia-Shigella\"  0.039255 ######\n",
      "   10.                 \"Lactobacillus\"  0.037246 ######\n",
      "   11.           \"Streptococcus-total\"  0.026699 ####\n",
      "   12.                     \"Roseburia\"  0.026626 ####\n",
      "   13.            \"Ruminococcus-Total\"  0.024316 ####\n",
      "   14.              \"Faecalibacterium\"  0.023503 ####\n",
      "   15.               \"Bifidobacterium\"  0.010111 ##\n",
      "   16.                   \"Bacteroides\"  0.005772 ##\n",
      "   17.             \"Coprococcus-Total\"  0.004933 ##\n",
      "   18.              \"Prevotella-Total\" -0.005993 \n",
      "   19.                   \"Other-Total\" -0.011309 \n",
      "\n",
      "Variable Importance: MEAN_DECREASE_IN_AP_3_VS_OTHERS:\n",
      "    1. \"uncultured/unidentified-total\"  0.011956 ################\n",
      "    2.                     \"Roseburia\" -0.000781 ####\n",
      "    3.                 \"Lactobacillus\" -0.000783 ####\n",
      "    4.                       \"Blautia\" -0.001332 ###\n",
      "    5.             \"Coprococcus-Total\" -0.001377 ###\n",
      "    6.                   \"Other-Total\" -0.001694 ###\n",
      "    7.              \"Prevotella-Total\" -0.001822 ###\n",
      "    8.                   \"Collinsella\" -0.001861 ###\n",
      "    9.         \"Ruminococcaceae-Total\" -0.002039 ###\n",
      "   10.                         \"Dorea\" -0.002172 ###\n",
      "   11.               \"Bifidobacterium\" -0.002259 ###\n",
      "   12.          \"Escherichia-Shigella\" -0.002417 ##\n",
      "   13.                   \"Bacteroides\" -0.002431 ##\n",
      "   14.            \"Ruminococcus-Total\" -0.002667 ##\n",
      "   15.              \"Faecalibacterium\" -0.003025 ##\n",
      "   16.           \"Streptococcus-total\" -0.003225 ##\n",
      "   17.                     \"Dialister\" -0.003392 ##\n",
      "   18.                \"Alloprevotella\" -0.004103 #\n",
      "   19.         \"Lachnospiraceae-Total\" -0.005730 \n",
      "\n",
      "Variable Importance: MEAN_DECREASE_IN_PRAUC_1_VS_OTHERS:\n",
      "    1. \"uncultured/unidentified-total\"  0.013036 ################\n",
      "    2.                     \"Roseburia\"  0.000037 ####\n",
      "    3.             \"Coprococcus-Total\" -0.000209 ####\n",
      "    4.               \"Bifidobacterium\" -0.000823 ####\n",
      "    5.                   \"Other-Total\" -0.001958 ###\n",
      "    6.                     \"Dialister\" -0.002206 ##\n",
      "    7.                       \"Blautia\" -0.002252 ##\n",
      "    8.                   \"Bacteroides\" -0.002658 ##\n",
      "    9.              \"Faecalibacterium\" -0.003121 ##\n",
      "   10.         \"Ruminococcaceae-Total\" -0.003331 #\n",
      "   11.                   \"Collinsella\" -0.003502 #\n",
      "   12.           \"Streptococcus-total\" -0.003745 #\n",
      "   13.                         \"Dorea\" -0.003927 #\n",
      "   14.            \"Ruminococcus-Total\" -0.004118 #\n",
      "   15.                \"Alloprevotella\" -0.004178 #\n",
      "   16.              \"Prevotella-Total\" -0.004627 \n",
      "   17.         \"Lachnospiraceae-Total\" -0.004848 \n",
      "   18.                 \"Lactobacillus\" -0.005039 \n",
      "   19.          \"Escherichia-Shigella\" -0.005500 \n",
      "\n",
      "Variable Importance: MEAN_DECREASE_IN_PRAUC_3_VS_OTHERS:\n",
      "    1. \"uncultured/unidentified-total\"  0.012376 ################\n",
      "    2.                 \"Lactobacillus\" -0.000246 ####\n",
      "    3.                     \"Roseburia\" -0.000318 ####\n",
      "    4.             \"Coprococcus-Total\" -0.000869 ####\n",
      "    5.                       \"Blautia\" -0.001150 ###\n",
      "    6.                   \"Other-Total\" -0.001192 ###\n",
      "    7.                   \"Collinsella\" -0.001520 ###\n",
      "    8.              \"Prevotella-Total\" -0.001595 ###\n",
      "    9.         \"Ruminococcaceae-Total\" -0.001716 ###\n",
      "   10.                         \"Dorea\" -0.001817 ###\n",
      "   11.          \"Escherichia-Shigella\" -0.001997 ###\n",
      "   12.               \"Bifidobacterium\" -0.002033 ###\n",
      "   13.                   \"Bacteroides\" -0.002084 ###\n",
      "   14.            \"Ruminococcus-Total\" -0.002318 ##\n",
      "   15.           \"Streptococcus-total\" -0.002753 ##\n",
      "   16.              \"Faecalibacterium\" -0.002804 ##\n",
      "   17.                     \"Dialister\" -0.002934 ##\n",
      "   18.                \"Alloprevotella\" -0.003827 #\n",
      "   19.         \"Lachnospiraceae-Total\" -0.005490 \n",
      "\n",
      "Variable Importance: MEAN_DECREASE_IN_AP_1_VS_OTHERS:\n",
      "    1. \"uncultured/unidentified-total\"  0.012798 ################\n",
      "    2.                     \"Roseburia\"  0.000175 ####\n",
      "    3.             \"Coprococcus-Total\" -0.000178 ####\n",
      "    4.               \"Bifidobacterium\" -0.000920 ###\n",
      "    5.                   \"Other-Total\" -0.002049 ##\n",
      "    6.                     \"Dialister\" -0.002191 ##\n",
      "    7.                       \"Blautia\" -0.002241 ##\n",
      "    8.                   \"Bacteroides\" -0.002609 ##\n",
      "    9.              \"Faecalibacterium\" -0.002952 ##\n",
      "   10.         \"Ruminococcaceae-Total\" -0.003395 #\n",
      "   11.                   \"Collinsella\" -0.003584 #\n",
      "   12.           \"Streptococcus-total\" -0.003745 #\n",
      "   13.                         \"Dorea\" -0.003865 #\n",
      "   14.            \"Ruminococcus-Total\" -0.003972 #\n",
      "   15.                \"Alloprevotella\" -0.004239 \n",
      "   16.         \"Lachnospiraceae-Total\" -0.004635 \n",
      "   17.              \"Prevotella-Total\" -0.004692 \n",
      "   18.                 \"Lactobacillus\" -0.005058 \n",
      "   19.          \"Escherichia-Shigella\" -0.005318 \n",
      "\n",
      "Variable Importance: MEAN_DECREASE_IN_AUC_2_VS_OTHERS:\n",
      "    1.                     \"Roseburia\"  0.068974 ################\n",
      "    2.         \"Ruminococcaceae-Total\"  0.008004 #########\n",
      "    3.          \"Escherichia-Shigella\"  0.004002 #########\n",
      "    4.         \"Lachnospiraceae-Total\"  0.002589 #########\n",
      "    5.                   \"Bacteroides\" -0.002119 ########\n",
      "    6.               \"Bifidobacterium\" -0.002589 ########\n",
      "    7. \"uncultured/unidentified-total\" -0.004473 ########\n",
      "    8.            \"Ruminococcus-Total\" -0.007298 ########\n",
      "    9.           \"Streptococcus-total\" -0.010593 ########\n",
      "   10.                \"Alloprevotella\" -0.010829 ########\n",
      "   11.              \"Prevotella-Total\" -0.016949 #######\n",
      "   12.                   \"Collinsella\" -0.020009 #######\n",
      "   13.                       \"Blautia\" -0.028719 ######\n",
      "   14.                     \"Dialister\" -0.033898 #####\n",
      "   15.                 \"Lactobacillus\" -0.040725 #####\n",
      "   16.              \"Faecalibacterium\" -0.044727 ####\n",
      "   17.                   \"Other-Total\" -0.048964 ####\n",
      "   18.                         \"Dorea\" -0.073682 #\n",
      "   19.             \"Coprococcus-Total\" -0.093456 \n",
      "\n",
      "Variable Importance: MEAN_DECREASE_IN_AP_2_VS_OTHERS:\n",
      "    1.                     \"Roseburia\"  0.005374 ################\n",
      "    2.         \"Ruminococcaceae-Total\"  0.001146 ###########\n",
      "    3.               \"Bifidobacterium\"  0.000954 ###########\n",
      "    4. \"uncultured/unidentified-total\" -0.000263 ##########\n",
      "    5.                   \"Bacteroides\" -0.000342 ##########\n",
      "    6.         \"Lachnospiraceae-Total\" -0.000674 #########\n",
      "    7.                \"Alloprevotella\" -0.000990 #########\n",
      "    8.              \"Prevotella-Total\" -0.001193 #########\n",
      "    9.            \"Ruminococcus-Total\" -0.001332 #########\n",
      "   10.           \"Streptococcus-total\" -0.001621 ########\n",
      "   11.          \"Escherichia-Shigella\" -0.001859 ########\n",
      "   12.                   \"Collinsella\" -0.001885 ########\n",
      "   13.                       \"Blautia\" -0.003610 ######\n",
      "   14.                     \"Dialister\" -0.003747 ######\n",
      "   15.              \"Faecalibacterium\" -0.003964 ######\n",
      "   16.                 \"Lactobacillus\" -0.004812 #####\n",
      "   17.                   \"Other-Total\" -0.005245 #####\n",
      "   18.                         \"Dorea\" -0.008146 ##\n",
      "   19.             \"Coprococcus-Total\" -0.010308 \n",
      "\n",
      "Variable Importance: MEAN_DECREASE_IN_PRAUC_2_VS_OTHERS:\n",
      "    1.                     \"Roseburia\"  0.005175 ################\n",
      "    2.         \"Ruminococcaceae-Total\"  0.000504 ###########\n",
      "    3.                   \"Bacteroides\" -0.000260 ##########\n",
      "    4.               \"Bifidobacterium\" -0.000428 ##########\n",
      "    5.         \"Lachnospiraceae-Total\" -0.000590 ##########\n",
      "    6.          \"Escherichia-Shigella\" -0.000815 ##########\n",
      "    7. \"uncultured/unidentified-total\" -0.000944 ##########\n",
      "    8.                \"Alloprevotella\" -0.001252 #########\n",
      "    9.            \"Ruminococcus-Total\" -0.001761 #########\n",
      "   10.           \"Streptococcus-total\" -0.002078 #########\n",
      "   11.              \"Prevotella-Total\" -0.002416 ########\n",
      "   12.                   \"Collinsella\" -0.002906 ########\n",
      "   13.                     \"Dialister\" -0.003462 #######\n",
      "   14.                 \"Lactobacillus\" -0.004592 ######\n",
      "   15.              \"Faecalibacterium\" -0.004618 ######\n",
      "   16.                       \"Blautia\" -0.004632 ######\n",
      "   17.                   \"Other-Total\" -0.005761 #####\n",
      "   18.                         \"Dorea\" -0.009403 ##\n",
      "   19.             \"Coprococcus-Total\" -0.011656 \n",
      "\n",
      "Variable Importance: MEAN_DECREASE_IN_AUC_3_VS_OTHERS:\n",
      "    1. \"uncultured/unidentified-total\"  0.057986 ################\n",
      "    2.                 \"Lactobacillus\" -0.000288 #####\n",
      "    3.             \"Coprococcus-Total\" -0.005396 #####\n",
      "    4.                   \"Other-Total\" -0.007122 ####\n",
      "    5.         \"Ruminococcaceae-Total\" -0.010144 ####\n",
      "    6.                     \"Roseburia\" -0.010288 ####\n",
      "    7.              \"Prevotella-Total\" -0.011439 ####\n",
      "    8.                       \"Blautia\" -0.011511 ####\n",
      "    9.                   \"Collinsella\" -0.012734 ###\n",
      "   10.          \"Escherichia-Shigella\" -0.014388 ###\n",
      "   11.                         \"Dorea\" -0.015324 ###\n",
      "   12.              \"Faecalibacterium\" -0.015683 ###\n",
      "   13.           \"Streptococcus-total\" -0.015899 ###\n",
      "   14.                   \"Bacteroides\" -0.016187 ###\n",
      "   15.            \"Ruminococcus-Total\" -0.016835 ###\n",
      "   16.               \"Bifidobacterium\" -0.017626 ##\n",
      "   17.                     \"Dialister\" -0.019353 ##\n",
      "   18.                \"Alloprevotella\" -0.029065 #\n",
      "   19.         \"Lachnospiraceae-Total\" -0.035036 \n",
      "\n",
      "Variable Importance: MEAN_DECREASE_IN_AP_5_VS_OTHERS:\n",
      "    1.                     \"Roseburia\"  0.083351 ################\n",
      "    2. \"uncultured/unidentified-total\"  0.049183 ##########\n",
      "    3.                   \"Bacteroides\"  0.002402 #\n",
      "    4.             \"Coprococcus-Total\"  0.002008 #\n",
      "    5.                       \"Blautia\"  0.000896 #\n",
      "    6.                     \"Dialister\"  0.000671 #\n",
      "    7.                   \"Collinsella\" -0.000120 #\n",
      "    8.                         \"Dorea\" -0.000283 #\n",
      "    9.           \"Streptococcus-total\" -0.000729 #\n",
      "   10.               \"Bifidobacterium\" -0.000844 #\n",
      "   11.          \"Escherichia-Shigella\" -0.001023 #\n",
      "   12.                   \"Other-Total\" -0.001360 #\n",
      "   13.                 \"Lactobacillus\" -0.001380 #\n",
      "   14.         \"Ruminococcaceae-Total\" -0.002635 \n",
      "   15.              \"Prevotella-Total\" -0.003885 \n",
      "   16.              \"Faecalibacterium\" -0.004710 \n",
      "   17.                \"Alloprevotella\" -0.004944 \n",
      "   18.         \"Lachnospiraceae-Total\" -0.005384 \n",
      "   19.            \"Ruminococcus-Total\" -0.008303 \n",
      "\n",
      "Variable Importance: MEAN_DECREASE_IN_PRAUC_5_VS_OTHERS:\n",
      "    1.                     \"Roseburia\"  0.079372 ################\n",
      "    2. \"uncultured/unidentified-total\"  0.047770 ##########\n",
      "    3.                   \"Bacteroides\"  0.002300 #\n",
      "    4.             \"Coprococcus-Total\"  0.001409 #\n",
      "    5.                     \"Dialister\"  0.000689 #\n",
      "    6.                       \"Blautia\"  0.000452 #\n",
      "    7.           \"Streptococcus-total\" -0.000721 #\n",
      "    8.          \"Escherichia-Shigella\" -0.000955 #\n",
      "    9.                   \"Other-Total\" -0.001266 #\n",
      "   10.                 \"Lactobacillus\" -0.001396 #\n",
      "   11.                   \"Collinsella\" -0.001419 #\n",
      "   12.                         \"Dorea\" -0.001557 #\n",
      "   13.               \"Bifidobacterium\" -0.002149 #\n",
      "   14.         \"Ruminococcaceae-Total\" -0.002544 #\n",
      "   15.              \"Prevotella-Total\" -0.003804 \n",
      "   16.              \"Faecalibacterium\" -0.004717 \n",
      "   17.                \"Alloprevotella\" -0.006359 \n",
      "   18.         \"Lachnospiraceae-Total\" -0.006550 \n",
      "   19.            \"Ruminococcus-Total\" -0.008580 \n",
      "\n",
      "Variable Importance: MEAN_DECREASE_IN_AUC_5_VS_OTHERS:\n",
      "    1.                     \"Roseburia\"  0.014180 ################\n",
      "    2.             \"Coprococcus-Total\"  0.003594 #########\n",
      "    3. \"uncultured/unidentified-total\"  0.003399 #########\n",
      "    4.                       \"Blautia\"  0.002525 ########\n",
      "    5.                   \"Bacteroides\"  0.001263 #######\n",
      "    6.         \"Ruminococcaceae-Total\"  0.000971 #######\n",
      "    7.          \"Escherichia-Shigella\"  0.000291 #######\n",
      "    8.                     \"Dialister\"  0.000291 #######\n",
      "    9.                   \"Other-Total\" -0.000194 ######\n",
      "   10.           \"Streptococcus-total\" -0.000194 ######\n",
      "   11.                 \"Lactobacillus\" -0.000291 ######\n",
      "   12.              \"Prevotella-Total\" -0.000583 ######\n",
      "   13.              \"Faecalibacterium\" -0.001360 #####\n",
      "   14.            \"Ruminococcus-Total\" -0.001651 #####\n",
      "   15.         \"Lachnospiraceae-Total\" -0.005828 ###\n",
      "   16.                         \"Dorea\" -0.007770 #\n",
      "   17.                   \"Collinsella\" -0.008353 #\n",
      "   18.               \"Bifidobacterium\" -0.009713 \n",
      "   19.                \"Alloprevotella\" -0.010684 \n",
      "\n",
      "Variable Importance: MEAN_DECREASE_IN_ACCURACY:\n",
      "    1.             \"Coprococcus-Total\"  0.005291 ################\n",
      "    2.                   \"Other-Total\"  0.000000 #############\n",
      "    3.                \"Alloprevotella\"  0.000000 #############\n",
      "    4. \"uncultured/unidentified-total\" -0.005291 ###########\n",
      "    5.           \"Streptococcus-total\" -0.005291 ###########\n",
      "    6.                       \"Blautia\" -0.005291 ###########\n",
      "    7.         \"Lachnospiraceae-Total\" -0.005291 ###########\n",
      "    8.              \"Faecalibacterium\" -0.010582 #########\n",
      "    9.              \"Prevotella-Total\" -0.010582 #########\n",
      "   10.                     \"Dialister\" -0.010582 #########\n",
      "   11.               \"Bifidobacterium\" -0.010582 #########\n",
      "   12.                   \"Bacteroides\" -0.010582 #########\n",
      "   13.                         \"Dorea\" -0.015873 ######\n",
      "   14.                   \"Collinsella\" -0.015873 ######\n",
      "   15.         \"Ruminococcaceae-Total\" -0.015873 ######\n",
      "   16.            \"Ruminococcus-Total\" -0.015873 ######\n",
      "   17.          \"Escherichia-Shigella\" -0.021164 ####\n",
      "   18.                 \"Lactobacillus\" -0.026455 ##\n",
      "   19.                     \"Roseburia\" -0.031746 \n",
      "\n",
      "Variable Importance: MEAN_DECREASE_IN_AUC_1_VS_OTHERS:\n",
      "    1. \"uncultured/unidentified-total\"  0.057849 ################\n",
      "    2.             \"Coprococcus-Total\" -0.001715 ####\n",
      "    3.               \"Bifidobacterium\" -0.005334 ###\n",
      "    4.                     \"Roseburia\" -0.005461 ###\n",
      "    5.                   \"Other-Total\" -0.008954 ###\n",
      "    6.                     \"Dialister\" -0.011494 ##\n",
      "    7.                       \"Blautia\" -0.013145 ##\n",
      "    8.                   \"Bacteroides\" -0.013589 ##\n",
      "    9.         \"Ruminococcaceae-Total\" -0.013970 ##\n",
      "   10.              \"Faecalibacterium\" -0.016383 #\n",
      "   11.                \"Alloprevotella\" -0.016510 #\n",
      "   12.                   \"Collinsella\" -0.016955 #\n",
      "   13.           \"Streptococcus-total\" -0.017082 #\n",
      "   14.            \"Ruminococcus-Total\" -0.018288 #\n",
      "   15.                         \"Dorea\" -0.018542 #\n",
      "   16.         \"Lachnospiraceae-Total\" -0.021273 \n",
      "   17.              \"Prevotella-Total\" -0.021400 \n",
      "   18.                 \"Lactobacillus\" -0.023495 \n",
      "   19.          \"Escherichia-Shigella\" -0.026353 \n",
      "\n",
      "Variable Importance: MEAN_DECREASE_IN_AUC_4_VS_OTHERS:\n",
      "    1.                     \"Roseburia\"  0.085191 ################\n",
      "    2. \"uncultured/unidentified-total\"  0.073248 #############\n",
      "    3.                   \"Collinsella\"  0.031350 ######\n",
      "    4.                 \"Lactobacillus\"  0.024383 ####\n",
      "    5.                \"Alloprevotella\"  0.023388 ####\n",
      "    6.             \"Coprococcus-Total\"  0.023189 ####\n",
      "    7.         \"Lachnospiraceae-Total\"  0.022393 ####\n",
      "    8.              \"Faecalibacterium\"  0.018113 ###\n",
      "    9.           \"Streptococcus-total\"  0.016919 ###\n",
      "   10.                         \"Dorea\"  0.016222 ###\n",
      "   11.                       \"Blautia\"  0.015625 ###\n",
      "   12.            \"Ruminococcus-Total\"  0.014630 ###\n",
      "   13.                     \"Dialister\"  0.013037 ##\n",
      "   14.          \"Escherichia-Shigella\"  0.011445 ##\n",
      "   15.               \"Bifidobacterium\"  0.010251 ##\n",
      "   16.         \"Ruminococcaceae-Total\"  0.005872 #\n",
      "   17.                   \"Other-Total\"  0.002687 \n",
      "   18.                   \"Bacteroides\" -0.000100 \n",
      "   19.              \"Prevotella-Total\" -0.002588 \n",
      "\n",
      "Variable Importance: NUM_NODES:\n",
      "    1. \"uncultured/unidentified-total\" 971.000000 ################\n",
      "    2.                     \"Roseburia\" 954.000000 ###############\n",
      "    3.          \"Escherichia-Shigella\" 794.000000 ##########\n",
      "    4.                         \"Dorea\" 718.000000 #######\n",
      "    5.         \"Lachnospiraceae-Total\" 689.000000 ######\n",
      "    6.                \"Alloprevotella\" 679.000000 ######\n",
      "    7.                 \"Lactobacillus\" 673.000000 ######\n",
      "    8.             \"Coprococcus-Total\" 660.000000 #####\n",
      "    9.                   \"Collinsella\" 649.000000 #####\n",
      "   10.               \"Bifidobacterium\" 641.000000 #####\n",
      "   11.         \"Ruminococcaceae-Total\" 641.000000 #####\n",
      "   12.           \"Streptococcus-total\" 620.000000 ####\n",
      "   13.                       \"Blautia\" 606.000000 ####\n",
      "   14.                   \"Bacteroides\" 600.000000 ###\n",
      "   15.                   \"Other-Total\" 595.000000 ###\n",
      "   16.                     \"Dialister\" 586.000000 ###\n",
      "   17.              \"Faecalibacterium\" 583.000000 ###\n",
      "   18.              \"Prevotella-Total\" 551.000000 ##\n",
      "   19.            \"Ruminococcus-Total\" 484.000000 \n",
      "\n",
      "Variable Importance: NUM_AS_ROOT:\n",
      "    1.                     \"Roseburia\" 126.000000 ################\n",
      "    2. \"uncultured/unidentified-total\" 126.000000 ################\n",
      "    3.         \"Lachnospiraceae-Total\" 61.000000 #######\n",
      "    4.         \"Ruminococcaceae-Total\" 46.000000 #####\n",
      "    5.                \"Alloprevotella\" 45.000000 #####\n",
      "    6.             \"Coprococcus-Total\" 40.000000 ####\n",
      "    7.            \"Ruminococcus-Total\" 27.000000 ###\n",
      "    8.                       \"Blautia\" 20.000000 ##\n",
      "    9.               \"Bifidobacterium\"  3.000000 \n",
      "   10.                         \"Dorea\"  3.000000 \n",
      "   11.                   \"Other-Total\"  2.000000 \n",
      "   12.                   \"Collinsella\"  1.000000 \n",
      "\n",
      "Variable Importance: SUM_SCORE:\n",
      "    1.                     \"Roseburia\" 13159.545603 ################\n",
      "    2. \"uncultured/unidentified-total\" 13084.791394 ###############\n",
      "    3.                \"Alloprevotella\" 6210.505895 #####\n",
      "    4.         \"Lachnospiraceae-Total\" 6023.233718 #####\n",
      "    5.             \"Coprococcus-Total\" 5171.043503 ###\n",
      "    6.         \"Ruminococcaceae-Total\" 4948.539663 ###\n",
      "    7.          \"Escherichia-Shigella\" 4547.422199 ##\n",
      "    8.                         \"Dorea\" 4170.888795 ##\n",
      "    9.                       \"Blautia\" 3752.061684 #\n",
      "   10.                 \"Lactobacillus\" 3429.992248 #\n",
      "   11.            \"Ruminococcus-Total\" 3289.264769 #\n",
      "   12.                   \"Collinsella\" 3253.962873 #\n",
      "   13.               \"Bifidobacterium\" 3231.631521 \n",
      "   14.           \"Streptococcus-total\" 3023.533047 \n",
      "   15.              \"Faecalibacterium\" 2955.527988 \n",
      "   16.                   \"Bacteroides\" 2755.572087 \n",
      "   17.                     \"Dialister\" 2742.517824 \n",
      "   18.                   \"Other-Total\" 2614.088168 \n",
      "   19.              \"Prevotella-Total\" 2577.647229 \n",
      "\n",
      "Variable Importance: MEAN_MIN_DEPTH:\n",
      "    1.                       \"__LABEL\"  5.788756 ################\n",
      "    2.                   \"Other-Total\"  5.309728 #############\n",
      "    3.                     \"Dialister\"  5.288643 ############\n",
      "    4.              \"Prevotella-Total\"  5.221067 ############\n",
      "    5.                   \"Collinsella\"  5.197725 ############\n",
      "    6.               \"Bifidobacterium\"  5.194466 ############\n",
      "    7.                   \"Bacteroides\"  5.189136 ############\n",
      "    8.              \"Faecalibacterium\"  5.158289 ############\n",
      "    9.            \"Ruminococcus-Total\"  5.071955 ###########\n",
      "   10.           \"Streptococcus-total\"  5.050267 ###########\n",
      "   11.                       \"Blautia\"  5.012165 ###########\n",
      "   12.                 \"Lactobacillus\"  4.956575 ##########\n",
      "   13.                         \"Dorea\"  4.879181 ##########\n",
      "   14.          \"Escherichia-Shigella\"  4.752812 #########\n",
      "   15.         \"Ruminococcaceae-Total\"  4.602450 ########\n",
      "   16.         \"Lachnospiraceae-Total\"  4.523028 ########\n",
      "   17.             \"Coprococcus-Total\"  4.507997 ########\n",
      "   18.                \"Alloprevotella\"  4.067213 #####\n",
      "   19.                     \"Roseburia\"  3.190629 \n",
      "   20. \"uncultured/unidentified-total\"  3.154090 \n",
      "\n",
      "\n",
      "\n",
      "Winner take all: true\n",
      "Out-of-bag evaluation: accuracy:0.195767 logloss:1.87613\n",
      "Number of trees: 500\n",
      "Total number of nodes: 25888\n",
      "\n",
      "Number of nodes by tree:\n",
      "Count: 500 Average: 51.776 StdDev: 2.87434\n",
      "Min: 45 Max: 61 Ignored: 0\n",
      "----------------------------------------------\n",
      "[ 45, 46)   7   1.40%   1.40% #\n",
      "[ 46, 47)   0   0.00%   1.40%\n",
      "[ 47, 48)  46   9.20%  10.60% ###\n",
      "[ 48, 49)   0   0.00%  10.60%\n",
      "[ 49, 50)  77  15.40%  26.00% ######\n",
      "[ 50, 51)   0   0.00%  26.00%\n",
      "[ 51, 52) 139  27.80%  53.80% ##########\n",
      "[ 52, 53)   0   0.00%  53.80%\n",
      "[ 53, 54) 117  23.40%  77.20% ########\n",
      "[ 54, 55)   0   0.00%  77.20%\n",
      "[ 55, 56)  82  16.40%  93.60% ######\n",
      "[ 56, 57)   0   0.00%  93.60%\n",
      "[ 57, 58)  26   5.20%  98.80% ##\n",
      "[ 58, 59)   0   0.00%  98.80%\n",
      "[ 59, 60)   5   1.00%  99.80%\n",
      "[ 60, 61)   0   0.00%  99.80%\n",
      "[ 61, 61]   1   0.20% 100.00%\n",
      "\n",
      "Depth by leafs:\n",
      "Count: 13194 Average: 5.79597 StdDev: 2.00304\n",
      "Min: 1 Max: 15 Ignored: 0\n",
      "----------------------------------------------\n",
      "[  1,  2)    2   0.02%   0.02%\n",
      "[  2,  3)  227   1.72%   1.74% #\n",
      "[  3,  4) 1257   9.53%  11.26% #####\n",
      "[  4,  5) 2305  17.47%  28.73% #########\n",
      "[  5,  6) 2702  20.48%  49.21% ##########\n",
      "[  6,  7) 2269  17.20%  66.41% ########\n",
      "[  7,  8) 1836  13.92%  80.32% #######\n",
      "[  8,  9) 1269   9.62%  89.94% #####\n",
      "[  9, 10)  739   5.60%  95.54% ###\n",
      "[ 10, 11)  338   2.56%  98.11% #\n",
      "[ 11, 12)  163   1.24%  99.34% #\n",
      "[ 12, 13)   63   0.48%  99.82%\n",
      "[ 13, 14)   21   0.16%  99.98%\n",
      "[ 14, 15)    1   0.01%  99.98%\n",
      "[ 15, 15]    2   0.02% 100.00%\n",
      "\n",
      "Number of training obs by leaf:\n",
      "Count: 13194 Average: 7.16235 StdDev: 3.56711\n",
      "Min: 5 Max: 39 Ignored: 0\n",
      "----------------------------------------------\n",
      "[  5,  6) 4419  33.49%  33.49% #########\n",
      "[  6,  8) 4909  37.21%  70.70% ##########\n",
      "[  8, 10) 2726  20.66%  91.36% ######\n",
      "[ 10, 12)  527   3.99%  95.35% #\n",
      "[ 12, 13)   75   0.57%  95.92%\n",
      "[ 13, 15)   59   0.45%  96.37%\n",
      "[ 15, 17)   55   0.42%  96.79%\n",
      "[ 17, 19)   68   0.52%  97.30%\n",
      "[ 19, 20)   27   0.20%  97.51%\n",
      "[ 20, 22)   65   0.49%  98.00%\n",
      "[ 22, 24)   66   0.50%  98.50%\n",
      "[ 24, 26)   59   0.45%  98.95%\n",
      "[ 26, 27)   24   0.18%  99.13%\n",
      "[ 27, 29)   35   0.27%  99.39%\n",
      "[ 29, 31)   42   0.32%  99.71%\n",
      "[ 31, 33)   15   0.11%  99.83%\n",
      "[ 33, 34)   10   0.08%  99.90%\n",
      "[ 34, 36)    5   0.04%  99.94%\n",
      "[ 36, 38)    7   0.05%  99.99%\n",
      "[ 38, 39]    1   0.01% 100.00%\n",
      "\n",
      "Attribute in nodes:\n",
      "\t971 : uncultured/unidentified-total [NUMERICAL]\n",
      "\t954 : Roseburia [NUMERICAL]\n",
      "\t794 : Escherichia-Shigella [NUMERICAL]\n",
      "\t718 : Dorea [NUMERICAL]\n",
      "\t689 : Lachnospiraceae-Total [NUMERICAL]\n",
      "\t679 : Alloprevotella [NUMERICAL]\n",
      "\t673 : Lactobacillus [NUMERICAL]\n",
      "\t660 : Coprococcus-Total [NUMERICAL]\n",
      "\t649 : Collinsella [NUMERICAL]\n",
      "\t641 : Ruminococcaceae-Total [NUMERICAL]\n",
      "\t641 : Bifidobacterium [NUMERICAL]\n",
      "\t620 : Streptococcus-total [NUMERICAL]\n",
      "\t606 : Blautia [NUMERICAL]\n",
      "\t600 : Bacteroides [NUMERICAL]\n",
      "\t595 : Other-Total [NUMERICAL]\n",
      "\t586 : Dialister [NUMERICAL]\n",
      "\t583 : Faecalibacterium [NUMERICAL]\n",
      "\t551 : Prevotella-Total [NUMERICAL]\n",
      "\t484 : Ruminococcus-Total [NUMERICAL]\n",
      "\n",
      "Attribute in nodes with depth <= 0:\n",
      "\t126 : uncultured/unidentified-total [NUMERICAL]\n",
      "\t126 : Roseburia [NUMERICAL]\n",
      "\t61 : Lachnospiraceae-Total [NUMERICAL]\n",
      "\t46 : Ruminococcaceae-Total [NUMERICAL]\n",
      "\t45 : Alloprevotella [NUMERICAL]\n",
      "\t40 : Coprococcus-Total [NUMERICAL]\n",
      "\t27 : Ruminococcus-Total [NUMERICAL]\n",
      "\t20 : Blautia [NUMERICAL]\n",
      "\t3 : Dorea [NUMERICAL]\n",
      "\t3 : Bifidobacterium [NUMERICAL]\n",
      "\t2 : Other-Total [NUMERICAL]\n",
      "\t1 : Collinsella [NUMERICAL]\n",
      "\n",
      "Attribute in nodes with depth <= 1:\n",
      "\t289 : uncultured/unidentified-total [NUMERICAL]\n",
      "\t266 : Roseburia [NUMERICAL]\n",
      "\t157 : Alloprevotella [NUMERICAL]\n",
      "\t120 : Coprococcus-Total [NUMERICAL]\n",
      "\t116 : Lachnospiraceae-Total [NUMERICAL]\n",
      "\t89 : Ruminococcaceae-Total [NUMERICAL]\n",
      "\t67 : Escherichia-Shigella [NUMERICAL]\n",
      "\t67 : Blautia [NUMERICAL]\n",
      "\t63 : Ruminococcus-Total [NUMERICAL]\n",
      "\t45 : Dorea [NUMERICAL]\n",
      "\t29 : Faecalibacterium [NUMERICAL]\n",
      "\t28 : Dialister [NUMERICAL]\n",
      "\t27 : Collinsella [NUMERICAL]\n",
      "\t26 : Prevotella-Total [NUMERICAL]\n",
      "\t25 : Other-Total [NUMERICAL]\n",
      "\t25 : Bifidobacterium [NUMERICAL]\n",
      "\t23 : Streptococcus-total [NUMERICAL]\n",
      "\t20 : Lactobacillus [NUMERICAL]\n",
      "\t16 : Bacteroides [NUMERICAL]\n",
      "\n",
      "Attribute in nodes with depth <= 2:\n",
      "\t463 : uncultured/unidentified-total [NUMERICAL]\n",
      "\t430 : Roseburia [NUMERICAL]\n",
      "\t265 : Alloprevotella [NUMERICAL]\n",
      "\t203 : Coprococcus-Total [NUMERICAL]\n",
      "\t202 : Lachnospiraceae-Total [NUMERICAL]\n",
      "\t192 : Escherichia-Shigella [NUMERICAL]\n",
      "\t180 : Ruminococcaceae-Total [NUMERICAL]\n",
      "\t144 : Blautia [NUMERICAL]\n",
      "\t141 : Dorea [NUMERICAL]\n",
      "\t125 : Collinsella [NUMERICAL]\n",
      "\t124 : Ruminococcus-Total [NUMERICAL]\n",
      "\t115 : Lactobacillus [NUMERICAL]\n",
      "\t113 : Bifidobacterium [NUMERICAL]\n",
      "\t108 : Faecalibacterium [NUMERICAL]\n",
      "\t97 : Dialister [NUMERICAL]\n",
      "\t95 : Bacteroides [NUMERICAL]\n",
      "\t94 : Streptococcus-total [NUMERICAL]\n",
      "\t91 : Other-Total [NUMERICAL]\n",
      "\t85 : Prevotella-Total [NUMERICAL]\n",
      "\n",
      "Attribute in nodes with depth <= 3:\n",
      "\t600 : uncultured/unidentified-total [NUMERICAL]\n",
      "\t595 : Roseburia [NUMERICAL]\n",
      "\t368 : Alloprevotella [NUMERICAL]\n",
      "\t343 : Escherichia-Shigella [NUMERICAL]\n",
      "\t315 : Dorea [NUMERICAL]\n",
      "\t312 : Lachnospiraceae-Total [NUMERICAL]\n",
      "\t311 : Coprococcus-Total [NUMERICAL]\n",
      "\t279 : Ruminococcaceae-Total [NUMERICAL]\n",
      "\t250 : Collinsella [NUMERICAL]\n",
      "\t247 : Blautia [NUMERICAL]\n",
      "\t245 : Lactobacillus [NUMERICAL]\n",
      "\t244 : Bifidobacterium [NUMERICAL]\n",
      "\t220 : Streptococcus-total [NUMERICAL]\n",
      "\t216 : Bacteroides [NUMERICAL]\n",
      "\t212 : Dialister [NUMERICAL]\n",
      "\t208 : Ruminococcus-Total [NUMERICAL]\n",
      "\t204 : Other-Total [NUMERICAL]\n",
      "\t204 : Faecalibacterium [NUMERICAL]\n",
      "\t175 : Prevotella-Total [NUMERICAL]\n",
      "\n",
      "Attribute in nodes with depth <= 5:\n",
      "\t812 : uncultured/unidentified-total [NUMERICAL]\n",
      "\t799 : Roseburia [NUMERICAL]\n",
      "\t603 : Escherichia-Shigella [NUMERICAL]\n",
      "\t545 : Dorea [NUMERICAL]\n",
      "\t539 : Alloprevotella [NUMERICAL]\n",
      "\t517 : Lachnospiraceae-Total [NUMERICAL]\n",
      "\t501 : Collinsella [NUMERICAL]\n",
      "\t499 : Lactobacillus [NUMERICAL]\n",
      "\t493 : Coprococcus-Total [NUMERICAL]\n",
      "\t484 : Ruminococcaceae-Total [NUMERICAL]\n",
      "\t469 : Bifidobacterium [NUMERICAL]\n",
      "\t463 : Blautia [NUMERICAL]\n",
      "\t462 : Streptococcus-total [NUMERICAL]\n",
      "\t439 : Bacteroides [NUMERICAL]\n",
      "\t423 : Dialister [NUMERICAL]\n",
      "\t414 : Faecalibacterium [NUMERICAL]\n",
      "\t405 : Other-Total [NUMERICAL]\n",
      "\t402 : Prevotella-Total [NUMERICAL]\n",
      "\t348 : Ruminococcus-Total [NUMERICAL]\n",
      "\n",
      "Condition type in nodes:\n",
      "\t12694 : HigherCondition\n",
      "Condition type in nodes with depth <= 0:\n",
      "\t500 : HigherCondition\n",
      "Condition type in nodes with depth <= 1:\n",
      "\t1498 : HigherCondition\n",
      "Condition type in nodes with depth <= 2:\n",
      "\t3267 : HigherCondition\n",
      "Condition type in nodes with depth <= 3:\n",
      "\t5548 : HigherCondition\n",
      "Condition type in nodes with depth <= 5:\n",
      "\t9617 : HigherCondition\n",
      "\n",
      "Training OOB:\n",
      "\ttrees: 1, Out-of-bag evaluation: accuracy:0.338462 logloss:23.8443\n",
      "\ttrees: 11, Out-of-bag evaluation: accuracy:0.265957 logloss:16.5886\n",
      "\ttrees: 21, Out-of-bag evaluation: accuracy:0.269841 logloss:12.8045\n",
      "\ttrees: 32, Out-of-bag evaluation: accuracy:0.259259 logloss:7.4932\n",
      "\ttrees: 42, Out-of-bag evaluation: accuracy:0.238095 logloss:5.54284\n",
      "\ttrees: 52, Out-of-bag evaluation: accuracy:0.21164 logloss:4.49842\n",
      "\ttrees: 62, Out-of-bag evaluation: accuracy:0.21164 logloss:4.49582\n",
      "\ttrees: 72, Out-of-bag evaluation: accuracy:0.216931 logloss:4.1299\n",
      "\ttrees: 82, Out-of-bag evaluation: accuracy:0.206349 logloss:3.25238\n",
      "\ttrees: 92, Out-of-bag evaluation: accuracy:0.21164 logloss:2.90203\n",
      "\ttrees: 102, Out-of-bag evaluation: accuracy:0.195767 logloss:2.89038\n",
      "\ttrees: 113, Out-of-bag evaluation: accuracy:0.206349 logloss:2.88909\n",
      "\ttrees: 123, Out-of-bag evaluation: accuracy:0.201058 logloss:2.8954\n",
      "\ttrees: 133, Out-of-bag evaluation: accuracy:0.206349 logloss:2.86887\n",
      "\ttrees: 145, Out-of-bag evaluation: accuracy:0.206349 logloss:2.86644\n",
      "\ttrees: 156, Out-of-bag evaluation: accuracy:0.195767 logloss:2.70847\n",
      "\ttrees: 167, Out-of-bag evaluation: accuracy:0.201058 logloss:2.5368\n",
      "\ttrees: 177, Out-of-bag evaluation: accuracy:0.195767 logloss:2.53888\n",
      "\ttrees: 187, Out-of-bag evaluation: accuracy:0.195767 logloss:2.5323\n",
      "\ttrees: 197, Out-of-bag evaluation: accuracy:0.195767 logloss:2.5361\n",
      "\ttrees: 207, Out-of-bag evaluation: accuracy:0.195767 logloss:2.54105\n",
      "\ttrees: 217, Out-of-bag evaluation: accuracy:0.195767 logloss:2.3697\n",
      "\ttrees: 227, Out-of-bag evaluation: accuracy:0.195767 logloss:2.3696\n",
      "\ttrees: 237, Out-of-bag evaluation: accuracy:0.190476 logloss:2.36948\n",
      "\ttrees: 247, Out-of-bag evaluation: accuracy:0.190476 logloss:2.36722\n",
      "\ttrees: 257, Out-of-bag evaluation: accuracy:0.201058 logloss:2.36378\n",
      "\ttrees: 267, Out-of-bag evaluation: accuracy:0.195767 logloss:2.3618\n",
      "\ttrees: 277, Out-of-bag evaluation: accuracy:0.195767 logloss:2.35927\n",
      "\ttrees: 287, Out-of-bag evaluation: accuracy:0.190476 logloss:2.35921\n",
      "\ttrees: 297, Out-of-bag evaluation: accuracy:0.190476 logloss:2.35819\n",
      "\ttrees: 307, Out-of-bag evaluation: accuracy:0.201058 logloss:2.35659\n",
      "\ttrees: 318, Out-of-bag evaluation: accuracy:0.190476 logloss:2.35926\n",
      "\ttrees: 329, Out-of-bag evaluation: accuracy:0.190476 logloss:2.35722\n",
      "\ttrees: 340, Out-of-bag evaluation: accuracy:0.190476 logloss:2.19137\n",
      "\ttrees: 350, Out-of-bag evaluation: accuracy:0.195767 logloss:2.19793\n",
      "\ttrees: 360, Out-of-bag evaluation: accuracy:0.185185 logloss:2.1937\n",
      "\ttrees: 370, Out-of-bag evaluation: accuracy:0.195767 logloss:2.19284\n",
      "\ttrees: 380, Out-of-bag evaluation: accuracy:0.195767 logloss:2.19242\n",
      "\ttrees: 390, Out-of-bag evaluation: accuracy:0.201058 logloss:2.19007\n",
      "\ttrees: 401, Out-of-bag evaluation: accuracy:0.201058 logloss:2.19032\n",
      "\ttrees: 411, Out-of-bag evaluation: accuracy:0.195767 logloss:2.19416\n",
      "\ttrees: 421, Out-of-bag evaluation: accuracy:0.206349 logloss:2.19261\n",
      "\ttrees: 433, Out-of-bag evaluation: accuracy:0.206349 logloss:2.19632\n",
      "\ttrees: 443, Out-of-bag evaluation: accuracy:0.206349 logloss:2.19937\n",
      "\ttrees: 453, Out-of-bag evaluation: accuracy:0.190476 logloss:2.03608\n",
      "\ttrees: 463, Out-of-bag evaluation: accuracy:0.195767 logloss:1.87054\n",
      "\ttrees: 473, Out-of-bag evaluation: accuracy:0.201058 logloss:1.87238\n",
      "\ttrees: 483, Out-of-bag evaluation: accuracy:0.195767 logloss:1.8721\n",
      "\ttrees: 494, Out-of-bag evaluation: accuracy:0.190476 logloss:1.87348\n",
      "\ttrees: 500, Out-of-bag evaluation: accuracy:0.195767 logloss:1.87613\n",
      "\n"
     ]
    }
   ],
   "source": [
    "%set_cell_height 300\n",
    "model.summary()"
   ]
  },
  {
   "cell_type": "code",
   "execution_count": 141,
   "metadata": {
    "colab": {
     "base_uri": "https://localhost:8080/"
    },
    "executionInfo": {
     "elapsed": 168,
     "status": "ok",
     "timestamp": 1622541880772,
     "user": {
      "displayName": "Animesh Sharma",
      "photoUrl": "https://lh3.googleusercontent.com/a-/AOh14GgtBEA8HpNXZlxHZ_XN2a7ZU56EZ5DMTqQk-tsov3Y=s64",
      "userId": "07446072663021710031"
     },
     "user_tz": -120
    },
    "id": "K754gOsxsCeg",
    "outputId": "10009480-6885-48be-8aef-c767364d9056"
   },
   "outputs": [
    {
     "name": "stdout",
     "output_type": "stream",
     "text": [
      "3/3 [==============================] - 0s 7ms/step - loss: 0.0000e+00 - accuracy: 0.6561\n",
      "\n",
      "loss: 0.0000\n",
      "accuracy: 0.6561\n"
     ]
    }
   ],
   "source": [
    "evaluation = model.evaluate(dataset_tf, return_dict=True)\n",
    "print()\n",
    "for name, value in evaluation.items():\n",
    "  print(f\"{name}: {value:.4f}\")"
   ]
  },
  {
   "cell_type": "code",
   "execution_count": 142,
   "metadata": {
    "colab": {
     "base_uri": "https://localhost:8080/",
     "height": 932
    },
    "executionInfo": {
     "elapsed": 150,
     "status": "ok",
     "timestamp": 1622541880773,
     "user": {
      "displayName": "Animesh Sharma",
      "photoUrl": "https://lh3.googleusercontent.com/a-/AOh14GgtBEA8HpNXZlxHZ_XN2a7ZU56EZ5DMTqQk-tsov3Y=s64",
      "userId": "07446072663021710031"
     },
     "user_tz": -120
    },
    "id": "q-QJ4kfHPagl",
    "outputId": "d3a91912-841f-4938-a719-bebbc0b26f03"
   },
   "outputs": [
    {
     "data": {
      "text/html": [
       "\n",
       "<script src=\"https://d3js.org/d3.v6.min.js\"></script>\n",
       "<div id=\"tree_plot_fdfce4b1fe28440c9bc8281d3dd01a1b\"></div>\n",
       "<script>\n",
       "/*\n",
       " * Copyright 2021 Google LLC.\n",
       " * Licensed under the Apache License, Version 2.0 (the \"License\");\n",
       " * you may not use this file except in compliance with the License.\n",
       " * You may obtain a copy of the License at\n",
       " *\n",
       " *     https://www.apache.org/licenses/LICENSE-2.0\n",
       " *\n",
       " * Unless required by applicable law or agreed to in writing, software\n",
       " * distributed under the License is distributed on an \"AS IS\" BASIS,\n",
       " * WITHOUT WARRANTIES OR CONDITIONS OF ANY KIND, either express or implied.\n",
       " * See the License for the specific language governing permissions and\n",
       " * limitations under the License.\n",
       " */\n",
       "\n",
       "/**\n",
       " *  Plotting of decision trees generated by TF-DF.\n",
       " *\n",
       " *  A tree is a recursive structure of node objects.\n",
       " *  A node contains one or more of the following components:\n",
       " *\n",
       " *    - A value: Representing the output of the node. If the node is not a leaf,\n",
       " *      the value is only present for analysis i.e. it is not used for\n",
       " *      predictions.\n",
       " *\n",
       " *    - A condition : For non-leaf nodes, the condition (also known as split)\n",
       " *      defines a binary test to branch to the positive or negative child.\n",
       " *\n",
       " *    - An explanation: Generally a plot showing the relation between the label\n",
       " *      and the condition to give insights about the effect of the condition.\n",
       " *\n",
       " *    - Two children : For non-leaf nodes, the children nodes. The first\n",
       " *      children (i.e. \"node.children[0]\") is the negative children (drawn in\n",
       " *      red). The second children is the positive one (drawn in green).\n",
       " *\n",
       " */\n",
       "\n",
       "/**\n",
       " * Generate the default options object.\n",
       " * @return {!options} Default configuration options.\n",
       " */\n",
       "function build_default_options() {\n",
       "  // Display configuration.\n",
       "  // Note: Dimensions are expressed in pixels.\n",
       "  return {\n",
       "    // Margin around the entire plot.\n",
       "    margin: 10,\n",
       "\n",
       "    // Size of a tree node.\n",
       "    node_x_size: 160,\n",
       "    node_y_size: 12 * 2 + 4,\n",
       "\n",
       "    // Space between tree nodes.\n",
       "    node_x_offset: 160 + 20,\n",
       "    node_y_offset: 12 * 2 + 4 + 5,\n",
       "\n",
       "    // Text size.\n",
       "    font_size: 10,\n",
       "\n",
       "    // Rounding effect of the edges.\n",
       "    // This value is the distance (in pixel) of the Bezier control anchor from\n",
       "    // the source point.\n",
       "    edge_rounding: 20,\n",
       "\n",
       "    // Padding inside nodes.\n",
       "    node_padding: 2,\n",
       "\n",
       "    // Show a bb box around the plot. For debug only.\n",
       "    show_plot_bounding_box: false,\n",
       "  };\n",
       "}\n",
       "\n",
       "/**\n",
       " * Plots a single decision tree into a DOM element.\n",
       " * @param {!options} options Dictionary of configurations.\n",
       " * @param {!tree} raw_tree Recursive tree structure.\n",
       " * @param {string} canvas_id Id of the output dom element.\n",
       " */\n",
       "function display_tree(options, raw_tree, canvas_id) {\n",
       "  // Get default options.\n",
       "  const default_options = build_default_options();\n",
       "  Object.keys(default_options).forEach(function(key) {\n",
       "    if (!(key in options)) {\n",
       "      options[key] = default_options[key];\n",
       "    }\n",
       "  });\n",
       "\n",
       "  console.log(options);\n",
       "\n",
       "  // Determine the node placement.\n",
       "  const tree_struct = d3.tree().nodeSize(\n",
       "      [options.node_y_offset, options.node_x_offset])(d3.hierarchy(raw_tree));\n",
       "\n",
       "  // Boundaries of the node placement.\n",
       "  let x_min = Infinity;\n",
       "  let x_max = -x_min;\n",
       "  let y_min = Infinity;\n",
       "  let y_max = -x_min;\n",
       "\n",
       "  tree_struct.each(d => {\n",
       "    if (d.x > x_max) x_max = d.x;\n",
       "    if (d.x < x_min) x_min = d.x;\n",
       "    if (d.y > y_max) y_max = d.y;\n",
       "    if (d.y < y_min) y_min = d.y;\n",
       "  });\n",
       "\n",
       "  // Size of the plot.\n",
       "  const width = y_max - y_min + options.node_x_size + options.margin * 2;\n",
       "  const height = x_max - x_min + options.node_y_size + options.margin * 2 +\n",
       "      options.node_y_offset - options.node_y_size;\n",
       "\n",
       "  const plot = d3.select(canvas_id);\n",
       "\n",
       "  // Tool tip\n",
       "  options.tooltip = plot.append('div')\n",
       "                        .attr('width', 100)\n",
       "                        .attr('height', 100)\n",
       "                        .style('padding', '4px')\n",
       "                        .style('background', '#fff')\n",
       "                        .style('box-shadow', '4px 4px 0px rgba(0,0,0,0.1)')\n",
       "                        .style('border', '1px solid black')\n",
       "                        .style('font-family', 'sans-serif')\n",
       "                        .style('font-size', options.font_size)\n",
       "                        .style('position', 'absolute')\n",
       "                        .style('z-index', '10')\n",
       "                        .attr('pointer-events', 'none')\n",
       "                        .style('display', 'none');\n",
       "\n",
       "  // Create canvas\n",
       "  const svg = plot.append('svg').attr('width', width).attr('height', height);\n",
       "  const graph =\n",
       "      svg.style('overflow', 'visible')\n",
       "          .append('g')\n",
       "          .attr('font-family', 'sans-serif')\n",
       "          .attr('font-size', options.font_size)\n",
       "          .attr(\n",
       "              'transform',\n",
       "              () => `translate(${options.margin},${\n",
       "                  - x_min + options.node_y_offset / 2 + options.margin})`);\n",
       "\n",
       "  // Plot bounding box.\n",
       "  if (options.show_plot_bounding_box) {\n",
       "    svg.append('rect')\n",
       "        .attr('width', width)\n",
       "        .attr('height', height)\n",
       "        .attr('fill', 'none')\n",
       "        .attr('stroke-width', 1.0)\n",
       "        .attr('stroke', 'black');\n",
       "  }\n",
       "\n",
       "  // Draw the edges.\n",
       "  display_edges(options, graph, tree_struct);\n",
       "\n",
       "  // Draw the nodes.\n",
       "  display_nodes(options, graph, tree_struct);\n",
       "}\n",
       "\n",
       "/**\n",
       " * Draw the nodes of the tree.\n",
       " * @param {!options} options Dictionary of configurations.\n",
       " * @param {!graph} graph D3 search handle containing the graph.\n",
       " * @param {!tree_struct} tree_struct Structure of the tree (node placement,\n",
       " *     data, etc.).\n",
       " */\n",
       "function display_nodes(options, graph, tree_struct) {\n",
       "  const nodes = graph.append('g')\n",
       "                    .selectAll('g')\n",
       "                    .data(tree_struct.descendants())\n",
       "                    .join('g')\n",
       "                    .attr('transform', d => `translate(${d.y},${d.x})`);\n",
       "\n",
       "  nodes.append('rect')\n",
       "      .attr('x', 0.5)\n",
       "      .attr('y', 0.5)\n",
       "      .attr('width', options.node_x_size)\n",
       "      .attr('height', options.node_y_size)\n",
       "      .attr('stroke', 'lightgrey')\n",
       "      .attr('stroke-width', 1)\n",
       "      .attr('fill', 'white')\n",
       "      .attr('y', -options.node_y_size / 2);\n",
       "\n",
       "  // Brackets on the right of condition nodes without children.\n",
       "  non_leaf_node_without_children =\n",
       "      nodes.filter(node => node.data.condition != null && node.children == null)\n",
       "          .append('g')\n",
       "          .attr('transform', `translate(${options.node_x_size},0)`);\n",
       "\n",
       "  non_leaf_node_without_children.append('path')\n",
       "      .attr('d', 'M0,0 C 10,0 0,10 10,10')\n",
       "      .attr('fill', 'none')\n",
       "      .attr('stroke-width', 1.0)\n",
       "      .attr('stroke', '#F00');\n",
       "\n",
       "  non_leaf_node_without_children.append('path')\n",
       "      .attr('d', 'M0,0 C 10,0 0,-10 10,-10')\n",
       "      .attr('fill', 'none')\n",
       "      .attr('stroke-width', 1.0)\n",
       "      .attr('stroke', '#0F0');\n",
       "\n",
       "  const node_content = nodes.append('g').attr(\n",
       "      'transform',\n",
       "      `translate(0,${options.node_padding - options.node_y_size / 2})`);\n",
       "\n",
       "  node_content.append(node => create_node_element(options, node));\n",
       "}\n",
       "\n",
       "/**\n",
       " * Creates the D3 content for a single node.\n",
       " * @param {!options} options Dictionary of configurations.\n",
       " * @param {!node} node Node to draw.\n",
       " * @return {!d3} D3 content.\n",
       " */\n",
       "function create_node_element(options, node) {\n",
       "  // Output accumulator.\n",
       "  let output = {\n",
       "    // Content to draw.\n",
       "    content: d3.create('svg:g'),\n",
       "    // Vertical offset to the next element to draw.\n",
       "    vertical_offset: 0\n",
       "  };\n",
       "\n",
       "  // Conditions.\n",
       "  if (node.data.condition != null) {\n",
       "    display_condition(options, node.data.condition, output);\n",
       "  }\n",
       "\n",
       "  // Values.\n",
       "  if (node.data.value != null) {\n",
       "    display_value(options, node.data.value, output);\n",
       "  }\n",
       "\n",
       "  // Explanations.\n",
       "  if (node.data.explanation != null) {\n",
       "    display_explanation(options, node.data.explanation, output);\n",
       "  }\n",
       "\n",
       "  return output.content.node();\n",
       "}\n",
       "\n",
       "\n",
       "/**\n",
       " * Adds a single line of text inside of a node.\n",
       " * @param {!options} options Dictionary of configurations.\n",
       " * @param {string} text Text to display.\n",
       " * @param {!output} output Output display accumulator.\n",
       " */\n",
       "function display_node_text(options, text, output) {\n",
       "  output.content.append('text')\n",
       "      .attr('x', options.node_padding)\n",
       "      .attr('y', output.vertical_offset)\n",
       "      .attr('alignment-baseline', 'hanging')\n",
       "      .text(text);\n",
       "  output.vertical_offset += 10;\n",
       "}\n",
       "\n",
       "/**\n",
       " * Adds a single line of text inside of a node with a tooltip.\n",
       " * @param {!options} options Dictionary of configurations.\n",
       " * @param {string} text Text to display.\n",
       " * @param {string} tooltip Text in the Tooltip.\n",
       " * @param {!output} output Output display accumulator.\n",
       " */\n",
       "function display_node_text_with_tooltip(options, text, tooltip, output) {\n",
       "  const item = output.content.append('text')\n",
       "                   .attr('x', options.node_padding)\n",
       "                   .attr('alignment-baseline', 'hanging')\n",
       "                   .text(text);\n",
       "\n",
       "  add_tooltip(options, item, () => tooltip);\n",
       "  output.vertical_offset += 10;\n",
       "}\n",
       "\n",
       "/**\n",
       " * Adds a tooltip to a dom element.\n",
       " * @param {!options} options Dictionary of configurations.\n",
       " * @param {!dom} target Dom element to equip with a tooltip.\n",
       " * @param {!func} get_content Generates the html content of the tooltip.\n",
       " */\n",
       "function add_tooltip(options, target, get_content) {\n",
       "  function show(d) {\n",
       "    options.tooltip.style('display', 'block');\n",
       "    options.tooltip.html(get_content());\n",
       "  }\n",
       "\n",
       "  function hide(d) {\n",
       "    options.tooltip.style('display', 'none');\n",
       "  }\n",
       "\n",
       "  function move(d) {\n",
       "    options.tooltip.style('display', 'block');\n",
       "    options.tooltip.style('left', (d.pageX + 5) + 'px');\n",
       "    options.tooltip.style('top', d.pageY + 'px');\n",
       "  }\n",
       "\n",
       "  target.on('mouseover', show);\n",
       "  target.on('mouseout', hide);\n",
       "  target.on('mousemove', move);\n",
       "}\n",
       "\n",
       "/**\n",
       " * Adds a condition inside of a node.\n",
       " * @param {!options} options Dictionary of configurations.\n",
       " * @param {!condition} condition Condition to display.\n",
       " * @param {!output} output Output display accumulator.\n",
       " */\n",
       "function display_condition(options, condition, output) {\n",
       "  threshold_format = d3.format('r');\n",
       "\n",
       "  if (condition.type === 'IS_MISSING') {\n",
       "    display_node_text(options, `${condition.attribute} is missing`, output);\n",
       "    return;\n",
       "  }\n",
       "\n",
       "  if (condition.type === 'IS_TRUE') {\n",
       "    display_node_text(options, `${condition.attribute} is true`, output);\n",
       "    return;\n",
       "  }\n",
       "\n",
       "  if (condition.type === 'NUMERICAL_IS_HIGHER_THAN') {\n",
       "    format = d3.format('r');\n",
       "    display_node_text(\n",
       "        options,\n",
       "        `${condition.attribute} >= ${threshold_format(condition.threshold)}`,\n",
       "        output);\n",
       "    return;\n",
       "  }\n",
       "\n",
       "  if (condition.type === 'CATEGORICAL_IS_IN') {\n",
       "    display_node_text_with_tooltip(\n",
       "        options, `${condition.attribute} in [...]`,\n",
       "        `${condition.attribute} in [${condition.mask}]`, output);\n",
       "    return;\n",
       "  }\n",
       "\n",
       "  if (condition.type === 'CATEGORICAL_SET_CONTAINS') {\n",
       "    display_node_text_with_tooltip(\n",
       "        options, `${condition.attribute} intersect [...]`,\n",
       "        `${condition.attribute} intersect [${condition.mask}]`, output);\n",
       "    return;\n",
       "  }\n",
       "\n",
       "  if (condition.type === 'NUMERICAL_SPARSE_OBLIQUE') {\n",
       "    display_node_text_with_tooltip(\n",
       "        options, `Sparse oblique split...`,\n",
       "        `[${condition.attributes}]*[${condition.weights}]>=${\n",
       "            threshold_format(condition.threshold)}`,\n",
       "        output);\n",
       "    return;\n",
       "  }\n",
       "\n",
       "  display_node_text(\n",
       "      options, `Non supported condition ${condition.type}`, output);\n",
       "}\n",
       "\n",
       "/**\n",
       " * Adds a value inside of a node.\n",
       " * @param {!options} options Dictionary of configurations.\n",
       " * @param {!value} value Value to display.\n",
       " * @param {!output} output Output display accumulator.\n",
       " */\n",
       "function display_value(options, value, output) {\n",
       "  if (value.type === 'PROBABILITY') {\n",
       "    const left_margin = 0;\n",
       "    const right_margin = 50;\n",
       "    const plot_width = options.node_x_size - options.node_padding * 2 -\n",
       "        left_margin - right_margin;\n",
       "\n",
       "    let cusum = Array.from(d3.cumsum(value.distribution));\n",
       "    cusum.unshift(0);\n",
       "    const distribution_plot = output.content.append('g').attr(\n",
       "        'transform', `translate(0,${output.vertical_offset + 0.5})`);\n",
       "\n",
       "    distribution_plot.selectAll('rect')\n",
       "        .data(value.distribution)\n",
       "        .join('rect')\n",
       "        .attr('height', 10)\n",
       "        .attr(\n",
       "            'x',\n",
       "            (d, i) =>\n",
       "                (cusum[i] * plot_width + left_margin + options.node_padding))\n",
       "        .attr('width', (d, i) => d * plot_width)\n",
       "        .style('fill', (d, i) => d3.schemeSet1[i]);\n",
       "\n",
       "    const num_examples =\n",
       "        output.content.append('g')\n",
       "            .attr('transform', `translate(0,${output.vertical_offset})`)\n",
       "            .append('text')\n",
       "            .attr('x', options.node_x_size - options.node_padding)\n",
       "            .attr('alignment-baseline', 'hanging')\n",
       "            .attr('text-anchor', 'end')\n",
       "            .text(`(${value.num_examples})`);\n",
       "\n",
       "    const distribution_details = d3.create('ul');\n",
       "    distribution_details.selectAll('li')\n",
       "        .data(value.distribution)\n",
       "        .join('li')\n",
       "        .append('span')\n",
       "        .text(\n",
       "            (d, i) =>\n",
       "                'class ' + i + ': ' + d3.format('.3%')(value.distribution[i]));\n",
       "\n",
       "    add_tooltip(options, distribution_plot, () => distribution_details.html());\n",
       "    add_tooltip(options, num_examples, () => 'Number of examples');\n",
       "\n",
       "    output.vertical_offset += 10;\n",
       "    return;\n",
       "  }\n",
       "\n",
       "  if (value.type === 'REGRESSION') {\n",
       "    display_node_text(\n",
       "        options,\n",
       "        'value: ' + d3.format('r')(value.value) + ` (${value.num_examples})`,\n",
       "        output);\n",
       "    return;\n",
       "  }\n",
       "\n",
       "  display_node_text(options, `Non supported value ${value.type}`, output);\n",
       "}\n",
       "\n",
       "/**\n",
       " * Adds an explanation inside of a node.\n",
       " * @param {!options} options Dictionary of configurations.\n",
       " * @param {!explanation} explanation Explanation to display.\n",
       " * @param {!output} output Output display accumulator.\n",
       " */\n",
       "function display_explanation(options, explanation, output) {\n",
       "  // Margin before the explanation.\n",
       "  output.vertical_offset += 10;\n",
       "\n",
       "  display_node_text(\n",
       "      options, `Non supported explanation ${explanation.type}`, output);\n",
       "}\n",
       "\n",
       "\n",
       "/**\n",
       " * Draw the edges of the tree.\n",
       " * @param {!options} options Dictionary of configurations.\n",
       " * @param {!graph} graph D3 search handle containing the graph.\n",
       " * @param {!tree_struct} tree_struct Structure of the tree (node placement,\n",
       " *     data, etc.).\n",
       " */\n",
       "function display_edges(options, graph, tree_struct) {\n",
       "  // Draw an edge between a parent and a child node with a bezier.\n",
       "  function draw_single_edge(d) {\n",
       "    return 'M' + (d.source.y + options.node_x_size) + ',' + d.source.x + ' C' +\n",
       "        (d.source.y + options.node_x_size + options.edge_rounding) + ',' +\n",
       "        d.source.x + ' ' + (d.target.y - options.edge_rounding) + ',' +\n",
       "        d.target.x + ' ' + d.target.y + ',' + d.target.x;\n",
       "  }\n",
       "\n",
       "  graph.append('g')\n",
       "      .attr('fill', 'none')\n",
       "      .attr('stroke-width', 1.2)\n",
       "      .selectAll('path')\n",
       "      .data(tree_struct.links())\n",
       "      .join('path')\n",
       "      .attr('d', draw_single_edge)\n",
       "      .attr(\n",
       "          'stroke', d => (d.target === d.source.children[0]) ? '#0F0' : '#F00');\n",
       "}\n",
       "\n",
       "display_tree({}, {\"value\": {\"type\": \"PROBABILITY\", \"distribution\": [0.291005291005291, 0.09523809523809523, 0.30687830687830686, 0.1693121693121693, 0.13756613756613756], \"num_examples\": 189.0}, \"condition\": {\"type\": \"NUMERICAL_IS_HIGHER_THAN\", \"attribute\": \"uncultured/unidentified-total\", \"threshold\": 0.004005628637969494}, \"children\": [{\"value\": {\"type\": \"PROBABILITY\", \"distribution\": [0.17721518987341772, 0.0, 0.21518987341772153, 0.27848101265822783, 0.3291139240506329], \"num_examples\": 79.0}, \"condition\": {\"type\": \"NUMERICAL_IS_HIGHER_THAN\", \"attribute\": \"Alloprevotella\", \"threshold\": 0.003357323817908764}, \"children\": [{\"value\": {\"type\": \"PROBABILITY\", \"distribution\": [0.02702702702702703, 0.0, 0.1891891891891892, 0.1891891891891892, 0.5945945945945946], \"num_examples\": 37.0}, \"condition\": {\"type\": \"NUMERICAL_IS_HIGHER_THAN\", \"attribute\": \"Roseburia\", \"threshold\": 0.016060752794146538}, \"children\": [{\"value\": {\"type\": \"PROBABILITY\", \"distribution\": [0.037037037037037035, 0.0, 0.1111111111111111, 0.037037037037037035, 0.8148148148148148], \"num_examples\": 27.0}, \"condition\": {\"type\": \"NUMERICAL_IS_HIGHER_THAN\", \"attribute\": \"Other-Total\", \"threshold\": 0.06574533879756927}, \"children\": [{\"value\": {\"type\": \"PROBABILITY\", \"distribution\": [0.0, 0.0, 0.045454545454545456, 0.0, 0.9545454545454546], \"num_examples\": 22.0}, \"condition\": {\"type\": \"NUMERICAL_IS_HIGHER_THAN\", \"attribute\": \"Lachnospiraceae-Total\", \"threshold\": 0.01758013665676117}, \"children\": [{\"value\": {\"type\": \"PROBABILITY\", \"distribution\": [0.0, 0.0, 0.2, 0.0, 0.8], \"num_examples\": 5.0}}, {\"value\": {\"type\": \"PROBABILITY\", \"distribution\": [0.0, 0.0, 0.0, 0.0, 1.0], \"num_examples\": 17.0}}]}, {\"value\": {\"type\": \"PROBABILITY\", \"distribution\": [0.2, 0.0, 0.4, 0.2, 0.2], \"num_examples\": 5.0}}]}, {\"value\": {\"type\": \"PROBABILITY\", \"distribution\": [0.0, 0.0, 0.4, 0.6, 0.0], \"num_examples\": 10.0}, \"condition\": {\"type\": \"NUMERICAL_IS_HIGHER_THAN\", \"attribute\": \"Bacteroides\", \"threshold\": 0.0034175491891801357}, \"children\": [{\"value\": {\"type\": \"PROBABILITY\", \"distribution\": [0.0, 0.0, 0.8, 0.2, 0.0], \"num_examples\": 5.0}}, {\"value\": {\"type\": \"PROBABILITY\", \"distribution\": [0.0, 0.0, 0.0, 1.0, 0.0], \"num_examples\": 5.0}}]}]}, {\"value\": {\"type\": \"PROBABILITY\", \"distribution\": [0.30952380952380953, 0.0, 0.23809523809523808, 0.35714285714285715, 0.09523809523809523], \"num_examples\": 42.0}, \"condition\": {\"type\": \"NUMERICAL_IS_HIGHER_THAN\", \"attribute\": \"Bacteroides\", \"threshold\": 0.009167738258838654}, \"children\": [{\"value\": {\"type\": \"PROBABILITY\", \"distribution\": [0.07692307692307693, 0.0, 0.0, 0.6153846153846154, 0.3076923076923077], \"num_examples\": 13.0}, \"condition\": {\"type\": \"NUMERICAL_IS_HIGHER_THAN\", \"attribute\": \"Roseburia\", \"threshold\": 0.005992697551846504}, \"children\": [{\"value\": {\"type\": \"PROBABILITY\", \"distribution\": [0.0, 0.0, 0.0, 0.42857142857142855, 0.5714285714285714], \"num_examples\": 7.0}}, {\"value\": {\"type\": \"PROBABILITY\", \"distribution\": [0.16666666666666666, 0.0, 0.0, 0.8333333333333334, 0.0], \"num_examples\": 6.0}}]}, {\"value\": {\"type\": \"PROBABILITY\", \"distribution\": [0.41379310344827586, 0.0, 0.3448275862068966, 0.2413793103448276, 0.0], \"num_examples\": 29.0}, \"condition\": {\"type\": \"NUMERICAL_IS_HIGHER_THAN\", \"attribute\": \"Prevotella-Total\", \"threshold\": 0.0056762294843792915}, \"children\": [{\"value\": {\"type\": \"PROBABILITY\", \"distribution\": [0.5714285714285714, 0.0, 0.42857142857142855, 0.0, 0.0], \"num_examples\": 21.0}, \"condition\": {\"type\": \"NUMERICAL_IS_HIGHER_THAN\", \"attribute\": \"Lachnospiraceae-Total\", \"threshold\": 0.0038682562299072742}, \"children\": [{\"value\": {\"type\": \"PROBABILITY\", \"distribution\": [0.6666666666666666, 0.0, 0.3333333333333333, 0.0, 0.0], \"num_examples\": 12.0}, \"condition\": {\"type\": \"NUMERICAL_IS_HIGHER_THAN\", \"attribute\": \"Streptococcus-total\", \"threshold\": 0.010503871366381645}, \"children\": [{\"value\": {\"type\": \"PROBABILITY\", \"distribution\": [0.8, 0.0, 0.2, 0.0, 0.0], \"num_examples\": 5.0}}, {\"value\": {\"type\": \"PROBABILITY\", \"distribution\": [0.5714285714285714, 0.0, 0.42857142857142855, 0.0, 0.0], \"num_examples\": 7.0}}]}, {\"value\": {\"type\": \"PROBABILITY\", \"distribution\": [0.4444444444444444, 0.0, 0.5555555555555556, 0.0, 0.0], \"num_examples\": 9.0}}]}, {\"value\": {\"type\": \"PROBABILITY\", \"distribution\": [0.0, 0.0, 0.125, 0.875, 0.0], \"num_examples\": 8.0}}]}]}]}, {\"value\": {\"type\": \"PROBABILITY\", \"distribution\": [0.37272727272727274, 0.16363636363636364, 0.37272727272727274, 0.09090909090909091, 0.0], \"num_examples\": 110.0}, \"condition\": {\"type\": \"NUMERICAL_IS_HIGHER_THAN\", \"attribute\": \"Prevotella-Total\", \"threshold\": 0.004122598562389612}, \"children\": [{\"value\": {\"type\": \"PROBABILITY\", \"distribution\": [0.38596491228070173, 0.03508771929824561, 0.5087719298245614, 0.07017543859649122, 0.0], \"num_examples\": 57.0}, \"condition\": {\"type\": \"NUMERICAL_IS_HIGHER_THAN\", \"attribute\": \"Dorea\", \"threshold\": 0.005048193968832493}, \"children\": [{\"value\": {\"type\": \"PROBABILITY\", \"distribution\": [0.22727272727272727, 0.09090909090909091, 0.5, 0.18181818181818182, 0.0], \"num_examples\": 22.0}, \"condition\": {\"type\": \"NUMERICAL_IS_HIGHER_THAN\", \"attribute\": \"Collinsella\", \"threshold\": 0.032575853168964386}, \"children\": [{\"value\": {\"type\": \"PROBABILITY\", \"distribution\": [0.3125, 0.125, 0.5625, 0.0, 0.0], \"num_examples\": 16.0}, \"condition\": {\"type\": \"NUMERICAL_IS_HIGHER_THAN\", \"attribute\": \"Other-Total\", \"threshold\": 0.06578318029642105}, \"children\": [{\"value\": {\"type\": \"PROBABILITY\", \"distribution\": [0.5714285714285714, 0.2857142857142857, 0.14285714285714285, 0.0, 0.0], \"num_examples\": 7.0}}, {\"value\": {\"type\": \"PROBABILITY\", \"distribution\": [0.1111111111111111, 0.0, 0.8888888888888888, 0.0, 0.0], \"num_examples\": 9.0}}]}, {\"value\": {\"type\": \"PROBABILITY\", \"distribution\": [0.0, 0.0, 0.3333333333333333, 0.6666666666666666, 0.0], \"num_examples\": 6.0}}]}, {\"value\": {\"type\": \"PROBABILITY\", \"distribution\": [0.4857142857142857, 0.0, 0.5142857142857142, 0.0, 0.0], \"num_examples\": 35.0}, \"condition\": {\"type\": \"NUMERICAL_IS_HIGHER_THAN\", \"attribute\": \"Faecalibacterium\", \"threshold\": 0.15162062644958496}, \"children\": [{\"value\": {\"type\": \"PROBABILITY\", \"distribution\": [0.8333333333333334, 0.0, 0.16666666666666666, 0.0, 0.0], \"num_examples\": 6.0}}, {\"value\": {\"type\": \"PROBABILITY\", \"distribution\": [0.41379310344827586, 0.0, 0.5862068965517241, 0.0, 0.0], \"num_examples\": 29.0}, \"condition\": {\"type\": \"NUMERICAL_IS_HIGHER_THAN\", \"attribute\": \"Ruminococcaceae-Total\", \"threshold\": 0.00023420568322762847}, \"children\": [{\"value\": {\"type\": \"PROBABILITY\", \"distribution\": [0.34782608695652173, 0.0, 0.6521739130434783, 0.0, 0.0], \"num_examples\": 23.0}, \"condition\": {\"type\": \"NUMERICAL_IS_HIGHER_THAN\", \"attribute\": \"Dialister\", \"threshold\": 0.05919446051120758}, \"children\": [{\"value\": {\"type\": \"PROBABILITY\", \"distribution\": [0.5, 0.0, 0.5, 0.0, 0.0], \"num_examples\": 6.0}}, {\"value\": {\"type\": \"PROBABILITY\", \"distribution\": [0.29411764705882354, 0.0, 0.7058823529411765, 0.0, 0.0], \"num_examples\": 17.0}, \"condition\": {\"type\": \"NUMERICAL_IS_HIGHER_THAN\", \"attribute\": \"Bifidobacterium\", \"threshold\": 0.04269977658987045}, \"children\": [{\"value\": {\"type\": \"PROBABILITY\", \"distribution\": [0.36363636363636365, 0.0, 0.6363636363636364, 0.0, 0.0], \"num_examples\": 11.0}, \"condition\": {\"type\": \"NUMERICAL_IS_HIGHER_THAN\", \"attribute\": \"Bifidobacterium\", \"threshold\": 0.13195735216140747}, \"children\": [{\"value\": {\"type\": \"PROBABILITY\", \"distribution\": [0.4, 0.0, 0.6, 0.0, 0.0], \"num_examples\": 5.0}}, {\"value\": {\"type\": \"PROBABILITY\", \"distribution\": [0.3333333333333333, 0.0, 0.6666666666666666, 0.0, 0.0], \"num_examples\": 6.0}}]}, {\"value\": {\"type\": \"PROBABILITY\", \"distribution\": [0.16666666666666666, 0.0, 0.8333333333333334, 0.0, 0.0], \"num_examples\": 6.0}}]}]}, {\"value\": {\"type\": \"PROBABILITY\", \"distribution\": [0.6666666666666666, 0.0, 0.3333333333333333, 0.0, 0.0], \"num_examples\": 6.0}}]}]}]}, {\"value\": {\"type\": \"PROBABILITY\", \"distribution\": [0.3584905660377358, 0.3018867924528302, 0.22641509433962265, 0.11320754716981132, 0.0], \"num_examples\": 53.0}, \"condition\": {\"type\": \"NUMERICAL_IS_HIGHER_THAN\", \"attribute\": \"Coprococcus-Total\", \"threshold\": 0.0008890297031030059}, \"children\": [{\"value\": {\"type\": \"PROBABILITY\", \"distribution\": [0.18181818181818182, 0.45454545454545453, 0.0, 0.36363636363636365, 0.0], \"num_examples\": 11.0}, \"condition\": {\"type\": \"NUMERICAL_IS_HIGHER_THAN\", \"attribute\": \"Collinsella\", \"threshold\": 0.0010894706938415766}, \"children\": [{\"value\": {\"type\": \"PROBABILITY\", \"distribution\": [0.0, 0.3333333333333333, 0.0, 0.6666666666666666, 0.0], \"num_examples\": 6.0}}, {\"value\": {\"type\": \"PROBABILITY\", \"distribution\": [0.4, 0.6, 0.0, 0.0, 0.0], \"num_examples\": 5.0}}]}, {\"value\": {\"type\": \"PROBABILITY\", \"distribution\": [0.40476190476190477, 0.2619047619047619, 0.2857142857142857, 0.047619047619047616, 0.0], \"num_examples\": 42.0}, \"condition\": {\"type\": \"NUMERICAL_IS_HIGHER_THAN\", \"attribute\": \"Prevotella-Total\", \"threshold\": 0.00011092982458649203}, \"children\": [{\"value\": {\"type\": \"PROBABILITY\", \"distribution\": [0.4666666666666667, 0.13333333333333333, 0.4, 0.0, 0.0], \"num_examples\": 30.0}, \"condition\": {\"type\": \"NUMERICAL_IS_HIGHER_THAN\", \"attribute\": \"Dorea\", \"threshold\": 0.00011751805141102523}, \"children\": [{\"value\": {\"type\": \"PROBABILITY\", \"distribution\": [0.6666666666666666, 0.25, 0.08333333333333333, 0.0, 0.0], \"num_examples\": 12.0}, \"condition\": {\"type\": \"NUMERICAL_IS_HIGHER_THAN\", \"attribute\": \"Ruminococcus-Total\", \"threshold\": 3.4593758755363524e-05}, \"children\": [{\"value\": {\"type\": \"PROBABILITY\", \"distribution\": [0.5, 0.5, 0.0, 0.0, 0.0], \"num_examples\": 6.0}}, {\"value\": {\"type\": \"PROBABILITY\", \"distribution\": [0.8333333333333334, 0.0, 0.16666666666666666, 0.0, 0.0], \"num_examples\": 6.0}}]}, {\"value\": {\"type\": \"PROBABILITY\", \"distribution\": [0.3333333333333333, 0.05555555555555555, 0.6111111111111112, 0.0, 0.0], \"num_examples\": 18.0}, \"condition\": {\"type\": \"NUMERICAL_IS_HIGHER_THAN\", \"attribute\": \"Lactobacillus\", \"threshold\": 0.1346595287322998}, \"children\": [{\"value\": {\"type\": \"PROBABILITY\", \"distribution\": [0.42857142857142855, 0.14285714285714285, 0.42857142857142855, 0.0, 0.0], \"num_examples\": 7.0}}, {\"value\": {\"type\": \"PROBABILITY\", \"distribution\": [0.2727272727272727, 0.0, 0.7272727272727273, 0.0, 0.0], \"num_examples\": 11.0}, \"condition\": {\"type\": \"NUMERICAL_IS_HIGHER_THAN\", \"attribute\": \"Faecalibacterium\", \"threshold\": 0.0013384564081206918}, \"children\": [{\"value\": {\"type\": \"PROBABILITY\", \"distribution\": [0.4, 0.0, 0.6, 0.0, 0.0], \"num_examples\": 5.0}}, {\"value\": {\"type\": \"PROBABILITY\", \"distribution\": [0.16666666666666666, 0.0, 0.8333333333333334, 0.0, 0.0], \"num_examples\": 6.0}}]}]}]}, {\"value\": {\"type\": \"PROBABILITY\", \"distribution\": [0.25, 0.5833333333333334, 0.0, 0.16666666666666666, 0.0], \"num_examples\": 12.0}, \"condition\": {\"type\": \"NUMERICAL_IS_HIGHER_THAN\", \"attribute\": \"Blautia\", \"threshold\": 7.427863602060825e-05}, \"children\": [{\"value\": {\"type\": \"PROBABILITY\", \"distribution\": [0.3333333333333333, 0.6666666666666666, 0.0, 0.0, 0.0], \"num_examples\": 6.0}}, {\"value\": {\"type\": \"PROBABILITY\", \"distribution\": [0.16666666666666666, 0.5, 0.0, 0.3333333333333333, 0.0], \"num_examples\": 6.0}}]}]}]}]}]}, \"#tree_plot_fdfce4b1fe28440c9bc8281d3dd01a1b\")\n",
       "</script>\n"
      ],
      "text/plain": [
       "<IPython.core.display.HTML object>"
      ]
     },
     "execution_count": 142,
     "metadata": {
      "tags": []
     },
     "output_type": "execute_result"
    }
   ],
   "source": [
    "tfdf.model_plotter.plot_model_in_colab(model, tree_idx=0, max_depth=100)"
   ]
  },
  {
   "cell_type": "code",
   "execution_count": 143,
   "metadata": {
    "executionInfo": {
     "elapsed": 147,
     "status": "ok",
     "timestamp": 1622541880774,
     "user": {
      "displayName": "Animesh Sharma",
      "photoUrl": "https://lh3.googleusercontent.com/a-/AOh14GgtBEA8HpNXZlxHZ_XN2a7ZU56EZ5DMTqQk-tsov3Y=s64",
      "userId": "07446072663021710031"
     },
     "user_tz": -120
    },
    "id": "sT8CwWd1Pagl"
   },
   "outputs": [],
   "source": [
    "inspector = model.make_inspector()\n",
    "#?inspector.model_type"
   ]
  },
  {
   "cell_type": "code",
   "execution_count": 144,
   "metadata": {
    "colab": {
     "base_uri": "https://localhost:8080/"
    },
    "executionInfo": {
     "elapsed": 146,
     "status": "ok",
     "timestamp": 1622541880775,
     "user": {
      "displayName": "Animesh Sharma",
      "photoUrl": "https://lh3.googleusercontent.com/a-/AOh14GgtBEA8HpNXZlxHZ_XN2a7ZU56EZ5DMTqQk-tsov3Y=s64",
      "userId": "07446072663021710031"
     },
     "user_tz": -120
    },
    "id": "L_pdXBbkUTEJ",
    "outputId": "a20e0da4-3ed0-4d73-ad38-9232a89c1a6e"
   },
   "outputs": [
    {
     "data": {
      "text/plain": [
       "['MODEL_NAME',\n",
       " 'dataspec',\n",
       " 'evaluation',\n",
       " 'export_to_tensorboard',\n",
       " 'extract_tree',\n",
       " 'features',\n",
       " 'iterate_on_nodes',\n",
       " 'label',\n",
       " 'label_classes',\n",
       " 'model_type',\n",
       " 'num_trees',\n",
       " 'objective',\n",
       " 'specialized_header',\n",
       " 'task',\n",
       " 'training_logs',\n",
       " 'variable_importances',\n",
       " 'winner_take_all_inference']"
      ]
     },
     "execution_count": 144,
     "metadata": {
      "tags": []
     },
     "output_type": "execute_result"
    }
   ],
   "source": [
    "[field for field in dir(inspector) if not field.startswith(\"_\")]"
   ]
  },
  {
   "cell_type": "code",
   "execution_count": 145,
   "metadata": {
    "colab": {
     "base_uri": "https://localhost:8080/",
     "height": 265,
     "referenced_widgets": [
      "bf95f982a28b4fae9e86bba9386cf3b9",
      "2796a27b34b245be95a1d3d9520bc9ba",
      "f1acc2f2241d4151b29c3c98ce3af259",
      "4d5ae697929740449f2c2a1022a46770",
      "b8454c301f7f42eeb05c5d53b544bb6c",
      "949c10f8279340109bb47743fc935e06",
      "6e2bde9de0aa453585520d81e0d9bb3c"
     ]
    },
    "executionInfo": {
     "elapsed": 141,
     "status": "ok",
     "timestamp": 1622541880777,
     "user": {
      "displayName": "Animesh Sharma",
      "photoUrl": "https://lh3.googleusercontent.com/a-/AOh14GgtBEA8HpNXZlxHZ_XN2a7ZU56EZ5DMTqQk-tsov3Y=s64",
      "userId": "07446072663021710031"
     },
     "user_tz": -120
    },
    "id": "Oai_yZ5mbVgd",
    "outputId": "2d929e6c-a88f-4eef-ee6e-20ab8f656383"
   },
   "outputs": [
    {
     "data": {
      "image/png": "[encoded data removed]",
      "text/plain": [
       "<Figure size 432x288 with 1 Axes>"
      ]
     },
     "metadata": {
      "needs_background": "light",
      "tags": []
     },
     "output_type": "display_data"
    }
   ],
   "source": [
    "from ipywidgets import interact, interactive, fixed, interact_manual\n",
    "def select_subject(subID):\n",
    "    df_filtered= dataset_df[subID]\n",
    "    ax = df_filtered.apply(np.sum).hist(color=\"orange\")\n",
    "subject = dataset_df.columns\n",
    "interact(select_subject, subID=subject)"
   ]
  },
  {
   "cell_type": "code",
   "execution_count": 146,
   "metadata": {
    "colab": {
     "base_uri": "https://localhost:8080/"
    },
    "executionInfo": {
     "elapsed": 342,
     "status": "ok",
     "timestamp": 1622541880983,
     "user": {
      "displayName": "Animesh Sharma",
      "photoUrl": "https://lh3.googleusercontent.com/a-/AOh14GgtBEA8HpNXZlxHZ_XN2a7ZU56EZ5DMTqQk-tsov3Y=s64",
      "userId": "07446072663021710031"
     },
     "user_tz": -120
    },
    "id": "pmUeyElVUTmg",
    "outputId": "31fce3d4-3e56-439d-c3b8-be86db058484"
   },
   "outputs": [
    {
     "name": "stdout",
     "output_type": "stream",
     "text": [
      "Model type: RANDOM_FOREST\n",
      "Number of trees: 500\n",
      "Objective: Classification(label=__LABEL, class=None, num_classes=7)\n",
      "Input features: [\"Alloprevotella\" (1; #0), \"Bacteroides\" (1; #1), \"Bifidobacterium\" (1; #2), \"Blautia\" (1; #3), \"Collinsella\" (1; #4), \"Coprococcus-Total\" (1; #5), \"Dialister\" (1; #6), \"Dorea\" (1; #7), \"Escherichia-Shigella\" (1; #8), \"Faecalibacterium\" (1; #9), \"Lachnospiraceae-Total\" (1; #10), \"Lactobacillus\" (1; #11), \"Other-Total\" (1; #12), \"Prevotella-Total\" (1; #13), \"Roseburia\" (1; #14), \"Ruminococcaceae-Total\" (1; #15), \"Ruminococcus-Total\" (1; #16), \"Streptococcus-total\" (1; #17), \"uncultured/unidentified-total\" (1; #18)]\n"
     ]
    }
   ],
   "source": [
    "print(\"Model type:\", inspector.model_type())\n",
    "print(\"Number of trees:\", inspector.num_trees())\n",
    "print(\"Objective:\", inspector.objective())\n",
    "print(\"Input features:\", inspector.features())"
   ]
  },
  {
   "cell_type": "code",
   "execution_count": 147,
   "metadata": {
    "colab": {
     "base_uri": "https://localhost:8080/"
    },
    "executionInfo": {
     "elapsed": 75,
     "status": "ok",
     "timestamp": 1622541881006,
     "user": {
      "displayName": "Animesh Sharma",
      "photoUrl": "https://lh3.googleusercontent.com/a-/AOh14GgtBEA8HpNXZlxHZ_XN2a7ZU56EZ5DMTqQk-tsov3Y=s64",
      "userId": "07446072663021710031"
     },
     "user_tz": -120
    },
    "id": "ngq1T-5aUQiH",
    "outputId": "b3e45f9f-3c8c-4e0c-cdb6-2e94410c9b16"
   },
   "outputs": [
    {
     "data": {
      "text/plain": [
       "Evaluation(num_examples=189, accuracy=0.19576719576719576, loss=1.8761325701085663, rmse=None, ndcg=None, aucs=None)"
      ]
     },
     "execution_count": 147,
     "metadata": {
      "tags": []
     },
     "output_type": "execute_result"
    }
   ],
   "source": [
    "inspector.evaluation()"
   ]
  },
  {
   "cell_type": "code",
   "execution_count": 148,
   "metadata": {
    "colab": {
     "base_uri": "https://localhost:8080/"
    },
    "executionInfo": {
     "elapsed": 2091,
     "status": "ok",
     "timestamp": 1622541883031,
     "user": {
      "displayName": "Animesh Sharma",
      "photoUrl": "https://lh3.googleusercontent.com/a-/AOh14GgtBEA8HpNXZlxHZ_XN2a7ZU56EZ5DMTqQk-tsov3Y=s64",
      "userId": "07446072663021710031"
     },
     "user_tz": -120
    },
    "id": "PdNHPeUrUuY4",
    "outputId": "dcd470e4-3638-4ed9-ad98-5e6fb3f2800c"
   },
   "outputs": [
    {
     "name": "stdout",
     "output_type": "stream",
     "text": [
      "\t MEAN_DECREASE_IN_AP_2_VS_OTHERS\n",
      "\t MEAN_DECREASE_IN_PRAUC_5_VS_OTHERS\n",
      "\t MEAN_DECREASE_IN_AUC_2_VS_OTHERS\n",
      "\t MEAN_DECREASE_IN_ACCURACY\n",
      "\t MEAN_DECREASE_IN_AP_1_VS_OTHERS\n",
      "\t MEAN_DECREASE_IN_PRAUC_4_VS_OTHERS\n",
      "\t MEAN_DECREASE_IN_AUC_1_VS_OTHERS\n",
      "\t MEAN_DECREASE_IN_AP_5_VS_OTHERS\n",
      "\t MEAN_DECREASE_IN_AUC_5_VS_OTHERS\n",
      "\t MEAN_DECREASE_IN_PRAUC_3_VS_OTHERS\n",
      "\t MEAN_DECREASE_IN_AP_4_VS_OTHERS\n",
      "\t MEAN_DECREASE_IN_PRAUC_2_VS_OTHERS\n",
      "\t MEAN_DECREASE_IN_AUC_4_VS_OTHERS\n",
      "\t MEAN_DECREASE_IN_AP_3_VS_OTHERS\n",
      "\t MEAN_DECREASE_IN_AUC_3_VS_OTHERS\n",
      "\t MEAN_DECREASE_IN_PRAUC_1_VS_OTHERS\n",
      "\t NUM_AS_ROOT\n"
     ]
    }
   ],
   "source": [
    "for importance in inspector.variable_importances().keys():\n",
    "  print(\"\\t\", importance)"
   ]
  },
  {
   "cell_type": "code",
   "execution_count": 149,
   "metadata": {
    "colab": {
     "base_uri": "https://localhost:8080/"
    },
    "executionInfo": {
     "elapsed": 146,
     "status": "ok",
     "timestamp": 1622541883032,
     "user": {
      "displayName": "Animesh Sharma",
      "photoUrl": "https://lh3.googleusercontent.com/a-/AOh14GgtBEA8HpNXZlxHZ_XN2a7ZU56EZ5DMTqQk-tsov3Y=s64",
      "userId": "07446072663021710031"
     },
     "user_tz": -120
    },
    "id": "EttXtR-8UzJv",
    "outputId": "46c90818-e54b-4f84-e460-38ae688249aa"
   },
   "outputs": [
    {
     "data": {
      "text/plain": [
       "[(\"uncultured/unidentified-total\" (1; #18), 0.057848615697231515),\n",
       " (\"Coprococcus-Total\" (1; #5), -0.0017145034290068084),\n",
       " (\"Bifidobacterium\" (1; #2), -0.005334010668021416),\n",
       " (\"Roseburia\" (1; #14), -0.005461010922021892),\n",
       " (\"Other-Total\" (1; #12), -0.008953517907035802),\n",
       " (\"Dialister\" (1; #6), -0.011493522987046034),\n",
       " (\"Blautia\" (1; #3), -0.01314452628905266),\n",
       " (\"Bacteroides\" (1; #1), -0.013589027178054547),\n",
       " (\"Ruminococcaceae-Total\" (1; #15), -0.013970027940055696),\n",
       " (\"Faecalibacterium\" (1; #9), -0.016383032766065564),\n",
       " (\"Alloprevotella\" (1; #0), -0.01651003302006593),\n",
       " (\"Collinsella\" (1; #4), -0.016954533909067815),\n",
       " (\"Streptococcus-total\" (1; #17), -0.017081534163068623),\n",
       " (\"Ruminococcus-Total\" (1; #16), -0.018288036576073197),\n",
       " (\"Dorea\" (1; #7), -0.018542037084074148),\n",
       " (\"Lachnospiraceae-Total\" (1; #10), -0.021272542545085205),\n",
       " (\"Prevotella-Total\" (1; #13), -0.021399542799085625),\n",
       " (\"Lactobacillus\" (1; #11), -0.023495046990094137),\n",
       " (\"Escherichia-Shigella\" (1; #8), -0.026352552705105614)]"
      ]
     },
     "execution_count": 149,
     "metadata": {
      "tags": []
     },
     "output_type": "execute_result"
    }
   ],
   "source": [
    "# Mean decrease in AUC of the class 1 vs the others.\n",
    "inspector.variable_importances()[\"MEAN_DECREASE_IN_AUC_1_VS_OTHERS\"]"
   ]
  },
  {
   "cell_type": "code",
   "execution_count": 150,
   "metadata": {
    "colab": {
     "base_uri": "https://localhost:8080/"
    },
    "executionInfo": {
     "elapsed": 143,
     "status": "ok",
     "timestamp": 1622541883033,
     "user": {
      "displayName": "Animesh Sharma",
      "photoUrl": "https://lh3.googleusercontent.com/a-/AOh14GgtBEA8HpNXZlxHZ_XN2a7ZU56EZ5DMTqQk-tsov3Y=s64",
      "userId": "07446072663021710031"
     },
     "user_tz": -120
    },
    "id": "Zn2YMc_tU3XS",
    "outputId": "302ba5bf-4b45-4dd0-c74d-2491fc7ce180"
   },
   "outputs": [
    {
     "data": {
      "text/plain": [
       "Tree(NonLeafNode(condition=(uncultured/unidentified-total >= 0.004005628637969494; miss=True), pos_child=NonLeafNode(condition=(Alloprevotella >= 0.003357323817908764; miss=True), pos_child=NonLeafNode(condition=(Roseburia >= 0.016060752794146538; miss=True), pos_child=NonLeafNode(condition=(Other-Total >= 0.06574533879756927; miss=True), pos_child=NonLeafNode(condition=(Lachnospiraceae-Total >= 0.01758013665676117; miss=False), pos_child=LeafNode(value=ProbabilityValue([0.0, 0.0, 0.2, 0.0, 0.8],n=5.0)), neg_child=LeafNode(value=ProbabilityValue([0.0, 0.0, 0.0, 0.0, 1.0],n=17.0)), value=ProbabilityValue([0.0, 0.0, 0.045454545454545456, 0.0, 0.9545454545454546],n=22.0)), neg_child=LeafNode(value=ProbabilityValue([0.2, 0.0, 0.4, 0.2, 0.2],n=5.0)), value=ProbabilityValue([0.037037037037037035, 0.0, 0.1111111111111111, 0.037037037037037035, 0.8148148148148148],n=27.0)), neg_child=NonLeafNode(condition=(Bacteroides >= 0.0034175491891801357; miss=True), pos_child=LeafNode(value=ProbabilityValue([0.0, 0.0, 0.8, 0.2, 0.0],n=5.0)), neg_child=LeafNode(value=ProbabilityValue([0.0, 0.0, 0.0, 1.0, 0.0],n=5.0)), value=ProbabilityValue([0.0, 0.0, 0.4, 0.6, 0.0],n=10.0)), value=ProbabilityValue([0.02702702702702703, 0.0, 0.1891891891891892, 0.1891891891891892, 0.5945945945945946],n=37.0)), neg_child=NonLeafNode(condition=(Bacteroides >= 0.009167738258838654; miss=True), pos_child=NonLeafNode(condition=(Roseburia >= 0.005992697551846504; miss=True), pos_child=LeafNode(value=ProbabilityValue([0.0, 0.0, 0.0, 0.42857142857142855, 0.5714285714285714],n=7.0)), neg_child=LeafNode(value=ProbabilityValue([0.16666666666666666, 0.0, 0.0, 0.8333333333333334, 0.0],n=6.0)), value=ProbabilityValue([0.07692307692307693, 0.0, 0.0, 0.6153846153846154, 0.3076923076923077],n=13.0)), neg_child=NonLeafNode(condition=(Prevotella-Total >= 0.0056762294843792915; miss=True), pos_child=NonLeafNode(condition=(Lachnospiraceae-Total >= 0.0038682562299072742; miss=True), pos_child=NonLeafNode(condition=(Streptococcus-total >= 0.010503871366381645; miss=True), pos_child=LeafNode(value=ProbabilityValue([0.8, 0.0, 0.2, 0.0, 0.0],n=5.0)), neg_child=LeafNode(value=ProbabilityValue([0.5714285714285714, 0.0, 0.42857142857142855, 0.0, 0.0],n=7.0)), value=ProbabilityValue([0.6666666666666666, 0.0, 0.3333333333333333, 0.0, 0.0],n=12.0)), neg_child=LeafNode(value=ProbabilityValue([0.4444444444444444, 0.0, 0.5555555555555556, 0.0, 0.0],n=9.0)), value=ProbabilityValue([0.5714285714285714, 0.0, 0.42857142857142855, 0.0, 0.0],n=21.0)), neg_child=LeafNode(value=ProbabilityValue([0.0, 0.0, 0.125, 0.875, 0.0],n=8.0)), value=ProbabilityValue([0.41379310344827586, 0.0, 0.3448275862068966, 0.2413793103448276, 0.0],n=29.0)), value=ProbabilityValue([0.30952380952380953, 0.0, 0.23809523809523808, 0.35714285714285715, 0.09523809523809523],n=42.0)), value=ProbabilityValue([0.17721518987341772, 0.0, 0.21518987341772153, 0.27848101265822783, 0.3291139240506329],n=79.0)), neg_child=NonLeafNode(condition=(Prevotella-Total >= 0.004122598562389612; miss=True), pos_child=NonLeafNode(condition=(Dorea >= 0.005048193968832493; miss=True), pos_child=NonLeafNode(condition=(Collinsella >= 0.032575853168964386; miss=True), pos_child=NonLeafNode(condition=(Other-Total >= 0.06578318029642105; miss=True), pos_child=LeafNode(value=ProbabilityValue([0.5714285714285714, 0.2857142857142857, 0.14285714285714285, 0.0, 0.0],n=7.0)), neg_child=LeafNode(value=ProbabilityValue([0.1111111111111111, 0.0, 0.8888888888888888, 0.0, 0.0],n=9.0)), value=ProbabilityValue([0.3125, 0.125, 0.5625, 0.0, 0.0],n=16.0)), neg_child=LeafNode(value=ProbabilityValue([0.0, 0.0, 0.3333333333333333, 0.6666666666666666, 0.0],n=6.0)), value=ProbabilityValue([0.22727272727272727, 0.09090909090909091, 0.5, 0.18181818181818182, 0.0],n=22.0)), neg_child=NonLeafNode(condition=(Faecalibacterium >= 0.15162062644958496; miss=False), pos_child=LeafNode(value=ProbabilityValue([0.8333333333333334, 0.0, 0.16666666666666666, 0.0, 0.0],n=6.0)), neg_child=NonLeafNode(condition=(Ruminococcaceae-Total >= 0.00023420568322762847; miss=True), pos_child=NonLeafNode(condition=(Dialister >= 0.05919446051120758; miss=False), pos_child=LeafNode(value=ProbabilityValue([0.5, 0.0, 0.5, 0.0, 0.0],n=6.0)), neg_child=NonLeafNode(condition=(Bifidobacterium >= 0.04269977658987045; miss=True), pos_child=NonLeafNode(condition=(Bifidobacterium >= 0.13195735216140747; miss=False), pos_child=LeafNode(value=ProbabilityValue([0.4, 0.0, 0.6, 0.0, 0.0],n=5.0)), neg_child=LeafNode(value=ProbabilityValue([0.3333333333333333, 0.0, 0.6666666666666666, 0.0, 0.0],n=6.0)), value=ProbabilityValue([0.36363636363636365, 0.0, 0.6363636363636364, 0.0, 0.0],n=11.0)), neg_child=LeafNode(value=ProbabilityValue([0.16666666666666666, 0.0, 0.8333333333333334, 0.0, 0.0],n=6.0)), value=ProbabilityValue([0.29411764705882354, 0.0, 0.7058823529411765, 0.0, 0.0],n=17.0)), value=ProbabilityValue([0.34782608695652173, 0.0, 0.6521739130434783, 0.0, 0.0],n=23.0)), neg_child=LeafNode(value=ProbabilityValue([0.6666666666666666, 0.0, 0.3333333333333333, 0.0, 0.0],n=6.0)), value=ProbabilityValue([0.41379310344827586, 0.0, 0.5862068965517241, 0.0, 0.0],n=29.0)), value=ProbabilityValue([0.4857142857142857, 0.0, 0.5142857142857142, 0.0, 0.0],n=35.0)), value=ProbabilityValue([0.38596491228070173, 0.03508771929824561, 0.5087719298245614, 0.07017543859649122, 0.0],n=57.0)), neg_child=NonLeafNode(condition=(Coprococcus-Total >= 0.0008890297031030059; miss=True), pos_child=NonLeafNode(condition=(Collinsella >= 0.0010894706938415766; miss=True), pos_child=LeafNode(value=ProbabilityValue([0.0, 0.3333333333333333, 0.0, 0.6666666666666666, 0.0],n=6.0)), neg_child=LeafNode(value=ProbabilityValue([0.4, 0.6, 0.0, 0.0, 0.0],n=5.0)), value=ProbabilityValue([0.18181818181818182, 0.45454545454545453, 0.0, 0.36363636363636365, 0.0],n=11.0)), neg_child=NonLeafNode(condition=(Prevotella-Total >= 0.00011092982458649203; miss=True), pos_child=NonLeafNode(condition=(Dorea >= 0.00011751805141102523; miss=True), pos_child=NonLeafNode(condition=(Ruminococcus-Total >= 3.4593758755363524e-05; miss=True), pos_child=LeafNode(value=ProbabilityValue([0.5, 0.5, 0.0, 0.0, 0.0],n=6.0)), neg_child=LeafNode(value=ProbabilityValue([0.8333333333333334, 0.0, 0.16666666666666666, 0.0, 0.0],n=6.0)), value=ProbabilityValue([0.6666666666666666, 0.25, 0.08333333333333333, 0.0, 0.0],n=12.0)), neg_child=NonLeafNode(condition=(Lactobacillus >= 0.1346595287322998; miss=False), pos_child=LeafNode(value=ProbabilityValue([0.42857142857142855, 0.14285714285714285, 0.42857142857142855, 0.0, 0.0],n=7.0)), neg_child=NonLeafNode(condition=(Faecalibacterium >= 0.0013384564081206918; miss=True), pos_child=LeafNode(value=ProbabilityValue([0.4, 0.0, 0.6, 0.0, 0.0],n=5.0)), neg_child=LeafNode(value=ProbabilityValue([0.16666666666666666, 0.0, 0.8333333333333334, 0.0, 0.0],n=6.0)), value=ProbabilityValue([0.2727272727272727, 0.0, 0.7272727272727273, 0.0, 0.0],n=11.0)), value=ProbabilityValue([0.3333333333333333, 0.05555555555555555, 0.6111111111111112, 0.0, 0.0],n=18.0)), value=ProbabilityValue([0.4666666666666667, 0.13333333333333333, 0.4, 0.0, 0.0],n=30.0)), neg_child=NonLeafNode(condition=(Blautia >= 7.427863602060825e-05; miss=True), pos_child=LeafNode(value=ProbabilityValue([0.3333333333333333, 0.6666666666666666, 0.0, 0.0, 0.0],n=6.0)), neg_child=LeafNode(value=ProbabilityValue([0.16666666666666666, 0.5, 0.0, 0.3333333333333333, 0.0],n=6.0)), value=ProbabilityValue([0.25, 0.5833333333333334, 0.0, 0.16666666666666666, 0.0],n=12.0)), value=ProbabilityValue([0.40476190476190477, 0.2619047619047619, 0.2857142857142857, 0.047619047619047616, 0.0],n=42.0)), value=ProbabilityValue([0.3584905660377358, 0.3018867924528302, 0.22641509433962265, 0.11320754716981132, 0.0],n=53.0)), value=ProbabilityValue([0.37272727272727274, 0.16363636363636364, 0.37272727272727274, 0.09090909090909091, 0.0],n=110.0)), value=ProbabilityValue([0.291005291005291, 0.09523809523809523, 0.30687830687830686, 0.1693121693121693, 0.13756613756613756],n=189.0)),label_classes={self.label_classes})"
      ]
     },
     "execution_count": 150,
     "metadata": {
      "tags": []
     },
     "output_type": "execute_result"
    }
   ],
   "source": [
    "inspector.extract_tree(tree_idx=0)"
   ]
  },
  {
   "cell_type": "code",
   "execution_count": 155,
   "metadata": {
    "colab": {
     "base_uri": "https://localhost:8080/"
    },
    "executionInfo": {
     "elapsed": 1043,
     "status": "ok",
     "timestamp": 1622542107263,
     "user": {
      "displayName": "Animesh Sharma",
      "photoUrl": "https://lh3.googleusercontent.com/a-/AOh14GgtBEA8HpNXZlxHZ_XN2a7ZU56EZ5DMTqQk-tsov3Y=s64",
      "userId": "07446072663021710031"
     },
     "user_tz": -120
    },
    "id": "df2d4uk4VDxq",
    "outputId": "1faeec05-e046-4ab4-e9f9-bb753a53966b"
   },
   "outputs": [
    {
     "name": "stdout",
     "output_type": "stream",
     "text": [
      "Number of condition nodes per features:\n",
      "\t uncultured/unidentified-total : 971 \n",
      "\n",
      "\t Prevotella-Total : 551 \n",
      "\n",
      "\t Coprococcus-Total : 660 \n",
      "\n",
      "\t Blautia : 606 \n",
      "\n",
      "\t Dorea : 718 \n",
      "\n",
      "\t Lactobacillus : 673 \n",
      "\n",
      "\t Faecalibacterium : 583 \n",
      "\n",
      "\t Ruminococcus-Total : 484 \n",
      "\n",
      "\t Collinsella : 649 \n",
      "\n",
      "\t Ruminococcaceae-Total : 641 \n",
      "\n",
      "\t Dialister : 586 \n",
      "\n",
      "\t Bifidobacterium : 641 \n",
      "\n",
      "\t Other-Total : 595 \n",
      "\n",
      "\t Alloprevotella : 679 \n",
      "\n",
      "\t Bacteroides : 600 \n",
      "\n",
      "\t Lachnospiraceae-Total : 689 \n",
      "\n",
      "\t Streptococcus-total : 620 \n",
      "\n",
      "\t Roseburia : 954 \n",
      "\n",
      "\t Escherichia-Shigella : 794 \n",
      "\n"
     ]
    }
   ],
   "source": [
    "# number_of_use[F] will be the number of node using feature F in its condition.\n",
    "number_of_use = collections.defaultdict(lambda: 0)\n",
    "\n",
    "# Iterate over all the nodes in a Depth First Pre-order traversals.\n",
    "for node_iter in inspector.iterate_on_nodes():\n",
    "\n",
    "  if not isinstance(node_iter.node, tfdf.py_tree.node.NonLeafNode):\n",
    "    # Skip the leaf nodes\n",
    "    continue\n",
    "\n",
    "  # Iterate over all the features used in the condition.\n",
    "  # By default, models are \"oblique\" i.e. each node tests a single feature.\n",
    "  for feature in node_iter.node.condition.features():\n",
    "    number_of_use[feature] += 1\n",
    "\n",
    "print(\"Number of condition nodes per features:\")\n",
    "for feature, count in number_of_use.items():\n",
    "  print(\"\\t\", feature.name, \":\", count,\"\\n\")"
   ]
  },
  {
   "cell_type": "code",
   "execution_count": 152,
   "metadata": {
    "colab": {
     "base_uri": "https://localhost:8080/",
     "height": 150
    },
    "executionInfo": {
     "elapsed": 128,
     "status": "ok",
     "timestamp": 1622541883035,
     "user": {
      "displayName": "Animesh Sharma",
      "photoUrl": "https://lh3.googleusercontent.com/a-/AOh14GgtBEA8HpNXZlxHZ_XN2a7ZU56EZ5DMTqQk-tsov3Y=s64",
      "userId": "07446072663021710031"
     },
     "user_tz": -120
    },
    "id": "Z0JoprdgsuP1",
    "outputId": "6d518f3f-fa92-4cee-f7bd-6f2d90bcc7af"
   },
   "outputs": [
    {
     "data": {
      "application/javascript": [
       "google.colab.output.setIframeHeight(0, true, {maxHeight: 150})"
      ],
      "text/plain": [
       "<IPython.core.display.Javascript object>"
      ]
     },
     "metadata": {
      "tags": []
     },
     "output_type": "display_data"
    },
    {
     "data": {
      "text/plain": [
       "[TrainLog(num_trees=1, evaluation=Evaluation(num_examples=65, accuracy=0.3384615384615385, loss=23.844261814997747, rmse=None, ndcg=None, aucs=None)),\n",
       " TrainLog(num_trees=11, evaluation=Evaluation(num_examples=188, accuracy=0.26595744680851063, loss=16.588557737621855, rmse=None, ndcg=None, aucs=None)),\n",
       " TrainLog(num_trees=21, evaluation=Evaluation(num_examples=189, accuracy=0.2698412698412698, loss=12.804496132428683, rmse=None, ndcg=None, aucs=None)),\n",
       " TrainLog(num_trees=32, evaluation=Evaluation(num_examples=189, accuracy=0.25925925925925924, loss=7.4931984328167145, rmse=None, ndcg=None, aucs=None)),\n",
       " TrainLog(num_trees=42, evaluation=Evaluation(num_examples=189, accuracy=0.23809523809523808, loss=5.542836261292298, rmse=None, ndcg=None, aucs=None)),\n",
       " TrainLog(num_trees=52, evaluation=Evaluation(num_examples=189, accuracy=0.21164021164021163, loss=4.498417726249764, rmse=None, ndcg=None, aucs=None)),\n",
       " TrainLog(num_trees=62, evaluation=Evaluation(num_examples=189, accuracy=0.21164021164021163, loss=4.49582475725384, rmse=None, ndcg=None, aucs=None)),\n",
       " TrainLog(num_trees=72, evaluation=Evaluation(num_examples=189, accuracy=0.21693121693121692, loss=4.129902093893006, rmse=None, ndcg=None, aucs=None)),\n",
       " TrainLog(num_trees=82, evaluation=Evaluation(num_examples=189, accuracy=0.20634920634920634, loss=3.2523811362171298, rmse=None, ndcg=None, aucs=None)),\n",
       " TrainLog(num_trees=92, evaluation=Evaluation(num_examples=189, accuracy=0.21164021164021163, loss=2.902025466134387, rmse=None, ndcg=None, aucs=None)),\n",
       " TrainLog(num_trees=102, evaluation=Evaluation(num_examples=189, accuracy=0.19576719576719576, loss=2.8903804570732134, rmse=None, ndcg=None, aucs=None)),\n",
       " TrainLog(num_trees=113, evaluation=Evaluation(num_examples=189, accuracy=0.20634920634920634, loss=2.889089933936558, rmse=None, ndcg=None, aucs=None)),\n",
       " TrainLog(num_trees=123, evaluation=Evaluation(num_examples=189, accuracy=0.20105820105820105, loss=2.895403484503428, rmse=None, ndcg=None, aucs=None)),\n",
       " TrainLog(num_trees=133, evaluation=Evaluation(num_examples=189, accuracy=0.20634920634920634, loss=2.868870097651053, rmse=None, ndcg=None, aucs=None)),\n",
       " TrainLog(num_trees=145, evaluation=Evaluation(num_examples=189, accuracy=0.20634920634920634, loss=2.866442237482973, rmse=None, ndcg=None, aucs=None)),\n",
       " TrainLog(num_trees=156, evaluation=Evaluation(num_examples=189, accuracy=0.19576719576719576, loss=2.7084734032038975, rmse=None, ndcg=None, aucs=None)),\n",
       " TrainLog(num_trees=167, evaluation=Evaluation(num_examples=189, accuracy=0.20105820105820105, loss=2.5367986706514207, rmse=None, ndcg=None, aucs=None)),\n",
       " TrainLog(num_trees=177, evaluation=Evaluation(num_examples=189, accuracy=0.19576719576719576, loss=2.538878001326882, rmse=None, ndcg=None, aucs=None)),\n",
       " TrainLog(num_trees=187, evaluation=Evaluation(num_examples=189, accuracy=0.19576719576719576, loss=2.5323027684722863, rmse=None, ndcg=None, aucs=None)),\n",
       " TrainLog(num_trees=197, evaluation=Evaluation(num_examples=189, accuracy=0.19576719576719576, loss=2.5360992145995613, rmse=None, ndcg=None, aucs=None)),\n",
       " TrainLog(num_trees=207, evaluation=Evaluation(num_examples=189, accuracy=0.19576719576719576, loss=2.541050710301432, rmse=None, ndcg=None, aucs=None)),\n",
       " TrainLog(num_trees=217, evaluation=Evaluation(num_examples=189, accuracy=0.19576719576719576, loss=2.369697581281856, rmse=None, ndcg=None, aucs=None)),\n",
       " TrainLog(num_trees=227, evaluation=Evaluation(num_examples=189, accuracy=0.19576719576719576, loss=2.3696012899240175, rmse=None, ndcg=None, aucs=None)),\n",
       " TrainLog(num_trees=237, evaluation=Evaluation(num_examples=189, accuracy=0.19047619047619047, loss=2.3694776525356307, rmse=None, ndcg=None, aucs=None)),\n",
       " TrainLog(num_trees=247, evaluation=Evaluation(num_examples=189, accuracy=0.19047619047619047, loss=2.36721839940067, rmse=None, ndcg=None, aucs=None)),\n",
       " TrainLog(num_trees=257, evaluation=Evaluation(num_examples=189, accuracy=0.20105820105820105, loss=2.363774939090329, rmse=None, ndcg=None, aucs=None)),\n",
       " TrainLog(num_trees=267, evaluation=Evaluation(num_examples=189, accuracy=0.19576719576719576, loss=2.3617981083139226, rmse=None, ndcg=None, aucs=None)),\n",
       " TrainLog(num_trees=277, evaluation=Evaluation(num_examples=189, accuracy=0.19576719576719576, loss=2.359274640541386, rmse=None, ndcg=None, aucs=None)),\n",
       " TrainLog(num_trees=287, evaluation=Evaluation(num_examples=189, accuracy=0.19047619047619047, loss=2.359207901867136, rmse=None, ndcg=None, aucs=None)),\n",
       " TrainLog(num_trees=297, evaluation=Evaluation(num_examples=189, accuracy=0.19047619047619047, loss=2.358193165627579, rmse=None, ndcg=None, aucs=None)),\n",
       " TrainLog(num_trees=307, evaluation=Evaluation(num_examples=189, accuracy=0.20105820105820105, loss=2.3565934900903986, rmse=None, ndcg=None, aucs=None)),\n",
       " TrainLog(num_trees=318, evaluation=Evaluation(num_examples=189, accuracy=0.19047619047619047, loss=2.359256122340128, rmse=None, ndcg=None, aucs=None)),\n",
       " TrainLog(num_trees=329, evaluation=Evaluation(num_examples=189, accuracy=0.19047619047619047, loss=2.357221613238965, rmse=None, ndcg=None, aucs=None)),\n",
       " TrainLog(num_trees=340, evaluation=Evaluation(num_examples=189, accuracy=0.19047619047619047, loss=2.191369313180013, rmse=None, ndcg=None, aucs=None)),\n",
       " TrainLog(num_trees=350, evaluation=Evaluation(num_examples=189, accuracy=0.19576719576719576, loss=2.197927101185082, rmse=None, ndcg=None, aucs=None)),\n",
       " TrainLog(num_trees=360, evaluation=Evaluation(num_examples=189, accuracy=0.18518518518518517, loss=2.193703191739226, rmse=None, ndcg=None, aucs=None)),\n",
       " TrainLog(num_trees=370, evaluation=Evaluation(num_examples=189, accuracy=0.19576719576719576, loss=2.192835323551975, rmse=None, ndcg=None, aucs=None)),\n",
       " TrainLog(num_trees=380, evaluation=Evaluation(num_examples=189, accuracy=0.19576719576719576, loss=2.1924193809843726, rmse=None, ndcg=None, aucs=None)),\n",
       " TrainLog(num_trees=390, evaluation=Evaluation(num_examples=189, accuracy=0.20105820105820105, loss=2.1900696498120116, rmse=None, ndcg=None, aucs=None)),\n",
       " TrainLog(num_trees=401, evaluation=Evaluation(num_examples=189, accuracy=0.20105820105820105, loss=2.1903227938526366, rmse=None, ndcg=None, aucs=None)),\n",
       " TrainLog(num_trees=411, evaluation=Evaluation(num_examples=189, accuracy=0.19576719576719576, loss=2.1941562897806604, rmse=None, ndcg=None, aucs=None)),\n",
       " TrainLog(num_trees=421, evaluation=Evaluation(num_examples=189, accuracy=0.20634920634920634, loss=2.1926082629000856, rmse=None, ndcg=None, aucs=None)),\n",
       " TrainLog(num_trees=433, evaluation=Evaluation(num_examples=189, accuracy=0.20634920634920634, loss=2.1963183788789644, rmse=None, ndcg=None, aucs=None)),\n",
       " TrainLog(num_trees=443, evaluation=Evaluation(num_examples=189, accuracy=0.20634920634920634, loss=2.199366631695912, rmse=None, ndcg=None, aucs=None)),\n",
       " TrainLog(num_trees=453, evaluation=Evaluation(num_examples=189, accuracy=0.19047619047619047, loss=2.036082950967645, rmse=None, ndcg=None, aucs=None)),\n",
       " TrainLog(num_trees=463, evaluation=Evaluation(num_examples=189, accuracy=0.19576719576719576, loss=1.8705425026811777, rmse=None, ndcg=None, aucs=None)),\n",
       " TrainLog(num_trees=473, evaluation=Evaluation(num_examples=189, accuracy=0.20105820105820105, loss=1.8723799555547653, rmse=None, ndcg=None, aucs=None)),\n",
       " TrainLog(num_trees=483, evaluation=Evaluation(num_examples=189, accuracy=0.19576719576719576, loss=1.8720968718290645, rmse=None, ndcg=None, aucs=None)),\n",
       " TrainLog(num_trees=494, evaluation=Evaluation(num_examples=189, accuracy=0.19047619047619047, loss=1.8734774874947058, rmse=None, ndcg=None, aucs=None)),\n",
       " TrainLog(num_trees=500, evaluation=Evaluation(num_examples=189, accuracy=0.19576719576719576, loss=1.8761325701085663, rmse=None, ndcg=None, aucs=None))]"
      ]
     },
     "execution_count": 152,
     "metadata": {
      "tags": []
     },
     "output_type": "execute_result"
    }
   ],
   "source": [
    "%set_cell_height 150\n",
    "model.make_inspector().training_logs()"
   ]
  },
  {
   "cell_type": "code",
   "execution_count": 153,
   "metadata": {
    "colab": {
     "base_uri": "https://localhost:8080/",
     "height": 279
    },
    "executionInfo": {
     "elapsed": 586,
     "status": "ok",
     "timestamp": 1622541883495,
     "user": {
      "displayName": "Animesh Sharma",
      "photoUrl": "https://lh3.googleusercontent.com/a-/AOh14GgtBEA8HpNXZlxHZ_XN2a7ZU56EZ5DMTqQk-tsov3Y=s64",
      "userId": "07446072663021710031"
     },
     "user_tz": -120
    },
    "id": "CaSuE12vs74z",
    "outputId": "297bf275-4632-4d18-c614-20c480ea9867"
   },
   "outputs": [
    {
     "data": {
      "image/png": "[encoded data removed]",
      "text/plain": [
       "<Figure size 864x288 with 2 Axes>"
      ]
     },
     "metadata": {
      "needs_background": "light",
      "tags": []
     },
     "output_type": "display_data"
    }
   ],
   "source": [
    "import matplotlib.pyplot as plt\n",
    "\n",
    "logs = model.make_inspector().training_logs()\n",
    "\n",
    "plt.figure(figsize=(12, 4))\n",
    "\n",
    "plt.subplot(1, 2, 1)\n",
    "plt.plot([log.num_trees for log in logs], [log.evaluation.accuracy for log in logs])\n",
    "plt.xlabel(\"Number of trees\")\n",
    "plt.ylabel(\"Accuracy (out-of-bag)\")\n",
    "\n",
    "plt.subplot(1, 2, 2)\n",
    "plt.plot([log.num_trees for log in logs], [log.evaluation.loss for log in logs])\n",
    "plt.xlabel(\"Number of trees\")\n",
    "plt.ylabel(\"Logloss (out-of-bag)\")\n",
    "\n",
    "plt.show()"
   ]
  },
  {
   "cell_type": "code",
   "execution_count": 154,
   "metadata": {
    "colab": {
     "base_uri": "https://localhost:8080/"
    },
    "executionInfo": {
     "elapsed": 88,
     "status": "ok",
     "timestamp": 1622541883519,
     "user": {
      "displayName": "Animesh Sharma",
      "photoUrl": "https://lh3.googleusercontent.com/a-/AOh14GgtBEA8HpNXZlxHZ_XN2a7ZU56EZ5DMTqQk-tsov3Y=s64",
      "userId": "07446072663021710031"
     },
     "user_tz": -120
    },
    "id": "mKyhk0Xytjbg",
    "outputId": "3af2f7b6-b2c8-4a40-9ebb-690763c90c45"
   },
   "outputs": [
    {
     "name": "stdout",
     "output_type": "stream",
     "text": [
      "{'loss': 0.0, 'accuracy': 0.6560846567153931}\n"
     ]
    }
   ],
   "source": [
    "print(evaluation)\n",
    "\n",
    "#print(f\"MSE: {evaluation['mse']}\")\n",
    "#print(f\"RMSE: {math.sqrt(evaluation['mse'])}\")"
   ]
  }
 ],
 "metadata": {
  "colab": {
   "collapsed_sections": [],
   "name": "ayuMG.ipynb",
   "provenance": []
  },
  "kernelspec": {
   "display_name": "Python 3",
   "language": "python",
   "name": "python3"
  },
  "language_info": {
   "codemirror_mode": {
    "name": "ipython",
    "version": 3
   },
   "file_extension": ".py",
   "mimetype": "text/x-python",
   "name": "python",
   "nbconvert_exporter": "python",
   "pygments_lexer": "ipython3",
   "version": "3.7.10"
  },
  "varInspector": {
   "cols": {
    "lenName": 16,
    "lenType": 16,
    "lenVar": 40
   },
   "kernels_config": {
    "python": {
     "delete_cmd_postfix": "",
     "delete_cmd_prefix": "del ",
     "library": "var_list.py",
     "varRefreshCmd": "print(var_dic_list())"
    },
    "r": {
     "delete_cmd_postfix": ") ",
     "delete_cmd_prefix": "rm(",
     "library": "var_list.r",
     "varRefreshCmd": "cat(var_dic_list()) "
    }
   },
   "types_to_exclude": [
    "module",
    "function",
    "builtin_function_or_method",
    "instance",
    "_Feature"
   ],
   "window_display": false
  },
  "widgets": {
   "application/vnd.jupyter.widget-state+json": {
    "2796a27b34b245be95a1d3d9520bc9ba": {
     "model_module": "@jupyter-widgets/base",
     "model_name": "LayoutModel",
     "state": {
      "_model_module": "@jupyter-widgets/base",
      "_model_module_version": "1.2.0",
      "_model_name": "LayoutModel",
      "_view_count": null,
      "_view_module": "@jupyter-widgets/base",
      "_view_module_version": "1.2.0",
      "_view_name": "LayoutView",
      "align_content": null,
      "align_items": null,
      "align_self": null,
      "border": null,
      "bottom": null,
      "display": null,
      "flex": null,
      "flex_flow": null,
      "grid_area": null,
      "grid_auto_columns": null,
      "grid_auto_flow": null,
      "grid_auto_rows": null,
      "grid_column": null,
      "grid_gap": null,
      "grid_row": null,
      "grid_template_areas": null,
      "grid_template_columns": null,
      "grid_template_rows": null,
      "height": null,
      "justify_content": null,
      "justify_items": null,
      "left": null,
      "margin": null,
      "max_height": null,
      "max_width": null,
      "min_height": null,
      "min_width": null,
      "object_fit": null,
      "object_position": null,
      "order": null,
      "overflow": null,
      "overflow_x": null,
      "overflow_y": null,
      "padding": null,
      "right": null,
      "top": null,
      "visibility": null,
      "width": null
     }
    },
    "4d5ae697929740449f2c2a1022a46770": {
     "model_module": "@jupyter-widgets/output",
     "model_name": "OutputModel",
     "state": {
      "_dom_classes": [],
      "_model_module": "@jupyter-widgets/output",
      "_model_module_version": "1.0.0",
      "_model_name": "OutputModel",
      "_view_count": null,
      "_view_module": "@jupyter-widgets/output",
      "_view_module_version": "1.0.0",
      "_view_name": "OutputView",
      "layout": "IPY_MODEL_6e2bde9de0aa453585520d81e0d9bb3c",
      "msg_id": "",
      "outputs": [
       {
        "image/png": "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\n",
        "metadata": {
         "needs_background": "light",
         "tags": []
        },
        "output_type": "display_data",
        "text/plain": "<Figure size 432x288 with 1 Axes>"
       }
      ]
     }
    },
    "6e2bde9de0aa453585520d81e0d9bb3c": {
     "model_module": "@jupyter-widgets/base",
     "model_name": "LayoutModel",
     "state": {
      "_model_module": "@jupyter-widgets/base",
      "_model_module_version": "1.2.0",
      "_model_name": "LayoutModel",
      "_view_count": null,
      "_view_module": "@jupyter-widgets/base",
      "_view_module_version": "1.2.0",
      "_view_name": "LayoutView",
      "align_content": null,
      "align_items": null,
      "align_self": null,
      "border": null,
      "bottom": null,
      "display": null,
      "flex": null,
      "flex_flow": null,
      "grid_area": null,
      "grid_auto_columns": null,
      "grid_auto_flow": null,
      "grid_auto_rows": null,
      "grid_column": null,
      "grid_gap": null,
      "grid_row": null,
      "grid_template_areas": null,
      "grid_template_columns": null,
      "grid_template_rows": null,
      "height": null,
      "justify_content": null,
      "justify_items": null,
      "left": null,
      "margin": null,
      "max_height": null,
      "max_width": null,
      "min_height": null,
      "min_width": null,
      "object_fit": null,
      "object_position": null,
      "order": null,
      "overflow": null,
      "overflow_x": null,
      "overflow_y": null,
      "padding": null,
      "right": null,
      "top": null,
      "visibility": null,
      "width": null
     }
    },
    "949c10f8279340109bb47743fc935e06": {
     "model_module": "@jupyter-widgets/base",
     "model_name": "LayoutModel",
     "state": {
      "_model_module": "@jupyter-widgets/base",
      "_model_module_version": "1.2.0",
      "_model_name": "LayoutModel",
      "_view_count": null,
      "_view_module": "@jupyter-widgets/base",
      "_view_module_version": "1.2.0",
      "_view_name": "LayoutView",
      "align_content": null,
      "align_items": null,
      "align_self": null,
      "border": null,
      "bottom": null,
      "display": null,
      "flex": null,
      "flex_flow": null,
      "grid_area": null,
      "grid_auto_columns": null,
      "grid_auto_flow": null,
      "grid_auto_rows": null,
      "grid_column": null,
      "grid_gap": null,
      "grid_row": null,
      "grid_template_areas": null,
      "grid_template_columns": null,
      "grid_template_rows": null,
      "height": null,
      "justify_content": null,
      "justify_items": null,
      "left": null,
      "margin": null,
      "max_height": null,
      "max_width": null,
      "min_height": null,
      "min_width": null,
      "object_fit": null,
      "object_position": null,
      "order": null,
      "overflow": null,
      "overflow_x": null,
      "overflow_y": null,
      "padding": null,
      "right": null,
      "top": null,
      "visibility": null,
      "width": null
     }
    },
    "b8454c301f7f42eeb05c5d53b544bb6c": {
     "model_module": "@jupyter-widgets/controls",
     "model_name": "DescriptionStyleModel",
     "state": {
      "_model_module": "@jupyter-widgets/controls",
      "_model_module_version": "1.5.0",
      "_model_name": "DescriptionStyleModel",
      "_view_count": null,
      "_view_module": "@jupyter-widgets/base",
      "_view_module_version": "1.2.0",
      "_view_name": "StyleView",
      "description_width": ""
     }
    },
    "bf95f982a28b4fae9e86bba9386cf3b9": {
     "model_module": "@jupyter-widgets/controls",
     "model_name": "VBoxModel",
     "state": {
      "_dom_classes": [
       "widget-interact"
      ],
      "_model_module": "@jupyter-widgets/controls",
      "_model_module_version": "1.5.0",
      "_model_name": "VBoxModel",
      "_view_count": null,
      "_view_module": "@jupyter-widgets/controls",
      "_view_module_version": "1.5.0",
      "_view_name": "VBoxView",
      "box_style": "",
      "children": [
       "IPY_MODEL_f1acc2f2241d4151b29c3c98ce3af259",
       "IPY_MODEL_4d5ae697929740449f2c2a1022a46770"
      ],
      "layout": "IPY_MODEL_2796a27b34b245be95a1d3d9520bc9ba"
     }
    },
    "f1acc2f2241d4151b29c3c98ce3af259": {
     "model_module": "@jupyter-widgets/controls",
     "model_name": "DropdownModel",
     "state": {
      "_dom_classes": [],
      "_model_module": "@jupyter-widgets/controls",
      "_model_module_version": "1.5.0",
      "_model_name": "DropdownModel",
      "_options_labels": [
       "Prevotella-Total",
       "Other-Total",
       "Ruminococcaceae-Total",
       "uncultured/unidentified-total",
       "Dialister",
       "Faecalibacterium",
       "Roseburia",
       "Bifidobacterium",
       "Collinsella",
       "Blautia",
       "Coprococcus-Total",
       "Ruminococcus-Total",
       "Bacteroides",
       "Lactobacillus",
       "Dorea",
       "Lachnospiraceae-Total",
       "Alloprevotella",
       "Escherichia-Shigella",
       "Streptococcus-total",
       "Class"
      ],
      "_view_count": null,
      "_view_module": "@jupyter-widgets/controls",
      "_view_module_version": "1.5.0",
      "_view_name": "DropdownView",
      "description": "subID",
      "description_tooltip": null,
      "disabled": false,
      "index": 2,
      "layout": "IPY_MODEL_949c10f8279340109bb47743fc935e06",
      "style": "IPY_MODEL_b8454c301f7f42eeb05c5d53b544bb6c"
     }
    }
   }
  }
 },
 "nbformat": 4,
 "nbformat_minor": 1
}
