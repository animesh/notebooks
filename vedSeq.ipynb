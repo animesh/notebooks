{
 "cells": [
  {
   "cell_type": "markdown",
   "metadata": {},
   "source": [
    "#Vedic sequence analyzer based on Rachel/Jeremy's awesome [Code-First Intro to Natural Language Processing](https://www.youtube.com/playlist?list=PL8l5P33wvCvIqO3UyvdkeRMoGg--VBvho) and respective [Notebook](https://github.com/fastai/course-nlp/) <a href=\"https://colab.research.google.com/github/animesh/notebooks/blob/master/vedSeq.ipynb\" target=\"_parent\"><img src=\"https://colab.research.google.com/assets/colab-badge.svg\" alt=\"Open In Colab\"/></a>\n"
   ]
  },
  {
   "cell_type": "code",
   "execution_count": 1,
   "metadata": {
    "ExecuteTime": {
     "end_time": "2019-08-11T18:27:44.788500Z",
     "start_time": "2019-08-11T18:27:41.901543Z"
    }
   },
   "outputs": [
    {
     "ename": "ModuleNotFoundError",
     "evalue": "No module named 'torch._C'",
     "output_type": "error",
     "traceback": [
      "\u001b[0;31m---------------------------------------------------------------------------\u001b[0m",
      "\u001b[0;31mModuleNotFoundError\u001b[0m                       Traceback (most recent call last)",
      "\u001b[0;32m<ipython-input-1-726a7b2d8a49>\u001b[0m in \u001b[0;36m<module>\u001b[0;34m\u001b[0m\n\u001b[1;32m      3\u001b[0m \u001b[0mget_ipython\u001b[0m\u001b[0;34m(\u001b[0m\u001b[0;34m)\u001b[0m\u001b[0;34m.\u001b[0m\u001b[0mrun_line_magic\u001b[0m\u001b[0;34m(\u001b[0m\u001b[0;34m'matplotlib'\u001b[0m\u001b[0;34m,\u001b[0m \u001b[0;34m'inline'\u001b[0m\u001b[0;34m)\u001b[0m\u001b[0;34m\u001b[0m\u001b[0;34m\u001b[0m\u001b[0m\n\u001b[1;32m      4\u001b[0m \u001b[0;32mfrom\u001b[0m \u001b[0mfastai\u001b[0m \u001b[0;32mimport\u001b[0m \u001b[0;34m*\u001b[0m\u001b[0;34m\u001b[0m\u001b[0;34m\u001b[0m\u001b[0m\n\u001b[0;32m----> 5\u001b[0;31m \u001b[0;32mfrom\u001b[0m \u001b[0mfastai\u001b[0m\u001b[0;34m.\u001b[0m\u001b[0mtext\u001b[0m \u001b[0;32mimport\u001b[0m \u001b[0;34m*\u001b[0m\u001b[0;34m\u001b[0m\u001b[0;34m\u001b[0m\u001b[0m\n\u001b[0m",
      "\u001b[0;32m/opt/conda/lib/python3.7/site-packages/fastai/text/__init__.py\u001b[0m in \u001b[0;36m<module>\u001b[0;34m\u001b[0m\n\u001b[0;32m----> 1\u001b[0;31m \u001b[0;32mfrom\u001b[0m \u001b[0;34m.\u001b[0m\u001b[0;34m.\u001b[0m \u001b[0;32mimport\u001b[0m \u001b[0mbasics\u001b[0m\u001b[0;34m\u001b[0m\u001b[0;34m\u001b[0m\u001b[0m\n\u001b[0m\u001b[1;32m      2\u001b[0m \u001b[0;32mfrom\u001b[0m \u001b[0;34m.\u001b[0m\u001b[0;34m.\u001b[0m\u001b[0mbasics\u001b[0m \u001b[0;32mimport\u001b[0m \u001b[0;34m*\u001b[0m\u001b[0;34m\u001b[0m\u001b[0;34m\u001b[0m\u001b[0m\n\u001b[1;32m      3\u001b[0m \u001b[0;32mfrom\u001b[0m \u001b[0;34m.\u001b[0m\u001b[0mlearner\u001b[0m \u001b[0;32mimport\u001b[0m \u001b[0;34m*\u001b[0m\u001b[0;34m\u001b[0m\u001b[0;34m\u001b[0m\u001b[0m\n\u001b[1;32m      4\u001b[0m \u001b[0;32mfrom\u001b[0m \u001b[0;34m.\u001b[0m\u001b[0mdata\u001b[0m \u001b[0;32mimport\u001b[0m \u001b[0;34m*\u001b[0m\u001b[0;34m\u001b[0m\u001b[0;34m\u001b[0m\u001b[0m\n\u001b[1;32m      5\u001b[0m \u001b[0;32mfrom\u001b[0m \u001b[0;34m.\u001b[0m\u001b[0mtransform\u001b[0m \u001b[0;32mimport\u001b[0m \u001b[0;34m*\u001b[0m\u001b[0;34m\u001b[0m\u001b[0;34m\u001b[0m\u001b[0m\n",
      "\u001b[0;32m/opt/conda/lib/python3.7/site-packages/fastai/basics.py\u001b[0m in \u001b[0;36m<module>\u001b[0;34m\u001b[0m\n\u001b[0;32m----> 1\u001b[0;31m \u001b[0;32mfrom\u001b[0m \u001b[0;34m.\u001b[0m\u001b[0mbasic_train\u001b[0m \u001b[0;32mimport\u001b[0m \u001b[0;34m*\u001b[0m\u001b[0;34m\u001b[0m\u001b[0;34m\u001b[0m\u001b[0m\n\u001b[0m\u001b[1;32m      2\u001b[0m \u001b[0;32mfrom\u001b[0m \u001b[0;34m.\u001b[0m\u001b[0mcallback\u001b[0m \u001b[0;32mimport\u001b[0m \u001b[0;34m*\u001b[0m\u001b[0;34m\u001b[0m\u001b[0;34m\u001b[0m\u001b[0m\n\u001b[1;32m      3\u001b[0m \u001b[0;32mfrom\u001b[0m \u001b[0;34m.\u001b[0m\u001b[0mcore\u001b[0m \u001b[0;32mimport\u001b[0m \u001b[0;34m*\u001b[0m\u001b[0;34m\u001b[0m\u001b[0;34m\u001b[0m\u001b[0m\n\u001b[1;32m      4\u001b[0m \u001b[0;32mfrom\u001b[0m \u001b[0;34m.\u001b[0m\u001b[0mbasic_data\u001b[0m \u001b[0;32mimport\u001b[0m \u001b[0;34m*\u001b[0m\u001b[0;34m\u001b[0m\u001b[0;34m\u001b[0m\u001b[0m\n\u001b[1;32m      5\u001b[0m \u001b[0;32mfrom\u001b[0m \u001b[0;34m.\u001b[0m\u001b[0mdata_block\u001b[0m \u001b[0;32mimport\u001b[0m \u001b[0;34m*\u001b[0m\u001b[0;34m\u001b[0m\u001b[0;34m\u001b[0m\u001b[0m\n",
      "\u001b[0;32m/opt/conda/lib/python3.7/site-packages/fastai/basic_train.py\u001b[0m in \u001b[0;36m<module>\u001b[0;34m\u001b[0m\n\u001b[1;32m      1\u001b[0m \u001b[0;34m\"Provides basic training and validation with `Learner`\"\u001b[0m\u001b[0;34m\u001b[0m\u001b[0;34m\u001b[0m\u001b[0m\n\u001b[0;32m----> 2\u001b[0;31m \u001b[0;32mfrom\u001b[0m \u001b[0;34m.\u001b[0m\u001b[0mtorch_core\u001b[0m \u001b[0;32mimport\u001b[0m \u001b[0;34m*\u001b[0m\u001b[0;34m\u001b[0m\u001b[0;34m\u001b[0m\u001b[0m\n\u001b[0m\u001b[1;32m      3\u001b[0m \u001b[0;32mfrom\u001b[0m \u001b[0;34m.\u001b[0m\u001b[0mbasic_data\u001b[0m \u001b[0;32mimport\u001b[0m \u001b[0;34m*\u001b[0m\u001b[0;34m\u001b[0m\u001b[0;34m\u001b[0m\u001b[0m\n\u001b[1;32m      4\u001b[0m \u001b[0;32mfrom\u001b[0m \u001b[0;34m.\u001b[0m\u001b[0mcallback\u001b[0m \u001b[0;32mimport\u001b[0m \u001b[0;34m*\u001b[0m\u001b[0;34m\u001b[0m\u001b[0;34m\u001b[0m\u001b[0m\n\u001b[1;32m      5\u001b[0m \u001b[0;32mfrom\u001b[0m \u001b[0;34m.\u001b[0m\u001b[0mdata_block\u001b[0m \u001b[0;32mimport\u001b[0m \u001b[0;34m*\u001b[0m\u001b[0;34m\u001b[0m\u001b[0;34m\u001b[0m\u001b[0m\n",
      "\u001b[0;32m/opt/conda/lib/python3.7/site-packages/fastai/torch_core.py\u001b[0m in \u001b[0;36m<module>\u001b[0;34m\u001b[0m\n\u001b[1;32m      1\u001b[0m \u001b[0;34m\"Utility functions to help deal with tensors\"\u001b[0m\u001b[0;34m\u001b[0m\u001b[0;34m\u001b[0m\u001b[0m\n\u001b[0;32m----> 2\u001b[0;31m \u001b[0;32mfrom\u001b[0m \u001b[0;34m.\u001b[0m\u001b[0mimports\u001b[0m\u001b[0;34m.\u001b[0m\u001b[0mtorch\u001b[0m \u001b[0;32mimport\u001b[0m \u001b[0;34m*\u001b[0m\u001b[0;34m\u001b[0m\u001b[0;34m\u001b[0m\u001b[0m\n\u001b[0m\u001b[1;32m      3\u001b[0m \u001b[0;32mfrom\u001b[0m \u001b[0;34m.\u001b[0m\u001b[0mcore\u001b[0m \u001b[0;32mimport\u001b[0m \u001b[0;34m*\u001b[0m\u001b[0;34m\u001b[0m\u001b[0;34m\u001b[0m\u001b[0m\n\u001b[1;32m      4\u001b[0m \u001b[0;32mfrom\u001b[0m \u001b[0mcollections\u001b[0m \u001b[0;32mimport\u001b[0m \u001b[0mOrderedDict\u001b[0m\u001b[0;34m\u001b[0m\u001b[0;34m\u001b[0m\u001b[0m\n\u001b[1;32m      5\u001b[0m \u001b[0;32mfrom\u001b[0m \u001b[0mtorch\u001b[0m\u001b[0;34m.\u001b[0m\u001b[0mnn\u001b[0m\u001b[0;34m.\u001b[0m\u001b[0mparallel\u001b[0m \u001b[0;32mimport\u001b[0m \u001b[0mDistributedDataParallel\u001b[0m\u001b[0;34m\u001b[0m\u001b[0;34m\u001b[0m\u001b[0m\n",
      "\u001b[0;32m/opt/conda/lib/python3.7/site-packages/fastai/imports/__init__.py\u001b[0m in \u001b[0;36m<module>\u001b[0;34m\u001b[0m\n\u001b[1;32m      1\u001b[0m \u001b[0;32mfrom\u001b[0m \u001b[0;34m.\u001b[0m\u001b[0mcore\u001b[0m \u001b[0;32mimport\u001b[0m \u001b[0;34m*\u001b[0m\u001b[0;34m\u001b[0m\u001b[0;34m\u001b[0m\u001b[0m\n\u001b[0;32m----> 2\u001b[0;31m \u001b[0;32mfrom\u001b[0m \u001b[0;34m.\u001b[0m\u001b[0mtorch\u001b[0m \u001b[0;32mimport\u001b[0m \u001b[0;34m*\u001b[0m\u001b[0;34m\u001b[0m\u001b[0;34m\u001b[0m\u001b[0m\n\u001b[0m",
      "\u001b[0;32m/opt/conda/lib/python3.7/site-packages/fastai/imports/torch.py\u001b[0m in \u001b[0;36m<module>\u001b[0;34m\u001b[0m\n\u001b[0;32m----> 1\u001b[0;31m \u001b[0;32mimport\u001b[0m \u001b[0mtorch\u001b[0m\u001b[0;34m,\u001b[0m \u001b[0mtorch\u001b[0m\u001b[0;34m.\u001b[0m\u001b[0mnn\u001b[0m\u001b[0;34m.\u001b[0m\u001b[0mfunctional\u001b[0m \u001b[0;32mas\u001b[0m \u001b[0mF\u001b[0m\u001b[0;34m\u001b[0m\u001b[0;34m\u001b[0m\u001b[0m\n\u001b[0m\u001b[1;32m      2\u001b[0m \u001b[0;32mfrom\u001b[0m \u001b[0mtorch\u001b[0m \u001b[0;32mimport\u001b[0m \u001b[0mByteTensor\u001b[0m\u001b[0;34m,\u001b[0m \u001b[0mDoubleTensor\u001b[0m\u001b[0;34m,\u001b[0m \u001b[0mFloatTensor\u001b[0m\u001b[0;34m,\u001b[0m \u001b[0mHalfTensor\u001b[0m\u001b[0;34m,\u001b[0m \u001b[0mLongTensor\u001b[0m\u001b[0;34m,\u001b[0m \u001b[0mShortTensor\u001b[0m\u001b[0;34m,\u001b[0m \u001b[0mTensor\u001b[0m\u001b[0;34m\u001b[0m\u001b[0;34m\u001b[0m\u001b[0m\n\u001b[1;32m      3\u001b[0m \u001b[0;32mfrom\u001b[0m \u001b[0mtorch\u001b[0m \u001b[0;32mimport\u001b[0m \u001b[0mnn\u001b[0m\u001b[0;34m,\u001b[0m \u001b[0moptim\u001b[0m\u001b[0;34m,\u001b[0m \u001b[0mas_tensor\u001b[0m\u001b[0;34m\u001b[0m\u001b[0;34m\u001b[0m\u001b[0m\n\u001b[1;32m      4\u001b[0m \u001b[0;32mfrom\u001b[0m \u001b[0mtorch\u001b[0m\u001b[0;34m.\u001b[0m\u001b[0mutils\u001b[0m\u001b[0;34m.\u001b[0m\u001b[0mdata\u001b[0m \u001b[0;32mimport\u001b[0m \u001b[0mBatchSampler\u001b[0m\u001b[0;34m,\u001b[0m \u001b[0mDataLoader\u001b[0m\u001b[0;34m,\u001b[0m \u001b[0mDataset\u001b[0m\u001b[0;34m,\u001b[0m \u001b[0mSampler\u001b[0m\u001b[0;34m,\u001b[0m \u001b[0mTensorDataset\u001b[0m\u001b[0;34m\u001b[0m\u001b[0;34m\u001b[0m\u001b[0m\n\u001b[1;32m      5\u001b[0m \u001b[0;32mfrom\u001b[0m \u001b[0mtorch\u001b[0m\u001b[0;34m.\u001b[0m\u001b[0mnn\u001b[0m\u001b[0;34m.\u001b[0m\u001b[0mutils\u001b[0m \u001b[0;32mimport\u001b[0m \u001b[0mweight_norm\u001b[0m\u001b[0;34m,\u001b[0m \u001b[0mspectral_norm\u001b[0m\u001b[0;34m\u001b[0m\u001b[0;34m\u001b[0m\u001b[0m\n",
      "\u001b[0;32m~/.local/lib/python3.7/site-packages/torch/__init__.py\u001b[0m in \u001b[0;36m<module>\u001b[0;34m\u001b[0m\n\u001b[1;32m     78\u001b[0m     \u001b[0;32mpass\u001b[0m\u001b[0;34m\u001b[0m\u001b[0;34m\u001b[0m\u001b[0m\n\u001b[1;32m     79\u001b[0m \u001b[0;34m\u001b[0m\u001b[0m\n\u001b[0;32m---> 80\u001b[0;31m \u001b[0;32mfrom\u001b[0m \u001b[0mtorch\u001b[0m\u001b[0;34m.\u001b[0m\u001b[0m_C\u001b[0m \u001b[0;32mimport\u001b[0m \u001b[0;34m*\u001b[0m\u001b[0;34m\u001b[0m\u001b[0;34m\u001b[0m\u001b[0m\n\u001b[0m\u001b[1;32m     81\u001b[0m \u001b[0;34m\u001b[0m\u001b[0m\n\u001b[1;32m     82\u001b[0m __all__ += [name for name in dir(_C)\n",
      "\u001b[0;31mModuleNotFoundError\u001b[0m: No module named 'torch._C'"
     ]
    }
   ],
   "source": [
    "%reload_ext autoreload\n",
    "%autoreload 2\n",
    "%matplotlib inline\n",
    "from fastai import *\n",
    "from fastai.text import *"
   ]
  },
  {
   "cell_type": "code",
   "execution_count": 2,
   "metadata": {
    "ExecuteTime": {
     "end_time": "2019-08-11T18:29:37.768762Z",
     "start_time": "2019-08-11T18:29:37.744795Z"
    }
   },
   "outputs": [],
   "source": [
    "#bs=12\n",
    "bs=48\n",
    "#bs=128"
   ]
  },
  {
   "cell_type": "code",
   "execution_count": 3,
   "metadata": {
    "ExecuteTime": {
     "end_time": "2019-07-28T10:40:27.232261Z",
     "start_time": "2019-07-28T10:40:27.192457Z"
    }
   },
   "outputs": [],
   "source": [
    "#torch.cuda.set_device(0)"
   ]
  },
  {
   "cell_type": "code",
   "execution_count": 4,
   "metadata": {
    "ExecuteTime": {
     "end_time": "2019-08-11T18:27:50.181515Z",
     "start_time": "2019-08-11T18:27:50.154002Z"
    }
   },
   "outputs": [
    {
     "name": "stdout",
     "output_type": "stream",
     "text": [
      "/home/animeshs/.fastai/data\n"
     ]
    }
   ],
   "source": [
    "data_path = Config.data_path()\n",
    "print(data_path)"
   ]
  },
  {
   "cell_type": "markdown",
   "metadata": {},
   "source": [
    "This will create a `viwiki` folder, containing a `viwiki` text file with the wikipedia contents. (For other languages, replace `vi` with the appropriate code from the [list of wikipedias](https://meta.wikimedia.org/wiki/List_of_Wikipedias).)"
   ]
  },
  {
   "cell_type": "code",
   "execution_count": 5,
   "metadata": {
    "ExecuteTime": {
     "end_time": "2019-08-11T18:27:55.198086Z",
     "start_time": "2019-08-11T18:27:55.174373Z"
    }
   },
   "outputs": [],
   "source": [
    "lang = 'sa'\n",
    "#lang = 'vi'\n",
    "# lang = 'zh'"
   ]
  },
  {
   "cell_type": "code",
   "execution_count": 6,
   "metadata": {
    "ExecuteTime": {
     "end_time": "2019-08-11T18:27:57.337835Z",
     "start_time": "2019-08-11T18:27:57.313945Z"
    }
   },
   "outputs": [
    {
     "name": "stdout",
     "output_type": "stream",
     "text": [
      "sawiki ['sa_wt', 'sa_wt_vocab'] /home/animeshs/.fastai/data/sawiki\n"
     ]
    }
   ],
   "source": [
    "name = f'{lang}wiki'\n",
    "path = data_path/name\n",
    "path.mkdir(exist_ok=True, parents=True)\n",
    "lm_fns = [f'{lang}_wt', f'{lang}_wt_vocab']\n",
    "print(name,lm_fns,path)"
   ]
  },
  {
   "cell_type": "code",
   "execution_count": 7,
   "metadata": {},
   "outputs": [
    {
     "ename": "ImportError",
     "evalue": "cannot import name 'split_wiki' from 'nlputils' (/home/animeshs/anaconda3/lib/python3.7/site-packages/nlputils/__init__.py)",
     "output_type": "error",
     "traceback": [
      "\u001b[0;31m---------------------------------------------------------------------------\u001b[0m",
      "\u001b[0;31mImportError\u001b[0m                               Traceback (most recent call last)",
      "\u001b[0;32m<ipython-input-7-1f37c303430b>\u001b[0m in \u001b[0;36m<module>\u001b[0;34m\u001b[0m\n\u001b[0;32m----> 1\u001b[0;31m \u001b[0;32mfrom\u001b[0m \u001b[0mnlputils\u001b[0m \u001b[0;32mimport\u001b[0m \u001b[0msplit_wiki\u001b[0m\u001b[0;34m,\u001b[0m\u001b[0mget_wiki\u001b[0m\u001b[0;34m\u001b[0m\u001b[0;34m\u001b[0m\u001b[0m\n\u001b[0m",
      "\u001b[0;31mImportError\u001b[0m: cannot import name 'split_wiki' from 'nlputils' (/home/animeshs/anaconda3/lib/python3.7/site-packages/nlputils/__init__.py)"
     ]
    }
   ],
   "source": [
    "#https://github.com/fastai/course-nlp/blob/master/nlputils.py\n",
    "from nlputils import split_wiki,get_wiki"
   ]
  },
  {
   "cell_type": "markdown",
   "metadata": {},
   "source": [
    "### Download data \n",
    "https://stackoverflow.com/a/31220935/1137129"
   ]
  },
  {
   "cell_type": "code",
   "execution_count": 10,
   "metadata": {
    "ExecuteTime": {
     "end_time": "2019-07-28T10:40:51.689589Z",
     "start_time": "2019-07-28T10:40:41.539234Z"
    }
   },
   "outputs": [],
   "source": [
    "import urllib.request as urllib2\n",
    "from bs4 import *\n",
    "from urllib.parse  import urljoin\n",
    "\n",
    "\n",
    "def crawl(pages, depth=None):\n",
    "    indexed_url = [] # a list for the main and sub-HTML websites in the main website\n",
    "    for i in range(depth):\n",
    "        for page in pages:\n",
    "            if page not in indexed_url:\n",
    "                indexed_url.append(page)\n",
    "                try:\n",
    "                    c = urllib2.urlopen(page)\n",
    "                except:\n",
    "                    print( \"Could not open %s\" % page)\n",
    "                    continue\n",
    "                soup = BeautifulSoup(c.read())\n",
    "                links = soup('a') #finding all the sub_links\n",
    "                for link in links:\n",
    "                    if 'href' in dict(link.attrs):\n",
    "                        url = urljoin(page, link['href'])\n",
    "                        if url.find(\"'\") != -1:\n",
    "                                continue\n",
    "                        url = url.split('#')[0] \n",
    "                        if url[0:4] == 'http':\n",
    "                                indexed_url.append(url)\n",
    "        pages = indexed_url\n",
    "    return indexed_url"
   ]
  },
  {
   "cell_type": "code",
   "execution_count": 11,
   "metadata": {},
   "outputs": [
    {
     "name": "stdout",
     "output_type": "stream",
     "text": [
      "['https://sa.wikisource.org/wiki/%E0%A4%8B%E0%A4%97%E0%A5%8D%E0%A4%B5%E0%A5%87%E0%A4%A6%E0%A4%83', 'https://sa.wikisource.org/wiki/%E0%A4%8B%E0%A4%97%E0%A5%8D%E0%A4%B5%E0%A5%87%E0%A4%A6%E0%A4%83', 'https://sa.wikisource.org/wiki/%E0%A4%8B%E0%A4%97%E0%A5%8D%E0%A4%B5%E0%A5%87%E0%A4%A6%E0%A4%83', 'https://sa.wikisource.org/wiki/%E0%A4%B8%E0%A4%9E%E0%A5%8D%E0%A4%9A%E0%A4%BF%E0%A4%95%E0%A4%BE:Goddess_Ganga._Delhi_National_Museum_ni01-11.jpg', 'https://sa.wikisource.org/wiki/%E0%A4%B8%E0%A4%9E%E0%A5%8D%E0%A4%9A%E0%A4%BF%E0%A4%95%E0%A4%BE:Goddess_Ganga._Delhi_National_Museum_ni01-11.jpg', 'https://sa.wikisource.org/wiki/%E0%A4%B8%E0%A5%8D%E0%A4%95%E0%A4%A8%E0%A5%8D%E0%A4%A6%E0%A4%AA%E0%A5%81%E0%A4%B0%E0%A4%BE%E0%A4%A3%E0%A4%AE%E0%A5%8D/%E0%A4%96%E0%A4%A3%E0%A5%8D%E0%A4%A1%E0%A4%83_%E0%A5%AA_(%E0%A4%95%E0%A4%BE%E0%A4%B6%E0%A5%80%E0%A4%96%E0%A4%A3%E0%A5%8D%E0%A4%A1%E0%A4%83)/%E0%A4%85%E0%A4%A7%E0%A5%8D%E0%A4%AF%E0%A4%BE%E0%A4%AF%E0%A4%83_%E0%A5%A6%E0%A5%AF%E0%A5%A8', 'https://sa.wikisource.org/wiki/%E0%A4%B8%E0%A4%9E%E0%A5%8D%E0%A4%9A%E0%A4%BF%E0%A4%95%E0%A4%BE:Rigveda_MS2097.jpg', 'https://sa.wikisource.org/wiki/%E0%A4%B8%E0%A4%9E%E0%A5%8D%E0%A4%9A%E0%A4%BF%E0%A4%95%E0%A4%BE:Rigveda_MS2097.jpg', 'https://sa.wikipedia.org/wiki/padapatha', 'https://sa.wikipedia.org/wiki/Devanagari', 'https://sa.wikisource.org/wiki/%E0%A4%8B%E0%A4%97%E0%A5%8D%E0%A4%B5%E0%A5%87%E0%A4%A6%E0%A4%83_%E0%A4%AE%E0%A4%A3%E0%A5%8D%E0%A4%A1%E0%A4%B2_%E0%A5%A7', 'https://sa.wikisource.org/wiki/%E0%A4%8B%E0%A4%97%E0%A5%8D%E0%A4%B5%E0%A5%87%E0%A4%A6%E0%A4%83_%E0%A4%AE%E0%A4%A3%E0%A5%8D%E0%A4%A1%E0%A4%B2_%E0%A5%A8', 'https://sa.wikisource.org/wiki/%E0%A4%8B%E0%A4%97%E0%A5%8D%E0%A4%B5%E0%A5%87%E0%A4%A6%E0%A4%83_%E0%A4%AE%E0%A4%A3%E0%A5%8D%E0%A4%A1%E0%A4%B2_%E0%A5%A9', 'https://sa.wikisource.org/wiki/%E0%A4%8B%E0%A4%97%E0%A5%8D%E0%A4%B5%E0%A5%87%E0%A4%A6%E0%A4%83_%E0%A4%AE%E0%A4%A3%E0%A5%8D%E0%A4%A1%E0%A4%B2_%E0%A5%AA', 'https://sa.wikisource.org/wiki/%E0%A4%8B%E0%A4%97%E0%A5%8D%E0%A4%B5%E0%A5%87%E0%A4%A6%E0%A4%83_%E0%A4%AE%E0%A4%A3%E0%A5%8D%E0%A4%A1%E0%A4%B2_%E0%A5%AB', 'https://sa.wikisource.org/wiki/%E0%A4%8B%E0%A4%97%E0%A5%8D%E0%A4%B5%E0%A5%87%E0%A4%A6%E0%A4%83_%E0%A4%AE%E0%A4%A3%E0%A5%8D%E0%A4%A1%E0%A4%B2_%E0%A5%AC', 'https://sa.wikisource.org/wiki/%E0%A4%8B%E0%A4%97%E0%A5%8D%E0%A4%B5%E0%A5%87%E0%A4%A6%E0%A4%83_%E0%A4%AE%E0%A4%A3%E0%A5%8D%E0%A4%A1%E0%A4%B2_%E0%A5%AD', 'https://sa.wikisource.org/wiki/%E0%A4%8B%E0%A4%97%E0%A5%8D%E0%A4%B5%E0%A5%87%E0%A4%A6%E0%A4%83_%E0%A4%AE%E0%A4%A3%E0%A5%8D%E0%A4%A1%E0%A4%B2_%E0%A5%AE', 'https://sa.wikisource.org/wiki/%E0%A4%8B%E0%A4%97%E0%A5%8D%E0%A4%B5%E0%A5%87%E0%A4%A6%E0%A4%83_%E0%A4%AE%E0%A4%A3%E0%A5%8D%E0%A4%A1%E0%A4%B2_%E0%A5%AF', 'https://sa.wikisource.org/wiki/%E0%A4%8B%E0%A4%97%E0%A5%8D%E0%A4%B5%E0%A5%87%E0%A4%A6%E0%A4%83_%E0%A4%AE%E0%A4%A3%E0%A5%8D%E0%A4%A1%E0%A4%B2_%E0%A5%A7%E0%A5%A6', 'https://sa.wikisource.org/wiki/%E0%A4%8B%E0%A4%97%E0%A5%8D%E0%A4%B5%E0%A5%87%E0%A4%A6%E0%A4%83_%E0%A4%96%E0%A4%BF%E0%A4%B2%E0%A4%B8%E0%A5%82%E0%A4%95%E0%A5%8D%E0%A4%A4%E0%A4%BE%E0%A4%A8%E0%A4%BF', 'https://sa.wikisource.org/wiki/%E0%A4%8B%E0%A4%97%E0%A5%8D%E0%A4%B5%E0%A5%87%E0%A4%A6%E0%A4%83_%E0%A4%8B%E0%A4%B7%E0%A4%BF%E0%A4%B8%E0%A5%82%E0%A4%9A%E0%A5%80', 'https://sa.wikisource.org/wiki/%E0%A4%8B%E0%A4%97%E0%A5%8D%E0%A4%B5%E0%A5%87%E0%A4%A6%E0%A4%83_%E0%A4%A6%E0%A5%87%E0%A4%B5%E0%A4%A4%E0%A4%BE%E0%A4%B8%E0%A5%82%E0%A4%9A%E0%A5%80', 'https://sa.wikisource.org/w/index.php?title=%E0%A4%8B%E0%A4%97%E0%A5%8D%E0%A4%B5%E0%A5%87%E0%A4%A6%E0%A4%83&action=edit&section=1', 'https://sa.wikisource.org/wiki/%E0%A4%8B%E0%A4%97%E0%A5%8D%E0%A4%B5%E0%A5%87%E0%A4%A6%E0%A4%83/%E0%A4%B8%E0%A4%82%E0%A4%B9%E0%A4%BF%E0%A4%A4%E0%A4%BE/%E0%A4%B8%E0%A4%B8%E0%A5%8D%E0%A4%B5%E0%A4%B0%E0%A4%AA%E0%A4%BE%E0%A4%A0%E0%A4%83/%E0%A5%A7-%E0%A5%AB', 'https://sa.wikisource.org/wiki/%E0%A4%8B%E0%A4%97%E0%A5%8D%E0%A4%B5%E0%A5%87%E0%A4%A6%E0%A4%83/%E0%A4%B8%E0%A4%82%E0%A4%B9%E0%A4%BF%E0%A4%A4%E0%A4%BE/%E0%A4%B8%E0%A4%B8%E0%A5%8D%E0%A4%B5%E0%A4%B0%E0%A4%AA%E0%A4%BE%E0%A4%A0%E0%A4%83/%E0%A5%AC-%E0%A5%A7%E0%A5%A6', 'https://sa.wikisource.org/w/index.php?title=%E0%A4%8B%E0%A4%97%E0%A5%8D%E0%A4%B5%E0%A5%87%E0%A4%A6%E0%A4%83&action=edit&section=2', 'https://drive.google.com/file/d/1p2g9X5UnqkqnhKUKnfSuhOqtFkhKq7wR/view?usp=sharing', 'https://sa.wikisource.org/wiki/%E0%A4%8B%E0%A4%97%E0%A5%8D%E0%A4%B5%E0%A5%87%E0%A4%A6%E0%A4%83/%E0%A4%AC%E0%A5%8D%E0%A4%B0%E0%A4%BE%E0%A4%B9%E0%A5%8D%E0%A4%AE%E0%A4%A3%E0%A4%AE%E0%A5%8D', 'https://sa.wikisource.org/wiki/%E0%A4%8B%E0%A4%97%E0%A5%8D%E0%A4%B5%E0%A5%87%E0%A4%A6%E0%A4%83/%E0%A4%86%E0%A4%B0%E0%A4%A3%E0%A5%8D%E0%A4%AF%E0%A4%95%E0%A4%AE%E0%A5%8D', 'https://sa.wikisource.org/w/index.php?title=%E0%A4%8B%E0%A4%97%E0%A5%8D%E0%A4%B5%E0%A5%87%E0%A4%A6%E0%A4%83/%E0%A4%89%E0%A4%AA%E0%A4%A8%E0%A4%BF%E0%A4%B7%E0%A4%A6%E0%A4%83&action=edit&redlink=1', 'https://sa.wikipedia.org/wiki/%E0%A4%8B%E0%A4%97%E0%A5%8D%E0%A4%B5%E0%A5%87%E0%A4%A6%E0%A4%83', 'https://www.aurobindo.ru/workings/matherials/rigveda/', 'https://sa.wikisource.org/w/index.php?title=%E0%A4%8B%E0%A4%97%E0%A5%8D%E0%A4%B5%E0%A5%87%E0%A4%A6%E0%A4%83&action=edit&section=3', 'https://sa.wikisource.org/wiki/%E0%A4%90%E0%A4%A4%E0%A4%B0%E0%A5%87%E0%A4%AF_%E0%A4%86%E0%A4%B0%E0%A4%A3%E0%A5%8D%E0%A4%AF%E0%A4%95%E0%A4%AE%E0%A5%8D/%E0%A4%86%E0%A4%B0%E0%A4%A3%E0%A5%8D%E0%A4%AF%E0%A4%95_%E0%A5%A8', 'https://sa.wikisource.org/w/index.php?title=ऋग्वेदः&oldid=214629', 'https://sa.wikisource.org/wiki/%E0%A4%B5%E0%A4%BF%E0%A4%B6%E0%A5%87%E0%A4%B7%E0%A4%83:%E0%A4%B5%E0%A4%B0%E0%A5%8D%E0%A4%97%E0%A4%BE%E0%A4%83', 'https://sa.wikisource.org/wiki/%E0%A4%B5%E0%A4%B0%E0%A5%8D%E0%A4%97%E0%A4%83:%E0%A4%8B%E0%A4%97%E0%A5%8D%E0%A4%B5%E0%A5%87%E0%A4%A6%E0%A4%83', 'https://sa.wikisource.org/wiki/%E0%A4%B5%E0%A4%BF%E0%A4%B6%E0%A5%87%E0%A4%B7%E0%A4%83:%E0%A4%AE%E0%A4%AE_%E0%A4%B8%E0%A4%AE%E0%A5%8D%E0%A4%AD%E0%A4%BE%E0%A4%B7%E0%A4%A3%E0%A4%AE%E0%A5%8D', 'https://sa.wikisource.org/wiki/%E0%A4%B5%E0%A4%BF%E0%A4%B6%E0%A5%87%E0%A4%B7%E0%A4%83:%E0%A4%AE%E0%A4%AE_%E0%A4%AF%E0%A5%8B%E0%A4%97%E0%A4%A6%E0%A4%BE%E0%A4%A8%E0%A4%BE%E0%A4%A8%E0%A4%BF', 'https://sa.wikisource.org/w/index.php?title=%E0%A4%B5%E0%A4%BF%E0%A4%B6%E0%A5%87%E0%A4%B7%E0%A4%83:%E0%A4%B2%E0%A5%87%E0%A4%96%E0%A4%BE_%E0%A4%B8%E0%A5%83%E0%A4%9C%E0%A5%8D%E0%A4%AF%E0%A4%A4%E0%A4%BE%E0%A4%AE%E0%A5%8D&returnto=%E0%A4%8B%E0%A4%97%E0%A5%8D%E0%A4%B5%E0%A5%87%E0%A4%A6%E0%A4%83', 'https://sa.wikisource.org/w/index.php?title=%E0%A4%B5%E0%A4%BF%E0%A4%B6%E0%A5%87%E0%A4%B7%E0%A4%83:%E0%A4%B8%E0%A4%A6%E0%A4%B8%E0%A5%8D%E0%A4%AF%E0%A4%AA%E0%A5%8D%E0%A4%B0%E0%A4%B5%E0%A5%87%E0%A4%B6%E0%A4%83&returnto=%E0%A4%8B%E0%A4%97%E0%A5%8D%E0%A4%B5%E0%A5%87%E0%A4%A6%E0%A4%83', 'https://sa.wikisource.org/wiki/%E0%A4%8B%E0%A4%97%E0%A5%8D%E0%A4%B5%E0%A5%87%E0%A4%A6%E0%A4%83', 'https://sa.wikisource.org/wiki/%E0%A4%B8%E0%A4%AE%E0%A5%8D%E0%A4%AD%E0%A4%BE%E0%A4%B7%E0%A4%A3%E0%A4%AE%E0%A5%8D:%E0%A4%8B%E0%A4%97%E0%A5%8D%E0%A4%B5%E0%A5%87%E0%A4%A6%E0%A4%83', 'https://sa.wikisource.org/wiki/%E0%A4%8B%E0%A4%97%E0%A5%8D%E0%A4%B5%E0%A5%87%E0%A4%A6%E0%A4%83', 'https://sa.wikisource.org/w/index.php?title=%E0%A4%8B%E0%A4%97%E0%A5%8D%E0%A4%B5%E0%A5%87%E0%A4%A6%E0%A4%83&action=edit', 'https://sa.wikisource.org/w/index.php?title=%E0%A4%8B%E0%A4%97%E0%A5%8D%E0%A4%B5%E0%A5%87%E0%A4%A6%E0%A4%83&action=history', 'https://sa.wikisource.org/wiki/%E0%A4%AE%E0%A5%81%E0%A4%96%E0%A5%8D%E0%A4%AF%E0%A4%AA%E0%A5%83%E0%A4%B7%E0%A5%8D%E0%A4%A0%E0%A4%AE%E0%A5%8D', 'https://sa.wikisource.org/wiki/%E0%A4%AE%E0%A5%81%E0%A4%96%E0%A5%8D%E0%A4%AF%E0%A4%AA%E0%A5%83%E0%A4%B7%E0%A5%8D%E0%A4%A0%E0%A4%AE%E0%A5%8D', 'https://sa.wikisource.org/wiki/%E0%A4%B5%E0%A4%BF%E0%A4%95%E0%A4%BF%E0%A4%B8%E0%A5%8D%E0%A4%B0%E0%A5%8B%E0%A4%A4%E0%A4%83:%E0%A4%B8%E0%A4%AE%E0%A5%81%E0%A4%A6%E0%A4%BE%E0%A4%AF%E0%A4%A6%E0%A5%8D%E0%A4%B5%E0%A4%BE%E0%A4%B0%E0%A4%AE%E0%A5%8D', 'https://sa.wikisource.org/wiki/%E0%A4%B5%E0%A4%BF%E0%A4%95%E0%A4%BF%E0%A4%B8%E0%A5%8D%E0%A4%B0%E0%A5%8B%E0%A4%A4%E0%A4%83:%E0%A4%B5%E0%A4%B0%E0%A5%8D%E0%A4%A4%E0%A4%AE%E0%A4%BE%E0%A4%A8%E0%A4%B5%E0%A4%BE%E0%A4%B0%E0%A5%8D%E0%A4%A4%E0%A4%BE%E0%A4%83', 'https://sa.wikisource.org/wiki/%E0%A4%B5%E0%A4%BF%E0%A4%B6%E0%A5%87%E0%A4%B7%E0%A4%83:%E0%A4%A8%E0%A5%82%E0%A4%A4%E0%A4%A8%E0%A4%AA%E0%A4%B0%E0%A4%BF%E0%A4%B5%E0%A4%B0%E0%A5%8D%E0%A4%A4%E0%A4%A8%E0%A4%BE%E0%A4%A8%E0%A4%BF', 'https://sa.wikisource.org/wiki/%E0%A4%B5%E0%A4%BF%E0%A4%B6%E0%A5%87%E0%A4%B7%E0%A4%83:%E0%A4%AF%E0%A4%BE%E0%A4%A6%E0%A5%83%E0%A4%9A%E0%A5%8D%E0%A4%9B%E0%A4%BF%E0%A4%95%E0%A4%AA%E0%A5%83%E0%A4%B7%E0%A5%8D%E0%A4%A0%E0%A4%AE%E0%A5%8D', 'https://www.mediawiki.org/wiki/Special:MyLanguage/Help:Contents', 'https://donate.wikimedia.org/wiki/Special:FundraiserRedirector?utm_source=donate&utm_medium=sidebar&utm_campaign=C13_sa.wikisource.org&uselang=sa', 'https://commons.wikimedia.org/wiki/Category:Rig_Veda', 'https://sa.wikipedia.org/wiki/%E0%A4%8B%E0%A4%97%E0%A5%8D%E0%A4%B5%E0%A5%87%E0%A4%A6%E0%A4%83', 'https://sa.wikisource.org/w/index.php?title=%E0%A4%B5%E0%A4%BF%E0%A4%B6%E0%A5%87%E0%A4%B7%E0%A4%83:%E0%A4%B8%E0%A4%AE%E0%A5%81%E0%A4%9A%E0%A5%8D%E0%A4%AF%E0%A4%AF&bookcmd=book_creator&referer=%E0%A4%8B%E0%A4%97%E0%A5%8D%E0%A4%B5%E0%A5%87%E0%A4%A6%E0%A4%83', 'https://sa.wikisource.org/w/index.php?title=%E0%A4%B5%E0%A4%BF%E0%A4%B6%E0%A5%87%E0%A4%B7%E0%A4%83:ElectronPdf&page=%E0%A4%8B%E0%A4%97%E0%A5%8D%E0%A4%B5%E0%A5%87%E0%A4%A6%E0%A4%83&action=show-download-screen', 'https://sa.wikisource.org/w/index.php?title=%E0%A4%8B%E0%A4%97%E0%A5%8D%E0%A4%B5%E0%A5%87%E0%A4%A6%E0%A4%83&printable=yes', 'https://sa.wikisource.org/wiki/%E0%A4%B5%E0%A4%BF%E0%A4%B6%E0%A5%87%E0%A4%B7%E0%A4%83:%E0%A4%95%E0%A4%BF%E0%A4%AE%E0%A4%A4%E0%A5%8D%E0%A4%B0_%E0%A4%B8%E0%A4%81%E0%A4%B2%E0%A5%8D%E0%A4%B2%E0%A4%97%E0%A5%8D%E0%A4%A8%E0%A4%AE%E0%A5%8D/%E0%A4%8B%E0%A4%97%E0%A5%8D%E0%A4%B5%E0%A5%87%E0%A4%A6%E0%A4%83', 'https://sa.wikisource.org/wiki/%E0%A4%B5%E0%A4%BF%E0%A4%B6%E0%A5%87%E0%A4%B7%E0%A4%83:%E0%A4%A8%E0%A5%82%E0%A4%A4%E0%A4%A8%E0%A4%AA%E0%A4%B0%E0%A4%BF%E0%A4%B5%E0%A4%B0%E0%A5%8D%E0%A4%A4%E0%A4%A8%E0%A4%BE%E0%A4%A8%E0%A4%BE%E0%A4%82_%E0%A4%AA%E0%A4%B0%E0%A4%BF%E0%A4%B8%E0%A4%A8%E0%A5%8D%E0%A4%A7%E0%A4%AF%E0%A4%83/%E0%A4%8B%E0%A4%97%E0%A5%8D%E0%A4%B5%E0%A5%87%E0%A4%A6%E0%A4%83', 'https://commons.wikimedia.org/wiki/Special:UploadWizard?uselang=sa', 'https://sa.wikisource.org/wiki/%E0%A4%B5%E0%A4%BF%E0%A4%B6%E0%A5%87%E0%A4%B7%E0%A4%83:%E0%A4%B5%E0%A4%BF%E0%A4%B6%E0%A5%87%E0%A4%B7%E0%A4%AA%E0%A5%83%E0%A4%B7%E0%A5%8D%E0%A4%A0%E0%A4%BE%E0%A4%A8%E0%A4%BF', 'https://sa.wikisource.org/w/index.php?title=%E0%A4%8B%E0%A4%97%E0%A5%8D%E0%A4%B5%E0%A5%87%E0%A4%A6%E0%A4%83&oldid=214629', 'https://sa.wikisource.org/w/index.php?title=%E0%A4%8B%E0%A4%97%E0%A5%8D%E0%A4%B5%E0%A5%87%E0%A4%A6%E0%A4%83&action=info', 'https://www.wikidata.org/wiki/Special:EntityPage/Q727413', 'https://sa.wikisource.org/w/index.php?title=%E0%A4%B5%E0%A4%BF%E0%A4%B6%E0%A5%87%E0%A4%B7%E0%A4%83:%E0%A4%89%E0%A4%A6%E0%A5%8D%E0%A4%A7%E0%A5%83%E0%A4%A4&page=%E0%A4%8B%E0%A4%97%E0%A5%8D%E0%A4%B5%E0%A5%87%E0%A4%A6%E0%A4%83&id=214629', 'https://sa.wikisource.org/s/k', 'https://en.wikisource.org/wiki/The_Rig_Veda', 'https://fr.wikisource.org/wiki/Rig_V%C3%A9da_ou_Livre_des_hymnes', 'https://te.wikisource.org/wiki/%E0%B0%8B%E0%B0%97%E0%B1%8D%E0%B0%B5%E0%B1%87%E0%B0%A6%E0%B0%AE%E0%B1%81', 'https://uk.wikisource.org/wiki/%D0%A0%D1%96%D2%91%D0%B2%D0%B5%D0%B4%D0%B0', 'https://www.wikidata.org/wiki/Special:EntityPage/Q727413', 'https://creativecommons.org/licenses/by-sa/3.0/', 'https://foundation.wikimedia.org/wiki/Special:MyLanguage/Terms_of_Use', 'https://foundation.wikimedia.org/wiki/Privacy_policy', 'https://sa.wikisource.org/wiki/%E0%A4%B5%E0%A4%BF%E0%A4%95%E0%A4%BF%E0%A4%B8%E0%A5%8D%E0%A4%B0%E0%A5%8B%E0%A4%A4%E0%A4%83:%E0%A4%B5%E0%A4%BF%E0%A4%B7%E0%A4%AF%E0%A4%95%E0%A4%AE%E0%A5%8D', 'https://sa.wikisource.org/wiki/%E0%A4%B5%E0%A4%BF%E0%A4%95%E0%A4%BF%E0%A4%B8%E0%A5%8D%E0%A4%B0%E0%A5%8B%E0%A4%A4%E0%A4%83:%E0%A4%B8%E0%A4%BE%E0%A4%AE%E0%A4%BE%E0%A4%A8%E0%A5%8D%E0%A4%AF%E0%A4%BE%E0%A4%BD%E0%A4%B8%E0%A5%8D%E0%A4%B5%E0%A5%80%E0%A4%95%E0%A4%B0%E0%A4%A3%E0%A4%AE%E0%A5%8D', 'https://www.mediawiki.org/wiki/Special:MyLanguage/How_to_contribute', 'https://stats.wikimedia.org/v2/', 'https://foundation.wikimedia.org/wiki/Cookie_statement', 'https://sa.m.wikisource.org/w/index.php?title=%E0%A4%8B%E0%A4%97%E0%A5%8D%E0%A4%B5%E0%A5%87%E0%A4%A6%E0%A4%83&mobileaction=toggle_view_mobile', 'https://wikimediafoundation.org/', 'https://www.mediawiki.org/']\n"
     ]
    }
   ],
   "source": [
    "pagelist=[\"https://sa.wikisource.org/wiki/%E0%A4%8B%E0%A4%97%E0%A5%8D%E0%A4%B5%E0%A5%87%E0%A4%A6%E0%A4%83\"]\n",
    "urls = crawl(pagelist, depth=1)\n",
    "print( urls )"
   ]
  },
  {
   "cell_type": "code",
   "execution_count": 29,
   "metadata": {},
   "outputs": [
    {
     "name": "stdout",
     "output_type": "stream",
     "text": [
      "['https://en.wikisource.org/wiki/The_Rig_Veda', 'https://en.wikisource.org/wiki/The_Rig_Veda', 'https://en.wikisource.org/wiki/The_Rig_Veda', 'https://en.wikisource.org/wiki/File:Ambox_style_icon.svg', 'https://en.wikisource.org/wiki/Index:The_Hymns_of_the_Rigveda_Vol_1.djvu', 'https://en.wikisource.org/wiki/Index:The_Hymns_of_the_Rigveda_Vol_2.djvu', 'https://en.wikisource.org/wiki/Help:Match_and_Split', 'https://en.wikisource.org/wiki/Help:Proofread', 'https://en.wikisource.org/wiki/Author:Ralph_T._H._Griffith', 'https://en.wikisource.org/wiki/Portal:Portals', 'https://en.wikisource.org/wiki/Portal:Portals', 'https://en.wikisource.org/wiki/Portal:Religion', 'https://en.wikisource.org/wiki/Special:SiteMatrix', 'https://en.wikisource.org/wiki/Special:SiteMatrix', 'https://en.wikipedia.org/wiki/Rigveda', 'https://commons.wikimedia.org/wiki/Category:Rig_Veda', 'https://en.wikiquote.org/wiki/Rigveda', 'https://www.wikidata.org/wiki/Q727413', 'https://en.wikisource.org/wiki/The_Vedas', 'https://en.wikisource.org/wiki/File:Rigveda_MS2097.jpg', 'https://en.wikisource.org/wiki/File:Rigveda_MS2097.jpg', 'https://en.wikipedia.org/wiki/padapatha', 'https://en.wikipedia.org/wiki/Devanagari', 'https://en.wikisource.org/wiki/The_Rig_Veda/Mandala_1', 'https://en.wikisource.org/wiki/The_Rig_Veda/Mandala_2', 'https://en.wikisource.org/wiki/The_Rig_Veda/Mandala_3', 'https://en.wikisource.org/wiki/The_Rig_Veda/Mandala_4', 'https://en.wikisource.org/wiki/The_Rig_Veda/Mandala_5', 'https://en.wikisource.org/wiki/The_Rig_Veda/Mandala_6', 'https://en.wikisource.org/wiki/The_Rig_Veda/Mandala_7', 'https://en.wikisource.org/wiki/The_Rig_Veda/Mandala_8', 'https://en.wikisource.org/wiki/The_Rig_Veda/Mandala_9', 'https://en.wikisource.org/wiki/The_Rig_Veda/Mandala_10', 'https://en.wikipedia.org/wiki/Public_domain', 'https://en.wikipedia.org/wiki/Public_domain', 'https://en.wikisource.org/wiki/Wikisource:WikiProject_Hinduism', 'https://sa.wikisource.org/wiki/%E0%A4%8B%E0%A4%97%E0%A5%8D%E0%A4%B5%E0%A5%87%E0%A4%A6%E0%A4%83', 'https://wikisource.org/wiki/Rig_Veda_(ASCII)', 'https://en.wikisource.org/w/index.php?title=The_Rig_Veda&oldid=9405101', 'https://en.wikisource.org/wiki/Special:Categories', 'https://en.wikisource.org/wiki/Category:1896_works', 'https://en.wikisource.org/wiki/Category:PD-old', 'https://en.wikisource.org/wiki/Category:Works_originally_in_Sanskrit', 'https://en.wikisource.org/wiki/Category:Hinduism', 'https://en.wikisource.org/wiki/Category:Ancient_works', 'https://en.wikisource.org/wiki/Category:Hymns', 'https://en.wikisource.org/wiki/Category:Texts_to_be_migrated_to_DjVu', 'https://en.wikisource.org/wiki/Special:MyTalk', 'https://en.wikisource.org/wiki/Special:MyContributions', 'https://en.wikisource.org/w/index.php?title=Special:CreateAccount&returnto=The+Rig+Veda', 'https://en.wikisource.org/w/index.php?title=Special:UserLogin&returnto=The+Rig+Veda', 'https://en.wikisource.org/wiki/The_Rig_Veda', 'https://en.wikisource.org/wiki/Talk:The_Rig_Veda', 'https://en.wikisource.org/wiki/The_Rig_Veda', 'https://en.wikisource.org/w/index.php?title=The_Rig_Veda&action=edit', 'https://en.wikisource.org/w/index.php?title=The_Rig_Veda&action=history', 'https://en.wikisource.org/wiki/Main_Page', 'https://en.wikisource.org/wiki/Main_Page', 'https://en.wikisource.org/wiki/Wikisource:Community_portal', 'https://en.wikisource.org/wiki/Wikisource:Scriptorium', 'https://en.wikisource.org/wiki/Special:RecentChanges', 'https://en.wikisource.org/wiki/Portal:Portals', 'https://en.wikisource.org/wiki/Category:Authors_by_alphabetical_order', 'https://en.wikisource.org/wiki/Special:RandomRootpage/Main', 'https://en.wikisource.org/wiki/Special:Random/Author', 'https://en.wikisource.org/wiki/Special:Random/Index', 'https://en.wikisource.org/wiki/Help:Contents', 'https://donate.wikimedia.org/wiki/Special:FundraiserRedirector?utm_source=donate&utm_medium=sidebar&utm_campaign=C13_en.wikisource.org&uselang=en', 'https://en.wikisource.org/wiki/Special:WhatLinksHere/The_Rig_Veda', 'https://en.wikisource.org/wiki/Special:RecentChangesLinked/The_Rig_Veda', 'https://en.wikisource.org/wiki/Special:SpecialPages', 'https://en.wikisource.org/w/index.php?title=The_Rig_Veda&oldid=9405101', 'https://en.wikisource.org/w/index.php?title=The_Rig_Veda&action=info', 'https://www.wikidata.org/wiki/Special:EntityPage/Q727413', 'https://en.wikisource.org/w/index.php?title=Special:CiteThisPage&page=The_Rig_Veda&id=9405101', 'https://commons.wikimedia.org/wiki/Category:Rig_Veda', 'https://en.wikipedia.org/wiki/Rigveda', 'https://en.wikiquote.org/wiki/Rigveda', 'https://en.wikisource.org/w/index.php?title=Special:Book&bookcmd=book_creator&referer=The+Rig+Veda', 'https://en.wikisource.org/w/index.php?title=Special:ElectronPdf&page=The+Rig+Veda&action=show-download-screen', 'https://en.wikisource.org/w/index.php?title=The_Rig_Veda&printable=yes', 'https://fr.wikisource.org/wiki/Rig_V%C3%A9da_ou_Livre_des_hymnes', 'https://sa.wikisource.org/wiki/%E0%A4%8B%E0%A4%97%E0%A5%8D%E0%A4%B5%E0%A5%87%E0%A4%A6%E0%A4%83', 'https://te.wikisource.org/wiki/%E0%B0%8B%E0%B0%97%E0%B1%8D%E0%B0%B5%E0%B1%87%E0%B0%A6%E0%B0%AE%E0%B1%81', 'https://uk.wikisource.org/wiki/%D0%A0%D1%96%D2%91%D0%B2%D0%B5%D0%B4%D0%B0', 'https://www.wikidata.org/wiki/Special:EntityPage/Q727413', 'https://creativecommons.org/licenses/by-sa/3.0/', 'https://wikimediafoundation.org/wiki/Terms_of_Use', 'https://wikimediafoundation.org/wiki/Privacy_policy', 'https://foundation.wikimedia.org/wiki/Privacy_policy', 'https://en.wikisource.org/wiki/Wikisource:About', 'https://en.wikisource.org/wiki/Wikisource:General_disclaimer', 'https://www.mediawiki.org/wiki/Special:MyLanguage/How_to_contribute', 'https://stats.wikimedia.org/v2/', 'https://foundation.wikimedia.org/wiki/Cookie_statement', 'https://en.m.wikisource.org/w/index.php?title=The_Rig_Veda&mobileaction=toggle_view_mobile', 'https://wikimediafoundation.org/', 'https://www.mediawiki.org/']\n"
     ]
    }
   ],
   "source": [
    "pagelist=[\"https://en.wikisource.org/wiki/The_Rig_Veda\"]\n",
    "urls = crawl(pagelist, depth=1)\n",
    "print( urls )"
   ]
  },
  {
   "cell_type": "code",
   "execution_count": 30,
   "metadata": {},
   "outputs": [],
   "source": [
    "def parseWWW(page):\n",
    "    c = urllib2.urlopen(page)\n",
    "    soup = BeautifulSoup(c.read())\n",
    "    return soup.get_text() #finding all the text"
   ]
  },
  {
   "cell_type": "code",
   "execution_count": 43,
   "metadata": {},
   "outputs": [
    {
     "name": "stdout",
     "output_type": "stream",
     "text": [
      "\n",
      "\n",
      "\n",
      "ऋग्वेदः - विकिस्रोतः\n",
      "document.documentElement.className=\"client-js\";RLCONF={\"wgBreakFrames\":!1,\"wgSeparatorTransformTable\":[\"\",\"\"],\"wgDigitTransformTable\":[\"0\\t1\\t2\\t3\\t4\\t5\\t6\\t7\\t8\\t9\",\"०\\t१\\t२\\t३\\t४\\t५\\t६\\t७\\t८\\t९\"],\"wgDefaultDateFormat\":\"dmy\",\"wgMonthNames\":[\"\",\"जनवरी\",\"फरवरी\",\"मार्च\",\"अप्रैल\",\"मई\",\"जून\",\"जुलाई\",\"अगस्त\",\"सितम्बर\",\"अक्तूबर\",\"नवम्बर\",\"दिसम्बर\"],\"wgMonthNamesShort\":[\"\",\"जेन.\",\"फेब.\",\"मार्च.\",\"एप्र॰\",\"मे\",\"जून\",\"जुल.\",\"ओग.\",\"सेप्.\",\"ओक्टो.\",\"नवे.\",\"डिस.\"],\"wgRequestId\":\"XfOY-ApAICsAACOFXHEAAADS\",\"wgCSPNonce\":!1,\"wgCanonicalNamespace\":\"\",\"wgCanonicalSpecialPageName\":!1,\"wgNamespaceNumber\":0,\"wgPageName\":\"ऋग्वेदः\",\"wgTitle\":\"ऋग्वेदः\",\"wgCurRevisionId\":214629,\"wgRevisionId\":214629,\"wgArticleId\":27,\"wgIsArticle\":!0,\"wgIsRedirect\":\n",
      "!1,\"wgAction\":\"view\",\"wgUserName\":null,\"wgUserGroups\":[\"*\"],\"wgCategories\":[\"ऋग्वेदः\"],\"wgPageContentLanguage\":\"sa\",\"wgPageContentModel\":\"wikitext\",\"wgRelevantPageName\":\"ऋग्वेदः\",\"wgRelevantArticleId\":27,\"wgIsProbablyEditable\":!0,\"wgRelevantPageIsProbablyEditable\":!0,\"wgRestrictionEdit\":[],\"wgRestrictionMove\":[],\"wgMediaViewerOnClick\":!0,\"wgMediaViewerEnabledByDefault\":!0,\"wgVisualEditor\":{\"pageLanguageCode\":\"sa\",\"pageLanguageDir\":\"ltr\",\"pageVariantFallbacks\":\"sa\"},\"wgMFDisplayWikibaseDescriptions\":{\"search\":!0,\"nearby\":!0,\"watchlist\":!0,\"tagline\":!1},\"wgWMESchemaEditAttemptStepOversample\":!1,\"wgULSCurrentAutonym\":\"संस्कृतम्\",\"wgNoticeProject\":\"wikisource\",\"wgWikibaseItemId\":\"Q727413\",\"wgCentralAuthMobileDomain\":!1,\"wgEditSubmitButtonLabelPublish\":!0,\"wgSiteNoticeId\":\"2.0\"};RLSTATE={\"ext.gadget.charinsert-styles\":\"ready\",\"ext.globalCssJs.user.styles\":\"ready\",\"site.styles\":\"ready\",\"noscript\":\"ready\",\"user.styles\":\n",
      "\"ready\",\"ext.globalCssJs.user\":\"ready\",\"user\":\"ready\",\"user.options\":\"loading\",\"user.tokens\":\"loading\",\"ext.inputBox.styles\":\"ready\",\"mediawiki.ui.input\":\"ready\",\"mediawiki.ui.checkbox\":\"ready\",\"mediawiki.legacy.shared\":\"ready\",\"mediawiki.legacy.commonPrint\":\"ready\",\"jquery.makeCollapsible.styles\":\"ready\",\"mediawiki.ui.button\":\"ready\",\"wikibase.client.init\":\"ready\",\"ext.visualEditor.desktopArticleTarget.noscript\":\"ready\",\"ext.uls.interlanguage\":\"ready\",\"ext.wikimediaBadges\":\"ready\",\"ext.dismissableSiteNotice.styles\":\"ready\",\"mediawiki.skinning.interface\":\"ready\",\"skins.vector.styles\":\"ready\"};RLPAGEMODULES=[\"ext.shortUrl\",\"site\",\"mediawiki.page.startup\",\"mediawiki.page.ready\",\"jquery.makeCollapsible\",\"mediawiki.searchSuggest\",\"ext.gadget.charinsert\",\"ext.gadget.refToolbar\",\"ext.gadget.WSexport\",\"ext.gadget.EdittoolsCollapser\",\"ext.centralauth.centralautologin\",\"mmv.head\",\"mmv.bootstrap.autostart\",\"ext.visualEditor.desktopArticleTarget.init\",\"ext.visualEditor.targetLoader\",\n",
      "\"ext.eventLogging\",\"ext.wikimediaEvents\",\"ext.navigationTiming\",\"ext.uls.interface\",\"ext.centralNotice.geoIP\",\"ext.centralNotice.startUp\",\"skins.vector.js\",\"ext.dismissableSiteNotice\"];\n",
      "(RLQ=window.RLQ||[]).push(function(){mw.loader.implement(\"user.options@5w1g3\",function($,jQuery,require,module){/*@nomin*/mw.user.options.set({\"variant\":\"sa\"});\n",
      "});mw.loader.implement(\"user.tokens@tffin\",function($,jQuery,require,module){/*@nomin*/mw.user.tokens.set({\"patrolToken\":\"+\\\\\",\"watchToken\":\"+\\\\\",\"csrfToken\":\"+\\\\\"});\n",
      "});});\n",
      "\n",
      "\n",
      "\n",
      "\n",
      "\n",
      "\n",
      "\n",
      "\n",
      "\n",
      "\n",
      "\n",
      "\n",
      "\n",
      "\n",
      "\n",
      "\n",
      "\n",
      "\n",
      "\n",
      "\n",
      "\n",
      "\n",
      "\n",
      "\n",
      "\n",
      "(function(){var node=document.getElementById(\"mw-dismissablenotice-anonplace\");if(node){node.outerHTML=\"\\u003Cdiv class=\\\"mw-dismissable-notice\\\"\\u003E\\u003Cdiv class=\\\"mw-dismissable-notice-close\\\"\\u003E[\\u003Ca tabindex=\\\"0\\\" role=\\\"button\\\"\\u003Eअपनीयताम्\\u003C/a\\u003E]\\u003C/div\\u003E\\u003Cdiv class=\\\"mw-dismissable-notice-body\\\"\\u003E\\u003Cdiv id=\\\"localNotice\\\" lang=\\\"sa\\\" dir=\\\"ltr\\\"\\u003E\\u003Ctable align=\\\"Center\\\" style=\\\"Background-Color:#f1f5fc; Border: 2px Solid #abd5f5;\\\"\\u003E\\n\\n\\u003Ctbody\\u003E\\u003Ctr\\u003E\\n\\u003Ctd\\u003E\\n\\u003C/td\\u003E\\u003C/tr\\u003E\\n\\u003Ctr align=\\\"Center\\\"\\u003E\\n\\u003Ctd\\u003E\\u003Cimg alt=\\\"सहाय्यम्\\\" src=\\\"//upload.wikimedia.org/wikipedia/commons/thumb/9/96/Gnome-help.svg/20px-Gnome-help.svg.png\\\" decoding=\\\"async\\\" width=\\\"20\\\" height=\\\"20\\\" srcset=\\\"//upload.wikimedia.org/wikipedia/commons/thumb/9/96/Gnome-help.svg/30px-Gnome-help.svg.png 1.5x, //upload.wikimedia.org/wikipedia/commons/thumb/9/96/Gnome-help.svg/40px-Gnome-help.svg.png 2x\\\" data-file-width=\\\"60\\\" data-file-height=\\\"60\\\" /\\u003E  \\u003Cb\\u003E\\u003Ca href=\\\"https://sa.wikipedia.org/wiki/%E0%A4%B8%E0%A4%B9%E0%A4%BE%E0%A4%AF%E0%A5%8D%E0%A4%AF%E0%A4%AE%E0%A5%8D:%E0%A4%A6%E0%A5%87%E0%A4%B5%E0%A4%A8%E0%A4%BE%E0%A4%97%E0%A4%B0%E0%A5%80%E0%A4%B2%E0%A4%BF%E0%A4%AA%E0%A5%8D%E0%A4%AF%E0%A4%BE_%E0%A4%95%E0%A4%A5%E0%A4%82_%E0%A4%B2%E0%A5%87%E0%A4%96%E0%A4%A8%E0%A5%80%E0%A4%AF%E0%A4%AE%E0%A5%8D%3F\\\" class=\\\"extiw\\\" title=\\\"w:सहाय्यम्:देवनागरीलिप्या कथं लेखनीयम्?\\\"\\u003Eदेवनागरीलिप्या लेखनार्थं साहाय्यम्\\u003C/a\\u003E\\u003C/b\\u003E \\u0026#160;\\n\\u003C/td\\u003E\\n\\u003Ctd\\u003E\\u003Cimg alt=\\\"सहाय्यम्\\\" src=\\\"//upload.wikimedia.org/wikipedia/commons/thumb/3/35/Information_icon.svg/20px-Information_icon.svg.png\\\" decoding=\\\"async\\\" width=\\\"20\\\" height=\\\"20\\\" srcset=\\\"//upload.wikimedia.org/wikipedia/commons/thumb/3/35/Information_icon.svg/30px-Information_icon.svg.png 1.5x, //upload.wikimedia.org/wikipedia/commons/thumb/3/35/Information_icon.svg/40px-Information_icon.svg.png 2x\\\" data-file-width=\\\"620\\\" data-file-height=\\\"620\\\" /\\u003E \\u0026#160;\\n\\u003C/td\\u003E\\u003C/tr\\u003E\\u003C/tbody\\u003E\\u003C/table\\u003E\\n\\u003C/div\\u003E\\u003C/div\\u003E\\u003C/div\\u003E\";}}());\n",
      "\n",
      "\n",
      "ऋग्वेदः\n",
      "\n",
      "विकिस्रोतः तः\n",
      "\n",
      "\n",
      "Jump to navigation\n",
      "Jump to search\n",
      "\n",
      "ऋग्वेदः\n",
      "\n",
      "\n",
      "\n",
      "\n",
      "\n",
      "\n",
      "\n",
      "\n",
      "ऋग्वेदः [[लेखकः :|]]\n",
      "\n",
      "\n",
      "\n",
      "\n",
      "\n",
      "\n",
      "\n",
      " \n",
      " ऋग्वेदमूर्तिर्गंगा स्याद्यमुना च यजुर्ध्रुवम् ।।  नर्मदा साममूर्तिस्तु स्यादथर्वा सरस्वती ।। स्क.पु. ४.२.९२.६\n",
      " Rigveda (padapatha) manuscript in Devanagari, early 19th century\n",
      "अधस्तात्‌ मण्डलानि सूक्तानि सन्ति -\n",
      "\n",
      "ऋग्वेदः मण्डल १ - 191\n",
      "ऋग्वेदः मण्डल २ -  43\n",
      "ऋग्वेदः मण्डल ३ -  62\n",
      "ऋग्वेदः मण्डल ४ -  58\n",
      "ऋग्वेदः मण्डल ५ -  87\n",
      "ऋग्वेदः मण्डल ६ -  75\n",
      "ऋग्वेदः मण्डल ७ - 104\n",
      "ऋग्वेदः मण्डल ८ -  92\n",
      "ऋग्वेदः मण्डल ९ - 114\n",
      "ऋग्वेदः मण्डल १० - 191\n",
      "ऋग्वेदः खिलसूक्तानि (अपरिष्कृतानि)\n",
      "योग: -1,017 + 11 खिल = 1,028\n",
      "\n",
      "\n",
      "ऋग्वेदः ऋषिसूची\n",
      "ऋग्वेदः देवतासूची\n",
      "सस्वरपाठः[सम्पाद्यताम्]\n",
      "ऋग्वेदः/संहिता/सस्वरपाठः/१-५\n",
      "ऋग्वेदः/संहिता/सस्वरपाठः/६-१०\n",
      "विस्वरपाठः[सम्पाद्यताम्]\n",
      "ऋग्वेदः\n",
      "ऋग्वेदः एकल सञ्चिका\n",
      "\n",
      "ब्राह्मणम्\n",
      "आरण्यकम्\n",
      "उपनिषदः\n",
      "अधस्तात्‌ मण्डलानि सूक्तानि सन्ति -\n",
      "\n",
      "\n",
      "\n",
      "\n",
      " विकिपीडियायां विषयेऽस्मिन् विद्यमानः लेखः दृश्यताम्:\n",
      "ऋग्वेदः \n",
      "\n",
      "\n",
      "\n",
      "\n",
      "ऋग्वेदस्य पदपाठस्य स्रोतः\n",
      "\n",
      "[सम्पाद्यताम्]\n",
      "\n",
      "टिप्पणी\n",
      "\n",
      "\n",
      "ऋग्वेदस्य मण्डलविभाजनस्य औचित्यम् - ऐतरेय आरण्यकम् २.२.१\n",
      "\n",
      "\n",
      "\n",
      "\n",
      "\n",
      "\n",
      "\n",
      "\"https://sa.wikisource.org/w/index.php?title=ऋग्वेदः&oldid=214629\" इत्यस्माद् पुनः प्राप्तिः\n",
      "वर्गः: ऋग्वेदः\n",
      "\n",
      "\n",
      "\n",
      "\n",
      "सञ्चरणावलिः\n",
      "\n",
      "\n",
      "वैयक्तिकोपकरणानि\n",
      "\n",
      "नैव प्रविष्टःसम्भाषणम्अंशदातासदस्यता प्राप्यताम्प्रविश्यताम् \n",
      "\n",
      "\n",
      "\n",
      "नामाकाशाः\n",
      "\n",
      "पृष्ठम्सम्भाषणम्\n",
      "\n",
      "\n",
      "\n",
      "\n",
      "\n",
      "पाठभेदाः\n",
      "\n",
      "\n",
      "\n",
      "\n",
      "\n",
      "\n",
      "\n",
      "मतानि\n",
      "\n",
      "पठ्यताम्सम्पाद्यताम्इतिहासः दृश्यताम्\n",
      "\n",
      "\n",
      "\n",
      "\n",
      "अधिकम्\n",
      "\n",
      "\n",
      "\n",
      "\n",
      "\n",
      "शोधः\n",
      "\n",
      "\n",
      "\n",
      "\n",
      "\n",
      "\n",
      "\n",
      "\n",
      "\n",
      "\n",
      "\n",
      "\n",
      "\n",
      "\n",
      "\n",
      "सञ्चरणम्\n",
      "\n",
      "\n",
      "मुख्यपृष्ठम्समुदायद्वारम्वर्तमानवार्ताःसद्यपरिवर्तनानियादृच्छिकपुटम्साहाय्यम्दानम् \n",
      "\n",
      "\n",
      "\n",
      "अन्येषु प्रकल्पेषु\n",
      "\n",
      "\n",
      "विकिमीडिया कॉमन्सविकिपीडिया \n",
      "\n",
      "\n",
      "\n",
      "मुद्रणम्/निर्यातः\n",
      "\n",
      "\n",
      "मम सङ्ग्रहःPDF रूपेण अवारोप्यताम्मुद्रणयोग्यं संस्करणम् \n",
      "\n",
      "\n",
      "\n",
      "उपकरणानि\n",
      "\n",
      "\n",
      "अत्र कोऽनुबन्धः?पृष्ठसम्बद्धानि परिवर्तनानिसञ्चिका उपारोप्यताम्विशिष्टपृष्ठानिस्थायिपरिसन्धिःपृष्ठसूचनाःWikidata वस्तुअस्य पृष्ठस्य उल्लेखः क्रियताम्लघुसार्वसङ्केतः \n",
      "\n",
      "\n",
      "\n",
      "अन्यासु भाषासु\n",
      "\n",
      "\n",
      "EnglishFrançaisతెలుగుУкраїнська \n",
      "भाषापरिसन्धिः सम्पाद्यताम् \n",
      "\n",
      "\n",
      "\n",
      "\n",
      "\n",
      " २९ सितम्बर २०१९ (तमे) दिनाङ्के अन्तिमपरिवर्तनं २१:४५ समये अभवत्\n",
      "पाठः क्रियेटिव कॉमन्स ऐट्रिब्यूशन/शेयर-अलाइक अभिज्ञापत्रस्य अन्तर्गततया उपलब्धः अस्ति; अन्याः संस्थित्यः अपि सन्ति ।\n",
      "अधिकं ज्ञातुम् अत्र  उपयोगस्य संस्थितिं पश्यतु ।\n",
      "\n",
      "\n",
      "गोपनीयतानीतिः\n",
      "विकिस्रोतः विषयकं\n",
      "अस्वीकारः\n",
      "विधिकाराः\n",
      "Statistics\n",
      "कुकी का वर्णन\n",
      "जङ्गमदूरवाणी-दृश्यम्\n",
      "\n",
      "\n",
      "\n",
      " \n",
      "\n",
      " \n",
      "\n",
      "\n",
      "\n",
      "(RLQ=window.RLQ||[]).push(function(){mw.config.set({\"wgPageParseReport\":{\"limitreport\":{\"cputime\":\"0.056\",\"walltime\":\"0.071\",\"ppvisitednodes\":{\"value\":181,\"limit\":1000000},\"ppgeneratednodes\":{\"value\":0,\"limit\":1500000},\"postexpandincludesize\":{\"value\":2701,\"limit\":2097152},\"templateargumentsize\":{\"value\":827,\"limit\":2097152},\"expansiondepth\":{\"value\":10,\"limit\":40},\"expensivefunctioncount\":{\"value\":0,\"limit\":500},\"unstrip-depth\":{\"value\":0,\"limit\":20},\"unstrip-size\":{\"value\":605,\"limit\":5000000},\"entityaccesscount\":{\"value\":0,\"limit\":400},\"timingprofile\":[\"100.00%   25.473      1 -total\",\" 40.71%   10.369      1 फलकम्:Wikipediacat\",\" 28.72%    7.315      1 फलकम्:Sister\",\" 18.09%    4.609      1 फलकम्:Header\",\" 14.88%    3.790      1 फलकम्:Side_box\",\" 10.95%    2.789      1 फलकम्:टिप्पणी\"]},\"cachereport\":{\"origin\":\"mw1264\",\"timestamp\":\"20191129060922\",\"ttl\":2592000,\"transientcontent\":false}}});});\n",
      "{\"@context\":\"https:\\/\\/schema.org\",\"@type\":\"Article\",\"name\":\"\\u090b\\u0917\\u094d\\u0935\\u0947\\u0926\\u0903\",\"url\":\"https:\\/\\/sa.wikisource.org\\/wiki\\/%E0%A4%8B%E0%A4%97%E0%A5%8D%E0%A4%B5%E0%A5%87%E0%A4%A6%E0%A4%83\",\"sameAs\":\"http:\\/\\/www.wikidata.org\\/entity\\/Q727413\",\"mainEntity\":\"http:\\/\\/www.wikidata.org\\/entity\\/Q727413\",\"author\":{\"@type\":\"Organization\",\"name\":\"Contributors to Wikimedia projects\"},\"publisher\":{\"@type\":\"Organization\",\"name\":\"Wikimedia Foundation, Inc.\",\"logo\":{\"@type\":\"ImageObject\",\"url\":\"https:\\/\\/www.wikimedia.org\\/static\\/images\\/wmf-hor-googpub.png\"}},\"datePublished\":\"2005-01-02T14:58:18Z\",\"dateModified\":\"2019-09-29T21:45:45Z\"}\n",
      "(RLQ=window.RLQ||[]).push(function(){mw.config.set({\"wgBackendResponseTime\":163,\"wgHostname\":\"mw1322\"});});\n",
      "\n",
      "\n",
      "\n"
     ]
    }
   ],
   "source": [
    "text = parseWWW(urls[90])\n",
    "text = parseWWW('https://sa.wikisource.org/wiki/%E0%A4%8B%E0%A4%97%E0%A5%8D%E0%A4%B5%E0%A5%87%E0%A4%A6%E0%A4%83')\n",
    "print(text)\n",
    "#print(text.encode('utf-8'))"
   ]
  },
  {
   "cell_type": "code",
   "execution_count": 45,
   "metadata": {
    "ExecuteTime": {
     "end_time": "2019-07-28T10:40:55.331551Z",
     "start_time": "2019-07-28T10:40:55.278182Z"
    }
   },
   "outputs": [],
   "source": [
    "with open(path / name, 'w') as fo:\n",
    "    fo.write(text)"
   ]
  },
  {
   "cell_type": "code",
   "execution_count": 48,
   "metadata": {},
   "outputs": [
    {
     "data": {
      "text/plain": [
       "PosixPath('/home/animeshs/.fastai/data/sawiki/sawiki/sa')"
      ]
     },
     "execution_count": 48,
     "metadata": {},
     "output_type": "execute_result"
    }
   ],
   "source": [
    "path / name / lang"
   ]
  },
  {
   "cell_type": "code",
   "execution_count": 89,
   "metadata": {
    "ExecuteTime": {
     "end_time": "2019-08-11T18:28:52.793484Z",
     "start_time": "2019-08-11T18:28:52.761902Z"
    }
   },
   "outputs": [],
   "source": [
    "def split_wiki(path,name):\n",
    "    dest = path / 'split.txt'\n",
    "    print(dest)\n",
    "    f = dest.open('w')\n",
    "    name = name\n",
    "    lines = (path/name).open()\n",
    "    print(lines)\n",
    "    for i,l in enumerate(lines):\n",
    "        if i%1000 == 0: print(i)\n",
    "        l=l.split(' ')\n",
    "        #l=' '.join(l)\n",
    "        f.write(str(l))\n",
    "    f.close()\n",
    "    return dest"
   ]
  },
  {
   "cell_type": "markdown",
   "metadata": {},
   "source": [
    "This function splits the single wikipedia file into a separate file per article. This is often easier to work with."
   ]
  },
  {
   "cell_type": "code",
   "execution_count": 90,
   "metadata": {
    "ExecuteTime": {
     "end_time": "2019-08-11T18:29:09.330667Z",
     "start_time": "2019-08-11T18:28:54.510875Z"
    }
   },
   "outputs": [
    {
     "name": "stdout",
     "output_type": "stream",
     "text": [
      "/home/animeshs/.fastai/data/sawiki/split.txt\n",
      "<_io.TextIOWrapper name='/home/animeshs/.fastai/data/sawiki/sawiki' mode='r' encoding='UTF-8'>\n",
      "0\n"
     ]
    }
   ],
   "source": [
    "dest = split_wiki(path,name)"
   ]
  },
  {
   "cell_type": "code",
   "execution_count": 88,
   "metadata": {
    "ExecuteTime": {
     "end_time": "2019-08-11T18:29:11.311789Z",
     "start_time": "2019-08-11T18:29:11.257053Z"
    }
   },
   "outputs": [
    {
     "name": "stdout",
     "output_type": "stream",
     "text": [
      "head: cannot open 'dest' for reading: No such file or directory\n"
     ]
    }
   ],
   "source": [
    "!head dest"
   ]
  },
  {
   "cell_type": "markdown",
   "metadata": {},
   "source": [
    "### Create pretrained model"
   ]
  },
  {
   "cell_type": "code",
   "execution_count": 91,
   "metadata": {
    "ExecuteTime": {
     "end_time": "2019-08-11T18:29:48.259178Z",
     "start_time": "2019-08-11T18:29:43.899414Z"
    }
   },
   "outputs": [
    {
     "name": "stderr",
     "output_type": "stream",
     "text": [
      "/home/animeshs/anaconda3/lib/python3.7/site-packages/fastai/data_block.py:457: UserWarning: Your validation set is empty. If this is by design, use `split_none()`\n",
      "                 or pass `ignore_empty=True` when labelling to remove this warning.\n",
      "  or pass `ignore_empty=True` when labelling to remove this warning.\"\"\")\n"
     ]
    },
    {
     "data": {
      "text/html": [],
      "text/plain": [
       "<IPython.core.display.HTML object>"
      ]
     },
     "metadata": {},
     "output_type": "display_data"
    },
    {
     "data": {
      "text/html": [],
      "text/plain": [
       "<IPython.core.display.HTML object>"
      ]
     },
     "metadata": {},
     "output_type": "display_data"
    },
    {
     "data": {
      "text/plain": [
       "(80, 1)"
      ]
     },
     "execution_count": 91,
     "metadata": {},
     "output_type": "execute_result"
    }
   ],
   "source": [
    "data = (TextList.from_folder(path)\n",
    "            .split_by_rand_pct(0.1, seed=42)\n",
    "            .label_for_lm()           \n",
    "            .databunch(bs=bs, num_workers=1))\n",
    "\n",
    "data.save(f'{lang}_databunch')\n",
    "len(data.vocab.itos),len(data.train_ds)"
   ]
  },
  {
   "cell_type": "code",
   "execution_count": 92,
   "metadata": {
    "ExecuteTime": {
     "end_time": "2019-08-11T18:29:50.109863Z",
     "start_time": "2019-08-11T18:29:50.082442Z"
    }
   },
   "outputs": [
    {
     "name": "stdout",
     "output_type": "stream",
     "text": [
      "/home/animeshs/.fastai/data/sawiki sa_databunch\n"
     ]
    }
   ],
   "source": [
    "print(path,f'{lang}_databunch')\n",
    "#!mv /home/ash022/.fastai/data/peptidewiki/docs/peptide_databunch /home/ash022/.fastai/data/peptidewiki/peptide_databunch"
   ]
  },
  {
   "cell_type": "code",
   "execution_count": 96,
   "metadata": {
    "ExecuteTime": {
     "end_time": "2019-08-11T18:29:58.373503Z",
     "start_time": "2019-08-11T18:29:51.415773Z"
    }
   },
   "outputs": [],
   "source": [
    "learn = language_model_learner(data, AWD_LSTM, drop_mult=0.5, pretrained=False)#.to_fp16()"
   ]
  },
  {
   "cell_type": "code",
   "execution_count": 97,
   "metadata": {
    "ExecuteTime": {
     "end_time": "2019-08-11T18:29:59.511635Z",
     "start_time": "2019-08-11T18:29:59.476451Z"
    }
   },
   "outputs": [],
   "source": [
    "lr = 1e-2\n",
    "lr *= bs/48  # Scale learning rate by batch size"
   ]
  },
  {
   "cell_type": "code",
   "execution_count": 98,
   "metadata": {
    "ExecuteTime": {
     "end_time": "2019-08-11T18:40:55.021134Z",
     "start_time": "2019-08-11T18:30:01.060611Z"
    }
   },
   "outputs": [
    {
     "data": {
      "text/html": [
       "<table border=\"1\" class=\"dataframe\">\n",
       "  <thead>\n",
       "    <tr style=\"text-align: left;\">\n",
       "      <th>epoch</th>\n",
       "      <th>train_loss</th>\n",
       "      <th>valid_loss</th>\n",
       "      <th>accuracy</th>\n",
       "      <th>time</th>\n",
       "    </tr>\n",
       "  </thead>\n",
       "  <tbody>\n",
       "    <tr>\n",
       "      <td>0</td>\n",
       "      <td>4.349493</td>\n",
       "      <td>#na#</td>\n",
       "      <td>00:08</td>\n",
       "    </tr>\n",
       "    <tr>\n",
       "      <td>1</td>\n",
       "      <td>5.088633</td>\n",
       "      <td>#na#</td>\n",
       "      <td>00:05</td>\n",
       "    </tr>\n",
       "    <tr>\n",
       "      <td>2</td>\n",
       "      <td>4.390366</td>\n",
       "      <td>#na#</td>\n",
       "      <td>00:05</td>\n",
       "    </tr>\n",
       "    <tr>\n",
       "      <td>3</td>\n",
       "      <td>3.963320</td>\n",
       "      <td>#na#</td>\n",
       "      <td>00:06</td>\n",
       "    </tr>\n",
       "    <tr>\n",
       "      <td>4</td>\n",
       "      <td>3.685763</td>\n",
       "      <td>#na#</td>\n",
       "      <td>00:10</td>\n",
       "    </tr>\n",
       "    <tr>\n",
       "      <td>5</td>\n",
       "      <td>3.493579</td>\n",
       "      <td>#na#</td>\n",
       "      <td>00:12</td>\n",
       "    </tr>\n",
       "    <tr>\n",
       "      <td>6</td>\n",
       "      <td>3.357303</td>\n",
       "      <td>#na#</td>\n",
       "      <td>00:14</td>\n",
       "    </tr>\n",
       "    <tr>\n",
       "      <td>7</td>\n",
       "      <td>3.254094</td>\n",
       "      <td>#na#</td>\n",
       "      <td>00:14</td>\n",
       "    </tr>\n",
       "    <tr>\n",
       "      <td>8</td>\n",
       "      <td>3.174562</td>\n",
       "      <td>#na#</td>\n",
       "      <td>00:15</td>\n",
       "    </tr>\n",
       "    <tr>\n",
       "      <td>9</td>\n",
       "      <td>3.110390</td>\n",
       "      <td>#na#</td>\n",
       "      <td>00:14</td>\n",
       "    </tr>\n",
       "  </tbody>\n",
       "</table>"
      ],
      "text/plain": [
       "<IPython.core.display.HTML object>"
      ]
     },
     "metadata": {},
     "output_type": "display_data"
    }
   ],
   "source": [
    "learn.unfreeze()\n",
    "learn.fit_one_cycle(10, lr, moms=(0.8,0.7))"
   ]
  },
  {
   "cell_type": "markdown",
   "metadata": {},
   "source": [
    "Save the pretrained model and vocab:"
   ]
  },
  {
   "cell_type": "code",
   "execution_count": 99,
   "metadata": {},
   "outputs": [],
   "source": [
    "mdl_path = path/'models'\n",
    "mdl_path.mkdir(exist_ok=True)\n",
    "learn.to_fp32().save(mdl_path/lm_fns[0], with_opt=False)\n",
    "learn.data.vocab.save(mdl_path/(lm_fns[1] + '.pkl'))"
   ]
  },
  {
   "cell_type": "code",
   "execution_count": null,
   "metadata": {},
   "outputs": [],
   "source": [
    "accuracy(preds_avg,targs_b),f1(preds_avg,targs_b)"
   ]
  },
  {
   "cell_type": "markdown",
   "metadata": {},
   "source": [
    "## Future work\n",
    "* Try [SentencePiece](https://github.com/google/sentencepiece)\n",
    "* Check activation with [Interpretability Beyond Feature Attribution: Quantitative Testing with Concept Activation Vectors](https://github.com/tensorflow/tcav)\n",
    "* [GPT2](https://gist.github.com/mohdsanadzakirizvi/f1419fba3907af2baf6e0f6ab2a53d5b)\n",
    "* [Unsupervised word embeddings capture latent knowledge from materials science literature](https://www.nature.com/articles/s41586-019-1335-8)\n"
   ]
  }
 ],
 "metadata": {
  "kernelspec": {
   "display_name": "Python 3 (ipykernel)",
   "language": "python",
   "name": "python3"
  },
  "language_info": {
   "codemirror_mode": {
    "name": "ipython",
    "version": 3
   },
   "file_extension": ".py",
   "mimetype": "text/x-python",
   "name": "python",
   "nbconvert_exporter": "python",
   "pygments_lexer": "ipython3",
   "version": "3.7.6"
  },
  "toc": {
   "base_numbering": 1,
   "nav_menu": {},
   "number_sections": true,
   "sideBar": true,
   "skip_h1_title": false,
   "title_cell": "Table of Contents",
   "title_sidebar": "Contents",
   "toc_cell": false,
   "toc_position": {},
   "toc_section_display": true,
   "toc_window_display": false
  }
 },
 "nbformat": 4,
 "nbformat_minor": 4
}
