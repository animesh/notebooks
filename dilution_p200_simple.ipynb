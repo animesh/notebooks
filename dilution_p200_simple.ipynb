{
 "cells": [
  {
   "cell_type": "code",
   "execution_count": 46,
   "metadata": {
    "collapsed": false
   },
   "outputs": [
    {
     "ename": "Exception",
     "evalue": "Child with the name tips already exists",
     "output_type": "error",
     "traceback": [
      "\u001b[1;31m---------------------------------------------------------------------------\u001b[0m",
      "\u001b[1;31mException\u001b[0m                                 Traceback (most recent call last)",
      "\u001b[1;32m<ipython-input-46-c4025e816ed9>\u001b[0m in \u001b[0;36m<module>\u001b[1;34m()\u001b[0m\n\u001b[0;32m      2\u001b[0m \u001b[1;31m#robot.run()\u001b[0m\u001b[1;33m\u001b[0m\u001b[1;33m\u001b[0m\u001b[0m\n\u001b[0;32m      3\u001b[0m \u001b[1;33m\u001b[0m\u001b[0m\n\u001b[1;32m----> 4\u001b[1;33m \u001b[0mp200rack\u001b[0m \u001b[1;33m=\u001b[0m \u001b[0mcontainers\u001b[0m\u001b[1;33m.\u001b[0m\u001b[0mload\u001b[0m\u001b[1;33m(\u001b[0m\u001b[1;34m'tiprack-200ul'\u001b[0m\u001b[1;33m,\u001b[0m \u001b[1;34m'A1'\u001b[0m\u001b[1;33m,\u001b[0m \u001b[1;34m'tips'\u001b[0m\u001b[1;33m)\u001b[0m\u001b[1;33m\u001b[0m\u001b[0m\n\u001b[0m\u001b[0;32m      5\u001b[0m \u001b[0mplate\u001b[0m \u001b[1;33m=\u001b[0m \u001b[0mcontainers\u001b[0m\u001b[1;33m.\u001b[0m\u001b[0mload\u001b[0m\u001b[1;33m(\u001b[0m\u001b[1;34m'96-PCR-flat'\u001b[0m\u001b[1;33m,\u001b[0m \u001b[1;34m'C1'\u001b[0m\u001b[1;33m,\u001b[0m \u001b[1;34m'plat'\u001b[0m\u001b[1;33m)\u001b[0m\u001b[1;33m\u001b[0m\u001b[0m\n\u001b[0;32m      6\u001b[0m \u001b[0mtrough\u001b[0m \u001b[1;33m=\u001b[0m \u001b[0mcontainers\u001b[0m\u001b[1;33m.\u001b[0m\u001b[0mload\u001b[0m\u001b[1;33m(\u001b[0m\u001b[1;34m'tube-rack-.75ml'\u001b[0m\u001b[1;33m,\u001b[0m \u001b[1;34m'C3'\u001b[0m\u001b[1;33m,\u001b[0m \u001b[1;34m'trough'\u001b[0m\u001b[1;33m)\u001b[0m\u001b[1;33m\u001b[0m\u001b[0m\n",
      "\u001b[1;32mc:\\users\\opentrons_user\\appdata\\local\\programs\\python\\python35\\lib\\site-packages\\opentrons\\containers\\__init__.py\u001b[0m in \u001b[0;36mload\u001b[1;34m(container_name, slot, label)\u001b[0m\n\u001b[0;32m     38\u001b[0m         \u001b[0mlabel\u001b[0m \u001b[1;33m=\u001b[0m \u001b[0mcontainer_name\u001b[0m\u001b[1;33m\u001b[0m\u001b[0m\n\u001b[0;32m     39\u001b[0m     \u001b[0mprotocol\u001b[0m \u001b[1;33m=\u001b[0m \u001b[0mRobot\u001b[0m\u001b[1;33m.\u001b[0m\u001b[0mget_instance\u001b[0m\u001b[1;33m(\u001b[0m\u001b[1;33m)\u001b[0m\u001b[1;33m\u001b[0m\u001b[0m\n\u001b[1;32m---> 40\u001b[1;33m     \u001b[1;32mreturn\u001b[0m \u001b[0mprotocol\u001b[0m\u001b[1;33m.\u001b[0m\u001b[0madd_container\u001b[0m\u001b[1;33m(\u001b[0m\u001b[0mcontainer_name\u001b[0m\u001b[1;33m,\u001b[0m \u001b[0mslot\u001b[0m\u001b[1;33m,\u001b[0m \u001b[0mlabel\u001b[0m\u001b[1;33m)\u001b[0m\u001b[1;33m\u001b[0m\u001b[0m\n\u001b[0m\u001b[0;32m     41\u001b[0m \u001b[1;33m\u001b[0m\u001b[0m\n\u001b[0;32m     42\u001b[0m \u001b[1;33m\u001b[0m\u001b[0m\n",
      "\u001b[1;32mc:\\users\\opentrons_user\\appdata\\local\\programs\\python\\python35\\lib\\site-packages\\opentrons\\robot\\robot.py\u001b[0m in \u001b[0;36madd_container\u001b[1;34m(self, container_name, slot, label)\u001b[0m\n\u001b[0;32m    932\u001b[0m         \u001b[0mcontainer\u001b[0m \u001b[1;33m=\u001b[0m \u001b[0mcontainers\u001b[0m\u001b[1;33m.\u001b[0m\u001b[0mget_persisted_container\u001b[0m\u001b[1;33m(\u001b[0m\u001b[0mcontainer_name\u001b[0m\u001b[1;33m)\u001b[0m\u001b[1;33m\u001b[0m\u001b[0m\n\u001b[0;32m    933\u001b[0m         \u001b[0mcontainer\u001b[0m\u001b[1;33m.\u001b[0m\u001b[0mproperties\u001b[0m\u001b[1;33m[\u001b[0m\u001b[1;34m'type'\u001b[0m\u001b[1;33m]\u001b[0m \u001b[1;33m=\u001b[0m \u001b[0mcontainer_name\u001b[0m\u001b[1;33m\u001b[0m\u001b[0m\n\u001b[1;32m--> 934\u001b[1;33m         \u001b[0mself\u001b[0m\u001b[1;33m.\u001b[0m\u001b[0m_deck\u001b[0m\u001b[1;33m[\u001b[0m\u001b[0mslot\u001b[0m\u001b[1;33m]\u001b[0m\u001b[1;33m.\u001b[0m\u001b[0madd\u001b[0m\u001b[1;33m(\u001b[0m\u001b[0mcontainer\u001b[0m\u001b[1;33m,\u001b[0m \u001b[0mlabel\u001b[0m\u001b[1;33m)\u001b[0m\u001b[1;33m\u001b[0m\u001b[0m\n\u001b[0m\u001b[0;32m    935\u001b[0m         \u001b[1;32mreturn\u001b[0m \u001b[0mcontainer\u001b[0m\u001b[1;33m\u001b[0m\u001b[0m\n\u001b[0;32m    936\u001b[0m \u001b[1;33m\u001b[0m\u001b[0m\n",
      "\u001b[1;32mc:\\users\\opentrons_user\\appdata\\local\\programs\\python\\python35\\lib\\site-packages\\opentrons\\containers\\placeable.py\u001b[0m in \u001b[0;36madd\u001b[1;34m(self, child, name, coordinates)\u001b[0m\n\u001b[0;32m    198\u001b[0m         \u001b[1;32mif\u001b[0m \u001b[0mname\u001b[0m \u001b[1;32min\u001b[0m \u001b[0mself\u001b[0m\u001b[1;33m.\u001b[0m\u001b[0mchildren_by_name\u001b[0m\u001b[1;33m:\u001b[0m\u001b[1;33m\u001b[0m\u001b[0m\n\u001b[0;32m    199\u001b[0m             raise Exception('Child with the name {} already exists'\n\u001b[1;32m--> 200\u001b[1;33m                             .format(name))\n\u001b[0m\u001b[0;32m    201\u001b[0m \u001b[1;33m\u001b[0m\u001b[0m\n\u001b[0;32m    202\u001b[0m         \u001b[0mchild\u001b[0m\u001b[1;33m.\u001b[0m\u001b[0m_coordinates\u001b[0m \u001b[1;33m=\u001b[0m \u001b[0mVector\u001b[0m\u001b[1;33m(\u001b[0m\u001b[0mcoordinates\u001b[0m\u001b[1;33m)\u001b[0m\u001b[1;33m\u001b[0m\u001b[0m\n",
      "\u001b[1;31mException\u001b[0m: Child with the name tips already exists"
     ]
    }
   ],
   "source": [
    "from opentrons import containers, instruments\n",
    "#robot.run()\n",
    "\n",
    "p200rack = containers.load('tiprack-200ul', 'A1', 'tips')\n",
    "plate = containers.load('96-PCR-flat', 'C1', 'plat')\n",
    "trough = containers.load('tube-rack-.75ml', 'C3', 'trough')\n",
    "trash = containers.load('tiprack-200ul', 'A1', 'trash')\n",
    "\n",
    "p200 = instruments.Pipette(\n",
    "    name=\"p200\",\n",
    "    trash_container=trash,\n",
    "    tip_racks=[p200rack],\n",
    "    max_volume=200,\n",
    "    axis=\"b\"\n",
    ")\n",
    "\n",
    "robot.run()\n"
   ]
  },
  {
   "cell_type": "code",
   "execution_count": 43,
   "metadata": {
    "collapsed": false
   },
   "outputs": [
    {
     "name": "stdout",
     "output_type": "stream",
     "text": [
      "Enter the number of the port to connect to:\n",
      "\n",
      "  0)   COM3\n",
      "\n",
      "Enter number next to desired port (0, 1, etc): 0\n",
      "Connected, homing...\n",
      "Connected, homing...\n"
     ]
    },
    {
     "data": {
      "text/plain": [
       "True"
      ]
     },
     "execution_count": 43,
     "metadata": {},
     "output_type": "execute_result"
    }
   ],
   "source": [
    "from opentrons import robot\n",
    "robot.connect('Virtual Smoothie')\n",
    "#robot.connect(['COM3'])\n",
    "connect_to_robot()\n",
    "\n",
    "print('Connected, homing...')\n",
    "robot.home()\n",
    "                                            "
   ]
  },
  {
   "cell_type": "code",
   "execution_count": 47,
   "metadata": {
    "collapsed": true
   },
   "outputs": [],
   "source": [
    "robot.move_to(plate[0])"
   ]
  },
  {
   "cell_type": "code",
   "execution_count": 26,
   "metadata": {
    "collapsed": false
   },
   "outputs": [
    {
     "name": "stdout",
     "output_type": "stream",
     "text": [
      "Enter the number of the port to connect to:\n",
      "\n"
     ]
    },
    {
     "ename": "RuntimeError",
     "evalue": "No serial ports found. Please make sure your robot's USB cable is connected",
     "output_type": "error",
     "traceback": [
      "\u001b[1;31m---------------------------------------------------------------------------\u001b[0m",
      "\u001b[1;31mRuntimeError\u001b[0m                              Traceback (most recent call last)",
      "\u001b[1;32m<ipython-input-26-1474459030e5>\u001b[0m in \u001b[0;36m<module>\u001b[1;34m()\u001b[0m\n\u001b[0;32m     57\u001b[0m \u001b[1;33m\u001b[0m\u001b[0m\n\u001b[0;32m     58\u001b[0m \u001b[1;33m\u001b[0m\u001b[0m\n\u001b[1;32m---> 59\u001b[1;33m \u001b[0mconnect_to_robot\u001b[0m\u001b[1;33m(\u001b[0m\u001b[1;33m)\u001b[0m\u001b[1;33m\u001b[0m\u001b[0m\n\u001b[0m\u001b[0;32m     60\u001b[0m \u001b[0mx\u001b[0m\u001b[1;33m,\u001b[0m \u001b[0my\u001b[0m \u001b[1;33m=\u001b[0m \u001b[0mrequest_distance_from_user\u001b[0m\u001b[1;33m(\u001b[0m\u001b[1;33m)\u001b[0m\u001b[1;33m\u001b[0m\u001b[0m\n\u001b[0;32m     61\u001b[0m \u001b[0mmeasure_belts\u001b[0m\u001b[1;33m(\u001b[0m\u001b[0mx\u001b[0m\u001b[1;33m,\u001b[0m \u001b[0my\u001b[0m\u001b[1;33m)\u001b[0m\u001b[1;33m\u001b[0m\u001b[0m\n",
      "\u001b[1;32m<ipython-input-26-1474459030e5>\u001b[0m in \u001b[0;36mconnect_to_robot\u001b[1;34m()\u001b[0m\n\u001b[0;32m      8\u001b[0m     \u001b[1;32mif\u001b[0m \u001b[1;32mnot\u001b[0m \u001b[0mports\u001b[0m\u001b[1;33m:\u001b[0m\u001b[1;33m\u001b[0m\u001b[0m\n\u001b[0;32m      9\u001b[0m         raise RuntimeError(\n\u001b[1;32m---> 10\u001b[1;33m             'No serial ports found. Please make sure your robot\\'s USB cable is connected')\n\u001b[0m\u001b[0;32m     11\u001b[0m     \u001b[1;32mfor\u001b[0m \u001b[0mi\u001b[0m\u001b[1;33m,\u001b[0m \u001b[0mportname\u001b[0m \u001b[1;32min\u001b[0m \u001b[0menumerate\u001b[0m\u001b[1;33m(\u001b[0m\u001b[0mports\u001b[0m\u001b[1;33m)\u001b[0m\u001b[1;33m:\u001b[0m\u001b[1;33m\u001b[0m\u001b[0m\n\u001b[0;32m     12\u001b[0m         \u001b[0mprint\u001b[0m\u001b[1;33m(\u001b[0m\u001b[1;34m'  {0})   {1}\\n'\u001b[0m\u001b[1;33m.\u001b[0m\u001b[0mformat\u001b[0m\u001b[1;33m(\u001b[0m\u001b[0mi\u001b[0m\u001b[1;33m,\u001b[0m \u001b[0mportname\u001b[0m\u001b[1;33m)\u001b[0m\u001b[1;33m)\u001b[0m\u001b[1;33m\u001b[0m\u001b[0m\n",
      "\u001b[1;31mRuntimeError\u001b[0m: No serial ports found. Please make sure your robot's USB cable is connected"
     ]
    }
   ],
   "source": [
    "def connect_to_robot():\n",
    "    \"\"\"\n",
    "    Search for ports, connect to a robot, and home\n",
    "    \"\"\"\n",
    "    print('Enter the number of the port to connect to:\\n')\n",
    "    count = 0\n",
    "    ports = robot.get_serial_ports_list()\n",
    "    if not ports:\n",
    "        raise RuntimeError(\n",
    "            'No serial ports found. Please make sure your robot\\'s USB cable is connected')\n",
    "    for i, portname in enumerate(ports):\n",
    "        print('  {0})   {1}\\n'.format(i, portname))\n",
    "    val = input('Enter number next to desired port (0, 1, etc): '.format(1, count))\n",
    "    try:\n",
    "        val = int(val)\n",
    "    except:\n",
    "        print('Bad input: {}'.format(val))\n",
    "        sys.exit()\n",
    "    try:\n",
    "        robot.connect(robot.get_serial_ports_list()[val])\n",
    "    except RuntimeWarning:\n",
    "        robot.connect(robot.get_serial_ports_list()[val])\n",
    "    print('Connected, homing...')\n",
    "    robot.home()\n",
    "    robot.home('xy')\n",
    "\n",
    "\n",
    "def request_distance_from_user():\n",
    "    \"\"\"\n",
    "    Get the dimensions of this robot, and ask the user for the testing distance\n",
    "    \"\"\"\n",
    "    dimensions = robot._driver.get_dimensions() - (50, 50, 0)\n",
    "    x_dist = int(input('Enter distanct for X to travel (max {}):'.format(dimensions[0])))\n",
    "    y_dist = int(input('Enter distanct for Y to travel (max {}):'.format(dimensions[1])))\n",
    "    x_dist = min(x_dist, dimensions[0])\n",
    "    y_dist = min(y_dist, dimensions[1])\n",
    "    return (x_dist, y_dist)\n",
    "\n",
    "    \n",
    "def measure_belts(x_dist, y_dist):\n",
    "    \"\"\"\n",
    "    Move the robot, allow user to mark positions, ask user to measure and submit measurements\n",
    "    \"\"\"\n",
    "    print('Moving the robot {0}mm on the X, and {1}mm on the Y'.format(x_dist, y_dist))\n",
    "    robot.move_head(x=x_dist, y=y_dist * -1, mode='relative')  # Y axis is flipped\n",
    "\n",
    "    input('mark X position on the robot, then press ENTER key')\n",
    "    input('mark Y position on the robot, then press ENTER key')\n",
    "\n",
    "    robot.home('xy')\n",
    "    robot.home('xy')\n",
    "\n",
    "    actual_travel_x = float(input('enter the measured X distance: '))\n",
    "    actual_travel_y = float(input('enter the measured Y distance: '))\n",
    "    robot._driver.calibrate_steps_per_mm('x', x_dist, actual_travel_x)\n",
    "    robot._driver.calibrate_steps_per_mm('y', y_dist, actual_travel_y)\n",
    "\n",
    "\n",
    "connect_to_robot()\n",
    "x, y = request_distance_from_user()\n",
    "measure_belts(x, y)\n",
    "\n",
    "print('New values saved. Restarting the robot to allow changes to take effect')\n",
    "print('Please wait 5-10 seconds before reconnecting to the robot')\n",
    "\n",
    "robot._driver.reset()\n",
    "robot.disconnect()"
   ]
  },
  {
   "cell_type": "code",
   "execution_count": 48,
   "metadata": {
    "collapsed": true
   },
   "outputs": [],
   "source": [
    "robot._driver.reset()\n",
    "robot.disconnect()"
   ]
  },
  {
   "cell_type": "code",
   "execution_count": 7,
   "metadata": {
    "collapsed": false
   },
   "outputs": [
    {
     "ename": "NameError",
     "evalue": "name 'p200' is not defined",
     "output_type": "error",
     "traceback": [
      "\u001b[1;31m---------------------------------------------------------------------------\u001b[0m",
      "\u001b[1;31mNameError\u001b[0m                                 Traceback (most recent call last)",
      "\u001b[1;32m<ipython-input-7-4897ee93a091>\u001b[0m in \u001b[0;36m<module>\u001b[1;34m()\u001b[0m\n\u001b[1;32m----> 1\u001b[1;33m \u001b[0mp200\u001b[0m\u001b[1;33m.\u001b[0m\u001b[0mpick_up_tip\u001b[0m\u001b[1;33m(\u001b[0m\u001b[0mp200rack\u001b[0m\u001b[1;33m[\u001b[0m\u001b[1;34m'A2'\u001b[0m\u001b[1;33m]\u001b[0m\u001b[1;33m)\u001b[0m\u001b[1;33m\u001b[0m\u001b[0m\n\u001b[0m\u001b[0;32m      2\u001b[0m \u001b[0mp200\u001b[0m\u001b[1;33m.\u001b[0m\u001b[0maspirate\u001b[0m\u001b[1;33m(\u001b[0m\u001b[1;36m175\u001b[0m\u001b[1;33m,\u001b[0m \u001b[0mtrough\u001b[0m\u001b[1;33m[\u001b[0m\u001b[1;34m'A1'\u001b[0m\u001b[1;33m]\u001b[0m\u001b[1;33m)\u001b[0m  \u001b[1;31m# first row in trough\u001b[0m\u001b[1;33m\u001b[0m\u001b[0m\n\u001b[0;32m      3\u001b[0m \u001b[0mp200\u001b[0m\u001b[1;33m.\u001b[0m\u001b[0mdispense\u001b[0m\u001b[1;33m(\u001b[0m\u001b[1;36m100\u001b[0m\u001b[1;33m,\u001b[0m \u001b[0mplate\u001b[0m\u001b[1;33m[\u001b[0m\u001b[1;34m'E10'\u001b[0m\u001b[1;33m]\u001b[0m\u001b[1;33m)\u001b[0m\u001b[1;33m\u001b[0m\u001b[0m\n\u001b[0;32m      4\u001b[0m \u001b[0mp200\u001b[0m\u001b[1;33m.\u001b[0m\u001b[0mdispense\u001b[0m\u001b[1;33m(\u001b[0m\u001b[1;36m50\u001b[0m\u001b[1;33m,\u001b[0m \u001b[0mplate\u001b[0m\u001b[1;33m[\u001b[0m\u001b[1;34m'E11'\u001b[0m\u001b[1;33m]\u001b[0m\u001b[1;33m)\u001b[0m\u001b[1;33m\u001b[0m\u001b[0m\n\u001b[0;32m      5\u001b[0m \u001b[0mp200\u001b[0m\u001b[1;33m.\u001b[0m\u001b[0mdispense\u001b[0m\u001b[1;33m(\u001b[0m\u001b[1;36m25\u001b[0m\u001b[1;33m,\u001b[0m \u001b[0mplate\u001b[0m\u001b[1;33m[\u001b[0m\u001b[1;34m'E12'\u001b[0m\u001b[1;33m]\u001b[0m\u001b[1;33m)\u001b[0m\u001b[1;33m\u001b[0m\u001b[0m\n",
      "\u001b[1;31mNameError\u001b[0m: name 'p200' is not defined"
     ]
    }
   ],
   "source": [
    "p200.pick_up_tip(p200rack['A2'])\n",
    "p200.aspirate(175, trough['A1'])  # first row in trough\n",
    "p200.dispense(100, plate['E10'])\n",
    "p200.dispense(50, plate['E11'])\n",
    "p200.dispense(25, plate['E12'])\n",
    "p200.drop_tip(p200rack['A2'])\n",
    "\n",
    "p200.pick_up_tip(p200rack['A3'])\n",
    "p200.aspirate(125, trough['B1'])  # first row in trough\n",
    "p200.dispense(50, plate['E11'])\n",
    "p200.dispense(75, plate['E12'])\n",
    "p200.drop_tip(p200rack['A3'])\n",
    "\n",
    "p200.pick_up_tip(p200rack['A4'])\n",
    "p200.aspirate(75, trough['C1'])  # first row in trough\n",
    "p200.dispense(25, plate['E10'])\n",
    "p200.dispense(25, plate['E11'])\n",
    "p200.dispense(25, plate['E12'])\n",
    "\n",
    "for i in range(3):\n",
    "\tp200.aspirate(100, plate['E12'])  # first row in trough\n",
    "\tp200.dispense(100, plate['E12'])\n",
    "\n",
    "for i in range(3):\n",
    "\tp200.aspirate(100, plate['E11'])  # first row in trough\n",
    "\tp200.dispense(100, plate['E11'])\n",
    "\n",
    "for i in range(3):\n",
    "\tp200.aspirate(100, plate['E10'])  # first row in trough\n",
    "\tp200.dispense(100, plate['E10'])\n",
    "\n",
    "\n",
    "p200.drop_tip(p200rack['A4'])\n"
   ]
  },
  {
   "cell_type": "code",
   "execution_count": 2,
   "metadata": {
    "collapsed": false
   },
   "outputs": [
    {
     "name": "stdout",
     "output_type": "stream",
     "text": [
      "Collecting opentrons\n",
      "  Using cached opentrons-2.2.0-py2.py3-none-any.whl\n",
      "Collecting pyserial==3.2.1 (from opentrons)\n",
      "  Using cached pyserial-3.2.1-py2.py3-none-any.whl\n",
      "Collecting requests>=2.12.4 (from opentrons)\n",
      "  Downloading requests-2.13.0-py2.py3-none-any.whl (584kB)\n",
      "Collecting dill==0.2.5 (from opentrons)\n",
      "  Downloading dill-0.2.5.tgz (60kB)\n",
      "Collecting pyreadline>=1.7.1 (from dill==0.2.5->opentrons)\n",
      "  Downloading pyreadline-2.1.zip (109kB)\n",
      "Installing collected packages: pyserial, requests, pyreadline, dill, opentrons\n",
      "  Running setup.py install for pyreadline: started\n",
      "    Running setup.py install for pyreadline: finished with status 'done'\n",
      "  Running setup.py install for dill: started\n",
      "    Running setup.py install for dill: finished with status 'done'\n",
      "Successfully installed dill-0.2.5 opentrons-2.2.0 pyreadline-2.1 pyserial-3.2.1 requests-2.13.0\n"
     ]
    }
   ],
   "source": [
    "!pip install --upgrade opentrons"
   ]
  }
 ],
 "metadata": {
  "kernelspec": {
   "display_name": "Python 3",
   "language": "python",
   "name": "python3"
  },
  "language_info": {
   "codemirror_mode": {
    "name": "ipython",
    "version": 3
   },
   "file_extension": ".py",
   "mimetype": "text/x-python",
   "name": "python",
   "nbconvert_exporter": "python",
   "pygments_lexer": "ipython3",
   "version": "3.5.3"
  }
 },
 "nbformat": 4,
 "nbformat_minor": 2
}
